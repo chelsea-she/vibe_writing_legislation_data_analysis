{
 "cells": [
  {
   "cell_type": "markdown",
   "id": "832f863e",
   "metadata": {},
   "source": [
    "### I. Set up"
   ]
  },
  {
   "cell_type": "code",
   "execution_count": 1,
   "id": "e6bdb4d1",
   "metadata": {},
   "outputs": [
    {
     "name": "stdout",
     "output_type": "stream",
     "text": [
      "Requirement already satisfied: pandas in ./.venv/lib/python3.9/site-packages (2.3.0)\n",
      "Requirement already satisfied: numpy>=1.22.4 in ./.venv/lib/python3.9/site-packages (from pandas) (2.0.2)\n",
      "Requirement already satisfied: python-dateutil>=2.8.2 in ./.venv/lib/python3.9/site-packages (from pandas) (2.9.0.post0)\n",
      "Requirement already satisfied: pytz>=2020.1 in ./.venv/lib/python3.9/site-packages (from pandas) (2025.2)\n",
      "Requirement already satisfied: tzdata>=2022.7 in ./.venv/lib/python3.9/site-packages (from pandas) (2025.2)\n",
      "Requirement already satisfied: six>=1.5 in ./.venv/lib/python3.9/site-packages (from python-dateutil>=2.8.2->pandas) (1.17.0)\n",
      "\n",
      "\u001b[1m[\u001b[0m\u001b[34;49mnotice\u001b[0m\u001b[1;39;49m]\u001b[0m\u001b[39;49m A new release of pip is available: \u001b[0m\u001b[31;49m25.1.1\u001b[0m\u001b[39;49m -> \u001b[0m\u001b[32;49m25.2\u001b[0m\n",
      "\u001b[1m[\u001b[0m\u001b[34;49mnotice\u001b[0m\u001b[1;39;49m]\u001b[0m\u001b[39;49m To update, run: \u001b[0m\u001b[32;49mpip install --upgrade pip\u001b[0m\n",
      "Note: you may need to restart the kernel to use updated packages.\n",
      "Requirement already satisfied: plotly in ./.venv/lib/python3.9/site-packages (6.1.2)\n",
      "Requirement already satisfied: narwhals>=1.15.1 in ./.venv/lib/python3.9/site-packages (from plotly) (1.42.1)\n",
      "Requirement already satisfied: packaging in ./.venv/lib/python3.9/site-packages (from plotly) (25.0)\n",
      "\n",
      "\u001b[1m[\u001b[0m\u001b[34;49mnotice\u001b[0m\u001b[1;39;49m]\u001b[0m\u001b[39;49m A new release of pip is available: \u001b[0m\u001b[31;49m25.1.1\u001b[0m\u001b[39;49m -> \u001b[0m\u001b[32;49m25.2\u001b[0m\n",
      "\u001b[1m[\u001b[0m\u001b[34;49mnotice\u001b[0m\u001b[1;39;49m]\u001b[0m\u001b[39;49m To update, run: \u001b[0m\u001b[32;49mpip install --upgrade pip\u001b[0m\n",
      "Note: you may need to restart the kernel to use updated packages.\n",
      "Requirement already satisfied: nbformat in ./.venv/lib/python3.9/site-packages (5.10.4)\n",
      "Requirement already satisfied: fastjsonschema>=2.15 in ./.venv/lib/python3.9/site-packages (from nbformat) (2.21.1)\n",
      "Requirement already satisfied: jsonschema>=2.6 in ./.venv/lib/python3.9/site-packages (from nbformat) (4.24.0)\n",
      "Requirement already satisfied: jupyter-core!=5.0.*,>=4.12 in ./.venv/lib/python3.9/site-packages (from nbformat) (5.8.1)\n",
      "Requirement already satisfied: traitlets>=5.1 in ./.venv/lib/python3.9/site-packages (from nbformat) (5.14.3)\n",
      "Requirement already satisfied: attrs>=22.2.0 in ./.venv/lib/python3.9/site-packages (from jsonschema>=2.6->nbformat) (25.3.0)\n",
      "Requirement already satisfied: jsonschema-specifications>=2023.03.6 in ./.venv/lib/python3.9/site-packages (from jsonschema>=2.6->nbformat) (2025.4.1)\n",
      "Requirement already satisfied: referencing>=0.28.4 in ./.venv/lib/python3.9/site-packages (from jsonschema>=2.6->nbformat) (0.36.2)\n",
      "Requirement already satisfied: rpds-py>=0.7.1 in ./.venv/lib/python3.9/site-packages (from jsonschema>=2.6->nbformat) (0.25.1)\n",
      "Requirement already satisfied: platformdirs>=2.5 in ./.venv/lib/python3.9/site-packages (from jupyter-core!=5.0.*,>=4.12->nbformat) (4.3.8)\n",
      "Requirement already satisfied: typing-extensions>=4.4.0 in ./.venv/lib/python3.9/site-packages (from referencing>=0.28.4->jsonschema>=2.6->nbformat) (4.14.0)\n",
      "\n",
      "\u001b[1m[\u001b[0m\u001b[34;49mnotice\u001b[0m\u001b[1;39;49m]\u001b[0m\u001b[39;49m A new release of pip is available: \u001b[0m\u001b[31;49m25.1.1\u001b[0m\u001b[39;49m -> \u001b[0m\u001b[32;49m25.2\u001b[0m\n",
      "\u001b[1m[\u001b[0m\u001b[34;49mnotice\u001b[0m\u001b[1;39;49m]\u001b[0m\u001b[39;49m To update, run: \u001b[0m\u001b[32;49mpip install --upgrade pip\u001b[0m\n",
      "Note: you may need to restart the kernel to use updated packages.\n",
      "Requirement already satisfied: nbformat in ./.venv/lib/python3.9/site-packages (5.10.4)\n",
      "Requirement already satisfied: fastjsonschema>=2.15 in ./.venv/lib/python3.9/site-packages (from nbformat) (2.21.1)\n",
      "Requirement already satisfied: jsonschema>=2.6 in ./.venv/lib/python3.9/site-packages (from nbformat) (4.24.0)\n",
      "Requirement already satisfied: jupyter-core!=5.0.*,>=4.12 in ./.venv/lib/python3.9/site-packages (from nbformat) (5.8.1)\n",
      "Requirement already satisfied: traitlets>=5.1 in ./.venv/lib/python3.9/site-packages (from nbformat) (5.14.3)\n",
      "Requirement already satisfied: attrs>=22.2.0 in ./.venv/lib/python3.9/site-packages (from jsonschema>=2.6->nbformat) (25.3.0)\n",
      "Requirement already satisfied: jsonschema-specifications>=2023.03.6 in ./.venv/lib/python3.9/site-packages (from jsonschema>=2.6->nbformat) (2025.4.1)\n",
      "Requirement already satisfied: referencing>=0.28.4 in ./.venv/lib/python3.9/site-packages (from jsonschema>=2.6->nbformat) (0.36.2)\n",
      "Requirement already satisfied: rpds-py>=0.7.1 in ./.venv/lib/python3.9/site-packages (from jsonschema>=2.6->nbformat) (0.25.1)\n",
      "Requirement already satisfied: platformdirs>=2.5 in ./.venv/lib/python3.9/site-packages (from jupyter-core!=5.0.*,>=4.12->nbformat) (4.3.8)\n",
      "Requirement already satisfied: typing-extensions>=4.4.0 in ./.venv/lib/python3.9/site-packages (from referencing>=0.28.4->jsonschema>=2.6->nbformat) (4.14.0)\n",
      "\n",
      "\u001b[1m[\u001b[0m\u001b[34;49mnotice\u001b[0m\u001b[1;39;49m]\u001b[0m\u001b[39;49m A new release of pip is available: \u001b[0m\u001b[31;49m25.1.1\u001b[0m\u001b[39;49m -> \u001b[0m\u001b[32;49m25.2\u001b[0m\n",
      "\u001b[1m[\u001b[0m\u001b[34;49mnotice\u001b[0m\u001b[1;39;49m]\u001b[0m\u001b[39;49m To update, run: \u001b[0m\u001b[32;49mpip install --upgrade pip\u001b[0m\n",
      "Requirement already satisfied: ace_tools_open in ./.venv/lib/python3.9/site-packages (0.1.0)\n",
      "Requirement already satisfied: pandas in ./.venv/lib/python3.9/site-packages (from ace_tools_open) (2.3.0)\n",
      "Requirement already satisfied: itables in ./.venv/lib/python3.9/site-packages (from ace_tools_open) (2.4.4)\n",
      "Requirement already satisfied: IPython in ./.venv/lib/python3.9/site-packages (from ace_tools_open) (8.18.1)\n",
      "Requirement already satisfied: decorator in ./.venv/lib/python3.9/site-packages (from IPython->ace_tools_open) (5.2.1)\n",
      "Requirement already satisfied: jedi>=0.16 in ./.venv/lib/python3.9/site-packages (from IPython->ace_tools_open) (0.19.2)\n",
      "Requirement already satisfied: matplotlib-inline in ./.venv/lib/python3.9/site-packages (from IPython->ace_tools_open) (0.1.7)\n",
      "Requirement already satisfied: prompt-toolkit<3.1.0,>=3.0.41 in ./.venv/lib/python3.9/site-packages (from IPython->ace_tools_open) (3.0.51)\n",
      "Requirement already satisfied: pygments>=2.4.0 in ./.venv/lib/python3.9/site-packages (from IPython->ace_tools_open) (2.19.1)\n",
      "Requirement already satisfied: stack-data in ./.venv/lib/python3.9/site-packages (from IPython->ace_tools_open) (0.6.3)\n",
      "Requirement already satisfied: traitlets>=5 in ./.venv/lib/python3.9/site-packages (from IPython->ace_tools_open) (5.14.3)\n",
      "Requirement already satisfied: typing-extensions in ./.venv/lib/python3.9/site-packages (from IPython->ace_tools_open) (4.14.0)\n",
      "Requirement already satisfied: exceptiongroup in ./.venv/lib/python3.9/site-packages (from IPython->ace_tools_open) (1.3.0)\n",
      "Requirement already satisfied: pexpect>4.3 in ./.venv/lib/python3.9/site-packages (from IPython->ace_tools_open) (4.9.0)\n",
      "Requirement already satisfied: wcwidth in ./.venv/lib/python3.9/site-packages (from prompt-toolkit<3.1.0,>=3.0.41->IPython->ace_tools_open) (0.2.13)\n",
      "Requirement already satisfied: parso<0.9.0,>=0.8.4 in ./.venv/lib/python3.9/site-packages (from jedi>=0.16->IPython->ace_tools_open) (0.8.4)\n",
      "Requirement already satisfied: ptyprocess>=0.5 in ./.venv/lib/python3.9/site-packages (from pexpect>4.3->IPython->ace_tools_open) (0.7.0)\n",
      "Requirement already satisfied: numpy in ./.venv/lib/python3.9/site-packages (from itables->ace_tools_open) (2.0.2)\n",
      "Requirement already satisfied: python-dateutil>=2.8.2 in ./.venv/lib/python3.9/site-packages (from pandas->ace_tools_open) (2.9.0.post0)\n",
      "Requirement already satisfied: pytz>=2020.1 in ./.venv/lib/python3.9/site-packages (from pandas->ace_tools_open) (2025.2)\n",
      "Requirement already satisfied: tzdata>=2022.7 in ./.venv/lib/python3.9/site-packages (from pandas->ace_tools_open) (2025.2)\n",
      "Requirement already satisfied: six>=1.5 in ./.venv/lib/python3.9/site-packages (from python-dateutil>=2.8.2->pandas->ace_tools_open) (1.17.0)\n",
      "Requirement already satisfied: executing>=1.2.0 in ./.venv/lib/python3.9/site-packages (from stack-data->IPython->ace_tools_open) (2.2.0)\n",
      "Requirement already satisfied: asttokens>=2.1.0 in ./.venv/lib/python3.9/site-packages (from stack-data->IPython->ace_tools_open) (3.0.0)\n",
      "Requirement already satisfied: pure-eval in ./.venv/lib/python3.9/site-packages (from stack-data->IPython->ace_tools_open) (0.2.3)\n",
      "\n",
      "\u001b[1m[\u001b[0m\u001b[34;49mnotice\u001b[0m\u001b[1;39;49m]\u001b[0m\u001b[39;49m A new release of pip is available: \u001b[0m\u001b[31;49m25.1.1\u001b[0m\u001b[39;49m -> \u001b[0m\u001b[32;49m25.2\u001b[0m\n",
      "\u001b[1m[\u001b[0m\u001b[34;49mnotice\u001b[0m\u001b[1;39;49m]\u001b[0m\u001b[39;49m To update, run: \u001b[0m\u001b[32;49mpip install --upgrade pip\u001b[0m\n",
      "Note: you may need to restart the kernel to use updated packages.\n"
     ]
    }
   ],
   "source": [
    "%pip install pandas\n",
    "%pip install plotly\n",
    "%pip install nbformat\n",
    "import sys\n",
    "!{sys.executable} -m pip install nbformat --upgrade\n",
    "%pip install ace_tools_open"
   ]
  },
  {
   "cell_type": "code",
   "execution_count": 2,
   "id": "0be59f1a",
   "metadata": {},
   "outputs": [
    {
     "name": "stderr",
     "output_type": "stream",
     "text": [
      "/Users/chelseashe/Thought_Toolkit/.venv/lib/python3.9/site-packages/urllib3/__init__.py:35: NotOpenSSLWarning: urllib3 v2 only supports OpenSSL 1.1.1+, currently the 'ssl' module is compiled with 'LibreSSL 2.8.3'. See: https://github.com/urllib3/urllib3/issues/3020\n",
      "  warnings.warn(\n"
     ]
    },
    {
     "name": "stdout",
     "output_type": "stream",
     "text": [
      "Logs successfully saved to: /Users/chelseashe/Thought_Toolkit/formal1_logs.json\n"
     ]
    },
    {
     "name": "stderr",
     "output_type": "stream",
     "text": [
      "/Users/chelseashe/Thought_Toolkit/.venv/lib/python3.9/site-packages/tqdm/auto.py:21: TqdmWarning: IProgress not found. Please update jupyter and ipywidgets. See https://ipywidgets.readthedocs.io/en/stable/user_install.html\n",
      "  from .autonotebook import tqdm as notebook_tqdm\n",
      "Some weights of the model checkpoint at roberta-large-mnli were not used when initializing RobertaForSequenceClassification: ['roberta.pooler.dense.bias', 'roberta.pooler.dense.weight']\n",
      "- This IS expected if you are initializing RobertaForSequenceClassification from the checkpoint of a model trained on another task or with another architecture (e.g. initializing a BertForSequenceClassification model from a BertForPreTraining model).\n",
      "- This IS NOT expected if you are initializing RobertaForSequenceClassification from the checkpoint of a model that you expect to be exactly identical (initializing a BertForSequenceClassification model from a BertForSequenceClassification model).\n",
      "Device set to use mps:0\n",
      "Some weights of the model checkpoint at roberta-large-mnli were not used when initializing RobertaForSequenceClassification: ['roberta.pooler.dense.bias', 'roberta.pooler.dense.weight']\n",
      "- This IS expected if you are initializing RobertaForSequenceClassification from the checkpoint of a model trained on another task or with another architecture (e.g. initializing a BertForSequenceClassification model from a BertForPreTraining model).\n",
      "- This IS NOT expected if you are initializing RobertaForSequenceClassification from the checkpoint of a model that you expect to be exactly identical (initializing a BertForSequenceClassification model from a BertForSequenceClassification model).\n",
      "Device set to use mps:0\n",
      "Device set to use mps:0\n"
     ]
    }
   ],
   "source": [
    "# Import libraries\n",
    "# Required packages: plotly, pandas\n",
    "import json\n",
    "import pandas as pd\n",
    "from datetime import datetime\n",
    "import plotly.graph_objects as go\n",
    "import plotly.express as px\n",
    "from plotly.subplots import make_subplots\n",
    "import plotly.io as pio\n",
    "from collections import defaultdict\n",
    "import ace_tools_open as tools\n",
    "\n",
    "import level_2_learning_comparisons\n",
    "\n",
    "import matplotlib.pyplot as plt\n",
    "import numpy as np"
   ]
  },
  {
   "cell_type": "code",
   "execution_count": 3,
   "id": "bf98b676",
   "metadata": {},
   "outputs": [],
   "source": [
    "# Load data\n",
    "# Make sure the file name is correct and in the same directory as the script\n",
    "with open(\"level_2_actions_per_session_semantic.json\") as f:\n",
    "    level_2_actions_per_session_semantic = json.load(f)"
   ]
  },
  {
   "cell_type": "markdown",
   "id": "0bd009cc",
   "metadata": {},
   "source": [
    "### II Semantic Visualization - Correlation between semantic expansion per sentence text_insert"
   ]
  },
  {
   "cell_type": "code",
   "execution_count": 4,
   "id": "056e9818",
   "metadata": {},
   "outputs": [],
   "source": [
    "# Plotting and helper functions\n",
    "def plot_semantic_expansion_sentence(writing_data, session_ids):\n",
    "    fig = make_subplots(\n",
    "        rows=len(session_ids),\n",
    "        cols=1,\n",
    "        subplot_titles=[f\"Session: {session_id}\" for session_id in session_ids],\n",
    "        vertical_spacing=0.15,\n",
    "    )\n",
    "    for idx, session_id in enumerate(session_ids, start=1):\n",
    "        if session_id not in writing_data:\n",
    "            print(f\"Warning: No data found for {session_id}\")\n",
    "            continue\n",
    "\n",
    "        session_actions = writing_data[session_id]\n",
    "        learning_data = []\n",
    "\n",
    "        writing_progress = 0\n",
    "        for i, action in enumerate(session_actions):\n",
    "            if \"writing_type\" in action:\n",
    "                if action[\"writing_type\"] == \"backstage\":\n",
    "                    if action[\"level_1_action_type\"] == \"insert_text_human_ai_prompt\":\n",
    "                        learning_data.append(\n",
    "                            {\n",
    "                                \"writing_progress\": writing_progress,\n",
    "                                \"action_type\": action.get(\"action_type\", \"\"),\n",
    "                                \"level_1_action_type\": \"human_insert_backstage\",\n",
    "                                \"semantic_expansion\": action[\"semantic_expansion\"]\n",
    "                            }\n",
    "                        )\n",
    "                        writing_progress += 1\n",
    "                    elif action[\"level_1_action_type\"] == \"present_suggestion\":\n",
    "                        learning_data.append(\n",
    "                            {\n",
    "                                \"writing_progress\": writing_progress,\n",
    "                                \"action_type\": action.get(\"action_type\", \"\"),\n",
    "                                \"level_1_action_type\": \"ai_suggest_backstage\",\n",
    "                                \"semantic_expansion\": action[\"semantic_expansion\"],\n",
    "                            }\n",
    "                        )\n",
    "                        writing_progress += 1\n",
    "                    # NEED TO IMPLEMENT THESE LATER\n",
    "                    # elif action[\"level_1_action_type\"] == \"delete_text\"\n",
    "                    # elif action[\"level_1_action_type\"] == \"human_edit_ai\"\n",
    "                elif action[\"writing_type\"] == \"frontstage\":\n",
    "                    if action[\"level_1_action_type\"] == \"insert_text_human\" and (not \"level_2_action_type\" in action or action[\"level_2_action_type\"] != \"human_edit_ai\"):\n",
    "                        for sentence in action[\"action_modified_sentences\"]:\n",
    "                            learning_data.append(\n",
    "                                {\n",
    "                                    \"writing_progress\": writing_progress,\n",
    "                                    \"action_type\": action.get(\"action_type\", \"\"),\n",
    "                                    \"level_1_action_type\": \"human_insert_frontstage\",\n",
    "                                    \"semantic_expansion\": action[\n",
    "                                        \"semantic_expansion_info\"\n",
    "                                    ][sentence],\n",
    "                                }\n",
    "                            )\n",
    "                            writing_progress += 1\n",
    "                            added = False\n",
    "                    elif \"level_2_action_type\" in action and action[\"level_2_action_type\"] == \"move_frontstage\":\n",
    "                        learning_data.append(\n",
    "                            {\n",
    "                                \"writing_progress\": writing_progress,\n",
    "                                \"action_type\": action.get(\"action_type\", \"\"),\n",
    "                                \"level_1_action_type\": \"ai_insert_moved_to_frontstage\",\n",
    "                                \"semantic_expansion\": action[\"semantic_expansion\"],\n",
    "                            }\n",
    "                        )\n",
    "                        writing_progress += 1\n",
    "                    elif action[\"level_1_action_type\"] == \"delete_text\":\n",
    "                        learning_data.append(\n",
    "                            {\n",
    "                                \"writing_progress\": writing_progress,\n",
    "                                \"action_type\": action.get(\"action_type\", \"\"),\n",
    "                                \"level_1_action_type\": \"human_delete_frontstage\",\n",
    "                                \"semantic_expansion\": action[\"semantic_expansion\"],\n",
    "                            }\n",
    "                        )\n",
    "                        writing_progress += 1\n",
    "                    elif \"level_2_action_type\" in action and action[\"level_2_action_type\"] == \"human_edit_ai\":\n",
    "                        learning_data.append(\n",
    "                            {\n",
    "                                \"writing_progress\": writing_progress,\n",
    "                                \"action_type\": action.get(\"action_type\", \"\"),\n",
    "                                \"level_1_action_type\": \"human_insert_edit_frontstage\",\n",
    "                                \"semantic_expansion\": action[\"semantic_expansion\"],\n",
    "                            }\n",
    "                        )\n",
    "                        writing_progress += 1\n",
    "\n",
    "        learning_data = sorted(learning_data, key=lambda x: x[\"writing_progress\"])\n",
    "        # print(learning_data)\n",
    "\n",
    "        if not learning_data:\n",
    "            print(f\"Warning: No data found for {session_id}\")\n",
    "            continue\n",
    "\n",
    "        data_df = pd.DataFrame(learning_data)\n",
    "\n",
    "        # Graph individual cognitive measures\n",
    "        y_max = 0.0\n",
    "        aggregate_score = 0.0\n",
    "        backstage_addition = 0.0\n",
    "        aggregate_data = []\n",
    "        for learning_index, action in enumerate(learning_data):\n",
    "            details = {\n",
    "                \"writing_progress\": action[\"writing_progress\"],\n",
    "                \"level_1_action_type\": action[\"level_1_action_type\"],\n",
    "                \"aggregate_semantic_expansion_frontend\": aggregate_score,\n",
    "                \"increment_semantic_expansion\": action[\"semantic_expansion\"],\n",
    "            }\n",
    "            if \"backstage\" in action[\"level_1_action_type\"]:\n",
    "                if learning_index>0 and learning_data[learning_index-1]:\n",
    "                    details[\"aggregate_semantic_expansion_frontend\"] += backstage_addition\n",
    "                backstage_addition += action[\"semantic_expansion\"]\n",
    "            if \"frontstage\" in action[\"level_1_action_type\"] and learning_index > 0 and learning_data[learning_index - 1]:\n",
    "                backstage_addition = 0.0\n",
    "                aggregate_score += action[\"semantic_expansion\"]\n",
    "\n",
    "            aggregate_data.append(details)\n",
    "            if aggregate_score > y_max:\n",
    "                y_max = aggregate_score\n",
    "        aggregate_df = pd.DataFrame(aggregate_data)\n",
    "        print(f\"{session_id}\")\n",
    "\n",
    "        colors = {\n",
    "            \"human_insert_backstage\": \"#64B5F6\",\n",
    "            \"ai_suggest_backstage\": \"#ff8fab\",\n",
    "            \"human_insert_frontstage\": \"#023e8a\",\n",
    "            \"ai_insert_moved_to_frontstage\": \"#c1121f\",\n",
    "            \"human_delete_frontstage\": \"#9d4edd\",\n",
    "            \"human_insert_edit_frontstage\": \"#5a189a\",\n",
    "        }\n",
    "\n",
    "        for action_type in colors.keys():\n",
    "            actions = [\n",
    "                action\n",
    "                for action in aggregate_data\n",
    "                if action.get(\"level_1_action_type\") == action_type\n",
    "            ]\n",
    "            for action in actions:\n",
    "                x_0 = 0.0\n",
    "                if action[\"writing_progress\"] > 0:\n",
    "                    x_0 = action[\"writing_progress\"]-1\n",
    "                fig.add_shape(\n",
    "                    type=\"line\",\n",
    "                    x0=x_0,\n",
    "                    x1=action[\"writing_progress\"],\n",
    "                    y0=action[\"aggregate_semantic_expansion_frontend\"],\n",
    "                    y1=action[\"aggregate_semantic_expansion_frontend\"]+action[\"increment_semantic_expansion\"],\n",
    "                    yref=\"y\",  # Must match the y-axis of the graph\n",
    "                    line=dict(color=colors[action_type], width=2),\n",
    "                    row=idx,\n",
    "                    col=1,\n",
    "                )\n",
    "\n",
    "        if idx == 1:\n",
    "            for color, hex in colors.items():\n",
    "                fig.add_trace(\n",
    "                    go.Scatter(\n",
    "                        x=[None],\n",
    "                        y=[None],\n",
    "                        mode=\"lines\",\n",
    "                        line=dict(color=hex, width=2),\n",
    "                        name=color,\n",
    "                        showlegend=True,\n",
    "                    ),\n",
    "                    row=1,\n",
    "                    col=1,\n",
    "                )\n",
    "\n",
    "    fig.update_layout(\n",
    "        plot_bgcolor=\"white\",\n",
    "        legend_title_font_color=\"rgba(0, 0, 0, 0)\",\n",
    "        height=500 * len(session_ids),\n",
    "        width=1600,\n",
    "        showlegend=True,\n",
    "        title={\n",
    "            \"text\": \"Semantic Expansion over Writing Sessions<br>\"\n",
    "            + '<span style=\"font-size: 12px;\">*Measuring how well humans are learning while writing with GenAI</span>',\n",
    "        },\n",
    "    )\n",
    "\n",
    "    fig.update_xaxes(\n",
    "        title=None,\n",
    "        range=[-1, data_df[\"writing_progress\"].max()+1],\n",
    "        mirror=False,\n",
    "        ticks=\"outside\",\n",
    "        showline=True,\n",
    "        linecolor=\"black\",\n",
    "        gridcolor=\"white\",\n",
    "    )\n",
    "\n",
    "    fig.update_xaxes(\n",
    "        title=\"Progress into the writing session\", row=len(session_ids), col=1\n",
    "    )\n",
    "\n",
    "    fig.update_yaxes(\n",
    "        title=\"Scores\",\n",
    "        mirror=False,\n",
    "        ticks=\"outside\",\n",
    "        showline=True,\n",
    "        linecolor=\"black\",\n",
    "        gridcolor=\"white\",\n",
    "    )\n",
    "\n",
    "    fig.show()\n",
    "    return fig"
   ]
  },
  {
   "cell_type": "code",
   "execution_count": 5,
   "id": "d486f367",
   "metadata": {},
   "outputs": [
    {
     "name": "stdout",
     "output_type": "stream",
     "text": [
      "legislation_corporate_1\n"
     ]
    },
    {
     "data": {
      "application/vnd.plotly.v1+json": {
       "config": {
        "plotlyServerURL": "https://plot.ly"
       },
       "data": [
        {
         "line": {
          "color": "#64B5F6",
          "width": 2
         },
         "mode": "lines",
         "name": "human_insert_backstage",
         "showlegend": true,
         "type": "scatter",
         "x": [
          null
         ],
         "xaxis": "x",
         "y": [
          null
         ],
         "yaxis": "y"
        },
        {
         "line": {
          "color": "#ff8fab",
          "width": 2
         },
         "mode": "lines",
         "name": "ai_suggest_backstage",
         "showlegend": true,
         "type": "scatter",
         "x": [
          null
         ],
         "xaxis": "x",
         "y": [
          null
         ],
         "yaxis": "y"
        },
        {
         "line": {
          "color": "#023e8a",
          "width": 2
         },
         "mode": "lines",
         "name": "human_insert_frontstage",
         "showlegend": true,
         "type": "scatter",
         "x": [
          null
         ],
         "xaxis": "x",
         "y": [
          null
         ],
         "yaxis": "y"
        },
        {
         "line": {
          "color": "#c1121f",
          "width": 2
         },
         "mode": "lines",
         "name": "ai_insert_moved_to_frontstage",
         "showlegend": true,
         "type": "scatter",
         "x": [
          null
         ],
         "xaxis": "x",
         "y": [
          null
         ],
         "yaxis": "y"
        },
        {
         "line": {
          "color": "#9d4edd",
          "width": 2
         },
         "mode": "lines",
         "name": "human_delete_frontstage",
         "showlegend": true,
         "type": "scatter",
         "x": [
          null
         ],
         "xaxis": "x",
         "y": [
          null
         ],
         "yaxis": "y"
        },
        {
         "line": {
          "color": "#5a189a",
          "width": 2
         },
         "mode": "lines",
         "name": "human_insert_edit_frontstage",
         "showlegend": true,
         "type": "scatter",
         "x": [
          null
         ],
         "xaxis": "x",
         "y": [
          null
         ],
         "yaxis": "y"
        }
       ],
       "layout": {
        "annotations": [
         {
          "font": {
           "size": 16
          },
          "showarrow": false,
          "text": "Session: legislation_corporate_1",
          "x": 0.5,
          "xanchor": "center",
          "xref": "paper",
          "y": 1,
          "yanchor": "bottom",
          "yref": "paper"
         }
        ],
        "height": 500,
        "legend": {
         "title": {
          "font": {
           "color": "rgba(0, 0, 0, 0)"
          }
         }
        },
        "plot_bgcolor": "white",
        "shapes": [
         {
          "line": {
           "color": "#64B5F6",
           "width": 2
          },
          "type": "line",
          "x0": 0,
          "x1": 0,
          "xref": "x",
          "y0": 0,
          "y1": 0.2559514045715332,
          "yref": "y"
         },
         {
          "line": {
           "color": "#64B5F6",
           "width": 2
          },
          "type": "line",
          "x0": 1,
          "x1": 2,
          "xref": "x",
          "y0": 0.5434983491897583,
          "y1": -0.3138604640960694,
          "yref": "y"
         },
         {
          "line": {
           "color": "#64B5F6",
           "width": 2
          },
          "type": "line",
          "x0": 3,
          "x1": 4,
          "xref": "x",
          "y0": -0.019625711441040083,
          "y1": -0.8934845805168152,
          "yref": "y"
         },
         {
          "line": {
           "color": "#64B5F6",
           "width": 2
          },
          "type": "line",
          "x0": 5,
          "x1": 6,
          "xref": "x",
          "y0": -0.529176139831543,
          "y1": -1.717209780216217,
          "yref": "y"
         },
         {
          "line": {
           "color": "#ff8fab",
           "width": 2
          },
          "type": "line",
          "x0": 0,
          "x1": 1,
          "xref": "x",
          "y0": 0.2559514045715332,
          "y1": 0.5434983491897583,
          "yref": "y"
         },
         {
          "line": {
           "color": "#ff8fab",
           "width": 2
          },
          "type": "line",
          "x0": 2,
          "x1": 3,
          "xref": "x",
          "y0": -0.3138604640960694,
          "y1": -0.019625711441040083,
          "yref": "y"
         },
         {
          "line": {
           "color": "#ff8fab",
           "width": 2
          },
          "type": "line",
          "x0": 4,
          "x1": 5,
          "xref": "x",
          "y0": -0.8934845805168152,
          "y1": -0.529176139831543,
          "yref": "y"
         },
         {
          "line": {
           "color": "#ff8fab",
           "width": 2
          },
          "type": "line",
          "x0": 6,
          "x1": 7,
          "xref": "x",
          "y0": -1.717209780216217,
          "y1": -1.444059109687805,
          "yref": "y"
         },
         {
          "line": {
           "color": "#ff8fab",
           "width": 2
          },
          "type": "line",
          "x0": 15,
          "x1": 16,
          "xref": "x",
          "y0": 2.035506308078766,
          "y1": 2.5707478404045103,
          "yref": "y"
         },
         {
          "line": {
           "color": "#ff8fab",
           "width": 2
          },
          "type": "line",
          "x0": 32,
          "x1": 33,
          "xref": "x",
          "y0": 11.23694384098053,
          "y1": 11.729781234264374,
          "yref": "y"
         },
         {
          "line": {
           "color": "#023e8a",
           "width": 2
          },
          "type": "line",
          "x0": 8,
          "x1": 9,
          "xref": "x",
          "y0": 0,
          "y1": 0.18391823768615723,
          "yref": "y"
         },
         {
          "line": {
           "color": "#023e8a",
           "width": 2
          },
          "type": "line",
          "x0": 9,
          "x1": 10,
          "xref": "x",
          "y0": 0.18391823768615723,
          "y1": 0.3291695713996887,
          "yref": "y"
         },
         {
          "line": {
           "color": "#023e8a",
           "width": 2
          },
          "type": "line",
          "x0": 10,
          "x1": 11,
          "xref": "x",
          "y0": 0.3291695713996887,
          "y1": 0.6040838360786438,
          "yref": "y"
         },
         {
          "line": {
           "color": "#023e8a",
           "width": 2
          },
          "type": "line",
          "x0": 11,
          "x1": 12,
          "xref": "x",
          "y0": 0.6040838360786438,
          "y1": 1.0500288009643555,
          "yref": "y"
         },
         {
          "line": {
           "color": "#023e8a",
           "width": 2
          },
          "type": "line",
          "x0": 12,
          "x1": 13,
          "xref": "x",
          "y0": 1.0500288009643555,
          "y1": 1.3213303685188293,
          "yref": "y"
         },
         {
          "line": {
           "color": "#023e8a",
           "width": 2
          },
          "type": "line",
          "x0": 13,
          "x1": 14,
          "xref": "x",
          "y0": 1.3213303685188293,
          "y1": 1.7332382798194885,
          "yref": "y"
         },
         {
          "line": {
           "color": "#023e8a",
           "width": 2
          },
          "type": "line",
          "x0": 14,
          "x1": 15,
          "xref": "x",
          "y0": 1.7332382798194885,
          "y1": 2.035506308078766,
          "yref": "y"
         },
         {
          "line": {
           "color": "#023e8a",
           "width": 2
          },
          "type": "line",
          "x0": 16,
          "x1": 17,
          "xref": "x",
          "y0": 2.035506308078766,
          "y1": 2.695667803287506,
          "yref": "y"
         },
         {
          "line": {
           "color": "#023e8a",
           "width": 2
          },
          "type": "line",
          "x0": 17,
          "x1": 18,
          "xref": "x",
          "y0": 2.695667803287506,
          "y1": 3.4302844405174255,
          "yref": "y"
         },
         {
          "line": {
           "color": "#023e8a",
           "width": 2
          },
          "type": "line",
          "x0": 18,
          "x1": 19,
          "xref": "x",
          "y0": 3.4302844405174255,
          "y1": 3.8521307706832886,
          "yref": "y"
         },
         {
          "line": {
           "color": "#023e8a",
           "width": 2
          },
          "type": "line",
          "x0": 19,
          "x1": 20,
          "xref": "x",
          "y0": 3.8521307706832886,
          "y1": 4.305098533630371,
          "yref": "y"
         },
         {
          "line": {
           "color": "#023e8a",
           "width": 2
          },
          "type": "line",
          "x0": 20,
          "x1": 21,
          "xref": "x",
          "y0": 4.305098533630371,
          "y1": 5.166357100009918,
          "yref": "y"
         },
         {
          "line": {
           "color": "#023e8a",
           "width": 2
          },
          "type": "line",
          "x0": 21,
          "x1": 22,
          "xref": "x",
          "y0": 5.166357100009918,
          "y1": 5.815431177616119,
          "yref": "y"
         },
         {
          "line": {
           "color": "#023e8a",
           "width": 2
          },
          "type": "line",
          "x0": 22,
          "x1": 23,
          "xref": "x",
          "y0": 5.815431177616119,
          "y1": 6.18437123298645,
          "yref": "y"
         },
         {
          "line": {
           "color": "#023e8a",
           "width": 2
          },
          "type": "line",
          "x0": 23,
          "x1": 24,
          "xref": "x",
          "y0": 6.18437123298645,
          "y1": 6.888826966285706,
          "yref": "y"
         },
         {
          "line": {
           "color": "#023e8a",
           "width": 2
          },
          "type": "line",
          "x0": 24,
          "x1": 25,
          "xref": "x",
          "y0": 6.888826966285706,
          "y1": 7.52093505859375,
          "yref": "y"
         },
         {
          "line": {
           "color": "#023e8a",
           "width": 2
          },
          "type": "line",
          "x0": 25,
          "x1": 26,
          "xref": "x",
          "y0": 7.52093505859375,
          "y1": 8.185049414634705,
          "yref": "y"
         },
         {
          "line": {
           "color": "#023e8a",
           "width": 2
          },
          "type": "line",
          "x0": 26,
          "x1": 27,
          "xref": "x",
          "y0": 8.185049414634705,
          "y1": 8.96149480342865,
          "yref": "y"
         },
         {
          "line": {
           "color": "#023e8a",
           "width": 2
          },
          "type": "line",
          "x0": 27,
          "x1": 28,
          "xref": "x",
          "y0": 8.96149480342865,
          "y1": 9.261149823665619,
          "yref": "y"
         },
         {
          "line": {
           "color": "#023e8a",
           "width": 2
          },
          "type": "line",
          "x0": 28,
          "x1": 29,
          "xref": "x",
          "y0": 9.261149823665619,
          "y1": 9.72130960226059,
          "yref": "y"
         },
         {
          "line": {
           "color": "#023e8a",
           "width": 2
          },
          "type": "line",
          "x0": 29,
          "x1": 30,
          "xref": "x",
          "y0": 9.72130960226059,
          "y1": 10.229720890522003,
          "yref": "y"
         },
         {
          "line": {
           "color": "#023e8a",
           "width": 2
          },
          "type": "line",
          "x0": 30,
          "x1": 31,
          "xref": "x",
          "y0": 10.229720890522003,
          "y1": 10.704876005649567,
          "yref": "y"
         },
         {
          "line": {
           "color": "#023e8a",
           "width": 2
          },
          "type": "line",
          "x0": 31,
          "x1": 32,
          "xref": "x",
          "y0": 10.704876005649567,
          "y1": 11.23694384098053,
          "yref": "y"
         },
         {
          "line": {
           "color": "#023e8a",
           "width": 2
          },
          "type": "line",
          "x0": 34,
          "x1": 35,
          "xref": "x",
          "y0": 13.95398998260498,
          "y1": 14.255211412906647,
          "yref": "y"
         },
         {
          "line": {
           "color": "#023e8a",
           "width": 2
          },
          "type": "line",
          "x0": 35,
          "x1": 36,
          "xref": "x",
          "y0": 14.255211412906647,
          "y1": 14.55288553237915,
          "yref": "y"
         },
         {
          "line": {
           "color": "#023e8a",
           "width": 2
          },
          "type": "line",
          "x0": 36,
          "x1": 37,
          "xref": "x",
          "y0": 14.55288553237915,
          "y1": 15.166260957717896,
          "yref": "y"
         },
         {
          "line": {
           "color": "#023e8a",
           "width": 2
          },
          "type": "line",
          "x0": 37,
          "x1": 38,
          "xref": "x",
          "y0": 15.166260957717896,
          "y1": 15.545401632785797,
          "yref": "y"
         },
         {
          "line": {
           "color": "#023e8a",
           "width": 2
          },
          "type": "line",
          "x0": 38,
          "x1": 39,
          "xref": "x",
          "y0": 15.545401632785797,
          "y1": 15.861763775348663,
          "yref": "y"
         },
         {
          "line": {
           "color": "#023e8a",
           "width": 2
          },
          "type": "line",
          "x0": 39,
          "x1": 40,
          "xref": "x",
          "y0": 15.861763775348663,
          "y1": 16.12848997116089,
          "yref": "y"
         },
         {
          "line": {
           "color": "#023e8a",
           "width": 2
          },
          "type": "line",
          "x0": 40,
          "x1": 41,
          "xref": "x",
          "y0": 16.12848997116089,
          "y1": 16.43546462059021,
          "yref": "y"
         },
         {
          "line": {
           "color": "#023e8a",
           "width": 2
          },
          "type": "line",
          "x0": 42,
          "x1": 43,
          "xref": "x",
          "y0": 16.406732499599457,
          "y1": 16.751630663871765,
          "yref": "y"
         },
         {
          "line": {
           "color": "#c1121f",
           "width": 2
          },
          "type": "line",
          "x0": 33,
          "x1": 34,
          "xref": "x",
          "y0": 11.23694384098053,
          "y1": 13.95398998260498,
          "yref": "y"
         },
         {
          "line": {
           "color": "#9d4edd",
           "width": 2
          },
          "type": "line",
          "x0": 7,
          "x1": 8,
          "xref": "x",
          "y0": 0,
          "y1": 0,
          "yref": "y"
         },
         {
          "line": {
           "color": "#9d4edd",
           "width": 2
          },
          "type": "line",
          "x0": 41,
          "x1": 42,
          "xref": "x",
          "y0": 16.43546462059021,
          "y1": 16.406732499599457,
          "yref": "y"
         }
        ],
        "showlegend": true,
        "template": {
         "data": {
          "bar": [
           {
            "error_x": {
             "color": "#2a3f5f"
            },
            "error_y": {
             "color": "#2a3f5f"
            },
            "marker": {
             "line": {
              "color": "#E5ECF6",
              "width": 0.5
             },
             "pattern": {
              "fillmode": "overlay",
              "size": 10,
              "solidity": 0.2
             }
            },
            "type": "bar"
           }
          ],
          "barpolar": [
           {
            "marker": {
             "line": {
              "color": "#E5ECF6",
              "width": 0.5
             },
             "pattern": {
              "fillmode": "overlay",
              "size": 10,
              "solidity": 0.2
             }
            },
            "type": "barpolar"
           }
          ],
          "carpet": [
           {
            "aaxis": {
             "endlinecolor": "#2a3f5f",
             "gridcolor": "white",
             "linecolor": "white",
             "minorgridcolor": "white",
             "startlinecolor": "#2a3f5f"
            },
            "baxis": {
             "endlinecolor": "#2a3f5f",
             "gridcolor": "white",
             "linecolor": "white",
             "minorgridcolor": "white",
             "startlinecolor": "#2a3f5f"
            },
            "type": "carpet"
           }
          ],
          "choropleth": [
           {
            "colorbar": {
             "outlinewidth": 0,
             "ticks": ""
            },
            "type": "choropleth"
           }
          ],
          "contour": [
           {
            "colorbar": {
             "outlinewidth": 0,
             "ticks": ""
            },
            "colorscale": [
             [
              0,
              "#0d0887"
             ],
             [
              0.1111111111111111,
              "#46039f"
             ],
             [
              0.2222222222222222,
              "#7201a8"
             ],
             [
              0.3333333333333333,
              "#9c179e"
             ],
             [
              0.4444444444444444,
              "#bd3786"
             ],
             [
              0.5555555555555556,
              "#d8576b"
             ],
             [
              0.6666666666666666,
              "#ed7953"
             ],
             [
              0.7777777777777778,
              "#fb9f3a"
             ],
             [
              0.8888888888888888,
              "#fdca26"
             ],
             [
              1,
              "#f0f921"
             ]
            ],
            "type": "contour"
           }
          ],
          "contourcarpet": [
           {
            "colorbar": {
             "outlinewidth": 0,
             "ticks": ""
            },
            "type": "contourcarpet"
           }
          ],
          "heatmap": [
           {
            "colorbar": {
             "outlinewidth": 0,
             "ticks": ""
            },
            "colorscale": [
             [
              0,
              "#0d0887"
             ],
             [
              0.1111111111111111,
              "#46039f"
             ],
             [
              0.2222222222222222,
              "#7201a8"
             ],
             [
              0.3333333333333333,
              "#9c179e"
             ],
             [
              0.4444444444444444,
              "#bd3786"
             ],
             [
              0.5555555555555556,
              "#d8576b"
             ],
             [
              0.6666666666666666,
              "#ed7953"
             ],
             [
              0.7777777777777778,
              "#fb9f3a"
             ],
             [
              0.8888888888888888,
              "#fdca26"
             ],
             [
              1,
              "#f0f921"
             ]
            ],
            "type": "heatmap"
           }
          ],
          "histogram": [
           {
            "marker": {
             "pattern": {
              "fillmode": "overlay",
              "size": 10,
              "solidity": 0.2
             }
            },
            "type": "histogram"
           }
          ],
          "histogram2d": [
           {
            "colorbar": {
             "outlinewidth": 0,
             "ticks": ""
            },
            "colorscale": [
             [
              0,
              "#0d0887"
             ],
             [
              0.1111111111111111,
              "#46039f"
             ],
             [
              0.2222222222222222,
              "#7201a8"
             ],
             [
              0.3333333333333333,
              "#9c179e"
             ],
             [
              0.4444444444444444,
              "#bd3786"
             ],
             [
              0.5555555555555556,
              "#d8576b"
             ],
             [
              0.6666666666666666,
              "#ed7953"
             ],
             [
              0.7777777777777778,
              "#fb9f3a"
             ],
             [
              0.8888888888888888,
              "#fdca26"
             ],
             [
              1,
              "#f0f921"
             ]
            ],
            "type": "histogram2d"
           }
          ],
          "histogram2dcontour": [
           {
            "colorbar": {
             "outlinewidth": 0,
             "ticks": ""
            },
            "colorscale": [
             [
              0,
              "#0d0887"
             ],
             [
              0.1111111111111111,
              "#46039f"
             ],
             [
              0.2222222222222222,
              "#7201a8"
             ],
             [
              0.3333333333333333,
              "#9c179e"
             ],
             [
              0.4444444444444444,
              "#bd3786"
             ],
             [
              0.5555555555555556,
              "#d8576b"
             ],
             [
              0.6666666666666666,
              "#ed7953"
             ],
             [
              0.7777777777777778,
              "#fb9f3a"
             ],
             [
              0.8888888888888888,
              "#fdca26"
             ],
             [
              1,
              "#f0f921"
             ]
            ],
            "type": "histogram2dcontour"
           }
          ],
          "mesh3d": [
           {
            "colorbar": {
             "outlinewidth": 0,
             "ticks": ""
            },
            "type": "mesh3d"
           }
          ],
          "parcoords": [
           {
            "line": {
             "colorbar": {
              "outlinewidth": 0,
              "ticks": ""
             }
            },
            "type": "parcoords"
           }
          ],
          "pie": [
           {
            "automargin": true,
            "type": "pie"
           }
          ],
          "scatter": [
           {
            "fillpattern": {
             "fillmode": "overlay",
             "size": 10,
             "solidity": 0.2
            },
            "type": "scatter"
           }
          ],
          "scatter3d": [
           {
            "line": {
             "colorbar": {
              "outlinewidth": 0,
              "ticks": ""
             }
            },
            "marker": {
             "colorbar": {
              "outlinewidth": 0,
              "ticks": ""
             }
            },
            "type": "scatter3d"
           }
          ],
          "scattercarpet": [
           {
            "marker": {
             "colorbar": {
              "outlinewidth": 0,
              "ticks": ""
             }
            },
            "type": "scattercarpet"
           }
          ],
          "scattergeo": [
           {
            "marker": {
             "colorbar": {
              "outlinewidth": 0,
              "ticks": ""
             }
            },
            "type": "scattergeo"
           }
          ],
          "scattergl": [
           {
            "marker": {
             "colorbar": {
              "outlinewidth": 0,
              "ticks": ""
             }
            },
            "type": "scattergl"
           }
          ],
          "scattermap": [
           {
            "marker": {
             "colorbar": {
              "outlinewidth": 0,
              "ticks": ""
             }
            },
            "type": "scattermap"
           }
          ],
          "scattermapbox": [
           {
            "marker": {
             "colorbar": {
              "outlinewidth": 0,
              "ticks": ""
             }
            },
            "type": "scattermapbox"
           }
          ],
          "scatterpolar": [
           {
            "marker": {
             "colorbar": {
              "outlinewidth": 0,
              "ticks": ""
             }
            },
            "type": "scatterpolar"
           }
          ],
          "scatterpolargl": [
           {
            "marker": {
             "colorbar": {
              "outlinewidth": 0,
              "ticks": ""
             }
            },
            "type": "scatterpolargl"
           }
          ],
          "scatterternary": [
           {
            "marker": {
             "colorbar": {
              "outlinewidth": 0,
              "ticks": ""
             }
            },
            "type": "scatterternary"
           }
          ],
          "surface": [
           {
            "colorbar": {
             "outlinewidth": 0,
             "ticks": ""
            },
            "colorscale": [
             [
              0,
              "#0d0887"
             ],
             [
              0.1111111111111111,
              "#46039f"
             ],
             [
              0.2222222222222222,
              "#7201a8"
             ],
             [
              0.3333333333333333,
              "#9c179e"
             ],
             [
              0.4444444444444444,
              "#bd3786"
             ],
             [
              0.5555555555555556,
              "#d8576b"
             ],
             [
              0.6666666666666666,
              "#ed7953"
             ],
             [
              0.7777777777777778,
              "#fb9f3a"
             ],
             [
              0.8888888888888888,
              "#fdca26"
             ],
             [
              1,
              "#f0f921"
             ]
            ],
            "type": "surface"
           }
          ],
          "table": [
           {
            "cells": {
             "fill": {
              "color": "#EBF0F8"
             },
             "line": {
              "color": "white"
             }
            },
            "header": {
             "fill": {
              "color": "#C8D4E3"
             },
             "line": {
              "color": "white"
             }
            },
            "type": "table"
           }
          ]
         },
         "layout": {
          "annotationdefaults": {
           "arrowcolor": "#2a3f5f",
           "arrowhead": 0,
           "arrowwidth": 1
          },
          "autotypenumbers": "strict",
          "coloraxis": {
           "colorbar": {
            "outlinewidth": 0,
            "ticks": ""
           }
          },
          "colorscale": {
           "diverging": [
            [
             0,
             "#8e0152"
            ],
            [
             0.1,
             "#c51b7d"
            ],
            [
             0.2,
             "#de77ae"
            ],
            [
             0.3,
             "#f1b6da"
            ],
            [
             0.4,
             "#fde0ef"
            ],
            [
             0.5,
             "#f7f7f7"
            ],
            [
             0.6,
             "#e6f5d0"
            ],
            [
             0.7,
             "#b8e186"
            ],
            [
             0.8,
             "#7fbc41"
            ],
            [
             0.9,
             "#4d9221"
            ],
            [
             1,
             "#276419"
            ]
           ],
           "sequential": [
            [
             0,
             "#0d0887"
            ],
            [
             0.1111111111111111,
             "#46039f"
            ],
            [
             0.2222222222222222,
             "#7201a8"
            ],
            [
             0.3333333333333333,
             "#9c179e"
            ],
            [
             0.4444444444444444,
             "#bd3786"
            ],
            [
             0.5555555555555556,
             "#d8576b"
            ],
            [
             0.6666666666666666,
             "#ed7953"
            ],
            [
             0.7777777777777778,
             "#fb9f3a"
            ],
            [
             0.8888888888888888,
             "#fdca26"
            ],
            [
             1,
             "#f0f921"
            ]
           ],
           "sequentialminus": [
            [
             0,
             "#0d0887"
            ],
            [
             0.1111111111111111,
             "#46039f"
            ],
            [
             0.2222222222222222,
             "#7201a8"
            ],
            [
             0.3333333333333333,
             "#9c179e"
            ],
            [
             0.4444444444444444,
             "#bd3786"
            ],
            [
             0.5555555555555556,
             "#d8576b"
            ],
            [
             0.6666666666666666,
             "#ed7953"
            ],
            [
             0.7777777777777778,
             "#fb9f3a"
            ],
            [
             0.8888888888888888,
             "#fdca26"
            ],
            [
             1,
             "#f0f921"
            ]
           ]
          },
          "colorway": [
           "#636efa",
           "#EF553B",
           "#00cc96",
           "#ab63fa",
           "#FFA15A",
           "#19d3f3",
           "#FF6692",
           "#B6E880",
           "#FF97FF",
           "#FECB52"
          ],
          "font": {
           "color": "#2a3f5f"
          },
          "geo": {
           "bgcolor": "white",
           "lakecolor": "white",
           "landcolor": "#E5ECF6",
           "showlakes": true,
           "showland": true,
           "subunitcolor": "white"
          },
          "hoverlabel": {
           "align": "left"
          },
          "hovermode": "closest",
          "mapbox": {
           "style": "light"
          },
          "paper_bgcolor": "white",
          "plot_bgcolor": "#E5ECF6",
          "polar": {
           "angularaxis": {
            "gridcolor": "white",
            "linecolor": "white",
            "ticks": ""
           },
           "bgcolor": "#E5ECF6",
           "radialaxis": {
            "gridcolor": "white",
            "linecolor": "white",
            "ticks": ""
           }
          },
          "scene": {
           "xaxis": {
            "backgroundcolor": "#E5ECF6",
            "gridcolor": "white",
            "gridwidth": 2,
            "linecolor": "white",
            "showbackground": true,
            "ticks": "",
            "zerolinecolor": "white"
           },
           "yaxis": {
            "backgroundcolor": "#E5ECF6",
            "gridcolor": "white",
            "gridwidth": 2,
            "linecolor": "white",
            "showbackground": true,
            "ticks": "",
            "zerolinecolor": "white"
           },
           "zaxis": {
            "backgroundcolor": "#E5ECF6",
            "gridcolor": "white",
            "gridwidth": 2,
            "linecolor": "white",
            "showbackground": true,
            "ticks": "",
            "zerolinecolor": "white"
           }
          },
          "shapedefaults": {
           "line": {
            "color": "#2a3f5f"
           }
          },
          "ternary": {
           "aaxis": {
            "gridcolor": "white",
            "linecolor": "white",
            "ticks": ""
           },
           "baxis": {
            "gridcolor": "white",
            "linecolor": "white",
            "ticks": ""
           },
           "bgcolor": "#E5ECF6",
           "caxis": {
            "gridcolor": "white",
            "linecolor": "white",
            "ticks": ""
           }
          },
          "title": {
           "x": 0.05
          },
          "xaxis": {
           "automargin": true,
           "gridcolor": "white",
           "linecolor": "white",
           "ticks": "",
           "title": {
            "standoff": 15
           },
           "zerolinecolor": "white",
           "zerolinewidth": 2
          },
          "yaxis": {
           "automargin": true,
           "gridcolor": "white",
           "linecolor": "white",
           "ticks": "",
           "title": {
            "standoff": 15
           },
           "zerolinecolor": "white",
           "zerolinewidth": 2
          }
         }
        },
        "title": {
         "text": "Semantic Expansion over Writing Sessions<br><span style=\"font-size: 12px;\">*Measuring how well humans are learning while writing with GenAI</span>"
        },
        "width": 1600,
        "xaxis": {
         "anchor": "y",
         "domain": [
          0,
          1
         ],
         "gridcolor": "white",
         "linecolor": "black",
         "mirror": false,
         "range": [
          -1,
          44
         ],
         "showline": true,
         "ticks": "outside",
         "title": {
          "text": "Progress into the writing session"
         }
        },
        "yaxis": {
         "anchor": "x",
         "domain": [
          0,
          1
         ],
         "gridcolor": "white",
         "linecolor": "black",
         "mirror": false,
         "showline": true,
         "ticks": "outside",
         "title": {
          "text": "Scores"
         }
        }
       }
      }
     },
     "metadata": {},
     "output_type": "display_data"
    },
    {
     "name": "stdout",
     "output_type": "stream",
     "text": [
      "legislation_corporate_2\n"
     ]
    },
    {
     "data": {
      "application/vnd.plotly.v1+json": {
       "config": {
        "plotlyServerURL": "https://plot.ly"
       },
       "data": [
        {
         "line": {
          "color": "#64B5F6",
          "width": 2
         },
         "mode": "lines",
         "name": "human_insert_backstage",
         "showlegend": true,
         "type": "scatter",
         "x": [
          null
         ],
         "xaxis": "x",
         "y": [
          null
         ],
         "yaxis": "y"
        },
        {
         "line": {
          "color": "#ff8fab",
          "width": 2
         },
         "mode": "lines",
         "name": "ai_suggest_backstage",
         "showlegend": true,
         "type": "scatter",
         "x": [
          null
         ],
         "xaxis": "x",
         "y": [
          null
         ],
         "yaxis": "y"
        },
        {
         "line": {
          "color": "#023e8a",
          "width": 2
         },
         "mode": "lines",
         "name": "human_insert_frontstage",
         "showlegend": true,
         "type": "scatter",
         "x": [
          null
         ],
         "xaxis": "x",
         "y": [
          null
         ],
         "yaxis": "y"
        },
        {
         "line": {
          "color": "#c1121f",
          "width": 2
         },
         "mode": "lines",
         "name": "ai_insert_moved_to_frontstage",
         "showlegend": true,
         "type": "scatter",
         "x": [
          null
         ],
         "xaxis": "x",
         "y": [
          null
         ],
         "yaxis": "y"
        },
        {
         "line": {
          "color": "#9d4edd",
          "width": 2
         },
         "mode": "lines",
         "name": "human_delete_frontstage",
         "showlegend": true,
         "type": "scatter",
         "x": [
          null
         ],
         "xaxis": "x",
         "y": [
          null
         ],
         "yaxis": "y"
        },
        {
         "line": {
          "color": "#5a189a",
          "width": 2
         },
         "mode": "lines",
         "name": "human_insert_edit_frontstage",
         "showlegend": true,
         "type": "scatter",
         "x": [
          null
         ],
         "xaxis": "x",
         "y": [
          null
         ],
         "yaxis": "y"
        }
       ],
       "layout": {
        "annotations": [
         {
          "font": {
           "size": 16
          },
          "showarrow": false,
          "text": "Session: legislation_corporate_2",
          "x": 0.5,
          "xanchor": "center",
          "xref": "paper",
          "y": 1,
          "yanchor": "bottom",
          "yref": "paper"
         }
        ],
        "height": 500,
        "legend": {
         "title": {
          "font": {
           "color": "rgba(0, 0, 0, 0)"
          }
         }
        },
        "plot_bgcolor": "white",
        "shapes": [
         {
          "line": {
           "color": "#64B5F6",
           "width": 2
          },
          "type": "line",
          "x0": 0,
          "x1": 0,
          "xref": "x",
          "y0": 0,
          "y1": 0.35830891132354736,
          "yref": "y"
         },
         {
          "line": {
           "color": "#64B5F6",
           "width": 2
          },
          "type": "line",
          "x0": 8,
          "x1": 9,
          "xref": "x",
          "y0": 1.2714566588401794,
          "y1": 0.2037995457649231,
          "yref": "y"
         },
         {
          "line": {
           "color": "#64B5F6",
           "width": 2
          },
          "type": "line",
          "x0": 12,
          "x1": 13,
          "xref": "x",
          "y0": 1.5691365003585815,
          "y1": 1.9002171158790588,
          "yref": "y"
         },
         {
          "line": {
           "color": "#64B5F6",
           "width": 2
          },
          "type": "line",
          "x0": 24,
          "x1": 25,
          "xref": "x",
          "y0": 4.343162417411804,
          "y1": 4.460585296154022,
          "yref": "y"
         },
         {
          "line": {
           "color": "#64B5F6",
           "width": 2
          },
          "type": "line",
          "x0": 51,
          "x1": 52,
          "xref": "x",
          "y0": 10.231234848499298,
          "y1": 10.546854019165039,
          "yref": "y"
         },
         {
          "line": {
           "color": "#ff8fab",
           "width": 2
          },
          "type": "line",
          "x0": 0,
          "x1": 1,
          "xref": "x",
          "y0": 0.35830891132354736,
          "y1": 0.6755919694900513,
          "yref": "y"
         },
         {
          "line": {
           "color": "#ff8fab",
           "width": 2
          },
          "type": "line",
          "x0": 2,
          "x1": 3,
          "xref": "x",
          "y0": 0.1593245267868042,
          "y1": 0.5036605954170227,
          "yref": "y"
         },
         {
          "line": {
           "color": "#ff8fab",
           "width": 2
          },
          "type": "line",
          "x0": 4,
          "x1": 5,
          "xref": "x",
          "y0": 0.3837496042251587,
          "y1": 0.7060006976127624,
          "yref": "y"
         },
         {
          "line": {
           "color": "#ff8fab",
           "width": 2
          },
          "type": "line",
          "x0": 9,
          "x1": 10,
          "xref": "x",
          "y0": 0.2037995457649231,
          "y1": 0.5118272542953491,
          "yref": "y"
         },
         {
          "line": {
           "color": "#ff8fab",
           "width": 2
          },
          "type": "line",
          "x0": 13,
          "x1": 14,
          "xref": "x",
          "y0": 1.9002171158790588,
          "y1": 2.1835649251937865,
          "yref": "y"
         },
         {
          "line": {
           "color": "#ff8fab",
           "width": 2
          },
          "type": "line",
          "x0": 22,
          "x1": 23,
          "xref": "x",
          "y0": 4.59516054391861,
          "y1": 5.119952714443206,
          "yref": "y"
         },
         {
          "line": {
           "color": "#ff8fab",
           "width": 2
          },
          "type": "line",
          "x0": 25,
          "x1": 26,
          "xref": "x",
          "y0": 4.460585296154022,
          "y1": 4.690651631355285,
          "yref": "y"
         },
         {
          "line": {
           "color": "#ff8fab",
           "width": 2
          },
          "type": "line",
          "x0": 28,
          "x1": 29,
          "xref": "x",
          "y0": 4.901678502559662,
          "y1": 5.33091756105423,
          "yref": "y"
         },
         {
          "line": {
           "color": "#ff8fab",
           "width": 2
          },
          "type": "line",
          "x0": 32,
          "x1": 33,
          "xref": "x",
          "y0": 5.8922988176345825,
          "y1": 6.334326112270356,
          "yref": "y"
         },
         {
          "line": {
           "color": "#ff8fab",
           "width": 2
          },
          "type": "line",
          "x0": 34,
          "x1": 35,
          "xref": "x",
          "y0": 6.114866077899933,
          "y1": 6.449674034118653,
          "yref": "y"
         },
         {
          "line": {
           "color": "#ff8fab",
           "width": 2
          },
          "type": "line",
          "x0": 38,
          "x1": 39,
          "xref": "x",
          "y0": 7.010249316692352,
          "y1": 7.368689227104187,
          "yref": "y"
         },
         {
          "line": {
           "color": "#ff8fab",
           "width": 2
          },
          "type": "line",
          "x0": 40,
          "x1": 41,
          "xref": "x",
          "y0": 7.378208339214325,
          "y1": 7.889946365356446,
          "yref": "y"
         },
         {
          "line": {
           "color": "#ff8fab",
           "width": 2
          },
          "type": "line",
          "x0": 49,
          "x1": 50,
          "xref": "x",
          "y0": 10.176807284355164,
          "y1": 10.660011899471282,
          "yref": "y"
         },
         {
          "line": {
           "color": "#ff8fab",
           "width": 2
          },
          "type": "line",
          "x0": 52,
          "x1": 53,
          "xref": "x",
          "y0": 10.546854019165039,
          "y1": 10.847830069065093,
          "yref": "y"
         },
         {
          "line": {
           "color": "#ff8fab",
           "width": 2
          },
          "type": "line",
          "x0": 53,
          "x1": 54,
          "xref": "x",
          "y0": 10.847830069065093,
          "y1": 11.159227919578552,
          "yref": "y"
         },
         {
          "line": {
           "color": "#ff8fab",
           "width": 2
          },
          "type": "line",
          "x0": 54,
          "x1": 55,
          "xref": "x",
          "y0": 11.159227919578552,
          "y1": 11.49033601284027,
          "yref": "y"
         },
         {
          "line": {
           "color": "#023e8a",
           "width": 2
          },
          "type": "line",
          "x0": 1,
          "x1": 2,
          "xref": "x",
          "y0": 0,
          "y1": 0.1593245267868042,
          "yref": "y"
         },
         {
          "line": {
           "color": "#023e8a",
           "width": 2
          },
          "type": "line",
          "x0": 3,
          "x1": 4,
          "xref": "x",
          "y0": 0.1593245267868042,
          "y1": 0.3837496042251587,
          "yref": "y"
         },
         {
          "line": {
           "color": "#023e8a",
           "width": 2
          },
          "type": "line",
          "x0": 6,
          "x1": 7,
          "xref": "x",
          "y0": 0.7153907418251038,
          "y1": 0.9482535719871521,
          "yref": "y"
         },
         {
          "line": {
           "color": "#023e8a",
           "width": 2
          },
          "type": "line",
          "x0": 7,
          "x1": 8,
          "xref": "x",
          "y0": 0.9482535719871521,
          "y1": 1.2714566588401794,
          "yref": "y"
         },
         {
          "line": {
           "color": "#023e8a",
           "width": 2
          },
          "type": "line",
          "x0": 15,
          "x1": 16,
          "xref": "x",
          "y0": 1.8473795056343079,
          "y1": 2.1769766211509705,
          "yref": "y"
         },
         {
          "line": {
           "color": "#023e8a",
           "width": 2
          },
          "type": "line",
          "x0": 16,
          "x1": 17,
          "xref": "x",
          "y0": 2.1769766211509705,
          "y1": 2.4472842812538147,
          "yref": "y"
         },
         {
          "line": {
           "color": "#023e8a",
           "width": 2
          },
          "type": "line",
          "x0": 17,
          "x1": 18,
          "xref": "x",
          "y0": 2.4472842812538147,
          "y1": 2.762407898902893,
          "yref": "y"
         },
         {
          "line": {
           "color": "#023e8a",
           "width": 2
          },
          "type": "line",
          "x0": 18,
          "x1": 19,
          "xref": "x",
          "y0": 2.762407898902893,
          "y1": 3.1389265060424805,
          "yref": "y"
         },
         {
          "line": {
           "color": "#023e8a",
           "width": 2
          },
          "type": "line",
          "x0": 19,
          "x1": 20,
          "xref": "x",
          "y0": 3.1389265060424805,
          "y1": 3.519180715084076,
          "yref": "y"
         },
         {
          "line": {
           "color": "#023e8a",
           "width": 2
          },
          "type": "line",
          "x0": 20,
          "x1": 21,
          "xref": "x",
          "y0": 3.519180715084076,
          "y1": 3.8339297771453857,
          "yref": "y"
         },
         {
          "line": {
           "color": "#023e8a",
           "width": 2
          },
          "type": "line",
          "x0": 21,
          "x1": 22,
          "xref": "x",
          "y0": 3.8339297771453857,
          "y1": 4.59516054391861,
          "yref": "y"
         },
         {
          "line": {
           "color": "#023e8a",
           "width": 2
          },
          "type": "line",
          "x0": 27,
          "x1": 28,
          "xref": "x",
          "y0": 4.585979700088501,
          "y1": 4.901678502559662,
          "yref": "y"
         },
         {
          "line": {
           "color": "#023e8a",
           "width": 2
          },
          "type": "line",
          "x0": 30,
          "x1": 31,
          "xref": "x",
          "y0": 5.36054790019989,
          "y1": 5.6676687598228455,
          "yref": "y"
         },
         {
          "line": {
           "color": "#023e8a",
           "width": 2
          },
          "type": "line",
          "x0": 31,
          "x1": 32,
          "xref": "x",
          "y0": 5.6676687598228455,
          "y1": 5.8922988176345825,
          "yref": "y"
         },
         {
          "line": {
           "color": "#023e8a",
           "width": 2
          },
          "type": "line",
          "x0": 33,
          "x1": 34,
          "xref": "x",
          "y0": 5.8922988176345825,
          "y1": 6.114866077899933,
          "yref": "y"
         },
         {
          "line": {
           "color": "#023e8a",
           "width": 2
          },
          "type": "line",
          "x0": 35,
          "x1": 36,
          "xref": "x",
          "y0": 6.114866077899933,
          "y1": 6.268849730491638,
          "yref": "y"
         },
         {
          "line": {
           "color": "#023e8a",
           "width": 2
          },
          "type": "line",
          "x0": 36,
          "x1": 37,
          "xref": "x",
          "y0": 6.268849730491638,
          "y1": 6.309261918067932,
          "yref": "y"
         },
         {
          "line": {
           "color": "#023e8a",
           "width": 2
          },
          "type": "line",
          "x0": 37,
          "x1": 38,
          "xref": "x",
          "y0": 6.309261918067932,
          "y1": 7.010249316692352,
          "yref": "y"
         },
         {
          "line": {
           "color": "#023e8a",
           "width": 2
          },
          "type": "line",
          "x0": 39,
          "x1": 40,
          "xref": "x",
          "y0": 7.010249316692352,
          "y1": 7.378208339214325,
          "yref": "y"
         },
         {
          "line": {
           "color": "#023e8a",
           "width": 2
          },
          "type": "line",
          "x0": 42,
          "x1": 43,
          "xref": "x",
          "y0": 7.485100090503693,
          "y1": 7.959950864315033,
          "yref": "y"
         },
         {
          "line": {
           "color": "#023e8a",
           "width": 2
          },
          "type": "line",
          "x0": 43,
          "x1": 44,
          "xref": "x",
          "y0": 7.959950864315033,
          "y1": 8.345611870288849,
          "yref": "y"
         },
         {
          "line": {
           "color": "#023e8a",
           "width": 2
          },
          "type": "line",
          "x0": 44,
          "x1": 45,
          "xref": "x",
          "y0": 8.345611870288849,
          "y1": 8.69520479440689,
          "yref": "y"
         },
         {
          "line": {
           "color": "#023e8a",
           "width": 2
          },
          "type": "line",
          "x0": 45,
          "x1": 46,
          "xref": "x",
          "y0": 8.69520479440689,
          "y1": 9.152756750583649,
          "yref": "y"
         },
         {
          "line": {
           "color": "#023e8a",
           "width": 2
          },
          "type": "line",
          "x0": 46,
          "x1": 47,
          "xref": "x",
          "y0": 9.152756750583649,
          "y1": 9.614019513130188,
          "yref": "y"
         },
         {
          "line": {
           "color": "#023e8a",
           "width": 2
          },
          "type": "line",
          "x0": 47,
          "x1": 48,
          "xref": "x",
          "y0": 9.614019513130188,
          "y1": 9.917812824249268,
          "yref": "y"
         },
         {
          "line": {
           "color": "#023e8a",
           "width": 2
          },
          "type": "line",
          "x0": 48,
          "x1": 49,
          "xref": "x",
          "y0": 9.917812824249268,
          "y1": 10.176807284355164,
          "yref": "y"
         },
         {
          "line": {
           "color": "#c1121f",
           "width": 2
          },
          "type": "line",
          "x0": 5,
          "x1": 6,
          "xref": "x",
          "y0": 0.3837496042251587,
          "y1": 0.7153907418251038,
          "yref": "y"
         },
         {
          "line": {
           "color": "#c1121f",
           "width": 2
          },
          "type": "line",
          "x0": 14,
          "x1": 15,
          "xref": "x",
          "y0": 1.5691365003585815,
          "y1": 1.8473795056343079,
          "yref": "y"
         },
         {
          "line": {
           "color": "#c1121f",
           "width": 2
          },
          "type": "line",
          "x0": 23,
          "x1": 24,
          "xref": "x",
          "y0": 4.59516054391861,
          "y1": 4.343162417411804,
          "yref": "y"
         },
         {
          "line": {
           "color": "#c1121f",
           "width": 2
          },
          "type": "line",
          "x0": 26,
          "x1": 27,
          "xref": "x",
          "y0": 4.343162417411804,
          "y1": 4.585979700088501,
          "yref": "y"
         },
         {
          "line": {
           "color": "#c1121f",
           "width": 2
          },
          "type": "line",
          "x0": 29,
          "x1": 30,
          "xref": "x",
          "y0": 4.901678502559662,
          "y1": 5.36054790019989,
          "yref": "y"
         },
         {
          "line": {
           "color": "#c1121f",
           "width": 2
          },
          "type": "line",
          "x0": 41,
          "x1": 42,
          "xref": "x",
          "y0": 7.378208339214325,
          "y1": 7.485100090503693,
          "yref": "y"
         },
         {
          "line": {
           "color": "#c1121f",
           "width": 2
          },
          "type": "line",
          "x0": 50,
          "x1": 51,
          "xref": "x",
          "y0": 10.176807284355164,
          "y1": 10.231234848499298,
          "yref": "y"
         },
         {
          "line": {
           "color": "#9d4edd",
           "width": 2
          },
          "type": "line",
          "x0": 10,
          "x1": 11,
          "xref": "x",
          "y0": 1.2714566588401794,
          "y1": 1.563348650932312,
          "yref": "y"
         },
         {
          "line": {
           "color": "#9d4edd",
           "width": 2
          },
          "type": "line",
          "x0": 11,
          "x1": 12,
          "xref": "x",
          "y0": 1.563348650932312,
          "y1": 1.5691365003585815,
          "yref": "y"
         },
         {
          "line": {
           "color": "#9d4edd",
           "width": 2
          },
          "type": "line",
          "x0": 55,
          "x1": 56,
          "xref": "x",
          "y0": 10.231234848499298,
          "y1": 10.231234848499298,
          "yref": "y"
         }
        ],
        "showlegend": true,
        "template": {
         "data": {
          "bar": [
           {
            "error_x": {
             "color": "#2a3f5f"
            },
            "error_y": {
             "color": "#2a3f5f"
            },
            "marker": {
             "line": {
              "color": "#E5ECF6",
              "width": 0.5
             },
             "pattern": {
              "fillmode": "overlay",
              "size": 10,
              "solidity": 0.2
             }
            },
            "type": "bar"
           }
          ],
          "barpolar": [
           {
            "marker": {
             "line": {
              "color": "#E5ECF6",
              "width": 0.5
             },
             "pattern": {
              "fillmode": "overlay",
              "size": 10,
              "solidity": 0.2
             }
            },
            "type": "barpolar"
           }
          ],
          "carpet": [
           {
            "aaxis": {
             "endlinecolor": "#2a3f5f",
             "gridcolor": "white",
             "linecolor": "white",
             "minorgridcolor": "white",
             "startlinecolor": "#2a3f5f"
            },
            "baxis": {
             "endlinecolor": "#2a3f5f",
             "gridcolor": "white",
             "linecolor": "white",
             "minorgridcolor": "white",
             "startlinecolor": "#2a3f5f"
            },
            "type": "carpet"
           }
          ],
          "choropleth": [
           {
            "colorbar": {
             "outlinewidth": 0,
             "ticks": ""
            },
            "type": "choropleth"
           }
          ],
          "contour": [
           {
            "colorbar": {
             "outlinewidth": 0,
             "ticks": ""
            },
            "colorscale": [
             [
              0,
              "#0d0887"
             ],
             [
              0.1111111111111111,
              "#46039f"
             ],
             [
              0.2222222222222222,
              "#7201a8"
             ],
             [
              0.3333333333333333,
              "#9c179e"
             ],
             [
              0.4444444444444444,
              "#bd3786"
             ],
             [
              0.5555555555555556,
              "#d8576b"
             ],
             [
              0.6666666666666666,
              "#ed7953"
             ],
             [
              0.7777777777777778,
              "#fb9f3a"
             ],
             [
              0.8888888888888888,
              "#fdca26"
             ],
             [
              1,
              "#f0f921"
             ]
            ],
            "type": "contour"
           }
          ],
          "contourcarpet": [
           {
            "colorbar": {
             "outlinewidth": 0,
             "ticks": ""
            },
            "type": "contourcarpet"
           }
          ],
          "heatmap": [
           {
            "colorbar": {
             "outlinewidth": 0,
             "ticks": ""
            },
            "colorscale": [
             [
              0,
              "#0d0887"
             ],
             [
              0.1111111111111111,
              "#46039f"
             ],
             [
              0.2222222222222222,
              "#7201a8"
             ],
             [
              0.3333333333333333,
              "#9c179e"
             ],
             [
              0.4444444444444444,
              "#bd3786"
             ],
             [
              0.5555555555555556,
              "#d8576b"
             ],
             [
              0.6666666666666666,
              "#ed7953"
             ],
             [
              0.7777777777777778,
              "#fb9f3a"
             ],
             [
              0.8888888888888888,
              "#fdca26"
             ],
             [
              1,
              "#f0f921"
             ]
            ],
            "type": "heatmap"
           }
          ],
          "histogram": [
           {
            "marker": {
             "pattern": {
              "fillmode": "overlay",
              "size": 10,
              "solidity": 0.2
             }
            },
            "type": "histogram"
           }
          ],
          "histogram2d": [
           {
            "colorbar": {
             "outlinewidth": 0,
             "ticks": ""
            },
            "colorscale": [
             [
              0,
              "#0d0887"
             ],
             [
              0.1111111111111111,
              "#46039f"
             ],
             [
              0.2222222222222222,
              "#7201a8"
             ],
             [
              0.3333333333333333,
              "#9c179e"
             ],
             [
              0.4444444444444444,
              "#bd3786"
             ],
             [
              0.5555555555555556,
              "#d8576b"
             ],
             [
              0.6666666666666666,
              "#ed7953"
             ],
             [
              0.7777777777777778,
              "#fb9f3a"
             ],
             [
              0.8888888888888888,
              "#fdca26"
             ],
             [
              1,
              "#f0f921"
             ]
            ],
            "type": "histogram2d"
           }
          ],
          "histogram2dcontour": [
           {
            "colorbar": {
             "outlinewidth": 0,
             "ticks": ""
            },
            "colorscale": [
             [
              0,
              "#0d0887"
             ],
             [
              0.1111111111111111,
              "#46039f"
             ],
             [
              0.2222222222222222,
              "#7201a8"
             ],
             [
              0.3333333333333333,
              "#9c179e"
             ],
             [
              0.4444444444444444,
              "#bd3786"
             ],
             [
              0.5555555555555556,
              "#d8576b"
             ],
             [
              0.6666666666666666,
              "#ed7953"
             ],
             [
              0.7777777777777778,
              "#fb9f3a"
             ],
             [
              0.8888888888888888,
              "#fdca26"
             ],
             [
              1,
              "#f0f921"
             ]
            ],
            "type": "histogram2dcontour"
           }
          ],
          "mesh3d": [
           {
            "colorbar": {
             "outlinewidth": 0,
             "ticks": ""
            },
            "type": "mesh3d"
           }
          ],
          "parcoords": [
           {
            "line": {
             "colorbar": {
              "outlinewidth": 0,
              "ticks": ""
             }
            },
            "type": "parcoords"
           }
          ],
          "pie": [
           {
            "automargin": true,
            "type": "pie"
           }
          ],
          "scatter": [
           {
            "fillpattern": {
             "fillmode": "overlay",
             "size": 10,
             "solidity": 0.2
            },
            "type": "scatter"
           }
          ],
          "scatter3d": [
           {
            "line": {
             "colorbar": {
              "outlinewidth": 0,
              "ticks": ""
             }
            },
            "marker": {
             "colorbar": {
              "outlinewidth": 0,
              "ticks": ""
             }
            },
            "type": "scatter3d"
           }
          ],
          "scattercarpet": [
           {
            "marker": {
             "colorbar": {
              "outlinewidth": 0,
              "ticks": ""
             }
            },
            "type": "scattercarpet"
           }
          ],
          "scattergeo": [
           {
            "marker": {
             "colorbar": {
              "outlinewidth": 0,
              "ticks": ""
             }
            },
            "type": "scattergeo"
           }
          ],
          "scattergl": [
           {
            "marker": {
             "colorbar": {
              "outlinewidth": 0,
              "ticks": ""
             }
            },
            "type": "scattergl"
           }
          ],
          "scattermap": [
           {
            "marker": {
             "colorbar": {
              "outlinewidth": 0,
              "ticks": ""
             }
            },
            "type": "scattermap"
           }
          ],
          "scattermapbox": [
           {
            "marker": {
             "colorbar": {
              "outlinewidth": 0,
              "ticks": ""
             }
            },
            "type": "scattermapbox"
           }
          ],
          "scatterpolar": [
           {
            "marker": {
             "colorbar": {
              "outlinewidth": 0,
              "ticks": ""
             }
            },
            "type": "scatterpolar"
           }
          ],
          "scatterpolargl": [
           {
            "marker": {
             "colorbar": {
              "outlinewidth": 0,
              "ticks": ""
             }
            },
            "type": "scatterpolargl"
           }
          ],
          "scatterternary": [
           {
            "marker": {
             "colorbar": {
              "outlinewidth": 0,
              "ticks": ""
             }
            },
            "type": "scatterternary"
           }
          ],
          "surface": [
           {
            "colorbar": {
             "outlinewidth": 0,
             "ticks": ""
            },
            "colorscale": [
             [
              0,
              "#0d0887"
             ],
             [
              0.1111111111111111,
              "#46039f"
             ],
             [
              0.2222222222222222,
              "#7201a8"
             ],
             [
              0.3333333333333333,
              "#9c179e"
             ],
             [
              0.4444444444444444,
              "#bd3786"
             ],
             [
              0.5555555555555556,
              "#d8576b"
             ],
             [
              0.6666666666666666,
              "#ed7953"
             ],
             [
              0.7777777777777778,
              "#fb9f3a"
             ],
             [
              0.8888888888888888,
              "#fdca26"
             ],
             [
              1,
              "#f0f921"
             ]
            ],
            "type": "surface"
           }
          ],
          "table": [
           {
            "cells": {
             "fill": {
              "color": "#EBF0F8"
             },
             "line": {
              "color": "white"
             }
            },
            "header": {
             "fill": {
              "color": "#C8D4E3"
             },
             "line": {
              "color": "white"
             }
            },
            "type": "table"
           }
          ]
         },
         "layout": {
          "annotationdefaults": {
           "arrowcolor": "#2a3f5f",
           "arrowhead": 0,
           "arrowwidth": 1
          },
          "autotypenumbers": "strict",
          "coloraxis": {
           "colorbar": {
            "outlinewidth": 0,
            "ticks": ""
           }
          },
          "colorscale": {
           "diverging": [
            [
             0,
             "#8e0152"
            ],
            [
             0.1,
             "#c51b7d"
            ],
            [
             0.2,
             "#de77ae"
            ],
            [
             0.3,
             "#f1b6da"
            ],
            [
             0.4,
             "#fde0ef"
            ],
            [
             0.5,
             "#f7f7f7"
            ],
            [
             0.6,
             "#e6f5d0"
            ],
            [
             0.7,
             "#b8e186"
            ],
            [
             0.8,
             "#7fbc41"
            ],
            [
             0.9,
             "#4d9221"
            ],
            [
             1,
             "#276419"
            ]
           ],
           "sequential": [
            [
             0,
             "#0d0887"
            ],
            [
             0.1111111111111111,
             "#46039f"
            ],
            [
             0.2222222222222222,
             "#7201a8"
            ],
            [
             0.3333333333333333,
             "#9c179e"
            ],
            [
             0.4444444444444444,
             "#bd3786"
            ],
            [
             0.5555555555555556,
             "#d8576b"
            ],
            [
             0.6666666666666666,
             "#ed7953"
            ],
            [
             0.7777777777777778,
             "#fb9f3a"
            ],
            [
             0.8888888888888888,
             "#fdca26"
            ],
            [
             1,
             "#f0f921"
            ]
           ],
           "sequentialminus": [
            [
             0,
             "#0d0887"
            ],
            [
             0.1111111111111111,
             "#46039f"
            ],
            [
             0.2222222222222222,
             "#7201a8"
            ],
            [
             0.3333333333333333,
             "#9c179e"
            ],
            [
             0.4444444444444444,
             "#bd3786"
            ],
            [
             0.5555555555555556,
             "#d8576b"
            ],
            [
             0.6666666666666666,
             "#ed7953"
            ],
            [
             0.7777777777777778,
             "#fb9f3a"
            ],
            [
             0.8888888888888888,
             "#fdca26"
            ],
            [
             1,
             "#f0f921"
            ]
           ]
          },
          "colorway": [
           "#636efa",
           "#EF553B",
           "#00cc96",
           "#ab63fa",
           "#FFA15A",
           "#19d3f3",
           "#FF6692",
           "#B6E880",
           "#FF97FF",
           "#FECB52"
          ],
          "font": {
           "color": "#2a3f5f"
          },
          "geo": {
           "bgcolor": "white",
           "lakecolor": "white",
           "landcolor": "#E5ECF6",
           "showlakes": true,
           "showland": true,
           "subunitcolor": "white"
          },
          "hoverlabel": {
           "align": "left"
          },
          "hovermode": "closest",
          "mapbox": {
           "style": "light"
          },
          "paper_bgcolor": "white",
          "plot_bgcolor": "#E5ECF6",
          "polar": {
           "angularaxis": {
            "gridcolor": "white",
            "linecolor": "white",
            "ticks": ""
           },
           "bgcolor": "#E5ECF6",
           "radialaxis": {
            "gridcolor": "white",
            "linecolor": "white",
            "ticks": ""
           }
          },
          "scene": {
           "xaxis": {
            "backgroundcolor": "#E5ECF6",
            "gridcolor": "white",
            "gridwidth": 2,
            "linecolor": "white",
            "showbackground": true,
            "ticks": "",
            "zerolinecolor": "white"
           },
           "yaxis": {
            "backgroundcolor": "#E5ECF6",
            "gridcolor": "white",
            "gridwidth": 2,
            "linecolor": "white",
            "showbackground": true,
            "ticks": "",
            "zerolinecolor": "white"
           },
           "zaxis": {
            "backgroundcolor": "#E5ECF6",
            "gridcolor": "white",
            "gridwidth": 2,
            "linecolor": "white",
            "showbackground": true,
            "ticks": "",
            "zerolinecolor": "white"
           }
          },
          "shapedefaults": {
           "line": {
            "color": "#2a3f5f"
           }
          },
          "ternary": {
           "aaxis": {
            "gridcolor": "white",
            "linecolor": "white",
            "ticks": ""
           },
           "baxis": {
            "gridcolor": "white",
            "linecolor": "white",
            "ticks": ""
           },
           "bgcolor": "#E5ECF6",
           "caxis": {
            "gridcolor": "white",
            "linecolor": "white",
            "ticks": ""
           }
          },
          "title": {
           "x": 0.05
          },
          "xaxis": {
           "automargin": true,
           "gridcolor": "white",
           "linecolor": "white",
           "ticks": "",
           "title": {
            "standoff": 15
           },
           "zerolinecolor": "white",
           "zerolinewidth": 2
          },
          "yaxis": {
           "automargin": true,
           "gridcolor": "white",
           "linecolor": "white",
           "ticks": "",
           "title": {
            "standoff": 15
           },
           "zerolinecolor": "white",
           "zerolinewidth": 2
          }
         }
        },
        "title": {
         "text": "Semantic Expansion over Writing Sessions<br><span style=\"font-size: 12px;\">*Measuring how well humans are learning while writing with GenAI</span>"
        },
        "width": 1600,
        "xaxis": {
         "anchor": "y",
         "domain": [
          0,
          1
         ],
         "gridcolor": "white",
         "linecolor": "black",
         "mirror": false,
         "range": [
          -1,
          57
         ],
         "showline": true,
         "ticks": "outside",
         "title": {
          "text": "Progress into the writing session"
         }
        },
        "yaxis": {
         "anchor": "x",
         "domain": [
          0,
          1
         ],
         "gridcolor": "white",
         "linecolor": "black",
         "mirror": false,
         "showline": true,
         "ticks": "outside",
         "title": {
          "text": "Scores"
         }
        }
       }
      }
     },
     "metadata": {},
     "output_type": "display_data"
    },
    {
     "name": "stdout",
     "output_type": "stream",
     "text": [
      "legislation_corporate_3\n"
     ]
    },
    {
     "data": {
      "application/vnd.plotly.v1+json": {
       "config": {
        "plotlyServerURL": "https://plot.ly"
       },
       "data": [
        {
         "line": {
          "color": "#64B5F6",
          "width": 2
         },
         "mode": "lines",
         "name": "human_insert_backstage",
         "showlegend": true,
         "type": "scatter",
         "x": [
          null
         ],
         "xaxis": "x",
         "y": [
          null
         ],
         "yaxis": "y"
        },
        {
         "line": {
          "color": "#ff8fab",
          "width": 2
         },
         "mode": "lines",
         "name": "ai_suggest_backstage",
         "showlegend": true,
         "type": "scatter",
         "x": [
          null
         ],
         "xaxis": "x",
         "y": [
          null
         ],
         "yaxis": "y"
        },
        {
         "line": {
          "color": "#023e8a",
          "width": 2
         },
         "mode": "lines",
         "name": "human_insert_frontstage",
         "showlegend": true,
         "type": "scatter",
         "x": [
          null
         ],
         "xaxis": "x",
         "y": [
          null
         ],
         "yaxis": "y"
        },
        {
         "line": {
          "color": "#c1121f",
          "width": 2
         },
         "mode": "lines",
         "name": "ai_insert_moved_to_frontstage",
         "showlegend": true,
         "type": "scatter",
         "x": [
          null
         ],
         "xaxis": "x",
         "y": [
          null
         ],
         "yaxis": "y"
        },
        {
         "line": {
          "color": "#9d4edd",
          "width": 2
         },
         "mode": "lines",
         "name": "human_delete_frontstage",
         "showlegend": true,
         "type": "scatter",
         "x": [
          null
         ],
         "xaxis": "x",
         "y": [
          null
         ],
         "yaxis": "y"
        },
        {
         "line": {
          "color": "#5a189a",
          "width": 2
         },
         "mode": "lines",
         "name": "human_insert_edit_frontstage",
         "showlegend": true,
         "type": "scatter",
         "x": [
          null
         ],
         "xaxis": "x",
         "y": [
          null
         ],
         "yaxis": "y"
        }
       ],
       "layout": {
        "annotations": [
         {
          "font": {
           "size": 16
          },
          "showarrow": false,
          "text": "Session: legislation_corporate_3",
          "x": 0.5,
          "xanchor": "center",
          "xref": "paper",
          "y": 1,
          "yanchor": "bottom",
          "yref": "paper"
         }
        ],
        "height": 500,
        "legend": {
         "title": {
          "font": {
           "color": "rgba(0, 0, 0, 0)"
          }
         }
        },
        "plot_bgcolor": "white",
        "shapes": [
         {
          "line": {
           "color": "#64B5F6",
           "width": 2
          },
          "type": "line",
          "x0": 0,
          "x1": 0,
          "xref": "x",
          "y0": 0,
          "y1": 0.25069308280944824,
          "yref": "y"
         },
         {
          "line": {
           "color": "#64B5F6",
           "width": 2
          },
          "type": "line",
          "x0": 10,
          "x1": 11,
          "xref": "x",
          "y0": 1.2903116345405579,
          "y1": 1.5301942825317383,
          "yref": "y"
         },
         {
          "line": {
           "color": "#64B5F6",
           "width": 2
          },
          "type": "line",
          "x0": 13,
          "x1": 14,
          "xref": "x",
          "y0": 1.5798320174217224,
          "y1": 2.4060184955596924,
          "yref": "y"
         },
         {
          "line": {
           "color": "#64B5F6",
           "width": 2
          },
          "type": "line",
          "x0": 24,
          "x1": 25,
          "xref": "x",
          "y0": 5.360933840274811,
          "y1": 3.687796652317047,
          "yref": "y"
         },
         {
          "line": {
           "color": "#64B5F6",
           "width": 2
          },
          "type": "line",
          "x0": 30,
          "x1": 31,
          "xref": "x",
          "y0": 6.918320369720459,
          "y1": 7.215571475028992,
          "yref": "y"
         },
         {
          "line": {
           "color": "#64B5F6",
           "width": 2
          },
          "type": "line",
          "x0": 37,
          "x1": 38,
          "xref": "x",
          "y0": 6.794627785682678,
          "y1": 7.145213484764099,
          "yref": "y"
         },
         {
          "line": {
           "color": "#64B5F6",
           "width": 2
          },
          "type": "line",
          "x0": 42,
          "x1": 43,
          "xref": "x",
          "y0": 7.070978879928589,
          "y1": 7.778958082199097,
          "yref": "y"
         },
         {
          "line": {
           "color": "#64B5F6",
           "width": 2
          },
          "type": "line",
          "x0": 54,
          "x1": 55,
          "xref": "x",
          "y0": 10.521749353408813,
          "y1": 10.773170447349548,
          "yref": "y"
         },
         {
          "line": {
           "color": "#ff8fab",
           "width": 2
          },
          "type": "line",
          "x0": 0,
          "x1": 1,
          "xref": "x",
          "y0": 0.25069308280944824,
          "y1": 0.5851143836975098,
          "yref": "y"
         },
         {
          "line": {
           "color": "#ff8fab",
           "width": 2
          },
          "type": "line",
          "x0": 3,
          "x1": 4,
          "xref": "x",
          "y0": 0.2879375219345093,
          "y1": 0.6369457006454468,
          "yref": "y"
         },
         {
          "line": {
           "color": "#ff8fab",
           "width": 2
          },
          "type": "line",
          "x0": 7,
          "x1": 8,
          "xref": "x",
          "y0": 1.1424828171730042,
          "y1": 1.4956966519355774,
          "yref": "y"
         },
         {
          "line": {
           "color": "#ff8fab",
           "width": 2
          },
          "type": "line",
          "x0": 11,
          "x1": 12,
          "xref": "x",
          "y0": 1.5301942825317383,
          "y1": 1.7959094285964965,
          "yref": "y"
         },
         {
          "line": {
           "color": "#ff8fab",
           "width": 2
          },
          "type": "line",
          "x0": 14,
          "x1": 15,
          "xref": "x",
          "y0": 2.4060184955596924,
          "y1": 2.7843673825263977,
          "yref": "y"
         },
         {
          "line": {
           "color": "#ff8fab",
           "width": 2
          },
          "type": "line",
          "x0": 18,
          "x1": 19,
          "xref": "x",
          "y0": 4.055253088474274,
          "y1": 4.57669061422348,
          "yref": "y"
         },
         {
          "line": {
           "color": "#ff8fab",
           "width": 2
          },
          "type": "line",
          "x0": 21,
          "x1": 22,
          "xref": "x",
          "y0": 5.042564868927002,
          "y1": 5.529638123512268,
          "yref": "y"
         },
         {
          "line": {
           "color": "#ff8fab",
           "width": 2
          },
          "type": "line",
          "x0": 25,
          "x1": 26,
          "xref": "x",
          "y0": 3.687796652317047,
          "y1": 4.194531869888306,
          "yref": "y"
         },
         {
          "line": {
           "color": "#ff8fab",
           "width": 2
          },
          "type": "line",
          "x0": 29,
          "x1": 30,
          "xref": "x",
          "y0": 6.538731932640076,
          "y1": 6.918320369720459,
          "yref": "y"
         },
         {
          "line": {
           "color": "#ff8fab",
           "width": 2
          },
          "type": "line",
          "x0": 31,
          "x1": 32,
          "xref": "x",
          "y0": 7.215571475028992,
          "y1": 7.530081009864807,
          "yref": "y"
         },
         {
          "line": {
           "color": "#ff8fab",
           "width": 2
          },
          "type": "line",
          "x0": 33,
          "x1": 34,
          "xref": "x",
          "y0": 6.8633323311805725,
          "y1": 7.349706101417541,
          "yref": "y"
         },
         {
          "line": {
           "color": "#ff8fab",
           "width": 2
          },
          "type": "line",
          "x0": 35,
          "x1": 36,
          "xref": "x",
          "y0": 7.439619719982147,
          "y1": 7.856312167644501,
          "yref": "y"
         },
         {
          "line": {
           "color": "#ff8fab",
           "width": 2
          },
          "type": "line",
          "x0": 39,
          "x1": 40,
          "xref": "x",
          "y0": 7.100167453289032,
          "y1": 7.459607791900635,
          "yref": "y"
         },
         {
          "line": {
           "color": "#ff8fab",
           "width": 2
          },
          "type": "line",
          "x0": 43,
          "x1": 44,
          "xref": "x",
          "y0": 7.778958082199097,
          "y1": 8.453849160671234,
          "yref": "y"
         },
         {
          "line": {
           "color": "#ff8fab",
           "width": 2
          },
          "type": "line",
          "x0": 46,
          "x1": 47,
          "xref": "x",
          "y0": 7.58329051733017,
          "y1": 8.053240823745728,
          "yref": "y"
         },
         {
          "line": {
           "color": "#ff8fab",
           "width": 2
          },
          "type": "line",
          "x0": 50,
          "x1": 51,
          "xref": "x",
          "y0": 8.807971119880676,
          "y1": 9.244319641590119,
          "yref": "y"
         },
         {
          "line": {
           "color": "#ff8fab",
           "width": 2
          },
          "type": "line",
          "x0": 53,
          "x1": 54,
          "xref": "x",
          "y0": 10.090123116970062,
          "y1": 10.521749353408813,
          "yref": "y"
         },
         {
          "line": {
           "color": "#ff8fab",
           "width": 2
          },
          "type": "line",
          "x0": 55,
          "x1": 56,
          "xref": "x",
          "y0": 10.773170447349548,
          "y1": 11.084483790397645,
          "yref": "y"
         },
         {
          "line": {
           "color": "#ff8fab",
           "width": 2
          },
          "type": "line",
          "x0": 64,
          "x1": 65,
          "xref": "x",
          "y0": 13.61912226676941,
          "y1": 13.998035907745361,
          "yref": "y"
         },
         {
          "line": {
           "color": "#ff8fab",
           "width": 2
          },
          "type": "line",
          "x0": 70,
          "x1": 71,
          "xref": "x",
          "y0": 15.929485976696014,
          "y1": 16.409893202781678,
          "yref": "y"
         },
         {
          "line": {
           "color": "#ff8fab",
           "width": 2
          },
          "type": "line",
          "x0": 71,
          "x1": 72,
          "xref": "x",
          "y0": 16.409893202781678,
          "y1": 16.834449124336246,
          "yref": "y"
         },
         {
          "line": {
           "color": "#023e8a",
           "width": 2
          },
          "type": "line",
          "x0": 2,
          "x1": 3,
          "xref": "x",
          "y0": 0,
          "y1": 0.2879375219345093,
          "yref": "y"
         },
         {
          "line": {
           "color": "#023e8a",
           "width": 2
          },
          "type": "line",
          "x0": 5,
          "x1": 6,
          "xref": "x",
          "y0": 0.6963741779327393,
          "y1": 0.9739512801170349,
          "yref": "y"
         },
         {
          "line": {
           "color": "#023e8a",
           "width": 2
          },
          "type": "line",
          "x0": 6,
          "x1": 7,
          "xref": "x",
          "y0": 0.9739512801170349,
          "y1": 1.1424828171730042,
          "yref": "y"
         },
         {
          "line": {
           "color": "#023e8a",
           "width": 2
          },
          "type": "line",
          "x0": 9,
          "x1": 10,
          "xref": "x",
          "y0": 1.1321316957473755,
          "y1": 1.2903116345405579,
          "yref": "y"
         },
         {
          "line": {
           "color": "#023e8a",
           "width": 2
          },
          "type": "line",
          "x0": 16,
          "x1": 17,
          "xref": "x",
          "y0": 2.6832240223884583,
          "y1": 3.475584924221039,
          "yref": "y"
         },
         {
          "line": {
           "color": "#023e8a",
           "width": 2
          },
          "type": "line",
          "x0": 17,
          "x1": 18,
          "xref": "x",
          "y0": 3.475584924221039,
          "y1": 4.055253088474274,
          "yref": "y"
         },
         {
          "line": {
           "color": "#023e8a",
           "width": 2
          },
          "type": "line",
          "x0": 20,
          "x1": 21,
          "xref": "x",
          "y0": 4.54890900850296,
          "y1": 5.042564868927002,
          "yref": "y"
         },
         {
          "line": {
           "color": "#023e8a",
           "width": 2
          },
          "type": "line",
          "x0": 23,
          "x1": 24,
          "xref": "x",
          "y0": 4.9549214243888855,
          "y1": 5.360933840274811,
          "yref": "y"
         },
         {
          "line": {
           "color": "#023e8a",
           "width": 2
          },
          "type": "line",
          "x0": 27,
          "x1": 28,
          "xref": "x",
          "y0": 5.746631383895874,
          "y1": 6.2283653020858765,
          "yref": "y"
         },
         {
          "line": {
           "color": "#023e8a",
           "width": 2
          },
          "type": "line",
          "x0": 28,
          "x1": 29,
          "xref": "x",
          "y0": 6.2283653020858765,
          "y1": 6.538731932640076,
          "yref": "y"
         },
         {
          "line": {
           "color": "#023e8a",
           "width": 2
          },
          "type": "line",
          "x0": 38,
          "x1": 39,
          "xref": "x",
          "y0": 6.794627785682678,
          "y1": 7.100167453289032,
          "yref": "y"
         },
         {
          "line": {
           "color": "#023e8a",
           "width": 2
          },
          "type": "line",
          "x0": 45,
          "x1": 46,
          "xref": "x",
          "y0": 7.172837793827057,
          "y1": 7.58329051733017,
          "yref": "y"
         },
         {
          "line": {
           "color": "#023e8a",
           "width": 2
          },
          "type": "line",
          "x0": 48,
          "x1": 49,
          "xref": "x",
          "y0": 8.053532004356384,
          "y1": 8.338087856769562,
          "yref": "y"
         },
         {
          "line": {
           "color": "#023e8a",
           "width": 2
          },
          "type": "line",
          "x0": 49,
          "x1": 50,
          "xref": "x",
          "y0": 8.338087856769562,
          "y1": 8.807971119880676,
          "yref": "y"
         },
         {
          "line": {
           "color": "#023e8a",
           "width": 2
          },
          "type": "line",
          "x0": 52,
          "x1": 53,
          "xref": "x",
          "y0": 9.610428154468536,
          "y1": 10.090123116970062,
          "yref": "y"
         },
         {
          "line": {
           "color": "#023e8a",
           "width": 2
          },
          "type": "line",
          "x0": 56,
          "x1": 57,
          "xref": "x",
          "y0": 10.090123116970062,
          "y1": 10.59909039735794,
          "yref": "y"
         },
         {
          "line": {
           "color": "#023e8a",
           "width": 2
          },
          "type": "line",
          "x0": 57,
          "x1": 58,
          "xref": "x",
          "y0": 10.59909039735794,
          "y1": 10.897430837154388,
          "yref": "y"
         },
         {
          "line": {
           "color": "#023e8a",
           "width": 2
          },
          "type": "line",
          "x0": 58,
          "x1": 59,
          "xref": "x",
          "y0": 10.897430837154388,
          "y1": 11.36107611656189,
          "yref": "y"
         },
         {
          "line": {
           "color": "#023e8a",
           "width": 2
          },
          "type": "line",
          "x0": 59,
          "x1": 60,
          "xref": "x",
          "y0": 11.36107611656189,
          "y1": 11.643798828125,
          "yref": "y"
         },
         {
          "line": {
           "color": "#023e8a",
           "width": 2
          },
          "type": "line",
          "x0": 60,
          "x1": 61,
          "xref": "x",
          "y0": 11.643798828125,
          "y1": 11.922257244586945,
          "yref": "y"
         },
         {
          "line": {
           "color": "#023e8a",
           "width": 2
          },
          "type": "line",
          "x0": 61,
          "x1": 62,
          "xref": "x",
          "y0": 11.922257244586945,
          "y1": 12.221763551235199,
          "yref": "y"
         },
         {
          "line": {
           "color": "#023e8a",
           "width": 2
          },
          "type": "line",
          "x0": 62,
          "x1": 63,
          "xref": "x",
          "y0": 12.221763551235199,
          "y1": 12.839658319950104,
          "yref": "y"
         },
         {
          "line": {
           "color": "#023e8a",
           "width": 2
          },
          "type": "line",
          "x0": 63,
          "x1": 64,
          "xref": "x",
          "y0": 12.839658319950104,
          "y1": 13.61912226676941,
          "yref": "y"
         },
         {
          "line": {
           "color": "#023e8a",
           "width": 2
          },
          "type": "line",
          "x0": 66,
          "x1": 67,
          "xref": "x",
          "y0": 14.061094582080841,
          "y1": 14.45401531457901,
          "yref": "y"
         },
         {
          "line": {
           "color": "#023e8a",
           "width": 2
          },
          "type": "line",
          "x0": 67,
          "x1": 68,
          "xref": "x",
          "y0": 14.45401531457901,
          "y1": 15.282530844211578,
          "yref": "y"
         },
         {
          "line": {
           "color": "#023e8a",
           "width": 2
          },
          "type": "line",
          "x0": 68,
          "x1": 69,
          "xref": "x",
          "y0": 15.282530844211578,
          "y1": 15.615236103534698,
          "yref": "y"
         },
         {
          "line": {
           "color": "#023e8a",
           "width": 2
          },
          "type": "line",
          "x0": 69,
          "x1": 70,
          "xref": "x",
          "y0": 15.615236103534698,
          "y1": 15.929485976696014,
          "yref": "y"
         },
         {
          "line": {
           "color": "#c1121f",
           "width": 2
          },
          "type": "line",
          "x0": 4,
          "x1": 5,
          "xref": "x",
          "y0": 0.2879375219345093,
          "y1": 0.6963741779327393,
          "yref": "y"
         },
         {
          "line": {
           "color": "#c1121f",
           "width": 2
          },
          "type": "line",
          "x0": 8,
          "x1": 9,
          "xref": "x",
          "y0": 1.1424828171730042,
          "y1": 1.1321316957473755,
          "yref": "y"
         },
         {
          "line": {
           "color": "#c1121f",
           "width": 2
          },
          "type": "line",
          "x0": 12,
          "x1": 13,
          "xref": "x",
          "y0": 1.2903116345405579,
          "y1": 1.5798320174217224,
          "yref": "y"
         },
         {
          "line": {
           "color": "#c1121f",
           "width": 2
          },
          "type": "line",
          "x0": 15,
          "x1": 16,
          "xref": "x",
          "y0": 1.5798320174217224,
          "y1": 2.6832240223884583,
          "yref": "y"
         },
         {
          "line": {
           "color": "#c1121f",
           "width": 2
          },
          "type": "line",
          "x0": 19,
          "x1": 20,
          "xref": "x",
          "y0": 4.055253088474274,
          "y1": 4.54890900850296,
          "yref": "y"
         },
         {
          "line": {
           "color": "#c1121f",
           "width": 2
          },
          "type": "line",
          "x0": 22,
          "x1": 23,
          "xref": "x",
          "y0": 5.042564868927002,
          "y1": 4.9549214243888855,
          "yref": "y"
         },
         {
          "line": {
           "color": "#c1121f",
           "width": 2
          },
          "type": "line",
          "x0": 32,
          "x1": 33,
          "xref": "x",
          "y0": 6.538731932640076,
          "y1": 6.8633323311805725,
          "yref": "y"
         },
         {
          "line": {
           "color": "#c1121f",
           "width": 2
          },
          "type": "line",
          "x0": 34,
          "x1": 35,
          "xref": "x",
          "y0": 6.8633323311805725,
          "y1": 7.439619719982147,
          "yref": "y"
         },
         {
          "line": {
           "color": "#c1121f",
           "width": 2
          },
          "type": "line",
          "x0": 40,
          "x1": 41,
          "xref": "x",
          "y0": 7.100167453289032,
          "y1": 7.4597970843315125,
          "yref": "y"
         },
         {
          "line": {
           "color": "#c1121f",
           "width": 2
          },
          "type": "line",
          "x0": 47,
          "x1": 48,
          "xref": "x",
          "y0": 7.58329051733017,
          "y1": 8.053532004356384,
          "yref": "y"
         },
         {
          "line": {
           "color": "#c1121f",
           "width": 2
          },
          "type": "line",
          "x0": 51,
          "x1": 52,
          "xref": "x",
          "y0": 8.807971119880676,
          "y1": 9.610428154468536,
          "yref": "y"
         },
         {
          "line": {
           "color": "#c1121f",
           "width": 2
          },
          "type": "line",
          "x0": 65,
          "x1": 66,
          "xref": "x",
          "y0": 13.61912226676941,
          "y1": 14.061094582080841,
          "yref": "y"
         },
         {
          "line": {
           "color": "#c1121f",
           "width": 2
          },
          "type": "line",
          "x0": 72,
          "x1": 73,
          "xref": "x",
          "y0": 15.929485976696014,
          "y1": 16.49548238515854,
          "yref": "y"
         },
         {
          "line": {
           "color": "#9d4edd",
           "width": 2
          },
          "type": "line",
          "x0": 1,
          "x1": 2,
          "xref": "x",
          "y0": 0,
          "y1": 0,
          "yref": "y"
         },
         {
          "line": {
           "color": "#9d4edd",
           "width": 2
          },
          "type": "line",
          "x0": 26,
          "x1": 27,
          "xref": "x",
          "y0": 5.360933840274811,
          "y1": 5.746631383895874,
          "yref": "y"
         },
         {
          "line": {
           "color": "#9d4edd",
           "width": 2
          },
          "type": "line",
          "x0": 36,
          "x1": 37,
          "xref": "x",
          "y0": 7.439619719982147,
          "y1": 6.794627785682678,
          "yref": "y"
         },
         {
          "line": {
           "color": "#9d4edd",
           "width": 2
          },
          "type": "line",
          "x0": 41,
          "x1": 42,
          "xref": "x",
          "y0": 7.4597970843315125,
          "y1": 7.070978879928589,
          "yref": "y"
         },
         {
          "line": {
           "color": "#9d4edd",
           "width": 2
          },
          "type": "line",
          "x0": 44,
          "x1": 45,
          "xref": "x",
          "y0": 7.070978879928589,
          "y1": 7.172837793827057,
          "yref": "y"
         }
        ],
        "showlegend": true,
        "template": {
         "data": {
          "bar": [
           {
            "error_x": {
             "color": "#2a3f5f"
            },
            "error_y": {
             "color": "#2a3f5f"
            },
            "marker": {
             "line": {
              "color": "#E5ECF6",
              "width": 0.5
             },
             "pattern": {
              "fillmode": "overlay",
              "size": 10,
              "solidity": 0.2
             }
            },
            "type": "bar"
           }
          ],
          "barpolar": [
           {
            "marker": {
             "line": {
              "color": "#E5ECF6",
              "width": 0.5
             },
             "pattern": {
              "fillmode": "overlay",
              "size": 10,
              "solidity": 0.2
             }
            },
            "type": "barpolar"
           }
          ],
          "carpet": [
           {
            "aaxis": {
             "endlinecolor": "#2a3f5f",
             "gridcolor": "white",
             "linecolor": "white",
             "minorgridcolor": "white",
             "startlinecolor": "#2a3f5f"
            },
            "baxis": {
             "endlinecolor": "#2a3f5f",
             "gridcolor": "white",
             "linecolor": "white",
             "minorgridcolor": "white",
             "startlinecolor": "#2a3f5f"
            },
            "type": "carpet"
           }
          ],
          "choropleth": [
           {
            "colorbar": {
             "outlinewidth": 0,
             "ticks": ""
            },
            "type": "choropleth"
           }
          ],
          "contour": [
           {
            "colorbar": {
             "outlinewidth": 0,
             "ticks": ""
            },
            "colorscale": [
             [
              0,
              "#0d0887"
             ],
             [
              0.1111111111111111,
              "#46039f"
             ],
             [
              0.2222222222222222,
              "#7201a8"
             ],
             [
              0.3333333333333333,
              "#9c179e"
             ],
             [
              0.4444444444444444,
              "#bd3786"
             ],
             [
              0.5555555555555556,
              "#d8576b"
             ],
             [
              0.6666666666666666,
              "#ed7953"
             ],
             [
              0.7777777777777778,
              "#fb9f3a"
             ],
             [
              0.8888888888888888,
              "#fdca26"
             ],
             [
              1,
              "#f0f921"
             ]
            ],
            "type": "contour"
           }
          ],
          "contourcarpet": [
           {
            "colorbar": {
             "outlinewidth": 0,
             "ticks": ""
            },
            "type": "contourcarpet"
           }
          ],
          "heatmap": [
           {
            "colorbar": {
             "outlinewidth": 0,
             "ticks": ""
            },
            "colorscale": [
             [
              0,
              "#0d0887"
             ],
             [
              0.1111111111111111,
              "#46039f"
             ],
             [
              0.2222222222222222,
              "#7201a8"
             ],
             [
              0.3333333333333333,
              "#9c179e"
             ],
             [
              0.4444444444444444,
              "#bd3786"
             ],
             [
              0.5555555555555556,
              "#d8576b"
             ],
             [
              0.6666666666666666,
              "#ed7953"
             ],
             [
              0.7777777777777778,
              "#fb9f3a"
             ],
             [
              0.8888888888888888,
              "#fdca26"
             ],
             [
              1,
              "#f0f921"
             ]
            ],
            "type": "heatmap"
           }
          ],
          "histogram": [
           {
            "marker": {
             "pattern": {
              "fillmode": "overlay",
              "size": 10,
              "solidity": 0.2
             }
            },
            "type": "histogram"
           }
          ],
          "histogram2d": [
           {
            "colorbar": {
             "outlinewidth": 0,
             "ticks": ""
            },
            "colorscale": [
             [
              0,
              "#0d0887"
             ],
             [
              0.1111111111111111,
              "#46039f"
             ],
             [
              0.2222222222222222,
              "#7201a8"
             ],
             [
              0.3333333333333333,
              "#9c179e"
             ],
             [
              0.4444444444444444,
              "#bd3786"
             ],
             [
              0.5555555555555556,
              "#d8576b"
             ],
             [
              0.6666666666666666,
              "#ed7953"
             ],
             [
              0.7777777777777778,
              "#fb9f3a"
             ],
             [
              0.8888888888888888,
              "#fdca26"
             ],
             [
              1,
              "#f0f921"
             ]
            ],
            "type": "histogram2d"
           }
          ],
          "histogram2dcontour": [
           {
            "colorbar": {
             "outlinewidth": 0,
             "ticks": ""
            },
            "colorscale": [
             [
              0,
              "#0d0887"
             ],
             [
              0.1111111111111111,
              "#46039f"
             ],
             [
              0.2222222222222222,
              "#7201a8"
             ],
             [
              0.3333333333333333,
              "#9c179e"
             ],
             [
              0.4444444444444444,
              "#bd3786"
             ],
             [
              0.5555555555555556,
              "#d8576b"
             ],
             [
              0.6666666666666666,
              "#ed7953"
             ],
             [
              0.7777777777777778,
              "#fb9f3a"
             ],
             [
              0.8888888888888888,
              "#fdca26"
             ],
             [
              1,
              "#f0f921"
             ]
            ],
            "type": "histogram2dcontour"
           }
          ],
          "mesh3d": [
           {
            "colorbar": {
             "outlinewidth": 0,
             "ticks": ""
            },
            "type": "mesh3d"
           }
          ],
          "parcoords": [
           {
            "line": {
             "colorbar": {
              "outlinewidth": 0,
              "ticks": ""
             }
            },
            "type": "parcoords"
           }
          ],
          "pie": [
           {
            "automargin": true,
            "type": "pie"
           }
          ],
          "scatter": [
           {
            "fillpattern": {
             "fillmode": "overlay",
             "size": 10,
             "solidity": 0.2
            },
            "type": "scatter"
           }
          ],
          "scatter3d": [
           {
            "line": {
             "colorbar": {
              "outlinewidth": 0,
              "ticks": ""
             }
            },
            "marker": {
             "colorbar": {
              "outlinewidth": 0,
              "ticks": ""
             }
            },
            "type": "scatter3d"
           }
          ],
          "scattercarpet": [
           {
            "marker": {
             "colorbar": {
              "outlinewidth": 0,
              "ticks": ""
             }
            },
            "type": "scattercarpet"
           }
          ],
          "scattergeo": [
           {
            "marker": {
             "colorbar": {
              "outlinewidth": 0,
              "ticks": ""
             }
            },
            "type": "scattergeo"
           }
          ],
          "scattergl": [
           {
            "marker": {
             "colorbar": {
              "outlinewidth": 0,
              "ticks": ""
             }
            },
            "type": "scattergl"
           }
          ],
          "scattermap": [
           {
            "marker": {
             "colorbar": {
              "outlinewidth": 0,
              "ticks": ""
             }
            },
            "type": "scattermap"
           }
          ],
          "scattermapbox": [
           {
            "marker": {
             "colorbar": {
              "outlinewidth": 0,
              "ticks": ""
             }
            },
            "type": "scattermapbox"
           }
          ],
          "scatterpolar": [
           {
            "marker": {
             "colorbar": {
              "outlinewidth": 0,
              "ticks": ""
             }
            },
            "type": "scatterpolar"
           }
          ],
          "scatterpolargl": [
           {
            "marker": {
             "colorbar": {
              "outlinewidth": 0,
              "ticks": ""
             }
            },
            "type": "scatterpolargl"
           }
          ],
          "scatterternary": [
           {
            "marker": {
             "colorbar": {
              "outlinewidth": 0,
              "ticks": ""
             }
            },
            "type": "scatterternary"
           }
          ],
          "surface": [
           {
            "colorbar": {
             "outlinewidth": 0,
             "ticks": ""
            },
            "colorscale": [
             [
              0,
              "#0d0887"
             ],
             [
              0.1111111111111111,
              "#46039f"
             ],
             [
              0.2222222222222222,
              "#7201a8"
             ],
             [
              0.3333333333333333,
              "#9c179e"
             ],
             [
              0.4444444444444444,
              "#bd3786"
             ],
             [
              0.5555555555555556,
              "#d8576b"
             ],
             [
              0.6666666666666666,
              "#ed7953"
             ],
             [
              0.7777777777777778,
              "#fb9f3a"
             ],
             [
              0.8888888888888888,
              "#fdca26"
             ],
             [
              1,
              "#f0f921"
             ]
            ],
            "type": "surface"
           }
          ],
          "table": [
           {
            "cells": {
             "fill": {
              "color": "#EBF0F8"
             },
             "line": {
              "color": "white"
             }
            },
            "header": {
             "fill": {
              "color": "#C8D4E3"
             },
             "line": {
              "color": "white"
             }
            },
            "type": "table"
           }
          ]
         },
         "layout": {
          "annotationdefaults": {
           "arrowcolor": "#2a3f5f",
           "arrowhead": 0,
           "arrowwidth": 1
          },
          "autotypenumbers": "strict",
          "coloraxis": {
           "colorbar": {
            "outlinewidth": 0,
            "ticks": ""
           }
          },
          "colorscale": {
           "diverging": [
            [
             0,
             "#8e0152"
            ],
            [
             0.1,
             "#c51b7d"
            ],
            [
             0.2,
             "#de77ae"
            ],
            [
             0.3,
             "#f1b6da"
            ],
            [
             0.4,
             "#fde0ef"
            ],
            [
             0.5,
             "#f7f7f7"
            ],
            [
             0.6,
             "#e6f5d0"
            ],
            [
             0.7,
             "#b8e186"
            ],
            [
             0.8,
             "#7fbc41"
            ],
            [
             0.9,
             "#4d9221"
            ],
            [
             1,
             "#276419"
            ]
           ],
           "sequential": [
            [
             0,
             "#0d0887"
            ],
            [
             0.1111111111111111,
             "#46039f"
            ],
            [
             0.2222222222222222,
             "#7201a8"
            ],
            [
             0.3333333333333333,
             "#9c179e"
            ],
            [
             0.4444444444444444,
             "#bd3786"
            ],
            [
             0.5555555555555556,
             "#d8576b"
            ],
            [
             0.6666666666666666,
             "#ed7953"
            ],
            [
             0.7777777777777778,
             "#fb9f3a"
            ],
            [
             0.8888888888888888,
             "#fdca26"
            ],
            [
             1,
             "#f0f921"
            ]
           ],
           "sequentialminus": [
            [
             0,
             "#0d0887"
            ],
            [
             0.1111111111111111,
             "#46039f"
            ],
            [
             0.2222222222222222,
             "#7201a8"
            ],
            [
             0.3333333333333333,
             "#9c179e"
            ],
            [
             0.4444444444444444,
             "#bd3786"
            ],
            [
             0.5555555555555556,
             "#d8576b"
            ],
            [
             0.6666666666666666,
             "#ed7953"
            ],
            [
             0.7777777777777778,
             "#fb9f3a"
            ],
            [
             0.8888888888888888,
             "#fdca26"
            ],
            [
             1,
             "#f0f921"
            ]
           ]
          },
          "colorway": [
           "#636efa",
           "#EF553B",
           "#00cc96",
           "#ab63fa",
           "#FFA15A",
           "#19d3f3",
           "#FF6692",
           "#B6E880",
           "#FF97FF",
           "#FECB52"
          ],
          "font": {
           "color": "#2a3f5f"
          },
          "geo": {
           "bgcolor": "white",
           "lakecolor": "white",
           "landcolor": "#E5ECF6",
           "showlakes": true,
           "showland": true,
           "subunitcolor": "white"
          },
          "hoverlabel": {
           "align": "left"
          },
          "hovermode": "closest",
          "mapbox": {
           "style": "light"
          },
          "paper_bgcolor": "white",
          "plot_bgcolor": "#E5ECF6",
          "polar": {
           "angularaxis": {
            "gridcolor": "white",
            "linecolor": "white",
            "ticks": ""
           },
           "bgcolor": "#E5ECF6",
           "radialaxis": {
            "gridcolor": "white",
            "linecolor": "white",
            "ticks": ""
           }
          },
          "scene": {
           "xaxis": {
            "backgroundcolor": "#E5ECF6",
            "gridcolor": "white",
            "gridwidth": 2,
            "linecolor": "white",
            "showbackground": true,
            "ticks": "",
            "zerolinecolor": "white"
           },
           "yaxis": {
            "backgroundcolor": "#E5ECF6",
            "gridcolor": "white",
            "gridwidth": 2,
            "linecolor": "white",
            "showbackground": true,
            "ticks": "",
            "zerolinecolor": "white"
           },
           "zaxis": {
            "backgroundcolor": "#E5ECF6",
            "gridcolor": "white",
            "gridwidth": 2,
            "linecolor": "white",
            "showbackground": true,
            "ticks": "",
            "zerolinecolor": "white"
           }
          },
          "shapedefaults": {
           "line": {
            "color": "#2a3f5f"
           }
          },
          "ternary": {
           "aaxis": {
            "gridcolor": "white",
            "linecolor": "white",
            "ticks": ""
           },
           "baxis": {
            "gridcolor": "white",
            "linecolor": "white",
            "ticks": ""
           },
           "bgcolor": "#E5ECF6",
           "caxis": {
            "gridcolor": "white",
            "linecolor": "white",
            "ticks": ""
           }
          },
          "title": {
           "x": 0.05
          },
          "xaxis": {
           "automargin": true,
           "gridcolor": "white",
           "linecolor": "white",
           "ticks": "",
           "title": {
            "standoff": 15
           },
           "zerolinecolor": "white",
           "zerolinewidth": 2
          },
          "yaxis": {
           "automargin": true,
           "gridcolor": "white",
           "linecolor": "white",
           "ticks": "",
           "title": {
            "standoff": 15
           },
           "zerolinecolor": "white",
           "zerolinewidth": 2
          }
         }
        },
        "title": {
         "text": "Semantic Expansion over Writing Sessions<br><span style=\"font-size: 12px;\">*Measuring how well humans are learning while writing with GenAI</span>"
        },
        "width": 1600,
        "xaxis": {
         "anchor": "y",
         "domain": [
          0,
          1
         ],
         "gridcolor": "white",
         "linecolor": "black",
         "mirror": false,
         "range": [
          -1,
          74
         ],
         "showline": true,
         "ticks": "outside",
         "title": {
          "text": "Progress into the writing session"
         }
        },
        "yaxis": {
         "anchor": "x",
         "domain": [
          0,
          1
         ],
         "gridcolor": "white",
         "linecolor": "black",
         "mirror": false,
         "showline": true,
         "ticks": "outside",
         "title": {
          "text": "Scores"
         }
        }
       }
      }
     },
     "metadata": {},
     "output_type": "display_data"
    },
    {
     "name": "stdout",
     "output_type": "stream",
     "text": [
      "legislation_corporate_4\n"
     ]
    },
    {
     "data": {
      "application/vnd.plotly.v1+json": {
       "config": {
        "plotlyServerURL": "https://plot.ly"
       },
       "data": [
        {
         "line": {
          "color": "#64B5F6",
          "width": 2
         },
         "mode": "lines",
         "name": "human_insert_backstage",
         "showlegend": true,
         "type": "scatter",
         "x": [
          null
         ],
         "xaxis": "x",
         "y": [
          null
         ],
         "yaxis": "y"
        },
        {
         "line": {
          "color": "#ff8fab",
          "width": 2
         },
         "mode": "lines",
         "name": "ai_suggest_backstage",
         "showlegend": true,
         "type": "scatter",
         "x": [
          null
         ],
         "xaxis": "x",
         "y": [
          null
         ],
         "yaxis": "y"
        },
        {
         "line": {
          "color": "#023e8a",
          "width": 2
         },
         "mode": "lines",
         "name": "human_insert_frontstage",
         "showlegend": true,
         "type": "scatter",
         "x": [
          null
         ],
         "xaxis": "x",
         "y": [
          null
         ],
         "yaxis": "y"
        },
        {
         "line": {
          "color": "#c1121f",
          "width": 2
         },
         "mode": "lines",
         "name": "ai_insert_moved_to_frontstage",
         "showlegend": true,
         "type": "scatter",
         "x": [
          null
         ],
         "xaxis": "x",
         "y": [
          null
         ],
         "yaxis": "y"
        },
        {
         "line": {
          "color": "#9d4edd",
          "width": 2
         },
         "mode": "lines",
         "name": "human_delete_frontstage",
         "showlegend": true,
         "type": "scatter",
         "x": [
          null
         ],
         "xaxis": "x",
         "y": [
          null
         ],
         "yaxis": "y"
        },
        {
         "line": {
          "color": "#5a189a",
          "width": 2
         },
         "mode": "lines",
         "name": "human_insert_edit_frontstage",
         "showlegend": true,
         "type": "scatter",
         "x": [
          null
         ],
         "xaxis": "x",
         "y": [
          null
         ],
         "yaxis": "y"
        }
       ],
       "layout": {
        "annotations": [
         {
          "font": {
           "size": 16
          },
          "showarrow": false,
          "text": "Session: legislation_corporate_4",
          "x": 0.5,
          "xanchor": "center",
          "xref": "paper",
          "y": 1,
          "yanchor": "bottom",
          "yref": "paper"
         }
        ],
        "height": 500,
        "legend": {
         "title": {
          "font": {
           "color": "rgba(0, 0, 0, 0)"
          }
         }
        },
        "plot_bgcolor": "white",
        "shapes": [
         {
          "line": {
           "color": "#64B5F6",
           "width": 2
          },
          "type": "line",
          "x0": 0,
          "x1": 0,
          "xref": "x",
          "y0": 0,
          "y1": 0.5154286623001099,
          "yref": "y"
         },
         {
          "line": {
           "color": "#64B5F6",
           "width": 2
          },
          "type": "line",
          "x0": 18,
          "x1": 19,
          "xref": "x",
          "y0": 5.081352412700653,
          "y1": 3.9631938338279724,
          "yref": "y"
         },
         {
          "line": {
           "color": "#64B5F6",
           "width": 2
          },
          "type": "line",
          "x0": 20,
          "x1": 21,
          "xref": "x",
          "y0": 4.292658853530884,
          "y1": 4.5934157252311705,
          "yref": "y"
         },
         {
          "line": {
           "color": "#64B5F6",
           "width": 2
          },
          "type": "line",
          "x0": 22,
          "x1": 23,
          "xref": "x",
          "y0": 4.93837229013443,
          "y1": 5.255279099941253,
          "yref": "y"
         },
         {
          "line": {
           "color": "#64B5F6",
           "width": 2
          },
          "type": "line",
          "x0": 24,
          "x1": 25,
          "xref": "x",
          "y0": 5.554231810569763,
          "y1": 5.920178639888763,
          "yref": "y"
         },
         {
          "line": {
           "color": "#64B5F6",
           "width": 2
          },
          "type": "line",
          "x0": 38,
          "x1": 39,
          "xref": "x",
          "y0": 10.353354752063751,
          "y1": 9.04712861776352,
          "yref": "y"
         },
         {
          "line": {
           "color": "#64B5F6",
           "width": 2
          },
          "type": "line",
          "x0": 40,
          "x1": 41,
          "xref": "x",
          "y0": 9.530404758453368,
          "y1": 9.921776247024535,
          "yref": "y"
         },
         {
          "line": {
           "color": "#64B5F6",
           "width": 2
          },
          "type": "line",
          "x0": 45,
          "x1": 46,
          "xref": "x",
          "y0": 11.281689167022705,
          "y1": 11.715600192546844,
          "yref": "y"
         },
         {
          "line": {
           "color": "#64B5F6",
           "width": 2
          },
          "type": "line",
          "x0": 47,
          "x1": 48,
          "xref": "x",
          "y0": 12.041772484779358,
          "y1": 12.486782252788544,
          "yref": "y"
         },
         {
          "line": {
           "color": "#64B5F6",
           "width": 2
          },
          "type": "line",
          "x0": 49,
          "x1": 50,
          "xref": "x",
          "y0": 12.930996930599212,
          "y1": 11.55991826057434,
          "yref": "y"
         },
         {
          "line": {
           "color": "#64B5F6",
           "width": 2
          },
          "type": "line",
          "x0": 50,
          "x1": 51,
          "xref": "x",
          "y0": 11.55991826057434,
          "y1": 11.994370257854461,
          "yref": "y"
         },
         {
          "line": {
           "color": "#64B5F6",
           "width": 2
          },
          "type": "line",
          "x0": 52,
          "x1": 53,
          "xref": "x",
          "y0": 12.443996512889862,
          "y1": 12.890268409252167,
          "yref": "y"
         },
         {
          "line": {
           "color": "#64B5F6",
           "width": 2
          },
          "type": "line",
          "x0": 58,
          "x1": 59,
          "xref": "x",
          "y0": 12.232034027576447,
          "y1": 10.889685213565826,
          "yref": "y"
         },
         {
          "line": {
           "color": "#64B5F6",
           "width": 2
          },
          "type": "line",
          "x0": 61,
          "x1": 62,
          "xref": "x",
          "y0": 11.748475658893586,
          "y1": 10.74256216287613,
          "yref": "y"
         },
         {
          "line": {
           "color": "#64B5F6",
           "width": 2
          },
          "type": "line",
          "x0": 70,
          "x1": 71,
          "xref": "x",
          "y0": 15.963692843914032,
          "y1": 15.044015347957611,
          "yref": "y"
         },
         {
          "line": {
           "color": "#64B5F6",
           "width": 2
          },
          "type": "line",
          "x0": 77,
          "x1": 78,
          "xref": "x",
          "y0": 18.42678129673004,
          "y1": 17.671131789684296,
          "yref": "y"
         },
         {
          "line": {
           "color": "#64B5F6",
           "width": 2
          },
          "type": "line",
          "x0": 81,
          "x1": 82,
          "xref": "x",
          "y0": 18.70212548971176,
          "y1": 19.100489675998688,
          "yref": "y"
         },
         {
          "line": {
           "color": "#ff8fab",
           "width": 2
          },
          "type": "line",
          "x0": 0,
          "x1": 1,
          "xref": "x",
          "y0": 0.5154286623001099,
          "y1": 0.8811880707740783,
          "yref": "y"
         },
         {
          "line": {
           "color": "#ff8fab",
           "width": 2
          },
          "type": "line",
          "x0": 19,
          "x1": 20,
          "xref": "x",
          "y0": 3.9631938338279724,
          "y1": 4.292658853530884,
          "yref": "y"
         },
         {
          "line": {
           "color": "#ff8fab",
           "width": 2
          },
          "type": "line",
          "x0": 21,
          "x1": 22,
          "xref": "x",
          "y0": 4.5934157252311705,
          "y1": 4.93837229013443,
          "yref": "y"
         },
         {
          "line": {
           "color": "#ff8fab",
           "width": 2
          },
          "type": "line",
          "x0": 23,
          "x1": 24,
          "xref": "x",
          "y0": 5.255279099941253,
          "y1": 5.554231810569763,
          "yref": "y"
         },
         {
          "line": {
           "color": "#ff8fab",
           "width": 2
          },
          "type": "line",
          "x0": 25,
          "x1": 26,
          "xref": "x",
          "y0": 5.920178639888763,
          "y1": 6.345604407787323,
          "yref": "y"
         },
         {
          "line": {
           "color": "#ff8fab",
           "width": 2
          },
          "type": "line",
          "x0": 39,
          "x1": 40,
          "xref": "x",
          "y0": 9.04712861776352,
          "y1": 9.530404758453368,
          "yref": "y"
         },
         {
          "line": {
           "color": "#ff8fab",
           "width": 2
          },
          "type": "line",
          "x0": 41,
          "x1": 42,
          "xref": "x",
          "y0": 9.921776247024535,
          "y1": 10.334211790561675,
          "yref": "y"
         },
         {
          "line": {
           "color": "#ff8fab",
           "width": 2
          },
          "type": "line",
          "x0": 46,
          "x1": 47,
          "xref": "x",
          "y0": 11.715600192546844,
          "y1": 12.041772484779358,
          "yref": "y"
         },
         {
          "line": {
           "color": "#ff8fab",
           "width": 2
          },
          "type": "line",
          "x0": 48,
          "x1": 49,
          "xref": "x",
          "y0": 12.486782252788544,
          "y1": 12.930996930599212,
          "yref": "y"
         },
         {
          "line": {
           "color": "#ff8fab",
           "width": 2
          },
          "type": "line",
          "x0": 51,
          "x1": 52,
          "xref": "x",
          "y0": 11.994370257854461,
          "y1": 12.44399651288986,
          "yref": "y"
         },
         {
          "line": {
           "color": "#ff8fab",
           "width": 2
          },
          "type": "line",
          "x0": 53,
          "x1": 54,
          "xref": "x",
          "y0": 12.890268409252167,
          "y1": 13.35990401506424,
          "yref": "y"
         },
         {
          "line": {
           "color": "#ff8fab",
           "width": 2
          },
          "type": "line",
          "x0": 59,
          "x1": 60,
          "xref": "x",
          "y0": 10.889685213565826,
          "y1": 11.399753654003144,
          "yref": "y"
         },
         {
          "line": {
           "color": "#ff8fab",
           "width": 2
          },
          "type": "line",
          "x0": 60,
          "x1": 61,
          "xref": "x",
          "y0": 11.399753654003144,
          "y1": 11.748475658893586,
          "yref": "y"
         },
         {
          "line": {
           "color": "#ff8fab",
           "width": 2
          },
          "type": "line",
          "x0": 62,
          "x1": 63,
          "xref": "x",
          "y0": 10.74256216287613,
          "y1": 11.117616331577302,
          "yref": "y"
         },
         {
          "line": {
           "color": "#ff8fab",
           "width": 2
          },
          "type": "line",
          "x0": 71,
          "x1": 72,
          "xref": "x",
          "y0": 15.044015347957611,
          "y1": 15.442544341087341,
          "yref": "y"
         },
         {
          "line": {
           "color": "#ff8fab",
           "width": 2
          },
          "type": "line",
          "x0": 78,
          "x1": 79,
          "xref": "x",
          "y0": 17.671131789684296,
          "y1": 18.055857479572296,
          "yref": "y"
         },
         {
          "line": {
           "color": "#ff8fab",
           "width": 2
          },
          "type": "line",
          "x0": 82,
          "x1": 83,
          "xref": "x",
          "y0": 19.100489675998688,
          "y1": 19.56544486284256,
          "yref": "y"
         },
         {
          "line": {
           "color": "#ff8fab",
           "width": 2
          },
          "type": "line",
          "x0": 83,
          "x1": 84,
          "xref": "x",
          "y0": 19.56544486284256,
          "y1": 19.94556066989899,
          "yref": "y"
         },
         {
          "line": {
           "color": "#ff8fab",
           "width": 2
          },
          "type": "line",
          "x0": 91,
          "x1": 92,
          "xref": "x",
          "y0": 20.23968243598938,
          "y1": 20.683569180965424,
          "yref": "y"
         },
         {
          "line": {
           "color": "#ff8fab",
           "width": 2
          },
          "type": "line",
          "x0": 99,
          "x1": 100,
          "xref": "x",
          "y0": 22.134103536605835,
          "y1": 22.55360826253891,
          "yref": "y"
         },
         {
          "line": {
           "color": "#023e8a",
           "width": 2
          },
          "type": "line",
          "x0": 2,
          "x1": 3,
          "xref": "x",
          "y0": 0.4078388214111328,
          "y1": 0.6036558151245117,
          "yref": "y"
         },
         {
          "line": {
           "color": "#023e8a",
           "width": 2
          },
          "type": "line",
          "x0": 3,
          "x1": 4,
          "xref": "x",
          "y0": 0.6036558151245117,
          "y1": 0.7956849336624146,
          "yref": "y"
         },
         {
          "line": {
           "color": "#023e8a",
           "width": 2
          },
          "type": "line",
          "x0": 4,
          "x1": 5,
          "xref": "x",
          "y0": 0.7956849336624146,
          "y1": 0.9868475198745728,
          "yref": "y"
         },
         {
          "line": {
           "color": "#023e8a",
           "width": 2
          },
          "type": "line",
          "x0": 5,
          "x1": 6,
          "xref": "x",
          "y0": 0.9868475198745728,
          "y1": 1.1831448078155518,
          "yref": "y"
         },
         {
          "line": {
           "color": "#023e8a",
           "width": 2
          },
          "type": "line",
          "x0": 6,
          "x1": 7,
          "xref": "x",
          "y0": 1.1831448078155518,
          "y1": 1.3878766298294067,
          "yref": "y"
         },
         {
          "line": {
           "color": "#023e8a",
           "width": 2
          },
          "type": "line",
          "x0": 7,
          "x1": 8,
          "xref": "x",
          "y0": 1.3878766298294067,
          "y1": 1.560491681098938,
          "yref": "y"
         },
         {
          "line": {
           "color": "#023e8a",
           "width": 2
          },
          "type": "line",
          "x0": 8,
          "x1": 9,
          "xref": "x",
          "y0": 1.560491681098938,
          "y1": 1.9611383080482483,
          "yref": "y"
         },
         {
          "line": {
           "color": "#023e8a",
           "width": 2
          },
          "type": "line",
          "x0": 9,
          "x1": 10,
          "xref": "x",
          "y0": 1.9611383080482483,
          "y1": 2.3415335416793823,
          "yref": "y"
         },
         {
          "line": {
           "color": "#023e8a",
           "width": 2
          },
          "type": "line",
          "x0": 10,
          "x1": 11,
          "xref": "x",
          "y0": 2.3415335416793823,
          "y1": 2.667437434196472,
          "yref": "y"
         },
         {
          "line": {
           "color": "#023e8a",
           "width": 2
          },
          "type": "line",
          "x0": 11,
          "x1": 12,
          "xref": "x",
          "y0": 2.667437434196472,
          "y1": 2.9841399788856506,
          "yref": "y"
         },
         {
          "line": {
           "color": "#023e8a",
           "width": 2
          },
          "type": "line",
          "x0": 12,
          "x1": 13,
          "xref": "x",
          "y0": 2.9841399788856506,
          "y1": 3.3127734661102295,
          "yref": "y"
         },
         {
          "line": {
           "color": "#023e8a",
           "width": 2
          },
          "type": "line",
          "x0": 13,
          "x1": 14,
          "xref": "x",
          "y0": 3.3127734661102295,
          "y1": 3.780734121799469,
          "yref": "y"
         },
         {
          "line": {
           "color": "#023e8a",
           "width": 2
          },
          "type": "line",
          "x0": 14,
          "x1": 15,
          "xref": "x",
          "y0": 3.780734121799469,
          "y1": 4.149812817573547,
          "yref": "y"
         },
         {
          "line": {
           "color": "#023e8a",
           "width": 2
          },
          "type": "line",
          "x0": 15,
          "x1": 16,
          "xref": "x",
          "y0": 4.149812817573547,
          "y1": 4.434704422950745,
          "yref": "y"
         },
         {
          "line": {
           "color": "#023e8a",
           "width": 2
          },
          "type": "line",
          "x0": 16,
          "x1": 17,
          "xref": "x",
          "y0": 4.434704422950745,
          "y1": 4.715483784675598,
          "yref": "y"
         },
         {
          "line": {
           "color": "#023e8a",
           "width": 2
          },
          "type": "line",
          "x0": 17,
          "x1": 18,
          "xref": "x",
          "y0": 4.715483784675598,
          "y1": 5.081352412700653,
          "yref": "y"
         },
         {
          "line": {
           "color": "#023e8a",
           "width": 2
          },
          "type": "line",
          "x0": 27,
          "x1": 28,
          "xref": "x",
          "y0": 5.081352055072784,
          "y1": 5.916715085506439,
          "yref": "y"
         },
         {
          "line": {
           "color": "#023e8a",
           "width": 2
          },
          "type": "line",
          "x0": 28,
          "x1": 29,
          "xref": "x",
          "y0": 5.916715085506439,
          "y1": 6.44666987657547,
          "yref": "y"
         },
         {
          "line": {
           "color": "#023e8a",
           "width": 2
          },
          "type": "line",
          "x0": 29,
          "x1": 30,
          "xref": "x",
          "y0": 6.44666987657547,
          "y1": 6.7305238246917725,
          "yref": "y"
         },
         {
          "line": {
           "color": "#023e8a",
           "width": 2
          },
          "type": "line",
          "x0": 30,
          "x1": 31,
          "xref": "x",
          "y0": 6.7305238246917725,
          "y1": 7.026191711425781,
          "yref": "y"
         },
         {
          "line": {
           "color": "#023e8a",
           "width": 2
          },
          "type": "line",
          "x0": 31,
          "x1": 32,
          "xref": "x",
          "y0": 7.026191711425781,
          "y1": 7.304671347141266,
          "yref": "y"
         },
         {
          "line": {
           "color": "#023e8a",
           "width": 2
          },
          "type": "line",
          "x0": 32,
          "x1": 33,
          "xref": "x",
          "y0": 7.304671347141266,
          "y1": 7.76008152961731,
          "yref": "y"
         },
         {
          "line": {
           "color": "#023e8a",
           "width": 2
          },
          "type": "line",
          "x0": 33,
          "x1": 34,
          "xref": "x",
          "y0": 7.76008152961731,
          "y1": 8.396050095558167,
          "yref": "y"
         },
         {
          "line": {
           "color": "#023e8a",
           "width": 2
          },
          "type": "line",
          "x0": 34,
          "x1": 35,
          "xref": "x",
          "y0": 8.396050095558167,
          "y1": 9.01178514957428,
          "yref": "y"
         },
         {
          "line": {
           "color": "#023e8a",
           "width": 2
          },
          "type": "line",
          "x0": 35,
          "x1": 36,
          "xref": "x",
          "y0": 9.01178514957428,
          "y1": 9.46985274553299,
          "yref": "y"
         },
         {
          "line": {
           "color": "#023e8a",
           "width": 2
          },
          "type": "line",
          "x0": 36,
          "x1": 37,
          "xref": "x",
          "y0": 9.46985274553299,
          "y1": 9.912444174289703,
          "yref": "y"
         },
         {
          "line": {
           "color": "#023e8a",
           "width": 2
          },
          "type": "line",
          "x0": 37,
          "x1": 38,
          "xref": "x",
          "y0": 9.912444174289703,
          "y1": 10.353354752063751,
          "yref": "y"
         },
         {
          "line": {
           "color": "#023e8a",
           "width": 2
          },
          "type": "line",
          "x0": 42,
          "x1": 43,
          "xref": "x",
          "y0": 10.353354752063751,
          "y1": 10.78162568807602,
          "yref": "y"
         },
         {
          "line": {
           "color": "#023e8a",
           "width": 2
          },
          "type": "line",
          "x0": 43,
          "x1": 44,
          "xref": "x",
          "y0": 10.78162568807602,
          "y1": 11.281689167022705,
          "yref": "y"
         },
         {
          "line": {
           "color": "#023e8a",
           "width": 2
          },
          "type": "line",
          "x0": 54,
          "x1": 55,
          "xref": "x",
          "y0": 11.281689167022705,
          "y1": 11.491312742233276,
          "yref": "y"
         },
         {
          "line": {
           "color": "#023e8a",
           "width": 2
          },
          "type": "line",
          "x0": 55,
          "x1": 56,
          "xref": "x",
          "y0": 11.491312742233276,
          "y1": 11.721587181091309,
          "yref": "y"
         },
         {
          "line": {
           "color": "#023e8a",
           "width": 2
          },
          "type": "line",
          "x0": 56,
          "x1": 57,
          "xref": "x",
          "y0": 11.721587181091309,
          "y1": 12.006073832511902,
          "yref": "y"
         },
         {
          "line": {
           "color": "#023e8a",
           "width": 2
          },
          "type": "line",
          "x0": 57,
          "x1": 58,
          "xref": "x",
          "y0": 12.006073832511902,
          "y1": 12.232034027576447,
          "yref": "y"
         },
         {
          "line": {
           "color": "#023e8a",
           "width": 2
          },
          "type": "line",
          "x0": 64,
          "x1": 65,
          "xref": "x",
          "y0": 12.232034027576447,
          "y1": 12.998960852622986,
          "yref": "y"
         },
         {
          "line": {
           "color": "#023e8a",
           "width": 2
          },
          "type": "line",
          "x0": 65,
          "x1": 66,
          "xref": "x",
          "y0": 12.998960852622986,
          "y1": 13.248845398426056,
          "yref": "y"
         },
         {
          "line": {
           "color": "#023e8a",
           "width": 2
          },
          "type": "line",
          "x0": 66,
          "x1": 67,
          "xref": "x",
          "y0": 13.248845398426056,
          "y1": 14.0836261510849,
          "yref": "y"
         },
         {
          "line": {
           "color": "#023e8a",
           "width": 2
          },
          "type": "line",
          "x0": 67,
          "x1": 68,
          "xref": "x",
          "y0": 14.0836261510849,
          "y1": 14.706983149051666,
          "yref": "y"
         },
         {
          "line": {
           "color": "#023e8a",
           "width": 2
          },
          "type": "line",
          "x0": 68,
          "x1": 69,
          "xref": "x",
          "y0": 14.706983149051666,
          "y1": 15.332122206687927,
          "yref": "y"
         },
         {
          "line": {
           "color": "#023e8a",
           "width": 2
          },
          "type": "line",
          "x0": 69,
          "x1": 70,
          "xref": "x",
          "y0": 15.332122206687927,
          "y1": 15.963692843914032,
          "yref": "y"
         },
         {
          "line": {
           "color": "#023e8a",
           "width": 2
          },
          "type": "line",
          "x0": 72,
          "x1": 73,
          "xref": "x",
          "y0": 15.963692843914032,
          "y1": 16.565782248973846,
          "yref": "y"
         },
         {
          "line": {
           "color": "#023e8a",
           "width": 2
          },
          "type": "line",
          "x0": 74,
          "x1": 75,
          "xref": "x",
          "y0": 16.51344519853592,
          "y1": 16.973209023475647,
          "yref": "y"
         },
         {
          "line": {
           "color": "#023e8a",
           "width": 2
          },
          "type": "line",
          "x0": 75,
          "x1": 76,
          "xref": "x",
          "y0": 16.973209023475647,
          "y1": 17.72478938102722,
          "yref": "y"
         },
         {
          "line": {
           "color": "#023e8a",
           "width": 2
          },
          "type": "line",
          "x0": 76,
          "x1": 77,
          "xref": "x",
          "y0": 17.72478938102722,
          "y1": 18.42678129673004,
          "yref": "y"
         },
         {
          "line": {
           "color": "#023e8a",
           "width": 2
          },
          "type": "line",
          "x0": 79,
          "x1": 80,
          "xref": "x",
          "y0": 18.42678129673004,
          "y1": 18.740658164024353,
          "yref": "y"
         },
         {
          "line": {
           "color": "#023e8a",
           "width": 2
          },
          "type": "line",
          "x0": 84,
          "x1": 85,
          "xref": "x",
          "y0": 18.70212548971176,
          "y1": 19.004521250724792,
          "yref": "y"
         },
         {
          "line": {
           "color": "#023e8a",
           "width": 2
          },
          "type": "line",
          "x0": 85,
          "x1": 86,
          "xref": "x",
          "y0": 19.004521250724792,
          "y1": 19.246008574962616,
          "yref": "y"
         },
         {
          "line": {
           "color": "#023e8a",
           "width": 2
          },
          "type": "line",
          "x0": 86,
          "x1": 87,
          "xref": "x",
          "y0": 19.246008574962616,
          "y1": 19.504912674427032,
          "yref": "y"
         },
         {
          "line": {
           "color": "#023e8a",
           "width": 2
          },
          "type": "line",
          "x0": 87,
          "x1": 88,
          "xref": "x",
          "y0": 19.504912674427032,
          "y1": 19.748129427433014,
          "yref": "y"
         },
         {
          "line": {
           "color": "#023e8a",
           "width": 2
          },
          "type": "line",
          "x0": 89,
          "x1": 90,
          "xref": "x",
          "y0": 19.748129427433014,
          "y1": 19.95359629392624,
          "yref": "y"
         },
         {
          "line": {
           "color": "#023e8a",
           "width": 2
          },
          "type": "line",
          "x0": 90,
          "x1": 91,
          "xref": "x",
          "y0": 19.95359629392624,
          "y1": 20.23968243598938,
          "yref": "y"
         },
         {
          "line": {
           "color": "#023e8a",
           "width": 2
          },
          "type": "line",
          "x0": 93,
          "x1": 94,
          "xref": "x",
          "y0": 20.215341448783875,
          "y1": 20.686862230300903,
          "yref": "y"
         },
         {
          "line": {
           "color": "#023e8a",
           "width": 2
          },
          "type": "line",
          "x0": 94,
          "x1": 95,
          "xref": "x",
          "y0": 20.686862230300903,
          "y1": 20.977150082588196,
          "yref": "y"
         },
         {
          "line": {
           "color": "#023e8a",
           "width": 2
          },
          "type": "line",
          "x0": 95,
          "x1": 96,
          "xref": "x",
          "y0": 20.977150082588196,
          "y1": 21.350906789302826,
          "yref": "y"
         },
         {
          "line": {
           "color": "#023e8a",
           "width": 2
          },
          "type": "line",
          "x0": 96,
          "x1": 97,
          "xref": "x",
          "y0": 21.350906789302826,
          "y1": 21.726495146751404,
          "yref": "y"
         },
         {
          "line": {
           "color": "#023e8a",
           "width": 2
          },
          "type": "line",
          "x0": 97,
          "x1": 98,
          "xref": "x",
          "y0": 21.726495146751404,
          "y1": 22.12263596057892,
          "yref": "y"
         },
         {
          "line": {
           "color": "#023e8a",
           "width": 2
          },
          "type": "line",
          "x0": 100,
          "x1": 101,
          "xref": "x",
          "y0": 22.134103536605835,
          "y1": 22.543702721595764,
          "yref": "y"
         },
         {
          "line": {
           "color": "#023e8a",
           "width": 2
          },
          "type": "line",
          "x0": 101,
          "x1": 102,
          "xref": "x",
          "y0": 22.543702721595764,
          "y1": 23.01775813102722,
          "yref": "y"
         },
         {
          "line": {
           "color": "#023e8a",
           "width": 2
          },
          "type": "line",
          "x0": 102,
          "x1": 103,
          "xref": "x",
          "y0": 23.01775813102722,
          "y1": 23.455888986587524,
          "yref": "y"
         },
         {
          "line": {
           "color": "#c1121f",
           "width": 2
          },
          "type": "line",
          "x0": 1,
          "x1": 2,
          "xref": "x",
          "y0": 0,
          "y1": 0.4078388214111328,
          "yref": "y"
         },
         {
          "line": {
           "color": "#c1121f",
           "width": 2
          },
          "type": "line",
          "x0": 92,
          "x1": 93,
          "xref": "x",
          "y0": 20.23968243598938,
          "y1": 20.215341448783875,
          "yref": "y"
         },
         {
          "line": {
           "color": "#9d4edd",
           "width": 2
          },
          "type": "line",
          "x0": 26,
          "x1": 27,
          "xref": "x",
          "y0": 5.081352412700653,
          "y1": 5.081352055072784,
          "yref": "y"
         },
         {
          "line": {
           "color": "#9d4edd",
           "width": 2
          },
          "type": "line",
          "x0": 44,
          "x1": 45,
          "xref": "x",
          "y0": 11.281689167022705,
          "y1": 11.281689167022705,
          "yref": "y"
         },
         {
          "line": {
           "color": "#9d4edd",
           "width": 2
          },
          "type": "line",
          "x0": 63,
          "x1": 64,
          "xref": "x",
          "y0": 12.232034027576447,
          "y1": 12.232034027576447,
          "yref": "y"
         },
         {
          "line": {
           "color": "#9d4edd",
           "width": 2
          },
          "type": "line",
          "x0": 73,
          "x1": 74,
          "xref": "x",
          "y0": 16.565782248973846,
          "y1": 16.51344519853592,
          "yref": "y"
         },
         {
          "line": {
           "color": "#9d4edd",
           "width": 2
          },
          "type": "line",
          "x0": 80,
          "x1": 81,
          "xref": "x",
          "y0": 18.740658164024353,
          "y1": 18.70212548971176,
          "yref": "y"
         },
         {
          "line": {
           "color": "#9d4edd",
           "width": 2
          },
          "type": "line",
          "x0": 88,
          "x1": 89,
          "xref": "x",
          "y0": 19.748129427433014,
          "y1": 19.748129427433014,
          "yref": "y"
         },
         {
          "line": {
           "color": "#9d4edd",
           "width": 2
          },
          "type": "line",
          "x0": 98,
          "x1": 99,
          "xref": "x",
          "y0": 22.12263596057892,
          "y1": 22.134103536605835,
          "yref": "y"
         }
        ],
        "showlegend": true,
        "template": {
         "data": {
          "bar": [
           {
            "error_x": {
             "color": "#2a3f5f"
            },
            "error_y": {
             "color": "#2a3f5f"
            },
            "marker": {
             "line": {
              "color": "#E5ECF6",
              "width": 0.5
             },
             "pattern": {
              "fillmode": "overlay",
              "size": 10,
              "solidity": 0.2
             }
            },
            "type": "bar"
           }
          ],
          "barpolar": [
           {
            "marker": {
             "line": {
              "color": "#E5ECF6",
              "width": 0.5
             },
             "pattern": {
              "fillmode": "overlay",
              "size": 10,
              "solidity": 0.2
             }
            },
            "type": "barpolar"
           }
          ],
          "carpet": [
           {
            "aaxis": {
             "endlinecolor": "#2a3f5f",
             "gridcolor": "white",
             "linecolor": "white",
             "minorgridcolor": "white",
             "startlinecolor": "#2a3f5f"
            },
            "baxis": {
             "endlinecolor": "#2a3f5f",
             "gridcolor": "white",
             "linecolor": "white",
             "minorgridcolor": "white",
             "startlinecolor": "#2a3f5f"
            },
            "type": "carpet"
           }
          ],
          "choropleth": [
           {
            "colorbar": {
             "outlinewidth": 0,
             "ticks": ""
            },
            "type": "choropleth"
           }
          ],
          "contour": [
           {
            "colorbar": {
             "outlinewidth": 0,
             "ticks": ""
            },
            "colorscale": [
             [
              0,
              "#0d0887"
             ],
             [
              0.1111111111111111,
              "#46039f"
             ],
             [
              0.2222222222222222,
              "#7201a8"
             ],
             [
              0.3333333333333333,
              "#9c179e"
             ],
             [
              0.4444444444444444,
              "#bd3786"
             ],
             [
              0.5555555555555556,
              "#d8576b"
             ],
             [
              0.6666666666666666,
              "#ed7953"
             ],
             [
              0.7777777777777778,
              "#fb9f3a"
             ],
             [
              0.8888888888888888,
              "#fdca26"
             ],
             [
              1,
              "#f0f921"
             ]
            ],
            "type": "contour"
           }
          ],
          "contourcarpet": [
           {
            "colorbar": {
             "outlinewidth": 0,
             "ticks": ""
            },
            "type": "contourcarpet"
           }
          ],
          "heatmap": [
           {
            "colorbar": {
             "outlinewidth": 0,
             "ticks": ""
            },
            "colorscale": [
             [
              0,
              "#0d0887"
             ],
             [
              0.1111111111111111,
              "#46039f"
             ],
             [
              0.2222222222222222,
              "#7201a8"
             ],
             [
              0.3333333333333333,
              "#9c179e"
             ],
             [
              0.4444444444444444,
              "#bd3786"
             ],
             [
              0.5555555555555556,
              "#d8576b"
             ],
             [
              0.6666666666666666,
              "#ed7953"
             ],
             [
              0.7777777777777778,
              "#fb9f3a"
             ],
             [
              0.8888888888888888,
              "#fdca26"
             ],
             [
              1,
              "#f0f921"
             ]
            ],
            "type": "heatmap"
           }
          ],
          "histogram": [
           {
            "marker": {
             "pattern": {
              "fillmode": "overlay",
              "size": 10,
              "solidity": 0.2
             }
            },
            "type": "histogram"
           }
          ],
          "histogram2d": [
           {
            "colorbar": {
             "outlinewidth": 0,
             "ticks": ""
            },
            "colorscale": [
             [
              0,
              "#0d0887"
             ],
             [
              0.1111111111111111,
              "#46039f"
             ],
             [
              0.2222222222222222,
              "#7201a8"
             ],
             [
              0.3333333333333333,
              "#9c179e"
             ],
             [
              0.4444444444444444,
              "#bd3786"
             ],
             [
              0.5555555555555556,
              "#d8576b"
             ],
             [
              0.6666666666666666,
              "#ed7953"
             ],
             [
              0.7777777777777778,
              "#fb9f3a"
             ],
             [
              0.8888888888888888,
              "#fdca26"
             ],
             [
              1,
              "#f0f921"
             ]
            ],
            "type": "histogram2d"
           }
          ],
          "histogram2dcontour": [
           {
            "colorbar": {
             "outlinewidth": 0,
             "ticks": ""
            },
            "colorscale": [
             [
              0,
              "#0d0887"
             ],
             [
              0.1111111111111111,
              "#46039f"
             ],
             [
              0.2222222222222222,
              "#7201a8"
             ],
             [
              0.3333333333333333,
              "#9c179e"
             ],
             [
              0.4444444444444444,
              "#bd3786"
             ],
             [
              0.5555555555555556,
              "#d8576b"
             ],
             [
              0.6666666666666666,
              "#ed7953"
             ],
             [
              0.7777777777777778,
              "#fb9f3a"
             ],
             [
              0.8888888888888888,
              "#fdca26"
             ],
             [
              1,
              "#f0f921"
             ]
            ],
            "type": "histogram2dcontour"
           }
          ],
          "mesh3d": [
           {
            "colorbar": {
             "outlinewidth": 0,
             "ticks": ""
            },
            "type": "mesh3d"
           }
          ],
          "parcoords": [
           {
            "line": {
             "colorbar": {
              "outlinewidth": 0,
              "ticks": ""
             }
            },
            "type": "parcoords"
           }
          ],
          "pie": [
           {
            "automargin": true,
            "type": "pie"
           }
          ],
          "scatter": [
           {
            "fillpattern": {
             "fillmode": "overlay",
             "size": 10,
             "solidity": 0.2
            },
            "type": "scatter"
           }
          ],
          "scatter3d": [
           {
            "line": {
             "colorbar": {
              "outlinewidth": 0,
              "ticks": ""
             }
            },
            "marker": {
             "colorbar": {
              "outlinewidth": 0,
              "ticks": ""
             }
            },
            "type": "scatter3d"
           }
          ],
          "scattercarpet": [
           {
            "marker": {
             "colorbar": {
              "outlinewidth": 0,
              "ticks": ""
             }
            },
            "type": "scattercarpet"
           }
          ],
          "scattergeo": [
           {
            "marker": {
             "colorbar": {
              "outlinewidth": 0,
              "ticks": ""
             }
            },
            "type": "scattergeo"
           }
          ],
          "scattergl": [
           {
            "marker": {
             "colorbar": {
              "outlinewidth": 0,
              "ticks": ""
             }
            },
            "type": "scattergl"
           }
          ],
          "scattermap": [
           {
            "marker": {
             "colorbar": {
              "outlinewidth": 0,
              "ticks": ""
             }
            },
            "type": "scattermap"
           }
          ],
          "scattermapbox": [
           {
            "marker": {
             "colorbar": {
              "outlinewidth": 0,
              "ticks": ""
             }
            },
            "type": "scattermapbox"
           }
          ],
          "scatterpolar": [
           {
            "marker": {
             "colorbar": {
              "outlinewidth": 0,
              "ticks": ""
             }
            },
            "type": "scatterpolar"
           }
          ],
          "scatterpolargl": [
           {
            "marker": {
             "colorbar": {
              "outlinewidth": 0,
              "ticks": ""
             }
            },
            "type": "scatterpolargl"
           }
          ],
          "scatterternary": [
           {
            "marker": {
             "colorbar": {
              "outlinewidth": 0,
              "ticks": ""
             }
            },
            "type": "scatterternary"
           }
          ],
          "surface": [
           {
            "colorbar": {
             "outlinewidth": 0,
             "ticks": ""
            },
            "colorscale": [
             [
              0,
              "#0d0887"
             ],
             [
              0.1111111111111111,
              "#46039f"
             ],
             [
              0.2222222222222222,
              "#7201a8"
             ],
             [
              0.3333333333333333,
              "#9c179e"
             ],
             [
              0.4444444444444444,
              "#bd3786"
             ],
             [
              0.5555555555555556,
              "#d8576b"
             ],
             [
              0.6666666666666666,
              "#ed7953"
             ],
             [
              0.7777777777777778,
              "#fb9f3a"
             ],
             [
              0.8888888888888888,
              "#fdca26"
             ],
             [
              1,
              "#f0f921"
             ]
            ],
            "type": "surface"
           }
          ],
          "table": [
           {
            "cells": {
             "fill": {
              "color": "#EBF0F8"
             },
             "line": {
              "color": "white"
             }
            },
            "header": {
             "fill": {
              "color": "#C8D4E3"
             },
             "line": {
              "color": "white"
             }
            },
            "type": "table"
           }
          ]
         },
         "layout": {
          "annotationdefaults": {
           "arrowcolor": "#2a3f5f",
           "arrowhead": 0,
           "arrowwidth": 1
          },
          "autotypenumbers": "strict",
          "coloraxis": {
           "colorbar": {
            "outlinewidth": 0,
            "ticks": ""
           }
          },
          "colorscale": {
           "diverging": [
            [
             0,
             "#8e0152"
            ],
            [
             0.1,
             "#c51b7d"
            ],
            [
             0.2,
             "#de77ae"
            ],
            [
             0.3,
             "#f1b6da"
            ],
            [
             0.4,
             "#fde0ef"
            ],
            [
             0.5,
             "#f7f7f7"
            ],
            [
             0.6,
             "#e6f5d0"
            ],
            [
             0.7,
             "#b8e186"
            ],
            [
             0.8,
             "#7fbc41"
            ],
            [
             0.9,
             "#4d9221"
            ],
            [
             1,
             "#276419"
            ]
           ],
           "sequential": [
            [
             0,
             "#0d0887"
            ],
            [
             0.1111111111111111,
             "#46039f"
            ],
            [
             0.2222222222222222,
             "#7201a8"
            ],
            [
             0.3333333333333333,
             "#9c179e"
            ],
            [
             0.4444444444444444,
             "#bd3786"
            ],
            [
             0.5555555555555556,
             "#d8576b"
            ],
            [
             0.6666666666666666,
             "#ed7953"
            ],
            [
             0.7777777777777778,
             "#fb9f3a"
            ],
            [
             0.8888888888888888,
             "#fdca26"
            ],
            [
             1,
             "#f0f921"
            ]
           ],
           "sequentialminus": [
            [
             0,
             "#0d0887"
            ],
            [
             0.1111111111111111,
             "#46039f"
            ],
            [
             0.2222222222222222,
             "#7201a8"
            ],
            [
             0.3333333333333333,
             "#9c179e"
            ],
            [
             0.4444444444444444,
             "#bd3786"
            ],
            [
             0.5555555555555556,
             "#d8576b"
            ],
            [
             0.6666666666666666,
             "#ed7953"
            ],
            [
             0.7777777777777778,
             "#fb9f3a"
            ],
            [
             0.8888888888888888,
             "#fdca26"
            ],
            [
             1,
             "#f0f921"
            ]
           ]
          },
          "colorway": [
           "#636efa",
           "#EF553B",
           "#00cc96",
           "#ab63fa",
           "#FFA15A",
           "#19d3f3",
           "#FF6692",
           "#B6E880",
           "#FF97FF",
           "#FECB52"
          ],
          "font": {
           "color": "#2a3f5f"
          },
          "geo": {
           "bgcolor": "white",
           "lakecolor": "white",
           "landcolor": "#E5ECF6",
           "showlakes": true,
           "showland": true,
           "subunitcolor": "white"
          },
          "hoverlabel": {
           "align": "left"
          },
          "hovermode": "closest",
          "mapbox": {
           "style": "light"
          },
          "paper_bgcolor": "white",
          "plot_bgcolor": "#E5ECF6",
          "polar": {
           "angularaxis": {
            "gridcolor": "white",
            "linecolor": "white",
            "ticks": ""
           },
           "bgcolor": "#E5ECF6",
           "radialaxis": {
            "gridcolor": "white",
            "linecolor": "white",
            "ticks": ""
           }
          },
          "scene": {
           "xaxis": {
            "backgroundcolor": "#E5ECF6",
            "gridcolor": "white",
            "gridwidth": 2,
            "linecolor": "white",
            "showbackground": true,
            "ticks": "",
            "zerolinecolor": "white"
           },
           "yaxis": {
            "backgroundcolor": "#E5ECF6",
            "gridcolor": "white",
            "gridwidth": 2,
            "linecolor": "white",
            "showbackground": true,
            "ticks": "",
            "zerolinecolor": "white"
           },
           "zaxis": {
            "backgroundcolor": "#E5ECF6",
            "gridcolor": "white",
            "gridwidth": 2,
            "linecolor": "white",
            "showbackground": true,
            "ticks": "",
            "zerolinecolor": "white"
           }
          },
          "shapedefaults": {
           "line": {
            "color": "#2a3f5f"
           }
          },
          "ternary": {
           "aaxis": {
            "gridcolor": "white",
            "linecolor": "white",
            "ticks": ""
           },
           "baxis": {
            "gridcolor": "white",
            "linecolor": "white",
            "ticks": ""
           },
           "bgcolor": "#E5ECF6",
           "caxis": {
            "gridcolor": "white",
            "linecolor": "white",
            "ticks": ""
           }
          },
          "title": {
           "x": 0.05
          },
          "xaxis": {
           "automargin": true,
           "gridcolor": "white",
           "linecolor": "white",
           "ticks": "",
           "title": {
            "standoff": 15
           },
           "zerolinecolor": "white",
           "zerolinewidth": 2
          },
          "yaxis": {
           "automargin": true,
           "gridcolor": "white",
           "linecolor": "white",
           "ticks": "",
           "title": {
            "standoff": 15
           },
           "zerolinecolor": "white",
           "zerolinewidth": 2
          }
         }
        },
        "title": {
         "text": "Semantic Expansion over Writing Sessions<br><span style=\"font-size: 12px;\">*Measuring how well humans are learning while writing with GenAI</span>"
        },
        "width": 1600,
        "xaxis": {
         "anchor": "y",
         "domain": [
          0,
          1
         ],
         "gridcolor": "white",
         "linecolor": "black",
         "mirror": false,
         "range": [
          -1,
          104
         ],
         "showline": true,
         "ticks": "outside",
         "title": {
          "text": "Progress into the writing session"
         }
        },
        "yaxis": {
         "anchor": "x",
         "domain": [
          0,
          1
         ],
         "gridcolor": "white",
         "linecolor": "black",
         "mirror": false,
         "showline": true,
         "ticks": "outside",
         "title": {
          "text": "Scores"
         }
        }
       }
      }
     },
     "metadata": {},
     "output_type": "display_data"
    },
    {
     "name": "stdout",
     "output_type": "stream",
     "text": [
      "legislation_corporate_5\n"
     ]
    },
    {
     "data": {
      "application/vnd.plotly.v1+json": {
       "config": {
        "plotlyServerURL": "https://plot.ly"
       },
       "data": [
        {
         "line": {
          "color": "#64B5F6",
          "width": 2
         },
         "mode": "lines",
         "name": "human_insert_backstage",
         "showlegend": true,
         "type": "scatter",
         "x": [
          null
         ],
         "xaxis": "x",
         "y": [
          null
         ],
         "yaxis": "y"
        },
        {
         "line": {
          "color": "#ff8fab",
          "width": 2
         },
         "mode": "lines",
         "name": "ai_suggest_backstage",
         "showlegend": true,
         "type": "scatter",
         "x": [
          null
         ],
         "xaxis": "x",
         "y": [
          null
         ],
         "yaxis": "y"
        },
        {
         "line": {
          "color": "#023e8a",
          "width": 2
         },
         "mode": "lines",
         "name": "human_insert_frontstage",
         "showlegend": true,
         "type": "scatter",
         "x": [
          null
         ],
         "xaxis": "x",
         "y": [
          null
         ],
         "yaxis": "y"
        },
        {
         "line": {
          "color": "#c1121f",
          "width": 2
         },
         "mode": "lines",
         "name": "ai_insert_moved_to_frontstage",
         "showlegend": true,
         "type": "scatter",
         "x": [
          null
         ],
         "xaxis": "x",
         "y": [
          null
         ],
         "yaxis": "y"
        },
        {
         "line": {
          "color": "#9d4edd",
          "width": 2
         },
         "mode": "lines",
         "name": "human_delete_frontstage",
         "showlegend": true,
         "type": "scatter",
         "x": [
          null
         ],
         "xaxis": "x",
         "y": [
          null
         ],
         "yaxis": "y"
        },
        {
         "line": {
          "color": "#5a189a",
          "width": 2
         },
         "mode": "lines",
         "name": "human_insert_edit_frontstage",
         "showlegend": true,
         "type": "scatter",
         "x": [
          null
         ],
         "xaxis": "x",
         "y": [
          null
         ],
         "yaxis": "y"
        }
       ],
       "layout": {
        "annotations": [
         {
          "font": {
           "size": 16
          },
          "showarrow": false,
          "text": "Session: legislation_corporate_5",
          "x": 0.5,
          "xanchor": "center",
          "xref": "paper",
          "y": 1,
          "yanchor": "bottom",
          "yref": "paper"
         }
        ],
        "height": 500,
        "legend": {
         "title": {
          "font": {
           "color": "rgba(0, 0, 0, 0)"
          }
         }
        },
        "plot_bgcolor": "white",
        "shapes": [
         {
          "line": {
           "color": "#64B5F6",
           "width": 2
          },
          "type": "line",
          "x0": 30,
          "x1": 31,
          "xref": "x",
          "y0": 13.111225306987762,
          "y1": 13.90914386510849,
          "yref": "y"
         },
         {
          "line": {
           "color": "#64B5F6",
           "width": 2
          },
          "type": "line",
          "x0": 34,
          "x1": 35,
          "xref": "x",
          "y0": 13.301075398921967,
          "y1": 12.894277155399323,
          "yref": "y"
         },
         {
          "line": {
           "color": "#64B5F6",
           "width": 2
          },
          "type": "line",
          "x0": 44,
          "x1": 45,
          "xref": "x",
          "y0": 15.338219404220581,
          "y1": 16.153051614761353,
          "yref": "y"
         },
         {
          "line": {
           "color": "#64B5F6",
           "width": 2
          },
          "type": "line",
          "x0": 47,
          "x1": 48,
          "xref": "x",
          "y0": 14.85924208164215,
          "y1": 15.339208126068115,
          "yref": "y"
         },
         {
          "line": {
           "color": "#64B5F6",
           "width": 2
          },
          "type": "line",
          "x0": 52,
          "x1": 53,
          "xref": "x",
          "y0": 15.734781801700592,
          "y1": 14.50924301147461,
          "yref": "y"
         },
         {
          "line": {
           "color": "#64B5F6",
           "width": 2
          },
          "type": "line",
          "x0": 61,
          "x1": 62,
          "xref": "x",
          "y0": 17.85434901714325,
          "y1": 18.554831862449646,
          "yref": "y"
         },
         {
          "line": {
           "color": "#ff8fab",
           "width": 2
          },
          "type": "line",
          "x0": 4,
          "x1": 5,
          "xref": "x",
          "y0": 2.5516918301582336,
          "y1": 2.848810636997223,
          "yref": "y"
         },
         {
          "line": {
           "color": "#ff8fab",
           "width": 2
          },
          "type": "line",
          "x0": 8,
          "x1": 9,
          "xref": "x",
          "y0": 3.4837191104888916,
          "y1": 3.871078670024872,
          "yref": "y"
         },
         {
          "line": {
           "color": "#ff8fab",
           "width": 2
          },
          "type": "line",
          "x0": 12,
          "x1": 13,
          "xref": "x",
          "y0": 5.14600270986557,
          "y1": 5.6176523804664615,
          "yref": "y"
         },
         {
          "line": {
           "color": "#ff8fab",
           "width": 2
          },
          "type": "line",
          "x0": 16,
          "x1": 17,
          "xref": "x",
          "y0": 7.4623085260391235,
          "y1": 7.922033357620239,
          "yref": "y"
         },
         {
          "line": {
           "color": "#ff8fab",
           "width": 2
          },
          "type": "line",
          "x0": 20,
          "x1": 21,
          "xref": "x",
          "y0": 8.752146184444427,
          "y1": 9.275913429260253,
          "yref": "y"
         },
         {
          "line": {
           "color": "#ff8fab",
           "width": 2
          },
          "type": "line",
          "x0": 25,
          "x1": 26,
          "xref": "x",
          "y0": 11.560766041278839,
          "y1": 9.944756066799163,
          "yref": "y"
         },
         {
          "line": {
           "color": "#ff8fab",
           "width": 2
          },
          "type": "line",
          "x0": 28,
          "x1": 29,
          "xref": "x",
          "y0": 12.867784142494202,
          "y1": 13.301126897335052,
          "yref": "y"
         },
         {
          "line": {
           "color": "#ff8fab",
           "width": 2
          },
          "type": "line",
          "x0": 31,
          "x1": 32,
          "xref": "x",
          "y0": 13.90914386510849,
          "y1": 14.227410793304443,
          "yref": "y"
         },
         {
          "line": {
           "color": "#ff8fab",
           "width": 2
          },
          "type": "line",
          "x0": 35,
          "x1": 36,
          "xref": "x",
          "y0": 12.894277155399323,
          "y1": 13.249608135223388,
          "yref": "y"
         },
         {
          "line": {
           "color": "#ff8fab",
           "width": 2
          },
          "type": "line",
          "x0": 40,
          "x1": 41,
          "xref": "x",
          "y0": 14.066230654716492,
          "y1": 14.455905020236969,
          "yref": "y"
         },
         {
          "line": {
           "color": "#ff8fab",
           "width": 2
          },
          "type": "line",
          "x0": 43,
          "x1": 44,
          "xref": "x",
          "y0": 14.943819880485535,
          "y1": 15.338219404220581,
          "yref": "y"
         },
         {
          "line": {
           "color": "#ff8fab",
           "width": 2
          },
          "type": "line",
          "x0": 45,
          "x1": 46,
          "xref": "x",
          "y0": 16.153051614761353,
          "y1": 16.59255337715149,
          "yref": "y"
         },
         {
          "line": {
           "color": "#ff8fab",
           "width": 2
          },
          "type": "line",
          "x0": 48,
          "x1": 49,
          "xref": "x",
          "y0": 15.339208126068115,
          "y1": 15.770597422122956,
          "yref": "y"
         },
         {
          "line": {
           "color": "#ff8fab",
           "width": 2
          },
          "type": "line",
          "x0": 53,
          "x1": 54,
          "xref": "x",
          "y0": 14.50924301147461,
          "y1": 15.019054281711579,
          "yref": "y"
         },
         {
          "line": {
           "color": "#ff8fab",
           "width": 2
          },
          "type": "line",
          "x0": 55,
          "x1": 56,
          "xref": "x",
          "y0": 16.28570556640625,
          "y1": 16.709550404548644,
          "yref": "y"
         },
         {
          "line": {
           "color": "#ff8fab",
           "width": 2
          },
          "type": "line",
          "x0": 57,
          "x1": 58,
          "xref": "x",
          "y0": 16.758277535438538,
          "y1": 17.256994247436523,
          "yref": "y"
         },
         {
          "line": {
           "color": "#ff8fab",
           "width": 2
          },
          "type": "line",
          "x0": 59,
          "x1": 60,
          "xref": "x",
          "y0": 17.294090151786804,
          "y1": 17.69061654806137,
          "yref": "y"
         },
         {
          "line": {
           "color": "#ff8fab",
           "width": 2
          },
          "type": "line",
          "x0": 62,
          "x1": 63,
          "xref": "x",
          "y0": 18.554831862449646,
          "y1": 18.898576533794404,
          "yref": "y"
         },
         {
          "line": {
           "color": "#023e8a",
           "width": 2
          },
          "type": "line",
          "x0": 0,
          "x1": 0,
          "xref": "x",
          "y0": 0,
          "y1": 0.29318374395370483,
          "yref": "y"
         },
         {
          "line": {
           "color": "#023e8a",
           "width": 2
          },
          "type": "line",
          "x0": 0,
          "x1": 1,
          "xref": "x",
          "y0": 0,
          "y1": 0.6015324592590332,
          "yref": "y"
         },
         {
          "line": {
           "color": "#023e8a",
           "width": 2
          },
          "type": "line",
          "x0": 1,
          "x1": 2,
          "xref": "x",
          "y0": 0.6015324592590332,
          "y1": 1.3412423133850098,
          "yref": "y"
         },
         {
          "line": {
           "color": "#023e8a",
           "width": 2
          },
          "type": "line",
          "x0": 2,
          "x1": 3,
          "xref": "x",
          "y0": 1.3412423133850098,
          "y1": 1.871074378490448,
          "yref": "y"
         },
         {
          "line": {
           "color": "#023e8a",
           "width": 2
          },
          "type": "line",
          "x0": 3,
          "x1": 4,
          "xref": "x",
          "y0": 1.871074378490448,
          "y1": 2.5516918301582336,
          "yref": "y"
         },
         {
          "line": {
           "color": "#023e8a",
           "width": 2
          },
          "type": "line",
          "x0": 6,
          "x1": 7,
          "xref": "x",
          "y0": 2.677396833896637,
          "y1": 2.9314240217208862,
          "yref": "y"
         },
         {
          "line": {
           "color": "#023e8a",
           "width": 2
          },
          "type": "line",
          "x0": 7,
          "x1": 8,
          "xref": "x",
          "y0": 2.9314240217208862,
          "y1": 3.4837191104888916,
          "yref": "y"
         },
         {
          "line": {
           "color": "#023e8a",
           "width": 2
          },
          "type": "line",
          "x0": 10,
          "x1": 11,
          "xref": "x",
          "y0": 4.223755776882172,
          "y1": 4.787146329879761,
          "yref": "y"
         },
         {
          "line": {
           "color": "#023e8a",
           "width": 2
          },
          "type": "line",
          "x0": 11,
          "x1": 12,
          "xref": "x",
          "y0": 4.787146329879761,
          "y1": 5.14600270986557,
          "yref": "y"
         },
         {
          "line": {
           "color": "#023e8a",
           "width": 2
          },
          "type": "line",
          "x0": 14,
          "x1": 15,
          "xref": "x",
          "y0": 6.543671607971191,
          "y1": 7.129157304763794,
          "yref": "y"
         },
         {
          "line": {
           "color": "#023e8a",
           "width": 2
          },
          "type": "line",
          "x0": 15,
          "x1": 16,
          "xref": "x",
          "y0": 7.129157304763794,
          "y1": 7.4623085260391235,
          "yref": "y"
         },
         {
          "line": {
           "color": "#023e8a",
           "width": 2
          },
          "type": "line",
          "x0": 18,
          "x1": 19,
          "xref": "x",
          "y0": 8.124843001365662,
          "y1": 8.47992092370987,
          "yref": "y"
         },
         {
          "line": {
           "color": "#023e8a",
           "width": 2
          },
          "type": "line",
          "x0": 19,
          "x1": 20,
          "xref": "x",
          "y0": 8.47992092370987,
          "y1": 8.752146184444427,
          "yref": "y"
         },
         {
          "line": {
           "color": "#023e8a",
           "width": 2
          },
          "type": "line",
          "x0": 22,
          "x1": 23,
          "xref": "x",
          "y0": 10.020343482494354,
          "y1": 10.366310775279999,
          "yref": "y"
         },
         {
          "line": {
           "color": "#023e8a",
           "width": 2
          },
          "type": "line",
          "x0": 23,
          "x1": 24,
          "xref": "x",
          "y0": 10.366310775279999,
          "y1": 10.698417007923126,
          "yref": "y"
         },
         {
          "line": {
           "color": "#023e8a",
           "width": 2
          },
          "type": "line",
          "x0": 24,
          "x1": 25,
          "xref": "x",
          "y0": 10.698417007923126,
          "y1": 11.560766041278839,
          "yref": "y"
         },
         {
          "line": {
           "color": "#023e8a",
           "width": 2
          },
          "type": "line",
          "x0": 27,
          "x1": 28,
          "xref": "x",
          "y0": 12.503178060054779,
          "y1": 12.867784142494202,
          "yref": "y"
         },
         {
          "line": {
           "color": "#023e8a",
           "width": 2
          },
          "type": "line",
          "x0": 33,
          "x1": 34,
          "xref": "x",
          "y0": 13.070664823055267,
          "y1": 13.301075398921967,
          "yref": "y"
         },
         {
          "line": {
           "color": "#023e8a",
           "width": 2
          },
          "type": "line",
          "x0": 39,
          "x1": 40,
          "xref": "x",
          "y0": 13.674764394760132,
          "y1": 14.066230654716492,
          "yref": "y"
         },
         {
          "line": {
           "color": "#023e8a",
           "width": 2
          },
          "type": "line",
          "x0": 42,
          "x1": 43,
          "xref": "x",
          "y0": 14.541945993900299,
          "y1": 14.943819880485535,
          "yref": "y"
         },
         {
          "line": {
           "color": "#023e8a",
           "width": 2
          },
          "type": "line",
          "x0": 51,
          "x1": 52,
          "xref": "x",
          "y0": 15.336974918842316,
          "y1": 15.734781801700592,
          "yref": "y"
         },
         {
          "line": {
           "color": "#c1121f",
           "width": 2
          },
          "type": "line",
          "x0": 5,
          "x1": 6,
          "xref": "x",
          "y0": 2.5516918301582336,
          "y1": 2.677396833896637,
          "yref": "y"
         },
         {
          "line": {
           "color": "#c1121f",
           "width": 2
          },
          "type": "line",
          "x0": 9,
          "x1": 10,
          "xref": "x",
          "y0": 3.4837191104888916,
          "y1": 4.223755776882172,
          "yref": "y"
         },
         {
          "line": {
           "color": "#c1121f",
           "width": 2
          },
          "type": "line",
          "x0": 13,
          "x1": 14,
          "xref": "x",
          "y0": 5.14600270986557,
          "y1": 6.543671607971191,
          "yref": "y"
         },
         {
          "line": {
           "color": "#c1121f",
           "width": 2
          },
          "type": "line",
          "x0": 17,
          "x1": 18,
          "xref": "x",
          "y0": 7.4623085260391235,
          "y1": 8.124843001365662,
          "yref": "y"
         },
         {
          "line": {
           "color": "#c1121f",
           "width": 2
          },
          "type": "line",
          "x0": 21,
          "x1": 22,
          "xref": "x",
          "y0": 8.752146184444427,
          "y1": 10.020343482494354,
          "yref": "y"
         },
         {
          "line": {
           "color": "#c1121f",
           "width": 2
          },
          "type": "line",
          "x0": 26,
          "x1": 27,
          "xref": "x",
          "y0": 11.560766041278839,
          "y1": 12.503178060054779,
          "yref": "y"
         },
         {
          "line": {
           "color": "#c1121f",
           "width": 2
          },
          "type": "line",
          "x0": 29,
          "x1": 30,
          "xref": "x",
          "y0": 12.867784142494202,
          "y1": 13.111225306987762,
          "yref": "y"
         },
         {
          "line": {
           "color": "#c1121f",
           "width": 2
          },
          "type": "line",
          "x0": 32,
          "x1": 33,
          "xref": "x",
          "y0": 13.111225306987762,
          "y1": 13.070664823055267,
          "yref": "y"
         },
         {
          "line": {
           "color": "#c1121f",
           "width": 2
          },
          "type": "line",
          "x0": 36,
          "x1": 37,
          "xref": "x",
          "y0": 13.301075398921967,
          "y1": 14.090674579143524,
          "yref": "y"
         },
         {
          "line": {
           "color": "#c1121f",
           "width": 2
          },
          "type": "line",
          "x0": 41,
          "x1": 42,
          "xref": "x",
          "y0": 14.066230654716492,
          "y1": 14.541945993900299,
          "yref": "y"
         },
         {
          "line": {
           "color": "#c1121f",
           "width": 2
          },
          "type": "line",
          "x0": 49,
          "x1": 50,
          "xref": "x",
          "y0": 14.85924208164215,
          "y1": 15.336974918842316,
          "yref": "y"
         },
         {
          "line": {
           "color": "#c1121f",
           "width": 2
          },
          "type": "line",
          "x0": 54,
          "x1": 55,
          "xref": "x",
          "y0": 15.734781801700592,
          "y1": 16.28570556640625,
          "yref": "y"
         },
         {
          "line": {
           "color": "#c1121f",
           "width": 2
          },
          "type": "line",
          "x0": 56,
          "x1": 57,
          "xref": "x",
          "y0": 16.28570556640625,
          "y1": 16.758277535438538,
          "yref": "y"
         },
         {
          "line": {
           "color": "#c1121f",
           "width": 2
          },
          "type": "line",
          "x0": 58,
          "x1": 59,
          "xref": "x",
          "y0": 16.758277535438538,
          "y1": 17.294090151786804,
          "yref": "y"
         },
         {
          "line": {
           "color": "#c1121f",
           "width": 2
          },
          "type": "line",
          "x0": 60,
          "x1": 61,
          "xref": "x",
          "y0": 17.294090151786804,
          "y1": 17.85434901714325,
          "yref": "y"
         },
         {
          "line": {
           "color": "#c1121f",
           "width": 2
          },
          "type": "line",
          "x0": 63,
          "x1": 64,
          "xref": "x",
          "y0": 17.85434901714325,
          "y1": 18.2824627161026,
          "yref": "y"
         },
         {
          "line": {
           "color": "#9d4edd",
           "width": 2
          },
          "type": "line",
          "x0": 37,
          "x1": 38,
          "xref": "x",
          "y0": 14.090674579143524,
          "y1": 13.674280822277069,
          "yref": "y"
         },
         {
          "line": {
           "color": "#9d4edd",
           "width": 2
          },
          "type": "line",
          "x0": 38,
          "x1": 39,
          "xref": "x",
          "y0": 13.674280822277069,
          "y1": 13.674764394760132,
          "yref": "y"
         },
         {
          "line": {
           "color": "#9d4edd",
           "width": 2
          },
          "type": "line",
          "x0": 46,
          "x1": 47,
          "xref": "x",
          "y0": 14.943819880485535,
          "y1": 14.85924208164215,
          "yref": "y"
         },
         {
          "line": {
           "color": "#9d4edd",
           "width": 2
          },
          "type": "line",
          "x0": 50,
          "x1": 51,
          "xref": "x",
          "y0": 15.336974918842316,
          "y1": 15.336974918842316,
          "yref": "y"
         }
        ],
        "showlegend": true,
        "template": {
         "data": {
          "bar": [
           {
            "error_x": {
             "color": "#2a3f5f"
            },
            "error_y": {
             "color": "#2a3f5f"
            },
            "marker": {
             "line": {
              "color": "#E5ECF6",
              "width": 0.5
             },
             "pattern": {
              "fillmode": "overlay",
              "size": 10,
              "solidity": 0.2
             }
            },
            "type": "bar"
           }
          ],
          "barpolar": [
           {
            "marker": {
             "line": {
              "color": "#E5ECF6",
              "width": 0.5
             },
             "pattern": {
              "fillmode": "overlay",
              "size": 10,
              "solidity": 0.2
             }
            },
            "type": "barpolar"
           }
          ],
          "carpet": [
           {
            "aaxis": {
             "endlinecolor": "#2a3f5f",
             "gridcolor": "white",
             "linecolor": "white",
             "minorgridcolor": "white",
             "startlinecolor": "#2a3f5f"
            },
            "baxis": {
             "endlinecolor": "#2a3f5f",
             "gridcolor": "white",
             "linecolor": "white",
             "minorgridcolor": "white",
             "startlinecolor": "#2a3f5f"
            },
            "type": "carpet"
           }
          ],
          "choropleth": [
           {
            "colorbar": {
             "outlinewidth": 0,
             "ticks": ""
            },
            "type": "choropleth"
           }
          ],
          "contour": [
           {
            "colorbar": {
             "outlinewidth": 0,
             "ticks": ""
            },
            "colorscale": [
             [
              0,
              "#0d0887"
             ],
             [
              0.1111111111111111,
              "#46039f"
             ],
             [
              0.2222222222222222,
              "#7201a8"
             ],
             [
              0.3333333333333333,
              "#9c179e"
             ],
             [
              0.4444444444444444,
              "#bd3786"
             ],
             [
              0.5555555555555556,
              "#d8576b"
             ],
             [
              0.6666666666666666,
              "#ed7953"
             ],
             [
              0.7777777777777778,
              "#fb9f3a"
             ],
             [
              0.8888888888888888,
              "#fdca26"
             ],
             [
              1,
              "#f0f921"
             ]
            ],
            "type": "contour"
           }
          ],
          "contourcarpet": [
           {
            "colorbar": {
             "outlinewidth": 0,
             "ticks": ""
            },
            "type": "contourcarpet"
           }
          ],
          "heatmap": [
           {
            "colorbar": {
             "outlinewidth": 0,
             "ticks": ""
            },
            "colorscale": [
             [
              0,
              "#0d0887"
             ],
             [
              0.1111111111111111,
              "#46039f"
             ],
             [
              0.2222222222222222,
              "#7201a8"
             ],
             [
              0.3333333333333333,
              "#9c179e"
             ],
             [
              0.4444444444444444,
              "#bd3786"
             ],
             [
              0.5555555555555556,
              "#d8576b"
             ],
             [
              0.6666666666666666,
              "#ed7953"
             ],
             [
              0.7777777777777778,
              "#fb9f3a"
             ],
             [
              0.8888888888888888,
              "#fdca26"
             ],
             [
              1,
              "#f0f921"
             ]
            ],
            "type": "heatmap"
           }
          ],
          "histogram": [
           {
            "marker": {
             "pattern": {
              "fillmode": "overlay",
              "size": 10,
              "solidity": 0.2
             }
            },
            "type": "histogram"
           }
          ],
          "histogram2d": [
           {
            "colorbar": {
             "outlinewidth": 0,
             "ticks": ""
            },
            "colorscale": [
             [
              0,
              "#0d0887"
             ],
             [
              0.1111111111111111,
              "#46039f"
             ],
             [
              0.2222222222222222,
              "#7201a8"
             ],
             [
              0.3333333333333333,
              "#9c179e"
             ],
             [
              0.4444444444444444,
              "#bd3786"
             ],
             [
              0.5555555555555556,
              "#d8576b"
             ],
             [
              0.6666666666666666,
              "#ed7953"
             ],
             [
              0.7777777777777778,
              "#fb9f3a"
             ],
             [
              0.8888888888888888,
              "#fdca26"
             ],
             [
              1,
              "#f0f921"
             ]
            ],
            "type": "histogram2d"
           }
          ],
          "histogram2dcontour": [
           {
            "colorbar": {
             "outlinewidth": 0,
             "ticks": ""
            },
            "colorscale": [
             [
              0,
              "#0d0887"
             ],
             [
              0.1111111111111111,
              "#46039f"
             ],
             [
              0.2222222222222222,
              "#7201a8"
             ],
             [
              0.3333333333333333,
              "#9c179e"
             ],
             [
              0.4444444444444444,
              "#bd3786"
             ],
             [
              0.5555555555555556,
              "#d8576b"
             ],
             [
              0.6666666666666666,
              "#ed7953"
             ],
             [
              0.7777777777777778,
              "#fb9f3a"
             ],
             [
              0.8888888888888888,
              "#fdca26"
             ],
             [
              1,
              "#f0f921"
             ]
            ],
            "type": "histogram2dcontour"
           }
          ],
          "mesh3d": [
           {
            "colorbar": {
             "outlinewidth": 0,
             "ticks": ""
            },
            "type": "mesh3d"
           }
          ],
          "parcoords": [
           {
            "line": {
             "colorbar": {
              "outlinewidth": 0,
              "ticks": ""
             }
            },
            "type": "parcoords"
           }
          ],
          "pie": [
           {
            "automargin": true,
            "type": "pie"
           }
          ],
          "scatter": [
           {
            "fillpattern": {
             "fillmode": "overlay",
             "size": 10,
             "solidity": 0.2
            },
            "type": "scatter"
           }
          ],
          "scatter3d": [
           {
            "line": {
             "colorbar": {
              "outlinewidth": 0,
              "ticks": ""
             }
            },
            "marker": {
             "colorbar": {
              "outlinewidth": 0,
              "ticks": ""
             }
            },
            "type": "scatter3d"
           }
          ],
          "scattercarpet": [
           {
            "marker": {
             "colorbar": {
              "outlinewidth": 0,
              "ticks": ""
             }
            },
            "type": "scattercarpet"
           }
          ],
          "scattergeo": [
           {
            "marker": {
             "colorbar": {
              "outlinewidth": 0,
              "ticks": ""
             }
            },
            "type": "scattergeo"
           }
          ],
          "scattergl": [
           {
            "marker": {
             "colorbar": {
              "outlinewidth": 0,
              "ticks": ""
             }
            },
            "type": "scattergl"
           }
          ],
          "scattermap": [
           {
            "marker": {
             "colorbar": {
              "outlinewidth": 0,
              "ticks": ""
             }
            },
            "type": "scattermap"
           }
          ],
          "scattermapbox": [
           {
            "marker": {
             "colorbar": {
              "outlinewidth": 0,
              "ticks": ""
             }
            },
            "type": "scattermapbox"
           }
          ],
          "scatterpolar": [
           {
            "marker": {
             "colorbar": {
              "outlinewidth": 0,
              "ticks": ""
             }
            },
            "type": "scatterpolar"
           }
          ],
          "scatterpolargl": [
           {
            "marker": {
             "colorbar": {
              "outlinewidth": 0,
              "ticks": ""
             }
            },
            "type": "scatterpolargl"
           }
          ],
          "scatterternary": [
           {
            "marker": {
             "colorbar": {
              "outlinewidth": 0,
              "ticks": ""
             }
            },
            "type": "scatterternary"
           }
          ],
          "surface": [
           {
            "colorbar": {
             "outlinewidth": 0,
             "ticks": ""
            },
            "colorscale": [
             [
              0,
              "#0d0887"
             ],
             [
              0.1111111111111111,
              "#46039f"
             ],
             [
              0.2222222222222222,
              "#7201a8"
             ],
             [
              0.3333333333333333,
              "#9c179e"
             ],
             [
              0.4444444444444444,
              "#bd3786"
             ],
             [
              0.5555555555555556,
              "#d8576b"
             ],
             [
              0.6666666666666666,
              "#ed7953"
             ],
             [
              0.7777777777777778,
              "#fb9f3a"
             ],
             [
              0.8888888888888888,
              "#fdca26"
             ],
             [
              1,
              "#f0f921"
             ]
            ],
            "type": "surface"
           }
          ],
          "table": [
           {
            "cells": {
             "fill": {
              "color": "#EBF0F8"
             },
             "line": {
              "color": "white"
             }
            },
            "header": {
             "fill": {
              "color": "#C8D4E3"
             },
             "line": {
              "color": "white"
             }
            },
            "type": "table"
           }
          ]
         },
         "layout": {
          "annotationdefaults": {
           "arrowcolor": "#2a3f5f",
           "arrowhead": 0,
           "arrowwidth": 1
          },
          "autotypenumbers": "strict",
          "coloraxis": {
           "colorbar": {
            "outlinewidth": 0,
            "ticks": ""
           }
          },
          "colorscale": {
           "diverging": [
            [
             0,
             "#8e0152"
            ],
            [
             0.1,
             "#c51b7d"
            ],
            [
             0.2,
             "#de77ae"
            ],
            [
             0.3,
             "#f1b6da"
            ],
            [
             0.4,
             "#fde0ef"
            ],
            [
             0.5,
             "#f7f7f7"
            ],
            [
             0.6,
             "#e6f5d0"
            ],
            [
             0.7,
             "#b8e186"
            ],
            [
             0.8,
             "#7fbc41"
            ],
            [
             0.9,
             "#4d9221"
            ],
            [
             1,
             "#276419"
            ]
           ],
           "sequential": [
            [
             0,
             "#0d0887"
            ],
            [
             0.1111111111111111,
             "#46039f"
            ],
            [
             0.2222222222222222,
             "#7201a8"
            ],
            [
             0.3333333333333333,
             "#9c179e"
            ],
            [
             0.4444444444444444,
             "#bd3786"
            ],
            [
             0.5555555555555556,
             "#d8576b"
            ],
            [
             0.6666666666666666,
             "#ed7953"
            ],
            [
             0.7777777777777778,
             "#fb9f3a"
            ],
            [
             0.8888888888888888,
             "#fdca26"
            ],
            [
             1,
             "#f0f921"
            ]
           ],
           "sequentialminus": [
            [
             0,
             "#0d0887"
            ],
            [
             0.1111111111111111,
             "#46039f"
            ],
            [
             0.2222222222222222,
             "#7201a8"
            ],
            [
             0.3333333333333333,
             "#9c179e"
            ],
            [
             0.4444444444444444,
             "#bd3786"
            ],
            [
             0.5555555555555556,
             "#d8576b"
            ],
            [
             0.6666666666666666,
             "#ed7953"
            ],
            [
             0.7777777777777778,
             "#fb9f3a"
            ],
            [
             0.8888888888888888,
             "#fdca26"
            ],
            [
             1,
             "#f0f921"
            ]
           ]
          },
          "colorway": [
           "#636efa",
           "#EF553B",
           "#00cc96",
           "#ab63fa",
           "#FFA15A",
           "#19d3f3",
           "#FF6692",
           "#B6E880",
           "#FF97FF",
           "#FECB52"
          ],
          "font": {
           "color": "#2a3f5f"
          },
          "geo": {
           "bgcolor": "white",
           "lakecolor": "white",
           "landcolor": "#E5ECF6",
           "showlakes": true,
           "showland": true,
           "subunitcolor": "white"
          },
          "hoverlabel": {
           "align": "left"
          },
          "hovermode": "closest",
          "mapbox": {
           "style": "light"
          },
          "paper_bgcolor": "white",
          "plot_bgcolor": "#E5ECF6",
          "polar": {
           "angularaxis": {
            "gridcolor": "white",
            "linecolor": "white",
            "ticks": ""
           },
           "bgcolor": "#E5ECF6",
           "radialaxis": {
            "gridcolor": "white",
            "linecolor": "white",
            "ticks": ""
           }
          },
          "scene": {
           "xaxis": {
            "backgroundcolor": "#E5ECF6",
            "gridcolor": "white",
            "gridwidth": 2,
            "linecolor": "white",
            "showbackground": true,
            "ticks": "",
            "zerolinecolor": "white"
           },
           "yaxis": {
            "backgroundcolor": "#E5ECF6",
            "gridcolor": "white",
            "gridwidth": 2,
            "linecolor": "white",
            "showbackground": true,
            "ticks": "",
            "zerolinecolor": "white"
           },
           "zaxis": {
            "backgroundcolor": "#E5ECF6",
            "gridcolor": "white",
            "gridwidth": 2,
            "linecolor": "white",
            "showbackground": true,
            "ticks": "",
            "zerolinecolor": "white"
           }
          },
          "shapedefaults": {
           "line": {
            "color": "#2a3f5f"
           }
          },
          "ternary": {
           "aaxis": {
            "gridcolor": "white",
            "linecolor": "white",
            "ticks": ""
           },
           "baxis": {
            "gridcolor": "white",
            "linecolor": "white",
            "ticks": ""
           },
           "bgcolor": "#E5ECF6",
           "caxis": {
            "gridcolor": "white",
            "linecolor": "white",
            "ticks": ""
           }
          },
          "title": {
           "x": 0.05
          },
          "xaxis": {
           "automargin": true,
           "gridcolor": "white",
           "linecolor": "white",
           "ticks": "",
           "title": {
            "standoff": 15
           },
           "zerolinecolor": "white",
           "zerolinewidth": 2
          },
          "yaxis": {
           "automargin": true,
           "gridcolor": "white",
           "linecolor": "white",
           "ticks": "",
           "title": {
            "standoff": 15
           },
           "zerolinecolor": "white",
           "zerolinewidth": 2
          }
         }
        },
        "title": {
         "text": "Semantic Expansion over Writing Sessions<br><span style=\"font-size: 12px;\">*Measuring how well humans are learning while writing with GenAI</span>"
        },
        "width": 1600,
        "xaxis": {
         "anchor": "y",
         "domain": [
          0,
          1
         ],
         "gridcolor": "white",
         "linecolor": "black",
         "mirror": false,
         "range": [
          -1,
          65
         ],
         "showline": true,
         "ticks": "outside",
         "title": {
          "text": "Progress into the writing session"
         }
        },
        "yaxis": {
         "anchor": "x",
         "domain": [
          0,
          1
         ],
         "gridcolor": "white",
         "linecolor": "black",
         "mirror": false,
         "showline": true,
         "ticks": "outside",
         "title": {
          "text": "Scores"
         }
        }
       }
      }
     },
     "metadata": {},
     "output_type": "display_data"
    },
    {
     "name": "stdout",
     "output_type": "stream",
     "text": [
      "legislation_corporate_6\n"
     ]
    },
    {
     "data": {
      "application/vnd.plotly.v1+json": {
       "config": {
        "plotlyServerURL": "https://plot.ly"
       },
       "data": [
        {
         "line": {
          "color": "#64B5F6",
          "width": 2
         },
         "mode": "lines",
         "name": "human_insert_backstage",
         "showlegend": true,
         "type": "scatter",
         "x": [
          null
         ],
         "xaxis": "x",
         "y": [
          null
         ],
         "yaxis": "y"
        },
        {
         "line": {
          "color": "#ff8fab",
          "width": 2
         },
         "mode": "lines",
         "name": "ai_suggest_backstage",
         "showlegend": true,
         "type": "scatter",
         "x": [
          null
         ],
         "xaxis": "x",
         "y": [
          null
         ],
         "yaxis": "y"
        },
        {
         "line": {
          "color": "#023e8a",
          "width": 2
         },
         "mode": "lines",
         "name": "human_insert_frontstage",
         "showlegend": true,
         "type": "scatter",
         "x": [
          null
         ],
         "xaxis": "x",
         "y": [
          null
         ],
         "yaxis": "y"
        },
        {
         "line": {
          "color": "#c1121f",
          "width": 2
         },
         "mode": "lines",
         "name": "ai_insert_moved_to_frontstage",
         "showlegend": true,
         "type": "scatter",
         "x": [
          null
         ],
         "xaxis": "x",
         "y": [
          null
         ],
         "yaxis": "y"
        },
        {
         "line": {
          "color": "#9d4edd",
          "width": 2
         },
         "mode": "lines",
         "name": "human_delete_frontstage",
         "showlegend": true,
         "type": "scatter",
         "x": [
          null
         ],
         "xaxis": "x",
         "y": [
          null
         ],
         "yaxis": "y"
        },
        {
         "line": {
          "color": "#5a189a",
          "width": 2
         },
         "mode": "lines",
         "name": "human_insert_edit_frontstage",
         "showlegend": true,
         "type": "scatter",
         "x": [
          null
         ],
         "xaxis": "x",
         "y": [
          null
         ],
         "yaxis": "y"
        }
       ],
       "layout": {
        "annotations": [
         {
          "font": {
           "size": 16
          },
          "showarrow": false,
          "text": "Session: legislation_corporate_6",
          "x": 0.5,
          "xanchor": "center",
          "xref": "paper",
          "y": 1,
          "yanchor": "bottom",
          "yref": "paper"
         }
        ],
        "height": 500,
        "legend": {
         "title": {
          "font": {
           "color": "rgba(0, 0, 0, 0)"
          }
         }
        },
        "plot_bgcolor": "white",
        "shapes": [
         {
          "line": {
           "color": "#64B5F6",
           "width": 2
          },
          "type": "line",
          "x0": 0,
          "x1": 0,
          "xref": "x",
          "y0": 0,
          "y1": 0.3124276399612427,
          "yref": "y"
         },
         {
          "line": {
           "color": "#64B5F6",
           "width": 2
          },
          "type": "line",
          "x0": 2,
          "x1": 3,
          "xref": "x",
          "y0": 0.29818272590637207,
          "y1": -0.3206378221511841,
          "yref": "y"
         },
         {
          "line": {
           "color": "#64B5F6",
           "width": 2
          },
          "type": "line",
          "x0": 5,
          "x1": 6,
          "xref": "x",
          "y0": -0.04915401339530945,
          "y1": 0.4779702126979828,
          "yref": "y"
         },
         {
          "line": {
           "color": "#64B5F6",
           "width": 2
          },
          "type": "line",
          "x0": 9,
          "x1": 10,
          "xref": "x",
          "y0": 1.444016456604004,
          "y1": 1.9340947270393372,
          "yref": "y"
         },
         {
          "line": {
           "color": "#64B5F6",
           "width": 2
          },
          "type": "line",
          "x0": 12,
          "x1": 13,
          "xref": "x",
          "y0": 1.6776911616325378,
          "y1": 2.353701174259186,
          "yref": "y"
         },
         {
          "line": {
           "color": "#64B5F6",
           "width": 2
          },
          "type": "line",
          "x0": 14,
          "x1": 15,
          "xref": "x",
          "y0": 2.9733840227127075,
          "y1": 3.3516030311584473,
          "yref": "y"
         },
         {
          "line": {
           "color": "#64B5F6",
           "width": 2
          },
          "type": "line",
          "x0": 16,
          "x1": 17,
          "xref": "x",
          "y0": 3.6773229479789733,
          "y1": 4.1658752202987674,
          "yref": "y"
         },
         {
          "line": {
           "color": "#64B5F6",
           "width": 2
          },
          "type": "line",
          "x0": 19,
          "x1": 20,
          "xref": "x",
          "y0": 2.1971588730812073,
          "y1": 2.7121445536613464,
          "yref": "y"
         },
         {
          "line": {
           "color": "#64B5F6",
           "width": 2
          },
          "type": "line",
          "x0": 22,
          "x1": 23,
          "xref": "x",
          "y0": 2.468996286392212,
          "y1": 2.84350323677063,
          "yref": "y"
         },
         {
          "line": {
           "color": "#64B5F6",
           "width": 2
          },
          "type": "line",
          "x0": 26,
          "x1": 27,
          "xref": "x",
          "y0": 3.571068048477173,
          "y1": 3.8535420894622803,
          "yref": "y"
         },
         {
          "line": {
           "color": "#64B5F6",
           "width": 2
          },
          "type": "line",
          "x0": 28,
          "x1": 29,
          "xref": "x",
          "y0": 4.2002578496932985,
          "y1": 5.142787766456604,
          "yref": "y"
         },
         {
          "line": {
           "color": "#64B5F6",
           "width": 2
          },
          "type": "line",
          "x0": 34,
          "x1": 35,
          "xref": "x",
          "y0": 5.371881902217865,
          "y1": 4.25630110502243,
          "yref": "y"
         },
         {
          "line": {
           "color": "#64B5F6",
           "width": 2
          },
          "type": "line",
          "x0": 37,
          "x1": 38,
          "xref": "x",
          "y0": 6.285137057304382,
          "y1": 6.631269633769989,
          "yref": "y"
         },
         {
          "line": {
           "color": "#64B5F6",
           "width": 2
          },
          "type": "line",
          "x0": 39,
          "x1": 40,
          "xref": "x",
          "y0": 7.179929482936859,
          "y1": 7.603317606449127,
          "yref": "y"
         },
         {
          "line": {
           "color": "#64B5F6",
           "width": 2
          },
          "type": "line",
          "x0": 42,
          "x1": 43,
          "xref": "x",
          "y0": 7.0661070346832275,
          "y1": 7.452850162982941,
          "yref": "y"
         },
         {
          "line": {
           "color": "#64B5F6",
           "width": 2
          },
          "type": "line",
          "x0": 47,
          "x1": 48,
          "xref": "x",
          "y0": 8.350102365016937,
          "y1": 8.775308609008789,
          "yref": "y"
         },
         {
          "line": {
           "color": "#64B5F6",
           "width": 2
          },
          "type": "line",
          "x0": 50,
          "x1": 51,
          "xref": "x",
          "y0": 8.855898559093475,
          "y1": 9.191419780254364,
          "yref": "y"
         },
         {
          "line": {
           "color": "#64B5F6",
           "width": 2
          },
          "type": "line",
          "x0": 52,
          "x1": 53,
          "xref": "x",
          "y0": 9.486596035957337,
          "y1": 10.140941429138184,
          "yref": "y"
         },
         {
          "line": {
           "color": "#64B5F6",
           "width": 2
          },
          "type": "line",
          "x0": 56,
          "x1": 57,
          "xref": "x",
          "y0": 9.970583975315094,
          "y1": 10.58441549539566,
          "yref": "y"
         },
         {
          "line": {
           "color": "#64B5F6",
           "width": 2
          },
          "type": "line",
          "x0": 63,
          "x1": 64,
          "xref": "x",
          "y0": 12.782848298549652,
          "y1": 13.177262485027313,
          "yref": "y"
         },
         {
          "line": {
           "color": "#64B5F6",
           "width": 2
          },
          "type": "line",
          "x0": 68,
          "x1": 69,
          "xref": "x",
          "y0": 12.665234386920929,
          "y1": 10.308208525180817,
          "yref": "y"
         },
         {
          "line": {
           "color": "#64B5F6",
           "width": 2
          },
          "type": "line",
          "x0": 103,
          "x1": 104,
          "xref": "x",
          "y0": 21.048460841178894,
          "y1": 21.527902722358704,
          "yref": "y"
         },
         {
          "line": {
           "color": "#64B5F6",
           "width": 2
          },
          "type": "line",
          "x0": 106,
          "x1": 107,
          "xref": "x",
          "y0": 21.49622756242752,
          "y1": 21.89281165599823,
          "yref": "y"
         },
         {
          "line": {
           "color": "#64B5F6",
           "width": 2
          },
          "type": "line",
          "x0": 109,
          "x1": 110,
          "xref": "x",
          "y0": 21.651625752449036,
          "y1": 22.471522450447083,
          "yref": "y"
         },
         {
          "line": {
           "color": "#ff8fab",
           "width": 2
          },
          "type": "line",
          "x0": 0,
          "x1": 1,
          "xref": "x",
          "y0": 0.3124276399612427,
          "y1": 0.5417124509811402,
          "yref": "y"
         },
         {
          "line": {
           "color": "#ff8fab",
           "width": 2
          },
          "type": "line",
          "x0": 3,
          "x1": 4,
          "xref": "x",
          "y0": -0.3206378221511841,
          "y1": -0.5874879658222198,
          "yref": "y"
         },
         {
          "line": {
           "color": "#ff8fab",
           "width": 2
          },
          "type": "line",
          "x0": 4,
          "x1": 5,
          "xref": "x",
          "y0": -0.5874879658222198,
          "y1": -0.04915401339530945,
          "yref": "y"
         },
         {
          "line": {
           "color": "#ff8fab",
           "width": 2
          },
          "type": "line",
          "x0": 6,
          "x1": 7,
          "xref": "x",
          "y0": 0.4779702126979828,
          "y1": 0.9515590369701385,
          "yref": "y"
         },
         {
          "line": {
           "color": "#ff8fab",
           "width": 2
          },
          "type": "line",
          "x0": 10,
          "x1": 11,
          "xref": "x",
          "y0": 1.9340947270393372,
          "y1": 2.4780592918395996,
          "yref": "y"
         },
         {
          "line": {
           "color": "#ff8fab",
           "width": 2
          },
          "type": "line",
          "x0": 13,
          "x1": 14,
          "xref": "x",
          "y0": 2.353701174259186,
          "y1": 2.9733840227127075,
          "yref": "y"
         },
         {
          "line": {
           "color": "#ff8fab",
           "width": 2
          },
          "type": "line",
          "x0": 15,
          "x1": 16,
          "xref": "x",
          "y0": 3.3516030311584473,
          "y1": 3.6773229479789733,
          "yref": "y"
         },
         {
          "line": {
           "color": "#ff8fab",
           "width": 2
          },
          "type": "line",
          "x0": 17,
          "x1": 18,
          "xref": "x",
          "y0": 4.1658752202987674,
          "y1": 4.530363023281097,
          "yref": "y"
         },
         {
          "line": {
           "color": "#ff8fab",
           "width": 2
          },
          "type": "line",
          "x0": 20,
          "x1": 21,
          "xref": "x",
          "y0": 2.7121445536613464,
          "y1": 3.070619535446167,
          "yref": "y"
         },
         {
          "line": {
           "color": "#ff8fab",
           "width": 2
          },
          "type": "line",
          "x0": 23,
          "x1": 24,
          "xref": "x",
          "y0": 2.84350323677063,
          "y1": 3.2082395195960998,
          "yref": "y"
         },
         {
          "line": {
           "color": "#ff8fab",
           "width": 2
          },
          "type": "line",
          "x0": 27,
          "x1": 28,
          "xref": "x",
          "y0": 3.8535420894622803,
          "y1": 4.2002578496932985,
          "yref": "y"
         },
         {
          "line": {
           "color": "#ff8fab",
           "width": 2
          },
          "type": "line",
          "x0": 29,
          "x1": 30,
          "xref": "x",
          "y0": 5.142787766456604,
          "y1": 7.903094601631165,
          "yref": "y"
         },
         {
          "line": {
           "color": "#ff8fab",
           "width": 2
          },
          "type": "line",
          "x0": 32,
          "x1": 33,
          "xref": "x",
          "y0": 4.691210865974426,
          "y1": 5.011270701885223,
          "yref": "y"
         },
         {
          "line": {
           "color": "#ff8fab",
           "width": 2
          },
          "type": "line",
          "x0": 35,
          "x1": 36,
          "xref": "x",
          "y0": 4.25630110502243,
          "y1": 4.565218007564544,
          "yref": "y"
         },
         {
          "line": {
           "color": "#ff8fab",
           "width": 2
          },
          "type": "line",
          "x0": 38,
          "x1": 39,
          "xref": "x",
          "y0": 6.631269633769989,
          "y1": 7.179929482936859,
          "yref": "y"
         },
         {
          "line": {
           "color": "#ff8fab",
           "width": 2
          },
          "type": "line",
          "x0": 40,
          "x1": 41,
          "xref": "x",
          "y0": 7.603317606449127,
          "y1": 8.027561020851135,
          "yref": "y"
         },
         {
          "line": {
           "color": "#ff8fab",
           "width": 2
          },
          "type": "line",
          "x0": 43,
          "x1": 44,
          "xref": "x",
          "y0": 7.452850162982941,
          "y1": 7.851472008228302,
          "yref": "y"
         },
         {
          "line": {
           "color": "#ff8fab",
           "width": 2
          },
          "type": "line",
          "x0": 48,
          "x1": 49,
          "xref": "x",
          "y0": 8.775308609008789,
          "y1": 9.20373249053955,
          "yref": "y"
         },
         {
          "line": {
           "color": "#ff8fab",
           "width": 2
          },
          "type": "line",
          "x0": 51,
          "x1": 52,
          "xref": "x",
          "y0": 9.191419780254364,
          "y1": 9.486596035957337,
          "yref": "y"
         },
         {
          "line": {
           "color": "#ff8fab",
           "width": 2
          },
          "type": "line",
          "x0": 53,
          "x1": 54,
          "xref": "x",
          "y0": 10.140941429138184,
          "y1": 10.80797404050827,
          "yref": "y"
         },
         {
          "line": {
           "color": "#ff8fab",
           "width": 2
          },
          "type": "line",
          "x0": 57,
          "x1": 58,
          "xref": "x",
          "y0": 10.58441549539566,
          "y1": 11.082050347328186,
          "yref": "y"
         },
         {
          "line": {
           "color": "#ff8fab",
           "width": 2
          },
          "type": "line",
          "x0": 64,
          "x1": 65,
          "xref": "x",
          "y0": 13.177262485027313,
          "y1": 15.003111743927002,
          "yref": "y"
         },
         {
          "line": {
           "color": "#ff8fab",
           "width": 2
          },
          "type": "line",
          "x0": 69,
          "x1": 70,
          "xref": "x",
          "y0": 10.308208525180817,
          "y1": 10.839551651477814,
          "yref": "y"
         },
         {
          "line": {
           "color": "#ff8fab",
           "width": 2
          },
          "type": "line",
          "x0": 104,
          "x1": 105,
          "xref": "x",
          "y0": 21.527902722358704,
          "y1": 21.9162126660347,
          "yref": "y"
         },
         {
          "line": {
           "color": "#ff8fab",
           "width": 2
          },
          "type": "line",
          "x0": 107,
          "x1": 108,
          "xref": "x",
          "y0": 21.89281165599823,
          "y1": 22.78648487329483,
          "yref": "y"
         },
         {
          "line": {
           "color": "#ff8fab",
           "width": 2
          },
          "type": "line",
          "x0": 111,
          "x1": 112,
          "xref": "x",
          "y0": 22.057532846927643,
          "y1": 22.49978700876236,
          "yref": "y"
         },
         {
          "line": {
           "color": "#023e8a",
           "width": 2
          },
          "type": "line",
          "x0": 1,
          "x1": 2,
          "xref": "x",
          "y0": 0,
          "y1": 0.29818272590637207,
          "yref": "y"
         },
         {
          "line": {
           "color": "#023e8a",
           "width": 2
          },
          "type": "line",
          "x0": 7,
          "x1": 8,
          "xref": "x",
          "y0": 0.29818272590637207,
          "y1": 0.9452452063560486,
          "yref": "y"
         },
         {
          "line": {
           "color": "#023e8a",
           "width": 2
          },
          "type": "line",
          "x0": 8,
          "x1": 9,
          "xref": "x",
          "y0": 0.9452452063560486,
          "y1": 1.444016456604004,
          "yref": "y"
         },
         {
          "line": {
           "color": "#023e8a",
           "width": 2
          },
          "type": "line",
          "x0": 11,
          "x1": 12,
          "xref": "x",
          "y0": 1.444016456604004,
          "y1": 1.6776911616325378,
          "yref": "y"
         },
         {
          "line": {
           "color": "#023e8a",
           "width": 2
          },
          "type": "line",
          "x0": 18,
          "x1": 19,
          "xref": "x",
          "y0": 1.6776911616325378,
          "y1": 2.1971588730812073,
          "yref": "y"
         },
         {
          "line": {
           "color": "#023e8a",
           "width": 2
          },
          "type": "line",
          "x0": 21,
          "x1": 22,
          "xref": "x",
          "y0": 2.1971588730812073,
          "y1": 2.468996286392212,
          "yref": "y"
         },
         {
          "line": {
           "color": "#023e8a",
           "width": 2
          },
          "type": "line",
          "x0": 24,
          "x1": 25,
          "xref": "x",
          "y0": 2.468996286392212,
          "y1": 2.7686575055122375,
          "yref": "y"
         },
         {
          "line": {
           "color": "#023e8a",
           "width": 2
          },
          "type": "line",
          "x0": 25,
          "x1": 26,
          "xref": "x",
          "y0": 2.7686575055122375,
          "y1": 3.571068048477173,
          "yref": "y"
         },
         {
          "line": {
           "color": "#023e8a",
           "width": 2
          },
          "type": "line",
          "x0": 31,
          "x1": 32,
          "xref": "x",
          "y0": 3.6438148021698,
          "y1": 4.691210865974426,
          "yref": "y"
         },
         {
          "line": {
           "color": "#023e8a",
           "width": 2
          },
          "type": "line",
          "x0": 33,
          "x1": 34,
          "xref": "x",
          "y0": 4.691210865974426,
          "y1": 5.371881902217865,
          "yref": "y"
         },
         {
          "line": {
           "color": "#023e8a",
           "width": 2
          },
          "type": "line",
          "x0": 41,
          "x1": 42,
          "xref": "x",
          "y0": 6.285137057304382,
          "y1": 7.0661070346832275,
          "yref": "y"
         },
         {
          "line": {
           "color": "#023e8a",
           "width": 2
          },
          "type": "line",
          "x0": 44,
          "x1": 45,
          "xref": "x",
          "y0": 7.0661070346832275,
          "y1": 7.442970454692841,
          "yref": "y"
         },
         {
          "line": {
           "color": "#023e8a",
           "width": 2
          },
          "type": "line",
          "x0": 45,
          "x1": 46,
          "xref": "x",
          "y0": 7.442970454692841,
          "y1": 7.970681607723236,
          "yref": "y"
         },
         {
          "line": {
           "color": "#023e8a",
           "width": 2
          },
          "type": "line",
          "x0": 46,
          "x1": 47,
          "xref": "x",
          "y0": 7.970681607723236,
          "y1": 8.350102365016937,
          "yref": "y"
         },
         {
          "line": {
           "color": "#023e8a",
           "width": 2
          },
          "type": "line",
          "x0": 49,
          "x1": 50,
          "xref": "x",
          "y0": 8.350102365016937,
          "y1": 8.855898559093475,
          "yref": "y"
         },
         {
          "line": {
           "color": "#023e8a",
           "width": 2
          },
          "type": "line",
          "x0": 54,
          "x1": 55,
          "xref": "x",
          "y0": 8.855898559093475,
          "y1": 9.42298835515976,
          "yref": "y"
         },
         {
          "line": {
           "color": "#023e8a",
           "width": 2
          },
          "type": "line",
          "x0": 55,
          "x1": 56,
          "xref": "x",
          "y0": 9.42298835515976,
          "y1": 9.970583975315094,
          "yref": "y"
         },
         {
          "line": {
           "color": "#023e8a",
           "width": 2
          },
          "type": "line",
          "x0": 58,
          "x1": 59,
          "xref": "x",
          "y0": 9.970583975315094,
          "y1": 10.385567247867584,
          "yref": "y"
         },
         {
          "line": {
           "color": "#023e8a",
           "width": 2
          },
          "type": "line",
          "x0": 59,
          "x1": 60,
          "xref": "x",
          "y0": 10.385567247867584,
          "y1": 10.852493226528168,
          "yref": "y"
         },
         {
          "line": {
           "color": "#023e8a",
           "width": 2
          },
          "type": "line",
          "x0": 60,
          "x1": 61,
          "xref": "x",
          "y0": 10.852493226528168,
          "y1": 11.803240060806274,
          "yref": "y"
         },
         {
          "line": {
           "color": "#023e8a",
           "width": 2
          },
          "type": "line",
          "x0": 61,
          "x1": 62,
          "xref": "x",
          "y0": 11.803240060806274,
          "y1": 12.375365972518921,
          "yref": "y"
         },
         {
          "line": {
           "color": "#023e8a",
           "width": 2
          },
          "type": "line",
          "x0": 62,
          "x1": 63,
          "xref": "x",
          "y0": 12.375365972518921,
          "y1": 12.782848298549652,
          "yref": "y"
         },
         {
          "line": {
           "color": "#023e8a",
           "width": 2
          },
          "type": "line",
          "x0": 66,
          "x1": 67,
          "xref": "x",
          "y0": 11.427209496498108,
          "y1": 11.838418841362,
          "yref": "y"
         },
         {
          "line": {
           "color": "#023e8a",
           "width": 2
          },
          "type": "line",
          "x0": 67,
          "x1": 68,
          "xref": "x",
          "y0": 11.838418841362,
          "y1": 12.665234386920929,
          "yref": "y"
         },
         {
          "line": {
           "color": "#023e8a",
           "width": 2
          },
          "type": "line",
          "x0": 70,
          "x1": 71,
          "xref": "x",
          "y0": 12.665234386920929,
          "y1": 13.302768290042877,
          "yref": "y"
         },
         {
          "line": {
           "color": "#023e8a",
           "width": 2
          },
          "type": "line",
          "x0": 71,
          "x1": 72,
          "xref": "x",
          "y0": 13.302768290042877,
          "y1": 13.67137497663498,
          "yref": "y"
         },
         {
          "line": {
           "color": "#023e8a",
           "width": 2
          },
          "type": "line",
          "x0": 72,
          "x1": 73,
          "xref": "x",
          "y0": 13.67137497663498,
          "y1": 13.834225118160248,
          "yref": "y"
         },
         {
          "line": {
           "color": "#023e8a",
           "width": 2
          },
          "type": "line",
          "x0": 73,
          "x1": 74,
          "xref": "x",
          "y0": 13.834225118160248,
          "y1": 13.987906277179718,
          "yref": "y"
         },
         {
          "line": {
           "color": "#023e8a",
           "width": 2
          },
          "type": "line",
          "x0": 74,
          "x1": 75,
          "xref": "x",
          "y0": 13.987906277179718,
          "y1": 14.153780698776245,
          "yref": "y"
         },
         {
          "line": {
           "color": "#023e8a",
           "width": 2
          },
          "type": "line",
          "x0": 75,
          "x1": 76,
          "xref": "x",
          "y0": 14.153780698776245,
          "y1": 14.550605654716492,
          "yref": "y"
         },
         {
          "line": {
           "color": "#023e8a",
           "width": 2
          },
          "type": "line",
          "x0": 76,
          "x1": 77,
          "xref": "x",
          "y0": 14.550605654716492,
          "y1": 14.946593165397644,
          "yref": "y"
         },
         {
          "line": {
           "color": "#023e8a",
           "width": 2
          },
          "type": "line",
          "x0": 77,
          "x1": 78,
          "xref": "x",
          "y0": 14.946593165397644,
          "y1": 15.095787107944489,
          "yref": "y"
         },
         {
          "line": {
           "color": "#023e8a",
           "width": 2
          },
          "type": "line",
          "x0": 78,
          "x1": 79,
          "xref": "x",
          "y0": 15.095787107944489,
          "y1": 15.4198477268219,
          "yref": "y"
         },
         {
          "line": {
           "color": "#023e8a",
           "width": 2
          },
          "type": "line",
          "x0": 79,
          "x1": 80,
          "xref": "x",
          "y0": 15.4198477268219,
          "y1": 15.69354909658432,
          "yref": "y"
         },
         {
          "line": {
           "color": "#023e8a",
           "width": 2
          },
          "type": "line",
          "x0": 80,
          "x1": 81,
          "xref": "x",
          "y0": 15.69354909658432,
          "y1": 16.09030121564865,
          "yref": "y"
         },
         {
          "line": {
           "color": "#023e8a",
           "width": 2
          },
          "type": "line",
          "x0": 81,
          "x1": 82,
          "xref": "x",
          "y0": 16.09030121564865,
          "y1": 16.510990917682648,
          "yref": "y"
         },
         {
          "line": {
           "color": "#023e8a",
           "width": 2
          },
          "type": "line",
          "x0": 82,
          "x1": 83,
          "xref": "x",
          "y0": 16.510990917682648,
          "y1": 16.77807319164276,
          "yref": "y"
         },
         {
          "line": {
           "color": "#023e8a",
           "width": 2
          },
          "type": "line",
          "x0": 83,
          "x1": 84,
          "xref": "x",
          "y0": 16.77807319164276,
          "y1": 17.322290897369385,
          "yref": "y"
         },
         {
          "line": {
           "color": "#023e8a",
           "width": 2
          },
          "type": "line",
          "x0": 84,
          "x1": 85,
          "xref": "x",
          "y0": 17.322290897369385,
          "y1": 17.705038845539093,
          "yref": "y"
         },
         {
          "line": {
           "color": "#023e8a",
           "width": 2
          },
          "type": "line",
          "x0": 85,
          "x1": 86,
          "xref": "x",
          "y0": 17.705038845539093,
          "y1": 18.076440274715424,
          "yref": "y"
         },
         {
          "line": {
           "color": "#023e8a",
           "width": 2
          },
          "type": "line",
          "x0": 86,
          "x1": 87,
          "xref": "x",
          "y0": 18.076440274715424,
          "y1": 18.898229837417603,
          "yref": "y"
         },
         {
          "line": {
           "color": "#023e8a",
           "width": 2
          },
          "type": "line",
          "x0": 87,
          "x1": 88,
          "xref": "x",
          "y0": 18.898229837417603,
          "y1": 19.260384678840637,
          "yref": "y"
         },
         {
          "line": {
           "color": "#023e8a",
           "width": 2
          },
          "type": "line",
          "x0": 88,
          "x1": 89,
          "xref": "x",
          "y0": 19.260384678840637,
          "y1": 19.576193690299988,
          "yref": "y"
         },
         {
          "line": {
           "color": "#023e8a",
           "width": 2
          },
          "type": "line",
          "x0": 89,
          "x1": 90,
          "xref": "x",
          "y0": 19.576193690299988,
          "y1": 19.956262528896332,
          "yref": "y"
         },
         {
          "line": {
           "color": "#023e8a",
           "width": 2
          },
          "type": "line",
          "x0": 90,
          "x1": 91,
          "xref": "x",
          "y0": 19.956262528896332,
          "y1": 20.286823213100433,
          "yref": "y"
         },
         {
          "line": {
           "color": "#023e8a",
           "width": 2
          },
          "type": "line",
          "x0": 91,
          "x1": 92,
          "xref": "x",
          "y0": 20.286823213100433,
          "y1": 20.739790678024292,
          "yref": "y"
         },
         {
          "line": {
           "color": "#023e8a",
           "width": 2
          },
          "type": "line",
          "x0": 92,
          "x1": 93,
          "xref": "x",
          "y0": 20.739790678024292,
          "y1": 21.248037695884705,
          "yref": "y"
         },
         {
          "line": {
           "color": "#023e8a",
           "width": 2
          },
          "type": "line",
          "x0": 93,
          "x1": 94,
          "xref": "x",
          "y0": 21.248037695884705,
          "y1": 21.766785144805908,
          "yref": "y"
         },
         {
          "line": {
           "color": "#023e8a",
           "width": 2
          },
          "type": "line",
          "x0": 94,
          "x1": 95,
          "xref": "x",
          "y0": 21.766785144805908,
          "y1": 22.583568692207336,
          "yref": "y"
         },
         {
          "line": {
           "color": "#023e8a",
           "width": 2
          },
          "type": "line",
          "x0": 95,
          "x1": 96,
          "xref": "x",
          "y0": 22.583568692207336,
          "y1": 23.094366490840912,
          "yref": "y"
         },
         {
          "line": {
           "color": "#023e8a",
           "width": 2
          },
          "type": "line",
          "x0": 96,
          "x1": 97,
          "xref": "x",
          "y0": 23.094366490840912,
          "y1": 23.459192752838135,
          "yref": "y"
         },
         {
          "line": {
           "color": "#023e8a",
           "width": 2
          },
          "type": "line",
          "x0": 97,
          "x1": 98,
          "xref": "x",
          "y0": 23.459192752838135,
          "y1": 23.850857138633728,
          "yref": "y"
         },
         {
          "line": {
           "color": "#023e8a",
           "width": 2
          },
          "type": "line",
          "x0": 98,
          "x1": 99,
          "xref": "x",
          "y0": 23.850857138633728,
          "y1": 24.382721722126007,
          "yref": "y"
         },
         {
          "line": {
           "color": "#023e8a",
           "width": 2
          },
          "type": "line",
          "x0": 100,
          "x1": 101,
          "xref": "x",
          "y0": 20.280430018901825,
          "y1": 20.55556857585907,
          "yref": "y"
         },
         {
          "line": {
           "color": "#023e8a",
           "width": 2
          },
          "type": "line",
          "x0": 101,
          "x1": 102,
          "xref": "x",
          "y0": 20.55556857585907,
          "y1": 20.758126854896545,
          "yref": "y"
         },
         {
          "line": {
           "color": "#023e8a",
           "width": 2
          },
          "type": "line",
          "x0": 102,
          "x1": 103,
          "xref": "x",
          "y0": 20.758126854896545,
          "y1": 21.048460841178894,
          "yref": "y"
         },
         {
          "line": {
           "color": "#023e8a",
           "width": 2
          },
          "type": "line",
          "x0": 105,
          "x1": 106,
          "xref": "x",
          "y0": 21.048460841178894,
          "y1": 21.49622756242752,
          "yref": "y"
         },
         {
          "line": {
           "color": "#023e8a",
           "width": 2
          },
          "type": "line",
          "x0": 110,
          "x1": 111,
          "xref": "x",
          "y0": 21.651625752449036,
          "y1": 22.057532846927643,
          "yref": "y"
         },
         {
          "line": {
           "color": "#023e8a",
           "width": 2
          },
          "type": "line",
          "x0": 112,
          "x1": 113,
          "xref": "x",
          "y0": 22.057532846927643,
          "y1": 22.42770344018936,
          "yref": "y"
         },
         {
          "line": {
           "color": "#023e8a",
           "width": 2
          },
          "type": "line",
          "x0": 114,
          "x1": 115,
          "xref": "x",
          "y0": 21.66043907403946,
          "y1": 21.953364968299866,
          "yref": "y"
         },
         {
          "line": {
           "color": "#023e8a",
           "width": 2
          },
          "type": "line",
          "x0": 115,
          "x1": 116,
          "xref": "x",
          "y0": 21.953364968299866,
          "y1": 22.259438514709473,
          "yref": "y"
         },
         {
          "line": {
           "color": "#023e8a",
           "width": 2
          },
          "type": "line",
          "x0": 116,
          "x1": 117,
          "xref": "x",
          "y0": 22.259438514709473,
          "y1": 22.6215438246727,
          "yref": "y"
         },
         {
          "line": {
           "color": "#023e8a",
           "width": 2
          },
          "type": "line",
          "x0": 117,
          "x1": 118,
          "xref": "x",
          "y0": 22.6215438246727,
          "y1": 23.602714836597443,
          "yref": "y"
         },
         {
          "line": {
           "color": "#023e8a",
           "width": 2
          },
          "type": "line",
          "x0": 118,
          "x1": 119,
          "xref": "x",
          "y0": 23.602714836597443,
          "y1": 23.868592262268066,
          "yref": "y"
         },
         {
          "line": {
           "color": "#023e8a",
           "width": 2
          },
          "type": "line",
          "x0": 119,
          "x1": 120,
          "xref": "x",
          "y0": 23.868592262268066,
          "y1": 24.278922080993652,
          "yref": "y"
         },
         {
          "line": {
           "color": "#023e8a",
           "width": 2
          },
          "type": "line",
          "x0": 120,
          "x1": 121,
          "xref": "x",
          "y0": 24.278922080993652,
          "y1": 24.65253621339798,
          "yref": "y"
         },
         {
          "line": {
           "color": "#023e8a",
           "width": 2
          },
          "type": "line",
          "x0": 121,
          "x1": 122,
          "xref": "x",
          "y0": 24.65253621339798,
          "y1": 25.313188433647156,
          "yref": "y"
         },
         {
          "line": {
           "color": "#c1121f",
           "width": 2
          },
          "type": "line",
          "x0": 30,
          "x1": 31,
          "xref": "x",
          "y0": 3.571068048477173,
          "y1": 3.6438148021698,
          "yref": "y"
         },
         {
          "line": {
           "color": "#c1121f",
           "width": 2
          },
          "type": "line",
          "x0": 36,
          "x1": 37,
          "xref": "x",
          "y0": 5.371881902217865,
          "y1": 6.285137057304382,
          "yref": "y"
         },
         {
          "line": {
           "color": "#c1121f",
           "width": 2
          },
          "type": "line",
          "x0": 65,
          "x1": 66,
          "xref": "x",
          "y0": 12.782848298549652,
          "y1": 11.427209496498108,
          "yref": "y"
         },
         {
          "line": {
           "color": "#c1121f",
           "width": 2
          },
          "type": "line",
          "x0": 108,
          "x1": 109,
          "xref": "x",
          "y0": 21.49622756242752,
          "y1": 21.651625752449036,
          "yref": "y"
         },
         {
          "line": {
           "color": "#9d4edd",
           "width": 2
          },
          "type": "line",
          "x0": 99,
          "x1": 100,
          "xref": "x",
          "y0": 24.382721722126007,
          "y1": 20.280430018901825,
          "yref": "y"
         },
         {
          "line": {
           "color": "#9d4edd",
           "width": 2
          },
          "type": "line",
          "x0": 113,
          "x1": 114,
          "xref": "x",
          "y0": 22.42770344018936,
          "y1": 21.66043907403946,
          "yref": "y"
         }
        ],
        "showlegend": true,
        "template": {
         "data": {
          "bar": [
           {
            "error_x": {
             "color": "#2a3f5f"
            },
            "error_y": {
             "color": "#2a3f5f"
            },
            "marker": {
             "line": {
              "color": "#E5ECF6",
              "width": 0.5
             },
             "pattern": {
              "fillmode": "overlay",
              "size": 10,
              "solidity": 0.2
             }
            },
            "type": "bar"
           }
          ],
          "barpolar": [
           {
            "marker": {
             "line": {
              "color": "#E5ECF6",
              "width": 0.5
             },
             "pattern": {
              "fillmode": "overlay",
              "size": 10,
              "solidity": 0.2
             }
            },
            "type": "barpolar"
           }
          ],
          "carpet": [
           {
            "aaxis": {
             "endlinecolor": "#2a3f5f",
             "gridcolor": "white",
             "linecolor": "white",
             "minorgridcolor": "white",
             "startlinecolor": "#2a3f5f"
            },
            "baxis": {
             "endlinecolor": "#2a3f5f",
             "gridcolor": "white",
             "linecolor": "white",
             "minorgridcolor": "white",
             "startlinecolor": "#2a3f5f"
            },
            "type": "carpet"
           }
          ],
          "choropleth": [
           {
            "colorbar": {
             "outlinewidth": 0,
             "ticks": ""
            },
            "type": "choropleth"
           }
          ],
          "contour": [
           {
            "colorbar": {
             "outlinewidth": 0,
             "ticks": ""
            },
            "colorscale": [
             [
              0,
              "#0d0887"
             ],
             [
              0.1111111111111111,
              "#46039f"
             ],
             [
              0.2222222222222222,
              "#7201a8"
             ],
             [
              0.3333333333333333,
              "#9c179e"
             ],
             [
              0.4444444444444444,
              "#bd3786"
             ],
             [
              0.5555555555555556,
              "#d8576b"
             ],
             [
              0.6666666666666666,
              "#ed7953"
             ],
             [
              0.7777777777777778,
              "#fb9f3a"
             ],
             [
              0.8888888888888888,
              "#fdca26"
             ],
             [
              1,
              "#f0f921"
             ]
            ],
            "type": "contour"
           }
          ],
          "contourcarpet": [
           {
            "colorbar": {
             "outlinewidth": 0,
             "ticks": ""
            },
            "type": "contourcarpet"
           }
          ],
          "heatmap": [
           {
            "colorbar": {
             "outlinewidth": 0,
             "ticks": ""
            },
            "colorscale": [
             [
              0,
              "#0d0887"
             ],
             [
              0.1111111111111111,
              "#46039f"
             ],
             [
              0.2222222222222222,
              "#7201a8"
             ],
             [
              0.3333333333333333,
              "#9c179e"
             ],
             [
              0.4444444444444444,
              "#bd3786"
             ],
             [
              0.5555555555555556,
              "#d8576b"
             ],
             [
              0.6666666666666666,
              "#ed7953"
             ],
             [
              0.7777777777777778,
              "#fb9f3a"
             ],
             [
              0.8888888888888888,
              "#fdca26"
             ],
             [
              1,
              "#f0f921"
             ]
            ],
            "type": "heatmap"
           }
          ],
          "histogram": [
           {
            "marker": {
             "pattern": {
              "fillmode": "overlay",
              "size": 10,
              "solidity": 0.2
             }
            },
            "type": "histogram"
           }
          ],
          "histogram2d": [
           {
            "colorbar": {
             "outlinewidth": 0,
             "ticks": ""
            },
            "colorscale": [
             [
              0,
              "#0d0887"
             ],
             [
              0.1111111111111111,
              "#46039f"
             ],
             [
              0.2222222222222222,
              "#7201a8"
             ],
             [
              0.3333333333333333,
              "#9c179e"
             ],
             [
              0.4444444444444444,
              "#bd3786"
             ],
             [
              0.5555555555555556,
              "#d8576b"
             ],
             [
              0.6666666666666666,
              "#ed7953"
             ],
             [
              0.7777777777777778,
              "#fb9f3a"
             ],
             [
              0.8888888888888888,
              "#fdca26"
             ],
             [
              1,
              "#f0f921"
             ]
            ],
            "type": "histogram2d"
           }
          ],
          "histogram2dcontour": [
           {
            "colorbar": {
             "outlinewidth": 0,
             "ticks": ""
            },
            "colorscale": [
             [
              0,
              "#0d0887"
             ],
             [
              0.1111111111111111,
              "#46039f"
             ],
             [
              0.2222222222222222,
              "#7201a8"
             ],
             [
              0.3333333333333333,
              "#9c179e"
             ],
             [
              0.4444444444444444,
              "#bd3786"
             ],
             [
              0.5555555555555556,
              "#d8576b"
             ],
             [
              0.6666666666666666,
              "#ed7953"
             ],
             [
              0.7777777777777778,
              "#fb9f3a"
             ],
             [
              0.8888888888888888,
              "#fdca26"
             ],
             [
              1,
              "#f0f921"
             ]
            ],
            "type": "histogram2dcontour"
           }
          ],
          "mesh3d": [
           {
            "colorbar": {
             "outlinewidth": 0,
             "ticks": ""
            },
            "type": "mesh3d"
           }
          ],
          "parcoords": [
           {
            "line": {
             "colorbar": {
              "outlinewidth": 0,
              "ticks": ""
             }
            },
            "type": "parcoords"
           }
          ],
          "pie": [
           {
            "automargin": true,
            "type": "pie"
           }
          ],
          "scatter": [
           {
            "fillpattern": {
             "fillmode": "overlay",
             "size": 10,
             "solidity": 0.2
            },
            "type": "scatter"
           }
          ],
          "scatter3d": [
           {
            "line": {
             "colorbar": {
              "outlinewidth": 0,
              "ticks": ""
             }
            },
            "marker": {
             "colorbar": {
              "outlinewidth": 0,
              "ticks": ""
             }
            },
            "type": "scatter3d"
           }
          ],
          "scattercarpet": [
           {
            "marker": {
             "colorbar": {
              "outlinewidth": 0,
              "ticks": ""
             }
            },
            "type": "scattercarpet"
           }
          ],
          "scattergeo": [
           {
            "marker": {
             "colorbar": {
              "outlinewidth": 0,
              "ticks": ""
             }
            },
            "type": "scattergeo"
           }
          ],
          "scattergl": [
           {
            "marker": {
             "colorbar": {
              "outlinewidth": 0,
              "ticks": ""
             }
            },
            "type": "scattergl"
           }
          ],
          "scattermap": [
           {
            "marker": {
             "colorbar": {
              "outlinewidth": 0,
              "ticks": ""
             }
            },
            "type": "scattermap"
           }
          ],
          "scattermapbox": [
           {
            "marker": {
             "colorbar": {
              "outlinewidth": 0,
              "ticks": ""
             }
            },
            "type": "scattermapbox"
           }
          ],
          "scatterpolar": [
           {
            "marker": {
             "colorbar": {
              "outlinewidth": 0,
              "ticks": ""
             }
            },
            "type": "scatterpolar"
           }
          ],
          "scatterpolargl": [
           {
            "marker": {
             "colorbar": {
              "outlinewidth": 0,
              "ticks": ""
             }
            },
            "type": "scatterpolargl"
           }
          ],
          "scatterternary": [
           {
            "marker": {
             "colorbar": {
              "outlinewidth": 0,
              "ticks": ""
             }
            },
            "type": "scatterternary"
           }
          ],
          "surface": [
           {
            "colorbar": {
             "outlinewidth": 0,
             "ticks": ""
            },
            "colorscale": [
             [
              0,
              "#0d0887"
             ],
             [
              0.1111111111111111,
              "#46039f"
             ],
             [
              0.2222222222222222,
              "#7201a8"
             ],
             [
              0.3333333333333333,
              "#9c179e"
             ],
             [
              0.4444444444444444,
              "#bd3786"
             ],
             [
              0.5555555555555556,
              "#d8576b"
             ],
             [
              0.6666666666666666,
              "#ed7953"
             ],
             [
              0.7777777777777778,
              "#fb9f3a"
             ],
             [
              0.8888888888888888,
              "#fdca26"
             ],
             [
              1,
              "#f0f921"
             ]
            ],
            "type": "surface"
           }
          ],
          "table": [
           {
            "cells": {
             "fill": {
              "color": "#EBF0F8"
             },
             "line": {
              "color": "white"
             }
            },
            "header": {
             "fill": {
              "color": "#C8D4E3"
             },
             "line": {
              "color": "white"
             }
            },
            "type": "table"
           }
          ]
         },
         "layout": {
          "annotationdefaults": {
           "arrowcolor": "#2a3f5f",
           "arrowhead": 0,
           "arrowwidth": 1
          },
          "autotypenumbers": "strict",
          "coloraxis": {
           "colorbar": {
            "outlinewidth": 0,
            "ticks": ""
           }
          },
          "colorscale": {
           "diverging": [
            [
             0,
             "#8e0152"
            ],
            [
             0.1,
             "#c51b7d"
            ],
            [
             0.2,
             "#de77ae"
            ],
            [
             0.3,
             "#f1b6da"
            ],
            [
             0.4,
             "#fde0ef"
            ],
            [
             0.5,
             "#f7f7f7"
            ],
            [
             0.6,
             "#e6f5d0"
            ],
            [
             0.7,
             "#b8e186"
            ],
            [
             0.8,
             "#7fbc41"
            ],
            [
             0.9,
             "#4d9221"
            ],
            [
             1,
             "#276419"
            ]
           ],
           "sequential": [
            [
             0,
             "#0d0887"
            ],
            [
             0.1111111111111111,
             "#46039f"
            ],
            [
             0.2222222222222222,
             "#7201a8"
            ],
            [
             0.3333333333333333,
             "#9c179e"
            ],
            [
             0.4444444444444444,
             "#bd3786"
            ],
            [
             0.5555555555555556,
             "#d8576b"
            ],
            [
             0.6666666666666666,
             "#ed7953"
            ],
            [
             0.7777777777777778,
             "#fb9f3a"
            ],
            [
             0.8888888888888888,
             "#fdca26"
            ],
            [
             1,
             "#f0f921"
            ]
           ],
           "sequentialminus": [
            [
             0,
             "#0d0887"
            ],
            [
             0.1111111111111111,
             "#46039f"
            ],
            [
             0.2222222222222222,
             "#7201a8"
            ],
            [
             0.3333333333333333,
             "#9c179e"
            ],
            [
             0.4444444444444444,
             "#bd3786"
            ],
            [
             0.5555555555555556,
             "#d8576b"
            ],
            [
             0.6666666666666666,
             "#ed7953"
            ],
            [
             0.7777777777777778,
             "#fb9f3a"
            ],
            [
             0.8888888888888888,
             "#fdca26"
            ],
            [
             1,
             "#f0f921"
            ]
           ]
          },
          "colorway": [
           "#636efa",
           "#EF553B",
           "#00cc96",
           "#ab63fa",
           "#FFA15A",
           "#19d3f3",
           "#FF6692",
           "#B6E880",
           "#FF97FF",
           "#FECB52"
          ],
          "font": {
           "color": "#2a3f5f"
          },
          "geo": {
           "bgcolor": "white",
           "lakecolor": "white",
           "landcolor": "#E5ECF6",
           "showlakes": true,
           "showland": true,
           "subunitcolor": "white"
          },
          "hoverlabel": {
           "align": "left"
          },
          "hovermode": "closest",
          "mapbox": {
           "style": "light"
          },
          "paper_bgcolor": "white",
          "plot_bgcolor": "#E5ECF6",
          "polar": {
           "angularaxis": {
            "gridcolor": "white",
            "linecolor": "white",
            "ticks": ""
           },
           "bgcolor": "#E5ECF6",
           "radialaxis": {
            "gridcolor": "white",
            "linecolor": "white",
            "ticks": ""
           }
          },
          "scene": {
           "xaxis": {
            "backgroundcolor": "#E5ECF6",
            "gridcolor": "white",
            "gridwidth": 2,
            "linecolor": "white",
            "showbackground": true,
            "ticks": "",
            "zerolinecolor": "white"
           },
           "yaxis": {
            "backgroundcolor": "#E5ECF6",
            "gridcolor": "white",
            "gridwidth": 2,
            "linecolor": "white",
            "showbackground": true,
            "ticks": "",
            "zerolinecolor": "white"
           },
           "zaxis": {
            "backgroundcolor": "#E5ECF6",
            "gridcolor": "white",
            "gridwidth": 2,
            "linecolor": "white",
            "showbackground": true,
            "ticks": "",
            "zerolinecolor": "white"
           }
          },
          "shapedefaults": {
           "line": {
            "color": "#2a3f5f"
           }
          },
          "ternary": {
           "aaxis": {
            "gridcolor": "white",
            "linecolor": "white",
            "ticks": ""
           },
           "baxis": {
            "gridcolor": "white",
            "linecolor": "white",
            "ticks": ""
           },
           "bgcolor": "#E5ECF6",
           "caxis": {
            "gridcolor": "white",
            "linecolor": "white",
            "ticks": ""
           }
          },
          "title": {
           "x": 0.05
          },
          "xaxis": {
           "automargin": true,
           "gridcolor": "white",
           "linecolor": "white",
           "ticks": "",
           "title": {
            "standoff": 15
           },
           "zerolinecolor": "white",
           "zerolinewidth": 2
          },
          "yaxis": {
           "automargin": true,
           "gridcolor": "white",
           "linecolor": "white",
           "ticks": "",
           "title": {
            "standoff": 15
           },
           "zerolinecolor": "white",
           "zerolinewidth": 2
          }
         }
        },
        "title": {
         "text": "Semantic Expansion over Writing Sessions<br><span style=\"font-size: 12px;\">*Measuring how well humans are learning while writing with GenAI</span>"
        },
        "width": 1600,
        "xaxis": {
         "anchor": "y",
         "domain": [
          0,
          1
         ],
         "gridcolor": "white",
         "linecolor": "black",
         "mirror": false,
         "range": [
          -1,
          123
         ],
         "showline": true,
         "ticks": "outside",
         "title": {
          "text": "Progress into the writing session"
         }
        },
        "yaxis": {
         "anchor": "x",
         "domain": [
          0,
          1
         ],
         "gridcolor": "white",
         "linecolor": "black",
         "mirror": false,
         "showline": true,
         "ticks": "outside",
         "title": {
          "text": "Scores"
         }
        }
       }
      }
     },
     "metadata": {},
     "output_type": "display_data"
    },
    {
     "name": "stdout",
     "output_type": "stream",
     "text": [
      "legislation_antitrust_1\n"
     ]
    },
    {
     "data": {
      "application/vnd.plotly.v1+json": {
       "config": {
        "plotlyServerURL": "https://plot.ly"
       },
       "data": [
        {
         "line": {
          "color": "#64B5F6",
          "width": 2
         },
         "mode": "lines",
         "name": "human_insert_backstage",
         "showlegend": true,
         "type": "scatter",
         "x": [
          null
         ],
         "xaxis": "x",
         "y": [
          null
         ],
         "yaxis": "y"
        },
        {
         "line": {
          "color": "#ff8fab",
          "width": 2
         },
         "mode": "lines",
         "name": "ai_suggest_backstage",
         "showlegend": true,
         "type": "scatter",
         "x": [
          null
         ],
         "xaxis": "x",
         "y": [
          null
         ],
         "yaxis": "y"
        },
        {
         "line": {
          "color": "#023e8a",
          "width": 2
         },
         "mode": "lines",
         "name": "human_insert_frontstage",
         "showlegend": true,
         "type": "scatter",
         "x": [
          null
         ],
         "xaxis": "x",
         "y": [
          null
         ],
         "yaxis": "y"
        },
        {
         "line": {
          "color": "#c1121f",
          "width": 2
         },
         "mode": "lines",
         "name": "ai_insert_moved_to_frontstage",
         "showlegend": true,
         "type": "scatter",
         "x": [
          null
         ],
         "xaxis": "x",
         "y": [
          null
         ],
         "yaxis": "y"
        },
        {
         "line": {
          "color": "#9d4edd",
          "width": 2
         },
         "mode": "lines",
         "name": "human_delete_frontstage",
         "showlegend": true,
         "type": "scatter",
         "x": [
          null
         ],
         "xaxis": "x",
         "y": [
          null
         ],
         "yaxis": "y"
        },
        {
         "line": {
          "color": "#5a189a",
          "width": 2
         },
         "mode": "lines",
         "name": "human_insert_edit_frontstage",
         "showlegend": true,
         "type": "scatter",
         "x": [
          null
         ],
         "xaxis": "x",
         "y": [
          null
         ],
         "yaxis": "y"
        }
       ],
       "layout": {
        "annotations": [
         {
          "font": {
           "size": 16
          },
          "showarrow": false,
          "text": "Session: legislation_antitrust_1",
          "x": 0.5,
          "xanchor": "center",
          "xref": "paper",
          "y": 1,
          "yanchor": "bottom",
          "yref": "paper"
         }
        ],
        "height": 500,
        "legend": {
         "title": {
          "font": {
           "color": "rgba(0, 0, 0, 0)"
          }
         }
        },
        "plot_bgcolor": "white",
        "shapes": [
         {
          "line": {
           "color": "#64B5F6",
           "width": 2
          },
          "type": "line",
          "x0": 0,
          "x1": 0,
          "xref": "x",
          "y0": 0,
          "y1": 0.3788606524467468,
          "yref": "y"
         },
         {
          "line": {
           "color": "#64B5F6",
           "width": 2
          },
          "type": "line",
          "x0": 1,
          "x1": 2,
          "xref": "x",
          "y0": 0.7242424845695495,
          "y1": 1.1133587121963502,
          "yref": "y"
         },
         {
          "line": {
           "color": "#64B5F6",
           "width": 2
          },
          "type": "line",
          "x0": 11,
          "x1": 12,
          "xref": "x",
          "y0": 3.7770312428474426,
          "y1": 2.2889816761016846,
          "yref": "y"
         },
         {
          "line": {
           "color": "#64B5F6",
           "width": 2
          },
          "type": "line",
          "x0": 25,
          "x1": 26,
          "xref": "x",
          "y0": 7.362673830986023,
          "y1": 7.8072986721992494,
          "yref": "y"
         },
         {
          "line": {
           "color": "#64B5F6",
           "width": 2
          },
          "type": "line",
          "x0": 44,
          "x1": 45,
          "xref": "x",
          "y0": 11.250537276268005,
          "y1": 11.911474168300629,
          "yref": "y"
         },
         {
          "line": {
           "color": "#ff8fab",
           "width": 2
          },
          "type": "line",
          "x0": 0,
          "x1": 1,
          "xref": "x",
          "y0": 0.3788606524467468,
          "y1": 0.7242424845695495,
          "yref": "y"
         },
         {
          "line": {
           "color": "#ff8fab",
           "width": 2
          },
          "type": "line",
          "x0": 2,
          "x1": 3,
          "xref": "x",
          "y0": 1.1133587121963502,
          "y1": 1.5087436079978944,
          "yref": "y"
         },
         {
          "line": {
           "color": "#ff8fab",
           "width": 2
          },
          "type": "line",
          "x0": 6,
          "x1": 7,
          "xref": "x",
          "y0": 1.7258927822113037,
          "y1": 2.214394199848175,
          "yref": "y"
         },
         {
          "line": {
           "color": "#ff8fab",
           "width": 2
          },
          "type": "line",
          "x0": 12,
          "x1": 13,
          "xref": "x",
          "y0": 2.2889816761016846,
          "y1": 2.596601903438568,
          "yref": "y"
         },
         {
          "line": {
           "color": "#ff8fab",
           "width": 2
          },
          "type": "line",
          "x0": 18,
          "x1": 19,
          "xref": "x",
          "y0": 5.281828224658966,
          "y1": 5.529203414916992,
          "yref": "y"
         },
         {
          "line": {
           "color": "#ff8fab",
           "width": 2
          },
          "type": "line",
          "x0": 24,
          "x1": 25,
          "xref": "x",
          "y0": 7.106332838535309,
          "y1": 7.362673830986023,
          "yref": "y"
         },
         {
          "line": {
           "color": "#ff8fab",
           "width": 2
          },
          "type": "line",
          "x0": 26,
          "x1": 27,
          "xref": "x",
          "y0": 7.8072986721992494,
          "y1": 8.137095940113067,
          "yref": "y"
         },
         {
          "line": {
           "color": "#ff8fab",
           "width": 2
          },
          "type": "line",
          "x0": 31,
          "x1": 32,
          "xref": "x",
          "y0": 8.781307935714722,
          "y1": 9.094629192352295,
          "yref": "y"
         },
         {
          "line": {
           "color": "#ff8fab",
           "width": 2
          },
          "type": "line",
          "x0": 35,
          "x1": 36,
          "xref": "x",
          "y0": 9.337329387664795,
          "y1": 9.83397879600525,
          "yref": "y"
         },
         {
          "line": {
           "color": "#ff8fab",
           "width": 2
          },
          "type": "line",
          "x0": 36,
          "x1": 37,
          "xref": "x",
          "y0": 9.83397879600525,
          "y1": 10.323874378204346,
          "yref": "y"
         },
         {
          "line": {
           "color": "#ff8fab",
           "width": 2
          },
          "type": "line",
          "x0": 38,
          "x1": 39,
          "xref": "x",
          "y0": 9.882004618644714,
          "y1": 10.49041953086853,
          "yref": "y"
         },
         {
          "line": {
           "color": "#ff8fab",
           "width": 2
          },
          "type": "line",
          "x0": 39,
          "x1": 40,
          "xref": "x",
          "y0": 10.49041953086853,
          "y1": 11.029137563705444,
          "yref": "y"
         },
         {
          "line": {
           "color": "#ff8fab",
           "width": 2
          },
          "type": "line",
          "x0": 42,
          "x1": 43,
          "xref": "x",
          "y0": 10.496378540992737,
          "y1": 10.936824607849122,
          "yref": "y"
         },
         {
          "line": {
           "color": "#ff8fab",
           "width": 2
          },
          "type": "line",
          "x0": 43,
          "x1": 44,
          "xref": "x",
          "y0": 10.936824607849122,
          "y1": 11.250537276268005,
          "yref": "y"
         },
         {
          "line": {
           "color": "#ff8fab",
           "width": 2
          },
          "type": "line",
          "x0": 45,
          "x1": 46,
          "xref": "x",
          "y0": 11.911474168300629,
          "y1": 12.437494909763336,
          "yref": "y"
         },
         {
          "line": {
           "color": "#ff8fab",
           "width": 2
          },
          "type": "line",
          "x0": 46,
          "x1": 47,
          "xref": "x",
          "y0": 12.437494909763336,
          "y1": 12.978959727287293,
          "yref": "y"
         },
         {
          "line": {
           "color": "#ff8fab",
           "width": 2
          },
          "type": "line",
          "x0": 47,
          "x1": 48,
          "xref": "x",
          "y0": 12.978959727287293,
          "y1": 13.546862637996675,
          "yref": "y"
         },
         {
          "line": {
           "color": "#023e8a",
           "width": 2
          },
          "type": "line",
          "x0": 3,
          "x1": 4,
          "xref": "x",
          "y0": 0,
          "y1": 0.32824164628982544,
          "yref": "y"
         },
         {
          "line": {
           "color": "#023e8a",
           "width": 2
          },
          "type": "line",
          "x0": 4,
          "x1": 5,
          "xref": "x",
          "y0": 0.32824164628982544,
          "y1": 1.2818763256072998,
          "yref": "y"
         },
         {
          "line": {
           "color": "#023e8a",
           "width": 2
          },
          "type": "line",
          "x0": 5,
          "x1": 6,
          "xref": "x",
          "y0": 1.2818763256072998,
          "y1": 1.7258927822113037,
          "yref": "y"
         },
         {
          "line": {
           "color": "#023e8a",
           "width": 2
          },
          "type": "line",
          "x0": 7,
          "x1": 8,
          "xref": "x",
          "y0": 1.7258927822113037,
          "y1": 2.102521240711212,
          "yref": "y"
         },
         {
          "line": {
           "color": "#023e8a",
           "width": 2
          },
          "type": "line",
          "x0": 8,
          "x1": 9,
          "xref": "x",
          "y0": 2.102521240711212,
          "y1": 3.0127333402633667,
          "yref": "y"
         },
         {
          "line": {
           "color": "#023e8a",
           "width": 2
          },
          "type": "line",
          "x0": 9,
          "x1": 10,
          "xref": "x",
          "y0": 3.0127333402633667,
          "y1": 3.4451181292533875,
          "yref": "y"
         },
         {
          "line": {
           "color": "#023e8a",
           "width": 2
          },
          "type": "line",
          "x0": 10,
          "x1": 11,
          "xref": "x",
          "y0": 3.4451181292533875,
          "y1": 3.7770312428474426,
          "yref": "y"
         },
         {
          "line": {
           "color": "#023e8a",
           "width": 2
          },
          "type": "line",
          "x0": 13,
          "x1": 14,
          "xref": "x",
          "y0": 3.7770312428474426,
          "y1": 4.044474720954895,
          "yref": "y"
         },
         {
          "line": {
           "color": "#023e8a",
           "width": 2
          },
          "type": "line",
          "x0": 14,
          "x1": 15,
          "xref": "x",
          "y0": 4.044474720954895,
          "y1": 4.307793080806732,
          "yref": "y"
         },
         {
          "line": {
           "color": "#023e8a",
           "width": 2
          },
          "type": "line",
          "x0": 15,
          "x1": 16,
          "xref": "x",
          "y0": 4.307793080806732,
          "y1": 4.619430780410767,
          "yref": "y"
         },
         {
          "line": {
           "color": "#023e8a",
           "width": 2
          },
          "type": "line",
          "x0": 16,
          "x1": 17,
          "xref": "x",
          "y0": 4.619430780410767,
          "y1": 5.047360122203827,
          "yref": "y"
         },
         {
          "line": {
           "color": "#023e8a",
           "width": 2
          },
          "type": "line",
          "x0": 17,
          "x1": 18,
          "xref": "x",
          "y0": 5.047360122203827,
          "y1": 5.281828224658966,
          "yref": "y"
         },
         {
          "line": {
           "color": "#023e8a",
           "width": 2
          },
          "type": "line",
          "x0": 20,
          "x1": 21,
          "xref": "x",
          "y0": 5.944836437702179,
          "y1": 6.341120898723602,
          "yref": "y"
         },
         {
          "line": {
           "color": "#023e8a",
           "width": 2
          },
          "type": "line",
          "x0": 21,
          "x1": 22,
          "xref": "x",
          "y0": 6.341120898723602,
          "y1": 6.605927109718323,
          "yref": "y"
         },
         {
          "line": {
           "color": "#023e8a",
           "width": 2
          },
          "type": "line",
          "x0": 22,
          "x1": 23,
          "xref": "x",
          "y0": 6.605927109718323,
          "y1": 6.912577569484711,
          "yref": "y"
         },
         {
          "line": {
           "color": "#023e8a",
           "width": 2
          },
          "type": "line",
          "x0": 23,
          "x1": 24,
          "xref": "x",
          "y0": 6.912577569484711,
          "y1": 7.106332838535309,
          "yref": "y"
         },
         {
          "line": {
           "color": "#023e8a",
           "width": 2
          },
          "type": "line",
          "x0": 27,
          "x1": 28,
          "xref": "x",
          "y0": 7.106332838535309,
          "y1": 7.389059662818909,
          "yref": "y"
         },
         {
          "line": {
           "color": "#023e8a",
           "width": 2
          },
          "type": "line",
          "x0": 28,
          "x1": 29,
          "xref": "x",
          "y0": 7.389059662818909,
          "y1": 7.9850990772247314,
          "yref": "y"
         },
         {
          "line": {
           "color": "#023e8a",
           "width": 2
          },
          "type": "line",
          "x0": 29,
          "x1": 30,
          "xref": "x",
          "y0": 7.9850990772247314,
          "y1": 8.605194807052612,
          "yref": "y"
         },
         {
          "line": {
           "color": "#023e8a",
           "width": 2
          },
          "type": "line",
          "x0": 30,
          "x1": 31,
          "xref": "x",
          "y0": 8.605194807052612,
          "y1": 8.781307935714722,
          "yref": "y"
         },
         {
          "line": {
           "color": "#023e8a",
           "width": 2
          },
          "type": "line",
          "x0": 33,
          "x1": 34,
          "xref": "x",
          "y0": 8.708482027053833,
          "y1": 8.942306578159332,
          "yref": "y"
         },
         {
          "line": {
           "color": "#023e8a",
           "width": 2
          },
          "type": "line",
          "x0": 34,
          "x1": 35,
          "xref": "x",
          "y0": 8.942306578159332,
          "y1": 9.337329387664795,
          "yref": "y"
         },
         {
          "line": {
           "color": "#023e8a",
           "width": 2
          },
          "type": "line",
          "x0": 40,
          "x1": 41,
          "xref": "x",
          "y0": 9.882004618644714,
          "y1": 10.236352264881134,
          "yref": "y"
         },
         {
          "line": {
           "color": "#023e8a",
           "width": 2
          },
          "type": "line",
          "x0": 41,
          "x1": 42,
          "xref": "x",
          "y0": 10.236352264881134,
          "y1": 10.496378540992737,
          "yref": "y"
         },
         {
          "line": {
           "color": "#023e8a",
           "width": 2
          },
          "type": "line",
          "x0": 48,
          "x1": 49,
          "xref": "x",
          "y0": 10.496378540992737,
          "y1": 10.806002914905548,
          "yref": "y"
         },
         {
          "line": {
           "color": "#023e8a",
           "width": 2
          },
          "type": "line",
          "x0": 49,
          "x1": 50,
          "xref": "x",
          "y0": 10.806002914905548,
          "y1": 11.071993172168732,
          "yref": "y"
         },
         {
          "line": {
           "color": "#023e8a",
           "width": 2
          },
          "type": "line",
          "x0": 50,
          "x1": 51,
          "xref": "x",
          "y0": 11.071993172168732,
          "y1": 11.368125021457672,
          "yref": "y"
         },
         {
          "line": {
           "color": "#c1121f",
           "width": 2
          },
          "type": "line",
          "x0": 19,
          "x1": 20,
          "xref": "x",
          "y0": 5.281828224658966,
          "y1": 5.944836437702179,
          "yref": "y"
         },
         {
          "line": {
           "color": "#c1121f",
           "width": 2
          },
          "type": "line",
          "x0": 32,
          "x1": 33,
          "xref": "x",
          "y0": 8.781307935714722,
          "y1": 8.708482027053833,
          "yref": "y"
         },
         {
          "line": {
           "color": "#c1121f",
           "width": 2
          },
          "type": "line",
          "x0": 37,
          "x1": 38,
          "xref": "x",
          "y0": 9.337329387664795,
          "y1": 9.882004618644714,
          "yref": "y"
         }
        ],
        "showlegend": true,
        "template": {
         "data": {
          "bar": [
           {
            "error_x": {
             "color": "#2a3f5f"
            },
            "error_y": {
             "color": "#2a3f5f"
            },
            "marker": {
             "line": {
              "color": "#E5ECF6",
              "width": 0.5
             },
             "pattern": {
              "fillmode": "overlay",
              "size": 10,
              "solidity": 0.2
             }
            },
            "type": "bar"
           }
          ],
          "barpolar": [
           {
            "marker": {
             "line": {
              "color": "#E5ECF6",
              "width": 0.5
             },
             "pattern": {
              "fillmode": "overlay",
              "size": 10,
              "solidity": 0.2
             }
            },
            "type": "barpolar"
           }
          ],
          "carpet": [
           {
            "aaxis": {
             "endlinecolor": "#2a3f5f",
             "gridcolor": "white",
             "linecolor": "white",
             "minorgridcolor": "white",
             "startlinecolor": "#2a3f5f"
            },
            "baxis": {
             "endlinecolor": "#2a3f5f",
             "gridcolor": "white",
             "linecolor": "white",
             "minorgridcolor": "white",
             "startlinecolor": "#2a3f5f"
            },
            "type": "carpet"
           }
          ],
          "choropleth": [
           {
            "colorbar": {
             "outlinewidth": 0,
             "ticks": ""
            },
            "type": "choropleth"
           }
          ],
          "contour": [
           {
            "colorbar": {
             "outlinewidth": 0,
             "ticks": ""
            },
            "colorscale": [
             [
              0,
              "#0d0887"
             ],
             [
              0.1111111111111111,
              "#46039f"
             ],
             [
              0.2222222222222222,
              "#7201a8"
             ],
             [
              0.3333333333333333,
              "#9c179e"
             ],
             [
              0.4444444444444444,
              "#bd3786"
             ],
             [
              0.5555555555555556,
              "#d8576b"
             ],
             [
              0.6666666666666666,
              "#ed7953"
             ],
             [
              0.7777777777777778,
              "#fb9f3a"
             ],
             [
              0.8888888888888888,
              "#fdca26"
             ],
             [
              1,
              "#f0f921"
             ]
            ],
            "type": "contour"
           }
          ],
          "contourcarpet": [
           {
            "colorbar": {
             "outlinewidth": 0,
             "ticks": ""
            },
            "type": "contourcarpet"
           }
          ],
          "heatmap": [
           {
            "colorbar": {
             "outlinewidth": 0,
             "ticks": ""
            },
            "colorscale": [
             [
              0,
              "#0d0887"
             ],
             [
              0.1111111111111111,
              "#46039f"
             ],
             [
              0.2222222222222222,
              "#7201a8"
             ],
             [
              0.3333333333333333,
              "#9c179e"
             ],
             [
              0.4444444444444444,
              "#bd3786"
             ],
             [
              0.5555555555555556,
              "#d8576b"
             ],
             [
              0.6666666666666666,
              "#ed7953"
             ],
             [
              0.7777777777777778,
              "#fb9f3a"
             ],
             [
              0.8888888888888888,
              "#fdca26"
             ],
             [
              1,
              "#f0f921"
             ]
            ],
            "type": "heatmap"
           }
          ],
          "histogram": [
           {
            "marker": {
             "pattern": {
              "fillmode": "overlay",
              "size": 10,
              "solidity": 0.2
             }
            },
            "type": "histogram"
           }
          ],
          "histogram2d": [
           {
            "colorbar": {
             "outlinewidth": 0,
             "ticks": ""
            },
            "colorscale": [
             [
              0,
              "#0d0887"
             ],
             [
              0.1111111111111111,
              "#46039f"
             ],
             [
              0.2222222222222222,
              "#7201a8"
             ],
             [
              0.3333333333333333,
              "#9c179e"
             ],
             [
              0.4444444444444444,
              "#bd3786"
             ],
             [
              0.5555555555555556,
              "#d8576b"
             ],
             [
              0.6666666666666666,
              "#ed7953"
             ],
             [
              0.7777777777777778,
              "#fb9f3a"
             ],
             [
              0.8888888888888888,
              "#fdca26"
             ],
             [
              1,
              "#f0f921"
             ]
            ],
            "type": "histogram2d"
           }
          ],
          "histogram2dcontour": [
           {
            "colorbar": {
             "outlinewidth": 0,
             "ticks": ""
            },
            "colorscale": [
             [
              0,
              "#0d0887"
             ],
             [
              0.1111111111111111,
              "#46039f"
             ],
             [
              0.2222222222222222,
              "#7201a8"
             ],
             [
              0.3333333333333333,
              "#9c179e"
             ],
             [
              0.4444444444444444,
              "#bd3786"
             ],
             [
              0.5555555555555556,
              "#d8576b"
             ],
             [
              0.6666666666666666,
              "#ed7953"
             ],
             [
              0.7777777777777778,
              "#fb9f3a"
             ],
             [
              0.8888888888888888,
              "#fdca26"
             ],
             [
              1,
              "#f0f921"
             ]
            ],
            "type": "histogram2dcontour"
           }
          ],
          "mesh3d": [
           {
            "colorbar": {
             "outlinewidth": 0,
             "ticks": ""
            },
            "type": "mesh3d"
           }
          ],
          "parcoords": [
           {
            "line": {
             "colorbar": {
              "outlinewidth": 0,
              "ticks": ""
             }
            },
            "type": "parcoords"
           }
          ],
          "pie": [
           {
            "automargin": true,
            "type": "pie"
           }
          ],
          "scatter": [
           {
            "fillpattern": {
             "fillmode": "overlay",
             "size": 10,
             "solidity": 0.2
            },
            "type": "scatter"
           }
          ],
          "scatter3d": [
           {
            "line": {
             "colorbar": {
              "outlinewidth": 0,
              "ticks": ""
             }
            },
            "marker": {
             "colorbar": {
              "outlinewidth": 0,
              "ticks": ""
             }
            },
            "type": "scatter3d"
           }
          ],
          "scattercarpet": [
           {
            "marker": {
             "colorbar": {
              "outlinewidth": 0,
              "ticks": ""
             }
            },
            "type": "scattercarpet"
           }
          ],
          "scattergeo": [
           {
            "marker": {
             "colorbar": {
              "outlinewidth": 0,
              "ticks": ""
             }
            },
            "type": "scattergeo"
           }
          ],
          "scattergl": [
           {
            "marker": {
             "colorbar": {
              "outlinewidth": 0,
              "ticks": ""
             }
            },
            "type": "scattergl"
           }
          ],
          "scattermap": [
           {
            "marker": {
             "colorbar": {
              "outlinewidth": 0,
              "ticks": ""
             }
            },
            "type": "scattermap"
           }
          ],
          "scattermapbox": [
           {
            "marker": {
             "colorbar": {
              "outlinewidth": 0,
              "ticks": ""
             }
            },
            "type": "scattermapbox"
           }
          ],
          "scatterpolar": [
           {
            "marker": {
             "colorbar": {
              "outlinewidth": 0,
              "ticks": ""
             }
            },
            "type": "scatterpolar"
           }
          ],
          "scatterpolargl": [
           {
            "marker": {
             "colorbar": {
              "outlinewidth": 0,
              "ticks": ""
             }
            },
            "type": "scatterpolargl"
           }
          ],
          "scatterternary": [
           {
            "marker": {
             "colorbar": {
              "outlinewidth": 0,
              "ticks": ""
             }
            },
            "type": "scatterternary"
           }
          ],
          "surface": [
           {
            "colorbar": {
             "outlinewidth": 0,
             "ticks": ""
            },
            "colorscale": [
             [
              0,
              "#0d0887"
             ],
             [
              0.1111111111111111,
              "#46039f"
             ],
             [
              0.2222222222222222,
              "#7201a8"
             ],
             [
              0.3333333333333333,
              "#9c179e"
             ],
             [
              0.4444444444444444,
              "#bd3786"
             ],
             [
              0.5555555555555556,
              "#d8576b"
             ],
             [
              0.6666666666666666,
              "#ed7953"
             ],
             [
              0.7777777777777778,
              "#fb9f3a"
             ],
             [
              0.8888888888888888,
              "#fdca26"
             ],
             [
              1,
              "#f0f921"
             ]
            ],
            "type": "surface"
           }
          ],
          "table": [
           {
            "cells": {
             "fill": {
              "color": "#EBF0F8"
             },
             "line": {
              "color": "white"
             }
            },
            "header": {
             "fill": {
              "color": "#C8D4E3"
             },
             "line": {
              "color": "white"
             }
            },
            "type": "table"
           }
          ]
         },
         "layout": {
          "annotationdefaults": {
           "arrowcolor": "#2a3f5f",
           "arrowhead": 0,
           "arrowwidth": 1
          },
          "autotypenumbers": "strict",
          "coloraxis": {
           "colorbar": {
            "outlinewidth": 0,
            "ticks": ""
           }
          },
          "colorscale": {
           "diverging": [
            [
             0,
             "#8e0152"
            ],
            [
             0.1,
             "#c51b7d"
            ],
            [
             0.2,
             "#de77ae"
            ],
            [
             0.3,
             "#f1b6da"
            ],
            [
             0.4,
             "#fde0ef"
            ],
            [
             0.5,
             "#f7f7f7"
            ],
            [
             0.6,
             "#e6f5d0"
            ],
            [
             0.7,
             "#b8e186"
            ],
            [
             0.8,
             "#7fbc41"
            ],
            [
             0.9,
             "#4d9221"
            ],
            [
             1,
             "#276419"
            ]
           ],
           "sequential": [
            [
             0,
             "#0d0887"
            ],
            [
             0.1111111111111111,
             "#46039f"
            ],
            [
             0.2222222222222222,
             "#7201a8"
            ],
            [
             0.3333333333333333,
             "#9c179e"
            ],
            [
             0.4444444444444444,
             "#bd3786"
            ],
            [
             0.5555555555555556,
             "#d8576b"
            ],
            [
             0.6666666666666666,
             "#ed7953"
            ],
            [
             0.7777777777777778,
             "#fb9f3a"
            ],
            [
             0.8888888888888888,
             "#fdca26"
            ],
            [
             1,
             "#f0f921"
            ]
           ],
           "sequentialminus": [
            [
             0,
             "#0d0887"
            ],
            [
             0.1111111111111111,
             "#46039f"
            ],
            [
             0.2222222222222222,
             "#7201a8"
            ],
            [
             0.3333333333333333,
             "#9c179e"
            ],
            [
             0.4444444444444444,
             "#bd3786"
            ],
            [
             0.5555555555555556,
             "#d8576b"
            ],
            [
             0.6666666666666666,
             "#ed7953"
            ],
            [
             0.7777777777777778,
             "#fb9f3a"
            ],
            [
             0.8888888888888888,
             "#fdca26"
            ],
            [
             1,
             "#f0f921"
            ]
           ]
          },
          "colorway": [
           "#636efa",
           "#EF553B",
           "#00cc96",
           "#ab63fa",
           "#FFA15A",
           "#19d3f3",
           "#FF6692",
           "#B6E880",
           "#FF97FF",
           "#FECB52"
          ],
          "font": {
           "color": "#2a3f5f"
          },
          "geo": {
           "bgcolor": "white",
           "lakecolor": "white",
           "landcolor": "#E5ECF6",
           "showlakes": true,
           "showland": true,
           "subunitcolor": "white"
          },
          "hoverlabel": {
           "align": "left"
          },
          "hovermode": "closest",
          "mapbox": {
           "style": "light"
          },
          "paper_bgcolor": "white",
          "plot_bgcolor": "#E5ECF6",
          "polar": {
           "angularaxis": {
            "gridcolor": "white",
            "linecolor": "white",
            "ticks": ""
           },
           "bgcolor": "#E5ECF6",
           "radialaxis": {
            "gridcolor": "white",
            "linecolor": "white",
            "ticks": ""
           }
          },
          "scene": {
           "xaxis": {
            "backgroundcolor": "#E5ECF6",
            "gridcolor": "white",
            "gridwidth": 2,
            "linecolor": "white",
            "showbackground": true,
            "ticks": "",
            "zerolinecolor": "white"
           },
           "yaxis": {
            "backgroundcolor": "#E5ECF6",
            "gridcolor": "white",
            "gridwidth": 2,
            "linecolor": "white",
            "showbackground": true,
            "ticks": "",
            "zerolinecolor": "white"
           },
           "zaxis": {
            "backgroundcolor": "#E5ECF6",
            "gridcolor": "white",
            "gridwidth": 2,
            "linecolor": "white",
            "showbackground": true,
            "ticks": "",
            "zerolinecolor": "white"
           }
          },
          "shapedefaults": {
           "line": {
            "color": "#2a3f5f"
           }
          },
          "ternary": {
           "aaxis": {
            "gridcolor": "white",
            "linecolor": "white",
            "ticks": ""
           },
           "baxis": {
            "gridcolor": "white",
            "linecolor": "white",
            "ticks": ""
           },
           "bgcolor": "#E5ECF6",
           "caxis": {
            "gridcolor": "white",
            "linecolor": "white",
            "ticks": ""
           }
          },
          "title": {
           "x": 0.05
          },
          "xaxis": {
           "automargin": true,
           "gridcolor": "white",
           "linecolor": "white",
           "ticks": "",
           "title": {
            "standoff": 15
           },
           "zerolinecolor": "white",
           "zerolinewidth": 2
          },
          "yaxis": {
           "automargin": true,
           "gridcolor": "white",
           "linecolor": "white",
           "ticks": "",
           "title": {
            "standoff": 15
           },
           "zerolinecolor": "white",
           "zerolinewidth": 2
          }
         }
        },
        "title": {
         "text": "Semantic Expansion over Writing Sessions<br><span style=\"font-size: 12px;\">*Measuring how well humans are learning while writing with GenAI</span>"
        },
        "width": 1600,
        "xaxis": {
         "anchor": "y",
         "domain": [
          0,
          1
         ],
         "gridcolor": "white",
         "linecolor": "black",
         "mirror": false,
         "range": [
          -1,
          52
         ],
         "showline": true,
         "ticks": "outside",
         "title": {
          "text": "Progress into the writing session"
         }
        },
        "yaxis": {
         "anchor": "x",
         "domain": [
          0,
          1
         ],
         "gridcolor": "white",
         "linecolor": "black",
         "mirror": false,
         "showline": true,
         "ticks": "outside",
         "title": {
          "text": "Scores"
         }
        }
       }
      }
     },
     "metadata": {},
     "output_type": "display_data"
    },
    {
     "name": "stdout",
     "output_type": "stream",
     "text": [
      "legislation_antitrust_2\n"
     ]
    },
    {
     "data": {
      "application/vnd.plotly.v1+json": {
       "config": {
        "plotlyServerURL": "https://plot.ly"
       },
       "data": [
        {
         "line": {
          "color": "#64B5F6",
          "width": 2
         },
         "mode": "lines",
         "name": "human_insert_backstage",
         "showlegend": true,
         "type": "scatter",
         "x": [
          null
         ],
         "xaxis": "x",
         "y": [
          null
         ],
         "yaxis": "y"
        },
        {
         "line": {
          "color": "#ff8fab",
          "width": 2
         },
         "mode": "lines",
         "name": "ai_suggest_backstage",
         "showlegend": true,
         "type": "scatter",
         "x": [
          null
         ],
         "xaxis": "x",
         "y": [
          null
         ],
         "yaxis": "y"
        },
        {
         "line": {
          "color": "#023e8a",
          "width": 2
         },
         "mode": "lines",
         "name": "human_insert_frontstage",
         "showlegend": true,
         "type": "scatter",
         "x": [
          null
         ],
         "xaxis": "x",
         "y": [
          null
         ],
         "yaxis": "y"
        },
        {
         "line": {
          "color": "#c1121f",
          "width": 2
         },
         "mode": "lines",
         "name": "ai_insert_moved_to_frontstage",
         "showlegend": true,
         "type": "scatter",
         "x": [
          null
         ],
         "xaxis": "x",
         "y": [
          null
         ],
         "yaxis": "y"
        },
        {
         "line": {
          "color": "#9d4edd",
          "width": 2
         },
         "mode": "lines",
         "name": "human_delete_frontstage",
         "showlegend": true,
         "type": "scatter",
         "x": [
          null
         ],
         "xaxis": "x",
         "y": [
          null
         ],
         "yaxis": "y"
        },
        {
         "line": {
          "color": "#5a189a",
          "width": 2
         },
         "mode": "lines",
         "name": "human_insert_edit_frontstage",
         "showlegend": true,
         "type": "scatter",
         "x": [
          null
         ],
         "xaxis": "x",
         "y": [
          null
         ],
         "yaxis": "y"
        }
       ],
       "layout": {
        "annotations": [
         {
          "font": {
           "size": 16
          },
          "showarrow": false,
          "text": "Session: legislation_antitrust_2",
          "x": 0.5,
          "xanchor": "center",
          "xref": "paper",
          "y": 1,
          "yanchor": "bottom",
          "yref": "paper"
         }
        ],
        "height": 500,
        "legend": {
         "title": {
          "font": {
           "color": "rgba(0, 0, 0, 0)"
          }
         }
        },
        "plot_bgcolor": "white",
        "shapes": [
         {
          "line": {
           "color": "#64B5F6",
           "width": 2
          },
          "type": "line",
          "x0": 0,
          "x1": 0,
          "xref": "x",
          "y0": 0,
          "y1": 0.16534090042114258,
          "yref": "y"
         },
         {
          "line": {
           "color": "#64B5F6",
           "width": 2
          },
          "type": "line",
          "x0": 1,
          "x1": 2,
          "xref": "x",
          "y0": 0.47974696159362795,
          "y1": -0.31624976396560667,
          "yref": "y"
         },
         {
          "line": {
           "color": "#64B5F6",
           "width": 2
          },
          "type": "line",
          "x0": 5,
          "x1": 6,
          "xref": "x",
          "y0": 0.3380911350250244,
          "y1": 0.8175024390220642,
          "yref": "y"
         },
         {
          "line": {
           "color": "#64B5F6",
           "width": 2
          },
          "type": "line",
          "x0": 8,
          "x1": 9,
          "xref": "x",
          "y0": 1.2248958349227905,
          "y1": 1.734730839729309,
          "yref": "y"
         },
         {
          "line": {
           "color": "#64B5F6",
           "width": 2
          },
          "type": "line",
          "x0": 15,
          "x1": 16,
          "xref": "x",
          "y0": 3.465090298652649,
          "y1": 3.9089319348335265,
          "yref": "y"
         },
         {
          "line": {
           "color": "#64B5F6",
           "width": 2
          },
          "type": "line",
          "x0": 19,
          "x1": 20,
          "xref": "x",
          "y0": 4.873978018760681,
          "y1": 5.332579553127289,
          "yref": "y"
         },
         {
          "line": {
           "color": "#64B5F6",
           "width": 2
          },
          "type": "line",
          "x0": 24,
          "x1": 25,
          "xref": "x",
          "y0": 5.152986288070679,
          "y1": 5.348797380924225,
          "yref": "y"
         },
         {
          "line": {
           "color": "#64B5F6",
           "width": 2
          },
          "type": "line",
          "x0": 29,
          "x1": 30,
          "xref": "x",
          "y0": 5.826832592487335,
          "y1": 6.588435769081116,
          "yref": "y"
         },
         {
          "line": {
           "color": "#64B5F6",
           "width": 2
          },
          "type": "line",
          "x0": 31,
          "x1": 32,
          "xref": "x",
          "y0": 7.192662954330444,
          "y1": 5.5175087451934814,
          "yref": "y"
         },
         {
          "line": {
           "color": "#64B5F6",
           "width": 2
          },
          "type": "line",
          "x0": 36,
          "x1": 37,
          "xref": "x",
          "y0": 6.761120855808258,
          "y1": 7.266018569469452,
          "yref": "y"
         },
         {
          "line": {
           "color": "#64B5F6",
           "width": 2
          },
          "type": "line",
          "x0": 45,
          "x1": 46,
          "xref": "x",
          "y0": 8.033739578723907,
          "y1": 8.268153858184814,
          "yref": "y"
         },
         {
          "line": {
           "color": "#64B5F6",
           "width": 2
          },
          "type": "line",
          "x0": 48,
          "x1": 49,
          "xref": "x",
          "y0": 7.637451887130737,
          "y1": 8.053086042404175,
          "yref": "y"
         },
         {
          "line": {
           "color": "#64B5F6",
           "width": 2
          },
          "type": "line",
          "x0": 51,
          "x1": 52,
          "xref": "x",
          "y0": 8.096093535423279,
          "y1": 8.845880925655365,
          "yref": "y"
         },
         {
          "line": {
           "color": "#64B5F6",
           "width": 2
          },
          "type": "line",
          "x0": 54,
          "x1": 55,
          "xref": "x",
          "y0": 10.093056523799897,
          "y1": 10.419967377185822,
          "yref": "y"
         },
         {
          "line": {
           "color": "#64B5F6",
           "width": 2
          },
          "type": "line",
          "x0": 56,
          "x1": 57,
          "xref": "x",
          "y0": 10.68163094520569,
          "y1": 11.017294681072237,
          "yref": "y"
         },
         {
          "line": {
           "color": "#64B5F6",
           "width": 2
          },
          "type": "line",
          "x0": 58,
          "x1": 59,
          "xref": "x",
          "y0": 11.30212495326996,
          "y1": 12.109223699569704,
          "yref": "y"
         },
         {
          "line": {
           "color": "#64B5F6",
           "width": 2
          },
          "type": "line",
          "x0": 62,
          "x1": 63,
          "xref": "x",
          "y0": 9.130792808532714,
          "y1": 7.9290179133415215,
          "yref": "y"
         },
         {
          "line": {
           "color": "#64B5F6",
           "width": 2
          },
          "type": "line",
          "x0": 66,
          "x1": 67,
          "xref": "x",
          "y0": 9.39369739294052,
          "y1": 10.178684604167938,
          "yref": "y"
         },
         {
          "line": {
           "color": "#64B5F6",
           "width": 2
          },
          "type": "line",
          "x0": 70,
          "x1": 71,
          "xref": "x",
          "y0": 9.73329097032547,
          "y1": 10.102034211158752,
          "yref": "y"
         },
         {
          "line": {
           "color": "#64B5F6",
           "width": 2
          },
          "type": "line",
          "x0": 74,
          "x1": 75,
          "xref": "x",
          "y0": 10.810996353626251,
          "y1": 11.623038113117218,
          "yref": "y"
         },
         {
          "line": {
           "color": "#64B5F6",
           "width": 2
          },
          "type": "line",
          "x0": 77,
          "x1": 78,
          "xref": "x",
          "y0": 9.87736028432846,
          "y1": 10.264488399028778,
          "yref": "y"
         },
         {
          "line": {
           "color": "#64B5F6",
           "width": 2
          },
          "type": "line",
          "x0": 80,
          "x1": 81,
          "xref": "x",
          "y0": 10.751499593257904,
          "y1": 10.952221274375916,
          "yref": "y"
         },
         {
          "line": {
           "color": "#64B5F6",
           "width": 2
          },
          "type": "line",
          "x0": 82,
          "x1": 83,
          "xref": "x",
          "y0": 11.397103250026703,
          "y1": 11.597824931144714,
          "yref": "y"
         },
         {
          "line": {
           "color": "#64B5F6",
           "width": 2
          },
          "type": "line",
          "x0": 87,
          "x1": 88,
          "xref": "x",
          "y0": 11.896367251873016,
          "y1": 12.661162853240967,
          "yref": "y"
         },
         {
          "line": {
           "color": "#64B5F6",
           "width": 2
          },
          "type": "line",
          "x0": 90,
          "x1": 91,
          "xref": "x",
          "y0": 11.88118827342987,
          "y1": 12.382777333259583,
          "yref": "y"
         },
         {
          "line": {
           "color": "#64B5F6",
           "width": 2
          },
          "type": "line",
          "x0": 92,
          "x1": 93,
          "xref": "x",
          "y0": 12.840385937690735,
          "y1": 13.17794897556305,
          "yref": "y"
         },
         {
          "line": {
           "color": "#64B5F6",
           "width": 2
          },
          "type": "line",
          "x0": 94,
          "x1": 95,
          "xref": "x",
          "y0": 13.531545984745026,
          "y1": 13.83030925989151,
          "yref": "y"
         },
         {
          "line": {
           "color": "#64B5F6",
           "width": 2
          },
          "type": "line",
          "x0": 104,
          "x1": 105,
          "xref": "x",
          "y0": 15.01366126537323,
          "y1": 15.850415110588074,
          "yref": "y"
         },
         {
          "line": {
           "color": "#64B5F6",
           "width": 2
          },
          "type": "line",
          "x0": 109,
          "x1": 110,
          "xref": "x",
          "y0": 16.073642909526825,
          "y1": 16.88797515630722,
          "yref": "y"
         },
         {
          "line": {
           "color": "#ff8fab",
           "width": 2
          },
          "type": "line",
          "x0": 0,
          "x1": 1,
          "xref": "x",
          "y0": 0.16534090042114258,
          "y1": 0.47974696159362795,
          "yref": "y"
         },
         {
          "line": {
           "color": "#ff8fab",
           "width": 2
          },
          "type": "line",
          "x0": 2,
          "x1": 3,
          "xref": "x",
          "y0": -0.31624976396560667,
          "y1": 0.020117640495300404,
          "yref": "y"
         },
         {
          "line": {
           "color": "#ff8fab",
           "width": 2
          },
          "type": "line",
          "x0": 3,
          "x1": 4,
          "xref": "x",
          "y0": 0.020117640495300404,
          "y1": -0.3900379896163939,
          "yref": "y"
         },
         {
          "line": {
           "color": "#ff8fab",
           "width": 2
          },
          "type": "line",
          "x0": 6,
          "x1": 7,
          "xref": "x",
          "y0": 0.8175024390220642,
          "y1": 1.1664928436279296,
          "yref": "y"
         },
         {
          "line": {
           "color": "#ff8fab",
           "width": 2
          },
          "type": "line",
          "x0": 9,
          "x1": 10,
          "xref": "x",
          "y0": 1.734730839729309,
          "y1": 2.1823998212814333,
          "yref": "y"
         },
         {
          "line": {
           "color": "#ff8fab",
           "width": 2
          },
          "type": "line",
          "x0": 14,
          "x1": 15,
          "xref": "x",
          "y0": 3.1376774311065674,
          "y1": 3.465090298652649,
          "yref": "y"
         },
         {
          "line": {
           "color": "#ff8fab",
           "width": 2
          },
          "type": "line",
          "x0": 16,
          "x1": 17,
          "xref": "x",
          "y0": 3.9089319348335265,
          "y1": 4.236560595035552,
          "yref": "y"
         },
         {
          "line": {
           "color": "#ff8fab",
           "width": 2
          },
          "type": "line",
          "x0": 20,
          "x1": 21,
          "xref": "x",
          "y0": 5.332579553127289,
          "y1": 5.6403473854064945,
          "yref": "y"
         },
         {
          "line": {
           "color": "#ff8fab",
           "width": 2
          },
          "type": "line",
          "x0": 25,
          "x1": 26,
          "xref": "x",
          "y0": 5.348797380924225,
          "y1": 5.6669947624206545,
          "yref": "y"
         },
         {
          "line": {
           "color": "#ff8fab",
           "width": 2
          },
          "type": "line",
          "x0": 30,
          "x1": 31,
          "xref": "x",
          "y0": 6.588435769081116,
          "y1": 7.192662954330444,
          "yref": "y"
         },
         {
          "line": {
           "color": "#ff8fab",
           "width": 2
          },
          "type": "line",
          "x0": 32,
          "x1": 33,
          "xref": "x",
          "y0": 5.5175087451934814,
          "y1": 6.118112063407898,
          "yref": "y"
         },
         {
          "line": {
           "color": "#ff8fab",
           "width": 2
          },
          "type": "line",
          "x0": 35,
          "x1": 36,
          "xref": "x",
          "y0": 6.4354371428489685,
          "y1": 6.761120855808258,
          "yref": "y"
         },
         {
          "line": {
           "color": "#ff8fab",
           "width": 2
          },
          "type": "line",
          "x0": 37,
          "x1": 38,
          "xref": "x",
          "y0": 7.266018569469452,
          "y1": 7.6328818798065186,
          "yref": "y"
         },
         {
          "line": {
           "color": "#ff8fab",
           "width": 2
          },
          "type": "line",
          "x0": 40,
          "x1": 41,
          "xref": "x",
          "y0": 6.938439667224884,
          "y1": 7.3741046667099,
          "yref": "y"
         },
         {
          "line": {
           "color": "#ff8fab",
           "width": 2
          },
          "type": "line",
          "x0": 42,
          "x1": 43,
          "xref": "x",
          "y0": 7.3488205671310425,
          "y1": 7.726562917232513,
          "yref": "y"
         },
         {
          "line": {
           "color": "#ff8fab",
           "width": 2
          },
          "type": "line",
          "x0": 44,
          "x1": 45,
          "xref": "x",
          "y0": 7.637451887130737,
          "y1": 8.033739578723907,
          "yref": "y"
         },
         {
          "line": {
           "color": "#ff8fab",
           "width": 2
          },
          "type": "line",
          "x0": 46,
          "x1": 47,
          "xref": "x",
          "y0": 8.268153858184814,
          "y1": 8.561744284629821,
          "yref": "y"
         },
         {
          "line": {
           "color": "#ff8fab",
           "width": 2
          },
          "type": "line",
          "x0": 49,
          "x1": 50,
          "xref": "x",
          "y0": 8.053086042404175,
          "y1": 8.508223450183868,
          "yref": "y"
         },
         {
          "line": {
           "color": "#ff8fab",
           "width": 2
          },
          "type": "line",
          "x0": 52,
          "x1": 53,
          "xref": "x",
          "y0": 8.845880925655365,
          "y1": 9.471508407592774,
          "yref": "y"
         },
         {
          "line": {
           "color": "#ff8fab",
           "width": 2
          },
          "type": "line",
          "x0": 53,
          "x1": 54,
          "xref": "x",
          "y0": 9.471508407592774,
          "y1": 10.093056523799897,
          "yref": "y"
         },
         {
          "line": {
           "color": "#ff8fab",
           "width": 2
          },
          "type": "line",
          "x0": 55,
          "x1": 56,
          "xref": "x",
          "y0": 10.419967377185822,
          "y1": 10.68163094520569,
          "yref": "y"
         },
         {
          "line": {
           "color": "#ff8fab",
           "width": 2
          },
          "type": "line",
          "x0": 57,
          "x1": 58,
          "xref": "x",
          "y0": 11.017294681072237,
          "y1": 11.30212495326996,
          "yref": "y"
         },
         {
          "line": {
           "color": "#ff8fab",
           "width": 2
          },
          "type": "line",
          "x0": 59,
          "x1": 60,
          "xref": "x",
          "y0": 12.109223699569704,
          "y1": 12.487268936634065,
          "yref": "y"
         },
         {
          "line": {
           "color": "#ff8fab",
           "width": 2
          },
          "type": "line",
          "x0": 61,
          "x1": 62,
          "xref": "x",
          "y0": 8.787000894546509,
          "y1": 9.130792808532714,
          "yref": "y"
         },
         {
          "line": {
           "color": "#ff8fab",
           "width": 2
          },
          "type": "line",
          "x0": 63,
          "x1": 64,
          "xref": "x",
          "y0": 7.929017913341522,
          "y1": 8.167966163158418,
          "yref": "y"
         },
         {
          "line": {
           "color": "#ff8fab",
           "width": 2
          },
          "type": "line",
          "x0": 65,
          "x1": 66,
          "xref": "x",
          "y0": 9.00803828239441,
          "y1": 9.39369739294052,
          "yref": "y"
         },
         {
          "line": {
           "color": "#ff8fab",
           "width": 2
          },
          "type": "line",
          "x0": 67,
          "x1": 68,
          "xref": "x",
          "y0": 10.178684604167938,
          "y1": 10.586524987220763,
          "yref": "y"
         },
         {
          "line": {
           "color": "#ff8fab",
           "width": 2
          },
          "type": "line",
          "x0": 71,
          "x1": 72,
          "xref": "x",
          "y0": 10.102034211158752,
          "y1": 10.704485511779785,
          "yref": "y"
         },
         {
          "line": {
           "color": "#ff8fab",
           "width": 2
          },
          "type": "line",
          "x0": 75,
          "x1": 76,
          "xref": "x",
          "y0": 11.623038113117218,
          "y1": 12.253567123413086,
          "yref": "y"
         },
         {
          "line": {
           "color": "#ff8fab",
           "width": 2
          },
          "type": "line",
          "x0": 83,
          "x1": 84,
          "xref": "x",
          "y0": 11.597824931144714,
          "y1": 11.885278475284576,
          "yref": "y"
         },
         {
          "line": {
           "color": "#ff8fab",
           "width": 2
          },
          "type": "line",
          "x0": 86,
          "x1": 87,
          "xref": "x",
          "y0": 11.480517327785492,
          "y1": 11.896367251873016,
          "yref": "y"
         },
         {
          "line": {
           "color": "#ff8fab",
           "width": 2
          },
          "type": "line",
          "x0": 88,
          "x1": 89,
          "xref": "x",
          "y0": 12.661162853240967,
          "y1": 13.05724003314972,
          "yref": "y"
         },
         {
          "line": {
           "color": "#ff8fab",
           "width": 2
          },
          "type": "line",
          "x0": 91,
          "x1": 92,
          "xref": "x",
          "y0": 12.382777333259583,
          "y1": 12.840385937690735,
          "yref": "y"
         },
         {
          "line": {
           "color": "#ff8fab",
           "width": 2
          },
          "type": "line",
          "x0": 93,
          "x1": 94,
          "xref": "x",
          "y0": 13.17794897556305,
          "y1": 13.531545984745026,
          "yref": "y"
         },
         {
          "line": {
           "color": "#ff8fab",
           "width": 2
          },
          "type": "line",
          "x0": 95,
          "x1": 96,
          "xref": "x",
          "y0": 13.83030925989151,
          "y1": 14.278338849544525,
          "yref": "y"
         },
         {
          "line": {
           "color": "#ff8fab",
           "width": 2
          },
          "type": "line",
          "x0": 99,
          "x1": 100,
          "xref": "x",
          "y0": 13.356272041797638,
          "y1": 13.878143358230592,
          "yref": "y"
         },
         {
          "line": {
           "color": "#ff8fab",
           "width": 2
          },
          "type": "line",
          "x0": 105,
          "x1": 106,
          "xref": "x",
          "y0": 15.850415110588074,
          "y1": 16.21326732635498,
          "yref": "y"
         },
         {
          "line": {
           "color": "#ff8fab",
           "width": 2
          },
          "type": "line",
          "x0": 108,
          "x1": 109,
          "xref": "x",
          "y0": 15.64670181274414,
          "y1": 16.073642909526825,
          "yref": "y"
         },
         {
          "line": {
           "color": "#ff8fab",
           "width": 2
          },
          "type": "line",
          "x0": 110,
          "x1": 111,
          "xref": "x",
          "y0": 16.88797515630722,
          "y1": 17.59260090589523,
          "yref": "y"
         },
         {
          "line": {
           "color": "#023e8a",
           "width": 2
          },
          "type": "line",
          "x0": 10,
          "x1": 11,
          "xref": "x",
          "y0": 1.2248958349227905,
          "y1": 1.8202862739562988,
          "yref": "y"
         },
         {
          "line": {
           "color": "#023e8a",
           "width": 2
          },
          "type": "line",
          "x0": 12,
          "x1": 13,
          "xref": "x",
          "y0": 2.5008694529533386,
          "y1": 2.9686925411224365,
          "yref": "y"
         },
         {
          "line": {
           "color": "#023e8a",
           "width": 2
          },
          "type": "line",
          "x0": 13,
          "x1": 14,
          "xref": "x",
          "y0": 2.9686925411224365,
          "y1": 3.1376774311065674,
          "yref": "y"
         },
         {
          "line": {
           "color": "#023e8a",
           "width": 2
          },
          "type": "line",
          "x0": 17,
          "x1": 18,
          "xref": "x",
          "y0": 3.1376774311065674,
          "y1": 3.5820083618164062,
          "yref": "y"
         },
         {
          "line": {
           "color": "#023e8a",
           "width": 2
          },
          "type": "line",
          "x0": 21,
          "x1": 22,
          "xref": "x",
          "y0": 4.873978018760681,
          "y1": 5.152986288070679,
          "yref": "y"
         },
         {
          "line": {
           "color": "#023e8a",
           "width": 2
          },
          "type": "line",
          "x0": 26,
          "x1": 27,
          "xref": "x",
          "y0": 5.152986288070679,
          "y1": 5.372731029987335,
          "yref": "y"
         },
         {
          "line": {
           "color": "#023e8a",
           "width": 2
          },
          "type": "line",
          "x0": 27,
          "x1": 28,
          "xref": "x",
          "y0": 5.372731029987335,
          "y1": 5.512848377227783,
          "yref": "y"
         },
         {
          "line": {
           "color": "#023e8a",
           "width": 2
          },
          "type": "line",
          "x0": 28,
          "x1": 29,
          "xref": "x",
          "y0": 5.512848377227783,
          "y1": 5.826832592487335,
          "yref": "y"
         },
         {
          "line": {
           "color": "#023e8a",
           "width": 2
          },
          "type": "line",
          "x0": 34,
          "x1": 35,
          "xref": "x",
          "y0": 5.915079295635223,
          "y1": 6.4354371428489685,
          "yref": "y"
         },
         {
          "line": {
           "color": "#023e8a",
           "width": 2
          },
          "type": "line",
          "x0": 39,
          "x1": 40,
          "xref": "x",
          "y0": 6.8226887583732605,
          "y1": 6.938439667224884,
          "yref": "y"
         },
         {
          "line": {
           "color": "#023e8a",
           "width": 2
          },
          "type": "line",
          "x0": 43,
          "x1": 44,
          "xref": "x",
          "y0": 7.3488205671310425,
          "y1": 7.637451887130737,
          "yref": "y"
         },
         {
          "line": {
           "color": "#023e8a",
           "width": 2
          },
          "type": "line",
          "x0": 69,
          "x1": 70,
          "xref": "x",
          "y0": 9.441432416439056,
          "y1": 9.73329097032547,
          "yref": "y"
         },
         {
          "line": {
           "color": "#023e8a",
           "width": 2
          },
          "type": "line",
          "x0": 73,
          "x1": 74,
          "xref": "x",
          "y0": 10.27214366197586,
          "y1": 10.810996353626251,
          "yref": "y"
         },
         {
          "line": {
           "color": "#023e8a",
           "width": 2
          },
          "type": "line",
          "x0": 78,
          "x1": 79,
          "xref": "x",
          "y0": 9.87736028432846,
          "y1": 10.52296394109726,
          "yref": "y"
         },
         {
          "line": {
           "color": "#023e8a",
           "width": 2
          },
          "type": "line",
          "x0": 79,
          "x1": 80,
          "xref": "x",
          "y0": 10.52296394109726,
          "y1": 10.751499593257904,
          "yref": "y"
         },
         {
          "line": {
           "color": "#023e8a",
           "width": 2
          },
          "type": "line",
          "x0": 81,
          "x1": 82,
          "xref": "x",
          "y0": 10.751499593257904,
          "y1": 11.397103250026703,
          "yref": "y"
         },
         {
          "line": {
           "color": "#023e8a",
           "width": 2
          },
          "type": "line",
          "x0": 84,
          "x1": 85,
          "xref": "x",
          "y0": 11.397103250026703,
          "y1": 11.759721875190735,
          "yref": "y"
         },
         {
          "line": {
           "color": "#023e8a",
           "width": 2
          },
          "type": "line",
          "x0": 97,
          "x1": 98,
          "xref": "x",
          "y0": 12.739158868789673,
          "y1": 13.078988790512085,
          "yref": "y"
         },
         {
          "line": {
           "color": "#023e8a",
           "width": 2
          },
          "type": "line",
          "x0": 98,
          "x1": 99,
          "xref": "x",
          "y0": 13.078988790512085,
          "y1": 13.356272041797638,
          "yref": "y"
         },
         {
          "line": {
           "color": "#023e8a",
           "width": 2
          },
          "type": "line",
          "x0": 101,
          "x1": 102,
          "xref": "x",
          "y0": 14.991369307041168,
          "y1": 15.501907646656036,
          "yref": "y"
         },
         {
          "line": {
           "color": "#023e8a",
           "width": 2
          },
          "type": "line",
          "x0": 102,
          "x1": 103,
          "xref": "x",
          "y0": 15.501907646656036,
          "y1": 16.076270401477814,
          "yref": "y"
         },
         {
          "line": {
           "color": "#023e8a",
           "width": 2
          },
          "type": "line",
          "x0": 107,
          "x1": 108,
          "xref": "x",
          "y0": 15.330181539058685,
          "y1": 15.64670181274414,
          "yref": "y"
         },
         {
          "line": {
           "color": "#023e8a",
           "width": 2
          },
          "type": "line",
          "x0": 112,
          "x1": 113,
          "xref": "x",
          "y0": 17.669689178466797,
          "y1": 18.25809073448181,
          "yref": "y"
         },
         {
          "line": {
           "color": "#023e8a",
           "width": 2
          },
          "type": "line",
          "x0": 113,
          "x1": 114,
          "xref": "x",
          "y0": 18.25809073448181,
          "y1": 18.992668747901917,
          "yref": "y"
         },
         {
          "line": {
           "color": "#023e8a",
           "width": 2
          },
          "type": "line",
          "x0": 115,
          "x1": 116,
          "xref": "x",
          "y0": 17.966569662094116,
          "y1": 18.379496216773987,
          "yref": "y"
         },
         {
          "line": {
           "color": "#c1121f",
           "width": 2
          },
          "type": "line",
          "x0": 4,
          "x1": 5,
          "xref": "x",
          "y0": 0,
          "y1": 0.3380911350250244,
          "yref": "y"
         },
         {
          "line": {
           "color": "#c1121f",
           "width": 2
          },
          "type": "line",
          "x0": 7,
          "x1": 8,
          "xref": "x",
          "y0": 0.3380911350250244,
          "y1": 1.2248958349227905,
          "yref": "y"
         },
         {
          "line": {
           "color": "#c1121f",
           "width": 2
          },
          "type": "line",
          "x0": 38,
          "x1": 39,
          "xref": "x",
          "y0": 6.4354371428489685,
          "y1": 6.8226887583732605,
          "yref": "y"
         },
         {
          "line": {
           "color": "#c1121f",
           "width": 2
          },
          "type": "line",
          "x0": 41,
          "x1": 42,
          "xref": "x",
          "y0": 6.938439667224884,
          "y1": 7.3488205671310425,
          "yref": "y"
         },
         {
          "line": {
           "color": "#c1121f",
           "width": 2
          },
          "type": "line",
          "x0": 50,
          "x1": 51,
          "xref": "x",
          "y0": 7.637451887130737,
          "y1": 8.096093535423279,
          "yref": "y"
         },
         {
          "line": {
           "color": "#c1121f",
           "width": 2
          },
          "type": "line",
          "x0": 60,
          "x1": 61,
          "xref": "x",
          "y0": 8.096093535423279,
          "y1": 8.787000894546509,
          "yref": "y"
         },
         {
          "line": {
           "color": "#c1121f",
           "width": 2
          },
          "type": "line",
          "x0": 64,
          "x1": 65,
          "xref": "x",
          "y0": 8.787000894546509,
          "y1": 9.00803828239441,
          "yref": "y"
         },
         {
          "line": {
           "color": "#c1121f",
           "width": 2
          },
          "type": "line",
          "x0": 68,
          "x1": 69,
          "xref": "x",
          "y0": 9.00803828239441,
          "y1": 9.441432416439056,
          "yref": "y"
         },
         {
          "line": {
           "color": "#c1121f",
           "width": 2
          },
          "type": "line",
          "x0": 72,
          "x1": 73,
          "xref": "x",
          "y0": 9.73329097032547,
          "y1": 10.27214366197586,
          "yref": "y"
         },
         {
          "line": {
           "color": "#c1121f",
           "width": 2
          },
          "type": "line",
          "x0": 76,
          "x1": 77,
          "xref": "x",
          "y0": 10.810996353626251,
          "y1": 9.87736028432846,
          "yref": "y"
         },
         {
          "line": {
           "color": "#c1121f",
           "width": 2
          },
          "type": "line",
          "x0": 89,
          "x1": 90,
          "xref": "x",
          "y0": 11.480517327785492,
          "y1": 11.88118827342987,
          "yref": "y"
         },
         {
          "line": {
           "color": "#c1121f",
           "width": 2
          },
          "type": "line",
          "x0": 96,
          "x1": 97,
          "xref": "x",
          "y0": 11.88118827342987,
          "y1": 12.739158868789673,
          "yref": "y"
         },
         {
          "line": {
           "color": "#c1121f",
           "width": 2
          },
          "type": "line",
          "x0": 100,
          "x1": 101,
          "xref": "x",
          "y0": 13.356272041797638,
          "y1": 14.991369307041168,
          "yref": "y"
         },
         {
          "line": {
           "color": "#c1121f",
           "width": 2
          },
          "type": "line",
          "x0": 106,
          "x1": 107,
          "xref": "x",
          "y0": 15.01366126537323,
          "y1": 15.330181539058685,
          "yref": "y"
         },
         {
          "line": {
           "color": "#c1121f",
           "width": 2
          },
          "type": "line",
          "x0": 111,
          "x1": 112,
          "xref": "x",
          "y0": 15.64670181274414,
          "y1": 17.669689178466797,
          "yref": "y"
         },
         {
          "line": {
           "color": "#9d4edd",
           "width": 2
          },
          "type": "line",
          "x0": 11,
          "x1": 12,
          "xref": "x",
          "y0": 1.8202862739562988,
          "y1": 2.5008694529533386,
          "yref": "y"
         },
         {
          "line": {
           "color": "#9d4edd",
           "width": 2
          },
          "type": "line",
          "x0": 18,
          "x1": 19,
          "xref": "x",
          "y0": 3.5820083618164062,
          "y1": 4.873978018760681,
          "yref": "y"
         },
         {
          "line": {
           "color": "#9d4edd",
           "width": 2
          },
          "type": "line",
          "x0": 22,
          "x1": 23,
          "xref": "x",
          "y0": 5.152986288070679,
          "y1": 5.152986288070679,
          "yref": "y"
         },
         {
          "line": {
           "color": "#9d4edd",
           "width": 2
          },
          "type": "line",
          "x0": 23,
          "x1": 24,
          "xref": "x",
          "y0": 5.152986288070679,
          "y1": 5.152986288070679,
          "yref": "y"
         },
         {
          "line": {
           "color": "#9d4edd",
           "width": 2
          },
          "type": "line",
          "x0": 33,
          "x1": 34,
          "xref": "x",
          "y0": 5.826832592487335,
          "y1": 5.915079295635223,
          "yref": "y"
         },
         {
          "line": {
           "color": "#9d4edd",
           "width": 2
          },
          "type": "line",
          "x0": 47,
          "x1": 48,
          "xref": "x",
          "y0": 7.637451887130737,
          "y1": 7.637451887130737,
          "yref": "y"
         },
         {
          "line": {
           "color": "#9d4edd",
           "width": 2
          },
          "type": "line",
          "x0": 85,
          "x1": 86,
          "xref": "x",
          "y0": 11.759721875190735,
          "y1": 11.480517327785492,
          "yref": "y"
         },
         {
          "line": {
           "color": "#9d4edd",
           "width": 2
          },
          "type": "line",
          "x0": 103,
          "x1": 104,
          "xref": "x",
          "y0": 16.076270401477814,
          "y1": 15.01366126537323,
          "yref": "y"
         },
         {
          "line": {
           "color": "#9d4edd",
           "width": 2
          },
          "type": "line",
          "x0": 114,
          "x1": 115,
          "xref": "x",
          "y0": 18.992668747901917,
          "y1": 17.966569662094116,
          "yref": "y"
         }
        ],
        "showlegend": true,
        "template": {
         "data": {
          "bar": [
           {
            "error_x": {
             "color": "#2a3f5f"
            },
            "error_y": {
             "color": "#2a3f5f"
            },
            "marker": {
             "line": {
              "color": "#E5ECF6",
              "width": 0.5
             },
             "pattern": {
              "fillmode": "overlay",
              "size": 10,
              "solidity": 0.2
             }
            },
            "type": "bar"
           }
          ],
          "barpolar": [
           {
            "marker": {
             "line": {
              "color": "#E5ECF6",
              "width": 0.5
             },
             "pattern": {
              "fillmode": "overlay",
              "size": 10,
              "solidity": 0.2
             }
            },
            "type": "barpolar"
           }
          ],
          "carpet": [
           {
            "aaxis": {
             "endlinecolor": "#2a3f5f",
             "gridcolor": "white",
             "linecolor": "white",
             "minorgridcolor": "white",
             "startlinecolor": "#2a3f5f"
            },
            "baxis": {
             "endlinecolor": "#2a3f5f",
             "gridcolor": "white",
             "linecolor": "white",
             "minorgridcolor": "white",
             "startlinecolor": "#2a3f5f"
            },
            "type": "carpet"
           }
          ],
          "choropleth": [
           {
            "colorbar": {
             "outlinewidth": 0,
             "ticks": ""
            },
            "type": "choropleth"
           }
          ],
          "contour": [
           {
            "colorbar": {
             "outlinewidth": 0,
             "ticks": ""
            },
            "colorscale": [
             [
              0,
              "#0d0887"
             ],
             [
              0.1111111111111111,
              "#46039f"
             ],
             [
              0.2222222222222222,
              "#7201a8"
             ],
             [
              0.3333333333333333,
              "#9c179e"
             ],
             [
              0.4444444444444444,
              "#bd3786"
             ],
             [
              0.5555555555555556,
              "#d8576b"
             ],
             [
              0.6666666666666666,
              "#ed7953"
             ],
             [
              0.7777777777777778,
              "#fb9f3a"
             ],
             [
              0.8888888888888888,
              "#fdca26"
             ],
             [
              1,
              "#f0f921"
             ]
            ],
            "type": "contour"
           }
          ],
          "contourcarpet": [
           {
            "colorbar": {
             "outlinewidth": 0,
             "ticks": ""
            },
            "type": "contourcarpet"
           }
          ],
          "heatmap": [
           {
            "colorbar": {
             "outlinewidth": 0,
             "ticks": ""
            },
            "colorscale": [
             [
              0,
              "#0d0887"
             ],
             [
              0.1111111111111111,
              "#46039f"
             ],
             [
              0.2222222222222222,
              "#7201a8"
             ],
             [
              0.3333333333333333,
              "#9c179e"
             ],
             [
              0.4444444444444444,
              "#bd3786"
             ],
             [
              0.5555555555555556,
              "#d8576b"
             ],
             [
              0.6666666666666666,
              "#ed7953"
             ],
             [
              0.7777777777777778,
              "#fb9f3a"
             ],
             [
              0.8888888888888888,
              "#fdca26"
             ],
             [
              1,
              "#f0f921"
             ]
            ],
            "type": "heatmap"
           }
          ],
          "histogram": [
           {
            "marker": {
             "pattern": {
              "fillmode": "overlay",
              "size": 10,
              "solidity": 0.2
             }
            },
            "type": "histogram"
           }
          ],
          "histogram2d": [
           {
            "colorbar": {
             "outlinewidth": 0,
             "ticks": ""
            },
            "colorscale": [
             [
              0,
              "#0d0887"
             ],
             [
              0.1111111111111111,
              "#46039f"
             ],
             [
              0.2222222222222222,
              "#7201a8"
             ],
             [
              0.3333333333333333,
              "#9c179e"
             ],
             [
              0.4444444444444444,
              "#bd3786"
             ],
             [
              0.5555555555555556,
              "#d8576b"
             ],
             [
              0.6666666666666666,
              "#ed7953"
             ],
             [
              0.7777777777777778,
              "#fb9f3a"
             ],
             [
              0.8888888888888888,
              "#fdca26"
             ],
             [
              1,
              "#f0f921"
             ]
            ],
            "type": "histogram2d"
           }
          ],
          "histogram2dcontour": [
           {
            "colorbar": {
             "outlinewidth": 0,
             "ticks": ""
            },
            "colorscale": [
             [
              0,
              "#0d0887"
             ],
             [
              0.1111111111111111,
              "#46039f"
             ],
             [
              0.2222222222222222,
              "#7201a8"
             ],
             [
              0.3333333333333333,
              "#9c179e"
             ],
             [
              0.4444444444444444,
              "#bd3786"
             ],
             [
              0.5555555555555556,
              "#d8576b"
             ],
             [
              0.6666666666666666,
              "#ed7953"
             ],
             [
              0.7777777777777778,
              "#fb9f3a"
             ],
             [
              0.8888888888888888,
              "#fdca26"
             ],
             [
              1,
              "#f0f921"
             ]
            ],
            "type": "histogram2dcontour"
           }
          ],
          "mesh3d": [
           {
            "colorbar": {
             "outlinewidth": 0,
             "ticks": ""
            },
            "type": "mesh3d"
           }
          ],
          "parcoords": [
           {
            "line": {
             "colorbar": {
              "outlinewidth": 0,
              "ticks": ""
             }
            },
            "type": "parcoords"
           }
          ],
          "pie": [
           {
            "automargin": true,
            "type": "pie"
           }
          ],
          "scatter": [
           {
            "fillpattern": {
             "fillmode": "overlay",
             "size": 10,
             "solidity": 0.2
            },
            "type": "scatter"
           }
          ],
          "scatter3d": [
           {
            "line": {
             "colorbar": {
              "outlinewidth": 0,
              "ticks": ""
             }
            },
            "marker": {
             "colorbar": {
              "outlinewidth": 0,
              "ticks": ""
             }
            },
            "type": "scatter3d"
           }
          ],
          "scattercarpet": [
           {
            "marker": {
             "colorbar": {
              "outlinewidth": 0,
              "ticks": ""
             }
            },
            "type": "scattercarpet"
           }
          ],
          "scattergeo": [
           {
            "marker": {
             "colorbar": {
              "outlinewidth": 0,
              "ticks": ""
             }
            },
            "type": "scattergeo"
           }
          ],
          "scattergl": [
           {
            "marker": {
             "colorbar": {
              "outlinewidth": 0,
              "ticks": ""
             }
            },
            "type": "scattergl"
           }
          ],
          "scattermap": [
           {
            "marker": {
             "colorbar": {
              "outlinewidth": 0,
              "ticks": ""
             }
            },
            "type": "scattermap"
           }
          ],
          "scattermapbox": [
           {
            "marker": {
             "colorbar": {
              "outlinewidth": 0,
              "ticks": ""
             }
            },
            "type": "scattermapbox"
           }
          ],
          "scatterpolar": [
           {
            "marker": {
             "colorbar": {
              "outlinewidth": 0,
              "ticks": ""
             }
            },
            "type": "scatterpolar"
           }
          ],
          "scatterpolargl": [
           {
            "marker": {
             "colorbar": {
              "outlinewidth": 0,
              "ticks": ""
             }
            },
            "type": "scatterpolargl"
           }
          ],
          "scatterternary": [
           {
            "marker": {
             "colorbar": {
              "outlinewidth": 0,
              "ticks": ""
             }
            },
            "type": "scatterternary"
           }
          ],
          "surface": [
           {
            "colorbar": {
             "outlinewidth": 0,
             "ticks": ""
            },
            "colorscale": [
             [
              0,
              "#0d0887"
             ],
             [
              0.1111111111111111,
              "#46039f"
             ],
             [
              0.2222222222222222,
              "#7201a8"
             ],
             [
              0.3333333333333333,
              "#9c179e"
             ],
             [
              0.4444444444444444,
              "#bd3786"
             ],
             [
              0.5555555555555556,
              "#d8576b"
             ],
             [
              0.6666666666666666,
              "#ed7953"
             ],
             [
              0.7777777777777778,
              "#fb9f3a"
             ],
             [
              0.8888888888888888,
              "#fdca26"
             ],
             [
              1,
              "#f0f921"
             ]
            ],
            "type": "surface"
           }
          ],
          "table": [
           {
            "cells": {
             "fill": {
              "color": "#EBF0F8"
             },
             "line": {
              "color": "white"
             }
            },
            "header": {
             "fill": {
              "color": "#C8D4E3"
             },
             "line": {
              "color": "white"
             }
            },
            "type": "table"
           }
          ]
         },
         "layout": {
          "annotationdefaults": {
           "arrowcolor": "#2a3f5f",
           "arrowhead": 0,
           "arrowwidth": 1
          },
          "autotypenumbers": "strict",
          "coloraxis": {
           "colorbar": {
            "outlinewidth": 0,
            "ticks": ""
           }
          },
          "colorscale": {
           "diverging": [
            [
             0,
             "#8e0152"
            ],
            [
             0.1,
             "#c51b7d"
            ],
            [
             0.2,
             "#de77ae"
            ],
            [
             0.3,
             "#f1b6da"
            ],
            [
             0.4,
             "#fde0ef"
            ],
            [
             0.5,
             "#f7f7f7"
            ],
            [
             0.6,
             "#e6f5d0"
            ],
            [
             0.7,
             "#b8e186"
            ],
            [
             0.8,
             "#7fbc41"
            ],
            [
             0.9,
             "#4d9221"
            ],
            [
             1,
             "#276419"
            ]
           ],
           "sequential": [
            [
             0,
             "#0d0887"
            ],
            [
             0.1111111111111111,
             "#46039f"
            ],
            [
             0.2222222222222222,
             "#7201a8"
            ],
            [
             0.3333333333333333,
             "#9c179e"
            ],
            [
             0.4444444444444444,
             "#bd3786"
            ],
            [
             0.5555555555555556,
             "#d8576b"
            ],
            [
             0.6666666666666666,
             "#ed7953"
            ],
            [
             0.7777777777777778,
             "#fb9f3a"
            ],
            [
             0.8888888888888888,
             "#fdca26"
            ],
            [
             1,
             "#f0f921"
            ]
           ],
           "sequentialminus": [
            [
             0,
             "#0d0887"
            ],
            [
             0.1111111111111111,
             "#46039f"
            ],
            [
             0.2222222222222222,
             "#7201a8"
            ],
            [
             0.3333333333333333,
             "#9c179e"
            ],
            [
             0.4444444444444444,
             "#bd3786"
            ],
            [
             0.5555555555555556,
             "#d8576b"
            ],
            [
             0.6666666666666666,
             "#ed7953"
            ],
            [
             0.7777777777777778,
             "#fb9f3a"
            ],
            [
             0.8888888888888888,
             "#fdca26"
            ],
            [
             1,
             "#f0f921"
            ]
           ]
          },
          "colorway": [
           "#636efa",
           "#EF553B",
           "#00cc96",
           "#ab63fa",
           "#FFA15A",
           "#19d3f3",
           "#FF6692",
           "#B6E880",
           "#FF97FF",
           "#FECB52"
          ],
          "font": {
           "color": "#2a3f5f"
          },
          "geo": {
           "bgcolor": "white",
           "lakecolor": "white",
           "landcolor": "#E5ECF6",
           "showlakes": true,
           "showland": true,
           "subunitcolor": "white"
          },
          "hoverlabel": {
           "align": "left"
          },
          "hovermode": "closest",
          "mapbox": {
           "style": "light"
          },
          "paper_bgcolor": "white",
          "plot_bgcolor": "#E5ECF6",
          "polar": {
           "angularaxis": {
            "gridcolor": "white",
            "linecolor": "white",
            "ticks": ""
           },
           "bgcolor": "#E5ECF6",
           "radialaxis": {
            "gridcolor": "white",
            "linecolor": "white",
            "ticks": ""
           }
          },
          "scene": {
           "xaxis": {
            "backgroundcolor": "#E5ECF6",
            "gridcolor": "white",
            "gridwidth": 2,
            "linecolor": "white",
            "showbackground": true,
            "ticks": "",
            "zerolinecolor": "white"
           },
           "yaxis": {
            "backgroundcolor": "#E5ECF6",
            "gridcolor": "white",
            "gridwidth": 2,
            "linecolor": "white",
            "showbackground": true,
            "ticks": "",
            "zerolinecolor": "white"
           },
           "zaxis": {
            "backgroundcolor": "#E5ECF6",
            "gridcolor": "white",
            "gridwidth": 2,
            "linecolor": "white",
            "showbackground": true,
            "ticks": "",
            "zerolinecolor": "white"
           }
          },
          "shapedefaults": {
           "line": {
            "color": "#2a3f5f"
           }
          },
          "ternary": {
           "aaxis": {
            "gridcolor": "white",
            "linecolor": "white",
            "ticks": ""
           },
           "baxis": {
            "gridcolor": "white",
            "linecolor": "white",
            "ticks": ""
           },
           "bgcolor": "#E5ECF6",
           "caxis": {
            "gridcolor": "white",
            "linecolor": "white",
            "ticks": ""
           }
          },
          "title": {
           "x": 0.05
          },
          "xaxis": {
           "automargin": true,
           "gridcolor": "white",
           "linecolor": "white",
           "ticks": "",
           "title": {
            "standoff": 15
           },
           "zerolinecolor": "white",
           "zerolinewidth": 2
          },
          "yaxis": {
           "automargin": true,
           "gridcolor": "white",
           "linecolor": "white",
           "ticks": "",
           "title": {
            "standoff": 15
           },
           "zerolinecolor": "white",
           "zerolinewidth": 2
          }
         }
        },
        "title": {
         "text": "Semantic Expansion over Writing Sessions<br><span style=\"font-size: 12px;\">*Measuring how well humans are learning while writing with GenAI</span>"
        },
        "width": 1600,
        "xaxis": {
         "anchor": "y",
         "domain": [
          0,
          1
         ],
         "gridcolor": "white",
         "linecolor": "black",
         "mirror": false,
         "range": [
          -1,
          117
         ],
         "showline": true,
         "ticks": "outside",
         "title": {
          "text": "Progress into the writing session"
         }
        },
        "yaxis": {
         "anchor": "x",
         "domain": [
          0,
          1
         ],
         "gridcolor": "white",
         "linecolor": "black",
         "mirror": false,
         "showline": true,
         "ticks": "outside",
         "title": {
          "text": "Scores"
         }
        }
       }
      }
     },
     "metadata": {},
     "output_type": "display_data"
    },
    {
     "name": "stdout",
     "output_type": "stream",
     "text": [
      "legislation_antitrust_3\n"
     ]
    },
    {
     "data": {
      "application/vnd.plotly.v1+json": {
       "config": {
        "plotlyServerURL": "https://plot.ly"
       },
       "data": [
        {
         "line": {
          "color": "#64B5F6",
          "width": 2
         },
         "mode": "lines",
         "name": "human_insert_backstage",
         "showlegend": true,
         "type": "scatter",
         "x": [
          null
         ],
         "xaxis": "x",
         "y": [
          null
         ],
         "yaxis": "y"
        },
        {
         "line": {
          "color": "#ff8fab",
          "width": 2
         },
         "mode": "lines",
         "name": "ai_suggest_backstage",
         "showlegend": true,
         "type": "scatter",
         "x": [
          null
         ],
         "xaxis": "x",
         "y": [
          null
         ],
         "yaxis": "y"
        },
        {
         "line": {
          "color": "#023e8a",
          "width": 2
         },
         "mode": "lines",
         "name": "human_insert_frontstage",
         "showlegend": true,
         "type": "scatter",
         "x": [
          null
         ],
         "xaxis": "x",
         "y": [
          null
         ],
         "yaxis": "y"
        },
        {
         "line": {
          "color": "#c1121f",
          "width": 2
         },
         "mode": "lines",
         "name": "ai_insert_moved_to_frontstage",
         "showlegend": true,
         "type": "scatter",
         "x": [
          null
         ],
         "xaxis": "x",
         "y": [
          null
         ],
         "yaxis": "y"
        },
        {
         "line": {
          "color": "#9d4edd",
          "width": 2
         },
         "mode": "lines",
         "name": "human_delete_frontstage",
         "showlegend": true,
         "type": "scatter",
         "x": [
          null
         ],
         "xaxis": "x",
         "y": [
          null
         ],
         "yaxis": "y"
        },
        {
         "line": {
          "color": "#5a189a",
          "width": 2
         },
         "mode": "lines",
         "name": "human_insert_edit_frontstage",
         "showlegend": true,
         "type": "scatter",
         "x": [
          null
         ],
         "xaxis": "x",
         "y": [
          null
         ],
         "yaxis": "y"
        }
       ],
       "layout": {
        "annotations": [
         {
          "font": {
           "size": 16
          },
          "showarrow": false,
          "text": "Session: legislation_antitrust_3",
          "x": 0.5,
          "xanchor": "center",
          "xref": "paper",
          "y": 1,
          "yanchor": "bottom",
          "yref": "paper"
         }
        ],
        "height": 500,
        "legend": {
         "title": {
          "font": {
           "color": "rgba(0, 0, 0, 0)"
          }
         }
        },
        "plot_bgcolor": "white",
        "shapes": [
         {
          "line": {
           "color": "#64B5F6",
           "width": 2
          },
          "type": "line",
          "x0": 0,
          "x1": 0,
          "xref": "x",
          "y0": 0,
          "y1": 0.23680394887924194,
          "yref": "y"
         },
         {
          "line": {
           "color": "#64B5F6",
           "width": 2
          },
          "type": "line",
          "x0": 6,
          "x1": 7,
          "xref": "x",
          "y0": 0.9731223583221436,
          "y1": 0.09123992919921875,
          "yref": "y"
         },
         {
          "line": {
           "color": "#64B5F6",
           "width": 2
          },
          "type": "line",
          "x0": 10,
          "x1": 11,
          "xref": "x",
          "y0": 1.199247419834137,
          "y1": 2.1093159914016724,
          "yref": "y"
         },
         {
          "line": {
           "color": "#64B5F6",
           "width": 2
          },
          "type": "line",
          "x0": 12,
          "x1": 13,
          "xref": "x",
          "y0": 1.4819263219833374,
          "y1": 1.8442267775535583,
          "yref": "y"
         },
         {
          "line": {
           "color": "#64B5F6",
           "width": 2
          },
          "type": "line",
          "x0": 17,
          "x1": 18,
          "xref": "x",
          "y0": 2.132937014102936,
          "y1": 2.575067460536957,
          "yref": "y"
         },
         {
          "line": {
           "color": "#64B5F6",
           "width": 2
          },
          "type": "line",
          "x0": 18,
          "x1": 19,
          "xref": "x",
          "y0": 2.575067460536957,
          "y1": 2.7716981768608093,
          "yref": "y"
         },
         {
          "line": {
           "color": "#ff8fab",
           "width": 2
          },
          "type": "line",
          "x0": 0,
          "x1": 1,
          "xref": "x",
          "y0": 0.23680394887924194,
          "y1": 0.6306293964385986,
          "yref": "y"
         },
         {
          "line": {
           "color": "#ff8fab",
           "width": 2
          },
          "type": "line",
          "x0": 1,
          "x1": 2,
          "xref": "x",
          "y0": 0.6306293964385986,
          "y1": 0.9285696029663086,
          "yref": "y"
         },
         {
          "line": {
           "color": "#ff8fab",
           "width": 2
          },
          "type": "line",
          "x0": 7,
          "x1": 8,
          "xref": "x",
          "y0": 0.09123992919921875,
          "y1": 2.574818217754364,
          "yref": "y"
         },
         {
          "line": {
           "color": "#ff8fab",
           "width": 2
          },
          "type": "line",
          "x0": 8,
          "x1": 9,
          "xref": "x",
          "y0": 2.574818217754364,
          "y1": 1.2725705742835998,
          "yref": "y"
         },
         {
          "line": {
           "color": "#ff8fab",
           "width": 2
          },
          "type": "line",
          "x0": 13,
          "x1": 14,
          "xref": "x",
          "y0": 1.8442267775535583,
          "y1": 2.1847885131835936,
          "yref": "y"
         },
         {
          "line": {
           "color": "#ff8fab",
           "width": 2
          },
          "type": "line",
          "x0": 19,
          "x1": 20,
          "xref": "x",
          "y0": 2.7716981768608093,
          "y1": 3.1521562576293944,
          "yref": "y"
         },
         {
          "line": {
           "color": "#ff8fab",
           "width": 2
          },
          "type": "line",
          "x0": 20,
          "x1": 21,
          "xref": "x",
          "y0": 3.1521562576293944,
          "y1": 3.527568984031677,
          "yref": "y"
         },
         {
          "line": {
           "color": "#ff8fab",
           "width": 2
          },
          "type": "line",
          "x0": 28,
          "x1": 29,
          "xref": "x",
          "y0": 4.921107113361359,
          "y1": 5.290284991264343,
          "yref": "y"
         },
         {
          "line": {
           "color": "#ff8fab",
           "width": 2
          },
          "type": "line",
          "x0": 30,
          "x1": 31,
          "xref": "x",
          "y0": 5.41219174861908,
          "y1": 5.7390658259391785,
          "yref": "y"
         },
         {
          "line": {
           "color": "#ff8fab",
           "width": 2
          },
          "type": "line",
          "x0": 32,
          "x1": 33,
          "xref": "x",
          "y0": 5.704122304916382,
          "y1": 6.066429793834686,
          "yref": "y"
         },
         {
          "line": {
           "color": "#ff8fab",
           "width": 2
          },
          "type": "line",
          "x0": 34,
          "x1": 35,
          "xref": "x",
          "y0": 6.114867091178894,
          "y1": 6.488664519786835,
          "yref": "y"
         },
         {
          "line": {
           "color": "#ff8fab",
           "width": 2
          },
          "type": "line",
          "x0": 38,
          "x1": 39,
          "xref": "x",
          "y0": 8.044535994529724,
          "y1": 7.023159646987915,
          "yref": "y"
         },
         {
          "line": {
           "color": "#ff8fab",
           "width": 2
          },
          "type": "line",
          "x0": 39,
          "x1": 40,
          "xref": "x",
          "y0": 7.023159646987915,
          "y1": 7.40759460926056,
          "yref": "y"
         },
         {
          "line": {
           "color": "#ff8fab",
           "width": 2
          },
          "type": "line",
          "x0": 40,
          "x1": 41,
          "xref": "x",
          "y0": 7.40759460926056,
          "y1": 7.782852983474732,
          "yref": "y"
         },
         {
          "line": {
           "color": "#ff8fab",
           "width": 2
          },
          "type": "line",
          "x0": 46,
          "x1": 47,
          "xref": "x",
          "y0": 11.207272589206696,
          "y1": 11.55498366355896,
          "yref": "y"
         },
         {
          "line": {
           "color": "#023e8a",
           "width": 2
          },
          "type": "line",
          "x0": 2,
          "x1": 3,
          "xref": "x",
          "y0": 0,
          "y1": 0.22033578157424927,
          "yref": "y"
         },
         {
          "line": {
           "color": "#023e8a",
           "width": 2
          },
          "type": "line",
          "x0": 3,
          "x1": 4,
          "xref": "x",
          "y0": 0.22033578157424927,
          "y1": 0.30130618810653687,
          "yref": "y"
         },
         {
          "line": {
           "color": "#023e8a",
           "width": 2
          },
          "type": "line",
          "x0": 4,
          "x1": 5,
          "xref": "x",
          "y0": 0.30130618810653687,
          "y1": 0.6564406156539917,
          "yref": "y"
         },
         {
          "line": {
           "color": "#023e8a",
           "width": 2
          },
          "type": "line",
          "x0": 5,
          "x1": 6,
          "xref": "x",
          "y0": 0.6564406156539917,
          "y1": 0.9731223583221436,
          "yref": "y"
         },
         {
          "line": {
           "color": "#023e8a",
           "width": 2
          },
          "type": "line",
          "x0": 9,
          "x1": 10,
          "xref": "x",
          "y0": 0.9731223583221436,
          "y1": 1.199247419834137,
          "yref": "y"
         },
         {
          "line": {
           "color": "#023e8a",
           "width": 2
          },
          "type": "line",
          "x0": 11,
          "x1": 12,
          "xref": "x",
          "y0": 1.199247419834137,
          "y1": 1.4819263219833374,
          "yref": "y"
         },
         {
          "line": {
           "color": "#023e8a",
           "width": 2
          },
          "type": "line",
          "x0": 14,
          "x1": 15,
          "xref": "x",
          "y0": 1.4819263219833374,
          "y1": 1.6984825730323792,
          "yref": "y"
         },
         {
          "line": {
           "color": "#023e8a",
           "width": 2
          },
          "type": "line",
          "x0": 15,
          "x1": 16,
          "xref": "x",
          "y0": 1.6984825730323792,
          "y1": 1.9331161975860596,
          "yref": "y"
         },
         {
          "line": {
           "color": "#023e8a",
           "width": 2
          },
          "type": "line",
          "x0": 16,
          "x1": 17,
          "xref": "x",
          "y0": 1.9331161975860596,
          "y1": 2.132937014102936,
          "yref": "y"
         },
         {
          "line": {
           "color": "#023e8a",
           "width": 2
          },
          "type": "line",
          "x0": 21,
          "x1": 22,
          "xref": "x",
          "y0": 2.132937014102936,
          "y1": 2.4225059151649475,
          "yref": "y"
         },
         {
          "line": {
           "color": "#023e8a",
           "width": 2
          },
          "type": "line",
          "x0": 22,
          "x1": 23,
          "xref": "x",
          "y0": 2.4225059151649475,
          "y1": 2.750097393989563,
          "yref": "y"
         },
         {
          "line": {
           "color": "#023e8a",
           "width": 2
          },
          "type": "line",
          "x0": 23,
          "x1": 24,
          "xref": "x",
          "y0": 2.750097393989563,
          "y1": 3.085853099822998,
          "yref": "y"
         },
         {
          "line": {
           "color": "#023e8a",
           "width": 2
          },
          "type": "line",
          "x0": 24,
          "x1": 25,
          "xref": "x",
          "y0": 3.085853099822998,
          "y1": 3.3641533851623535,
          "yref": "y"
         },
         {
          "line": {
           "color": "#023e8a",
           "width": 2
          },
          "type": "line",
          "x0": 25,
          "x1": 26,
          "xref": "x",
          "y0": 3.3641533851623535,
          "y1": 3.8401777148246765,
          "yref": "y"
         },
         {
          "line": {
           "color": "#023e8a",
           "width": 2
          },
          "type": "line",
          "x0": 26,
          "x1": 27,
          "xref": "x",
          "y0": 3.8401777148246765,
          "y1": 4.726982593536377,
          "yref": "y"
         },
         {
          "line": {
           "color": "#023e8a",
           "width": 2
          },
          "type": "line",
          "x0": 27,
          "x1": 28,
          "xref": "x",
          "y0": 4.726982593536377,
          "y1": 4.921107113361359,
          "yref": "y"
         },
         {
          "line": {
           "color": "#023e8a",
           "width": 2
          },
          "type": "line",
          "x0": 35,
          "x1": 36,
          "xref": "x",
          "y0": 6.114867091178894,
          "y1": 6.853087067604065,
          "yref": "y"
         },
         {
          "line": {
           "color": "#023e8a",
           "width": 2
          },
          "type": "line",
          "x0": 36,
          "x1": 37,
          "xref": "x",
          "y0": 6.853087067604065,
          "y1": 7.305744409561157,
          "yref": "y"
         },
         {
          "line": {
           "color": "#023e8a",
           "width": 2
          },
          "type": "line",
          "x0": 37,
          "x1": 38,
          "xref": "x",
          "y0": 7.305744409561157,
          "y1": 8.044535994529724,
          "yref": "y"
         },
         {
          "line": {
           "color": "#023e8a",
           "width": 2
          },
          "type": "line",
          "x0": 42,
          "x1": 43,
          "xref": "x",
          "y0": 9.38036197423935,
          "y1": 9.7980677485466,
          "yref": "y"
         },
         {
          "line": {
           "color": "#023e8a",
           "width": 2
          },
          "type": "line",
          "x0": 43,
          "x1": 44,
          "xref": "x",
          "y0": 9.7980677485466,
          "y1": 10.49207466840744,
          "yref": "y"
         },
         {
          "line": {
           "color": "#023e8a",
           "width": 2
          },
          "type": "line",
          "x0": 44,
          "x1": 45,
          "xref": "x",
          "y0": 10.49207466840744,
          "y1": 10.859595477581024,
          "yref": "y"
         },
         {
          "line": {
           "color": "#023e8a",
           "width": 2
          },
          "type": "line",
          "x0": 45,
          "x1": 46,
          "xref": "x",
          "y0": 10.859595477581024,
          "y1": 11.207272589206696,
          "yref": "y"
         },
         {
          "line": {
           "color": "#c1121f",
           "width": 2
          },
          "type": "line",
          "x0": 29,
          "x1": 30,
          "xref": "x",
          "y0": 4.921107113361359,
          "y1": 5.41219174861908,
          "yref": "y"
         },
         {
          "line": {
           "color": "#c1121f",
           "width": 2
          },
          "type": "line",
          "x0": 31,
          "x1": 32,
          "xref": "x",
          "y0": 5.41219174861908,
          "y1": 5.704122304916382,
          "yref": "y"
         },
         {
          "line": {
           "color": "#c1121f",
           "width": 2
          },
          "type": "line",
          "x0": 33,
          "x1": 34,
          "xref": "x",
          "y0": 5.704122304916382,
          "y1": 6.114867091178894,
          "yref": "y"
         },
         {
          "line": {
           "color": "#c1121f",
           "width": 2
          },
          "type": "line",
          "x0": 41,
          "x1": 42,
          "xref": "x",
          "y0": 8.044535994529724,
          "y1": 9.38036197423935,
          "yref": "y"
         },
         {
          "line": {
           "color": "#c1121f",
           "width": 2
          },
          "type": "line",
          "x0": 47,
          "x1": 48,
          "xref": "x",
          "y0": 11.207272589206696,
          "y1": 11.544869184494019,
          "yref": "y"
         }
        ],
        "showlegend": true,
        "template": {
         "data": {
          "bar": [
           {
            "error_x": {
             "color": "#2a3f5f"
            },
            "error_y": {
             "color": "#2a3f5f"
            },
            "marker": {
             "line": {
              "color": "#E5ECF6",
              "width": 0.5
             },
             "pattern": {
              "fillmode": "overlay",
              "size": 10,
              "solidity": 0.2
             }
            },
            "type": "bar"
           }
          ],
          "barpolar": [
           {
            "marker": {
             "line": {
              "color": "#E5ECF6",
              "width": 0.5
             },
             "pattern": {
              "fillmode": "overlay",
              "size": 10,
              "solidity": 0.2
             }
            },
            "type": "barpolar"
           }
          ],
          "carpet": [
           {
            "aaxis": {
             "endlinecolor": "#2a3f5f",
             "gridcolor": "white",
             "linecolor": "white",
             "minorgridcolor": "white",
             "startlinecolor": "#2a3f5f"
            },
            "baxis": {
             "endlinecolor": "#2a3f5f",
             "gridcolor": "white",
             "linecolor": "white",
             "minorgridcolor": "white",
             "startlinecolor": "#2a3f5f"
            },
            "type": "carpet"
           }
          ],
          "choropleth": [
           {
            "colorbar": {
             "outlinewidth": 0,
             "ticks": ""
            },
            "type": "choropleth"
           }
          ],
          "contour": [
           {
            "colorbar": {
             "outlinewidth": 0,
             "ticks": ""
            },
            "colorscale": [
             [
              0,
              "#0d0887"
             ],
             [
              0.1111111111111111,
              "#46039f"
             ],
             [
              0.2222222222222222,
              "#7201a8"
             ],
             [
              0.3333333333333333,
              "#9c179e"
             ],
             [
              0.4444444444444444,
              "#bd3786"
             ],
             [
              0.5555555555555556,
              "#d8576b"
             ],
             [
              0.6666666666666666,
              "#ed7953"
             ],
             [
              0.7777777777777778,
              "#fb9f3a"
             ],
             [
              0.8888888888888888,
              "#fdca26"
             ],
             [
              1,
              "#f0f921"
             ]
            ],
            "type": "contour"
           }
          ],
          "contourcarpet": [
           {
            "colorbar": {
             "outlinewidth": 0,
             "ticks": ""
            },
            "type": "contourcarpet"
           }
          ],
          "heatmap": [
           {
            "colorbar": {
             "outlinewidth": 0,
             "ticks": ""
            },
            "colorscale": [
             [
              0,
              "#0d0887"
             ],
             [
              0.1111111111111111,
              "#46039f"
             ],
             [
              0.2222222222222222,
              "#7201a8"
             ],
             [
              0.3333333333333333,
              "#9c179e"
             ],
             [
              0.4444444444444444,
              "#bd3786"
             ],
             [
              0.5555555555555556,
              "#d8576b"
             ],
             [
              0.6666666666666666,
              "#ed7953"
             ],
             [
              0.7777777777777778,
              "#fb9f3a"
             ],
             [
              0.8888888888888888,
              "#fdca26"
             ],
             [
              1,
              "#f0f921"
             ]
            ],
            "type": "heatmap"
           }
          ],
          "histogram": [
           {
            "marker": {
             "pattern": {
              "fillmode": "overlay",
              "size": 10,
              "solidity": 0.2
             }
            },
            "type": "histogram"
           }
          ],
          "histogram2d": [
           {
            "colorbar": {
             "outlinewidth": 0,
             "ticks": ""
            },
            "colorscale": [
             [
              0,
              "#0d0887"
             ],
             [
              0.1111111111111111,
              "#46039f"
             ],
             [
              0.2222222222222222,
              "#7201a8"
             ],
             [
              0.3333333333333333,
              "#9c179e"
             ],
             [
              0.4444444444444444,
              "#bd3786"
             ],
             [
              0.5555555555555556,
              "#d8576b"
             ],
             [
              0.6666666666666666,
              "#ed7953"
             ],
             [
              0.7777777777777778,
              "#fb9f3a"
             ],
             [
              0.8888888888888888,
              "#fdca26"
             ],
             [
              1,
              "#f0f921"
             ]
            ],
            "type": "histogram2d"
           }
          ],
          "histogram2dcontour": [
           {
            "colorbar": {
             "outlinewidth": 0,
             "ticks": ""
            },
            "colorscale": [
             [
              0,
              "#0d0887"
             ],
             [
              0.1111111111111111,
              "#46039f"
             ],
             [
              0.2222222222222222,
              "#7201a8"
             ],
             [
              0.3333333333333333,
              "#9c179e"
             ],
             [
              0.4444444444444444,
              "#bd3786"
             ],
             [
              0.5555555555555556,
              "#d8576b"
             ],
             [
              0.6666666666666666,
              "#ed7953"
             ],
             [
              0.7777777777777778,
              "#fb9f3a"
             ],
             [
              0.8888888888888888,
              "#fdca26"
             ],
             [
              1,
              "#f0f921"
             ]
            ],
            "type": "histogram2dcontour"
           }
          ],
          "mesh3d": [
           {
            "colorbar": {
             "outlinewidth": 0,
             "ticks": ""
            },
            "type": "mesh3d"
           }
          ],
          "parcoords": [
           {
            "line": {
             "colorbar": {
              "outlinewidth": 0,
              "ticks": ""
             }
            },
            "type": "parcoords"
           }
          ],
          "pie": [
           {
            "automargin": true,
            "type": "pie"
           }
          ],
          "scatter": [
           {
            "fillpattern": {
             "fillmode": "overlay",
             "size": 10,
             "solidity": 0.2
            },
            "type": "scatter"
           }
          ],
          "scatter3d": [
           {
            "line": {
             "colorbar": {
              "outlinewidth": 0,
              "ticks": ""
             }
            },
            "marker": {
             "colorbar": {
              "outlinewidth": 0,
              "ticks": ""
             }
            },
            "type": "scatter3d"
           }
          ],
          "scattercarpet": [
           {
            "marker": {
             "colorbar": {
              "outlinewidth": 0,
              "ticks": ""
             }
            },
            "type": "scattercarpet"
           }
          ],
          "scattergeo": [
           {
            "marker": {
             "colorbar": {
              "outlinewidth": 0,
              "ticks": ""
             }
            },
            "type": "scattergeo"
           }
          ],
          "scattergl": [
           {
            "marker": {
             "colorbar": {
              "outlinewidth": 0,
              "ticks": ""
             }
            },
            "type": "scattergl"
           }
          ],
          "scattermap": [
           {
            "marker": {
             "colorbar": {
              "outlinewidth": 0,
              "ticks": ""
             }
            },
            "type": "scattermap"
           }
          ],
          "scattermapbox": [
           {
            "marker": {
             "colorbar": {
              "outlinewidth": 0,
              "ticks": ""
             }
            },
            "type": "scattermapbox"
           }
          ],
          "scatterpolar": [
           {
            "marker": {
             "colorbar": {
              "outlinewidth": 0,
              "ticks": ""
             }
            },
            "type": "scatterpolar"
           }
          ],
          "scatterpolargl": [
           {
            "marker": {
             "colorbar": {
              "outlinewidth": 0,
              "ticks": ""
             }
            },
            "type": "scatterpolargl"
           }
          ],
          "scatterternary": [
           {
            "marker": {
             "colorbar": {
              "outlinewidth": 0,
              "ticks": ""
             }
            },
            "type": "scatterternary"
           }
          ],
          "surface": [
           {
            "colorbar": {
             "outlinewidth": 0,
             "ticks": ""
            },
            "colorscale": [
             [
              0,
              "#0d0887"
             ],
             [
              0.1111111111111111,
              "#46039f"
             ],
             [
              0.2222222222222222,
              "#7201a8"
             ],
             [
              0.3333333333333333,
              "#9c179e"
             ],
             [
              0.4444444444444444,
              "#bd3786"
             ],
             [
              0.5555555555555556,
              "#d8576b"
             ],
             [
              0.6666666666666666,
              "#ed7953"
             ],
             [
              0.7777777777777778,
              "#fb9f3a"
             ],
             [
              0.8888888888888888,
              "#fdca26"
             ],
             [
              1,
              "#f0f921"
             ]
            ],
            "type": "surface"
           }
          ],
          "table": [
           {
            "cells": {
             "fill": {
              "color": "#EBF0F8"
             },
             "line": {
              "color": "white"
             }
            },
            "header": {
             "fill": {
              "color": "#C8D4E3"
             },
             "line": {
              "color": "white"
             }
            },
            "type": "table"
           }
          ]
         },
         "layout": {
          "annotationdefaults": {
           "arrowcolor": "#2a3f5f",
           "arrowhead": 0,
           "arrowwidth": 1
          },
          "autotypenumbers": "strict",
          "coloraxis": {
           "colorbar": {
            "outlinewidth": 0,
            "ticks": ""
           }
          },
          "colorscale": {
           "diverging": [
            [
             0,
             "#8e0152"
            ],
            [
             0.1,
             "#c51b7d"
            ],
            [
             0.2,
             "#de77ae"
            ],
            [
             0.3,
             "#f1b6da"
            ],
            [
             0.4,
             "#fde0ef"
            ],
            [
             0.5,
             "#f7f7f7"
            ],
            [
             0.6,
             "#e6f5d0"
            ],
            [
             0.7,
             "#b8e186"
            ],
            [
             0.8,
             "#7fbc41"
            ],
            [
             0.9,
             "#4d9221"
            ],
            [
             1,
             "#276419"
            ]
           ],
           "sequential": [
            [
             0,
             "#0d0887"
            ],
            [
             0.1111111111111111,
             "#46039f"
            ],
            [
             0.2222222222222222,
             "#7201a8"
            ],
            [
             0.3333333333333333,
             "#9c179e"
            ],
            [
             0.4444444444444444,
             "#bd3786"
            ],
            [
             0.5555555555555556,
             "#d8576b"
            ],
            [
             0.6666666666666666,
             "#ed7953"
            ],
            [
             0.7777777777777778,
             "#fb9f3a"
            ],
            [
             0.8888888888888888,
             "#fdca26"
            ],
            [
             1,
             "#f0f921"
            ]
           ],
           "sequentialminus": [
            [
             0,
             "#0d0887"
            ],
            [
             0.1111111111111111,
             "#46039f"
            ],
            [
             0.2222222222222222,
             "#7201a8"
            ],
            [
             0.3333333333333333,
             "#9c179e"
            ],
            [
             0.4444444444444444,
             "#bd3786"
            ],
            [
             0.5555555555555556,
             "#d8576b"
            ],
            [
             0.6666666666666666,
             "#ed7953"
            ],
            [
             0.7777777777777778,
             "#fb9f3a"
            ],
            [
             0.8888888888888888,
             "#fdca26"
            ],
            [
             1,
             "#f0f921"
            ]
           ]
          },
          "colorway": [
           "#636efa",
           "#EF553B",
           "#00cc96",
           "#ab63fa",
           "#FFA15A",
           "#19d3f3",
           "#FF6692",
           "#B6E880",
           "#FF97FF",
           "#FECB52"
          ],
          "font": {
           "color": "#2a3f5f"
          },
          "geo": {
           "bgcolor": "white",
           "lakecolor": "white",
           "landcolor": "#E5ECF6",
           "showlakes": true,
           "showland": true,
           "subunitcolor": "white"
          },
          "hoverlabel": {
           "align": "left"
          },
          "hovermode": "closest",
          "mapbox": {
           "style": "light"
          },
          "paper_bgcolor": "white",
          "plot_bgcolor": "#E5ECF6",
          "polar": {
           "angularaxis": {
            "gridcolor": "white",
            "linecolor": "white",
            "ticks": ""
           },
           "bgcolor": "#E5ECF6",
           "radialaxis": {
            "gridcolor": "white",
            "linecolor": "white",
            "ticks": ""
           }
          },
          "scene": {
           "xaxis": {
            "backgroundcolor": "#E5ECF6",
            "gridcolor": "white",
            "gridwidth": 2,
            "linecolor": "white",
            "showbackground": true,
            "ticks": "",
            "zerolinecolor": "white"
           },
           "yaxis": {
            "backgroundcolor": "#E5ECF6",
            "gridcolor": "white",
            "gridwidth": 2,
            "linecolor": "white",
            "showbackground": true,
            "ticks": "",
            "zerolinecolor": "white"
           },
           "zaxis": {
            "backgroundcolor": "#E5ECF6",
            "gridcolor": "white",
            "gridwidth": 2,
            "linecolor": "white",
            "showbackground": true,
            "ticks": "",
            "zerolinecolor": "white"
           }
          },
          "shapedefaults": {
           "line": {
            "color": "#2a3f5f"
           }
          },
          "ternary": {
           "aaxis": {
            "gridcolor": "white",
            "linecolor": "white",
            "ticks": ""
           },
           "baxis": {
            "gridcolor": "white",
            "linecolor": "white",
            "ticks": ""
           },
           "bgcolor": "#E5ECF6",
           "caxis": {
            "gridcolor": "white",
            "linecolor": "white",
            "ticks": ""
           }
          },
          "title": {
           "x": 0.05
          },
          "xaxis": {
           "automargin": true,
           "gridcolor": "white",
           "linecolor": "white",
           "ticks": "",
           "title": {
            "standoff": 15
           },
           "zerolinecolor": "white",
           "zerolinewidth": 2
          },
          "yaxis": {
           "automargin": true,
           "gridcolor": "white",
           "linecolor": "white",
           "ticks": "",
           "title": {
            "standoff": 15
           },
           "zerolinecolor": "white",
           "zerolinewidth": 2
          }
         }
        },
        "title": {
         "text": "Semantic Expansion over Writing Sessions<br><span style=\"font-size: 12px;\">*Measuring how well humans are learning while writing with GenAI</span>"
        },
        "width": 1600,
        "xaxis": {
         "anchor": "y",
         "domain": [
          0,
          1
         ],
         "gridcolor": "white",
         "linecolor": "black",
         "mirror": false,
         "range": [
          -1,
          49
         ],
         "showline": true,
         "ticks": "outside",
         "title": {
          "text": "Progress into the writing session"
         }
        },
        "yaxis": {
         "anchor": "x",
         "domain": [
          0,
          1
         ],
         "gridcolor": "white",
         "linecolor": "black",
         "mirror": false,
         "showline": true,
         "ticks": "outside",
         "title": {
          "text": "Scores"
         }
        }
       }
      }
     },
     "metadata": {},
     "output_type": "display_data"
    },
    {
     "name": "stdout",
     "output_type": "stream",
     "text": [
      "legislation_antitrust_4\n"
     ]
    },
    {
     "data": {
      "application/vnd.plotly.v1+json": {
       "config": {
        "plotlyServerURL": "https://plot.ly"
       },
       "data": [
        {
         "line": {
          "color": "#64B5F6",
          "width": 2
         },
         "mode": "lines",
         "name": "human_insert_backstage",
         "showlegend": true,
         "type": "scatter",
         "x": [
          null
         ],
         "xaxis": "x",
         "y": [
          null
         ],
         "yaxis": "y"
        },
        {
         "line": {
          "color": "#ff8fab",
          "width": 2
         },
         "mode": "lines",
         "name": "ai_suggest_backstage",
         "showlegend": true,
         "type": "scatter",
         "x": [
          null
         ],
         "xaxis": "x",
         "y": [
          null
         ],
         "yaxis": "y"
        },
        {
         "line": {
          "color": "#023e8a",
          "width": 2
         },
         "mode": "lines",
         "name": "human_insert_frontstage",
         "showlegend": true,
         "type": "scatter",
         "x": [
          null
         ],
         "xaxis": "x",
         "y": [
          null
         ],
         "yaxis": "y"
        },
        {
         "line": {
          "color": "#c1121f",
          "width": 2
         },
         "mode": "lines",
         "name": "ai_insert_moved_to_frontstage",
         "showlegend": true,
         "type": "scatter",
         "x": [
          null
         ],
         "xaxis": "x",
         "y": [
          null
         ],
         "yaxis": "y"
        },
        {
         "line": {
          "color": "#9d4edd",
          "width": 2
         },
         "mode": "lines",
         "name": "human_delete_frontstage",
         "showlegend": true,
         "type": "scatter",
         "x": [
          null
         ],
         "xaxis": "x",
         "y": [
          null
         ],
         "yaxis": "y"
        },
        {
         "line": {
          "color": "#5a189a",
          "width": 2
         },
         "mode": "lines",
         "name": "human_insert_edit_frontstage",
         "showlegend": true,
         "type": "scatter",
         "x": [
          null
         ],
         "xaxis": "x",
         "y": [
          null
         ],
         "yaxis": "y"
        }
       ],
       "layout": {
        "annotations": [
         {
          "font": {
           "size": 16
          },
          "showarrow": false,
          "text": "Session: legislation_antitrust_4",
          "x": 0.5,
          "xanchor": "center",
          "xref": "paper",
          "y": 1,
          "yanchor": "bottom",
          "yref": "paper"
         }
        ],
        "height": 500,
        "legend": {
         "title": {
          "font": {
           "color": "rgba(0, 0, 0, 0)"
          }
         }
        },
        "plot_bgcolor": "white",
        "shapes": [
         {
          "line": {
           "color": "#64B5F6",
           "width": 2
          },
          "type": "line",
          "x0": 9,
          "x1": 10,
          "xref": "x",
          "y0": 1.119491457939148,
          "y1": 1.4592598676681519,
          "yref": "y"
         },
         {
          "line": {
           "color": "#64B5F6",
           "width": 2
          },
          "type": "line",
          "x0": 28,
          "x1": 29,
          "xref": "x",
          "y0": 5.935431468486786,
          "y1": 6.205459225177765,
          "yref": "y"
         },
         {
          "line": {
           "color": "#64B5F6",
           "width": 2
          },
          "type": "line",
          "x0": 32,
          "x1": 33,
          "xref": "x",
          "y0": 5.852640390396118,
          "y1": 5.283608496189117,
          "yref": "y"
         },
         {
          "line": {
           "color": "#64B5F6",
           "width": 2
          },
          "type": "line",
          "x0": 34,
          "x1": 35,
          "xref": "x",
          "y0": 5.567537105083465,
          "y1": 4.924680030345916,
          "yref": "y"
         },
         {
          "line": {
           "color": "#ff8fab",
           "width": 2
          },
          "type": "line",
          "x0": 0,
          "x1": 1,
          "xref": "x",
          "y0": 0,
          "y1": 0.6424874663352966,
          "yref": "y"
         },
         {
          "line": {
           "color": "#ff8fab",
           "width": 2
          },
          "type": "line",
          "x0": 2,
          "x1": 3,
          "xref": "x",
          "y0": 0.31329625844955444,
          "y1": -2.1288658738136292,
          "yref": "y"
         },
         {
          "line": {
           "color": "#ff8fab",
           "width": 2
          },
          "type": "line",
          "x0": 4,
          "x1": 5,
          "xref": "x",
          "y0": 0.5605471730232239,
          "y1": 0.9291412830352783,
          "yref": "y"
         },
         {
          "line": {
           "color": "#ff8fab",
           "width": 2
          },
          "type": "line",
          "x0": 7,
          "x1": 8,
          "xref": "x",
          "y0": 1.1235312819480896,
          "y1": 1.5680680632591248,
          "yref": "y"
         },
         {
          "line": {
           "color": "#ff8fab",
           "width": 2
          },
          "type": "line",
          "x0": 10,
          "x1": 11,
          "xref": "x",
          "y0": 1.4592598676681519,
          "y1": 1.6782609462738036,
          "yref": "y"
         },
         {
          "line": {
           "color": "#ff8fab",
           "width": 2
          },
          "type": "line",
          "x0": 14,
          "x1": 15,
          "xref": "x",
          "y0": 2.1399407386779785,
          "y1": 2.392499530315399,
          "yref": "y"
         },
         {
          "line": {
           "color": "#ff8fab",
           "width": 2
          },
          "type": "line",
          "x0": 15,
          "x1": 16,
          "xref": "x",
          "y0": 2.392499530315399,
          "y1": 2.6173699140548705,
          "yref": "y"
         },
         {
          "line": {
           "color": "#ff8fab",
           "width": 2
          },
          "type": "line",
          "x0": 18,
          "x1": 19,
          "xref": "x",
          "y0": 3.166562497615814,
          "y1": 3.56314822435379,
          "yref": "y"
         },
         {
          "line": {
           "color": "#ff8fab",
           "width": 2
          },
          "type": "line",
          "x0": 21,
          "x1": 22,
          "xref": "x",
          "y0": 4.165458619594574,
          "y1": 4.61700257062912,
          "yref": "y"
         },
         {
          "line": {
           "color": "#ff8fab",
           "width": 2
          },
          "type": "line",
          "x0": 24,
          "x1": 25,
          "xref": "x",
          "y0": 4.483878314495087,
          "y1": 4.91598402261734,
          "yref": "y"
         },
         {
          "line": {
           "color": "#ff8fab",
           "width": 2
          },
          "type": "line",
          "x0": 27,
          "x1": 28,
          "xref": "x",
          "y0": 5.477925777435303,
          "y1": 5.935431468486786,
          "yref": "y"
         },
         {
          "line": {
           "color": "#ff8fab",
           "width": 2
          },
          "type": "line",
          "x0": 29,
          "x1": 30,
          "xref": "x",
          "y0": 6.205459225177765,
          "y1": 6.431901228427886,
          "yref": "y"
         },
         {
          "line": {
           "color": "#ff8fab",
           "width": 2
          },
          "type": "line",
          "x0": 33,
          "x1": 34,
          "xref": "x",
          "y0": 5.283608496189117,
          "y1": 5.567537105083465,
          "yref": "y"
         },
         {
          "line": {
           "color": "#ff8fab",
           "width": 2
          },
          "type": "line",
          "x0": 35,
          "x1": 36,
          "xref": "x",
          "y0": 4.924680030345916,
          "y1": 5.188806247711181,
          "yref": "y"
         },
         {
          "line": {
           "color": "#ff8fab",
           "width": 2
          },
          "type": "line",
          "x0": 50,
          "x1": 51,
          "xref": "x",
          "y0": 12.917143523693085,
          "y1": 13.393337762355804,
          "yref": "y"
         },
         {
          "line": {
           "color": "#ff8fab",
           "width": 2
          },
          "type": "line",
          "x0": 52,
          "x1": 53,
          "xref": "x",
          "y0": 13.246299088001251,
          "y1": 13.710327196121217,
          "yref": "y"
         },
         {
          "line": {
           "color": "#023e8a",
           "width": 2
          },
          "type": "line",
          "x0": 0,
          "x1": 0,
          "xref": "x",
          "y0": 0,
          "y1": 0.942415714263916,
          "yref": "y"
         },
         {
          "line": {
           "color": "#023e8a",
           "width": 2
          },
          "type": "line",
          "x0": 1,
          "x1": 2,
          "xref": "x",
          "y0": 0,
          "y1": 0.31329625844955444,
          "yref": "y"
         },
         {
          "line": {
           "color": "#023e8a",
           "width": 2
          },
          "type": "line",
          "x0": 3,
          "x1": 4,
          "xref": "x",
          "y0": 0.31329625844955444,
          "y1": 0.5605471730232239,
          "yref": "y"
         },
         {
          "line": {
           "color": "#023e8a",
           "width": 2
          },
          "type": "line",
          "x0": 5,
          "x1": 6,
          "xref": "x",
          "y0": 0.5605471730232239,
          "y1": 0.7401775121688843,
          "yref": "y"
         },
         {
          "line": {
           "color": "#023e8a",
           "width": 2
          },
          "type": "line",
          "x0": 6,
          "x1": 7,
          "xref": "x",
          "y0": 0.7401775121688843,
          "y1": 1.1235312819480896,
          "yref": "y"
         },
         {
          "line": {
           "color": "#023e8a",
           "width": 2
          },
          "type": "line",
          "x0": 11,
          "x1": 12,
          "xref": "x",
          "y0": 1.119491457939148,
          "y1": 1.5194699168205261,
          "yref": "y"
         },
         {
          "line": {
           "color": "#023e8a",
           "width": 2
          },
          "type": "line",
          "x0": 12,
          "x1": 13,
          "xref": "x",
          "y0": 1.5194699168205261,
          "y1": 1.8285478353500366,
          "yref": "y"
         },
         {
          "line": {
           "color": "#023e8a",
           "width": 2
          },
          "type": "line",
          "x0": 13,
          "x1": 14,
          "xref": "x",
          "y0": 1.8285478353500366,
          "y1": 2.1399407386779785,
          "yref": "y"
         },
         {
          "line": {
           "color": "#023e8a",
           "width": 2
          },
          "type": "line",
          "x0": 16,
          "x1": 17,
          "xref": "x",
          "y0": 2.1399407386779785,
          "y1": 2.4608733654022217,
          "yref": "y"
         },
         {
          "line": {
           "color": "#023e8a",
           "width": 2
          },
          "type": "line",
          "x0": 17,
          "x1": 18,
          "xref": "x",
          "y0": 2.4608733654022217,
          "y1": 3.166562497615814,
          "yref": "y"
         },
         {
          "line": {
           "color": "#023e8a",
           "width": 2
          },
          "type": "line",
          "x0": 19,
          "x1": 20,
          "xref": "x",
          "y0": 3.166562497615814,
          "y1": 3.8816195130348206,
          "yref": "y"
         },
         {
          "line": {
           "color": "#023e8a",
           "width": 2
          },
          "type": "line",
          "x0": 20,
          "x1": 21,
          "xref": "x",
          "y0": 3.8816195130348206,
          "y1": 4.165458619594574,
          "yref": "y"
         },
         {
          "line": {
           "color": "#023e8a",
           "width": 2
          },
          "type": "line",
          "x0": 23,
          "x1": 24,
          "xref": "x",
          "y0": 4.146890223026276,
          "y1": 4.483878314495087,
          "yref": "y"
         },
         {
          "line": {
           "color": "#023e8a",
           "width": 2
          },
          "type": "line",
          "x0": 26,
          "x1": 27,
          "xref": "x",
          "y0": 5.161315023899078,
          "y1": 5.477925777435303,
          "yref": "y"
         },
         {
          "line": {
           "color": "#023e8a",
           "width": 2
          },
          "type": "line",
          "x0": 31,
          "x1": 32,
          "xref": "x",
          "y0": 5.477925777435303,
          "y1": 5.852640390396118,
          "yref": "y"
         },
         {
          "line": {
           "color": "#023e8a",
           "width": 2
          },
          "type": "line",
          "x0": 37,
          "x1": 38,
          "xref": "x",
          "y0": 5.852640390396118,
          "y1": 6.3793705105781555,
          "yref": "y"
         },
         {
          "line": {
           "color": "#023e8a",
           "width": 2
          },
          "type": "line",
          "x0": 38,
          "x1": 39,
          "xref": "x",
          "y0": 6.3793705105781555,
          "y1": 7.097562491893768,
          "yref": "y"
         },
         {
          "line": {
           "color": "#023e8a",
           "width": 2
          },
          "type": "line",
          "x0": 39,
          "x1": 40,
          "xref": "x",
          "y0": 7.097562491893768,
          "y1": 7.693349301815033,
          "yref": "y"
         },
         {
          "line": {
           "color": "#023e8a",
           "width": 2
          },
          "type": "line",
          "x0": 40,
          "x1": 41,
          "xref": "x",
          "y0": 7.693349301815033,
          "y1": 8.30213725566864,
          "yref": "y"
         },
         {
          "line": {
           "color": "#023e8a",
           "width": 2
          },
          "type": "line",
          "x0": 41,
          "x1": 42,
          "xref": "x",
          "y0": 8.30213725566864,
          "y1": 8.894346356391907,
          "yref": "y"
         },
         {
          "line": {
           "color": "#023e8a",
           "width": 2
          },
          "type": "line",
          "x0": 42,
          "x1": 43,
          "xref": "x",
          "y0": 8.894346356391907,
          "y1": 9.460185408592224,
          "yref": "y"
         },
         {
          "line": {
           "color": "#023e8a",
           "width": 2
          },
          "type": "line",
          "x0": 43,
          "x1": 44,
          "xref": "x",
          "y0": 9.460185408592224,
          "y1": 10.029553413391113,
          "yref": "y"
         },
         {
          "line": {
           "color": "#023e8a",
           "width": 2
          },
          "type": "line",
          "x0": 44,
          "x1": 45,
          "xref": "x",
          "y0": 10.029553413391113,
          "y1": 10.725525140762329,
          "yref": "y"
         },
         {
          "line": {
           "color": "#023e8a",
           "width": 2
          },
          "type": "line",
          "x0": 46,
          "x1": 47,
          "xref": "x",
          "y0": 10.78524363040924,
          "y1": 11.41502034664154,
          "yref": "y"
         },
         {
          "line": {
           "color": "#023e8a",
           "width": 2
          },
          "type": "line",
          "x0": 47,
          "x1": 48,
          "xref": "x",
          "y0": 11.41502034664154,
          "y1": 12.099905669689178,
          "yref": "y"
         },
         {
          "line": {
           "color": "#023e8a",
           "width": 2
          },
          "type": "line",
          "x0": 48,
          "x1": 49,
          "xref": "x",
          "y0": 12.099905669689178,
          "y1": 12.513367533683777,
          "yref": "y"
         },
         {
          "line": {
           "color": "#023e8a",
           "width": 2
          },
          "type": "line",
          "x0": 49,
          "x1": 50,
          "xref": "x",
          "y0": 12.513367533683777,
          "y1": 12.917143523693085,
          "yref": "y"
         },
         {
          "line": {
           "color": "#023e8a",
           "width": 2
          },
          "type": "line",
          "x0": 51,
          "x1": 52,
          "xref": "x",
          "y0": 12.917143523693085,
          "y1": 13.246299088001251,
          "yref": "y"
         },
         {
          "line": {
           "color": "#023e8a",
           "width": 2
          },
          "type": "line",
          "x0": 53,
          "x1": 54,
          "xref": "x",
          "y0": 13.246299088001251,
          "y1": 13.780964195728302,
          "yref": "y"
         },
         {
          "line": {
           "color": "#c1121f",
           "width": 2
          },
          "type": "line",
          "x0": 25,
          "x1": 26,
          "xref": "x",
          "y0": 4.483878314495087,
          "y1": 5.161315023899078,
          "yref": "y"
         },
         {
          "line": {
           "color": "#9d4edd",
           "width": 2
          },
          "type": "line",
          "x0": 8,
          "x1": 9,
          "xref": "x",
          "y0": 1.1235312819480896,
          "y1": 1.119491457939148,
          "yref": "y"
         },
         {
          "line": {
           "color": "#9d4edd",
           "width": 2
          },
          "type": "line",
          "x0": 22,
          "x1": 23,
          "xref": "x",
          "y0": 4.165458619594574,
          "y1": 4.146890223026276,
          "yref": "y"
         },
         {
          "line": {
           "color": "#9d4edd",
           "width": 2
          },
          "type": "line",
          "x0": 30,
          "x1": 31,
          "xref": "x",
          "y0": 5.477925777435303,
          "y1": 5.477925777435303,
          "yref": "y"
         },
         {
          "line": {
           "color": "#9d4edd",
           "width": 2
          },
          "type": "line",
          "x0": 36,
          "x1": 37,
          "xref": "x",
          "y0": 5.852640390396118,
          "y1": 5.852640390396118,
          "yref": "y"
         },
         {
          "line": {
           "color": "#9d4edd",
           "width": 2
          },
          "type": "line",
          "x0": 45,
          "x1": 46,
          "xref": "x",
          "y0": 10.725525140762329,
          "y1": 10.78524363040924,
          "yref": "y"
         }
        ],
        "showlegend": true,
        "template": {
         "data": {
          "bar": [
           {
            "error_x": {
             "color": "#2a3f5f"
            },
            "error_y": {
             "color": "#2a3f5f"
            },
            "marker": {
             "line": {
              "color": "#E5ECF6",
              "width": 0.5
             },
             "pattern": {
              "fillmode": "overlay",
              "size": 10,
              "solidity": 0.2
             }
            },
            "type": "bar"
           }
          ],
          "barpolar": [
           {
            "marker": {
             "line": {
              "color": "#E5ECF6",
              "width": 0.5
             },
             "pattern": {
              "fillmode": "overlay",
              "size": 10,
              "solidity": 0.2
             }
            },
            "type": "barpolar"
           }
          ],
          "carpet": [
           {
            "aaxis": {
             "endlinecolor": "#2a3f5f",
             "gridcolor": "white",
             "linecolor": "white",
             "minorgridcolor": "white",
             "startlinecolor": "#2a3f5f"
            },
            "baxis": {
             "endlinecolor": "#2a3f5f",
             "gridcolor": "white",
             "linecolor": "white",
             "minorgridcolor": "white",
             "startlinecolor": "#2a3f5f"
            },
            "type": "carpet"
           }
          ],
          "choropleth": [
           {
            "colorbar": {
             "outlinewidth": 0,
             "ticks": ""
            },
            "type": "choropleth"
           }
          ],
          "contour": [
           {
            "colorbar": {
             "outlinewidth": 0,
             "ticks": ""
            },
            "colorscale": [
             [
              0,
              "#0d0887"
             ],
             [
              0.1111111111111111,
              "#46039f"
             ],
             [
              0.2222222222222222,
              "#7201a8"
             ],
             [
              0.3333333333333333,
              "#9c179e"
             ],
             [
              0.4444444444444444,
              "#bd3786"
             ],
             [
              0.5555555555555556,
              "#d8576b"
             ],
             [
              0.6666666666666666,
              "#ed7953"
             ],
             [
              0.7777777777777778,
              "#fb9f3a"
             ],
             [
              0.8888888888888888,
              "#fdca26"
             ],
             [
              1,
              "#f0f921"
             ]
            ],
            "type": "contour"
           }
          ],
          "contourcarpet": [
           {
            "colorbar": {
             "outlinewidth": 0,
             "ticks": ""
            },
            "type": "contourcarpet"
           }
          ],
          "heatmap": [
           {
            "colorbar": {
             "outlinewidth": 0,
             "ticks": ""
            },
            "colorscale": [
             [
              0,
              "#0d0887"
             ],
             [
              0.1111111111111111,
              "#46039f"
             ],
             [
              0.2222222222222222,
              "#7201a8"
             ],
             [
              0.3333333333333333,
              "#9c179e"
             ],
             [
              0.4444444444444444,
              "#bd3786"
             ],
             [
              0.5555555555555556,
              "#d8576b"
             ],
             [
              0.6666666666666666,
              "#ed7953"
             ],
             [
              0.7777777777777778,
              "#fb9f3a"
             ],
             [
              0.8888888888888888,
              "#fdca26"
             ],
             [
              1,
              "#f0f921"
             ]
            ],
            "type": "heatmap"
           }
          ],
          "histogram": [
           {
            "marker": {
             "pattern": {
              "fillmode": "overlay",
              "size": 10,
              "solidity": 0.2
             }
            },
            "type": "histogram"
           }
          ],
          "histogram2d": [
           {
            "colorbar": {
             "outlinewidth": 0,
             "ticks": ""
            },
            "colorscale": [
             [
              0,
              "#0d0887"
             ],
             [
              0.1111111111111111,
              "#46039f"
             ],
             [
              0.2222222222222222,
              "#7201a8"
             ],
             [
              0.3333333333333333,
              "#9c179e"
             ],
             [
              0.4444444444444444,
              "#bd3786"
             ],
             [
              0.5555555555555556,
              "#d8576b"
             ],
             [
              0.6666666666666666,
              "#ed7953"
             ],
             [
              0.7777777777777778,
              "#fb9f3a"
             ],
             [
              0.8888888888888888,
              "#fdca26"
             ],
             [
              1,
              "#f0f921"
             ]
            ],
            "type": "histogram2d"
           }
          ],
          "histogram2dcontour": [
           {
            "colorbar": {
             "outlinewidth": 0,
             "ticks": ""
            },
            "colorscale": [
             [
              0,
              "#0d0887"
             ],
             [
              0.1111111111111111,
              "#46039f"
             ],
             [
              0.2222222222222222,
              "#7201a8"
             ],
             [
              0.3333333333333333,
              "#9c179e"
             ],
             [
              0.4444444444444444,
              "#bd3786"
             ],
             [
              0.5555555555555556,
              "#d8576b"
             ],
             [
              0.6666666666666666,
              "#ed7953"
             ],
             [
              0.7777777777777778,
              "#fb9f3a"
             ],
             [
              0.8888888888888888,
              "#fdca26"
             ],
             [
              1,
              "#f0f921"
             ]
            ],
            "type": "histogram2dcontour"
           }
          ],
          "mesh3d": [
           {
            "colorbar": {
             "outlinewidth": 0,
             "ticks": ""
            },
            "type": "mesh3d"
           }
          ],
          "parcoords": [
           {
            "line": {
             "colorbar": {
              "outlinewidth": 0,
              "ticks": ""
             }
            },
            "type": "parcoords"
           }
          ],
          "pie": [
           {
            "automargin": true,
            "type": "pie"
           }
          ],
          "scatter": [
           {
            "fillpattern": {
             "fillmode": "overlay",
             "size": 10,
             "solidity": 0.2
            },
            "type": "scatter"
           }
          ],
          "scatter3d": [
           {
            "line": {
             "colorbar": {
              "outlinewidth": 0,
              "ticks": ""
             }
            },
            "marker": {
             "colorbar": {
              "outlinewidth": 0,
              "ticks": ""
             }
            },
            "type": "scatter3d"
           }
          ],
          "scattercarpet": [
           {
            "marker": {
             "colorbar": {
              "outlinewidth": 0,
              "ticks": ""
             }
            },
            "type": "scattercarpet"
           }
          ],
          "scattergeo": [
           {
            "marker": {
             "colorbar": {
              "outlinewidth": 0,
              "ticks": ""
             }
            },
            "type": "scattergeo"
           }
          ],
          "scattergl": [
           {
            "marker": {
             "colorbar": {
              "outlinewidth": 0,
              "ticks": ""
             }
            },
            "type": "scattergl"
           }
          ],
          "scattermap": [
           {
            "marker": {
             "colorbar": {
              "outlinewidth": 0,
              "ticks": ""
             }
            },
            "type": "scattermap"
           }
          ],
          "scattermapbox": [
           {
            "marker": {
             "colorbar": {
              "outlinewidth": 0,
              "ticks": ""
             }
            },
            "type": "scattermapbox"
           }
          ],
          "scatterpolar": [
           {
            "marker": {
             "colorbar": {
              "outlinewidth": 0,
              "ticks": ""
             }
            },
            "type": "scatterpolar"
           }
          ],
          "scatterpolargl": [
           {
            "marker": {
             "colorbar": {
              "outlinewidth": 0,
              "ticks": ""
             }
            },
            "type": "scatterpolargl"
           }
          ],
          "scatterternary": [
           {
            "marker": {
             "colorbar": {
              "outlinewidth": 0,
              "ticks": ""
             }
            },
            "type": "scatterternary"
           }
          ],
          "surface": [
           {
            "colorbar": {
             "outlinewidth": 0,
             "ticks": ""
            },
            "colorscale": [
             [
              0,
              "#0d0887"
             ],
             [
              0.1111111111111111,
              "#46039f"
             ],
             [
              0.2222222222222222,
              "#7201a8"
             ],
             [
              0.3333333333333333,
              "#9c179e"
             ],
             [
              0.4444444444444444,
              "#bd3786"
             ],
             [
              0.5555555555555556,
              "#d8576b"
             ],
             [
              0.6666666666666666,
              "#ed7953"
             ],
             [
              0.7777777777777778,
              "#fb9f3a"
             ],
             [
              0.8888888888888888,
              "#fdca26"
             ],
             [
              1,
              "#f0f921"
             ]
            ],
            "type": "surface"
           }
          ],
          "table": [
           {
            "cells": {
             "fill": {
              "color": "#EBF0F8"
             },
             "line": {
              "color": "white"
             }
            },
            "header": {
             "fill": {
              "color": "#C8D4E3"
             },
             "line": {
              "color": "white"
             }
            },
            "type": "table"
           }
          ]
         },
         "layout": {
          "annotationdefaults": {
           "arrowcolor": "#2a3f5f",
           "arrowhead": 0,
           "arrowwidth": 1
          },
          "autotypenumbers": "strict",
          "coloraxis": {
           "colorbar": {
            "outlinewidth": 0,
            "ticks": ""
           }
          },
          "colorscale": {
           "diverging": [
            [
             0,
             "#8e0152"
            ],
            [
             0.1,
             "#c51b7d"
            ],
            [
             0.2,
             "#de77ae"
            ],
            [
             0.3,
             "#f1b6da"
            ],
            [
             0.4,
             "#fde0ef"
            ],
            [
             0.5,
             "#f7f7f7"
            ],
            [
             0.6,
             "#e6f5d0"
            ],
            [
             0.7,
             "#b8e186"
            ],
            [
             0.8,
             "#7fbc41"
            ],
            [
             0.9,
             "#4d9221"
            ],
            [
             1,
             "#276419"
            ]
           ],
           "sequential": [
            [
             0,
             "#0d0887"
            ],
            [
             0.1111111111111111,
             "#46039f"
            ],
            [
             0.2222222222222222,
             "#7201a8"
            ],
            [
             0.3333333333333333,
             "#9c179e"
            ],
            [
             0.4444444444444444,
             "#bd3786"
            ],
            [
             0.5555555555555556,
             "#d8576b"
            ],
            [
             0.6666666666666666,
             "#ed7953"
            ],
            [
             0.7777777777777778,
             "#fb9f3a"
            ],
            [
             0.8888888888888888,
             "#fdca26"
            ],
            [
             1,
             "#f0f921"
            ]
           ],
           "sequentialminus": [
            [
             0,
             "#0d0887"
            ],
            [
             0.1111111111111111,
             "#46039f"
            ],
            [
             0.2222222222222222,
             "#7201a8"
            ],
            [
             0.3333333333333333,
             "#9c179e"
            ],
            [
             0.4444444444444444,
             "#bd3786"
            ],
            [
             0.5555555555555556,
             "#d8576b"
            ],
            [
             0.6666666666666666,
             "#ed7953"
            ],
            [
             0.7777777777777778,
             "#fb9f3a"
            ],
            [
             0.8888888888888888,
             "#fdca26"
            ],
            [
             1,
             "#f0f921"
            ]
           ]
          },
          "colorway": [
           "#636efa",
           "#EF553B",
           "#00cc96",
           "#ab63fa",
           "#FFA15A",
           "#19d3f3",
           "#FF6692",
           "#B6E880",
           "#FF97FF",
           "#FECB52"
          ],
          "font": {
           "color": "#2a3f5f"
          },
          "geo": {
           "bgcolor": "white",
           "lakecolor": "white",
           "landcolor": "#E5ECF6",
           "showlakes": true,
           "showland": true,
           "subunitcolor": "white"
          },
          "hoverlabel": {
           "align": "left"
          },
          "hovermode": "closest",
          "mapbox": {
           "style": "light"
          },
          "paper_bgcolor": "white",
          "plot_bgcolor": "#E5ECF6",
          "polar": {
           "angularaxis": {
            "gridcolor": "white",
            "linecolor": "white",
            "ticks": ""
           },
           "bgcolor": "#E5ECF6",
           "radialaxis": {
            "gridcolor": "white",
            "linecolor": "white",
            "ticks": ""
           }
          },
          "scene": {
           "xaxis": {
            "backgroundcolor": "#E5ECF6",
            "gridcolor": "white",
            "gridwidth": 2,
            "linecolor": "white",
            "showbackground": true,
            "ticks": "",
            "zerolinecolor": "white"
           },
           "yaxis": {
            "backgroundcolor": "#E5ECF6",
            "gridcolor": "white",
            "gridwidth": 2,
            "linecolor": "white",
            "showbackground": true,
            "ticks": "",
            "zerolinecolor": "white"
           },
           "zaxis": {
            "backgroundcolor": "#E5ECF6",
            "gridcolor": "white",
            "gridwidth": 2,
            "linecolor": "white",
            "showbackground": true,
            "ticks": "",
            "zerolinecolor": "white"
           }
          },
          "shapedefaults": {
           "line": {
            "color": "#2a3f5f"
           }
          },
          "ternary": {
           "aaxis": {
            "gridcolor": "white",
            "linecolor": "white",
            "ticks": ""
           },
           "baxis": {
            "gridcolor": "white",
            "linecolor": "white",
            "ticks": ""
           },
           "bgcolor": "#E5ECF6",
           "caxis": {
            "gridcolor": "white",
            "linecolor": "white",
            "ticks": ""
           }
          },
          "title": {
           "x": 0.05
          },
          "xaxis": {
           "automargin": true,
           "gridcolor": "white",
           "linecolor": "white",
           "ticks": "",
           "title": {
            "standoff": 15
           },
           "zerolinecolor": "white",
           "zerolinewidth": 2
          },
          "yaxis": {
           "automargin": true,
           "gridcolor": "white",
           "linecolor": "white",
           "ticks": "",
           "title": {
            "standoff": 15
           },
           "zerolinecolor": "white",
           "zerolinewidth": 2
          }
         }
        },
        "title": {
         "text": "Semantic Expansion over Writing Sessions<br><span style=\"font-size: 12px;\">*Measuring how well humans are learning while writing with GenAI</span>"
        },
        "width": 1600,
        "xaxis": {
         "anchor": "y",
         "domain": [
          0,
          1
         ],
         "gridcolor": "white",
         "linecolor": "black",
         "mirror": false,
         "range": [
          -1,
          55
         ],
         "showline": true,
         "ticks": "outside",
         "title": {
          "text": "Progress into the writing session"
         }
        },
        "yaxis": {
         "anchor": "x",
         "domain": [
          0,
          1
         ],
         "gridcolor": "white",
         "linecolor": "black",
         "mirror": false,
         "showline": true,
         "ticks": "outside",
         "title": {
          "text": "Scores"
         }
        }
       }
      }
     },
     "metadata": {},
     "output_type": "display_data"
    },
    {
     "name": "stdout",
     "output_type": "stream",
     "text": [
      "legislation_antitrust_5\n"
     ]
    },
    {
     "data": {
      "application/vnd.plotly.v1+json": {
       "config": {
        "plotlyServerURL": "https://plot.ly"
       },
       "data": [
        {
         "line": {
          "color": "#64B5F6",
          "width": 2
         },
         "mode": "lines",
         "name": "human_insert_backstage",
         "showlegend": true,
         "type": "scatter",
         "x": [
          null
         ],
         "xaxis": "x",
         "y": [
          null
         ],
         "yaxis": "y"
        },
        {
         "line": {
          "color": "#ff8fab",
          "width": 2
         },
         "mode": "lines",
         "name": "ai_suggest_backstage",
         "showlegend": true,
         "type": "scatter",
         "x": [
          null
         ],
         "xaxis": "x",
         "y": [
          null
         ],
         "yaxis": "y"
        },
        {
         "line": {
          "color": "#023e8a",
          "width": 2
         },
         "mode": "lines",
         "name": "human_insert_frontstage",
         "showlegend": true,
         "type": "scatter",
         "x": [
          null
         ],
         "xaxis": "x",
         "y": [
          null
         ],
         "yaxis": "y"
        },
        {
         "line": {
          "color": "#c1121f",
          "width": 2
         },
         "mode": "lines",
         "name": "ai_insert_moved_to_frontstage",
         "showlegend": true,
         "type": "scatter",
         "x": [
          null
         ],
         "xaxis": "x",
         "y": [
          null
         ],
         "yaxis": "y"
        },
        {
         "line": {
          "color": "#9d4edd",
          "width": 2
         },
         "mode": "lines",
         "name": "human_delete_frontstage",
         "showlegend": true,
         "type": "scatter",
         "x": [
          null
         ],
         "xaxis": "x",
         "y": [
          null
         ],
         "yaxis": "y"
        },
        {
         "line": {
          "color": "#5a189a",
          "width": 2
         },
         "mode": "lines",
         "name": "human_insert_edit_frontstage",
         "showlegend": true,
         "type": "scatter",
         "x": [
          null
         ],
         "xaxis": "x",
         "y": [
          null
         ],
         "yaxis": "y"
        }
       ],
       "layout": {
        "annotations": [
         {
          "font": {
           "size": 16
          },
          "showarrow": false,
          "text": "Session: legislation_antitrust_5",
          "x": 0.5,
          "xanchor": "center",
          "xref": "paper",
          "y": 1,
          "yanchor": "bottom",
          "yref": "paper"
         }
        ],
        "height": 500,
        "legend": {
         "title": {
          "font": {
           "color": "rgba(0, 0, 0, 0)"
          }
         }
        },
        "plot_bgcolor": "white",
        "shapes": [
         {
          "line": {
           "color": "#64B5F6",
           "width": 2
          },
          "type": "line",
          "x0": 22,
          "x1": 23,
          "xref": "x",
          "y0": 8.154069364070892,
          "y1": 7.176332890987396,
          "yref": "y"
         },
         {
          "line": {
           "color": "#64B5F6",
           "width": 2
          },
          "type": "line",
          "x0": 23,
          "x1": 24,
          "xref": "x",
          "y0": 7.176332890987396,
          "y1": 7.516182720661163,
          "yref": "y"
         },
         {
          "line": {
           "color": "#64B5F6",
           "width": 2
          },
          "type": "line",
          "x0": 25,
          "x1": 26,
          "xref": "x",
          "y0": 7.961493682861328,
          "y1": 8.299439203739166,
          "yref": "y"
         },
         {
          "line": {
           "color": "#64B5F6",
           "width": 2
          },
          "type": "line",
          "x0": 27,
          "x1": 28,
          "xref": "x",
          "y0": 8.655792832374573,
          "y1": 9.037932336330414,
          "yref": "y"
         },
         {
          "line": {
           "color": "#64B5F6",
           "width": 2
          },
          "type": "line",
          "x0": 29,
          "x1": 30,
          "xref": "x",
          "y0": 9.472617125511169,
          "y1": 8.090851938724517,
          "yref": "y"
         },
         {
          "line": {
           "color": "#ff8fab",
           "width": 2
          },
          "type": "line",
          "x0": 1,
          "x1": 2,
          "xref": "x",
          "y0": 0.2898159623146057,
          "y1": 0.8575904965400696,
          "yref": "y"
         },
         {
          "line": {
           "color": "#ff8fab",
           "width": 2
          },
          "type": "line",
          "x0": 5,
          "x1": 6,
          "xref": "x",
          "y0": 1.8857854008674622,
          "y1": 2.2981985211372375,
          "yref": "y"
         },
         {
          "line": {
           "color": "#ff8fab",
           "width": 2
          },
          "type": "line",
          "x0": 14,
          "x1": 15,
          "xref": "x",
          "y0": 5.213970124721527,
          "y1": 5.66258875131607,
          "yref": "y"
         },
         {
          "line": {
           "color": "#ff8fab",
           "width": 2
          },
          "type": "line",
          "x0": 20,
          "x1": 21,
          "xref": "x",
          "y0": 7.316591203212738,
          "y1": 5.956830787658691,
          "yref": "y"
         },
         {
          "line": {
           "color": "#ff8fab",
           "width": 2
          },
          "type": "line",
          "x0": 24,
          "x1": 25,
          "xref": "x",
          "y0": 7.516182720661163,
          "y1": 7.961493682861328,
          "yref": "y"
         },
         {
          "line": {
           "color": "#ff8fab",
           "width": 2
          },
          "type": "line",
          "x0": 26,
          "x1": 27,
          "xref": "x",
          "y0": 8.299439203739166,
          "y1": 8.655792832374573,
          "yref": "y"
         },
         {
          "line": {
           "color": "#ff8fab",
           "width": 2
          },
          "type": "line",
          "x0": 28,
          "x1": 29,
          "xref": "x",
          "y0": 9.037932336330414,
          "y1": 9.472617125511169,
          "yref": "y"
         },
         {
          "line": {
           "color": "#ff8fab",
           "width": 2
          },
          "type": "line",
          "x0": 30,
          "x1": 31,
          "xref": "x",
          "y0": 8.090851938724517,
          "y1": 8.466999626159668,
          "yref": "y"
         },
         {
          "line": {
           "color": "#ff8fab",
           "width": 2
          },
          "type": "line",
          "x0": 46,
          "x1": 47,
          "xref": "x",
          "y0": 13.763981103897095,
          "y1": 14.221355867385864,
          "yref": "y"
         },
         {
          "line": {
           "color": "#023e8a",
           "width": 2
          },
          "type": "line",
          "x0": 0,
          "x1": 0,
          "xref": "x",
          "y0": 0,
          "y1": 0.5179585218429565,
          "yref": "y"
         },
         {
          "line": {
           "color": "#023e8a",
           "width": 2
          },
          "type": "line",
          "x0": 0,
          "x1": 1,
          "xref": "x",
          "y0": 0,
          "y1": 0.2898159623146057,
          "yref": "y"
         },
         {
          "line": {
           "color": "#023e8a",
           "width": 2
          },
          "type": "line",
          "x0": 2,
          "x1": 3,
          "xref": "x",
          "y0": 0.2898159623146057,
          "y1": 1.147291660308838,
          "yref": "y"
         },
         {
          "line": {
           "color": "#023e8a",
           "width": 2
          },
          "type": "line",
          "x0": 3,
          "x1": 4,
          "xref": "x",
          "y0": 1.147291660308838,
          "y1": 1.4975293278694153,
          "yref": "y"
         },
         {
          "line": {
           "color": "#023e8a",
           "width": 2
          },
          "type": "line",
          "x0": 4,
          "x1": 5,
          "xref": "x",
          "y0": 1.4975293278694153,
          "y1": 1.8857854008674622,
          "yref": "y"
         },
         {
          "line": {
           "color": "#023e8a",
           "width": 2
          },
          "type": "line",
          "x0": 6,
          "x1": 7,
          "xref": "x",
          "y0": 1.8857854008674622,
          "y1": 2.248051881790161,
          "yref": "y"
         },
         {
          "line": {
           "color": "#023e8a",
           "width": 2
          },
          "type": "line",
          "x0": 7,
          "x1": 8,
          "xref": "x",
          "y0": 2.248051881790161,
          "y1": 2.685614824295044,
          "yref": "y"
         },
         {
          "line": {
           "color": "#023e8a",
           "width": 2
          },
          "type": "line",
          "x0": 8,
          "x1": 9,
          "xref": "x",
          "y0": 2.685614824295044,
          "y1": 3.0154295563697815,
          "yref": "y"
         },
         {
          "line": {
           "color": "#023e8a",
           "width": 2
          },
          "type": "line",
          "x0": 9,
          "x1": 10,
          "xref": "x",
          "y0": 3.0154295563697815,
          "y1": 3.3254921436309814,
          "yref": "y"
         },
         {
          "line": {
           "color": "#023e8a",
           "width": 2
          },
          "type": "line",
          "x0": 10,
          "x1": 11,
          "xref": "x",
          "y0": 3.3254921436309814,
          "y1": 3.6050471663475037,
          "yref": "y"
         },
         {
          "line": {
           "color": "#023e8a",
           "width": 2
          },
          "type": "line",
          "x0": 11,
          "x1": 12,
          "xref": "x",
          "y0": 3.6050471663475037,
          "y1": 4.1258479952812195,
          "yref": "y"
         },
         {
          "line": {
           "color": "#023e8a",
           "width": 2
          },
          "type": "line",
          "x0": 12,
          "x1": 13,
          "xref": "x",
          "y0": 4.1258479952812195,
          "y1": 4.702828347682953,
          "yref": "y"
         },
         {
          "line": {
           "color": "#023e8a",
           "width": 2
          },
          "type": "line",
          "x0": 13,
          "x1": 14,
          "xref": "x",
          "y0": 4.702828347682953,
          "y1": 5.213970124721527,
          "yref": "y"
         },
         {
          "line": {
           "color": "#023e8a",
           "width": 2
          },
          "type": "line",
          "x0": 15,
          "x1": 16,
          "xref": "x",
          "y0": 5.213970124721527,
          "y1": 5.625508606433868,
          "yref": "y"
         },
         {
          "line": {
           "color": "#023e8a",
           "width": 2
          },
          "type": "line",
          "x0": 17,
          "x1": 18,
          "xref": "x",
          "y0": 5.690814793109894,
          "y1": 6.123665750026703,
          "yref": "y"
         },
         {
          "line": {
           "color": "#023e8a",
           "width": 2
          },
          "type": "line",
          "x0": 18,
          "x1": 19,
          "xref": "x",
          "y0": 6.123665750026703,
          "y1": 6.537892401218414,
          "yref": "y"
         },
         {
          "line": {
           "color": "#023e8a",
           "width": 2
          },
          "type": "line",
          "x0": 19,
          "x1": 20,
          "xref": "x",
          "y0": 6.537892401218414,
          "y1": 7.316591203212738,
          "yref": "y"
         },
         {
          "line": {
           "color": "#023e8a",
           "width": 2
          },
          "type": "line",
          "x0": 21,
          "x1": 22,
          "xref": "x",
          "y0": 7.316591203212738,
          "y1": 8.154069364070892,
          "yref": "y"
         },
         {
          "line": {
           "color": "#023e8a",
           "width": 2
          },
          "type": "line",
          "x0": 32,
          "x1": 33,
          "xref": "x",
          "y0": 8.509429812431335,
          "y1": 8.831243753433228,
          "yref": "y"
         },
         {
          "line": {
           "color": "#023e8a",
           "width": 2
          },
          "type": "line",
          "x0": 33,
          "x1": 34,
          "xref": "x",
          "y0": 8.831243753433228,
          "y1": 9.216464102268219,
          "yref": "y"
         },
         {
          "line": {
           "color": "#023e8a",
           "width": 2
          },
          "type": "line",
          "x0": 34,
          "x1": 35,
          "xref": "x",
          "y0": 9.216464102268219,
          "y1": 9.575054466724396,
          "yref": "y"
         },
         {
          "line": {
           "color": "#023e8a",
           "width": 2
          },
          "type": "line",
          "x0": 35,
          "x1": 36,
          "xref": "x",
          "y0": 9.575054466724396,
          "y1": 9.926008522510529,
          "yref": "y"
         },
         {
          "line": {
           "color": "#023e8a",
           "width": 2
          },
          "type": "line",
          "x0": 36,
          "x1": 37,
          "xref": "x",
          "y0": 9.926008522510529,
          "y1": 10.276206076145172,
          "yref": "y"
         },
         {
          "line": {
           "color": "#023e8a",
           "width": 2
          },
          "type": "line",
          "x0": 37,
          "x1": 38,
          "xref": "x",
          "y0": 10.276206076145172,
          "y1": 10.66421127319336,
          "yref": "y"
         },
         {
          "line": {
           "color": "#023e8a",
           "width": 2
          },
          "type": "line",
          "x0": 38,
          "x1": 39,
          "xref": "x",
          "y0": 10.66421127319336,
          "y1": 11.006965398788452,
          "yref": "y"
         },
         {
          "line": {
           "color": "#023e8a",
           "width": 2
          },
          "type": "line",
          "x0": 39,
          "x1": 40,
          "xref": "x",
          "y0": 11.006965398788452,
          "y1": 11.418713867664337,
          "yref": "y"
         },
         {
          "line": {
           "color": "#023e8a",
           "width": 2
          },
          "type": "line",
          "x0": 40,
          "x1": 41,
          "xref": "x",
          "y0": 11.418713867664337,
          "y1": 11.95851457118988,
          "yref": "y"
         },
         {
          "line": {
           "color": "#023e8a",
           "width": 2
          },
          "type": "line",
          "x0": 42,
          "x1": 43,
          "xref": "x",
          "y0": 12.059601843357086,
          "y1": 12.445061087608337,
          "yref": "y"
         },
         {
          "line": {
           "color": "#023e8a",
           "width": 2
          },
          "type": "line",
          "x0": 43,
          "x1": 44,
          "xref": "x",
          "y0": 12.445061087608337,
          "y1": 12.952115654945374,
          "yref": "y"
         },
         {
          "line": {
           "color": "#023e8a",
           "width": 2
          },
          "type": "line",
          "x0": 44,
          "x1": 45,
          "xref": "x",
          "y0": 12.952115654945374,
          "y1": 13.339155375957489,
          "yref": "y"
         },
         {
          "line": {
           "color": "#023e8a",
           "width": 2
          },
          "type": "line",
          "x0": 45,
          "x1": 46,
          "xref": "x",
          "y0": 13.339155375957489,
          "y1": 13.763981103897095,
          "yref": "y"
         },
         {
          "line": {
           "color": "#023e8a",
           "width": 2
          },
          "type": "line",
          "x0": 47,
          "x1": 48,
          "xref": "x",
          "y0": 13.763981103897095,
          "y1": 14.202825963497162,
          "yref": "y"
         },
         {
          "line": {
           "color": "#023e8a",
           "width": 2
          },
          "type": "line",
          "x0": 48,
          "x1": 49,
          "xref": "x",
          "y0": 14.202825963497162,
          "y1": 14.793225824832916,
          "yref": "y"
         },
         {
          "line": {
           "color": "#023e8a",
           "width": 2
          },
          "type": "line",
          "x0": 49,
          "x1": 50,
          "xref": "x",
          "y0": 14.793225824832916,
          "y1": 15.172012329101562,
          "yref": "y"
         },
         {
          "line": {
           "color": "#023e8a",
           "width": 2
          },
          "type": "line",
          "x0": 50,
          "x1": 51,
          "xref": "x",
          "y0": 15.172012329101562,
          "y1": 15.61905437707901,
          "yref": "y"
         },
         {
          "line": {
           "color": "#023e8a",
           "width": 2
          },
          "type": "line",
          "x0": 51,
          "x1": 52,
          "xref": "x",
          "y0": 15.61905437707901,
          "y1": 16.03749144077301,
          "yref": "y"
         },
         {
          "line": {
           "color": "#023e8a",
           "width": 2
          },
          "type": "line",
          "x0": 52,
          "x1": 53,
          "xref": "x",
          "y0": 16.03749144077301,
          "y1": 16.481558322906494,
          "yref": "y"
         },
         {
          "line": {
           "color": "#023e8a",
           "width": 2
          },
          "type": "line",
          "x0": 53,
          "x1": 54,
          "xref": "x",
          "y0": 16.481558322906494,
          "y1": 16.853143393993378,
          "yref": "y"
         },
         {
          "line": {
           "color": "#023e8a",
           "width": 2
          },
          "type": "line",
          "x0": 54,
          "x1": 55,
          "xref": "x",
          "y0": 16.853143393993378,
          "y1": 17.15119880437851,
          "yref": "y"
         },
         {
          "line": {
           "color": "#023e8a",
           "width": 2
          },
          "type": "line",
          "x0": 55,
          "x1": 56,
          "xref": "x",
          "y0": 17.15119880437851,
          "y1": 17.56269073486328,
          "yref": "y"
         },
         {
          "line": {
           "color": "#023e8a",
           "width": 2
          },
          "type": "line",
          "x0": 56,
          "x1": 57,
          "xref": "x",
          "y0": 17.56269073486328,
          "y1": 18.010842382907867,
          "yref": "y"
         },
         {
          "line": {
           "color": "#023e8a",
           "width": 2
          },
          "type": "line",
          "x0": 57,
          "x1": 58,
          "xref": "x",
          "y0": 18.010842382907867,
          "y1": 18.441067278385162,
          "yref": "y"
         },
         {
          "line": {
           "color": "#023e8a",
           "width": 2
          },
          "type": "line",
          "x0": 58,
          "x1": 59,
          "xref": "x",
          "y0": 18.441067278385162,
          "y1": 19.057965338230133,
          "yref": "y"
         },
         {
          "line": {
           "color": "#023e8a",
           "width": 2
          },
          "type": "line",
          "x0": 59,
          "x1": 60,
          "xref": "x",
          "y0": 19.057965338230133,
          "y1": 19.492205500602722,
          "yref": "y"
         },
         {
          "line": {
           "color": "#023e8a",
           "width": 2
          },
          "type": "line",
          "x0": 60,
          "x1": 61,
          "xref": "x",
          "y0": 19.492205500602722,
          "y1": 20.11958134174347,
          "yref": "y"
         },
         {
          "line": {
           "color": "#023e8a",
           "width": 2
          },
          "type": "line",
          "x0": 61,
          "x1": 62,
          "xref": "x",
          "y0": 20.11958134174347,
          "y1": 20.590640544891357,
          "yref": "y"
         },
         {
          "line": {
           "color": "#023e8a",
           "width": 2
          },
          "type": "line",
          "x0": 62,
          "x1": 63,
          "xref": "x",
          "y0": 20.590640544891357,
          "y1": 21.111178636550903,
          "yref": "y"
         },
         {
          "line": {
           "color": "#c1121f",
           "width": 2
          },
          "type": "line",
          "x0": 31,
          "x1": 32,
          "xref": "x",
          "y0": 8.154069364070892,
          "y1": 8.509429812431335,
          "yref": "y"
         },
         {
          "line": {
           "color": "#9d4edd",
           "width": 2
          },
          "type": "line",
          "x0": 16,
          "x1": 17,
          "xref": "x",
          "y0": 5.625508606433868,
          "y1": 5.690814793109894,
          "yref": "y"
         },
         {
          "line": {
           "color": "#9d4edd",
           "width": 2
          },
          "type": "line",
          "x0": 41,
          "x1": 42,
          "xref": "x",
          "y0": 11.95851457118988,
          "y1": 12.059601843357086,
          "yref": "y"
         }
        ],
        "showlegend": true,
        "template": {
         "data": {
          "bar": [
           {
            "error_x": {
             "color": "#2a3f5f"
            },
            "error_y": {
             "color": "#2a3f5f"
            },
            "marker": {
             "line": {
              "color": "#E5ECF6",
              "width": 0.5
             },
             "pattern": {
              "fillmode": "overlay",
              "size": 10,
              "solidity": 0.2
             }
            },
            "type": "bar"
           }
          ],
          "barpolar": [
           {
            "marker": {
             "line": {
              "color": "#E5ECF6",
              "width": 0.5
             },
             "pattern": {
              "fillmode": "overlay",
              "size": 10,
              "solidity": 0.2
             }
            },
            "type": "barpolar"
           }
          ],
          "carpet": [
           {
            "aaxis": {
             "endlinecolor": "#2a3f5f",
             "gridcolor": "white",
             "linecolor": "white",
             "minorgridcolor": "white",
             "startlinecolor": "#2a3f5f"
            },
            "baxis": {
             "endlinecolor": "#2a3f5f",
             "gridcolor": "white",
             "linecolor": "white",
             "minorgridcolor": "white",
             "startlinecolor": "#2a3f5f"
            },
            "type": "carpet"
           }
          ],
          "choropleth": [
           {
            "colorbar": {
             "outlinewidth": 0,
             "ticks": ""
            },
            "type": "choropleth"
           }
          ],
          "contour": [
           {
            "colorbar": {
             "outlinewidth": 0,
             "ticks": ""
            },
            "colorscale": [
             [
              0,
              "#0d0887"
             ],
             [
              0.1111111111111111,
              "#46039f"
             ],
             [
              0.2222222222222222,
              "#7201a8"
             ],
             [
              0.3333333333333333,
              "#9c179e"
             ],
             [
              0.4444444444444444,
              "#bd3786"
             ],
             [
              0.5555555555555556,
              "#d8576b"
             ],
             [
              0.6666666666666666,
              "#ed7953"
             ],
             [
              0.7777777777777778,
              "#fb9f3a"
             ],
             [
              0.8888888888888888,
              "#fdca26"
             ],
             [
              1,
              "#f0f921"
             ]
            ],
            "type": "contour"
           }
          ],
          "contourcarpet": [
           {
            "colorbar": {
             "outlinewidth": 0,
             "ticks": ""
            },
            "type": "contourcarpet"
           }
          ],
          "heatmap": [
           {
            "colorbar": {
             "outlinewidth": 0,
             "ticks": ""
            },
            "colorscale": [
             [
              0,
              "#0d0887"
             ],
             [
              0.1111111111111111,
              "#46039f"
             ],
             [
              0.2222222222222222,
              "#7201a8"
             ],
             [
              0.3333333333333333,
              "#9c179e"
             ],
             [
              0.4444444444444444,
              "#bd3786"
             ],
             [
              0.5555555555555556,
              "#d8576b"
             ],
             [
              0.6666666666666666,
              "#ed7953"
             ],
             [
              0.7777777777777778,
              "#fb9f3a"
             ],
             [
              0.8888888888888888,
              "#fdca26"
             ],
             [
              1,
              "#f0f921"
             ]
            ],
            "type": "heatmap"
           }
          ],
          "histogram": [
           {
            "marker": {
             "pattern": {
              "fillmode": "overlay",
              "size": 10,
              "solidity": 0.2
             }
            },
            "type": "histogram"
           }
          ],
          "histogram2d": [
           {
            "colorbar": {
             "outlinewidth": 0,
             "ticks": ""
            },
            "colorscale": [
             [
              0,
              "#0d0887"
             ],
             [
              0.1111111111111111,
              "#46039f"
             ],
             [
              0.2222222222222222,
              "#7201a8"
             ],
             [
              0.3333333333333333,
              "#9c179e"
             ],
             [
              0.4444444444444444,
              "#bd3786"
             ],
             [
              0.5555555555555556,
              "#d8576b"
             ],
             [
              0.6666666666666666,
              "#ed7953"
             ],
             [
              0.7777777777777778,
              "#fb9f3a"
             ],
             [
              0.8888888888888888,
              "#fdca26"
             ],
             [
              1,
              "#f0f921"
             ]
            ],
            "type": "histogram2d"
           }
          ],
          "histogram2dcontour": [
           {
            "colorbar": {
             "outlinewidth": 0,
             "ticks": ""
            },
            "colorscale": [
             [
              0,
              "#0d0887"
             ],
             [
              0.1111111111111111,
              "#46039f"
             ],
             [
              0.2222222222222222,
              "#7201a8"
             ],
             [
              0.3333333333333333,
              "#9c179e"
             ],
             [
              0.4444444444444444,
              "#bd3786"
             ],
             [
              0.5555555555555556,
              "#d8576b"
             ],
             [
              0.6666666666666666,
              "#ed7953"
             ],
             [
              0.7777777777777778,
              "#fb9f3a"
             ],
             [
              0.8888888888888888,
              "#fdca26"
             ],
             [
              1,
              "#f0f921"
             ]
            ],
            "type": "histogram2dcontour"
           }
          ],
          "mesh3d": [
           {
            "colorbar": {
             "outlinewidth": 0,
             "ticks": ""
            },
            "type": "mesh3d"
           }
          ],
          "parcoords": [
           {
            "line": {
             "colorbar": {
              "outlinewidth": 0,
              "ticks": ""
             }
            },
            "type": "parcoords"
           }
          ],
          "pie": [
           {
            "automargin": true,
            "type": "pie"
           }
          ],
          "scatter": [
           {
            "fillpattern": {
             "fillmode": "overlay",
             "size": 10,
             "solidity": 0.2
            },
            "type": "scatter"
           }
          ],
          "scatter3d": [
           {
            "line": {
             "colorbar": {
              "outlinewidth": 0,
              "ticks": ""
             }
            },
            "marker": {
             "colorbar": {
              "outlinewidth": 0,
              "ticks": ""
             }
            },
            "type": "scatter3d"
           }
          ],
          "scattercarpet": [
           {
            "marker": {
             "colorbar": {
              "outlinewidth": 0,
              "ticks": ""
             }
            },
            "type": "scattercarpet"
           }
          ],
          "scattergeo": [
           {
            "marker": {
             "colorbar": {
              "outlinewidth": 0,
              "ticks": ""
             }
            },
            "type": "scattergeo"
           }
          ],
          "scattergl": [
           {
            "marker": {
             "colorbar": {
              "outlinewidth": 0,
              "ticks": ""
             }
            },
            "type": "scattergl"
           }
          ],
          "scattermap": [
           {
            "marker": {
             "colorbar": {
              "outlinewidth": 0,
              "ticks": ""
             }
            },
            "type": "scattermap"
           }
          ],
          "scattermapbox": [
           {
            "marker": {
             "colorbar": {
              "outlinewidth": 0,
              "ticks": ""
             }
            },
            "type": "scattermapbox"
           }
          ],
          "scatterpolar": [
           {
            "marker": {
             "colorbar": {
              "outlinewidth": 0,
              "ticks": ""
             }
            },
            "type": "scatterpolar"
           }
          ],
          "scatterpolargl": [
           {
            "marker": {
             "colorbar": {
              "outlinewidth": 0,
              "ticks": ""
             }
            },
            "type": "scatterpolargl"
           }
          ],
          "scatterternary": [
           {
            "marker": {
             "colorbar": {
              "outlinewidth": 0,
              "ticks": ""
             }
            },
            "type": "scatterternary"
           }
          ],
          "surface": [
           {
            "colorbar": {
             "outlinewidth": 0,
             "ticks": ""
            },
            "colorscale": [
             [
              0,
              "#0d0887"
             ],
             [
              0.1111111111111111,
              "#46039f"
             ],
             [
              0.2222222222222222,
              "#7201a8"
             ],
             [
              0.3333333333333333,
              "#9c179e"
             ],
             [
              0.4444444444444444,
              "#bd3786"
             ],
             [
              0.5555555555555556,
              "#d8576b"
             ],
             [
              0.6666666666666666,
              "#ed7953"
             ],
             [
              0.7777777777777778,
              "#fb9f3a"
             ],
             [
              0.8888888888888888,
              "#fdca26"
             ],
             [
              1,
              "#f0f921"
             ]
            ],
            "type": "surface"
           }
          ],
          "table": [
           {
            "cells": {
             "fill": {
              "color": "#EBF0F8"
             },
             "line": {
              "color": "white"
             }
            },
            "header": {
             "fill": {
              "color": "#C8D4E3"
             },
             "line": {
              "color": "white"
             }
            },
            "type": "table"
           }
          ]
         },
         "layout": {
          "annotationdefaults": {
           "arrowcolor": "#2a3f5f",
           "arrowhead": 0,
           "arrowwidth": 1
          },
          "autotypenumbers": "strict",
          "coloraxis": {
           "colorbar": {
            "outlinewidth": 0,
            "ticks": ""
           }
          },
          "colorscale": {
           "diverging": [
            [
             0,
             "#8e0152"
            ],
            [
             0.1,
             "#c51b7d"
            ],
            [
             0.2,
             "#de77ae"
            ],
            [
             0.3,
             "#f1b6da"
            ],
            [
             0.4,
             "#fde0ef"
            ],
            [
             0.5,
             "#f7f7f7"
            ],
            [
             0.6,
             "#e6f5d0"
            ],
            [
             0.7,
             "#b8e186"
            ],
            [
             0.8,
             "#7fbc41"
            ],
            [
             0.9,
             "#4d9221"
            ],
            [
             1,
             "#276419"
            ]
           ],
           "sequential": [
            [
             0,
             "#0d0887"
            ],
            [
             0.1111111111111111,
             "#46039f"
            ],
            [
             0.2222222222222222,
             "#7201a8"
            ],
            [
             0.3333333333333333,
             "#9c179e"
            ],
            [
             0.4444444444444444,
             "#bd3786"
            ],
            [
             0.5555555555555556,
             "#d8576b"
            ],
            [
             0.6666666666666666,
             "#ed7953"
            ],
            [
             0.7777777777777778,
             "#fb9f3a"
            ],
            [
             0.8888888888888888,
             "#fdca26"
            ],
            [
             1,
             "#f0f921"
            ]
           ],
           "sequentialminus": [
            [
             0,
             "#0d0887"
            ],
            [
             0.1111111111111111,
             "#46039f"
            ],
            [
             0.2222222222222222,
             "#7201a8"
            ],
            [
             0.3333333333333333,
             "#9c179e"
            ],
            [
             0.4444444444444444,
             "#bd3786"
            ],
            [
             0.5555555555555556,
             "#d8576b"
            ],
            [
             0.6666666666666666,
             "#ed7953"
            ],
            [
             0.7777777777777778,
             "#fb9f3a"
            ],
            [
             0.8888888888888888,
             "#fdca26"
            ],
            [
             1,
             "#f0f921"
            ]
           ]
          },
          "colorway": [
           "#636efa",
           "#EF553B",
           "#00cc96",
           "#ab63fa",
           "#FFA15A",
           "#19d3f3",
           "#FF6692",
           "#B6E880",
           "#FF97FF",
           "#FECB52"
          ],
          "font": {
           "color": "#2a3f5f"
          },
          "geo": {
           "bgcolor": "white",
           "lakecolor": "white",
           "landcolor": "#E5ECF6",
           "showlakes": true,
           "showland": true,
           "subunitcolor": "white"
          },
          "hoverlabel": {
           "align": "left"
          },
          "hovermode": "closest",
          "mapbox": {
           "style": "light"
          },
          "paper_bgcolor": "white",
          "plot_bgcolor": "#E5ECF6",
          "polar": {
           "angularaxis": {
            "gridcolor": "white",
            "linecolor": "white",
            "ticks": ""
           },
           "bgcolor": "#E5ECF6",
           "radialaxis": {
            "gridcolor": "white",
            "linecolor": "white",
            "ticks": ""
           }
          },
          "scene": {
           "xaxis": {
            "backgroundcolor": "#E5ECF6",
            "gridcolor": "white",
            "gridwidth": 2,
            "linecolor": "white",
            "showbackground": true,
            "ticks": "",
            "zerolinecolor": "white"
           },
           "yaxis": {
            "backgroundcolor": "#E5ECF6",
            "gridcolor": "white",
            "gridwidth": 2,
            "linecolor": "white",
            "showbackground": true,
            "ticks": "",
            "zerolinecolor": "white"
           },
           "zaxis": {
            "backgroundcolor": "#E5ECF6",
            "gridcolor": "white",
            "gridwidth": 2,
            "linecolor": "white",
            "showbackground": true,
            "ticks": "",
            "zerolinecolor": "white"
           }
          },
          "shapedefaults": {
           "line": {
            "color": "#2a3f5f"
           }
          },
          "ternary": {
           "aaxis": {
            "gridcolor": "white",
            "linecolor": "white",
            "ticks": ""
           },
           "baxis": {
            "gridcolor": "white",
            "linecolor": "white",
            "ticks": ""
           },
           "bgcolor": "#E5ECF6",
           "caxis": {
            "gridcolor": "white",
            "linecolor": "white",
            "ticks": ""
           }
          },
          "title": {
           "x": 0.05
          },
          "xaxis": {
           "automargin": true,
           "gridcolor": "white",
           "linecolor": "white",
           "ticks": "",
           "title": {
            "standoff": 15
           },
           "zerolinecolor": "white",
           "zerolinewidth": 2
          },
          "yaxis": {
           "automargin": true,
           "gridcolor": "white",
           "linecolor": "white",
           "ticks": "",
           "title": {
            "standoff": 15
           },
           "zerolinecolor": "white",
           "zerolinewidth": 2
          }
         }
        },
        "title": {
         "text": "Semantic Expansion over Writing Sessions<br><span style=\"font-size: 12px;\">*Measuring how well humans are learning while writing with GenAI</span>"
        },
        "width": 1600,
        "xaxis": {
         "anchor": "y",
         "domain": [
          0,
          1
         ],
         "gridcolor": "white",
         "linecolor": "black",
         "mirror": false,
         "range": [
          -1,
          64
         ],
         "showline": true,
         "ticks": "outside",
         "title": {
          "text": "Progress into the writing session"
         }
        },
        "yaxis": {
         "anchor": "x",
         "domain": [
          0,
          1
         ],
         "gridcolor": "white",
         "linecolor": "black",
         "mirror": false,
         "showline": true,
         "ticks": "outside",
         "title": {
          "text": "Scores"
         }
        }
       }
      }
     },
     "metadata": {},
     "output_type": "display_data"
    },
    {
     "name": "stdout",
     "output_type": "stream",
     "text": [
      "legislation_antitrust_6\n"
     ]
    },
    {
     "data": {
      "application/vnd.plotly.v1+json": {
       "config": {
        "plotlyServerURL": "https://plot.ly"
       },
       "data": [
        {
         "line": {
          "color": "#64B5F6",
          "width": 2
         },
         "mode": "lines",
         "name": "human_insert_backstage",
         "showlegend": true,
         "type": "scatter",
         "x": [
          null
         ],
         "xaxis": "x",
         "y": [
          null
         ],
         "yaxis": "y"
        },
        {
         "line": {
          "color": "#ff8fab",
          "width": 2
         },
         "mode": "lines",
         "name": "ai_suggest_backstage",
         "showlegend": true,
         "type": "scatter",
         "x": [
          null
         ],
         "xaxis": "x",
         "y": [
          null
         ],
         "yaxis": "y"
        },
        {
         "line": {
          "color": "#023e8a",
          "width": 2
         },
         "mode": "lines",
         "name": "human_insert_frontstage",
         "showlegend": true,
         "type": "scatter",
         "x": [
          null
         ],
         "xaxis": "x",
         "y": [
          null
         ],
         "yaxis": "y"
        },
        {
         "line": {
          "color": "#c1121f",
          "width": 2
         },
         "mode": "lines",
         "name": "ai_insert_moved_to_frontstage",
         "showlegend": true,
         "type": "scatter",
         "x": [
          null
         ],
         "xaxis": "x",
         "y": [
          null
         ],
         "yaxis": "y"
        },
        {
         "line": {
          "color": "#9d4edd",
          "width": 2
         },
         "mode": "lines",
         "name": "human_delete_frontstage",
         "showlegend": true,
         "type": "scatter",
         "x": [
          null
         ],
         "xaxis": "x",
         "y": [
          null
         ],
         "yaxis": "y"
        },
        {
         "line": {
          "color": "#5a189a",
          "width": 2
         },
         "mode": "lines",
         "name": "human_insert_edit_frontstage",
         "showlegend": true,
         "type": "scatter",
         "x": [
          null
         ],
         "xaxis": "x",
         "y": [
          null
         ],
         "yaxis": "y"
        }
       ],
       "layout": {
        "annotations": [
         {
          "font": {
           "size": 16
          },
          "showarrow": false,
          "text": "Session: legislation_antitrust_6",
          "x": 0.5,
          "xanchor": "center",
          "xref": "paper",
          "y": 1,
          "yanchor": "bottom",
          "yref": "paper"
         }
        ],
        "height": 500,
        "legend": {
         "title": {
          "font": {
           "color": "rgba(0, 0, 0, 0)"
          }
         }
        },
        "plot_bgcolor": "white",
        "shapes": [
         {
          "line": {
           "color": "#64B5F6",
           "width": 2
          },
          "type": "line",
          "x0": 7,
          "x1": 8,
          "xref": "x",
          "y0": 0.7619868516921997,
          "y1": -0.5931998491287231,
          "yref": "y"
         },
         {
          "line": {
           "color": "#64B5F6",
           "width": 2
          },
          "type": "line",
          "x0": 10,
          "x1": 11,
          "xref": "x",
          "y0": 1.0524750351905823,
          "y1": 1.6694384217262268,
          "yref": "y"
         },
         {
          "line": {
           "color": "#64B5F6",
           "width": 2
          },
          "type": "line",
          "x0": 40,
          "x1": 41,
          "xref": "x",
          "y0": 9.43775349855423,
          "y1": 9.919762670993805,
          "yref": "y"
         },
         {
          "line": {
           "color": "#ff8fab",
           "width": 2
          },
          "type": "line",
          "x0": 0,
          "x1": 1,
          "xref": "x",
          "y0": 0,
          "y1": 0.3594031214714051,
          "yref": "y"
         },
         {
          "line": {
           "color": "#ff8fab",
           "width": 2
          },
          "type": "line",
          "x0": 4,
          "x1": 5,
          "xref": "x",
          "y0": 0.5983546376228333,
          "y1": 0.9595348000526429,
          "yref": "y"
         },
         {
          "line": {
           "color": "#ff8fab",
           "width": 2
          },
          "type": "line",
          "x0": 8,
          "x1": 9,
          "xref": "x",
          "y0": -0.5931998491287231,
          "y1": -0.1925837159156799,
          "yref": "y"
         },
         {
          "line": {
           "color": "#ff8fab",
           "width": 2
          },
          "type": "line",
          "x0": 11,
          "x1": 12,
          "xref": "x",
          "y0": 1.6694384217262268,
          "y1": 2.093555271625519,
          "yref": "y"
         },
         {
          "line": {
           "color": "#ff8fab",
           "width": 2
          },
          "type": "line",
          "x0": 14,
          "x1": 15,
          "xref": "x",
          "y0": 1.8701753616333008,
          "y1": 2.24642493724823,
          "yref": "y"
         },
         {
          "line": {
           "color": "#ff8fab",
           "width": 2
          },
          "type": "line",
          "x0": 18,
          "x1": 19,
          "xref": "x",
          "y0": 2.904731333255768,
          "y1": 3.360109794139862,
          "yref": "y"
         },
         {
          "line": {
           "color": "#ff8fab",
           "width": 2
          },
          "type": "line",
          "x0": 22,
          "x1": 23,
          "xref": "x",
          "y0": 3.9409595727920532,
          "y1": 4.331278669834137,
          "yref": "y"
         },
         {
          "line": {
           "color": "#ff8fab",
           "width": 2
          },
          "type": "line",
          "x0": 26,
          "x1": 27,
          "xref": "x",
          "y0": 4.920133411884308,
          "y1": 5.408981311321258,
          "yref": "y"
         },
         {
          "line": {
           "color": "#ff8fab",
           "width": 2
          },
          "type": "line",
          "x0": 30,
          "x1": 31,
          "xref": "x",
          "y0": 6.101530432701111,
          "y1": 6.500063169002533,
          "yref": "y"
         },
         {
          "line": {
           "color": "#ff8fab",
           "width": 2
          },
          "type": "line",
          "x0": 35,
          "x1": 36,
          "xref": "x",
          "y0": 8.010912716388702,
          "y1": 8.419747114181519,
          "yref": "y"
         },
         {
          "line": {
           "color": "#ff8fab",
           "width": 2
          },
          "type": "line",
          "x0": 41,
          "x1": 42,
          "xref": "x",
          "y0": 9.919762670993805,
          "y1": 10.325286102294921,
          "yref": "y"
         },
         {
          "line": {
           "color": "#ff8fab",
           "width": 2
          },
          "type": "line",
          "x0": 45,
          "x1": 46,
          "xref": "x",
          "y0": 10.734700083732605,
          "y1": 11.260871005058288,
          "yref": "y"
         },
         {
          "line": {
           "color": "#023e8a",
           "width": 2
          },
          "type": "line",
          "x0": 0,
          "x1": 0,
          "xref": "x",
          "y0": 0,
          "y1": 0.26873666048049927,
          "yref": "y"
         },
         {
          "line": {
           "color": "#023e8a",
           "width": 2
          },
          "type": "line",
          "x0": 2,
          "x1": 3,
          "xref": "x",
          "y0": -0.04485058784484863,
          "y1": 0.1790350079536438,
          "yref": "y"
         },
         {
          "line": {
           "color": "#023e8a",
           "width": 2
          },
          "type": "line",
          "x0": 3,
          "x1": 4,
          "xref": "x",
          "y0": 0.1790350079536438,
          "y1": 0.5983546376228333,
          "yref": "y"
         },
         {
          "line": {
           "color": "#023e8a",
           "width": 2
          },
          "type": "line",
          "x0": 6,
          "x1": 7,
          "xref": "x",
          "y0": 0.4705108404159546,
          "y1": 0.7619868516921997,
          "yref": "y"
         },
         {
          "line": {
           "color": "#023e8a",
           "width": 2
          },
          "type": "line",
          "x0": 13,
          "x1": 14,
          "xref": "x",
          "y0": 1.4853786826133728,
          "y1": 1.8701753616333008,
          "yref": "y"
         },
         {
          "line": {
           "color": "#023e8a",
           "width": 2
          },
          "type": "line",
          "x0": 16,
          "x1": 17,
          "xref": "x",
          "y0": 2.1950547099113464,
          "y1": 2.4751375317573547,
          "yref": "y"
         },
         {
          "line": {
           "color": "#023e8a",
           "width": 2
          },
          "type": "line",
          "x0": 17,
          "x1": 18,
          "xref": "x",
          "y0": 2.4751375317573547,
          "y1": 2.904731333255768,
          "yref": "y"
         },
         {
          "line": {
           "color": "#023e8a",
           "width": 2
          },
          "type": "line",
          "x0": 20,
          "x1": 21,
          "xref": "x",
          "y0": 3.2080482840538025,
          "y1": 3.6258073449134827,
          "yref": "y"
         },
         {
          "line": {
           "color": "#023e8a",
           "width": 2
          },
          "type": "line",
          "x0": 21,
          "x1": 22,
          "xref": "x",
          "y0": 3.6258073449134827,
          "y1": 3.9409595727920532,
          "yref": "y"
         },
         {
          "line": {
           "color": "#023e8a",
           "width": 2
          },
          "type": "line",
          "x0": 24,
          "x1": 25,
          "xref": "x",
          "y0": 4.272970020771027,
          "y1": 4.494895040988922,
          "yref": "y"
         },
         {
          "line": {
           "color": "#023e8a",
           "width": 2
          },
          "type": "line",
          "x0": 25,
          "x1": 26,
          "xref": "x",
          "y0": 4.494895040988922,
          "y1": 4.920133411884308,
          "yref": "y"
         },
         {
          "line": {
           "color": "#023e8a",
           "width": 2
          },
          "type": "line",
          "x0": 28,
          "x1": 29,
          "xref": "x",
          "y0": 5.29821240901947,
          "y1": 5.712402582168579,
          "yref": "y"
         },
         {
          "line": {
           "color": "#023e8a",
           "width": 2
          },
          "type": "line",
          "x0": 29,
          "x1": 30,
          "xref": "x",
          "y0": 5.712402582168579,
          "y1": 6.101530432701111,
          "yref": "y"
         },
         {
          "line": {
           "color": "#023e8a",
           "width": 2
          },
          "type": "line",
          "x0": 32,
          "x1": 33,
          "xref": "x",
          "y0": 6.629636287689209,
          "y1": 7.0861776471138,
          "yref": "y"
         },
         {
          "line": {
           "color": "#023e8a",
           "width": 2
          },
          "type": "line",
          "x0": 33,
          "x1": 34,
          "xref": "x",
          "y0": 7.0861776471138,
          "y1": 7.546870112419128,
          "yref": "y"
         },
         {
          "line": {
           "color": "#023e8a",
           "width": 2
          },
          "type": "line",
          "x0": 34,
          "x1": 35,
          "xref": "x",
          "y0": 7.546870112419128,
          "y1": 8.010912716388702,
          "yref": "y"
         },
         {
          "line": {
           "color": "#023e8a",
           "width": 2
          },
          "type": "line",
          "x0": 37,
          "x1": 38,
          "xref": "x",
          "y0": 9.713129758834839,
          "y1": 10.150608539581299,
          "yref": "y"
         },
         {
          "line": {
           "color": "#023e8a",
           "width": 2
          },
          "type": "line",
          "x0": 38,
          "x1": 39,
          "xref": "x",
          "y0": 10.150608539581299,
          "y1": 11.037261843681335,
          "yref": "y"
         },
         {
          "line": {
           "color": "#023e8a",
           "width": 2
          },
          "type": "line",
          "x0": 43,
          "x1": 44,
          "xref": "x",
          "y0": 9.44960343837738,
          "y1": 10.09740924835205,
          "yref": "y"
         },
         {
          "line": {
           "color": "#023e8a",
           "width": 2
          },
          "type": "line",
          "x0": 44,
          "x1": 45,
          "xref": "x",
          "y0": 10.09740924835205,
          "y1": 10.734700083732605,
          "yref": "y"
         },
         {
          "line": {
           "color": "#023e8a",
           "width": 2
          },
          "type": "line",
          "x0": 46,
          "x1": 47,
          "xref": "x",
          "y0": 10.734700083732605,
          "y1": 11.175394535064697,
          "yref": "y"
         },
         {
          "line": {
           "color": "#023e8a",
           "width": 2
          },
          "type": "line",
          "x0": 47,
          "x1": 48,
          "xref": "x",
          "y0": 11.175394535064697,
          "y1": 11.561460494995117,
          "yref": "y"
         },
         {
          "line": {
           "color": "#023e8a",
           "width": 2
          },
          "type": "line",
          "x0": 48,
          "x1": 49,
          "xref": "x",
          "y0": 11.561460494995117,
          "y1": 12.018360197544098,
          "yref": "y"
         },
         {
          "line": {
           "color": "#023e8a",
           "width": 2
          },
          "type": "line",
          "x0": 49,
          "x1": 50,
          "xref": "x",
          "y0": 12.018360197544098,
          "y1": 12.478345930576324,
          "yref": "y"
         },
         {
          "line": {
           "color": "#023e8a",
           "width": 2
          },
          "type": "line",
          "x0": 50,
          "x1": 51,
          "xref": "x",
          "y0": 12.478345930576324,
          "y1": 12.827746748924255,
          "yref": "y"
         },
         {
          "line": {
           "color": "#023e8a",
           "width": 2
          },
          "type": "line",
          "x0": 51,
          "x1": 52,
          "xref": "x",
          "y0": 12.827746748924255,
          "y1": 13.227730333805084,
          "yref": "y"
         },
         {
          "line": {
           "color": "#023e8a",
           "width": 2
          },
          "type": "line",
          "x0": 52,
          "x1": 53,
          "xref": "x",
          "y0": 13.227730333805084,
          "y1": 13.518743395805359,
          "yref": "y"
         },
         {
          "line": {
           "color": "#023e8a",
           "width": 2
          },
          "type": "line",
          "x0": 53,
          "x1": 54,
          "xref": "x",
          "y0": 13.518743395805359,
          "y1": 13.889017343521118,
          "yref": "y"
         },
         {
          "line": {
           "color": "#c1121f",
           "width": 2
          },
          "type": "line",
          "x0": 1,
          "x1": 2,
          "xref": "x",
          "y0": 0,
          "y1": -0.04485058784484863,
          "yref": "y"
         },
         {
          "line": {
           "color": "#c1121f",
           "width": 2
          },
          "type": "line",
          "x0": 5,
          "x1": 6,
          "xref": "x",
          "y0": 0.5983546376228333,
          "y1": 0.4705108404159546,
          "yref": "y"
         },
         {
          "line": {
           "color": "#c1121f",
           "width": 2
          },
          "type": "line",
          "x0": 9,
          "x1": 10,
          "xref": "x",
          "y0": 0.7619868516921997,
          "y1": 1.0524750351905823,
          "yref": "y"
         },
         {
          "line": {
           "color": "#c1121f",
           "width": 2
          },
          "type": "line",
          "x0": 12,
          "x1": 13,
          "xref": "x",
          "y0": 1.0524750351905823,
          "y1": 1.4853786826133728,
          "yref": "y"
         },
         {
          "line": {
           "color": "#c1121f",
           "width": 2
          },
          "type": "line",
          "x0": 15,
          "x1": 16,
          "xref": "x",
          "y0": 1.8701753616333008,
          "y1": 2.1950547099113464,
          "yref": "y"
         },
         {
          "line": {
           "color": "#c1121f",
           "width": 2
          },
          "type": "line",
          "x0": 19,
          "x1": 20,
          "xref": "x",
          "y0": 2.904731333255768,
          "y1": 3.2080482840538025,
          "yref": "y"
         },
         {
          "line": {
           "color": "#c1121f",
           "width": 2
          },
          "type": "line",
          "x0": 23,
          "x1": 24,
          "xref": "x",
          "y0": 3.9409595727920532,
          "y1": 4.272970020771027,
          "yref": "y"
         },
         {
          "line": {
           "color": "#c1121f",
           "width": 2
          },
          "type": "line",
          "x0": 27,
          "x1": 28,
          "xref": "x",
          "y0": 4.920133411884308,
          "y1": 5.29821240901947,
          "yref": "y"
         },
         {
          "line": {
           "color": "#c1121f",
           "width": 2
          },
          "type": "line",
          "x0": 31,
          "x1": 32,
          "xref": "x",
          "y0": 6.101530432701111,
          "y1": 6.629636287689209,
          "yref": "y"
         },
         {
          "line": {
           "color": "#c1121f",
           "width": 2
          },
          "type": "line",
          "x0": 36,
          "x1": 37,
          "xref": "x",
          "y0": 8.010912716388702,
          "y1": 9.713129758834839,
          "yref": "y"
         },
         {
          "line": {
           "color": "#9d4edd",
           "width": 2
          },
          "type": "line",
          "x0": 39,
          "x1": 40,
          "xref": "x",
          "y0": 11.037261843681335,
          "y1": 9.43775349855423,
          "yref": "y"
         },
         {
          "line": {
           "color": "#9d4edd",
           "width": 2
          },
          "type": "line",
          "x0": 42,
          "x1": 43,
          "xref": "x",
          "y0": 9.43775349855423,
          "y1": 9.44960343837738,
          "yref": "y"
         }
        ],
        "showlegend": true,
        "template": {
         "data": {
          "bar": [
           {
            "error_x": {
             "color": "#2a3f5f"
            },
            "error_y": {
             "color": "#2a3f5f"
            },
            "marker": {
             "line": {
              "color": "#E5ECF6",
              "width": 0.5
             },
             "pattern": {
              "fillmode": "overlay",
              "size": 10,
              "solidity": 0.2
             }
            },
            "type": "bar"
           }
          ],
          "barpolar": [
           {
            "marker": {
             "line": {
              "color": "#E5ECF6",
              "width": 0.5
             },
             "pattern": {
              "fillmode": "overlay",
              "size": 10,
              "solidity": 0.2
             }
            },
            "type": "barpolar"
           }
          ],
          "carpet": [
           {
            "aaxis": {
             "endlinecolor": "#2a3f5f",
             "gridcolor": "white",
             "linecolor": "white",
             "minorgridcolor": "white",
             "startlinecolor": "#2a3f5f"
            },
            "baxis": {
             "endlinecolor": "#2a3f5f",
             "gridcolor": "white",
             "linecolor": "white",
             "minorgridcolor": "white",
             "startlinecolor": "#2a3f5f"
            },
            "type": "carpet"
           }
          ],
          "choropleth": [
           {
            "colorbar": {
             "outlinewidth": 0,
             "ticks": ""
            },
            "type": "choropleth"
           }
          ],
          "contour": [
           {
            "colorbar": {
             "outlinewidth": 0,
             "ticks": ""
            },
            "colorscale": [
             [
              0,
              "#0d0887"
             ],
             [
              0.1111111111111111,
              "#46039f"
             ],
             [
              0.2222222222222222,
              "#7201a8"
             ],
             [
              0.3333333333333333,
              "#9c179e"
             ],
             [
              0.4444444444444444,
              "#bd3786"
             ],
             [
              0.5555555555555556,
              "#d8576b"
             ],
             [
              0.6666666666666666,
              "#ed7953"
             ],
             [
              0.7777777777777778,
              "#fb9f3a"
             ],
             [
              0.8888888888888888,
              "#fdca26"
             ],
             [
              1,
              "#f0f921"
             ]
            ],
            "type": "contour"
           }
          ],
          "contourcarpet": [
           {
            "colorbar": {
             "outlinewidth": 0,
             "ticks": ""
            },
            "type": "contourcarpet"
           }
          ],
          "heatmap": [
           {
            "colorbar": {
             "outlinewidth": 0,
             "ticks": ""
            },
            "colorscale": [
             [
              0,
              "#0d0887"
             ],
             [
              0.1111111111111111,
              "#46039f"
             ],
             [
              0.2222222222222222,
              "#7201a8"
             ],
             [
              0.3333333333333333,
              "#9c179e"
             ],
             [
              0.4444444444444444,
              "#bd3786"
             ],
             [
              0.5555555555555556,
              "#d8576b"
             ],
             [
              0.6666666666666666,
              "#ed7953"
             ],
             [
              0.7777777777777778,
              "#fb9f3a"
             ],
             [
              0.8888888888888888,
              "#fdca26"
             ],
             [
              1,
              "#f0f921"
             ]
            ],
            "type": "heatmap"
           }
          ],
          "histogram": [
           {
            "marker": {
             "pattern": {
              "fillmode": "overlay",
              "size": 10,
              "solidity": 0.2
             }
            },
            "type": "histogram"
           }
          ],
          "histogram2d": [
           {
            "colorbar": {
             "outlinewidth": 0,
             "ticks": ""
            },
            "colorscale": [
             [
              0,
              "#0d0887"
             ],
             [
              0.1111111111111111,
              "#46039f"
             ],
             [
              0.2222222222222222,
              "#7201a8"
             ],
             [
              0.3333333333333333,
              "#9c179e"
             ],
             [
              0.4444444444444444,
              "#bd3786"
             ],
             [
              0.5555555555555556,
              "#d8576b"
             ],
             [
              0.6666666666666666,
              "#ed7953"
             ],
             [
              0.7777777777777778,
              "#fb9f3a"
             ],
             [
              0.8888888888888888,
              "#fdca26"
             ],
             [
              1,
              "#f0f921"
             ]
            ],
            "type": "histogram2d"
           }
          ],
          "histogram2dcontour": [
           {
            "colorbar": {
             "outlinewidth": 0,
             "ticks": ""
            },
            "colorscale": [
             [
              0,
              "#0d0887"
             ],
             [
              0.1111111111111111,
              "#46039f"
             ],
             [
              0.2222222222222222,
              "#7201a8"
             ],
             [
              0.3333333333333333,
              "#9c179e"
             ],
             [
              0.4444444444444444,
              "#bd3786"
             ],
             [
              0.5555555555555556,
              "#d8576b"
             ],
             [
              0.6666666666666666,
              "#ed7953"
             ],
             [
              0.7777777777777778,
              "#fb9f3a"
             ],
             [
              0.8888888888888888,
              "#fdca26"
             ],
             [
              1,
              "#f0f921"
             ]
            ],
            "type": "histogram2dcontour"
           }
          ],
          "mesh3d": [
           {
            "colorbar": {
             "outlinewidth": 0,
             "ticks": ""
            },
            "type": "mesh3d"
           }
          ],
          "parcoords": [
           {
            "line": {
             "colorbar": {
              "outlinewidth": 0,
              "ticks": ""
             }
            },
            "type": "parcoords"
           }
          ],
          "pie": [
           {
            "automargin": true,
            "type": "pie"
           }
          ],
          "scatter": [
           {
            "fillpattern": {
             "fillmode": "overlay",
             "size": 10,
             "solidity": 0.2
            },
            "type": "scatter"
           }
          ],
          "scatter3d": [
           {
            "line": {
             "colorbar": {
              "outlinewidth": 0,
              "ticks": ""
             }
            },
            "marker": {
             "colorbar": {
              "outlinewidth": 0,
              "ticks": ""
             }
            },
            "type": "scatter3d"
           }
          ],
          "scattercarpet": [
           {
            "marker": {
             "colorbar": {
              "outlinewidth": 0,
              "ticks": ""
             }
            },
            "type": "scattercarpet"
           }
          ],
          "scattergeo": [
           {
            "marker": {
             "colorbar": {
              "outlinewidth": 0,
              "ticks": ""
             }
            },
            "type": "scattergeo"
           }
          ],
          "scattergl": [
           {
            "marker": {
             "colorbar": {
              "outlinewidth": 0,
              "ticks": ""
             }
            },
            "type": "scattergl"
           }
          ],
          "scattermap": [
           {
            "marker": {
             "colorbar": {
              "outlinewidth": 0,
              "ticks": ""
             }
            },
            "type": "scattermap"
           }
          ],
          "scattermapbox": [
           {
            "marker": {
             "colorbar": {
              "outlinewidth": 0,
              "ticks": ""
             }
            },
            "type": "scattermapbox"
           }
          ],
          "scatterpolar": [
           {
            "marker": {
             "colorbar": {
              "outlinewidth": 0,
              "ticks": ""
             }
            },
            "type": "scatterpolar"
           }
          ],
          "scatterpolargl": [
           {
            "marker": {
             "colorbar": {
              "outlinewidth": 0,
              "ticks": ""
             }
            },
            "type": "scatterpolargl"
           }
          ],
          "scatterternary": [
           {
            "marker": {
             "colorbar": {
              "outlinewidth": 0,
              "ticks": ""
             }
            },
            "type": "scatterternary"
           }
          ],
          "surface": [
           {
            "colorbar": {
             "outlinewidth": 0,
             "ticks": ""
            },
            "colorscale": [
             [
              0,
              "#0d0887"
             ],
             [
              0.1111111111111111,
              "#46039f"
             ],
             [
              0.2222222222222222,
              "#7201a8"
             ],
             [
              0.3333333333333333,
              "#9c179e"
             ],
             [
              0.4444444444444444,
              "#bd3786"
             ],
             [
              0.5555555555555556,
              "#d8576b"
             ],
             [
              0.6666666666666666,
              "#ed7953"
             ],
             [
              0.7777777777777778,
              "#fb9f3a"
             ],
             [
              0.8888888888888888,
              "#fdca26"
             ],
             [
              1,
              "#f0f921"
             ]
            ],
            "type": "surface"
           }
          ],
          "table": [
           {
            "cells": {
             "fill": {
              "color": "#EBF0F8"
             },
             "line": {
              "color": "white"
             }
            },
            "header": {
             "fill": {
              "color": "#C8D4E3"
             },
             "line": {
              "color": "white"
             }
            },
            "type": "table"
           }
          ]
         },
         "layout": {
          "annotationdefaults": {
           "arrowcolor": "#2a3f5f",
           "arrowhead": 0,
           "arrowwidth": 1
          },
          "autotypenumbers": "strict",
          "coloraxis": {
           "colorbar": {
            "outlinewidth": 0,
            "ticks": ""
           }
          },
          "colorscale": {
           "diverging": [
            [
             0,
             "#8e0152"
            ],
            [
             0.1,
             "#c51b7d"
            ],
            [
             0.2,
             "#de77ae"
            ],
            [
             0.3,
             "#f1b6da"
            ],
            [
             0.4,
             "#fde0ef"
            ],
            [
             0.5,
             "#f7f7f7"
            ],
            [
             0.6,
             "#e6f5d0"
            ],
            [
             0.7,
             "#b8e186"
            ],
            [
             0.8,
             "#7fbc41"
            ],
            [
             0.9,
             "#4d9221"
            ],
            [
             1,
             "#276419"
            ]
           ],
           "sequential": [
            [
             0,
             "#0d0887"
            ],
            [
             0.1111111111111111,
             "#46039f"
            ],
            [
             0.2222222222222222,
             "#7201a8"
            ],
            [
             0.3333333333333333,
             "#9c179e"
            ],
            [
             0.4444444444444444,
             "#bd3786"
            ],
            [
             0.5555555555555556,
             "#d8576b"
            ],
            [
             0.6666666666666666,
             "#ed7953"
            ],
            [
             0.7777777777777778,
             "#fb9f3a"
            ],
            [
             0.8888888888888888,
             "#fdca26"
            ],
            [
             1,
             "#f0f921"
            ]
           ],
           "sequentialminus": [
            [
             0,
             "#0d0887"
            ],
            [
             0.1111111111111111,
             "#46039f"
            ],
            [
             0.2222222222222222,
             "#7201a8"
            ],
            [
             0.3333333333333333,
             "#9c179e"
            ],
            [
             0.4444444444444444,
             "#bd3786"
            ],
            [
             0.5555555555555556,
             "#d8576b"
            ],
            [
             0.6666666666666666,
             "#ed7953"
            ],
            [
             0.7777777777777778,
             "#fb9f3a"
            ],
            [
             0.8888888888888888,
             "#fdca26"
            ],
            [
             1,
             "#f0f921"
            ]
           ]
          },
          "colorway": [
           "#636efa",
           "#EF553B",
           "#00cc96",
           "#ab63fa",
           "#FFA15A",
           "#19d3f3",
           "#FF6692",
           "#B6E880",
           "#FF97FF",
           "#FECB52"
          ],
          "font": {
           "color": "#2a3f5f"
          },
          "geo": {
           "bgcolor": "white",
           "lakecolor": "white",
           "landcolor": "#E5ECF6",
           "showlakes": true,
           "showland": true,
           "subunitcolor": "white"
          },
          "hoverlabel": {
           "align": "left"
          },
          "hovermode": "closest",
          "mapbox": {
           "style": "light"
          },
          "paper_bgcolor": "white",
          "plot_bgcolor": "#E5ECF6",
          "polar": {
           "angularaxis": {
            "gridcolor": "white",
            "linecolor": "white",
            "ticks": ""
           },
           "bgcolor": "#E5ECF6",
           "radialaxis": {
            "gridcolor": "white",
            "linecolor": "white",
            "ticks": ""
           }
          },
          "scene": {
           "xaxis": {
            "backgroundcolor": "#E5ECF6",
            "gridcolor": "white",
            "gridwidth": 2,
            "linecolor": "white",
            "showbackground": true,
            "ticks": "",
            "zerolinecolor": "white"
           },
           "yaxis": {
            "backgroundcolor": "#E5ECF6",
            "gridcolor": "white",
            "gridwidth": 2,
            "linecolor": "white",
            "showbackground": true,
            "ticks": "",
            "zerolinecolor": "white"
           },
           "zaxis": {
            "backgroundcolor": "#E5ECF6",
            "gridcolor": "white",
            "gridwidth": 2,
            "linecolor": "white",
            "showbackground": true,
            "ticks": "",
            "zerolinecolor": "white"
           }
          },
          "shapedefaults": {
           "line": {
            "color": "#2a3f5f"
           }
          },
          "ternary": {
           "aaxis": {
            "gridcolor": "white",
            "linecolor": "white",
            "ticks": ""
           },
           "baxis": {
            "gridcolor": "white",
            "linecolor": "white",
            "ticks": ""
           },
           "bgcolor": "#E5ECF6",
           "caxis": {
            "gridcolor": "white",
            "linecolor": "white",
            "ticks": ""
           }
          },
          "title": {
           "x": 0.05
          },
          "xaxis": {
           "automargin": true,
           "gridcolor": "white",
           "linecolor": "white",
           "ticks": "",
           "title": {
            "standoff": 15
           },
           "zerolinecolor": "white",
           "zerolinewidth": 2
          },
          "yaxis": {
           "automargin": true,
           "gridcolor": "white",
           "linecolor": "white",
           "ticks": "",
           "title": {
            "standoff": 15
           },
           "zerolinecolor": "white",
           "zerolinewidth": 2
          }
         }
        },
        "title": {
         "text": "Semantic Expansion over Writing Sessions<br><span style=\"font-size: 12px;\">*Measuring how well humans are learning while writing with GenAI</span>"
        },
        "width": 1600,
        "xaxis": {
         "anchor": "y",
         "domain": [
          0,
          1
         ],
         "gridcolor": "white",
         "linecolor": "black",
         "mirror": false,
         "range": [
          -1,
          55
         ],
         "showline": true,
         "ticks": "outside",
         "title": {
          "text": "Progress into the writing session"
         }
        },
        "yaxis": {
         "anchor": "x",
         "domain": [
          0,
          1
         ],
         "gridcolor": "white",
         "linecolor": "black",
         "mirror": false,
         "showline": true,
         "ticks": "outside",
         "title": {
          "text": "Scores"
         }
        }
       }
      }
     },
     "metadata": {},
     "output_type": "display_data"
    },
    {
     "name": "stdout",
     "output_type": "stream",
     "text": [
      "legislation_antitrust_7\n"
     ]
    },
    {
     "data": {
      "application/vnd.plotly.v1+json": {
       "config": {
        "plotlyServerURL": "https://plot.ly"
       },
       "data": [
        {
         "line": {
          "color": "#64B5F6",
          "width": 2
         },
         "mode": "lines",
         "name": "human_insert_backstage",
         "showlegend": true,
         "type": "scatter",
         "x": [
          null
         ],
         "xaxis": "x",
         "y": [
          null
         ],
         "yaxis": "y"
        },
        {
         "line": {
          "color": "#ff8fab",
          "width": 2
         },
         "mode": "lines",
         "name": "ai_suggest_backstage",
         "showlegend": true,
         "type": "scatter",
         "x": [
          null
         ],
         "xaxis": "x",
         "y": [
          null
         ],
         "yaxis": "y"
        },
        {
         "line": {
          "color": "#023e8a",
          "width": 2
         },
         "mode": "lines",
         "name": "human_insert_frontstage",
         "showlegend": true,
         "type": "scatter",
         "x": [
          null
         ],
         "xaxis": "x",
         "y": [
          null
         ],
         "yaxis": "y"
        },
        {
         "line": {
          "color": "#c1121f",
          "width": 2
         },
         "mode": "lines",
         "name": "ai_insert_moved_to_frontstage",
         "showlegend": true,
         "type": "scatter",
         "x": [
          null
         ],
         "xaxis": "x",
         "y": [
          null
         ],
         "yaxis": "y"
        },
        {
         "line": {
          "color": "#9d4edd",
          "width": 2
         },
         "mode": "lines",
         "name": "human_delete_frontstage",
         "showlegend": true,
         "type": "scatter",
         "x": [
          null
         ],
         "xaxis": "x",
         "y": [
          null
         ],
         "yaxis": "y"
        },
        {
         "line": {
          "color": "#5a189a",
          "width": 2
         },
         "mode": "lines",
         "name": "human_insert_edit_frontstage",
         "showlegend": true,
         "type": "scatter",
         "x": [
          null
         ],
         "xaxis": "x",
         "y": [
          null
         ],
         "yaxis": "y"
        }
       ],
       "layout": {
        "annotations": [
         {
          "font": {
           "size": 16
          },
          "showarrow": false,
          "text": "Session: legislation_antitrust_7",
          "x": 0.5,
          "xanchor": "center",
          "xref": "paper",
          "y": 1,
          "yanchor": "bottom",
          "yref": "paper"
         }
        ],
        "height": 500,
        "legend": {
         "title": {
          "font": {
           "color": "rgba(0, 0, 0, 0)"
          }
         }
        },
        "plot_bgcolor": "white",
        "shapes": [
         {
          "line": {
           "color": "#64B5F6",
           "width": 2
          },
          "type": "line",
          "x0": 0,
          "x1": 0,
          "xref": "x",
          "y0": 0,
          "y1": 0.3089492917060852,
          "yref": "y"
         },
         {
          "line": {
           "color": "#64B5F6",
           "width": 2
          },
          "type": "line",
          "x0": 1,
          "x1": 2,
          "xref": "x",
          "y0": 0.6777033686637879,
          "y1": 1.1238916993141175,
          "yref": "y"
         },
         {
          "line": {
           "color": "#64B5F6",
           "width": 2
          },
          "type": "line",
          "x0": 3,
          "x1": 4,
          "xref": "x",
          "y0": 1.6337190508842467,
          "y1": 2.2308888673782348,
          "yref": "y"
         },
         {
          "line": {
           "color": "#64B5F6",
           "width": 2
          },
          "type": "line",
          "x0": 5,
          "x1": 6,
          "xref": "x",
          "y0": 2.8484438419342037,
          "y1": 3.3772824168205258,
          "yref": "y"
         },
         {
          "line": {
           "color": "#64B5F6",
           "width": 2
          },
          "type": "line",
          "x0": 7,
          "x1": 8,
          "xref": "x",
          "y0": 3.9112426280975336,
          "y1": 4.160428667068481,
          "yref": "y"
         },
         {
          "line": {
           "color": "#64B5F6",
           "width": 2
          },
          "type": "line",
          "x0": 9,
          "x1": 10,
          "xref": "x",
          "y0": 5.18352825641632,
          "y1": 5.658097398281097,
          "yref": "y"
         },
         {
          "line": {
           "color": "#64B5F6",
           "width": 2
          },
          "type": "line",
          "x0": 11,
          "x1": 12,
          "xref": "x",
          "y0": 6.240273988246917,
          "y1": 6.8136496305465695,
          "yref": "y"
         },
         {
          "line": {
           "color": "#64B5F6",
           "width": 2
          },
          "type": "line",
          "x0": 13,
          "x1": 14,
          "xref": "x",
          "y0": 7.423464167118072,
          "y1": 7.92931352853775,
          "yref": "y"
         },
         {
          "line": {
           "color": "#64B5F6",
           "width": 2
          },
          "type": "line",
          "x0": 15,
          "x1": 16,
          "xref": "x",
          "y0": 8.549893569946288,
          "y1": 9.12125391960144,
          "yref": "y"
         },
         {
          "line": {
           "color": "#64B5F6",
           "width": 2
          },
          "type": "line",
          "x0": 17,
          "x1": 18,
          "xref": "x",
          "y0": 9.773745000362396,
          "y1": 10.267758905887604,
          "yref": "y"
         },
         {
          "line": {
           "color": "#64B5F6",
           "width": 2
          },
          "type": "line",
          "x0": 19,
          "x1": 20,
          "xref": "x",
          "y0": 10.809394931793213,
          "y1": 11.285063540935516,
          "yref": "y"
         },
         {
          "line": {
           "color": "#64B5F6",
           "width": 2
          },
          "type": "line",
          "x0": 21,
          "x1": 22,
          "xref": "x",
          "y0": 11.808306694030762,
          "y1": 12.300052523612976,
          "yref": "y"
         },
         {
          "line": {
           "color": "#64B5F6",
           "width": 2
          },
          "type": "line",
          "x0": 23,
          "x1": 24,
          "xref": "x",
          "y0": 14.214599788188934,
          "y1": 14.7465860247612,
          "yref": "y"
         },
         {
          "line": {
           "color": "#64B5F6",
           "width": 2
          },
          "type": "line",
          "x0": 25,
          "x1": 26,
          "xref": "x",
          "y0": 15.329093515872955,
          "y1": 15.657860338687897,
          "yref": "y"
         },
         {
          "line": {
           "color": "#64B5F6",
           "width": 2
          },
          "type": "line",
          "x0": 27,
          "x1": 28,
          "xref": "x",
          "y0": 16.04477987289429,
          "y1": 16.452955460548402,
          "yref": "y"
         },
         {
          "line": {
           "color": "#64B5F6",
           "width": 2
          },
          "type": "line",
          "x0": 29,
          "x1": 30,
          "xref": "x",
          "y0": 16.910674357414248,
          "y1": 17.443939232826235,
          "yref": "y"
         },
         {
          "line": {
           "color": "#64B5F6",
           "width": 2
          },
          "type": "line",
          "x0": 31,
          "x1": 32,
          "xref": "x",
          "y0": 18.034433150291445,
          "y1": 18.786424064636233,
          "yref": "y"
         },
         {
          "line": {
           "color": "#64B5F6",
           "width": 2
          },
          "type": "line",
          "x0": 33,
          "x1": 34,
          "xref": "x",
          "y0": 19.299398314952853,
          "y1": 19.6919570684433,
          "yref": "y"
         },
         {
          "line": {
           "color": "#64B5F6",
           "width": 2
          },
          "type": "line",
          "x0": 35,
          "x1": 36,
          "xref": "x",
          "y0": 20.10808919668198,
          "y1": 20.69935559034348,
          "yref": "y"
         },
         {
          "line": {
           "color": "#64B5F6",
           "width": 2
          },
          "type": "line",
          "x0": 37,
          "x1": 38,
          "xref": "x",
          "y0": 21.386376559734348,
          "y1": 22.15486425161362,
          "yref": "y"
         },
         {
          "line": {
           "color": "#64B5F6",
           "width": 2
          },
          "type": "line",
          "x0": 39,
          "x1": 40,
          "xref": "x",
          "y0": 22.896586823463444,
          "y1": 23.144948530197148,
          "yref": "y"
         },
         {
          "line": {
           "color": "#64B5F6",
           "width": 2
          },
          "type": "line",
          "x0": 41,
          "x1": 42,
          "xref": "x",
          "y0": 23.4608632683754,
          "y1": 24.210506236553197,
          "yref": "y"
         },
         {
          "line": {
           "color": "#64B5F6",
           "width": 2
          },
          "type": "line",
          "x0": 46,
          "x1": 47,
          "xref": "x",
          "y0": 0.5434914231300354,
          "y1": 1.1729240417480469,
          "yref": "y"
         },
         {
          "line": {
           "color": "#64B5F6",
           "width": 2
          },
          "type": "line",
          "x0": 49,
          "x1": 50,
          "xref": "x",
          "y0": 1.1253145933151245,
          "y1": 1.7305721044540405,
          "yref": "y"
         },
         {
          "line": {
           "color": "#64B5F6",
           "width": 2
          },
          "type": "line",
          "x0": 52,
          "x1": 53,
          "xref": "x",
          "y0": 1.4694432020187378,
          "y1": 2.0884779691696167,
          "yref": "y"
         },
         {
          "line": {
           "color": "#64B5F6",
           "width": 2
          },
          "type": "line",
          "x0": 58,
          "x1": 59,
          "xref": "x",
          "y0": 2.702624261379242,
          "y1": 3.246833384037018,
          "yref": "y"
         },
         {
          "line": {
           "color": "#64B5F6",
           "width": 2
          },
          "type": "line",
          "x0": 60,
          "x1": 61,
          "xref": "x",
          "y0": 3.579184150695801,
          "y1": 4.370515084266662,
          "yref": "y"
         },
         {
          "line": {
           "color": "#64B5F6",
           "width": 2
          },
          "type": "line",
          "x0": 68,
          "x1": 69,
          "xref": "x",
          "y0": 11.868550479412079,
          "y1": 8.962966740131378,
          "yref": "y"
         },
         {
          "line": {
           "color": "#64B5F6",
           "width": 2
          },
          "type": "line",
          "x0": 72,
          "x1": 73,
          "xref": "x",
          "y0": 12.454150557518005,
          "y1": 12.781101703643799,
          "yref": "y"
         },
         {
          "line": {
           "color": "#64B5F6",
           "width": 2
          },
          "type": "line",
          "x0": 74,
          "x1": 75,
          "xref": "x",
          "y0": 13.50219910144806,
          "y1": 13.829150247573853,
          "yref": "y"
         },
         {
          "line": {
           "color": "#ff8fab",
           "width": 2
          },
          "type": "line",
          "x0": 0,
          "x1": 1,
          "xref": "x",
          "y0": 0.3089492917060852,
          "y1": 0.6777033686637879,
          "yref": "y"
         },
         {
          "line": {
           "color": "#ff8fab",
           "width": 2
          },
          "type": "line",
          "x0": 2,
          "x1": 3,
          "xref": "x",
          "y0": 1.1238916993141175,
          "y1": 1.6337190508842467,
          "yref": "y"
         },
         {
          "line": {
           "color": "#ff8fab",
           "width": 2
          },
          "type": "line",
          "x0": 4,
          "x1": 5,
          "xref": "x",
          "y0": 2.2308888673782348,
          "y1": 2.8484438419342037,
          "yref": "y"
         },
         {
          "line": {
           "color": "#ff8fab",
           "width": 2
          },
          "type": "line",
          "x0": 6,
          "x1": 7,
          "xref": "x",
          "y0": 3.3772824168205258,
          "y1": 3.9112426280975336,
          "yref": "y"
         },
         {
          "line": {
           "color": "#ff8fab",
           "width": 2
          },
          "type": "line",
          "x0": 8,
          "x1": 9,
          "xref": "x",
          "y0": 4.160428667068481,
          "y1": 5.18352825641632,
          "yref": "y"
         },
         {
          "line": {
           "color": "#ff8fab",
           "width": 2
          },
          "type": "line",
          "x0": 10,
          "x1": 11,
          "xref": "x",
          "y0": 5.658097398281097,
          "y1": 6.240273988246917,
          "yref": "y"
         },
         {
          "line": {
           "color": "#ff8fab",
           "width": 2
          },
          "type": "line",
          "x0": 12,
          "x1": 13,
          "xref": "x",
          "y0": 6.8136496305465695,
          "y1": 7.423464167118072,
          "yref": "y"
         },
         {
          "line": {
           "color": "#ff8fab",
           "width": 2
          },
          "type": "line",
          "x0": 14,
          "x1": 15,
          "xref": "x",
          "y0": 7.92931352853775,
          "y1": 8.549893569946288,
          "yref": "y"
         },
         {
          "line": {
           "color": "#ff8fab",
           "width": 2
          },
          "type": "line",
          "x0": 16,
          "x1": 17,
          "xref": "x",
          "y0": 9.12125391960144,
          "y1": 9.773745000362396,
          "yref": "y"
         },
         {
          "line": {
           "color": "#ff8fab",
           "width": 2
          },
          "type": "line",
          "x0": 18,
          "x1": 19,
          "xref": "x",
          "y0": 10.267758905887604,
          "y1": 10.809394931793213,
          "yref": "y"
         },
         {
          "line": {
           "color": "#ff8fab",
           "width": 2
          },
          "type": "line",
          "x0": 20,
          "x1": 21,
          "xref": "x",
          "y0": 11.285063540935516,
          "y1": 11.808306694030762,
          "yref": "y"
         },
         {
          "line": {
           "color": "#ff8fab",
           "width": 2
          },
          "type": "line",
          "x0": 22,
          "x1": 23,
          "xref": "x",
          "y0": 12.300052523612976,
          "y1": 14.214599788188934,
          "yref": "y"
         },
         {
          "line": {
           "color": "#ff8fab",
           "width": 2
          },
          "type": "line",
          "x0": 24,
          "x1": 25,
          "xref": "x",
          "y0": 14.7465860247612,
          "y1": 15.329093515872955,
          "yref": "y"
         },
         {
          "line": {
           "color": "#ff8fab",
           "width": 2
          },
          "type": "line",
          "x0": 26,
          "x1": 27,
          "xref": "x",
          "y0": 15.657860338687897,
          "y1": 16.04477987289429,
          "yref": "y"
         },
         {
          "line": {
           "color": "#ff8fab",
           "width": 2
          },
          "type": "line",
          "x0": 28,
          "x1": 29,
          "xref": "x",
          "y0": 16.452955460548402,
          "y1": 16.910674357414248,
          "yref": "y"
         },
         {
          "line": {
           "color": "#ff8fab",
           "width": 2
          },
          "type": "line",
          "x0": 30,
          "x1": 31,
          "xref": "x",
          "y0": 17.443939232826235,
          "y1": 18.034433150291445,
          "yref": "y"
         },
         {
          "line": {
           "color": "#ff8fab",
           "width": 2
          },
          "type": "line",
          "x0": 32,
          "x1": 33,
          "xref": "x",
          "y0": 18.786424064636233,
          "y1": 19.299398314952853,
          "yref": "y"
         },
         {
          "line": {
           "color": "#ff8fab",
           "width": 2
          },
          "type": "line",
          "x0": 34,
          "x1": 35,
          "xref": "x",
          "y0": 19.6919570684433,
          "y1": 20.10808919668198,
          "yref": "y"
         },
         {
          "line": {
           "color": "#ff8fab",
           "width": 2
          },
          "type": "line",
          "x0": 36,
          "x1": 37,
          "xref": "x",
          "y0": 20.69935559034348,
          "y1": 21.386376559734348,
          "yref": "y"
         },
         {
          "line": {
           "color": "#ff8fab",
           "width": 2
          },
          "type": "line",
          "x0": 38,
          "x1": 39,
          "xref": "x",
          "y0": 22.15486425161362,
          "y1": 22.896586823463444,
          "yref": "y"
         },
         {
          "line": {
           "color": "#ff8fab",
           "width": 2
          },
          "type": "line",
          "x0": 40,
          "x1": 41,
          "xref": "x",
          "y0": 23.144948530197148,
          "y1": 23.4608632683754,
          "yref": "y"
         },
         {
          "line": {
           "color": "#ff8fab",
           "width": 2
          },
          "type": "line",
          "x0": 42,
          "x1": 43,
          "xref": "x",
          "y0": 24.210506236553197,
          "y1": 24.87767341136933,
          "yref": "y"
         },
         {
          "line": {
           "color": "#ff8fab",
           "width": 2
          },
          "type": "line",
          "x0": 44,
          "x1": 45,
          "xref": "x",
          "y0": 0.6951720714569092,
          "y1": 1.2569772124290466,
          "yref": "y"
         },
         {
          "line": {
           "color": "#ff8fab",
           "width": 2
          },
          "type": "line",
          "x0": 47,
          "x1": 48,
          "xref": "x",
          "y0": 1.1729240417480469,
          "y1": 1.7257325887680053,
          "yref": "y"
         },
         {
          "line": {
           "color": "#ff8fab",
           "width": 2
          },
          "type": "line",
          "x0": 50,
          "x1": 51,
          "xref": "x",
          "y0": 1.7305721044540405,
          "y1": 2.388845908641815,
          "yref": "y"
         },
         {
          "line": {
           "color": "#ff8fab",
           "width": 2
          },
          "type": "line",
          "x0": 54,
          "x1": 55,
          "xref": "x",
          "y0": 1.7990753650665283,
          "y1": 2.300600528717041,
          "yref": "y"
         },
         {
          "line": {
           "color": "#ff8fab",
           "width": 2
          },
          "type": "line",
          "x0": 59,
          "x1": 60,
          "xref": "x",
          "y0": 3.246833384037018,
          "y1": 3.579184150695801,
          "yref": "y"
         },
         {
          "line": {
           "color": "#ff8fab",
           "width": 2
          },
          "type": "line",
          "x0": 61,
          "x1": 62,
          "xref": "x",
          "y0": 4.370515084266662,
          "y1": 5.165564167499542,
          "yref": "y"
         },
         {
          "line": {
           "color": "#ff8fab",
           "width": 2
          },
          "type": "line",
          "x0": 62,
          "x1": 63,
          "xref": "x",
          "y0": 5.165564167499543,
          "y1": 5.960916900634766,
          "yref": "y"
         },
         {
          "line": {
           "color": "#ff8fab",
           "width": 2
          },
          "type": "line",
          "x0": 69,
          "x1": 70,
          "xref": "x",
          "y0": 8.962966740131378,
          "y1": 9.649103879928589,
          "yref": "y"
         },
         {
          "line": {
           "color": "#ff8fab",
           "width": 2
          },
          "type": "line",
          "x0": 70,
          "x1": 71,
          "xref": "x",
          "y0": 9.649103879928589,
          "y1": 10.384821498394013,
          "yref": "y"
         },
         {
          "line": {
           "color": "#ff8fab",
           "width": 2
          },
          "type": "line",
          "x0": 73,
          "x1": 74,
          "xref": "x",
          "y0": 12.781101703643799,
          "y1": 13.50219910144806,
          "yref": "y"
         },
         {
          "line": {
           "color": "#023e8a",
           "width": 2
          },
          "type": "line",
          "x0": 43,
          "x1": 44,
          "xref": "x",
          "y0": 0,
          "y1": 0.6951720714569092,
          "yref": "y"
         },
         {
          "line": {
           "color": "#023e8a",
           "width": 2
          },
          "type": "line",
          "x0": 53,
          "x1": 54,
          "xref": "x",
          "y0": 1.4694432020187378,
          "y1": 1.7990753650665283,
          "yref": "y"
         },
         {
          "line": {
           "color": "#023e8a",
           "width": 2
          },
          "type": "line",
          "x0": 55,
          "x1": 56,
          "xref": "x",
          "y0": 1.7990753650665283,
          "y1": 2.1247888803482056,
          "yref": "y"
         },
         {
          "line": {
           "color": "#023e8a",
           "width": 2
          },
          "type": "line",
          "x0": 56,
          "x1": 57,
          "xref": "x",
          "y0": 2.1247888803482056,
          "y1": 2.57020503282547,
          "yref": "y"
         },
         {
          "line": {
           "color": "#023e8a",
           "width": 2
          },
          "type": "line",
          "x0": 57,
          "x1": 58,
          "xref": "x",
          "y0": 2.57020503282547,
          "y1": 2.702624261379242,
          "yref": "y"
         },
         {
          "line": {
           "color": "#023e8a",
           "width": 2
          },
          "type": "line",
          "x0": 64,
          "x1": 65,
          "xref": "x",
          "y0": 9.157453894615173,
          "y1": 9.87788861989975,
          "yref": "y"
         },
         {
          "line": {
           "color": "#023e8a",
           "width": 2
          },
          "type": "line",
          "x0": 65,
          "x1": 66,
          "xref": "x",
          "y0": 9.87788861989975,
          "y1": 10.509419739246368,
          "yref": "y"
         },
         {
          "line": {
           "color": "#023e8a",
           "width": 2
          },
          "type": "line",
          "x0": 66,
          "x1": 67,
          "xref": "x",
          "y0": 10.509419739246368,
          "y1": 11.263872683048248,
          "yref": "y"
         },
         {
          "line": {
           "color": "#023e8a",
           "width": 2
          },
          "type": "line",
          "x0": 67,
          "x1": 68,
          "xref": "x",
          "y0": 11.263872683048248,
          "y1": 11.868550479412079,
          "yref": "y"
         },
         {
          "line": {
           "color": "#023e8a",
           "width": 2
          },
          "type": "line",
          "x0": 76,
          "x1": 77,
          "xref": "x",
          "y0": 13.110848784446716,
          "y1": 13.579148054122925,
          "yref": "y"
         },
         {
          "line": {
           "color": "#023e8a",
           "width": 2
          },
          "type": "line",
          "x0": 77,
          "x1": 78,
          "xref": "x",
          "y0": 13.579148054122925,
          "y1": 14.14800250530243,
          "yref": "y"
         },
         {
          "line": {
           "color": "#023e8a",
           "width": 2
          },
          "type": "line",
          "x0": 78,
          "x1": 79,
          "xref": "x",
          "y0": 14.14800250530243,
          "y1": 14.85231363773346,
          "yref": "y"
         },
         {
          "line": {
           "color": "#023e8a",
           "width": 2
          },
          "type": "line",
          "x0": 79,
          "x1": 80,
          "xref": "x",
          "y0": 14.85231363773346,
          "y1": 15.480649471282959,
          "yref": "y"
         },
         {
          "line": {
           "color": "#023e8a",
           "width": 2
          },
          "type": "line",
          "x0": 80,
          "x1": 81,
          "xref": "x",
          "y0": 15.480649471282959,
          "y1": 16.134314239025116,
          "yref": "y"
         },
         {
          "line": {
           "color": "#c1121f",
           "width": 2
          },
          "type": "line",
          "x0": 45,
          "x1": 46,
          "xref": "x",
          "y0": 0.6951720714569092,
          "y1": 0.5434914231300354,
          "yref": "y"
         },
         {
          "line": {
           "color": "#c1121f",
           "width": 2
          },
          "type": "line",
          "x0": 48,
          "x1": 49,
          "xref": "x",
          "y0": 0.5434914231300354,
          "y1": 1.1253145933151245,
          "yref": "y"
         },
         {
          "line": {
           "color": "#c1121f",
           "width": 2
          },
          "type": "line",
          "x0": 51,
          "x1": 52,
          "xref": "x",
          "y0": 1.1253145933151245,
          "y1": 1.4694432020187378,
          "yref": "y"
         },
         {
          "line": {
           "color": "#c1121f",
           "width": 2
          },
          "type": "line",
          "x0": 63,
          "x1": 64,
          "xref": "x",
          "y0": 2.702624261379242,
          "y1": 9.157453894615173,
          "yref": "y"
         },
         {
          "line": {
           "color": "#9d4edd",
           "width": 2
          },
          "type": "line",
          "x0": 71,
          "x1": 72,
          "xref": "x",
          "y0": 11.868550479412079,
          "y1": 12.454150557518005,
          "yref": "y"
         },
         {
          "line": {
           "color": "#9d4edd",
           "width": 2
          },
          "type": "line",
          "x0": 75,
          "x1": 76,
          "xref": "x",
          "y0": 12.454150557518005,
          "y1": 13.110848784446716,
          "yref": "y"
         },
         {
          "line": {
           "color": "#9d4edd",
           "width": 2
          },
          "type": "line",
          "x0": 81,
          "x1": 82,
          "xref": "x",
          "y0": 16.134314239025116,
          "y1": 13.526105284690857,
          "yref": "y"
         }
        ],
        "showlegend": true,
        "template": {
         "data": {
          "bar": [
           {
            "error_x": {
             "color": "#2a3f5f"
            },
            "error_y": {
             "color": "#2a3f5f"
            },
            "marker": {
             "line": {
              "color": "#E5ECF6",
              "width": 0.5
             },
             "pattern": {
              "fillmode": "overlay",
              "size": 10,
              "solidity": 0.2
             }
            },
            "type": "bar"
           }
          ],
          "barpolar": [
           {
            "marker": {
             "line": {
              "color": "#E5ECF6",
              "width": 0.5
             },
             "pattern": {
              "fillmode": "overlay",
              "size": 10,
              "solidity": 0.2
             }
            },
            "type": "barpolar"
           }
          ],
          "carpet": [
           {
            "aaxis": {
             "endlinecolor": "#2a3f5f",
             "gridcolor": "white",
             "linecolor": "white",
             "minorgridcolor": "white",
             "startlinecolor": "#2a3f5f"
            },
            "baxis": {
             "endlinecolor": "#2a3f5f",
             "gridcolor": "white",
             "linecolor": "white",
             "minorgridcolor": "white",
             "startlinecolor": "#2a3f5f"
            },
            "type": "carpet"
           }
          ],
          "choropleth": [
           {
            "colorbar": {
             "outlinewidth": 0,
             "ticks": ""
            },
            "type": "choropleth"
           }
          ],
          "contour": [
           {
            "colorbar": {
             "outlinewidth": 0,
             "ticks": ""
            },
            "colorscale": [
             [
              0,
              "#0d0887"
             ],
             [
              0.1111111111111111,
              "#46039f"
             ],
             [
              0.2222222222222222,
              "#7201a8"
             ],
             [
              0.3333333333333333,
              "#9c179e"
             ],
             [
              0.4444444444444444,
              "#bd3786"
             ],
             [
              0.5555555555555556,
              "#d8576b"
             ],
             [
              0.6666666666666666,
              "#ed7953"
             ],
             [
              0.7777777777777778,
              "#fb9f3a"
             ],
             [
              0.8888888888888888,
              "#fdca26"
             ],
             [
              1,
              "#f0f921"
             ]
            ],
            "type": "contour"
           }
          ],
          "contourcarpet": [
           {
            "colorbar": {
             "outlinewidth": 0,
             "ticks": ""
            },
            "type": "contourcarpet"
           }
          ],
          "heatmap": [
           {
            "colorbar": {
             "outlinewidth": 0,
             "ticks": ""
            },
            "colorscale": [
             [
              0,
              "#0d0887"
             ],
             [
              0.1111111111111111,
              "#46039f"
             ],
             [
              0.2222222222222222,
              "#7201a8"
             ],
             [
              0.3333333333333333,
              "#9c179e"
             ],
             [
              0.4444444444444444,
              "#bd3786"
             ],
             [
              0.5555555555555556,
              "#d8576b"
             ],
             [
              0.6666666666666666,
              "#ed7953"
             ],
             [
              0.7777777777777778,
              "#fb9f3a"
             ],
             [
              0.8888888888888888,
              "#fdca26"
             ],
             [
              1,
              "#f0f921"
             ]
            ],
            "type": "heatmap"
           }
          ],
          "histogram": [
           {
            "marker": {
             "pattern": {
              "fillmode": "overlay",
              "size": 10,
              "solidity": 0.2
             }
            },
            "type": "histogram"
           }
          ],
          "histogram2d": [
           {
            "colorbar": {
             "outlinewidth": 0,
             "ticks": ""
            },
            "colorscale": [
             [
              0,
              "#0d0887"
             ],
             [
              0.1111111111111111,
              "#46039f"
             ],
             [
              0.2222222222222222,
              "#7201a8"
             ],
             [
              0.3333333333333333,
              "#9c179e"
             ],
             [
              0.4444444444444444,
              "#bd3786"
             ],
             [
              0.5555555555555556,
              "#d8576b"
             ],
             [
              0.6666666666666666,
              "#ed7953"
             ],
             [
              0.7777777777777778,
              "#fb9f3a"
             ],
             [
              0.8888888888888888,
              "#fdca26"
             ],
             [
              1,
              "#f0f921"
             ]
            ],
            "type": "histogram2d"
           }
          ],
          "histogram2dcontour": [
           {
            "colorbar": {
             "outlinewidth": 0,
             "ticks": ""
            },
            "colorscale": [
             [
              0,
              "#0d0887"
             ],
             [
              0.1111111111111111,
              "#46039f"
             ],
             [
              0.2222222222222222,
              "#7201a8"
             ],
             [
              0.3333333333333333,
              "#9c179e"
             ],
             [
              0.4444444444444444,
              "#bd3786"
             ],
             [
              0.5555555555555556,
              "#d8576b"
             ],
             [
              0.6666666666666666,
              "#ed7953"
             ],
             [
              0.7777777777777778,
              "#fb9f3a"
             ],
             [
              0.8888888888888888,
              "#fdca26"
             ],
             [
              1,
              "#f0f921"
             ]
            ],
            "type": "histogram2dcontour"
           }
          ],
          "mesh3d": [
           {
            "colorbar": {
             "outlinewidth": 0,
             "ticks": ""
            },
            "type": "mesh3d"
           }
          ],
          "parcoords": [
           {
            "line": {
             "colorbar": {
              "outlinewidth": 0,
              "ticks": ""
             }
            },
            "type": "parcoords"
           }
          ],
          "pie": [
           {
            "automargin": true,
            "type": "pie"
           }
          ],
          "scatter": [
           {
            "fillpattern": {
             "fillmode": "overlay",
             "size": 10,
             "solidity": 0.2
            },
            "type": "scatter"
           }
          ],
          "scatter3d": [
           {
            "line": {
             "colorbar": {
              "outlinewidth": 0,
              "ticks": ""
             }
            },
            "marker": {
             "colorbar": {
              "outlinewidth": 0,
              "ticks": ""
             }
            },
            "type": "scatter3d"
           }
          ],
          "scattercarpet": [
           {
            "marker": {
             "colorbar": {
              "outlinewidth": 0,
              "ticks": ""
             }
            },
            "type": "scattercarpet"
           }
          ],
          "scattergeo": [
           {
            "marker": {
             "colorbar": {
              "outlinewidth": 0,
              "ticks": ""
             }
            },
            "type": "scattergeo"
           }
          ],
          "scattergl": [
           {
            "marker": {
             "colorbar": {
              "outlinewidth": 0,
              "ticks": ""
             }
            },
            "type": "scattergl"
           }
          ],
          "scattermap": [
           {
            "marker": {
             "colorbar": {
              "outlinewidth": 0,
              "ticks": ""
             }
            },
            "type": "scattermap"
           }
          ],
          "scattermapbox": [
           {
            "marker": {
             "colorbar": {
              "outlinewidth": 0,
              "ticks": ""
             }
            },
            "type": "scattermapbox"
           }
          ],
          "scatterpolar": [
           {
            "marker": {
             "colorbar": {
              "outlinewidth": 0,
              "ticks": ""
             }
            },
            "type": "scatterpolar"
           }
          ],
          "scatterpolargl": [
           {
            "marker": {
             "colorbar": {
              "outlinewidth": 0,
              "ticks": ""
             }
            },
            "type": "scatterpolargl"
           }
          ],
          "scatterternary": [
           {
            "marker": {
             "colorbar": {
              "outlinewidth": 0,
              "ticks": ""
             }
            },
            "type": "scatterternary"
           }
          ],
          "surface": [
           {
            "colorbar": {
             "outlinewidth": 0,
             "ticks": ""
            },
            "colorscale": [
             [
              0,
              "#0d0887"
             ],
             [
              0.1111111111111111,
              "#46039f"
             ],
             [
              0.2222222222222222,
              "#7201a8"
             ],
             [
              0.3333333333333333,
              "#9c179e"
             ],
             [
              0.4444444444444444,
              "#bd3786"
             ],
             [
              0.5555555555555556,
              "#d8576b"
             ],
             [
              0.6666666666666666,
              "#ed7953"
             ],
             [
              0.7777777777777778,
              "#fb9f3a"
             ],
             [
              0.8888888888888888,
              "#fdca26"
             ],
             [
              1,
              "#f0f921"
             ]
            ],
            "type": "surface"
           }
          ],
          "table": [
           {
            "cells": {
             "fill": {
              "color": "#EBF0F8"
             },
             "line": {
              "color": "white"
             }
            },
            "header": {
             "fill": {
              "color": "#C8D4E3"
             },
             "line": {
              "color": "white"
             }
            },
            "type": "table"
           }
          ]
         },
         "layout": {
          "annotationdefaults": {
           "arrowcolor": "#2a3f5f",
           "arrowhead": 0,
           "arrowwidth": 1
          },
          "autotypenumbers": "strict",
          "coloraxis": {
           "colorbar": {
            "outlinewidth": 0,
            "ticks": ""
           }
          },
          "colorscale": {
           "diverging": [
            [
             0,
             "#8e0152"
            ],
            [
             0.1,
             "#c51b7d"
            ],
            [
             0.2,
             "#de77ae"
            ],
            [
             0.3,
             "#f1b6da"
            ],
            [
             0.4,
             "#fde0ef"
            ],
            [
             0.5,
             "#f7f7f7"
            ],
            [
             0.6,
             "#e6f5d0"
            ],
            [
             0.7,
             "#b8e186"
            ],
            [
             0.8,
             "#7fbc41"
            ],
            [
             0.9,
             "#4d9221"
            ],
            [
             1,
             "#276419"
            ]
           ],
           "sequential": [
            [
             0,
             "#0d0887"
            ],
            [
             0.1111111111111111,
             "#46039f"
            ],
            [
             0.2222222222222222,
             "#7201a8"
            ],
            [
             0.3333333333333333,
             "#9c179e"
            ],
            [
             0.4444444444444444,
             "#bd3786"
            ],
            [
             0.5555555555555556,
             "#d8576b"
            ],
            [
             0.6666666666666666,
             "#ed7953"
            ],
            [
             0.7777777777777778,
             "#fb9f3a"
            ],
            [
             0.8888888888888888,
             "#fdca26"
            ],
            [
             1,
             "#f0f921"
            ]
           ],
           "sequentialminus": [
            [
             0,
             "#0d0887"
            ],
            [
             0.1111111111111111,
             "#46039f"
            ],
            [
             0.2222222222222222,
             "#7201a8"
            ],
            [
             0.3333333333333333,
             "#9c179e"
            ],
            [
             0.4444444444444444,
             "#bd3786"
            ],
            [
             0.5555555555555556,
             "#d8576b"
            ],
            [
             0.6666666666666666,
             "#ed7953"
            ],
            [
             0.7777777777777778,
             "#fb9f3a"
            ],
            [
             0.8888888888888888,
             "#fdca26"
            ],
            [
             1,
             "#f0f921"
            ]
           ]
          },
          "colorway": [
           "#636efa",
           "#EF553B",
           "#00cc96",
           "#ab63fa",
           "#FFA15A",
           "#19d3f3",
           "#FF6692",
           "#B6E880",
           "#FF97FF",
           "#FECB52"
          ],
          "font": {
           "color": "#2a3f5f"
          },
          "geo": {
           "bgcolor": "white",
           "lakecolor": "white",
           "landcolor": "#E5ECF6",
           "showlakes": true,
           "showland": true,
           "subunitcolor": "white"
          },
          "hoverlabel": {
           "align": "left"
          },
          "hovermode": "closest",
          "mapbox": {
           "style": "light"
          },
          "paper_bgcolor": "white",
          "plot_bgcolor": "#E5ECF6",
          "polar": {
           "angularaxis": {
            "gridcolor": "white",
            "linecolor": "white",
            "ticks": ""
           },
           "bgcolor": "#E5ECF6",
           "radialaxis": {
            "gridcolor": "white",
            "linecolor": "white",
            "ticks": ""
           }
          },
          "scene": {
           "xaxis": {
            "backgroundcolor": "#E5ECF6",
            "gridcolor": "white",
            "gridwidth": 2,
            "linecolor": "white",
            "showbackground": true,
            "ticks": "",
            "zerolinecolor": "white"
           },
           "yaxis": {
            "backgroundcolor": "#E5ECF6",
            "gridcolor": "white",
            "gridwidth": 2,
            "linecolor": "white",
            "showbackground": true,
            "ticks": "",
            "zerolinecolor": "white"
           },
           "zaxis": {
            "backgroundcolor": "#E5ECF6",
            "gridcolor": "white",
            "gridwidth": 2,
            "linecolor": "white",
            "showbackground": true,
            "ticks": "",
            "zerolinecolor": "white"
           }
          },
          "shapedefaults": {
           "line": {
            "color": "#2a3f5f"
           }
          },
          "ternary": {
           "aaxis": {
            "gridcolor": "white",
            "linecolor": "white",
            "ticks": ""
           },
           "baxis": {
            "gridcolor": "white",
            "linecolor": "white",
            "ticks": ""
           },
           "bgcolor": "#E5ECF6",
           "caxis": {
            "gridcolor": "white",
            "linecolor": "white",
            "ticks": ""
           }
          },
          "title": {
           "x": 0.05
          },
          "xaxis": {
           "automargin": true,
           "gridcolor": "white",
           "linecolor": "white",
           "ticks": "",
           "title": {
            "standoff": 15
           },
           "zerolinecolor": "white",
           "zerolinewidth": 2
          },
          "yaxis": {
           "automargin": true,
           "gridcolor": "white",
           "linecolor": "white",
           "ticks": "",
           "title": {
            "standoff": 15
           },
           "zerolinecolor": "white",
           "zerolinewidth": 2
          }
         }
        },
        "title": {
         "text": "Semantic Expansion over Writing Sessions<br><span style=\"font-size: 12px;\">*Measuring how well humans are learning while writing with GenAI</span>"
        },
        "width": 1600,
        "xaxis": {
         "anchor": "y",
         "domain": [
          0,
          1
         ],
         "gridcolor": "white",
         "linecolor": "black",
         "mirror": false,
         "range": [
          -1,
          83
         ],
         "showline": true,
         "ticks": "outside",
         "title": {
          "text": "Progress into the writing session"
         }
        },
        "yaxis": {
         "anchor": "x",
         "domain": [
          0,
          1
         ],
         "gridcolor": "white",
         "linecolor": "black",
         "mirror": false,
         "showline": true,
         "ticks": "outside",
         "title": {
          "text": "Scores"
         }
        }
       }
      }
     },
     "metadata": {},
     "output_type": "display_data"
    },
    {
     "name": "stdout",
     "output_type": "stream",
     "text": [
      "legislation_antitrust_8\n"
     ]
    },
    {
     "data": {
      "application/vnd.plotly.v1+json": {
       "config": {
        "plotlyServerURL": "https://plot.ly"
       },
       "data": [
        {
         "line": {
          "color": "#64B5F6",
          "width": 2
         },
         "mode": "lines",
         "name": "human_insert_backstage",
         "showlegend": true,
         "type": "scatter",
         "x": [
          null
         ],
         "xaxis": "x",
         "y": [
          null
         ],
         "yaxis": "y"
        },
        {
         "line": {
          "color": "#ff8fab",
          "width": 2
         },
         "mode": "lines",
         "name": "ai_suggest_backstage",
         "showlegend": true,
         "type": "scatter",
         "x": [
          null
         ],
         "xaxis": "x",
         "y": [
          null
         ],
         "yaxis": "y"
        },
        {
         "line": {
          "color": "#023e8a",
          "width": 2
         },
         "mode": "lines",
         "name": "human_insert_frontstage",
         "showlegend": true,
         "type": "scatter",
         "x": [
          null
         ],
         "xaxis": "x",
         "y": [
          null
         ],
         "yaxis": "y"
        },
        {
         "line": {
          "color": "#c1121f",
          "width": 2
         },
         "mode": "lines",
         "name": "ai_insert_moved_to_frontstage",
         "showlegend": true,
         "type": "scatter",
         "x": [
          null
         ],
         "xaxis": "x",
         "y": [
          null
         ],
         "yaxis": "y"
        },
        {
         "line": {
          "color": "#9d4edd",
          "width": 2
         },
         "mode": "lines",
         "name": "human_delete_frontstage",
         "showlegend": true,
         "type": "scatter",
         "x": [
          null
         ],
         "xaxis": "x",
         "y": [
          null
         ],
         "yaxis": "y"
        },
        {
         "line": {
          "color": "#5a189a",
          "width": 2
         },
         "mode": "lines",
         "name": "human_insert_edit_frontstage",
         "showlegend": true,
         "type": "scatter",
         "x": [
          null
         ],
         "xaxis": "x",
         "y": [
          null
         ],
         "yaxis": "y"
        }
       ],
       "layout": {
        "annotations": [
         {
          "font": {
           "size": 16
          },
          "showarrow": false,
          "text": "Session: legislation_antitrust_8",
          "x": 0.5,
          "xanchor": "center",
          "xref": "paper",
          "y": 1,
          "yanchor": "bottom",
          "yref": "paper"
         }
        ],
        "height": 500,
        "legend": {
         "title": {
          "font": {
           "color": "rgba(0, 0, 0, 0)"
          }
         }
        },
        "plot_bgcolor": "white",
        "shapes": [
         {
          "line": {
           "color": "#64B5F6",
           "width": 2
          },
          "type": "line",
          "x0": 0,
          "x1": 0,
          "xref": "x",
          "y0": 0,
          "y1": 0.3431759476661682,
          "yref": "y"
         },
         {
          "line": {
           "color": "#64B5F6",
           "width": 2
          },
          "type": "line",
          "x0": 5,
          "x1": 6,
          "xref": "x",
          "y0": 1.3028186559677124,
          "y1": 1.627523124217987,
          "yref": "y"
         },
         {
          "line": {
           "color": "#64B5F6",
           "width": 2
          },
          "type": "line",
          "x0": 15,
          "x1": 16,
          "xref": "x",
          "y0": 4.133689224720001,
          "y1": 2.803566336631775,
          "yref": "y"
         },
         {
          "line": {
           "color": "#64B5F6",
           "width": 2
          },
          "type": "line",
          "x0": 18,
          "x1": 19,
          "xref": "x",
          "y0": 4.4211108684539795,
          "y1": 4.809571146965027,
          "yref": "y"
         },
         {
          "line": {
           "color": "#64B5F6",
           "width": 2
          },
          "type": "line",
          "x0": 21,
          "x1": 22,
          "xref": "x",
          "y0": 4.333328723907471,
          "y1": 4.588950991630554,
          "yref": "y"
         },
         {
          "line": {
           "color": "#64B5F6",
           "width": 2
          },
          "type": "line",
          "x0": 27,
          "x1": 28,
          "xref": "x",
          "y0": 6.25322300195694,
          "y1": 5.59191370010376,
          "yref": "y"
         },
         {
          "line": {
           "color": "#64B5F6",
           "width": 2
          },
          "type": "line",
          "x0": 31,
          "x1": 32,
          "xref": "x",
          "y0": 9.096752107143402,
          "y1": 9.608762681484222,
          "yref": "y"
         },
         {
          "line": {
           "color": "#64B5F6",
           "width": 2
          },
          "type": "line",
          "x0": 34,
          "x1": 35,
          "xref": "x",
          "y0": 9.543049454689026,
          "y1": 7.801794528961182,
          "yref": "y"
         },
         {
          "line": {
           "color": "#ff8fab",
           "width": 2
          },
          "type": "line",
          "x0": 0,
          "x1": 1,
          "xref": "x",
          "y0": 0.3431759476661682,
          "y1": 0.6547239780426025,
          "yref": "y"
         },
         {
          "line": {
           "color": "#ff8fab",
           "width": 2
          },
          "type": "line",
          "x0": 6,
          "x1": 7,
          "xref": "x",
          "y0": 1.627523124217987,
          "y1": 2.0642064809799194,
          "yref": "y"
         },
         {
          "line": {
           "color": "#ff8fab",
           "width": 2
          },
          "type": "line",
          "x0": 13,
          "x1": 14,
          "xref": "x",
          "y0": 3.81963574886322,
          "y1": 4.247705829143524,
          "yref": "y"
         },
         {
          "line": {
           "color": "#ff8fab",
           "width": 2
          },
          "type": "line",
          "x0": 16,
          "x1": 17,
          "xref": "x",
          "y0": 2.803566336631775,
          "y1": 3.094843053817749,
          "yref": "y"
         },
         {
          "line": {
           "color": "#ff8fab",
           "width": 2
          },
          "type": "line",
          "x0": 19,
          "x1": 20,
          "xref": "x",
          "y0": 4.809571146965027,
          "y1": 5.368683540821076,
          "yref": "y"
         },
         {
          "line": {
           "color": "#ff8fab",
           "width": 2
          },
          "type": "line",
          "x0": 22,
          "x1": 23,
          "xref": "x",
          "y0": 4.588950991630554,
          "y1": 4.916338062286377,
          "yref": "y"
         },
         {
          "line": {
           "color": "#ff8fab",
           "width": 2
          },
          "type": "line",
          "x0": 28,
          "x1": 29,
          "xref": "x",
          "y0": 5.59191370010376,
          "y1": 6.118858027458191,
          "yref": "y"
         },
         {
          "line": {
           "color": "#ff8fab",
           "width": 2
          },
          "type": "line",
          "x0": 32,
          "x1": 33,
          "xref": "x",
          "y0": 9.608762681484222,
          "y1": 10.085765039920807,
          "yref": "y"
         },
         {
          "line": {
           "color": "#ff8fab",
           "width": 2
          },
          "type": "line",
          "x0": 35,
          "x1": 36,
          "xref": "x",
          "y0": 7.801794528961182,
          "y1": 8.084009981155395,
          "yref": "y"
         },
         {
          "line": {
           "color": "#023e8a",
           "width": 2
          },
          "type": "line",
          "x0": 1,
          "x1": 2,
          "xref": "x",
          "y0": 0,
          "y1": 0.6220897436141968,
          "yref": "y"
         },
         {
          "line": {
           "color": "#023e8a",
           "width": 2
          },
          "type": "line",
          "x0": 2,
          "x1": 3,
          "xref": "x",
          "y0": 0.6220897436141968,
          "y1": 0.8367364406585693,
          "yref": "y"
         },
         {
          "line": {
           "color": "#023e8a",
           "width": 2
          },
          "type": "line",
          "x0": 3,
          "x1": 4,
          "xref": "x",
          "y0": 0.8367364406585693,
          "y1": 1.0494059920310974,
          "yref": "y"
         },
         {
          "line": {
           "color": "#023e8a",
           "width": 2
          },
          "type": "line",
          "x0": 4,
          "x1": 5,
          "xref": "x",
          "y0": 1.0494059920310974,
          "y1": 1.3028186559677124,
          "yref": "y"
         },
         {
          "line": {
           "color": "#023e8a",
           "width": 2
          },
          "type": "line",
          "x0": 7,
          "x1": 8,
          "xref": "x",
          "y0": 1.3028186559677124,
          "y1": 1.593275249004364,
          "yref": "y"
         },
         {
          "line": {
           "color": "#023e8a",
           "width": 2
          },
          "type": "line",
          "x0": 9,
          "x1": 10,
          "xref": "x",
          "y0": 1.6360391974449158,
          "y1": 1.9289789199829102,
          "yref": "y"
         },
         {
          "line": {
           "color": "#023e8a",
           "width": 2
          },
          "type": "line",
          "x0": 10,
          "x1": 11,
          "xref": "x",
          "y0": 1.9289789199829102,
          "y1": 2.330822229385376,
          "yref": "y"
         },
         {
          "line": {
           "color": "#023e8a",
           "width": 2
          },
          "type": "line",
          "x0": 11,
          "x1": 12,
          "xref": "x",
          "y0": 2.330822229385376,
          "y1": 3.126158118247986,
          "yref": "y"
         },
         {
          "line": {
           "color": "#023e8a",
           "width": 2
          },
          "type": "line",
          "x0": 12,
          "x1": 13,
          "xref": "x",
          "y0": 3.126158118247986,
          "y1": 3.81963574886322,
          "yref": "y"
         },
         {
          "line": {
           "color": "#023e8a",
           "width": 2
          },
          "type": "line",
          "x0": 14,
          "x1": 15,
          "xref": "x",
          "y0": 3.81963574886322,
          "y1": 4.133689224720001,
          "yref": "y"
         },
         {
          "line": {
           "color": "#023e8a",
           "width": 2
          },
          "type": "line",
          "x0": 24,
          "x1": 25,
          "xref": "x",
          "y0": 4.649536073207855,
          "y1": 5.188356935977936,
          "yref": "y"
         },
         {
          "line": {
           "color": "#023e8a",
           "width": 2
          },
          "type": "line",
          "x0": 25,
          "x1": 26,
          "xref": "x",
          "y0": 5.188356935977936,
          "y1": 5.430241763591766,
          "yref": "y"
         },
         {
          "line": {
           "color": "#023e8a",
           "width": 2
          },
          "type": "line",
          "x0": 26,
          "x1": 27,
          "xref": "x",
          "y0": 5.430241763591766,
          "y1": 6.25322300195694,
          "yref": "y"
         },
         {
          "line": {
           "color": "#023e8a",
           "width": 2
          },
          "type": "line",
          "x0": 33,
          "x1": 34,
          "xref": "x",
          "y0": 9.096752107143402,
          "y1": 9.543049454689026,
          "yref": "y"
         },
         {
          "line": {
           "color": "#023e8a",
           "width": 2
          },
          "type": "line",
          "x0": 38,
          "x1": 39,
          "xref": "x",
          "y0": 9.986508667469025,
          "y1": 10.26351946592331,
          "yref": "y"
         },
         {
          "line": {
           "color": "#c1121f",
           "width": 2
          },
          "type": "line",
          "x0": 17,
          "x1": 18,
          "xref": "x",
          "y0": 4.133689224720001,
          "y1": 4.4211108684539795,
          "yref": "y"
         },
         {
          "line": {
           "color": "#c1121f",
           "width": 2
          },
          "type": "line",
          "x0": 20,
          "x1": 21,
          "xref": "x",
          "y0": 4.4211108684539795,
          "y1": 4.333328723907471,
          "yref": "y"
         },
         {
          "line": {
           "color": "#c1121f",
           "width": 2
          },
          "type": "line",
          "x0": 23,
          "x1": 24,
          "xref": "x",
          "y0": 4.333328723907471,
          "y1": 4.649536073207855,
          "yref": "y"
         },
         {
          "line": {
           "color": "#c1121f",
           "width": 2
          },
          "type": "line",
          "x0": 29,
          "x1": 30,
          "xref": "x",
          "y0": 6.25322300195694,
          "y1": 9.096752107143402,
          "yref": "y"
         },
         {
          "line": {
           "color": "#c1121f",
           "width": 2
          },
          "type": "line",
          "x0": 36,
          "x1": 37,
          "xref": "x",
          "y0": 9.543049454689026,
          "y1": 10.216717898845673,
          "yref": "y"
         },
         {
          "line": {
           "color": "#9d4edd",
           "width": 2
          },
          "type": "line",
          "x0": 8,
          "x1": 9,
          "xref": "x",
          "y0": 1.593275249004364,
          "y1": 1.6360391974449158,
          "yref": "y"
         },
         {
          "line": {
           "color": "#9d4edd",
           "width": 2
          },
          "type": "line",
          "x0": 30,
          "x1": 31,
          "xref": "x",
          "y0": 9.096752107143402,
          "y1": 9.096752107143402,
          "yref": "y"
         },
         {
          "line": {
           "color": "#9d4edd",
           "width": 2
          },
          "type": "line",
          "x0": 37,
          "x1": 38,
          "xref": "x",
          "y0": 10.216717898845673,
          "y1": 9.986508667469025,
          "yref": "y"
         }
        ],
        "showlegend": true,
        "template": {
         "data": {
          "bar": [
           {
            "error_x": {
             "color": "#2a3f5f"
            },
            "error_y": {
             "color": "#2a3f5f"
            },
            "marker": {
             "line": {
              "color": "#E5ECF6",
              "width": 0.5
             },
             "pattern": {
              "fillmode": "overlay",
              "size": 10,
              "solidity": 0.2
             }
            },
            "type": "bar"
           }
          ],
          "barpolar": [
           {
            "marker": {
             "line": {
              "color": "#E5ECF6",
              "width": 0.5
             },
             "pattern": {
              "fillmode": "overlay",
              "size": 10,
              "solidity": 0.2
             }
            },
            "type": "barpolar"
           }
          ],
          "carpet": [
           {
            "aaxis": {
             "endlinecolor": "#2a3f5f",
             "gridcolor": "white",
             "linecolor": "white",
             "minorgridcolor": "white",
             "startlinecolor": "#2a3f5f"
            },
            "baxis": {
             "endlinecolor": "#2a3f5f",
             "gridcolor": "white",
             "linecolor": "white",
             "minorgridcolor": "white",
             "startlinecolor": "#2a3f5f"
            },
            "type": "carpet"
           }
          ],
          "choropleth": [
           {
            "colorbar": {
             "outlinewidth": 0,
             "ticks": ""
            },
            "type": "choropleth"
           }
          ],
          "contour": [
           {
            "colorbar": {
             "outlinewidth": 0,
             "ticks": ""
            },
            "colorscale": [
             [
              0,
              "#0d0887"
             ],
             [
              0.1111111111111111,
              "#46039f"
             ],
             [
              0.2222222222222222,
              "#7201a8"
             ],
             [
              0.3333333333333333,
              "#9c179e"
             ],
             [
              0.4444444444444444,
              "#bd3786"
             ],
             [
              0.5555555555555556,
              "#d8576b"
             ],
             [
              0.6666666666666666,
              "#ed7953"
             ],
             [
              0.7777777777777778,
              "#fb9f3a"
             ],
             [
              0.8888888888888888,
              "#fdca26"
             ],
             [
              1,
              "#f0f921"
             ]
            ],
            "type": "contour"
           }
          ],
          "contourcarpet": [
           {
            "colorbar": {
             "outlinewidth": 0,
             "ticks": ""
            },
            "type": "contourcarpet"
           }
          ],
          "heatmap": [
           {
            "colorbar": {
             "outlinewidth": 0,
             "ticks": ""
            },
            "colorscale": [
             [
              0,
              "#0d0887"
             ],
             [
              0.1111111111111111,
              "#46039f"
             ],
             [
              0.2222222222222222,
              "#7201a8"
             ],
             [
              0.3333333333333333,
              "#9c179e"
             ],
             [
              0.4444444444444444,
              "#bd3786"
             ],
             [
              0.5555555555555556,
              "#d8576b"
             ],
             [
              0.6666666666666666,
              "#ed7953"
             ],
             [
              0.7777777777777778,
              "#fb9f3a"
             ],
             [
              0.8888888888888888,
              "#fdca26"
             ],
             [
              1,
              "#f0f921"
             ]
            ],
            "type": "heatmap"
           }
          ],
          "histogram": [
           {
            "marker": {
             "pattern": {
              "fillmode": "overlay",
              "size": 10,
              "solidity": 0.2
             }
            },
            "type": "histogram"
           }
          ],
          "histogram2d": [
           {
            "colorbar": {
             "outlinewidth": 0,
             "ticks": ""
            },
            "colorscale": [
             [
              0,
              "#0d0887"
             ],
             [
              0.1111111111111111,
              "#46039f"
             ],
             [
              0.2222222222222222,
              "#7201a8"
             ],
             [
              0.3333333333333333,
              "#9c179e"
             ],
             [
              0.4444444444444444,
              "#bd3786"
             ],
             [
              0.5555555555555556,
              "#d8576b"
             ],
             [
              0.6666666666666666,
              "#ed7953"
             ],
             [
              0.7777777777777778,
              "#fb9f3a"
             ],
             [
              0.8888888888888888,
              "#fdca26"
             ],
             [
              1,
              "#f0f921"
             ]
            ],
            "type": "histogram2d"
           }
          ],
          "histogram2dcontour": [
           {
            "colorbar": {
             "outlinewidth": 0,
             "ticks": ""
            },
            "colorscale": [
             [
              0,
              "#0d0887"
             ],
             [
              0.1111111111111111,
              "#46039f"
             ],
             [
              0.2222222222222222,
              "#7201a8"
             ],
             [
              0.3333333333333333,
              "#9c179e"
             ],
             [
              0.4444444444444444,
              "#bd3786"
             ],
             [
              0.5555555555555556,
              "#d8576b"
             ],
             [
              0.6666666666666666,
              "#ed7953"
             ],
             [
              0.7777777777777778,
              "#fb9f3a"
             ],
             [
              0.8888888888888888,
              "#fdca26"
             ],
             [
              1,
              "#f0f921"
             ]
            ],
            "type": "histogram2dcontour"
           }
          ],
          "mesh3d": [
           {
            "colorbar": {
             "outlinewidth": 0,
             "ticks": ""
            },
            "type": "mesh3d"
           }
          ],
          "parcoords": [
           {
            "line": {
             "colorbar": {
              "outlinewidth": 0,
              "ticks": ""
             }
            },
            "type": "parcoords"
           }
          ],
          "pie": [
           {
            "automargin": true,
            "type": "pie"
           }
          ],
          "scatter": [
           {
            "fillpattern": {
             "fillmode": "overlay",
             "size": 10,
             "solidity": 0.2
            },
            "type": "scatter"
           }
          ],
          "scatter3d": [
           {
            "line": {
             "colorbar": {
              "outlinewidth": 0,
              "ticks": ""
             }
            },
            "marker": {
             "colorbar": {
              "outlinewidth": 0,
              "ticks": ""
             }
            },
            "type": "scatter3d"
           }
          ],
          "scattercarpet": [
           {
            "marker": {
             "colorbar": {
              "outlinewidth": 0,
              "ticks": ""
             }
            },
            "type": "scattercarpet"
           }
          ],
          "scattergeo": [
           {
            "marker": {
             "colorbar": {
              "outlinewidth": 0,
              "ticks": ""
             }
            },
            "type": "scattergeo"
           }
          ],
          "scattergl": [
           {
            "marker": {
             "colorbar": {
              "outlinewidth": 0,
              "ticks": ""
             }
            },
            "type": "scattergl"
           }
          ],
          "scattermap": [
           {
            "marker": {
             "colorbar": {
              "outlinewidth": 0,
              "ticks": ""
             }
            },
            "type": "scattermap"
           }
          ],
          "scattermapbox": [
           {
            "marker": {
             "colorbar": {
              "outlinewidth": 0,
              "ticks": ""
             }
            },
            "type": "scattermapbox"
           }
          ],
          "scatterpolar": [
           {
            "marker": {
             "colorbar": {
              "outlinewidth": 0,
              "ticks": ""
             }
            },
            "type": "scatterpolar"
           }
          ],
          "scatterpolargl": [
           {
            "marker": {
             "colorbar": {
              "outlinewidth": 0,
              "ticks": ""
             }
            },
            "type": "scatterpolargl"
           }
          ],
          "scatterternary": [
           {
            "marker": {
             "colorbar": {
              "outlinewidth": 0,
              "ticks": ""
             }
            },
            "type": "scatterternary"
           }
          ],
          "surface": [
           {
            "colorbar": {
             "outlinewidth": 0,
             "ticks": ""
            },
            "colorscale": [
             [
              0,
              "#0d0887"
             ],
             [
              0.1111111111111111,
              "#46039f"
             ],
             [
              0.2222222222222222,
              "#7201a8"
             ],
             [
              0.3333333333333333,
              "#9c179e"
             ],
             [
              0.4444444444444444,
              "#bd3786"
             ],
             [
              0.5555555555555556,
              "#d8576b"
             ],
             [
              0.6666666666666666,
              "#ed7953"
             ],
             [
              0.7777777777777778,
              "#fb9f3a"
             ],
             [
              0.8888888888888888,
              "#fdca26"
             ],
             [
              1,
              "#f0f921"
             ]
            ],
            "type": "surface"
           }
          ],
          "table": [
           {
            "cells": {
             "fill": {
              "color": "#EBF0F8"
             },
             "line": {
              "color": "white"
             }
            },
            "header": {
             "fill": {
              "color": "#C8D4E3"
             },
             "line": {
              "color": "white"
             }
            },
            "type": "table"
           }
          ]
         },
         "layout": {
          "annotationdefaults": {
           "arrowcolor": "#2a3f5f",
           "arrowhead": 0,
           "arrowwidth": 1
          },
          "autotypenumbers": "strict",
          "coloraxis": {
           "colorbar": {
            "outlinewidth": 0,
            "ticks": ""
           }
          },
          "colorscale": {
           "diverging": [
            [
             0,
             "#8e0152"
            ],
            [
             0.1,
             "#c51b7d"
            ],
            [
             0.2,
             "#de77ae"
            ],
            [
             0.3,
             "#f1b6da"
            ],
            [
             0.4,
             "#fde0ef"
            ],
            [
             0.5,
             "#f7f7f7"
            ],
            [
             0.6,
             "#e6f5d0"
            ],
            [
             0.7,
             "#b8e186"
            ],
            [
             0.8,
             "#7fbc41"
            ],
            [
             0.9,
             "#4d9221"
            ],
            [
             1,
             "#276419"
            ]
           ],
           "sequential": [
            [
             0,
             "#0d0887"
            ],
            [
             0.1111111111111111,
             "#46039f"
            ],
            [
             0.2222222222222222,
             "#7201a8"
            ],
            [
             0.3333333333333333,
             "#9c179e"
            ],
            [
             0.4444444444444444,
             "#bd3786"
            ],
            [
             0.5555555555555556,
             "#d8576b"
            ],
            [
             0.6666666666666666,
             "#ed7953"
            ],
            [
             0.7777777777777778,
             "#fb9f3a"
            ],
            [
             0.8888888888888888,
             "#fdca26"
            ],
            [
             1,
             "#f0f921"
            ]
           ],
           "sequentialminus": [
            [
             0,
             "#0d0887"
            ],
            [
             0.1111111111111111,
             "#46039f"
            ],
            [
             0.2222222222222222,
             "#7201a8"
            ],
            [
             0.3333333333333333,
             "#9c179e"
            ],
            [
             0.4444444444444444,
             "#bd3786"
            ],
            [
             0.5555555555555556,
             "#d8576b"
            ],
            [
             0.6666666666666666,
             "#ed7953"
            ],
            [
             0.7777777777777778,
             "#fb9f3a"
            ],
            [
             0.8888888888888888,
             "#fdca26"
            ],
            [
             1,
             "#f0f921"
            ]
           ]
          },
          "colorway": [
           "#636efa",
           "#EF553B",
           "#00cc96",
           "#ab63fa",
           "#FFA15A",
           "#19d3f3",
           "#FF6692",
           "#B6E880",
           "#FF97FF",
           "#FECB52"
          ],
          "font": {
           "color": "#2a3f5f"
          },
          "geo": {
           "bgcolor": "white",
           "lakecolor": "white",
           "landcolor": "#E5ECF6",
           "showlakes": true,
           "showland": true,
           "subunitcolor": "white"
          },
          "hoverlabel": {
           "align": "left"
          },
          "hovermode": "closest",
          "mapbox": {
           "style": "light"
          },
          "paper_bgcolor": "white",
          "plot_bgcolor": "#E5ECF6",
          "polar": {
           "angularaxis": {
            "gridcolor": "white",
            "linecolor": "white",
            "ticks": ""
           },
           "bgcolor": "#E5ECF6",
           "radialaxis": {
            "gridcolor": "white",
            "linecolor": "white",
            "ticks": ""
           }
          },
          "scene": {
           "xaxis": {
            "backgroundcolor": "#E5ECF6",
            "gridcolor": "white",
            "gridwidth": 2,
            "linecolor": "white",
            "showbackground": true,
            "ticks": "",
            "zerolinecolor": "white"
           },
           "yaxis": {
            "backgroundcolor": "#E5ECF6",
            "gridcolor": "white",
            "gridwidth": 2,
            "linecolor": "white",
            "showbackground": true,
            "ticks": "",
            "zerolinecolor": "white"
           },
           "zaxis": {
            "backgroundcolor": "#E5ECF6",
            "gridcolor": "white",
            "gridwidth": 2,
            "linecolor": "white",
            "showbackground": true,
            "ticks": "",
            "zerolinecolor": "white"
           }
          },
          "shapedefaults": {
           "line": {
            "color": "#2a3f5f"
           }
          },
          "ternary": {
           "aaxis": {
            "gridcolor": "white",
            "linecolor": "white",
            "ticks": ""
           },
           "baxis": {
            "gridcolor": "white",
            "linecolor": "white",
            "ticks": ""
           },
           "bgcolor": "#E5ECF6",
           "caxis": {
            "gridcolor": "white",
            "linecolor": "white",
            "ticks": ""
           }
          },
          "title": {
           "x": 0.05
          },
          "xaxis": {
           "automargin": true,
           "gridcolor": "white",
           "linecolor": "white",
           "ticks": "",
           "title": {
            "standoff": 15
           },
           "zerolinecolor": "white",
           "zerolinewidth": 2
          },
          "yaxis": {
           "automargin": true,
           "gridcolor": "white",
           "linecolor": "white",
           "ticks": "",
           "title": {
            "standoff": 15
           },
           "zerolinecolor": "white",
           "zerolinewidth": 2
          }
         }
        },
        "title": {
         "text": "Semantic Expansion over Writing Sessions<br><span style=\"font-size: 12px;\">*Measuring how well humans are learning while writing with GenAI</span>"
        },
        "width": 1600,
        "xaxis": {
         "anchor": "y",
         "domain": [
          0,
          1
         ],
         "gridcolor": "white",
         "linecolor": "black",
         "mirror": false,
         "range": [
          -1,
          40
         ],
         "showline": true,
         "ticks": "outside",
         "title": {
          "text": "Progress into the writing session"
         }
        },
        "yaxis": {
         "anchor": "x",
         "domain": [
          0,
          1
         ],
         "gridcolor": "white",
         "linecolor": "black",
         "mirror": false,
         "showline": true,
         "ticks": "outside",
         "title": {
          "text": "Scores"
         }
        }
       }
      }
     },
     "metadata": {},
     "output_type": "display_data"
    }
   ],
   "source": [
    "writing_data = level_2_actions_per_session_semantic\n",
    "# Session IDs: An array of sessions you wish to plot.\n",
    "# Adjust as needed. Check session IDs in data exploration for options.\n",
    "session_ids = [\n",
    "    \"legislation_corporate_1\",\n",
    "    \"legislation_corporate_2\",\n",
    "    \"legislation_corporate_3\",\n",
    "    \"legislation_corporate_4\",\n",
    "    \"legislation_corporate_5\",\n",
    "    \"legislation_corporate_6\",\n",
    "    \"legislation_antitrust_1\",\n",
    "    \"legislation_antitrust_2\",\n",
    "    \"legislation_antitrust_3\",\n",
    "    \"legislation_antitrust_4\",\n",
    "    \"legislation_antitrust_5\",\n",
    "    \"legislation_antitrust_6\",\n",
    "    \"legislation_antitrust_7\",\n",
    "    \"legislation_antitrust_8\",\n",
    "]\n",
    "\n",
    "# Generate the plot\n",
    "for session_id in session_ids:\n",
    "    fig = plot_semantic_expansion_sentence(writing_data, [session_id])"
   ]
  }
 ],
 "metadata": {
  "kernelspec": {
   "display_name": ".venv",
   "language": "python",
   "name": "python3"
  },
  "language_info": {
   "codemirror_mode": {
    "name": "ipython",
    "version": 3
   },
   "file_extension": ".py",
   "mimetype": "text/x-python",
   "name": "python",
   "nbconvert_exporter": "python",
   "pygments_lexer": "ipython3",
   "version": "3.9.6"
  }
 },
 "nbformat": 4,
 "nbformat_minor": 5
}
