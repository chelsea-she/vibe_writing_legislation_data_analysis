{
 "cells": [
  {
   "cell_type": "markdown",
   "id": "832f863e",
   "metadata": {},
   "source": [
    "### I. Set up"
   ]
  },
  {
   "cell_type": "code",
   "execution_count": 1,
   "id": "e6bdb4d1",
   "metadata": {},
   "outputs": [
    {
     "name": "stdout",
     "output_type": "stream",
     "text": [
      "Requirement already satisfied: pandas in ./venv/lib/python3.11/site-packages (2.3.1)\n",
      "Requirement already satisfied: numpy>=1.23.2 in ./venv/lib/python3.11/site-packages (from pandas) (2.3.2)\n",
      "Requirement already satisfied: python-dateutil>=2.8.2 in ./venv/lib/python3.11/site-packages (from pandas) (2.9.0.post0)\n",
      "Requirement already satisfied: pytz>=2020.1 in ./venv/lib/python3.11/site-packages (from pandas) (2025.2)\n",
      "Requirement already satisfied: tzdata>=2022.7 in ./venv/lib/python3.11/site-packages (from pandas) (2025.2)\n",
      "Requirement already satisfied: six>=1.5 in ./venv/lib/python3.11/site-packages (from python-dateutil>=2.8.2->pandas) (1.17.0)\n",
      "\n",
      "\u001b[1m[\u001b[0m\u001b[34;49mnotice\u001b[0m\u001b[1;39;49m]\u001b[0m\u001b[39;49m A new release of pip is available: \u001b[0m\u001b[31;49m25.1.1\u001b[0m\u001b[39;49m -> \u001b[0m\u001b[32;49m25.2\u001b[0m\n",
      "\u001b[1m[\u001b[0m\u001b[34;49mnotice\u001b[0m\u001b[1;39;49m]\u001b[0m\u001b[39;49m To update, run: \u001b[0m\u001b[32;49mpip install --upgrade pip\u001b[0m\n",
      "Note: you may need to restart the kernel to use updated packages.\n",
      "Requirement already satisfied: plotly in ./venv/lib/python3.11/site-packages (6.3.0)\n",
      "Requirement already satisfied: narwhals>=1.15.1 in ./venv/lib/python3.11/site-packages (from plotly) (2.1.2)\n",
      "Requirement already satisfied: packaging in ./venv/lib/python3.11/site-packages (from plotly) (25.0)\n",
      "\n",
      "\u001b[1m[\u001b[0m\u001b[34;49mnotice\u001b[0m\u001b[1;39;49m]\u001b[0m\u001b[39;49m A new release of pip is available: \u001b[0m\u001b[31;49m25.1.1\u001b[0m\u001b[39;49m -> \u001b[0m\u001b[32;49m25.2\u001b[0m\n",
      "\u001b[1m[\u001b[0m\u001b[34;49mnotice\u001b[0m\u001b[1;39;49m]\u001b[0m\u001b[39;49m To update, run: \u001b[0m\u001b[32;49mpip install --upgrade pip\u001b[0m\n",
      "Note: you may need to restart the kernel to use updated packages.\n",
      "Requirement already satisfied: nbformat in ./venv/lib/python3.11/site-packages (5.10.4)\n",
      "Requirement already satisfied: fastjsonschema>=2.15 in ./venv/lib/python3.11/site-packages (from nbformat) (2.21.2)\n",
      "Requirement already satisfied: jsonschema>=2.6 in ./venv/lib/python3.11/site-packages (from nbformat) (4.25.0)\n",
      "Requirement already satisfied: jupyter-core!=5.0.*,>=4.12 in ./venv/lib/python3.11/site-packages (from nbformat) (5.8.1)\n",
      "Requirement already satisfied: traitlets>=5.1 in ./venv/lib/python3.11/site-packages (from nbformat) (5.14.3)\n",
      "Requirement already satisfied: attrs>=22.2.0 in ./venv/lib/python3.11/site-packages (from jsonschema>=2.6->nbformat) (25.3.0)\n",
      "Requirement already satisfied: jsonschema-specifications>=2023.03.6 in ./venv/lib/python3.11/site-packages (from jsonschema>=2.6->nbformat) (2025.4.1)\n",
      "Requirement already satisfied: referencing>=0.28.4 in ./venv/lib/python3.11/site-packages (from jsonschema>=2.6->nbformat) (0.36.2)\n",
      "Requirement already satisfied: rpds-py>=0.7.1 in ./venv/lib/python3.11/site-packages (from jsonschema>=2.6->nbformat) (0.27.0)\n",
      "Requirement already satisfied: platformdirs>=2.5 in ./venv/lib/python3.11/site-packages (from jupyter-core!=5.0.*,>=4.12->nbformat) (4.3.8)\n",
      "Requirement already satisfied: typing-extensions>=4.4.0 in ./venv/lib/python3.11/site-packages (from referencing>=0.28.4->jsonschema>=2.6->nbformat) (4.14.1)\n",
      "\n",
      "\u001b[1m[\u001b[0m\u001b[34;49mnotice\u001b[0m\u001b[1;39;49m]\u001b[0m\u001b[39;49m A new release of pip is available: \u001b[0m\u001b[31;49m25.1.1\u001b[0m\u001b[39;49m -> \u001b[0m\u001b[32;49m25.2\u001b[0m\n",
      "\u001b[1m[\u001b[0m\u001b[34;49mnotice\u001b[0m\u001b[1;39;49m]\u001b[0m\u001b[39;49m To update, run: \u001b[0m\u001b[32;49mpip install --upgrade pip\u001b[0m\n",
      "Note: you may need to restart the kernel to use updated packages.\n",
      "Requirement already satisfied: nbformat in ./venv/lib/python3.11/site-packages (5.10.4)\n",
      "Requirement already satisfied: fastjsonschema>=2.15 in ./venv/lib/python3.11/site-packages (from nbformat) (2.21.2)\n",
      "Requirement already satisfied: jsonschema>=2.6 in ./venv/lib/python3.11/site-packages (from nbformat) (4.25.0)\n",
      "Requirement already satisfied: jupyter-core!=5.0.*,>=4.12 in ./venv/lib/python3.11/site-packages (from nbformat) (5.8.1)\n",
      "Requirement already satisfied: traitlets>=5.1 in ./venv/lib/python3.11/site-packages (from nbformat) (5.14.3)\n",
      "Requirement already satisfied: attrs>=22.2.0 in ./venv/lib/python3.11/site-packages (from jsonschema>=2.6->nbformat) (25.3.0)\n",
      "Requirement already satisfied: jsonschema-specifications>=2023.03.6 in ./venv/lib/python3.11/site-packages (from jsonschema>=2.6->nbformat) (2025.4.1)\n",
      "Requirement already satisfied: referencing>=0.28.4 in ./venv/lib/python3.11/site-packages (from jsonschema>=2.6->nbformat) (0.36.2)\n",
      "Requirement already satisfied: rpds-py>=0.7.1 in ./venv/lib/python3.11/site-packages (from jsonschema>=2.6->nbformat) (0.27.0)\n",
      "Requirement already satisfied: platformdirs>=2.5 in ./venv/lib/python3.11/site-packages (from jupyter-core!=5.0.*,>=4.12->nbformat) (4.3.8)\n",
      "Requirement already satisfied: typing-extensions>=4.4.0 in ./venv/lib/python3.11/site-packages (from referencing>=0.28.4->jsonschema>=2.6->nbformat) (4.14.1)\n",
      "\n",
      "\u001b[1m[\u001b[0m\u001b[34;49mnotice\u001b[0m\u001b[1;39;49m]\u001b[0m\u001b[39;49m A new release of pip is available: \u001b[0m\u001b[31;49m25.1.1\u001b[0m\u001b[39;49m -> \u001b[0m\u001b[32;49m25.2\u001b[0m\n",
      "\u001b[1m[\u001b[0m\u001b[34;49mnotice\u001b[0m\u001b[1;39;49m]\u001b[0m\u001b[39;49m To update, run: \u001b[0m\u001b[32;49mpip install --upgrade pip\u001b[0m\n",
      "Requirement already satisfied: ace_tools_open in ./venv/lib/python3.11/site-packages (0.1.0)\n",
      "Requirement already satisfied: pandas in ./venv/lib/python3.11/site-packages (from ace_tools_open) (2.3.1)\n",
      "Requirement already satisfied: itables in ./venv/lib/python3.11/site-packages (from ace_tools_open) (2.4.4)\n",
      "Requirement already satisfied: IPython in ./venv/lib/python3.11/site-packages (from ace_tools_open) (9.4.0)\n",
      "Requirement already satisfied: decorator in ./venv/lib/python3.11/site-packages (from IPython->ace_tools_open) (5.2.1)\n",
      "Requirement already satisfied: ipython-pygments-lexers in ./venv/lib/python3.11/site-packages (from IPython->ace_tools_open) (1.1.1)\n",
      "Requirement already satisfied: jedi>=0.16 in ./venv/lib/python3.11/site-packages (from IPython->ace_tools_open) (0.19.2)\n",
      "Requirement already satisfied: matplotlib-inline in ./venv/lib/python3.11/site-packages (from IPython->ace_tools_open) (0.1.7)\n",
      "Requirement already satisfied: pexpect>4.3 in ./venv/lib/python3.11/site-packages (from IPython->ace_tools_open) (4.9.0)\n",
      "Requirement already satisfied: prompt_toolkit<3.1.0,>=3.0.41 in ./venv/lib/python3.11/site-packages (from IPython->ace_tools_open) (3.0.51)\n",
      "Requirement already satisfied: pygments>=2.4.0 in ./venv/lib/python3.11/site-packages (from IPython->ace_tools_open) (2.19.2)\n",
      "Requirement already satisfied: stack_data in ./venv/lib/python3.11/site-packages (from IPython->ace_tools_open) (0.6.3)\n",
      "Requirement already satisfied: traitlets>=5.13.0 in ./venv/lib/python3.11/site-packages (from IPython->ace_tools_open) (5.14.3)\n",
      "Requirement already satisfied: typing_extensions>=4.6 in ./venv/lib/python3.11/site-packages (from IPython->ace_tools_open) (4.14.1)\n",
      "Requirement already satisfied: wcwidth in ./venv/lib/python3.11/site-packages (from prompt_toolkit<3.1.0,>=3.0.41->IPython->ace_tools_open) (0.2.13)\n",
      "Requirement already satisfied: parso<0.9.0,>=0.8.4 in ./venv/lib/python3.11/site-packages (from jedi>=0.16->IPython->ace_tools_open) (0.8.4)\n",
      "Requirement already satisfied: ptyprocess>=0.5 in ./venv/lib/python3.11/site-packages (from pexpect>4.3->IPython->ace_tools_open) (0.7.0)\n",
      "Requirement already satisfied: numpy in ./venv/lib/python3.11/site-packages (from itables->ace_tools_open) (2.3.2)\n",
      "Requirement already satisfied: python-dateutil>=2.8.2 in ./venv/lib/python3.11/site-packages (from pandas->ace_tools_open) (2.9.0.post0)\n",
      "Requirement already satisfied: pytz>=2020.1 in ./venv/lib/python3.11/site-packages (from pandas->ace_tools_open) (2025.2)\n",
      "Requirement already satisfied: tzdata>=2022.7 in ./venv/lib/python3.11/site-packages (from pandas->ace_tools_open) (2025.2)\n",
      "Requirement already satisfied: six>=1.5 in ./venv/lib/python3.11/site-packages (from python-dateutil>=2.8.2->pandas->ace_tools_open) (1.17.0)\n",
      "Requirement already satisfied: executing>=1.2.0 in ./venv/lib/python3.11/site-packages (from stack_data->IPython->ace_tools_open) (2.2.0)\n",
      "Requirement already satisfied: asttokens>=2.1.0 in ./venv/lib/python3.11/site-packages (from stack_data->IPython->ace_tools_open) (3.0.0)\n",
      "Requirement already satisfied: pure-eval in ./venv/lib/python3.11/site-packages (from stack_data->IPython->ace_tools_open) (0.2.3)\n",
      "\n",
      "\u001b[1m[\u001b[0m\u001b[34;49mnotice\u001b[0m\u001b[1;39;49m]\u001b[0m\u001b[39;49m A new release of pip is available: \u001b[0m\u001b[31;49m25.1.1\u001b[0m\u001b[39;49m -> \u001b[0m\u001b[32;49m25.2\u001b[0m\n",
      "\u001b[1m[\u001b[0m\u001b[34;49mnotice\u001b[0m\u001b[1;39;49m]\u001b[0m\u001b[39;49m To update, run: \u001b[0m\u001b[32;49mpip install --upgrade pip\u001b[0m\n",
      "Note: you may need to restart the kernel to use updated packages.\n"
     ]
    }
   ],
   "source": [
    "%pip install pandas\n",
    "%pip install plotly\n",
    "%pip install nbformat\n",
    "import sys\n",
    "!{sys.executable} -m pip install nbformat --upgrade\n",
    "%pip install ace_tools_open"
   ]
  },
  {
   "cell_type": "code",
   "execution_count": 2,
   "id": "0be59f1a",
   "metadata": {},
   "outputs": [
    {
     "name": "stdout",
     "output_type": "stream",
     "text": [
      "Logs successfully saved to: /Users/yw2465/Summer2025/vibe_writing_legislation_data_analysis/formal1_logs.json\n"
     ]
    },
    {
     "name": "stderr",
     "output_type": "stream",
     "text": [
      "/Users/yw2465/Summer2025/vibe_writing_legislation_data_analysis/venv/lib/python3.11/site-packages/tqdm/auto.py:21: TqdmWarning: IProgress not found. Please update jupyter and ipywidgets. See https://ipywidgets.readthedocs.io/en/stable/user_install.html\n",
      "  from .autonotebook import tqdm as notebook_tqdm\n",
      "Some weights of the model checkpoint at roberta-large-mnli were not used when initializing RobertaForSequenceClassification: ['roberta.pooler.dense.bias', 'roberta.pooler.dense.weight']\n",
      "- This IS expected if you are initializing RobertaForSequenceClassification from the checkpoint of a model trained on another task or with another architecture (e.g. initializing a BertForSequenceClassification model from a BertForPreTraining model).\n",
      "- This IS NOT expected if you are initializing RobertaForSequenceClassification from the checkpoint of a model that you expect to be exactly identical (initializing a BertForSequenceClassification model from a BertForSequenceClassification model).\n",
      "Device set to use mps:0\n",
      "Some weights of the model checkpoint at roberta-large-mnli were not used when initializing RobertaForSequenceClassification: ['roberta.pooler.dense.bias', 'roberta.pooler.dense.weight']\n",
      "- This IS expected if you are initializing RobertaForSequenceClassification from the checkpoint of a model trained on another task or with another architecture (e.g. initializing a BertForSequenceClassification model from a BertForPreTraining model).\n",
      "- This IS NOT expected if you are initializing RobertaForSequenceClassification from the checkpoint of a model that you expect to be exactly identical (initializing a BertForSequenceClassification model from a BertForSequenceClassification model).\n",
      "Device set to use mps:0\n",
      "Device set to use mps:0\n"
     ]
    }
   ],
   "source": [
    "# Import libraries\n",
    "# Required packages: plotly, pandas\n",
    "import json\n",
    "import pandas as pd\n",
    "from datetime import datetime\n",
    "import plotly.graph_objects as go\n",
    "import plotly.express as px\n",
    "from plotly.subplots import make_subplots\n",
    "import plotly.io as pio\n",
    "from collections import defaultdict\n",
    "import ace_tools_open as tools\n",
    "\n",
    "import level_2_learning_comparisons\n",
    "\n",
    "import matplotlib.pyplot as plt\n",
    "import numpy as np"
   ]
  },
  {
   "cell_type": "code",
   "execution_count": 3,
   "id": "bf98b676",
   "metadata": {},
   "outputs": [],
   "source": [
    "# Load data\n",
    "# Make sure the file name is correct and in the same directory as the script\n",
    "with open(\"level_2_actions_per_session_semantic.json\") as f:\n",
    "    level_2_actions_per_session_semantic = json.load(f)"
   ]
  },
  {
   "cell_type": "markdown",
   "id": "0bd009cc",
   "metadata": {},
   "source": [
    "### II Semantic Visualization - Correlation between semantic expansion per sentence text_insert"
   ]
  },
  {
   "cell_type": "code",
   "execution_count": 4,
   "id": "056e9818",
   "metadata": {},
   "outputs": [],
   "source": [
    "# Plotting and helper functions\n",
    "def plot_semantic_expansion_sentence(writing_data, session_ids):\n",
    "    fig = make_subplots(\n",
    "        rows=len(session_ids),\n",
    "        cols=1,\n",
    "        subplot_titles=[f\"Session: {session_id}\" for session_id in session_ids],\n",
    "        vertical_spacing=0.15,\n",
    "    )\n",
    "    for idx, session_id in enumerate(session_ids, start=1):\n",
    "        if session_id not in writing_data:\n",
    "            print(f\"Warning: No data found for {session_id}\")\n",
    "            continue\n",
    "\n",
    "        session_actions = writing_data[session_id]\n",
    "        learning_data = []\n",
    "\n",
    "        writing_progress = 1\n",
    "        for i, action in enumerate(session_actions):\n",
    "            if \"writing_type\" in action:\n",
    "                if action[\"writing_type\"] == \"backstage\":\n",
    "                    if action[\"level_1_action_type\"] == \"insert_text_human_ai_prompt\":\n",
    "                        learning_data.append(\n",
    "                            {\n",
    "                                \"writing_progress\": writing_progress,\n",
    "                                \"action_type\": action.get(\"action_type\", \"\"),\n",
    "                                \"level_1_action_type\": \"human_insert_backstage\",\n",
    "                                \"semantic_expansion\": action[\"semantic_expansion\"]\n",
    "                            }\n",
    "                        )\n",
    "                        writing_progress += 1\n",
    "                    elif action[\"level_1_action_type\"] == \"present_suggestion\":\n",
    "                        learning_data.append(\n",
    "                            {\n",
    "                                \"writing_progress\": writing_progress,\n",
    "                                \"action_type\": action.get(\"action_type\", \"\"),\n",
    "                                \"level_1_action_type\": \"ai_suggest_backstage\",\n",
    "                                \"semantic_expansion\": action[\"semantic_expansion\"],\n",
    "                            }\n",
    "                        )\n",
    "                        writing_progress += 1\n",
    "                    # NEED TO IMPLEMENT THESE LATER\n",
    "                    # elif action[\"level_1_action_type\"] == \"delete_text\"\n",
    "                    # elif action[\"level_1_action_type\"] == \"human_edit_ai\"\n",
    "                elif action[\"writing_type\"] == \"frontstage\":\n",
    "                    if action[\"level_1_action_type\"] == \"insert_text_human\" and (not \"level_2_action_type\" in action or action[\"level_2_action_type\"] != \"human_edit_ai\"):\n",
    "                        for sentence in action[\"action_modified_sentences\"]:\n",
    "                            learning_data.append(\n",
    "                                {\n",
    "                                    \"writing_progress\": writing_progress,\n",
    "                                    \"action_type\": action.get(\"action_type\", \"\"),\n",
    "                                    \"level_1_action_type\": \"human_insert_frontstage\",\n",
    "                                    \"semantic_expansion\": action[\n",
    "                                        \"semantic_expansion_info\"\n",
    "                                    ][sentence],\n",
    "                                }\n",
    "                            )\n",
    "                            writing_progress += 1\n",
    "                            added = False\n",
    "                    elif \"level_2_action_type\" in action and action[\"level_2_action_type\"] == \"move_frontstage\":\n",
    "                        learning_data.append(\n",
    "                            {\n",
    "                                \"writing_progress\": writing_progress,\n",
    "                                \"action_type\": action.get(\"action_type\", \"\"),\n",
    "                                \"level_1_action_type\": \"ai_insert_moved_to_frontstage\",\n",
    "                                \"semantic_expansion\": action[\"semantic_expansion\"],\n",
    "                            }\n",
    "                        )\n",
    "                        writing_progress += 1\n",
    "                    elif action[\"level_1_action_type\"] == \"delete_text\":\n",
    "                        learning_data.append(\n",
    "                            {\n",
    "                                \"writing_progress\": writing_progress,\n",
    "                                \"action_type\": action.get(\"action_type\", \"\"),\n",
    "                                \"level_1_action_type\": \"human_delete_frontstage\",\n",
    "                                \"semantic_expansion\": action[\"semantic_expansion\"],\n",
    "                            }\n",
    "                        )\n",
    "                        writing_progress += 1\n",
    "                    elif \"level_2_action_type\" in action and action[\"level_2_action_type\"] == \"human_edit_ai\":\n",
    "                        learning_data.append(\n",
    "                            {\n",
    "                                \"writing_progress\": writing_progress,\n",
    "                                \"action_type\": action.get(\"action_type\", \"\"),\n",
    "                                \"level_1_action_type\": \"human_insert_edit_frontstage\",\n",
    "                                \"semantic_expansion\": action[\"semantic_expansion\"],\n",
    "                            }\n",
    "                        )\n",
    "                        writing_progress += 1\n",
    "\n",
    "        learning_data = sorted(learning_data, key=lambda x: x[\"writing_progress\"])\n",
    "        # print(learning_data)\n",
    "\n",
    "        if not learning_data:\n",
    "            print(f\"Warning: No data found for {session_id}\")\n",
    "            continue\n",
    "\n",
    "        data_df = pd.DataFrame(learning_data)\n",
    "\n",
    "        # Graph individual cognitive measures\n",
    "        y_max = 0.0\n",
    "        aggregate_score = 0.0\n",
    "        backstage_addition = 0.0\n",
    "        aggregate_data = []\n",
    "        for learning_index, action in enumerate(learning_data):\n",
    "            details = {\n",
    "                \"writing_progress\": action[\"writing_progress\"],\n",
    "                \"level_1_action_type\": action[\"level_1_action_type\"],\n",
    "                \"aggregate_semantic_expansion_frontend\": aggregate_score,\n",
    "                \"increment_semantic_expansion\": action[\"semantic_expansion\"],\n",
    "            }\n",
    "            if \"backstage\" in action[\"level_1_action_type\"]:\n",
    "                if learning_index>0 and learning_data[learning_index-1]:\n",
    "                    details[\"aggregate_semantic_expansion_frontend\"] += backstage_addition\n",
    "                backstage_addition += action[\"semantic_expansion\"]\n",
    "            if \"frontstage\" in action[\"level_1_action_type\"] and learning_index > 0 and learning_data[learning_index - 1]:\n",
    "                backstage_addition = 0.0\n",
    "                aggregate_score += action[\"semantic_expansion\"]\n",
    "\n",
    "            aggregate_data.append(details)\n",
    "            if aggregate_score > y_max:\n",
    "                y_max = aggregate_score\n",
    "        aggregate_df = pd.DataFrame(aggregate_data)\n",
    "        print(f\"{session_id}\")\n",
    "\n",
    "        colors = {\n",
    "            \"human_insert_backstage\": \"#64B5F6\",\n",
    "            \"ai_suggest_backstage\": \"#ff8fab\",\n",
    "            \"human_insert_frontstage\": \"#023e8a\",\n",
    "            \"ai_insert_moved_to_frontstage\": \"#c1121f\",\n",
    "            \"human_delete_frontstage\": \"#9d4edd\",\n",
    "            \"human_insert_edit_frontstage\": \"#5a189a\",\n",
    "        }\n",
    "\n",
    "        for action_type in colors.keys():\n",
    "            actions = [\n",
    "                action\n",
    "                for action in aggregate_data\n",
    "                if action.get(\"level_1_action_type\") == action_type\n",
    "            ]\n",
    "            for index in range(len(actions)-1,-1,-1):\n",
    "                x0 = actions[index][\"writing_progress\"] - 1\n",
    "                x1 = actions[index][\"writing_progress\"]\n",
    "                y0 = actions[index][\"aggregate_semantic_expansion_frontend\"]\n",
    "                y1 = y0 + actions[index][\"increment_semantic_expansion\"]\n",
    "\n",
    "                fig.add_trace(\n",
    "                    go.Scatter(\n",
    "                        x=[x0, x1],\n",
    "                        y=[y0, y1],\n",
    "                        mode=\"lines+markers\",                # ← line with a dot\n",
    "                        line=dict(color=colors[action_type], width=3),\n",
    "                        marker=dict(size=7, color=colors[action_type]),\n",
    "                        showlegend=False,                    # keep your existing legend\n",
    "                        hovertemplate=\"x=%{x}<br>y=%{y}<extra></extra>\",\n",
    "                    ),\n",
    "                    row=idx,\n",
    "                    col=1,\n",
    "                )\n",
    "\n",
    "        if idx == 1:\n",
    "            for color, hex in colors.items():\n",
    "                fig.add_trace(\n",
    "                    go.Scatter(\n",
    "                        x=[None],\n",
    "                        y=[None],\n",
    "                        mode=\"lines\",\n",
    "                        line=dict(color=hex, width=2),\n",
    "                        name=color,\n",
    "                        showlegend=True,\n",
    "                    ),\n",
    "                    row=1,\n",
    "                    col=1,\n",
    "                )\n",
    "\n",
    "    fig.update_layout(\n",
    "        plot_bgcolor=\"white\",\n",
    "        legend_title_font_color=\"rgba(0, 0, 0, 0)\",\n",
    "        height=500 * len(session_ids),\n",
    "        width=1800,\n",
    "        showlegend=True,\n",
    "        title={\n",
    "            \"text\": \"Semantic Expansion over Writing Sessions<br>\"\n",
    "            + '<span style=\"font-size: 12px;\">*Measuring how well humans are learning while writing with GenAI</span>',\n",
    "        },\n",
    "    )\n",
    "\n",
    "    fig.update_xaxes(\n",
    "        title=None,\n",
    "        range=[-1, data_df[\"writing_progress\"].max()+1],\n",
    "        mirror=False,\n",
    "        ticks=\"outside\",\n",
    "        showline=True,\n",
    "        linecolor=\"black\",\n",
    "        gridcolor=\"white\",\n",
    "    )\n",
    "\n",
    "    fig.update_xaxes(\n",
    "        title=\"Progress into the writing session\", row=len(session_ids), col=1\n",
    "    )\n",
    "\n",
    "    fig.update_yaxes(\n",
    "        title=\"Scores\",\n",
    "        mirror=False,\n",
    "        ticks=\"outside\",\n",
    "        showline=True,\n",
    "        linecolor=\"black\",\n",
    "        gridcolor=\"white\",\n",
    "    )\n",
    "\n",
    "    fig.show()\n",
    "    return fig"
   ]
  },
  {
   "cell_type": "code",
   "execution_count": 5,
   "id": "d486f367",
   "metadata": {},
   "outputs": [
    {
     "name": "stdout",
     "output_type": "stream",
     "text": [
      "legislation_corporate_1\n"
     ]
    },
    {
     "data": {
      "application/vnd.plotly.v1+json": {
       "config": {
        "plotlyServerURL": "https://plot.ly"
       },
       "data": [
        {
         "hovertemplate": "x=%{x}<br>y=%{y}<extra></extra>",
         "line": {
          "color": "#64B5F6",
          "width": 3
         },
         "marker": {
          "color": "#64B5F6",
          "size": 7
         },
         "mode": "lines+markers",
         "showlegend": false,
         "type": "scatter",
         "x": [
          6,
          7
         ],
         "xaxis": "x",
         "y": [
          1.7932162046432496,
          2.1024232268333436
         ],
         "yaxis": "y"
        },
        {
         "hovertemplate": "x=%{x}<br>y=%{y}<extra></extra>",
         "line": {
          "color": "#64B5F6",
          "width": 3
         },
         "marker": {
          "color": "#64B5F6",
          "size": 7
         },
         "mode": "lines+markers",
         "showlegend": false,
         "type": "scatter",
         "x": [
          4,
          5
         ],
         "xaxis": "x",
         "y": [
          1.136521887779236,
          1.4289077639579775
         ],
         "yaxis": "y"
        },
        {
         "hovertemplate": "x=%{x}<br>y=%{y}<extra></extra>",
         "line": {
          "color": "#64B5F6",
          "width": 3
         },
         "marker": {
          "color": "#64B5F6",
          "size": 7
         },
         "mode": "lines+markers",
         "showlegend": false,
         "type": "scatter",
         "x": [
          2,
          3
         ],
         "xaxis": "x",
         "y": [
          0.5434983253479004,
          0.842287290096283
         ],
         "yaxis": "y"
        },
        {
         "hovertemplate": "x=%{x}<br>y=%{y}<extra></extra>",
         "line": {
          "color": "#64B5F6",
          "width": 3
         },
         "marker": {
          "color": "#64B5F6",
          "size": 7
         },
         "mode": "lines+markers",
         "showlegend": false,
         "type": "scatter",
         "x": [
          0,
          1
         ],
         "xaxis": "x",
         "y": [
          0,
          0.255951464176178
         ],
         "yaxis": "y"
        },
        {
         "hovertemplate": "x=%{x}<br>y=%{y}<extra></extra>",
         "line": {
          "color": "#ff8fab",
          "width": 3
         },
         "marker": {
          "color": "#ff8fab",
          "size": 7
         },
         "mode": "lines+markers",
         "showlegend": false,
         "type": "scatter",
         "x": [
          33,
          34
         ],
         "xaxis": "x",
         "y": [
          11.236944139003754,
          11.729781532287598
         ],
         "yaxis": "y"
        },
        {
         "hovertemplate": "x=%{x}<br>y=%{y}<extra></extra>",
         "line": {
          "color": "#ff8fab",
          "width": 3
         },
         "marker": {
          "color": "#ff8fab",
          "size": 7
         },
         "mode": "lines+markers",
         "showlegend": false,
         "type": "scatter",
         "x": [
          16,
          17
         ],
         "xaxis": "x",
         "y": [
          2.035506308078766,
          2.5707480549812316
         ],
         "yaxis": "y"
        },
        {
         "hovertemplate": "x=%{x}<br>y=%{y}<extra></extra>",
         "line": {
          "color": "#ff8fab",
          "width": 3
         },
         "marker": {
          "color": "#ff8fab",
          "size": 7
         },
         "mode": "lines+markers",
         "showlegend": false,
         "type": "scatter",
         "x": [
          7,
          8
         ],
         "xaxis": "x",
         "y": [
          2.1024232268333436,
          2.3755739808082583
         ],
         "yaxis": "y"
        },
        {
         "hovertemplate": "x=%{x}<br>y=%{y}<extra></extra>",
         "line": {
          "color": "#ff8fab",
          "width": 3
         },
         "marker": {
          "color": "#ff8fab",
          "size": 7
         },
         "mode": "lines+markers",
         "showlegend": false,
         "type": "scatter",
         "x": [
          5,
          6
         ],
         "xaxis": "x",
         "y": [
          1.4289077639579775,
          1.7932162046432496
         ],
         "yaxis": "y"
        },
        {
         "hovertemplate": "x=%{x}<br>y=%{y}<extra></extra>",
         "line": {
          "color": "#ff8fab",
          "width": 3
         },
         "marker": {
          "color": "#ff8fab",
          "size": 7
         },
         "mode": "lines+markers",
         "showlegend": false,
         "type": "scatter",
         "x": [
          3,
          4
         ],
         "xaxis": "x",
         "y": [
          0.842287290096283,
          1.136521887779236
         ],
         "yaxis": "y"
        },
        {
         "hovertemplate": "x=%{x}<br>y=%{y}<extra></extra>",
         "line": {
          "color": "#ff8fab",
          "width": 3
         },
         "marker": {
          "color": "#ff8fab",
          "size": 7
         },
         "mode": "lines+markers",
         "showlegend": false,
         "type": "scatter",
         "x": [
          1,
          2
         ],
         "xaxis": "x",
         "y": [
          0.255951464176178,
          0.5434983253479004
         ],
         "yaxis": "y"
        },
        {
         "hovertemplate": "x=%{x}<br>y=%{y}<extra></extra>",
         "line": {
          "color": "#023e8a",
          "width": 3
         },
         "marker": {
          "color": "#023e8a",
          "size": 7
         },
         "mode": "lines+markers",
         "showlegend": false,
         "type": "scatter",
         "x": [
          43,
          44
         ],
         "xaxis": "x",
         "y": [
          16.406732976436615,
          16.751631140708923
         ],
         "yaxis": "y"
        },
        {
         "hovertemplate": "x=%{x}<br>y=%{y}<extra></extra>",
         "line": {
          "color": "#023e8a",
          "width": 3
         },
         "marker": {
          "color": "#023e8a",
          "size": 7
         },
         "mode": "lines+markers",
         "showlegend": false,
         "type": "scatter",
         "x": [
          41,
          42
         ],
         "xaxis": "x",
         "y": [
          16.12849050760269,
          16.435465455055237
         ],
         "yaxis": "y"
        },
        {
         "hovertemplate": "x=%{x}<br>y=%{y}<extra></extra>",
         "line": {
          "color": "#023e8a",
          "width": 3
         },
         "marker": {
          "color": "#023e8a",
          "size": 7
         },
         "mode": "lines+markers",
         "showlegend": false,
         "type": "scatter",
         "x": [
          40,
          41
         ],
         "xaxis": "x",
         "y": [
          15.861764192581177,
          16.12849050760269
         ],
         "yaxis": "y"
        },
        {
         "hovertemplate": "x=%{x}<br>y=%{y}<extra></extra>",
         "line": {
          "color": "#023e8a",
          "width": 3
         },
         "marker": {
          "color": "#023e8a",
          "size": 7
         },
         "mode": "lines+markers",
         "showlegend": false,
         "type": "scatter",
         "x": [
          39,
          40
         ],
         "xaxis": "x",
         "y": [
          15.54540205001831,
          15.861764192581177
         ],
         "yaxis": "y"
        },
        {
         "hovertemplate": "x=%{x}<br>y=%{y}<extra></extra>",
         "line": {
          "color": "#023e8a",
          "width": 3
         },
         "marker": {
          "color": "#023e8a",
          "size": 7
         },
         "mode": "lines+markers",
         "showlegend": false,
         "type": "scatter",
         "x": [
          38,
          39
         ],
         "xaxis": "x",
         "y": [
          15.166261315345764,
          15.54540205001831
         ],
         "yaxis": "y"
        },
        {
         "hovertemplate": "x=%{x}<br>y=%{y}<extra></extra>",
         "line": {
          "color": "#023e8a",
          "width": 3
         },
         "marker": {
          "color": "#023e8a",
          "size": 7
         },
         "mode": "lines+markers",
         "showlegend": false,
         "type": "scatter",
         "x": [
          37,
          38
         ],
         "xaxis": "x",
         "y": [
          14.55288577079773,
          15.166261315345764
         ],
         "yaxis": "y"
        },
        {
         "hovertemplate": "x=%{x}<br>y=%{y}<extra></extra>",
         "line": {
          "color": "#023e8a",
          "width": 3
         },
         "marker": {
          "color": "#023e8a",
          "size": 7
         },
         "mode": "lines+markers",
         "showlegend": false,
         "type": "scatter",
         "x": [
          36,
          37
         ],
         "xaxis": "x",
         "y": [
          14.25521171092987,
          14.55288577079773
         ],
         "yaxis": "y"
        },
        {
         "hovertemplate": "x=%{x}<br>y=%{y}<extra></extra>",
         "line": {
          "color": "#023e8a",
          "width": 3
         },
         "marker": {
          "color": "#023e8a",
          "size": 7
         },
         "mode": "lines+markers",
         "showlegend": false,
         "type": "scatter",
         "x": [
          35,
          36
         ],
         "xaxis": "x",
         "y": [
          13.95399034023285,
          14.25521171092987
         ],
         "yaxis": "y"
        },
        {
         "hovertemplate": "x=%{x}<br>y=%{y}<extra></extra>",
         "line": {
          "color": "#023e8a",
          "width": 3
         },
         "marker": {
          "color": "#023e8a",
          "size": 7
         },
         "mode": "lines+markers",
         "showlegend": false,
         "type": "scatter",
         "x": [
          32,
          33
         ],
         "xaxis": "x",
         "y": [
          10.704876124858856,
          11.236944139003754
         ],
         "yaxis": "y"
        },
        {
         "hovertemplate": "x=%{x}<br>y=%{y}<extra></extra>",
         "line": {
          "color": "#023e8a",
          "width": 3
         },
         "marker": {
          "color": "#023e8a",
          "size": 7
         },
         "mode": "lines+markers",
         "showlegend": false,
         "type": "scatter",
         "x": [
          31,
          32
         ],
         "xaxis": "x",
         "y": [
          10.229720711708069,
          10.704876124858856
         ],
         "yaxis": "y"
        },
        {
         "hovertemplate": "x=%{x}<br>y=%{y}<extra></extra>",
         "line": {
          "color": "#023e8a",
          "width": 3
         },
         "marker": {
          "color": "#023e8a",
          "size": 7
         },
         "mode": "lines+markers",
         "showlegend": false,
         "type": "scatter",
         "x": [
          30,
          31
         ],
         "xaxis": "x",
         "y": [
          9.721309423446655,
          10.229720711708069
         ],
         "yaxis": "y"
        },
        {
         "hovertemplate": "x=%{x}<br>y=%{y}<extra></extra>",
         "line": {
          "color": "#023e8a",
          "width": 3
         },
         "marker": {
          "color": "#023e8a",
          "size": 7
         },
         "mode": "lines+markers",
         "showlegend": false,
         "type": "scatter",
         "x": [
          29,
          30
         ],
         "xaxis": "x",
         "y": [
          9.261149823665619,
          9.721309423446655
         ],
         "yaxis": "y"
        },
        {
         "hovertemplate": "x=%{x}<br>y=%{y}<extra></extra>",
         "line": {
          "color": "#023e8a",
          "width": 3
         },
         "marker": {
          "color": "#023e8a",
          "size": 7
         },
         "mode": "lines+markers",
         "showlegend": false,
         "type": "scatter",
         "x": [
          28,
          29
         ],
         "xaxis": "x",
         "y": [
          8.961495161056519,
          9.261149823665619
         ],
         "yaxis": "y"
        },
        {
         "hovertemplate": "x=%{x}<br>y=%{y}<extra></extra>",
         "line": {
          "color": "#023e8a",
          "width": 3
         },
         "marker": {
          "color": "#023e8a",
          "size": 7
         },
         "mode": "lines+markers",
         "showlegend": false,
         "type": "scatter",
         "x": [
          27,
          28
         ],
         "xaxis": "x",
         "y": [
          8.185050010681152,
          8.961495161056519
         ],
         "yaxis": "y"
        },
        {
         "hovertemplate": "x=%{x}<br>y=%{y}<extra></extra>",
         "line": {
          "color": "#023e8a",
          "width": 3
         },
         "marker": {
          "color": "#023e8a",
          "size": 7
         },
         "mode": "lines+markers",
         "showlegend": false,
         "type": "scatter",
         "x": [
          26,
          27
         ],
         "xaxis": "x",
         "y": [
          7.520935773849487,
          8.185050010681152
         ],
         "yaxis": "y"
        },
        {
         "hovertemplate": "x=%{x}<br>y=%{y}<extra></extra>",
         "line": {
          "color": "#023e8a",
          "width": 3
         },
         "marker": {
          "color": "#023e8a",
          "size": 7
         },
         "mode": "lines+markers",
         "showlegend": false,
         "type": "scatter",
         "x": [
          25,
          26
         ],
         "xaxis": "x",
         "y": [
          6.888827681541443,
          7.520935773849487
         ],
         "yaxis": "y"
        },
        {
         "hovertemplate": "x=%{x}<br>y=%{y}<extra></extra>",
         "line": {
          "color": "#023e8a",
          "width": 3
         },
         "marker": {
          "color": "#023e8a",
          "size": 7
         },
         "mode": "lines+markers",
         "showlegend": false,
         "type": "scatter",
         "x": [
          24,
          25
         ],
         "xaxis": "x",
         "y": [
          6.184372007846832,
          6.888827681541443
         ],
         "yaxis": "y"
        },
        {
         "hovertemplate": "x=%{x}<br>y=%{y}<extra></extra>",
         "line": {
          "color": "#023e8a",
          "width": 3
         },
         "marker": {
          "color": "#023e8a",
          "size": 7
         },
         "mode": "lines+markers",
         "showlegend": false,
         "type": "scatter",
         "x": [
          23,
          24
         ],
         "xaxis": "x",
         "y": [
          5.815431773662567,
          6.184372007846832
         ],
         "yaxis": "y"
        },
        {
         "hovertemplate": "x=%{x}<br>y=%{y}<extra></extra>",
         "line": {
          "color": "#023e8a",
          "width": 3
         },
         "marker": {
          "color": "#023e8a",
          "size": 7
         },
         "mode": "lines+markers",
         "showlegend": false,
         "type": "scatter",
         "x": [
          22,
          23
         ],
         "xaxis": "x",
         "y": [
          5.166357576847076,
          5.815431773662567
         ],
         "yaxis": "y"
        },
        {
         "hovertemplate": "x=%{x}<br>y=%{y}<extra></extra>",
         "line": {
          "color": "#023e8a",
          "width": 3
         },
         "marker": {
          "color": "#023e8a",
          "size": 7
         },
         "mode": "lines+markers",
         "showlegend": false,
         "type": "scatter",
         "x": [
          21,
          22
         ],
         "xaxis": "x",
         "y": [
          4.305099010467529,
          5.166357576847076
         ],
         "yaxis": "y"
        },
        {
         "hovertemplate": "x=%{x}<br>y=%{y}<extra></extra>",
         "line": {
          "color": "#023e8a",
          "width": 3
         },
         "marker": {
          "color": "#023e8a",
          "size": 7
         },
         "mode": "lines+markers",
         "showlegend": false,
         "type": "scatter",
         "x": [
          20,
          21
         ],
         "xaxis": "x",
         "y": [
          3.8521310687065125,
          4.305099010467529
         ],
         "yaxis": "y"
        },
        {
         "hovertemplate": "x=%{x}<br>y=%{y}<extra></extra>",
         "line": {
          "color": "#023e8a",
          "width": 3
         },
         "marker": {
          "color": "#023e8a",
          "size": 7
         },
         "mode": "lines+markers",
         "showlegend": false,
         "type": "scatter",
         "x": [
          19,
          20
         ],
         "xaxis": "x",
         "y": [
          3.4302845001220703,
          3.8521310687065125
         ],
         "yaxis": "y"
        },
        {
         "hovertemplate": "x=%{x}<br>y=%{y}<extra></extra>",
         "line": {
          "color": "#023e8a",
          "width": 3
         },
         "marker": {
          "color": "#023e8a",
          "size": 7
         },
         "mode": "lines+markers",
         "showlegend": false,
         "type": "scatter",
         "x": [
          18,
          19
         ],
         "xaxis": "x",
         "y": [
          2.695667803287506,
          3.4302845001220703
         ],
         "yaxis": "y"
        },
        {
         "hovertemplate": "x=%{x}<br>y=%{y}<extra></extra>",
         "line": {
          "color": "#023e8a",
          "width": 3
         },
         "marker": {
          "color": "#023e8a",
          "size": 7
         },
         "mode": "lines+markers",
         "showlegend": false,
         "type": "scatter",
         "x": [
          17,
          18
         ],
         "xaxis": "x",
         "y": [
          2.035506308078766,
          2.695667803287506
         ],
         "yaxis": "y"
        },
        {
         "hovertemplate": "x=%{x}<br>y=%{y}<extra></extra>",
         "line": {
          "color": "#023e8a",
          "width": 3
         },
         "marker": {
          "color": "#023e8a",
          "size": 7
         },
         "mode": "lines+markers",
         "showlegend": false,
         "type": "scatter",
         "x": [
          15,
          16
         ],
         "xaxis": "x",
         "y": [
          1.733238160610199,
          2.035506308078766
         ],
         "yaxis": "y"
        },
        {
         "hovertemplate": "x=%{x}<br>y=%{y}<extra></extra>",
         "line": {
          "color": "#023e8a",
          "width": 3
         },
         "marker": {
          "color": "#023e8a",
          "size": 7
         },
         "mode": "lines+markers",
         "showlegend": false,
         "type": "scatter",
         "x": [
          14,
          15
         ],
         "xaxis": "x",
         "y": [
          1.321330189704895,
          1.733238160610199
         ],
         "yaxis": "y"
        },
        {
         "hovertemplate": "x=%{x}<br>y=%{y}<extra></extra>",
         "line": {
          "color": "#023e8a",
          "width": 3
         },
         "marker": {
          "color": "#023e8a",
          "size": 7
         },
         "mode": "lines+markers",
         "showlegend": false,
         "type": "scatter",
         "x": [
          13,
          14
         ],
         "xaxis": "x",
         "y": [
          1.0500288009643555,
          1.321330189704895
         ],
         "yaxis": "y"
        },
        {
         "hovertemplate": "x=%{x}<br>y=%{y}<extra></extra>",
         "line": {
          "color": "#023e8a",
          "width": 3
         },
         "marker": {
          "color": "#023e8a",
          "size": 7
         },
         "mode": "lines+markers",
         "showlegend": false,
         "type": "scatter",
         "x": [
          12,
          13
         ],
         "xaxis": "x",
         "y": [
          0.6040837168693542,
          1.0500288009643555
         ],
         "yaxis": "y"
        },
        {
         "hovertemplate": "x=%{x}<br>y=%{y}<extra></extra>",
         "line": {
          "color": "#023e8a",
          "width": 3
         },
         "marker": {
          "color": "#023e8a",
          "size": 7
         },
         "mode": "lines+markers",
         "showlegend": false,
         "type": "scatter",
         "x": [
          11,
          12
         ],
         "xaxis": "x",
         "y": [
          0.32916927337646484,
          0.6040837168693542
         ],
         "yaxis": "y"
        },
        {
         "hovertemplate": "x=%{x}<br>y=%{y}<extra></extra>",
         "line": {
          "color": "#023e8a",
          "width": 3
         },
         "marker": {
          "color": "#023e8a",
          "size": 7
         },
         "mode": "lines+markers",
         "showlegend": false,
         "type": "scatter",
         "x": [
          10,
          11
         ],
         "xaxis": "x",
         "y": [
          0.18391817808151245,
          0.32916927337646484
         ],
         "yaxis": "y"
        },
        {
         "hovertemplate": "x=%{x}<br>y=%{y}<extra></extra>",
         "line": {
          "color": "#023e8a",
          "width": 3
         },
         "marker": {
          "color": "#023e8a",
          "size": 7
         },
         "mode": "lines+markers",
         "showlegend": false,
         "type": "scatter",
         "x": [
          9,
          10
         ],
         "xaxis": "x",
         "y": [
          0,
          0.18391817808151245
         ],
         "yaxis": "y"
        },
        {
         "hovertemplate": "x=%{x}<br>y=%{y}<extra></extra>",
         "line": {
          "color": "#c1121f",
          "width": 3
         },
         "marker": {
          "color": "#c1121f",
          "size": 7
         },
         "mode": "lines+markers",
         "showlegend": false,
         "type": "scatter",
         "x": [
          34,
          35
         ],
         "xaxis": "x",
         "y": [
          11.236944139003754,
          13.95399034023285
         ],
         "yaxis": "y"
        },
        {
         "hovertemplate": "x=%{x}<br>y=%{y}<extra></extra>",
         "line": {
          "color": "#9d4edd",
          "width": 3
         },
         "marker": {
          "color": "#9d4edd",
          "size": 7
         },
         "mode": "lines+markers",
         "showlegend": false,
         "type": "scatter",
         "x": [
          42,
          43
         ],
         "xaxis": "x",
         "y": [
          16.435465455055237,
          16.406732976436615
         ],
         "yaxis": "y"
        },
        {
         "hovertemplate": "x=%{x}<br>y=%{y}<extra></extra>",
         "line": {
          "color": "#9d4edd",
          "width": 3
         },
         "marker": {
          "color": "#9d4edd",
          "size": 7
         },
         "mode": "lines+markers",
         "showlegend": false,
         "type": "scatter",
         "x": [
          8,
          9
         ],
         "xaxis": "x",
         "y": [
          0,
          0
         ],
         "yaxis": "y"
        },
        {
         "line": {
          "color": "#64B5F6",
          "width": 2
         },
         "mode": "lines",
         "name": "human_insert_backstage",
         "showlegend": true,
         "type": "scatter",
         "x": [
          null
         ],
         "xaxis": "x",
         "y": [
          null
         ],
         "yaxis": "y"
        },
        {
         "line": {
          "color": "#ff8fab",
          "width": 2
         },
         "mode": "lines",
         "name": "ai_suggest_backstage",
         "showlegend": true,
         "type": "scatter",
         "x": [
          null
         ],
         "xaxis": "x",
         "y": [
          null
         ],
         "yaxis": "y"
        },
        {
         "line": {
          "color": "#023e8a",
          "width": 2
         },
         "mode": "lines",
         "name": "human_insert_frontstage",
         "showlegend": true,
         "type": "scatter",
         "x": [
          null
         ],
         "xaxis": "x",
         "y": [
          null
         ],
         "yaxis": "y"
        },
        {
         "line": {
          "color": "#c1121f",
          "width": 2
         },
         "mode": "lines",
         "name": "ai_insert_moved_to_frontstage",
         "showlegend": true,
         "type": "scatter",
         "x": [
          null
         ],
         "xaxis": "x",
         "y": [
          null
         ],
         "yaxis": "y"
        },
        {
         "line": {
          "color": "#9d4edd",
          "width": 2
         },
         "mode": "lines",
         "name": "human_delete_frontstage",
         "showlegend": true,
         "type": "scatter",
         "x": [
          null
         ],
         "xaxis": "x",
         "y": [
          null
         ],
         "yaxis": "y"
        },
        {
         "line": {
          "color": "#5a189a",
          "width": 2
         },
         "mode": "lines",
         "name": "human_insert_edit_frontstage",
         "showlegend": true,
         "type": "scatter",
         "x": [
          null
         ],
         "xaxis": "x",
         "y": [
          null
         ],
         "yaxis": "y"
        }
       ],
       "layout": {
        "annotations": [
         {
          "font": {
           "size": 16
          },
          "showarrow": false,
          "text": "Session: legislation_corporate_1",
          "x": 0.5,
          "xanchor": "center",
          "xref": "paper",
          "y": 1,
          "yanchor": "bottom",
          "yref": "paper"
         }
        ],
        "height": 500,
        "legend": {
         "title": {
          "font": {
           "color": "rgba(0, 0, 0, 0)"
          }
         }
        },
        "plot_bgcolor": "white",
        "showlegend": true,
        "template": {
         "data": {
          "bar": [
           {
            "error_x": {
             "color": "#2a3f5f"
            },
            "error_y": {
             "color": "#2a3f5f"
            },
            "marker": {
             "line": {
              "color": "#E5ECF6",
              "width": 0.5
             },
             "pattern": {
              "fillmode": "overlay",
              "size": 10,
              "solidity": 0.2
             }
            },
            "type": "bar"
           }
          ],
          "barpolar": [
           {
            "marker": {
             "line": {
              "color": "#E5ECF6",
              "width": 0.5
             },
             "pattern": {
              "fillmode": "overlay",
              "size": 10,
              "solidity": 0.2
             }
            },
            "type": "barpolar"
           }
          ],
          "carpet": [
           {
            "aaxis": {
             "endlinecolor": "#2a3f5f",
             "gridcolor": "white",
             "linecolor": "white",
             "minorgridcolor": "white",
             "startlinecolor": "#2a3f5f"
            },
            "baxis": {
             "endlinecolor": "#2a3f5f",
             "gridcolor": "white",
             "linecolor": "white",
             "minorgridcolor": "white",
             "startlinecolor": "#2a3f5f"
            },
            "type": "carpet"
           }
          ],
          "choropleth": [
           {
            "colorbar": {
             "outlinewidth": 0,
             "ticks": ""
            },
            "type": "choropleth"
           }
          ],
          "contour": [
           {
            "colorbar": {
             "outlinewidth": 0,
             "ticks": ""
            },
            "colorscale": [
             [
              0,
              "#0d0887"
             ],
             [
              0.1111111111111111,
              "#46039f"
             ],
             [
              0.2222222222222222,
              "#7201a8"
             ],
             [
              0.3333333333333333,
              "#9c179e"
             ],
             [
              0.4444444444444444,
              "#bd3786"
             ],
             [
              0.5555555555555556,
              "#d8576b"
             ],
             [
              0.6666666666666666,
              "#ed7953"
             ],
             [
              0.7777777777777778,
              "#fb9f3a"
             ],
             [
              0.8888888888888888,
              "#fdca26"
             ],
             [
              1,
              "#f0f921"
             ]
            ],
            "type": "contour"
           }
          ],
          "contourcarpet": [
           {
            "colorbar": {
             "outlinewidth": 0,
             "ticks": ""
            },
            "type": "contourcarpet"
           }
          ],
          "heatmap": [
           {
            "colorbar": {
             "outlinewidth": 0,
             "ticks": ""
            },
            "colorscale": [
             [
              0,
              "#0d0887"
             ],
             [
              0.1111111111111111,
              "#46039f"
             ],
             [
              0.2222222222222222,
              "#7201a8"
             ],
             [
              0.3333333333333333,
              "#9c179e"
             ],
             [
              0.4444444444444444,
              "#bd3786"
             ],
             [
              0.5555555555555556,
              "#d8576b"
             ],
             [
              0.6666666666666666,
              "#ed7953"
             ],
             [
              0.7777777777777778,
              "#fb9f3a"
             ],
             [
              0.8888888888888888,
              "#fdca26"
             ],
             [
              1,
              "#f0f921"
             ]
            ],
            "type": "heatmap"
           }
          ],
          "histogram": [
           {
            "marker": {
             "pattern": {
              "fillmode": "overlay",
              "size": 10,
              "solidity": 0.2
             }
            },
            "type": "histogram"
           }
          ],
          "histogram2d": [
           {
            "colorbar": {
             "outlinewidth": 0,
             "ticks": ""
            },
            "colorscale": [
             [
              0,
              "#0d0887"
             ],
             [
              0.1111111111111111,
              "#46039f"
             ],
             [
              0.2222222222222222,
              "#7201a8"
             ],
             [
              0.3333333333333333,
              "#9c179e"
             ],
             [
              0.4444444444444444,
              "#bd3786"
             ],
             [
              0.5555555555555556,
              "#d8576b"
             ],
             [
              0.6666666666666666,
              "#ed7953"
             ],
             [
              0.7777777777777778,
              "#fb9f3a"
             ],
             [
              0.8888888888888888,
              "#fdca26"
             ],
             [
              1,
              "#f0f921"
             ]
            ],
            "type": "histogram2d"
           }
          ],
          "histogram2dcontour": [
           {
            "colorbar": {
             "outlinewidth": 0,
             "ticks": ""
            },
            "colorscale": [
             [
              0,
              "#0d0887"
             ],
             [
              0.1111111111111111,
              "#46039f"
             ],
             [
              0.2222222222222222,
              "#7201a8"
             ],
             [
              0.3333333333333333,
              "#9c179e"
             ],
             [
              0.4444444444444444,
              "#bd3786"
             ],
             [
              0.5555555555555556,
              "#d8576b"
             ],
             [
              0.6666666666666666,
              "#ed7953"
             ],
             [
              0.7777777777777778,
              "#fb9f3a"
             ],
             [
              0.8888888888888888,
              "#fdca26"
             ],
             [
              1,
              "#f0f921"
             ]
            ],
            "type": "histogram2dcontour"
           }
          ],
          "mesh3d": [
           {
            "colorbar": {
             "outlinewidth": 0,
             "ticks": ""
            },
            "type": "mesh3d"
           }
          ],
          "parcoords": [
           {
            "line": {
             "colorbar": {
              "outlinewidth": 0,
              "ticks": ""
             }
            },
            "type": "parcoords"
           }
          ],
          "pie": [
           {
            "automargin": true,
            "type": "pie"
           }
          ],
          "scatter": [
           {
            "fillpattern": {
             "fillmode": "overlay",
             "size": 10,
             "solidity": 0.2
            },
            "type": "scatter"
           }
          ],
          "scatter3d": [
           {
            "line": {
             "colorbar": {
              "outlinewidth": 0,
              "ticks": ""
             }
            },
            "marker": {
             "colorbar": {
              "outlinewidth": 0,
              "ticks": ""
             }
            },
            "type": "scatter3d"
           }
          ],
          "scattercarpet": [
           {
            "marker": {
             "colorbar": {
              "outlinewidth": 0,
              "ticks": ""
             }
            },
            "type": "scattercarpet"
           }
          ],
          "scattergeo": [
           {
            "marker": {
             "colorbar": {
              "outlinewidth": 0,
              "ticks": ""
             }
            },
            "type": "scattergeo"
           }
          ],
          "scattergl": [
           {
            "marker": {
             "colorbar": {
              "outlinewidth": 0,
              "ticks": ""
             }
            },
            "type": "scattergl"
           }
          ],
          "scattermap": [
           {
            "marker": {
             "colorbar": {
              "outlinewidth": 0,
              "ticks": ""
             }
            },
            "type": "scattermap"
           }
          ],
          "scattermapbox": [
           {
            "marker": {
             "colorbar": {
              "outlinewidth": 0,
              "ticks": ""
             }
            },
            "type": "scattermapbox"
           }
          ],
          "scatterpolar": [
           {
            "marker": {
             "colorbar": {
              "outlinewidth": 0,
              "ticks": ""
             }
            },
            "type": "scatterpolar"
           }
          ],
          "scatterpolargl": [
           {
            "marker": {
             "colorbar": {
              "outlinewidth": 0,
              "ticks": ""
             }
            },
            "type": "scatterpolargl"
           }
          ],
          "scatterternary": [
           {
            "marker": {
             "colorbar": {
              "outlinewidth": 0,
              "ticks": ""
             }
            },
            "type": "scatterternary"
           }
          ],
          "surface": [
           {
            "colorbar": {
             "outlinewidth": 0,
             "ticks": ""
            },
            "colorscale": [
             [
              0,
              "#0d0887"
             ],
             [
              0.1111111111111111,
              "#46039f"
             ],
             [
              0.2222222222222222,
              "#7201a8"
             ],
             [
              0.3333333333333333,
              "#9c179e"
             ],
             [
              0.4444444444444444,
              "#bd3786"
             ],
             [
              0.5555555555555556,
              "#d8576b"
             ],
             [
              0.6666666666666666,
              "#ed7953"
             ],
             [
              0.7777777777777778,
              "#fb9f3a"
             ],
             [
              0.8888888888888888,
              "#fdca26"
             ],
             [
              1,
              "#f0f921"
             ]
            ],
            "type": "surface"
           }
          ],
          "table": [
           {
            "cells": {
             "fill": {
              "color": "#EBF0F8"
             },
             "line": {
              "color": "white"
             }
            },
            "header": {
             "fill": {
              "color": "#C8D4E3"
             },
             "line": {
              "color": "white"
             }
            },
            "type": "table"
           }
          ]
         },
         "layout": {
          "annotationdefaults": {
           "arrowcolor": "#2a3f5f",
           "arrowhead": 0,
           "arrowwidth": 1
          },
          "autotypenumbers": "strict",
          "coloraxis": {
           "colorbar": {
            "outlinewidth": 0,
            "ticks": ""
           }
          },
          "colorscale": {
           "diverging": [
            [
             0,
             "#8e0152"
            ],
            [
             0.1,
             "#c51b7d"
            ],
            [
             0.2,
             "#de77ae"
            ],
            [
             0.3,
             "#f1b6da"
            ],
            [
             0.4,
             "#fde0ef"
            ],
            [
             0.5,
             "#f7f7f7"
            ],
            [
             0.6,
             "#e6f5d0"
            ],
            [
             0.7,
             "#b8e186"
            ],
            [
             0.8,
             "#7fbc41"
            ],
            [
             0.9,
             "#4d9221"
            ],
            [
             1,
             "#276419"
            ]
           ],
           "sequential": [
            [
             0,
             "#0d0887"
            ],
            [
             0.1111111111111111,
             "#46039f"
            ],
            [
             0.2222222222222222,
             "#7201a8"
            ],
            [
             0.3333333333333333,
             "#9c179e"
            ],
            [
             0.4444444444444444,
             "#bd3786"
            ],
            [
             0.5555555555555556,
             "#d8576b"
            ],
            [
             0.6666666666666666,
             "#ed7953"
            ],
            [
             0.7777777777777778,
             "#fb9f3a"
            ],
            [
             0.8888888888888888,
             "#fdca26"
            ],
            [
             1,
             "#f0f921"
            ]
           ],
           "sequentialminus": [
            [
             0,
             "#0d0887"
            ],
            [
             0.1111111111111111,
             "#46039f"
            ],
            [
             0.2222222222222222,
             "#7201a8"
            ],
            [
             0.3333333333333333,
             "#9c179e"
            ],
            [
             0.4444444444444444,
             "#bd3786"
            ],
            [
             0.5555555555555556,
             "#d8576b"
            ],
            [
             0.6666666666666666,
             "#ed7953"
            ],
            [
             0.7777777777777778,
             "#fb9f3a"
            ],
            [
             0.8888888888888888,
             "#fdca26"
            ],
            [
             1,
             "#f0f921"
            ]
           ]
          },
          "colorway": [
           "#636efa",
           "#EF553B",
           "#00cc96",
           "#ab63fa",
           "#FFA15A",
           "#19d3f3",
           "#FF6692",
           "#B6E880",
           "#FF97FF",
           "#FECB52"
          ],
          "font": {
           "color": "#2a3f5f"
          },
          "geo": {
           "bgcolor": "white",
           "lakecolor": "white",
           "landcolor": "#E5ECF6",
           "showlakes": true,
           "showland": true,
           "subunitcolor": "white"
          },
          "hoverlabel": {
           "align": "left"
          },
          "hovermode": "closest",
          "mapbox": {
           "style": "light"
          },
          "paper_bgcolor": "white",
          "plot_bgcolor": "#E5ECF6",
          "polar": {
           "angularaxis": {
            "gridcolor": "white",
            "linecolor": "white",
            "ticks": ""
           },
           "bgcolor": "#E5ECF6",
           "radialaxis": {
            "gridcolor": "white",
            "linecolor": "white",
            "ticks": ""
           }
          },
          "scene": {
           "xaxis": {
            "backgroundcolor": "#E5ECF6",
            "gridcolor": "white",
            "gridwidth": 2,
            "linecolor": "white",
            "showbackground": true,
            "ticks": "",
            "zerolinecolor": "white"
           },
           "yaxis": {
            "backgroundcolor": "#E5ECF6",
            "gridcolor": "white",
            "gridwidth": 2,
            "linecolor": "white",
            "showbackground": true,
            "ticks": "",
            "zerolinecolor": "white"
           },
           "zaxis": {
            "backgroundcolor": "#E5ECF6",
            "gridcolor": "white",
            "gridwidth": 2,
            "linecolor": "white",
            "showbackground": true,
            "ticks": "",
            "zerolinecolor": "white"
           }
          },
          "shapedefaults": {
           "line": {
            "color": "#2a3f5f"
           }
          },
          "ternary": {
           "aaxis": {
            "gridcolor": "white",
            "linecolor": "white",
            "ticks": ""
           },
           "baxis": {
            "gridcolor": "white",
            "linecolor": "white",
            "ticks": ""
           },
           "bgcolor": "#E5ECF6",
           "caxis": {
            "gridcolor": "white",
            "linecolor": "white",
            "ticks": ""
           }
          },
          "title": {
           "x": 0.05
          },
          "xaxis": {
           "automargin": true,
           "gridcolor": "white",
           "linecolor": "white",
           "ticks": "",
           "title": {
            "standoff": 15
           },
           "zerolinecolor": "white",
           "zerolinewidth": 2
          },
          "yaxis": {
           "automargin": true,
           "gridcolor": "white",
           "linecolor": "white",
           "ticks": "",
           "title": {
            "standoff": 15
           },
           "zerolinecolor": "white",
           "zerolinewidth": 2
          }
         }
        },
        "title": {
         "text": "Semantic Expansion over Writing Sessions<br><span style=\"font-size: 12px;\">*Measuring how well humans are learning while writing with GenAI</span>"
        },
        "width": 1800,
        "xaxis": {
         "anchor": "y",
         "domain": [
          0,
          1
         ],
         "gridcolor": "white",
         "linecolor": "black",
         "mirror": false,
         "range": [
          -1,
          45
         ],
         "showline": true,
         "ticks": "outside",
         "title": {
          "text": "Progress into the writing session"
         }
        },
        "yaxis": {
         "anchor": "x",
         "domain": [
          0,
          1
         ],
         "gridcolor": "white",
         "linecolor": "black",
         "mirror": false,
         "showline": true,
         "ticks": "outside",
         "title": {
          "text": "Scores"
         }
        }
       }
      }
     },
     "metadata": {},
     "output_type": "display_data"
    },
    {
     "name": "stdout",
     "output_type": "stream",
     "text": [
      "legislation_corporate_2\n"
     ]
    },
    {
     "data": {
      "application/vnd.plotly.v1+json": {
       "config": {
        "plotlyServerURL": "https://plot.ly"
       },
       "data": [
        {
         "hovertemplate": "x=%{x}<br>y=%{y}<extra></extra>",
         "line": {
          "color": "#64B5F6",
          "width": 3
         },
         "marker": {
          "color": "#64B5F6",
          "size": 7
         },
         "mode": "lines+markers",
         "showlegend": false,
         "type": "scatter",
         "x": [
          52,
          53
         ],
         "xaxis": "x",
         "y": [
          10.231233894824982,
          10.546853482723236
         ],
         "yaxis": "y"
        },
        {
         "hovertemplate": "x=%{x}<br>y=%{y}<extra></extra>",
         "line": {
          "color": "#64B5F6",
          "width": 3
         },
         "marker": {
          "color": "#64B5F6",
          "size": 7
         },
         "mode": "lines+markers",
         "showlegend": false,
         "type": "scatter",
         "x": [
          25,
          26
         ],
         "xaxis": "x",
         "y": [
          4.343161940574646,
          4.460584819316864
         ],
         "yaxis": "y"
        },
        {
         "hovertemplate": "x=%{x}<br>y=%{y}<extra></extra>",
         "line": {
          "color": "#64B5F6",
          "width": 3
         },
         "marker": {
          "color": "#64B5F6",
          "size": 7
         },
         "mode": "lines+markers",
         "showlegend": false,
         "type": "scatter",
         "x": [
          13,
          14
         ],
         "xaxis": "x",
         "y": [
          1.569136917591095,
          1.9002172350883484
         ],
         "yaxis": "y"
        },
        {
         "hovertemplate": "x=%{x}<br>y=%{y}<extra></extra>",
         "line": {
          "color": "#64B5F6",
          "width": 3
         },
         "marker": {
          "color": "#64B5F6",
          "size": 7
         },
         "mode": "lines+markers",
         "showlegend": false,
         "type": "scatter",
         "x": [
          9,
          10
         ],
         "xaxis": "x",
         "y": [
          1.2714569568634033,
          1.5149776935577393
         ],
         "yaxis": "y"
        },
        {
         "hovertemplate": "x=%{x}<br>y=%{y}<extra></extra>",
         "line": {
          "color": "#64B5F6",
          "width": 3
         },
         "marker": {
          "color": "#64B5F6",
          "size": 7
         },
         "mode": "lines+markers",
         "showlegend": false,
         "type": "scatter",
         "x": [
          0,
          1
         ],
         "xaxis": "x",
         "y": [
          0,
          0.35830891132354736
         ],
         "yaxis": "y"
        },
        {
         "hovertemplate": "x=%{x}<br>y=%{y}<extra></extra>",
         "line": {
          "color": "#ff8fab",
          "width": 3
         },
         "marker": {
          "color": "#ff8fab",
          "size": 7
         },
         "mode": "lines+markers",
         "showlegend": false,
         "type": "scatter",
         "x": [
          55,
          56
         ],
         "xaxis": "x",
         "y": [
          11.159227061271668,
          11.490335094928742
         ],
         "yaxis": "y"
        },
        {
         "hovertemplate": "x=%{x}<br>y=%{y}<extra></extra>",
         "line": {
          "color": "#ff8fab",
          "width": 3
         },
         "marker": {
          "color": "#ff8fab",
          "size": 7
         },
         "mode": "lines+markers",
         "showlegend": false,
         "type": "scatter",
         "x": [
          54,
          55
         ],
         "xaxis": "x",
         "y": [
          10.847829377651214,
          11.159227061271668
         ],
         "yaxis": "y"
        },
        {
         "hovertemplate": "x=%{x}<br>y=%{y}<extra></extra>",
         "line": {
          "color": "#ff8fab",
          "width": 3
         },
         "marker": {
          "color": "#ff8fab",
          "size": 7
         },
         "mode": "lines+markers",
         "showlegend": false,
         "type": "scatter",
         "x": [
          53,
          54
         ],
         "xaxis": "x",
         "y": [
          10.546853482723236,
          10.847829377651214
         ],
         "yaxis": "y"
        },
        {
         "hovertemplate": "x=%{x}<br>y=%{y}<extra></extra>",
         "line": {
          "color": "#ff8fab",
          "width": 3
         },
         "marker": {
          "color": "#ff8fab",
          "size": 7
         },
         "mode": "lines+markers",
         "showlegend": false,
         "type": "scatter",
         "x": [
          50,
          51
         ],
         "xaxis": "x",
         "y": [
          10.176805913448334,
          10.660010576248169
         ],
         "yaxis": "y"
        },
        {
         "hovertemplate": "x=%{x}<br>y=%{y}<extra></extra>",
         "line": {
          "color": "#ff8fab",
          "width": 3
         },
         "marker": {
          "color": "#ff8fab",
          "size": 7
         },
         "mode": "lines+markers",
         "showlegend": false,
         "type": "scatter",
         "x": [
          41,
          42
         ],
         "xaxis": "x",
         "y": [
          7.378207206726074,
          7.889945316314697
         ],
         "yaxis": "y"
        },
        {
         "hovertemplate": "x=%{x}<br>y=%{y}<extra></extra>",
         "line": {
          "color": "#ff8fab",
          "width": 3
         },
         "marker": {
          "color": "#ff8fab",
          "size": 7
         },
         "mode": "lines+markers",
         "showlegend": false,
         "type": "scatter",
         "x": [
          39,
          40
         ],
         "xaxis": "x",
         "y": [
          7.010248363018036,
          7.36868827342987
         ],
         "yaxis": "y"
        },
        {
         "hovertemplate": "x=%{x}<br>y=%{y}<extra></extra>",
         "line": {
          "color": "#ff8fab",
          "width": 3
         },
         "marker": {
          "color": "#ff8fab",
          "size": 7
         },
         "mode": "lines+markers",
         "showlegend": false,
         "type": "scatter",
         "x": [
          35,
          36
         ],
         "xaxis": "x",
         "y": [
          6.114865064620972,
          6.449673187732697
         ],
         "yaxis": "y"
        },
        {
         "hovertemplate": "x=%{x}<br>y=%{y}<extra></extra>",
         "line": {
          "color": "#ff8fab",
          "width": 3
         },
         "marker": {
          "color": "#ff8fab",
          "size": 7
         },
         "mode": "lines+markers",
         "showlegend": false,
         "type": "scatter",
         "x": [
          33,
          34
         ],
         "xaxis": "x",
         "y": [
          5.8922982811927795,
          6.334325683116913
         ],
         "yaxis": "y"
        },
        {
         "hovertemplate": "x=%{x}<br>y=%{y}<extra></extra>",
         "line": {
          "color": "#ff8fab",
          "width": 3
         },
         "marker": {
          "color": "#ff8fab",
          "size": 7
         },
         "mode": "lines+markers",
         "showlegend": false,
         "type": "scatter",
         "x": [
          29,
          30
         ],
         "xaxis": "x",
         "y": [
          4.901677906513214,
          5.330916929244995
         ],
         "yaxis": "y"
        },
        {
         "hovertemplate": "x=%{x}<br>y=%{y}<extra></extra>",
         "line": {
          "color": "#ff8fab",
          "width": 3
         },
         "marker": {
          "color": "#ff8fab",
          "size": 7
         },
         "mode": "lines+markers",
         "showlegend": false,
         "type": "scatter",
         "x": [
          26,
          27
         ],
         "xaxis": "x",
         "y": [
          4.460584819316864,
          4.690651059150696
         ],
         "yaxis": "y"
        },
        {
         "hovertemplate": "x=%{x}<br>y=%{y}<extra></extra>",
         "line": {
          "color": "#ff8fab",
          "width": 3
         },
         "marker": {
          "color": "#ff8fab",
          "size": 7
         },
         "mode": "lines+markers",
         "showlegend": false,
         "type": "scatter",
         "x": [
          23,
          24
         ],
         "xaxis": "x",
         "y": [
          4.595160007476807,
          5.119952201843262
         ],
         "yaxis": "y"
        },
        {
         "hovertemplate": "x=%{x}<br>y=%{y}<extra></extra>",
         "line": {
          "color": "#ff8fab",
          "width": 3
         },
         "marker": {
          "color": "#ff8fab",
          "size": 7
         },
         "mode": "lines+markers",
         "showlegend": false,
         "type": "scatter",
         "x": [
          14,
          15
         ],
         "xaxis": "x",
         "y": [
          1.9002172350883484,
          2.1835652351379395
         ],
         "yaxis": "y"
        },
        {
         "hovertemplate": "x=%{x}<br>y=%{y}<extra></extra>",
         "line": {
          "color": "#ff8fab",
          "width": 3
         },
         "marker": {
          "color": "#ff8fab",
          "size": 7
         },
         "mode": "lines+markers",
         "showlegend": false,
         "type": "scatter",
         "x": [
          10,
          11
         ],
         "xaxis": "x",
         "y": [
          1.5149776935577393,
          1.8230050325393676
         ],
         "yaxis": "y"
        },
        {
         "hovertemplate": "x=%{x}<br>y=%{y}<extra></extra>",
         "line": {
          "color": "#ff8fab",
          "width": 3
         },
         "marker": {
          "color": "#ff8fab",
          "size": 7
         },
         "mode": "lines+markers",
         "showlegend": false,
         "type": "scatter",
         "x": [
          5,
          6
         ],
         "xaxis": "x",
         "y": [
          0.383749783039093,
          0.7060008883476258
         ],
         "yaxis": "y"
        },
        {
         "hovertemplate": "x=%{x}<br>y=%{y}<extra></extra>",
         "line": {
          "color": "#ff8fab",
          "width": 3
         },
         "marker": {
          "color": "#ff8fab",
          "size": 7
         },
         "mode": "lines+markers",
         "showlegend": false,
         "type": "scatter",
         "x": [
          3,
          4
         ],
         "xaxis": "x",
         "y": [
          0.15932458639144897,
          0.5036607146263122
         ],
         "yaxis": "y"
        },
        {
         "hovertemplate": "x=%{x}<br>y=%{y}<extra></extra>",
         "line": {
          "color": "#ff8fab",
          "width": 3
         },
         "marker": {
          "color": "#ff8fab",
          "size": 7
         },
         "mode": "lines+markers",
         "showlegend": false,
         "type": "scatter",
         "x": [
          1,
          2
         ],
         "xaxis": "x",
         "y": [
          0.35830891132354736,
          0.6755920648574829
         ],
         "yaxis": "y"
        },
        {
         "hovertemplate": "x=%{x}<br>y=%{y}<extra></extra>",
         "line": {
          "color": "#023e8a",
          "width": 3
         },
         "marker": {
          "color": "#023e8a",
          "size": 7
         },
         "mode": "lines+markers",
         "showlegend": false,
         "type": "scatter",
         "x": [
          49,
          50
         ],
         "xaxis": "x",
         "y": [
          9.917811632156372,
          10.176805913448334
         ],
         "yaxis": "y"
        },
        {
         "hovertemplate": "x=%{x}<br>y=%{y}<extra></extra>",
         "line": {
          "color": "#023e8a",
          "width": 3
         },
         "marker": {
          "color": "#023e8a",
          "size": 7
         },
         "mode": "lines+markers",
         "showlegend": false,
         "type": "scatter",
         "x": [
          48,
          49
         ],
         "xaxis": "x",
         "y": [
          9.614018321037292,
          9.917811632156372
         ],
         "yaxis": "y"
        },
        {
         "hovertemplate": "x=%{x}<br>y=%{y}<extra></extra>",
         "line": {
          "color": "#023e8a",
          "width": 3
         },
         "marker": {
          "color": "#023e8a",
          "size": 7
         },
         "mode": "lines+markers",
         "showlegend": false,
         "type": "scatter",
         "x": [
          47,
          48
         ],
         "xaxis": "x",
         "y": [
          9.152755498886108,
          9.614018321037292
         ],
         "yaxis": "y"
        },
        {
         "hovertemplate": "x=%{x}<br>y=%{y}<extra></extra>",
         "line": {
          "color": "#023e8a",
          "width": 3
         },
         "marker": {
          "color": "#023e8a",
          "size": 7
         },
         "mode": "lines+markers",
         "showlegend": false,
         "type": "scatter",
         "x": [
          46,
          47
         ],
         "xaxis": "x",
         "y": [
          8.69520366191864,
          9.152755498886108
         ],
         "yaxis": "y"
        },
        {
         "hovertemplate": "x=%{x}<br>y=%{y}<extra></extra>",
         "line": {
          "color": "#023e8a",
          "width": 3
         },
         "marker": {
          "color": "#023e8a",
          "size": 7
         },
         "mode": "lines+markers",
         "showlegend": false,
         "type": "scatter",
         "x": [
          45,
          46
         ],
         "xaxis": "x",
         "y": [
          8.345610797405243,
          8.69520366191864
         ],
         "yaxis": "y"
        },
        {
         "hovertemplate": "x=%{x}<br>y=%{y}<extra></extra>",
         "line": {
          "color": "#023e8a",
          "width": 3
         },
         "marker": {
          "color": "#023e8a",
          "size": 7
         },
         "mode": "lines+markers",
         "showlegend": false,
         "type": "scatter",
         "x": [
          44,
          45
         ],
         "xaxis": "x",
         "y": [
          7.9599499106407166,
          8.345610797405243
         ],
         "yaxis": "y"
        },
        {
         "hovertemplate": "x=%{x}<br>y=%{y}<extra></extra>",
         "line": {
          "color": "#023e8a",
          "width": 3
         },
         "marker": {
          "color": "#023e8a",
          "size": 7
         },
         "mode": "lines+markers",
         "showlegend": false,
         "type": "scatter",
         "x": [
          43,
          44
         ],
         "xaxis": "x",
         "y": [
          7.485099136829376,
          7.9599499106407166
         ],
         "yaxis": "y"
        },
        {
         "hovertemplate": "x=%{x}<br>y=%{y}<extra></extra>",
         "line": {
          "color": "#023e8a",
          "width": 3
         },
         "marker": {
          "color": "#023e8a",
          "size": 7
         },
         "mode": "lines+markers",
         "showlegend": false,
         "type": "scatter",
         "x": [
          40,
          41
         ],
         "xaxis": "x",
         "y": [
          7.010248363018036,
          7.378207206726074
         ],
         "yaxis": "y"
        },
        {
         "hovertemplate": "x=%{x}<br>y=%{y}<extra></extra>",
         "line": {
          "color": "#023e8a",
          "width": 3
         },
         "marker": {
          "color": "#023e8a",
          "size": 7
         },
         "mode": "lines+markers",
         "showlegend": false,
         "type": "scatter",
         "x": [
          38,
          39
         ],
         "xaxis": "x",
         "y": [
          6.3092610239982605,
          7.010248363018036
         ],
         "yaxis": "y"
        },
        {
         "hovertemplate": "x=%{x}<br>y=%{y}<extra></extra>",
         "line": {
          "color": "#023e8a",
          "width": 3
         },
         "marker": {
          "color": "#023e8a",
          "size": 7
         },
         "mode": "lines+markers",
         "showlegend": false,
         "type": "scatter",
         "x": [
          37,
          38
         ],
         "xaxis": "x",
         "y": [
          6.268848896026611,
          6.3092610239982605
         ],
         "yaxis": "y"
        },
        {
         "hovertemplate": "x=%{x}<br>y=%{y}<extra></extra>",
         "line": {
          "color": "#023e8a",
          "width": 3
         },
         "marker": {
          "color": "#023e8a",
          "size": 7
         },
         "mode": "lines+markers",
         "showlegend": false,
         "type": "scatter",
         "x": [
          36,
          37
         ],
         "xaxis": "x",
         "y": [
          6.114865064620972,
          6.268848896026611
         ],
         "yaxis": "y"
        },
        {
         "hovertemplate": "x=%{x}<br>y=%{y}<extra></extra>",
         "line": {
          "color": "#023e8a",
          "width": 3
         },
         "marker": {
          "color": "#023e8a",
          "size": 7
         },
         "mode": "lines+markers",
         "showlegend": false,
         "type": "scatter",
         "x": [
          34,
          35
         ],
         "xaxis": "x",
         "y": [
          5.8922982811927795,
          6.114865064620972
         ],
         "yaxis": "y"
        },
        {
         "hovertemplate": "x=%{x}<br>y=%{y}<extra></extra>",
         "line": {
          "color": "#023e8a",
          "width": 3
         },
         "marker": {
          "color": "#023e8a",
          "size": 7
         },
         "mode": "lines+markers",
         "showlegend": false,
         "type": "scatter",
         "x": [
          32,
          33
         ],
         "xaxis": "x",
         "y": [
          5.667668282985687,
          5.8922982811927795
         ],
         "yaxis": "y"
        },
        {
         "hovertemplate": "x=%{x}<br>y=%{y}<extra></extra>",
         "line": {
          "color": "#023e8a",
          "width": 3
         },
         "marker": {
          "color": "#023e8a",
          "size": 7
         },
         "mode": "lines+markers",
         "showlegend": false,
         "type": "scatter",
         "x": [
          31,
          32
         ],
         "xaxis": "x",
         "y": [
          5.360547363758087,
          5.667668282985687
         ],
         "yaxis": "y"
        },
        {
         "hovertemplate": "x=%{x}<br>y=%{y}<extra></extra>",
         "line": {
          "color": "#023e8a",
          "width": 3
         },
         "marker": {
          "color": "#023e8a",
          "size": 7
         },
         "mode": "lines+markers",
         "showlegend": false,
         "type": "scatter",
         "x": [
          28,
          29
         ],
         "xaxis": "x",
         "y": [
          4.585979163646698,
          4.901677906513214
         ],
         "yaxis": "y"
        },
        {
         "hovertemplate": "x=%{x}<br>y=%{y}<extra></extra>",
         "line": {
          "color": "#023e8a",
          "width": 3
         },
         "marker": {
          "color": "#023e8a",
          "size": 7
         },
         "mode": "lines+markers",
         "showlegend": false,
         "type": "scatter",
         "x": [
          22,
          23
         ],
         "xaxis": "x",
         "y": [
          3.8339292407035828,
          4.595160007476807
         ],
         "yaxis": "y"
        },
        {
         "hovertemplate": "x=%{x}<br>y=%{y}<extra></extra>",
         "line": {
          "color": "#023e8a",
          "width": 3
         },
         "marker": {
          "color": "#023e8a",
          "size": 7
         },
         "mode": "lines+markers",
         "showlegend": false,
         "type": "scatter",
         "x": [
          21,
          22
         ],
         "xaxis": "x",
         "y": [
          3.519180178642273,
          3.8339292407035828
         ],
         "yaxis": "y"
        },
        {
         "hovertemplate": "x=%{x}<br>y=%{y}<extra></extra>",
         "line": {
          "color": "#023e8a",
          "width": 3
         },
         "marker": {
          "color": "#023e8a",
          "size": 7
         },
         "mode": "lines+markers",
         "showlegend": false,
         "type": "scatter",
         "x": [
          20,
          21
         ],
         "xaxis": "x",
         "y": [
          3.1389259696006775,
          3.519180178642273
         ],
         "yaxis": "y"
        },
        {
         "hovertemplate": "x=%{x}<br>y=%{y}<extra></extra>",
         "line": {
          "color": "#023e8a",
          "width": 3
         },
         "marker": {
          "color": "#023e8a",
          "size": 7
         },
         "mode": "lines+markers",
         "showlegend": false,
         "type": "scatter",
         "x": [
          19,
          20
         ],
         "xaxis": "x",
         "y": [
          2.762407422065735,
          3.1389259696006775
         ],
         "yaxis": "y"
        },
        {
         "hovertemplate": "x=%{x}<br>y=%{y}<extra></extra>",
         "line": {
          "color": "#023e8a",
          "width": 3
         },
         "marker": {
          "color": "#023e8a",
          "size": 7
         },
         "mode": "lines+markers",
         "showlegend": false,
         "type": "scatter",
         "x": [
          18,
          19
         ],
         "xaxis": "x",
         "y": [
          2.4472838640213013,
          2.762407422065735
         ],
         "yaxis": "y"
        },
        {
         "hovertemplate": "x=%{x}<br>y=%{y}<extra></extra>",
         "line": {
          "color": "#023e8a",
          "width": 3
         },
         "marker": {
          "color": "#023e8a",
          "size": 7
         },
         "mode": "lines+markers",
         "showlegend": false,
         "type": "scatter",
         "x": [
          17,
          18
         ],
         "xaxis": "x",
         "y": [
          2.1769763231277466,
          2.4472838640213013
         ],
         "yaxis": "y"
        },
        {
         "hovertemplate": "x=%{x}<br>y=%{y}<extra></extra>",
         "line": {
          "color": "#023e8a",
          "width": 3
         },
         "marker": {
          "color": "#023e8a",
          "size": 7
         },
         "mode": "lines+markers",
         "showlegend": false,
         "type": "scatter",
         "x": [
          16,
          17
         ],
         "xaxis": "x",
         "y": [
          1.8473796248435974,
          2.1769763231277466
         ],
         "yaxis": "y"
        },
        {
         "hovertemplate": "x=%{x}<br>y=%{y}<extra></extra>",
         "line": {
          "color": "#023e8a",
          "width": 3
         },
         "marker": {
          "color": "#023e8a",
          "size": 7
         },
         "mode": "lines+markers",
         "showlegend": false,
         "type": "scatter",
         "x": [
          8,
          9
         ],
         "xaxis": "x",
         "y": [
          0.9482538104057312,
          1.2714569568634033
         ],
         "yaxis": "y"
        },
        {
         "hovertemplate": "x=%{x}<br>y=%{y}<extra></extra>",
         "line": {
          "color": "#023e8a",
          "width": 3
         },
         "marker": {
          "color": "#023e8a",
          "size": 7
         },
         "mode": "lines+markers",
         "showlegend": false,
         "type": "scatter",
         "x": [
          7,
          8
         ],
         "xaxis": "x",
         "y": [
          0.7153909802436829,
          0.9482538104057312
         ],
         "yaxis": "y"
        },
        {
         "hovertemplate": "x=%{x}<br>y=%{y}<extra></extra>",
         "line": {
          "color": "#023e8a",
          "width": 3
         },
         "marker": {
          "color": "#023e8a",
          "size": 7
         },
         "mode": "lines+markers",
         "showlegend": false,
         "type": "scatter",
         "x": [
          4,
          5
         ],
         "xaxis": "x",
         "y": [
          0.15932458639144897,
          0.383749783039093
         ],
         "yaxis": "y"
        },
        {
         "hovertemplate": "x=%{x}<br>y=%{y}<extra></extra>",
         "line": {
          "color": "#023e8a",
          "width": 3
         },
         "marker": {
          "color": "#023e8a",
          "size": 7
         },
         "mode": "lines+markers",
         "showlegend": false,
         "type": "scatter",
         "x": [
          2,
          3
         ],
         "xaxis": "x",
         "y": [
          0,
          0.15932458639144897
         ],
         "yaxis": "y"
        },
        {
         "hovertemplate": "x=%{x}<br>y=%{y}<extra></extra>",
         "line": {
          "color": "#c1121f",
          "width": 3
         },
         "marker": {
          "color": "#c1121f",
          "size": 7
         },
         "mode": "lines+markers",
         "showlegend": false,
         "type": "scatter",
         "x": [
          51,
          52
         ],
         "xaxis": "x",
         "y": [
          10.176805913448334,
          10.231233894824982
         ],
         "yaxis": "y"
        },
        {
         "hovertemplate": "x=%{x}<br>y=%{y}<extra></extra>",
         "line": {
          "color": "#c1121f",
          "width": 3
         },
         "marker": {
          "color": "#c1121f",
          "size": 7
         },
         "mode": "lines+markers",
         "showlegend": false,
         "type": "scatter",
         "x": [
          42,
          43
         ],
         "xaxis": "x",
         "y": [
          7.378207206726074,
          7.485099136829376
         ],
         "yaxis": "y"
        },
        {
         "hovertemplate": "x=%{x}<br>y=%{y}<extra></extra>",
         "line": {
          "color": "#c1121f",
          "width": 3
         },
         "marker": {
          "color": "#c1121f",
          "size": 7
         },
         "mode": "lines+markers",
         "showlegend": false,
         "type": "scatter",
         "x": [
          30,
          31
         ],
         "xaxis": "x",
         "y": [
          4.901677906513214,
          5.360547363758087
         ],
         "yaxis": "y"
        },
        {
         "hovertemplate": "x=%{x}<br>y=%{y}<extra></extra>",
         "line": {
          "color": "#c1121f",
          "width": 3
         },
         "marker": {
          "color": "#c1121f",
          "size": 7
         },
         "mode": "lines+markers",
         "showlegend": false,
         "type": "scatter",
         "x": [
          27,
          28
         ],
         "xaxis": "x",
         "y": [
          4.343161940574646,
          4.585979163646698
         ],
         "yaxis": "y"
        },
        {
         "hovertemplate": "x=%{x}<br>y=%{y}<extra></extra>",
         "line": {
          "color": "#c1121f",
          "width": 3
         },
         "marker": {
          "color": "#c1121f",
          "size": 7
         },
         "mode": "lines+markers",
         "showlegend": false,
         "type": "scatter",
         "x": [
          24,
          25
         ],
         "xaxis": "x",
         "y": [
          4.595160007476807,
          4.343161940574646
         ],
         "yaxis": "y"
        },
        {
         "hovertemplate": "x=%{x}<br>y=%{y}<extra></extra>",
         "line": {
          "color": "#c1121f",
          "width": 3
         },
         "marker": {
          "color": "#c1121f",
          "size": 7
         },
         "mode": "lines+markers",
         "showlegend": false,
         "type": "scatter",
         "x": [
          15,
          16
         ],
         "xaxis": "x",
         "y": [
          1.569136917591095,
          1.8473796248435974
         ],
         "yaxis": "y"
        },
        {
         "hovertemplate": "x=%{x}<br>y=%{y}<extra></extra>",
         "line": {
          "color": "#c1121f",
          "width": 3
         },
         "marker": {
          "color": "#c1121f",
          "size": 7
         },
         "mode": "lines+markers",
         "showlegend": false,
         "type": "scatter",
         "x": [
          6,
          7
         ],
         "xaxis": "x",
         "y": [
          0.383749783039093,
          0.7153909802436829
         ],
         "yaxis": "y"
        },
        {
         "hovertemplate": "x=%{x}<br>y=%{y}<extra></extra>",
         "line": {
          "color": "#9d4edd",
          "width": 3
         },
         "marker": {
          "color": "#9d4edd",
          "size": 7
         },
         "mode": "lines+markers",
         "showlegend": false,
         "type": "scatter",
         "x": [
          56,
          57
         ],
         "xaxis": "x",
         "y": [
          10.231233894824982,
          10.231233894824982
         ],
         "yaxis": "y"
        },
        {
         "hovertemplate": "x=%{x}<br>y=%{y}<extra></extra>",
         "line": {
          "color": "#9d4edd",
          "width": 3
         },
         "marker": {
          "color": "#9d4edd",
          "size": 7
         },
         "mode": "lines+markers",
         "showlegend": false,
         "type": "scatter",
         "x": [
          12,
          13
         ],
         "xaxis": "x",
         "y": [
          1.5633488297462463,
          1.569136917591095
         ],
         "yaxis": "y"
        },
        {
         "hovertemplate": "x=%{x}<br>y=%{y}<extra></extra>",
         "line": {
          "color": "#9d4edd",
          "width": 3
         },
         "marker": {
          "color": "#9d4edd",
          "size": 7
         },
         "mode": "lines+markers",
         "showlegend": false,
         "type": "scatter",
         "x": [
          11,
          12
         ],
         "xaxis": "x",
         "y": [
          1.2714569568634033,
          1.5633488297462463
         ],
         "yaxis": "y"
        },
        {
         "line": {
          "color": "#64B5F6",
          "width": 2
         },
         "mode": "lines",
         "name": "human_insert_backstage",
         "showlegend": true,
         "type": "scatter",
         "x": [
          null
         ],
         "xaxis": "x",
         "y": [
          null
         ],
         "yaxis": "y"
        },
        {
         "line": {
          "color": "#ff8fab",
          "width": 2
         },
         "mode": "lines",
         "name": "ai_suggest_backstage",
         "showlegend": true,
         "type": "scatter",
         "x": [
          null
         ],
         "xaxis": "x",
         "y": [
          null
         ],
         "yaxis": "y"
        },
        {
         "line": {
          "color": "#023e8a",
          "width": 2
         },
         "mode": "lines",
         "name": "human_insert_frontstage",
         "showlegend": true,
         "type": "scatter",
         "x": [
          null
         ],
         "xaxis": "x",
         "y": [
          null
         ],
         "yaxis": "y"
        },
        {
         "line": {
          "color": "#c1121f",
          "width": 2
         },
         "mode": "lines",
         "name": "ai_insert_moved_to_frontstage",
         "showlegend": true,
         "type": "scatter",
         "x": [
          null
         ],
         "xaxis": "x",
         "y": [
          null
         ],
         "yaxis": "y"
        },
        {
         "line": {
          "color": "#9d4edd",
          "width": 2
         },
         "mode": "lines",
         "name": "human_delete_frontstage",
         "showlegend": true,
         "type": "scatter",
         "x": [
          null
         ],
         "xaxis": "x",
         "y": [
          null
         ],
         "yaxis": "y"
        },
        {
         "line": {
          "color": "#5a189a",
          "width": 2
         },
         "mode": "lines",
         "name": "human_insert_edit_frontstage",
         "showlegend": true,
         "type": "scatter",
         "x": [
          null
         ],
         "xaxis": "x",
         "y": [
          null
         ],
         "yaxis": "y"
        }
       ],
       "layout": {
        "annotations": [
         {
          "font": {
           "size": 16
          },
          "showarrow": false,
          "text": "Session: legislation_corporate_2",
          "x": 0.5,
          "xanchor": "center",
          "xref": "paper",
          "y": 1,
          "yanchor": "bottom",
          "yref": "paper"
         }
        ],
        "height": 500,
        "legend": {
         "title": {
          "font": {
           "color": "rgba(0, 0, 0, 0)"
          }
         }
        },
        "plot_bgcolor": "white",
        "showlegend": true,
        "template": {
         "data": {
          "bar": [
           {
            "error_x": {
             "color": "#2a3f5f"
            },
            "error_y": {
             "color": "#2a3f5f"
            },
            "marker": {
             "line": {
              "color": "#E5ECF6",
              "width": 0.5
             },
             "pattern": {
              "fillmode": "overlay",
              "size": 10,
              "solidity": 0.2
             }
            },
            "type": "bar"
           }
          ],
          "barpolar": [
           {
            "marker": {
             "line": {
              "color": "#E5ECF6",
              "width": 0.5
             },
             "pattern": {
              "fillmode": "overlay",
              "size": 10,
              "solidity": 0.2
             }
            },
            "type": "barpolar"
           }
          ],
          "carpet": [
           {
            "aaxis": {
             "endlinecolor": "#2a3f5f",
             "gridcolor": "white",
             "linecolor": "white",
             "minorgridcolor": "white",
             "startlinecolor": "#2a3f5f"
            },
            "baxis": {
             "endlinecolor": "#2a3f5f",
             "gridcolor": "white",
             "linecolor": "white",
             "minorgridcolor": "white",
             "startlinecolor": "#2a3f5f"
            },
            "type": "carpet"
           }
          ],
          "choropleth": [
           {
            "colorbar": {
             "outlinewidth": 0,
             "ticks": ""
            },
            "type": "choropleth"
           }
          ],
          "contour": [
           {
            "colorbar": {
             "outlinewidth": 0,
             "ticks": ""
            },
            "colorscale": [
             [
              0,
              "#0d0887"
             ],
             [
              0.1111111111111111,
              "#46039f"
             ],
             [
              0.2222222222222222,
              "#7201a8"
             ],
             [
              0.3333333333333333,
              "#9c179e"
             ],
             [
              0.4444444444444444,
              "#bd3786"
             ],
             [
              0.5555555555555556,
              "#d8576b"
             ],
             [
              0.6666666666666666,
              "#ed7953"
             ],
             [
              0.7777777777777778,
              "#fb9f3a"
             ],
             [
              0.8888888888888888,
              "#fdca26"
             ],
             [
              1,
              "#f0f921"
             ]
            ],
            "type": "contour"
           }
          ],
          "contourcarpet": [
           {
            "colorbar": {
             "outlinewidth": 0,
             "ticks": ""
            },
            "type": "contourcarpet"
           }
          ],
          "heatmap": [
           {
            "colorbar": {
             "outlinewidth": 0,
             "ticks": ""
            },
            "colorscale": [
             [
              0,
              "#0d0887"
             ],
             [
              0.1111111111111111,
              "#46039f"
             ],
             [
              0.2222222222222222,
              "#7201a8"
             ],
             [
              0.3333333333333333,
              "#9c179e"
             ],
             [
              0.4444444444444444,
              "#bd3786"
             ],
             [
              0.5555555555555556,
              "#d8576b"
             ],
             [
              0.6666666666666666,
              "#ed7953"
             ],
             [
              0.7777777777777778,
              "#fb9f3a"
             ],
             [
              0.8888888888888888,
              "#fdca26"
             ],
             [
              1,
              "#f0f921"
             ]
            ],
            "type": "heatmap"
           }
          ],
          "histogram": [
           {
            "marker": {
             "pattern": {
              "fillmode": "overlay",
              "size": 10,
              "solidity": 0.2
             }
            },
            "type": "histogram"
           }
          ],
          "histogram2d": [
           {
            "colorbar": {
             "outlinewidth": 0,
             "ticks": ""
            },
            "colorscale": [
             [
              0,
              "#0d0887"
             ],
             [
              0.1111111111111111,
              "#46039f"
             ],
             [
              0.2222222222222222,
              "#7201a8"
             ],
             [
              0.3333333333333333,
              "#9c179e"
             ],
             [
              0.4444444444444444,
              "#bd3786"
             ],
             [
              0.5555555555555556,
              "#d8576b"
             ],
             [
              0.6666666666666666,
              "#ed7953"
             ],
             [
              0.7777777777777778,
              "#fb9f3a"
             ],
             [
              0.8888888888888888,
              "#fdca26"
             ],
             [
              1,
              "#f0f921"
             ]
            ],
            "type": "histogram2d"
           }
          ],
          "histogram2dcontour": [
           {
            "colorbar": {
             "outlinewidth": 0,
             "ticks": ""
            },
            "colorscale": [
             [
              0,
              "#0d0887"
             ],
             [
              0.1111111111111111,
              "#46039f"
             ],
             [
              0.2222222222222222,
              "#7201a8"
             ],
             [
              0.3333333333333333,
              "#9c179e"
             ],
             [
              0.4444444444444444,
              "#bd3786"
             ],
             [
              0.5555555555555556,
              "#d8576b"
             ],
             [
              0.6666666666666666,
              "#ed7953"
             ],
             [
              0.7777777777777778,
              "#fb9f3a"
             ],
             [
              0.8888888888888888,
              "#fdca26"
             ],
             [
              1,
              "#f0f921"
             ]
            ],
            "type": "histogram2dcontour"
           }
          ],
          "mesh3d": [
           {
            "colorbar": {
             "outlinewidth": 0,
             "ticks": ""
            },
            "type": "mesh3d"
           }
          ],
          "parcoords": [
           {
            "line": {
             "colorbar": {
              "outlinewidth": 0,
              "ticks": ""
             }
            },
            "type": "parcoords"
           }
          ],
          "pie": [
           {
            "automargin": true,
            "type": "pie"
           }
          ],
          "scatter": [
           {
            "fillpattern": {
             "fillmode": "overlay",
             "size": 10,
             "solidity": 0.2
            },
            "type": "scatter"
           }
          ],
          "scatter3d": [
           {
            "line": {
             "colorbar": {
              "outlinewidth": 0,
              "ticks": ""
             }
            },
            "marker": {
             "colorbar": {
              "outlinewidth": 0,
              "ticks": ""
             }
            },
            "type": "scatter3d"
           }
          ],
          "scattercarpet": [
           {
            "marker": {
             "colorbar": {
              "outlinewidth": 0,
              "ticks": ""
             }
            },
            "type": "scattercarpet"
           }
          ],
          "scattergeo": [
           {
            "marker": {
             "colorbar": {
              "outlinewidth": 0,
              "ticks": ""
             }
            },
            "type": "scattergeo"
           }
          ],
          "scattergl": [
           {
            "marker": {
             "colorbar": {
              "outlinewidth": 0,
              "ticks": ""
             }
            },
            "type": "scattergl"
           }
          ],
          "scattermap": [
           {
            "marker": {
             "colorbar": {
              "outlinewidth": 0,
              "ticks": ""
             }
            },
            "type": "scattermap"
           }
          ],
          "scattermapbox": [
           {
            "marker": {
             "colorbar": {
              "outlinewidth": 0,
              "ticks": ""
             }
            },
            "type": "scattermapbox"
           }
          ],
          "scatterpolar": [
           {
            "marker": {
             "colorbar": {
              "outlinewidth": 0,
              "ticks": ""
             }
            },
            "type": "scatterpolar"
           }
          ],
          "scatterpolargl": [
           {
            "marker": {
             "colorbar": {
              "outlinewidth": 0,
              "ticks": ""
             }
            },
            "type": "scatterpolargl"
           }
          ],
          "scatterternary": [
           {
            "marker": {
             "colorbar": {
              "outlinewidth": 0,
              "ticks": ""
             }
            },
            "type": "scatterternary"
           }
          ],
          "surface": [
           {
            "colorbar": {
             "outlinewidth": 0,
             "ticks": ""
            },
            "colorscale": [
             [
              0,
              "#0d0887"
             ],
             [
              0.1111111111111111,
              "#46039f"
             ],
             [
              0.2222222222222222,
              "#7201a8"
             ],
             [
              0.3333333333333333,
              "#9c179e"
             ],
             [
              0.4444444444444444,
              "#bd3786"
             ],
             [
              0.5555555555555556,
              "#d8576b"
             ],
             [
              0.6666666666666666,
              "#ed7953"
             ],
             [
              0.7777777777777778,
              "#fb9f3a"
             ],
             [
              0.8888888888888888,
              "#fdca26"
             ],
             [
              1,
              "#f0f921"
             ]
            ],
            "type": "surface"
           }
          ],
          "table": [
           {
            "cells": {
             "fill": {
              "color": "#EBF0F8"
             },
             "line": {
              "color": "white"
             }
            },
            "header": {
             "fill": {
              "color": "#C8D4E3"
             },
             "line": {
              "color": "white"
             }
            },
            "type": "table"
           }
          ]
         },
         "layout": {
          "annotationdefaults": {
           "arrowcolor": "#2a3f5f",
           "arrowhead": 0,
           "arrowwidth": 1
          },
          "autotypenumbers": "strict",
          "coloraxis": {
           "colorbar": {
            "outlinewidth": 0,
            "ticks": ""
           }
          },
          "colorscale": {
           "diverging": [
            [
             0,
             "#8e0152"
            ],
            [
             0.1,
             "#c51b7d"
            ],
            [
             0.2,
             "#de77ae"
            ],
            [
             0.3,
             "#f1b6da"
            ],
            [
             0.4,
             "#fde0ef"
            ],
            [
             0.5,
             "#f7f7f7"
            ],
            [
             0.6,
             "#e6f5d0"
            ],
            [
             0.7,
             "#b8e186"
            ],
            [
             0.8,
             "#7fbc41"
            ],
            [
             0.9,
             "#4d9221"
            ],
            [
             1,
             "#276419"
            ]
           ],
           "sequential": [
            [
             0,
             "#0d0887"
            ],
            [
             0.1111111111111111,
             "#46039f"
            ],
            [
             0.2222222222222222,
             "#7201a8"
            ],
            [
             0.3333333333333333,
             "#9c179e"
            ],
            [
             0.4444444444444444,
             "#bd3786"
            ],
            [
             0.5555555555555556,
             "#d8576b"
            ],
            [
             0.6666666666666666,
             "#ed7953"
            ],
            [
             0.7777777777777778,
             "#fb9f3a"
            ],
            [
             0.8888888888888888,
             "#fdca26"
            ],
            [
             1,
             "#f0f921"
            ]
           ],
           "sequentialminus": [
            [
             0,
             "#0d0887"
            ],
            [
             0.1111111111111111,
             "#46039f"
            ],
            [
             0.2222222222222222,
             "#7201a8"
            ],
            [
             0.3333333333333333,
             "#9c179e"
            ],
            [
             0.4444444444444444,
             "#bd3786"
            ],
            [
             0.5555555555555556,
             "#d8576b"
            ],
            [
             0.6666666666666666,
             "#ed7953"
            ],
            [
             0.7777777777777778,
             "#fb9f3a"
            ],
            [
             0.8888888888888888,
             "#fdca26"
            ],
            [
             1,
             "#f0f921"
            ]
           ]
          },
          "colorway": [
           "#636efa",
           "#EF553B",
           "#00cc96",
           "#ab63fa",
           "#FFA15A",
           "#19d3f3",
           "#FF6692",
           "#B6E880",
           "#FF97FF",
           "#FECB52"
          ],
          "font": {
           "color": "#2a3f5f"
          },
          "geo": {
           "bgcolor": "white",
           "lakecolor": "white",
           "landcolor": "#E5ECF6",
           "showlakes": true,
           "showland": true,
           "subunitcolor": "white"
          },
          "hoverlabel": {
           "align": "left"
          },
          "hovermode": "closest",
          "mapbox": {
           "style": "light"
          },
          "paper_bgcolor": "white",
          "plot_bgcolor": "#E5ECF6",
          "polar": {
           "angularaxis": {
            "gridcolor": "white",
            "linecolor": "white",
            "ticks": ""
           },
           "bgcolor": "#E5ECF6",
           "radialaxis": {
            "gridcolor": "white",
            "linecolor": "white",
            "ticks": ""
           }
          },
          "scene": {
           "xaxis": {
            "backgroundcolor": "#E5ECF6",
            "gridcolor": "white",
            "gridwidth": 2,
            "linecolor": "white",
            "showbackground": true,
            "ticks": "",
            "zerolinecolor": "white"
           },
           "yaxis": {
            "backgroundcolor": "#E5ECF6",
            "gridcolor": "white",
            "gridwidth": 2,
            "linecolor": "white",
            "showbackground": true,
            "ticks": "",
            "zerolinecolor": "white"
           },
           "zaxis": {
            "backgroundcolor": "#E5ECF6",
            "gridcolor": "white",
            "gridwidth": 2,
            "linecolor": "white",
            "showbackground": true,
            "ticks": "",
            "zerolinecolor": "white"
           }
          },
          "shapedefaults": {
           "line": {
            "color": "#2a3f5f"
           }
          },
          "ternary": {
           "aaxis": {
            "gridcolor": "white",
            "linecolor": "white",
            "ticks": ""
           },
           "baxis": {
            "gridcolor": "white",
            "linecolor": "white",
            "ticks": ""
           },
           "bgcolor": "#E5ECF6",
           "caxis": {
            "gridcolor": "white",
            "linecolor": "white",
            "ticks": ""
           }
          },
          "title": {
           "x": 0.05
          },
          "xaxis": {
           "automargin": true,
           "gridcolor": "white",
           "linecolor": "white",
           "ticks": "",
           "title": {
            "standoff": 15
           },
           "zerolinecolor": "white",
           "zerolinewidth": 2
          },
          "yaxis": {
           "automargin": true,
           "gridcolor": "white",
           "linecolor": "white",
           "ticks": "",
           "title": {
            "standoff": 15
           },
           "zerolinecolor": "white",
           "zerolinewidth": 2
          }
         }
        },
        "title": {
         "text": "Semantic Expansion over Writing Sessions<br><span style=\"font-size: 12px;\">*Measuring how well humans are learning while writing with GenAI</span>"
        },
        "width": 1800,
        "xaxis": {
         "anchor": "y",
         "domain": [
          0,
          1
         ],
         "gridcolor": "white",
         "linecolor": "black",
         "mirror": false,
         "range": [
          -1,
          58
         ],
         "showline": true,
         "ticks": "outside",
         "title": {
          "text": "Progress into the writing session"
         }
        },
        "yaxis": {
         "anchor": "x",
         "domain": [
          0,
          1
         ],
         "gridcolor": "white",
         "linecolor": "black",
         "mirror": false,
         "showline": true,
         "ticks": "outside",
         "title": {
          "text": "Scores"
         }
        }
       }
      }
     },
     "metadata": {},
     "output_type": "display_data"
    },
    {
     "name": "stdout",
     "output_type": "stream",
     "text": [
      "legislation_corporate_3\n"
     ]
    },
    {
     "data": {
      "application/vnd.plotly.v1+json": {
       "config": {
        "plotlyServerURL": "https://plot.ly"
       },
       "data": [
        {
         "hovertemplate": "x=%{x}<br>y=%{y}<extra></extra>",
         "line": {
          "color": "#64B5F6",
          "width": 3
         },
         "marker": {
          "color": "#64B5F6",
          "size": 7
         },
         "mode": "lines+markers",
         "showlegend": false,
         "type": "scatter",
         "x": [
          55,
          56
         ],
         "xaxis": "x",
         "y": [
          10.521748638153076,
          10.773169672489166
         ],
         "yaxis": "y"
        },
        {
         "hovertemplate": "x=%{x}<br>y=%{y}<extra></extra>",
         "line": {
          "color": "#64B5F6",
          "width": 3
         },
         "marker": {
          "color": "#64B5F6",
          "size": 7
         },
         "mode": "lines+markers",
         "showlegend": false,
         "type": "scatter",
         "x": [
          43,
          44
         ],
         "xaxis": "x",
         "y": [
          7.070977866649628,
          7.778957188129425
         ],
         "yaxis": "y"
        },
        {
         "hovertemplate": "x=%{x}<br>y=%{y}<extra></extra>",
         "line": {
          "color": "#64B5F6",
          "width": 3
         },
         "marker": {
          "color": "#64B5F6",
          "size": 7
         },
         "mode": "lines+markers",
         "showlegend": false,
         "type": "scatter",
         "x": [
          38,
          39
         ],
         "xaxis": "x",
         "y": [
          6.7946266531944275,
          7.145212531089783
         ],
         "yaxis": "y"
        },
        {
         "hovertemplate": "x=%{x}<br>y=%{y}<extra></extra>",
         "line": {
          "color": "#64B5F6",
          "width": 3
         },
         "marker": {
          "color": "#64B5F6",
          "size": 7
         },
         "mode": "lines+markers",
         "showlegend": false,
         "type": "scatter",
         "x": [
          31,
          32
         ],
         "xaxis": "x",
         "y": [
          6.918319094181061,
          7.215570318698883
         ],
         "yaxis": "y"
        },
        {
         "hovertemplate": "x=%{x}<br>y=%{y}<extra></extra>",
         "line": {
          "color": "#64B5F6",
          "width": 3
         },
         "marker": {
          "color": "#64B5F6",
          "size": 7
         },
         "mode": "lines+markers",
         "showlegend": false,
         "type": "scatter",
         "x": [
          25,
          26
         ],
         "xaxis": "x",
         "y": [
          5.36093270778656,
          5.61791729927063
         ],
         "yaxis": "y"
        },
        {
         "hovertemplate": "x=%{x}<br>y=%{y}<extra></extra>",
         "line": {
          "color": "#64B5F6",
          "width": 3
         },
         "marker": {
          "color": "#64B5F6",
          "size": 7
         },
         "mode": "lines+markers",
         "showlegend": false,
         "type": "scatter",
         "x": [
          14,
          15
         ],
         "xaxis": "x",
         "y": [
          1.5798311233520508,
          2.4060176610946655
         ],
         "yaxis": "y"
        },
        {
         "hovertemplate": "x=%{x}<br>y=%{y}<extra></extra>",
         "line": {
          "color": "#64B5F6",
          "width": 3
         },
         "marker": {
          "color": "#64B5F6",
          "size": 7
         },
         "mode": "lines+markers",
         "showlegend": false,
         "type": "scatter",
         "x": [
          11,
          12
         ],
         "xaxis": "x",
         "y": [
          1.2903107404708862,
          1.5301936268806458
         ],
         "yaxis": "y"
        },
        {
         "hovertemplate": "x=%{x}<br>y=%{y}<extra></extra>",
         "line": {
          "color": "#64B5F6",
          "width": 3
         },
         "marker": {
          "color": "#64B5F6",
          "size": 7
         },
         "mode": "lines+markers",
         "showlegend": false,
         "type": "scatter",
         "x": [
          0,
          1
         ],
         "xaxis": "x",
         "y": [
          0,
          0.2506929636001587
         ],
         "yaxis": "y"
        },
        {
         "hovertemplate": "x=%{x}<br>y=%{y}<extra></extra>",
         "line": {
          "color": "#ff8fab",
          "width": 3
         },
         "marker": {
          "color": "#ff8fab",
          "size": 7
         },
         "mode": "lines+markers",
         "showlegend": false,
         "type": "scatter",
         "x": [
          72,
          73
         ],
         "xaxis": "x",
         "y": [
          16.409892559051514,
          16.834448540210722
         ],
         "yaxis": "y"
        },
        {
         "hovertemplate": "x=%{x}<br>y=%{y}<extra></extra>",
         "line": {
          "color": "#ff8fab",
          "width": 3
         },
         "marker": {
          "color": "#ff8fab",
          "size": 7
         },
         "mode": "lines+markers",
         "showlegend": false,
         "type": "scatter",
         "x": [
          71,
          72
         ],
         "xaxis": "x",
         "y": [
          15.929485321044922,
          16.409892559051514
         ],
         "yaxis": "y"
        },
        {
         "hovertemplate": "x=%{x}<br>y=%{y}<extra></extra>",
         "line": {
          "color": "#ff8fab",
          "width": 3
         },
         "marker": {
          "color": "#ff8fab",
          "size": 7
         },
         "mode": "lines+markers",
         "showlegend": false,
         "type": "scatter",
         "x": [
          65,
          66
         ],
         "xaxis": "x",
         "y": [
          13.619121313095093,
          13.998034918308258
         ],
         "yaxis": "y"
        },
        {
         "hovertemplate": "x=%{x}<br>y=%{y}<extra></extra>",
         "line": {
          "color": "#ff8fab",
          "width": 3
         },
         "marker": {
          "color": "#ff8fab",
          "size": 7
         },
         "mode": "lines+markers",
         "showlegend": false,
         "type": "scatter",
         "x": [
          56,
          57
         ],
         "xaxis": "x",
         "y": [
          10.773169672489166,
          11.084482908248901
         ],
         "yaxis": "y"
        },
        {
         "hovertemplate": "x=%{x}<br>y=%{y}<extra></extra>",
         "line": {
          "color": "#ff8fab",
          "width": 3
         },
         "marker": {
          "color": "#ff8fab",
          "size": 7
         },
         "mode": "lines+markers",
         "showlegend": false,
         "type": "scatter",
         "x": [
          54,
          55
         ],
         "xaxis": "x",
         "y": [
          10.09012234210968,
          10.521748638153076
         ],
         "yaxis": "y"
        },
        {
         "hovertemplate": "x=%{x}<br>y=%{y}<extra></extra>",
         "line": {
          "color": "#ff8fab",
          "width": 3
         },
         "marker": {
          "color": "#ff8fab",
          "size": 7
         },
         "mode": "lines+markers",
         "showlegend": false,
         "type": "scatter",
         "x": [
          51,
          52
         ],
         "xaxis": "x",
         "y": [
          8.80797004699707,
          9.244318509101868
         ],
         "yaxis": "y"
        },
        {
         "hovertemplate": "x=%{x}<br>y=%{y}<extra></extra>",
         "line": {
          "color": "#ff8fab",
          "width": 3
         },
         "marker": {
          "color": "#ff8fab",
          "size": 7
         },
         "mode": "lines+markers",
         "showlegend": false,
         "type": "scatter",
         "x": [
          47,
          48
         ],
         "xaxis": "x",
         "y": [
          7.583289563655853,
          8.053239786624909
         ],
         "yaxis": "y"
        },
        {
         "hovertemplate": "x=%{x}<br>y=%{y}<extra></extra>",
         "line": {
          "color": "#ff8fab",
          "width": 3
         },
         "marker": {
          "color": "#ff8fab",
          "size": 7
         },
         "mode": "lines+markers",
         "showlegend": false,
         "type": "scatter",
         "x": [
          44,
          45
         ],
         "xaxis": "x",
         "y": [
          7.778957188129425,
          8.453848326206208
         ],
         "yaxis": "y"
        },
        {
         "hovertemplate": "x=%{x}<br>y=%{y}<extra></extra>",
         "line": {
          "color": "#ff8fab",
          "width": 3
         },
         "marker": {
          "color": "#ff8fab",
          "size": 7
         },
         "mode": "lines+markers",
         "showlegend": false,
         "type": "scatter",
         "x": [
          40,
          41
         ],
         "xaxis": "x",
         "y": [
          7.100166201591492,
          7.459606397151947
         ],
         "yaxis": "y"
        },
        {
         "hovertemplate": "x=%{x}<br>y=%{y}<extra></extra>",
         "line": {
          "color": "#ff8fab",
          "width": 3
         },
         "marker": {
          "color": "#ff8fab",
          "size": 7
         },
         "mode": "lines+markers",
         "showlegend": false,
         "type": "scatter",
         "x": [
          36,
          37
         ],
         "xaxis": "x",
         "y": [
          7.439618170261383,
          7.856310558319092
         ],
         "yaxis": "y"
        },
        {
         "hovertemplate": "x=%{x}<br>y=%{y}<extra></extra>",
         "line": {
          "color": "#ff8fab",
          "width": 3
         },
         "marker": {
          "color": "#ff8fab",
          "size": 7
         },
         "mode": "lines+markers",
         "showlegend": false,
         "type": "scatter",
         "x": [
          34,
          35
         ],
         "xaxis": "x",
         "y": [
          6.863330900669098,
          7.349704587459565
         ],
         "yaxis": "y"
        },
        {
         "hovertemplate": "x=%{x}<br>y=%{y}<extra></extra>",
         "line": {
          "color": "#ff8fab",
          "width": 3
         },
         "marker": {
          "color": "#ff8fab",
          "size": 7
         },
         "mode": "lines+markers",
         "showlegend": false,
         "type": "scatter",
         "x": [
          32,
          33
         ],
         "xaxis": "x",
         "y": [
          7.215570318698883,
          7.53007982969284
         ],
         "yaxis": "y"
        },
        {
         "hovertemplate": "x=%{x}<br>y=%{y}<extra></extra>",
         "line": {
          "color": "#ff8fab",
          "width": 3
         },
         "marker": {
          "color": "#ff8fab",
          "size": 7
         },
         "mode": "lines+markers",
         "showlegend": false,
         "type": "scatter",
         "x": [
          30,
          31
         ],
         "xaxis": "x",
         "y": [
          6.5387309193611145,
          6.918319094181061
         ],
         "yaxis": "y"
        },
        {
         "hovertemplate": "x=%{x}<br>y=%{y}<extra></extra>",
         "line": {
          "color": "#ff8fab",
          "width": 3
         },
         "marker": {
          "color": "#ff8fab",
          "size": 7
         },
         "mode": "lines+markers",
         "showlegend": false,
         "type": "scatter",
         "x": [
          26,
          27
         ],
         "xaxis": "x",
         "y": [
          5.61791729927063,
          6.124652707576752
         ],
         "yaxis": "y"
        },
        {
         "hovertemplate": "x=%{x}<br>y=%{y}<extra></extra>",
         "line": {
          "color": "#ff8fab",
          "width": 3
         },
         "marker": {
          "color": "#ff8fab",
          "size": 7
         },
         "mode": "lines+markers",
         "showlegend": false,
         "type": "scatter",
         "x": [
          22,
          23
         ],
         "xaxis": "x",
         "y": [
          5.042563855648041,
          5.529637002944947
         ],
         "yaxis": "y"
        },
        {
         "hovertemplate": "x=%{x}<br>y=%{y}<extra></extra>",
         "line": {
          "color": "#ff8fab",
          "width": 3
         },
         "marker": {
          "color": "#ff8fab",
          "size": 7
         },
         "mode": "lines+markers",
         "showlegend": false,
         "type": "scatter",
         "x": [
          19,
          20
         ],
         "xaxis": "x",
         "y": [
          4.0552520751953125,
          4.576689350605011
         ],
         "yaxis": "y"
        },
        {
         "hovertemplate": "x=%{x}<br>y=%{y}<extra></extra>",
         "line": {
          "color": "#ff8fab",
          "width": 3
         },
         "marker": {
          "color": "#ff8fab",
          "size": 7
         },
         "mode": "lines+markers",
         "showlegend": false,
         "type": "scatter",
         "x": [
          15,
          16
         ],
         "xaxis": "x",
         "y": [
          2.4060176610946655,
          2.7843666315078734
         ],
         "yaxis": "y"
        },
        {
         "hovertemplate": "x=%{x}<br>y=%{y}<extra></extra>",
         "line": {
          "color": "#ff8fab",
          "width": 3
         },
         "marker": {
          "color": "#ff8fab",
          "size": 7
         },
         "mode": "lines+markers",
         "showlegend": false,
         "type": "scatter",
         "x": [
          12,
          13
         ],
         "xaxis": "x",
         "y": [
          1.5301936268806458,
          1.7959087014198303
         ],
         "yaxis": "y"
        },
        {
         "hovertemplate": "x=%{x}<br>y=%{y}<extra></extra>",
         "line": {
          "color": "#ff8fab",
          "width": 3
         },
         "marker": {
          "color": "#ff8fab",
          "size": 7
         },
         "mode": "lines+markers",
         "showlegend": false,
         "type": "scatter",
         "x": [
          8,
          9
         ],
         "xaxis": "x",
         "y": [
          1.142482340335846,
          1.4956965327262879
         ],
         "yaxis": "y"
        },
        {
         "hovertemplate": "x=%{x}<br>y=%{y}<extra></extra>",
         "line": {
          "color": "#ff8fab",
          "width": 3
         },
         "marker": {
          "color": "#ff8fab",
          "size": 7
         },
         "mode": "lines+markers",
         "showlegend": false,
         "type": "scatter",
         "x": [
          4,
          5
         ],
         "xaxis": "x",
         "y": [
          0.2879375219345093,
          0.6369456291198731
         ],
         "yaxis": "y"
        },
        {
         "hovertemplate": "x=%{x}<br>y=%{y}<extra></extra>",
         "line": {
          "color": "#ff8fab",
          "width": 3
         },
         "marker": {
          "color": "#ff8fab",
          "size": 7
         },
         "mode": "lines+markers",
         "showlegend": false,
         "type": "scatter",
         "x": [
          1,
          2
         ],
         "xaxis": "x",
         "y": [
          0.2506929636001587,
          0.5851142287254334
         ],
         "yaxis": "y"
        },
        {
         "hovertemplate": "x=%{x}<br>y=%{y}<extra></extra>",
         "line": {
          "color": "#023e8a",
          "width": 3
         },
         "marker": {
          "color": "#023e8a",
          "size": 7
         },
         "mode": "lines+markers",
         "showlegend": false,
         "type": "scatter",
         "x": [
          70,
          71
         ],
         "xaxis": "x",
         "y": [
          15.615235686302185,
          15.929485321044922
         ],
         "yaxis": "y"
        },
        {
         "hovertemplate": "x=%{x}<br>y=%{y}<extra></extra>",
         "line": {
          "color": "#023e8a",
          "width": 3
         },
         "marker": {
          "color": "#023e8a",
          "size": 7
         },
         "mode": "lines+markers",
         "showlegend": false,
         "type": "scatter",
         "x": [
          69,
          70
         ],
         "xaxis": "x",
         "y": [
          15.282530426979065,
          15.615235686302185
         ],
         "yaxis": "y"
        },
        {
         "hovertemplate": "x=%{x}<br>y=%{y}<extra></extra>",
         "line": {
          "color": "#023e8a",
          "width": 3
         },
         "marker": {
          "color": "#023e8a",
          "size": 7
         },
         "mode": "lines+markers",
         "showlegend": false,
         "type": "scatter",
         "x": [
          68,
          69
         ],
         "xaxis": "x",
         "y": [
          14.454014897346497,
          15.282530426979065
         ],
         "yaxis": "y"
        },
        {
         "hovertemplate": "x=%{x}<br>y=%{y}<extra></extra>",
         "line": {
          "color": "#023e8a",
          "width": 3
         },
         "marker": {
          "color": "#023e8a",
          "size": 7
         },
         "mode": "lines+markers",
         "showlegend": false,
         "type": "scatter",
         "x": [
          67,
          68
         ],
         "xaxis": "x",
         "y": [
          14.061094105243683,
          14.454014897346497
         ],
         "yaxis": "y"
        },
        {
         "hovertemplate": "x=%{x}<br>y=%{y}<extra></extra>",
         "line": {
          "color": "#023e8a",
          "width": 3
         },
         "marker": {
          "color": "#023e8a",
          "size": 7
         },
         "mode": "lines+markers",
         "showlegend": false,
         "type": "scatter",
         "x": [
          64,
          65
         ],
         "xaxis": "x",
         "y": [
          12.8396577835083,
          13.619121313095093
         ],
         "yaxis": "y"
        },
        {
         "hovertemplate": "x=%{x}<br>y=%{y}<extra></extra>",
         "line": {
          "color": "#023e8a",
          "width": 3
         },
         "marker": {
          "color": "#023e8a",
          "size": 7
         },
         "mode": "lines+markers",
         "showlegend": false,
         "type": "scatter",
         "x": [
          63,
          64
         ],
         "xaxis": "x",
         "y": [
          12.221763134002686,
          12.8396577835083
         ],
         "yaxis": "y"
        },
        {
         "hovertemplate": "x=%{x}<br>y=%{y}<extra></extra>",
         "line": {
          "color": "#023e8a",
          "width": 3
         },
         "marker": {
          "color": "#023e8a",
          "size": 7
         },
         "mode": "lines+markers",
         "showlegend": false,
         "type": "scatter",
         "x": [
          62,
          63
         ],
         "xaxis": "x",
         "y": [
          11.922256708145142,
          12.221763134002686
         ],
         "yaxis": "y"
        },
        {
         "hovertemplate": "x=%{x}<br>y=%{y}<extra></extra>",
         "line": {
          "color": "#023e8a",
          "width": 3
         },
         "marker": {
          "color": "#023e8a",
          "size": 7
         },
         "mode": "lines+markers",
         "showlegend": false,
         "type": "scatter",
         "x": [
          61,
          62
         ],
         "xaxis": "x",
         "y": [
          11.643798351287842,
          11.922256708145142
         ],
         "yaxis": "y"
        },
        {
         "hovertemplate": "x=%{x}<br>y=%{y}<extra></extra>",
         "line": {
          "color": "#023e8a",
          "width": 3
         },
         "marker": {
          "color": "#023e8a",
          "size": 7
         },
         "mode": "lines+markers",
         "showlegend": false,
         "type": "scatter",
         "x": [
          60,
          61
         ],
         "xaxis": "x",
         "y": [
          11.361075520515442,
          11.643798351287842
         ],
         "yaxis": "y"
        },
        {
         "hovertemplate": "x=%{x}<br>y=%{y}<extra></extra>",
         "line": {
          "color": "#023e8a",
          "width": 3
         },
         "marker": {
          "color": "#023e8a",
          "size": 7
         },
         "mode": "lines+markers",
         "showlegend": false,
         "type": "scatter",
         "x": [
          59,
          60
         ],
         "xaxis": "x",
         "y": [
          10.897429883480072,
          11.361075520515442
         ],
         "yaxis": "y"
        },
        {
         "hovertemplate": "x=%{x}<br>y=%{y}<extra></extra>",
         "line": {
          "color": "#023e8a",
          "width": 3
         },
         "marker": {
          "color": "#023e8a",
          "size": 7
         },
         "mode": "lines+markers",
         "showlegend": false,
         "type": "scatter",
         "x": [
          58,
          59
         ],
         "xaxis": "x",
         "y": [
          10.599089741706848,
          10.897429883480072
         ],
         "yaxis": "y"
        },
        {
         "hovertemplate": "x=%{x}<br>y=%{y}<extra></extra>",
         "line": {
          "color": "#023e8a",
          "width": 3
         },
         "marker": {
          "color": "#023e8a",
          "size": 7
         },
         "mode": "lines+markers",
         "showlegend": false,
         "type": "scatter",
         "x": [
          57,
          58
         ],
         "xaxis": "x",
         "y": [
          10.09012234210968,
          10.599089741706848
         ],
         "yaxis": "y"
        },
        {
         "hovertemplate": "x=%{x}<br>y=%{y}<extra></extra>",
         "line": {
          "color": "#023e8a",
          "width": 3
         },
         "marker": {
          "color": "#023e8a",
          "size": 7
         },
         "mode": "lines+markers",
         "showlegend": false,
         "type": "scatter",
         "x": [
          53,
          54
         ],
         "xaxis": "x",
         "y": [
          9.610427141189575,
          10.09012234210968
         ],
         "yaxis": "y"
        },
        {
         "hovertemplate": "x=%{x}<br>y=%{y}<extra></extra>",
         "line": {
          "color": "#023e8a",
          "width": 3
         },
         "marker": {
          "color": "#023e8a",
          "size": 7
         },
         "mode": "lines+markers",
         "showlegend": false,
         "type": "scatter",
         "x": [
          50,
          51
         ],
         "xaxis": "x",
         "y": [
          8.338086903095245,
          8.80797004699707
         ],
         "yaxis": "y"
        },
        {
         "hovertemplate": "x=%{x}<br>y=%{y}<extra></extra>",
         "line": {
          "color": "#023e8a",
          "width": 3
         },
         "marker": {
          "color": "#023e8a",
          "size": 7
         },
         "mode": "lines+markers",
         "showlegend": false,
         "type": "scatter",
         "x": [
          49,
          50
         ],
         "xaxis": "x",
         "y": [
          8.053531050682068,
          8.338086903095245
         ],
         "yaxis": "y"
        },
        {
         "hovertemplate": "x=%{x}<br>y=%{y}<extra></extra>",
         "line": {
          "color": "#023e8a",
          "width": 3
         },
         "marker": {
          "color": "#023e8a",
          "size": 7
         },
         "mode": "lines+markers",
         "showlegend": false,
         "type": "scatter",
         "x": [
          46,
          47
         ],
         "xaxis": "x",
         "y": [
          7.172836720943451,
          7.583289563655853
         ],
         "yaxis": "y"
        },
        {
         "hovertemplate": "x=%{x}<br>y=%{y}<extra></extra>",
         "line": {
          "color": "#023e8a",
          "width": 3
         },
         "marker": {
          "color": "#023e8a",
          "size": 7
         },
         "mode": "lines+markers",
         "showlegend": false,
         "type": "scatter",
         "x": [
          39,
          40
         ],
         "xaxis": "x",
         "y": [
          6.7946266531944275,
          7.100166201591492
         ],
         "yaxis": "y"
        },
        {
         "hovertemplate": "x=%{x}<br>y=%{y}<extra></extra>",
         "line": {
          "color": "#023e8a",
          "width": 3
         },
         "marker": {
          "color": "#023e8a",
          "size": 7
         },
         "mode": "lines+markers",
         "showlegend": false,
         "type": "scatter",
         "x": [
          29,
          30
         ],
         "xaxis": "x",
         "y": [
          6.228364169597626,
          6.5387309193611145
         ],
         "yaxis": "y"
        },
        {
         "hovertemplate": "x=%{x}<br>y=%{y}<extra></extra>",
         "line": {
          "color": "#023e8a",
          "width": 3
         },
         "marker": {
          "color": "#023e8a",
          "size": 7
         },
         "mode": "lines+markers",
         "showlegend": false,
         "type": "scatter",
         "x": [
          28,
          29
         ],
         "xaxis": "x",
         "y": [
          5.746630430221558,
          6.228364169597626
         ],
         "yaxis": "y"
        },
        {
         "hovertemplate": "x=%{x}<br>y=%{y}<extra></extra>",
         "line": {
          "color": "#023e8a",
          "width": 3
         },
         "marker": {
          "color": "#023e8a",
          "size": 7
         },
         "mode": "lines+markers",
         "showlegend": false,
         "type": "scatter",
         "x": [
          24,
          25
         ],
         "xaxis": "x",
         "y": [
          4.954920470714569,
          5.36093270778656
         ],
         "yaxis": "y"
        },
        {
         "hovertemplate": "x=%{x}<br>y=%{y}<extra></extra>",
         "line": {
          "color": "#023e8a",
          "width": 3
         },
         "marker": {
          "color": "#023e8a",
          "size": 7
         },
         "mode": "lines+markers",
         "showlegend": false,
         "type": "scatter",
         "x": [
          21,
          22
         ],
         "xaxis": "x",
         "y": [
          4.548908054828644,
          5.042563855648041
         ],
         "yaxis": "y"
        },
        {
         "hovertemplate": "x=%{x}<br>y=%{y}<extra></extra>",
         "line": {
          "color": "#023e8a",
          "width": 3
         },
         "marker": {
          "color": "#023e8a",
          "size": 7
         },
         "mode": "lines+markers",
         "showlegend": false,
         "type": "scatter",
         "x": [
          18,
          19
         ],
         "xaxis": "x",
         "y": [
          3.4755839109420776,
          4.0552520751953125
         ],
         "yaxis": "y"
        },
        {
         "hovertemplate": "x=%{x}<br>y=%{y}<extra></extra>",
         "line": {
          "color": "#023e8a",
          "width": 3
         },
         "marker": {
          "color": "#023e8a",
          "size": 7
         },
         "mode": "lines+markers",
         "showlegend": false,
         "type": "scatter",
         "x": [
          17,
          18
         ],
         "xaxis": "x",
         "y": [
          2.6832231283187866,
          3.4755839109420776
         ],
         "yaxis": "y"
        },
        {
         "hovertemplate": "x=%{x}<br>y=%{y}<extra></extra>",
         "line": {
          "color": "#023e8a",
          "width": 3
         },
         "marker": {
          "color": "#023e8a",
          "size": 7
         },
         "mode": "lines+markers",
         "showlegend": false,
         "type": "scatter",
         "x": [
          10,
          11
         ],
         "xaxis": "x",
         "y": [
          1.1321309804916382,
          1.2903107404708862
         ],
         "yaxis": "y"
        },
        {
         "hovertemplate": "x=%{x}<br>y=%{y}<extra></extra>",
         "line": {
          "color": "#023e8a",
          "width": 3
         },
         "marker": {
          "color": "#023e8a",
          "size": 7
         },
         "mode": "lines+markers",
         "showlegend": false,
         "type": "scatter",
         "x": [
          7,
          8
         ],
         "xaxis": "x",
         "y": [
          0.9739511609077454,
          1.142482340335846
         ],
         "yaxis": "y"
        },
        {
         "hovertemplate": "x=%{x}<br>y=%{y}<extra></extra>",
         "line": {
          "color": "#023e8a",
          "width": 3
         },
         "marker": {
          "color": "#023e8a",
          "size": 7
         },
         "mode": "lines+markers",
         "showlegend": false,
         "type": "scatter",
         "x": [
          6,
          7
         ],
         "xaxis": "x",
         "y": [
          0.6963738799095154,
          0.9739511609077454
         ],
         "yaxis": "y"
        },
        {
         "hovertemplate": "x=%{x}<br>y=%{y}<extra></extra>",
         "line": {
          "color": "#023e8a",
          "width": 3
         },
         "marker": {
          "color": "#023e8a",
          "size": 7
         },
         "mode": "lines+markers",
         "showlegend": false,
         "type": "scatter",
         "x": [
          3,
          4
         ],
         "xaxis": "x",
         "y": [
          0,
          0.2879375219345093
         ],
         "yaxis": "y"
        },
        {
         "hovertemplate": "x=%{x}<br>y=%{y}<extra></extra>",
         "line": {
          "color": "#c1121f",
          "width": 3
         },
         "marker": {
          "color": "#c1121f",
          "size": 7
         },
         "mode": "lines+markers",
         "showlegend": false,
         "type": "scatter",
         "x": [
          73,
          74
         ],
         "xaxis": "x",
         "y": [
          15.929485321044922,
          16.495481729507446
         ],
         "yaxis": "y"
        },
        {
         "hovertemplate": "x=%{x}<br>y=%{y}<extra></extra>",
         "line": {
          "color": "#c1121f",
          "width": 3
         },
         "marker": {
          "color": "#c1121f",
          "size": 7
         },
         "mode": "lines+markers",
         "showlegend": false,
         "type": "scatter",
         "x": [
          66,
          67
         ],
         "xaxis": "x",
         "y": [
          13.619121313095093,
          14.061094105243683
         ],
         "yaxis": "y"
        },
        {
         "hovertemplate": "x=%{x}<br>y=%{y}<extra></extra>",
         "line": {
          "color": "#c1121f",
          "width": 3
         },
         "marker": {
          "color": "#c1121f",
          "size": 7
         },
         "mode": "lines+markers",
         "showlegend": false,
         "type": "scatter",
         "x": [
          52,
          53
         ],
         "xaxis": "x",
         "y": [
          8.80797004699707,
          9.610427141189575
         ],
         "yaxis": "y"
        },
        {
         "hovertemplate": "x=%{x}<br>y=%{y}<extra></extra>",
         "line": {
          "color": "#c1121f",
          "width": 3
         },
         "marker": {
          "color": "#c1121f",
          "size": 7
         },
         "mode": "lines+markers",
         "showlegend": false,
         "type": "scatter",
         "x": [
          48,
          49
         ],
         "xaxis": "x",
         "y": [
          7.583289563655853,
          8.053531050682068
         ],
         "yaxis": "y"
        },
        {
         "hovertemplate": "x=%{x}<br>y=%{y}<extra></extra>",
         "line": {
          "color": "#c1121f",
          "width": 3
         },
         "marker": {
          "color": "#c1121f",
          "size": 7
         },
         "mode": "lines+markers",
         "showlegend": false,
         "type": "scatter",
         "x": [
          41,
          42
         ],
         "xaxis": "x",
         "y": [
          7.100166201591492,
          7.459795832633972
         ],
         "yaxis": "y"
        },
        {
         "hovertemplate": "x=%{x}<br>y=%{y}<extra></extra>",
         "line": {
          "color": "#c1121f",
          "width": 3
         },
         "marker": {
          "color": "#c1121f",
          "size": 7
         },
         "mode": "lines+markers",
         "showlegend": false,
         "type": "scatter",
         "x": [
          35,
          36
         ],
         "xaxis": "x",
         "y": [
          6.863330900669098,
          7.439618170261383
         ],
         "yaxis": "y"
        },
        {
         "hovertemplate": "x=%{x}<br>y=%{y}<extra></extra>",
         "line": {
          "color": "#c1121f",
          "width": 3
         },
         "marker": {
          "color": "#c1121f",
          "size": 7
         },
         "mode": "lines+markers",
         "showlegend": false,
         "type": "scatter",
         "x": [
          33,
          34
         ],
         "xaxis": "x",
         "y": [
          6.5387309193611145,
          6.863330900669098
         ],
         "yaxis": "y"
        },
        {
         "hovertemplate": "x=%{x}<br>y=%{y}<extra></extra>",
         "line": {
          "color": "#c1121f",
          "width": 3
         },
         "marker": {
          "color": "#c1121f",
          "size": 7
         },
         "mode": "lines+markers",
         "showlegend": false,
         "type": "scatter",
         "x": [
          23,
          24
         ],
         "xaxis": "x",
         "y": [
          5.042563855648041,
          4.954920470714569
         ],
         "yaxis": "y"
        },
        {
         "hovertemplate": "x=%{x}<br>y=%{y}<extra></extra>",
         "line": {
          "color": "#c1121f",
          "width": 3
         },
         "marker": {
          "color": "#c1121f",
          "size": 7
         },
         "mode": "lines+markers",
         "showlegend": false,
         "type": "scatter",
         "x": [
          20,
          21
         ],
         "xaxis": "x",
         "y": [
          4.0552520751953125,
          4.548908054828644
         ],
         "yaxis": "y"
        },
        {
         "hovertemplate": "x=%{x}<br>y=%{y}<extra></extra>",
         "line": {
          "color": "#c1121f",
          "width": 3
         },
         "marker": {
          "color": "#c1121f",
          "size": 7
         },
         "mode": "lines+markers",
         "showlegend": false,
         "type": "scatter",
         "x": [
          16,
          17
         ],
         "xaxis": "x",
         "y": [
          1.5798311233520508,
          2.6832231283187866
         ],
         "yaxis": "y"
        },
        {
         "hovertemplate": "x=%{x}<br>y=%{y}<extra></extra>",
         "line": {
          "color": "#c1121f",
          "width": 3
         },
         "marker": {
          "color": "#c1121f",
          "size": 7
         },
         "mode": "lines+markers",
         "showlegend": false,
         "type": "scatter",
         "x": [
          13,
          14
         ],
         "xaxis": "x",
         "y": [
          1.2903107404708862,
          1.5798311233520508
         ],
         "yaxis": "y"
        },
        {
         "hovertemplate": "x=%{x}<br>y=%{y}<extra></extra>",
         "line": {
          "color": "#c1121f",
          "width": 3
         },
         "marker": {
          "color": "#c1121f",
          "size": 7
         },
         "mode": "lines+markers",
         "showlegend": false,
         "type": "scatter",
         "x": [
          9,
          10
         ],
         "xaxis": "x",
         "y": [
          1.142482340335846,
          1.1321309804916382
         ],
         "yaxis": "y"
        },
        {
         "hovertemplate": "x=%{x}<br>y=%{y}<extra></extra>",
         "line": {
          "color": "#c1121f",
          "width": 3
         },
         "marker": {
          "color": "#c1121f",
          "size": 7
         },
         "mode": "lines+markers",
         "showlegend": false,
         "type": "scatter",
         "x": [
          5,
          6
         ],
         "xaxis": "x",
         "y": [
          0.2879375219345093,
          0.6963738799095154
         ],
         "yaxis": "y"
        },
        {
         "hovertemplate": "x=%{x}<br>y=%{y}<extra></extra>",
         "line": {
          "color": "#9d4edd",
          "width": 3
         },
         "marker": {
          "color": "#9d4edd",
          "size": 7
         },
         "mode": "lines+markers",
         "showlegend": false,
         "type": "scatter",
         "x": [
          45,
          46
         ],
         "xaxis": "x",
         "y": [
          7.070977866649628,
          7.172836720943451
         ],
         "yaxis": "y"
        },
        {
         "hovertemplate": "x=%{x}<br>y=%{y}<extra></extra>",
         "line": {
          "color": "#9d4edd",
          "width": 3
         },
         "marker": {
          "color": "#9d4edd",
          "size": 7
         },
         "mode": "lines+markers",
         "showlegend": false,
         "type": "scatter",
         "x": [
          42,
          43
         ],
         "xaxis": "x",
         "y": [
          7.459795832633972,
          7.070977866649628
         ],
         "yaxis": "y"
        },
        {
         "hovertemplate": "x=%{x}<br>y=%{y}<extra></extra>",
         "line": {
          "color": "#9d4edd",
          "width": 3
         },
         "marker": {
          "color": "#9d4edd",
          "size": 7
         },
         "mode": "lines+markers",
         "showlegend": false,
         "type": "scatter",
         "x": [
          37,
          38
         ],
         "xaxis": "x",
         "y": [
          7.439618170261383,
          6.7946266531944275
         ],
         "yaxis": "y"
        },
        {
         "hovertemplate": "x=%{x}<br>y=%{y}<extra></extra>",
         "line": {
          "color": "#9d4edd",
          "width": 3
         },
         "marker": {
          "color": "#9d4edd",
          "size": 7
         },
         "mode": "lines+markers",
         "showlegend": false,
         "type": "scatter",
         "x": [
          27,
          28
         ],
         "xaxis": "x",
         "y": [
          5.36093270778656,
          5.746630430221558
         ],
         "yaxis": "y"
        },
        {
         "hovertemplate": "x=%{x}<br>y=%{y}<extra></extra>",
         "line": {
          "color": "#9d4edd",
          "width": 3
         },
         "marker": {
          "color": "#9d4edd",
          "size": 7
         },
         "mode": "lines+markers",
         "showlegend": false,
         "type": "scatter",
         "x": [
          2,
          3
         ],
         "xaxis": "x",
         "y": [
          0,
          0
         ],
         "yaxis": "y"
        },
        {
         "line": {
          "color": "#64B5F6",
          "width": 2
         },
         "mode": "lines",
         "name": "human_insert_backstage",
         "showlegend": true,
         "type": "scatter",
         "x": [
          null
         ],
         "xaxis": "x",
         "y": [
          null
         ],
         "yaxis": "y"
        },
        {
         "line": {
          "color": "#ff8fab",
          "width": 2
         },
         "mode": "lines",
         "name": "ai_suggest_backstage",
         "showlegend": true,
         "type": "scatter",
         "x": [
          null
         ],
         "xaxis": "x",
         "y": [
          null
         ],
         "yaxis": "y"
        },
        {
         "line": {
          "color": "#023e8a",
          "width": 2
         },
         "mode": "lines",
         "name": "human_insert_frontstage",
         "showlegend": true,
         "type": "scatter",
         "x": [
          null
         ],
         "xaxis": "x",
         "y": [
          null
         ],
         "yaxis": "y"
        },
        {
         "line": {
          "color": "#c1121f",
          "width": 2
         },
         "mode": "lines",
         "name": "ai_insert_moved_to_frontstage",
         "showlegend": true,
         "type": "scatter",
         "x": [
          null
         ],
         "xaxis": "x",
         "y": [
          null
         ],
         "yaxis": "y"
        },
        {
         "line": {
          "color": "#9d4edd",
          "width": 2
         },
         "mode": "lines",
         "name": "human_delete_frontstage",
         "showlegend": true,
         "type": "scatter",
         "x": [
          null
         ],
         "xaxis": "x",
         "y": [
          null
         ],
         "yaxis": "y"
        },
        {
         "line": {
          "color": "#5a189a",
          "width": 2
         },
         "mode": "lines",
         "name": "human_insert_edit_frontstage",
         "showlegend": true,
         "type": "scatter",
         "x": [
          null
         ],
         "xaxis": "x",
         "y": [
          null
         ],
         "yaxis": "y"
        }
       ],
       "layout": {
        "annotations": [
         {
          "font": {
           "size": 16
          },
          "showarrow": false,
          "text": "Session: legislation_corporate_3",
          "x": 0.5,
          "xanchor": "center",
          "xref": "paper",
          "y": 1,
          "yanchor": "bottom",
          "yref": "paper"
         }
        ],
        "height": 500,
        "legend": {
         "title": {
          "font": {
           "color": "rgba(0, 0, 0, 0)"
          }
         }
        },
        "plot_bgcolor": "white",
        "showlegend": true,
        "template": {
         "data": {
          "bar": [
           {
            "error_x": {
             "color": "#2a3f5f"
            },
            "error_y": {
             "color": "#2a3f5f"
            },
            "marker": {
             "line": {
              "color": "#E5ECF6",
              "width": 0.5
             },
             "pattern": {
              "fillmode": "overlay",
              "size": 10,
              "solidity": 0.2
             }
            },
            "type": "bar"
           }
          ],
          "barpolar": [
           {
            "marker": {
             "line": {
              "color": "#E5ECF6",
              "width": 0.5
             },
             "pattern": {
              "fillmode": "overlay",
              "size": 10,
              "solidity": 0.2
             }
            },
            "type": "barpolar"
           }
          ],
          "carpet": [
           {
            "aaxis": {
             "endlinecolor": "#2a3f5f",
             "gridcolor": "white",
             "linecolor": "white",
             "minorgridcolor": "white",
             "startlinecolor": "#2a3f5f"
            },
            "baxis": {
             "endlinecolor": "#2a3f5f",
             "gridcolor": "white",
             "linecolor": "white",
             "minorgridcolor": "white",
             "startlinecolor": "#2a3f5f"
            },
            "type": "carpet"
           }
          ],
          "choropleth": [
           {
            "colorbar": {
             "outlinewidth": 0,
             "ticks": ""
            },
            "type": "choropleth"
           }
          ],
          "contour": [
           {
            "colorbar": {
             "outlinewidth": 0,
             "ticks": ""
            },
            "colorscale": [
             [
              0,
              "#0d0887"
             ],
             [
              0.1111111111111111,
              "#46039f"
             ],
             [
              0.2222222222222222,
              "#7201a8"
             ],
             [
              0.3333333333333333,
              "#9c179e"
             ],
             [
              0.4444444444444444,
              "#bd3786"
             ],
             [
              0.5555555555555556,
              "#d8576b"
             ],
             [
              0.6666666666666666,
              "#ed7953"
             ],
             [
              0.7777777777777778,
              "#fb9f3a"
             ],
             [
              0.8888888888888888,
              "#fdca26"
             ],
             [
              1,
              "#f0f921"
             ]
            ],
            "type": "contour"
           }
          ],
          "contourcarpet": [
           {
            "colorbar": {
             "outlinewidth": 0,
             "ticks": ""
            },
            "type": "contourcarpet"
           }
          ],
          "heatmap": [
           {
            "colorbar": {
             "outlinewidth": 0,
             "ticks": ""
            },
            "colorscale": [
             [
              0,
              "#0d0887"
             ],
             [
              0.1111111111111111,
              "#46039f"
             ],
             [
              0.2222222222222222,
              "#7201a8"
             ],
             [
              0.3333333333333333,
              "#9c179e"
             ],
             [
              0.4444444444444444,
              "#bd3786"
             ],
             [
              0.5555555555555556,
              "#d8576b"
             ],
             [
              0.6666666666666666,
              "#ed7953"
             ],
             [
              0.7777777777777778,
              "#fb9f3a"
             ],
             [
              0.8888888888888888,
              "#fdca26"
             ],
             [
              1,
              "#f0f921"
             ]
            ],
            "type": "heatmap"
           }
          ],
          "histogram": [
           {
            "marker": {
             "pattern": {
              "fillmode": "overlay",
              "size": 10,
              "solidity": 0.2
             }
            },
            "type": "histogram"
           }
          ],
          "histogram2d": [
           {
            "colorbar": {
             "outlinewidth": 0,
             "ticks": ""
            },
            "colorscale": [
             [
              0,
              "#0d0887"
             ],
             [
              0.1111111111111111,
              "#46039f"
             ],
             [
              0.2222222222222222,
              "#7201a8"
             ],
             [
              0.3333333333333333,
              "#9c179e"
             ],
             [
              0.4444444444444444,
              "#bd3786"
             ],
             [
              0.5555555555555556,
              "#d8576b"
             ],
             [
              0.6666666666666666,
              "#ed7953"
             ],
             [
              0.7777777777777778,
              "#fb9f3a"
             ],
             [
              0.8888888888888888,
              "#fdca26"
             ],
             [
              1,
              "#f0f921"
             ]
            ],
            "type": "histogram2d"
           }
          ],
          "histogram2dcontour": [
           {
            "colorbar": {
             "outlinewidth": 0,
             "ticks": ""
            },
            "colorscale": [
             [
              0,
              "#0d0887"
             ],
             [
              0.1111111111111111,
              "#46039f"
             ],
             [
              0.2222222222222222,
              "#7201a8"
             ],
             [
              0.3333333333333333,
              "#9c179e"
             ],
             [
              0.4444444444444444,
              "#bd3786"
             ],
             [
              0.5555555555555556,
              "#d8576b"
             ],
             [
              0.6666666666666666,
              "#ed7953"
             ],
             [
              0.7777777777777778,
              "#fb9f3a"
             ],
             [
              0.8888888888888888,
              "#fdca26"
             ],
             [
              1,
              "#f0f921"
             ]
            ],
            "type": "histogram2dcontour"
           }
          ],
          "mesh3d": [
           {
            "colorbar": {
             "outlinewidth": 0,
             "ticks": ""
            },
            "type": "mesh3d"
           }
          ],
          "parcoords": [
           {
            "line": {
             "colorbar": {
              "outlinewidth": 0,
              "ticks": ""
             }
            },
            "type": "parcoords"
           }
          ],
          "pie": [
           {
            "automargin": true,
            "type": "pie"
           }
          ],
          "scatter": [
           {
            "fillpattern": {
             "fillmode": "overlay",
             "size": 10,
             "solidity": 0.2
            },
            "type": "scatter"
           }
          ],
          "scatter3d": [
           {
            "line": {
             "colorbar": {
              "outlinewidth": 0,
              "ticks": ""
             }
            },
            "marker": {
             "colorbar": {
              "outlinewidth": 0,
              "ticks": ""
             }
            },
            "type": "scatter3d"
           }
          ],
          "scattercarpet": [
           {
            "marker": {
             "colorbar": {
              "outlinewidth": 0,
              "ticks": ""
             }
            },
            "type": "scattercarpet"
           }
          ],
          "scattergeo": [
           {
            "marker": {
             "colorbar": {
              "outlinewidth": 0,
              "ticks": ""
             }
            },
            "type": "scattergeo"
           }
          ],
          "scattergl": [
           {
            "marker": {
             "colorbar": {
              "outlinewidth": 0,
              "ticks": ""
             }
            },
            "type": "scattergl"
           }
          ],
          "scattermap": [
           {
            "marker": {
             "colorbar": {
              "outlinewidth": 0,
              "ticks": ""
             }
            },
            "type": "scattermap"
           }
          ],
          "scattermapbox": [
           {
            "marker": {
             "colorbar": {
              "outlinewidth": 0,
              "ticks": ""
             }
            },
            "type": "scattermapbox"
           }
          ],
          "scatterpolar": [
           {
            "marker": {
             "colorbar": {
              "outlinewidth": 0,
              "ticks": ""
             }
            },
            "type": "scatterpolar"
           }
          ],
          "scatterpolargl": [
           {
            "marker": {
             "colorbar": {
              "outlinewidth": 0,
              "ticks": ""
             }
            },
            "type": "scatterpolargl"
           }
          ],
          "scatterternary": [
           {
            "marker": {
             "colorbar": {
              "outlinewidth": 0,
              "ticks": ""
             }
            },
            "type": "scatterternary"
           }
          ],
          "surface": [
           {
            "colorbar": {
             "outlinewidth": 0,
             "ticks": ""
            },
            "colorscale": [
             [
              0,
              "#0d0887"
             ],
             [
              0.1111111111111111,
              "#46039f"
             ],
             [
              0.2222222222222222,
              "#7201a8"
             ],
             [
              0.3333333333333333,
              "#9c179e"
             ],
             [
              0.4444444444444444,
              "#bd3786"
             ],
             [
              0.5555555555555556,
              "#d8576b"
             ],
             [
              0.6666666666666666,
              "#ed7953"
             ],
             [
              0.7777777777777778,
              "#fb9f3a"
             ],
             [
              0.8888888888888888,
              "#fdca26"
             ],
             [
              1,
              "#f0f921"
             ]
            ],
            "type": "surface"
           }
          ],
          "table": [
           {
            "cells": {
             "fill": {
              "color": "#EBF0F8"
             },
             "line": {
              "color": "white"
             }
            },
            "header": {
             "fill": {
              "color": "#C8D4E3"
             },
             "line": {
              "color": "white"
             }
            },
            "type": "table"
           }
          ]
         },
         "layout": {
          "annotationdefaults": {
           "arrowcolor": "#2a3f5f",
           "arrowhead": 0,
           "arrowwidth": 1
          },
          "autotypenumbers": "strict",
          "coloraxis": {
           "colorbar": {
            "outlinewidth": 0,
            "ticks": ""
           }
          },
          "colorscale": {
           "diverging": [
            [
             0,
             "#8e0152"
            ],
            [
             0.1,
             "#c51b7d"
            ],
            [
             0.2,
             "#de77ae"
            ],
            [
             0.3,
             "#f1b6da"
            ],
            [
             0.4,
             "#fde0ef"
            ],
            [
             0.5,
             "#f7f7f7"
            ],
            [
             0.6,
             "#e6f5d0"
            ],
            [
             0.7,
             "#b8e186"
            ],
            [
             0.8,
             "#7fbc41"
            ],
            [
             0.9,
             "#4d9221"
            ],
            [
             1,
             "#276419"
            ]
           ],
           "sequential": [
            [
             0,
             "#0d0887"
            ],
            [
             0.1111111111111111,
             "#46039f"
            ],
            [
             0.2222222222222222,
             "#7201a8"
            ],
            [
             0.3333333333333333,
             "#9c179e"
            ],
            [
             0.4444444444444444,
             "#bd3786"
            ],
            [
             0.5555555555555556,
             "#d8576b"
            ],
            [
             0.6666666666666666,
             "#ed7953"
            ],
            [
             0.7777777777777778,
             "#fb9f3a"
            ],
            [
             0.8888888888888888,
             "#fdca26"
            ],
            [
             1,
             "#f0f921"
            ]
           ],
           "sequentialminus": [
            [
             0,
             "#0d0887"
            ],
            [
             0.1111111111111111,
             "#46039f"
            ],
            [
             0.2222222222222222,
             "#7201a8"
            ],
            [
             0.3333333333333333,
             "#9c179e"
            ],
            [
             0.4444444444444444,
             "#bd3786"
            ],
            [
             0.5555555555555556,
             "#d8576b"
            ],
            [
             0.6666666666666666,
             "#ed7953"
            ],
            [
             0.7777777777777778,
             "#fb9f3a"
            ],
            [
             0.8888888888888888,
             "#fdca26"
            ],
            [
             1,
             "#f0f921"
            ]
           ]
          },
          "colorway": [
           "#636efa",
           "#EF553B",
           "#00cc96",
           "#ab63fa",
           "#FFA15A",
           "#19d3f3",
           "#FF6692",
           "#B6E880",
           "#FF97FF",
           "#FECB52"
          ],
          "font": {
           "color": "#2a3f5f"
          },
          "geo": {
           "bgcolor": "white",
           "lakecolor": "white",
           "landcolor": "#E5ECF6",
           "showlakes": true,
           "showland": true,
           "subunitcolor": "white"
          },
          "hoverlabel": {
           "align": "left"
          },
          "hovermode": "closest",
          "mapbox": {
           "style": "light"
          },
          "paper_bgcolor": "white",
          "plot_bgcolor": "#E5ECF6",
          "polar": {
           "angularaxis": {
            "gridcolor": "white",
            "linecolor": "white",
            "ticks": ""
           },
           "bgcolor": "#E5ECF6",
           "radialaxis": {
            "gridcolor": "white",
            "linecolor": "white",
            "ticks": ""
           }
          },
          "scene": {
           "xaxis": {
            "backgroundcolor": "#E5ECF6",
            "gridcolor": "white",
            "gridwidth": 2,
            "linecolor": "white",
            "showbackground": true,
            "ticks": "",
            "zerolinecolor": "white"
           },
           "yaxis": {
            "backgroundcolor": "#E5ECF6",
            "gridcolor": "white",
            "gridwidth": 2,
            "linecolor": "white",
            "showbackground": true,
            "ticks": "",
            "zerolinecolor": "white"
           },
           "zaxis": {
            "backgroundcolor": "#E5ECF6",
            "gridcolor": "white",
            "gridwidth": 2,
            "linecolor": "white",
            "showbackground": true,
            "ticks": "",
            "zerolinecolor": "white"
           }
          },
          "shapedefaults": {
           "line": {
            "color": "#2a3f5f"
           }
          },
          "ternary": {
           "aaxis": {
            "gridcolor": "white",
            "linecolor": "white",
            "ticks": ""
           },
           "baxis": {
            "gridcolor": "white",
            "linecolor": "white",
            "ticks": ""
           },
           "bgcolor": "#E5ECF6",
           "caxis": {
            "gridcolor": "white",
            "linecolor": "white",
            "ticks": ""
           }
          },
          "title": {
           "x": 0.05
          },
          "xaxis": {
           "automargin": true,
           "gridcolor": "white",
           "linecolor": "white",
           "ticks": "",
           "title": {
            "standoff": 15
           },
           "zerolinecolor": "white",
           "zerolinewidth": 2
          },
          "yaxis": {
           "automargin": true,
           "gridcolor": "white",
           "linecolor": "white",
           "ticks": "",
           "title": {
            "standoff": 15
           },
           "zerolinecolor": "white",
           "zerolinewidth": 2
          }
         }
        },
        "title": {
         "text": "Semantic Expansion over Writing Sessions<br><span style=\"font-size: 12px;\">*Measuring how well humans are learning while writing with GenAI</span>"
        },
        "width": 1800,
        "xaxis": {
         "anchor": "y",
         "domain": [
          0,
          1
         ],
         "gridcolor": "white",
         "linecolor": "black",
         "mirror": false,
         "range": [
          -1,
          75
         ],
         "showline": true,
         "ticks": "outside",
         "title": {
          "text": "Progress into the writing session"
         }
        },
        "yaxis": {
         "anchor": "x",
         "domain": [
          0,
          1
         ],
         "gridcolor": "white",
         "linecolor": "black",
         "mirror": false,
         "showline": true,
         "ticks": "outside",
         "title": {
          "text": "Scores"
         }
        }
       }
      }
     },
     "metadata": {},
     "output_type": "display_data"
    },
    {
     "name": "stdout",
     "output_type": "stream",
     "text": [
      "legislation_corporate_4\n"
     ]
    },
    {
     "data": {
      "application/vnd.plotly.v1+json": {
       "config": {
        "plotlyServerURL": "https://plot.ly"
       },
       "data": [
        {
         "hovertemplate": "x=%{x}<br>y=%{y}<extra></extra>",
         "line": {
          "color": "#64B5F6",
          "width": 3
         },
         "marker": {
          "color": "#64B5F6",
          "size": 7
         },
         "mode": "lines+markers",
         "showlegend": false,
         "type": "scatter",
         "x": [
          82,
          83
         ],
         "xaxis": "x",
         "y": [
          18.702124536037445,
          19.100488424301147
         ],
         "yaxis": "y"
        },
        {
         "hovertemplate": "x=%{x}<br>y=%{y}<extra></extra>",
         "line": {
          "color": "#64B5F6",
          "width": 3
         },
         "marker": {
          "color": "#64B5F6",
          "size": 7
         },
         "mode": "lines+markers",
         "showlegend": false,
         "type": "scatter",
         "x": [
          78,
          79
         ],
         "xaxis": "x",
         "y": [
          18.42678040266037,
          19.102604031562805
         ],
         "yaxis": "y"
        },
        {
         "hovertemplate": "x=%{x}<br>y=%{y}<extra></extra>",
         "line": {
          "color": "#64B5F6",
          "width": 3
         },
         "marker": {
          "color": "#64B5F6",
          "size": 7
         },
         "mode": "lines+markers",
         "showlegend": false,
         "type": "scatter",
         "x": [
          71,
          72
         ],
         "xaxis": "x",
         "y": [
          15.963692307472229,
          16.661868155002594
         ],
         "yaxis": "y"
        },
        {
         "hovertemplate": "x=%{x}<br>y=%{y}<extra></extra>",
         "line": {
          "color": "#64B5F6",
          "width": 3
         },
         "marker": {
          "color": "#64B5F6",
          "size": 7
         },
         "mode": "lines+markers",
         "showlegend": false,
         "type": "scatter",
         "x": [
          62,
          63
         ],
         "xaxis": "x",
         "y": [
          13.455872440338133,
          13.829305553436278
         ],
         "yaxis": "y"
        },
        {
         "hovertemplate": "x=%{x}<br>y=%{y}<extra></extra>",
         "line": {
          "color": "#64B5F6",
          "width": 3
         },
         "marker": {
          "color": "#64B5F6",
          "size": 7
         },
         "mode": "lines+markers",
         "showlegend": false,
         "type": "scatter",
         "x": [
          59,
          60
         ],
         "xaxis": "x",
         "y": [
          12.232033848762512,
          12.597081899642944
         ],
         "yaxis": "y"
        },
        {
         "hovertemplate": "x=%{x}<br>y=%{y}<extra></extra>",
         "line": {
          "color": "#64B5F6",
          "width": 3
         },
         "marker": {
          "color": "#64B5F6",
          "size": 7
         },
         "mode": "lines+markers",
         "showlegend": false,
         "type": "scatter",
         "x": [
          53,
          54
         ],
         "xaxis": "x",
         "y": [
          14.295780789852142,
          14.742052507400512
         ],
         "yaxis": "y"
        },
        {
         "hovertemplate": "x=%{x}<br>y=%{y}<extra></extra>",
         "line": {
          "color": "#64B5F6",
          "width": 3
         },
         "marker": {
          "color": "#64B5F6",
          "size": 7
         },
         "mode": "lines+markers",
         "showlegend": false,
         "type": "scatter",
         "x": [
          51,
          52
         ],
         "xaxis": "x",
         "y": [
          13.41170209646225,
          13.846154391765594
         ],
         "yaxis": "y"
        },
        {
         "hovertemplate": "x=%{x}<br>y=%{y}<extra></extra>",
         "line": {
          "color": "#64B5F6",
          "width": 3
         },
         "marker": {
          "color": "#64B5F6",
          "size": 7
         },
         "mode": "lines+markers",
         "showlegend": false,
         "type": "scatter",
         "x": [
          50,
          51
         ],
         "xaxis": "x",
         "y": [
          12.930997431278229,
          13.41170209646225
         ],
         "yaxis": "y"
        },
        {
         "hovertemplate": "x=%{x}<br>y=%{y}<extra></extra>",
         "line": {
          "color": "#64B5F6",
          "width": 3
         },
         "marker": {
          "color": "#64B5F6",
          "size": 7
         },
         "mode": "lines+markers",
         "showlegend": false,
         "type": "scatter",
         "x": [
          48,
          49
         ],
         "xaxis": "x",
         "y": [
          12.041772902011871,
          12.486782491207123
         ],
         "yaxis": "y"
        },
        {
         "hovertemplate": "x=%{x}<br>y=%{y}<extra></extra>",
         "line": {
          "color": "#64B5F6",
          "width": 3
         },
         "marker": {
          "color": "#64B5F6",
          "size": 7
         },
         "mode": "lines+markers",
         "showlegend": false,
         "type": "scatter",
         "x": [
          46,
          47
         ],
         "xaxis": "x",
         "y": [
          11.281689524650574,
          11.715600430965424
         ],
         "yaxis": "y"
        },
        {
         "hovertemplate": "x=%{x}<br>y=%{y}<extra></extra>",
         "line": {
          "color": "#64B5F6",
          "width": 3
         },
         "marker": {
          "color": "#64B5F6",
          "size": 7
         },
         "mode": "lines+markers",
         "showlegend": false,
         "type": "scatter",
         "x": [
          41,
          42
         ],
         "xaxis": "x",
         "y": [
          10.779867517948151,
          11.17123876810074
         ],
         "yaxis": "y"
        },
        {
         "hovertemplate": "x=%{x}<br>y=%{y}<extra></extra>",
         "line": {
          "color": "#64B5F6",
          "width": 3
         },
         "marker": {
          "color": "#64B5F6",
          "size": 7
         },
         "mode": "lines+markers",
         "showlegend": false,
         "type": "scatter",
         "x": [
          39,
          40
         ],
         "xaxis": "x",
         "y": [
          10.353354752063751,
          10.29659128189087
         ],
         "yaxis": "y"
        },
        {
         "hovertemplate": "x=%{x}<br>y=%{y}<extra></extra>",
         "line": {
          "color": "#64B5F6",
          "width": 3
         },
         "marker": {
          "color": "#64B5F6",
          "size": 7
         },
         "mode": "lines+markers",
         "showlegend": false,
         "type": "scatter",
         "x": [
          25,
          26
         ],
         "xaxis": "x",
         "y": [
          6.607378625869751,
          6.973325157165528
         ],
         "yaxis": "y"
        },
        {
         "hovertemplate": "x=%{x}<br>y=%{y}<extra></extra>",
         "line": {
          "color": "#64B5F6",
          "width": 3
         },
         "marker": {
          "color": "#64B5F6",
          "size": 7
         },
         "mode": "lines+markers",
         "showlegend": false,
         "type": "scatter",
         "x": [
          23,
          24
         ],
         "xaxis": "x",
         "y": [
          5.991519033908844,
          6.308425664901733
         ],
         "yaxis": "y"
        },
        {
         "hovertemplate": "x=%{x}<br>y=%{y}<extra></extra>",
         "line": {
          "color": "#64B5F6",
          "width": 3
         },
         "marker": {
          "color": "#64B5F6",
          "size": 7
         },
         "mode": "lines+markers",
         "showlegend": false,
         "type": "scatter",
         "x": [
          21,
          22
         ],
         "xaxis": "x",
         "y": [
          5.345805776119232,
          5.64656240940094
         ],
         "yaxis": "y"
        },
        {
         "hovertemplate": "x=%{x}<br>y=%{y}<extra></extra>",
         "line": {
          "color": "#64B5F6",
          "width": 3
         },
         "marker": {
          "color": "#64B5F6",
          "size": 7
         },
         "mode": "lines+markers",
         "showlegend": false,
         "type": "scatter",
         "x": [
          19,
          20
         ],
         "xaxis": "x",
         "y": [
          5.081351578235626,
          5.016340613365173
         ],
         "yaxis": "y"
        },
        {
         "hovertemplate": "x=%{x}<br>y=%{y}<extra></extra>",
         "line": {
          "color": "#64B5F6",
          "width": 3
         },
         "marker": {
          "color": "#64B5F6",
          "size": 7
         },
         "mode": "lines+markers",
         "showlegend": false,
         "type": "scatter",
         "x": [
          0,
          1
         ],
         "xaxis": "x",
         "y": [
          0,
          0.5154285430908203
         ],
         "yaxis": "y"
        },
        {
         "hovertemplate": "x=%{x}<br>y=%{y}<extra></extra>",
         "line": {
          "color": "#ff8fab",
          "width": 3
         },
         "marker": {
          "color": "#ff8fab",
          "size": 7
         },
         "mode": "lines+markers",
         "showlegend": false,
         "type": "scatter",
         "x": [
          100,
          101
         ],
         "xaxis": "x",
         "y": [
          22.134100794792175,
          22.55360552072525
         ],
         "yaxis": "y"
        },
        {
         "hovertemplate": "x=%{x}<br>y=%{y}<extra></extra>",
         "line": {
          "color": "#ff8fab",
          "width": 3
         },
         "marker": {
          "color": "#ff8fab",
          "size": 7
         },
         "mode": "lines+markers",
         "showlegend": false,
         "type": "scatter",
         "x": [
          92,
          93
         ],
         "xaxis": "x",
         "y": [
          20.239680767059326,
          20.683567500114442
         ],
         "yaxis": "y"
        },
        {
         "hovertemplate": "x=%{x}<br>y=%{y}<extra></extra>",
         "line": {
          "color": "#ff8fab",
          "width": 3
         },
         "marker": {
          "color": "#ff8fab",
          "size": 7
         },
         "mode": "lines+markers",
         "showlegend": false,
         "type": "scatter",
         "x": [
          84,
          85
         ],
         "xaxis": "x",
         "y": [
          19.56544349193573,
          19.945559215545657
         ],
         "yaxis": "y"
        },
        {
         "hovertemplate": "x=%{x}<br>y=%{y}<extra></extra>",
         "line": {
          "color": "#ff8fab",
          "width": 3
         },
         "marker": {
          "color": "#ff8fab",
          "size": 7
         },
         "mode": "lines+markers",
         "showlegend": false,
         "type": "scatter",
         "x": [
          83,
          84
         ],
         "xaxis": "x",
         "y": [
          19.100488424301147,
          19.56544349193573
         ],
         "yaxis": "y"
        },
        {
         "hovertemplate": "x=%{x}<br>y=%{y}<extra></extra>",
         "line": {
          "color": "#ff8fab",
          "width": 3
         },
         "marker": {
          "color": "#ff8fab",
          "size": 7
         },
         "mode": "lines+markers",
         "showlegend": false,
         "type": "scatter",
         "x": [
          79,
          80
         ],
         "xaxis": "x",
         "y": [
          19.102604031562805,
          19.487329626083373
         ],
         "yaxis": "y"
        },
        {
         "hovertemplate": "x=%{x}<br>y=%{y}<extra></extra>",
         "line": {
          "color": "#ff8fab",
          "width": 3
         },
         "marker": {
          "color": "#ff8fab",
          "size": 7
         },
         "mode": "lines+markers",
         "showlegend": false,
         "type": "scatter",
         "x": [
          72,
          73
         ],
         "xaxis": "x",
         "y": [
          16.661868155002594,
          17.060397112369536
         ],
         "yaxis": "y"
        },
        {
         "hovertemplate": "x=%{x}<br>y=%{y}<extra></extra>",
         "line": {
          "color": "#ff8fab",
          "width": 3
         },
         "marker": {
          "color": "#ff8fab",
          "size": 7
         },
         "mode": "lines+markers",
         "showlegend": false,
         "type": "scatter",
         "x": [
          63,
          64
         ],
         "xaxis": "x",
         "y": [
          13.829305553436278,
          14.204359793663023
         ],
         "yaxis": "y"
        },
        {
         "hovertemplate": "x=%{x}<br>y=%{y}<extra></extra>",
         "line": {
          "color": "#ff8fab",
          "width": 3
         },
         "marker": {
          "color": "#ff8fab",
          "size": 7
         },
         "mode": "lines+markers",
         "showlegend": false,
         "type": "scatter",
         "x": [
          61,
          62
         ],
         "xaxis": "x",
         "y": [
          13.107150411605835,
          13.455872440338133
         ],
         "yaxis": "y"
        },
        {
         "hovertemplate": "x=%{x}<br>y=%{y}<extra></extra>",
         "line": {
          "color": "#ff8fab",
          "width": 3
         },
         "marker": {
          "color": "#ff8fab",
          "size": 7
         },
         "mode": "lines+markers",
         "showlegend": false,
         "type": "scatter",
         "x": [
          60,
          61
         ],
         "xaxis": "x",
         "y": [
          12.597081899642944,
          13.107150411605835
         ],
         "yaxis": "y"
        },
        {
         "hovertemplate": "x=%{x}<br>y=%{y}<extra></extra>",
         "line": {
          "color": "#ff8fab",
          "width": 3
         },
         "marker": {
          "color": "#ff8fab",
          "size": 7
         },
         "mode": "lines+markers",
         "showlegend": false,
         "type": "scatter",
         "x": [
          54,
          55
         ],
         "xaxis": "x",
         "y": [
          14.742052507400512,
          15.211688351631164
         ],
         "yaxis": "y"
        },
        {
         "hovertemplate": "x=%{x}<br>y=%{y}<extra></extra>",
         "line": {
          "color": "#ff8fab",
          "width": 3
         },
         "marker": {
          "color": "#ff8fab",
          "size": 7
         },
         "mode": "lines+markers",
         "showlegend": false,
         "type": "scatter",
         "x": [
          52,
          53
         ],
         "xaxis": "x",
         "y": [
          13.846154391765594,
          14.295780789852142
         ],
         "yaxis": "y"
        },
        {
         "hovertemplate": "x=%{x}<br>y=%{y}<extra></extra>",
         "line": {
          "color": "#ff8fab",
          "width": 3
         },
         "marker": {
          "color": "#ff8fab",
          "size": 7
         },
         "mode": "lines+markers",
         "showlegend": false,
         "type": "scatter",
         "x": [
          49,
          50
         ],
         "xaxis": "x",
         "y": [
          12.486782491207123,
          12.930997431278229
         ],
         "yaxis": "y"
        },
        {
         "hovertemplate": "x=%{x}<br>y=%{y}<extra></extra>",
         "line": {
          "color": "#ff8fab",
          "width": 3
         },
         "marker": {
          "color": "#ff8fab",
          "size": 7
         },
         "mode": "lines+markers",
         "showlegend": false,
         "type": "scatter",
         "x": [
          47,
          48
         ],
         "xaxis": "x",
         "y": [
          11.715600430965424,
          12.041772902011871
         ],
         "yaxis": "y"
        },
        {
         "hovertemplate": "x=%{x}<br>y=%{y}<extra></extra>",
         "line": {
          "color": "#ff8fab",
          "width": 3
         },
         "marker": {
          "color": "#ff8fab",
          "size": 7
         },
         "mode": "lines+markers",
         "showlegend": false,
         "type": "scatter",
         "x": [
          42,
          43
         ],
         "xaxis": "x",
         "y": [
          11.17123876810074,
          11.583674407005311
         ],
         "yaxis": "y"
        },
        {
         "hovertemplate": "x=%{x}<br>y=%{y}<extra></extra>",
         "line": {
          "color": "#ff8fab",
          "width": 3
         },
         "marker": {
          "color": "#ff8fab",
          "size": 7
         },
         "mode": "lines+markers",
         "showlegend": false,
         "type": "scatter",
         "x": [
          40,
          41
         ],
         "xaxis": "x",
         "y": [
          10.29659128189087,
          10.779867517948151
         ],
         "yaxis": "y"
        },
        {
         "hovertemplate": "x=%{x}<br>y=%{y}<extra></extra>",
         "line": {
          "color": "#ff8fab",
          "width": 3
         },
         "marker": {
          "color": "#ff8fab",
          "size": 7
         },
         "mode": "lines+markers",
         "showlegend": false,
         "type": "scatter",
         "x": [
          26,
          27
         ],
         "xaxis": "x",
         "y": [
          6.973325157165528,
          7.39875031709671
         ],
         "yaxis": "y"
        },
        {
         "hovertemplate": "x=%{x}<br>y=%{y}<extra></extra>",
         "line": {
          "color": "#ff8fab",
          "width": 3
         },
         "marker": {
          "color": "#ff8fab",
          "size": 7
         },
         "mode": "lines+markers",
         "showlegend": false,
         "type": "scatter",
         "x": [
          24,
          25
         ],
         "xaxis": "x",
         "y": [
          6.308425664901733,
          6.607378625869751
         ],
         "yaxis": "y"
        },
        {
         "hovertemplate": "x=%{x}<br>y=%{y}<extra></extra>",
         "line": {
          "color": "#ff8fab",
          "width": 3
         },
         "marker": {
          "color": "#ff8fab",
          "size": 7
         },
         "mode": "lines+markers",
         "showlegend": false,
         "type": "scatter",
         "x": [
          22,
          23
         ],
         "xaxis": "x",
         "y": [
          5.64656240940094,
          5.991519033908844
         ],
         "yaxis": "y"
        },
        {
         "hovertemplate": "x=%{x}<br>y=%{y}<extra></extra>",
         "line": {
          "color": "#ff8fab",
          "width": 3
         },
         "marker": {
          "color": "#ff8fab",
          "size": 7
         },
         "mode": "lines+markers",
         "showlegend": false,
         "type": "scatter",
         "x": [
          20,
          21
         ],
         "xaxis": "x",
         "y": [
          5.016340613365173,
          5.345805776119232
         ],
         "yaxis": "y"
        },
        {
         "hovertemplate": "x=%{x}<br>y=%{y}<extra></extra>",
         "line": {
          "color": "#ff8fab",
          "width": 3
         },
         "marker": {
          "color": "#ff8fab",
          "size": 7
         },
         "mode": "lines+markers",
         "showlegend": false,
         "type": "scatter",
         "x": [
          1,
          2
         ],
         "xaxis": "x",
         "y": [
          0.5154285430908203,
          0.8811879515647888
         ],
         "yaxis": "y"
        },
        {
         "hovertemplate": "x=%{x}<br>y=%{y}<extra></extra>",
         "line": {
          "color": "#023e8a",
          "width": 3
         },
         "marker": {
          "color": "#023e8a",
          "size": 7
         },
         "mode": "lines+markers",
         "showlegend": false,
         "type": "scatter",
         "x": [
          103,
          104
         ],
         "xaxis": "x",
         "y": [
          23.017755806446075,
          23.455886781215668
         ],
         "yaxis": "y"
        },
        {
         "hovertemplate": "x=%{x}<br>y=%{y}<extra></extra>",
         "line": {
          "color": "#023e8a",
          "width": 3
         },
         "marker": {
          "color": "#023e8a",
          "size": 7
         },
         "mode": "lines+markers",
         "showlegend": false,
         "type": "scatter",
         "x": [
          102,
          103
         ],
         "xaxis": "x",
         "y": [
          22.54370027780533,
          23.017755806446075
         ],
         "yaxis": "y"
        },
        {
         "hovertemplate": "x=%{x}<br>y=%{y}<extra></extra>",
         "line": {
          "color": "#023e8a",
          "width": 3
         },
         "marker": {
          "color": "#023e8a",
          "size": 7
         },
         "mode": "lines+markers",
         "showlegend": false,
         "type": "scatter",
         "x": [
          101,
          102
         ],
         "xaxis": "x",
         "y": [
          22.134100794792175,
          22.54370027780533
         ],
         "yaxis": "y"
        },
        {
         "hovertemplate": "x=%{x}<br>y=%{y}<extra></extra>",
         "line": {
          "color": "#023e8a",
          "width": 3
         },
         "marker": {
          "color": "#023e8a",
          "size": 7
         },
         "mode": "lines+markers",
         "showlegend": false,
         "type": "scatter",
         "x": [
          98,
          99
         ],
         "xaxis": "x",
         "y": [
          21.72649246454239,
          22.122633159160614
         ],
         "yaxis": "y"
        },
        {
         "hovertemplate": "x=%{x}<br>y=%{y}<extra></extra>",
         "line": {
          "color": "#023e8a",
          "width": 3
         },
         "marker": {
          "color": "#023e8a",
          "size": 7
         },
         "mode": "lines+markers",
         "showlegend": false,
         "type": "scatter",
         "x": [
          97,
          98
         ],
         "xaxis": "x",
         "y": [
          21.350904285907745,
          21.72649246454239
         ],
         "yaxis": "y"
        },
        {
         "hovertemplate": "x=%{x}<br>y=%{y}<extra></extra>",
         "line": {
          "color": "#023e8a",
          "width": 3
         },
         "marker": {
          "color": "#023e8a",
          "size": 7
         },
         "mode": "lines+markers",
         "showlegend": false,
         "type": "scatter",
         "x": [
          96,
          97
         ],
         "xaxis": "x",
         "y": [
          20.97714787721634,
          21.350904285907745
         ],
         "yaxis": "y"
        },
        {
         "hovertemplate": "x=%{x}<br>y=%{y}<extra></extra>",
         "line": {
          "color": "#023e8a",
          "width": 3
         },
         "marker": {
          "color": "#023e8a",
          "size": 7
         },
         "mode": "lines+markers",
         "showlegend": false,
         "type": "scatter",
         "x": [
          95,
          96
         ],
         "xaxis": "x",
         "y": [
          20.686859965324402,
          20.97714787721634
         ],
         "yaxis": "y"
        },
        {
         "hovertemplate": "x=%{x}<br>y=%{y}<extra></extra>",
         "line": {
          "color": "#023e8a",
          "width": 3
         },
         "marker": {
          "color": "#023e8a",
          "size": 7
         },
         "mode": "lines+markers",
         "showlegend": false,
         "type": "scatter",
         "x": [
          94,
          95
         ],
         "xaxis": "x",
         "y": [
          20.21533954143524,
          20.686859965324402
         ],
         "yaxis": "y"
        },
        {
         "hovertemplate": "x=%{x}<br>y=%{y}<extra></extra>",
         "line": {
          "color": "#023e8a",
          "width": 3
         },
         "marker": {
          "color": "#023e8a",
          "size": 7
         },
         "mode": "lines+markers",
         "showlegend": false,
         "type": "scatter",
         "x": [
          91,
          92
         ],
         "xaxis": "x",
         "y": [
          19.953594863414764,
          20.239680767059326
         ],
         "yaxis": "y"
        },
        {
         "hovertemplate": "x=%{x}<br>y=%{y}<extra></extra>",
         "line": {
          "color": "#023e8a",
          "width": 3
         },
         "marker": {
          "color": "#023e8a",
          "size": 7
         },
         "mode": "lines+markers",
         "showlegend": false,
         "type": "scatter",
         "x": [
          90,
          91
         ],
         "xaxis": "x",
         "y": [
          19.748128175735474,
          19.953594863414764
         ],
         "yaxis": "y"
        },
        {
         "hovertemplate": "x=%{x}<br>y=%{y}<extra></extra>",
         "line": {
          "color": "#023e8a",
          "width": 3
         },
         "marker": {
          "color": "#023e8a",
          "size": 7
         },
         "mode": "lines+markers",
         "showlegend": false,
         "type": "scatter",
         "x": [
          88,
          89
         ],
         "xaxis": "x",
         "y": [
          19.504911422729492,
          19.748128175735474
         ],
         "yaxis": "y"
        },
        {
         "hovertemplate": "x=%{x}<br>y=%{y}<extra></extra>",
         "line": {
          "color": "#023e8a",
          "width": 3
         },
         "marker": {
          "color": "#023e8a",
          "size": 7
         },
         "mode": "lines+markers",
         "showlegend": false,
         "type": "scatter",
         "x": [
          87,
          88
         ],
         "xaxis": "x",
         "y": [
          19.246007442474365,
          19.504911422729492
         ],
         "yaxis": "y"
        },
        {
         "hovertemplate": "x=%{x}<br>y=%{y}<extra></extra>",
         "line": {
          "color": "#023e8a",
          "width": 3
         },
         "marker": {
          "color": "#023e8a",
          "size": 7
         },
         "mode": "lines+markers",
         "showlegend": false,
         "type": "scatter",
         "x": [
          86,
          87
         ],
         "xaxis": "x",
         "y": [
          19.00452035665512,
          19.246007442474365
         ],
         "yaxis": "y"
        },
        {
         "hovertemplate": "x=%{x}<br>y=%{y}<extra></extra>",
         "line": {
          "color": "#023e8a",
          "width": 3
         },
         "marker": {
          "color": "#023e8a",
          "size": 7
         },
         "mode": "lines+markers",
         "showlegend": false,
         "type": "scatter",
         "x": [
          85,
          86
         ],
         "xaxis": "x",
         "y": [
          18.702124536037445,
          19.00452035665512
         ],
         "yaxis": "y"
        },
        {
         "hovertemplate": "x=%{x}<br>y=%{y}<extra></extra>",
         "line": {
          "color": "#023e8a",
          "width": 3
         },
         "marker": {
          "color": "#023e8a",
          "size": 7
         },
         "mode": "lines+markers",
         "showlegend": false,
         "type": "scatter",
         "x": [
          80,
          81
         ],
         "xaxis": "x",
         "y": [
          18.42678040266037,
          18.740657091140747
         ],
         "yaxis": "y"
        },
        {
         "hovertemplate": "x=%{x}<br>y=%{y}<extra></extra>",
         "line": {
          "color": "#023e8a",
          "width": 3
         },
         "marker": {
          "color": "#023e8a",
          "size": 7
         },
         "mode": "lines+markers",
         "showlegend": false,
         "type": "scatter",
         "x": [
          77,
          78
         ],
         "xaxis": "x",
         "y": [
          17.72478860616684,
          18.42678040266037
         ],
         "yaxis": "y"
        },
        {
         "hovertemplate": "x=%{x}<br>y=%{y}<extra></extra>",
         "line": {
          "color": "#023e8a",
          "width": 3
         },
         "marker": {
          "color": "#023e8a",
          "size": 7
         },
         "mode": "lines+markers",
         "showlegend": false,
         "type": "scatter",
         "x": [
          76,
          77
         ],
         "xaxis": "x",
         "y": [
          16.973208367824554,
          17.72478860616684
         ],
         "yaxis": "y"
        },
        {
         "hovertemplate": "x=%{x}<br>y=%{y}<extra></extra>",
         "line": {
          "color": "#023e8a",
          "width": 3
         },
         "marker": {
          "color": "#023e8a",
          "size": 7
         },
         "mode": "lines+markers",
         "showlegend": false,
         "type": "scatter",
         "x": [
          75,
          76
         ],
         "xaxis": "x",
         "y": [
          16.513444542884827,
          16.973208367824554
         ],
         "yaxis": "y"
        },
        {
         "hovertemplate": "x=%{x}<br>y=%{y}<extra></extra>",
         "line": {
          "color": "#023e8a",
          "width": 3
         },
         "marker": {
          "color": "#023e8a",
          "size": 7
         },
         "mode": "lines+markers",
         "showlegend": false,
         "type": "scatter",
         "x": [
          73,
          74
         ],
         "xaxis": "x",
         "y": [
          15.963692307472229,
          16.565781831741333
         ],
         "yaxis": "y"
        },
        {
         "hovertemplate": "x=%{x}<br>y=%{y}<extra></extra>",
         "line": {
          "color": "#023e8a",
          "width": 3
         },
         "marker": {
          "color": "#023e8a",
          "size": 7
         },
         "mode": "lines+markers",
         "showlegend": false,
         "type": "scatter",
         "x": [
          70,
          71
         ],
         "xaxis": "x",
         "y": [
          15.332122027873993,
          15.963692307472229
         ],
         "yaxis": "y"
        },
        {
         "hovertemplate": "x=%{x}<br>y=%{y}<extra></extra>",
         "line": {
          "color": "#023e8a",
          "width": 3
         },
         "marker": {
          "color": "#023e8a",
          "size": 7
         },
         "mode": "lines+markers",
         "showlegend": false,
         "type": "scatter",
         "x": [
          69,
          70
         ],
         "xaxis": "x",
         "y": [
          14.706982791423798,
          15.332122027873993
         ],
         "yaxis": "y"
        },
        {
         "hovertemplate": "x=%{x}<br>y=%{y}<extra></extra>",
         "line": {
          "color": "#023e8a",
          "width": 3
         },
         "marker": {
          "color": "#023e8a",
          "size": 7
         },
         "mode": "lines+markers",
         "showlegend": false,
         "type": "scatter",
         "x": [
          68,
          69
         ],
         "xaxis": "x",
         "y": [
          14.083625733852386,
          14.706982791423798
         ],
         "yaxis": "y"
        },
        {
         "hovertemplate": "x=%{x}<br>y=%{y}<extra></extra>",
         "line": {
          "color": "#023e8a",
          "width": 3
         },
         "marker": {
          "color": "#023e8a",
          "size": 7
         },
         "mode": "lines+markers",
         "showlegend": false,
         "type": "scatter",
         "x": [
          67,
          68
         ],
         "xaxis": "x",
         "y": [
          13.248844861984253,
          14.083625733852386
         ],
         "yaxis": "y"
        },
        {
         "hovertemplate": "x=%{x}<br>y=%{y}<extra></extra>",
         "line": {
          "color": "#023e8a",
          "width": 3
         },
         "marker": {
          "color": "#023e8a",
          "size": 7
         },
         "mode": "lines+markers",
         "showlegend": false,
         "type": "scatter",
         "x": [
          66,
          67
         ],
         "xaxis": "x",
         "y": [
          12.998960435390472,
          13.248844861984253
         ],
         "yaxis": "y"
        },
        {
         "hovertemplate": "x=%{x}<br>y=%{y}<extra></extra>",
         "line": {
          "color": "#023e8a",
          "width": 3
         },
         "marker": {
          "color": "#023e8a",
          "size": 7
         },
         "mode": "lines+markers",
         "showlegend": false,
         "type": "scatter",
         "x": [
          65,
          66
         ],
         "xaxis": "x",
         "y": [
          12.232033789157867,
          12.998960435390472
         ],
         "yaxis": "y"
        },
        {
         "hovertemplate": "x=%{x}<br>y=%{y}<extra></extra>",
         "line": {
          "color": "#023e8a",
          "width": 3
         },
         "marker": {
          "color": "#023e8a",
          "size": 7
         },
         "mode": "lines+markers",
         "showlegend": false,
         "type": "scatter",
         "x": [
          58,
          59
         ],
         "xaxis": "x",
         "y": [
          12.006073832511902,
          12.232033848762512
         ],
         "yaxis": "y"
        },
        {
         "hovertemplate": "x=%{x}<br>y=%{y}<extra></extra>",
         "line": {
          "color": "#023e8a",
          "width": 3
         },
         "marker": {
          "color": "#023e8a",
          "size": 7
         },
         "mode": "lines+markers",
         "showlegend": false,
         "type": "scatter",
         "x": [
          57,
          58
         ],
         "xaxis": "x",
         "y": [
          11.721587419509888,
          12.006073832511902
         ],
         "yaxis": "y"
        },
        {
         "hovertemplate": "x=%{x}<br>y=%{y}<extra></extra>",
         "line": {
          "color": "#023e8a",
          "width": 3
         },
         "marker": {
          "color": "#023e8a",
          "size": 7
         },
         "mode": "lines+markers",
         "showlegend": false,
         "type": "scatter",
         "x": [
          56,
          57
         ],
         "xaxis": "x",
         "y": [
          11.4913130402565,
          11.721587419509888
         ],
         "yaxis": "y"
        },
        {
         "hovertemplate": "x=%{x}<br>y=%{y}<extra></extra>",
         "line": {
          "color": "#023e8a",
          "width": 3
         },
         "marker": {
          "color": "#023e8a",
          "size": 7
         },
         "mode": "lines+markers",
         "showlegend": false,
         "type": "scatter",
         "x": [
          55,
          56
         ],
         "xaxis": "x",
         "y": [
          11.281689524650574,
          11.4913130402565
         ],
         "yaxis": "y"
        },
        {
         "hovertemplate": "x=%{x}<br>y=%{y}<extra></extra>",
         "line": {
          "color": "#023e8a",
          "width": 3
         },
         "marker": {
          "color": "#023e8a",
          "size": 7
         },
         "mode": "lines+markers",
         "showlegend": false,
         "type": "scatter",
         "x": [
          44,
          45
         ],
         "xaxis": "x",
         "y": [
          10.781625866889954,
          11.281689524650574
         ],
         "yaxis": "y"
        },
        {
         "hovertemplate": "x=%{x}<br>y=%{y}<extra></extra>",
         "line": {
          "color": "#023e8a",
          "width": 3
         },
         "marker": {
          "color": "#023e8a",
          "size": 7
         },
         "mode": "lines+markers",
         "showlegend": false,
         "type": "scatter",
         "x": [
          43,
          44
         ],
         "xaxis": "x",
         "y": [
          10.353354752063751,
          10.781625866889954
         ],
         "yaxis": "y"
        },
        {
         "hovertemplate": "x=%{x}<br>y=%{y}<extra></extra>",
         "line": {
          "color": "#023e8a",
          "width": 3
         },
         "marker": {
          "color": "#023e8a",
          "size": 7
         },
         "mode": "lines+markers",
         "showlegend": false,
         "type": "scatter",
         "x": [
          38,
          39
         ],
         "xaxis": "x",
         "y": [
          9.912444174289703,
          10.353354752063751
         ],
         "yaxis": "y"
        },
        {
         "hovertemplate": "x=%{x}<br>y=%{y}<extra></extra>",
         "line": {
          "color": "#023e8a",
          "width": 3
         },
         "marker": {
          "color": "#023e8a",
          "size": 7
         },
         "mode": "lines+markers",
         "showlegend": false,
         "type": "scatter",
         "x": [
          37,
          38
         ],
         "xaxis": "x",
         "y": [
          9.469852805137634,
          9.912444174289703
         ],
         "yaxis": "y"
        },
        {
         "hovertemplate": "x=%{x}<br>y=%{y}<extra></extra>",
         "line": {
          "color": "#023e8a",
          "width": 3
         },
         "marker": {
          "color": "#023e8a",
          "size": 7
         },
         "mode": "lines+markers",
         "showlegend": false,
         "type": "scatter",
         "x": [
          36,
          37
         ],
         "xaxis": "x",
         "y": [
          9.011785209178925,
          9.469852805137634
         ],
         "yaxis": "y"
        },
        {
         "hovertemplate": "x=%{x}<br>y=%{y}<extra></extra>",
         "line": {
          "color": "#023e8a",
          "width": 3
         },
         "marker": {
          "color": "#023e8a",
          "size": 7
         },
         "mode": "lines+markers",
         "showlegend": false,
         "type": "scatter",
         "x": [
          35,
          36
         ],
         "xaxis": "x",
         "y": [
          8.396050155162811,
          9.011785209178925
         ],
         "yaxis": "y"
        },
        {
         "hovertemplate": "x=%{x}<br>y=%{y}<extra></extra>",
         "line": {
          "color": "#023e8a",
          "width": 3
         },
         "marker": {
          "color": "#023e8a",
          "size": 7
         },
         "mode": "lines+markers",
         "showlegend": false,
         "type": "scatter",
         "x": [
          34,
          35
         ],
         "xaxis": "x",
         "y": [
          7.760081231594086,
          8.396050155162811
         ],
         "yaxis": "y"
        },
        {
         "hovertemplate": "x=%{x}<br>y=%{y}<extra></extra>",
         "line": {
          "color": "#023e8a",
          "width": 3
         },
         "marker": {
          "color": "#023e8a",
          "size": 7
         },
         "mode": "lines+markers",
         "showlegend": false,
         "type": "scatter",
         "x": [
          33,
          34
         ],
         "xaxis": "x",
         "y": [
          7.304670929908752,
          7.760081231594086
         ],
         "yaxis": "y"
        },
        {
         "hovertemplate": "x=%{x}<br>y=%{y}<extra></extra>",
         "line": {
          "color": "#023e8a",
          "width": 3
         },
         "marker": {
          "color": "#023e8a",
          "size": 7
         },
         "mode": "lines+markers",
         "showlegend": false,
         "type": "scatter",
         "x": [
          32,
          33
         ],
         "xaxis": "x",
         "y": [
          7.026191473007202,
          7.304670929908752
         ],
         "yaxis": "y"
        },
        {
         "hovertemplate": "x=%{x}<br>y=%{y}<extra></extra>",
         "line": {
          "color": "#023e8a",
          "width": 3
         },
         "marker": {
          "color": "#023e8a",
          "size": 7
         },
         "mode": "lines+markers",
         "showlegend": false,
         "type": "scatter",
         "x": [
          31,
          32
         ],
         "xaxis": "x",
         "y": [
          6.730523467063904,
          7.026191473007202
         ],
         "yaxis": "y"
        },
        {
         "hovertemplate": "x=%{x}<br>y=%{y}<extra></extra>",
         "line": {
          "color": "#023e8a",
          "width": 3
         },
         "marker": {
          "color": "#023e8a",
          "size": 7
         },
         "mode": "lines+markers",
         "showlegend": false,
         "type": "scatter",
         "x": [
          30,
          31
         ],
         "xaxis": "x",
         "y": [
          6.446669638156891,
          6.730523467063904
         ],
         "yaxis": "y"
        },
        {
         "hovertemplate": "x=%{x}<br>y=%{y}<extra></extra>",
         "line": {
          "color": "#023e8a",
          "width": 3
         },
         "marker": {
          "color": "#023e8a",
          "size": 7
         },
         "mode": "lines+markers",
         "showlegend": false,
         "type": "scatter",
         "x": [
          29,
          30
         ],
         "xaxis": "x",
         "y": [
          5.916714608669281,
          6.446669638156891
         ],
         "yaxis": "y"
        },
        {
         "hovertemplate": "x=%{x}<br>y=%{y}<extra></extra>",
         "line": {
          "color": "#023e8a",
          "width": 3
         },
         "marker": {
          "color": "#023e8a",
          "size": 7
         },
         "mode": "lines+markers",
         "showlegend": false,
         "type": "scatter",
         "x": [
          28,
          29
         ],
         "xaxis": "x",
         "y": [
          5.081351578235626,
          5.916714608669281
         ],
         "yaxis": "y"
        },
        {
         "hovertemplate": "x=%{x}<br>y=%{y}<extra></extra>",
         "line": {
          "color": "#023e8a",
          "width": 3
         },
         "marker": {
          "color": "#023e8a",
          "size": 7
         },
         "mode": "lines+markers",
         "showlegend": false,
         "type": "scatter",
         "x": [
          18,
          19
         ],
         "xaxis": "x",
         "y": [
          4.7154828906059265,
          5.081351578235626
         ],
         "yaxis": "y"
        },
        {
         "hovertemplate": "x=%{x}<br>y=%{y}<extra></extra>",
         "line": {
          "color": "#023e8a",
          "width": 3
         },
         "marker": {
          "color": "#023e8a",
          "size": 7
         },
         "mode": "lines+markers",
         "showlegend": false,
         "type": "scatter",
         "x": [
          17,
          18
         ],
         "xaxis": "x",
         "y": [
          4.434703290462494,
          4.7154828906059265
         ],
         "yaxis": "y"
        },
        {
         "hovertemplate": "x=%{x}<br>y=%{y}<extra></extra>",
         "line": {
          "color": "#023e8a",
          "width": 3
         },
         "marker": {
          "color": "#023e8a",
          "size": 7
         },
         "mode": "lines+markers",
         "showlegend": false,
         "type": "scatter",
         "x": [
          16,
          17
         ],
         "xaxis": "x",
         "y": [
          4.149811804294586,
          4.434703290462494
         ],
         "yaxis": "y"
        },
        {
         "hovertemplate": "x=%{x}<br>y=%{y}<extra></extra>",
         "line": {
          "color": "#023e8a",
          "width": 3
         },
         "marker": {
          "color": "#023e8a",
          "size": 7
         },
         "mode": "lines+markers",
         "showlegend": false,
         "type": "scatter",
         "x": [
          15,
          16
         ],
         "xaxis": "x",
         "y": [
          3.780733287334442,
          4.149811804294586
         ],
         "yaxis": "y"
        },
        {
         "hovertemplate": "x=%{x}<br>y=%{y}<extra></extra>",
         "line": {
          "color": "#023e8a",
          "width": 3
         },
         "marker": {
          "color": "#023e8a",
          "size": 7
         },
         "mode": "lines+markers",
         "showlegend": false,
         "type": "scatter",
         "x": [
          14,
          15
         ],
         "xaxis": "x",
         "y": [
          3.3127729296684265,
          3.780733287334442
         ],
         "yaxis": "y"
        },
        {
         "hovertemplate": "x=%{x}<br>y=%{y}<extra></extra>",
         "line": {
          "color": "#023e8a",
          "width": 3
         },
         "marker": {
          "color": "#023e8a",
          "size": 7
         },
         "mode": "lines+markers",
         "showlegend": false,
         "type": "scatter",
         "x": [
          13,
          14
         ],
         "xaxis": "x",
         "y": [
          2.9841392636299133,
          3.3127729296684265
         ],
         "yaxis": "y"
        },
        {
         "hovertemplate": "x=%{x}<br>y=%{y}<extra></extra>",
         "line": {
          "color": "#023e8a",
          "width": 3
         },
         "marker": {
          "color": "#023e8a",
          "size": 7
         },
         "mode": "lines+markers",
         "showlegend": false,
         "type": "scatter",
         "x": [
          12,
          13
         ],
         "xaxis": "x",
         "y": [
          2.667436897754669,
          2.9841392636299133
         ],
         "yaxis": "y"
        },
        {
         "hovertemplate": "x=%{x}<br>y=%{y}<extra></extra>",
         "line": {
          "color": "#023e8a",
          "width": 3
         },
         "marker": {
          "color": "#023e8a",
          "size": 7
         },
         "mode": "lines+markers",
         "showlegend": false,
         "type": "scatter",
         "x": [
          11,
          12
         ],
         "xaxis": "x",
         "y": [
          2.3415330052375793,
          2.667436897754669
         ],
         "yaxis": "y"
        },
        {
         "hovertemplate": "x=%{x}<br>y=%{y}<extra></extra>",
         "line": {
          "color": "#023e8a",
          "width": 3
         },
         "marker": {
          "color": "#023e8a",
          "size": 7
         },
         "mode": "lines+markers",
         "showlegend": false,
         "type": "scatter",
         "x": [
          10,
          11
         ],
         "xaxis": "x",
         "y": [
          1.9611377716064453,
          2.3415330052375793
         ],
         "yaxis": "y"
        },
        {
         "hovertemplate": "x=%{x}<br>y=%{y}<extra></extra>",
         "line": {
          "color": "#023e8a",
          "width": 3
         },
         "marker": {
          "color": "#023e8a",
          "size": 7
         },
         "mode": "lines+markers",
         "showlegend": false,
         "type": "scatter",
         "x": [
          9,
          10
         ],
         "xaxis": "x",
         "y": [
          1.5604912042617798,
          1.9611377716064453
         ],
         "yaxis": "y"
        },
        {
         "hovertemplate": "x=%{x}<br>y=%{y}<extra></extra>",
         "line": {
          "color": "#023e8a",
          "width": 3
         },
         "marker": {
          "color": "#023e8a",
          "size": 7
         },
         "mode": "lines+markers",
         "showlegend": false,
         "type": "scatter",
         "x": [
          8,
          9
         ],
         "xaxis": "x",
         "y": [
          1.3878763914108276,
          1.5604912042617798
         ],
         "yaxis": "y"
        },
        {
         "hovertemplate": "x=%{x}<br>y=%{y}<extra></extra>",
         "line": {
          "color": "#023e8a",
          "width": 3
         },
         "marker": {
          "color": "#023e8a",
          "size": 7
         },
         "mode": "lines+markers",
         "showlegend": false,
         "type": "scatter",
         "x": [
          7,
          8
         ],
         "xaxis": "x",
         "y": [
          1.1831445097923279,
          1.3878763914108276
         ],
         "yaxis": "y"
        },
        {
         "hovertemplate": "x=%{x}<br>y=%{y}<extra></extra>",
         "line": {
          "color": "#023e8a",
          "width": 3
         },
         "marker": {
          "color": "#023e8a",
          "size": 7
         },
         "mode": "lines+markers",
         "showlegend": false,
         "type": "scatter",
         "x": [
          6,
          7
         ],
         "xaxis": "x",
         "y": [
          0.9868473410606384,
          1.1831445097923279
         ],
         "yaxis": "y"
        },
        {
         "hovertemplate": "x=%{x}<br>y=%{y}<extra></extra>",
         "line": {
          "color": "#023e8a",
          "width": 3
         },
         "marker": {
          "color": "#023e8a",
          "size": 7
         },
         "mode": "lines+markers",
         "showlegend": false,
         "type": "scatter",
         "x": [
          5,
          6
         ],
         "xaxis": "x",
         "y": [
          0.7956849336624146,
          0.9868473410606384
         ],
         "yaxis": "y"
        },
        {
         "hovertemplate": "x=%{x}<br>y=%{y}<extra></extra>",
         "line": {
          "color": "#023e8a",
          "width": 3
         },
         "marker": {
          "color": "#023e8a",
          "size": 7
         },
         "mode": "lines+markers",
         "showlegend": false,
         "type": "scatter",
         "x": [
          4,
          5
         ],
         "xaxis": "x",
         "y": [
          0.6036558151245117,
          0.7956849336624146
         ],
         "yaxis": "y"
        },
        {
         "hovertemplate": "x=%{x}<br>y=%{y}<extra></extra>",
         "line": {
          "color": "#023e8a",
          "width": 3
         },
         "marker": {
          "color": "#023e8a",
          "size": 7
         },
         "mode": "lines+markers",
         "showlegend": false,
         "type": "scatter",
         "x": [
          3,
          4
         ],
         "xaxis": "x",
         "y": [
          0.4078388214111328,
          0.6036558151245117
         ],
         "yaxis": "y"
        },
        {
         "hovertemplate": "x=%{x}<br>y=%{y}<extra></extra>",
         "line": {
          "color": "#c1121f",
          "width": 3
         },
         "marker": {
          "color": "#c1121f",
          "size": 7
         },
         "mode": "lines+markers",
         "showlegend": false,
         "type": "scatter",
         "x": [
          93,
          94
         ],
         "xaxis": "x",
         "y": [
          20.239680767059326,
          20.21533954143524
         ],
         "yaxis": "y"
        },
        {
         "hovertemplate": "x=%{x}<br>y=%{y}<extra></extra>",
         "line": {
          "color": "#c1121f",
          "width": 3
         },
         "marker": {
          "color": "#c1121f",
          "size": 7
         },
         "mode": "lines+markers",
         "showlegend": false,
         "type": "scatter",
         "x": [
          2,
          3
         ],
         "xaxis": "x",
         "y": [
          0,
          0.4078388214111328
         ],
         "yaxis": "y"
        },
        {
         "hovertemplate": "x=%{x}<br>y=%{y}<extra></extra>",
         "line": {
          "color": "#9d4edd",
          "width": 3
         },
         "marker": {
          "color": "#9d4edd",
          "size": 7
         },
         "mode": "lines+markers",
         "showlegend": false,
         "type": "scatter",
         "x": [
          99,
          100
         ],
         "xaxis": "x",
         "y": [
          22.122633159160614,
          22.134100794792175
         ],
         "yaxis": "y"
        },
        {
         "hovertemplate": "x=%{x}<br>y=%{y}<extra></extra>",
         "line": {
          "color": "#9d4edd",
          "width": 3
         },
         "marker": {
          "color": "#9d4edd",
          "size": 7
         },
         "mode": "lines+markers",
         "showlegend": false,
         "type": "scatter",
         "x": [
          89,
          90
         ],
         "xaxis": "x",
         "y": [
          19.748128175735474,
          19.748128175735474
         ],
         "yaxis": "y"
        },
        {
         "hovertemplate": "x=%{x}<br>y=%{y}<extra></extra>",
         "line": {
          "color": "#9d4edd",
          "width": 3
         },
         "marker": {
          "color": "#9d4edd",
          "size": 7
         },
         "mode": "lines+markers",
         "showlegend": false,
         "type": "scatter",
         "x": [
          81,
          82
         ],
         "xaxis": "x",
         "y": [
          18.740657091140747,
          18.702124536037445
         ],
         "yaxis": "y"
        },
        {
         "hovertemplate": "x=%{x}<br>y=%{y}<extra></extra>",
         "line": {
          "color": "#9d4edd",
          "width": 3
         },
         "marker": {
          "color": "#9d4edd",
          "size": 7
         },
         "mode": "lines+markers",
         "showlegend": false,
         "type": "scatter",
         "x": [
          74,
          75
         ],
         "xaxis": "x",
         "y": [
          16.565781831741333,
          16.513444542884827
         ],
         "yaxis": "y"
        },
        {
         "hovertemplate": "x=%{x}<br>y=%{y}<extra></extra>",
         "line": {
          "color": "#9d4edd",
          "width": 3
         },
         "marker": {
          "color": "#9d4edd",
          "size": 7
         },
         "mode": "lines+markers",
         "showlegend": false,
         "type": "scatter",
         "x": [
          64,
          65
         ],
         "xaxis": "x",
         "y": [
          12.232033848762512,
          12.232033789157867
         ],
         "yaxis": "y"
        },
        {
         "hovertemplate": "x=%{x}<br>y=%{y}<extra></extra>",
         "line": {
          "color": "#9d4edd",
          "width": 3
         },
         "marker": {
          "color": "#9d4edd",
          "size": 7
         },
         "mode": "lines+markers",
         "showlegend": false,
         "type": "scatter",
         "x": [
          45,
          46
         ],
         "xaxis": "x",
         "y": [
          11.281689524650574,
          11.281689524650574
         ],
         "yaxis": "y"
        },
        {
         "hovertemplate": "x=%{x}<br>y=%{y}<extra></extra>",
         "line": {
          "color": "#9d4edd",
          "width": 3
         },
         "marker": {
          "color": "#9d4edd",
          "size": 7
         },
         "mode": "lines+markers",
         "showlegend": false,
         "type": "scatter",
         "x": [
          27,
          28
         ],
         "xaxis": "x",
         "y": [
          5.081351578235626,
          5.081351578235626
         ],
         "yaxis": "y"
        },
        {
         "line": {
          "color": "#64B5F6",
          "width": 2
         },
         "mode": "lines",
         "name": "human_insert_backstage",
         "showlegend": true,
         "type": "scatter",
         "x": [
          null
         ],
         "xaxis": "x",
         "y": [
          null
         ],
         "yaxis": "y"
        },
        {
         "line": {
          "color": "#ff8fab",
          "width": 2
         },
         "mode": "lines",
         "name": "ai_suggest_backstage",
         "showlegend": true,
         "type": "scatter",
         "x": [
          null
         ],
         "xaxis": "x",
         "y": [
          null
         ],
         "yaxis": "y"
        },
        {
         "line": {
          "color": "#023e8a",
          "width": 2
         },
         "mode": "lines",
         "name": "human_insert_frontstage",
         "showlegend": true,
         "type": "scatter",
         "x": [
          null
         ],
         "xaxis": "x",
         "y": [
          null
         ],
         "yaxis": "y"
        },
        {
         "line": {
          "color": "#c1121f",
          "width": 2
         },
         "mode": "lines",
         "name": "ai_insert_moved_to_frontstage",
         "showlegend": true,
         "type": "scatter",
         "x": [
          null
         ],
         "xaxis": "x",
         "y": [
          null
         ],
         "yaxis": "y"
        },
        {
         "line": {
          "color": "#9d4edd",
          "width": 2
         },
         "mode": "lines",
         "name": "human_delete_frontstage",
         "showlegend": true,
         "type": "scatter",
         "x": [
          null
         ],
         "xaxis": "x",
         "y": [
          null
         ],
         "yaxis": "y"
        },
        {
         "line": {
          "color": "#5a189a",
          "width": 2
         },
         "mode": "lines",
         "name": "human_insert_edit_frontstage",
         "showlegend": true,
         "type": "scatter",
         "x": [
          null
         ],
         "xaxis": "x",
         "y": [
          null
         ],
         "yaxis": "y"
        }
       ],
       "layout": {
        "annotations": [
         {
          "font": {
           "size": 16
          },
          "showarrow": false,
          "text": "Session: legislation_corporate_4",
          "x": 0.5,
          "xanchor": "center",
          "xref": "paper",
          "y": 1,
          "yanchor": "bottom",
          "yref": "paper"
         }
        ],
        "height": 500,
        "legend": {
         "title": {
          "font": {
           "color": "rgba(0, 0, 0, 0)"
          }
         }
        },
        "plot_bgcolor": "white",
        "showlegend": true,
        "template": {
         "data": {
          "bar": [
           {
            "error_x": {
             "color": "#2a3f5f"
            },
            "error_y": {
             "color": "#2a3f5f"
            },
            "marker": {
             "line": {
              "color": "#E5ECF6",
              "width": 0.5
             },
             "pattern": {
              "fillmode": "overlay",
              "size": 10,
              "solidity": 0.2
             }
            },
            "type": "bar"
           }
          ],
          "barpolar": [
           {
            "marker": {
             "line": {
              "color": "#E5ECF6",
              "width": 0.5
             },
             "pattern": {
              "fillmode": "overlay",
              "size": 10,
              "solidity": 0.2
             }
            },
            "type": "barpolar"
           }
          ],
          "carpet": [
           {
            "aaxis": {
             "endlinecolor": "#2a3f5f",
             "gridcolor": "white",
             "linecolor": "white",
             "minorgridcolor": "white",
             "startlinecolor": "#2a3f5f"
            },
            "baxis": {
             "endlinecolor": "#2a3f5f",
             "gridcolor": "white",
             "linecolor": "white",
             "minorgridcolor": "white",
             "startlinecolor": "#2a3f5f"
            },
            "type": "carpet"
           }
          ],
          "choropleth": [
           {
            "colorbar": {
             "outlinewidth": 0,
             "ticks": ""
            },
            "type": "choropleth"
           }
          ],
          "contour": [
           {
            "colorbar": {
             "outlinewidth": 0,
             "ticks": ""
            },
            "colorscale": [
             [
              0,
              "#0d0887"
             ],
             [
              0.1111111111111111,
              "#46039f"
             ],
             [
              0.2222222222222222,
              "#7201a8"
             ],
             [
              0.3333333333333333,
              "#9c179e"
             ],
             [
              0.4444444444444444,
              "#bd3786"
             ],
             [
              0.5555555555555556,
              "#d8576b"
             ],
             [
              0.6666666666666666,
              "#ed7953"
             ],
             [
              0.7777777777777778,
              "#fb9f3a"
             ],
             [
              0.8888888888888888,
              "#fdca26"
             ],
             [
              1,
              "#f0f921"
             ]
            ],
            "type": "contour"
           }
          ],
          "contourcarpet": [
           {
            "colorbar": {
             "outlinewidth": 0,
             "ticks": ""
            },
            "type": "contourcarpet"
           }
          ],
          "heatmap": [
           {
            "colorbar": {
             "outlinewidth": 0,
             "ticks": ""
            },
            "colorscale": [
             [
              0,
              "#0d0887"
             ],
             [
              0.1111111111111111,
              "#46039f"
             ],
             [
              0.2222222222222222,
              "#7201a8"
             ],
             [
              0.3333333333333333,
              "#9c179e"
             ],
             [
              0.4444444444444444,
              "#bd3786"
             ],
             [
              0.5555555555555556,
              "#d8576b"
             ],
             [
              0.6666666666666666,
              "#ed7953"
             ],
             [
              0.7777777777777778,
              "#fb9f3a"
             ],
             [
              0.8888888888888888,
              "#fdca26"
             ],
             [
              1,
              "#f0f921"
             ]
            ],
            "type": "heatmap"
           }
          ],
          "histogram": [
           {
            "marker": {
             "pattern": {
              "fillmode": "overlay",
              "size": 10,
              "solidity": 0.2
             }
            },
            "type": "histogram"
           }
          ],
          "histogram2d": [
           {
            "colorbar": {
             "outlinewidth": 0,
             "ticks": ""
            },
            "colorscale": [
             [
              0,
              "#0d0887"
             ],
             [
              0.1111111111111111,
              "#46039f"
             ],
             [
              0.2222222222222222,
              "#7201a8"
             ],
             [
              0.3333333333333333,
              "#9c179e"
             ],
             [
              0.4444444444444444,
              "#bd3786"
             ],
             [
              0.5555555555555556,
              "#d8576b"
             ],
             [
              0.6666666666666666,
              "#ed7953"
             ],
             [
              0.7777777777777778,
              "#fb9f3a"
             ],
             [
              0.8888888888888888,
              "#fdca26"
             ],
             [
              1,
              "#f0f921"
             ]
            ],
            "type": "histogram2d"
           }
          ],
          "histogram2dcontour": [
           {
            "colorbar": {
             "outlinewidth": 0,
             "ticks": ""
            },
            "colorscale": [
             [
              0,
              "#0d0887"
             ],
             [
              0.1111111111111111,
              "#46039f"
             ],
             [
              0.2222222222222222,
              "#7201a8"
             ],
             [
              0.3333333333333333,
              "#9c179e"
             ],
             [
              0.4444444444444444,
              "#bd3786"
             ],
             [
              0.5555555555555556,
              "#d8576b"
             ],
             [
              0.6666666666666666,
              "#ed7953"
             ],
             [
              0.7777777777777778,
              "#fb9f3a"
             ],
             [
              0.8888888888888888,
              "#fdca26"
             ],
             [
              1,
              "#f0f921"
             ]
            ],
            "type": "histogram2dcontour"
           }
          ],
          "mesh3d": [
           {
            "colorbar": {
             "outlinewidth": 0,
             "ticks": ""
            },
            "type": "mesh3d"
           }
          ],
          "parcoords": [
           {
            "line": {
             "colorbar": {
              "outlinewidth": 0,
              "ticks": ""
             }
            },
            "type": "parcoords"
           }
          ],
          "pie": [
           {
            "automargin": true,
            "type": "pie"
           }
          ],
          "scatter": [
           {
            "fillpattern": {
             "fillmode": "overlay",
             "size": 10,
             "solidity": 0.2
            },
            "type": "scatter"
           }
          ],
          "scatter3d": [
           {
            "line": {
             "colorbar": {
              "outlinewidth": 0,
              "ticks": ""
             }
            },
            "marker": {
             "colorbar": {
              "outlinewidth": 0,
              "ticks": ""
             }
            },
            "type": "scatter3d"
           }
          ],
          "scattercarpet": [
           {
            "marker": {
             "colorbar": {
              "outlinewidth": 0,
              "ticks": ""
             }
            },
            "type": "scattercarpet"
           }
          ],
          "scattergeo": [
           {
            "marker": {
             "colorbar": {
              "outlinewidth": 0,
              "ticks": ""
             }
            },
            "type": "scattergeo"
           }
          ],
          "scattergl": [
           {
            "marker": {
             "colorbar": {
              "outlinewidth": 0,
              "ticks": ""
             }
            },
            "type": "scattergl"
           }
          ],
          "scattermap": [
           {
            "marker": {
             "colorbar": {
              "outlinewidth": 0,
              "ticks": ""
             }
            },
            "type": "scattermap"
           }
          ],
          "scattermapbox": [
           {
            "marker": {
             "colorbar": {
              "outlinewidth": 0,
              "ticks": ""
             }
            },
            "type": "scattermapbox"
           }
          ],
          "scatterpolar": [
           {
            "marker": {
             "colorbar": {
              "outlinewidth": 0,
              "ticks": ""
             }
            },
            "type": "scatterpolar"
           }
          ],
          "scatterpolargl": [
           {
            "marker": {
             "colorbar": {
              "outlinewidth": 0,
              "ticks": ""
             }
            },
            "type": "scatterpolargl"
           }
          ],
          "scatterternary": [
           {
            "marker": {
             "colorbar": {
              "outlinewidth": 0,
              "ticks": ""
             }
            },
            "type": "scatterternary"
           }
          ],
          "surface": [
           {
            "colorbar": {
             "outlinewidth": 0,
             "ticks": ""
            },
            "colorscale": [
             [
              0,
              "#0d0887"
             ],
             [
              0.1111111111111111,
              "#46039f"
             ],
             [
              0.2222222222222222,
              "#7201a8"
             ],
             [
              0.3333333333333333,
              "#9c179e"
             ],
             [
              0.4444444444444444,
              "#bd3786"
             ],
             [
              0.5555555555555556,
              "#d8576b"
             ],
             [
              0.6666666666666666,
              "#ed7953"
             ],
             [
              0.7777777777777778,
              "#fb9f3a"
             ],
             [
              0.8888888888888888,
              "#fdca26"
             ],
             [
              1,
              "#f0f921"
             ]
            ],
            "type": "surface"
           }
          ],
          "table": [
           {
            "cells": {
             "fill": {
              "color": "#EBF0F8"
             },
             "line": {
              "color": "white"
             }
            },
            "header": {
             "fill": {
              "color": "#C8D4E3"
             },
             "line": {
              "color": "white"
             }
            },
            "type": "table"
           }
          ]
         },
         "layout": {
          "annotationdefaults": {
           "arrowcolor": "#2a3f5f",
           "arrowhead": 0,
           "arrowwidth": 1
          },
          "autotypenumbers": "strict",
          "coloraxis": {
           "colorbar": {
            "outlinewidth": 0,
            "ticks": ""
           }
          },
          "colorscale": {
           "diverging": [
            [
             0,
             "#8e0152"
            ],
            [
             0.1,
             "#c51b7d"
            ],
            [
             0.2,
             "#de77ae"
            ],
            [
             0.3,
             "#f1b6da"
            ],
            [
             0.4,
             "#fde0ef"
            ],
            [
             0.5,
             "#f7f7f7"
            ],
            [
             0.6,
             "#e6f5d0"
            ],
            [
             0.7,
             "#b8e186"
            ],
            [
             0.8,
             "#7fbc41"
            ],
            [
             0.9,
             "#4d9221"
            ],
            [
             1,
             "#276419"
            ]
           ],
           "sequential": [
            [
             0,
             "#0d0887"
            ],
            [
             0.1111111111111111,
             "#46039f"
            ],
            [
             0.2222222222222222,
             "#7201a8"
            ],
            [
             0.3333333333333333,
             "#9c179e"
            ],
            [
             0.4444444444444444,
             "#bd3786"
            ],
            [
             0.5555555555555556,
             "#d8576b"
            ],
            [
             0.6666666666666666,
             "#ed7953"
            ],
            [
             0.7777777777777778,
             "#fb9f3a"
            ],
            [
             0.8888888888888888,
             "#fdca26"
            ],
            [
             1,
             "#f0f921"
            ]
           ],
           "sequentialminus": [
            [
             0,
             "#0d0887"
            ],
            [
             0.1111111111111111,
             "#46039f"
            ],
            [
             0.2222222222222222,
             "#7201a8"
            ],
            [
             0.3333333333333333,
             "#9c179e"
            ],
            [
             0.4444444444444444,
             "#bd3786"
            ],
            [
             0.5555555555555556,
             "#d8576b"
            ],
            [
             0.6666666666666666,
             "#ed7953"
            ],
            [
             0.7777777777777778,
             "#fb9f3a"
            ],
            [
             0.8888888888888888,
             "#fdca26"
            ],
            [
             1,
             "#f0f921"
            ]
           ]
          },
          "colorway": [
           "#636efa",
           "#EF553B",
           "#00cc96",
           "#ab63fa",
           "#FFA15A",
           "#19d3f3",
           "#FF6692",
           "#B6E880",
           "#FF97FF",
           "#FECB52"
          ],
          "font": {
           "color": "#2a3f5f"
          },
          "geo": {
           "bgcolor": "white",
           "lakecolor": "white",
           "landcolor": "#E5ECF6",
           "showlakes": true,
           "showland": true,
           "subunitcolor": "white"
          },
          "hoverlabel": {
           "align": "left"
          },
          "hovermode": "closest",
          "mapbox": {
           "style": "light"
          },
          "paper_bgcolor": "white",
          "plot_bgcolor": "#E5ECF6",
          "polar": {
           "angularaxis": {
            "gridcolor": "white",
            "linecolor": "white",
            "ticks": ""
           },
           "bgcolor": "#E5ECF6",
           "radialaxis": {
            "gridcolor": "white",
            "linecolor": "white",
            "ticks": ""
           }
          },
          "scene": {
           "xaxis": {
            "backgroundcolor": "#E5ECF6",
            "gridcolor": "white",
            "gridwidth": 2,
            "linecolor": "white",
            "showbackground": true,
            "ticks": "",
            "zerolinecolor": "white"
           },
           "yaxis": {
            "backgroundcolor": "#E5ECF6",
            "gridcolor": "white",
            "gridwidth": 2,
            "linecolor": "white",
            "showbackground": true,
            "ticks": "",
            "zerolinecolor": "white"
           },
           "zaxis": {
            "backgroundcolor": "#E5ECF6",
            "gridcolor": "white",
            "gridwidth": 2,
            "linecolor": "white",
            "showbackground": true,
            "ticks": "",
            "zerolinecolor": "white"
           }
          },
          "shapedefaults": {
           "line": {
            "color": "#2a3f5f"
           }
          },
          "ternary": {
           "aaxis": {
            "gridcolor": "white",
            "linecolor": "white",
            "ticks": ""
           },
           "baxis": {
            "gridcolor": "white",
            "linecolor": "white",
            "ticks": ""
           },
           "bgcolor": "#E5ECF6",
           "caxis": {
            "gridcolor": "white",
            "linecolor": "white",
            "ticks": ""
           }
          },
          "title": {
           "x": 0.05
          },
          "xaxis": {
           "automargin": true,
           "gridcolor": "white",
           "linecolor": "white",
           "ticks": "",
           "title": {
            "standoff": 15
           },
           "zerolinecolor": "white",
           "zerolinewidth": 2
          },
          "yaxis": {
           "automargin": true,
           "gridcolor": "white",
           "linecolor": "white",
           "ticks": "",
           "title": {
            "standoff": 15
           },
           "zerolinecolor": "white",
           "zerolinewidth": 2
          }
         }
        },
        "title": {
         "text": "Semantic Expansion over Writing Sessions<br><span style=\"font-size: 12px;\">*Measuring how well humans are learning while writing with GenAI</span>"
        },
        "width": 1800,
        "xaxis": {
         "anchor": "y",
         "domain": [
          0,
          1
         ],
         "gridcolor": "white",
         "linecolor": "black",
         "mirror": false,
         "range": [
          -1,
          105
         ],
         "showline": true,
         "ticks": "outside",
         "title": {
          "text": "Progress into the writing session"
         }
        },
        "yaxis": {
         "anchor": "x",
         "domain": [
          0,
          1
         ],
         "gridcolor": "white",
         "linecolor": "black",
         "mirror": false,
         "showline": true,
         "ticks": "outside",
         "title": {
          "text": "Scores"
         }
        }
       }
      }
     },
     "metadata": {},
     "output_type": "display_data"
    },
    {
     "name": "stdout",
     "output_type": "stream",
     "text": [
      "legislation_corporate_5\n"
     ]
    },
    {
     "data": {
      "application/vnd.plotly.v1+json": {
       "config": {
        "plotlyServerURL": "https://plot.ly"
       },
       "data": [
        {
         "hovertemplate": "x=%{x}<br>y=%{y}<extra></extra>",
         "line": {
          "color": "#64B5F6",
          "width": 3
         },
         "marker": {
          "color": "#64B5F6",
          "size": 7
         },
         "mode": "lines+markers",
         "showlegend": false,
         "type": "scatter",
         "x": [
          62,
          63
         ],
         "xaxis": "x",
         "y": [
          17.854347229003906,
          18.55482989549637
         ],
         "yaxis": "y"
        },
        {
         "hovertemplate": "x=%{x}<br>y=%{y}<extra></extra>",
         "line": {
          "color": "#64B5F6",
          "width": 3
         },
         "marker": {
          "color": "#64B5F6",
          "size": 7
         },
         "mode": "lines+markers",
         "showlegend": false,
         "type": "scatter",
         "x": [
          53,
          54
         ],
         "xaxis": "x",
         "y": [
          15.73478078842163,
          16.27331233024597
         ],
         "yaxis": "y"
        },
        {
         "hovertemplate": "x=%{x}<br>y=%{y}<extra></extra>",
         "line": {
          "color": "#64B5F6",
          "width": 3
         },
         "marker": {
          "color": "#64B5F6",
          "size": 7
         },
         "mode": "lines+markers",
         "showlegend": false,
         "type": "scatter",
         "x": [
          48,
          49
         ],
         "xaxis": "x",
         "y": [
          14.859241127967834,
          15.339207112789154
         ],
         "yaxis": "y"
        },
        {
         "hovertemplate": "x=%{x}<br>y=%{y}<extra></extra>",
         "line": {
          "color": "#64B5F6",
          "width": 3
         },
         "marker": {
          "color": "#64B5F6",
          "size": 7
         },
         "mode": "lines+markers",
         "showlegend": false,
         "type": "scatter",
         "x": [
          45,
          46
         ],
         "xaxis": "x",
         "y": [
          15.338218474388123,
          16.153050684928893
         ],
         "yaxis": "y"
        },
        {
         "hovertemplate": "x=%{x}<br>y=%{y}<extra></extra>",
         "line": {
          "color": "#64B5F6",
          "width": 3
         },
         "marker": {
          "color": "#64B5F6",
          "size": 7
         },
         "mode": "lines+markers",
         "showlegend": false,
         "type": "scatter",
         "x": [
          35,
          36
         ],
         "xaxis": "x",
         "y": [
          13.30107456445694,
          14.198357462882996
         ],
         "yaxis": "y"
        },
        {
         "hovertemplate": "x=%{x}<br>y=%{y}<extra></extra>",
         "line": {
          "color": "#64B5F6",
          "width": 3
         },
         "marker": {
          "color": "#64B5F6",
          "size": 7
         },
         "mode": "lines+markers",
         "showlegend": false,
         "type": "scatter",
         "x": [
          31,
          32
         ],
         "xaxis": "x",
         "y": [
          13.111225128173828,
          13.909143507480621
         ],
         "yaxis": "y"
        },
        {
         "hovertemplate": "x=%{x}<br>y=%{y}<extra></extra>",
         "line": {
          "color": "#ff8fab",
          "width": 3
         },
         "marker": {
          "color": "#ff8fab",
          "size": 7
         },
         "mode": "lines+markers",
         "showlegend": false,
         "type": "scatter",
         "x": [
          63,
          64
         ],
         "xaxis": "x",
         "y": [
          18.55482989549637,
          18.89857460260391
         ],
         "yaxis": "y"
        },
        {
         "hovertemplate": "x=%{x}<br>y=%{y}<extra></extra>",
         "line": {
          "color": "#ff8fab",
          "width": 3
         },
         "marker": {
          "color": "#ff8fab",
          "size": 7
         },
         "mode": "lines+markers",
         "showlegend": false,
         "type": "scatter",
         "x": [
          60,
          61
         ],
         "xaxis": "x",
         "y": [
          17.294088661670685,
          17.690614998340607
         ],
         "yaxis": "y"
        },
        {
         "hovertemplate": "x=%{x}<br>y=%{y}<extra></extra>",
         "line": {
          "color": "#ff8fab",
          "width": 3
         },
         "marker": {
          "color": "#ff8fab",
          "size": 7
         },
         "mode": "lines+markers",
         "showlegend": false,
         "type": "scatter",
         "x": [
          58,
          59
         ],
         "xaxis": "x",
         "y": [
          16.758276164531708,
          17.256992888450622
         ],
         "yaxis": "y"
        },
        {
         "hovertemplate": "x=%{x}<br>y=%{y}<extra></extra>",
         "line": {
          "color": "#ff8fab",
          "width": 3
         },
         "marker": {
          "color": "#ff8fab",
          "size": 7
         },
         "mode": "lines+markers",
         "showlegend": false,
         "type": "scatter",
         "x": [
          56,
          57
         ],
         "xaxis": "x",
         "y": [
          16.285704374313354,
          16.709549248218536
         ],
         "yaxis": "y"
        },
        {
         "hovertemplate": "x=%{x}<br>y=%{y}<extra></extra>",
         "line": {
          "color": "#ff8fab",
          "width": 3
         },
         "marker": {
          "color": "#ff8fab",
          "size": 7
         },
         "mode": "lines+markers",
         "showlegend": false,
         "type": "scatter",
         "x": [
          54,
          55
         ],
         "xaxis": "x",
         "y": [
          16.27331233024597,
          16.783123672008514
         ],
         "yaxis": "y"
        },
        {
         "hovertemplate": "x=%{x}<br>y=%{y}<extra></extra>",
         "line": {
          "color": "#ff8fab",
          "width": 3
         },
         "marker": {
          "color": "#ff8fab",
          "size": 7
         },
         "mode": "lines+markers",
         "showlegend": false,
         "type": "scatter",
         "x": [
          49,
          50
         ],
         "xaxis": "x",
         "y": [
          15.339207112789154,
          15.770596373081208
         ],
         "yaxis": "y"
        },
        {
         "hovertemplate": "x=%{x}<br>y=%{y}<extra></extra>",
         "line": {
          "color": "#ff8fab",
          "width": 3
         },
         "marker": {
          "color": "#ff8fab",
          "size": 7
         },
         "mode": "lines+markers",
         "showlegend": false,
         "type": "scatter",
         "x": [
          46,
          47
         ],
         "xaxis": "x",
         "y": [
          16.153050684928893,
          16.59255241155624
         ],
         "yaxis": "y"
        },
        {
         "hovertemplate": "x=%{x}<br>y=%{y}<extra></extra>",
         "line": {
          "color": "#ff8fab",
          "width": 3
         },
         "marker": {
          "color": "#ff8fab",
          "size": 7
         },
         "mode": "lines+markers",
         "showlegend": false,
         "type": "scatter",
         "x": [
          44,
          45
         ],
         "xaxis": "x",
         "y": [
          14.943818986415863,
          15.338218474388123
         ],
         "yaxis": "y"
        },
        {
         "hovertemplate": "x=%{x}<br>y=%{y}<extra></extra>",
         "line": {
          "color": "#ff8fab",
          "width": 3
         },
         "marker": {
          "color": "#ff8fab",
          "size": 7
         },
         "mode": "lines+markers",
         "showlegend": false,
         "type": "scatter",
         "x": [
          41,
          42
         ],
         "xaxis": "x",
         "y": [
          14.06622964143753,
          14.455903923511505
         ],
         "yaxis": "y"
        },
        {
         "hovertemplate": "x=%{x}<br>y=%{y}<extra></extra>",
         "line": {
          "color": "#ff8fab",
          "width": 3
         },
         "marker": {
          "color": "#ff8fab",
          "size": 7
         },
         "mode": "lines+markers",
         "showlegend": false,
         "type": "scatter",
         "x": [
          36,
          37
         ],
         "xaxis": "x",
         "y": [
          14.198357462882996,
          14.553688538074493
         ],
         "yaxis": "y"
        },
        {
         "hovertemplate": "x=%{x}<br>y=%{y}<extra></extra>",
         "line": {
          "color": "#ff8fab",
          "width": 3
         },
         "marker": {
          "color": "#ff8fab",
          "size": 7
         },
         "mode": "lines+markers",
         "showlegend": false,
         "type": "scatter",
         "x": [
          32,
          33
         ],
         "xaxis": "x",
         "y": [
          13.909143507480621,
          14.227410423755646
         ],
         "yaxis": "y"
        },
        {
         "hovertemplate": "x=%{x}<br>y=%{y}<extra></extra>",
         "line": {
          "color": "#ff8fab",
          "width": 3
         },
         "marker": {
          "color": "#ff8fab",
          "size": 7
         },
         "mode": "lines+markers",
         "showlegend": false,
         "type": "scatter",
         "x": [
          29,
          30
         ],
         "xaxis": "x",
         "y": [
          12.867783546447754,
          13.301126229763032
         ],
         "yaxis": "y"
        },
        {
         "hovertemplate": "x=%{x}<br>y=%{y}<extra></extra>",
         "line": {
          "color": "#ff8fab",
          "width": 3
         },
         "marker": {
          "color": "#ff8fab",
          "size": 7
         },
         "mode": "lines+markers",
         "showlegend": false,
         "type": "scatter",
         "x": [
          26,
          27
         ],
         "xaxis": "x",
         "y": [
          11.560765862464905,
          11.175085270404816
         ],
         "yaxis": "y"
        },
        {
         "hovertemplate": "x=%{x}<br>y=%{y}<extra></extra>",
         "line": {
          "color": "#ff8fab",
          "width": 3
         },
         "marker": {
          "color": "#ff8fab",
          "size": 7
         },
         "mode": "lines+markers",
         "showlegend": false,
         "type": "scatter",
         "x": [
          21,
          22
         ],
         "xaxis": "x",
         "y": [
          8.752145886421204,
          9.275913107395173
         ],
         "yaxis": "y"
        },
        {
         "hovertemplate": "x=%{x}<br>y=%{y}<extra></extra>",
         "line": {
          "color": "#ff8fab",
          "width": 3
         },
         "marker": {
          "color": "#ff8fab",
          "size": 7
         },
         "mode": "lines+markers",
         "showlegend": false,
         "type": "scatter",
         "x": [
          17,
          18
         ],
         "xaxis": "x",
         "y": [
          7.462308287620544,
          7.922033095359803
         ],
         "yaxis": "y"
        },
        {
         "hovertemplate": "x=%{x}<br>y=%{y}<extra></extra>",
         "line": {
          "color": "#ff8fab",
          "width": 3
         },
         "marker": {
          "color": "#ff8fab",
          "size": 7
         },
         "mode": "lines+markers",
         "showlegend": false,
         "type": "scatter",
         "x": [
          13,
          14
         ],
         "xaxis": "x",
         "y": [
          5.146002948284149,
          5.6176531434059145
         ],
         "yaxis": "y"
        },
        {
         "hovertemplate": "x=%{x}<br>y=%{y}<extra></extra>",
         "line": {
          "color": "#ff8fab",
          "width": 3
         },
         "marker": {
          "color": "#ff8fab",
          "size": 7
         },
         "mode": "lines+markers",
         "showlegend": false,
         "type": "scatter",
         "x": [
          9,
          10
         ],
         "xaxis": "x",
         "y": [
          3.483719229698181,
          3.87107892036438
         ],
         "yaxis": "y"
        },
        {
         "hovertemplate": "x=%{x}<br>y=%{y}<extra></extra>",
         "line": {
          "color": "#ff8fab",
          "width": 3
         },
         "marker": {
          "color": "#ff8fab",
          "size": 7
         },
         "mode": "lines+markers",
         "showlegend": false,
         "type": "scatter",
         "x": [
          5,
          6
         ],
         "xaxis": "x",
         "y": [
          2.551691949367523,
          2.848810923099518
         ],
         "yaxis": "y"
        },
        {
         "hovertemplate": "x=%{x}<br>y=%{y}<extra></extra>",
         "line": {
          "color": "#023e8a",
          "width": 3
         },
         "marker": {
          "color": "#023e8a",
          "size": 7
         },
         "mode": "lines+markers",
         "showlegend": false,
         "type": "scatter",
         "x": [
          52,
          53
         ],
         "xaxis": "x",
         "y": [
          15.336973786354065,
          15.73478078842163
         ],
         "yaxis": "y"
        },
        {
         "hovertemplate": "x=%{x}<br>y=%{y}<extra></extra>",
         "line": {
          "color": "#023e8a",
          "width": 3
         },
         "marker": {
          "color": "#023e8a",
          "size": 7
         },
         "mode": "lines+markers",
         "showlegend": false,
         "type": "scatter",
         "x": [
          43,
          44
         ],
         "xaxis": "x",
         "y": [
          14.541944980621338,
          14.943818986415863
         ],
         "yaxis": "y"
        },
        {
         "hovertemplate": "x=%{x}<br>y=%{y}<extra></extra>",
         "line": {
          "color": "#023e8a",
          "width": 3
         },
         "marker": {
          "color": "#023e8a",
          "size": 7
         },
         "mode": "lines+markers",
         "showlegend": false,
         "type": "scatter",
         "x": [
          40,
          41
         ],
         "xaxis": "x",
         "y": [
          13.67476338148117,
          14.06622964143753
         ],
         "yaxis": "y"
        },
        {
         "hovertemplate": "x=%{x}<br>y=%{y}<extra></extra>",
         "line": {
          "color": "#023e8a",
          "width": 3
         },
         "marker": {
          "color": "#023e8a",
          "size": 7
         },
         "mode": "lines+markers",
         "showlegend": false,
         "type": "scatter",
         "x": [
          34,
          35
         ],
         "xaxis": "x",
         "y": [
          13.07066410779953,
          13.30107456445694
         ],
         "yaxis": "y"
        },
        {
         "hovertemplate": "x=%{x}<br>y=%{y}<extra></extra>",
         "line": {
          "color": "#023e8a",
          "width": 3
         },
         "marker": {
          "color": "#023e8a",
          "size": 7
         },
         "mode": "lines+markers",
         "showlegend": false,
         "type": "scatter",
         "x": [
          28,
          29
         ],
         "xaxis": "x",
         "y": [
          12.50317770242691,
          12.867783546447754
         ],
         "yaxis": "y"
        },
        {
         "hovertemplate": "x=%{x}<br>y=%{y}<extra></extra>",
         "line": {
          "color": "#023e8a",
          "width": 3
         },
         "marker": {
          "color": "#023e8a",
          "size": 7
         },
         "mode": "lines+markers",
         "showlegend": false,
         "type": "scatter",
         "x": [
          25,
          26
         ],
         "xaxis": "x",
         "y": [
          10.698417007923126,
          11.560765862464905
         ],
         "yaxis": "y"
        },
        {
         "hovertemplate": "x=%{x}<br>y=%{y}<extra></extra>",
         "line": {
          "color": "#023e8a",
          "width": 3
         },
         "marker": {
          "color": "#023e8a",
          "size": 7
         },
         "mode": "lines+markers",
         "showlegend": false,
         "type": "scatter",
         "x": [
          24,
          25
         ],
         "xaxis": "x",
         "y": [
          10.366310596466064,
          10.698417007923126
         ],
         "yaxis": "y"
        },
        {
         "hovertemplate": "x=%{x}<br>y=%{y}<extra></extra>",
         "line": {
          "color": "#023e8a",
          "width": 3
         },
         "marker": {
          "color": "#023e8a",
          "size": 7
         },
         "mode": "lines+markers",
         "showlegend": false,
         "type": "scatter",
         "x": [
          23,
          24
         ],
         "xaxis": "x",
         "y": [
          10.02034330368042,
          10.366310596466064
         ],
         "yaxis": "y"
        },
        {
         "hovertemplate": "x=%{x}<br>y=%{y}<extra></extra>",
         "line": {
          "color": "#023e8a",
          "width": 3
         },
         "marker": {
          "color": "#023e8a",
          "size": 7
         },
         "mode": "lines+markers",
         "showlegend": false,
         "type": "scatter",
         "x": [
          20,
          21
         ],
         "xaxis": "x",
         "y": [
          8.479920744895935,
          8.752145886421204
         ],
         "yaxis": "y"
        },
        {
         "hovertemplate": "x=%{x}<br>y=%{y}<extra></extra>",
         "line": {
          "color": "#023e8a",
          "width": 3
         },
         "marker": {
          "color": "#023e8a",
          "size": 7
         },
         "mode": "lines+markers",
         "showlegend": false,
         "type": "scatter",
         "x": [
          19,
          20
         ],
         "xaxis": "x",
         "y": [
          8.124842703342438,
          8.479920744895935
         ],
         "yaxis": "y"
        },
        {
         "hovertemplate": "x=%{x}<br>y=%{y}<extra></extra>",
         "line": {
          "color": "#023e8a",
          "width": 3
         },
         "marker": {
          "color": "#023e8a",
          "size": 7
         },
         "mode": "lines+markers",
         "showlegend": false,
         "type": "scatter",
         "x": [
          16,
          17
         ],
         "xaxis": "x",
         "y": [
          7.129157304763794,
          7.462308287620544
         ],
         "yaxis": "y"
        },
        {
         "hovertemplate": "x=%{x}<br>y=%{y}<extra></extra>",
         "line": {
          "color": "#023e8a",
          "width": 3
         },
         "marker": {
          "color": "#023e8a",
          "size": 7
         },
         "mode": "lines+markers",
         "showlegend": false,
         "type": "scatter",
         "x": [
          15,
          16
         ],
         "xaxis": "x",
         "y": [
          6.543671727180481,
          7.129157304763794
         ],
         "yaxis": "y"
        },
        {
         "hovertemplate": "x=%{x}<br>y=%{y}<extra></extra>",
         "line": {
          "color": "#023e8a",
          "width": 3
         },
         "marker": {
          "color": "#023e8a",
          "size": 7
         },
         "mode": "lines+markers",
         "showlegend": false,
         "type": "scatter",
         "x": [
          12,
          13
         ],
         "xaxis": "x",
         "y": [
          4.787146270275116,
          5.146002948284149
         ],
         "yaxis": "y"
        },
        {
         "hovertemplate": "x=%{x}<br>y=%{y}<extra></extra>",
         "line": {
          "color": "#023e8a",
          "width": 3
         },
         "marker": {
          "color": "#023e8a",
          "size": 7
         },
         "mode": "lines+markers",
         "showlegend": false,
         "type": "scatter",
         "x": [
          11,
          12
         ],
         "xaxis": "x",
         "y": [
          4.223755776882172,
          4.787146270275116
         ],
         "yaxis": "y"
        },
        {
         "hovertemplate": "x=%{x}<br>y=%{y}<extra></extra>",
         "line": {
          "color": "#023e8a",
          "width": 3
         },
         "marker": {
          "color": "#023e8a",
          "size": 7
         },
         "mode": "lines+markers",
         "showlegend": false,
         "type": "scatter",
         "x": [
          8,
          9
         ],
         "xaxis": "x",
         "y": [
          2.931424140930176,
          3.483719229698181
         ],
         "yaxis": "y"
        },
        {
         "hovertemplate": "x=%{x}<br>y=%{y}<extra></extra>",
         "line": {
          "color": "#023e8a",
          "width": 3
         },
         "marker": {
          "color": "#023e8a",
          "size": 7
         },
         "mode": "lines+markers",
         "showlegend": false,
         "type": "scatter",
         "x": [
          7,
          8
         ],
         "xaxis": "x",
         "y": [
          2.677396833896637,
          2.931424140930176
         ],
         "yaxis": "y"
        },
        {
         "hovertemplate": "x=%{x}<br>y=%{y}<extra></extra>",
         "line": {
          "color": "#023e8a",
          "width": 3
         },
         "marker": {
          "color": "#023e8a",
          "size": 7
         },
         "mode": "lines+markers",
         "showlegend": false,
         "type": "scatter",
         "x": [
          4,
          5
         ],
         "xaxis": "x",
         "y": [
          1.8710744976997375,
          2.551691949367523
         ],
         "yaxis": "y"
        },
        {
         "hovertemplate": "x=%{x}<br>y=%{y}<extra></extra>",
         "line": {
          "color": "#023e8a",
          "width": 3
         },
         "marker": {
          "color": "#023e8a",
          "size": 7
         },
         "mode": "lines+markers",
         "showlegend": false,
         "type": "scatter",
         "x": [
          3,
          4
         ],
         "xaxis": "x",
         "y": [
          1.3412423133850098,
          1.8710744976997375
         ],
         "yaxis": "y"
        },
        {
         "hovertemplate": "x=%{x}<br>y=%{y}<extra></extra>",
         "line": {
          "color": "#023e8a",
          "width": 3
         },
         "marker": {
          "color": "#023e8a",
          "size": 7
         },
         "mode": "lines+markers",
         "showlegend": false,
         "type": "scatter",
         "x": [
          2,
          3
         ],
         "xaxis": "x",
         "y": [
          0.6015325784683228,
          1.3412423133850098
         ],
         "yaxis": "y"
        },
        {
         "hovertemplate": "x=%{x}<br>y=%{y}<extra></extra>",
         "line": {
          "color": "#023e8a",
          "width": 3
         },
         "marker": {
          "color": "#023e8a",
          "size": 7
         },
         "mode": "lines+markers",
         "showlegend": false,
         "type": "scatter",
         "x": [
          1,
          2
         ],
         "xaxis": "x",
         "y": [
          0,
          0.6015325784683228
         ],
         "yaxis": "y"
        },
        {
         "hovertemplate": "x=%{x}<br>y=%{y}<extra></extra>",
         "line": {
          "color": "#023e8a",
          "width": 3
         },
         "marker": {
          "color": "#023e8a",
          "size": 7
         },
         "mode": "lines+markers",
         "showlegend": false,
         "type": "scatter",
         "x": [
          0,
          1
         ],
         "xaxis": "x",
         "y": [
          0,
          0.29318374395370483
         ],
         "yaxis": "y"
        },
        {
         "hovertemplate": "x=%{x}<br>y=%{y}<extra></extra>",
         "line": {
          "color": "#c1121f",
          "width": 3
         },
         "marker": {
          "color": "#c1121f",
          "size": 7
         },
         "mode": "lines+markers",
         "showlegend": false,
         "type": "scatter",
         "x": [
          64,
          65
         ],
         "xaxis": "x",
         "y": [
          17.854347229003906,
          18.282460689544678
         ],
         "yaxis": "y"
        },
        {
         "hovertemplate": "x=%{x}<br>y=%{y}<extra></extra>",
         "line": {
          "color": "#c1121f",
          "width": 3
         },
         "marker": {
          "color": "#c1121f",
          "size": 7
         },
         "mode": "lines+markers",
         "showlegend": false,
         "type": "scatter",
         "x": [
          61,
          62
         ],
         "xaxis": "x",
         "y": [
          17.294088661670685,
          17.854347229003906
         ],
         "yaxis": "y"
        },
        {
         "hovertemplate": "x=%{x}<br>y=%{y}<extra></extra>",
         "line": {
          "color": "#c1121f",
          "width": 3
         },
         "marker": {
          "color": "#c1121f",
          "size": 7
         },
         "mode": "lines+markers",
         "showlegend": false,
         "type": "scatter",
         "x": [
          59,
          60
         ],
         "xaxis": "x",
         "y": [
          16.758276164531708,
          17.294088661670685
         ],
         "yaxis": "y"
        },
        {
         "hovertemplate": "x=%{x}<br>y=%{y}<extra></extra>",
         "line": {
          "color": "#c1121f",
          "width": 3
         },
         "marker": {
          "color": "#c1121f",
          "size": 7
         },
         "mode": "lines+markers",
         "showlegend": false,
         "type": "scatter",
         "x": [
          57,
          58
         ],
         "xaxis": "x",
         "y": [
          16.285704374313354,
          16.758276164531708
         ],
         "yaxis": "y"
        },
        {
         "hovertemplate": "x=%{x}<br>y=%{y}<extra></extra>",
         "line": {
          "color": "#c1121f",
          "width": 3
         },
         "marker": {
          "color": "#c1121f",
          "size": 7
         },
         "mode": "lines+markers",
         "showlegend": false,
         "type": "scatter",
         "x": [
          55,
          56
         ],
         "xaxis": "x",
         "y": [
          15.73478078842163,
          16.285704374313354
         ],
         "yaxis": "y"
        },
        {
         "hovertemplate": "x=%{x}<br>y=%{y}<extra></extra>",
         "line": {
          "color": "#c1121f",
          "width": 3
         },
         "marker": {
          "color": "#c1121f",
          "size": 7
         },
         "mode": "lines+markers",
         "showlegend": false,
         "type": "scatter",
         "x": [
          50,
          51
         ],
         "xaxis": "x",
         "y": [
          14.859241127967834,
          15.336973786354065
         ],
         "yaxis": "y"
        },
        {
         "hovertemplate": "x=%{x}<br>y=%{y}<extra></extra>",
         "line": {
          "color": "#c1121f",
          "width": 3
         },
         "marker": {
          "color": "#c1121f",
          "size": 7
         },
         "mode": "lines+markers",
         "showlegend": false,
         "type": "scatter",
         "x": [
          42,
          43
         ],
         "xaxis": "x",
         "y": [
          14.06622964143753,
          14.541944980621338
         ],
         "yaxis": "y"
        },
        {
         "hovertemplate": "x=%{x}<br>y=%{y}<extra></extra>",
         "line": {
          "color": "#c1121f",
          "width": 3
         },
         "marker": {
          "color": "#c1121f",
          "size": 7
         },
         "mode": "lines+markers",
         "showlegend": false,
         "type": "scatter",
         "x": [
          37,
          38
         ],
         "xaxis": "x",
         "y": [
          13.30107456445694,
          14.090674042701721
         ],
         "yaxis": "y"
        },
        {
         "hovertemplate": "x=%{x}<br>y=%{y}<extra></extra>",
         "line": {
          "color": "#c1121f",
          "width": 3
         },
         "marker": {
          "color": "#c1121f",
          "size": 7
         },
         "mode": "lines+markers",
         "showlegend": false,
         "type": "scatter",
         "x": [
          33,
          34
         ],
         "xaxis": "x",
         "y": [
          13.111225128173828,
          13.07066410779953
         ],
         "yaxis": "y"
        },
        {
         "hovertemplate": "x=%{x}<br>y=%{y}<extra></extra>",
         "line": {
          "color": "#c1121f",
          "width": 3
         },
         "marker": {
          "color": "#c1121f",
          "size": 7
         },
         "mode": "lines+markers",
         "showlegend": false,
         "type": "scatter",
         "x": [
          30,
          31
         ],
         "xaxis": "x",
         "y": [
          12.867783546447754,
          13.111225128173828
         ],
         "yaxis": "y"
        },
        {
         "hovertemplate": "x=%{x}<br>y=%{y}<extra></extra>",
         "line": {
          "color": "#c1121f",
          "width": 3
         },
         "marker": {
          "color": "#c1121f",
          "size": 7
         },
         "mode": "lines+markers",
         "showlegend": false,
         "type": "scatter",
         "x": [
          27,
          28
         ],
         "xaxis": "x",
         "y": [
          11.560765862464905,
          12.50317770242691
         ],
         "yaxis": "y"
        },
        {
         "hovertemplate": "x=%{x}<br>y=%{y}<extra></extra>",
         "line": {
          "color": "#c1121f",
          "width": 3
         },
         "marker": {
          "color": "#c1121f",
          "size": 7
         },
         "mode": "lines+markers",
         "showlegend": false,
         "type": "scatter",
         "x": [
          22,
          23
         ],
         "xaxis": "x",
         "y": [
          8.752145886421204,
          10.02034330368042
         ],
         "yaxis": "y"
        },
        {
         "hovertemplate": "x=%{x}<br>y=%{y}<extra></extra>",
         "line": {
          "color": "#c1121f",
          "width": 3
         },
         "marker": {
          "color": "#c1121f",
          "size": 7
         },
         "mode": "lines+markers",
         "showlegend": false,
         "type": "scatter",
         "x": [
          18,
          19
         ],
         "xaxis": "x",
         "y": [
          7.462308287620544,
          8.124842703342438
         ],
         "yaxis": "y"
        },
        {
         "hovertemplate": "x=%{x}<br>y=%{y}<extra></extra>",
         "line": {
          "color": "#c1121f",
          "width": 3
         },
         "marker": {
          "color": "#c1121f",
          "size": 7
         },
         "mode": "lines+markers",
         "showlegend": false,
         "type": "scatter",
         "x": [
          14,
          15
         ],
         "xaxis": "x",
         "y": [
          5.146002948284149,
          6.543671727180481
         ],
         "yaxis": "y"
        },
        {
         "hovertemplate": "x=%{x}<br>y=%{y}<extra></extra>",
         "line": {
          "color": "#c1121f",
          "width": 3
         },
         "marker": {
          "color": "#c1121f",
          "size": 7
         },
         "mode": "lines+markers",
         "showlegend": false,
         "type": "scatter",
         "x": [
          10,
          11
         ],
         "xaxis": "x",
         "y": [
          3.483719229698181,
          4.223755776882172
         ],
         "yaxis": "y"
        },
        {
         "hovertemplate": "x=%{x}<br>y=%{y}<extra></extra>",
         "line": {
          "color": "#c1121f",
          "width": 3
         },
         "marker": {
          "color": "#c1121f",
          "size": 7
         },
         "mode": "lines+markers",
         "showlegend": false,
         "type": "scatter",
         "x": [
          6,
          7
         ],
         "xaxis": "x",
         "y": [
          2.551691949367523,
          2.677396833896637
         ],
         "yaxis": "y"
        },
        {
         "hovertemplate": "x=%{x}<br>y=%{y}<extra></extra>",
         "line": {
          "color": "#9d4edd",
          "width": 3
         },
         "marker": {
          "color": "#9d4edd",
          "size": 7
         },
         "mode": "lines+markers",
         "showlegend": false,
         "type": "scatter",
         "x": [
          51,
          52
         ],
         "xaxis": "x",
         "y": [
          15.336973786354065,
          15.336973786354065
         ],
         "yaxis": "y"
        },
        {
         "hovertemplate": "x=%{x}<br>y=%{y}<extra></extra>",
         "line": {
          "color": "#9d4edd",
          "width": 3
         },
         "marker": {
          "color": "#9d4edd",
          "size": 7
         },
         "mode": "lines+markers",
         "showlegend": false,
         "type": "scatter",
         "x": [
          47,
          48
         ],
         "xaxis": "x",
         "y": [
          14.943818986415863,
          14.859241127967834
         ],
         "yaxis": "y"
        },
        {
         "hovertemplate": "x=%{x}<br>y=%{y}<extra></extra>",
         "line": {
          "color": "#9d4edd",
          "width": 3
         },
         "marker": {
          "color": "#9d4edd",
          "size": 7
         },
         "mode": "lines+markers",
         "showlegend": false,
         "type": "scatter",
         "x": [
          39,
          40
         ],
         "xaxis": "x",
         "y": [
          13.674280047416687,
          13.67476338148117
         ],
         "yaxis": "y"
        },
        {
         "hovertemplate": "x=%{x}<br>y=%{y}<extra></extra>",
         "line": {
          "color": "#9d4edd",
          "width": 3
         },
         "marker": {
          "color": "#9d4edd",
          "size": 7
         },
         "mode": "lines+markers",
         "showlegend": false,
         "type": "scatter",
         "x": [
          38,
          39
         ],
         "xaxis": "x",
         "y": [
          14.090674042701721,
          13.674280047416687
         ],
         "yaxis": "y"
        },
        {
         "line": {
          "color": "#64B5F6",
          "width": 2
         },
         "mode": "lines",
         "name": "human_insert_backstage",
         "showlegend": true,
         "type": "scatter",
         "x": [
          null
         ],
         "xaxis": "x",
         "y": [
          null
         ],
         "yaxis": "y"
        },
        {
         "line": {
          "color": "#ff8fab",
          "width": 2
         },
         "mode": "lines",
         "name": "ai_suggest_backstage",
         "showlegend": true,
         "type": "scatter",
         "x": [
          null
         ],
         "xaxis": "x",
         "y": [
          null
         ],
         "yaxis": "y"
        },
        {
         "line": {
          "color": "#023e8a",
          "width": 2
         },
         "mode": "lines",
         "name": "human_insert_frontstage",
         "showlegend": true,
         "type": "scatter",
         "x": [
          null
         ],
         "xaxis": "x",
         "y": [
          null
         ],
         "yaxis": "y"
        },
        {
         "line": {
          "color": "#c1121f",
          "width": 2
         },
         "mode": "lines",
         "name": "ai_insert_moved_to_frontstage",
         "showlegend": true,
         "type": "scatter",
         "x": [
          null
         ],
         "xaxis": "x",
         "y": [
          null
         ],
         "yaxis": "y"
        },
        {
         "line": {
          "color": "#9d4edd",
          "width": 2
         },
         "mode": "lines",
         "name": "human_delete_frontstage",
         "showlegend": true,
         "type": "scatter",
         "x": [
          null
         ],
         "xaxis": "x",
         "y": [
          null
         ],
         "yaxis": "y"
        },
        {
         "line": {
          "color": "#5a189a",
          "width": 2
         },
         "mode": "lines",
         "name": "human_insert_edit_frontstage",
         "showlegend": true,
         "type": "scatter",
         "x": [
          null
         ],
         "xaxis": "x",
         "y": [
          null
         ],
         "yaxis": "y"
        }
       ],
       "layout": {
        "annotations": [
         {
          "font": {
           "size": 16
          },
          "showarrow": false,
          "text": "Session: legislation_corporate_5",
          "x": 0.5,
          "xanchor": "center",
          "xref": "paper",
          "y": 1,
          "yanchor": "bottom",
          "yref": "paper"
         }
        ],
        "height": 500,
        "legend": {
         "title": {
          "font": {
           "color": "rgba(0, 0, 0, 0)"
          }
         }
        },
        "plot_bgcolor": "white",
        "showlegend": true,
        "template": {
         "data": {
          "bar": [
           {
            "error_x": {
             "color": "#2a3f5f"
            },
            "error_y": {
             "color": "#2a3f5f"
            },
            "marker": {
             "line": {
              "color": "#E5ECF6",
              "width": 0.5
             },
             "pattern": {
              "fillmode": "overlay",
              "size": 10,
              "solidity": 0.2
             }
            },
            "type": "bar"
           }
          ],
          "barpolar": [
           {
            "marker": {
             "line": {
              "color": "#E5ECF6",
              "width": 0.5
             },
             "pattern": {
              "fillmode": "overlay",
              "size": 10,
              "solidity": 0.2
             }
            },
            "type": "barpolar"
           }
          ],
          "carpet": [
           {
            "aaxis": {
             "endlinecolor": "#2a3f5f",
             "gridcolor": "white",
             "linecolor": "white",
             "minorgridcolor": "white",
             "startlinecolor": "#2a3f5f"
            },
            "baxis": {
             "endlinecolor": "#2a3f5f",
             "gridcolor": "white",
             "linecolor": "white",
             "minorgridcolor": "white",
             "startlinecolor": "#2a3f5f"
            },
            "type": "carpet"
           }
          ],
          "choropleth": [
           {
            "colorbar": {
             "outlinewidth": 0,
             "ticks": ""
            },
            "type": "choropleth"
           }
          ],
          "contour": [
           {
            "colorbar": {
             "outlinewidth": 0,
             "ticks": ""
            },
            "colorscale": [
             [
              0,
              "#0d0887"
             ],
             [
              0.1111111111111111,
              "#46039f"
             ],
             [
              0.2222222222222222,
              "#7201a8"
             ],
             [
              0.3333333333333333,
              "#9c179e"
             ],
             [
              0.4444444444444444,
              "#bd3786"
             ],
             [
              0.5555555555555556,
              "#d8576b"
             ],
             [
              0.6666666666666666,
              "#ed7953"
             ],
             [
              0.7777777777777778,
              "#fb9f3a"
             ],
             [
              0.8888888888888888,
              "#fdca26"
             ],
             [
              1,
              "#f0f921"
             ]
            ],
            "type": "contour"
           }
          ],
          "contourcarpet": [
           {
            "colorbar": {
             "outlinewidth": 0,
             "ticks": ""
            },
            "type": "contourcarpet"
           }
          ],
          "heatmap": [
           {
            "colorbar": {
             "outlinewidth": 0,
             "ticks": ""
            },
            "colorscale": [
             [
              0,
              "#0d0887"
             ],
             [
              0.1111111111111111,
              "#46039f"
             ],
             [
              0.2222222222222222,
              "#7201a8"
             ],
             [
              0.3333333333333333,
              "#9c179e"
             ],
             [
              0.4444444444444444,
              "#bd3786"
             ],
             [
              0.5555555555555556,
              "#d8576b"
             ],
             [
              0.6666666666666666,
              "#ed7953"
             ],
             [
              0.7777777777777778,
              "#fb9f3a"
             ],
             [
              0.8888888888888888,
              "#fdca26"
             ],
             [
              1,
              "#f0f921"
             ]
            ],
            "type": "heatmap"
           }
          ],
          "histogram": [
           {
            "marker": {
             "pattern": {
              "fillmode": "overlay",
              "size": 10,
              "solidity": 0.2
             }
            },
            "type": "histogram"
           }
          ],
          "histogram2d": [
           {
            "colorbar": {
             "outlinewidth": 0,
             "ticks": ""
            },
            "colorscale": [
             [
              0,
              "#0d0887"
             ],
             [
              0.1111111111111111,
              "#46039f"
             ],
             [
              0.2222222222222222,
              "#7201a8"
             ],
             [
              0.3333333333333333,
              "#9c179e"
             ],
             [
              0.4444444444444444,
              "#bd3786"
             ],
             [
              0.5555555555555556,
              "#d8576b"
             ],
             [
              0.6666666666666666,
              "#ed7953"
             ],
             [
              0.7777777777777778,
              "#fb9f3a"
             ],
             [
              0.8888888888888888,
              "#fdca26"
             ],
             [
              1,
              "#f0f921"
             ]
            ],
            "type": "histogram2d"
           }
          ],
          "histogram2dcontour": [
           {
            "colorbar": {
             "outlinewidth": 0,
             "ticks": ""
            },
            "colorscale": [
             [
              0,
              "#0d0887"
             ],
             [
              0.1111111111111111,
              "#46039f"
             ],
             [
              0.2222222222222222,
              "#7201a8"
             ],
             [
              0.3333333333333333,
              "#9c179e"
             ],
             [
              0.4444444444444444,
              "#bd3786"
             ],
             [
              0.5555555555555556,
              "#d8576b"
             ],
             [
              0.6666666666666666,
              "#ed7953"
             ],
             [
              0.7777777777777778,
              "#fb9f3a"
             ],
             [
              0.8888888888888888,
              "#fdca26"
             ],
             [
              1,
              "#f0f921"
             ]
            ],
            "type": "histogram2dcontour"
           }
          ],
          "mesh3d": [
           {
            "colorbar": {
             "outlinewidth": 0,
             "ticks": ""
            },
            "type": "mesh3d"
           }
          ],
          "parcoords": [
           {
            "line": {
             "colorbar": {
              "outlinewidth": 0,
              "ticks": ""
             }
            },
            "type": "parcoords"
           }
          ],
          "pie": [
           {
            "automargin": true,
            "type": "pie"
           }
          ],
          "scatter": [
           {
            "fillpattern": {
             "fillmode": "overlay",
             "size": 10,
             "solidity": 0.2
            },
            "type": "scatter"
           }
          ],
          "scatter3d": [
           {
            "line": {
             "colorbar": {
              "outlinewidth": 0,
              "ticks": ""
             }
            },
            "marker": {
             "colorbar": {
              "outlinewidth": 0,
              "ticks": ""
             }
            },
            "type": "scatter3d"
           }
          ],
          "scattercarpet": [
           {
            "marker": {
             "colorbar": {
              "outlinewidth": 0,
              "ticks": ""
             }
            },
            "type": "scattercarpet"
           }
          ],
          "scattergeo": [
           {
            "marker": {
             "colorbar": {
              "outlinewidth": 0,
              "ticks": ""
             }
            },
            "type": "scattergeo"
           }
          ],
          "scattergl": [
           {
            "marker": {
             "colorbar": {
              "outlinewidth": 0,
              "ticks": ""
             }
            },
            "type": "scattergl"
           }
          ],
          "scattermap": [
           {
            "marker": {
             "colorbar": {
              "outlinewidth": 0,
              "ticks": ""
             }
            },
            "type": "scattermap"
           }
          ],
          "scattermapbox": [
           {
            "marker": {
             "colorbar": {
              "outlinewidth": 0,
              "ticks": ""
             }
            },
            "type": "scattermapbox"
           }
          ],
          "scatterpolar": [
           {
            "marker": {
             "colorbar": {
              "outlinewidth": 0,
              "ticks": ""
             }
            },
            "type": "scatterpolar"
           }
          ],
          "scatterpolargl": [
           {
            "marker": {
             "colorbar": {
              "outlinewidth": 0,
              "ticks": ""
             }
            },
            "type": "scatterpolargl"
           }
          ],
          "scatterternary": [
           {
            "marker": {
             "colorbar": {
              "outlinewidth": 0,
              "ticks": ""
             }
            },
            "type": "scatterternary"
           }
          ],
          "surface": [
           {
            "colorbar": {
             "outlinewidth": 0,
             "ticks": ""
            },
            "colorscale": [
             [
              0,
              "#0d0887"
             ],
             [
              0.1111111111111111,
              "#46039f"
             ],
             [
              0.2222222222222222,
              "#7201a8"
             ],
             [
              0.3333333333333333,
              "#9c179e"
             ],
             [
              0.4444444444444444,
              "#bd3786"
             ],
             [
              0.5555555555555556,
              "#d8576b"
             ],
             [
              0.6666666666666666,
              "#ed7953"
             ],
             [
              0.7777777777777778,
              "#fb9f3a"
             ],
             [
              0.8888888888888888,
              "#fdca26"
             ],
             [
              1,
              "#f0f921"
             ]
            ],
            "type": "surface"
           }
          ],
          "table": [
           {
            "cells": {
             "fill": {
              "color": "#EBF0F8"
             },
             "line": {
              "color": "white"
             }
            },
            "header": {
             "fill": {
              "color": "#C8D4E3"
             },
             "line": {
              "color": "white"
             }
            },
            "type": "table"
           }
          ]
         },
         "layout": {
          "annotationdefaults": {
           "arrowcolor": "#2a3f5f",
           "arrowhead": 0,
           "arrowwidth": 1
          },
          "autotypenumbers": "strict",
          "coloraxis": {
           "colorbar": {
            "outlinewidth": 0,
            "ticks": ""
           }
          },
          "colorscale": {
           "diverging": [
            [
             0,
             "#8e0152"
            ],
            [
             0.1,
             "#c51b7d"
            ],
            [
             0.2,
             "#de77ae"
            ],
            [
             0.3,
             "#f1b6da"
            ],
            [
             0.4,
             "#fde0ef"
            ],
            [
             0.5,
             "#f7f7f7"
            ],
            [
             0.6,
             "#e6f5d0"
            ],
            [
             0.7,
             "#b8e186"
            ],
            [
             0.8,
             "#7fbc41"
            ],
            [
             0.9,
             "#4d9221"
            ],
            [
             1,
             "#276419"
            ]
           ],
           "sequential": [
            [
             0,
             "#0d0887"
            ],
            [
             0.1111111111111111,
             "#46039f"
            ],
            [
             0.2222222222222222,
             "#7201a8"
            ],
            [
             0.3333333333333333,
             "#9c179e"
            ],
            [
             0.4444444444444444,
             "#bd3786"
            ],
            [
             0.5555555555555556,
             "#d8576b"
            ],
            [
             0.6666666666666666,
             "#ed7953"
            ],
            [
             0.7777777777777778,
             "#fb9f3a"
            ],
            [
             0.8888888888888888,
             "#fdca26"
            ],
            [
             1,
             "#f0f921"
            ]
           ],
           "sequentialminus": [
            [
             0,
             "#0d0887"
            ],
            [
             0.1111111111111111,
             "#46039f"
            ],
            [
             0.2222222222222222,
             "#7201a8"
            ],
            [
             0.3333333333333333,
             "#9c179e"
            ],
            [
             0.4444444444444444,
             "#bd3786"
            ],
            [
             0.5555555555555556,
             "#d8576b"
            ],
            [
             0.6666666666666666,
             "#ed7953"
            ],
            [
             0.7777777777777778,
             "#fb9f3a"
            ],
            [
             0.8888888888888888,
             "#fdca26"
            ],
            [
             1,
             "#f0f921"
            ]
           ]
          },
          "colorway": [
           "#636efa",
           "#EF553B",
           "#00cc96",
           "#ab63fa",
           "#FFA15A",
           "#19d3f3",
           "#FF6692",
           "#B6E880",
           "#FF97FF",
           "#FECB52"
          ],
          "font": {
           "color": "#2a3f5f"
          },
          "geo": {
           "bgcolor": "white",
           "lakecolor": "white",
           "landcolor": "#E5ECF6",
           "showlakes": true,
           "showland": true,
           "subunitcolor": "white"
          },
          "hoverlabel": {
           "align": "left"
          },
          "hovermode": "closest",
          "mapbox": {
           "style": "light"
          },
          "paper_bgcolor": "white",
          "plot_bgcolor": "#E5ECF6",
          "polar": {
           "angularaxis": {
            "gridcolor": "white",
            "linecolor": "white",
            "ticks": ""
           },
           "bgcolor": "#E5ECF6",
           "radialaxis": {
            "gridcolor": "white",
            "linecolor": "white",
            "ticks": ""
           }
          },
          "scene": {
           "xaxis": {
            "backgroundcolor": "#E5ECF6",
            "gridcolor": "white",
            "gridwidth": 2,
            "linecolor": "white",
            "showbackground": true,
            "ticks": "",
            "zerolinecolor": "white"
           },
           "yaxis": {
            "backgroundcolor": "#E5ECF6",
            "gridcolor": "white",
            "gridwidth": 2,
            "linecolor": "white",
            "showbackground": true,
            "ticks": "",
            "zerolinecolor": "white"
           },
           "zaxis": {
            "backgroundcolor": "#E5ECF6",
            "gridcolor": "white",
            "gridwidth": 2,
            "linecolor": "white",
            "showbackground": true,
            "ticks": "",
            "zerolinecolor": "white"
           }
          },
          "shapedefaults": {
           "line": {
            "color": "#2a3f5f"
           }
          },
          "ternary": {
           "aaxis": {
            "gridcolor": "white",
            "linecolor": "white",
            "ticks": ""
           },
           "baxis": {
            "gridcolor": "white",
            "linecolor": "white",
            "ticks": ""
           },
           "bgcolor": "#E5ECF6",
           "caxis": {
            "gridcolor": "white",
            "linecolor": "white",
            "ticks": ""
           }
          },
          "title": {
           "x": 0.05
          },
          "xaxis": {
           "automargin": true,
           "gridcolor": "white",
           "linecolor": "white",
           "ticks": "",
           "title": {
            "standoff": 15
           },
           "zerolinecolor": "white",
           "zerolinewidth": 2
          },
          "yaxis": {
           "automargin": true,
           "gridcolor": "white",
           "linecolor": "white",
           "ticks": "",
           "title": {
            "standoff": 15
           },
           "zerolinecolor": "white",
           "zerolinewidth": 2
          }
         }
        },
        "title": {
         "text": "Semantic Expansion over Writing Sessions<br><span style=\"font-size: 12px;\">*Measuring how well humans are learning while writing with GenAI</span>"
        },
        "width": 1800,
        "xaxis": {
         "anchor": "y",
         "domain": [
          0,
          1
         ],
         "gridcolor": "white",
         "linecolor": "black",
         "mirror": false,
         "range": [
          -1,
          66
         ],
         "showline": true,
         "ticks": "outside",
         "title": {
          "text": "Progress into the writing session"
         }
        },
        "yaxis": {
         "anchor": "x",
         "domain": [
          0,
          1
         ],
         "gridcolor": "white",
         "linecolor": "black",
         "mirror": false,
         "showline": true,
         "ticks": "outside",
         "title": {
          "text": "Scores"
         }
        }
       }
      }
     },
     "metadata": {},
     "output_type": "display_data"
    },
    {
     "name": "stdout",
     "output_type": "stream",
     "text": [
      "legislation_corporate_6\n"
     ]
    },
    {
     "data": {
      "application/vnd.plotly.v1+json": {
       "config": {
        "plotlyServerURL": "https://plot.ly"
       },
       "data": [
        {
         "hovertemplate": "x=%{x}<br>y=%{y}<extra></extra>",
         "line": {
          "color": "#64B5F6",
          "width": 3
         },
         "marker": {
          "color": "#64B5F6",
          "size": 7
         },
         "mode": "lines+markers",
         "showlegend": false,
         "type": "scatter",
         "x": [
          110,
          111
         ],
         "xaxis": "x",
         "y": [
          21.65162467956543,
          22.471521198749542
         ],
         "yaxis": "y"
        },
        {
         "hovertemplate": "x=%{x}<br>y=%{y}<extra></extra>",
         "line": {
          "color": "#64B5F6",
          "width": 3
         },
         "marker": {
          "color": "#64B5F6",
          "size": 7
         },
         "mode": "lines+markers",
         "showlegend": false,
         "type": "scatter",
         "x": [
          107,
          108
         ],
         "xaxis": "x",
         "y": [
          21.49622642993927,
          21.82865399122238
         ],
         "yaxis": "y"
        },
        {
         "hovertemplate": "x=%{x}<br>y=%{y}<extra></extra>",
         "line": {
          "color": "#64B5F6",
          "width": 3
         },
         "marker": {
          "color": "#64B5F6",
          "size": 7
         },
         "mode": "lines+markers",
         "showlegend": false,
         "type": "scatter",
         "x": [
          104,
          105
         ],
         "xaxis": "x",
         "y": [
          21.048459887504578,
          21.567691683769226
         ],
         "yaxis": "y"
        },
        {
         "hovertemplate": "x=%{x}<br>y=%{y}<extra></extra>",
         "line": {
          "color": "#64B5F6",
          "width": 3
         },
         "marker": {
          "color": "#64B5F6",
          "size": 7
         },
         "mode": "lines+markers",
         "showlegend": false,
         "type": "scatter",
         "x": [
          69,
          70
         ],
         "xaxis": "x",
         "y": [
          12.665234684944153,
          12.463149964809418
         ],
         "yaxis": "y"
        },
        {
         "hovertemplate": "x=%{x}<br>y=%{y}<extra></extra>",
         "line": {
          "color": "#64B5F6",
          "width": 3
         },
         "marker": {
          "color": "#64B5F6",
          "size": 7
         },
         "mode": "lines+markers",
         "showlegend": false,
         "type": "scatter",
         "x": [
          64,
          65
         ],
         "xaxis": "x",
         "y": [
          12.782848060131073,
          13.105169415473938
         ],
         "yaxis": "y"
        },
        {
         "hovertemplate": "x=%{x}<br>y=%{y}<extra></extra>",
         "line": {
          "color": "#64B5F6",
          "width": 3
         },
         "marker": {
          "color": "#64B5F6",
          "size": 7
         },
         "mode": "lines+markers",
         "showlegend": false,
         "type": "scatter",
         "x": [
          57,
          58
         ],
         "xaxis": "x",
         "y": [
          9.970583081245422,
          10.655958354473114
         ],
         "yaxis": "y"
        },
        {
         "hovertemplate": "x=%{x}<br>y=%{y}<extra></extra>",
         "line": {
          "color": "#64B5F6",
          "width": 3
         },
         "marker": {
          "color": "#64B5F6",
          "size": 7
         },
         "mode": "lines+markers",
         "showlegend": false,
         "type": "scatter",
         "x": [
          53,
          54
         ],
         "xaxis": "x",
         "y": [
          9.437292921543122,
          10.091638255119324
         ],
         "yaxis": "y"
        },
        {
         "hovertemplate": "x=%{x}<br>y=%{y}<extra></extra>",
         "line": {
          "color": "#64B5F6",
          "width": 3
         },
         "marker": {
          "color": "#64B5F6",
          "size": 7
         },
         "mode": "lines+markers",
         "showlegend": false,
         "type": "scatter",
         "x": [
          51,
          52
         ],
         "xaxis": "x",
         "y": [
          8.85589736700058,
          9.142116963863373
         ],
         "yaxis": "y"
        },
        {
         "hovertemplate": "x=%{x}<br>y=%{y}<extra></extra>",
         "line": {
          "color": "#64B5F6",
          "width": 3
         },
         "marker": {
          "color": "#64B5F6",
          "size": 7
         },
         "mode": "lines+markers",
         "showlegend": false,
         "type": "scatter",
         "x": [
          48,
          49
         ],
         "xaxis": "x",
         "y": [
          8.350101292133331,
          8.869775772094727
         ],
         "yaxis": "y"
        },
        {
         "hovertemplate": "x=%{x}<br>y=%{y}<extra></extra>",
         "line": {
          "color": "#64B5F6",
          "width": 3
         },
         "marker": {
          "color": "#64B5F6",
          "size": 7
         },
         "mode": "lines+markers",
         "showlegend": false,
         "type": "scatter",
         "x": [
          43,
          44
         ],
         "xaxis": "x",
         "y": [
          7.066105604171753,
          7.2878254652023315
         ],
         "yaxis": "y"
        },
        {
         "hovertemplate": "x=%{x}<br>y=%{y}<extra></extra>",
         "line": {
          "color": "#64B5F6",
          "width": 3
         },
         "marker": {
          "color": "#64B5F6",
          "size": 7
         },
         "mode": "lines+markers",
         "showlegend": false,
         "type": "scatter",
         "x": [
          40,
          41
         ],
         "xaxis": "x",
         "y": [
          7.179928052425384,
          7.603316235542297
         ],
         "yaxis": "y"
        },
        {
         "hovertemplate": "x=%{x}<br>y=%{y}<extra></extra>",
         "line": {
          "color": "#64B5F6",
          "width": 3
         },
         "marker": {
          "color": "#64B5F6",
          "size": 7
         },
         "mode": "lines+markers",
         "showlegend": false,
         "type": "scatter",
         "x": [
          38,
          39
         ],
         "xaxis": "x",
         "y": [
          6.2851356863975525,
          6.631268322467804
         ],
         "yaxis": "y"
        },
        {
         "hovertemplate": "x=%{x}<br>y=%{y}<extra></extra>",
         "line": {
          "color": "#64B5F6",
          "width": 3
         },
         "marker": {
          "color": "#64B5F6",
          "size": 7
         },
         "mode": "lines+markers",
         "showlegend": false,
         "type": "scatter",
         "x": [
          35,
          36
         ],
         "xaxis": "x",
         "y": [
          5.371880531311035,
          5.972271740436554
         ],
         "yaxis": "y"
        },
        {
         "hovertemplate": "x=%{x}<br>y=%{y}<extra></extra>",
         "line": {
          "color": "#64B5F6",
          "width": 3
         },
         "marker": {
          "color": "#64B5F6",
          "size": 7
         },
         "mode": "lines+markers",
         "showlegend": false,
         "type": "scatter",
         "x": [
          29,
          30
         ],
         "xaxis": "x",
         "y": [
          4.286072063446045,
          5.2286022186279295
         ],
         "yaxis": "y"
        },
        {
         "hovertemplate": "x=%{x}<br>y=%{y}<extra></extra>",
         "line": {
          "color": "#64B5F6",
          "width": 3
         },
         "marker": {
          "color": "#64B5F6",
          "size": 7
         },
         "mode": "lines+markers",
         "showlegend": false,
         "type": "scatter",
         "x": [
          27,
          28
         ],
         "xaxis": "x",
         "y": [
          3.5710670351982117,
          3.93935626745224
         ],
         "yaxis": "y"
        },
        {
         "hovertemplate": "x=%{x}<br>y=%{y}<extra></extra>",
         "line": {
          "color": "#64B5F6",
          "width": 3
         },
         "marker": {
          "color": "#64B5F6",
          "size": 7
         },
         "mode": "lines+markers",
         "showlegend": false,
         "type": "scatter",
         "x": [
          23,
          24
         ],
         "xaxis": "x",
         "y": [
          2.4689955711364746,
          2.8483192920684814
         ],
         "yaxis": "y"
        },
        {
         "hovertemplate": "x=%{x}<br>y=%{y}<extra></extra>",
         "line": {
          "color": "#64B5F6",
          "width": 3
         },
         "marker": {
          "color": "#64B5F6",
          "size": 7
         },
         "mode": "lines+markers",
         "showlegend": false,
         "type": "scatter",
         "x": [
          20,
          21
         ],
         "xaxis": "x",
         "y": [
          2.1971582770347595,
          3.101249933242798
         ],
         "yaxis": "y"
        },
        {
         "hovertemplate": "x=%{x}<br>y=%{y}<extra></extra>",
         "line": {
          "color": "#64B5F6",
          "width": 3
         },
         "marker": {
          "color": "#64B5F6",
          "size": 7
         },
         "mode": "lines+markers",
         "showlegend": false,
         "type": "scatter",
         "x": [
          17,
          18
         ],
         "xaxis": "x",
         "y": [
          3.4436474204063416,
          3.9321998715400697
         ],
         "yaxis": "y"
        },
        {
         "hovertemplate": "x=%{x}<br>y=%{y}<extra></extra>",
         "line": {
          "color": "#64B5F6",
          "width": 3
         },
         "marker": {
          "color": "#64B5F6",
          "size": 7
         },
         "mode": "lines+markers",
         "showlegend": false,
         "type": "scatter",
         "x": [
          15,
          16
         ],
         "xaxis": "x",
         "y": [
          2.7397086024284363,
          3.1179274916648865
         ],
         "yaxis": "y"
        },
        {
         "hovertemplate": "x=%{x}<br>y=%{y}<extra></extra>",
         "line": {
          "color": "#64B5F6",
          "width": 3
         },
         "marker": {
          "color": "#64B5F6",
          "size": 7
         },
         "mode": "lines+markers",
         "showlegend": false,
         "type": "scatter",
         "x": [
          13,
          14
         ],
         "xaxis": "x",
         "y": [
          1.67769056558609,
          2.1200258135795593
         ],
         "yaxis": "y"
        },
        {
         "hovertemplate": "x=%{x}<br>y=%{y}<extra></extra>",
         "line": {
          "color": "#64B5F6",
          "width": 3
         },
         "marker": {
          "color": "#64B5F6",
          "size": 7
         },
         "mode": "lines+markers",
         "showlegend": false,
         "type": "scatter",
         "x": [
          10,
          11
         ],
         "xaxis": "x",
         "y": [
          1.4440160393714905,
          1.909216046333313
         ],
         "yaxis": "y"
        },
        {
         "hovertemplate": "x=%{x}<br>y=%{y}<extra></extra>",
         "line": {
          "color": "#64B5F6",
          "width": 3
         },
         "marker": {
          "color": "#64B5F6",
          "size": 7
         },
         "mode": "lines+markers",
         "showlegend": false,
         "type": "scatter",
         "x": [
          6,
          7
         ],
         "xaxis": "x",
         "y": [
          1.4636750519275665,
          2.887334257364273
         ],
         "yaxis": "y"
        },
        {
         "hovertemplate": "x=%{x}<br>y=%{y}<extra></extra>",
         "line": {
          "color": "#64B5F6",
          "width": 3
         },
         "marker": {
          "color": "#64B5F6",
          "size": 7
         },
         "mode": "lines+markers",
         "showlegend": false,
         "type": "scatter",
         "x": [
          3,
          4
         ],
         "xaxis": "x",
         "y": [
          0.2981826663017273,
          1.1921913027763367
         ],
         "yaxis": "y"
        },
        {
         "hovertemplate": "x=%{x}<br>y=%{y}<extra></extra>",
         "line": {
          "color": "#64B5F6",
          "width": 3
         },
         "marker": {
          "color": "#64B5F6",
          "size": 7
         },
         "mode": "lines+markers",
         "showlegend": false,
         "type": "scatter",
         "x": [
          0,
          1
         ],
         "xaxis": "x",
         "y": [
          0,
          0.312427282333374
         ],
         "yaxis": "y"
        },
        {
         "hovertemplate": "x=%{x}<br>y=%{y}<extra></extra>",
         "line": {
          "color": "#ff8fab",
          "width": 3
         },
         "marker": {
          "color": "#ff8fab",
          "size": 7
         },
         "mode": "lines+markers",
         "showlegend": false,
         "type": "scatter",
         "x": [
          112,
          113
         ],
         "xaxis": "x",
         "y": [
          22.057531654834747,
          22.499785804748534
         ],
         "yaxis": "y"
        },
        {
         "hovertemplate": "x=%{x}<br>y=%{y}<extra></extra>",
         "line": {
          "color": "#ff8fab",
          "width": 3
         },
         "marker": {
          "color": "#ff8fab",
          "size": 7
         },
         "mode": "lines+markers",
         "showlegend": false,
         "type": "scatter",
         "x": [
          108,
          109
         ],
         "xaxis": "x",
         "y": [
          21.82865399122238,
          22.722327244281768
         ],
         "yaxis": "y"
        },
        {
         "hovertemplate": "x=%{x}<br>y=%{y}<extra></extra>",
         "line": {
          "color": "#ff8fab",
          "width": 3
         },
         "marker": {
          "color": "#ff8fab",
          "size": 7
         },
         "mode": "lines+markers",
         "showlegend": false,
         "type": "scatter",
         "x": [
          105,
          106
         ],
         "xaxis": "x",
         "y": [
          21.567691683769226,
          21.956001567840577
         ],
         "yaxis": "y"
        },
        {
         "hovertemplate": "x=%{x}<br>y=%{y}<extra></extra>",
         "line": {
          "color": "#ff8fab",
          "width": 3
         },
         "marker": {
          "color": "#ff8fab",
          "size": 7
         },
         "mode": "lines+markers",
         "showlegend": false,
         "type": "scatter",
         "x": [
          70,
          71
         ],
         "xaxis": "x",
         "y": [
          12.463149964809418,
          12.9944939494133
         ],
         "yaxis": "y"
        },
        {
         "hovertemplate": "x=%{x}<br>y=%{y}<extra></extra>",
         "line": {
          "color": "#ff8fab",
          "width": 3
         },
         "marker": {
          "color": "#ff8fab",
          "size": 7
         },
         "mode": "lines+markers",
         "showlegend": false,
         "type": "scatter",
         "x": [
          65,
          66
         ],
         "xaxis": "x",
         "y": [
          13.105169415473938,
          14.931018126010894
         ],
         "yaxis": "y"
        },
        {
         "hovertemplate": "x=%{x}<br>y=%{y}<extra></extra>",
         "line": {
          "color": "#ff8fab",
          "width": 3
         },
         "marker": {
          "color": "#ff8fab",
          "size": 7
         },
         "mode": "lines+markers",
         "showlegend": false,
         "type": "scatter",
         "x": [
          58,
          59
         ],
         "xaxis": "x",
         "y": [
          10.655958354473114,
          11.153592765331268
         ],
         "yaxis": "y"
        },
        {
         "hovertemplate": "x=%{x}<br>y=%{y}<extra></extra>",
         "line": {
          "color": "#ff8fab",
          "width": 3
         },
         "marker": {
          "color": "#ff8fab",
          "size": 7
         },
         "mode": "lines+markers",
         "showlegend": false,
         "type": "scatter",
         "x": [
          54,
          55
         ],
         "xaxis": "x",
         "y": [
          10.091638255119324,
          10.758670556545258
         ],
         "yaxis": "y"
        },
        {
         "hovertemplate": "x=%{x}<br>y=%{y}<extra></extra>",
         "line": {
          "color": "#ff8fab",
          "width": 3
         },
         "marker": {
          "color": "#ff8fab",
          "size": 7
         },
         "mode": "lines+markers",
         "showlegend": false,
         "type": "scatter",
         "x": [
          52,
          53
         ],
         "xaxis": "x",
         "y": [
          9.142116963863373,
          9.437292921543122
         ],
         "yaxis": "y"
        },
        {
         "hovertemplate": "x=%{x}<br>y=%{y}<extra></extra>",
         "line": {
          "color": "#ff8fab",
          "width": 3
         },
         "marker": {
          "color": "#ff8fab",
          "size": 7
         },
         "mode": "lines+markers",
         "showlegend": false,
         "type": "scatter",
         "x": [
          49,
          50
         ],
         "xaxis": "x",
         "y": [
          8.869775772094727,
          9.298199462890626
         ],
         "yaxis": "y"
        },
        {
         "hovertemplate": "x=%{x}<br>y=%{y}<extra></extra>",
         "line": {
          "color": "#ff8fab",
          "width": 3
         },
         "marker": {
          "color": "#ff8fab",
          "size": 7
         },
         "mode": "lines+markers",
         "showlegend": false,
         "type": "scatter",
         "x": [
          44,
          45
         ],
         "xaxis": "x",
         "y": [
          7.2878254652023315,
          7.686447405815125
         ],
         "yaxis": "y"
        },
        {
         "hovertemplate": "x=%{x}<br>y=%{y}<extra></extra>",
         "line": {
          "color": "#ff8fab",
          "width": 3
         },
         "marker": {
          "color": "#ff8fab",
          "size": 7
         },
         "mode": "lines+markers",
         "showlegend": false,
         "type": "scatter",
         "x": [
          41,
          42
         ],
         "xaxis": "x",
         "y": [
          7.603316235542297,
          8.027559506893159
         ],
         "yaxis": "y"
        },
        {
         "hovertemplate": "x=%{x}<br>y=%{y}<extra></extra>",
         "line": {
          "color": "#ff8fab",
          "width": 3
         },
         "marker": {
          "color": "#ff8fab",
          "size": 7
         },
         "mode": "lines+markers",
         "showlegend": false,
         "type": "scatter",
         "x": [
          39,
          40
         ],
         "xaxis": "x",
         "y": [
          6.631268322467804,
          7.179928052425384
         ],
         "yaxis": "y"
        },
        {
         "hovertemplate": "x=%{x}<br>y=%{y}<extra></extra>",
         "line": {
          "color": "#ff8fab",
          "width": 3
         },
         "marker": {
          "color": "#ff8fab",
          "size": 7
         },
         "mode": "lines+markers",
         "showlegend": false,
         "type": "scatter",
         "x": [
          36,
          37
         ],
         "xaxis": "x",
         "y": [
          5.972271740436554,
          6.2811887383461
         ],
         "yaxis": "y"
        },
        {
         "hovertemplate": "x=%{x}<br>y=%{y}<extra></extra>",
         "line": {
          "color": "#ff8fab",
          "width": 3
         },
         "marker": {
          "color": "#ff8fab",
          "size": 7
         },
         "mode": "lines+markers",
         "showlegend": false,
         "type": "scatter",
         "x": [
          33,
          34
         ],
         "xaxis": "x",
         "y": [
          4.69120979309082,
          5.011269676685333
         ],
         "yaxis": "y"
        },
        {
         "hovertemplate": "x=%{x}<br>y=%{y}<extra></extra>",
         "line": {
          "color": "#ff8fab",
          "width": 3
         },
         "marker": {
          "color": "#ff8fab",
          "size": 7
         },
         "mode": "lines+markers",
         "showlegend": false,
         "type": "scatter",
         "x": [
          30,
          31
         ],
         "xaxis": "x",
         "y": [
          5.2286022186279295,
          7.988909459114074
         ],
         "yaxis": "y"
        },
        {
         "hovertemplate": "x=%{x}<br>y=%{y}<extra></extra>",
         "line": {
          "color": "#ff8fab",
          "width": 3
         },
         "marker": {
          "color": "#ff8fab",
          "size": 7
         },
         "mode": "lines+markers",
         "showlegend": false,
         "type": "scatter",
         "x": [
          28,
          29
         ],
         "xaxis": "x",
         "y": [
          3.93935626745224,
          4.286072063446045
         ],
         "yaxis": "y"
        },
        {
         "hovertemplate": "x=%{x}<br>y=%{y}<extra></extra>",
         "line": {
          "color": "#ff8fab",
          "width": 3
         },
         "marker": {
          "color": "#ff8fab",
          "size": 7
         },
         "mode": "lines+markers",
         "showlegend": false,
         "type": "scatter",
         "x": [
          24,
          25
         ],
         "xaxis": "x",
         "y": [
          2.8483192920684814,
          3.213055634498596
         ],
         "yaxis": "y"
        },
        {
         "hovertemplate": "x=%{x}<br>y=%{y}<extra></extra>",
         "line": {
          "color": "#ff8fab",
          "width": 3
         },
         "marker": {
          "color": "#ff8fab",
          "size": 7
         },
         "mode": "lines+markers",
         "showlegend": false,
         "type": "scatter",
         "x": [
          21,
          22
         ],
         "xaxis": "x",
         "y": [
          3.101249933242798,
          3.459724986553192
         ],
         "yaxis": "y"
        },
        {
         "hovertemplate": "x=%{x}<br>y=%{y}<extra></extra>",
         "line": {
          "color": "#ff8fab",
          "width": 3
         },
         "marker": {
          "color": "#ff8fab",
          "size": 7
         },
         "mode": "lines+markers",
         "showlegend": false,
         "type": "scatter",
         "x": [
          18,
          19
         ],
         "xaxis": "x",
         "y": [
          3.9321998715400697,
          4.2966876983642575
         ],
         "yaxis": "y"
        },
        {
         "hovertemplate": "x=%{x}<br>y=%{y}<extra></extra>",
         "line": {
          "color": "#ff8fab",
          "width": 3
         },
         "marker": {
          "color": "#ff8fab",
          "size": 7
         },
         "mode": "lines+markers",
         "showlegend": false,
         "type": "scatter",
         "x": [
          16,
          17
         ],
         "xaxis": "x",
         "y": [
          3.1179274916648865,
          3.4436474204063416
         ],
         "yaxis": "y"
        },
        {
         "hovertemplate": "x=%{x}<br>y=%{y}<extra></extra>",
         "line": {
          "color": "#ff8fab",
          "width": 3
         },
         "marker": {
          "color": "#ff8fab",
          "size": 7
         },
         "mode": "lines+markers",
         "showlegend": false,
         "type": "scatter",
         "x": [
          14,
          15
         ],
         "xaxis": "x",
         "y": [
          2.1200258135795593,
          2.7397086024284363
         ],
         "yaxis": "y"
        },
        {
         "hovertemplate": "x=%{x}<br>y=%{y}<extra></extra>",
         "line": {
          "color": "#ff8fab",
          "width": 3
         },
         "marker": {
          "color": "#ff8fab",
          "size": 7
         },
         "mode": "lines+markers",
         "showlegend": false,
         "type": "scatter",
         "x": [
          11,
          12
         ],
         "xaxis": "x",
         "y": [
          1.909216046333313,
          2.453180456161499
         ],
         "yaxis": "y"
        },
        {
         "hovertemplate": "x=%{x}<br>y=%{y}<extra></extra>",
         "line": {
          "color": "#ff8fab",
          "width": 3
         },
         "marker": {
          "color": "#ff8fab",
          "size": 7
         },
         "mode": "lines+markers",
         "showlegend": false,
         "type": "scatter",
         "x": [
          7,
          8
         ],
         "xaxis": "x",
         "y": [
          2.887334257364273,
          3.3609231054782867
         ],
         "yaxis": "y"
        },
        {
         "hovertemplate": "x=%{x}<br>y=%{y}<extra></extra>",
         "line": {
          "color": "#ff8fab",
          "width": 3
         },
         "marker": {
          "color": "#ff8fab",
          "size": 7
         },
         "mode": "lines+markers",
         "showlegend": false,
         "type": "scatter",
         "x": [
          5,
          6
         ],
         "xaxis": "x",
         "y": [
          0.9253410995006561,
          1.4636750519275665
         ],
         "yaxis": "y"
        },
        {
         "hovertemplate": "x=%{x}<br>y=%{y}<extra></extra>",
         "line": {
          "color": "#ff8fab",
          "width": 3
         },
         "marker": {
          "color": "#ff8fab",
          "size": 7
         },
         "mode": "lines+markers",
         "showlegend": false,
         "type": "scatter",
         "x": [
          4,
          5
         ],
         "xaxis": "x",
         "y": [
          1.1921913027763367,
          0.9253410995006561
         ],
         "yaxis": "y"
        },
        {
         "hovertemplate": "x=%{x}<br>y=%{y}<extra></extra>",
         "line": {
          "color": "#ff8fab",
          "width": 3
         },
         "marker": {
          "color": "#ff8fab",
          "size": 7
         },
         "mode": "lines+markers",
         "showlegend": false,
         "type": "scatter",
         "x": [
          1,
          2
         ],
         "xaxis": "x",
         "y": [
          0.312427282333374,
          0.5417121529579163
         ],
         "yaxis": "y"
        },
        {
         "hovertemplate": "x=%{x}<br>y=%{y}<extra></extra>",
         "line": {
          "color": "#023e8a",
          "width": 3
         },
         "marker": {
          "color": "#023e8a",
          "size": 7
         },
         "mode": "lines+markers",
         "showlegend": false,
         "type": "scatter",
         "x": [
          122,
          123
         ],
         "xaxis": "x",
         "y": [
          24.652535498142242,
          25.313187420368195
         ],
         "yaxis": "y"
        },
        {
         "hovertemplate": "x=%{x}<br>y=%{y}<extra></extra>",
         "line": {
          "color": "#023e8a",
          "width": 3
         },
         "marker": {
          "color": "#023e8a",
          "size": 7
         },
         "mode": "lines+markers",
         "showlegend": false,
         "type": "scatter",
         "x": [
          121,
          122
         ],
         "xaxis": "x",
         "y": [
          24.278921365737915,
          24.652535498142242
         ],
         "yaxis": "y"
        },
        {
         "hovertemplate": "x=%{x}<br>y=%{y}<extra></extra>",
         "line": {
          "color": "#023e8a",
          "width": 3
         },
         "marker": {
          "color": "#023e8a",
          "size": 7
         },
         "mode": "lines+markers",
         "showlegend": false,
         "type": "scatter",
         "x": [
          120,
          121
         ],
         "xaxis": "x",
         "y": [
          23.86859130859375,
          24.278921365737915
         ],
         "yaxis": "y"
        },
        {
         "hovertemplate": "x=%{x}<br>y=%{y}<extra></extra>",
         "line": {
          "color": "#023e8a",
          "width": 3
         },
         "marker": {
          "color": "#023e8a",
          "size": 7
         },
         "mode": "lines+markers",
         "showlegend": false,
         "type": "scatter",
         "x": [
          119,
          120
         ],
         "xaxis": "x",
         "y": [
          23.602713644504547,
          23.86859130859375
         ],
         "yaxis": "y"
        },
        {
         "hovertemplate": "x=%{x}<br>y=%{y}<extra></extra>",
         "line": {
          "color": "#023e8a",
          "width": 3
         },
         "marker": {
          "color": "#023e8a",
          "size": 7
         },
         "mode": "lines+markers",
         "showlegend": false,
         "type": "scatter",
         "x": [
          118,
          119
         ],
         "xaxis": "x",
         "y": [
          22.621542632579803,
          23.602713644504547
         ],
         "yaxis": "y"
        },
        {
         "hovertemplate": "x=%{x}<br>y=%{y}<extra></extra>",
         "line": {
          "color": "#023e8a",
          "width": 3
         },
         "marker": {
          "color": "#023e8a",
          "size": 7
         },
         "mode": "lines+markers",
         "showlegend": false,
         "type": "scatter",
         "x": [
          117,
          118
         ],
         "xaxis": "x",
         "y": [
          22.259437680244446,
          22.621542632579803
         ],
         "yaxis": "y"
        },
        {
         "hovertemplate": "x=%{x}<br>y=%{y}<extra></extra>",
         "line": {
          "color": "#023e8a",
          "width": 3
         },
         "marker": {
          "color": "#023e8a",
          "size": 7
         },
         "mode": "lines+markers",
         "showlegend": false,
         "type": "scatter",
         "x": [
          116,
          117
         ],
         "xaxis": "x",
         "y": [
          21.953363716602325,
          22.259437680244446
         ],
         "yaxis": "y"
        },
        {
         "hovertemplate": "x=%{x}<br>y=%{y}<extra></extra>",
         "line": {
          "color": "#023e8a",
          "width": 3
         },
         "marker": {
          "color": "#023e8a",
          "size": 7
         },
         "mode": "lines+markers",
         "showlegend": false,
         "type": "scatter",
         "x": [
          115,
          116
         ],
         "xaxis": "x",
         "y": [
          21.66043770313263,
          21.953363716602325
         ],
         "yaxis": "y"
        },
        {
         "hovertemplate": "x=%{x}<br>y=%{y}<extra></extra>",
         "line": {
          "color": "#023e8a",
          "width": 3
         },
         "marker": {
          "color": "#023e8a",
          "size": 7
         },
         "mode": "lines+markers",
         "showlegend": false,
         "type": "scatter",
         "x": [
          113,
          114
         ],
         "xaxis": "x",
         "y": [
          22.057531654834747,
          22.42770254611969
         ],
         "yaxis": "y"
        },
        {
         "hovertemplate": "x=%{x}<br>y=%{y}<extra></extra>",
         "line": {
          "color": "#023e8a",
          "width": 3
         },
         "marker": {
          "color": "#023e8a",
          "size": 7
         },
         "mode": "lines+markers",
         "showlegend": false,
         "type": "scatter",
         "x": [
          111,
          112
         ],
         "xaxis": "x",
         "y": [
          21.65162467956543,
          22.057531654834747
         ],
         "yaxis": "y"
        },
        {
         "hovertemplate": "x=%{x}<br>y=%{y}<extra></extra>",
         "line": {
          "color": "#023e8a",
          "width": 3
         },
         "marker": {
          "color": "#023e8a",
          "size": 7
         },
         "mode": "lines+markers",
         "showlegend": false,
         "type": "scatter",
         "x": [
          106,
          107
         ],
         "xaxis": "x",
         "y": [
          21.048459887504578,
          21.49622642993927
         ],
         "yaxis": "y"
        },
        {
         "hovertemplate": "x=%{x}<br>y=%{y}<extra></extra>",
         "line": {
          "color": "#023e8a",
          "width": 3
         },
         "marker": {
          "color": "#023e8a",
          "size": 7
         },
         "mode": "lines+markers",
         "showlegend": false,
         "type": "scatter",
         "x": [
          103,
          104
         ],
         "xaxis": "x",
         "y": [
          20.758125960826874,
          21.048459887504578
         ],
         "yaxis": "y"
        },
        {
         "hovertemplate": "x=%{x}<br>y=%{y}<extra></extra>",
         "line": {
          "color": "#023e8a",
          "width": 3
         },
         "marker": {
          "color": "#023e8a",
          "size": 7
         },
         "mode": "lines+markers",
         "showlegend": false,
         "type": "scatter",
         "x": [
          102,
          103
         ],
         "xaxis": "x",
         "y": [
          20.55556744337082,
          20.758125960826874
         ],
         "yaxis": "y"
        },
        {
         "hovertemplate": "x=%{x}<br>y=%{y}<extra></extra>",
         "line": {
          "color": "#023e8a",
          "width": 3
         },
         "marker": {
          "color": "#023e8a",
          "size": 7
         },
         "mode": "lines+markers",
         "showlegend": false,
         "type": "scatter",
         "x": [
          101,
          102
         ],
         "xaxis": "x",
         "y": [
          20.28042882680893,
          20.55556744337082
         ],
         "yaxis": "y"
        },
        {
         "hovertemplate": "x=%{x}<br>y=%{y}<extra></extra>",
         "line": {
          "color": "#023e8a",
          "width": 3
         },
         "marker": {
          "color": "#023e8a",
          "size": 7
         },
         "mode": "lines+markers",
         "showlegend": false,
         "type": "scatter",
         "x": [
          99,
          100
         ],
         "xaxis": "x",
         "y": [
          23.850856721401215,
          24.38272124528885
         ],
         "yaxis": "y"
        },
        {
         "hovertemplate": "x=%{x}<br>y=%{y}<extra></extra>",
         "line": {
          "color": "#023e8a",
          "width": 3
         },
         "marker": {
          "color": "#023e8a",
          "size": 7
         },
         "mode": "lines+markers",
         "showlegend": false,
         "type": "scatter",
         "x": [
          98,
          99
         ],
         "xaxis": "x",
         "y": [
          23.459192514419556,
          23.850856721401215
         ],
         "yaxis": "y"
        },
        {
         "hovertemplate": "x=%{x}<br>y=%{y}<extra></extra>",
         "line": {
          "color": "#023e8a",
          "width": 3
         },
         "marker": {
          "color": "#023e8a",
          "size": 7
         },
         "mode": "lines+markers",
         "showlegend": false,
         "type": "scatter",
         "x": [
          97,
          98
         ],
         "xaxis": "x",
         "y": [
          23.094366371631622,
          23.459192514419556
         ],
         "yaxis": "y"
        },
        {
         "hovertemplate": "x=%{x}<br>y=%{y}<extra></extra>",
         "line": {
          "color": "#023e8a",
          "width": 3
         },
         "marker": {
          "color": "#023e8a",
          "size": 7
         },
         "mode": "lines+markers",
         "showlegend": false,
         "type": "scatter",
         "x": [
          96,
          97
         ],
         "xaxis": "x",
         "y": [
          22.58356875181198,
          23.094366371631622
         ],
         "yaxis": "y"
        },
        {
         "hovertemplate": "x=%{x}<br>y=%{y}<extra></extra>",
         "line": {
          "color": "#023e8a",
          "width": 3
         },
         "marker": {
          "color": "#023e8a",
          "size": 7
         },
         "mode": "lines+markers",
         "showlegend": false,
         "type": "scatter",
         "x": [
          95,
          96
         ],
         "xaxis": "x",
         "y": [
          21.766785323619843,
          22.58356875181198
         ],
         "yaxis": "y"
        },
        {
         "hovertemplate": "x=%{x}<br>y=%{y}<extra></extra>",
         "line": {
          "color": "#023e8a",
          "width": 3
         },
         "marker": {
          "color": "#023e8a",
          "size": 7
         },
         "mode": "lines+markers",
         "showlegend": false,
         "type": "scatter",
         "x": [
          94,
          95
         ],
         "xaxis": "x",
         "y": [
          21.24803799390793,
          21.766785323619843
         ],
         "yaxis": "y"
        },
        {
         "hovertemplate": "x=%{x}<br>y=%{y}<extra></extra>",
         "line": {
          "color": "#023e8a",
          "width": 3
         },
         "marker": {
          "color": "#023e8a",
          "size": 7
         },
         "mode": "lines+markers",
         "showlegend": false,
         "type": "scatter",
         "x": [
          93,
          94
         ],
         "xaxis": "x",
         "y": [
          20.739790976047516,
          21.24803799390793
         ],
         "yaxis": "y"
        },
        {
         "hovertemplate": "x=%{x}<br>y=%{y}<extra></extra>",
         "line": {
          "color": "#023e8a",
          "width": 3
         },
         "marker": {
          "color": "#023e8a",
          "size": 7
         },
         "mode": "lines+markers",
         "showlegend": false,
         "type": "scatter",
         "x": [
          92,
          93
         ],
         "xaxis": "x",
         "y": [
          20.286823511123657,
          20.739790976047516
         ],
         "yaxis": "y"
        },
        {
         "hovertemplate": "x=%{x}<br>y=%{y}<extra></extra>",
         "line": {
          "color": "#023e8a",
          "width": 3
         },
         "marker": {
          "color": "#023e8a",
          "size": 7
         },
         "mode": "lines+markers",
         "showlegend": false,
         "type": "scatter",
         "x": [
          91,
          92
         ],
         "xaxis": "x",
         "y": [
          19.956262528896332,
          20.286823511123657
         ],
         "yaxis": "y"
        },
        {
         "hovertemplate": "x=%{x}<br>y=%{y}<extra></extra>",
         "line": {
          "color": "#023e8a",
          "width": 3
         },
         "marker": {
          "color": "#023e8a",
          "size": 7
         },
         "mode": "lines+markers",
         "showlegend": false,
         "type": "scatter",
         "x": [
          90,
          91
         ],
         "xaxis": "x",
         "y": [
          19.576193511486053,
          19.956262528896332
         ],
         "yaxis": "y"
        },
        {
         "hovertemplate": "x=%{x}<br>y=%{y}<extra></extra>",
         "line": {
          "color": "#023e8a",
          "width": 3
         },
         "marker": {
          "color": "#023e8a",
          "size": 7
         },
         "mode": "lines+markers",
         "showlegend": false,
         "type": "scatter",
         "x": [
          89,
          90
         ],
         "xaxis": "x",
         "y": [
          19.26038432121277,
          19.576193511486053
         ],
         "yaxis": "y"
        },
        {
         "hovertemplate": "x=%{x}<br>y=%{y}<extra></extra>",
         "line": {
          "color": "#023e8a",
          "width": 3
         },
         "marker": {
          "color": "#023e8a",
          "size": 7
         },
         "mode": "lines+markers",
         "showlegend": false,
         "type": "scatter",
         "x": [
          88,
          89
         ],
         "xaxis": "x",
         "y": [
          18.89822942018509,
          19.26038432121277
         ],
         "yaxis": "y"
        },
        {
         "hovertemplate": "x=%{x}<br>y=%{y}<extra></extra>",
         "line": {
          "color": "#023e8a",
          "width": 3
         },
         "marker": {
          "color": "#023e8a",
          "size": 7
         },
         "mode": "lines+markers",
         "showlegend": false,
         "type": "scatter",
         "x": [
          87,
          88
         ],
         "xaxis": "x",
         "y": [
          18.076439678668976,
          18.89822942018509
         ],
         "yaxis": "y"
        },
        {
         "hovertemplate": "x=%{x}<br>y=%{y}<extra></extra>",
         "line": {
          "color": "#023e8a",
          "width": 3
         },
         "marker": {
          "color": "#023e8a",
          "size": 7
         },
         "mode": "lines+markers",
         "showlegend": false,
         "type": "scatter",
         "x": [
          86,
          87
         ],
         "xaxis": "x",
         "y": [
          17.705038011074066,
          18.076439678668976
         ],
         "yaxis": "y"
        },
        {
         "hovertemplate": "x=%{x}<br>y=%{y}<extra></extra>",
         "line": {
          "color": "#023e8a",
          "width": 3
         },
         "marker": {
          "color": "#023e8a",
          "size": 7
         },
         "mode": "lines+markers",
         "showlegend": false,
         "type": "scatter",
         "x": [
          85,
          86
         ],
         "xaxis": "x",
         "y": [
          17.322289884090424,
          17.705038011074066
         ],
         "yaxis": "y"
        },
        {
         "hovertemplate": "x=%{x}<br>y=%{y}<extra></extra>",
         "line": {
          "color": "#023e8a",
          "width": 3
         },
         "marker": {
          "color": "#023e8a",
          "size": 7
         },
         "mode": "lines+markers",
         "showlegend": false,
         "type": "scatter",
         "x": [
          84,
          85
         ],
         "xaxis": "x",
         "y": [
          16.77807229757309,
          17.322289884090424
         ],
         "yaxis": "y"
        },
        {
         "hovertemplate": "x=%{x}<br>y=%{y}<extra></extra>",
         "line": {
          "color": "#023e8a",
          "width": 3
         },
         "marker": {
          "color": "#023e8a",
          "size": 7
         },
         "mode": "lines+markers",
         "showlegend": false,
         "type": "scatter",
         "x": [
          83,
          84
         ],
         "xaxis": "x",
         "y": [
          16.51099008321762,
          16.77807229757309
         ],
         "yaxis": "y"
        },
        {
         "hovertemplate": "x=%{x}<br>y=%{y}<extra></extra>",
         "line": {
          "color": "#023e8a",
          "width": 3
         },
         "marker": {
          "color": "#023e8a",
          "size": 7
         },
         "mode": "lines+markers",
         "showlegend": false,
         "type": "scatter",
         "x": [
          82,
          83
         ],
         "xaxis": "x",
         "y": [
          16.090300500392914,
          16.51099008321762
         ],
         "yaxis": "y"
        },
        {
         "hovertemplate": "x=%{x}<br>y=%{y}<extra></extra>",
         "line": {
          "color": "#023e8a",
          "width": 3
         },
         "marker": {
          "color": "#023e8a",
          "size": 7
         },
         "mode": "lines+markers",
         "showlegend": false,
         "type": "scatter",
         "x": [
          81,
          82
         ],
         "xaxis": "x",
         "y": [
          15.693548560142517,
          16.090300500392914
         ],
         "yaxis": "y"
        },
        {
         "hovertemplate": "x=%{x}<br>y=%{y}<extra></extra>",
         "line": {
          "color": "#023e8a",
          "width": 3
         },
         "marker": {
          "color": "#023e8a",
          "size": 7
         },
         "mode": "lines+markers",
         "showlegend": false,
         "type": "scatter",
         "x": [
          80,
          81
         ],
         "xaxis": "x",
         "y": [
          15.419847548007965,
          15.693548560142517
         ],
         "yaxis": "y"
        },
        {
         "hovertemplate": "x=%{x}<br>y=%{y}<extra></extra>",
         "line": {
          "color": "#023e8a",
          "width": 3
         },
         "marker": {
          "color": "#023e8a",
          "size": 7
         },
         "mode": "lines+markers",
         "showlegend": false,
         "type": "scatter",
         "x": [
          79,
          80
         ],
         "xaxis": "x",
         "y": [
          15.095787048339844,
          15.419847548007965
         ],
         "yaxis": "y"
        },
        {
         "hovertemplate": "x=%{x}<br>y=%{y}<extra></extra>",
         "line": {
          "color": "#023e8a",
          "width": 3
         },
         "marker": {
          "color": "#023e8a",
          "size": 7
         },
         "mode": "lines+markers",
         "showlegend": false,
         "type": "scatter",
         "x": [
          78,
          79
         ],
         "xaxis": "x",
         "y": [
          14.946593046188354,
          15.095787048339844
         ],
         "yaxis": "y"
        },
        {
         "hovertemplate": "x=%{x}<br>y=%{y}<extra></extra>",
         "line": {
          "color": "#023e8a",
          "width": 3
         },
         "marker": {
          "color": "#023e8a",
          "size": 7
         },
         "mode": "lines+markers",
         "showlegend": false,
         "type": "scatter",
         "x": [
          77,
          78
         ],
         "xaxis": "x",
         "y": [
          14.550605773925781,
          14.946593046188354
         ],
         "yaxis": "y"
        },
        {
         "hovertemplate": "x=%{x}<br>y=%{y}<extra></extra>",
         "line": {
          "color": "#023e8a",
          "width": 3
         },
         "marker": {
          "color": "#023e8a",
          "size": 7
         },
         "mode": "lines+markers",
         "showlegend": false,
         "type": "scatter",
         "x": [
          76,
          77
         ],
         "xaxis": "x",
         "y": [
          14.153781056404114,
          14.550605773925781
         ],
         "yaxis": "y"
        },
        {
         "hovertemplate": "x=%{x}<br>y=%{y}<extra></extra>",
         "line": {
          "color": "#023e8a",
          "width": 3
         },
         "marker": {
          "color": "#023e8a",
          "size": 7
         },
         "mode": "lines+markers",
         "showlegend": false,
         "type": "scatter",
         "x": [
          75,
          76
         ],
         "xaxis": "x",
         "y": [
          13.987906634807587,
          14.153781056404114
         ],
         "yaxis": "y"
        },
        {
         "hovertemplate": "x=%{x}<br>y=%{y}<extra></extra>",
         "line": {
          "color": "#023e8a",
          "width": 3
         },
         "marker": {
          "color": "#023e8a",
          "size": 7
         },
         "mode": "lines+markers",
         "showlegend": false,
         "type": "scatter",
         "x": [
          74,
          75
         ],
         "xaxis": "x",
         "y": [
          13.834225416183472,
          13.987906634807587
         ],
         "yaxis": "y"
        },
        {
         "hovertemplate": "x=%{x}<br>y=%{y}<extra></extra>",
         "line": {
          "color": "#023e8a",
          "width": 3
         },
         "marker": {
          "color": "#023e8a",
          "size": 7
         },
         "mode": "lines+markers",
         "showlegend": false,
         "type": "scatter",
         "x": [
          73,
          74
         ],
         "xaxis": "x",
         "y": [
          13.671375155448914,
          13.834225416183472
         ],
         "yaxis": "y"
        },
        {
         "hovertemplate": "x=%{x}<br>y=%{y}<extra></extra>",
         "line": {
          "color": "#023e8a",
          "width": 3
         },
         "marker": {
          "color": "#023e8a",
          "size": 7
         },
         "mode": "lines+markers",
         "showlegend": false,
         "type": "scatter",
         "x": [
          72,
          73
         ],
         "xaxis": "x",
         "y": [
          13.302768409252167,
          13.671375155448914
         ],
         "yaxis": "y"
        },
        {
         "hovertemplate": "x=%{x}<br>y=%{y}<extra></extra>",
         "line": {
          "color": "#023e8a",
          "width": 3
         },
         "marker": {
          "color": "#023e8a",
          "size": 7
         },
         "mode": "lines+markers",
         "showlegend": false,
         "type": "scatter",
         "x": [
          71,
          72
         ],
         "xaxis": "x",
         "y": [
          12.665234684944153,
          13.302768409252167
         ],
         "yaxis": "y"
        },
        {
         "hovertemplate": "x=%{x}<br>y=%{y}<extra></extra>",
         "line": {
          "color": "#023e8a",
          "width": 3
         },
         "marker": {
          "color": "#023e8a",
          "size": 7
         },
         "mode": "lines+markers",
         "showlegend": false,
         "type": "scatter",
         "x": [
          68,
          69
         ],
         "xaxis": "x",
         "y": [
          11.838418900966644,
          12.665234684944153
         ],
         "yaxis": "y"
        },
        {
         "hovertemplate": "x=%{x}<br>y=%{y}<extra></extra>",
         "line": {
          "color": "#023e8a",
          "width": 3
         },
         "marker": {
          "color": "#023e8a",
          "size": 7
         },
         "mode": "lines+markers",
         "showlegend": false,
         "type": "scatter",
         "x": [
          67,
          68
         ],
         "xaxis": "x",
         "y": [
          11.427209615707397,
          11.838418900966644
         ],
         "yaxis": "y"
        },
        {
         "hovertemplate": "x=%{x}<br>y=%{y}<extra></extra>",
         "line": {
          "color": "#023e8a",
          "width": 3
         },
         "marker": {
          "color": "#023e8a",
          "size": 7
         },
         "mode": "lines+markers",
         "showlegend": false,
         "type": "scatter",
         "x": [
          63,
          64
         ],
         "xaxis": "x",
         "y": [
          12.375365674495697,
          12.782848060131073
         ],
         "yaxis": "y"
        },
        {
         "hovertemplate": "x=%{x}<br>y=%{y}<extra></extra>",
         "line": {
          "color": "#023e8a",
          "width": 3
         },
         "marker": {
          "color": "#023e8a",
          "size": 7
         },
         "mode": "lines+markers",
         "showlegend": false,
         "type": "scatter",
         "x": [
          62,
          63
         ],
         "xaxis": "x",
         "y": [
          11.803239524364471,
          12.375365674495697
         ],
         "yaxis": "y"
        },
        {
         "hovertemplate": "x=%{x}<br>y=%{y}<extra></extra>",
         "line": {
          "color": "#023e8a",
          "width": 3
         },
         "marker": {
          "color": "#023e8a",
          "size": 7
         },
         "mode": "lines+markers",
         "showlegend": false,
         "type": "scatter",
         "x": [
          61,
          62
         ],
         "xaxis": "x",
         "y": [
          10.852492570877075,
          11.803239524364471
         ],
         "yaxis": "y"
        },
        {
         "hovertemplate": "x=%{x}<br>y=%{y}<extra></extra>",
         "line": {
          "color": "#023e8a",
          "width": 3
         },
         "marker": {
          "color": "#023e8a",
          "size": 7
         },
         "mode": "lines+markers",
         "showlegend": false,
         "type": "scatter",
         "x": [
          60,
          61
         ],
         "xaxis": "x",
         "y": [
          10.385566473007202,
          10.852492570877075
         ],
         "yaxis": "y"
        },
        {
         "hovertemplate": "x=%{x}<br>y=%{y}<extra></extra>",
         "line": {
          "color": "#023e8a",
          "width": 3
         },
         "marker": {
          "color": "#023e8a",
          "size": 7
         },
         "mode": "lines+markers",
         "showlegend": false,
         "type": "scatter",
         "x": [
          59,
          60
         ],
         "xaxis": "x",
         "y": [
          9.970583081245422,
          10.385566473007202
         ],
         "yaxis": "y"
        },
        {
         "hovertemplate": "x=%{x}<br>y=%{y}<extra></extra>",
         "line": {
          "color": "#023e8a",
          "width": 3
         },
         "marker": {
          "color": "#023e8a",
          "size": 7
         },
         "mode": "lines+markers",
         "showlegend": false,
         "type": "scatter",
         "x": [
          56,
          57
         ],
         "xaxis": "x",
         "y": [
          9.422987520694733,
          9.970583081245422
         ],
         "yaxis": "y"
        },
        {
         "hovertemplate": "x=%{x}<br>y=%{y}<extra></extra>",
         "line": {
          "color": "#023e8a",
          "width": 3
         },
         "marker": {
          "color": "#023e8a",
          "size": 7
         },
         "mode": "lines+markers",
         "showlegend": false,
         "type": "scatter",
         "x": [
          55,
          56
         ],
         "xaxis": "x",
         "y": [
          8.85589736700058,
          9.422987520694733
         ],
         "yaxis": "y"
        },
        {
         "hovertemplate": "x=%{x}<br>y=%{y}<extra></extra>",
         "line": {
          "color": "#023e8a",
          "width": 3
         },
         "marker": {
          "color": "#023e8a",
          "size": 7
         },
         "mode": "lines+markers",
         "showlegend": false,
         "type": "scatter",
         "x": [
          50,
          51
         ],
         "xaxis": "x",
         "y": [
          8.350101292133331,
          8.85589736700058
         ],
         "yaxis": "y"
        },
        {
         "hovertemplate": "x=%{x}<br>y=%{y}<extra></extra>",
         "line": {
          "color": "#023e8a",
          "width": 3
         },
         "marker": {
          "color": "#023e8a",
          "size": 7
         },
         "mode": "lines+markers",
         "showlegend": false,
         "type": "scatter",
         "x": [
          47,
          48
         ],
         "xaxis": "x",
         "y": [
          7.970680594444275,
          8.350101292133331
         ],
         "yaxis": "y"
        },
        {
         "hovertemplate": "x=%{x}<br>y=%{y}<extra></extra>",
         "line": {
          "color": "#023e8a",
          "width": 3
         },
         "marker": {
          "color": "#023e8a",
          "size": 7
         },
         "mode": "lines+markers",
         "showlegend": false,
         "type": "scatter",
         "x": [
          46,
          47
         ],
         "xaxis": "x",
         "y": [
          7.4429692029953,
          7.970680594444275
         ],
         "yaxis": "y"
        },
        {
         "hovertemplate": "x=%{x}<br>y=%{y}<extra></extra>",
         "line": {
          "color": "#023e8a",
          "width": 3
         },
         "marker": {
          "color": "#023e8a",
          "size": 7
         },
         "mode": "lines+markers",
         "showlegend": false,
         "type": "scatter",
         "x": [
          45,
          46
         ],
         "xaxis": "x",
         "y": [
          7.066105604171753,
          7.4429692029953
         ],
         "yaxis": "y"
        },
        {
         "hovertemplate": "x=%{x}<br>y=%{y}<extra></extra>",
         "line": {
          "color": "#023e8a",
          "width": 3
         },
         "marker": {
          "color": "#023e8a",
          "size": 7
         },
         "mode": "lines+markers",
         "showlegend": false,
         "type": "scatter",
         "x": [
          42,
          43
         ],
         "xaxis": "x",
         "y": [
          6.2851356863975525,
          7.066105604171753
         ],
         "yaxis": "y"
        },
        {
         "hovertemplate": "x=%{x}<br>y=%{y}<extra></extra>",
         "line": {
          "color": "#023e8a",
          "width": 3
         },
         "marker": {
          "color": "#023e8a",
          "size": 7
         },
         "mode": "lines+markers",
         "showlegend": false,
         "type": "scatter",
         "x": [
          34,
          35
         ],
         "xaxis": "x",
         "y": [
          4.69120979309082,
          5.371880531311035
         ],
         "yaxis": "y"
        },
        {
         "hovertemplate": "x=%{x}<br>y=%{y}<extra></extra>",
         "line": {
          "color": "#023e8a",
          "width": 3
         },
         "marker": {
          "color": "#023e8a",
          "size": 7
         },
         "mode": "lines+markers",
         "showlegend": false,
         "type": "scatter",
         "x": [
          32,
          33
         ],
         "xaxis": "x",
         "y": [
          3.6438136100769043,
          4.69120979309082
         ],
         "yaxis": "y"
        },
        {
         "hovertemplate": "x=%{x}<br>y=%{y}<extra></extra>",
         "line": {
          "color": "#023e8a",
          "width": 3
         },
         "marker": {
          "color": "#023e8a",
          "size": 7
         },
         "mode": "lines+markers",
         "showlegend": false,
         "type": "scatter",
         "x": [
          26,
          27
         ],
         "xaxis": "x",
         "y": [
          2.768656551837921,
          3.5710670351982117
         ],
         "yaxis": "y"
        },
        {
         "hovertemplate": "x=%{x}<br>y=%{y}<extra></extra>",
         "line": {
          "color": "#023e8a",
          "width": 3
         },
         "marker": {
          "color": "#023e8a",
          "size": 7
         },
         "mode": "lines+markers",
         "showlegend": false,
         "type": "scatter",
         "x": [
          25,
          26
         ],
         "xaxis": "x",
         "y": [
          2.4689955711364746,
          2.768656551837921
         ],
         "yaxis": "y"
        },
        {
         "hovertemplate": "x=%{x}<br>y=%{y}<extra></extra>",
         "line": {
          "color": "#023e8a",
          "width": 3
         },
         "marker": {
          "color": "#023e8a",
          "size": 7
         },
         "mode": "lines+markers",
         "showlegend": false,
         "type": "scatter",
         "x": [
          22,
          23
         ],
         "xaxis": "x",
         "y": [
          2.1971582770347595,
          2.4689955711364746
         ],
         "yaxis": "y"
        },
        {
         "hovertemplate": "x=%{x}<br>y=%{y}<extra></extra>",
         "line": {
          "color": "#023e8a",
          "width": 3
         },
         "marker": {
          "color": "#023e8a",
          "size": 7
         },
         "mode": "lines+markers",
         "showlegend": false,
         "type": "scatter",
         "x": [
          19,
          20
         ],
         "xaxis": "x",
         "y": [
          1.67769056558609,
          2.1971582770347595
         ],
         "yaxis": "y"
        },
        {
         "hovertemplate": "x=%{x}<br>y=%{y}<extra></extra>",
         "line": {
          "color": "#023e8a",
          "width": 3
         },
         "marker": {
          "color": "#023e8a",
          "size": 7
         },
         "mode": "lines+markers",
         "showlegend": false,
         "type": "scatter",
         "x": [
          12,
          13
         ],
         "xaxis": "x",
         "y": [
          1.4440160393714905,
          1.67769056558609
         ],
         "yaxis": "y"
        },
        {
         "hovertemplate": "x=%{x}<br>y=%{y}<extra></extra>",
         "line": {
          "color": "#023e8a",
          "width": 3
         },
         "marker": {
          "color": "#023e8a",
          "size": 7
         },
         "mode": "lines+markers",
         "showlegend": false,
         "type": "scatter",
         "x": [
          9,
          10
         ],
         "xaxis": "x",
         "y": [
          0.9452447295188904,
          1.4440160393714905
         ],
         "yaxis": "y"
        },
        {
         "hovertemplate": "x=%{x}<br>y=%{y}<extra></extra>",
         "line": {
          "color": "#023e8a",
          "width": 3
         },
         "marker": {
          "color": "#023e8a",
          "size": 7
         },
         "mode": "lines+markers",
         "showlegend": false,
         "type": "scatter",
         "x": [
          8,
          9
         ],
         "xaxis": "x",
         "y": [
          0.2981826663017273,
          0.9452447295188904
         ],
         "yaxis": "y"
        },
        {
         "hovertemplate": "x=%{x}<br>y=%{y}<extra></extra>",
         "line": {
          "color": "#023e8a",
          "width": 3
         },
         "marker": {
          "color": "#023e8a",
          "size": 7
         },
         "mode": "lines+markers",
         "showlegend": false,
         "type": "scatter",
         "x": [
          2,
          3
         ],
         "xaxis": "x",
         "y": [
          0,
          0.2981826663017273
         ],
         "yaxis": "y"
        },
        {
         "hovertemplate": "x=%{x}<br>y=%{y}<extra></extra>",
         "line": {
          "color": "#c1121f",
          "width": 3
         },
         "marker": {
          "color": "#c1121f",
          "size": 7
         },
         "mode": "lines+markers",
         "showlegend": false,
         "type": "scatter",
         "x": [
          109,
          110
         ],
         "xaxis": "x",
         "y": [
          21.49622642993927,
          21.65162467956543
         ],
         "yaxis": "y"
        },
        {
         "hovertemplate": "x=%{x}<br>y=%{y}<extra></extra>",
         "line": {
          "color": "#c1121f",
          "width": 3
         },
         "marker": {
          "color": "#c1121f",
          "size": 7
         },
         "mode": "lines+markers",
         "showlegend": false,
         "type": "scatter",
         "x": [
          66,
          67
         ],
         "xaxis": "x",
         "y": [
          12.782848060131073,
          11.427209615707397
         ],
         "yaxis": "y"
        },
        {
         "hovertemplate": "x=%{x}<br>y=%{y}<extra></extra>",
         "line": {
          "color": "#c1121f",
          "width": 3
         },
         "marker": {
          "color": "#c1121f",
          "size": 7
         },
         "mode": "lines+markers",
         "showlegend": false,
         "type": "scatter",
         "x": [
          37,
          38
         ],
         "xaxis": "x",
         "y": [
          5.371880531311035,
          6.2851356863975525
         ],
         "yaxis": "y"
        },
        {
         "hovertemplate": "x=%{x}<br>y=%{y}<extra></extra>",
         "line": {
          "color": "#c1121f",
          "width": 3
         },
         "marker": {
          "color": "#c1121f",
          "size": 7
         },
         "mode": "lines+markers",
         "showlegend": false,
         "type": "scatter",
         "x": [
          31,
          32
         ],
         "xaxis": "x",
         "y": [
          3.5710670351982117,
          3.6438136100769043
         ],
         "yaxis": "y"
        },
        {
         "hovertemplate": "x=%{x}<br>y=%{y}<extra></extra>",
         "line": {
          "color": "#9d4edd",
          "width": 3
         },
         "marker": {
          "color": "#9d4edd",
          "size": 7
         },
         "mode": "lines+markers",
         "showlegend": false,
         "type": "scatter",
         "x": [
          114,
          115
         ],
         "xaxis": "x",
         "y": [
          22.42770254611969,
          21.66043770313263
         ],
         "yaxis": "y"
        },
        {
         "hovertemplate": "x=%{x}<br>y=%{y}<extra></extra>",
         "line": {
          "color": "#9d4edd",
          "width": 3
         },
         "marker": {
          "color": "#9d4edd",
          "size": 7
         },
         "mode": "lines+markers",
         "showlegend": false,
         "type": "scatter",
         "x": [
          100,
          101
         ],
         "xaxis": "x",
         "y": [
          24.38272124528885,
          20.28042882680893
         ],
         "yaxis": "y"
        },
        {
         "line": {
          "color": "#64B5F6",
          "width": 2
         },
         "mode": "lines",
         "name": "human_insert_backstage",
         "showlegend": true,
         "type": "scatter",
         "x": [
          null
         ],
         "xaxis": "x",
         "y": [
          null
         ],
         "yaxis": "y"
        },
        {
         "line": {
          "color": "#ff8fab",
          "width": 2
         },
         "mode": "lines",
         "name": "ai_suggest_backstage",
         "showlegend": true,
         "type": "scatter",
         "x": [
          null
         ],
         "xaxis": "x",
         "y": [
          null
         ],
         "yaxis": "y"
        },
        {
         "line": {
          "color": "#023e8a",
          "width": 2
         },
         "mode": "lines",
         "name": "human_insert_frontstage",
         "showlegend": true,
         "type": "scatter",
         "x": [
          null
         ],
         "xaxis": "x",
         "y": [
          null
         ],
         "yaxis": "y"
        },
        {
         "line": {
          "color": "#c1121f",
          "width": 2
         },
         "mode": "lines",
         "name": "ai_insert_moved_to_frontstage",
         "showlegend": true,
         "type": "scatter",
         "x": [
          null
         ],
         "xaxis": "x",
         "y": [
          null
         ],
         "yaxis": "y"
        },
        {
         "line": {
          "color": "#9d4edd",
          "width": 2
         },
         "mode": "lines",
         "name": "human_delete_frontstage",
         "showlegend": true,
         "type": "scatter",
         "x": [
          null
         ],
         "xaxis": "x",
         "y": [
          null
         ],
         "yaxis": "y"
        },
        {
         "line": {
          "color": "#5a189a",
          "width": 2
         },
         "mode": "lines",
         "name": "human_insert_edit_frontstage",
         "showlegend": true,
         "type": "scatter",
         "x": [
          null
         ],
         "xaxis": "x",
         "y": [
          null
         ],
         "yaxis": "y"
        }
       ],
       "layout": {
        "annotations": [
         {
          "font": {
           "size": 16
          },
          "showarrow": false,
          "text": "Session: legislation_corporate_6",
          "x": 0.5,
          "xanchor": "center",
          "xref": "paper",
          "y": 1,
          "yanchor": "bottom",
          "yref": "paper"
         }
        ],
        "height": 500,
        "legend": {
         "title": {
          "font": {
           "color": "rgba(0, 0, 0, 0)"
          }
         }
        },
        "plot_bgcolor": "white",
        "showlegend": true,
        "template": {
         "data": {
          "bar": [
           {
            "error_x": {
             "color": "#2a3f5f"
            },
            "error_y": {
             "color": "#2a3f5f"
            },
            "marker": {
             "line": {
              "color": "#E5ECF6",
              "width": 0.5
             },
             "pattern": {
              "fillmode": "overlay",
              "size": 10,
              "solidity": 0.2
             }
            },
            "type": "bar"
           }
          ],
          "barpolar": [
           {
            "marker": {
             "line": {
              "color": "#E5ECF6",
              "width": 0.5
             },
             "pattern": {
              "fillmode": "overlay",
              "size": 10,
              "solidity": 0.2
             }
            },
            "type": "barpolar"
           }
          ],
          "carpet": [
           {
            "aaxis": {
             "endlinecolor": "#2a3f5f",
             "gridcolor": "white",
             "linecolor": "white",
             "minorgridcolor": "white",
             "startlinecolor": "#2a3f5f"
            },
            "baxis": {
             "endlinecolor": "#2a3f5f",
             "gridcolor": "white",
             "linecolor": "white",
             "minorgridcolor": "white",
             "startlinecolor": "#2a3f5f"
            },
            "type": "carpet"
           }
          ],
          "choropleth": [
           {
            "colorbar": {
             "outlinewidth": 0,
             "ticks": ""
            },
            "type": "choropleth"
           }
          ],
          "contour": [
           {
            "colorbar": {
             "outlinewidth": 0,
             "ticks": ""
            },
            "colorscale": [
             [
              0,
              "#0d0887"
             ],
             [
              0.1111111111111111,
              "#46039f"
             ],
             [
              0.2222222222222222,
              "#7201a8"
             ],
             [
              0.3333333333333333,
              "#9c179e"
             ],
             [
              0.4444444444444444,
              "#bd3786"
             ],
             [
              0.5555555555555556,
              "#d8576b"
             ],
             [
              0.6666666666666666,
              "#ed7953"
             ],
             [
              0.7777777777777778,
              "#fb9f3a"
             ],
             [
              0.8888888888888888,
              "#fdca26"
             ],
             [
              1,
              "#f0f921"
             ]
            ],
            "type": "contour"
           }
          ],
          "contourcarpet": [
           {
            "colorbar": {
             "outlinewidth": 0,
             "ticks": ""
            },
            "type": "contourcarpet"
           }
          ],
          "heatmap": [
           {
            "colorbar": {
             "outlinewidth": 0,
             "ticks": ""
            },
            "colorscale": [
             [
              0,
              "#0d0887"
             ],
             [
              0.1111111111111111,
              "#46039f"
             ],
             [
              0.2222222222222222,
              "#7201a8"
             ],
             [
              0.3333333333333333,
              "#9c179e"
             ],
             [
              0.4444444444444444,
              "#bd3786"
             ],
             [
              0.5555555555555556,
              "#d8576b"
             ],
             [
              0.6666666666666666,
              "#ed7953"
             ],
             [
              0.7777777777777778,
              "#fb9f3a"
             ],
             [
              0.8888888888888888,
              "#fdca26"
             ],
             [
              1,
              "#f0f921"
             ]
            ],
            "type": "heatmap"
           }
          ],
          "histogram": [
           {
            "marker": {
             "pattern": {
              "fillmode": "overlay",
              "size": 10,
              "solidity": 0.2
             }
            },
            "type": "histogram"
           }
          ],
          "histogram2d": [
           {
            "colorbar": {
             "outlinewidth": 0,
             "ticks": ""
            },
            "colorscale": [
             [
              0,
              "#0d0887"
             ],
             [
              0.1111111111111111,
              "#46039f"
             ],
             [
              0.2222222222222222,
              "#7201a8"
             ],
             [
              0.3333333333333333,
              "#9c179e"
             ],
             [
              0.4444444444444444,
              "#bd3786"
             ],
             [
              0.5555555555555556,
              "#d8576b"
             ],
             [
              0.6666666666666666,
              "#ed7953"
             ],
             [
              0.7777777777777778,
              "#fb9f3a"
             ],
             [
              0.8888888888888888,
              "#fdca26"
             ],
             [
              1,
              "#f0f921"
             ]
            ],
            "type": "histogram2d"
           }
          ],
          "histogram2dcontour": [
           {
            "colorbar": {
             "outlinewidth": 0,
             "ticks": ""
            },
            "colorscale": [
             [
              0,
              "#0d0887"
             ],
             [
              0.1111111111111111,
              "#46039f"
             ],
             [
              0.2222222222222222,
              "#7201a8"
             ],
             [
              0.3333333333333333,
              "#9c179e"
             ],
             [
              0.4444444444444444,
              "#bd3786"
             ],
             [
              0.5555555555555556,
              "#d8576b"
             ],
             [
              0.6666666666666666,
              "#ed7953"
             ],
             [
              0.7777777777777778,
              "#fb9f3a"
             ],
             [
              0.8888888888888888,
              "#fdca26"
             ],
             [
              1,
              "#f0f921"
             ]
            ],
            "type": "histogram2dcontour"
           }
          ],
          "mesh3d": [
           {
            "colorbar": {
             "outlinewidth": 0,
             "ticks": ""
            },
            "type": "mesh3d"
           }
          ],
          "parcoords": [
           {
            "line": {
             "colorbar": {
              "outlinewidth": 0,
              "ticks": ""
             }
            },
            "type": "parcoords"
           }
          ],
          "pie": [
           {
            "automargin": true,
            "type": "pie"
           }
          ],
          "scatter": [
           {
            "fillpattern": {
             "fillmode": "overlay",
             "size": 10,
             "solidity": 0.2
            },
            "type": "scatter"
           }
          ],
          "scatter3d": [
           {
            "line": {
             "colorbar": {
              "outlinewidth": 0,
              "ticks": ""
             }
            },
            "marker": {
             "colorbar": {
              "outlinewidth": 0,
              "ticks": ""
             }
            },
            "type": "scatter3d"
           }
          ],
          "scattercarpet": [
           {
            "marker": {
             "colorbar": {
              "outlinewidth": 0,
              "ticks": ""
             }
            },
            "type": "scattercarpet"
           }
          ],
          "scattergeo": [
           {
            "marker": {
             "colorbar": {
              "outlinewidth": 0,
              "ticks": ""
             }
            },
            "type": "scattergeo"
           }
          ],
          "scattergl": [
           {
            "marker": {
             "colorbar": {
              "outlinewidth": 0,
              "ticks": ""
             }
            },
            "type": "scattergl"
           }
          ],
          "scattermap": [
           {
            "marker": {
             "colorbar": {
              "outlinewidth": 0,
              "ticks": ""
             }
            },
            "type": "scattermap"
           }
          ],
          "scattermapbox": [
           {
            "marker": {
             "colorbar": {
              "outlinewidth": 0,
              "ticks": ""
             }
            },
            "type": "scattermapbox"
           }
          ],
          "scatterpolar": [
           {
            "marker": {
             "colorbar": {
              "outlinewidth": 0,
              "ticks": ""
             }
            },
            "type": "scatterpolar"
           }
          ],
          "scatterpolargl": [
           {
            "marker": {
             "colorbar": {
              "outlinewidth": 0,
              "ticks": ""
             }
            },
            "type": "scatterpolargl"
           }
          ],
          "scatterternary": [
           {
            "marker": {
             "colorbar": {
              "outlinewidth": 0,
              "ticks": ""
             }
            },
            "type": "scatterternary"
           }
          ],
          "surface": [
           {
            "colorbar": {
             "outlinewidth": 0,
             "ticks": ""
            },
            "colorscale": [
             [
              0,
              "#0d0887"
             ],
             [
              0.1111111111111111,
              "#46039f"
             ],
             [
              0.2222222222222222,
              "#7201a8"
             ],
             [
              0.3333333333333333,
              "#9c179e"
             ],
             [
              0.4444444444444444,
              "#bd3786"
             ],
             [
              0.5555555555555556,
              "#d8576b"
             ],
             [
              0.6666666666666666,
              "#ed7953"
             ],
             [
              0.7777777777777778,
              "#fb9f3a"
             ],
             [
              0.8888888888888888,
              "#fdca26"
             ],
             [
              1,
              "#f0f921"
             ]
            ],
            "type": "surface"
           }
          ],
          "table": [
           {
            "cells": {
             "fill": {
              "color": "#EBF0F8"
             },
             "line": {
              "color": "white"
             }
            },
            "header": {
             "fill": {
              "color": "#C8D4E3"
             },
             "line": {
              "color": "white"
             }
            },
            "type": "table"
           }
          ]
         },
         "layout": {
          "annotationdefaults": {
           "arrowcolor": "#2a3f5f",
           "arrowhead": 0,
           "arrowwidth": 1
          },
          "autotypenumbers": "strict",
          "coloraxis": {
           "colorbar": {
            "outlinewidth": 0,
            "ticks": ""
           }
          },
          "colorscale": {
           "diverging": [
            [
             0,
             "#8e0152"
            ],
            [
             0.1,
             "#c51b7d"
            ],
            [
             0.2,
             "#de77ae"
            ],
            [
             0.3,
             "#f1b6da"
            ],
            [
             0.4,
             "#fde0ef"
            ],
            [
             0.5,
             "#f7f7f7"
            ],
            [
             0.6,
             "#e6f5d0"
            ],
            [
             0.7,
             "#b8e186"
            ],
            [
             0.8,
             "#7fbc41"
            ],
            [
             0.9,
             "#4d9221"
            ],
            [
             1,
             "#276419"
            ]
           ],
           "sequential": [
            [
             0,
             "#0d0887"
            ],
            [
             0.1111111111111111,
             "#46039f"
            ],
            [
             0.2222222222222222,
             "#7201a8"
            ],
            [
             0.3333333333333333,
             "#9c179e"
            ],
            [
             0.4444444444444444,
             "#bd3786"
            ],
            [
             0.5555555555555556,
             "#d8576b"
            ],
            [
             0.6666666666666666,
             "#ed7953"
            ],
            [
             0.7777777777777778,
             "#fb9f3a"
            ],
            [
             0.8888888888888888,
             "#fdca26"
            ],
            [
             1,
             "#f0f921"
            ]
           ],
           "sequentialminus": [
            [
             0,
             "#0d0887"
            ],
            [
             0.1111111111111111,
             "#46039f"
            ],
            [
             0.2222222222222222,
             "#7201a8"
            ],
            [
             0.3333333333333333,
             "#9c179e"
            ],
            [
             0.4444444444444444,
             "#bd3786"
            ],
            [
             0.5555555555555556,
             "#d8576b"
            ],
            [
             0.6666666666666666,
             "#ed7953"
            ],
            [
             0.7777777777777778,
             "#fb9f3a"
            ],
            [
             0.8888888888888888,
             "#fdca26"
            ],
            [
             1,
             "#f0f921"
            ]
           ]
          },
          "colorway": [
           "#636efa",
           "#EF553B",
           "#00cc96",
           "#ab63fa",
           "#FFA15A",
           "#19d3f3",
           "#FF6692",
           "#B6E880",
           "#FF97FF",
           "#FECB52"
          ],
          "font": {
           "color": "#2a3f5f"
          },
          "geo": {
           "bgcolor": "white",
           "lakecolor": "white",
           "landcolor": "#E5ECF6",
           "showlakes": true,
           "showland": true,
           "subunitcolor": "white"
          },
          "hoverlabel": {
           "align": "left"
          },
          "hovermode": "closest",
          "mapbox": {
           "style": "light"
          },
          "paper_bgcolor": "white",
          "plot_bgcolor": "#E5ECF6",
          "polar": {
           "angularaxis": {
            "gridcolor": "white",
            "linecolor": "white",
            "ticks": ""
           },
           "bgcolor": "#E5ECF6",
           "radialaxis": {
            "gridcolor": "white",
            "linecolor": "white",
            "ticks": ""
           }
          },
          "scene": {
           "xaxis": {
            "backgroundcolor": "#E5ECF6",
            "gridcolor": "white",
            "gridwidth": 2,
            "linecolor": "white",
            "showbackground": true,
            "ticks": "",
            "zerolinecolor": "white"
           },
           "yaxis": {
            "backgroundcolor": "#E5ECF6",
            "gridcolor": "white",
            "gridwidth": 2,
            "linecolor": "white",
            "showbackground": true,
            "ticks": "",
            "zerolinecolor": "white"
           },
           "zaxis": {
            "backgroundcolor": "#E5ECF6",
            "gridcolor": "white",
            "gridwidth": 2,
            "linecolor": "white",
            "showbackground": true,
            "ticks": "",
            "zerolinecolor": "white"
           }
          },
          "shapedefaults": {
           "line": {
            "color": "#2a3f5f"
           }
          },
          "ternary": {
           "aaxis": {
            "gridcolor": "white",
            "linecolor": "white",
            "ticks": ""
           },
           "baxis": {
            "gridcolor": "white",
            "linecolor": "white",
            "ticks": ""
           },
           "bgcolor": "#E5ECF6",
           "caxis": {
            "gridcolor": "white",
            "linecolor": "white",
            "ticks": ""
           }
          },
          "title": {
           "x": 0.05
          },
          "xaxis": {
           "automargin": true,
           "gridcolor": "white",
           "linecolor": "white",
           "ticks": "",
           "title": {
            "standoff": 15
           },
           "zerolinecolor": "white",
           "zerolinewidth": 2
          },
          "yaxis": {
           "automargin": true,
           "gridcolor": "white",
           "linecolor": "white",
           "ticks": "",
           "title": {
            "standoff": 15
           },
           "zerolinecolor": "white",
           "zerolinewidth": 2
          }
         }
        },
        "title": {
         "text": "Semantic Expansion over Writing Sessions<br><span style=\"font-size: 12px;\">*Measuring how well humans are learning while writing with GenAI</span>"
        },
        "width": 1800,
        "xaxis": {
         "anchor": "y",
         "domain": [
          0,
          1
         ],
         "gridcolor": "white",
         "linecolor": "black",
         "mirror": false,
         "range": [
          -1,
          124
         ],
         "showline": true,
         "ticks": "outside",
         "title": {
          "text": "Progress into the writing session"
         }
        },
        "yaxis": {
         "anchor": "x",
         "domain": [
          0,
          1
         ],
         "gridcolor": "white",
         "linecolor": "black",
         "mirror": false,
         "showline": true,
         "ticks": "outside",
         "title": {
          "text": "Scores"
         }
        }
       }
      }
     },
     "metadata": {},
     "output_type": "display_data"
    },
    {
     "name": "stdout",
     "output_type": "stream",
     "text": [
      "legislation_antitrust_1\n"
     ]
    },
    {
     "data": {
      "application/vnd.plotly.v1+json": {
       "config": {
        "plotlyServerURL": "https://plot.ly"
       },
       "data": [
        {
         "hovertemplate": "x=%{x}<br>y=%{y}<extra></extra>",
         "line": {
          "color": "#64B5F6",
          "width": 3
         },
         "marker": {
          "color": "#64B5F6",
          "size": 7
         },
         "mode": "lines+markers",
         "showlegend": false,
         "type": "scatter",
         "x": [
          45,
          46
         ],
         "xaxis": "x",
         "y": [
          11.250537407398223,
          11.91147447824478
         ],
         "yaxis": "y"
        },
        {
         "hovertemplate": "x=%{x}<br>y=%{y}<extra></extra>",
         "line": {
          "color": "#64B5F6",
          "width": 3
         },
         "marker": {
          "color": "#64B5F6",
          "size": 7
         },
         "mode": "lines+markers",
         "showlegend": false,
         "type": "scatter",
         "x": [
          26,
          27
         ],
         "xaxis": "x",
         "y": [
          7.362674903869629,
          7.807299745082855
         ],
         "yaxis": "y"
        },
        {
         "hovertemplate": "x=%{x}<br>y=%{y}<extra></extra>",
         "line": {
          "color": "#64B5F6",
          "width": 3
         },
         "marker": {
          "color": "#64B5F6",
          "size": 7
         },
         "mode": "lines+markers",
         "showlegend": false,
         "type": "scatter",
         "x": [
          12,
          13
         ],
         "xaxis": "x",
         "y": [
          3.7770315408706665,
          4.1379188895225525
         ],
         "yaxis": "y"
        },
        {
         "hovertemplate": "x=%{x}<br>y=%{y}<extra></extra>",
         "line": {
          "color": "#64B5F6",
          "width": 3
         },
         "marker": {
          "color": "#64B5F6",
          "size": 7
         },
         "mode": "lines+markers",
         "showlegend": false,
         "type": "scatter",
         "x": [
          2,
          3
         ],
         "xaxis": "x",
         "y": [
          0.7242425918579102,
          1.1133587598800658
         ],
         "yaxis": "y"
        },
        {
         "hovertemplate": "x=%{x}<br>y=%{y}<extra></extra>",
         "line": {
          "color": "#64B5F6",
          "width": 3
         },
         "marker": {
          "color": "#64B5F6",
          "size": 7
         },
         "mode": "lines+markers",
         "showlegend": false,
         "type": "scatter",
         "x": [
          0,
          1
         ],
         "xaxis": "x",
         "y": [
          0,
          0.3788606524467468
         ],
         "yaxis": "y"
        },
        {
         "hovertemplate": "x=%{x}<br>y=%{y}<extra></extra>",
         "line": {
          "color": "#ff8fab",
          "width": 3
         },
         "marker": {
          "color": "#ff8fab",
          "size": 7
         },
         "mode": "lines+markers",
         "showlegend": false,
         "type": "scatter",
         "x": [
          48,
          49
         ],
         "xaxis": "x",
         "y": [
          12.97895988225937,
          13.546862709522248
         ],
         "yaxis": "y"
        },
        {
         "hovertemplate": "x=%{x}<br>y=%{y}<extra></extra>",
         "line": {
          "color": "#ff8fab",
          "width": 3
         },
         "marker": {
          "color": "#ff8fab",
          "size": 7
         },
         "mode": "lines+markers",
         "showlegend": false,
         "type": "scatter",
         "x": [
          47,
          48
         ],
         "xaxis": "x",
         "y": [
          12.437495112419128,
          12.97895988225937
         ],
         "yaxis": "y"
        },
        {
         "hovertemplate": "x=%{x}<br>y=%{y}<extra></extra>",
         "line": {
          "color": "#ff8fab",
          "width": 3
         },
         "marker": {
          "color": "#ff8fab",
          "size": 7
         },
         "mode": "lines+markers",
         "showlegend": false,
         "type": "scatter",
         "x": [
          46,
          47
         ],
         "xaxis": "x",
         "y": [
          11.91147447824478,
          12.437495112419128
         ],
         "yaxis": "y"
        },
        {
         "hovertemplate": "x=%{x}<br>y=%{y}<extra></extra>",
         "line": {
          "color": "#ff8fab",
          "width": 3
         },
         "marker": {
          "color": "#ff8fab",
          "size": 7
         },
         "mode": "lines+markers",
         "showlegend": false,
         "type": "scatter",
         "x": [
          44,
          45
         ],
         "xaxis": "x",
         "y": [
          10.936824607849122,
          11.250537407398225
         ],
         "yaxis": "y"
        },
        {
         "hovertemplate": "x=%{x}<br>y=%{y}<extra></extra>",
         "line": {
          "color": "#ff8fab",
          "width": 3
         },
         "marker": {
          "color": "#ff8fab",
          "size": 7
         },
         "mode": "lines+markers",
         "showlegend": false,
         "type": "scatter",
         "x": [
          43,
          44
         ],
         "xaxis": "x",
         "y": [
          10.496378600597382,
          10.936824607849122
         ],
         "yaxis": "y"
        },
        {
         "hovertemplate": "x=%{x}<br>y=%{y}<extra></extra>",
         "line": {
          "color": "#ff8fab",
          "width": 3
         },
         "marker": {
          "color": "#ff8fab",
          "size": 7
         },
         "mode": "lines+markers",
         "showlegend": false,
         "type": "scatter",
         "x": [
          40,
          41
         ],
         "xaxis": "x",
         "y": [
          10.490419399738311,
          11.02913749217987
         ],
         "yaxis": "y"
        },
        {
         "hovertemplate": "x=%{x}<br>y=%{y}<extra></extra>",
         "line": {
          "color": "#ff8fab",
          "width": 3
         },
         "marker": {
          "color": "#ff8fab",
          "size": 7
         },
         "mode": "lines+markers",
         "showlegend": false,
         "type": "scatter",
         "x": [
          39,
          40
         ],
         "xaxis": "x",
         "y": [
          9.88200443983078,
          10.490419399738311
         ],
         "yaxis": "y"
        },
        {
         "hovertemplate": "x=%{x}<br>y=%{y}<extra></extra>",
         "line": {
          "color": "#ff8fab",
          "width": 3
         },
         "marker": {
          "color": "#ff8fab",
          "size": 7
         },
         "mode": "lines+markers",
         "showlegend": false,
         "type": "scatter",
         "x": [
          37,
          38
         ],
         "xaxis": "x",
         "y": [
          9.833978617191315,
          10.323874282836915
         ],
         "yaxis": "y"
        },
        {
         "hovertemplate": "x=%{x}<br>y=%{y}<extra></extra>",
         "line": {
          "color": "#ff8fab",
          "width": 3
         },
         "marker": {
          "color": "#ff8fab",
          "size": 7
         },
         "mode": "lines+markers",
         "showlegend": false,
         "type": "scatter",
         "x": [
          36,
          37
         ],
         "xaxis": "x",
         "y": [
          9.337329089641571,
          9.833978617191315
         ],
         "yaxis": "y"
        },
        {
         "hovertemplate": "x=%{x}<br>y=%{y}<extra></extra>",
         "line": {
          "color": "#ff8fab",
          "width": 3
         },
         "marker": {
          "color": "#ff8fab",
          "size": 7
         },
         "mode": "lines+markers",
         "showlegend": false,
         "type": "scatter",
         "x": [
          32,
          33
         ],
         "xaxis": "x",
         "y": [
          8.781308233737946,
          9.094629418849944
         ],
         "yaxis": "y"
        },
        {
         "hovertemplate": "x=%{x}<br>y=%{y}<extra></extra>",
         "line": {
          "color": "#ff8fab",
          "width": 3
         },
         "marker": {
          "color": "#ff8fab",
          "size": 7
         },
         "mode": "lines+markers",
         "showlegend": false,
         "type": "scatter",
         "x": [
          27,
          28
         ],
         "xaxis": "x",
         "y": [
          7.807299745082855,
          8.137097144126892
         ],
         "yaxis": "y"
        },
        {
         "hovertemplate": "x=%{x}<br>y=%{y}<extra></extra>",
         "line": {
          "color": "#ff8fab",
          "width": 3
         },
         "marker": {
          "color": "#ff8fab",
          "size": 7
         },
         "mode": "lines+markers",
         "showlegend": false,
         "type": "scatter",
         "x": [
          25,
          26
         ],
         "xaxis": "x",
         "y": [
          7.106333792209625,
          7.362674903869629
         ],
         "yaxis": "y"
        },
        {
         "hovertemplate": "x=%{x}<br>y=%{y}<extra></extra>",
         "line": {
          "color": "#ff8fab",
          "width": 3
         },
         "marker": {
          "color": "#ff8fab",
          "size": 7
         },
         "mode": "lines+markers",
         "showlegend": false,
         "type": "scatter",
         "x": [
          19,
          20
         ],
         "xaxis": "x",
         "y": [
          5.2818286418914795,
          5.529203975200653
         ],
         "yaxis": "y"
        },
        {
         "hovertemplate": "x=%{x}<br>y=%{y}<extra></extra>",
         "line": {
          "color": "#ff8fab",
          "width": 3
         },
         "marker": {
          "color": "#ff8fab",
          "size": 7
         },
         "mode": "lines+markers",
         "showlegend": false,
         "type": "scatter",
         "x": [
          13,
          14
         ],
         "xaxis": "x",
         "y": [
          4.1379188895225525,
          4.445538902282715
         ],
         "yaxis": "y"
        },
        {
         "hovertemplate": "x=%{x}<br>y=%{y}<extra></extra>",
         "line": {
          "color": "#ff8fab",
          "width": 3
         },
         "marker": {
          "color": "#ff8fab",
          "size": 7
         },
         "mode": "lines+markers",
         "showlegend": false,
         "type": "scatter",
         "x": [
          7,
          8
         ],
         "xaxis": "x",
         "y": [
          1.7258927822113037,
          2.2143944621086122
         ],
         "yaxis": "y"
        },
        {
         "hovertemplate": "x=%{x}<br>y=%{y}<extra></extra>",
         "line": {
          "color": "#ff8fab",
          "width": 3
         },
         "marker": {
          "color": "#ff8fab",
          "size": 7
         },
         "mode": "lines+markers",
         "showlegend": false,
         "type": "scatter",
         "x": [
          3,
          4
         ],
         "xaxis": "x",
         "y": [
          1.1133587598800658,
          1.508743667602539
         ],
         "yaxis": "y"
        },
        {
         "hovertemplate": "x=%{x}<br>y=%{y}<extra></extra>",
         "line": {
          "color": "#ff8fab",
          "width": 3
         },
         "marker": {
          "color": "#ff8fab",
          "size": 7
         },
         "mode": "lines+markers",
         "showlegend": false,
         "type": "scatter",
         "x": [
          1,
          2
         ],
         "xaxis": "x",
         "y": [
          0.3788606524467468,
          0.7242425918579102
         ],
         "yaxis": "y"
        },
        {
         "hovertemplate": "x=%{x}<br>y=%{y}<extra></extra>",
         "line": {
          "color": "#023e8a",
          "width": 3
         },
         "marker": {
          "color": "#023e8a",
          "size": 7
         },
         "mode": "lines+markers",
         "showlegend": false,
         "type": "scatter",
         "x": [
          51,
          52
         ],
         "xaxis": "x",
         "y": [
          11.071993291378021,
          11.368125140666962
         ],
         "yaxis": "y"
        },
        {
         "hovertemplate": "x=%{x}<br>y=%{y}<extra></extra>",
         "line": {
          "color": "#023e8a",
          "width": 3
         },
         "marker": {
          "color": "#023e8a",
          "size": 7
         },
         "mode": "lines+markers",
         "showlegend": false,
         "type": "scatter",
         "x": [
          50,
          51
         ],
         "xaxis": "x",
         "y": [
          10.806002974510193,
          11.071993291378021
         ],
         "yaxis": "y"
        },
        {
         "hovertemplate": "x=%{x}<br>y=%{y}<extra></extra>",
         "line": {
          "color": "#023e8a",
          "width": 3
         },
         "marker": {
          "color": "#023e8a",
          "size": 7
         },
         "mode": "lines+markers",
         "showlegend": false,
         "type": "scatter",
         "x": [
          49,
          50
         ],
         "xaxis": "x",
         "y": [
          10.496378600597382,
          10.806002974510193
         ],
         "yaxis": "y"
        },
        {
         "hovertemplate": "x=%{x}<br>y=%{y}<extra></extra>",
         "line": {
          "color": "#023e8a",
          "width": 3
         },
         "marker": {
          "color": "#023e8a",
          "size": 7
         },
         "mode": "lines+markers",
         "showlegend": false,
         "type": "scatter",
         "x": [
          42,
          43
         ],
         "xaxis": "x",
         "y": [
          10.23635196685791,
          10.496378600597382
         ],
         "yaxis": "y"
        },
        {
         "hovertemplate": "x=%{x}<br>y=%{y}<extra></extra>",
         "line": {
          "color": "#023e8a",
          "width": 3
         },
         "marker": {
          "color": "#023e8a",
          "size": 7
         },
         "mode": "lines+markers",
         "showlegend": false,
         "type": "scatter",
         "x": [
          41,
          42
         ],
         "xaxis": "x",
         "y": [
          9.88200443983078,
          10.23635196685791
         ],
         "yaxis": "y"
        },
        {
         "hovertemplate": "x=%{x}<br>y=%{y}<extra></extra>",
         "line": {
          "color": "#023e8a",
          "width": 3
         },
         "marker": {
          "color": "#023e8a",
          "size": 7
         },
         "mode": "lines+markers",
         "showlegend": false,
         "type": "scatter",
         "x": [
          35,
          36
         ],
         "xaxis": "x",
         "y": [
          8.94230592250824,
          9.337329089641571
         ],
         "yaxis": "y"
        },
        {
         "hovertemplate": "x=%{x}<br>y=%{y}<extra></extra>",
         "line": {
          "color": "#023e8a",
          "width": 3
         },
         "marker": {
          "color": "#023e8a",
          "size": 7
         },
         "mode": "lines+markers",
         "showlegend": false,
         "type": "scatter",
         "x": [
          34,
          35
         ],
         "xaxis": "x",
         "y": [
          8.708481669425964,
          8.94230592250824
         ],
         "yaxis": "y"
        },
        {
         "hovertemplate": "x=%{x}<br>y=%{y}<extra></extra>",
         "line": {
          "color": "#023e8a",
          "width": 3
         },
         "marker": {
          "color": "#023e8a",
          "size": 7
         },
         "mode": "lines+markers",
         "showlegend": false,
         "type": "scatter",
         "x": [
          31,
          32
         ],
         "xaxis": "x",
         "y": [
          8.605195045471191,
          8.781308233737946
         ],
         "yaxis": "y"
        },
        {
         "hovertemplate": "x=%{x}<br>y=%{y}<extra></extra>",
         "line": {
          "color": "#023e8a",
          "width": 3
         },
         "marker": {
          "color": "#023e8a",
          "size": 7
         },
         "mode": "lines+markers",
         "showlegend": false,
         "type": "scatter",
         "x": [
          30,
          31
         ],
         "xaxis": "x",
         "y": [
          7.985099613666534,
          8.605195045471191
         ],
         "yaxis": "y"
        },
        {
         "hovertemplate": "x=%{x}<br>y=%{y}<extra></extra>",
         "line": {
          "color": "#023e8a",
          "width": 3
         },
         "marker": {
          "color": "#023e8a",
          "size": 7
         },
         "mode": "lines+markers",
         "showlegend": false,
         "type": "scatter",
         "x": [
          29,
          30
         ],
         "xaxis": "x",
         "y": [
          7.389060437679291,
          7.985099613666534
         ],
         "yaxis": "y"
        },
        {
         "hovertemplate": "x=%{x}<br>y=%{y}<extra></extra>",
         "line": {
          "color": "#023e8a",
          "width": 3
         },
         "marker": {
          "color": "#023e8a",
          "size": 7
         },
         "mode": "lines+markers",
         "showlegend": false,
         "type": "scatter",
         "x": [
          28,
          29
         ],
         "xaxis": "x",
         "y": [
          7.106333792209625,
          7.389060437679291
         ],
         "yaxis": "y"
        },
        {
         "hovertemplate": "x=%{x}<br>y=%{y}<extra></extra>",
         "line": {
          "color": "#023e8a",
          "width": 3
         },
         "marker": {
          "color": "#023e8a",
          "size": 7
         },
         "mode": "lines+markers",
         "showlegend": false,
         "type": "scatter",
         "x": [
          24,
          25
         ],
         "xaxis": "x",
         "y": [
          6.912578582763672,
          7.106333792209625
         ],
         "yaxis": "y"
        },
        {
         "hovertemplate": "x=%{x}<br>y=%{y}<extra></extra>",
         "line": {
          "color": "#023e8a",
          "width": 3
         },
         "marker": {
          "color": "#023e8a",
          "size": 7
         },
         "mode": "lines+markers",
         "showlegend": false,
         "type": "scatter",
         "x": [
          23,
          24
         ],
         "xaxis": "x",
         "y": [
          6.605927765369415,
          6.912578582763672
         ],
         "yaxis": "y"
        },
        {
         "hovertemplate": "x=%{x}<br>y=%{y}<extra></extra>",
         "line": {
          "color": "#023e8a",
          "width": 3
         },
         "marker": {
          "color": "#023e8a",
          "size": 7
         },
         "mode": "lines+markers",
         "showlegend": false,
         "type": "scatter",
         "x": [
          22,
          23
         ],
         "xaxis": "x",
         "y": [
          6.341121554374695,
          6.605927765369415
         ],
         "yaxis": "y"
        },
        {
         "hovertemplate": "x=%{x}<br>y=%{y}<extra></extra>",
         "line": {
          "color": "#023e8a",
          "width": 3
         },
         "marker": {
          "color": "#023e8a",
          "size": 7
         },
         "mode": "lines+markers",
         "showlegend": false,
         "type": "scatter",
         "x": [
          21,
          22
         ],
         "xaxis": "x",
         "y": [
          5.9448370933532715,
          6.341121554374695
         ],
         "yaxis": "y"
        },
        {
         "hovertemplate": "x=%{x}<br>y=%{y}<extra></extra>",
         "line": {
          "color": "#023e8a",
          "width": 3
         },
         "marker": {
          "color": "#023e8a",
          "size": 7
         },
         "mode": "lines+markers",
         "showlegend": false,
         "type": "scatter",
         "x": [
          18,
          19
         ],
         "xaxis": "x",
         "y": [
          5.047360479831696,
          5.2818286418914795
         ],
         "yaxis": "y"
        },
        {
         "hovertemplate": "x=%{x}<br>y=%{y}<extra></extra>",
         "line": {
          "color": "#023e8a",
          "width": 3
         },
         "marker": {
          "color": "#023e8a",
          "size": 7
         },
         "mode": "lines+markers",
         "showlegend": false,
         "type": "scatter",
         "x": [
          17,
          18
         ],
         "xaxis": "x",
         "y": [
          4.619430959224701,
          5.047360479831696
         ],
         "yaxis": "y"
        },
        {
         "hovertemplate": "x=%{x}<br>y=%{y}<extra></extra>",
         "line": {
          "color": "#023e8a",
          "width": 3
         },
         "marker": {
          "color": "#023e8a",
          "size": 7
         },
         "mode": "lines+markers",
         "showlegend": false,
         "type": "scatter",
         "x": [
          16,
          17
         ],
         "xaxis": "x",
         "y": [
          4.307793200016022,
          4.619430959224701
         ],
         "yaxis": "y"
        },
        {
         "hovertemplate": "x=%{x}<br>y=%{y}<extra></extra>",
         "line": {
          "color": "#023e8a",
          "width": 3
         },
         "marker": {
          "color": "#023e8a",
          "size": 7
         },
         "mode": "lines+markers",
         "showlegend": false,
         "type": "scatter",
         "x": [
          15,
          16
         ],
         "xaxis": "x",
         "y": [
          4.044474840164185,
          4.307793200016022
         ],
         "yaxis": "y"
        },
        {
         "hovertemplate": "x=%{x}<br>y=%{y}<extra></extra>",
         "line": {
          "color": "#023e8a",
          "width": 3
         },
         "marker": {
          "color": "#023e8a",
          "size": 7
         },
         "mode": "lines+markers",
         "showlegend": false,
         "type": "scatter",
         "x": [
          14,
          15
         ],
         "xaxis": "x",
         "y": [
          3.7770315408706665,
          4.044474840164185
         ],
         "yaxis": "y"
        },
        {
         "hovertemplate": "x=%{x}<br>y=%{y}<extra></extra>",
         "line": {
          "color": "#023e8a",
          "width": 3
         },
         "marker": {
          "color": "#023e8a",
          "size": 7
         },
         "mode": "lines+markers",
         "showlegend": false,
         "type": "scatter",
         "x": [
          11,
          12
         ],
         "xaxis": "x",
         "y": [
          3.4451184272766113,
          3.7770315408706665
         ],
         "yaxis": "y"
        },
        {
         "hovertemplate": "x=%{x}<br>y=%{y}<extra></extra>",
         "line": {
          "color": "#023e8a",
          "width": 3
         },
         "marker": {
          "color": "#023e8a",
          "size": 7
         },
         "mode": "lines+markers",
         "showlegend": false,
         "type": "scatter",
         "x": [
          10,
          11
         ],
         "xaxis": "x",
         "y": [
          3.012733578681946,
          3.4451184272766113
         ],
         "yaxis": "y"
        },
        {
         "hovertemplate": "x=%{x}<br>y=%{y}<extra></extra>",
         "line": {
          "color": "#023e8a",
          "width": 3
         },
         "marker": {
          "color": "#023e8a",
          "size": 7
         },
         "mode": "lines+markers",
         "showlegend": false,
         "type": "scatter",
         "x": [
          9,
          10
         ],
         "xaxis": "x",
         "y": [
          2.1025214791297913,
          3.012733578681946
         ],
         "yaxis": "y"
        },
        {
         "hovertemplate": "x=%{x}<br>y=%{y}<extra></extra>",
         "line": {
          "color": "#023e8a",
          "width": 3
         },
         "marker": {
          "color": "#023e8a",
          "size": 7
         },
         "mode": "lines+markers",
         "showlegend": false,
         "type": "scatter",
         "x": [
          8,
          9
         ],
         "xaxis": "x",
         "y": [
          1.7258927822113037,
          2.1025214791297913
         ],
         "yaxis": "y"
        },
        {
         "hovertemplate": "x=%{x}<br>y=%{y}<extra></extra>",
         "line": {
          "color": "#023e8a",
          "width": 3
         },
         "marker": {
          "color": "#023e8a",
          "size": 7
         },
         "mode": "lines+markers",
         "showlegend": false,
         "type": "scatter",
         "x": [
          6,
          7
         ],
         "xaxis": "x",
         "y": [
          1.2818763256072998,
          1.7258927822113037
         ],
         "yaxis": "y"
        },
        {
         "hovertemplate": "x=%{x}<br>y=%{y}<extra></extra>",
         "line": {
          "color": "#023e8a",
          "width": 3
         },
         "marker": {
          "color": "#023e8a",
          "size": 7
         },
         "mode": "lines+markers",
         "showlegend": false,
         "type": "scatter",
         "x": [
          5,
          6
         ],
         "xaxis": "x",
         "y": [
          0.32824164628982544,
          1.2818763256072998
         ],
         "yaxis": "y"
        },
        {
         "hovertemplate": "x=%{x}<br>y=%{y}<extra></extra>",
         "line": {
          "color": "#023e8a",
          "width": 3
         },
         "marker": {
          "color": "#023e8a",
          "size": 7
         },
         "mode": "lines+markers",
         "showlegend": false,
         "type": "scatter",
         "x": [
          4,
          5
         ],
         "xaxis": "x",
         "y": [
          0,
          0.32824164628982544
         ],
         "yaxis": "y"
        },
        {
         "hovertemplate": "x=%{x}<br>y=%{y}<extra></extra>",
         "line": {
          "color": "#c1121f",
          "width": 3
         },
         "marker": {
          "color": "#c1121f",
          "size": 7
         },
         "mode": "lines+markers",
         "showlegend": false,
         "type": "scatter",
         "x": [
          38,
          39
         ],
         "xaxis": "x",
         "y": [
          9.337329089641571,
          9.88200443983078
         ],
         "yaxis": "y"
        },
        {
         "hovertemplate": "x=%{x}<br>y=%{y}<extra></extra>",
         "line": {
          "color": "#c1121f",
          "width": 3
         },
         "marker": {
          "color": "#c1121f",
          "size": 7
         },
         "mode": "lines+markers",
         "showlegend": false,
         "type": "scatter",
         "x": [
          33,
          34
         ],
         "xaxis": "x",
         "y": [
          8.781308233737946,
          8.708481669425964
         ],
         "yaxis": "y"
        },
        {
         "hovertemplate": "x=%{x}<br>y=%{y}<extra></extra>",
         "line": {
          "color": "#c1121f",
          "width": 3
         },
         "marker": {
          "color": "#c1121f",
          "size": 7
         },
         "mode": "lines+markers",
         "showlegend": false,
         "type": "scatter",
         "x": [
          20,
          21
         ],
         "xaxis": "x",
         "y": [
          5.2818286418914795,
          5.9448370933532715
         ],
         "yaxis": "y"
        },
        {
         "line": {
          "color": "#64B5F6",
          "width": 2
         },
         "mode": "lines",
         "name": "human_insert_backstage",
         "showlegend": true,
         "type": "scatter",
         "x": [
          null
         ],
         "xaxis": "x",
         "y": [
          null
         ],
         "yaxis": "y"
        },
        {
         "line": {
          "color": "#ff8fab",
          "width": 2
         },
         "mode": "lines",
         "name": "ai_suggest_backstage",
         "showlegend": true,
         "type": "scatter",
         "x": [
          null
         ],
         "xaxis": "x",
         "y": [
          null
         ],
         "yaxis": "y"
        },
        {
         "line": {
          "color": "#023e8a",
          "width": 2
         },
         "mode": "lines",
         "name": "human_insert_frontstage",
         "showlegend": true,
         "type": "scatter",
         "x": [
          null
         ],
         "xaxis": "x",
         "y": [
          null
         ],
         "yaxis": "y"
        },
        {
         "line": {
          "color": "#c1121f",
          "width": 2
         },
         "mode": "lines",
         "name": "ai_insert_moved_to_frontstage",
         "showlegend": true,
         "type": "scatter",
         "x": [
          null
         ],
         "xaxis": "x",
         "y": [
          null
         ],
         "yaxis": "y"
        },
        {
         "line": {
          "color": "#9d4edd",
          "width": 2
         },
         "mode": "lines",
         "name": "human_delete_frontstage",
         "showlegend": true,
         "type": "scatter",
         "x": [
          null
         ],
         "xaxis": "x",
         "y": [
          null
         ],
         "yaxis": "y"
        },
        {
         "line": {
          "color": "#5a189a",
          "width": 2
         },
         "mode": "lines",
         "name": "human_insert_edit_frontstage",
         "showlegend": true,
         "type": "scatter",
         "x": [
          null
         ],
         "xaxis": "x",
         "y": [
          null
         ],
         "yaxis": "y"
        }
       ],
       "layout": {
        "annotations": [
         {
          "font": {
           "size": 16
          },
          "showarrow": false,
          "text": "Session: legislation_antitrust_1",
          "x": 0.5,
          "xanchor": "center",
          "xref": "paper",
          "y": 1,
          "yanchor": "bottom",
          "yref": "paper"
         }
        ],
        "height": 500,
        "legend": {
         "title": {
          "font": {
           "color": "rgba(0, 0, 0, 0)"
          }
         }
        },
        "plot_bgcolor": "white",
        "showlegend": true,
        "template": {
         "data": {
          "bar": [
           {
            "error_x": {
             "color": "#2a3f5f"
            },
            "error_y": {
             "color": "#2a3f5f"
            },
            "marker": {
             "line": {
              "color": "#E5ECF6",
              "width": 0.5
             },
             "pattern": {
              "fillmode": "overlay",
              "size": 10,
              "solidity": 0.2
             }
            },
            "type": "bar"
           }
          ],
          "barpolar": [
           {
            "marker": {
             "line": {
              "color": "#E5ECF6",
              "width": 0.5
             },
             "pattern": {
              "fillmode": "overlay",
              "size": 10,
              "solidity": 0.2
             }
            },
            "type": "barpolar"
           }
          ],
          "carpet": [
           {
            "aaxis": {
             "endlinecolor": "#2a3f5f",
             "gridcolor": "white",
             "linecolor": "white",
             "minorgridcolor": "white",
             "startlinecolor": "#2a3f5f"
            },
            "baxis": {
             "endlinecolor": "#2a3f5f",
             "gridcolor": "white",
             "linecolor": "white",
             "minorgridcolor": "white",
             "startlinecolor": "#2a3f5f"
            },
            "type": "carpet"
           }
          ],
          "choropleth": [
           {
            "colorbar": {
             "outlinewidth": 0,
             "ticks": ""
            },
            "type": "choropleth"
           }
          ],
          "contour": [
           {
            "colorbar": {
             "outlinewidth": 0,
             "ticks": ""
            },
            "colorscale": [
             [
              0,
              "#0d0887"
             ],
             [
              0.1111111111111111,
              "#46039f"
             ],
             [
              0.2222222222222222,
              "#7201a8"
             ],
             [
              0.3333333333333333,
              "#9c179e"
             ],
             [
              0.4444444444444444,
              "#bd3786"
             ],
             [
              0.5555555555555556,
              "#d8576b"
             ],
             [
              0.6666666666666666,
              "#ed7953"
             ],
             [
              0.7777777777777778,
              "#fb9f3a"
             ],
             [
              0.8888888888888888,
              "#fdca26"
             ],
             [
              1,
              "#f0f921"
             ]
            ],
            "type": "contour"
           }
          ],
          "contourcarpet": [
           {
            "colorbar": {
             "outlinewidth": 0,
             "ticks": ""
            },
            "type": "contourcarpet"
           }
          ],
          "heatmap": [
           {
            "colorbar": {
             "outlinewidth": 0,
             "ticks": ""
            },
            "colorscale": [
             [
              0,
              "#0d0887"
             ],
             [
              0.1111111111111111,
              "#46039f"
             ],
             [
              0.2222222222222222,
              "#7201a8"
             ],
             [
              0.3333333333333333,
              "#9c179e"
             ],
             [
              0.4444444444444444,
              "#bd3786"
             ],
             [
              0.5555555555555556,
              "#d8576b"
             ],
             [
              0.6666666666666666,
              "#ed7953"
             ],
             [
              0.7777777777777778,
              "#fb9f3a"
             ],
             [
              0.8888888888888888,
              "#fdca26"
             ],
             [
              1,
              "#f0f921"
             ]
            ],
            "type": "heatmap"
           }
          ],
          "histogram": [
           {
            "marker": {
             "pattern": {
              "fillmode": "overlay",
              "size": 10,
              "solidity": 0.2
             }
            },
            "type": "histogram"
           }
          ],
          "histogram2d": [
           {
            "colorbar": {
             "outlinewidth": 0,
             "ticks": ""
            },
            "colorscale": [
             [
              0,
              "#0d0887"
             ],
             [
              0.1111111111111111,
              "#46039f"
             ],
             [
              0.2222222222222222,
              "#7201a8"
             ],
             [
              0.3333333333333333,
              "#9c179e"
             ],
             [
              0.4444444444444444,
              "#bd3786"
             ],
             [
              0.5555555555555556,
              "#d8576b"
             ],
             [
              0.6666666666666666,
              "#ed7953"
             ],
             [
              0.7777777777777778,
              "#fb9f3a"
             ],
             [
              0.8888888888888888,
              "#fdca26"
             ],
             [
              1,
              "#f0f921"
             ]
            ],
            "type": "histogram2d"
           }
          ],
          "histogram2dcontour": [
           {
            "colorbar": {
             "outlinewidth": 0,
             "ticks": ""
            },
            "colorscale": [
             [
              0,
              "#0d0887"
             ],
             [
              0.1111111111111111,
              "#46039f"
             ],
             [
              0.2222222222222222,
              "#7201a8"
             ],
             [
              0.3333333333333333,
              "#9c179e"
             ],
             [
              0.4444444444444444,
              "#bd3786"
             ],
             [
              0.5555555555555556,
              "#d8576b"
             ],
             [
              0.6666666666666666,
              "#ed7953"
             ],
             [
              0.7777777777777778,
              "#fb9f3a"
             ],
             [
              0.8888888888888888,
              "#fdca26"
             ],
             [
              1,
              "#f0f921"
             ]
            ],
            "type": "histogram2dcontour"
           }
          ],
          "mesh3d": [
           {
            "colorbar": {
             "outlinewidth": 0,
             "ticks": ""
            },
            "type": "mesh3d"
           }
          ],
          "parcoords": [
           {
            "line": {
             "colorbar": {
              "outlinewidth": 0,
              "ticks": ""
             }
            },
            "type": "parcoords"
           }
          ],
          "pie": [
           {
            "automargin": true,
            "type": "pie"
           }
          ],
          "scatter": [
           {
            "fillpattern": {
             "fillmode": "overlay",
             "size": 10,
             "solidity": 0.2
            },
            "type": "scatter"
           }
          ],
          "scatter3d": [
           {
            "line": {
             "colorbar": {
              "outlinewidth": 0,
              "ticks": ""
             }
            },
            "marker": {
             "colorbar": {
              "outlinewidth": 0,
              "ticks": ""
             }
            },
            "type": "scatter3d"
           }
          ],
          "scattercarpet": [
           {
            "marker": {
             "colorbar": {
              "outlinewidth": 0,
              "ticks": ""
             }
            },
            "type": "scattercarpet"
           }
          ],
          "scattergeo": [
           {
            "marker": {
             "colorbar": {
              "outlinewidth": 0,
              "ticks": ""
             }
            },
            "type": "scattergeo"
           }
          ],
          "scattergl": [
           {
            "marker": {
             "colorbar": {
              "outlinewidth": 0,
              "ticks": ""
             }
            },
            "type": "scattergl"
           }
          ],
          "scattermap": [
           {
            "marker": {
             "colorbar": {
              "outlinewidth": 0,
              "ticks": ""
             }
            },
            "type": "scattermap"
           }
          ],
          "scattermapbox": [
           {
            "marker": {
             "colorbar": {
              "outlinewidth": 0,
              "ticks": ""
             }
            },
            "type": "scattermapbox"
           }
          ],
          "scatterpolar": [
           {
            "marker": {
             "colorbar": {
              "outlinewidth": 0,
              "ticks": ""
             }
            },
            "type": "scatterpolar"
           }
          ],
          "scatterpolargl": [
           {
            "marker": {
             "colorbar": {
              "outlinewidth": 0,
              "ticks": ""
             }
            },
            "type": "scatterpolargl"
           }
          ],
          "scatterternary": [
           {
            "marker": {
             "colorbar": {
              "outlinewidth": 0,
              "ticks": ""
             }
            },
            "type": "scatterternary"
           }
          ],
          "surface": [
           {
            "colorbar": {
             "outlinewidth": 0,
             "ticks": ""
            },
            "colorscale": [
             [
              0,
              "#0d0887"
             ],
             [
              0.1111111111111111,
              "#46039f"
             ],
             [
              0.2222222222222222,
              "#7201a8"
             ],
             [
              0.3333333333333333,
              "#9c179e"
             ],
             [
              0.4444444444444444,
              "#bd3786"
             ],
             [
              0.5555555555555556,
              "#d8576b"
             ],
             [
              0.6666666666666666,
              "#ed7953"
             ],
             [
              0.7777777777777778,
              "#fb9f3a"
             ],
             [
              0.8888888888888888,
              "#fdca26"
             ],
             [
              1,
              "#f0f921"
             ]
            ],
            "type": "surface"
           }
          ],
          "table": [
           {
            "cells": {
             "fill": {
              "color": "#EBF0F8"
             },
             "line": {
              "color": "white"
             }
            },
            "header": {
             "fill": {
              "color": "#C8D4E3"
             },
             "line": {
              "color": "white"
             }
            },
            "type": "table"
           }
          ]
         },
         "layout": {
          "annotationdefaults": {
           "arrowcolor": "#2a3f5f",
           "arrowhead": 0,
           "arrowwidth": 1
          },
          "autotypenumbers": "strict",
          "coloraxis": {
           "colorbar": {
            "outlinewidth": 0,
            "ticks": ""
           }
          },
          "colorscale": {
           "diverging": [
            [
             0,
             "#8e0152"
            ],
            [
             0.1,
             "#c51b7d"
            ],
            [
             0.2,
             "#de77ae"
            ],
            [
             0.3,
             "#f1b6da"
            ],
            [
             0.4,
             "#fde0ef"
            ],
            [
             0.5,
             "#f7f7f7"
            ],
            [
             0.6,
             "#e6f5d0"
            ],
            [
             0.7,
             "#b8e186"
            ],
            [
             0.8,
             "#7fbc41"
            ],
            [
             0.9,
             "#4d9221"
            ],
            [
             1,
             "#276419"
            ]
           ],
           "sequential": [
            [
             0,
             "#0d0887"
            ],
            [
             0.1111111111111111,
             "#46039f"
            ],
            [
             0.2222222222222222,
             "#7201a8"
            ],
            [
             0.3333333333333333,
             "#9c179e"
            ],
            [
             0.4444444444444444,
             "#bd3786"
            ],
            [
             0.5555555555555556,
             "#d8576b"
            ],
            [
             0.6666666666666666,
             "#ed7953"
            ],
            [
             0.7777777777777778,
             "#fb9f3a"
            ],
            [
             0.8888888888888888,
             "#fdca26"
            ],
            [
             1,
             "#f0f921"
            ]
           ],
           "sequentialminus": [
            [
             0,
             "#0d0887"
            ],
            [
             0.1111111111111111,
             "#46039f"
            ],
            [
             0.2222222222222222,
             "#7201a8"
            ],
            [
             0.3333333333333333,
             "#9c179e"
            ],
            [
             0.4444444444444444,
             "#bd3786"
            ],
            [
             0.5555555555555556,
             "#d8576b"
            ],
            [
             0.6666666666666666,
             "#ed7953"
            ],
            [
             0.7777777777777778,
             "#fb9f3a"
            ],
            [
             0.8888888888888888,
             "#fdca26"
            ],
            [
             1,
             "#f0f921"
            ]
           ]
          },
          "colorway": [
           "#636efa",
           "#EF553B",
           "#00cc96",
           "#ab63fa",
           "#FFA15A",
           "#19d3f3",
           "#FF6692",
           "#B6E880",
           "#FF97FF",
           "#FECB52"
          ],
          "font": {
           "color": "#2a3f5f"
          },
          "geo": {
           "bgcolor": "white",
           "lakecolor": "white",
           "landcolor": "#E5ECF6",
           "showlakes": true,
           "showland": true,
           "subunitcolor": "white"
          },
          "hoverlabel": {
           "align": "left"
          },
          "hovermode": "closest",
          "mapbox": {
           "style": "light"
          },
          "paper_bgcolor": "white",
          "plot_bgcolor": "#E5ECF6",
          "polar": {
           "angularaxis": {
            "gridcolor": "white",
            "linecolor": "white",
            "ticks": ""
           },
           "bgcolor": "#E5ECF6",
           "radialaxis": {
            "gridcolor": "white",
            "linecolor": "white",
            "ticks": ""
           }
          },
          "scene": {
           "xaxis": {
            "backgroundcolor": "#E5ECF6",
            "gridcolor": "white",
            "gridwidth": 2,
            "linecolor": "white",
            "showbackground": true,
            "ticks": "",
            "zerolinecolor": "white"
           },
           "yaxis": {
            "backgroundcolor": "#E5ECF6",
            "gridcolor": "white",
            "gridwidth": 2,
            "linecolor": "white",
            "showbackground": true,
            "ticks": "",
            "zerolinecolor": "white"
           },
           "zaxis": {
            "backgroundcolor": "#E5ECF6",
            "gridcolor": "white",
            "gridwidth": 2,
            "linecolor": "white",
            "showbackground": true,
            "ticks": "",
            "zerolinecolor": "white"
           }
          },
          "shapedefaults": {
           "line": {
            "color": "#2a3f5f"
           }
          },
          "ternary": {
           "aaxis": {
            "gridcolor": "white",
            "linecolor": "white",
            "ticks": ""
           },
           "baxis": {
            "gridcolor": "white",
            "linecolor": "white",
            "ticks": ""
           },
           "bgcolor": "#E5ECF6",
           "caxis": {
            "gridcolor": "white",
            "linecolor": "white",
            "ticks": ""
           }
          },
          "title": {
           "x": 0.05
          },
          "xaxis": {
           "automargin": true,
           "gridcolor": "white",
           "linecolor": "white",
           "ticks": "",
           "title": {
            "standoff": 15
           },
           "zerolinecolor": "white",
           "zerolinewidth": 2
          },
          "yaxis": {
           "automargin": true,
           "gridcolor": "white",
           "linecolor": "white",
           "ticks": "",
           "title": {
            "standoff": 15
           },
           "zerolinecolor": "white",
           "zerolinewidth": 2
          }
         }
        },
        "title": {
         "text": "Semantic Expansion over Writing Sessions<br><span style=\"font-size: 12px;\">*Measuring how well humans are learning while writing with GenAI</span>"
        },
        "width": 1800,
        "xaxis": {
         "anchor": "y",
         "domain": [
          0,
          1
         ],
         "gridcolor": "white",
         "linecolor": "black",
         "mirror": false,
         "range": [
          -1,
          53
         ],
         "showline": true,
         "ticks": "outside",
         "title": {
          "text": "Progress into the writing session"
         }
        },
        "yaxis": {
         "anchor": "x",
         "domain": [
          0,
          1
         ],
         "gridcolor": "white",
         "linecolor": "black",
         "mirror": false,
         "showline": true,
         "ticks": "outside",
         "title": {
          "text": "Scores"
         }
        }
       }
      }
     },
     "metadata": {},
     "output_type": "display_data"
    },
    {
     "name": "stdout",
     "output_type": "stream",
     "text": [
      "legislation_antitrust_2\n"
     ]
    },
    {
     "data": {
      "application/vnd.plotly.v1+json": {
       "config": {
        "plotlyServerURL": "https://plot.ly"
       },
       "data": [
        {
         "hovertemplate": "x=%{x}<br>y=%{y}<extra></extra>",
         "line": {
          "color": "#64B5F6",
          "width": 3
         },
         "marker": {
          "color": "#64B5F6",
          "size": 7
         },
         "mode": "lines+markers",
         "showlegend": false,
         "type": "scatter",
         "x": [
          110,
          111
         ],
         "xaxis": "x",
         "y": [
          15.95794781446457,
          16.772280061244963
         ],
         "yaxis": "y"
        },
        {
         "hovertemplate": "x=%{x}<br>y=%{y}<extra></extra>",
         "line": {
          "color": "#64B5F6",
          "width": 3
         },
         "marker": {
          "color": "#64B5F6",
          "size": 7
         },
         "mode": "lines+markers",
         "showlegend": false,
         "type": "scatter",
         "x": [
          105,
          106
         ],
         "xaxis": "x",
         "y": [
          14.89796656370163,
          15.734720230102539
         ],
         "yaxis": "y"
        },
        {
         "hovertemplate": "x=%{x}<br>y=%{y}<extra></extra>",
         "line": {
          "color": "#64B5F6",
          "width": 3
         },
         "marker": {
          "color": "#64B5F6",
          "size": 7
         },
         "mode": "lines+markers",
         "showlegend": false,
         "type": "scatter",
         "x": [
          95,
          96
         ],
         "xaxis": "x",
         "y": [
          13.880656039714815,
          14.179419314861299
         ],
         "yaxis": "y"
        },
        {
         "hovertemplate": "x=%{x}<br>y=%{y}<extra></extra>",
         "line": {
          "color": "#64B5F6",
          "width": 3
         },
         "marker": {
          "color": "#64B5F6",
          "size": 7
         },
         "mode": "lines+markers",
         "showlegend": false,
         "type": "scatter",
         "x": [
          93,
          94
         ],
         "xaxis": "x",
         "y": [
          12.724691319465638,
          13.52705900669098
         ],
         "yaxis": "y"
        },
        {
         "hovertemplate": "x=%{x}<br>y=%{y}<extra></extra>",
         "line": {
          "color": "#64B5F6",
          "width": 3
         },
         "marker": {
          "color": "#64B5F6",
          "size": 7
         },
         "mode": "lines+markers",
         "showlegend": false,
         "type": "scatter",
         "x": [
          91,
          92
         ],
         "xaxis": "x",
         "y": [
          11.76549357175827,
          12.267082512378693
         ],
         "yaxis": "y"
        },
        {
         "hovertemplate": "x=%{x}<br>y=%{y}<extra></extra>",
         "line": {
          "color": "#64B5F6",
          "width": 3
         },
         "marker": {
          "color": "#64B5F6",
          "size": 7
         },
         "mode": "lines+markers",
         "showlegend": false,
         "type": "scatter",
         "x": [
          88,
          89
         ],
         "xaxis": "x",
         "y": [
          11.780672562122344,
          12.54546810388565
         ],
         "yaxis": "y"
        },
        {
         "hovertemplate": "x=%{x}<br>y=%{y}<extra></extra>",
         "line": {
          "color": "#64B5F6",
          "width": 3
         },
         "marker": {
          "color": "#64B5F6",
          "size": 7
         },
         "mode": "lines+markers",
         "showlegend": false,
         "type": "scatter",
         "x": [
          83,
          84
         ],
         "xaxis": "x",
         "y": [
          11.281408131122589,
          11.482129693031311
         ],
         "yaxis": "y"
        },
        {
         "hovertemplate": "x=%{x}<br>y=%{y}<extra></extra>",
         "line": {
          "color": "#64B5F6",
          "width": 3
         },
         "marker": {
          "color": "#64B5F6",
          "size": 7
         },
         "mode": "lines+markers",
         "showlegend": false,
         "type": "scatter",
         "x": [
          81,
          82
         ],
         "xaxis": "x",
         "y": [
          10.635804533958435,
          10.836526095867157
         ],
         "yaxis": "y"
        },
        {
         "hovertemplate": "x=%{x}<br>y=%{y}<extra></extra>",
         "line": {
          "color": "#64B5F6",
          "width": 3
         },
         "marker": {
          "color": "#64B5F6",
          "size": 7
         },
         "mode": "lines+markers",
         "showlegend": false,
         "type": "scatter",
         "x": [
          78,
          79
         ],
         "xaxis": "x",
         "y": [
          9.761664807796478,
          10.09732860326767
         ],
         "yaxis": "y"
        },
        {
         "hovertemplate": "x=%{x}<br>y=%{y}<extra></extra>",
         "line": {
          "color": "#64B5F6",
          "width": 3
         },
         "marker": {
          "color": "#64B5F6",
          "size": 7
         },
         "mode": "lines+markers",
         "showlegend": false,
         "type": "scatter",
         "x": [
          75,
          76
         ],
         "xaxis": "x",
         "y": [
          10.695300459861755,
          11.507342278957367
         ],
         "yaxis": "y"
        },
        {
         "hovertemplate": "x=%{x}<br>y=%{y}<extra></extra>",
         "line": {
          "color": "#64B5F6",
          "width": 3
         },
         "marker": {
          "color": "#64B5F6",
          "size": 7
         },
         "mode": "lines+markers",
         "showlegend": false,
         "type": "scatter",
         "x": [
          71,
          72
         ],
         "xaxis": "x",
         "y": [
          9.617595076560974,
          9.986338555812836
         ],
         "yaxis": "y"
        },
        {
         "hovertemplate": "x=%{x}<br>y=%{y}<extra></extra>",
         "line": {
          "color": "#64B5F6",
          "width": 3
         },
         "marker": {
          "color": "#64B5F6",
          "size": 7
         },
         "mode": "lines+markers",
         "showlegend": false,
         "type": "scatter",
         "x": [
          67,
          68
         ],
         "xaxis": "x",
         "y": [
          9.278001654148103,
          10.062988984584809
         ],
         "yaxis": "y"
        },
        {
         "hovertemplate": "x=%{x}<br>y=%{y}<extra></extra>",
         "line": {
          "color": "#64B5F6",
          "width": 3
         },
         "marker": {
          "color": "#64B5F6",
          "size": 7
         },
         "mode": "lines+markers",
         "showlegend": false,
         "type": "scatter",
         "x": [
          63,
          64
         ],
         "xaxis": "x",
         "y": [
          9.015097105503083,
          8.898531579971314
         ],
         "yaxis": "y"
        },
        {
         "hovertemplate": "x=%{x}<br>y=%{y}<extra></extra>",
         "line": {
          "color": "#64B5F6",
          "width": 3
         },
         "marker": {
          "color": "#64B5F6",
          "size": 7
         },
         "mode": "lines+markers",
         "showlegend": false,
         "type": "scatter",
         "x": [
          59,
          60
         ],
         "xaxis": "x",
         "y": [
          11.866200828552245,
          12.673299813270567
         ],
         "yaxis": "y"
        },
        {
         "hovertemplate": "x=%{x}<br>y=%{y}<extra></extra>",
         "line": {
          "color": "#64B5F6",
          "width": 3
         },
         "marker": {
          "color": "#64B5F6",
          "size": 7
         },
         "mode": "lines+markers",
         "showlegend": false,
         "type": "scatter",
         "x": [
          57,
          58
         ],
         "xaxis": "x",
         "y": [
          11.245706713199615,
          11.581370508670807
         ],
         "yaxis": "y"
        },
        {
         "hovertemplate": "x=%{x}<br>y=%{y}<extra></extra>",
         "line": {
          "color": "#64B5F6",
          "width": 3
         },
         "marker": {
          "color": "#64B5F6",
          "size": 7
         },
         "mode": "lines+markers",
         "showlegend": false,
         "type": "scatter",
         "x": [
          55,
          56
         ],
         "xaxis": "x",
         "y": [
          9.977361023426056,
          10.98404324054718
         ],
         "yaxis": "y"
        },
        {
         "hovertemplate": "x=%{x}<br>y=%{y}<extra></extra>",
         "line": {
          "color": "#64B5F6",
          "width": 3
         },
         "marker": {
          "color": "#64B5F6",
          "size": 7
         },
         "mode": "lines+markers",
         "showlegend": false,
         "type": "scatter",
         "x": [
          52,
          53
         ],
         "xaxis": "x",
         "y": [
          7.9803982973098755,
          8.730185389518738
         ],
         "yaxis": "y"
        },
        {
         "hovertemplate": "x=%{x}<br>y=%{y}<extra></extra>",
         "line": {
          "color": "#64B5F6",
          "width": 3
         },
         "marker": {
          "color": "#64B5F6",
          "size": 7
         },
         "mode": "lines+markers",
         "showlegend": false,
         "type": "scatter",
         "x": [
          49,
          50
         ],
         "xaxis": "x",
         "y": [
          7.521756589412689,
          7.937390089035034
         ],
         "yaxis": "y"
        },
        {
         "hovertemplate": "x=%{x}<br>y=%{y}<extra></extra>",
         "line": {
          "color": "#64B5F6",
          "width": 3
         },
         "marker": {
          "color": "#64B5F6",
          "size": 7
         },
         "mode": "lines+markers",
         "showlegend": false,
         "type": "scatter",
         "x": [
          46,
          47
         ],
         "xaxis": "x",
         "y": [
          8.03374058008194,
          8.268154501914978
         ],
         "yaxis": "y"
        },
        {
         "hovertemplate": "x=%{x}<br>y=%{y}<extra></extra>",
         "line": {
          "color": "#64B5F6",
          "width": 3
         },
         "marker": {
          "color": "#64B5F6",
          "size": 7
         },
         "mode": "lines+markers",
         "showlegend": false,
         "type": "scatter",
         "x": [
          37,
          38
         ],
         "xaxis": "x",
         "y": [
          6.761121606826782,
          7.2660193800926205
         ],
         "yaxis": "y"
        },
        {
         "hovertemplate": "x=%{x}<br>y=%{y}<extra></extra>",
         "line": {
          "color": "#64B5F6",
          "width": 3
         },
         "marker": {
          "color": "#64B5F6",
          "size": 7
         },
         "mode": "lines+markers",
         "showlegend": false,
         "type": "scatter",
         "x": [
          32,
          33
         ],
         "xaxis": "x",
         "y": [
          7.192663836479187,
          7.578986573219299
         ],
         "yaxis": "y"
        },
        {
         "hovertemplate": "x=%{x}<br>y=%{y}<extra></extra>",
         "line": {
          "color": "#64B5F6",
          "width": 3
         },
         "marker": {
          "color": "#64B5F6",
          "size": 7
         },
         "mode": "lines+markers",
         "showlegend": false,
         "type": "scatter",
         "x": [
          30,
          31
         ],
         "xaxis": "x",
         "y": [
          5.826833367347717,
          6.588436543941498
         ],
         "yaxis": "y"
        },
        {
         "hovertemplate": "x=%{x}<br>y=%{y}<extra></extra>",
         "line": {
          "color": "#64B5F6",
          "width": 3
         },
         "marker": {
          "color": "#64B5F6",
          "size": 7
         },
         "mode": "lines+markers",
         "showlegend": false,
         "type": "scatter",
         "x": [
          25,
          26
         ],
         "xaxis": "x",
         "y": [
          5.152987241744995,
          5.348798334598541
         ],
         "yaxis": "y"
        },
        {
         "hovertemplate": "x=%{x}<br>y=%{y}<extra></extra>",
         "line": {
          "color": "#64B5F6",
          "width": 3
         },
         "marker": {
          "color": "#64B5F6",
          "size": 7
         },
         "mode": "lines+markers",
         "showlegend": false,
         "type": "scatter",
         "x": [
          20,
          21
         ],
         "xaxis": "x",
         "y": [
          4.873978972434998,
          4.901553153991699
         ],
         "yaxis": "y"
        },
        {
         "hovertemplate": "x=%{x}<br>y=%{y}<extra></extra>",
         "line": {
          "color": "#64B5F6",
          "width": 3
         },
         "marker": {
          "color": "#64B5F6",
          "size": 7
         },
         "mode": "lines+markers",
         "showlegend": false,
         "type": "scatter",
         "x": [
          16,
          17
         ],
         "xaxis": "x",
         "y": [
          3.465091037750244,
          3.908932852745056
         ],
         "yaxis": "y"
        },
        {
         "hovertemplate": "x=%{x}<br>y=%{y}<extra></extra>",
         "line": {
          "color": "#64B5F6",
          "width": 3
         },
         "marker": {
          "color": "#64B5F6",
          "size": 7
         },
         "mode": "lines+markers",
         "showlegend": false,
         "type": "scatter",
         "x": [
          9,
          10
         ],
         "xaxis": "x",
         "y": [
          1.2248956561088562,
          1.7347310185432434
         ],
         "yaxis": "y"
        },
        {
         "hovertemplate": "x=%{x}<br>y=%{y}<extra></extra>",
         "line": {
          "color": "#64B5F6",
          "width": 3
         },
         "marker": {
          "color": "#64B5F6",
          "size": 7
         },
         "mode": "lines+markers",
         "showlegend": false,
         "type": "scatter",
         "x": [
          6,
          7
         ],
         "xaxis": "x",
         "y": [
          0.33809101581573486,
          0.8175023794174194
         ],
         "yaxis": "y"
        },
        {
         "hovertemplate": "x=%{x}<br>y=%{y}<extra></extra>",
         "line": {
          "color": "#64B5F6",
          "width": 3
         },
         "marker": {
          "color": "#64B5F6",
          "size": 7
         },
         "mode": "lines+markers",
         "showlegend": false,
         "type": "scatter",
         "x": [
          2,
          3
         ],
         "xaxis": "x",
         "y": [
          0.4797472357749939,
          1.7522464394569397
         ],
         "yaxis": "y"
        },
        {
         "hovertemplate": "x=%{x}<br>y=%{y}<extra></extra>",
         "line": {
          "color": "#64B5F6",
          "width": 3
         },
         "marker": {
          "color": "#64B5F6",
          "size": 7
         },
         "mode": "lines+markers",
         "showlegend": false,
         "type": "scatter",
         "x": [
          0,
          1
         ],
         "xaxis": "x",
         "y": [
          0,
          0.1653410792350769
         ],
         "yaxis": "y"
        },
        {
         "hovertemplate": "x=%{x}<br>y=%{y}<extra></extra>",
         "line": {
          "color": "#ff8fab",
          "width": 3
         },
         "marker": {
          "color": "#ff8fab",
          "size": 7
         },
         "mode": "lines+markers",
         "showlegend": false,
         "type": "scatter",
         "x": [
          111,
          112
         ],
         "xaxis": "x",
         "y": [
          16.772280061244963,
          17.476905786991118
         ],
         "yaxis": "y"
        },
        {
         "hovertemplate": "x=%{x}<br>y=%{y}<extra></extra>",
         "line": {
          "color": "#ff8fab",
          "width": 3
         },
         "marker": {
          "color": "#ff8fab",
          "size": 7
         },
         "mode": "lines+markers",
         "showlegend": false,
         "type": "scatter",
         "x": [
          109,
          110
         ],
         "xaxis": "x",
         "y": [
          15.531006753444672,
          15.95794781446457
         ],
         "yaxis": "y"
        },
        {
         "hovertemplate": "x=%{x}<br>y=%{y}<extra></extra>",
         "line": {
          "color": "#ff8fab",
          "width": 3
         },
         "marker": {
          "color": "#ff8fab",
          "size": 7
         },
         "mode": "lines+markers",
         "showlegend": false,
         "type": "scatter",
         "x": [
          106,
          107
         ],
         "xaxis": "x",
         "y": [
          15.734720230102539,
          16.097572362422945
         ],
         "yaxis": "y"
        },
        {
         "hovertemplate": "x=%{x}<br>y=%{y}<extra></extra>",
         "line": {
          "color": "#ff8fab",
          "width": 3
         },
         "marker": {
          "color": "#ff8fab",
          "size": 7
         },
         "mode": "lines+markers",
         "showlegend": false,
         "type": "scatter",
         "x": [
          100,
          101
         ],
         "xaxis": "x",
         "y": [
          13.240577280521393,
          13.762448704242706
         ],
         "yaxis": "y"
        },
        {
         "hovertemplate": "x=%{x}<br>y=%{y}<extra></extra>",
         "line": {
          "color": "#ff8fab",
          "width": 3
         },
         "marker": {
          "color": "#ff8fab",
          "size": 7
         },
         "mode": "lines+markers",
         "showlegend": false,
         "type": "scatter",
         "x": [
          96,
          97
         ],
         "xaxis": "x",
         "y": [
          14.179419314861299,
          14.627448856830599
         ],
         "yaxis": "y"
        },
        {
         "hovertemplate": "x=%{x}<br>y=%{y}<extra></extra>",
         "line": {
          "color": "#ff8fab",
          "width": 3
         },
         "marker": {
          "color": "#ff8fab",
          "size": 7
         },
         "mode": "lines+markers",
         "showlegend": false,
         "type": "scatter",
         "x": [
          94,
          95
         ],
         "xaxis": "x",
         "y": [
          13.52705900669098,
          13.880656039714815
         ],
         "yaxis": "y"
        },
        {
         "hovertemplate": "x=%{x}<br>y=%{y}<extra></extra>",
         "line": {
          "color": "#ff8fab",
          "width": 3
         },
         "marker": {
          "color": "#ff8fab",
          "size": 7
         },
         "mode": "lines+markers",
         "showlegend": false,
         "type": "scatter",
         "x": [
          92,
          93
         ],
         "xaxis": "x",
         "y": [
          12.267082512378693,
          12.724691319465638
         ],
         "yaxis": "y"
        },
        {
         "hovertemplate": "x=%{x}<br>y=%{y}<extra></extra>",
         "line": {
          "color": "#ff8fab",
          "width": 3
         },
         "marker": {
          "color": "#ff8fab",
          "size": 7
         },
         "mode": "lines+markers",
         "showlegend": false,
         "type": "scatter",
         "x": [
          89,
          90
         ],
         "xaxis": "x",
         "y": [
          12.54546810388565,
          12.941545152664183
         ],
         "yaxis": "y"
        },
        {
         "hovertemplate": "x=%{x}<br>y=%{y}<extra></extra>",
         "line": {
          "color": "#ff8fab",
          "width": 3
         },
         "marker": {
          "color": "#ff8fab",
          "size": 7
         },
         "mode": "lines+markers",
         "showlegend": false,
         "type": "scatter",
         "x": [
          87,
          88
         ],
         "xaxis": "x",
         "y": [
          11.364822685718536,
          11.780672562122344
         ],
         "yaxis": "y"
        },
        {
         "hovertemplate": "x=%{x}<br>y=%{y}<extra></extra>",
         "line": {
          "color": "#ff8fab",
          "width": 3
         },
         "marker": {
          "color": "#ff8fab",
          "size": 7
         },
         "mode": "lines+markers",
         "showlegend": false,
         "type": "scatter",
         "x": [
          84,
          85
         ],
         "xaxis": "x",
         "y": [
          11.482129693031311,
          11.769583225250244
         ],
         "yaxis": "y"
        },
        {
         "hovertemplate": "x=%{x}<br>y=%{y}<extra></extra>",
         "line": {
          "color": "#ff8fab",
          "width": 3
         },
         "marker": {
          "color": "#ff8fab",
          "size": 7
         },
         "mode": "lines+markers",
         "showlegend": false,
         "type": "scatter",
         "x": [
          76,
          77
         ],
         "xaxis": "x",
         "y": [
          11.507342278957367,
          12.137871360778808
         ],
         "yaxis": "y"
        },
        {
         "hovertemplate": "x=%{x}<br>y=%{y}<extra></extra>",
         "line": {
          "color": "#ff8fab",
          "width": 3
         },
         "marker": {
          "color": "#ff8fab",
          "size": 7
         },
         "mode": "lines+markers",
         "showlegend": false,
         "type": "scatter",
         "x": [
          72,
          73
         ],
         "xaxis": "x",
         "y": [
          9.986338555812836,
          10.588789784908295
         ],
         "yaxis": "y"
        },
        {
         "hovertemplate": "x=%{x}<br>y=%{y}<extra></extra>",
         "line": {
          "color": "#ff8fab",
          "width": 3
         },
         "marker": {
          "color": "#ff8fab",
          "size": 7
         },
         "mode": "lines+markers",
         "showlegend": false,
         "type": "scatter",
         "x": [
          68,
          69
         ],
         "xaxis": "x",
         "y": [
          10.062988984584809,
          10.470829391479493
         ],
         "yaxis": "y"
        },
        {
         "hovertemplate": "x=%{x}<br>y=%{y}<extra></extra>",
         "line": {
          "color": "#ff8fab",
          "width": 3
         },
         "marker": {
          "color": "#ff8fab",
          "size": 7
         },
         "mode": "lines+markers",
         "showlegend": false,
         "type": "scatter",
         "x": [
          66,
          67
         ],
         "xaxis": "x",
         "y": [
          8.892342627048492,
          9.278001654148103
         ],
         "yaxis": "y"
        },
        {
         "hovertemplate": "x=%{x}<br>y=%{y}<extra></extra>",
         "line": {
          "color": "#ff8fab",
          "width": 3
         },
         "marker": {
          "color": "#ff8fab",
          "size": 7
         },
         "mode": "lines+markers",
         "showlegend": false,
         "type": "scatter",
         "x": [
          64,
          65
         ],
         "xaxis": "x",
         "y": [
          8.898531579971314,
          9.137479853630065
         ],
         "yaxis": "y"
        },
        {
         "hovertemplate": "x=%{x}<br>y=%{y}<extra></extra>",
         "line": {
          "color": "#ff8fab",
          "width": 3
         },
         "marker": {
          "color": "#ff8fab",
          "size": 7
         },
         "mode": "lines+markers",
         "showlegend": false,
         "type": "scatter",
         "x": [
          62,
          63
         ],
         "xaxis": "x",
         "y": [
          8.671305239200592,
          9.015097105503083
         ],
         "yaxis": "y"
        },
        {
         "hovertemplate": "x=%{x}<br>y=%{y}<extra></extra>",
         "line": {
          "color": "#ff8fab",
          "width": 3
         },
         "marker": {
          "color": "#ff8fab",
          "size": 7
         },
         "mode": "lines+markers",
         "showlegend": false,
         "type": "scatter",
         "x": [
          60,
          61
         ],
         "xaxis": "x",
         "y": [
          12.673299813270567,
          13.051345086097715
         ],
         "yaxis": "y"
        },
        {
         "hovertemplate": "x=%{x}<br>y=%{y}<extra></extra>",
         "line": {
          "color": "#ff8fab",
          "width": 3
         },
         "marker": {
          "color": "#ff8fab",
          "size": 7
         },
         "mode": "lines+markers",
         "showlegend": false,
         "type": "scatter",
         "x": [
          58,
          59
         ],
         "xaxis": "x",
         "y": [
          11.581370508670807,
          11.866200828552245
         ],
         "yaxis": "y"
        },
        {
         "hovertemplate": "x=%{x}<br>y=%{y}<extra></extra>",
         "line": {
          "color": "#ff8fab",
          "width": 3
         },
         "marker": {
          "color": "#ff8fab",
          "size": 7
         },
         "mode": "lines+markers",
         "showlegend": false,
         "type": "scatter",
         "x": [
          56,
          57
         ],
         "xaxis": "x",
         "y": [
          10.98404324054718,
          11.245706713199615
         ],
         "yaxis": "y"
        },
        {
         "hovertemplate": "x=%{x}<br>y=%{y}<extra></extra>",
         "line": {
          "color": "#ff8fab",
          "width": 3
         },
         "marker": {
          "color": "#ff8fab",
          "size": 7
         },
         "mode": "lines+markers",
         "showlegend": false,
         "type": "scatter",
         "x": [
          54,
          55
         ],
         "xaxis": "x",
         "y": [
          9.355812907218933,
          9.977361023426056
         ],
         "yaxis": "y"
        },
        {
         "hovertemplate": "x=%{x}<br>y=%{y}<extra></extra>",
         "line": {
          "color": "#ff8fab",
          "width": 3
         },
         "marker": {
          "color": "#ff8fab",
          "size": 7
         },
         "mode": "lines+markers",
         "showlegend": false,
         "type": "scatter",
         "x": [
          53,
          54
         ],
         "xaxis": "x",
         "y": [
          8.730185389518738,
          9.355812907218933
         ],
         "yaxis": "y"
        },
        {
         "hovertemplate": "x=%{x}<br>y=%{y}<extra></extra>",
         "line": {
          "color": "#ff8fab",
          "width": 3
         },
         "marker": {
          "color": "#ff8fab",
          "size": 7
         },
         "mode": "lines+markers",
         "showlegend": false,
         "type": "scatter",
         "x": [
          50,
          51
         ],
         "xaxis": "x",
         "y": [
          7.937390089035034,
          8.392527532577514
         ],
         "yaxis": "y"
        },
        {
         "hovertemplate": "x=%{x}<br>y=%{y}<extra></extra>",
         "line": {
          "color": "#ff8fab",
          "width": 3
         },
         "marker": {
          "color": "#ff8fab",
          "size": 7
         },
         "mode": "lines+markers",
         "showlegend": false,
         "type": "scatter",
         "x": [
          47,
          48
         ],
         "xaxis": "x",
         "y": [
          8.268154501914978,
          8.561744856834412
         ],
         "yaxis": "y"
        },
        {
         "hovertemplate": "x=%{x}<br>y=%{y}<extra></extra>",
         "line": {
          "color": "#ff8fab",
          "width": 3
         },
         "marker": {
          "color": "#ff8fab",
          "size": 7
         },
         "mode": "lines+markers",
         "showlegend": false,
         "type": "scatter",
         "x": [
          45,
          46
         ],
         "xaxis": "x",
         "y": [
          7.637452960014343,
          8.03374058008194
         ],
         "yaxis": "y"
        },
        {
         "hovertemplate": "x=%{x}<br>y=%{y}<extra></extra>",
         "line": {
          "color": "#ff8fab",
          "width": 3
         },
         "marker": {
          "color": "#ff8fab",
          "size": 7
         },
         "mode": "lines+markers",
         "showlegend": false,
         "type": "scatter",
         "x": [
          43,
          44
         ],
         "xaxis": "x",
         "y": [
          7.348821461200714,
          7.726563835144043
         ],
         "yaxis": "y"
        },
        {
         "hovertemplate": "x=%{x}<br>y=%{y}<extra></extra>",
         "line": {
          "color": "#ff8fab",
          "width": 3
         },
         "marker": {
          "color": "#ff8fab",
          "size": 7
         },
         "mode": "lines+markers",
         "showlegend": false,
         "type": "scatter",
         "x": [
          41,
          42
         ],
         "xaxis": "x",
         "y": [
          6.938440561294556,
          7.37410535812378
         ],
         "yaxis": "y"
        },
        {
         "hovertemplate": "x=%{x}<br>y=%{y}<extra></extra>",
         "line": {
          "color": "#ff8fab",
          "width": 3
         },
         "marker": {
          "color": "#ff8fab",
          "size": 7
         },
         "mode": "lines+markers",
         "showlegend": false,
         "type": "scatter",
         "x": [
          38,
          39
         ],
         "xaxis": "x",
         "y": [
          7.2660193800926205,
          7.632882595062256
         ],
         "yaxis": "y"
        },
        {
         "hovertemplate": "x=%{x}<br>y=%{y}<extra></extra>",
         "line": {
          "color": "#ff8fab",
          "width": 3
         },
         "marker": {
          "color": "#ff8fab",
          "size": 7
         },
         "mode": "lines+markers",
         "showlegend": false,
         "type": "scatter",
         "x": [
          36,
          37
         ],
         "xaxis": "x",
         "y": [
          6.435437858104706,
          6.761121606826782
         ],
         "yaxis": "y"
        },
        {
         "hovertemplate": "x=%{x}<br>y=%{y}<extra></extra>",
         "line": {
          "color": "#ff8fab",
          "width": 3
         },
         "marker": {
          "color": "#ff8fab",
          "size": 7
         },
         "mode": "lines+markers",
         "showlegend": false,
         "type": "scatter",
         "x": [
          33,
          34
         ],
         "xaxis": "x",
         "y": [
          7.578986573219299,
          8.179589760303497
         ],
         "yaxis": "y"
        },
        {
         "hovertemplate": "x=%{x}<br>y=%{y}<extra></extra>",
         "line": {
          "color": "#ff8fab",
          "width": 3
         },
         "marker": {
          "color": "#ff8fab",
          "size": 7
         },
         "mode": "lines+markers",
         "showlegend": false,
         "type": "scatter",
         "x": [
          31,
          32
         ],
         "xaxis": "x",
         "y": [
          6.588436543941498,
          7.192663836479187
         ],
         "yaxis": "y"
        },
        {
         "hovertemplate": "x=%{x}<br>y=%{y}<extra></extra>",
         "line": {
          "color": "#ff8fab",
          "width": 3
         },
         "marker": {
          "color": "#ff8fab",
          "size": 7
         },
         "mode": "lines+markers",
         "showlegend": false,
         "type": "scatter",
         "x": [
          26,
          27
         ],
         "xaxis": "x",
         "y": [
          5.348798334598541,
          5.666995775699616
         ],
         "yaxis": "y"
        },
        {
         "hovertemplate": "x=%{x}<br>y=%{y}<extra></extra>",
         "line": {
          "color": "#ff8fab",
          "width": 3
         },
         "marker": {
          "color": "#ff8fab",
          "size": 7
         },
         "mode": "lines+markers",
         "showlegend": false,
         "type": "scatter",
         "x": [
          21,
          22
         ],
         "xaxis": "x",
         "y": [
          4.901553153991699,
          5.209320807456971
         ],
         "yaxis": "y"
        },
        {
         "hovertemplate": "x=%{x}<br>y=%{y}<extra></extra>",
         "line": {
          "color": "#ff8fab",
          "width": 3
         },
         "marker": {
          "color": "#ff8fab",
          "size": 7
         },
         "mode": "lines+markers",
         "showlegend": false,
         "type": "scatter",
         "x": [
          17,
          18
         ],
         "xaxis": "x",
         "y": [
          3.908932852745056,
          4.236561489105224
         ],
         "yaxis": "y"
        },
        {
         "hovertemplate": "x=%{x}<br>y=%{y}<extra></extra>",
         "line": {
          "color": "#ff8fab",
          "width": 3
         },
         "marker": {
          "color": "#ff8fab",
          "size": 7
         },
         "mode": "lines+markers",
         "showlegend": false,
         "type": "scatter",
         "x": [
          15,
          16
         ],
         "xaxis": "x",
         "y": [
          3.1376782059669495,
          3.465091037750244
         ],
         "yaxis": "y"
        },
        {
         "hovertemplate": "x=%{x}<br>y=%{y}<extra></extra>",
         "line": {
          "color": "#ff8fab",
          "width": 3
         },
         "marker": {
          "color": "#ff8fab",
          "size": 7
         },
         "mode": "lines+markers",
         "showlegend": false,
         "type": "scatter",
         "x": [
          10,
          11
         ],
         "xaxis": "x",
         "y": [
          1.7347310185432434,
          2.1823999881744385
         ],
         "yaxis": "y"
        },
        {
         "hovertemplate": "x=%{x}<br>y=%{y}<extra></extra>",
         "line": {
          "color": "#ff8fab",
          "width": 3
         },
         "marker": {
          "color": "#ff8fab",
          "size": 7
         },
         "mode": "lines+markers",
         "showlegend": false,
         "type": "scatter",
         "x": [
          7,
          8
         ],
         "xaxis": "x",
         "y": [
          0.8175023794174194,
          1.1664929866790772
         ],
         "yaxis": "y"
        },
        {
         "hovertemplate": "x=%{x}<br>y=%{y}<extra></extra>",
         "line": {
          "color": "#ff8fab",
          "width": 3
         },
         "marker": {
          "color": "#ff8fab",
          "size": 7
         },
         "mode": "lines+markers",
         "showlegend": false,
         "type": "scatter",
         "x": [
          4,
          5
         ],
         "xaxis": "x",
         "y": [
          2.088613986968994,
          1.6784583806991578
         ],
         "yaxis": "y"
        },
        {
         "hovertemplate": "x=%{x}<br>y=%{y}<extra></extra>",
         "line": {
          "color": "#ff8fab",
          "width": 3
         },
         "marker": {
          "color": "#ff8fab",
          "size": 7
         },
         "mode": "lines+markers",
         "showlegend": false,
         "type": "scatter",
         "x": [
          3,
          4
         ],
         "xaxis": "x",
         "y": [
          1.7522464394569397,
          2.088613986968994
         ],
         "yaxis": "y"
        },
        {
         "hovertemplate": "x=%{x}<br>y=%{y}<extra></extra>",
         "line": {
          "color": "#ff8fab",
          "width": 3
         },
         "marker": {
          "color": "#ff8fab",
          "size": 7
         },
         "mode": "lines+markers",
         "showlegend": false,
         "type": "scatter",
         "x": [
          1,
          2
         ],
         "xaxis": "x",
         "y": [
          0.1653410792350769,
          0.4797472357749939
         ],
         "yaxis": "y"
        },
        {
         "hovertemplate": "x=%{x}<br>y=%{y}<extra></extra>",
         "line": {
          "color": "#023e8a",
          "width": 3
         },
         "marker": {
          "color": "#023e8a",
          "size": 7
         },
         "mode": "lines+markers",
         "showlegend": false,
         "type": "scatter",
         "x": [
          116,
          117
         ],
         "xaxis": "x",
         "y": [
          17.85087412595749,
          18.263800501823425
         ],
         "yaxis": "y"
        },
        {
         "hovertemplate": "x=%{x}<br>y=%{y}<extra></extra>",
         "line": {
          "color": "#023e8a",
          "width": 3
         },
         "marker": {
          "color": "#023e8a",
          "size": 7
         },
         "mode": "lines+markers",
         "showlegend": false,
         "type": "scatter",
         "x": [
          114,
          115
         ],
         "xaxis": "x",
         "y": [
          18.142395198345184,
          18.876973152160645
         ],
         "yaxis": "y"
        },
        {
         "hovertemplate": "x=%{x}<br>y=%{y}<extra></extra>",
         "line": {
          "color": "#023e8a",
          "width": 3
         },
         "marker": {
          "color": "#023e8a",
          "size": 7
         },
         "mode": "lines+markers",
         "showlegend": false,
         "type": "scatter",
         "x": [
          113,
          114
         ],
         "xaxis": "x",
         "y": [
          17.55399376153946,
          18.142395198345184
         ],
         "yaxis": "y"
        },
        {
         "hovertemplate": "x=%{x}<br>y=%{y}<extra></extra>",
         "line": {
          "color": "#023e8a",
          "width": 3
         },
         "marker": {
          "color": "#023e8a",
          "size": 7
         },
         "mode": "lines+markers",
         "showlegend": false,
         "type": "scatter",
         "x": [
          108,
          109
         ],
         "xaxis": "x",
         "y": [
          15.21448665857315,
          15.531006753444672
         ],
         "yaxis": "y"
        },
        {
         "hovertemplate": "x=%{x}<br>y=%{y}<extra></extra>",
         "line": {
          "color": "#023e8a",
          "width": 3
         },
         "marker": {
          "color": "#023e8a",
          "size": 7
         },
         "mode": "lines+markers",
         "showlegend": false,
         "type": "scatter",
         "x": [
          103,
          104
         ],
         "xaxis": "x",
         "y": [
          15.386212706565857,
          15.960575699806213
         ],
         "yaxis": "y"
        },
        {
         "hovertemplate": "x=%{x}<br>y=%{y}<extra></extra>",
         "line": {
          "color": "#023e8a",
          "width": 3
         },
         "marker": {
          "color": "#023e8a",
          "size": 7
         },
         "mode": "lines+markers",
         "showlegend": false,
         "type": "scatter",
         "x": [
          102,
          103
         ],
         "xaxis": "x",
         "y": [
          14.875674664974213,
          15.386212706565857
         ],
         "yaxis": "y"
        },
        {
         "hovertemplate": "x=%{x}<br>y=%{y}<extra></extra>",
         "line": {
          "color": "#023e8a",
          "width": 3
         },
         "marker": {
          "color": "#023e8a",
          "size": 7
         },
         "mode": "lines+markers",
         "showlegend": false,
         "type": "scatter",
         "x": [
          99,
          100
         ],
         "xaxis": "x",
         "y": [
          12.96329391002655,
          13.240577280521393
         ],
         "yaxis": "y"
        },
        {
         "hovertemplate": "x=%{x}<br>y=%{y}<extra></extra>",
         "line": {
          "color": "#023e8a",
          "width": 3
         },
         "marker": {
          "color": "#023e8a",
          "size": 7
         },
         "mode": "lines+markers",
         "showlegend": false,
         "type": "scatter",
         "x": [
          98,
          99
         ],
         "xaxis": "x",
         "y": [
          12.623464047908783,
          12.96329391002655
         ],
         "yaxis": "y"
        },
        {
         "hovertemplate": "x=%{x}<br>y=%{y}<extra></extra>",
         "line": {
          "color": "#023e8a",
          "width": 3
         },
         "marker": {
          "color": "#023e8a",
          "size": 7
         },
         "mode": "lines+markers",
         "showlegend": false,
         "type": "scatter",
         "x": [
          85,
          86
         ],
         "xaxis": "x",
         "y": [
          11.281408131122589,
          11.64402687549591
         ],
         "yaxis": "y"
        },
        {
         "hovertemplate": "x=%{x}<br>y=%{y}<extra></extra>",
         "line": {
          "color": "#023e8a",
          "width": 3
         },
         "marker": {
          "color": "#023e8a",
          "size": 7
         },
         "mode": "lines+markers",
         "showlegend": false,
         "type": "scatter",
         "x": [
          82,
          83
         ],
         "xaxis": "x",
         "y": [
          10.635804533958435,
          11.281408131122589
         ],
         "yaxis": "y"
        },
        {
         "hovertemplate": "x=%{x}<br>y=%{y}<extra></extra>",
         "line": {
          "color": "#023e8a",
          "width": 3
         },
         "marker": {
          "color": "#023e8a",
          "size": 7
         },
         "mode": "lines+markers",
         "showlegend": false,
         "type": "scatter",
         "x": [
          80,
          81
         ],
         "xaxis": "x",
         "y": [
          10.407268404960632,
          10.635804533958435
         ],
         "yaxis": "y"
        },
        {
         "hovertemplate": "x=%{x}<br>y=%{y}<extra></extra>",
         "line": {
          "color": "#023e8a",
          "width": 3
         },
         "marker": {
          "color": "#023e8a",
          "size": 7
         },
         "mode": "lines+markers",
         "showlegend": false,
         "type": "scatter",
         "x": [
          79,
          80
         ],
         "xaxis": "x",
         "y": [
          9.761664807796478,
          10.407268404960632
         ],
         "yaxis": "y"
        },
        {
         "hovertemplate": "x=%{x}<br>y=%{y}<extra></extra>",
         "line": {
          "color": "#023e8a",
          "width": 3
         },
         "marker": {
          "color": "#023e8a",
          "size": 7
         },
         "mode": "lines+markers",
         "showlegend": false,
         "type": "scatter",
         "x": [
          74,
          75
         ],
         "xaxis": "x",
         "y": [
          10.156447768211365,
          10.695300459861755
         ],
         "yaxis": "y"
        },
        {
         "hovertemplate": "x=%{x}<br>y=%{y}<extra></extra>",
         "line": {
          "color": "#023e8a",
          "width": 3
         },
         "marker": {
          "color": "#023e8a",
          "size": 7
         },
         "mode": "lines+markers",
         "showlegend": false,
         "type": "scatter",
         "x": [
          70,
          71
         ],
         "xaxis": "x",
         "y": [
          9.325736701488495,
          9.617595076560974
         ],
         "yaxis": "y"
        },
        {
         "hovertemplate": "x=%{x}<br>y=%{y}<extra></extra>",
         "line": {
          "color": "#023e8a",
          "width": 3
         },
         "marker": {
          "color": "#023e8a",
          "size": 7
         },
         "mode": "lines+markers",
         "showlegend": false,
         "type": "scatter",
         "x": [
          44,
          45
         ],
         "xaxis": "x",
         "y": [
          7.348821461200714,
          7.637452960014343
         ],
         "yaxis": "y"
        },
        {
         "hovertemplate": "x=%{x}<br>y=%{y}<extra></extra>",
         "line": {
          "color": "#023e8a",
          "width": 3
         },
         "marker": {
          "color": "#023e8a",
          "size": 7
         },
         "mode": "lines+markers",
         "showlegend": false,
         "type": "scatter",
         "x": [
          40,
          41
         ],
         "xaxis": "x",
         "y": [
          6.822689890861511,
          6.938440561294556
         ],
         "yaxis": "y"
        },
        {
         "hovertemplate": "x=%{x}<br>y=%{y}<extra></extra>",
         "line": {
          "color": "#023e8a",
          "width": 3
         },
         "marker": {
          "color": "#023e8a",
          "size": 7
         },
         "mode": "lines+markers",
         "showlegend": false,
         "type": "scatter",
         "x": [
          35,
          36
         ],
         "xaxis": "x",
         "y": [
          5.91508013010025,
          6.435437858104706
         ],
         "yaxis": "y"
        },
        {
         "hovertemplate": "x=%{x}<br>y=%{y}<extra></extra>",
         "line": {
          "color": "#023e8a",
          "width": 3
         },
         "marker": {
          "color": "#023e8a",
          "size": 7
         },
         "mode": "lines+markers",
         "showlegend": false,
         "type": "scatter",
         "x": [
          29,
          30
         ],
         "xaxis": "x",
         "y": [
          5.512849390506744,
          5.826833367347717
         ],
         "yaxis": "y"
        },
        {
         "hovertemplate": "x=%{x}<br>y=%{y}<extra></extra>",
         "line": {
          "color": "#023e8a",
          "width": 3
         },
         "marker": {
          "color": "#023e8a",
          "size": 7
         },
         "mode": "lines+markers",
         "showlegend": false,
         "type": "scatter",
         "x": [
          28,
          29
         ],
         "xaxis": "x",
         "y": [
          5.3727317452430725,
          5.512849390506744
         ],
         "yaxis": "y"
        },
        {
         "hovertemplate": "x=%{x}<br>y=%{y}<extra></extra>",
         "line": {
          "color": "#023e8a",
          "width": 3
         },
         "marker": {
          "color": "#023e8a",
          "size": 7
         },
         "mode": "lines+markers",
         "showlegend": false,
         "type": "scatter",
         "x": [
          27,
          28
         ],
         "xaxis": "x",
         "y": [
          5.152987241744995,
          5.3727317452430725
         ],
         "yaxis": "y"
        },
        {
         "hovertemplate": "x=%{x}<br>y=%{y}<extra></extra>",
         "line": {
          "color": "#023e8a",
          "width": 3
         },
         "marker": {
          "color": "#023e8a",
          "size": 7
         },
         "mode": "lines+markers",
         "showlegend": false,
         "type": "scatter",
         "x": [
          22,
          23
         ],
         "xaxis": "x",
         "y": [
          4.873978972434998,
          5.152987241744995
         ],
         "yaxis": "y"
        },
        {
         "hovertemplate": "x=%{x}<br>y=%{y}<extra></extra>",
         "line": {
          "color": "#023e8a",
          "width": 3
         },
         "marker": {
          "color": "#023e8a",
          "size": 7
         },
         "mode": "lines+markers",
         "showlegend": false,
         "type": "scatter",
         "x": [
          18,
          19
         ],
         "xaxis": "x",
         "y": [
          3.1376782059669495,
          3.5820091366767883
         ],
         "yaxis": "y"
        },
        {
         "hovertemplate": "x=%{x}<br>y=%{y}<extra></extra>",
         "line": {
          "color": "#023e8a",
          "width": 3
         },
         "marker": {
          "color": "#023e8a",
          "size": 7
         },
         "mode": "lines+markers",
         "showlegend": false,
         "type": "scatter",
         "x": [
          14,
          15
         ],
         "xaxis": "x",
         "y": [
          2.9686931371688843,
          3.1376782059669495
         ],
         "yaxis": "y"
        },
        {
         "hovertemplate": "x=%{x}<br>y=%{y}<extra></extra>",
         "line": {
          "color": "#023e8a",
          "width": 3
         },
         "marker": {
          "color": "#023e8a",
          "size": 7
         },
         "mode": "lines+markers",
         "showlegend": false,
         "type": "scatter",
         "x": [
          13,
          14
         ],
         "xaxis": "x",
         "y": [
          2.500870108604431,
          2.9686931371688843
         ],
         "yaxis": "y"
        },
        {
         "hovertemplate": "x=%{x}<br>y=%{y}<extra></extra>",
         "line": {
          "color": "#023e8a",
          "width": 3
         },
         "marker": {
          "color": "#023e8a",
          "size": 7
         },
         "mode": "lines+markers",
         "showlegend": false,
         "type": "scatter",
         "x": [
          11,
          12
         ],
         "xaxis": "x",
         "y": [
          1.2248956561088562,
          1.8202860355377197
         ],
         "yaxis": "y"
        },
        {
         "hovertemplate": "x=%{x}<br>y=%{y}<extra></extra>",
         "line": {
          "color": "#c1121f",
          "width": 3
         },
         "marker": {
          "color": "#c1121f",
          "size": 7
         },
         "mode": "lines+markers",
         "showlegend": false,
         "type": "scatter",
         "x": [
          112,
          113
         ],
         "xaxis": "x",
         "y": [
          15.531006753444672,
          17.55399376153946
         ],
         "yaxis": "y"
        },
        {
         "hovertemplate": "x=%{x}<br>y=%{y}<extra></extra>",
         "line": {
          "color": "#c1121f",
          "width": 3
         },
         "marker": {
          "color": "#c1121f",
          "size": 7
         },
         "mode": "lines+markers",
         "showlegend": false,
         "type": "scatter",
         "x": [
          107,
          108
         ],
         "xaxis": "x",
         "y": [
          14.89796656370163,
          15.21448665857315
         ],
         "yaxis": "y"
        },
        {
         "hovertemplate": "x=%{x}<br>y=%{y}<extra></extra>",
         "line": {
          "color": "#c1121f",
          "width": 3
         },
         "marker": {
          "color": "#c1121f",
          "size": 7
         },
         "mode": "lines+markers",
         "showlegend": false,
         "type": "scatter",
         "x": [
          101,
          102
         ],
         "xaxis": "x",
         "y": [
          13.240577280521393,
          14.875674664974213
         ],
         "yaxis": "y"
        },
        {
         "hovertemplate": "x=%{x}<br>y=%{y}<extra></extra>",
         "line": {
          "color": "#c1121f",
          "width": 3
         },
         "marker": {
          "color": "#c1121f",
          "size": 7
         },
         "mode": "lines+markers",
         "showlegend": false,
         "type": "scatter",
         "x": [
          97,
          98
         ],
         "xaxis": "x",
         "y": [
          11.76549357175827,
          12.623464047908783
         ],
         "yaxis": "y"
        },
        {
         "hovertemplate": "x=%{x}<br>y=%{y}<extra></extra>",
         "line": {
          "color": "#c1121f",
          "width": 3
         },
         "marker": {
          "color": "#c1121f",
          "size": 7
         },
         "mode": "lines+markers",
         "showlegend": false,
         "type": "scatter",
         "x": [
          90,
          91
         ],
         "xaxis": "x",
         "y": [
          11.364822685718536,
          11.76549357175827
         ],
         "yaxis": "y"
        },
        {
         "hovertemplate": "x=%{x}<br>y=%{y}<extra></extra>",
         "line": {
          "color": "#c1121f",
          "width": 3
         },
         "marker": {
          "color": "#c1121f",
          "size": 7
         },
         "mode": "lines+markers",
         "showlegend": false,
         "type": "scatter",
         "x": [
          77,
          78
         ],
         "xaxis": "x",
         "y": [
          10.695300459861755,
          9.761664807796478
         ],
         "yaxis": "y"
        },
        {
         "hovertemplate": "x=%{x}<br>y=%{y}<extra></extra>",
         "line": {
          "color": "#c1121f",
          "width": 3
         },
         "marker": {
          "color": "#c1121f",
          "size": 7
         },
         "mode": "lines+markers",
         "showlegend": false,
         "type": "scatter",
         "x": [
          73,
          74
         ],
         "xaxis": "x",
         "y": [
          9.617595076560974,
          10.156447768211365
         ],
         "yaxis": "y"
        },
        {
         "hovertemplate": "x=%{x}<br>y=%{y}<extra></extra>",
         "line": {
          "color": "#c1121f",
          "width": 3
         },
         "marker": {
          "color": "#c1121f",
          "size": 7
         },
         "mode": "lines+markers",
         "showlegend": false,
         "type": "scatter",
         "x": [
          69,
          70
         ],
         "xaxis": "x",
         "y": [
          8.892342627048492,
          9.325736701488495
         ],
         "yaxis": "y"
        },
        {
         "hovertemplate": "x=%{x}<br>y=%{y}<extra></extra>",
         "line": {
          "color": "#c1121f",
          "width": 3
         },
         "marker": {
          "color": "#c1121f",
          "size": 7
         },
         "mode": "lines+markers",
         "showlegend": false,
         "type": "scatter",
         "x": [
          65,
          66
         ],
         "xaxis": "x",
         "y": [
          8.671305239200592,
          8.892342627048492
         ],
         "yaxis": "y"
        },
        {
         "hovertemplate": "x=%{x}<br>y=%{y}<extra></extra>",
         "line": {
          "color": "#c1121f",
          "width": 3
         },
         "marker": {
          "color": "#c1121f",
          "size": 7
         },
         "mode": "lines+markers",
         "showlegend": false,
         "type": "scatter",
         "x": [
          61,
          62
         ],
         "xaxis": "x",
         "y": [
          7.9803982973098755,
          8.671305239200592
         ],
         "yaxis": "y"
        },
        {
         "hovertemplate": "x=%{x}<br>y=%{y}<extra></extra>",
         "line": {
          "color": "#c1121f",
          "width": 3
         },
         "marker": {
          "color": "#c1121f",
          "size": 7
         },
         "mode": "lines+markers",
         "showlegend": false,
         "type": "scatter",
         "x": [
          51,
          52
         ],
         "xaxis": "x",
         "y": [
          7.521756589412689,
          7.9803982973098755
         ],
         "yaxis": "y"
        },
        {
         "hovertemplate": "x=%{x}<br>y=%{y}<extra></extra>",
         "line": {
          "color": "#c1121f",
          "width": 3
         },
         "marker": {
          "color": "#c1121f",
          "size": 7
         },
         "mode": "lines+markers",
         "showlegend": false,
         "type": "scatter",
         "x": [
          42,
          43
         ],
         "xaxis": "x",
         "y": [
          6.938440561294556,
          7.348821461200714
         ],
         "yaxis": "y"
        },
        {
         "hovertemplate": "x=%{x}<br>y=%{y}<extra></extra>",
         "line": {
          "color": "#c1121f",
          "width": 3
         },
         "marker": {
          "color": "#c1121f",
          "size": 7
         },
         "mode": "lines+markers",
         "showlegend": false,
         "type": "scatter",
         "x": [
          39,
          40
         ],
         "xaxis": "x",
         "y": [
          6.435437858104706,
          6.822689890861511
         ],
         "yaxis": "y"
        },
        {
         "hovertemplate": "x=%{x}<br>y=%{y}<extra></extra>",
         "line": {
          "color": "#c1121f",
          "width": 3
         },
         "marker": {
          "color": "#c1121f",
          "size": 7
         },
         "mode": "lines+markers",
         "showlegend": false,
         "type": "scatter",
         "x": [
          8,
          9
         ],
         "xaxis": "x",
         "y": [
          0.33809101581573486,
          1.2248956561088562
         ],
         "yaxis": "y"
        },
        {
         "hovertemplate": "x=%{x}<br>y=%{y}<extra></extra>",
         "line": {
          "color": "#c1121f",
          "width": 3
         },
         "marker": {
          "color": "#c1121f",
          "size": 7
         },
         "mode": "lines+markers",
         "showlegend": false,
         "type": "scatter",
         "x": [
          5,
          6
         ],
         "xaxis": "x",
         "y": [
          0,
          0.33809101581573486
         ],
         "yaxis": "y"
        },
        {
         "hovertemplate": "x=%{x}<br>y=%{y}<extra></extra>",
         "line": {
          "color": "#9d4edd",
          "width": 3
         },
         "marker": {
          "color": "#9d4edd",
          "size": 7
         },
         "mode": "lines+markers",
         "showlegend": false,
         "type": "scatter",
         "x": [
          115,
          116
         ],
         "xaxis": "x",
         "y": [
          18.876973152160645,
          17.85087412595749
         ],
         "yaxis": "y"
        },
        {
         "hovertemplate": "x=%{x}<br>y=%{y}<extra></extra>",
         "line": {
          "color": "#9d4edd",
          "width": 3
         },
         "marker": {
          "color": "#9d4edd",
          "size": 7
         },
         "mode": "lines+markers",
         "showlegend": false,
         "type": "scatter",
         "x": [
          104,
          105
         ],
         "xaxis": "x",
         "y": [
          15.960575699806213,
          14.89796656370163
         ],
         "yaxis": "y"
        },
        {
         "hovertemplate": "x=%{x}<br>y=%{y}<extra></extra>",
         "line": {
          "color": "#9d4edd",
          "width": 3
         },
         "marker": {
          "color": "#9d4edd",
          "size": 7
         },
         "mode": "lines+markers",
         "showlegend": false,
         "type": "scatter",
         "x": [
          86,
          87
         ],
         "xaxis": "x",
         "y": [
          11.64402687549591,
          11.364822685718536
         ],
         "yaxis": "y"
        },
        {
         "hovertemplate": "x=%{x}<br>y=%{y}<extra></extra>",
         "line": {
          "color": "#9d4edd",
          "width": 3
         },
         "marker": {
          "color": "#9d4edd",
          "size": 7
         },
         "mode": "lines+markers",
         "showlegend": false,
         "type": "scatter",
         "x": [
          48,
          49
         ],
         "xaxis": "x",
         "y": [
          7.637452960014343,
          7.521756589412689
         ],
         "yaxis": "y"
        },
        {
         "hovertemplate": "x=%{x}<br>y=%{y}<extra></extra>",
         "line": {
          "color": "#9d4edd",
          "width": 3
         },
         "marker": {
          "color": "#9d4edd",
          "size": 7
         },
         "mode": "lines+markers",
         "showlegend": false,
         "type": "scatter",
         "x": [
          34,
          35
         ],
         "xaxis": "x",
         "y": [
          5.826833367347717,
          5.91508013010025
         ],
         "yaxis": "y"
        },
        {
         "hovertemplate": "x=%{x}<br>y=%{y}<extra></extra>",
         "line": {
          "color": "#9d4edd",
          "width": 3
         },
         "marker": {
          "color": "#9d4edd",
          "size": 7
         },
         "mode": "lines+markers",
         "showlegend": false,
         "type": "scatter",
         "x": [
          24,
          25
         ],
         "xaxis": "x",
         "y": [
          5.152987241744995,
          5.152987241744995
         ],
         "yaxis": "y"
        },
        {
         "hovertemplate": "x=%{x}<br>y=%{y}<extra></extra>",
         "line": {
          "color": "#9d4edd",
          "width": 3
         },
         "marker": {
          "color": "#9d4edd",
          "size": 7
         },
         "mode": "lines+markers",
         "showlegend": false,
         "type": "scatter",
         "x": [
          23,
          24
         ],
         "xaxis": "x",
         "y": [
          5.152987241744995,
          5.152987241744995
         ],
         "yaxis": "y"
        },
        {
         "hovertemplate": "x=%{x}<br>y=%{y}<extra></extra>",
         "line": {
          "color": "#9d4edd",
          "width": 3
         },
         "marker": {
          "color": "#9d4edd",
          "size": 7
         },
         "mode": "lines+markers",
         "showlegend": false,
         "type": "scatter",
         "x": [
          19,
          20
         ],
         "xaxis": "x",
         "y": [
          3.5820091366767883,
          4.873978972434998
         ],
         "yaxis": "y"
        },
        {
         "hovertemplate": "x=%{x}<br>y=%{y}<extra></extra>",
         "line": {
          "color": "#9d4edd",
          "width": 3
         },
         "marker": {
          "color": "#9d4edd",
          "size": 7
         },
         "mode": "lines+markers",
         "showlegend": false,
         "type": "scatter",
         "x": [
          12,
          13
         ],
         "xaxis": "x",
         "y": [
          1.8202860355377197,
          2.500870108604431
         ],
         "yaxis": "y"
        },
        {
         "line": {
          "color": "#64B5F6",
          "width": 2
         },
         "mode": "lines",
         "name": "human_insert_backstage",
         "showlegend": true,
         "type": "scatter",
         "x": [
          null
         ],
         "xaxis": "x",
         "y": [
          null
         ],
         "yaxis": "y"
        },
        {
         "line": {
          "color": "#ff8fab",
          "width": 2
         },
         "mode": "lines",
         "name": "ai_suggest_backstage",
         "showlegend": true,
         "type": "scatter",
         "x": [
          null
         ],
         "xaxis": "x",
         "y": [
          null
         ],
         "yaxis": "y"
        },
        {
         "line": {
          "color": "#023e8a",
          "width": 2
         },
         "mode": "lines",
         "name": "human_insert_frontstage",
         "showlegend": true,
         "type": "scatter",
         "x": [
          null
         ],
         "xaxis": "x",
         "y": [
          null
         ],
         "yaxis": "y"
        },
        {
         "line": {
          "color": "#c1121f",
          "width": 2
         },
         "mode": "lines",
         "name": "ai_insert_moved_to_frontstage",
         "showlegend": true,
         "type": "scatter",
         "x": [
          null
         ],
         "xaxis": "x",
         "y": [
          null
         ],
         "yaxis": "y"
        },
        {
         "line": {
          "color": "#9d4edd",
          "width": 2
         },
         "mode": "lines",
         "name": "human_delete_frontstage",
         "showlegend": true,
         "type": "scatter",
         "x": [
          null
         ],
         "xaxis": "x",
         "y": [
          null
         ],
         "yaxis": "y"
        },
        {
         "line": {
          "color": "#5a189a",
          "width": 2
         },
         "mode": "lines",
         "name": "human_insert_edit_frontstage",
         "showlegend": true,
         "type": "scatter",
         "x": [
          null
         ],
         "xaxis": "x",
         "y": [
          null
         ],
         "yaxis": "y"
        }
       ],
       "layout": {
        "annotations": [
         {
          "font": {
           "size": 16
          },
          "showarrow": false,
          "text": "Session: legislation_antitrust_2",
          "x": 0.5,
          "xanchor": "center",
          "xref": "paper",
          "y": 1,
          "yanchor": "bottom",
          "yref": "paper"
         }
        ],
        "height": 500,
        "legend": {
         "title": {
          "font": {
           "color": "rgba(0, 0, 0, 0)"
          }
         }
        },
        "plot_bgcolor": "white",
        "showlegend": true,
        "template": {
         "data": {
          "bar": [
           {
            "error_x": {
             "color": "#2a3f5f"
            },
            "error_y": {
             "color": "#2a3f5f"
            },
            "marker": {
             "line": {
              "color": "#E5ECF6",
              "width": 0.5
             },
             "pattern": {
              "fillmode": "overlay",
              "size": 10,
              "solidity": 0.2
             }
            },
            "type": "bar"
           }
          ],
          "barpolar": [
           {
            "marker": {
             "line": {
              "color": "#E5ECF6",
              "width": 0.5
             },
             "pattern": {
              "fillmode": "overlay",
              "size": 10,
              "solidity": 0.2
             }
            },
            "type": "barpolar"
           }
          ],
          "carpet": [
           {
            "aaxis": {
             "endlinecolor": "#2a3f5f",
             "gridcolor": "white",
             "linecolor": "white",
             "minorgridcolor": "white",
             "startlinecolor": "#2a3f5f"
            },
            "baxis": {
             "endlinecolor": "#2a3f5f",
             "gridcolor": "white",
             "linecolor": "white",
             "minorgridcolor": "white",
             "startlinecolor": "#2a3f5f"
            },
            "type": "carpet"
           }
          ],
          "choropleth": [
           {
            "colorbar": {
             "outlinewidth": 0,
             "ticks": ""
            },
            "type": "choropleth"
           }
          ],
          "contour": [
           {
            "colorbar": {
             "outlinewidth": 0,
             "ticks": ""
            },
            "colorscale": [
             [
              0,
              "#0d0887"
             ],
             [
              0.1111111111111111,
              "#46039f"
             ],
             [
              0.2222222222222222,
              "#7201a8"
             ],
             [
              0.3333333333333333,
              "#9c179e"
             ],
             [
              0.4444444444444444,
              "#bd3786"
             ],
             [
              0.5555555555555556,
              "#d8576b"
             ],
             [
              0.6666666666666666,
              "#ed7953"
             ],
             [
              0.7777777777777778,
              "#fb9f3a"
             ],
             [
              0.8888888888888888,
              "#fdca26"
             ],
             [
              1,
              "#f0f921"
             ]
            ],
            "type": "contour"
           }
          ],
          "contourcarpet": [
           {
            "colorbar": {
             "outlinewidth": 0,
             "ticks": ""
            },
            "type": "contourcarpet"
           }
          ],
          "heatmap": [
           {
            "colorbar": {
             "outlinewidth": 0,
             "ticks": ""
            },
            "colorscale": [
             [
              0,
              "#0d0887"
             ],
             [
              0.1111111111111111,
              "#46039f"
             ],
             [
              0.2222222222222222,
              "#7201a8"
             ],
             [
              0.3333333333333333,
              "#9c179e"
             ],
             [
              0.4444444444444444,
              "#bd3786"
             ],
             [
              0.5555555555555556,
              "#d8576b"
             ],
             [
              0.6666666666666666,
              "#ed7953"
             ],
             [
              0.7777777777777778,
              "#fb9f3a"
             ],
             [
              0.8888888888888888,
              "#fdca26"
             ],
             [
              1,
              "#f0f921"
             ]
            ],
            "type": "heatmap"
           }
          ],
          "histogram": [
           {
            "marker": {
             "pattern": {
              "fillmode": "overlay",
              "size": 10,
              "solidity": 0.2
             }
            },
            "type": "histogram"
           }
          ],
          "histogram2d": [
           {
            "colorbar": {
             "outlinewidth": 0,
             "ticks": ""
            },
            "colorscale": [
             [
              0,
              "#0d0887"
             ],
             [
              0.1111111111111111,
              "#46039f"
             ],
             [
              0.2222222222222222,
              "#7201a8"
             ],
             [
              0.3333333333333333,
              "#9c179e"
             ],
             [
              0.4444444444444444,
              "#bd3786"
             ],
             [
              0.5555555555555556,
              "#d8576b"
             ],
             [
              0.6666666666666666,
              "#ed7953"
             ],
             [
              0.7777777777777778,
              "#fb9f3a"
             ],
             [
              0.8888888888888888,
              "#fdca26"
             ],
             [
              1,
              "#f0f921"
             ]
            ],
            "type": "histogram2d"
           }
          ],
          "histogram2dcontour": [
           {
            "colorbar": {
             "outlinewidth": 0,
             "ticks": ""
            },
            "colorscale": [
             [
              0,
              "#0d0887"
             ],
             [
              0.1111111111111111,
              "#46039f"
             ],
             [
              0.2222222222222222,
              "#7201a8"
             ],
             [
              0.3333333333333333,
              "#9c179e"
             ],
             [
              0.4444444444444444,
              "#bd3786"
             ],
             [
              0.5555555555555556,
              "#d8576b"
             ],
             [
              0.6666666666666666,
              "#ed7953"
             ],
             [
              0.7777777777777778,
              "#fb9f3a"
             ],
             [
              0.8888888888888888,
              "#fdca26"
             ],
             [
              1,
              "#f0f921"
             ]
            ],
            "type": "histogram2dcontour"
           }
          ],
          "mesh3d": [
           {
            "colorbar": {
             "outlinewidth": 0,
             "ticks": ""
            },
            "type": "mesh3d"
           }
          ],
          "parcoords": [
           {
            "line": {
             "colorbar": {
              "outlinewidth": 0,
              "ticks": ""
             }
            },
            "type": "parcoords"
           }
          ],
          "pie": [
           {
            "automargin": true,
            "type": "pie"
           }
          ],
          "scatter": [
           {
            "fillpattern": {
             "fillmode": "overlay",
             "size": 10,
             "solidity": 0.2
            },
            "type": "scatter"
           }
          ],
          "scatter3d": [
           {
            "line": {
             "colorbar": {
              "outlinewidth": 0,
              "ticks": ""
             }
            },
            "marker": {
             "colorbar": {
              "outlinewidth": 0,
              "ticks": ""
             }
            },
            "type": "scatter3d"
           }
          ],
          "scattercarpet": [
           {
            "marker": {
             "colorbar": {
              "outlinewidth": 0,
              "ticks": ""
             }
            },
            "type": "scattercarpet"
           }
          ],
          "scattergeo": [
           {
            "marker": {
             "colorbar": {
              "outlinewidth": 0,
              "ticks": ""
             }
            },
            "type": "scattergeo"
           }
          ],
          "scattergl": [
           {
            "marker": {
             "colorbar": {
              "outlinewidth": 0,
              "ticks": ""
             }
            },
            "type": "scattergl"
           }
          ],
          "scattermap": [
           {
            "marker": {
             "colorbar": {
              "outlinewidth": 0,
              "ticks": ""
             }
            },
            "type": "scattermap"
           }
          ],
          "scattermapbox": [
           {
            "marker": {
             "colorbar": {
              "outlinewidth": 0,
              "ticks": ""
             }
            },
            "type": "scattermapbox"
           }
          ],
          "scatterpolar": [
           {
            "marker": {
             "colorbar": {
              "outlinewidth": 0,
              "ticks": ""
             }
            },
            "type": "scatterpolar"
           }
          ],
          "scatterpolargl": [
           {
            "marker": {
             "colorbar": {
              "outlinewidth": 0,
              "ticks": ""
             }
            },
            "type": "scatterpolargl"
           }
          ],
          "scatterternary": [
           {
            "marker": {
             "colorbar": {
              "outlinewidth": 0,
              "ticks": ""
             }
            },
            "type": "scatterternary"
           }
          ],
          "surface": [
           {
            "colorbar": {
             "outlinewidth": 0,
             "ticks": ""
            },
            "colorscale": [
             [
              0,
              "#0d0887"
             ],
             [
              0.1111111111111111,
              "#46039f"
             ],
             [
              0.2222222222222222,
              "#7201a8"
             ],
             [
              0.3333333333333333,
              "#9c179e"
             ],
             [
              0.4444444444444444,
              "#bd3786"
             ],
             [
              0.5555555555555556,
              "#d8576b"
             ],
             [
              0.6666666666666666,
              "#ed7953"
             ],
             [
              0.7777777777777778,
              "#fb9f3a"
             ],
             [
              0.8888888888888888,
              "#fdca26"
             ],
             [
              1,
              "#f0f921"
             ]
            ],
            "type": "surface"
           }
          ],
          "table": [
           {
            "cells": {
             "fill": {
              "color": "#EBF0F8"
             },
             "line": {
              "color": "white"
             }
            },
            "header": {
             "fill": {
              "color": "#C8D4E3"
             },
             "line": {
              "color": "white"
             }
            },
            "type": "table"
           }
          ]
         },
         "layout": {
          "annotationdefaults": {
           "arrowcolor": "#2a3f5f",
           "arrowhead": 0,
           "arrowwidth": 1
          },
          "autotypenumbers": "strict",
          "coloraxis": {
           "colorbar": {
            "outlinewidth": 0,
            "ticks": ""
           }
          },
          "colorscale": {
           "diverging": [
            [
             0,
             "#8e0152"
            ],
            [
             0.1,
             "#c51b7d"
            ],
            [
             0.2,
             "#de77ae"
            ],
            [
             0.3,
             "#f1b6da"
            ],
            [
             0.4,
             "#fde0ef"
            ],
            [
             0.5,
             "#f7f7f7"
            ],
            [
             0.6,
             "#e6f5d0"
            ],
            [
             0.7,
             "#b8e186"
            ],
            [
             0.8,
             "#7fbc41"
            ],
            [
             0.9,
             "#4d9221"
            ],
            [
             1,
             "#276419"
            ]
           ],
           "sequential": [
            [
             0,
             "#0d0887"
            ],
            [
             0.1111111111111111,
             "#46039f"
            ],
            [
             0.2222222222222222,
             "#7201a8"
            ],
            [
             0.3333333333333333,
             "#9c179e"
            ],
            [
             0.4444444444444444,
             "#bd3786"
            ],
            [
             0.5555555555555556,
             "#d8576b"
            ],
            [
             0.6666666666666666,
             "#ed7953"
            ],
            [
             0.7777777777777778,
             "#fb9f3a"
            ],
            [
             0.8888888888888888,
             "#fdca26"
            ],
            [
             1,
             "#f0f921"
            ]
           ],
           "sequentialminus": [
            [
             0,
             "#0d0887"
            ],
            [
             0.1111111111111111,
             "#46039f"
            ],
            [
             0.2222222222222222,
             "#7201a8"
            ],
            [
             0.3333333333333333,
             "#9c179e"
            ],
            [
             0.4444444444444444,
             "#bd3786"
            ],
            [
             0.5555555555555556,
             "#d8576b"
            ],
            [
             0.6666666666666666,
             "#ed7953"
            ],
            [
             0.7777777777777778,
             "#fb9f3a"
            ],
            [
             0.8888888888888888,
             "#fdca26"
            ],
            [
             1,
             "#f0f921"
            ]
           ]
          },
          "colorway": [
           "#636efa",
           "#EF553B",
           "#00cc96",
           "#ab63fa",
           "#FFA15A",
           "#19d3f3",
           "#FF6692",
           "#B6E880",
           "#FF97FF",
           "#FECB52"
          ],
          "font": {
           "color": "#2a3f5f"
          },
          "geo": {
           "bgcolor": "white",
           "lakecolor": "white",
           "landcolor": "#E5ECF6",
           "showlakes": true,
           "showland": true,
           "subunitcolor": "white"
          },
          "hoverlabel": {
           "align": "left"
          },
          "hovermode": "closest",
          "mapbox": {
           "style": "light"
          },
          "paper_bgcolor": "white",
          "plot_bgcolor": "#E5ECF6",
          "polar": {
           "angularaxis": {
            "gridcolor": "white",
            "linecolor": "white",
            "ticks": ""
           },
           "bgcolor": "#E5ECF6",
           "radialaxis": {
            "gridcolor": "white",
            "linecolor": "white",
            "ticks": ""
           }
          },
          "scene": {
           "xaxis": {
            "backgroundcolor": "#E5ECF6",
            "gridcolor": "white",
            "gridwidth": 2,
            "linecolor": "white",
            "showbackground": true,
            "ticks": "",
            "zerolinecolor": "white"
           },
           "yaxis": {
            "backgroundcolor": "#E5ECF6",
            "gridcolor": "white",
            "gridwidth": 2,
            "linecolor": "white",
            "showbackground": true,
            "ticks": "",
            "zerolinecolor": "white"
           },
           "zaxis": {
            "backgroundcolor": "#E5ECF6",
            "gridcolor": "white",
            "gridwidth": 2,
            "linecolor": "white",
            "showbackground": true,
            "ticks": "",
            "zerolinecolor": "white"
           }
          },
          "shapedefaults": {
           "line": {
            "color": "#2a3f5f"
           }
          },
          "ternary": {
           "aaxis": {
            "gridcolor": "white",
            "linecolor": "white",
            "ticks": ""
           },
           "baxis": {
            "gridcolor": "white",
            "linecolor": "white",
            "ticks": ""
           },
           "bgcolor": "#E5ECF6",
           "caxis": {
            "gridcolor": "white",
            "linecolor": "white",
            "ticks": ""
           }
          },
          "title": {
           "x": 0.05
          },
          "xaxis": {
           "automargin": true,
           "gridcolor": "white",
           "linecolor": "white",
           "ticks": "",
           "title": {
            "standoff": 15
           },
           "zerolinecolor": "white",
           "zerolinewidth": 2
          },
          "yaxis": {
           "automargin": true,
           "gridcolor": "white",
           "linecolor": "white",
           "ticks": "",
           "title": {
            "standoff": 15
           },
           "zerolinecolor": "white",
           "zerolinewidth": 2
          }
         }
        },
        "title": {
         "text": "Semantic Expansion over Writing Sessions<br><span style=\"font-size: 12px;\">*Measuring how well humans are learning while writing with GenAI</span>"
        },
        "width": 1800,
        "xaxis": {
         "anchor": "y",
         "domain": [
          0,
          1
         ],
         "gridcolor": "white",
         "linecolor": "black",
         "mirror": false,
         "range": [
          -1,
          118
         ],
         "showline": true,
         "ticks": "outside",
         "title": {
          "text": "Progress into the writing session"
         }
        },
        "yaxis": {
         "anchor": "x",
         "domain": [
          0,
          1
         ],
         "gridcolor": "white",
         "linecolor": "black",
         "mirror": false,
         "showline": true,
         "ticks": "outside",
         "title": {
          "text": "Scores"
         }
        }
       }
      }
     },
     "metadata": {},
     "output_type": "display_data"
    },
    {
     "name": "stdout",
     "output_type": "stream",
     "text": [
      "legislation_antitrust_3\n"
     ]
    },
    {
     "data": {
      "application/vnd.plotly.v1+json": {
       "config": {
        "plotlyServerURL": "https://plot.ly"
       },
       "data": [
        {
         "hovertemplate": "x=%{x}<br>y=%{y}<extra></extra>",
         "line": {
          "color": "#64B5F6",
          "width": 3
         },
         "marker": {
          "color": "#64B5F6",
          "size": 7
         },
         "mode": "lines+markers",
         "showlegend": false,
         "type": "scatter",
         "x": [
          19,
          20
         ],
         "xaxis": "x",
         "y": [
          2.4940972924232483,
          2.7716981768608093
         ],
         "yaxis": "y"
        },
        {
         "hovertemplate": "x=%{x}<br>y=%{y}<extra></extra>",
         "line": {
          "color": "#64B5F6",
          "width": 3
         },
         "marker": {
          "color": "#64B5F6",
          "size": 7
         },
         "mode": "lines+markers",
         "showlegend": false,
         "type": "scatter",
         "x": [
          18,
          19
         ],
         "xaxis": "x",
         "y": [
          2.1329371333122253,
          2.4940972924232483
         ],
         "yaxis": "y"
        },
        {
         "hovertemplate": "x=%{x}<br>y=%{y}<extra></extra>",
         "line": {
          "color": "#64B5F6",
          "width": 3
         },
         "marker": {
          "color": "#64B5F6",
          "size": 7
         },
         "mode": "lines+markers",
         "showlegend": false,
         "type": "scatter",
         "x": [
          13,
          14
         ],
         "xaxis": "x",
         "y": [
          1.4819258451461792,
          1.8442264199256897
         ],
         "yaxis": "y"
        },
        {
         "hovertemplate": "x=%{x}<br>y=%{y}<extra></extra>",
         "line": {
          "color": "#64B5F6",
          "width": 3
         },
         "marker": {
          "color": "#64B5F6",
          "size": 7
         },
         "mode": "lines+markers",
         "showlegend": false,
         "type": "scatter",
         "x": [
          11,
          12
         ],
         "xaxis": "x",
         "y": [
          1.1992470622062683,
          2.1093156933784485
         ],
         "yaxis": "y"
        },
        {
         "hovertemplate": "x=%{x}<br>y=%{y}<extra></extra>",
         "line": {
          "color": "#64B5F6",
          "width": 3
         },
         "marker": {
          "color": "#64B5F6",
          "size": 7
         },
         "mode": "lines+markers",
         "showlegend": false,
         "type": "scatter",
         "x": [
          7,
          8
         ],
         "xaxis": "x",
         "y": [
          0.9731219410896301,
          1.2371599078178406
         ],
         "yaxis": "y"
        },
        {
         "hovertemplate": "x=%{x}<br>y=%{y}<extra></extra>",
         "line": {
          "color": "#64B5F6",
          "width": 3
         },
         "marker": {
          "color": "#64B5F6",
          "size": 7
         },
         "mode": "lines+markers",
         "showlegend": false,
         "type": "scatter",
         "x": [
          0,
          1
         ],
         "xaxis": "x",
         "y": [
          0,
          0.23680400848388672
         ],
         "yaxis": "y"
        },
        {
         "hovertemplate": "x=%{x}<br>y=%{y}<extra></extra>",
         "line": {
          "color": "#ff8fab",
          "width": 3
         },
         "marker": {
          "color": "#ff8fab",
          "size": 7
         },
         "mode": "lines+markers",
         "showlegend": false,
         "type": "scatter",
         "x": [
          47,
          48
         ],
         "xaxis": "x",
         "y": [
          11.207272350788116,
          11.554983484745026
         ],
         "yaxis": "y"
        },
        {
         "hovertemplate": "x=%{x}<br>y=%{y}<extra></extra>",
         "line": {
          "color": "#ff8fab",
          "width": 3
         },
         "marker": {
          "color": "#ff8fab",
          "size": 7
         },
         "mode": "lines+markers",
         "showlegend": false,
         "type": "scatter",
         "x": [
          41,
          42
         ],
         "xaxis": "x",
         "y": [
          8.040238940715788,
          8.415497243404387
         ],
         "yaxis": "y"
        },
        {
         "hovertemplate": "x=%{x}<br>y=%{y}<extra></extra>",
         "line": {
          "color": "#ff8fab",
          "width": 3
         },
         "marker": {
          "color": "#ff8fab",
          "size": 7
         },
         "mode": "lines+markers",
         "showlegend": false,
         "type": "scatter",
         "x": [
          40,
          41
         ],
         "xaxis": "x",
         "y": [
          7.655803894996643,
          8.040238940715788
         ],
         "yaxis": "y"
        },
        {
         "hovertemplate": "x=%{x}<br>y=%{y}<extra></extra>",
         "line": {
          "color": "#ff8fab",
          "width": 3
         },
         "marker": {
          "color": "#ff8fab",
          "size": 7
         },
         "mode": "lines+markers",
         "showlegend": false,
         "type": "scatter",
         "x": [
          39,
          40
         ],
         "xaxis": "x",
         "y": [
          8.044536709785461,
          7.655803894996643
         ],
         "yaxis": "y"
        },
        {
         "hovertemplate": "x=%{x}<br>y=%{y}<extra></extra>",
         "line": {
          "color": "#ff8fab",
          "width": 3
         },
         "marker": {
          "color": "#ff8fab",
          "size": 7
         },
         "mode": "lines+markers",
         "showlegend": false,
         "type": "scatter",
         "x": [
          35,
          36
         ],
         "xaxis": "x",
         "y": [
          6.114867687225342,
          6.488665091991424
         ],
         "yaxis": "y"
        },
        {
         "hovertemplate": "x=%{x}<br>y=%{y}<extra></extra>",
         "line": {
          "color": "#ff8fab",
          "width": 3
         },
         "marker": {
          "color": "#ff8fab",
          "size": 7
         },
         "mode": "lines+markers",
         "showlegend": false,
         "type": "scatter",
         "x": [
          33,
          34
         ],
         "xaxis": "x",
         "y": [
          5.704122722148895,
          6.066430282592774
         ],
         "yaxis": "y"
        },
        {
         "hovertemplate": "x=%{x}<br>y=%{y}<extra></extra>",
         "line": {
          "color": "#ff8fab",
          "width": 3
         },
         "marker": {
          "color": "#ff8fab",
          "size": 7
         },
         "mode": "lines+markers",
         "showlegend": false,
         "type": "scatter",
         "x": [
          31,
          32
         ],
         "xaxis": "x",
         "y": [
          5.412192463874817,
          5.739066350460052
         ],
         "yaxis": "y"
        },
        {
         "hovertemplate": "x=%{x}<br>y=%{y}<extra></extra>",
         "line": {
          "color": "#ff8fab",
          "width": 3
         },
         "marker": {
          "color": "#ff8fab",
          "size": 7
         },
         "mode": "lines+markers",
         "showlegend": false,
         "type": "scatter",
         "x": [
          29,
          30
         ],
         "xaxis": "x",
         "y": [
          4.921108067035675,
          5.290285956859589
         ],
         "yaxis": "y"
        },
        {
         "hovertemplate": "x=%{x}<br>y=%{y}<extra></extra>",
         "line": {
          "color": "#ff8fab",
          "width": 3
         },
         "marker": {
          "color": "#ff8fab",
          "size": 7
         },
         "mode": "lines+markers",
         "showlegend": false,
         "type": "scatter",
         "x": [
          21,
          22
         ],
         "xaxis": "x",
         "y": [
          3.152155900001526,
          3.527568686008453
         ],
         "yaxis": "y"
        },
        {
         "hovertemplate": "x=%{x}<br>y=%{y}<extra></extra>",
         "line": {
          "color": "#ff8fab",
          "width": 3
         },
         "marker": {
          "color": "#ff8fab",
          "size": 7
         },
         "mode": "lines+markers",
         "showlegend": false,
         "type": "scatter",
         "x": [
          20,
          21
         ],
         "xaxis": "x",
         "y": [
          2.7716981768608093,
          3.152155900001526
         ],
         "yaxis": "y"
        },
        {
         "hovertemplate": "x=%{x}<br>y=%{y}<extra></extra>",
         "line": {
          "color": "#ff8fab",
          "width": 3
         },
         "marker": {
          "color": "#ff8fab",
          "size": 7
         },
         "mode": "lines+markers",
         "showlegend": false,
         "type": "scatter",
         "x": [
          14,
          15
         ],
         "xaxis": "x",
         "y": [
          1.8442264199256897,
          2.1847880601882936
         ],
         "yaxis": "y"
        },
        {
         "hovertemplate": "x=%{x}<br>y=%{y}<extra></extra>",
         "line": {
          "color": "#ff8fab",
          "width": 3
         },
         "marker": {
          "color": "#ff8fab",
          "size": 7
         },
         "mode": "lines+markers",
         "showlegend": false,
         "type": "scatter",
         "x": [
          9,
          10
         ],
         "xaxis": "x",
         "y": [
          3.7207377433776854,
          2.418490135669708
         ],
         "yaxis": "y"
        },
        {
         "hovertemplate": "x=%{x}<br>y=%{y}<extra></extra>",
         "line": {
          "color": "#ff8fab",
          "width": 3
         },
         "marker": {
          "color": "#ff8fab",
          "size": 7
         },
         "mode": "lines+markers",
         "showlegend": false,
         "type": "scatter",
         "x": [
          8,
          9
         ],
         "xaxis": "x",
         "y": [
          1.2371599078178406,
          3.7207377433776854
         ],
         "yaxis": "y"
        },
        {
         "hovertemplate": "x=%{x}<br>y=%{y}<extra></extra>",
         "line": {
          "color": "#ff8fab",
          "width": 3
         },
         "marker": {
          "color": "#ff8fab",
          "size": 7
         },
         "mode": "lines+markers",
         "showlegend": false,
         "type": "scatter",
         "x": [
          2,
          3
         ],
         "xaxis": "x",
         "y": [
          0.6306294918060302,
          0.9285696744918823
         ],
         "yaxis": "y"
        },
        {
         "hovertemplate": "x=%{x}<br>y=%{y}<extra></extra>",
         "line": {
          "color": "#ff8fab",
          "width": 3
         },
         "marker": {
          "color": "#ff8fab",
          "size": 7
         },
         "mode": "lines+markers",
         "showlegend": false,
         "type": "scatter",
         "x": [
          1,
          2
         ],
         "xaxis": "x",
         "y": [
          0.23680400848388672,
          0.6306294918060302
         ],
         "yaxis": "y"
        },
        {
         "hovertemplate": "x=%{x}<br>y=%{y}<extra></extra>",
         "line": {
          "color": "#023e8a",
          "width": 3
         },
         "marker": {
          "color": "#023e8a",
          "size": 7
         },
         "mode": "lines+markers",
         "showlegend": false,
         "type": "scatter",
         "x": [
          46,
          47
         ],
         "xaxis": "x",
         "y": [
          10.859595239162445,
          11.207272350788116
         ],
         "yaxis": "y"
        },
        {
         "hovertemplate": "x=%{x}<br>y=%{y}<extra></extra>",
         "line": {
          "color": "#023e8a",
          "width": 3
         },
         "marker": {
          "color": "#023e8a",
          "size": 7
         },
         "mode": "lines+markers",
         "showlegend": false,
         "type": "scatter",
         "x": [
          45,
          46
         ],
         "xaxis": "x",
         "y": [
          10.492074608802795,
          10.859595239162445
         ],
         "yaxis": "y"
        },
        {
         "hovertemplate": "x=%{x}<br>y=%{y}<extra></extra>",
         "line": {
          "color": "#023e8a",
          "width": 3
         },
         "marker": {
          "color": "#023e8a",
          "size": 7
         },
         "mode": "lines+markers",
         "showlegend": false,
         "type": "scatter",
         "x": [
          44,
          45
         ],
         "xaxis": "x",
         "y": [
          9.798067927360535,
          10.492074608802795
         ],
         "yaxis": "y"
        },
        {
         "hovertemplate": "x=%{x}<br>y=%{y}<extra></extra>",
         "line": {
          "color": "#023e8a",
          "width": 3
         },
         "marker": {
          "color": "#023e8a",
          "size": 7
         },
         "mode": "lines+markers",
         "showlegend": false,
         "type": "scatter",
         "x": [
          43,
          44
         ],
         "xaxis": "x",
         "y": [
          9.380362331867218,
          9.798067927360535
         ],
         "yaxis": "y"
        },
        {
         "hovertemplate": "x=%{x}<br>y=%{y}<extra></extra>",
         "line": {
          "color": "#023e8a",
          "width": 3
         },
         "marker": {
          "color": "#023e8a",
          "size": 7
         },
         "mode": "lines+markers",
         "showlegend": false,
         "type": "scatter",
         "x": [
          38,
          39
         ],
         "xaxis": "x",
         "y": [
          7.305745005607605,
          8.044536709785461
         ],
         "yaxis": "y"
        },
        {
         "hovertemplate": "x=%{x}<br>y=%{y}<extra></extra>",
         "line": {
          "color": "#023e8a",
          "width": 3
         },
         "marker": {
          "color": "#023e8a",
          "size": 7
         },
         "mode": "lines+markers",
         "showlegend": false,
         "type": "scatter",
         "x": [
          37,
          38
         ],
         "xaxis": "x",
         "y": [
          6.853087663650513,
          7.305745005607605
         ],
         "yaxis": "y"
        },
        {
         "hovertemplate": "x=%{x}<br>y=%{y}<extra></extra>",
         "line": {
          "color": "#023e8a",
          "width": 3
         },
         "marker": {
          "color": "#023e8a",
          "size": 7
         },
         "mode": "lines+markers",
         "showlegend": false,
         "type": "scatter",
         "x": [
          36,
          37
         ],
         "xaxis": "x",
         "y": [
          6.114867687225342,
          6.853087663650513
         ],
         "yaxis": "y"
        },
        {
         "hovertemplate": "x=%{x}<br>y=%{y}<extra></extra>",
         "line": {
          "color": "#023e8a",
          "width": 3
         },
         "marker": {
          "color": "#023e8a",
          "size": 7
         },
         "mode": "lines+markers",
         "showlegend": false,
         "type": "scatter",
         "x": [
          28,
          29
         ],
         "xaxis": "x",
         "y": [
          4.726983547210693,
          4.921108067035675
         ],
         "yaxis": "y"
        },
        {
         "hovertemplate": "x=%{x}<br>y=%{y}<extra></extra>",
         "line": {
          "color": "#023e8a",
          "width": 3
         },
         "marker": {
          "color": "#023e8a",
          "size": 7
         },
         "mode": "lines+markers",
         "showlegend": false,
         "type": "scatter",
         "x": [
          27,
          28
         ],
         "xaxis": "x",
         "y": [
          3.8401784896850586,
          4.726983547210693
         ],
         "yaxis": "y"
        },
        {
         "hovertemplate": "x=%{x}<br>y=%{y}<extra></extra>",
         "line": {
          "color": "#023e8a",
          "width": 3
         },
         "marker": {
          "color": "#023e8a",
          "size": 7
         },
         "mode": "lines+markers",
         "showlegend": false,
         "type": "scatter",
         "x": [
          26,
          27
         ],
         "xaxis": "x",
         "y": [
          3.3641538619995117,
          3.8401784896850586
         ],
         "yaxis": "y"
        },
        {
         "hovertemplate": "x=%{x}<br>y=%{y}<extra></extra>",
         "line": {
          "color": "#023e8a",
          "width": 3
         },
         "marker": {
          "color": "#023e8a",
          "size": 7
         },
         "mode": "lines+markers",
         "showlegend": false,
         "type": "scatter",
         "x": [
          25,
          26
         ],
         "xaxis": "x",
         "y": [
          3.085853636264801,
          3.3641538619995117
         ],
         "yaxis": "y"
        },
        {
         "hovertemplate": "x=%{x}<br>y=%{y}<extra></extra>",
         "line": {
          "color": "#023e8a",
          "width": 3
         },
         "marker": {
          "color": "#023e8a",
          "size": 7
         },
         "mode": "lines+markers",
         "showlegend": false,
         "type": "scatter",
         "x": [
          24,
          25
         ],
         "xaxis": "x",
         "y": [
          2.75009822845459,
          3.085853636264801
         ],
         "yaxis": "y"
        },
        {
         "hovertemplate": "x=%{x}<br>y=%{y}<extra></extra>",
         "line": {
          "color": "#023e8a",
          "width": 3
         },
         "marker": {
          "color": "#023e8a",
          "size": 7
         },
         "mode": "lines+markers",
         "showlegend": false,
         "type": "scatter",
         "x": [
          23,
          24
         ],
         "xaxis": "x",
         "y": [
          2.4225062131881714,
          2.75009822845459
         ],
         "yaxis": "y"
        },
        {
         "hovertemplate": "x=%{x}<br>y=%{y}<extra></extra>",
         "line": {
          "color": "#023e8a",
          "width": 3
         },
         "marker": {
          "color": "#023e8a",
          "size": 7
         },
         "mode": "lines+markers",
         "showlegend": false,
         "type": "scatter",
         "x": [
          22,
          23
         ],
         "xaxis": "x",
         "y": [
          2.1329371333122253,
          2.4225062131881714
         ],
         "yaxis": "y"
        },
        {
         "hovertemplate": "x=%{x}<br>y=%{y}<extra></extra>",
         "line": {
          "color": "#023e8a",
          "width": 3
         },
         "marker": {
          "color": "#023e8a",
          "size": 7
         },
         "mode": "lines+markers",
         "showlegend": false,
         "type": "scatter",
         "x": [
          17,
          18
         ],
         "xaxis": "x",
         "y": [
          1.9331158995628357,
          2.1329371333122253
         ],
         "yaxis": "y"
        },
        {
         "hovertemplate": "x=%{x}<br>y=%{y}<extra></extra>",
         "line": {
          "color": "#023e8a",
          "width": 3
         },
         "marker": {
          "color": "#023e8a",
          "size": 7
         },
         "mode": "lines+markers",
         "showlegend": false,
         "type": "scatter",
         "x": [
          16,
          17
         ],
         "xaxis": "x",
         "y": [
          1.698482096195221,
          1.9331158995628357
         ],
         "yaxis": "y"
        },
        {
         "hovertemplate": "x=%{x}<br>y=%{y}<extra></extra>",
         "line": {
          "color": "#023e8a",
          "width": 3
         },
         "marker": {
          "color": "#023e8a",
          "size": 7
         },
         "mode": "lines+markers",
         "showlegend": false,
         "type": "scatter",
         "x": [
          15,
          16
         ],
         "xaxis": "x",
         "y": [
          1.4819258451461792,
          1.698482096195221
         ],
         "yaxis": "y"
        },
        {
         "hovertemplate": "x=%{x}<br>y=%{y}<extra></extra>",
         "line": {
          "color": "#023e8a",
          "width": 3
         },
         "marker": {
          "color": "#023e8a",
          "size": 7
         },
         "mode": "lines+markers",
         "showlegend": false,
         "type": "scatter",
         "x": [
          12,
          13
         ],
         "xaxis": "x",
         "y": [
          1.1992470622062683,
          1.4819258451461792
         ],
         "yaxis": "y"
        },
        {
         "hovertemplate": "x=%{x}<br>y=%{y}<extra></extra>",
         "line": {
          "color": "#023e8a",
          "width": 3
         },
         "marker": {
          "color": "#023e8a",
          "size": 7
         },
         "mode": "lines+markers",
         "showlegend": false,
         "type": "scatter",
         "x": [
          10,
          11
         ],
         "xaxis": "x",
         "y": [
          0.9731219410896301,
          1.1992470622062683
         ],
         "yaxis": "y"
        },
        {
         "hovertemplate": "x=%{x}<br>y=%{y}<extra></extra>",
         "line": {
          "color": "#023e8a",
          "width": 3
         },
         "marker": {
          "color": "#023e8a",
          "size": 7
         },
         "mode": "lines+markers",
         "showlegend": false,
         "type": "scatter",
         "x": [
          6,
          7
         ],
         "xaxis": "x",
         "y": [
          0.6564403176307678,
          0.9731219410896301
         ],
         "yaxis": "y"
        },
        {
         "hovertemplate": "x=%{x}<br>y=%{y}<extra></extra>",
         "line": {
          "color": "#023e8a",
          "width": 3
         },
         "marker": {
          "color": "#023e8a",
          "size": 7
         },
         "mode": "lines+markers",
         "showlegend": false,
         "type": "scatter",
         "x": [
          5,
          6
         ],
         "xaxis": "x",
         "y": [
          0.30130571126937866,
          0.6564403176307678
         ],
         "yaxis": "y"
        },
        {
         "hovertemplate": "x=%{x}<br>y=%{y}<extra></extra>",
         "line": {
          "color": "#023e8a",
          "width": 3
         },
         "marker": {
          "color": "#023e8a",
          "size": 7
         },
         "mode": "lines+markers",
         "showlegend": false,
         "type": "scatter",
         "x": [
          4,
          5
         ],
         "xaxis": "x",
         "y": [
          0.2203354835510254,
          0.30130571126937866
         ],
         "yaxis": "y"
        },
        {
         "hovertemplate": "x=%{x}<br>y=%{y}<extra></extra>",
         "line": {
          "color": "#023e8a",
          "width": 3
         },
         "marker": {
          "color": "#023e8a",
          "size": 7
         },
         "mode": "lines+markers",
         "showlegend": false,
         "type": "scatter",
         "x": [
          3,
          4
         ],
         "xaxis": "x",
         "y": [
          0,
          0.2203354835510254
         ],
         "yaxis": "y"
        },
        {
         "hovertemplate": "x=%{x}<br>y=%{y}<extra></extra>",
         "line": {
          "color": "#c1121f",
          "width": 3
         },
         "marker": {
          "color": "#c1121f",
          "size": 7
         },
         "mode": "lines+markers",
         "showlegend": false,
         "type": "scatter",
         "x": [
          48,
          49
         ],
         "xaxis": "x",
         "y": [
          11.207272350788116,
          11.54486894607544
         ],
         "yaxis": "y"
        },
        {
         "hovertemplate": "x=%{x}<br>y=%{y}<extra></extra>",
         "line": {
          "color": "#c1121f",
          "width": 3
         },
         "marker": {
          "color": "#c1121f",
          "size": 7
         },
         "mode": "lines+markers",
         "showlegend": false,
         "type": "scatter",
         "x": [
          42,
          43
         ],
         "xaxis": "x",
         "y": [
          8.044536709785461,
          9.380362331867218
         ],
         "yaxis": "y"
        },
        {
         "hovertemplate": "x=%{x}<br>y=%{y}<extra></extra>",
         "line": {
          "color": "#c1121f",
          "width": 3
         },
         "marker": {
          "color": "#c1121f",
          "size": 7
         },
         "mode": "lines+markers",
         "showlegend": false,
         "type": "scatter",
         "x": [
          34,
          35
         ],
         "xaxis": "x",
         "y": [
          5.704122722148895,
          6.114867687225342
         ],
         "yaxis": "y"
        },
        {
         "hovertemplate": "x=%{x}<br>y=%{y}<extra></extra>",
         "line": {
          "color": "#c1121f",
          "width": 3
         },
         "marker": {
          "color": "#c1121f",
          "size": 7
         },
         "mode": "lines+markers",
         "showlegend": false,
         "type": "scatter",
         "x": [
          32,
          33
         ],
         "xaxis": "x",
         "y": [
          5.412192463874817,
          5.704122722148895
         ],
         "yaxis": "y"
        },
        {
         "hovertemplate": "x=%{x}<br>y=%{y}<extra></extra>",
         "line": {
          "color": "#c1121f",
          "width": 3
         },
         "marker": {
          "color": "#c1121f",
          "size": 7
         },
         "mode": "lines+markers",
         "showlegend": false,
         "type": "scatter",
         "x": [
          30,
          31
         ],
         "xaxis": "x",
         "y": [
          4.921108067035675,
          5.412192463874817
         ],
         "yaxis": "y"
        },
        {
         "line": {
          "color": "#64B5F6",
          "width": 2
         },
         "mode": "lines",
         "name": "human_insert_backstage",
         "showlegend": true,
         "type": "scatter",
         "x": [
          null
         ],
         "xaxis": "x",
         "y": [
          null
         ],
         "yaxis": "y"
        },
        {
         "line": {
          "color": "#ff8fab",
          "width": 2
         },
         "mode": "lines",
         "name": "ai_suggest_backstage",
         "showlegend": true,
         "type": "scatter",
         "x": [
          null
         ],
         "xaxis": "x",
         "y": [
          null
         ],
         "yaxis": "y"
        },
        {
         "line": {
          "color": "#023e8a",
          "width": 2
         },
         "mode": "lines",
         "name": "human_insert_frontstage",
         "showlegend": true,
         "type": "scatter",
         "x": [
          null
         ],
         "xaxis": "x",
         "y": [
          null
         ],
         "yaxis": "y"
        },
        {
         "line": {
          "color": "#c1121f",
          "width": 2
         },
         "mode": "lines",
         "name": "ai_insert_moved_to_frontstage",
         "showlegend": true,
         "type": "scatter",
         "x": [
          null
         ],
         "xaxis": "x",
         "y": [
          null
         ],
         "yaxis": "y"
        },
        {
         "line": {
          "color": "#9d4edd",
          "width": 2
         },
         "mode": "lines",
         "name": "human_delete_frontstage",
         "showlegend": true,
         "type": "scatter",
         "x": [
          null
         ],
         "xaxis": "x",
         "y": [
          null
         ],
         "yaxis": "y"
        },
        {
         "line": {
          "color": "#5a189a",
          "width": 2
         },
         "mode": "lines",
         "name": "human_insert_edit_frontstage",
         "showlegend": true,
         "type": "scatter",
         "x": [
          null
         ],
         "xaxis": "x",
         "y": [
          null
         ],
         "yaxis": "y"
        }
       ],
       "layout": {
        "annotations": [
         {
          "font": {
           "size": 16
          },
          "showarrow": false,
          "text": "Session: legislation_antitrust_3",
          "x": 0.5,
          "xanchor": "center",
          "xref": "paper",
          "y": 1,
          "yanchor": "bottom",
          "yref": "paper"
         }
        ],
        "height": 500,
        "legend": {
         "title": {
          "font": {
           "color": "rgba(0, 0, 0, 0)"
          }
         }
        },
        "plot_bgcolor": "white",
        "showlegend": true,
        "template": {
         "data": {
          "bar": [
           {
            "error_x": {
             "color": "#2a3f5f"
            },
            "error_y": {
             "color": "#2a3f5f"
            },
            "marker": {
             "line": {
              "color": "#E5ECF6",
              "width": 0.5
             },
             "pattern": {
              "fillmode": "overlay",
              "size": 10,
              "solidity": 0.2
             }
            },
            "type": "bar"
           }
          ],
          "barpolar": [
           {
            "marker": {
             "line": {
              "color": "#E5ECF6",
              "width": 0.5
             },
             "pattern": {
              "fillmode": "overlay",
              "size": 10,
              "solidity": 0.2
             }
            },
            "type": "barpolar"
           }
          ],
          "carpet": [
           {
            "aaxis": {
             "endlinecolor": "#2a3f5f",
             "gridcolor": "white",
             "linecolor": "white",
             "minorgridcolor": "white",
             "startlinecolor": "#2a3f5f"
            },
            "baxis": {
             "endlinecolor": "#2a3f5f",
             "gridcolor": "white",
             "linecolor": "white",
             "minorgridcolor": "white",
             "startlinecolor": "#2a3f5f"
            },
            "type": "carpet"
           }
          ],
          "choropleth": [
           {
            "colorbar": {
             "outlinewidth": 0,
             "ticks": ""
            },
            "type": "choropleth"
           }
          ],
          "contour": [
           {
            "colorbar": {
             "outlinewidth": 0,
             "ticks": ""
            },
            "colorscale": [
             [
              0,
              "#0d0887"
             ],
             [
              0.1111111111111111,
              "#46039f"
             ],
             [
              0.2222222222222222,
              "#7201a8"
             ],
             [
              0.3333333333333333,
              "#9c179e"
             ],
             [
              0.4444444444444444,
              "#bd3786"
             ],
             [
              0.5555555555555556,
              "#d8576b"
             ],
             [
              0.6666666666666666,
              "#ed7953"
             ],
             [
              0.7777777777777778,
              "#fb9f3a"
             ],
             [
              0.8888888888888888,
              "#fdca26"
             ],
             [
              1,
              "#f0f921"
             ]
            ],
            "type": "contour"
           }
          ],
          "contourcarpet": [
           {
            "colorbar": {
             "outlinewidth": 0,
             "ticks": ""
            },
            "type": "contourcarpet"
           }
          ],
          "heatmap": [
           {
            "colorbar": {
             "outlinewidth": 0,
             "ticks": ""
            },
            "colorscale": [
             [
              0,
              "#0d0887"
             ],
             [
              0.1111111111111111,
              "#46039f"
             ],
             [
              0.2222222222222222,
              "#7201a8"
             ],
             [
              0.3333333333333333,
              "#9c179e"
             ],
             [
              0.4444444444444444,
              "#bd3786"
             ],
             [
              0.5555555555555556,
              "#d8576b"
             ],
             [
              0.6666666666666666,
              "#ed7953"
             ],
             [
              0.7777777777777778,
              "#fb9f3a"
             ],
             [
              0.8888888888888888,
              "#fdca26"
             ],
             [
              1,
              "#f0f921"
             ]
            ],
            "type": "heatmap"
           }
          ],
          "histogram": [
           {
            "marker": {
             "pattern": {
              "fillmode": "overlay",
              "size": 10,
              "solidity": 0.2
             }
            },
            "type": "histogram"
           }
          ],
          "histogram2d": [
           {
            "colorbar": {
             "outlinewidth": 0,
             "ticks": ""
            },
            "colorscale": [
             [
              0,
              "#0d0887"
             ],
             [
              0.1111111111111111,
              "#46039f"
             ],
             [
              0.2222222222222222,
              "#7201a8"
             ],
             [
              0.3333333333333333,
              "#9c179e"
             ],
             [
              0.4444444444444444,
              "#bd3786"
             ],
             [
              0.5555555555555556,
              "#d8576b"
             ],
             [
              0.6666666666666666,
              "#ed7953"
             ],
             [
              0.7777777777777778,
              "#fb9f3a"
             ],
             [
              0.8888888888888888,
              "#fdca26"
             ],
             [
              1,
              "#f0f921"
             ]
            ],
            "type": "histogram2d"
           }
          ],
          "histogram2dcontour": [
           {
            "colorbar": {
             "outlinewidth": 0,
             "ticks": ""
            },
            "colorscale": [
             [
              0,
              "#0d0887"
             ],
             [
              0.1111111111111111,
              "#46039f"
             ],
             [
              0.2222222222222222,
              "#7201a8"
             ],
             [
              0.3333333333333333,
              "#9c179e"
             ],
             [
              0.4444444444444444,
              "#bd3786"
             ],
             [
              0.5555555555555556,
              "#d8576b"
             ],
             [
              0.6666666666666666,
              "#ed7953"
             ],
             [
              0.7777777777777778,
              "#fb9f3a"
             ],
             [
              0.8888888888888888,
              "#fdca26"
             ],
             [
              1,
              "#f0f921"
             ]
            ],
            "type": "histogram2dcontour"
           }
          ],
          "mesh3d": [
           {
            "colorbar": {
             "outlinewidth": 0,
             "ticks": ""
            },
            "type": "mesh3d"
           }
          ],
          "parcoords": [
           {
            "line": {
             "colorbar": {
              "outlinewidth": 0,
              "ticks": ""
             }
            },
            "type": "parcoords"
           }
          ],
          "pie": [
           {
            "automargin": true,
            "type": "pie"
           }
          ],
          "scatter": [
           {
            "fillpattern": {
             "fillmode": "overlay",
             "size": 10,
             "solidity": 0.2
            },
            "type": "scatter"
           }
          ],
          "scatter3d": [
           {
            "line": {
             "colorbar": {
              "outlinewidth": 0,
              "ticks": ""
             }
            },
            "marker": {
             "colorbar": {
              "outlinewidth": 0,
              "ticks": ""
             }
            },
            "type": "scatter3d"
           }
          ],
          "scattercarpet": [
           {
            "marker": {
             "colorbar": {
              "outlinewidth": 0,
              "ticks": ""
             }
            },
            "type": "scattercarpet"
           }
          ],
          "scattergeo": [
           {
            "marker": {
             "colorbar": {
              "outlinewidth": 0,
              "ticks": ""
             }
            },
            "type": "scattergeo"
           }
          ],
          "scattergl": [
           {
            "marker": {
             "colorbar": {
              "outlinewidth": 0,
              "ticks": ""
             }
            },
            "type": "scattergl"
           }
          ],
          "scattermap": [
           {
            "marker": {
             "colorbar": {
              "outlinewidth": 0,
              "ticks": ""
             }
            },
            "type": "scattermap"
           }
          ],
          "scattermapbox": [
           {
            "marker": {
             "colorbar": {
              "outlinewidth": 0,
              "ticks": ""
             }
            },
            "type": "scattermapbox"
           }
          ],
          "scatterpolar": [
           {
            "marker": {
             "colorbar": {
              "outlinewidth": 0,
              "ticks": ""
             }
            },
            "type": "scatterpolar"
           }
          ],
          "scatterpolargl": [
           {
            "marker": {
             "colorbar": {
              "outlinewidth": 0,
              "ticks": ""
             }
            },
            "type": "scatterpolargl"
           }
          ],
          "scatterternary": [
           {
            "marker": {
             "colorbar": {
              "outlinewidth": 0,
              "ticks": ""
             }
            },
            "type": "scatterternary"
           }
          ],
          "surface": [
           {
            "colorbar": {
             "outlinewidth": 0,
             "ticks": ""
            },
            "colorscale": [
             [
              0,
              "#0d0887"
             ],
             [
              0.1111111111111111,
              "#46039f"
             ],
             [
              0.2222222222222222,
              "#7201a8"
             ],
             [
              0.3333333333333333,
              "#9c179e"
             ],
             [
              0.4444444444444444,
              "#bd3786"
             ],
             [
              0.5555555555555556,
              "#d8576b"
             ],
             [
              0.6666666666666666,
              "#ed7953"
             ],
             [
              0.7777777777777778,
              "#fb9f3a"
             ],
             [
              0.8888888888888888,
              "#fdca26"
             ],
             [
              1,
              "#f0f921"
             ]
            ],
            "type": "surface"
           }
          ],
          "table": [
           {
            "cells": {
             "fill": {
              "color": "#EBF0F8"
             },
             "line": {
              "color": "white"
             }
            },
            "header": {
             "fill": {
              "color": "#C8D4E3"
             },
             "line": {
              "color": "white"
             }
            },
            "type": "table"
           }
          ]
         },
         "layout": {
          "annotationdefaults": {
           "arrowcolor": "#2a3f5f",
           "arrowhead": 0,
           "arrowwidth": 1
          },
          "autotypenumbers": "strict",
          "coloraxis": {
           "colorbar": {
            "outlinewidth": 0,
            "ticks": ""
           }
          },
          "colorscale": {
           "diverging": [
            [
             0,
             "#8e0152"
            ],
            [
             0.1,
             "#c51b7d"
            ],
            [
             0.2,
             "#de77ae"
            ],
            [
             0.3,
             "#f1b6da"
            ],
            [
             0.4,
             "#fde0ef"
            ],
            [
             0.5,
             "#f7f7f7"
            ],
            [
             0.6,
             "#e6f5d0"
            ],
            [
             0.7,
             "#b8e186"
            ],
            [
             0.8,
             "#7fbc41"
            ],
            [
             0.9,
             "#4d9221"
            ],
            [
             1,
             "#276419"
            ]
           ],
           "sequential": [
            [
             0,
             "#0d0887"
            ],
            [
             0.1111111111111111,
             "#46039f"
            ],
            [
             0.2222222222222222,
             "#7201a8"
            ],
            [
             0.3333333333333333,
             "#9c179e"
            ],
            [
             0.4444444444444444,
             "#bd3786"
            ],
            [
             0.5555555555555556,
             "#d8576b"
            ],
            [
             0.6666666666666666,
             "#ed7953"
            ],
            [
             0.7777777777777778,
             "#fb9f3a"
            ],
            [
             0.8888888888888888,
             "#fdca26"
            ],
            [
             1,
             "#f0f921"
            ]
           ],
           "sequentialminus": [
            [
             0,
             "#0d0887"
            ],
            [
             0.1111111111111111,
             "#46039f"
            ],
            [
             0.2222222222222222,
             "#7201a8"
            ],
            [
             0.3333333333333333,
             "#9c179e"
            ],
            [
             0.4444444444444444,
             "#bd3786"
            ],
            [
             0.5555555555555556,
             "#d8576b"
            ],
            [
             0.6666666666666666,
             "#ed7953"
            ],
            [
             0.7777777777777778,
             "#fb9f3a"
            ],
            [
             0.8888888888888888,
             "#fdca26"
            ],
            [
             1,
             "#f0f921"
            ]
           ]
          },
          "colorway": [
           "#636efa",
           "#EF553B",
           "#00cc96",
           "#ab63fa",
           "#FFA15A",
           "#19d3f3",
           "#FF6692",
           "#B6E880",
           "#FF97FF",
           "#FECB52"
          ],
          "font": {
           "color": "#2a3f5f"
          },
          "geo": {
           "bgcolor": "white",
           "lakecolor": "white",
           "landcolor": "#E5ECF6",
           "showlakes": true,
           "showland": true,
           "subunitcolor": "white"
          },
          "hoverlabel": {
           "align": "left"
          },
          "hovermode": "closest",
          "mapbox": {
           "style": "light"
          },
          "paper_bgcolor": "white",
          "plot_bgcolor": "#E5ECF6",
          "polar": {
           "angularaxis": {
            "gridcolor": "white",
            "linecolor": "white",
            "ticks": ""
           },
           "bgcolor": "#E5ECF6",
           "radialaxis": {
            "gridcolor": "white",
            "linecolor": "white",
            "ticks": ""
           }
          },
          "scene": {
           "xaxis": {
            "backgroundcolor": "#E5ECF6",
            "gridcolor": "white",
            "gridwidth": 2,
            "linecolor": "white",
            "showbackground": true,
            "ticks": "",
            "zerolinecolor": "white"
           },
           "yaxis": {
            "backgroundcolor": "#E5ECF6",
            "gridcolor": "white",
            "gridwidth": 2,
            "linecolor": "white",
            "showbackground": true,
            "ticks": "",
            "zerolinecolor": "white"
           },
           "zaxis": {
            "backgroundcolor": "#E5ECF6",
            "gridcolor": "white",
            "gridwidth": 2,
            "linecolor": "white",
            "showbackground": true,
            "ticks": "",
            "zerolinecolor": "white"
           }
          },
          "shapedefaults": {
           "line": {
            "color": "#2a3f5f"
           }
          },
          "ternary": {
           "aaxis": {
            "gridcolor": "white",
            "linecolor": "white",
            "ticks": ""
           },
           "baxis": {
            "gridcolor": "white",
            "linecolor": "white",
            "ticks": ""
           },
           "bgcolor": "#E5ECF6",
           "caxis": {
            "gridcolor": "white",
            "linecolor": "white",
            "ticks": ""
           }
          },
          "title": {
           "x": 0.05
          },
          "xaxis": {
           "automargin": true,
           "gridcolor": "white",
           "linecolor": "white",
           "ticks": "",
           "title": {
            "standoff": 15
           },
           "zerolinecolor": "white",
           "zerolinewidth": 2
          },
          "yaxis": {
           "automargin": true,
           "gridcolor": "white",
           "linecolor": "white",
           "ticks": "",
           "title": {
            "standoff": 15
           },
           "zerolinecolor": "white",
           "zerolinewidth": 2
          }
         }
        },
        "title": {
         "text": "Semantic Expansion over Writing Sessions<br><span style=\"font-size: 12px;\">*Measuring how well humans are learning while writing with GenAI</span>"
        },
        "width": 1800,
        "xaxis": {
         "anchor": "y",
         "domain": [
          0,
          1
         ],
         "gridcolor": "white",
         "linecolor": "black",
         "mirror": false,
         "range": [
          -1,
          50
         ],
         "showline": true,
         "ticks": "outside",
         "title": {
          "text": "Progress into the writing session"
         }
        },
        "yaxis": {
         "anchor": "x",
         "domain": [
          0,
          1
         ],
         "gridcolor": "white",
         "linecolor": "black",
         "mirror": false,
         "showline": true,
         "ticks": "outside",
         "title": {
          "text": "Scores"
         }
        }
       }
      }
     },
     "metadata": {},
     "output_type": "display_data"
    },
    {
     "name": "stdout",
     "output_type": "stream",
     "text": [
      "legislation_antitrust_4\n"
     ]
    },
    {
     "data": {
      "application/vnd.plotly.v1+json": {
       "config": {
        "plotlyServerURL": "https://plot.ly"
       },
       "data": [
        {
         "hovertemplate": "x=%{x}<br>y=%{y}<extra></extra>",
         "line": {
          "color": "#64B5F6",
          "width": 3
         },
         "marker": {
          "color": "#64B5F6",
          "size": 7
         },
         "mode": "lines+markers",
         "showlegend": false,
         "type": "scatter",
         "x": [
          35,
          36
         ],
         "xaxis": "x",
         "y": [
          6.429402232170105,
          6.930800795555115
         ],
         "yaxis": "y"
        },
        {
         "hovertemplate": "x=%{x}<br>y=%{y}<extra></extra>",
         "line": {
          "color": "#64B5F6",
          "width": 3
         },
         "marker": {
          "color": "#64B5F6",
          "size": 7
         },
         "mode": "lines+markers",
         "showlegend": false,
         "type": "scatter",
         "x": [
          33,
          34
         ],
         "xaxis": "x",
         "y": [
          5.8526405692100525,
          6.145473599433899
         ],
         "yaxis": "y"
        },
        {
         "hovertemplate": "x=%{x}<br>y=%{y}<extra></extra>",
         "line": {
          "color": "#64B5F6",
          "width": 3
         },
         "marker": {
          "color": "#64B5F6",
          "size": 7
         },
         "mode": "lines+markers",
         "showlegend": false,
         "type": "scatter",
         "x": [
          29,
          30
         ],
         "xaxis": "x",
         "y": [
          5.9354318380355835,
          6.2054595947265625
         ],
         "yaxis": "y"
        },
        {
         "hovertemplate": "x=%{x}<br>y=%{y}<extra></extra>",
         "line": {
          "color": "#64B5F6",
          "width": 3
         },
         "marker": {
          "color": "#64B5F6",
          "size": 7
         },
         "mode": "lines+markers",
         "showlegend": false,
         "type": "scatter",
         "x": [
          10,
          11
         ],
         "xaxis": "x",
         "y": [
          1.119491457939148,
          1.4592602252960205
         ],
         "yaxis": "y"
        },
        {
         "hovertemplate": "x=%{x}<br>y=%{y}<extra></extra>",
         "line": {
          "color": "#ff8fab",
          "width": 3
         },
         "marker": {
          "color": "#ff8fab",
          "size": 7
         },
         "mode": "lines+markers",
         "showlegend": false,
         "type": "scatter",
         "x": [
          53,
          54
         ],
         "xaxis": "x",
         "y": [
          13.246300399303436,
          13.710328483581543
         ],
         "yaxis": "y"
        },
        {
         "hovertemplate": "x=%{x}<br>y=%{y}<extra></extra>",
         "line": {
          "color": "#ff8fab",
          "width": 3
         },
         "marker": {
          "color": "#ff8fab",
          "size": 7
         },
         "mode": "lines+markers",
         "showlegend": false,
         "type": "scatter",
         "x": [
          51,
          52
         ],
         "xaxis": "x",
         "y": [
          12.917144775390625,
          13.393338906764985
         ],
         "yaxis": "y"
        },
        {
         "hovertemplate": "x=%{x}<br>y=%{y}<extra></extra>",
         "line": {
          "color": "#ff8fab",
          "width": 3
         },
         "marker": {
          "color": "#ff8fab",
          "size": 7
         },
         "mode": "lines+markers",
         "showlegend": false,
         "type": "scatter",
         "x": [
          36,
          37
         ],
         "xaxis": "x",
         "y": [
          6.930800795555115,
          7.1949271082878115
         ],
         "yaxis": "y"
        },
        {
         "hovertemplate": "x=%{x}<br>y=%{y}<extra></extra>",
         "line": {
          "color": "#ff8fab",
          "width": 3
         },
         "marker": {
          "color": "#ff8fab",
          "size": 7
         },
         "mode": "lines+markers",
         "showlegend": false,
         "type": "scatter",
         "x": [
          34,
          35
         ],
         "xaxis": "x",
         "y": [
          6.145473599433899,
          6.429402232170105
         ],
         "yaxis": "y"
        },
        {
         "hovertemplate": "x=%{x}<br>y=%{y}<extra></extra>",
         "line": {
          "color": "#ff8fab",
          "width": 3
         },
         "marker": {
          "color": "#ff8fab",
          "size": 7
         },
         "mode": "lines+markers",
         "showlegend": false,
         "type": "scatter",
         "x": [
          30,
          31
         ],
         "xaxis": "x",
         "y": [
          6.2054595947265625,
          6.431901526451111
         ],
         "yaxis": "y"
        },
        {
         "hovertemplate": "x=%{x}<br>y=%{y}<extra></extra>",
         "line": {
          "color": "#ff8fab",
          "width": 3
         },
         "marker": {
          "color": "#ff8fab",
          "size": 7
         },
         "mode": "lines+markers",
         "showlegend": false,
         "type": "scatter",
         "x": [
          28,
          29
         ],
         "xaxis": "x",
         "y": [
          5.477926135063171,
          5.9354318380355835
         ],
         "yaxis": "y"
        },
        {
         "hovertemplate": "x=%{x}<br>y=%{y}<extra></extra>",
         "line": {
          "color": "#ff8fab",
          "width": 3
         },
         "marker": {
          "color": "#ff8fab",
          "size": 7
         },
         "mode": "lines+markers",
         "showlegend": false,
         "type": "scatter",
         "x": [
          25,
          26
         ],
         "xaxis": "x",
         "y": [
          4.483878791332245,
          4.915983867645264
         ],
         "yaxis": "y"
        },
        {
         "hovertemplate": "x=%{x}<br>y=%{y}<extra></extra>",
         "line": {
          "color": "#ff8fab",
          "width": 3
         },
         "marker": {
          "color": "#ff8fab",
          "size": 7
         },
         "mode": "lines+markers",
         "showlegend": false,
         "type": "scatter",
         "x": [
          22,
          23
         ],
         "xaxis": "x",
         "y": [
          4.165458381175995,
          4.6170016646385195
         ],
         "yaxis": "y"
        },
        {
         "hovertemplate": "x=%{x}<br>y=%{y}<extra></extra>",
         "line": {
          "color": "#ff8fab",
          "width": 3
         },
         "marker": {
          "color": "#ff8fab",
          "size": 7
         },
         "mode": "lines+markers",
         "showlegend": false,
         "type": "scatter",
         "x": [
          19,
          20
         ],
         "xaxis": "x",
         "y": [
          3.166562259197235,
          3.5631478309631346
         ],
         "yaxis": "y"
        },
        {
         "hovertemplate": "x=%{x}<br>y=%{y}<extra></extra>",
         "line": {
          "color": "#ff8fab",
          "width": 3
         },
         "marker": {
          "color": "#ff8fab",
          "size": 7
         },
         "mode": "lines+markers",
         "showlegend": false,
         "type": "scatter",
         "x": [
          16,
          17
         ],
         "xaxis": "x",
         "y": [
          2.3924989342689513,
          2.6173692703247067
         ],
         "yaxis": "y"
        },
        {
         "hovertemplate": "x=%{x}<br>y=%{y}<extra></extra>",
         "line": {
          "color": "#ff8fab",
          "width": 3
         },
         "marker": {
          "color": "#ff8fab",
          "size": 7
         },
         "mode": "lines+markers",
         "showlegend": false,
         "type": "scatter",
         "x": [
          15,
          16
         ],
         "xaxis": "x",
         "y": [
          2.139940559864044,
          2.3924989342689513
         ],
         "yaxis": "y"
        },
        {
         "hovertemplate": "x=%{x}<br>y=%{y}<extra></extra>",
         "line": {
          "color": "#ff8fab",
          "width": 3
         },
         "marker": {
          "color": "#ff8fab",
          "size": 7
         },
         "mode": "lines+markers",
         "showlegend": false,
         "type": "scatter",
         "x": [
          11,
          12
         ],
         "xaxis": "x",
         "y": [
          1.4592602252960205,
          1.6782610416412354
         ],
         "yaxis": "y"
        },
        {
         "hovertemplate": "x=%{x}<br>y=%{y}<extra></extra>",
         "line": {
          "color": "#ff8fab",
          "width": 3
         },
         "marker": {
          "color": "#ff8fab",
          "size": 7
         },
         "mode": "lines+markers",
         "showlegend": false,
         "type": "scatter",
         "x": [
          8,
          9
         ],
         "xaxis": "x",
         "y": [
          1.1235314011573792,
          1.5680682897567748
         ],
         "yaxis": "y"
        },
        {
         "hovertemplate": "x=%{x}<br>y=%{y}<extra></extra>",
         "line": {
          "color": "#ff8fab",
          "width": 3
         },
         "marker": {
          "color": "#ff8fab",
          "size": 7
         },
         "mode": "lines+markers",
         "showlegend": false,
         "type": "scatter",
         "x": [
          5,
          6
         ],
         "xaxis": "x",
         "y": [
          0.5605470538139343,
          0.9291406989097595
         ],
         "yaxis": "y"
        },
        {
         "hovertemplate": "x=%{x}<br>y=%{y}<extra></extra>",
         "line": {
          "color": "#ff8fab",
          "width": 3
         },
         "marker": {
          "color": "#ff8fab",
          "size": 7
         },
         "mode": "lines+markers",
         "showlegend": false,
         "type": "scatter",
         "x": [
          3,
          4
         ],
         "xaxis": "x",
         "y": [
          0.31329619884490967,
          0.38140116930007933
         ],
         "yaxis": "y"
        },
        {
         "hovertemplate": "x=%{x}<br>y=%{y}<extra></extra>",
         "line": {
          "color": "#ff8fab",
          "width": 3
         },
         "marker": {
          "color": "#ff8fab",
          "size": 7
         },
         "mode": "lines+markers",
         "showlegend": false,
         "type": "scatter",
         "x": [
          1,
          2
         ],
         "xaxis": "x",
         "y": [
          0,
          0.642487382888794
         ],
         "yaxis": "y"
        },
        {
         "hovertemplate": "x=%{x}<br>y=%{y}<extra></extra>",
         "line": {
          "color": "#023e8a",
          "width": 3
         },
         "marker": {
          "color": "#023e8a",
          "size": 7
         },
         "mode": "lines+markers",
         "showlegend": false,
         "type": "scatter",
         "x": [
          54,
          55
         ],
         "xaxis": "x",
         "y": [
          13.246300399303436,
          13.780965268611908
         ],
         "yaxis": "y"
        },
        {
         "hovertemplate": "x=%{x}<br>y=%{y}<extra></extra>",
         "line": {
          "color": "#023e8a",
          "width": 3
         },
         "marker": {
          "color": "#023e8a",
          "size": 7
         },
         "mode": "lines+markers",
         "showlegend": false,
         "type": "scatter",
         "x": [
          52,
          53
         ],
         "xaxis": "x",
         "y": [
          12.917144775390625,
          13.246300399303436
         ],
         "yaxis": "y"
        },
        {
         "hovertemplate": "x=%{x}<br>y=%{y}<extra></extra>",
         "line": {
          "color": "#023e8a",
          "width": 3
         },
         "marker": {
          "color": "#023e8a",
          "size": 7
         },
         "mode": "lines+markers",
         "showlegend": false,
         "type": "scatter",
         "x": [
          50,
          51
         ],
         "xaxis": "x",
         "y": [
          12.513368904590607,
          12.917144775390625
         ],
         "yaxis": "y"
        },
        {
         "hovertemplate": "x=%{x}<br>y=%{y}<extra></extra>",
         "line": {
          "color": "#023e8a",
          "width": 3
         },
         "marker": {
          "color": "#023e8a",
          "size": 7
         },
         "mode": "lines+markers",
         "showlegend": false,
         "type": "scatter",
         "x": [
          49,
          50
         ],
         "xaxis": "x",
         "y": [
          12.099906980991364,
          12.513368904590607
         ],
         "yaxis": "y"
        },
        {
         "hovertemplate": "x=%{x}<br>y=%{y}<extra></extra>",
         "line": {
          "color": "#023e8a",
          "width": 3
         },
         "marker": {
          "color": "#023e8a",
          "size": 7
         },
         "mode": "lines+markers",
         "showlegend": false,
         "type": "scatter",
         "x": [
          48,
          49
         ],
         "xaxis": "x",
         "y": [
          11.41502159833908,
          12.099906980991364
         ],
         "yaxis": "y"
        },
        {
         "hovertemplate": "x=%{x}<br>y=%{y}<extra></extra>",
         "line": {
          "color": "#023e8a",
          "width": 3
         },
         "marker": {
          "color": "#023e8a",
          "size": 7
         },
         "mode": "lines+markers",
         "showlegend": false,
         "type": "scatter",
         "x": [
          47,
          48
         ],
         "xaxis": "x",
         "y": [
          10.785244524478912,
          11.41502159833908
         ],
         "yaxis": "y"
        },
        {
         "hovertemplate": "x=%{x}<br>y=%{y}<extra></extra>",
         "line": {
          "color": "#023e8a",
          "width": 3
         },
         "marker": {
          "color": "#023e8a",
          "size": 7
         },
         "mode": "lines+markers",
         "showlegend": false,
         "type": "scatter",
         "x": [
          45,
          46
         ],
         "xaxis": "x",
         "y": [
          10.02955412864685,
          10.725525856018066
         ],
         "yaxis": "y"
        },
        {
         "hovertemplate": "x=%{x}<br>y=%{y}<extra></extra>",
         "line": {
          "color": "#023e8a",
          "width": 3
         },
         "marker": {
          "color": "#023e8a",
          "size": 7
         },
         "mode": "lines+markers",
         "showlegend": false,
         "type": "scatter",
         "x": [
          44,
          45
         ],
         "xaxis": "x",
         "y": [
          9.460186123847961,
          10.02955412864685
         ],
         "yaxis": "y"
        },
        {
         "hovertemplate": "x=%{x}<br>y=%{y}<extra></extra>",
         "line": {
          "color": "#023e8a",
          "width": 3
         },
         "marker": {
          "color": "#023e8a",
          "size": 7
         },
         "mode": "lines+markers",
         "showlegend": false,
         "type": "scatter",
         "x": [
          43,
          44
         ],
         "xaxis": "x",
         "y": [
          8.894347071647644,
          9.460186123847961
         ],
         "yaxis": "y"
        },
        {
         "hovertemplate": "x=%{x}<br>y=%{y}<extra></extra>",
         "line": {
          "color": "#023e8a",
          "width": 3
         },
         "marker": {
          "color": "#023e8a",
          "size": 7
         },
         "mode": "lines+markers",
         "showlegend": false,
         "type": "scatter",
         "x": [
          42,
          43
         ],
         "xaxis": "x",
         "y": [
          8.302137911319733,
          8.894347071647644
         ],
         "yaxis": "y"
        },
        {
         "hovertemplate": "x=%{x}<br>y=%{y}<extra></extra>",
         "line": {
          "color": "#023e8a",
          "width": 3
         },
         "marker": {
          "color": "#023e8a",
          "size": 7
         },
         "mode": "lines+markers",
         "showlegend": false,
         "type": "scatter",
         "x": [
          41,
          42
         ],
         "xaxis": "x",
         "y": [
          7.69335001707077,
          8.302137911319733
         ],
         "yaxis": "y"
        },
        {
         "hovertemplate": "x=%{x}<br>y=%{y}<extra></extra>",
         "line": {
          "color": "#023e8a",
          "width": 3
         },
         "marker": {
          "color": "#023e8a",
          "size": 7
         },
         "mode": "lines+markers",
         "showlegend": false,
         "type": "scatter",
         "x": [
          40,
          41
         ],
         "xaxis": "x",
         "y": [
          7.0975629687309265,
          7.69335001707077
         ],
         "yaxis": "y"
        },
        {
         "hovertemplate": "x=%{x}<br>y=%{y}<extra></extra>",
         "line": {
          "color": "#023e8a",
          "width": 3
         },
         "marker": {
          "color": "#023e8a",
          "size": 7
         },
         "mode": "lines+markers",
         "showlegend": false,
         "type": "scatter",
         "x": [
          39,
          40
         ],
         "xaxis": "x",
         "y": [
          6.379370868206024,
          7.0975629687309265
         ],
         "yaxis": "y"
        },
        {
         "hovertemplate": "x=%{x}<br>y=%{y}<extra></extra>",
         "line": {
          "color": "#023e8a",
          "width": 3
         },
         "marker": {
          "color": "#023e8a",
          "size": 7
         },
         "mode": "lines+markers",
         "showlegend": false,
         "type": "scatter",
         "x": [
          38,
          39
         ],
         "xaxis": "x",
         "y": [
          5.8526405692100525,
          6.379370868206024
         ],
         "yaxis": "y"
        },
        {
         "hovertemplate": "x=%{x}<br>y=%{y}<extra></extra>",
         "line": {
          "color": "#023e8a",
          "width": 3
         },
         "marker": {
          "color": "#023e8a",
          "size": 7
         },
         "mode": "lines+markers",
         "showlegend": false,
         "type": "scatter",
         "x": [
          32,
          33
         ],
         "xaxis": "x",
         "y": [
          5.477926135063171,
          5.8526405692100525
         ],
         "yaxis": "y"
        },
        {
         "hovertemplate": "x=%{x}<br>y=%{y}<extra></extra>",
         "line": {
          "color": "#023e8a",
          "width": 3
         },
         "marker": {
          "color": "#023e8a",
          "size": 7
         },
         "mode": "lines+markers",
         "showlegend": false,
         "type": "scatter",
         "x": [
          27,
          28
         ],
         "xaxis": "x",
         "y": [
          5.161315441131592,
          5.477926135063171
         ],
         "yaxis": "y"
        },
        {
         "hovertemplate": "x=%{x}<br>y=%{y}<extra></extra>",
         "line": {
          "color": "#023e8a",
          "width": 3
         },
         "marker": {
          "color": "#023e8a",
          "size": 7
         },
         "mode": "lines+markers",
         "showlegend": false,
         "type": "scatter",
         "x": [
          24,
          25
         ],
         "xaxis": "x",
         "y": [
          4.146890640258789,
          4.483878791332245
         ],
         "yaxis": "y"
        },
        {
         "hovertemplate": "x=%{x}<br>y=%{y}<extra></extra>",
         "line": {
          "color": "#023e8a",
          "width": 3
         },
         "marker": {
          "color": "#023e8a",
          "size": 7
         },
         "mode": "lines+markers",
         "showlegend": false,
         "type": "scatter",
         "x": [
          21,
          22
         ],
         "xaxis": "x",
         "y": [
          3.8816192150115967,
          4.165458381175995
         ],
         "yaxis": "y"
        },
        {
         "hovertemplate": "x=%{x}<br>y=%{y}<extra></extra>",
         "line": {
          "color": "#023e8a",
          "width": 3
         },
         "marker": {
          "color": "#023e8a",
          "size": 7
         },
         "mode": "lines+markers",
         "showlegend": false,
         "type": "scatter",
         "x": [
          20,
          21
         ],
         "xaxis": "x",
         "y": [
          3.166562259197235,
          3.8816192150115967
         ],
         "yaxis": "y"
        },
        {
         "hovertemplate": "x=%{x}<br>y=%{y}<extra></extra>",
         "line": {
          "color": "#023e8a",
          "width": 3
         },
         "marker": {
          "color": "#023e8a",
          "size": 7
         },
         "mode": "lines+markers",
         "showlegend": false,
         "type": "scatter",
         "x": [
          18,
          19
         ],
         "xaxis": "x",
         "y": [
          2.4608731865882874,
          3.166562259197235
         ],
         "yaxis": "y"
        },
        {
         "hovertemplate": "x=%{x}<br>y=%{y}<extra></extra>",
         "line": {
          "color": "#023e8a",
          "width": 3
         },
         "marker": {
          "color": "#023e8a",
          "size": 7
         },
         "mode": "lines+markers",
         "showlegend": false,
         "type": "scatter",
         "x": [
          17,
          18
         ],
         "xaxis": "x",
         "y": [
          2.139940559864044,
          2.4608731865882874
         ],
         "yaxis": "y"
        },
        {
         "hovertemplate": "x=%{x}<br>y=%{y}<extra></extra>",
         "line": {
          "color": "#023e8a",
          "width": 3
         },
         "marker": {
          "color": "#023e8a",
          "size": 7
         },
         "mode": "lines+markers",
         "showlegend": false,
         "type": "scatter",
         "x": [
          14,
          15
         ],
         "xaxis": "x",
         "y": [
          1.828547716140747,
          2.139940559864044
         ],
         "yaxis": "y"
        },
        {
         "hovertemplate": "x=%{x}<br>y=%{y}<extra></extra>",
         "line": {
          "color": "#023e8a",
          "width": 3
         },
         "marker": {
          "color": "#023e8a",
          "size": 7
         },
         "mode": "lines+markers",
         "showlegend": false,
         "type": "scatter",
         "x": [
          13,
          14
         ],
         "xaxis": "x",
         "y": [
          1.5194698572158813,
          1.828547716140747
         ],
         "yaxis": "y"
        },
        {
         "hovertemplate": "x=%{x}<br>y=%{y}<extra></extra>",
         "line": {
          "color": "#023e8a",
          "width": 3
         },
         "marker": {
          "color": "#023e8a",
          "size": 7
         },
         "mode": "lines+markers",
         "showlegend": false,
         "type": "scatter",
         "x": [
          12,
          13
         ],
         "xaxis": "x",
         "y": [
          1.119491457939148,
          1.5194698572158813
         ],
         "yaxis": "y"
        },
        {
         "hovertemplate": "x=%{x}<br>y=%{y}<extra></extra>",
         "line": {
          "color": "#023e8a",
          "width": 3
         },
         "marker": {
          "color": "#023e8a",
          "size": 7
         },
         "mode": "lines+markers",
         "showlegend": false,
         "type": "scatter",
         "x": [
          7,
          8
         ],
         "xaxis": "x",
         "y": [
          0.7401774525642395,
          1.1235314011573792
         ],
         "yaxis": "y"
        },
        {
         "hovertemplate": "x=%{x}<br>y=%{y}<extra></extra>",
         "line": {
          "color": "#023e8a",
          "width": 3
         },
         "marker": {
          "color": "#023e8a",
          "size": 7
         },
         "mode": "lines+markers",
         "showlegend": false,
         "type": "scatter",
         "x": [
          6,
          7
         ],
         "xaxis": "x",
         "y": [
          0.5605470538139343,
          0.7401774525642395
         ],
         "yaxis": "y"
        },
        {
         "hovertemplate": "x=%{x}<br>y=%{y}<extra></extra>",
         "line": {
          "color": "#023e8a",
          "width": 3
         },
         "marker": {
          "color": "#023e8a",
          "size": 7
         },
         "mode": "lines+markers",
         "showlegend": false,
         "type": "scatter",
         "x": [
          4,
          5
         ],
         "xaxis": "x",
         "y": [
          0.31329619884490967,
          0.5605470538139343
         ],
         "yaxis": "y"
        },
        {
         "hovertemplate": "x=%{x}<br>y=%{y}<extra></extra>",
         "line": {
          "color": "#023e8a",
          "width": 3
         },
         "marker": {
          "color": "#023e8a",
          "size": 7
         },
         "mode": "lines+markers",
         "showlegend": false,
         "type": "scatter",
         "x": [
          2,
          3
         ],
         "xaxis": "x",
         "y": [
          0,
          0.31329619884490967
         ],
         "yaxis": "y"
        },
        {
         "hovertemplate": "x=%{x}<br>y=%{y}<extra></extra>",
         "line": {
          "color": "#023e8a",
          "width": 3
         },
         "marker": {
          "color": "#023e8a",
          "size": 7
         },
         "mode": "lines+markers",
         "showlegend": false,
         "type": "scatter",
         "x": [
          0,
          1
         ],
         "xaxis": "x",
         "y": [
          0,
          0.942415714263916
         ],
         "yaxis": "y"
        },
        {
         "hovertemplate": "x=%{x}<br>y=%{y}<extra></extra>",
         "line": {
          "color": "#c1121f",
          "width": 3
         },
         "marker": {
          "color": "#c1121f",
          "size": 7
         },
         "mode": "lines+markers",
         "showlegend": false,
         "type": "scatter",
         "x": [
          26,
          27
         ],
         "xaxis": "x",
         "y": [
          4.483878791332245,
          5.161315441131592
         ],
         "yaxis": "y"
        },
        {
         "hovertemplate": "x=%{x}<br>y=%{y}<extra></extra>",
         "line": {
          "color": "#9d4edd",
          "width": 3
         },
         "marker": {
          "color": "#9d4edd",
          "size": 7
         },
         "mode": "lines+markers",
         "showlegend": false,
         "type": "scatter",
         "x": [
          46,
          47
         ],
         "xaxis": "x",
         "y": [
          10.725525856018066,
          10.785244524478912
         ],
         "yaxis": "y"
        },
        {
         "hovertemplate": "x=%{x}<br>y=%{y}<extra></extra>",
         "line": {
          "color": "#9d4edd",
          "width": 3
         },
         "marker": {
          "color": "#9d4edd",
          "size": 7
         },
         "mode": "lines+markers",
         "showlegend": false,
         "type": "scatter",
         "x": [
          37,
          38
         ],
         "xaxis": "x",
         "y": [
          5.8526405692100525,
          5.8526405692100525
         ],
         "yaxis": "y"
        },
        {
         "hovertemplate": "x=%{x}<br>y=%{y}<extra></extra>",
         "line": {
          "color": "#9d4edd",
          "width": 3
         },
         "marker": {
          "color": "#9d4edd",
          "size": 7
         },
         "mode": "lines+markers",
         "showlegend": false,
         "type": "scatter",
         "x": [
          31,
          32
         ],
         "xaxis": "x",
         "y": [
          5.477926135063171,
          5.477926135063171
         ],
         "yaxis": "y"
        },
        {
         "hovertemplate": "x=%{x}<br>y=%{y}<extra></extra>",
         "line": {
          "color": "#9d4edd",
          "width": 3
         },
         "marker": {
          "color": "#9d4edd",
          "size": 7
         },
         "mode": "lines+markers",
         "showlegend": false,
         "type": "scatter",
         "x": [
          23,
          24
         ],
         "xaxis": "x",
         "y": [
          4.165458381175995,
          4.146890640258789
         ],
         "yaxis": "y"
        },
        {
         "hovertemplate": "x=%{x}<br>y=%{y}<extra></extra>",
         "line": {
          "color": "#9d4edd",
          "width": 3
         },
         "marker": {
          "color": "#9d4edd",
          "size": 7
         },
         "mode": "lines+markers",
         "showlegend": false,
         "type": "scatter",
         "x": [
          9,
          10
         ],
         "xaxis": "x",
         "y": [
          1.1235314011573792,
          1.119491457939148
         ],
         "yaxis": "y"
        },
        {
         "line": {
          "color": "#64B5F6",
          "width": 2
         },
         "mode": "lines",
         "name": "human_insert_backstage",
         "showlegend": true,
         "type": "scatter",
         "x": [
          null
         ],
         "xaxis": "x",
         "y": [
          null
         ],
         "yaxis": "y"
        },
        {
         "line": {
          "color": "#ff8fab",
          "width": 2
         },
         "mode": "lines",
         "name": "ai_suggest_backstage",
         "showlegend": true,
         "type": "scatter",
         "x": [
          null
         ],
         "xaxis": "x",
         "y": [
          null
         ],
         "yaxis": "y"
        },
        {
         "line": {
          "color": "#023e8a",
          "width": 2
         },
         "mode": "lines",
         "name": "human_insert_frontstage",
         "showlegend": true,
         "type": "scatter",
         "x": [
          null
         ],
         "xaxis": "x",
         "y": [
          null
         ],
         "yaxis": "y"
        },
        {
         "line": {
          "color": "#c1121f",
          "width": 2
         },
         "mode": "lines",
         "name": "ai_insert_moved_to_frontstage",
         "showlegend": true,
         "type": "scatter",
         "x": [
          null
         ],
         "xaxis": "x",
         "y": [
          null
         ],
         "yaxis": "y"
        },
        {
         "line": {
          "color": "#9d4edd",
          "width": 2
         },
         "mode": "lines",
         "name": "human_delete_frontstage",
         "showlegend": true,
         "type": "scatter",
         "x": [
          null
         ],
         "xaxis": "x",
         "y": [
          null
         ],
         "yaxis": "y"
        },
        {
         "line": {
          "color": "#5a189a",
          "width": 2
         },
         "mode": "lines",
         "name": "human_insert_edit_frontstage",
         "showlegend": true,
         "type": "scatter",
         "x": [
          null
         ],
         "xaxis": "x",
         "y": [
          null
         ],
         "yaxis": "y"
        }
       ],
       "layout": {
        "annotations": [
         {
          "font": {
           "size": 16
          },
          "showarrow": false,
          "text": "Session: legislation_antitrust_4",
          "x": 0.5,
          "xanchor": "center",
          "xref": "paper",
          "y": 1,
          "yanchor": "bottom",
          "yref": "paper"
         }
        ],
        "height": 500,
        "legend": {
         "title": {
          "font": {
           "color": "rgba(0, 0, 0, 0)"
          }
         }
        },
        "plot_bgcolor": "white",
        "showlegend": true,
        "template": {
         "data": {
          "bar": [
           {
            "error_x": {
             "color": "#2a3f5f"
            },
            "error_y": {
             "color": "#2a3f5f"
            },
            "marker": {
             "line": {
              "color": "#E5ECF6",
              "width": 0.5
             },
             "pattern": {
              "fillmode": "overlay",
              "size": 10,
              "solidity": 0.2
             }
            },
            "type": "bar"
           }
          ],
          "barpolar": [
           {
            "marker": {
             "line": {
              "color": "#E5ECF6",
              "width": 0.5
             },
             "pattern": {
              "fillmode": "overlay",
              "size": 10,
              "solidity": 0.2
             }
            },
            "type": "barpolar"
           }
          ],
          "carpet": [
           {
            "aaxis": {
             "endlinecolor": "#2a3f5f",
             "gridcolor": "white",
             "linecolor": "white",
             "minorgridcolor": "white",
             "startlinecolor": "#2a3f5f"
            },
            "baxis": {
             "endlinecolor": "#2a3f5f",
             "gridcolor": "white",
             "linecolor": "white",
             "minorgridcolor": "white",
             "startlinecolor": "#2a3f5f"
            },
            "type": "carpet"
           }
          ],
          "choropleth": [
           {
            "colorbar": {
             "outlinewidth": 0,
             "ticks": ""
            },
            "type": "choropleth"
           }
          ],
          "contour": [
           {
            "colorbar": {
             "outlinewidth": 0,
             "ticks": ""
            },
            "colorscale": [
             [
              0,
              "#0d0887"
             ],
             [
              0.1111111111111111,
              "#46039f"
             ],
             [
              0.2222222222222222,
              "#7201a8"
             ],
             [
              0.3333333333333333,
              "#9c179e"
             ],
             [
              0.4444444444444444,
              "#bd3786"
             ],
             [
              0.5555555555555556,
              "#d8576b"
             ],
             [
              0.6666666666666666,
              "#ed7953"
             ],
             [
              0.7777777777777778,
              "#fb9f3a"
             ],
             [
              0.8888888888888888,
              "#fdca26"
             ],
             [
              1,
              "#f0f921"
             ]
            ],
            "type": "contour"
           }
          ],
          "contourcarpet": [
           {
            "colorbar": {
             "outlinewidth": 0,
             "ticks": ""
            },
            "type": "contourcarpet"
           }
          ],
          "heatmap": [
           {
            "colorbar": {
             "outlinewidth": 0,
             "ticks": ""
            },
            "colorscale": [
             [
              0,
              "#0d0887"
             ],
             [
              0.1111111111111111,
              "#46039f"
             ],
             [
              0.2222222222222222,
              "#7201a8"
             ],
             [
              0.3333333333333333,
              "#9c179e"
             ],
             [
              0.4444444444444444,
              "#bd3786"
             ],
             [
              0.5555555555555556,
              "#d8576b"
             ],
             [
              0.6666666666666666,
              "#ed7953"
             ],
             [
              0.7777777777777778,
              "#fb9f3a"
             ],
             [
              0.8888888888888888,
              "#fdca26"
             ],
             [
              1,
              "#f0f921"
             ]
            ],
            "type": "heatmap"
           }
          ],
          "histogram": [
           {
            "marker": {
             "pattern": {
              "fillmode": "overlay",
              "size": 10,
              "solidity": 0.2
             }
            },
            "type": "histogram"
           }
          ],
          "histogram2d": [
           {
            "colorbar": {
             "outlinewidth": 0,
             "ticks": ""
            },
            "colorscale": [
             [
              0,
              "#0d0887"
             ],
             [
              0.1111111111111111,
              "#46039f"
             ],
             [
              0.2222222222222222,
              "#7201a8"
             ],
             [
              0.3333333333333333,
              "#9c179e"
             ],
             [
              0.4444444444444444,
              "#bd3786"
             ],
             [
              0.5555555555555556,
              "#d8576b"
             ],
             [
              0.6666666666666666,
              "#ed7953"
             ],
             [
              0.7777777777777778,
              "#fb9f3a"
             ],
             [
              0.8888888888888888,
              "#fdca26"
             ],
             [
              1,
              "#f0f921"
             ]
            ],
            "type": "histogram2d"
           }
          ],
          "histogram2dcontour": [
           {
            "colorbar": {
             "outlinewidth": 0,
             "ticks": ""
            },
            "colorscale": [
             [
              0,
              "#0d0887"
             ],
             [
              0.1111111111111111,
              "#46039f"
             ],
             [
              0.2222222222222222,
              "#7201a8"
             ],
             [
              0.3333333333333333,
              "#9c179e"
             ],
             [
              0.4444444444444444,
              "#bd3786"
             ],
             [
              0.5555555555555556,
              "#d8576b"
             ],
             [
              0.6666666666666666,
              "#ed7953"
             ],
             [
              0.7777777777777778,
              "#fb9f3a"
             ],
             [
              0.8888888888888888,
              "#fdca26"
             ],
             [
              1,
              "#f0f921"
             ]
            ],
            "type": "histogram2dcontour"
           }
          ],
          "mesh3d": [
           {
            "colorbar": {
             "outlinewidth": 0,
             "ticks": ""
            },
            "type": "mesh3d"
           }
          ],
          "parcoords": [
           {
            "line": {
             "colorbar": {
              "outlinewidth": 0,
              "ticks": ""
             }
            },
            "type": "parcoords"
           }
          ],
          "pie": [
           {
            "automargin": true,
            "type": "pie"
           }
          ],
          "scatter": [
           {
            "fillpattern": {
             "fillmode": "overlay",
             "size": 10,
             "solidity": 0.2
            },
            "type": "scatter"
           }
          ],
          "scatter3d": [
           {
            "line": {
             "colorbar": {
              "outlinewidth": 0,
              "ticks": ""
             }
            },
            "marker": {
             "colorbar": {
              "outlinewidth": 0,
              "ticks": ""
             }
            },
            "type": "scatter3d"
           }
          ],
          "scattercarpet": [
           {
            "marker": {
             "colorbar": {
              "outlinewidth": 0,
              "ticks": ""
             }
            },
            "type": "scattercarpet"
           }
          ],
          "scattergeo": [
           {
            "marker": {
             "colorbar": {
              "outlinewidth": 0,
              "ticks": ""
             }
            },
            "type": "scattergeo"
           }
          ],
          "scattergl": [
           {
            "marker": {
             "colorbar": {
              "outlinewidth": 0,
              "ticks": ""
             }
            },
            "type": "scattergl"
           }
          ],
          "scattermap": [
           {
            "marker": {
             "colorbar": {
              "outlinewidth": 0,
              "ticks": ""
             }
            },
            "type": "scattermap"
           }
          ],
          "scattermapbox": [
           {
            "marker": {
             "colorbar": {
              "outlinewidth": 0,
              "ticks": ""
             }
            },
            "type": "scattermapbox"
           }
          ],
          "scatterpolar": [
           {
            "marker": {
             "colorbar": {
              "outlinewidth": 0,
              "ticks": ""
             }
            },
            "type": "scatterpolar"
           }
          ],
          "scatterpolargl": [
           {
            "marker": {
             "colorbar": {
              "outlinewidth": 0,
              "ticks": ""
             }
            },
            "type": "scatterpolargl"
           }
          ],
          "scatterternary": [
           {
            "marker": {
             "colorbar": {
              "outlinewidth": 0,
              "ticks": ""
             }
            },
            "type": "scatterternary"
           }
          ],
          "surface": [
           {
            "colorbar": {
             "outlinewidth": 0,
             "ticks": ""
            },
            "colorscale": [
             [
              0,
              "#0d0887"
             ],
             [
              0.1111111111111111,
              "#46039f"
             ],
             [
              0.2222222222222222,
              "#7201a8"
             ],
             [
              0.3333333333333333,
              "#9c179e"
             ],
             [
              0.4444444444444444,
              "#bd3786"
             ],
             [
              0.5555555555555556,
              "#d8576b"
             ],
             [
              0.6666666666666666,
              "#ed7953"
             ],
             [
              0.7777777777777778,
              "#fb9f3a"
             ],
             [
              0.8888888888888888,
              "#fdca26"
             ],
             [
              1,
              "#f0f921"
             ]
            ],
            "type": "surface"
           }
          ],
          "table": [
           {
            "cells": {
             "fill": {
              "color": "#EBF0F8"
             },
             "line": {
              "color": "white"
             }
            },
            "header": {
             "fill": {
              "color": "#C8D4E3"
             },
             "line": {
              "color": "white"
             }
            },
            "type": "table"
           }
          ]
         },
         "layout": {
          "annotationdefaults": {
           "arrowcolor": "#2a3f5f",
           "arrowhead": 0,
           "arrowwidth": 1
          },
          "autotypenumbers": "strict",
          "coloraxis": {
           "colorbar": {
            "outlinewidth": 0,
            "ticks": ""
           }
          },
          "colorscale": {
           "diverging": [
            [
             0,
             "#8e0152"
            ],
            [
             0.1,
             "#c51b7d"
            ],
            [
             0.2,
             "#de77ae"
            ],
            [
             0.3,
             "#f1b6da"
            ],
            [
             0.4,
             "#fde0ef"
            ],
            [
             0.5,
             "#f7f7f7"
            ],
            [
             0.6,
             "#e6f5d0"
            ],
            [
             0.7,
             "#b8e186"
            ],
            [
             0.8,
             "#7fbc41"
            ],
            [
             0.9,
             "#4d9221"
            ],
            [
             1,
             "#276419"
            ]
           ],
           "sequential": [
            [
             0,
             "#0d0887"
            ],
            [
             0.1111111111111111,
             "#46039f"
            ],
            [
             0.2222222222222222,
             "#7201a8"
            ],
            [
             0.3333333333333333,
             "#9c179e"
            ],
            [
             0.4444444444444444,
             "#bd3786"
            ],
            [
             0.5555555555555556,
             "#d8576b"
            ],
            [
             0.6666666666666666,
             "#ed7953"
            ],
            [
             0.7777777777777778,
             "#fb9f3a"
            ],
            [
             0.8888888888888888,
             "#fdca26"
            ],
            [
             1,
             "#f0f921"
            ]
           ],
           "sequentialminus": [
            [
             0,
             "#0d0887"
            ],
            [
             0.1111111111111111,
             "#46039f"
            ],
            [
             0.2222222222222222,
             "#7201a8"
            ],
            [
             0.3333333333333333,
             "#9c179e"
            ],
            [
             0.4444444444444444,
             "#bd3786"
            ],
            [
             0.5555555555555556,
             "#d8576b"
            ],
            [
             0.6666666666666666,
             "#ed7953"
            ],
            [
             0.7777777777777778,
             "#fb9f3a"
            ],
            [
             0.8888888888888888,
             "#fdca26"
            ],
            [
             1,
             "#f0f921"
            ]
           ]
          },
          "colorway": [
           "#636efa",
           "#EF553B",
           "#00cc96",
           "#ab63fa",
           "#FFA15A",
           "#19d3f3",
           "#FF6692",
           "#B6E880",
           "#FF97FF",
           "#FECB52"
          ],
          "font": {
           "color": "#2a3f5f"
          },
          "geo": {
           "bgcolor": "white",
           "lakecolor": "white",
           "landcolor": "#E5ECF6",
           "showlakes": true,
           "showland": true,
           "subunitcolor": "white"
          },
          "hoverlabel": {
           "align": "left"
          },
          "hovermode": "closest",
          "mapbox": {
           "style": "light"
          },
          "paper_bgcolor": "white",
          "plot_bgcolor": "#E5ECF6",
          "polar": {
           "angularaxis": {
            "gridcolor": "white",
            "linecolor": "white",
            "ticks": ""
           },
           "bgcolor": "#E5ECF6",
           "radialaxis": {
            "gridcolor": "white",
            "linecolor": "white",
            "ticks": ""
           }
          },
          "scene": {
           "xaxis": {
            "backgroundcolor": "#E5ECF6",
            "gridcolor": "white",
            "gridwidth": 2,
            "linecolor": "white",
            "showbackground": true,
            "ticks": "",
            "zerolinecolor": "white"
           },
           "yaxis": {
            "backgroundcolor": "#E5ECF6",
            "gridcolor": "white",
            "gridwidth": 2,
            "linecolor": "white",
            "showbackground": true,
            "ticks": "",
            "zerolinecolor": "white"
           },
           "zaxis": {
            "backgroundcolor": "#E5ECF6",
            "gridcolor": "white",
            "gridwidth": 2,
            "linecolor": "white",
            "showbackground": true,
            "ticks": "",
            "zerolinecolor": "white"
           }
          },
          "shapedefaults": {
           "line": {
            "color": "#2a3f5f"
           }
          },
          "ternary": {
           "aaxis": {
            "gridcolor": "white",
            "linecolor": "white",
            "ticks": ""
           },
           "baxis": {
            "gridcolor": "white",
            "linecolor": "white",
            "ticks": ""
           },
           "bgcolor": "#E5ECF6",
           "caxis": {
            "gridcolor": "white",
            "linecolor": "white",
            "ticks": ""
           }
          },
          "title": {
           "x": 0.05
          },
          "xaxis": {
           "automargin": true,
           "gridcolor": "white",
           "linecolor": "white",
           "ticks": "",
           "title": {
            "standoff": 15
           },
           "zerolinecolor": "white",
           "zerolinewidth": 2
          },
          "yaxis": {
           "automargin": true,
           "gridcolor": "white",
           "linecolor": "white",
           "ticks": "",
           "title": {
            "standoff": 15
           },
           "zerolinecolor": "white",
           "zerolinewidth": 2
          }
         }
        },
        "title": {
         "text": "Semantic Expansion over Writing Sessions<br><span style=\"font-size: 12px;\">*Measuring how well humans are learning while writing with GenAI</span>"
        },
        "width": 1800,
        "xaxis": {
         "anchor": "y",
         "domain": [
          0,
          1
         ],
         "gridcolor": "white",
         "linecolor": "black",
         "mirror": false,
         "range": [
          -1,
          56
         ],
         "showline": true,
         "ticks": "outside",
         "title": {
          "text": "Progress into the writing session"
         }
        },
        "yaxis": {
         "anchor": "x",
         "domain": [
          0,
          1
         ],
         "gridcolor": "white",
         "linecolor": "black",
         "mirror": false,
         "showline": true,
         "ticks": "outside",
         "title": {
          "text": "Scores"
         }
        }
       }
      }
     },
     "metadata": {},
     "output_type": "display_data"
    },
    {
     "name": "stdout",
     "output_type": "stream",
     "text": [
      "legislation_antitrust_5\n"
     ]
    },
    {
     "data": {
      "application/vnd.plotly.v1+json": {
       "config": {
        "plotlyServerURL": "https://plot.ly"
       },
       "data": [
        {
         "hovertemplate": "x=%{x}<br>y=%{y}<extra></extra>",
         "line": {
          "color": "#64B5F6",
          "width": 3
         },
         "marker": {
          "color": "#64B5F6",
          "size": 7
         },
         "mode": "lines+markers",
         "showlegend": false,
         "type": "scatter",
         "x": [
          30,
          31
         ],
         "xaxis": "x",
         "y": [
          10.37738015651703,
          10.672503972053528
         ],
         "yaxis": "y"
        },
        {
         "hovertemplate": "x=%{x}<br>y=%{y}<extra></extra>",
         "line": {
          "color": "#64B5F6",
          "width": 3
         },
         "marker": {
          "color": "#64B5F6",
          "size": 7
         },
         "mode": "lines+markers",
         "showlegend": false,
         "type": "scatter",
         "x": [
          28,
          29
         ],
         "xaxis": "x",
         "y": [
          9.560556221008301,
          9.942695665359498
         ],
         "yaxis": "y"
        },
        {
         "hovertemplate": "x=%{x}<br>y=%{y}<extra></extra>",
         "line": {
          "color": "#64B5F6",
          "width": 3
         },
         "marker": {
          "color": "#64B5F6",
          "size": 7
         },
         "mode": "lines+markers",
         "showlegend": false,
         "type": "scatter",
         "x": [
          26,
          27
         ],
         "xaxis": "x",
         "y": [
          8.866257214546204,
          9.204202795028687
         ],
         "yaxis": "y"
        },
        {
         "hovertemplate": "x=%{x}<br>y=%{y}<extra></extra>",
         "line": {
          "color": "#64B5F6",
          "width": 3
         },
         "marker": {
          "color": "#64B5F6",
          "size": 7
         },
         "mode": "lines+markers",
         "showlegend": false,
         "type": "scatter",
         "x": [
          24,
          25
         ],
         "xaxis": "x",
         "y": [
          8.081096768379211,
          8.420946538448334
         ],
         "yaxis": "y"
        },
        {
         "hovertemplate": "x=%{x}<br>y=%{y}<extra></extra>",
         "line": {
          "color": "#64B5F6",
          "width": 3
         },
         "marker": {
          "color": "#64B5F6",
          "size": 7
         },
         "mode": "lines+markers",
         "showlegend": false,
         "type": "scatter",
         "x": [
          23,
          24
         ],
         "xaxis": "x",
         "y": [
          8.15406984090805,
          8.081096768379211
         ],
         "yaxis": "y"
        },
        {
         "hovertemplate": "x=%{x}<br>y=%{y}<extra></extra>",
         "line": {
          "color": "#ff8fab",
          "width": 3
         },
         "marker": {
          "color": "#ff8fab",
          "size": 7
         },
         "mode": "lines+markers",
         "showlegend": false,
         "type": "scatter",
         "x": [
          47,
          48
         ],
         "xaxis": "x",
         "y": [
          13.763981997966766,
          14.221356785297393
         ],
         "yaxis": "y"
        },
        {
         "hovertemplate": "x=%{x}<br>y=%{y}<extra></extra>",
         "line": {
          "color": "#ff8fab",
          "width": 3
         },
         "marker": {
          "color": "#ff8fab",
          "size": 7
         },
         "mode": "lines+markers",
         "showlegend": false,
         "type": "scatter",
         "x": [
          31,
          32
         ],
         "xaxis": "x",
         "y": [
          10.672503972053528,
          11.048651444911957
         ],
         "yaxis": "y"
        },
        {
         "hovertemplate": "x=%{x}<br>y=%{y}<extra></extra>",
         "line": {
          "color": "#ff8fab",
          "width": 3
         },
         "marker": {
          "color": "#ff8fab",
          "size": 7
         },
         "mode": "lines+markers",
         "showlegend": false,
         "type": "scatter",
         "x": [
          29,
          30
         ],
         "xaxis": "x",
         "y": [
          9.942695665359498,
          10.37738015651703
         ],
         "yaxis": "y"
        },
        {
         "hovertemplate": "x=%{x}<br>y=%{y}<extra></extra>",
         "line": {
          "color": "#ff8fab",
          "width": 3
         },
         "marker": {
          "color": "#ff8fab",
          "size": 7
         },
         "mode": "lines+markers",
         "showlegend": false,
         "type": "scatter",
         "x": [
          27,
          28
         ],
         "xaxis": "x",
         "y": [
          9.204202795028687,
          9.560556221008301
         ],
         "yaxis": "y"
        },
        {
         "hovertemplate": "x=%{x}<br>y=%{y}<extra></extra>",
         "line": {
          "color": "#ff8fab",
          "width": 3
         },
         "marker": {
          "color": "#ff8fab",
          "size": 7
         },
         "mode": "lines+markers",
         "showlegend": false,
         "type": "scatter",
         "x": [
          25,
          26
         ],
         "xaxis": "x",
         "y": [
          8.420946538448334,
          8.866257214546204
         ],
         "yaxis": "y"
        },
        {
         "hovertemplate": "x=%{x}<br>y=%{y}<extra></extra>",
         "line": {
          "color": "#ff8fab",
          "width": 3
         },
         "marker": {
          "color": "#ff8fab",
          "size": 7
         },
         "mode": "lines+markers",
         "showlegend": false,
         "type": "scatter",
         "x": [
          21,
          22
         ],
         "xaxis": "x",
         "y": [
          7.3165916204452515,
          6.999110460281372
         ],
         "yaxis": "y"
        },
        {
         "hovertemplate": "x=%{x}<br>y=%{y}<extra></extra>",
         "line": {
          "color": "#ff8fab",
          "width": 3
         },
         "marker": {
          "color": "#ff8fab",
          "size": 7
         },
         "mode": "lines+markers",
         "showlegend": false,
         "type": "scatter",
         "x": [
          15,
          16
         ],
         "xaxis": "x",
         "y": [
          5.213970601558685,
          5.662589263916016
         ],
         "yaxis": "y"
        },
        {
         "hovertemplate": "x=%{x}<br>y=%{y}<extra></extra>",
         "line": {
          "color": "#ff8fab",
          "width": 3
         },
         "marker": {
          "color": "#ff8fab",
          "size": 7
         },
         "mode": "lines+markers",
         "showlegend": false,
         "type": "scatter",
         "x": [
          6,
          7
         ],
         "xaxis": "x",
         "y": [
          1.8857853412628174,
          2.2981985449790954
         ],
         "yaxis": "y"
        },
        {
         "hovertemplate": "x=%{x}<br>y=%{y}<extra></extra>",
         "line": {
          "color": "#ff8fab",
          "width": 3
         },
         "marker": {
          "color": "#ff8fab",
          "size": 7
         },
         "mode": "lines+markers",
         "showlegend": false,
         "type": "scatter",
         "x": [
          2,
          3
         ],
         "xaxis": "x",
         "y": [
          0.2898159623146057,
          0.8575907707214356
         ],
         "yaxis": "y"
        },
        {
         "hovertemplate": "x=%{x}<br>y=%{y}<extra></extra>",
         "line": {
          "color": "#023e8a",
          "width": 3
         },
         "marker": {
          "color": "#023e8a",
          "size": 7
         },
         "mode": "lines+markers",
         "showlegend": false,
         "type": "scatter",
         "x": [
          63,
          64
         ],
         "xaxis": "x",
         "y": [
          20.590641379356384,
          21.11117959022522
         ],
         "yaxis": "y"
        },
        {
         "hovertemplate": "x=%{x}<br>y=%{y}<extra></extra>",
         "line": {
          "color": "#023e8a",
          "width": 3
         },
         "marker": {
          "color": "#023e8a",
          "size": 7
         },
         "mode": "lines+markers",
         "showlegend": false,
         "type": "scatter",
         "x": [
          62,
          63
         ],
         "xaxis": "x",
         "y": [
          20.119581878185272,
          20.590641379356384
         ],
         "yaxis": "y"
        },
        {
         "hovertemplate": "x=%{x}<br>y=%{y}<extra></extra>",
         "line": {
          "color": "#023e8a",
          "width": 3
         },
         "marker": {
          "color": "#023e8a",
          "size": 7
         },
         "mode": "lines+markers",
         "showlegend": false,
         "type": "scatter",
         "x": [
          61,
          62
         ],
         "xaxis": "x",
         "y": [
          19.492205798625946,
          20.119581878185272
         ],
         "yaxis": "y"
        },
        {
         "hovertemplate": "x=%{x}<br>y=%{y}<extra></extra>",
         "line": {
          "color": "#023e8a",
          "width": 3
         },
         "marker": {
          "color": "#023e8a",
          "size": 7
         },
         "mode": "lines+markers",
         "showlegend": false,
         "type": "scatter",
         "x": [
          60,
          61
         ],
         "xaxis": "x",
         "y": [
          19.057965636253357,
          19.492205798625946
         ],
         "yaxis": "y"
        },
        {
         "hovertemplate": "x=%{x}<br>y=%{y}<extra></extra>",
         "line": {
          "color": "#023e8a",
          "width": 3
         },
         "marker": {
          "color": "#023e8a",
          "size": 7
         },
         "mode": "lines+markers",
         "showlegend": false,
         "type": "scatter",
         "x": [
          59,
          60
         ],
         "xaxis": "x",
         "y": [
          18.441067814826965,
          19.057965636253357
         ],
         "yaxis": "y"
        },
        {
         "hovertemplate": "x=%{x}<br>y=%{y}<extra></extra>",
         "line": {
          "color": "#023e8a",
          "width": 3
         },
         "marker": {
          "color": "#023e8a",
          "size": 7
         },
         "mode": "lines+markers",
         "showlegend": false,
         "type": "scatter",
         "x": [
          58,
          59
         ],
         "xaxis": "x",
         "y": [
          18.01084291934967,
          18.441067814826965
         ],
         "yaxis": "y"
        },
        {
         "hovertemplate": "x=%{x}<br>y=%{y}<extra></extra>",
         "line": {
          "color": "#023e8a",
          "width": 3
         },
         "marker": {
          "color": "#023e8a",
          "size": 7
         },
         "mode": "lines+markers",
         "showlegend": false,
         "type": "scatter",
         "x": [
          57,
          58
         ],
         "xaxis": "x",
         "y": [
          17.562691271305084,
          18.01084291934967
         ],
         "yaxis": "y"
        },
        {
         "hovertemplate": "x=%{x}<br>y=%{y}<extra></extra>",
         "line": {
          "color": "#023e8a",
          "width": 3
         },
         "marker": {
          "color": "#023e8a",
          "size": 7
         },
         "mode": "lines+markers",
         "showlegend": false,
         "type": "scatter",
         "x": [
          56,
          57
         ],
         "xaxis": "x",
         "y": [
          17.151199400424957,
          17.562691271305084
         ],
         "yaxis": "y"
        },
        {
         "hovertemplate": "x=%{x}<br>y=%{y}<extra></extra>",
         "line": {
          "color": "#023e8a",
          "width": 3
         },
         "marker": {
          "color": "#023e8a",
          "size": 7
         },
         "mode": "lines+markers",
         "showlegend": false,
         "type": "scatter",
         "x": [
          55,
          56
         ],
         "xaxis": "x",
         "y": [
          16.853144228458405,
          17.151199400424957
         ],
         "yaxis": "y"
        },
        {
         "hovertemplate": "x=%{x}<br>y=%{y}<extra></extra>",
         "line": {
          "color": "#023e8a",
          "width": 3
         },
         "marker": {
          "color": "#023e8a",
          "size": 7
         },
         "mode": "lines+markers",
         "showlegend": false,
         "type": "scatter",
         "x": [
          54,
          55
         ],
         "xaxis": "x",
         "y": [
          16.481559336185455,
          16.853144228458405
         ],
         "yaxis": "y"
        },
        {
         "hovertemplate": "x=%{x}<br>y=%{y}<extra></extra>",
         "line": {
          "color": "#023e8a",
          "width": 3
         },
         "marker": {
          "color": "#023e8a",
          "size": 7
         },
         "mode": "lines+markers",
         "showlegend": false,
         "type": "scatter",
         "x": [
          53,
          54
         ],
         "xaxis": "x",
         "y": [
          16.037492394447327,
          16.481559336185455
         ],
         "yaxis": "y"
        },
        {
         "hovertemplate": "x=%{x}<br>y=%{y}<extra></extra>",
         "line": {
          "color": "#023e8a",
          "width": 3
         },
         "marker": {
          "color": "#023e8a",
          "size": 7
         },
         "mode": "lines+markers",
         "showlegend": false,
         "type": "scatter",
         "x": [
          52,
          53
         ],
         "xaxis": "x",
         "y": [
          15.61905550956726,
          16.037492394447327
         ],
         "yaxis": "y"
        },
        {
         "hovertemplate": "x=%{x}<br>y=%{y}<extra></extra>",
         "line": {
          "color": "#023e8a",
          "width": 3
         },
         "marker": {
          "color": "#023e8a",
          "size": 7
         },
         "mode": "lines+markers",
         "showlegend": false,
         "type": "scatter",
         "x": [
          51,
          52
         ],
         "xaxis": "x",
         "y": [
          15.172013342380524,
          15.61905550956726
         ],
         "yaxis": "y"
        },
        {
         "hovertemplate": "x=%{x}<br>y=%{y}<extra></extra>",
         "line": {
          "color": "#023e8a",
          "width": 3
         },
         "marker": {
          "color": "#023e8a",
          "size": 7
         },
         "mode": "lines+markers",
         "showlegend": false,
         "type": "scatter",
         "x": [
          50,
          51
         ],
         "xaxis": "x",
         "y": [
          14.793226778507233,
          15.172013342380524
         ],
         "yaxis": "y"
        },
        {
         "hovertemplate": "x=%{x}<br>y=%{y}<extra></extra>",
         "line": {
          "color": "#023e8a",
          "width": 3
         },
         "marker": {
          "color": "#023e8a",
          "size": 7
         },
         "mode": "lines+markers",
         "showlegend": false,
         "type": "scatter",
         "x": [
          49,
          50
         ],
         "xaxis": "x",
         "y": [
          14.202826917171478,
          14.793226778507233
         ],
         "yaxis": "y"
        },
        {
         "hovertemplate": "x=%{x}<br>y=%{y}<extra></extra>",
         "line": {
          "color": "#023e8a",
          "width": 3
         },
         "marker": {
          "color": "#023e8a",
          "size": 7
         },
         "mode": "lines+markers",
         "showlegend": false,
         "type": "scatter",
         "x": [
          48,
          49
         ],
         "xaxis": "x",
         "y": [
          13.763981997966766,
          14.202826917171478
         ],
         "yaxis": "y"
        },
        {
         "hovertemplate": "x=%{x}<br>y=%{y}<extra></extra>",
         "line": {
          "color": "#023e8a",
          "width": 3
         },
         "marker": {
          "color": "#023e8a",
          "size": 7
         },
         "mode": "lines+markers",
         "showlegend": false,
         "type": "scatter",
         "x": [
          46,
          47
         ],
         "xaxis": "x",
         "y": [
          13.339156150817871,
          13.763981997966766
         ],
         "yaxis": "y"
        },
        {
         "hovertemplate": "x=%{x}<br>y=%{y}<extra></extra>",
         "line": {
          "color": "#023e8a",
          "width": 3
         },
         "marker": {
          "color": "#023e8a",
          "size": 7
         },
         "mode": "lines+markers",
         "showlegend": false,
         "type": "scatter",
         "x": [
          45,
          46
         ],
         "xaxis": "x",
         "y": [
          12.952116250991821,
          13.339156150817871
         ],
         "yaxis": "y"
        },
        {
         "hovertemplate": "x=%{x}<br>y=%{y}<extra></extra>",
         "line": {
          "color": "#023e8a",
          "width": 3
         },
         "marker": {
          "color": "#023e8a",
          "size": 7
         },
         "mode": "lines+markers",
         "showlegend": false,
         "type": "scatter",
         "x": [
          44,
          45
         ],
         "xaxis": "x",
         "y": [
          12.44506186246872,
          12.952116250991821
         ],
         "yaxis": "y"
        },
        {
         "hovertemplate": "x=%{x}<br>y=%{y}<extra></extra>",
         "line": {
          "color": "#023e8a",
          "width": 3
         },
         "marker": {
          "color": "#023e8a",
          "size": 7
         },
         "mode": "lines+markers",
         "showlegend": false,
         "type": "scatter",
         "x": [
          43,
          44
         ],
         "xaxis": "x",
         "y": [
          12.05960237979889,
          12.44506186246872
         ],
         "yaxis": "y"
        },
        {
         "hovertemplate": "x=%{x}<br>y=%{y}<extra></extra>",
         "line": {
          "color": "#023e8a",
          "width": 3
         },
         "marker": {
          "color": "#023e8a",
          "size": 7
         },
         "mode": "lines+markers",
         "showlegend": false,
         "type": "scatter",
         "x": [
          41,
          42
         ],
         "xaxis": "x",
         "y": [
          11.41871440410614,
          11.958515107631683
         ],
         "yaxis": "y"
        },
        {
         "hovertemplate": "x=%{x}<br>y=%{y}<extra></extra>",
         "line": {
          "color": "#023e8a",
          "width": 3
         },
         "marker": {
          "color": "#023e8a",
          "size": 7
         },
         "mode": "lines+markers",
         "showlegend": false,
         "type": "scatter",
         "x": [
          40,
          41
         ],
         "xaxis": "x",
         "y": [
          11.006965935230255,
          11.41871440410614
         ],
         "yaxis": "y"
        },
        {
         "hovertemplate": "x=%{x}<br>y=%{y}<extra></extra>",
         "line": {
          "color": "#023e8a",
          "width": 3
         },
         "marker": {
          "color": "#023e8a",
          "size": 7
         },
         "mode": "lines+markers",
         "showlegend": false,
         "type": "scatter",
         "x": [
          39,
          40
         ],
         "xaxis": "x",
         "y": [
          10.664211928844452,
          11.006965935230255
         ],
         "yaxis": "y"
        },
        {
         "hovertemplate": "x=%{x}<br>y=%{y}<extra></extra>",
         "line": {
          "color": "#023e8a",
          "width": 3
         },
         "marker": {
          "color": "#023e8a",
          "size": 7
         },
         "mode": "lines+markers",
         "showlegend": false,
         "type": "scatter",
         "x": [
          38,
          39
         ],
         "xaxis": "x",
         "y": [
          10.276206731796265,
          10.664211928844452
         ],
         "yaxis": "y"
        },
        {
         "hovertemplate": "x=%{x}<br>y=%{y}<extra></extra>",
         "line": {
          "color": "#023e8a",
          "width": 3
         },
         "marker": {
          "color": "#023e8a",
          "size": 7
         },
         "mode": "lines+markers",
         "showlegend": false,
         "type": "scatter",
         "x": [
          37,
          38
         ],
         "xaxis": "x",
         "y": [
          9.926009118556976,
          10.276206731796265
         ],
         "yaxis": "y"
        },
        {
         "hovertemplate": "x=%{x}<br>y=%{y}<extra></extra>",
         "line": {
          "color": "#023e8a",
          "width": 3
         },
         "marker": {
          "color": "#023e8a",
          "size": 7
         },
         "mode": "lines+markers",
         "showlegend": false,
         "type": "scatter",
         "x": [
          36,
          37
         ],
         "xaxis": "x",
         "y": [
          9.575055241584778,
          9.926009118556976
         ],
         "yaxis": "y"
        },
        {
         "hovertemplate": "x=%{x}<br>y=%{y}<extra></extra>",
         "line": {
          "color": "#023e8a",
          "width": 3
         },
         "marker": {
          "color": "#023e8a",
          "size": 7
         },
         "mode": "lines+markers",
         "showlegend": false,
         "type": "scatter",
         "x": [
          35,
          36
         ],
         "xaxis": "x",
         "y": [
          9.216464817523956,
          9.575055241584778
         ],
         "yaxis": "y"
        },
        {
         "hovertemplate": "x=%{x}<br>y=%{y}<extra></extra>",
         "line": {
          "color": "#023e8a",
          "width": 3
         },
         "marker": {
          "color": "#023e8a",
          "size": 7
         },
         "mode": "lines+markers",
         "showlegend": false,
         "type": "scatter",
         "x": [
          34,
          35
         ],
         "xaxis": "x",
         "y": [
          8.831244230270386,
          9.216464817523956
         ],
         "yaxis": "y"
        },
        {
         "hovertemplate": "x=%{x}<br>y=%{y}<extra></extra>",
         "line": {
          "color": "#023e8a",
          "width": 3
         },
         "marker": {
          "color": "#023e8a",
          "size": 7
         },
         "mode": "lines+markers",
         "showlegend": false,
         "type": "scatter",
         "x": [
          33,
          34
         ],
         "xaxis": "x",
         "y": [
          8.509430587291718,
          8.831244230270386
         ],
         "yaxis": "y"
        },
        {
         "hovertemplate": "x=%{x}<br>y=%{y}<extra></extra>",
         "line": {
          "color": "#023e8a",
          "width": 3
         },
         "marker": {
          "color": "#023e8a",
          "size": 7
         },
         "mode": "lines+markers",
         "showlegend": false,
         "type": "scatter",
         "x": [
          22,
          23
         ],
         "xaxis": "x",
         "y": [
          7.3165916204452515,
          8.15406984090805
         ],
         "yaxis": "y"
        },
        {
         "hovertemplate": "x=%{x}<br>y=%{y}<extra></extra>",
         "line": {
          "color": "#023e8a",
          "width": 3
         },
         "marker": {
          "color": "#023e8a",
          "size": 7
         },
         "mode": "lines+markers",
         "showlegend": false,
         "type": "scatter",
         "x": [
          20,
          21
         ],
         "xaxis": "x",
         "y": [
          6.537892818450928,
          7.3165916204452515
         ],
         "yaxis": "y"
        },
        {
         "hovertemplate": "x=%{x}<br>y=%{y}<extra></extra>",
         "line": {
          "color": "#023e8a",
          "width": 3
         },
         "marker": {
          "color": "#023e8a",
          "size": 7
         },
         "mode": "lines+markers",
         "showlegend": false,
         "type": "scatter",
         "x": [
          19,
          20
         ],
         "xaxis": "x",
         "y": [
          6.123666167259216,
          6.537892818450928
         ],
         "yaxis": "y"
        },
        {
         "hovertemplate": "x=%{x}<br>y=%{y}<extra></extra>",
         "line": {
          "color": "#023e8a",
          "width": 3
         },
         "marker": {
          "color": "#023e8a",
          "size": 7
         },
         "mode": "lines+markers",
         "showlegend": false,
         "type": "scatter",
         "x": [
          18,
          19
         ],
         "xaxis": "x",
         "y": [
          5.690815329551697,
          6.123666167259216
         ],
         "yaxis": "y"
        },
        {
         "hovertemplate": "x=%{x}<br>y=%{y}<extra></extra>",
         "line": {
          "color": "#023e8a",
          "width": 3
         },
         "marker": {
          "color": "#023e8a",
          "size": 7
         },
         "mode": "lines+markers",
         "showlegend": false,
         "type": "scatter",
         "x": [
          16,
          17
         ],
         "xaxis": "x",
         "y": [
          5.213970601558685,
          5.625509023666382
         ],
         "yaxis": "y"
        },
        {
         "hovertemplate": "x=%{x}<br>y=%{y}<extra></extra>",
         "line": {
          "color": "#023e8a",
          "width": 3
         },
         "marker": {
          "color": "#023e8a",
          "size": 7
         },
         "mode": "lines+markers",
         "showlegend": false,
         "type": "scatter",
         "x": [
          14,
          15
         ],
         "xaxis": "x",
         "y": [
          4.702828824520111,
          5.213970601558685
         ],
         "yaxis": "y"
        },
        {
         "hovertemplate": "x=%{x}<br>y=%{y}<extra></extra>",
         "line": {
          "color": "#023e8a",
          "width": 3
         },
         "marker": {
          "color": "#023e8a",
          "size": 7
         },
         "mode": "lines+markers",
         "showlegend": false,
         "type": "scatter",
         "x": [
          13,
          14
         ],
         "xaxis": "x",
         "y": [
          4.125848352909088,
          4.702828824520111
         ],
         "yaxis": "y"
        },
        {
         "hovertemplate": "x=%{x}<br>y=%{y}<extra></extra>",
         "line": {
          "color": "#023e8a",
          "width": 3
         },
         "marker": {
          "color": "#023e8a",
          "size": 7
         },
         "mode": "lines+markers",
         "showlegend": false,
         "type": "scatter",
         "x": [
          12,
          13
         ],
         "xaxis": "x",
         "y": [
          3.6050475239753723,
          4.125848352909088
         ],
         "yaxis": "y"
        },
        {
         "hovertemplate": "x=%{x}<br>y=%{y}<extra></extra>",
         "line": {
          "color": "#023e8a",
          "width": 3
         },
         "marker": {
          "color": "#023e8a",
          "size": 7
         },
         "mode": "lines+markers",
         "showlegend": false,
         "type": "scatter",
         "x": [
          11,
          12
         ],
         "xaxis": "x",
         "y": [
          3.3254923224449158,
          3.6050475239753723
         ],
         "yaxis": "y"
        },
        {
         "hovertemplate": "x=%{x}<br>y=%{y}<extra></extra>",
         "line": {
          "color": "#023e8a",
          "width": 3
         },
         "marker": {
          "color": "#023e8a",
          "size": 7
         },
         "mode": "lines+markers",
         "showlegend": false,
         "type": "scatter",
         "x": [
          10,
          11
         ],
         "xaxis": "x",
         "y": [
          3.015429675579071,
          3.3254923224449158
         ],
         "yaxis": "y"
        },
        {
         "hovertemplate": "x=%{x}<br>y=%{y}<extra></extra>",
         "line": {
          "color": "#023e8a",
          "width": 3
         },
         "marker": {
          "color": "#023e8a",
          "size": 7
         },
         "mode": "lines+markers",
         "showlegend": false,
         "type": "scatter",
         "x": [
          9,
          10
         ],
         "xaxis": "x",
         "y": [
          2.6856150031089783,
          3.015429675579071
         ],
         "yaxis": "y"
        },
        {
         "hovertemplate": "x=%{x}<br>y=%{y}<extra></extra>",
         "line": {
          "color": "#023e8a",
          "width": 3
         },
         "marker": {
          "color": "#023e8a",
          "size": 7
         },
         "mode": "lines+markers",
         "showlegend": false,
         "type": "scatter",
         "x": [
          8,
          9
         ],
         "xaxis": "x",
         "y": [
          2.2480520009994507,
          2.6856150031089783
         ],
         "yaxis": "y"
        },
        {
         "hovertemplate": "x=%{x}<br>y=%{y}<extra></extra>",
         "line": {
          "color": "#023e8a",
          "width": 3
         },
         "marker": {
          "color": "#023e8a",
          "size": 7
         },
         "mode": "lines+markers",
         "showlegend": false,
         "type": "scatter",
         "x": [
          7,
          8
         ],
         "xaxis": "x",
         "y": [
          1.8857853412628174,
          2.2480520009994507
         ],
         "yaxis": "y"
        },
        {
         "hovertemplate": "x=%{x}<br>y=%{y}<extra></extra>",
         "line": {
          "color": "#023e8a",
          "width": 3
         },
         "marker": {
          "color": "#023e8a",
          "size": 7
         },
         "mode": "lines+markers",
         "showlegend": false,
         "type": "scatter",
         "x": [
          5,
          6
         ],
         "xaxis": "x",
         "y": [
          1.497529149055481,
          1.8857853412628174
         ],
         "yaxis": "y"
        },
        {
         "hovertemplate": "x=%{x}<br>y=%{y}<extra></extra>",
         "line": {
          "color": "#023e8a",
          "width": 3
         },
         "marker": {
          "color": "#023e8a",
          "size": 7
         },
         "mode": "lines+markers",
         "showlegend": false,
         "type": "scatter",
         "x": [
          4,
          5
         ],
         "xaxis": "x",
         "y": [
          1.1472916007041931,
          1.497529149055481
         ],
         "yaxis": "y"
        },
        {
         "hovertemplate": "x=%{x}<br>y=%{y}<extra></extra>",
         "line": {
          "color": "#023e8a",
          "width": 3
         },
         "marker": {
          "color": "#023e8a",
          "size": 7
         },
         "mode": "lines+markers",
         "showlegend": false,
         "type": "scatter",
         "x": [
          3,
          4
         ],
         "xaxis": "x",
         "y": [
          0.2898159623146057,
          1.1472916007041931
         ],
         "yaxis": "y"
        },
        {
         "hovertemplate": "x=%{x}<br>y=%{y}<extra></extra>",
         "line": {
          "color": "#023e8a",
          "width": 3
         },
         "marker": {
          "color": "#023e8a",
          "size": 7
         },
         "mode": "lines+markers",
         "showlegend": false,
         "type": "scatter",
         "x": [
          1,
          2
         ],
         "xaxis": "x",
         "y": [
          0,
          0.2898159623146057
         ],
         "yaxis": "y"
        },
        {
         "hovertemplate": "x=%{x}<br>y=%{y}<extra></extra>",
         "line": {
          "color": "#023e8a",
          "width": 3
         },
         "marker": {
          "color": "#023e8a",
          "size": 7
         },
         "mode": "lines+markers",
         "showlegend": false,
         "type": "scatter",
         "x": [
          0,
          1
         ],
         "xaxis": "x",
         "y": [
          0,
          0.5179584622383118
         ],
         "yaxis": "y"
        },
        {
         "hovertemplate": "x=%{x}<br>y=%{y}<extra></extra>",
         "line": {
          "color": "#c1121f",
          "width": 3
         },
         "marker": {
          "color": "#c1121f",
          "size": 7
         },
         "mode": "lines+markers",
         "showlegend": false,
         "type": "scatter",
         "x": [
          32,
          33
         ],
         "xaxis": "x",
         "y": [
          8.15406984090805,
          8.509430587291718
         ],
         "yaxis": "y"
        },
        {
         "hovertemplate": "x=%{x}<br>y=%{y}<extra></extra>",
         "line": {
          "color": "#9d4edd",
          "width": 3
         },
         "marker": {
          "color": "#9d4edd",
          "size": 7
         },
         "mode": "lines+markers",
         "showlegend": false,
         "type": "scatter",
         "x": [
          42,
          43
         ],
         "xaxis": "x",
         "y": [
          11.958515107631683,
          12.05960237979889
         ],
         "yaxis": "y"
        },
        {
         "hovertemplate": "x=%{x}<br>y=%{y}<extra></extra>",
         "line": {
          "color": "#9d4edd",
          "width": 3
         },
         "marker": {
          "color": "#9d4edd",
          "size": 7
         },
         "mode": "lines+markers",
         "showlegend": false,
         "type": "scatter",
         "x": [
          17,
          18
         ],
         "xaxis": "x",
         "y": [
          5.625509023666382,
          5.690815329551697
         ],
         "yaxis": "y"
        },
        {
         "line": {
          "color": "#64B5F6",
          "width": 2
         },
         "mode": "lines",
         "name": "human_insert_backstage",
         "showlegend": true,
         "type": "scatter",
         "x": [
          null
         ],
         "xaxis": "x",
         "y": [
          null
         ],
         "yaxis": "y"
        },
        {
         "line": {
          "color": "#ff8fab",
          "width": 2
         },
         "mode": "lines",
         "name": "ai_suggest_backstage",
         "showlegend": true,
         "type": "scatter",
         "x": [
          null
         ],
         "xaxis": "x",
         "y": [
          null
         ],
         "yaxis": "y"
        },
        {
         "line": {
          "color": "#023e8a",
          "width": 2
         },
         "mode": "lines",
         "name": "human_insert_frontstage",
         "showlegend": true,
         "type": "scatter",
         "x": [
          null
         ],
         "xaxis": "x",
         "y": [
          null
         ],
         "yaxis": "y"
        },
        {
         "line": {
          "color": "#c1121f",
          "width": 2
         },
         "mode": "lines",
         "name": "ai_insert_moved_to_frontstage",
         "showlegend": true,
         "type": "scatter",
         "x": [
          null
         ],
         "xaxis": "x",
         "y": [
          null
         ],
         "yaxis": "y"
        },
        {
         "line": {
          "color": "#9d4edd",
          "width": 2
         },
         "mode": "lines",
         "name": "human_delete_frontstage",
         "showlegend": true,
         "type": "scatter",
         "x": [
          null
         ],
         "xaxis": "x",
         "y": [
          null
         ],
         "yaxis": "y"
        },
        {
         "line": {
          "color": "#5a189a",
          "width": 2
         },
         "mode": "lines",
         "name": "human_insert_edit_frontstage",
         "showlegend": true,
         "type": "scatter",
         "x": [
          null
         ],
         "xaxis": "x",
         "y": [
          null
         ],
         "yaxis": "y"
        }
       ],
       "layout": {
        "annotations": [
         {
          "font": {
           "size": 16
          },
          "showarrow": false,
          "text": "Session: legislation_antitrust_5",
          "x": 0.5,
          "xanchor": "center",
          "xref": "paper",
          "y": 1,
          "yanchor": "bottom",
          "yref": "paper"
         }
        ],
        "height": 500,
        "legend": {
         "title": {
          "font": {
           "color": "rgba(0, 0, 0, 0)"
          }
         }
        },
        "plot_bgcolor": "white",
        "showlegend": true,
        "template": {
         "data": {
          "bar": [
           {
            "error_x": {
             "color": "#2a3f5f"
            },
            "error_y": {
             "color": "#2a3f5f"
            },
            "marker": {
             "line": {
              "color": "#E5ECF6",
              "width": 0.5
             },
             "pattern": {
              "fillmode": "overlay",
              "size": 10,
              "solidity": 0.2
             }
            },
            "type": "bar"
           }
          ],
          "barpolar": [
           {
            "marker": {
             "line": {
              "color": "#E5ECF6",
              "width": 0.5
             },
             "pattern": {
              "fillmode": "overlay",
              "size": 10,
              "solidity": 0.2
             }
            },
            "type": "barpolar"
           }
          ],
          "carpet": [
           {
            "aaxis": {
             "endlinecolor": "#2a3f5f",
             "gridcolor": "white",
             "linecolor": "white",
             "minorgridcolor": "white",
             "startlinecolor": "#2a3f5f"
            },
            "baxis": {
             "endlinecolor": "#2a3f5f",
             "gridcolor": "white",
             "linecolor": "white",
             "minorgridcolor": "white",
             "startlinecolor": "#2a3f5f"
            },
            "type": "carpet"
           }
          ],
          "choropleth": [
           {
            "colorbar": {
             "outlinewidth": 0,
             "ticks": ""
            },
            "type": "choropleth"
           }
          ],
          "contour": [
           {
            "colorbar": {
             "outlinewidth": 0,
             "ticks": ""
            },
            "colorscale": [
             [
              0,
              "#0d0887"
             ],
             [
              0.1111111111111111,
              "#46039f"
             ],
             [
              0.2222222222222222,
              "#7201a8"
             ],
             [
              0.3333333333333333,
              "#9c179e"
             ],
             [
              0.4444444444444444,
              "#bd3786"
             ],
             [
              0.5555555555555556,
              "#d8576b"
             ],
             [
              0.6666666666666666,
              "#ed7953"
             ],
             [
              0.7777777777777778,
              "#fb9f3a"
             ],
             [
              0.8888888888888888,
              "#fdca26"
             ],
             [
              1,
              "#f0f921"
             ]
            ],
            "type": "contour"
           }
          ],
          "contourcarpet": [
           {
            "colorbar": {
             "outlinewidth": 0,
             "ticks": ""
            },
            "type": "contourcarpet"
           }
          ],
          "heatmap": [
           {
            "colorbar": {
             "outlinewidth": 0,
             "ticks": ""
            },
            "colorscale": [
             [
              0,
              "#0d0887"
             ],
             [
              0.1111111111111111,
              "#46039f"
             ],
             [
              0.2222222222222222,
              "#7201a8"
             ],
             [
              0.3333333333333333,
              "#9c179e"
             ],
             [
              0.4444444444444444,
              "#bd3786"
             ],
             [
              0.5555555555555556,
              "#d8576b"
             ],
             [
              0.6666666666666666,
              "#ed7953"
             ],
             [
              0.7777777777777778,
              "#fb9f3a"
             ],
             [
              0.8888888888888888,
              "#fdca26"
             ],
             [
              1,
              "#f0f921"
             ]
            ],
            "type": "heatmap"
           }
          ],
          "histogram": [
           {
            "marker": {
             "pattern": {
              "fillmode": "overlay",
              "size": 10,
              "solidity": 0.2
             }
            },
            "type": "histogram"
           }
          ],
          "histogram2d": [
           {
            "colorbar": {
             "outlinewidth": 0,
             "ticks": ""
            },
            "colorscale": [
             [
              0,
              "#0d0887"
             ],
             [
              0.1111111111111111,
              "#46039f"
             ],
             [
              0.2222222222222222,
              "#7201a8"
             ],
             [
              0.3333333333333333,
              "#9c179e"
             ],
             [
              0.4444444444444444,
              "#bd3786"
             ],
             [
              0.5555555555555556,
              "#d8576b"
             ],
             [
              0.6666666666666666,
              "#ed7953"
             ],
             [
              0.7777777777777778,
              "#fb9f3a"
             ],
             [
              0.8888888888888888,
              "#fdca26"
             ],
             [
              1,
              "#f0f921"
             ]
            ],
            "type": "histogram2d"
           }
          ],
          "histogram2dcontour": [
           {
            "colorbar": {
             "outlinewidth": 0,
             "ticks": ""
            },
            "colorscale": [
             [
              0,
              "#0d0887"
             ],
             [
              0.1111111111111111,
              "#46039f"
             ],
             [
              0.2222222222222222,
              "#7201a8"
             ],
             [
              0.3333333333333333,
              "#9c179e"
             ],
             [
              0.4444444444444444,
              "#bd3786"
             ],
             [
              0.5555555555555556,
              "#d8576b"
             ],
             [
              0.6666666666666666,
              "#ed7953"
             ],
             [
              0.7777777777777778,
              "#fb9f3a"
             ],
             [
              0.8888888888888888,
              "#fdca26"
             ],
             [
              1,
              "#f0f921"
             ]
            ],
            "type": "histogram2dcontour"
           }
          ],
          "mesh3d": [
           {
            "colorbar": {
             "outlinewidth": 0,
             "ticks": ""
            },
            "type": "mesh3d"
           }
          ],
          "parcoords": [
           {
            "line": {
             "colorbar": {
              "outlinewidth": 0,
              "ticks": ""
             }
            },
            "type": "parcoords"
           }
          ],
          "pie": [
           {
            "automargin": true,
            "type": "pie"
           }
          ],
          "scatter": [
           {
            "fillpattern": {
             "fillmode": "overlay",
             "size": 10,
             "solidity": 0.2
            },
            "type": "scatter"
           }
          ],
          "scatter3d": [
           {
            "line": {
             "colorbar": {
              "outlinewidth": 0,
              "ticks": ""
             }
            },
            "marker": {
             "colorbar": {
              "outlinewidth": 0,
              "ticks": ""
             }
            },
            "type": "scatter3d"
           }
          ],
          "scattercarpet": [
           {
            "marker": {
             "colorbar": {
              "outlinewidth": 0,
              "ticks": ""
             }
            },
            "type": "scattercarpet"
           }
          ],
          "scattergeo": [
           {
            "marker": {
             "colorbar": {
              "outlinewidth": 0,
              "ticks": ""
             }
            },
            "type": "scattergeo"
           }
          ],
          "scattergl": [
           {
            "marker": {
             "colorbar": {
              "outlinewidth": 0,
              "ticks": ""
             }
            },
            "type": "scattergl"
           }
          ],
          "scattermap": [
           {
            "marker": {
             "colorbar": {
              "outlinewidth": 0,
              "ticks": ""
             }
            },
            "type": "scattermap"
           }
          ],
          "scattermapbox": [
           {
            "marker": {
             "colorbar": {
              "outlinewidth": 0,
              "ticks": ""
             }
            },
            "type": "scattermapbox"
           }
          ],
          "scatterpolar": [
           {
            "marker": {
             "colorbar": {
              "outlinewidth": 0,
              "ticks": ""
             }
            },
            "type": "scatterpolar"
           }
          ],
          "scatterpolargl": [
           {
            "marker": {
             "colorbar": {
              "outlinewidth": 0,
              "ticks": ""
             }
            },
            "type": "scatterpolargl"
           }
          ],
          "scatterternary": [
           {
            "marker": {
             "colorbar": {
              "outlinewidth": 0,
              "ticks": ""
             }
            },
            "type": "scatterternary"
           }
          ],
          "surface": [
           {
            "colorbar": {
             "outlinewidth": 0,
             "ticks": ""
            },
            "colorscale": [
             [
              0,
              "#0d0887"
             ],
             [
              0.1111111111111111,
              "#46039f"
             ],
             [
              0.2222222222222222,
              "#7201a8"
             ],
             [
              0.3333333333333333,
              "#9c179e"
             ],
             [
              0.4444444444444444,
              "#bd3786"
             ],
             [
              0.5555555555555556,
              "#d8576b"
             ],
             [
              0.6666666666666666,
              "#ed7953"
             ],
             [
              0.7777777777777778,
              "#fb9f3a"
             ],
             [
              0.8888888888888888,
              "#fdca26"
             ],
             [
              1,
              "#f0f921"
             ]
            ],
            "type": "surface"
           }
          ],
          "table": [
           {
            "cells": {
             "fill": {
              "color": "#EBF0F8"
             },
             "line": {
              "color": "white"
             }
            },
            "header": {
             "fill": {
              "color": "#C8D4E3"
             },
             "line": {
              "color": "white"
             }
            },
            "type": "table"
           }
          ]
         },
         "layout": {
          "annotationdefaults": {
           "arrowcolor": "#2a3f5f",
           "arrowhead": 0,
           "arrowwidth": 1
          },
          "autotypenumbers": "strict",
          "coloraxis": {
           "colorbar": {
            "outlinewidth": 0,
            "ticks": ""
           }
          },
          "colorscale": {
           "diverging": [
            [
             0,
             "#8e0152"
            ],
            [
             0.1,
             "#c51b7d"
            ],
            [
             0.2,
             "#de77ae"
            ],
            [
             0.3,
             "#f1b6da"
            ],
            [
             0.4,
             "#fde0ef"
            ],
            [
             0.5,
             "#f7f7f7"
            ],
            [
             0.6,
             "#e6f5d0"
            ],
            [
             0.7,
             "#b8e186"
            ],
            [
             0.8,
             "#7fbc41"
            ],
            [
             0.9,
             "#4d9221"
            ],
            [
             1,
             "#276419"
            ]
           ],
           "sequential": [
            [
             0,
             "#0d0887"
            ],
            [
             0.1111111111111111,
             "#46039f"
            ],
            [
             0.2222222222222222,
             "#7201a8"
            ],
            [
             0.3333333333333333,
             "#9c179e"
            ],
            [
             0.4444444444444444,
             "#bd3786"
            ],
            [
             0.5555555555555556,
             "#d8576b"
            ],
            [
             0.6666666666666666,
             "#ed7953"
            ],
            [
             0.7777777777777778,
             "#fb9f3a"
            ],
            [
             0.8888888888888888,
             "#fdca26"
            ],
            [
             1,
             "#f0f921"
            ]
           ],
           "sequentialminus": [
            [
             0,
             "#0d0887"
            ],
            [
             0.1111111111111111,
             "#46039f"
            ],
            [
             0.2222222222222222,
             "#7201a8"
            ],
            [
             0.3333333333333333,
             "#9c179e"
            ],
            [
             0.4444444444444444,
             "#bd3786"
            ],
            [
             0.5555555555555556,
             "#d8576b"
            ],
            [
             0.6666666666666666,
             "#ed7953"
            ],
            [
             0.7777777777777778,
             "#fb9f3a"
            ],
            [
             0.8888888888888888,
             "#fdca26"
            ],
            [
             1,
             "#f0f921"
            ]
           ]
          },
          "colorway": [
           "#636efa",
           "#EF553B",
           "#00cc96",
           "#ab63fa",
           "#FFA15A",
           "#19d3f3",
           "#FF6692",
           "#B6E880",
           "#FF97FF",
           "#FECB52"
          ],
          "font": {
           "color": "#2a3f5f"
          },
          "geo": {
           "bgcolor": "white",
           "lakecolor": "white",
           "landcolor": "#E5ECF6",
           "showlakes": true,
           "showland": true,
           "subunitcolor": "white"
          },
          "hoverlabel": {
           "align": "left"
          },
          "hovermode": "closest",
          "mapbox": {
           "style": "light"
          },
          "paper_bgcolor": "white",
          "plot_bgcolor": "#E5ECF6",
          "polar": {
           "angularaxis": {
            "gridcolor": "white",
            "linecolor": "white",
            "ticks": ""
           },
           "bgcolor": "#E5ECF6",
           "radialaxis": {
            "gridcolor": "white",
            "linecolor": "white",
            "ticks": ""
           }
          },
          "scene": {
           "xaxis": {
            "backgroundcolor": "#E5ECF6",
            "gridcolor": "white",
            "gridwidth": 2,
            "linecolor": "white",
            "showbackground": true,
            "ticks": "",
            "zerolinecolor": "white"
           },
           "yaxis": {
            "backgroundcolor": "#E5ECF6",
            "gridcolor": "white",
            "gridwidth": 2,
            "linecolor": "white",
            "showbackground": true,
            "ticks": "",
            "zerolinecolor": "white"
           },
           "zaxis": {
            "backgroundcolor": "#E5ECF6",
            "gridcolor": "white",
            "gridwidth": 2,
            "linecolor": "white",
            "showbackground": true,
            "ticks": "",
            "zerolinecolor": "white"
           }
          },
          "shapedefaults": {
           "line": {
            "color": "#2a3f5f"
           }
          },
          "ternary": {
           "aaxis": {
            "gridcolor": "white",
            "linecolor": "white",
            "ticks": ""
           },
           "baxis": {
            "gridcolor": "white",
            "linecolor": "white",
            "ticks": ""
           },
           "bgcolor": "#E5ECF6",
           "caxis": {
            "gridcolor": "white",
            "linecolor": "white",
            "ticks": ""
           }
          },
          "title": {
           "x": 0.05
          },
          "xaxis": {
           "automargin": true,
           "gridcolor": "white",
           "linecolor": "white",
           "ticks": "",
           "title": {
            "standoff": 15
           },
           "zerolinecolor": "white",
           "zerolinewidth": 2
          },
          "yaxis": {
           "automargin": true,
           "gridcolor": "white",
           "linecolor": "white",
           "ticks": "",
           "title": {
            "standoff": 15
           },
           "zerolinecolor": "white",
           "zerolinewidth": 2
          }
         }
        },
        "title": {
         "text": "Semantic Expansion over Writing Sessions<br><span style=\"font-size: 12px;\">*Measuring how well humans are learning while writing with GenAI</span>"
        },
        "width": 1800,
        "xaxis": {
         "anchor": "y",
         "domain": [
          0,
          1
         ],
         "gridcolor": "white",
         "linecolor": "black",
         "mirror": false,
         "range": [
          -1,
          65
         ],
         "showline": true,
         "ticks": "outside",
         "title": {
          "text": "Progress into the writing session"
         }
        },
        "yaxis": {
         "anchor": "x",
         "domain": [
          0,
          1
         ],
         "gridcolor": "white",
         "linecolor": "black",
         "mirror": false,
         "showline": true,
         "ticks": "outside",
         "title": {
          "text": "Scores"
         }
        }
       }
      }
     },
     "metadata": {},
     "output_type": "display_data"
    },
    {
     "name": "stdout",
     "output_type": "stream",
     "text": [
      "legislation_antitrust_6\n"
     ]
    },
    {
     "data": {
      "application/vnd.plotly.v1+json": {
       "config": {
        "plotlyServerURL": "https://plot.ly"
       },
       "data": [
        {
         "hovertemplate": "x=%{x}<br>y=%{y}<extra></extra>",
         "line": {
          "color": "#64B5F6",
          "width": 3
         },
         "marker": {
          "color": "#64B5F6",
          "size": 7
         },
         "mode": "lines+markers",
         "showlegend": false,
         "type": "scatter",
         "x": [
          41,
          42
         ],
         "xaxis": "x",
         "y": [
          10.186050593852997,
          10.66806012392044
         ],
         "yaxis": "y"
        },
        {
         "hovertemplate": "x=%{x}<br>y=%{y}<extra></extra>",
         "line": {
          "color": "#64B5F6",
          "width": 3
         },
         "marker": {
          "color": "#64B5F6",
          "size": 7
         },
         "mode": "lines+markers",
         "showlegend": false,
         "type": "scatter",
         "x": [
          11,
          12
         ],
         "xaxis": "x",
         "y": [
          1.0524739027023315,
          1.669437289237976
         ],
         "yaxis": "y"
        },
        {
         "hovertemplate": "x=%{x}<br>y=%{y}<extra></extra>",
         "line": {
          "color": "#64B5F6",
          "width": 3
         },
         "marker": {
          "color": "#64B5F6",
          "size": 7
         },
         "mode": "lines+markers",
         "showlegend": false,
         "type": "scatter",
         "x": [
          8,
          9
         ],
         "xaxis": "x",
         "y": [
          0.7619858384132385,
          0.9212238788604736
         ],
         "yaxis": "y"
        },
        {
         "hovertemplate": "x=%{x}<br>y=%{y}<extra></extra>",
         "line": {
          "color": "#ff8fab",
          "width": 3
         },
         "marker": {
          "color": "#ff8fab",
          "size": 7
         },
         "mode": "lines+markers",
         "showlegend": false,
         "type": "scatter",
         "x": [
          46,
          47
         ],
         "xaxis": "x",
         "y": [
          11.482997238636017,
          12.009168303012848
         ],
         "yaxis": "y"
        },
        {
         "hovertemplate": "x=%{x}<br>y=%{y}<extra></extra>",
         "line": {
          "color": "#ff8fab",
          "width": 3
         },
         "marker": {
          "color": "#ff8fab",
          "size": 7
         },
         "mode": "lines+markers",
         "showlegend": false,
         "type": "scatter",
         "x": [
          42,
          43
         ],
         "xaxis": "x",
         "y": [
          10.66806012392044,
          11.073583555221557
         ],
         "yaxis": "y"
        },
        {
         "hovertemplate": "x=%{x}<br>y=%{y}<extra></extra>",
         "line": {
          "color": "#ff8fab",
          "width": 3
         },
         "marker": {
          "color": "#ff8fab",
          "size": 7
         },
         "mode": "lines+markers",
         "showlegend": false,
         "type": "scatter",
         "x": [
          36,
          37
         ],
         "xaxis": "x",
         "y": [
          8.010915219783783,
          8.419749629497527
         ],
         "yaxis": "y"
        },
        {
         "hovertemplate": "x=%{x}<br>y=%{y}<extra></extra>",
         "line": {
          "color": "#ff8fab",
          "width": 3
         },
         "marker": {
          "color": "#ff8fab",
          "size": 7
         },
         "mode": "lines+markers",
         "showlegend": false,
         "type": "scatter",
         "x": [
          31,
          32
         ],
         "xaxis": "x",
         "y": [
          6.1015326380729675,
          6.5000645279884335
         ],
         "yaxis": "y"
        },
        {
         "hovertemplate": "x=%{x}<br>y=%{y}<extra></extra>",
         "line": {
          "color": "#ff8fab",
          "width": 3
         },
         "marker": {
          "color": "#ff8fab",
          "size": 7
         },
         "mode": "lines+markers",
         "showlegend": false,
         "type": "scatter",
         "x": [
          27,
          28
         ],
         "xaxis": "x",
         "y": [
          4.920135140419006,
          5.408982360363007
         ],
         "yaxis": "y"
        },
        {
         "hovertemplate": "x=%{x}<br>y=%{y}<extra></extra>",
         "line": {
          "color": "#ff8fab",
          "width": 3
         },
         "marker": {
          "color": "#ff8fab",
          "size": 7
         },
         "mode": "lines+markers",
         "showlegend": false,
         "type": "scatter",
         "x": [
          23,
          24
         ],
         "xaxis": "x",
         "y": [
          3.940959930419922,
          4.331278097629547
         ],
         "yaxis": "y"
        },
        {
         "hovertemplate": "x=%{x}<br>y=%{y}<extra></extra>",
         "line": {
          "color": "#ff8fab",
          "width": 3
         },
         "marker": {
          "color": "#ff8fab",
          "size": 7
         },
         "mode": "lines+markers",
         "showlegend": false,
         "type": "scatter",
         "x": [
          19,
          20
         ],
         "xaxis": "x",
         "y": [
          2.9047305583953857,
          3.360108494758606
         ],
         "yaxis": "y"
        },
        {
         "hovertemplate": "x=%{x}<br>y=%{y}<extra></extra>",
         "line": {
          "color": "#ff8fab",
          "width": 3
         },
         "marker": {
          "color": "#ff8fab",
          "size": 7
         },
         "mode": "lines+markers",
         "showlegend": false,
         "type": "scatter",
         "x": [
          15,
          16
         ],
         "xaxis": "x",
         "y": [
          1.8701739311218262,
          2.24642276763916
         ],
         "yaxis": "y"
        },
        {
         "hovertemplate": "x=%{x}<br>y=%{y}<extra></extra>",
         "line": {
          "color": "#ff8fab",
          "width": 3
         },
         "marker": {
          "color": "#ff8fab",
          "size": 7
         },
         "mode": "lines+markers",
         "showlegend": false,
         "type": "scatter",
         "x": [
          12,
          13
         ],
         "xaxis": "x",
         "y": [
          1.669437289237976,
          2.0935545206069945
         ],
         "yaxis": "y"
        },
        {
         "hovertemplate": "x=%{x}<br>y=%{y}<extra></extra>",
         "line": {
          "color": "#ff8fab",
          "width": 3
         },
         "marker": {
          "color": "#ff8fab",
          "size": 7
         },
         "mode": "lines+markers",
         "showlegend": false,
         "type": "scatter",
         "x": [
          9,
          10
         ],
         "xaxis": "x",
         "y": [
          0.9212238788604736,
          1.3218400716781615
         ],
         "yaxis": "y"
        },
        {
         "hovertemplate": "x=%{x}<br>y=%{y}<extra></extra>",
         "line": {
          "color": "#ff8fab",
          "width": 3
         },
         "marker": {
          "color": "#ff8fab",
          "size": 7
         },
         "mode": "lines+markers",
         "showlegend": false,
         "type": "scatter",
         "x": [
          5,
          6
         ],
         "xaxis": "x",
         "y": [
          0.5983550548553467,
          0.9595351696014405
         ],
         "yaxis": "y"
        },
        {
         "hovertemplate": "x=%{x}<br>y=%{y}<extra></extra>",
         "line": {
          "color": "#ff8fab",
          "width": 3
         },
         "marker": {
          "color": "#ff8fab",
          "size": 7
         },
         "mode": "lines+markers",
         "showlegend": false,
         "type": "scatter",
         "x": [
          1,
          2
         ],
         "xaxis": "x",
         "y": [
          0,
          0.3594032287597656
         ],
         "yaxis": "y"
        },
        {
         "hovertemplate": "x=%{x}<br>y=%{y}<extra></extra>",
         "line": {
          "color": "#023e8a",
          "width": 3
         },
         "marker": {
          "color": "#023e8a",
          "size": 7
         },
         "mode": "lines+markers",
         "showlegend": false,
         "type": "scatter",
         "x": [
          54,
          55
         ],
         "xaxis": "x",
         "y": [
          14.267041206359863,
          14.637314975261688
         ],
         "yaxis": "y"
        },
        {
         "hovertemplate": "x=%{x}<br>y=%{y}<extra></extra>",
         "line": {
          "color": "#023e8a",
          "width": 3
         },
         "marker": {
          "color": "#023e8a",
          "size": 7
         },
         "mode": "lines+markers",
         "showlegend": false,
         "type": "scatter",
         "x": [
          53,
          54
         ],
         "xaxis": "x",
         "y": [
          13.976028084754944,
          14.267041206359863
         ],
         "yaxis": "y"
        },
        {
         "hovertemplate": "x=%{x}<br>y=%{y}<extra></extra>",
         "line": {
          "color": "#023e8a",
          "width": 3
         },
         "marker": {
          "color": "#023e8a",
          "size": 7
         },
         "mode": "lines+markers",
         "showlegend": false,
         "type": "scatter",
         "x": [
          52,
          53
         ],
         "xaxis": "x",
         "y": [
          13.576044380664825,
          13.976028084754944
         ],
         "yaxis": "y"
        },
        {
         "hovertemplate": "x=%{x}<br>y=%{y}<extra></extra>",
         "line": {
          "color": "#023e8a",
          "width": 3
         },
         "marker": {
          "color": "#023e8a",
          "size": 7
         },
         "mode": "lines+markers",
         "showlegend": false,
         "type": "scatter",
         "x": [
          51,
          52
         ],
         "xaxis": "x",
         "y": [
          13.22664338350296,
          13.576044380664825
         ],
         "yaxis": "y"
        },
        {
         "hovertemplate": "x=%{x}<br>y=%{y}<extra></extra>",
         "line": {
          "color": "#023e8a",
          "width": 3
         },
         "marker": {
          "color": "#023e8a",
          "size": 7
         },
         "mode": "lines+markers",
         "showlegend": false,
         "type": "scatter",
         "x": [
          50,
          51
         ],
         "xaxis": "x",
         "y": [
          12.766657710075378,
          13.22664338350296
         ],
         "yaxis": "y"
        },
        {
         "hovertemplate": "x=%{x}<br>y=%{y}<extra></extra>",
         "line": {
          "color": "#023e8a",
          "width": 3
         },
         "marker": {
          "color": "#023e8a",
          "size": 7
         },
         "mode": "lines+markers",
         "showlegend": false,
         "type": "scatter",
         "x": [
          49,
          50
         ],
         "xaxis": "x",
         "y": [
          12.309757828712463,
          12.766657710075378
         ],
         "yaxis": "y"
        },
        {
         "hovertemplate": "x=%{x}<br>y=%{y}<extra></extra>",
         "line": {
          "color": "#023e8a",
          "width": 3
         },
         "marker": {
          "color": "#023e8a",
          "size": 7
         },
         "mode": "lines+markers",
         "showlegend": false,
         "type": "scatter",
         "x": [
          48,
          49
         ],
         "xaxis": "x",
         "y": [
          11.923691868782043,
          12.309757828712463
         ],
         "yaxis": "y"
        },
        {
         "hovertemplate": "x=%{x}<br>y=%{y}<extra></extra>",
         "line": {
          "color": "#023e8a",
          "width": 3
         },
         "marker": {
          "color": "#023e8a",
          "size": 7
         },
         "mode": "lines+markers",
         "showlegend": false,
         "type": "scatter",
         "x": [
          47,
          48
         ],
         "xaxis": "x",
         "y": [
          11.482997238636017,
          11.923691868782043
         ],
         "yaxis": "y"
        },
        {
         "hovertemplate": "x=%{x}<br>y=%{y}<extra></extra>",
         "line": {
          "color": "#023e8a",
          "width": 3
         },
         "marker": {
          "color": "#023e8a",
          "size": 7
         },
         "mode": "lines+markers",
         "showlegend": false,
         "type": "scatter",
         "x": [
          45,
          46
         ],
         "xaxis": "x",
         "y": [
          10.845706522464752,
          11.482997238636017
         ],
         "yaxis": "y"
        },
        {
         "hovertemplate": "x=%{x}<br>y=%{y}<extra></extra>",
         "line": {
          "color": "#023e8a",
          "width": 3
         },
         "marker": {
          "color": "#023e8a",
          "size": 7
         },
         "mode": "lines+markers",
         "showlegend": false,
         "type": "scatter",
         "x": [
          44,
          45
         ],
         "xaxis": "x",
         "y": [
          10.197900712490082,
          10.845706522464752
         ],
         "yaxis": "y"
        },
        {
         "hovertemplate": "x=%{x}<br>y=%{y}<extra></extra>",
         "line": {
          "color": "#023e8a",
          "width": 3
         },
         "marker": {
          "color": "#023e8a",
          "size": 7
         },
         "mode": "lines+markers",
         "showlegend": false,
         "type": "scatter",
         "x": [
          39,
          40
         ],
         "xaxis": "x",
         "y": [
          10.150611221790314,
          11.037264466285706
         ],
         "yaxis": "y"
        },
        {
         "hovertemplate": "x=%{x}<br>y=%{y}<extra></extra>",
         "line": {
          "color": "#023e8a",
          "width": 3
         },
         "marker": {
          "color": "#023e8a",
          "size": 7
         },
         "mode": "lines+markers",
         "showlegend": false,
         "type": "scatter",
         "x": [
          38,
          39
         ],
         "xaxis": "x",
         "y": [
          9.713132321834564,
          10.150611221790314
         ],
         "yaxis": "y"
        },
        {
         "hovertemplate": "x=%{x}<br>y=%{y}<extra></extra>",
         "line": {
          "color": "#023e8a",
          "width": 3
         },
         "marker": {
          "color": "#023e8a",
          "size": 7
         },
         "mode": "lines+markers",
         "showlegend": false,
         "type": "scatter",
         "x": [
          35,
          36
         ],
         "xaxis": "x",
         "y": [
          7.546872496604919,
          8.010915219783783
         ],
         "yaxis": "y"
        },
        {
         "hovertemplate": "x=%{x}<br>y=%{y}<extra></extra>",
         "line": {
          "color": "#023e8a",
          "width": 3
         },
         "marker": {
          "color": "#023e8a",
          "size": 7
         },
         "mode": "lines+markers",
         "showlegend": false,
         "type": "scatter",
         "x": [
          34,
          35
         ],
         "xaxis": "x",
         "y": [
          7.086180090904236,
          7.546872496604919
         ],
         "yaxis": "y"
        },
        {
         "hovertemplate": "x=%{x}<br>y=%{y}<extra></extra>",
         "line": {
          "color": "#023e8a",
          "width": 3
         },
         "marker": {
          "color": "#023e8a",
          "size": 7
         },
         "mode": "lines+markers",
         "showlegend": false,
         "type": "scatter",
         "x": [
          33,
          34
         ],
         "xaxis": "x",
         "y": [
          6.629638612270355,
          7.086180090904236
         ],
         "yaxis": "y"
        },
        {
         "hovertemplate": "x=%{x}<br>y=%{y}<extra></extra>",
         "line": {
          "color": "#023e8a",
          "width": 3
         },
         "marker": {
          "color": "#023e8a",
          "size": 7
         },
         "mode": "lines+markers",
         "showlegend": false,
         "type": "scatter",
         "x": [
          30,
          31
         ],
         "xaxis": "x",
         "y": [
          5.712404668331146,
          6.1015326380729675
         ],
         "yaxis": "y"
        },
        {
         "hovertemplate": "x=%{x}<br>y=%{y}<extra></extra>",
         "line": {
          "color": "#023e8a",
          "width": 3
         },
         "marker": {
          "color": "#023e8a",
          "size": 7
         },
         "mode": "lines+markers",
         "showlegend": false,
         "type": "scatter",
         "x": [
          29,
          30
         ],
         "xaxis": "x",
         "y": [
          5.298214614391327,
          5.712404668331146
         ],
         "yaxis": "y"
        },
        {
         "hovertemplate": "x=%{x}<br>y=%{y}<extra></extra>",
         "line": {
          "color": "#023e8a",
          "width": 3
         },
         "marker": {
          "color": "#023e8a",
          "size": 7
         },
         "mode": "lines+markers",
         "showlegend": false,
         "type": "scatter",
         "x": [
          26,
          27
         ],
         "xaxis": "x",
         "y": [
          4.4948965311050415,
          4.920135140419006
         ],
         "yaxis": "y"
        },
        {
         "hovertemplate": "x=%{x}<br>y=%{y}<extra></extra>",
         "line": {
          "color": "#023e8a",
          "width": 3
         },
         "marker": {
          "color": "#023e8a",
          "size": 7
         },
         "mode": "lines+markers",
         "showlegend": false,
         "type": "scatter",
         "x": [
          25,
          26
         ],
         "xaxis": "x",
         "y": [
          4.272971332073212,
          4.4948965311050415
         ],
         "yaxis": "y"
        },
        {
         "hovertemplate": "x=%{x}<br>y=%{y}<extra></extra>",
         "line": {
          "color": "#023e8a",
          "width": 3
         },
         "marker": {
          "color": "#023e8a",
          "size": 7
         },
         "mode": "lines+markers",
         "showlegend": false,
         "type": "scatter",
         "x": [
          22,
          23
         ],
         "xaxis": "x",
         "y": [
          3.625807464122772,
          3.940959930419922
         ],
         "yaxis": "y"
        },
        {
         "hovertemplate": "x=%{x}<br>y=%{y}<extra></extra>",
         "line": {
          "color": "#023e8a",
          "width": 3
         },
         "marker": {
          "color": "#023e8a",
          "size": 7
         },
         "mode": "lines+markers",
         "showlegend": false,
         "type": "scatter",
         "x": [
          21,
          22
         ],
         "xaxis": "x",
         "y": [
          3.2080483436584473,
          3.625807464122772
         ],
         "yaxis": "y"
        },
        {
         "hovertemplate": "x=%{x}<br>y=%{y}<extra></extra>",
         "line": {
          "color": "#023e8a",
          "width": 3
         },
         "marker": {
          "color": "#023e8a",
          "size": 7
         },
         "mode": "lines+markers",
         "showlegend": false,
         "type": "scatter",
         "x": [
          18,
          19
         ],
         "xaxis": "x",
         "y": [
          2.4751367568969727,
          2.9047305583953857
         ],
         "yaxis": "y"
        },
        {
         "hovertemplate": "x=%{x}<br>y=%{y}<extra></extra>",
         "line": {
          "color": "#023e8a",
          "width": 3
         },
         "marker": {
          "color": "#023e8a",
          "size": 7
         },
         "mode": "lines+markers",
         "showlegend": false,
         "type": "scatter",
         "x": [
          17,
          18
         ],
         "xaxis": "x",
         "y": [
          2.1950539350509644,
          2.4751367568969727
         ],
         "yaxis": "y"
        },
        {
         "hovertemplate": "x=%{x}<br>y=%{y}<extra></extra>",
         "line": {
          "color": "#023e8a",
          "width": 3
         },
         "marker": {
          "color": "#023e8a",
          "size": 7
         },
         "mode": "lines+markers",
         "showlegend": false,
         "type": "scatter",
         "x": [
          14,
          15
         ],
         "xaxis": "x",
         "y": [
          1.4853773713111877,
          1.8701739311218262
         ],
         "yaxis": "y"
        },
        {
         "hovertemplate": "x=%{x}<br>y=%{y}<extra></extra>",
         "line": {
          "color": "#023e8a",
          "width": 3
         },
         "marker": {
          "color": "#023e8a",
          "size": 7
         },
         "mode": "lines+markers",
         "showlegend": false,
         "type": "scatter",
         "x": [
          7,
          8
         ],
         "xaxis": "x",
         "y": [
          0.47051042318344116,
          0.7619858384132385
         ],
         "yaxis": "y"
        },
        {
         "hovertemplate": "x=%{x}<br>y=%{y}<extra></extra>",
         "line": {
          "color": "#023e8a",
          "width": 3
         },
         "marker": {
          "color": "#023e8a",
          "size": 7
         },
         "mode": "lines+markers",
         "showlegend": false,
         "type": "scatter",
         "x": [
          4,
          5
         ],
         "xaxis": "x",
         "y": [
          0.1790350079536438,
          0.5983550548553467
         ],
         "yaxis": "y"
        },
        {
         "hovertemplate": "x=%{x}<br>y=%{y}<extra></extra>",
         "line": {
          "color": "#023e8a",
          "width": 3
         },
         "marker": {
          "color": "#023e8a",
          "size": 7
         },
         "mode": "lines+markers",
         "showlegend": false,
         "type": "scatter",
         "x": [
          3,
          4
         ],
         "xaxis": "x",
         "y": [
          -0.04485064744949341,
          0.1790350079536438
         ],
         "yaxis": "y"
        },
        {
         "hovertemplate": "x=%{x}<br>y=%{y}<extra></extra>",
         "line": {
          "color": "#023e8a",
          "width": 3
         },
         "marker": {
          "color": "#023e8a",
          "size": 7
         },
         "mode": "lines+markers",
         "showlegend": false,
         "type": "scatter",
         "x": [
          0,
          1
         ],
         "xaxis": "x",
         "y": [
          0,
          0.26873666048049927
         ],
         "yaxis": "y"
        },
        {
         "hovertemplate": "x=%{x}<br>y=%{y}<extra></extra>",
         "line": {
          "color": "#c1121f",
          "width": 3
         },
         "marker": {
          "color": "#c1121f",
          "size": 7
         },
         "mode": "lines+markers",
         "showlegend": false,
         "type": "scatter",
         "x": [
          37,
          38
         ],
         "xaxis": "x",
         "y": [
          8.010915219783783,
          9.713132321834564
         ],
         "yaxis": "y"
        },
        {
         "hovertemplate": "x=%{x}<br>y=%{y}<extra></extra>",
         "line": {
          "color": "#c1121f",
          "width": 3
         },
         "marker": {
          "color": "#c1121f",
          "size": 7
         },
         "mode": "lines+markers",
         "showlegend": false,
         "type": "scatter",
         "x": [
          32,
          33
         ],
         "xaxis": "x",
         "y": [
          6.1015326380729675,
          6.629638612270355
         ],
         "yaxis": "y"
        },
        {
         "hovertemplate": "x=%{x}<br>y=%{y}<extra></extra>",
         "line": {
          "color": "#c1121f",
          "width": 3
         },
         "marker": {
          "color": "#c1121f",
          "size": 7
         },
         "mode": "lines+markers",
         "showlegend": false,
         "type": "scatter",
         "x": [
          28,
          29
         ],
         "xaxis": "x",
         "y": [
          4.920135140419006,
          5.298214614391327
         ],
         "yaxis": "y"
        },
        {
         "hovertemplate": "x=%{x}<br>y=%{y}<extra></extra>",
         "line": {
          "color": "#c1121f",
          "width": 3
         },
         "marker": {
          "color": "#c1121f",
          "size": 7
         },
         "mode": "lines+markers",
         "showlegend": false,
         "type": "scatter",
         "x": [
          24,
          25
         ],
         "xaxis": "x",
         "y": [
          3.940959930419922,
          4.272971332073212
         ],
         "yaxis": "y"
        },
        {
         "hovertemplate": "x=%{x}<br>y=%{y}<extra></extra>",
         "line": {
          "color": "#c1121f",
          "width": 3
         },
         "marker": {
          "color": "#c1121f",
          "size": 7
         },
         "mode": "lines+markers",
         "showlegend": false,
         "type": "scatter",
         "x": [
          20,
          21
         ],
         "xaxis": "x",
         "y": [
          2.9047305583953857,
          3.2080483436584473
         ],
         "yaxis": "y"
        },
        {
         "hovertemplate": "x=%{x}<br>y=%{y}<extra></extra>",
         "line": {
          "color": "#c1121f",
          "width": 3
         },
         "marker": {
          "color": "#c1121f",
          "size": 7
         },
         "mode": "lines+markers",
         "showlegend": false,
         "type": "scatter",
         "x": [
          16,
          17
         ],
         "xaxis": "x",
         "y": [
          1.8701739311218262,
          2.1950539350509644
         ],
         "yaxis": "y"
        },
        {
         "hovertemplate": "x=%{x}<br>y=%{y}<extra></extra>",
         "line": {
          "color": "#c1121f",
          "width": 3
         },
         "marker": {
          "color": "#c1121f",
          "size": 7
         },
         "mode": "lines+markers",
         "showlegend": false,
         "type": "scatter",
         "x": [
          13,
          14
         ],
         "xaxis": "x",
         "y": [
          1.0524739027023315,
          1.4853773713111877
         ],
         "yaxis": "y"
        },
        {
         "hovertemplate": "x=%{x}<br>y=%{y}<extra></extra>",
         "line": {
          "color": "#c1121f",
          "width": 3
         },
         "marker": {
          "color": "#c1121f",
          "size": 7
         },
         "mode": "lines+markers",
         "showlegend": false,
         "type": "scatter",
         "x": [
          10,
          11
         ],
         "xaxis": "x",
         "y": [
          0.7619858384132385,
          1.0524739027023315
         ],
         "yaxis": "y"
        },
        {
         "hovertemplate": "x=%{x}<br>y=%{y}<extra></extra>",
         "line": {
          "color": "#c1121f",
          "width": 3
         },
         "marker": {
          "color": "#c1121f",
          "size": 7
         },
         "mode": "lines+markers",
         "showlegend": false,
         "type": "scatter",
         "x": [
          6,
          7
         ],
         "xaxis": "x",
         "y": [
          0.5983550548553467,
          0.47051042318344116
         ],
         "yaxis": "y"
        },
        {
         "hovertemplate": "x=%{x}<br>y=%{y}<extra></extra>",
         "line": {
          "color": "#c1121f",
          "width": 3
         },
         "marker": {
          "color": "#c1121f",
          "size": 7
         },
         "mode": "lines+markers",
         "showlegend": false,
         "type": "scatter",
         "x": [
          2,
          3
         ],
         "xaxis": "x",
         "y": [
          0,
          -0.04485064744949341
         ],
         "yaxis": "y"
        },
        {
         "hovertemplate": "x=%{x}<br>y=%{y}<extra></extra>",
         "line": {
          "color": "#9d4edd",
          "width": 3
         },
         "marker": {
          "color": "#9d4edd",
          "size": 7
         },
         "mode": "lines+markers",
         "showlegend": false,
         "type": "scatter",
         "x": [
          43,
          44
         ],
         "xaxis": "x",
         "y": [
          10.186050593852997,
          10.197900712490082
         ],
         "yaxis": "y"
        },
        {
         "hovertemplate": "x=%{x}<br>y=%{y}<extra></extra>",
         "line": {
          "color": "#9d4edd",
          "width": 3
         },
         "marker": {
          "color": "#9d4edd",
          "size": 7
         },
         "mode": "lines+markers",
         "showlegend": false,
         "type": "scatter",
         "x": [
          40,
          41
         ],
         "xaxis": "x",
         "y": [
          11.037264466285706,
          10.186050593852997
         ],
         "yaxis": "y"
        },
        {
         "line": {
          "color": "#64B5F6",
          "width": 2
         },
         "mode": "lines",
         "name": "human_insert_backstage",
         "showlegend": true,
         "type": "scatter",
         "x": [
          null
         ],
         "xaxis": "x",
         "y": [
          null
         ],
         "yaxis": "y"
        },
        {
         "line": {
          "color": "#ff8fab",
          "width": 2
         },
         "mode": "lines",
         "name": "ai_suggest_backstage",
         "showlegend": true,
         "type": "scatter",
         "x": [
          null
         ],
         "xaxis": "x",
         "y": [
          null
         ],
         "yaxis": "y"
        },
        {
         "line": {
          "color": "#023e8a",
          "width": 2
         },
         "mode": "lines",
         "name": "human_insert_frontstage",
         "showlegend": true,
         "type": "scatter",
         "x": [
          null
         ],
         "xaxis": "x",
         "y": [
          null
         ],
         "yaxis": "y"
        },
        {
         "line": {
          "color": "#c1121f",
          "width": 2
         },
         "mode": "lines",
         "name": "ai_insert_moved_to_frontstage",
         "showlegend": true,
         "type": "scatter",
         "x": [
          null
         ],
         "xaxis": "x",
         "y": [
          null
         ],
         "yaxis": "y"
        },
        {
         "line": {
          "color": "#9d4edd",
          "width": 2
         },
         "mode": "lines",
         "name": "human_delete_frontstage",
         "showlegend": true,
         "type": "scatter",
         "x": [
          null
         ],
         "xaxis": "x",
         "y": [
          null
         ],
         "yaxis": "y"
        },
        {
         "line": {
          "color": "#5a189a",
          "width": 2
         },
         "mode": "lines",
         "name": "human_insert_edit_frontstage",
         "showlegend": true,
         "type": "scatter",
         "x": [
          null
         ],
         "xaxis": "x",
         "y": [
          null
         ],
         "yaxis": "y"
        }
       ],
       "layout": {
        "annotations": [
         {
          "font": {
           "size": 16
          },
          "showarrow": false,
          "text": "Session: legislation_antitrust_6",
          "x": 0.5,
          "xanchor": "center",
          "xref": "paper",
          "y": 1,
          "yanchor": "bottom",
          "yref": "paper"
         }
        ],
        "height": 500,
        "legend": {
         "title": {
          "font": {
           "color": "rgba(0, 0, 0, 0)"
          }
         }
        },
        "plot_bgcolor": "white",
        "showlegend": true,
        "template": {
         "data": {
          "bar": [
           {
            "error_x": {
             "color": "#2a3f5f"
            },
            "error_y": {
             "color": "#2a3f5f"
            },
            "marker": {
             "line": {
              "color": "#E5ECF6",
              "width": 0.5
             },
             "pattern": {
              "fillmode": "overlay",
              "size": 10,
              "solidity": 0.2
             }
            },
            "type": "bar"
           }
          ],
          "barpolar": [
           {
            "marker": {
             "line": {
              "color": "#E5ECF6",
              "width": 0.5
             },
             "pattern": {
              "fillmode": "overlay",
              "size": 10,
              "solidity": 0.2
             }
            },
            "type": "barpolar"
           }
          ],
          "carpet": [
           {
            "aaxis": {
             "endlinecolor": "#2a3f5f",
             "gridcolor": "white",
             "linecolor": "white",
             "minorgridcolor": "white",
             "startlinecolor": "#2a3f5f"
            },
            "baxis": {
             "endlinecolor": "#2a3f5f",
             "gridcolor": "white",
             "linecolor": "white",
             "minorgridcolor": "white",
             "startlinecolor": "#2a3f5f"
            },
            "type": "carpet"
           }
          ],
          "choropleth": [
           {
            "colorbar": {
             "outlinewidth": 0,
             "ticks": ""
            },
            "type": "choropleth"
           }
          ],
          "contour": [
           {
            "colorbar": {
             "outlinewidth": 0,
             "ticks": ""
            },
            "colorscale": [
             [
              0,
              "#0d0887"
             ],
             [
              0.1111111111111111,
              "#46039f"
             ],
             [
              0.2222222222222222,
              "#7201a8"
             ],
             [
              0.3333333333333333,
              "#9c179e"
             ],
             [
              0.4444444444444444,
              "#bd3786"
             ],
             [
              0.5555555555555556,
              "#d8576b"
             ],
             [
              0.6666666666666666,
              "#ed7953"
             ],
             [
              0.7777777777777778,
              "#fb9f3a"
             ],
             [
              0.8888888888888888,
              "#fdca26"
             ],
             [
              1,
              "#f0f921"
             ]
            ],
            "type": "contour"
           }
          ],
          "contourcarpet": [
           {
            "colorbar": {
             "outlinewidth": 0,
             "ticks": ""
            },
            "type": "contourcarpet"
           }
          ],
          "heatmap": [
           {
            "colorbar": {
             "outlinewidth": 0,
             "ticks": ""
            },
            "colorscale": [
             [
              0,
              "#0d0887"
             ],
             [
              0.1111111111111111,
              "#46039f"
             ],
             [
              0.2222222222222222,
              "#7201a8"
             ],
             [
              0.3333333333333333,
              "#9c179e"
             ],
             [
              0.4444444444444444,
              "#bd3786"
             ],
             [
              0.5555555555555556,
              "#d8576b"
             ],
             [
              0.6666666666666666,
              "#ed7953"
             ],
             [
              0.7777777777777778,
              "#fb9f3a"
             ],
             [
              0.8888888888888888,
              "#fdca26"
             ],
             [
              1,
              "#f0f921"
             ]
            ],
            "type": "heatmap"
           }
          ],
          "histogram": [
           {
            "marker": {
             "pattern": {
              "fillmode": "overlay",
              "size": 10,
              "solidity": 0.2
             }
            },
            "type": "histogram"
           }
          ],
          "histogram2d": [
           {
            "colorbar": {
             "outlinewidth": 0,
             "ticks": ""
            },
            "colorscale": [
             [
              0,
              "#0d0887"
             ],
             [
              0.1111111111111111,
              "#46039f"
             ],
             [
              0.2222222222222222,
              "#7201a8"
             ],
             [
              0.3333333333333333,
              "#9c179e"
             ],
             [
              0.4444444444444444,
              "#bd3786"
             ],
             [
              0.5555555555555556,
              "#d8576b"
             ],
             [
              0.6666666666666666,
              "#ed7953"
             ],
             [
              0.7777777777777778,
              "#fb9f3a"
             ],
             [
              0.8888888888888888,
              "#fdca26"
             ],
             [
              1,
              "#f0f921"
             ]
            ],
            "type": "histogram2d"
           }
          ],
          "histogram2dcontour": [
           {
            "colorbar": {
             "outlinewidth": 0,
             "ticks": ""
            },
            "colorscale": [
             [
              0,
              "#0d0887"
             ],
             [
              0.1111111111111111,
              "#46039f"
             ],
             [
              0.2222222222222222,
              "#7201a8"
             ],
             [
              0.3333333333333333,
              "#9c179e"
             ],
             [
              0.4444444444444444,
              "#bd3786"
             ],
             [
              0.5555555555555556,
              "#d8576b"
             ],
             [
              0.6666666666666666,
              "#ed7953"
             ],
             [
              0.7777777777777778,
              "#fb9f3a"
             ],
             [
              0.8888888888888888,
              "#fdca26"
             ],
             [
              1,
              "#f0f921"
             ]
            ],
            "type": "histogram2dcontour"
           }
          ],
          "mesh3d": [
           {
            "colorbar": {
             "outlinewidth": 0,
             "ticks": ""
            },
            "type": "mesh3d"
           }
          ],
          "parcoords": [
           {
            "line": {
             "colorbar": {
              "outlinewidth": 0,
              "ticks": ""
             }
            },
            "type": "parcoords"
           }
          ],
          "pie": [
           {
            "automargin": true,
            "type": "pie"
           }
          ],
          "scatter": [
           {
            "fillpattern": {
             "fillmode": "overlay",
             "size": 10,
             "solidity": 0.2
            },
            "type": "scatter"
           }
          ],
          "scatter3d": [
           {
            "line": {
             "colorbar": {
              "outlinewidth": 0,
              "ticks": ""
             }
            },
            "marker": {
             "colorbar": {
              "outlinewidth": 0,
              "ticks": ""
             }
            },
            "type": "scatter3d"
           }
          ],
          "scattercarpet": [
           {
            "marker": {
             "colorbar": {
              "outlinewidth": 0,
              "ticks": ""
             }
            },
            "type": "scattercarpet"
           }
          ],
          "scattergeo": [
           {
            "marker": {
             "colorbar": {
              "outlinewidth": 0,
              "ticks": ""
             }
            },
            "type": "scattergeo"
           }
          ],
          "scattergl": [
           {
            "marker": {
             "colorbar": {
              "outlinewidth": 0,
              "ticks": ""
             }
            },
            "type": "scattergl"
           }
          ],
          "scattermap": [
           {
            "marker": {
             "colorbar": {
              "outlinewidth": 0,
              "ticks": ""
             }
            },
            "type": "scattermap"
           }
          ],
          "scattermapbox": [
           {
            "marker": {
             "colorbar": {
              "outlinewidth": 0,
              "ticks": ""
             }
            },
            "type": "scattermapbox"
           }
          ],
          "scatterpolar": [
           {
            "marker": {
             "colorbar": {
              "outlinewidth": 0,
              "ticks": ""
             }
            },
            "type": "scatterpolar"
           }
          ],
          "scatterpolargl": [
           {
            "marker": {
             "colorbar": {
              "outlinewidth": 0,
              "ticks": ""
             }
            },
            "type": "scatterpolargl"
           }
          ],
          "scatterternary": [
           {
            "marker": {
             "colorbar": {
              "outlinewidth": 0,
              "ticks": ""
             }
            },
            "type": "scatterternary"
           }
          ],
          "surface": [
           {
            "colorbar": {
             "outlinewidth": 0,
             "ticks": ""
            },
            "colorscale": [
             [
              0,
              "#0d0887"
             ],
             [
              0.1111111111111111,
              "#46039f"
             ],
             [
              0.2222222222222222,
              "#7201a8"
             ],
             [
              0.3333333333333333,
              "#9c179e"
             ],
             [
              0.4444444444444444,
              "#bd3786"
             ],
             [
              0.5555555555555556,
              "#d8576b"
             ],
             [
              0.6666666666666666,
              "#ed7953"
             ],
             [
              0.7777777777777778,
              "#fb9f3a"
             ],
             [
              0.8888888888888888,
              "#fdca26"
             ],
             [
              1,
              "#f0f921"
             ]
            ],
            "type": "surface"
           }
          ],
          "table": [
           {
            "cells": {
             "fill": {
              "color": "#EBF0F8"
             },
             "line": {
              "color": "white"
             }
            },
            "header": {
             "fill": {
              "color": "#C8D4E3"
             },
             "line": {
              "color": "white"
             }
            },
            "type": "table"
           }
          ]
         },
         "layout": {
          "annotationdefaults": {
           "arrowcolor": "#2a3f5f",
           "arrowhead": 0,
           "arrowwidth": 1
          },
          "autotypenumbers": "strict",
          "coloraxis": {
           "colorbar": {
            "outlinewidth": 0,
            "ticks": ""
           }
          },
          "colorscale": {
           "diverging": [
            [
             0,
             "#8e0152"
            ],
            [
             0.1,
             "#c51b7d"
            ],
            [
             0.2,
             "#de77ae"
            ],
            [
             0.3,
             "#f1b6da"
            ],
            [
             0.4,
             "#fde0ef"
            ],
            [
             0.5,
             "#f7f7f7"
            ],
            [
             0.6,
             "#e6f5d0"
            ],
            [
             0.7,
             "#b8e186"
            ],
            [
             0.8,
             "#7fbc41"
            ],
            [
             0.9,
             "#4d9221"
            ],
            [
             1,
             "#276419"
            ]
           ],
           "sequential": [
            [
             0,
             "#0d0887"
            ],
            [
             0.1111111111111111,
             "#46039f"
            ],
            [
             0.2222222222222222,
             "#7201a8"
            ],
            [
             0.3333333333333333,
             "#9c179e"
            ],
            [
             0.4444444444444444,
             "#bd3786"
            ],
            [
             0.5555555555555556,
             "#d8576b"
            ],
            [
             0.6666666666666666,
             "#ed7953"
            ],
            [
             0.7777777777777778,
             "#fb9f3a"
            ],
            [
             0.8888888888888888,
             "#fdca26"
            ],
            [
             1,
             "#f0f921"
            ]
           ],
           "sequentialminus": [
            [
             0,
             "#0d0887"
            ],
            [
             0.1111111111111111,
             "#46039f"
            ],
            [
             0.2222222222222222,
             "#7201a8"
            ],
            [
             0.3333333333333333,
             "#9c179e"
            ],
            [
             0.4444444444444444,
             "#bd3786"
            ],
            [
             0.5555555555555556,
             "#d8576b"
            ],
            [
             0.6666666666666666,
             "#ed7953"
            ],
            [
             0.7777777777777778,
             "#fb9f3a"
            ],
            [
             0.8888888888888888,
             "#fdca26"
            ],
            [
             1,
             "#f0f921"
            ]
           ]
          },
          "colorway": [
           "#636efa",
           "#EF553B",
           "#00cc96",
           "#ab63fa",
           "#FFA15A",
           "#19d3f3",
           "#FF6692",
           "#B6E880",
           "#FF97FF",
           "#FECB52"
          ],
          "font": {
           "color": "#2a3f5f"
          },
          "geo": {
           "bgcolor": "white",
           "lakecolor": "white",
           "landcolor": "#E5ECF6",
           "showlakes": true,
           "showland": true,
           "subunitcolor": "white"
          },
          "hoverlabel": {
           "align": "left"
          },
          "hovermode": "closest",
          "mapbox": {
           "style": "light"
          },
          "paper_bgcolor": "white",
          "plot_bgcolor": "#E5ECF6",
          "polar": {
           "angularaxis": {
            "gridcolor": "white",
            "linecolor": "white",
            "ticks": ""
           },
           "bgcolor": "#E5ECF6",
           "radialaxis": {
            "gridcolor": "white",
            "linecolor": "white",
            "ticks": ""
           }
          },
          "scene": {
           "xaxis": {
            "backgroundcolor": "#E5ECF6",
            "gridcolor": "white",
            "gridwidth": 2,
            "linecolor": "white",
            "showbackground": true,
            "ticks": "",
            "zerolinecolor": "white"
           },
           "yaxis": {
            "backgroundcolor": "#E5ECF6",
            "gridcolor": "white",
            "gridwidth": 2,
            "linecolor": "white",
            "showbackground": true,
            "ticks": "",
            "zerolinecolor": "white"
           },
           "zaxis": {
            "backgroundcolor": "#E5ECF6",
            "gridcolor": "white",
            "gridwidth": 2,
            "linecolor": "white",
            "showbackground": true,
            "ticks": "",
            "zerolinecolor": "white"
           }
          },
          "shapedefaults": {
           "line": {
            "color": "#2a3f5f"
           }
          },
          "ternary": {
           "aaxis": {
            "gridcolor": "white",
            "linecolor": "white",
            "ticks": ""
           },
           "baxis": {
            "gridcolor": "white",
            "linecolor": "white",
            "ticks": ""
           },
           "bgcolor": "#E5ECF6",
           "caxis": {
            "gridcolor": "white",
            "linecolor": "white",
            "ticks": ""
           }
          },
          "title": {
           "x": 0.05
          },
          "xaxis": {
           "automargin": true,
           "gridcolor": "white",
           "linecolor": "white",
           "ticks": "",
           "title": {
            "standoff": 15
           },
           "zerolinecolor": "white",
           "zerolinewidth": 2
          },
          "yaxis": {
           "automargin": true,
           "gridcolor": "white",
           "linecolor": "white",
           "ticks": "",
           "title": {
            "standoff": 15
           },
           "zerolinecolor": "white",
           "zerolinewidth": 2
          }
         }
        },
        "title": {
         "text": "Semantic Expansion over Writing Sessions<br><span style=\"font-size: 12px;\">*Measuring how well humans are learning while writing with GenAI</span>"
        },
        "width": 1800,
        "xaxis": {
         "anchor": "y",
         "domain": [
          0,
          1
         ],
         "gridcolor": "white",
         "linecolor": "black",
         "mirror": false,
         "range": [
          -1,
          56
         ],
         "showline": true,
         "ticks": "outside",
         "title": {
          "text": "Progress into the writing session"
         }
        },
        "yaxis": {
         "anchor": "x",
         "domain": [
          0,
          1
         ],
         "gridcolor": "white",
         "linecolor": "black",
         "mirror": false,
         "showline": true,
         "ticks": "outside",
         "title": {
          "text": "Scores"
         }
        }
       }
      }
     },
     "metadata": {},
     "output_type": "display_data"
    },
    {
     "name": "stdout",
     "output_type": "stream",
     "text": [
      "legislation_antitrust_7\n"
     ]
    },
    {
     "data": {
      "application/vnd.plotly.v1+json": {
       "config": {
        "plotlyServerURL": "https://plot.ly"
       },
       "data": [
        {
         "hovertemplate": "x=%{x}<br>y=%{y}<extra></extra>",
         "line": {
          "color": "#64B5F6",
          "width": 3
         },
         "marker": {
          "color": "#64B5F6",
          "size": 7
         },
         "mode": "lines+markers",
         "showlegend": false,
         "type": "scatter",
         "x": [
          75,
          76
         ],
         "xaxis": "x",
         "y": [
          13.502200067043304,
          13.829152166843414
         ],
         "yaxis": "y"
        },
        {
         "hovertemplate": "x=%{x}<br>y=%{y}<extra></extra>",
         "line": {
          "color": "#64B5F6",
          "width": 3
         },
         "marker": {
          "color": "#64B5F6",
          "size": 7
         },
         "mode": "lines+markers",
         "showlegend": false,
         "type": "scatter",
         "x": [
          73,
          74
         ],
         "xaxis": "x",
         "y": [
          12.454151093959808,
          12.781103193759918
         ],
         "yaxis": "y"
        },
        {
         "hovertemplate": "x=%{x}<br>y=%{y}<extra></extra>",
         "line": {
          "color": "#64B5F6",
          "width": 3
         },
         "marker": {
          "color": "#64B5F6",
          "size": 7
         },
         "mode": "lines+markers",
         "showlegend": false,
         "type": "scatter",
         "x": [
          69,
          70
         ],
         "xaxis": "x",
         "y": [
          11.86855149269104,
          12.27709823846817
         ],
         "yaxis": "y"
        },
        {
         "hovertemplate": "x=%{x}<br>y=%{y}<extra></extra>",
         "line": {
          "color": "#64B5F6",
          "width": 3
         },
         "marker": {
          "color": "#64B5F6",
          "size": 7
         },
         "mode": "lines+markers",
         "showlegend": false,
         "type": "scatter",
         "x": [
          61,
          62
         ],
         "xaxis": "x",
         "y": [
          3.8121095180511473,
          4.603440511226654
         ],
         "yaxis": "y"
        },
        {
         "hovertemplate": "x=%{x}<br>y=%{y}<extra></extra>",
         "line": {
          "color": "#64B5F6",
          "width": 3
         },
         "marker": {
          "color": "#64B5F6",
          "size": 7
         },
         "mode": "lines+markers",
         "showlegend": false,
         "type": "scatter",
         "x": [
          59,
          60
         ],
         "xaxis": "x",
         "y": [
          2.7026243209838867,
          3.479758381843567
         ],
         "yaxis": "y"
        },
        {
         "hovertemplate": "x=%{x}<br>y=%{y}<extra></extra>",
         "line": {
          "color": "#64B5F6",
          "width": 3
         },
         "marker": {
          "color": "#64B5F6",
          "size": 7
         },
         "mode": "lines+markers",
         "showlegend": false,
         "type": "scatter",
         "x": [
          53,
          54
         ],
         "xaxis": "x",
         "y": [
          1.469443142414093,
          2.0884777903556824
         ],
         "yaxis": "y"
        },
        {
         "hovertemplate": "x=%{x}<br>y=%{y}<extra></extra>",
         "line": {
          "color": "#64B5F6",
          "width": 3
         },
         "marker": {
          "color": "#64B5F6",
          "size": 7
         },
         "mode": "lines+markers",
         "showlegend": false,
         "type": "scatter",
         "x": [
          50,
          51
         ],
         "xaxis": "x",
         "y": [
          1.1253146529197693,
          1.7305724024772644
         ],
         "yaxis": "y"
        },
        {
         "hovertemplate": "x=%{x}<br>y=%{y}<extra></extra>",
         "line": {
          "color": "#64B5F6",
          "width": 3
         },
         "marker": {
          "color": "#64B5F6",
          "size": 7
         },
         "mode": "lines+markers",
         "showlegend": false,
         "type": "scatter",
         "x": [
          47,
          48
         ],
         "xaxis": "x",
         "y": [
          0.543491542339325,
          1.1729243397712708
         ],
         "yaxis": "y"
        },
        {
         "hovertemplate": "x=%{x}<br>y=%{y}<extra></extra>",
         "line": {
          "color": "#64B5F6",
          "width": 3
         },
         "marker": {
          "color": "#64B5F6",
          "size": 7
         },
         "mode": "lines+markers",
         "showlegend": false,
         "type": "scatter",
         "x": [
          42,
          43
         ],
         "xaxis": "x",
         "y": [
          21.742395424842837,
          22.492038393020632
         ],
         "yaxis": "y"
        },
        {
         "hovertemplate": "x=%{x}<br>y=%{y}<extra></extra>",
         "line": {
          "color": "#64B5F6",
          "width": 3
         },
         "marker": {
          "color": "#64B5F6",
          "size": 7
         },
         "mode": "lines+markers",
         "showlegend": false,
         "type": "scatter",
         "x": [
          40,
          41
         ],
         "xaxis": "x",
         "y": [
          21.178119051456452,
          21.4264808177948
         ],
         "yaxis": "y"
        },
        {
         "hovertemplate": "x=%{x}<br>y=%{y}<extra></extra>",
         "line": {
          "color": "#64B5F6",
          "width": 3
         },
         "marker": {
          "color": "#64B5F6",
          "size": 7
         },
         "mode": "lines+markers",
         "showlegend": false,
         "type": "scatter",
         "x": [
          38,
          39
         ],
         "xaxis": "x",
         "y": [
          19.66790888309479,
          20.436396634578706
         ],
         "yaxis": "y"
        },
        {
         "hovertemplate": "x=%{x}<br>y=%{y}<extra></extra>",
         "line": {
          "color": "#64B5F6",
          "width": 3
         },
         "marker": {
          "color": "#64B5F6",
          "size": 7
         },
         "mode": "lines+markers",
         "showlegend": false,
         "type": "scatter",
         "x": [
          36,
          37
         ],
         "xaxis": "x",
         "y": [
          18.38962177038193,
          18.980887985229494
         ],
         "yaxis": "y"
        },
        {
         "hovertemplate": "x=%{x}<br>y=%{y}<extra></extra>",
         "line": {
          "color": "#64B5F6",
          "width": 3
         },
         "marker": {
          "color": "#64B5F6",
          "size": 7
         },
         "mode": "lines+markers",
         "showlegend": false,
         "type": "scatter",
         "x": [
          34,
          35
         ],
         "xaxis": "x",
         "y": [
          17.5809308886528,
          17.97348964214325
         ],
         "yaxis": "y"
        },
        {
         "hovertemplate": "x=%{x}<br>y=%{y}<extra></extra>",
         "line": {
          "color": "#64B5F6",
          "width": 3
         },
         "marker": {
          "color": "#64B5F6",
          "size": 7
         },
         "mode": "lines+markers",
         "showlegend": false,
         "type": "scatter",
         "x": [
          32,
          33
         ],
         "xaxis": "x",
         "y": [
          16.31596577167511,
          17.067956745624542
         ],
         "yaxis": "y"
        },
        {
         "hovertemplate": "x=%{x}<br>y=%{y}<extra></extra>",
         "line": {
          "color": "#64B5F6",
          "width": 3
         },
         "marker": {
          "color": "#64B5F6",
          "size": 7
         },
         "mode": "lines+markers",
         "showlegend": false,
         "type": "scatter",
         "x": [
          30,
          31
         ],
         "xaxis": "x",
         "y": [
          15.192206859588623,
          15.725471794605255
         ],
         "yaxis": "y"
        },
        {
         "hovertemplate": "x=%{x}<br>y=%{y}<extra></extra>",
         "line": {
          "color": "#64B5F6",
          "width": 3
         },
         "marker": {
          "color": "#64B5F6",
          "size": 7
         },
         "mode": "lines+markers",
         "showlegend": false,
         "type": "scatter",
         "x": [
          28,
          29
         ],
         "xaxis": "x",
         "y": [
          14.326312339305877,
          14.73448804616928
         ],
         "yaxis": "y"
        },
        {
         "hovertemplate": "x=%{x}<br>y=%{y}<extra></extra>",
         "line": {
          "color": "#64B5F6",
          "width": 3
         },
         "marker": {
          "color": "#64B5F6",
          "size": 7
         },
         "mode": "lines+markers",
         "showlegend": false,
         "type": "scatter",
         "x": [
          26,
          27
         ],
         "xaxis": "x",
         "y": [
          13.610626077651977,
          13.939392781257629
         ],
         "yaxis": "y"
        },
        {
         "hovertemplate": "x=%{x}<br>y=%{y}<extra></extra>",
         "line": {
          "color": "#64B5F6",
          "width": 3
         },
         "marker": {
          "color": "#64B5F6",
          "size": 7
         },
         "mode": "lines+markers",
         "showlegend": false,
         "type": "scatter",
         "x": [
          24,
          25
         ],
         "xaxis": "x",
         "y": [
          13.715122175216674,
          13.028118741512298
         ],
         "yaxis": "y"
        },
        {
         "hovertemplate": "x=%{x}<br>y=%{y}<extra></extra>",
         "line": {
          "color": "#64B5F6",
          "width": 3
         },
         "marker": {
          "color": "#64B5F6",
          "size": 7
         },
         "mode": "lines+markers",
         "showlegend": false,
         "type": "scatter",
         "x": [
          22,
          23
         ],
         "xaxis": "x",
         "y": [
          11.308829474449157,
          11.800575065612792
         ],
         "yaxis": "y"
        },
        {
         "hovertemplate": "x=%{x}<br>y=%{y}<extra></extra>",
         "line": {
          "color": "#64B5F6",
          "width": 3
         },
         "marker": {
          "color": "#64B5F6",
          "size": 7
         },
         "mode": "lines+markers",
         "showlegend": false,
         "type": "scatter",
         "x": [
          20,
          21
         ],
         "xaxis": "x",
         "y": [
          10.309917986392973,
          10.785586237907408
         ],
         "yaxis": "y"
        },
        {
         "hovertemplate": "x=%{x}<br>y=%{y}<extra></extra>",
         "line": {
          "color": "#64B5F6",
          "width": 3
         },
         "marker": {
          "color": "#64B5F6",
          "size": 7
         },
         "mode": "lines+markers",
         "showlegend": false,
         "type": "scatter",
         "x": [
          18,
          19
         ],
         "xaxis": "x",
         "y": [
          9.274267935752867,
          9.768281841278075
         ],
         "yaxis": "y"
        },
        {
         "hovertemplate": "x=%{x}<br>y=%{y}<extra></extra>",
         "line": {
          "color": "#64B5F6",
          "width": 3
         },
         "marker": {
          "color": "#64B5F6",
          "size": 7
         },
         "mode": "lines+markers",
         "showlegend": false,
         "type": "scatter",
         "x": [
          16,
          17
         ],
         "xaxis": "x",
         "y": [
          8.050416541099548,
          8.62177677154541
         ],
         "yaxis": "y"
        },
        {
         "hovertemplate": "x=%{x}<br>y=%{y}<extra></extra>",
         "line": {
          "color": "#64B5F6",
          "width": 3
         },
         "marker": {
          "color": "#64B5F6",
          "size": 7
         },
         "mode": "lines+markers",
         "showlegend": false,
         "type": "scatter",
         "x": [
          14,
          15
         ],
         "xaxis": "x",
         "y": [
          6.923987424373626,
          7.4298366665840145
         ],
         "yaxis": "y"
        },
        {
         "hovertemplate": "x=%{x}<br>y=%{y}<extra></extra>",
         "line": {
          "color": "#64B5F6",
          "width": 3
         },
         "marker": {
          "color": "#64B5F6",
          "size": 7
         },
         "mode": "lines+markers",
         "showlegend": false,
         "type": "scatter",
         "x": [
          12,
          13
         ],
         "xaxis": "x",
         "y": [
          5.740797543525695,
          6.314172947406768
         ],
         "yaxis": "y"
        },
        {
         "hovertemplate": "x=%{x}<br>y=%{y}<extra></extra>",
         "line": {
          "color": "#64B5F6",
          "width": 3
         },
         "marker": {
          "color": "#64B5F6",
          "size": 7
         },
         "mode": "lines+markers",
         "showlegend": false,
         "type": "scatter",
         "x": [
          10,
          11
         ],
         "xaxis": "x",
         "y": [
          5.183527934551239,
          5.158620882034302
         ],
         "yaxis": "y"
        },
        {
         "hovertemplate": "x=%{x}<br>y=%{y}<extra></extra>",
         "line": {
          "color": "#64B5F6",
          "width": 3
         },
         "marker": {
          "color": "#64B5F6",
          "size": 7
         },
         "mode": "lines+markers",
         "showlegend": false,
         "type": "scatter",
         "x": [
          8,
          9
         ],
         "xaxis": "x",
         "y": [
          3.911242592334747,
          4.16042845249176
         ],
         "yaxis": "y"
        },
        {
         "hovertemplate": "x=%{x}<br>y=%{y}<extra></extra>",
         "line": {
          "color": "#64B5F6",
          "width": 3
         },
         "marker": {
          "color": "#64B5F6",
          "size": 7
         },
         "mode": "lines+markers",
         "showlegend": false,
         "type": "scatter",
         "x": [
          6,
          7
         ],
         "xaxis": "x",
         "y": [
          2.8484439611434933,
          3.377282357215881
         ],
         "yaxis": "y"
        },
        {
         "hovertemplate": "x=%{x}<br>y=%{y}<extra></extra>",
         "line": {
          "color": "#64B5F6",
          "width": 3
         },
         "marker": {
          "color": "#64B5F6",
          "size": 7
         },
         "mode": "lines+markers",
         "showlegend": false,
         "type": "scatter",
         "x": [
          4,
          5
         ],
         "xaxis": "x",
         "y": [
          1.6337193131446837,
          2.230889070034027
         ],
         "yaxis": "y"
        },
        {
         "hovertemplate": "x=%{x}<br>y=%{y}<extra></extra>",
         "line": {
          "color": "#64B5F6",
          "width": 3
         },
         "marker": {
          "color": "#64B5F6",
          "size": 7
         },
         "mode": "lines+markers",
         "showlegend": false,
         "type": "scatter",
         "x": [
          2,
          3
         ],
         "xaxis": "x",
         "y": [
          0.6777038097381591,
          1.1238920211791992
         ],
         "yaxis": "y"
        },
        {
         "hovertemplate": "x=%{x}<br>y=%{y}<extra></extra>",
         "line": {
          "color": "#64B5F6",
          "width": 3
         },
         "marker": {
          "color": "#64B5F6",
          "size": 7
         },
         "mode": "lines+markers",
         "showlegend": false,
         "type": "scatter",
         "x": [
          0,
          1
         ],
         "xaxis": "x",
         "y": [
          0,
          0.3089495897293091
         ],
         "yaxis": "y"
        },
        {
         "hovertemplate": "x=%{x}<br>y=%{y}<extra></extra>",
         "line": {
          "color": "#ff8fab",
          "width": 3
         },
         "marker": {
          "color": "#ff8fab",
          "size": 7
         },
         "mode": "lines+markers",
         "showlegend": false,
         "type": "scatter",
         "x": [
          74,
          75
         ],
         "xaxis": "x",
         "y": [
          12.781103193759918,
          13.502200067043304
         ],
         "yaxis": "y"
        },
        {
         "hovertemplate": "x=%{x}<br>y=%{y}<extra></extra>",
         "line": {
          "color": "#ff8fab",
          "width": 3
         },
         "marker": {
          "color": "#ff8fab",
          "size": 7
         },
         "mode": "lines+markers",
         "showlegend": false,
         "type": "scatter",
         "x": [
          71,
          72
         ],
         "xaxis": "x",
         "y": [
          12.963235425949097,
          13.698953044414521
         ],
         "yaxis": "y"
        },
        {
         "hovertemplate": "x=%{x}<br>y=%{y}<extra></extra>",
         "line": {
          "color": "#ff8fab",
          "width": 3
         },
         "marker": {
          "color": "#ff8fab",
          "size": 7
         },
         "mode": "lines+markers",
         "showlegend": false,
         "type": "scatter",
         "x": [
          70,
          71
         ],
         "xaxis": "x",
         "y": [
          12.27709823846817,
          12.963235425949097
         ],
         "yaxis": "y"
        },
        {
         "hovertemplate": "x=%{x}<br>y=%{y}<extra></extra>",
         "line": {
          "color": "#ff8fab",
          "width": 3
         },
         "marker": {
          "color": "#ff8fab",
          "size": 7
         },
         "mode": "lines+markers",
         "showlegend": false,
         "type": "scatter",
         "x": [
          63,
          64
         ],
         "xaxis": "x",
         "y": [
          5.3984898090362545,
          6.193842482566833
         ],
         "yaxis": "y"
        },
        {
         "hovertemplate": "x=%{x}<br>y=%{y}<extra></extra>",
         "line": {
          "color": "#ff8fab",
          "width": 3
         },
         "marker": {
          "color": "#ff8fab",
          "size": 7
         },
         "mode": "lines+markers",
         "showlegend": false,
         "type": "scatter",
         "x": [
          62,
          63
         ],
         "xaxis": "x",
         "y": [
          4.603440511226654,
          5.3984898090362545
         ],
         "yaxis": "y"
        },
        {
         "hovertemplate": "x=%{x}<br>y=%{y}<extra></extra>",
         "line": {
          "color": "#ff8fab",
          "width": 3
         },
         "marker": {
          "color": "#ff8fab",
          "size": 7
         },
         "mode": "lines+markers",
         "showlegend": false,
         "type": "scatter",
         "x": [
          60,
          61
         ],
         "xaxis": "x",
         "y": [
          3.479758381843567,
          3.8121095180511473
         ],
         "yaxis": "y"
        },
        {
         "hovertemplate": "x=%{x}<br>y=%{y}<extra></extra>",
         "line": {
          "color": "#ff8fab",
          "width": 3
         },
         "marker": {
          "color": "#ff8fab",
          "size": 7
         },
         "mode": "lines+markers",
         "showlegend": false,
         "type": "scatter",
         "x": [
          55,
          56
         ],
         "xaxis": "x",
         "y": [
          1.7990754842758179,
          2.300600457191467
         ],
         "yaxis": "y"
        },
        {
         "hovertemplate": "x=%{x}<br>y=%{y}<extra></extra>",
         "line": {
          "color": "#ff8fab",
          "width": 3
         },
         "marker": {
          "color": "#ff8fab",
          "size": 7
         },
         "mode": "lines+markers",
         "showlegend": false,
         "type": "scatter",
         "x": [
          51,
          52
         ],
         "xaxis": "x",
         "y": [
          1.7305724024772644,
          2.388846683502197
         ],
         "yaxis": "y"
        },
        {
         "hovertemplate": "x=%{x}<br>y=%{y}<extra></extra>",
         "line": {
          "color": "#ff8fab",
          "width": 3
         },
         "marker": {
          "color": "#ff8fab",
          "size": 7
         },
         "mode": "lines+markers",
         "showlegend": false,
         "type": "scatter",
         "x": [
          48,
          49
         ],
         "xaxis": "x",
         "y": [
          1.1729243397712708,
          1.7257329940795898
         ],
         "yaxis": "y"
        },
        {
         "hovertemplate": "x=%{x}<br>y=%{y}<extra></extra>",
         "line": {
          "color": "#ff8fab",
          "width": 3
         },
         "marker": {
          "color": "#ff8fab",
          "size": 7
         },
         "mode": "lines+markers",
         "showlegend": false,
         "type": "scatter",
         "x": [
          45,
          46
         ],
         "xaxis": "x",
         "y": [
          0.6951720714569092,
          1.2569769978523255
         ],
         "yaxis": "y"
        },
        {
         "hovertemplate": "x=%{x}<br>y=%{y}<extra></extra>",
         "line": {
          "color": "#ff8fab",
          "width": 3
         },
         "marker": {
          "color": "#ff8fab",
          "size": 7
         },
         "mode": "lines+markers",
         "showlegend": false,
         "type": "scatter",
         "x": [
          43,
          44
         ],
         "xaxis": "x",
         "y": [
          22.492038393020632,
          23.159205770492555
         ],
         "yaxis": "y"
        },
        {
         "hovertemplate": "x=%{x}<br>y=%{y}<extra></extra>",
         "line": {
          "color": "#ff8fab",
          "width": 3
         },
         "marker": {
          "color": "#ff8fab",
          "size": 7
         },
         "mode": "lines+markers",
         "showlegend": false,
         "type": "scatter",
         "x": [
          41,
          42
         ],
         "xaxis": "x",
         "y": [
          21.4264808177948,
          21.742395424842837
         ],
         "yaxis": "y"
        },
        {
         "hovertemplate": "x=%{x}<br>y=%{y}<extra></extra>",
         "line": {
          "color": "#ff8fab",
          "width": 3
         },
         "marker": {
          "color": "#ff8fab",
          "size": 7
         },
         "mode": "lines+markers",
         "showlegend": false,
         "type": "scatter",
         "x": [
          39,
          40
         ],
         "xaxis": "x",
         "y": [
          20.436396634578706,
          21.178119051456452
         ],
         "yaxis": "y"
        },
        {
         "hovertemplate": "x=%{x}<br>y=%{y}<extra></extra>",
         "line": {
          "color": "#ff8fab",
          "width": 3
         },
         "marker": {
          "color": "#ff8fab",
          "size": 7
         },
         "mode": "lines+markers",
         "showlegend": false,
         "type": "scatter",
         "x": [
          37,
          38
         ],
         "xaxis": "x",
         "y": [
          18.980887985229494,
          19.66790888309479
         ],
         "yaxis": "y"
        },
        {
         "hovertemplate": "x=%{x}<br>y=%{y}<extra></extra>",
         "line": {
          "color": "#ff8fab",
          "width": 3
         },
         "marker": {
          "color": "#ff8fab",
          "size": 7
         },
         "mode": "lines+markers",
         "showlegend": false,
         "type": "scatter",
         "x": [
          35,
          36
         ],
         "xaxis": "x",
         "y": [
          17.97348964214325,
          18.38962177038193
         ],
         "yaxis": "y"
        },
        {
         "hovertemplate": "x=%{x}<br>y=%{y}<extra></extra>",
         "line": {
          "color": "#ff8fab",
          "width": 3
         },
         "marker": {
          "color": "#ff8fab",
          "size": 7
         },
         "mode": "lines+markers",
         "showlegend": false,
         "type": "scatter",
         "x": [
          33,
          34
         ],
         "xaxis": "x",
         "y": [
          17.067956745624542,
          17.5809308886528
         ],
         "yaxis": "y"
        },
        {
         "hovertemplate": "x=%{x}<br>y=%{y}<extra></extra>",
         "line": {
          "color": "#ff8fab",
          "width": 3
         },
         "marker": {
          "color": "#ff8fab",
          "size": 7
         },
         "mode": "lines+markers",
         "showlegend": false,
         "type": "scatter",
         "x": [
          31,
          32
         ],
         "xaxis": "x",
         "y": [
          15.725471794605255,
          16.31596577167511
         ],
         "yaxis": "y"
        },
        {
         "hovertemplate": "x=%{x}<br>y=%{y}<extra></extra>",
         "line": {
          "color": "#ff8fab",
          "width": 3
         },
         "marker": {
          "color": "#ff8fab",
          "size": 7
         },
         "mode": "lines+markers",
         "showlegend": false,
         "type": "scatter",
         "x": [
          29,
          30
         ],
         "xaxis": "x",
         "y": [
          14.73448804616928,
          15.192206859588623
         ],
         "yaxis": "y"
        },
        {
         "hovertemplate": "x=%{x}<br>y=%{y}<extra></extra>",
         "line": {
          "color": "#ff8fab",
          "width": 3
         },
         "marker": {
          "color": "#ff8fab",
          "size": 7
         },
         "mode": "lines+markers",
         "showlegend": false,
         "type": "scatter",
         "x": [
          27,
          28
         ],
         "xaxis": "x",
         "y": [
          13.939392781257629,
          14.326312339305877
         ],
         "yaxis": "y"
        },
        {
         "hovertemplate": "x=%{x}<br>y=%{y}<extra></extra>",
         "line": {
          "color": "#ff8fab",
          "width": 3
         },
         "marker": {
          "color": "#ff8fab",
          "size": 7
         },
         "mode": "lines+markers",
         "showlegend": false,
         "type": "scatter",
         "x": [
          25,
          26
         ],
         "xaxis": "x",
         "y": [
          13.028118741512298,
          13.610626077651977
         ],
         "yaxis": "y"
        },
        {
         "hovertemplate": "x=%{x}<br>y=%{y}<extra></extra>",
         "line": {
          "color": "#ff8fab",
          "width": 3
         },
         "marker": {
          "color": "#ff8fab",
          "size": 7
         },
         "mode": "lines+markers",
         "showlegend": false,
         "type": "scatter",
         "x": [
          23,
          24
         ],
         "xaxis": "x",
         "y": [
          11.800575065612792,
          13.715122175216674
         ],
         "yaxis": "y"
        },
        {
         "hovertemplate": "x=%{x}<br>y=%{y}<extra></extra>",
         "line": {
          "color": "#ff8fab",
          "width": 3
         },
         "marker": {
          "color": "#ff8fab",
          "size": 7
         },
         "mode": "lines+markers",
         "showlegend": false,
         "type": "scatter",
         "x": [
          21,
          22
         ],
         "xaxis": "x",
         "y": [
          10.785586237907408,
          11.308829474449157
         ],
         "yaxis": "y"
        },
        {
         "hovertemplate": "x=%{x}<br>y=%{y}<extra></extra>",
         "line": {
          "color": "#ff8fab",
          "width": 3
         },
         "marker": {
          "color": "#ff8fab",
          "size": 7
         },
         "mode": "lines+markers",
         "showlegend": false,
         "type": "scatter",
         "x": [
          19,
          20
         ],
         "xaxis": "x",
         "y": [
          9.768281841278075,
          10.309917986392973
         ],
         "yaxis": "y"
        },
        {
         "hovertemplate": "x=%{x}<br>y=%{y}<extra></extra>",
         "line": {
          "color": "#ff8fab",
          "width": 3
         },
         "marker": {
          "color": "#ff8fab",
          "size": 7
         },
         "mode": "lines+markers",
         "showlegend": false,
         "type": "scatter",
         "x": [
          17,
          18
         ],
         "xaxis": "x",
         "y": [
          8.62177677154541,
          9.274267935752867
         ],
         "yaxis": "y"
        },
        {
         "hovertemplate": "x=%{x}<br>y=%{y}<extra></extra>",
         "line": {
          "color": "#ff8fab",
          "width": 3
         },
         "marker": {
          "color": "#ff8fab",
          "size": 7
         },
         "mode": "lines+markers",
         "showlegend": false,
         "type": "scatter",
         "x": [
          15,
          16
         ],
         "xaxis": "x",
         "y": [
          7.4298366665840145,
          8.050416541099548
         ],
         "yaxis": "y"
        },
        {
         "hovertemplate": "x=%{x}<br>y=%{y}<extra></extra>",
         "line": {
          "color": "#ff8fab",
          "width": 3
         },
         "marker": {
          "color": "#ff8fab",
          "size": 7
         },
         "mode": "lines+markers",
         "showlegend": false,
         "type": "scatter",
         "x": [
          13,
          14
         ],
         "xaxis": "x",
         "y": [
          6.314172947406768,
          6.923987424373626
         ],
         "yaxis": "y"
        },
        {
         "hovertemplate": "x=%{x}<br>y=%{y}<extra></extra>",
         "line": {
          "color": "#ff8fab",
          "width": 3
         },
         "marker": {
          "color": "#ff8fab",
          "size": 7
         },
         "mode": "lines+markers",
         "showlegend": false,
         "type": "scatter",
         "x": [
          11,
          12
         ],
         "xaxis": "x",
         "y": [
          5.158620882034302,
          5.740797543525695
         ],
         "yaxis": "y"
        },
        {
         "hovertemplate": "x=%{x}<br>y=%{y}<extra></extra>",
         "line": {
          "color": "#ff8fab",
          "width": 3
         },
         "marker": {
          "color": "#ff8fab",
          "size": 7
         },
         "mode": "lines+markers",
         "showlegend": false,
         "type": "scatter",
         "x": [
          9,
          10
         ],
         "xaxis": "x",
         "y": [
          4.16042845249176,
          5.183527934551239
         ],
         "yaxis": "y"
        },
        {
         "hovertemplate": "x=%{x}<br>y=%{y}<extra></extra>",
         "line": {
          "color": "#ff8fab",
          "width": 3
         },
         "marker": {
          "color": "#ff8fab",
          "size": 7
         },
         "mode": "lines+markers",
         "showlegend": false,
         "type": "scatter",
         "x": [
          7,
          8
         ],
         "xaxis": "x",
         "y": [
          3.377282357215881,
          3.911242592334747
         ],
         "yaxis": "y"
        },
        {
         "hovertemplate": "x=%{x}<br>y=%{y}<extra></extra>",
         "line": {
          "color": "#ff8fab",
          "width": 3
         },
         "marker": {
          "color": "#ff8fab",
          "size": 7
         },
         "mode": "lines+markers",
         "showlegend": false,
         "type": "scatter",
         "x": [
          5,
          6
         ],
         "xaxis": "x",
         "y": [
          2.230889070034027,
          2.8484439611434933
         ],
         "yaxis": "y"
        },
        {
         "hovertemplate": "x=%{x}<br>y=%{y}<extra></extra>",
         "line": {
          "color": "#ff8fab",
          "width": 3
         },
         "marker": {
          "color": "#ff8fab",
          "size": 7
         },
         "mode": "lines+markers",
         "showlegend": false,
         "type": "scatter",
         "x": [
          3,
          4
         ],
         "xaxis": "x",
         "y": [
          1.1238920211791992,
          1.6337193131446837
         ],
         "yaxis": "y"
        },
        {
         "hovertemplate": "x=%{x}<br>y=%{y}<extra></extra>",
         "line": {
          "color": "#ff8fab",
          "width": 3
         },
         "marker": {
          "color": "#ff8fab",
          "size": 7
         },
         "mode": "lines+markers",
         "showlegend": false,
         "type": "scatter",
         "x": [
          1,
          2
         ],
         "xaxis": "x",
         "y": [
          0.3089495897293091,
          0.6777038097381591
         ],
         "yaxis": "y"
        },
        {
         "hovertemplate": "x=%{x}<br>y=%{y}<extra></extra>",
         "line": {
          "color": "#023e8a",
          "width": 3
         },
         "marker": {
          "color": "#023e8a",
          "size": 7
         },
         "mode": "lines+markers",
         "showlegend": false,
         "type": "scatter",
         "x": [
          81,
          82
         ],
         "xaxis": "x",
         "y": [
          15.480649828910828,
          16.134314477443695
         ],
         "yaxis": "y"
        },
        {
         "hovertemplate": "x=%{x}<br>y=%{y}<extra></extra>",
         "line": {
          "color": "#023e8a",
          "width": 3
         },
         "marker": {
          "color": "#023e8a",
          "size": 7
         },
         "mode": "lines+markers",
         "showlegend": false,
         "type": "scatter",
         "x": [
          80,
          81
         ],
         "xaxis": "x",
         "y": [
          14.852314114570618,
          15.480649828910828
         ],
         "yaxis": "y"
        },
        {
         "hovertemplate": "x=%{x}<br>y=%{y}<extra></extra>",
         "line": {
          "color": "#023e8a",
          "width": 3
         },
         "marker": {
          "color": "#023e8a",
          "size": 7
         },
         "mode": "lines+markers",
         "showlegend": false,
         "type": "scatter",
         "x": [
          79,
          80
         ],
         "xaxis": "x",
         "y": [
          14.148002624511719,
          14.852314114570618
         ],
         "yaxis": "y"
        },
        {
         "hovertemplate": "x=%{x}<br>y=%{y}<extra></extra>",
         "line": {
          "color": "#023e8a",
          "width": 3
         },
         "marker": {
          "color": "#023e8a",
          "size": 7
         },
         "mode": "lines+markers",
         "showlegend": false,
         "type": "scatter",
         "x": [
          78,
          79
         ],
         "xaxis": "x",
         "y": [
          13.57914823293686,
          14.148002624511719
         ],
         "yaxis": "y"
        },
        {
         "hovertemplate": "x=%{x}<br>y=%{y}<extra></extra>",
         "line": {
          "color": "#023e8a",
          "width": 3
         },
         "marker": {
          "color": "#023e8a",
          "size": 7
         },
         "mode": "lines+markers",
         "showlegend": false,
         "type": "scatter",
         "x": [
          77,
          78
         ],
         "xaxis": "x",
         "y": [
          13.110848844051361,
          13.57914823293686
         ],
         "yaxis": "y"
        },
        {
         "hovertemplate": "x=%{x}<br>y=%{y}<extra></extra>",
         "line": {
          "color": "#023e8a",
          "width": 3
         },
         "marker": {
          "color": "#023e8a",
          "size": 7
         },
         "mode": "lines+markers",
         "showlegend": false,
         "type": "scatter",
         "x": [
          68,
          69
         ],
         "xaxis": "x",
         "y": [
          11.263873815536499,
          11.86855149269104
         ],
         "yaxis": "y"
        },
        {
         "hovertemplate": "x=%{x}<br>y=%{y}<extra></extra>",
         "line": {
          "color": "#023e8a",
          "width": 3
         },
         "marker": {
          "color": "#023e8a",
          "size": 7
         },
         "mode": "lines+markers",
         "showlegend": false,
         "type": "scatter",
         "x": [
          67,
          68
         ],
         "xaxis": "x",
         "y": [
          10.509420931339264,
          11.263873815536499
         ],
         "yaxis": "y"
        },
        {
         "hovertemplate": "x=%{x}<br>y=%{y}<extra></extra>",
         "line": {
          "color": "#023e8a",
          "width": 3
         },
         "marker": {
          "color": "#023e8a",
          "size": 7
         },
         "mode": "lines+markers",
         "showlegend": false,
         "type": "scatter",
         "x": [
          66,
          67
         ],
         "xaxis": "x",
         "y": [
          9.877889692783356,
          10.509420931339264
         ],
         "yaxis": "y"
        },
        {
         "hovertemplate": "x=%{x}<br>y=%{y}<extra></extra>",
         "line": {
          "color": "#023e8a",
          "width": 3
         },
         "marker": {
          "color": "#023e8a",
          "size": 7
         },
         "mode": "lines+markers",
         "showlegend": false,
         "type": "scatter",
         "x": [
          65,
          66
         ],
         "xaxis": "x",
         "y": [
          9.157455086708069,
          9.877889692783356
         ],
         "yaxis": "y"
        },
        {
         "hovertemplate": "x=%{x}<br>y=%{y}<extra></extra>",
         "line": {
          "color": "#023e8a",
          "width": 3
         },
         "marker": {
          "color": "#023e8a",
          "size": 7
         },
         "mode": "lines+markers",
         "showlegend": false,
         "type": "scatter",
         "x": [
          58,
          59
         ],
         "xaxis": "x",
         "y": [
          2.570205330848694,
          2.7026243209838867
         ],
         "yaxis": "y"
        },
        {
         "hovertemplate": "x=%{x}<br>y=%{y}<extra></extra>",
         "line": {
          "color": "#023e8a",
          "width": 3
         },
         "marker": {
          "color": "#023e8a",
          "size": 7
         },
         "mode": "lines+markers",
         "showlegend": false,
         "type": "scatter",
         "x": [
          57,
          58
         ],
         "xaxis": "x",
         "y": [
          2.124788761138916,
          2.570205330848694
         ],
         "yaxis": "y"
        },
        {
         "hovertemplate": "x=%{x}<br>y=%{y}<extra></extra>",
         "line": {
          "color": "#023e8a",
          "width": 3
         },
         "marker": {
          "color": "#023e8a",
          "size": 7
         },
         "mode": "lines+markers",
         "showlegend": false,
         "type": "scatter",
         "x": [
          56,
          57
         ],
         "xaxis": "x",
         "y": [
          1.7990754842758179,
          2.124788761138916
         ],
         "yaxis": "y"
        },
        {
         "hovertemplate": "x=%{x}<br>y=%{y}<extra></extra>",
         "line": {
          "color": "#023e8a",
          "width": 3
         },
         "marker": {
          "color": "#023e8a",
          "size": 7
         },
         "mode": "lines+markers",
         "showlegend": false,
         "type": "scatter",
         "x": [
          54,
          55
         ],
         "xaxis": "x",
         "y": [
          1.469443142414093,
          1.7990754842758179
         ],
         "yaxis": "y"
        },
        {
         "hovertemplate": "x=%{x}<br>y=%{y}<extra></extra>",
         "line": {
          "color": "#023e8a",
          "width": 3
         },
         "marker": {
          "color": "#023e8a",
          "size": 7
         },
         "mode": "lines+markers",
         "showlegend": false,
         "type": "scatter",
         "x": [
          44,
          45
         ],
         "xaxis": "x",
         "y": [
          0,
          0.6951720714569092
         ],
         "yaxis": "y"
        },
        {
         "hovertemplate": "x=%{x}<br>y=%{y}<extra></extra>",
         "line": {
          "color": "#c1121f",
          "width": 3
         },
         "marker": {
          "color": "#c1121f",
          "size": 7
         },
         "mode": "lines+markers",
         "showlegend": false,
         "type": "scatter",
         "x": [
          64,
          65
         ],
         "xaxis": "x",
         "y": [
          2.7026243209838867,
          9.157455086708069
         ],
         "yaxis": "y"
        },
        {
         "hovertemplate": "x=%{x}<br>y=%{y}<extra></extra>",
         "line": {
          "color": "#c1121f",
          "width": 3
         },
         "marker": {
          "color": "#c1121f",
          "size": 7
         },
         "mode": "lines+markers",
         "showlegend": false,
         "type": "scatter",
         "x": [
          52,
          53
         ],
         "xaxis": "x",
         "y": [
          1.1253146529197693,
          1.469443142414093
         ],
         "yaxis": "y"
        },
        {
         "hovertemplate": "x=%{x}<br>y=%{y}<extra></extra>",
         "line": {
          "color": "#c1121f",
          "width": 3
         },
         "marker": {
          "color": "#c1121f",
          "size": 7
         },
         "mode": "lines+markers",
         "showlegend": false,
         "type": "scatter",
         "x": [
          49,
          50
         ],
         "xaxis": "x",
         "y": [
          0.543491542339325,
          1.1253146529197693
         ],
         "yaxis": "y"
        },
        {
         "hovertemplate": "x=%{x}<br>y=%{y}<extra></extra>",
         "line": {
          "color": "#c1121f",
          "width": 3
         },
         "marker": {
          "color": "#c1121f",
          "size": 7
         },
         "mode": "lines+markers",
         "showlegend": false,
         "type": "scatter",
         "x": [
          46,
          47
         ],
         "xaxis": "x",
         "y": [
          0.6951720714569092,
          0.543491542339325
         ],
         "yaxis": "y"
        },
        {
         "hovertemplate": "x=%{x}<br>y=%{y}<extra></extra>",
         "line": {
          "color": "#9d4edd",
          "width": 3
         },
         "marker": {
          "color": "#9d4edd",
          "size": 7
         },
         "mode": "lines+markers",
         "showlegend": false,
         "type": "scatter",
         "x": [
          82,
          83
         ],
         "xaxis": "x",
         "y": [
          16.134314477443695,
          13.52610570192337
         ],
         "yaxis": "y"
        },
        {
         "hovertemplate": "x=%{x}<br>y=%{y}<extra></extra>",
         "line": {
          "color": "#9d4edd",
          "width": 3
         },
         "marker": {
          "color": "#9d4edd",
          "size": 7
         },
         "mode": "lines+markers",
         "showlegend": false,
         "type": "scatter",
         "x": [
          76,
          77
         ],
         "xaxis": "x",
         "y": [
          12.454151093959808,
          13.110848844051361
         ],
         "yaxis": "y"
        },
        {
         "hovertemplate": "x=%{x}<br>y=%{y}<extra></extra>",
         "line": {
          "color": "#9d4edd",
          "width": 3
         },
         "marker": {
          "color": "#9d4edd",
          "size": 7
         },
         "mode": "lines+markers",
         "showlegend": false,
         "type": "scatter",
         "x": [
          72,
          73
         ],
         "xaxis": "x",
         "y": [
          11.86855149269104,
          12.454151093959808
         ],
         "yaxis": "y"
        },
        {
         "line": {
          "color": "#64B5F6",
          "width": 2
         },
         "mode": "lines",
         "name": "human_insert_backstage",
         "showlegend": true,
         "type": "scatter",
         "x": [
          null
         ],
         "xaxis": "x",
         "y": [
          null
         ],
         "yaxis": "y"
        },
        {
         "line": {
          "color": "#ff8fab",
          "width": 2
         },
         "mode": "lines",
         "name": "ai_suggest_backstage",
         "showlegend": true,
         "type": "scatter",
         "x": [
          null
         ],
         "xaxis": "x",
         "y": [
          null
         ],
         "yaxis": "y"
        },
        {
         "line": {
          "color": "#023e8a",
          "width": 2
         },
         "mode": "lines",
         "name": "human_insert_frontstage",
         "showlegend": true,
         "type": "scatter",
         "x": [
          null
         ],
         "xaxis": "x",
         "y": [
          null
         ],
         "yaxis": "y"
        },
        {
         "line": {
          "color": "#c1121f",
          "width": 2
         },
         "mode": "lines",
         "name": "ai_insert_moved_to_frontstage",
         "showlegend": true,
         "type": "scatter",
         "x": [
          null
         ],
         "xaxis": "x",
         "y": [
          null
         ],
         "yaxis": "y"
        },
        {
         "line": {
          "color": "#9d4edd",
          "width": 2
         },
         "mode": "lines",
         "name": "human_delete_frontstage",
         "showlegend": true,
         "type": "scatter",
         "x": [
          null
         ],
         "xaxis": "x",
         "y": [
          null
         ],
         "yaxis": "y"
        },
        {
         "line": {
          "color": "#5a189a",
          "width": 2
         },
         "mode": "lines",
         "name": "human_insert_edit_frontstage",
         "showlegend": true,
         "type": "scatter",
         "x": [
          null
         ],
         "xaxis": "x",
         "y": [
          null
         ],
         "yaxis": "y"
        }
       ],
       "layout": {
        "annotations": [
         {
          "font": {
           "size": 16
          },
          "showarrow": false,
          "text": "Session: legislation_antitrust_7",
          "x": 0.5,
          "xanchor": "center",
          "xref": "paper",
          "y": 1,
          "yanchor": "bottom",
          "yref": "paper"
         }
        ],
        "height": 500,
        "legend": {
         "title": {
          "font": {
           "color": "rgba(0, 0, 0, 0)"
          }
         }
        },
        "plot_bgcolor": "white",
        "showlegend": true,
        "template": {
         "data": {
          "bar": [
           {
            "error_x": {
             "color": "#2a3f5f"
            },
            "error_y": {
             "color": "#2a3f5f"
            },
            "marker": {
             "line": {
              "color": "#E5ECF6",
              "width": 0.5
             },
             "pattern": {
              "fillmode": "overlay",
              "size": 10,
              "solidity": 0.2
             }
            },
            "type": "bar"
           }
          ],
          "barpolar": [
           {
            "marker": {
             "line": {
              "color": "#E5ECF6",
              "width": 0.5
             },
             "pattern": {
              "fillmode": "overlay",
              "size": 10,
              "solidity": 0.2
             }
            },
            "type": "barpolar"
           }
          ],
          "carpet": [
           {
            "aaxis": {
             "endlinecolor": "#2a3f5f",
             "gridcolor": "white",
             "linecolor": "white",
             "minorgridcolor": "white",
             "startlinecolor": "#2a3f5f"
            },
            "baxis": {
             "endlinecolor": "#2a3f5f",
             "gridcolor": "white",
             "linecolor": "white",
             "minorgridcolor": "white",
             "startlinecolor": "#2a3f5f"
            },
            "type": "carpet"
           }
          ],
          "choropleth": [
           {
            "colorbar": {
             "outlinewidth": 0,
             "ticks": ""
            },
            "type": "choropleth"
           }
          ],
          "contour": [
           {
            "colorbar": {
             "outlinewidth": 0,
             "ticks": ""
            },
            "colorscale": [
             [
              0,
              "#0d0887"
             ],
             [
              0.1111111111111111,
              "#46039f"
             ],
             [
              0.2222222222222222,
              "#7201a8"
             ],
             [
              0.3333333333333333,
              "#9c179e"
             ],
             [
              0.4444444444444444,
              "#bd3786"
             ],
             [
              0.5555555555555556,
              "#d8576b"
             ],
             [
              0.6666666666666666,
              "#ed7953"
             ],
             [
              0.7777777777777778,
              "#fb9f3a"
             ],
             [
              0.8888888888888888,
              "#fdca26"
             ],
             [
              1,
              "#f0f921"
             ]
            ],
            "type": "contour"
           }
          ],
          "contourcarpet": [
           {
            "colorbar": {
             "outlinewidth": 0,
             "ticks": ""
            },
            "type": "contourcarpet"
           }
          ],
          "heatmap": [
           {
            "colorbar": {
             "outlinewidth": 0,
             "ticks": ""
            },
            "colorscale": [
             [
              0,
              "#0d0887"
             ],
             [
              0.1111111111111111,
              "#46039f"
             ],
             [
              0.2222222222222222,
              "#7201a8"
             ],
             [
              0.3333333333333333,
              "#9c179e"
             ],
             [
              0.4444444444444444,
              "#bd3786"
             ],
             [
              0.5555555555555556,
              "#d8576b"
             ],
             [
              0.6666666666666666,
              "#ed7953"
             ],
             [
              0.7777777777777778,
              "#fb9f3a"
             ],
             [
              0.8888888888888888,
              "#fdca26"
             ],
             [
              1,
              "#f0f921"
             ]
            ],
            "type": "heatmap"
           }
          ],
          "histogram": [
           {
            "marker": {
             "pattern": {
              "fillmode": "overlay",
              "size": 10,
              "solidity": 0.2
             }
            },
            "type": "histogram"
           }
          ],
          "histogram2d": [
           {
            "colorbar": {
             "outlinewidth": 0,
             "ticks": ""
            },
            "colorscale": [
             [
              0,
              "#0d0887"
             ],
             [
              0.1111111111111111,
              "#46039f"
             ],
             [
              0.2222222222222222,
              "#7201a8"
             ],
             [
              0.3333333333333333,
              "#9c179e"
             ],
             [
              0.4444444444444444,
              "#bd3786"
             ],
             [
              0.5555555555555556,
              "#d8576b"
             ],
             [
              0.6666666666666666,
              "#ed7953"
             ],
             [
              0.7777777777777778,
              "#fb9f3a"
             ],
             [
              0.8888888888888888,
              "#fdca26"
             ],
             [
              1,
              "#f0f921"
             ]
            ],
            "type": "histogram2d"
           }
          ],
          "histogram2dcontour": [
           {
            "colorbar": {
             "outlinewidth": 0,
             "ticks": ""
            },
            "colorscale": [
             [
              0,
              "#0d0887"
             ],
             [
              0.1111111111111111,
              "#46039f"
             ],
             [
              0.2222222222222222,
              "#7201a8"
             ],
             [
              0.3333333333333333,
              "#9c179e"
             ],
             [
              0.4444444444444444,
              "#bd3786"
             ],
             [
              0.5555555555555556,
              "#d8576b"
             ],
             [
              0.6666666666666666,
              "#ed7953"
             ],
             [
              0.7777777777777778,
              "#fb9f3a"
             ],
             [
              0.8888888888888888,
              "#fdca26"
             ],
             [
              1,
              "#f0f921"
             ]
            ],
            "type": "histogram2dcontour"
           }
          ],
          "mesh3d": [
           {
            "colorbar": {
             "outlinewidth": 0,
             "ticks": ""
            },
            "type": "mesh3d"
           }
          ],
          "parcoords": [
           {
            "line": {
             "colorbar": {
              "outlinewidth": 0,
              "ticks": ""
             }
            },
            "type": "parcoords"
           }
          ],
          "pie": [
           {
            "automargin": true,
            "type": "pie"
           }
          ],
          "scatter": [
           {
            "fillpattern": {
             "fillmode": "overlay",
             "size": 10,
             "solidity": 0.2
            },
            "type": "scatter"
           }
          ],
          "scatter3d": [
           {
            "line": {
             "colorbar": {
              "outlinewidth": 0,
              "ticks": ""
             }
            },
            "marker": {
             "colorbar": {
              "outlinewidth": 0,
              "ticks": ""
             }
            },
            "type": "scatter3d"
           }
          ],
          "scattercarpet": [
           {
            "marker": {
             "colorbar": {
              "outlinewidth": 0,
              "ticks": ""
             }
            },
            "type": "scattercarpet"
           }
          ],
          "scattergeo": [
           {
            "marker": {
             "colorbar": {
              "outlinewidth": 0,
              "ticks": ""
             }
            },
            "type": "scattergeo"
           }
          ],
          "scattergl": [
           {
            "marker": {
             "colorbar": {
              "outlinewidth": 0,
              "ticks": ""
             }
            },
            "type": "scattergl"
           }
          ],
          "scattermap": [
           {
            "marker": {
             "colorbar": {
              "outlinewidth": 0,
              "ticks": ""
             }
            },
            "type": "scattermap"
           }
          ],
          "scattermapbox": [
           {
            "marker": {
             "colorbar": {
              "outlinewidth": 0,
              "ticks": ""
             }
            },
            "type": "scattermapbox"
           }
          ],
          "scatterpolar": [
           {
            "marker": {
             "colorbar": {
              "outlinewidth": 0,
              "ticks": ""
             }
            },
            "type": "scatterpolar"
           }
          ],
          "scatterpolargl": [
           {
            "marker": {
             "colorbar": {
              "outlinewidth": 0,
              "ticks": ""
             }
            },
            "type": "scatterpolargl"
           }
          ],
          "scatterternary": [
           {
            "marker": {
             "colorbar": {
              "outlinewidth": 0,
              "ticks": ""
             }
            },
            "type": "scatterternary"
           }
          ],
          "surface": [
           {
            "colorbar": {
             "outlinewidth": 0,
             "ticks": ""
            },
            "colorscale": [
             [
              0,
              "#0d0887"
             ],
             [
              0.1111111111111111,
              "#46039f"
             ],
             [
              0.2222222222222222,
              "#7201a8"
             ],
             [
              0.3333333333333333,
              "#9c179e"
             ],
             [
              0.4444444444444444,
              "#bd3786"
             ],
             [
              0.5555555555555556,
              "#d8576b"
             ],
             [
              0.6666666666666666,
              "#ed7953"
             ],
             [
              0.7777777777777778,
              "#fb9f3a"
             ],
             [
              0.8888888888888888,
              "#fdca26"
             ],
             [
              1,
              "#f0f921"
             ]
            ],
            "type": "surface"
           }
          ],
          "table": [
           {
            "cells": {
             "fill": {
              "color": "#EBF0F8"
             },
             "line": {
              "color": "white"
             }
            },
            "header": {
             "fill": {
              "color": "#C8D4E3"
             },
             "line": {
              "color": "white"
             }
            },
            "type": "table"
           }
          ]
         },
         "layout": {
          "annotationdefaults": {
           "arrowcolor": "#2a3f5f",
           "arrowhead": 0,
           "arrowwidth": 1
          },
          "autotypenumbers": "strict",
          "coloraxis": {
           "colorbar": {
            "outlinewidth": 0,
            "ticks": ""
           }
          },
          "colorscale": {
           "diverging": [
            [
             0,
             "#8e0152"
            ],
            [
             0.1,
             "#c51b7d"
            ],
            [
             0.2,
             "#de77ae"
            ],
            [
             0.3,
             "#f1b6da"
            ],
            [
             0.4,
             "#fde0ef"
            ],
            [
             0.5,
             "#f7f7f7"
            ],
            [
             0.6,
             "#e6f5d0"
            ],
            [
             0.7,
             "#b8e186"
            ],
            [
             0.8,
             "#7fbc41"
            ],
            [
             0.9,
             "#4d9221"
            ],
            [
             1,
             "#276419"
            ]
           ],
           "sequential": [
            [
             0,
             "#0d0887"
            ],
            [
             0.1111111111111111,
             "#46039f"
            ],
            [
             0.2222222222222222,
             "#7201a8"
            ],
            [
             0.3333333333333333,
             "#9c179e"
            ],
            [
             0.4444444444444444,
             "#bd3786"
            ],
            [
             0.5555555555555556,
             "#d8576b"
            ],
            [
             0.6666666666666666,
             "#ed7953"
            ],
            [
             0.7777777777777778,
             "#fb9f3a"
            ],
            [
             0.8888888888888888,
             "#fdca26"
            ],
            [
             1,
             "#f0f921"
            ]
           ],
           "sequentialminus": [
            [
             0,
             "#0d0887"
            ],
            [
             0.1111111111111111,
             "#46039f"
            ],
            [
             0.2222222222222222,
             "#7201a8"
            ],
            [
             0.3333333333333333,
             "#9c179e"
            ],
            [
             0.4444444444444444,
             "#bd3786"
            ],
            [
             0.5555555555555556,
             "#d8576b"
            ],
            [
             0.6666666666666666,
             "#ed7953"
            ],
            [
             0.7777777777777778,
             "#fb9f3a"
            ],
            [
             0.8888888888888888,
             "#fdca26"
            ],
            [
             1,
             "#f0f921"
            ]
           ]
          },
          "colorway": [
           "#636efa",
           "#EF553B",
           "#00cc96",
           "#ab63fa",
           "#FFA15A",
           "#19d3f3",
           "#FF6692",
           "#B6E880",
           "#FF97FF",
           "#FECB52"
          ],
          "font": {
           "color": "#2a3f5f"
          },
          "geo": {
           "bgcolor": "white",
           "lakecolor": "white",
           "landcolor": "#E5ECF6",
           "showlakes": true,
           "showland": true,
           "subunitcolor": "white"
          },
          "hoverlabel": {
           "align": "left"
          },
          "hovermode": "closest",
          "mapbox": {
           "style": "light"
          },
          "paper_bgcolor": "white",
          "plot_bgcolor": "#E5ECF6",
          "polar": {
           "angularaxis": {
            "gridcolor": "white",
            "linecolor": "white",
            "ticks": ""
           },
           "bgcolor": "#E5ECF6",
           "radialaxis": {
            "gridcolor": "white",
            "linecolor": "white",
            "ticks": ""
           }
          },
          "scene": {
           "xaxis": {
            "backgroundcolor": "#E5ECF6",
            "gridcolor": "white",
            "gridwidth": 2,
            "linecolor": "white",
            "showbackground": true,
            "ticks": "",
            "zerolinecolor": "white"
           },
           "yaxis": {
            "backgroundcolor": "#E5ECF6",
            "gridcolor": "white",
            "gridwidth": 2,
            "linecolor": "white",
            "showbackground": true,
            "ticks": "",
            "zerolinecolor": "white"
           },
           "zaxis": {
            "backgroundcolor": "#E5ECF6",
            "gridcolor": "white",
            "gridwidth": 2,
            "linecolor": "white",
            "showbackground": true,
            "ticks": "",
            "zerolinecolor": "white"
           }
          },
          "shapedefaults": {
           "line": {
            "color": "#2a3f5f"
           }
          },
          "ternary": {
           "aaxis": {
            "gridcolor": "white",
            "linecolor": "white",
            "ticks": ""
           },
           "baxis": {
            "gridcolor": "white",
            "linecolor": "white",
            "ticks": ""
           },
           "bgcolor": "#E5ECF6",
           "caxis": {
            "gridcolor": "white",
            "linecolor": "white",
            "ticks": ""
           }
          },
          "title": {
           "x": 0.05
          },
          "xaxis": {
           "automargin": true,
           "gridcolor": "white",
           "linecolor": "white",
           "ticks": "",
           "title": {
            "standoff": 15
           },
           "zerolinecolor": "white",
           "zerolinewidth": 2
          },
          "yaxis": {
           "automargin": true,
           "gridcolor": "white",
           "linecolor": "white",
           "ticks": "",
           "title": {
            "standoff": 15
           },
           "zerolinecolor": "white",
           "zerolinewidth": 2
          }
         }
        },
        "title": {
         "text": "Semantic Expansion over Writing Sessions<br><span style=\"font-size: 12px;\">*Measuring how well humans are learning while writing with GenAI</span>"
        },
        "width": 1800,
        "xaxis": {
         "anchor": "y",
         "domain": [
          0,
          1
         ],
         "gridcolor": "white",
         "linecolor": "black",
         "mirror": false,
         "range": [
          -1,
          84
         ],
         "showline": true,
         "ticks": "outside",
         "title": {
          "text": "Progress into the writing session"
         }
        },
        "yaxis": {
         "anchor": "x",
         "domain": [
          0,
          1
         ],
         "gridcolor": "white",
         "linecolor": "black",
         "mirror": false,
         "showline": true,
         "ticks": "outside",
         "title": {
          "text": "Scores"
         }
        }
       }
      }
     },
     "metadata": {},
     "output_type": "display_data"
    },
    {
     "name": "stdout",
     "output_type": "stream",
     "text": [
      "legislation_antitrust_8\n"
     ]
    },
    {
     "data": {
      "application/vnd.plotly.v1+json": {
       "config": {
        "plotlyServerURL": "https://plot.ly"
       },
       "data": [
        {
         "hovertemplate": "x=%{x}<br>y=%{y}<extra></extra>",
         "line": {
          "color": "#64B5F6",
          "width": 3
         },
         "marker": {
          "color": "#64B5F6",
          "size": 7
         },
         "mode": "lines+markers",
         "showlegend": false,
         "type": "scatter",
         "x": [
          35,
          36
         ],
         "xaxis": "x",
         "y": [
          9.54304975271225,
          9.830221772193909
         ],
         "yaxis": "y"
        },
        {
         "hovertemplate": "x=%{x}<br>y=%{y}<extra></extra>",
         "line": {
          "color": "#64B5F6",
          "width": 3
         },
         "marker": {
          "color": "#64B5F6",
          "size": 7
         },
         "mode": "lines+markers",
         "showlegend": false,
         "type": "scatter",
         "x": [
          32,
          33
         ],
         "xaxis": "x",
         "y": [
          9.096752643585205,
          9.608763217926025
         ],
         "yaxis": "y"
        },
        {
         "hovertemplate": "x=%{x}<br>y=%{y}<extra></extra>",
         "line": {
          "color": "#64B5F6",
          "width": 3
         },
         "marker": {
          "color": "#64B5F6",
          "size": 7
         },
         "mode": "lines+markers",
         "showlegend": false,
         "type": "scatter",
         "x": [
          28,
          29
         ],
         "xaxis": "x",
         "y": [
          6.253222823143005,
          5.976492702960968
         ],
         "yaxis": "y"
        },
        {
         "hovertemplate": "x=%{x}<br>y=%{y}<extra></extra>",
         "line": {
          "color": "#64B5F6",
          "width": 3
         },
         "marker": {
          "color": "#64B5F6",
          "size": 7
         },
         "mode": "lines+markers",
         "showlegend": false,
         "type": "scatter",
         "x": [
          22,
          23
         ],
         "xaxis": "x",
         "y": [
          4.3333287835121155,
          4.5889506340026855
         ],
         "yaxis": "y"
        },
        {
         "hovertemplate": "x=%{x}<br>y=%{y}<extra></extra>",
         "line": {
          "color": "#64B5F6",
          "width": 3
         },
         "marker": {
          "color": "#64B5F6",
          "size": 7
         },
         "mode": "lines+markers",
         "showlegend": false,
         "type": "scatter",
         "x": [
          19,
          20
         ],
         "xaxis": "x",
         "y": [
          4.421110689640045,
          4.809570848941803
         ],
         "yaxis": "y"
        },
        {
         "hovertemplate": "x=%{x}<br>y=%{y}<extra></extra>",
         "line": {
          "color": "#64B5F6",
          "width": 3
         },
         "marker": {
          "color": "#64B5F6",
          "size": 7
         },
         "mode": "lines+markers",
         "showlegend": false,
         "type": "scatter",
         "x": [
          16,
          17
         ],
         "xaxis": "x",
         "y": [
          4.133688986301422,
          4.622204601764679
         ],
         "yaxis": "y"
        },
        {
         "hovertemplate": "x=%{x}<br>y=%{y}<extra></extra>",
         "line": {
          "color": "#64B5F6",
          "width": 3
         },
         "marker": {
          "color": "#64B5F6",
          "size": 7
         },
         "mode": "lines+markers",
         "showlegend": false,
         "type": "scatter",
         "x": [
          6,
          7
         ],
         "xaxis": "x",
         "y": [
          1.3028186559677124,
          1.6455772519111633
         ],
         "yaxis": "y"
        },
        {
         "hovertemplate": "x=%{x}<br>y=%{y}<extra></extra>",
         "line": {
          "color": "#64B5F6",
          "width": 3
         },
         "marker": {
          "color": "#64B5F6",
          "size": 7
         },
         "mode": "lines+markers",
         "showlegend": false,
         "type": "scatter",
         "x": [
          0,
          1
         ],
         "xaxis": "x",
         "y": [
          0,
          0.34317606687545776
         ],
         "yaxis": "y"
        },
        {
         "hovertemplate": "x=%{x}<br>y=%{y}<extra></extra>",
         "line": {
          "color": "#ff8fab",
          "width": 3
         },
         "marker": {
          "color": "#ff8fab",
          "size": 7
         },
         "mode": "lines+markers",
         "showlegend": false,
         "type": "scatter",
         "x": [
          36,
          37
         ],
         "xaxis": "x",
         "y": [
          9.830221772193909,
          10.11243715286255
         ],
         "yaxis": "y"
        },
        {
         "hovertemplate": "x=%{x}<br>y=%{y}<extra></extra>",
         "line": {
          "color": "#ff8fab",
          "width": 3
         },
         "marker": {
          "color": "#ff8fab",
          "size": 7
         },
         "mode": "lines+markers",
         "showlegend": false,
         "type": "scatter",
         "x": [
          33,
          34
         ],
         "xaxis": "x",
         "y": [
          9.608763217926025,
          10.085765504837036
         ],
         "yaxis": "y"
        },
        {
         "hovertemplate": "x=%{x}<br>y=%{y}<extra></extra>",
         "line": {
          "color": "#ff8fab",
          "width": 3
         },
         "marker": {
          "color": "#ff8fab",
          "size": 7
         },
         "mode": "lines+markers",
         "showlegend": false,
         "type": "scatter",
         "x": [
          29,
          30
         ],
         "xaxis": "x",
         "y": [
          5.976492702960968,
          6.503437185287476
         ],
         "yaxis": "y"
        },
        {
         "hovertemplate": "x=%{x}<br>y=%{y}<extra></extra>",
         "line": {
          "color": "#ff8fab",
          "width": 3
         },
         "marker": {
          "color": "#ff8fab",
          "size": 7
         },
         "mode": "lines+markers",
         "showlegend": false,
         "type": "scatter",
         "x": [
          23,
          24
         ],
         "xaxis": "x",
         "y": [
          4.5889506340026855,
          4.916337549686432
         ],
         "yaxis": "y"
        },
        {
         "hovertemplate": "x=%{x}<br>y=%{y}<extra></extra>",
         "line": {
          "color": "#ff8fab",
          "width": 3
         },
         "marker": {
          "color": "#ff8fab",
          "size": 7
         },
         "mode": "lines+markers",
         "showlegend": false,
         "type": "scatter",
         "x": [
          20,
          21
         ],
         "xaxis": "x",
         "y": [
          4.809570848941803,
          5.368683040142059
         ],
         "yaxis": "y"
        },
        {
         "hovertemplate": "x=%{x}<br>y=%{y}<extra></extra>",
         "line": {
          "color": "#ff8fab",
          "width": 3
         },
         "marker": {
          "color": "#ff8fab",
          "size": 7
         },
         "mode": "lines+markers",
         "showlegend": false,
         "type": "scatter",
         "x": [
          17,
          18
         ],
         "xaxis": "x",
         "y": [
          4.622204601764679,
          4.913481223583221
         ],
         "yaxis": "y"
        },
        {
         "hovertemplate": "x=%{x}<br>y=%{y}<extra></extra>",
         "line": {
          "color": "#ff8fab",
          "width": 3
         },
         "marker": {
          "color": "#ff8fab",
          "size": 7
         },
         "mode": "lines+markers",
         "showlegend": false,
         "type": "scatter",
         "x": [
          14,
          15
         ],
         "xaxis": "x",
         "y": [
          3.8196356892585754,
          4.247706007957459
         ],
         "yaxis": "y"
        },
        {
         "hovertemplate": "x=%{x}<br>y=%{y}<extra></extra>",
         "line": {
          "color": "#ff8fab",
          "width": 3
         },
         "marker": {
          "color": "#ff8fab",
          "size": 7
         },
         "mode": "lines+markers",
         "showlegend": false,
         "type": "scatter",
         "x": [
          7,
          8
         ],
         "xaxis": "x",
         "y": [
          1.6455772519111633,
          2.082260584831238
         ],
         "yaxis": "y"
        },
        {
         "hovertemplate": "x=%{x}<br>y=%{y}<extra></extra>",
         "line": {
          "color": "#ff8fab",
          "width": 3
         },
         "marker": {
          "color": "#ff8fab",
          "size": 7
         },
         "mode": "lines+markers",
         "showlegend": false,
         "type": "scatter",
         "x": [
          1,
          2
         ],
         "xaxis": "x",
         "y": [
          0.34317606687545776,
          0.6547239422798157
         ],
         "yaxis": "y"
        },
        {
         "hovertemplate": "x=%{x}<br>y=%{y}<extra></extra>",
         "line": {
          "color": "#023e8a",
          "width": 3
         },
         "marker": {
          "color": "#023e8a",
          "size": 7
         },
         "mode": "lines+markers",
         "showlegend": false,
         "type": "scatter",
         "x": [
          39,
          40
         ],
         "xaxis": "x",
         "y": [
          9.986509144306183,
          10.263519763946533
         ],
         "yaxis": "y"
        },
        {
         "hovertemplate": "x=%{x}<br>y=%{y}<extra></extra>",
         "line": {
          "color": "#023e8a",
          "width": 3
         },
         "marker": {
          "color": "#023e8a",
          "size": 7
         },
         "mode": "lines+markers",
         "showlegend": false,
         "type": "scatter",
         "x": [
          34,
          35
         ],
         "xaxis": "x",
         "y": [
          9.096752643585205,
          9.54304975271225
         ],
         "yaxis": "y"
        },
        {
         "hovertemplate": "x=%{x}<br>y=%{y}<extra></extra>",
         "line": {
          "color": "#023e8a",
          "width": 3
         },
         "marker": {
          "color": "#023e8a",
          "size": 7
         },
         "mode": "lines+markers",
         "showlegend": false,
         "type": "scatter",
         "x": [
          27,
          28
         ],
         "xaxis": "x",
         "y": [
          5.430241525173187,
          6.253222823143005
         ],
         "yaxis": "y"
        },
        {
         "hovertemplate": "x=%{x}<br>y=%{y}<extra></extra>",
         "line": {
          "color": "#023e8a",
          "width": 3
         },
         "marker": {
          "color": "#023e8a",
          "size": 7
         },
         "mode": "lines+markers",
         "showlegend": false,
         "type": "scatter",
         "x": [
          26,
          27
         ],
         "xaxis": "x",
         "y": [
          5.188356697559357,
          5.430241525173187
         ],
         "yaxis": "y"
        },
        {
         "hovertemplate": "x=%{x}<br>y=%{y}<extra></extra>",
         "line": {
          "color": "#023e8a",
          "width": 3
         },
         "marker": {
          "color": "#023e8a",
          "size": 7
         },
         "mode": "lines+markers",
         "showlegend": false,
         "type": "scatter",
         "x": [
          25,
          26
         ],
         "xaxis": "x",
         "y": [
          4.649536073207855,
          5.188356697559357
         ],
         "yaxis": "y"
        },
        {
         "hovertemplate": "x=%{x}<br>y=%{y}<extra></extra>",
         "line": {
          "color": "#023e8a",
          "width": 3
         },
         "marker": {
          "color": "#023e8a",
          "size": 7
         },
         "mode": "lines+markers",
         "showlegend": false,
         "type": "scatter",
         "x": [
          15,
          16
         ],
         "xaxis": "x",
         "y": [
          3.8196356892585754,
          4.133688986301422
         ],
         "yaxis": "y"
        },
        {
         "hovertemplate": "x=%{x}<br>y=%{y}<extra></extra>",
         "line": {
          "color": "#023e8a",
          "width": 3
         },
         "marker": {
          "color": "#023e8a",
          "size": 7
         },
         "mode": "lines+markers",
         "showlegend": false,
         "type": "scatter",
         "x": [
          13,
          14
         ],
         "xaxis": "x",
         "y": [
          3.126158058643341,
          3.8196356892585754
         ],
         "yaxis": "y"
        },
        {
         "hovertemplate": "x=%{x}<br>y=%{y}<extra></extra>",
         "line": {
          "color": "#023e8a",
          "width": 3
         },
         "marker": {
          "color": "#023e8a",
          "size": 7
         },
         "mode": "lines+markers",
         "showlegend": false,
         "type": "scatter",
         "x": [
          12,
          13
         ],
         "xaxis": "x",
         "y": [
          2.3308222889900208,
          3.126158058643341
         ],
         "yaxis": "y"
        },
        {
         "hovertemplate": "x=%{x}<br>y=%{y}<extra></extra>",
         "line": {
          "color": "#023e8a",
          "width": 3
         },
         "marker": {
          "color": "#023e8a",
          "size": 7
         },
         "mode": "lines+markers",
         "showlegend": false,
         "type": "scatter",
         "x": [
          11,
          12
         ],
         "xaxis": "x",
         "y": [
          1.9289790391921997,
          2.3308222889900208
         ],
         "yaxis": "y"
        },
        {
         "hovertemplate": "x=%{x}<br>y=%{y}<extra></extra>",
         "line": {
          "color": "#023e8a",
          "width": 3
         },
         "marker": {
          "color": "#023e8a",
          "size": 7
         },
         "mode": "lines+markers",
         "showlegend": false,
         "type": "scatter",
         "x": [
          10,
          11
         ],
         "xaxis": "x",
         "y": [
          1.6360391974449158,
          1.9289790391921997
         ],
         "yaxis": "y"
        },
        {
         "hovertemplate": "x=%{x}<br>y=%{y}<extra></extra>",
         "line": {
          "color": "#023e8a",
          "width": 3
         },
         "marker": {
          "color": "#023e8a",
          "size": 7
         },
         "mode": "lines+markers",
         "showlegend": false,
         "type": "scatter",
         "x": [
          8,
          9
         ],
         "xaxis": "x",
         "y": [
          1.3028186559677124,
          1.5932754278182983
         ],
         "yaxis": "y"
        },
        {
         "hovertemplate": "x=%{x}<br>y=%{y}<extra></extra>",
         "line": {
          "color": "#023e8a",
          "width": 3
         },
         "marker": {
          "color": "#023e8a",
          "size": 7
         },
         "mode": "lines+markers",
         "showlegend": false,
         "type": "scatter",
         "x": [
          5,
          6
         ],
         "xaxis": "x",
         "y": [
          1.0494059324264526,
          1.3028186559677124
         ],
         "yaxis": "y"
        },
        {
         "hovertemplate": "x=%{x}<br>y=%{y}<extra></extra>",
         "line": {
          "color": "#023e8a",
          "width": 3
         },
         "marker": {
          "color": "#023e8a",
          "size": 7
         },
         "mode": "lines+markers",
         "showlegend": false,
         "type": "scatter",
         "x": [
          4,
          5
         ],
         "xaxis": "x",
         "y": [
          0.8367363810539246,
          1.0494059324264526
         ],
         "yaxis": "y"
        },
        {
         "hovertemplate": "x=%{x}<br>y=%{y}<extra></extra>",
         "line": {
          "color": "#023e8a",
          "width": 3
         },
         "marker": {
          "color": "#023e8a",
          "size": 7
         },
         "mode": "lines+markers",
         "showlegend": false,
         "type": "scatter",
         "x": [
          3,
          4
         ],
         "xaxis": "x",
         "y": [
          0.6220898032188416,
          0.8367363810539246
         ],
         "yaxis": "y"
        },
        {
         "hovertemplate": "x=%{x}<br>y=%{y}<extra></extra>",
         "line": {
          "color": "#023e8a",
          "width": 3
         },
         "marker": {
          "color": "#023e8a",
          "size": 7
         },
         "mode": "lines+markers",
         "showlegend": false,
         "type": "scatter",
         "x": [
          2,
          3
         ],
         "xaxis": "x",
         "y": [
          0,
          0.6220898032188416
         ],
         "yaxis": "y"
        },
        {
         "hovertemplate": "x=%{x}<br>y=%{y}<extra></extra>",
         "line": {
          "color": "#c1121f",
          "width": 3
         },
         "marker": {
          "color": "#c1121f",
          "size": 7
         },
         "mode": "lines+markers",
         "showlegend": false,
         "type": "scatter",
         "x": [
          37,
          38
         ],
         "xaxis": "x",
         "y": [
          9.54304975271225,
          10.216718673706055
         ],
         "yaxis": "y"
        },
        {
         "hovertemplate": "x=%{x}<br>y=%{y}<extra></extra>",
         "line": {
          "color": "#c1121f",
          "width": 3
         },
         "marker": {
          "color": "#c1121f",
          "size": 7
         },
         "mode": "lines+markers",
         "showlegend": false,
         "type": "scatter",
         "x": [
          30,
          31
         ],
         "xaxis": "x",
         "y": [
          6.253222823143005,
          9.096752643585205
         ],
         "yaxis": "y"
        },
        {
         "hovertemplate": "x=%{x}<br>y=%{y}<extra></extra>",
         "line": {
          "color": "#c1121f",
          "width": 3
         },
         "marker": {
          "color": "#c1121f",
          "size": 7
         },
         "mode": "lines+markers",
         "showlegend": false,
         "type": "scatter",
         "x": [
          24,
          25
         ],
         "xaxis": "x",
         "y": [
          4.3333287835121155,
          4.649536073207855
         ],
         "yaxis": "y"
        },
        {
         "hovertemplate": "x=%{x}<br>y=%{y}<extra></extra>",
         "line": {
          "color": "#c1121f",
          "width": 3
         },
         "marker": {
          "color": "#c1121f",
          "size": 7
         },
         "mode": "lines+markers",
         "showlegend": false,
         "type": "scatter",
         "x": [
          21,
          22
         ],
         "xaxis": "x",
         "y": [
          4.421110689640045,
          4.3333287835121155
         ],
         "yaxis": "y"
        },
        {
         "hovertemplate": "x=%{x}<br>y=%{y}<extra></extra>",
         "line": {
          "color": "#c1121f",
          "width": 3
         },
         "marker": {
          "color": "#c1121f",
          "size": 7
         },
         "mode": "lines+markers",
         "showlegend": false,
         "type": "scatter",
         "x": [
          18,
          19
         ],
         "xaxis": "x",
         "y": [
          4.133688986301422,
          4.421110689640045
         ],
         "yaxis": "y"
        },
        {
         "hovertemplate": "x=%{x}<br>y=%{y}<extra></extra>",
         "line": {
          "color": "#9d4edd",
          "width": 3
         },
         "marker": {
          "color": "#9d4edd",
          "size": 7
         },
         "mode": "lines+markers",
         "showlegend": false,
         "type": "scatter",
         "x": [
          38,
          39
         ],
         "xaxis": "x",
         "y": [
          10.216718673706055,
          9.986509144306183
         ],
         "yaxis": "y"
        },
        {
         "hovertemplate": "x=%{x}<br>y=%{y}<extra></extra>",
         "line": {
          "color": "#9d4edd",
          "width": 3
         },
         "marker": {
          "color": "#9d4edd",
          "size": 7
         },
         "mode": "lines+markers",
         "showlegend": false,
         "type": "scatter",
         "x": [
          31,
          32
         ],
         "xaxis": "x",
         "y": [
          9.096752643585205,
          9.096752643585205
         ],
         "yaxis": "y"
        },
        {
         "hovertemplate": "x=%{x}<br>y=%{y}<extra></extra>",
         "line": {
          "color": "#9d4edd",
          "width": 3
         },
         "marker": {
          "color": "#9d4edd",
          "size": 7
         },
         "mode": "lines+markers",
         "showlegend": false,
         "type": "scatter",
         "x": [
          9,
          10
         ],
         "xaxis": "x",
         "y": [
          1.5932754278182983,
          1.6360391974449158
         ],
         "yaxis": "y"
        },
        {
         "line": {
          "color": "#64B5F6",
          "width": 2
         },
         "mode": "lines",
         "name": "human_insert_backstage",
         "showlegend": true,
         "type": "scatter",
         "x": [
          null
         ],
         "xaxis": "x",
         "y": [
          null
         ],
         "yaxis": "y"
        },
        {
         "line": {
          "color": "#ff8fab",
          "width": 2
         },
         "mode": "lines",
         "name": "ai_suggest_backstage",
         "showlegend": true,
         "type": "scatter",
         "x": [
          null
         ],
         "xaxis": "x",
         "y": [
          null
         ],
         "yaxis": "y"
        },
        {
         "line": {
          "color": "#023e8a",
          "width": 2
         },
         "mode": "lines",
         "name": "human_insert_frontstage",
         "showlegend": true,
         "type": "scatter",
         "x": [
          null
         ],
         "xaxis": "x",
         "y": [
          null
         ],
         "yaxis": "y"
        },
        {
         "line": {
          "color": "#c1121f",
          "width": 2
         },
         "mode": "lines",
         "name": "ai_insert_moved_to_frontstage",
         "showlegend": true,
         "type": "scatter",
         "x": [
          null
         ],
         "xaxis": "x",
         "y": [
          null
         ],
         "yaxis": "y"
        },
        {
         "line": {
          "color": "#9d4edd",
          "width": 2
         },
         "mode": "lines",
         "name": "human_delete_frontstage",
         "showlegend": true,
         "type": "scatter",
         "x": [
          null
         ],
         "xaxis": "x",
         "y": [
          null
         ],
         "yaxis": "y"
        },
        {
         "line": {
          "color": "#5a189a",
          "width": 2
         },
         "mode": "lines",
         "name": "human_insert_edit_frontstage",
         "showlegend": true,
         "type": "scatter",
         "x": [
          null
         ],
         "xaxis": "x",
         "y": [
          null
         ],
         "yaxis": "y"
        }
       ],
       "layout": {
        "annotations": [
         {
          "font": {
           "size": 16
          },
          "showarrow": false,
          "text": "Session: legislation_antitrust_8",
          "x": 0.5,
          "xanchor": "center",
          "xref": "paper",
          "y": 1,
          "yanchor": "bottom",
          "yref": "paper"
         }
        ],
        "height": 500,
        "legend": {
         "title": {
          "font": {
           "color": "rgba(0, 0, 0, 0)"
          }
         }
        },
        "plot_bgcolor": "white",
        "showlegend": true,
        "template": {
         "data": {
          "bar": [
           {
            "error_x": {
             "color": "#2a3f5f"
            },
            "error_y": {
             "color": "#2a3f5f"
            },
            "marker": {
             "line": {
              "color": "#E5ECF6",
              "width": 0.5
             },
             "pattern": {
              "fillmode": "overlay",
              "size": 10,
              "solidity": 0.2
             }
            },
            "type": "bar"
           }
          ],
          "barpolar": [
           {
            "marker": {
             "line": {
              "color": "#E5ECF6",
              "width": 0.5
             },
             "pattern": {
              "fillmode": "overlay",
              "size": 10,
              "solidity": 0.2
             }
            },
            "type": "barpolar"
           }
          ],
          "carpet": [
           {
            "aaxis": {
             "endlinecolor": "#2a3f5f",
             "gridcolor": "white",
             "linecolor": "white",
             "minorgridcolor": "white",
             "startlinecolor": "#2a3f5f"
            },
            "baxis": {
             "endlinecolor": "#2a3f5f",
             "gridcolor": "white",
             "linecolor": "white",
             "minorgridcolor": "white",
             "startlinecolor": "#2a3f5f"
            },
            "type": "carpet"
           }
          ],
          "choropleth": [
           {
            "colorbar": {
             "outlinewidth": 0,
             "ticks": ""
            },
            "type": "choropleth"
           }
          ],
          "contour": [
           {
            "colorbar": {
             "outlinewidth": 0,
             "ticks": ""
            },
            "colorscale": [
             [
              0,
              "#0d0887"
             ],
             [
              0.1111111111111111,
              "#46039f"
             ],
             [
              0.2222222222222222,
              "#7201a8"
             ],
             [
              0.3333333333333333,
              "#9c179e"
             ],
             [
              0.4444444444444444,
              "#bd3786"
             ],
             [
              0.5555555555555556,
              "#d8576b"
             ],
             [
              0.6666666666666666,
              "#ed7953"
             ],
             [
              0.7777777777777778,
              "#fb9f3a"
             ],
             [
              0.8888888888888888,
              "#fdca26"
             ],
             [
              1,
              "#f0f921"
             ]
            ],
            "type": "contour"
           }
          ],
          "contourcarpet": [
           {
            "colorbar": {
             "outlinewidth": 0,
             "ticks": ""
            },
            "type": "contourcarpet"
           }
          ],
          "heatmap": [
           {
            "colorbar": {
             "outlinewidth": 0,
             "ticks": ""
            },
            "colorscale": [
             [
              0,
              "#0d0887"
             ],
             [
              0.1111111111111111,
              "#46039f"
             ],
             [
              0.2222222222222222,
              "#7201a8"
             ],
             [
              0.3333333333333333,
              "#9c179e"
             ],
             [
              0.4444444444444444,
              "#bd3786"
             ],
             [
              0.5555555555555556,
              "#d8576b"
             ],
             [
              0.6666666666666666,
              "#ed7953"
             ],
             [
              0.7777777777777778,
              "#fb9f3a"
             ],
             [
              0.8888888888888888,
              "#fdca26"
             ],
             [
              1,
              "#f0f921"
             ]
            ],
            "type": "heatmap"
           }
          ],
          "histogram": [
           {
            "marker": {
             "pattern": {
              "fillmode": "overlay",
              "size": 10,
              "solidity": 0.2
             }
            },
            "type": "histogram"
           }
          ],
          "histogram2d": [
           {
            "colorbar": {
             "outlinewidth": 0,
             "ticks": ""
            },
            "colorscale": [
             [
              0,
              "#0d0887"
             ],
             [
              0.1111111111111111,
              "#46039f"
             ],
             [
              0.2222222222222222,
              "#7201a8"
             ],
             [
              0.3333333333333333,
              "#9c179e"
             ],
             [
              0.4444444444444444,
              "#bd3786"
             ],
             [
              0.5555555555555556,
              "#d8576b"
             ],
             [
              0.6666666666666666,
              "#ed7953"
             ],
             [
              0.7777777777777778,
              "#fb9f3a"
             ],
             [
              0.8888888888888888,
              "#fdca26"
             ],
             [
              1,
              "#f0f921"
             ]
            ],
            "type": "histogram2d"
           }
          ],
          "histogram2dcontour": [
           {
            "colorbar": {
             "outlinewidth": 0,
             "ticks": ""
            },
            "colorscale": [
             [
              0,
              "#0d0887"
             ],
             [
              0.1111111111111111,
              "#46039f"
             ],
             [
              0.2222222222222222,
              "#7201a8"
             ],
             [
              0.3333333333333333,
              "#9c179e"
             ],
             [
              0.4444444444444444,
              "#bd3786"
             ],
             [
              0.5555555555555556,
              "#d8576b"
             ],
             [
              0.6666666666666666,
              "#ed7953"
             ],
             [
              0.7777777777777778,
              "#fb9f3a"
             ],
             [
              0.8888888888888888,
              "#fdca26"
             ],
             [
              1,
              "#f0f921"
             ]
            ],
            "type": "histogram2dcontour"
           }
          ],
          "mesh3d": [
           {
            "colorbar": {
             "outlinewidth": 0,
             "ticks": ""
            },
            "type": "mesh3d"
           }
          ],
          "parcoords": [
           {
            "line": {
             "colorbar": {
              "outlinewidth": 0,
              "ticks": ""
             }
            },
            "type": "parcoords"
           }
          ],
          "pie": [
           {
            "automargin": true,
            "type": "pie"
           }
          ],
          "scatter": [
           {
            "fillpattern": {
             "fillmode": "overlay",
             "size": 10,
             "solidity": 0.2
            },
            "type": "scatter"
           }
          ],
          "scatter3d": [
           {
            "line": {
             "colorbar": {
              "outlinewidth": 0,
              "ticks": ""
             }
            },
            "marker": {
             "colorbar": {
              "outlinewidth": 0,
              "ticks": ""
             }
            },
            "type": "scatter3d"
           }
          ],
          "scattercarpet": [
           {
            "marker": {
             "colorbar": {
              "outlinewidth": 0,
              "ticks": ""
             }
            },
            "type": "scattercarpet"
           }
          ],
          "scattergeo": [
           {
            "marker": {
             "colorbar": {
              "outlinewidth": 0,
              "ticks": ""
             }
            },
            "type": "scattergeo"
           }
          ],
          "scattergl": [
           {
            "marker": {
             "colorbar": {
              "outlinewidth": 0,
              "ticks": ""
             }
            },
            "type": "scattergl"
           }
          ],
          "scattermap": [
           {
            "marker": {
             "colorbar": {
              "outlinewidth": 0,
              "ticks": ""
             }
            },
            "type": "scattermap"
           }
          ],
          "scattermapbox": [
           {
            "marker": {
             "colorbar": {
              "outlinewidth": 0,
              "ticks": ""
             }
            },
            "type": "scattermapbox"
           }
          ],
          "scatterpolar": [
           {
            "marker": {
             "colorbar": {
              "outlinewidth": 0,
              "ticks": ""
             }
            },
            "type": "scatterpolar"
           }
          ],
          "scatterpolargl": [
           {
            "marker": {
             "colorbar": {
              "outlinewidth": 0,
              "ticks": ""
             }
            },
            "type": "scatterpolargl"
           }
          ],
          "scatterternary": [
           {
            "marker": {
             "colorbar": {
              "outlinewidth": 0,
              "ticks": ""
             }
            },
            "type": "scatterternary"
           }
          ],
          "surface": [
           {
            "colorbar": {
             "outlinewidth": 0,
             "ticks": ""
            },
            "colorscale": [
             [
              0,
              "#0d0887"
             ],
             [
              0.1111111111111111,
              "#46039f"
             ],
             [
              0.2222222222222222,
              "#7201a8"
             ],
             [
              0.3333333333333333,
              "#9c179e"
             ],
             [
              0.4444444444444444,
              "#bd3786"
             ],
             [
              0.5555555555555556,
              "#d8576b"
             ],
             [
              0.6666666666666666,
              "#ed7953"
             ],
             [
              0.7777777777777778,
              "#fb9f3a"
             ],
             [
              0.8888888888888888,
              "#fdca26"
             ],
             [
              1,
              "#f0f921"
             ]
            ],
            "type": "surface"
           }
          ],
          "table": [
           {
            "cells": {
             "fill": {
              "color": "#EBF0F8"
             },
             "line": {
              "color": "white"
             }
            },
            "header": {
             "fill": {
              "color": "#C8D4E3"
             },
             "line": {
              "color": "white"
             }
            },
            "type": "table"
           }
          ]
         },
         "layout": {
          "annotationdefaults": {
           "arrowcolor": "#2a3f5f",
           "arrowhead": 0,
           "arrowwidth": 1
          },
          "autotypenumbers": "strict",
          "coloraxis": {
           "colorbar": {
            "outlinewidth": 0,
            "ticks": ""
           }
          },
          "colorscale": {
           "diverging": [
            [
             0,
             "#8e0152"
            ],
            [
             0.1,
             "#c51b7d"
            ],
            [
             0.2,
             "#de77ae"
            ],
            [
             0.3,
             "#f1b6da"
            ],
            [
             0.4,
             "#fde0ef"
            ],
            [
             0.5,
             "#f7f7f7"
            ],
            [
             0.6,
             "#e6f5d0"
            ],
            [
             0.7,
             "#b8e186"
            ],
            [
             0.8,
             "#7fbc41"
            ],
            [
             0.9,
             "#4d9221"
            ],
            [
             1,
             "#276419"
            ]
           ],
           "sequential": [
            [
             0,
             "#0d0887"
            ],
            [
             0.1111111111111111,
             "#46039f"
            ],
            [
             0.2222222222222222,
             "#7201a8"
            ],
            [
             0.3333333333333333,
             "#9c179e"
            ],
            [
             0.4444444444444444,
             "#bd3786"
            ],
            [
             0.5555555555555556,
             "#d8576b"
            ],
            [
             0.6666666666666666,
             "#ed7953"
            ],
            [
             0.7777777777777778,
             "#fb9f3a"
            ],
            [
             0.8888888888888888,
             "#fdca26"
            ],
            [
             1,
             "#f0f921"
            ]
           ],
           "sequentialminus": [
            [
             0,
             "#0d0887"
            ],
            [
             0.1111111111111111,
             "#46039f"
            ],
            [
             0.2222222222222222,
             "#7201a8"
            ],
            [
             0.3333333333333333,
             "#9c179e"
            ],
            [
             0.4444444444444444,
             "#bd3786"
            ],
            [
             0.5555555555555556,
             "#d8576b"
            ],
            [
             0.6666666666666666,
             "#ed7953"
            ],
            [
             0.7777777777777778,
             "#fb9f3a"
            ],
            [
             0.8888888888888888,
             "#fdca26"
            ],
            [
             1,
             "#f0f921"
            ]
           ]
          },
          "colorway": [
           "#636efa",
           "#EF553B",
           "#00cc96",
           "#ab63fa",
           "#FFA15A",
           "#19d3f3",
           "#FF6692",
           "#B6E880",
           "#FF97FF",
           "#FECB52"
          ],
          "font": {
           "color": "#2a3f5f"
          },
          "geo": {
           "bgcolor": "white",
           "lakecolor": "white",
           "landcolor": "#E5ECF6",
           "showlakes": true,
           "showland": true,
           "subunitcolor": "white"
          },
          "hoverlabel": {
           "align": "left"
          },
          "hovermode": "closest",
          "mapbox": {
           "style": "light"
          },
          "paper_bgcolor": "white",
          "plot_bgcolor": "#E5ECF6",
          "polar": {
           "angularaxis": {
            "gridcolor": "white",
            "linecolor": "white",
            "ticks": ""
           },
           "bgcolor": "#E5ECF6",
           "radialaxis": {
            "gridcolor": "white",
            "linecolor": "white",
            "ticks": ""
           }
          },
          "scene": {
           "xaxis": {
            "backgroundcolor": "#E5ECF6",
            "gridcolor": "white",
            "gridwidth": 2,
            "linecolor": "white",
            "showbackground": true,
            "ticks": "",
            "zerolinecolor": "white"
           },
           "yaxis": {
            "backgroundcolor": "#E5ECF6",
            "gridcolor": "white",
            "gridwidth": 2,
            "linecolor": "white",
            "showbackground": true,
            "ticks": "",
            "zerolinecolor": "white"
           },
           "zaxis": {
            "backgroundcolor": "#E5ECF6",
            "gridcolor": "white",
            "gridwidth": 2,
            "linecolor": "white",
            "showbackground": true,
            "ticks": "",
            "zerolinecolor": "white"
           }
          },
          "shapedefaults": {
           "line": {
            "color": "#2a3f5f"
           }
          },
          "ternary": {
           "aaxis": {
            "gridcolor": "white",
            "linecolor": "white",
            "ticks": ""
           },
           "baxis": {
            "gridcolor": "white",
            "linecolor": "white",
            "ticks": ""
           },
           "bgcolor": "#E5ECF6",
           "caxis": {
            "gridcolor": "white",
            "linecolor": "white",
            "ticks": ""
           }
          },
          "title": {
           "x": 0.05
          },
          "xaxis": {
           "automargin": true,
           "gridcolor": "white",
           "linecolor": "white",
           "ticks": "",
           "title": {
            "standoff": 15
           },
           "zerolinecolor": "white",
           "zerolinewidth": 2
          },
          "yaxis": {
           "automargin": true,
           "gridcolor": "white",
           "linecolor": "white",
           "ticks": "",
           "title": {
            "standoff": 15
           },
           "zerolinecolor": "white",
           "zerolinewidth": 2
          }
         }
        },
        "title": {
         "text": "Semantic Expansion over Writing Sessions<br><span style=\"font-size: 12px;\">*Measuring how well humans are learning while writing with GenAI</span>"
        },
        "width": 1800,
        "xaxis": {
         "anchor": "y",
         "domain": [
          0,
          1
         ],
         "gridcolor": "white",
         "linecolor": "black",
         "mirror": false,
         "range": [
          -1,
          41
         ],
         "showline": true,
         "ticks": "outside",
         "title": {
          "text": "Progress into the writing session"
         }
        },
        "yaxis": {
         "anchor": "x",
         "domain": [
          0,
          1
         ],
         "gridcolor": "white",
         "linecolor": "black",
         "mirror": false,
         "showline": true,
         "ticks": "outside",
         "title": {
          "text": "Scores"
         }
        }
       }
      }
     },
     "metadata": {},
     "output_type": "display_data"
    }
   ],
   "source": [
    "writing_data = level_2_actions_per_session_semantic\n",
    "# Session IDs: An array of sessions you wish to plot.\n",
    "# Adjust as needed. Check session IDs in data exploration for options.\n",
    "session_ids = [\n",
    "    \"legislation_corporate_1\",\n",
    "    \"legislation_corporate_2\",\n",
    "    \"legislation_corporate_3\",\n",
    "    \"legislation_corporate_4\",\n",
    "    \"legislation_corporate_5\",\n",
    "    \"legislation_corporate_6\",\n",
    "    \"legislation_antitrust_1\",\n",
    "    \"legislation_antitrust_2\",\n",
    "    \"legislation_antitrust_3\",\n",
    "    \"legislation_antitrust_4\",\n",
    "    \"legislation_antitrust_5\",\n",
    "    \"legislation_antitrust_6\",\n",
    "    \"legislation_antitrust_7\",\n",
    "    \"legislation_antitrust_8\",\n",
    "]\n",
    "\n",
    "# Generate the plot\n",
    "for session_id in session_ids:\n",
    "    fig = plot_semantic_expansion_sentence(writing_data, [session_id])"
   ]
  },
  {
   "cell_type": "code",
   "execution_count": null,
   "id": "f7de4005",
   "metadata": {},
   "outputs": [],
   "source": []
  }
 ],
 "metadata": {
  "kernelspec": {
   "display_name": "venv",
   "language": "python",
   "name": "python3"
  },
  "language_info": {
   "codemirror_mode": {
    "name": "ipython",
    "version": 3
   },
   "file_extension": ".py",
   "mimetype": "text/x-python",
   "name": "python",
   "nbconvert_exporter": "python",
   "pygments_lexer": "ipython3",
   "version": "3.11.13"
  }
 },
 "nbformat": 4,
 "nbformat_minor": 5
}
