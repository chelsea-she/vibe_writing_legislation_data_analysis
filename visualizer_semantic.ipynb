{
 "cells": [
  {
   "cell_type": "markdown",
   "id": "832f863e",
   "metadata": {},
   "source": [
    "### I. Set up"
   ]
  },
  {
   "cell_type": "code",
   "execution_count": 3,
   "id": "e6bdb4d1",
   "metadata": {},
   "outputs": [
    {
     "name": "stdout",
     "output_type": "stream",
     "text": [
      "Requirement already satisfied: pandas in ./.venv/lib/python3.9/site-packages (2.3.0)\n",
      "Requirement already satisfied: numpy>=1.22.4 in ./.venv/lib/python3.9/site-packages (from pandas) (2.0.2)\n",
      "Requirement already satisfied: python-dateutil>=2.8.2 in ./.venv/lib/python3.9/site-packages (from pandas) (2.9.0.post0)\n",
      "Requirement already satisfied: pytz>=2020.1 in ./.venv/lib/python3.9/site-packages (from pandas) (2025.2)\n",
      "Requirement already satisfied: tzdata>=2022.7 in ./.venv/lib/python3.9/site-packages (from pandas) (2025.2)\n",
      "Requirement already satisfied: six>=1.5 in ./.venv/lib/python3.9/site-packages (from python-dateutil>=2.8.2->pandas) (1.17.0)\n",
      "\n",
      "\u001b[1m[\u001b[0m\u001b[34;49mnotice\u001b[0m\u001b[1;39;49m]\u001b[0m\u001b[39;49m A new release of pip is available: \u001b[0m\u001b[31;49m25.1.1\u001b[0m\u001b[39;49m -> \u001b[0m\u001b[32;49m25.2\u001b[0m\n",
      "\u001b[1m[\u001b[0m\u001b[34;49mnotice\u001b[0m\u001b[1;39;49m]\u001b[0m\u001b[39;49m To update, run: \u001b[0m\u001b[32;49mpip install --upgrade pip\u001b[0m\n",
      "Note: you may need to restart the kernel to use updated packages.\n",
      "Requirement already satisfied: plotly in ./.venv/lib/python3.9/site-packages (6.1.2)\n",
      "Requirement already satisfied: narwhals>=1.15.1 in ./.venv/lib/python3.9/site-packages (from plotly) (1.42.1)\n",
      "Requirement already satisfied: packaging in ./.venv/lib/python3.9/site-packages (from plotly) (25.0)\n",
      "\n",
      "\u001b[1m[\u001b[0m\u001b[34;49mnotice\u001b[0m\u001b[1;39;49m]\u001b[0m\u001b[39;49m A new release of pip is available: \u001b[0m\u001b[31;49m25.1.1\u001b[0m\u001b[39;49m -> \u001b[0m\u001b[32;49m25.2\u001b[0m\n",
      "\u001b[1m[\u001b[0m\u001b[34;49mnotice\u001b[0m\u001b[1;39;49m]\u001b[0m\u001b[39;49m To update, run: \u001b[0m\u001b[32;49mpip install --upgrade pip\u001b[0m\n",
      "Note: you may need to restart the kernel to use updated packages.\n",
      "Requirement already satisfied: nbformat in ./.venv/lib/python3.9/site-packages (5.10.4)\n",
      "Requirement already satisfied: fastjsonschema>=2.15 in ./.venv/lib/python3.9/site-packages (from nbformat) (2.21.1)\n",
      "Requirement already satisfied: jsonschema>=2.6 in ./.venv/lib/python3.9/site-packages (from nbformat) (4.24.0)\n",
      "Requirement already satisfied: jupyter-core!=5.0.*,>=4.12 in ./.venv/lib/python3.9/site-packages (from nbformat) (5.8.1)\n",
      "Requirement already satisfied: traitlets>=5.1 in ./.venv/lib/python3.9/site-packages (from nbformat) (5.14.3)\n",
      "Requirement already satisfied: attrs>=22.2.0 in ./.venv/lib/python3.9/site-packages (from jsonschema>=2.6->nbformat) (25.3.0)\n",
      "Requirement already satisfied: jsonschema-specifications>=2023.03.6 in ./.venv/lib/python3.9/site-packages (from jsonschema>=2.6->nbformat) (2025.4.1)\n",
      "Requirement already satisfied: referencing>=0.28.4 in ./.venv/lib/python3.9/site-packages (from jsonschema>=2.6->nbformat) (0.36.2)\n",
      "Requirement already satisfied: rpds-py>=0.7.1 in ./.venv/lib/python3.9/site-packages (from jsonschema>=2.6->nbformat) (0.25.1)\n",
      "Requirement already satisfied: platformdirs>=2.5 in ./.venv/lib/python3.9/site-packages (from jupyter-core!=5.0.*,>=4.12->nbformat) (4.3.8)\n",
      "Requirement already satisfied: typing-extensions>=4.4.0 in ./.venv/lib/python3.9/site-packages (from referencing>=0.28.4->jsonschema>=2.6->nbformat) (4.14.0)\n",
      "\n",
      "\u001b[1m[\u001b[0m\u001b[34;49mnotice\u001b[0m\u001b[1;39;49m]\u001b[0m\u001b[39;49m A new release of pip is available: \u001b[0m\u001b[31;49m25.1.1\u001b[0m\u001b[39;49m -> \u001b[0m\u001b[32;49m25.2\u001b[0m\n",
      "\u001b[1m[\u001b[0m\u001b[34;49mnotice\u001b[0m\u001b[1;39;49m]\u001b[0m\u001b[39;49m To update, run: \u001b[0m\u001b[32;49mpip install --upgrade pip\u001b[0m\n",
      "Note: you may need to restart the kernel to use updated packages.\n",
      "Requirement already satisfied: nbformat in ./.venv/lib/python3.9/site-packages (5.10.4)\n",
      "Requirement already satisfied: fastjsonschema>=2.15 in ./.venv/lib/python3.9/site-packages (from nbformat) (2.21.1)\n",
      "Requirement already satisfied: jsonschema>=2.6 in ./.venv/lib/python3.9/site-packages (from nbformat) (4.24.0)\n",
      "Requirement already satisfied: jupyter-core!=5.0.*,>=4.12 in ./.venv/lib/python3.9/site-packages (from nbformat) (5.8.1)\n",
      "Requirement already satisfied: traitlets>=5.1 in ./.venv/lib/python3.9/site-packages (from nbformat) (5.14.3)\n",
      "Requirement already satisfied: attrs>=22.2.0 in ./.venv/lib/python3.9/site-packages (from jsonschema>=2.6->nbformat) (25.3.0)\n",
      "Requirement already satisfied: jsonschema-specifications>=2023.03.6 in ./.venv/lib/python3.9/site-packages (from jsonschema>=2.6->nbformat) (2025.4.1)\n",
      "Requirement already satisfied: referencing>=0.28.4 in ./.venv/lib/python3.9/site-packages (from jsonschema>=2.6->nbformat) (0.36.2)\n",
      "Requirement already satisfied: rpds-py>=0.7.1 in ./.venv/lib/python3.9/site-packages (from jsonschema>=2.6->nbformat) (0.25.1)\n",
      "Requirement already satisfied: platformdirs>=2.5 in ./.venv/lib/python3.9/site-packages (from jupyter-core!=5.0.*,>=4.12->nbformat) (4.3.8)\n",
      "Requirement already satisfied: typing-extensions>=4.4.0 in ./.venv/lib/python3.9/site-packages (from referencing>=0.28.4->jsonschema>=2.6->nbformat) (4.14.0)\n",
      "\n",
      "\u001b[1m[\u001b[0m\u001b[34;49mnotice\u001b[0m\u001b[1;39;49m]\u001b[0m\u001b[39;49m A new release of pip is available: \u001b[0m\u001b[31;49m25.1.1\u001b[0m\u001b[39;49m -> \u001b[0m\u001b[32;49m25.2\u001b[0m\n",
      "\u001b[1m[\u001b[0m\u001b[34;49mnotice\u001b[0m\u001b[1;39;49m]\u001b[0m\u001b[39;49m To update, run: \u001b[0m\u001b[32;49mpip install --upgrade pip\u001b[0m\n",
      "Requirement already satisfied: ace_tools_open in ./.venv/lib/python3.9/site-packages (0.1.0)\n",
      "Requirement already satisfied: pandas in ./.venv/lib/python3.9/site-packages (from ace_tools_open) (2.3.0)\n",
      "Requirement already satisfied: itables in ./.venv/lib/python3.9/site-packages (from ace_tools_open) (2.4.4)\n",
      "Requirement already satisfied: IPython in ./.venv/lib/python3.9/site-packages (from ace_tools_open) (8.18.1)\n",
      "Requirement already satisfied: decorator in ./.venv/lib/python3.9/site-packages (from IPython->ace_tools_open) (5.2.1)\n",
      "Requirement already satisfied: jedi>=0.16 in ./.venv/lib/python3.9/site-packages (from IPython->ace_tools_open) (0.19.2)\n",
      "Requirement already satisfied: matplotlib-inline in ./.venv/lib/python3.9/site-packages (from IPython->ace_tools_open) (0.1.7)\n",
      "Requirement already satisfied: prompt-toolkit<3.1.0,>=3.0.41 in ./.venv/lib/python3.9/site-packages (from IPython->ace_tools_open) (3.0.51)\n",
      "Requirement already satisfied: pygments>=2.4.0 in ./.venv/lib/python3.9/site-packages (from IPython->ace_tools_open) (2.19.1)\n",
      "Requirement already satisfied: stack-data in ./.venv/lib/python3.9/site-packages (from IPython->ace_tools_open) (0.6.3)\n",
      "Requirement already satisfied: traitlets>=5 in ./.venv/lib/python3.9/site-packages (from IPython->ace_tools_open) (5.14.3)\n",
      "Requirement already satisfied: typing-extensions in ./.venv/lib/python3.9/site-packages (from IPython->ace_tools_open) (4.14.0)\n",
      "Requirement already satisfied: exceptiongroup in ./.venv/lib/python3.9/site-packages (from IPython->ace_tools_open) (1.3.0)\n",
      "Requirement already satisfied: pexpect>4.3 in ./.venv/lib/python3.9/site-packages (from IPython->ace_tools_open) (4.9.0)\n",
      "Requirement already satisfied: wcwidth in ./.venv/lib/python3.9/site-packages (from prompt-toolkit<3.1.0,>=3.0.41->IPython->ace_tools_open) (0.2.13)\n",
      "Requirement already satisfied: parso<0.9.0,>=0.8.4 in ./.venv/lib/python3.9/site-packages (from jedi>=0.16->IPython->ace_tools_open) (0.8.4)\n",
      "Requirement already satisfied: ptyprocess>=0.5 in ./.venv/lib/python3.9/site-packages (from pexpect>4.3->IPython->ace_tools_open) (0.7.0)\n",
      "Requirement already satisfied: numpy in ./.venv/lib/python3.9/site-packages (from itables->ace_tools_open) (2.0.2)\n",
      "Requirement already satisfied: python-dateutil>=2.8.2 in ./.venv/lib/python3.9/site-packages (from pandas->ace_tools_open) (2.9.0.post0)\n",
      "Requirement already satisfied: pytz>=2020.1 in ./.venv/lib/python3.9/site-packages (from pandas->ace_tools_open) (2025.2)\n",
      "Requirement already satisfied: tzdata>=2022.7 in ./.venv/lib/python3.9/site-packages (from pandas->ace_tools_open) (2025.2)\n",
      "Requirement already satisfied: six>=1.5 in ./.venv/lib/python3.9/site-packages (from python-dateutil>=2.8.2->pandas->ace_tools_open) (1.17.0)\n",
      "Requirement already satisfied: executing>=1.2.0 in ./.venv/lib/python3.9/site-packages (from stack-data->IPython->ace_tools_open) (2.2.0)\n",
      "Requirement already satisfied: asttokens>=2.1.0 in ./.venv/lib/python3.9/site-packages (from stack-data->IPython->ace_tools_open) (3.0.0)\n",
      "Requirement already satisfied: pure-eval in ./.venv/lib/python3.9/site-packages (from stack-data->IPython->ace_tools_open) (0.2.3)\n",
      "\n",
      "\u001b[1m[\u001b[0m\u001b[34;49mnotice\u001b[0m\u001b[1;39;49m]\u001b[0m\u001b[39;49m A new release of pip is available: \u001b[0m\u001b[31;49m25.1.1\u001b[0m\u001b[39;49m -> \u001b[0m\u001b[32;49m25.2\u001b[0m\n",
      "\u001b[1m[\u001b[0m\u001b[34;49mnotice\u001b[0m\u001b[1;39;49m]\u001b[0m\u001b[39;49m To update, run: \u001b[0m\u001b[32;49mpip install --upgrade pip\u001b[0m\n",
      "Note: you may need to restart the kernel to use updated packages.\n"
     ]
    }
   ],
   "source": [
    "%pip install pandas\n",
    "%pip install plotly\n",
    "%pip install nbformat\n",
    "import sys\n",
    "!{sys.executable} -m pip install nbformat --upgrade\n",
    "%pip install ace_tools_open"
   ]
  },
  {
   "cell_type": "code",
   "execution_count": 4,
   "id": "0be59f1a",
   "metadata": {},
   "outputs": [
    {
     "name": "stderr",
     "output_type": "stream",
     "text": [
      "/Users/chelseashe/Thought_Toolkit/.venv/lib/python3.9/site-packages/urllib3/__init__.py:35: NotOpenSSLWarning: urllib3 v2 only supports OpenSSL 1.1.1+, currently the 'ssl' module is compiled with 'LibreSSL 2.8.3'. See: https://github.com/urllib3/urllib3/issues/3020\n",
      "  warnings.warn(\n"
     ]
    },
    {
     "name": "stdout",
     "output_type": "stream",
     "text": [
      "Logs successfully saved to: /Users/chelseashe/Thought_Toolkit/formal1_logs.json\n"
     ]
    },
    {
     "name": "stderr",
     "output_type": "stream",
     "text": [
      "/Users/chelseashe/Thought_Toolkit/.venv/lib/python3.9/site-packages/tqdm/auto.py:21: TqdmWarning: IProgress not found. Please update jupyter and ipywidgets. See https://ipywidgets.readthedocs.io/en/stable/user_install.html\n",
      "  from .autonotebook import tqdm as notebook_tqdm\n",
      "Some weights of the model checkpoint at roberta-large-mnli were not used when initializing RobertaForSequenceClassification: ['roberta.pooler.dense.bias', 'roberta.pooler.dense.weight']\n",
      "- This IS expected if you are initializing RobertaForSequenceClassification from the checkpoint of a model trained on another task or with another architecture (e.g. initializing a BertForSequenceClassification model from a BertForPreTraining model).\n",
      "- This IS NOT expected if you are initializing RobertaForSequenceClassification from the checkpoint of a model that you expect to be exactly identical (initializing a BertForSequenceClassification model from a BertForSequenceClassification model).\n",
      "Device set to use mps:0\n",
      "Some weights of the model checkpoint at roberta-large-mnli were not used when initializing RobertaForSequenceClassification: ['roberta.pooler.dense.bias', 'roberta.pooler.dense.weight']\n",
      "- This IS expected if you are initializing RobertaForSequenceClassification from the checkpoint of a model trained on another task or with another architecture (e.g. initializing a BertForSequenceClassification model from a BertForPreTraining model).\n",
      "- This IS NOT expected if you are initializing RobertaForSequenceClassification from the checkpoint of a model that you expect to be exactly identical (initializing a BertForSequenceClassification model from a BertForSequenceClassification model).\n",
      "Device set to use mps:0\n",
      "Device set to use mps:0\n"
     ]
    }
   ],
   "source": [
    "# Import libraries\n",
    "# Required packages: plotly, pandas\n",
    "import json\n",
    "import pandas as pd\n",
    "from datetime import datetime\n",
    "import plotly.graph_objects as go\n",
    "import plotly.express as px\n",
    "from plotly.subplots import make_subplots\n",
    "import plotly.io as pio\n",
    "from collections import defaultdict\n",
    "import ace_tools_open as tools\n",
    "\n",
    "import level_2_learning_comparisons\n",
    "\n",
    "import matplotlib.pyplot as plt\n",
    "import numpy as np"
   ]
  },
  {
   "cell_type": "code",
   "execution_count": 5,
   "id": "bf98b676",
   "metadata": {},
   "outputs": [],
   "source": [
    "# Load data\n",
    "# Make sure the file name is correct and in the same directory as the script\n",
    "with open(\"level_2_actions_per_session_semantic.json\") as f:\n",
    "    level_2_actions_per_session_semantic = json.load(f)"
   ]
  },
  {
   "cell_type": "markdown",
   "id": "0bd009cc",
   "metadata": {},
   "source": [
    "### II Semantic Visualization - Correlation between semantic expansion per sentence text_insert"
   ]
  },
  {
   "cell_type": "code",
   "execution_count": 19,
   "id": "056e9818",
   "metadata": {},
   "outputs": [],
   "source": [
    "# Plotting and helper functions\n",
    "def plot_semantic_expansion_sentence(writing_data, session_ids):\n",
    "    fig = make_subplots(\n",
    "        rows=len(session_ids),\n",
    "        cols=1,\n",
    "        subplot_titles=[f\"Session: {session_id}\" for session_id in session_ids],\n",
    "        vertical_spacing=0.15,\n",
    "    )\n",
    "    for idx, session_id in enumerate(session_ids, start=1):\n",
    "        if session_id not in writing_data:\n",
    "            print(f\"Warning: No data found for {session_id}\")\n",
    "            continue\n",
    "\n",
    "        session_actions = writing_data[session_id]\n",
    "        learning_data = []\n",
    "\n",
    "        writing_progress = 1\n",
    "        for i, action in enumerate(session_actions):\n",
    "            if \"writing_type\" in action:\n",
    "                if action[\"writing_type\"] == \"backstage\":\n",
    "                    if action[\"level_1_action_type\"] == \"insert_text_human_ai_prompt\":\n",
    "                        learning_data.append(\n",
    "                            {\n",
    "                                \"writing_progress\": writing_progress,\n",
    "                                \"action_type\": action.get(\"action_type\", \"\"),\n",
    "                                \"level_1_action_type\": \"human_insert_backstage\",\n",
    "                                \"semantic_expansion\": action[\"semantic_expansion\"]\n",
    "                            }\n",
    "                        )\n",
    "                        writing_progress += 1\n",
    "                    elif action[\"level_1_action_type\"] == \"present_suggestion\":\n",
    "                        learning_data.append(\n",
    "                            {\n",
    "                                \"writing_progress\": writing_progress,\n",
    "                                \"action_type\": action.get(\"action_type\", \"\"),\n",
    "                                \"level_1_action_type\": \"ai_suggest_backstage\",\n",
    "                                \"semantic_expansion\": action[\"semantic_expansion\"],\n",
    "                            }\n",
    "                        )\n",
    "                        writing_progress += 1\n",
    "                    # NEED TO IMPLEMENT THESE LATER\n",
    "                    # elif action[\"level_1_action_type\"] == \"delete_text\"\n",
    "                    # elif action[\"level_1_action_type\"] == \"human_edit_ai\"\n",
    "                elif action[\"writing_type\"] == \"frontstage\":\n",
    "                    if action[\"level_1_action_type\"] == \"insert_text_human\" and (not \"level_2_action_type\" in action or action[\"level_2_action_type\"] != \"human_edit_ai\"):\n",
    "                        for sentence in action[\"action_modified_sentences\"]:\n",
    "                            learning_data.append(\n",
    "                                {\n",
    "                                    \"writing_progress\": writing_progress,\n",
    "                                    \"action_type\": action.get(\"action_type\", \"\"),\n",
    "                                    \"level_1_action_type\": \"human_insert_frontstage\",\n",
    "                                    \"semantic_expansion\": action[\n",
    "                                        \"semantic_expansion_info\"\n",
    "                                    ][sentence],\n",
    "                                }\n",
    "                            )\n",
    "                            writing_progress += 1\n",
    "                            added = False\n",
    "                    elif \"level_2_action_type\" in action and action[\"level_2_action_type\"] == \"move_frontstage\":\n",
    "                        learning_data.append(\n",
    "                            {\n",
    "                                \"writing_progress\": writing_progress,\n",
    "                                \"action_type\": action.get(\"action_type\", \"\"),\n",
    "                                \"level_1_action_type\": \"ai_insert_moved_to_frontstage\",\n",
    "                                \"semantic_expansion\": action[\"semantic_expansion\"],\n",
    "                            }\n",
    "                        )\n",
    "                        writing_progress += 1\n",
    "                    elif action[\"level_1_action_type\"] == \"delete_text\":\n",
    "                        learning_data.append(\n",
    "                            {\n",
    "                                \"writing_progress\": writing_progress,\n",
    "                                \"action_type\": action.get(\"action_type\", \"\"),\n",
    "                                \"level_1_action_type\": \"human_delete_frontstage\",\n",
    "                                \"semantic_expansion\": action[\"semantic_expansion\"],\n",
    "                            }\n",
    "                        )\n",
    "                        writing_progress += 1\n",
    "                    elif \"level_2_action_type\" in action and action[\"level_2_action_type\"] == \"human_edit_ai\":\n",
    "                        learning_data.append(\n",
    "                            {\n",
    "                                \"writing_progress\": writing_progress,\n",
    "                                \"action_type\": action.get(\"action_type\", \"\"),\n",
    "                                \"level_1_action_type\": \"human_insert_edit_frontstage\",\n",
    "                                \"semantic_expansion\": action[\"semantic_expansion\"],\n",
    "                            }\n",
    "                        )\n",
    "                        writing_progress += 1\n",
    "\n",
    "        learning_data = sorted(learning_data, key=lambda x: x[\"writing_progress\"])\n",
    "        # print(learning_data)\n",
    "\n",
    "        if not learning_data:\n",
    "            print(f\"Warning: No data found for {session_id}\")\n",
    "            continue\n",
    "\n",
    "        data_df = pd.DataFrame(learning_data)\n",
    "\n",
    "        # Graph individual cognitive measures\n",
    "        y_max = 0.0\n",
    "        aggregate_score = 0.0\n",
    "        backstage_addition = 0.0\n",
    "        aggregate_data = []\n",
    "        for learning_index, action in enumerate(learning_data):\n",
    "            details = {\n",
    "                \"writing_progress\": action[\"writing_progress\"],\n",
    "                \"level_1_action_type\": action[\"level_1_action_type\"],\n",
    "                \"aggregate_semantic_expansion_frontend\": aggregate_score,\n",
    "                \"increment_semantic_expansion\": action[\"semantic_expansion\"],\n",
    "            }\n",
    "            if \"backstage\" in action[\"level_1_action_type\"]:\n",
    "                if learning_index>0 and learning_data[learning_index-1]:\n",
    "                    details[\"aggregate_semantic_expansion_frontend\"] += backstage_addition\n",
    "                backstage_addition += action[\"semantic_expansion\"]\n",
    "            if \"frontstage\" in action[\"level_1_action_type\"] and learning_index > 0 and learning_data[learning_index - 1]:\n",
    "                backstage_addition = 0.0\n",
    "                aggregate_score += action[\"semantic_expansion\"]\n",
    "\n",
    "            aggregate_data.append(details)\n",
    "            if aggregate_score > y_max:\n",
    "                y_max = aggregate_score\n",
    "        aggregate_df = pd.DataFrame(aggregate_data)\n",
    "        print(f\"{session_id}\")\n",
    "\n",
    "        colors = {\n",
    "            \"human_insert_backstage\": \"#64B5F6\",\n",
    "            \"ai_suggest_backstage\": \"#ff8fab\",\n",
    "            \"human_insert_frontstage\": \"#023e8a\",\n",
    "            \"ai_insert_moved_to_frontstage\": \"#c1121f\",\n",
    "            \"human_delete_frontstage\": \"#9d4edd\",\n",
    "            \"human_insert_edit_frontstage\": \"#5a189a\",\n",
    "        }\n",
    "\n",
    "        for action_type in colors.keys():\n",
    "            actions = [\n",
    "                action\n",
    "                for action in aggregate_data\n",
    "                if action.get(\"level_1_action_type\") == action_type\n",
    "            ]\n",
    "            for index in range(len(actions)-1,-1,-1):\n",
    "                x0 = actions[index][\"writing_progress\"] - 1\n",
    "                x1 = actions[index][\"writing_progress\"]\n",
    "                y0 = actions[index][\"aggregate_semantic_expansion_frontend\"]\n",
    "                y1 = y0 + actions[index][\"increment_semantic_expansion\"]\n",
    "\n",
    "                fig.add_trace(\n",
    "                    go.Scatter(\n",
    "                        x=[x0, x1],\n",
    "                        y=[y0, y1],\n",
    "                        mode=\"lines+markers\",                # ← line with a dot\n",
    "                        line=dict(color=colors[action_type], width=3),\n",
    "                        marker=dict(size=7, color=colors[action_type]),\n",
    "                        showlegend=False,                    # keep your existing legend\n",
    "                        hovertemplate=\"x=%{x}<br>y=%{y}<extra></extra>\",\n",
    "                    ),\n",
    "                    row=idx,\n",
    "                    col=1,\n",
    "                )\n",
    "\n",
    "        if idx == 1:\n",
    "            for color, hex in colors.items():\n",
    "                fig.add_trace(\n",
    "                    go.Scatter(\n",
    "                        x=[None],\n",
    "                        y=[None],\n",
    "                        mode=\"lines\",\n",
    "                        line=dict(color=hex, width=2),\n",
    "                        name=color,\n",
    "                        showlegend=True,\n",
    "                    ),\n",
    "                    row=1,\n",
    "                    col=1,\n",
    "                )\n",
    "\n",
    "    fig.update_layout(\n",
    "        plot_bgcolor=\"white\",\n",
    "        legend_title_font_color=\"rgba(0, 0, 0, 0)\",\n",
    "        height=500 * len(session_ids),\n",
    "        width=1800,\n",
    "        showlegend=True,\n",
    "        title={\n",
    "            \"text\": \"Semantic Expansion over Writing Sessions<br>\"\n",
    "            + '<span style=\"font-size: 12px;\">*Measuring how well humans are learning while writing with GenAI</span>',\n",
    "        },\n",
    "    )\n",
    "\n",
    "    fig.update_xaxes(\n",
    "        title=None,\n",
    "        range=[-1, data_df[\"writing_progress\"].max()+1],\n",
    "        mirror=False,\n",
    "        ticks=\"outside\",\n",
    "        showline=True,\n",
    "        linecolor=\"black\",\n",
    "        gridcolor=\"white\",\n",
    "    )\n",
    "\n",
    "    fig.update_xaxes(\n",
    "        title=\"Progress into the writing session\", row=len(session_ids), col=1\n",
    "    )\n",
    "\n",
    "    fig.update_yaxes(\n",
    "        title=\"Scores\",\n",
    "        mirror=False,\n",
    "        ticks=\"outside\",\n",
    "        showline=True,\n",
    "        linecolor=\"black\",\n",
    "        gridcolor=\"white\",\n",
    "    )\n",
    "\n",
    "    fig.show()\n",
    "    return fig"
   ]
  },
  {
   "cell_type": "code",
   "execution_count": 20,
   "id": "d486f367",
   "metadata": {},
   "outputs": [
    {
     "name": "stdout",
     "output_type": "stream",
     "text": [
      "legislation_corporate_1\n"
     ]
    },
    {
     "data": {
      "application/vnd.plotly.v1+json": {
       "config": {
        "plotlyServerURL": "https://plot.ly"
       },
       "data": [
        {
         "hovertemplate": "x=%{x}<br>y=%{y}<extra></extra>",
         "line": {
          "color": "#64B5F6",
          "width": 3
         },
         "marker": {
          "color": "#64B5F6",
          "size": 7
         },
         "mode": "lines+markers",
         "showlegend": false,
         "type": "scatter",
         "x": [
          6,
          7
         ],
         "xaxis": "x",
         "y": [
          -0.529176139831543,
          -1.717209780216217
         ],
         "yaxis": "y"
        },
        {
         "hovertemplate": "x=%{x}<br>y=%{y}<extra></extra>",
         "line": {
          "color": "#64B5F6",
          "width": 3
         },
         "marker": {
          "color": "#64B5F6",
          "size": 7
         },
         "mode": "lines+markers",
         "showlegend": false,
         "type": "scatter",
         "x": [
          4,
          5
         ],
         "xaxis": "x",
         "y": [
          -0.019625711441040083,
          -0.8934845805168152
         ],
         "yaxis": "y"
        },
        {
         "hovertemplate": "x=%{x}<br>y=%{y}<extra></extra>",
         "line": {
          "color": "#64B5F6",
          "width": 3
         },
         "marker": {
          "color": "#64B5F6",
          "size": 7
         },
         "mode": "lines+markers",
         "showlegend": false,
         "type": "scatter",
         "x": [
          2,
          3
         ],
         "xaxis": "x",
         "y": [
          0.5434983491897583,
          -0.3138604640960694
         ],
         "yaxis": "y"
        },
        {
         "hovertemplate": "x=%{x}<br>y=%{y}<extra></extra>",
         "line": {
          "color": "#64B5F6",
          "width": 3
         },
         "marker": {
          "color": "#64B5F6",
          "size": 7
         },
         "mode": "lines+markers",
         "showlegend": false,
         "type": "scatter",
         "x": [
          0,
          1
         ],
         "xaxis": "x",
         "y": [
          0,
          0.2559514045715332
         ],
         "yaxis": "y"
        },
        {
         "hovertemplate": "x=%{x}<br>y=%{y}<extra></extra>",
         "line": {
          "color": "#ff8fab",
          "width": 3
         },
         "marker": {
          "color": "#ff8fab",
          "size": 7
         },
         "mode": "lines+markers",
         "showlegend": false,
         "type": "scatter",
         "x": [
          33,
          34
         ],
         "xaxis": "x",
         "y": [
          11.23694384098053,
          11.729781234264374
         ],
         "yaxis": "y"
        },
        {
         "hovertemplate": "x=%{x}<br>y=%{y}<extra></extra>",
         "line": {
          "color": "#ff8fab",
          "width": 3
         },
         "marker": {
          "color": "#ff8fab",
          "size": 7
         },
         "mode": "lines+markers",
         "showlegend": false,
         "type": "scatter",
         "x": [
          16,
          17
         ],
         "xaxis": "x",
         "y": [
          2.035506308078766,
          2.5707478404045103
         ],
         "yaxis": "y"
        },
        {
         "hovertemplate": "x=%{x}<br>y=%{y}<extra></extra>",
         "line": {
          "color": "#ff8fab",
          "width": 3
         },
         "marker": {
          "color": "#ff8fab",
          "size": 7
         },
         "mode": "lines+markers",
         "showlegend": false,
         "type": "scatter",
         "x": [
          7,
          8
         ],
         "xaxis": "x",
         "y": [
          -1.717209780216217,
          -1.444059109687805
         ],
         "yaxis": "y"
        },
        {
         "hovertemplate": "x=%{x}<br>y=%{y}<extra></extra>",
         "line": {
          "color": "#ff8fab",
          "width": 3
         },
         "marker": {
          "color": "#ff8fab",
          "size": 7
         },
         "mode": "lines+markers",
         "showlegend": false,
         "type": "scatter",
         "x": [
          5,
          6
         ],
         "xaxis": "x",
         "y": [
          -0.8934845805168152,
          -0.529176139831543
         ],
         "yaxis": "y"
        },
        {
         "hovertemplate": "x=%{x}<br>y=%{y}<extra></extra>",
         "line": {
          "color": "#ff8fab",
          "width": 3
         },
         "marker": {
          "color": "#ff8fab",
          "size": 7
         },
         "mode": "lines+markers",
         "showlegend": false,
         "type": "scatter",
         "x": [
          3,
          4
         ],
         "xaxis": "x",
         "y": [
          -0.3138604640960694,
          -0.019625711441040083
         ],
         "yaxis": "y"
        },
        {
         "hovertemplate": "x=%{x}<br>y=%{y}<extra></extra>",
         "line": {
          "color": "#ff8fab",
          "width": 3
         },
         "marker": {
          "color": "#ff8fab",
          "size": 7
         },
         "mode": "lines+markers",
         "showlegend": false,
         "type": "scatter",
         "x": [
          1,
          2
         ],
         "xaxis": "x",
         "y": [
          0.2559514045715332,
          0.5434983491897583
         ],
         "yaxis": "y"
        },
        {
         "hovertemplate": "x=%{x}<br>y=%{y}<extra></extra>",
         "line": {
          "color": "#023e8a",
          "width": 3
         },
         "marker": {
          "color": "#023e8a",
          "size": 7
         },
         "mode": "lines+markers",
         "showlegend": false,
         "type": "scatter",
         "x": [
          43,
          44
         ],
         "xaxis": "x",
         "y": [
          16.406732499599457,
          16.751630663871765
         ],
         "yaxis": "y"
        },
        {
         "hovertemplate": "x=%{x}<br>y=%{y}<extra></extra>",
         "line": {
          "color": "#023e8a",
          "width": 3
         },
         "marker": {
          "color": "#023e8a",
          "size": 7
         },
         "mode": "lines+markers",
         "showlegend": false,
         "type": "scatter",
         "x": [
          41,
          42
         ],
         "xaxis": "x",
         "y": [
          16.12848997116089,
          16.43546462059021
         ],
         "yaxis": "y"
        },
        {
         "hovertemplate": "x=%{x}<br>y=%{y}<extra></extra>",
         "line": {
          "color": "#023e8a",
          "width": 3
         },
         "marker": {
          "color": "#023e8a",
          "size": 7
         },
         "mode": "lines+markers",
         "showlegend": false,
         "type": "scatter",
         "x": [
          40,
          41
         ],
         "xaxis": "x",
         "y": [
          15.861763775348663,
          16.12848997116089
         ],
         "yaxis": "y"
        },
        {
         "hovertemplate": "x=%{x}<br>y=%{y}<extra></extra>",
         "line": {
          "color": "#023e8a",
          "width": 3
         },
         "marker": {
          "color": "#023e8a",
          "size": 7
         },
         "mode": "lines+markers",
         "showlegend": false,
         "type": "scatter",
         "x": [
          39,
          40
         ],
         "xaxis": "x",
         "y": [
          15.545401632785797,
          15.861763775348663
         ],
         "yaxis": "y"
        },
        {
         "hovertemplate": "x=%{x}<br>y=%{y}<extra></extra>",
         "line": {
          "color": "#023e8a",
          "width": 3
         },
         "marker": {
          "color": "#023e8a",
          "size": 7
         },
         "mode": "lines+markers",
         "showlegend": false,
         "type": "scatter",
         "x": [
          38,
          39
         ],
         "xaxis": "x",
         "y": [
          15.166260957717896,
          15.545401632785797
         ],
         "yaxis": "y"
        },
        {
         "hovertemplate": "x=%{x}<br>y=%{y}<extra></extra>",
         "line": {
          "color": "#023e8a",
          "width": 3
         },
         "marker": {
          "color": "#023e8a",
          "size": 7
         },
         "mode": "lines+markers",
         "showlegend": false,
         "type": "scatter",
         "x": [
          37,
          38
         ],
         "xaxis": "x",
         "y": [
          14.55288553237915,
          15.166260957717896
         ],
         "yaxis": "y"
        },
        {
         "hovertemplate": "x=%{x}<br>y=%{y}<extra></extra>",
         "line": {
          "color": "#023e8a",
          "width": 3
         },
         "marker": {
          "color": "#023e8a",
          "size": 7
         },
         "mode": "lines+markers",
         "showlegend": false,
         "type": "scatter",
         "x": [
          36,
          37
         ],
         "xaxis": "x",
         "y": [
          14.255211412906647,
          14.55288553237915
         ],
         "yaxis": "y"
        },
        {
         "hovertemplate": "x=%{x}<br>y=%{y}<extra></extra>",
         "line": {
          "color": "#023e8a",
          "width": 3
         },
         "marker": {
          "color": "#023e8a",
          "size": 7
         },
         "mode": "lines+markers",
         "showlegend": false,
         "type": "scatter",
         "x": [
          35,
          36
         ],
         "xaxis": "x",
         "y": [
          13.95398998260498,
          14.255211412906647
         ],
         "yaxis": "y"
        },
        {
         "hovertemplate": "x=%{x}<br>y=%{y}<extra></extra>",
         "line": {
          "color": "#023e8a",
          "width": 3
         },
         "marker": {
          "color": "#023e8a",
          "size": 7
         },
         "mode": "lines+markers",
         "showlegend": false,
         "type": "scatter",
         "x": [
          32,
          33
         ],
         "xaxis": "x",
         "y": [
          10.704876005649567,
          11.23694384098053
         ],
         "yaxis": "y"
        },
        {
         "hovertemplate": "x=%{x}<br>y=%{y}<extra></extra>",
         "line": {
          "color": "#023e8a",
          "width": 3
         },
         "marker": {
          "color": "#023e8a",
          "size": 7
         },
         "mode": "lines+markers",
         "showlegend": false,
         "type": "scatter",
         "x": [
          31,
          32
         ],
         "xaxis": "x",
         "y": [
          10.229720890522003,
          10.704876005649567
         ],
         "yaxis": "y"
        },
        {
         "hovertemplate": "x=%{x}<br>y=%{y}<extra></extra>",
         "line": {
          "color": "#023e8a",
          "width": 3
         },
         "marker": {
          "color": "#023e8a",
          "size": 7
         },
         "mode": "lines+markers",
         "showlegend": false,
         "type": "scatter",
         "x": [
          30,
          31
         ],
         "xaxis": "x",
         "y": [
          9.72130960226059,
          10.229720890522003
         ],
         "yaxis": "y"
        },
        {
         "hovertemplate": "x=%{x}<br>y=%{y}<extra></extra>",
         "line": {
          "color": "#023e8a",
          "width": 3
         },
         "marker": {
          "color": "#023e8a",
          "size": 7
         },
         "mode": "lines+markers",
         "showlegend": false,
         "type": "scatter",
         "x": [
          29,
          30
         ],
         "xaxis": "x",
         "y": [
          9.261149823665619,
          9.72130960226059
         ],
         "yaxis": "y"
        },
        {
         "hovertemplate": "x=%{x}<br>y=%{y}<extra></extra>",
         "line": {
          "color": "#023e8a",
          "width": 3
         },
         "marker": {
          "color": "#023e8a",
          "size": 7
         },
         "mode": "lines+markers",
         "showlegend": false,
         "type": "scatter",
         "x": [
          28,
          29
         ],
         "xaxis": "x",
         "y": [
          8.96149480342865,
          9.261149823665619
         ],
         "yaxis": "y"
        },
        {
         "hovertemplate": "x=%{x}<br>y=%{y}<extra></extra>",
         "line": {
          "color": "#023e8a",
          "width": 3
         },
         "marker": {
          "color": "#023e8a",
          "size": 7
         },
         "mode": "lines+markers",
         "showlegend": false,
         "type": "scatter",
         "x": [
          27,
          28
         ],
         "xaxis": "x",
         "y": [
          8.185049414634705,
          8.96149480342865
         ],
         "yaxis": "y"
        },
        {
         "hovertemplate": "x=%{x}<br>y=%{y}<extra></extra>",
         "line": {
          "color": "#023e8a",
          "width": 3
         },
         "marker": {
          "color": "#023e8a",
          "size": 7
         },
         "mode": "lines+markers",
         "showlegend": false,
         "type": "scatter",
         "x": [
          26,
          27
         ],
         "xaxis": "x",
         "y": [
          7.52093505859375,
          8.185049414634705
         ],
         "yaxis": "y"
        },
        {
         "hovertemplate": "x=%{x}<br>y=%{y}<extra></extra>",
         "line": {
          "color": "#023e8a",
          "width": 3
         },
         "marker": {
          "color": "#023e8a",
          "size": 7
         },
         "mode": "lines+markers",
         "showlegend": false,
         "type": "scatter",
         "x": [
          25,
          26
         ],
         "xaxis": "x",
         "y": [
          6.888826966285706,
          7.52093505859375
         ],
         "yaxis": "y"
        },
        {
         "hovertemplate": "x=%{x}<br>y=%{y}<extra></extra>",
         "line": {
          "color": "#023e8a",
          "width": 3
         },
         "marker": {
          "color": "#023e8a",
          "size": 7
         },
         "mode": "lines+markers",
         "showlegend": false,
         "type": "scatter",
         "x": [
          24,
          25
         ],
         "xaxis": "x",
         "y": [
          6.18437123298645,
          6.888826966285706
         ],
         "yaxis": "y"
        },
        {
         "hovertemplate": "x=%{x}<br>y=%{y}<extra></extra>",
         "line": {
          "color": "#023e8a",
          "width": 3
         },
         "marker": {
          "color": "#023e8a",
          "size": 7
         },
         "mode": "lines+markers",
         "showlegend": false,
         "type": "scatter",
         "x": [
          23,
          24
         ],
         "xaxis": "x",
         "y": [
          5.815431177616119,
          6.18437123298645
         ],
         "yaxis": "y"
        },
        {
         "hovertemplate": "x=%{x}<br>y=%{y}<extra></extra>",
         "line": {
          "color": "#023e8a",
          "width": 3
         },
         "marker": {
          "color": "#023e8a",
          "size": 7
         },
         "mode": "lines+markers",
         "showlegend": false,
         "type": "scatter",
         "x": [
          22,
          23
         ],
         "xaxis": "x",
         "y": [
          5.166357100009918,
          5.815431177616119
         ],
         "yaxis": "y"
        },
        {
         "hovertemplate": "x=%{x}<br>y=%{y}<extra></extra>",
         "line": {
          "color": "#023e8a",
          "width": 3
         },
         "marker": {
          "color": "#023e8a",
          "size": 7
         },
         "mode": "lines+markers",
         "showlegend": false,
         "type": "scatter",
         "x": [
          21,
          22
         ],
         "xaxis": "x",
         "y": [
          4.305098533630371,
          5.166357100009918
         ],
         "yaxis": "y"
        },
        {
         "hovertemplate": "x=%{x}<br>y=%{y}<extra></extra>",
         "line": {
          "color": "#023e8a",
          "width": 3
         },
         "marker": {
          "color": "#023e8a",
          "size": 7
         },
         "mode": "lines+markers",
         "showlegend": false,
         "type": "scatter",
         "x": [
          20,
          21
         ],
         "xaxis": "x",
         "y": [
          3.8521307706832886,
          4.305098533630371
         ],
         "yaxis": "y"
        },
        {
         "hovertemplate": "x=%{x}<br>y=%{y}<extra></extra>",
         "line": {
          "color": "#023e8a",
          "width": 3
         },
         "marker": {
          "color": "#023e8a",
          "size": 7
         },
         "mode": "lines+markers",
         "showlegend": false,
         "type": "scatter",
         "x": [
          19,
          20
         ],
         "xaxis": "x",
         "y": [
          3.4302844405174255,
          3.8521307706832886
         ],
         "yaxis": "y"
        },
        {
         "hovertemplate": "x=%{x}<br>y=%{y}<extra></extra>",
         "line": {
          "color": "#023e8a",
          "width": 3
         },
         "marker": {
          "color": "#023e8a",
          "size": 7
         },
         "mode": "lines+markers",
         "showlegend": false,
         "type": "scatter",
         "x": [
          18,
          19
         ],
         "xaxis": "x",
         "y": [
          2.695667803287506,
          3.4302844405174255
         ],
         "yaxis": "y"
        },
        {
         "hovertemplate": "x=%{x}<br>y=%{y}<extra></extra>",
         "line": {
          "color": "#023e8a",
          "width": 3
         },
         "marker": {
          "color": "#023e8a",
          "size": 7
         },
         "mode": "lines+markers",
         "showlegend": false,
         "type": "scatter",
         "x": [
          17,
          18
         ],
         "xaxis": "x",
         "y": [
          2.035506308078766,
          2.695667803287506
         ],
         "yaxis": "y"
        },
        {
         "hovertemplate": "x=%{x}<br>y=%{y}<extra></extra>",
         "line": {
          "color": "#023e8a",
          "width": 3
         },
         "marker": {
          "color": "#023e8a",
          "size": 7
         },
         "mode": "lines+markers",
         "showlegend": false,
         "type": "scatter",
         "x": [
          15,
          16
         ],
         "xaxis": "x",
         "y": [
          1.7332382798194885,
          2.035506308078766
         ],
         "yaxis": "y"
        },
        {
         "hovertemplate": "x=%{x}<br>y=%{y}<extra></extra>",
         "line": {
          "color": "#023e8a",
          "width": 3
         },
         "marker": {
          "color": "#023e8a",
          "size": 7
         },
         "mode": "lines+markers",
         "showlegend": false,
         "type": "scatter",
         "x": [
          14,
          15
         ],
         "xaxis": "x",
         "y": [
          1.3213303685188293,
          1.7332382798194885
         ],
         "yaxis": "y"
        },
        {
         "hovertemplate": "x=%{x}<br>y=%{y}<extra></extra>",
         "line": {
          "color": "#023e8a",
          "width": 3
         },
         "marker": {
          "color": "#023e8a",
          "size": 7
         },
         "mode": "lines+markers",
         "showlegend": false,
         "type": "scatter",
         "x": [
          13,
          14
         ],
         "xaxis": "x",
         "y": [
          1.0500288009643555,
          1.3213303685188293
         ],
         "yaxis": "y"
        },
        {
         "hovertemplate": "x=%{x}<br>y=%{y}<extra></extra>",
         "line": {
          "color": "#023e8a",
          "width": 3
         },
         "marker": {
          "color": "#023e8a",
          "size": 7
         },
         "mode": "lines+markers",
         "showlegend": false,
         "type": "scatter",
         "x": [
          12,
          13
         ],
         "xaxis": "x",
         "y": [
          0.6040838360786438,
          1.0500288009643555
         ],
         "yaxis": "y"
        },
        {
         "hovertemplate": "x=%{x}<br>y=%{y}<extra></extra>",
         "line": {
          "color": "#023e8a",
          "width": 3
         },
         "marker": {
          "color": "#023e8a",
          "size": 7
         },
         "mode": "lines+markers",
         "showlegend": false,
         "type": "scatter",
         "x": [
          11,
          12
         ],
         "xaxis": "x",
         "y": [
          0.3291695713996887,
          0.6040838360786438
         ],
         "yaxis": "y"
        },
        {
         "hovertemplate": "x=%{x}<br>y=%{y}<extra></extra>",
         "line": {
          "color": "#023e8a",
          "width": 3
         },
         "marker": {
          "color": "#023e8a",
          "size": 7
         },
         "mode": "lines+markers",
         "showlegend": false,
         "type": "scatter",
         "x": [
          10,
          11
         ],
         "xaxis": "x",
         "y": [
          0.18391823768615723,
          0.3291695713996887
         ],
         "yaxis": "y"
        },
        {
         "hovertemplate": "x=%{x}<br>y=%{y}<extra></extra>",
         "line": {
          "color": "#023e8a",
          "width": 3
         },
         "marker": {
          "color": "#023e8a",
          "size": 7
         },
         "mode": "lines+markers",
         "showlegend": false,
         "type": "scatter",
         "x": [
          9,
          10
         ],
         "xaxis": "x",
         "y": [
          0,
          0.18391823768615723
         ],
         "yaxis": "y"
        },
        {
         "hovertemplate": "x=%{x}<br>y=%{y}<extra></extra>",
         "line": {
          "color": "#c1121f",
          "width": 3
         },
         "marker": {
          "color": "#c1121f",
          "size": 7
         },
         "mode": "lines+markers",
         "showlegend": false,
         "type": "scatter",
         "x": [
          34,
          35
         ],
         "xaxis": "x",
         "y": [
          11.23694384098053,
          13.95398998260498
         ],
         "yaxis": "y"
        },
        {
         "hovertemplate": "x=%{x}<br>y=%{y}<extra></extra>",
         "line": {
          "color": "#9d4edd",
          "width": 3
         },
         "marker": {
          "color": "#9d4edd",
          "size": 7
         },
         "mode": "lines+markers",
         "showlegend": false,
         "type": "scatter",
         "x": [
          42,
          43
         ],
         "xaxis": "x",
         "y": [
          16.43546462059021,
          16.406732499599457
         ],
         "yaxis": "y"
        },
        {
         "hovertemplate": "x=%{x}<br>y=%{y}<extra></extra>",
         "line": {
          "color": "#9d4edd",
          "width": 3
         },
         "marker": {
          "color": "#9d4edd",
          "size": 7
         },
         "mode": "lines+markers",
         "showlegend": false,
         "type": "scatter",
         "x": [
          8,
          9
         ],
         "xaxis": "x",
         "y": [
          0,
          0
         ],
         "yaxis": "y"
        },
        {
         "line": {
          "color": "#64B5F6",
          "width": 2
         },
         "mode": "lines",
         "name": "human_insert_backstage",
         "showlegend": true,
         "type": "scatter",
         "x": [
          null
         ],
         "xaxis": "x",
         "y": [
          null
         ],
         "yaxis": "y"
        },
        {
         "line": {
          "color": "#ff8fab",
          "width": 2
         },
         "mode": "lines",
         "name": "ai_suggest_backstage",
         "showlegend": true,
         "type": "scatter",
         "x": [
          null
         ],
         "xaxis": "x",
         "y": [
          null
         ],
         "yaxis": "y"
        },
        {
         "line": {
          "color": "#023e8a",
          "width": 2
         },
         "mode": "lines",
         "name": "human_insert_frontstage",
         "showlegend": true,
         "type": "scatter",
         "x": [
          null
         ],
         "xaxis": "x",
         "y": [
          null
         ],
         "yaxis": "y"
        },
        {
         "line": {
          "color": "#c1121f",
          "width": 2
         },
         "mode": "lines",
         "name": "ai_insert_moved_to_frontstage",
         "showlegend": true,
         "type": "scatter",
         "x": [
          null
         ],
         "xaxis": "x",
         "y": [
          null
         ],
         "yaxis": "y"
        },
        {
         "line": {
          "color": "#9d4edd",
          "width": 2
         },
         "mode": "lines",
         "name": "human_delete_frontstage",
         "showlegend": true,
         "type": "scatter",
         "x": [
          null
         ],
         "xaxis": "x",
         "y": [
          null
         ],
         "yaxis": "y"
        },
        {
         "line": {
          "color": "#5a189a",
          "width": 2
         },
         "mode": "lines",
         "name": "human_insert_edit_frontstage",
         "showlegend": true,
         "type": "scatter",
         "x": [
          null
         ],
         "xaxis": "x",
         "y": [
          null
         ],
         "yaxis": "y"
        }
       ],
       "layout": {
        "annotations": [
         {
          "font": {
           "size": 16
          },
          "showarrow": false,
          "text": "Session: legislation_corporate_1",
          "x": 0.5,
          "xanchor": "center",
          "xref": "paper",
          "y": 1,
          "yanchor": "bottom",
          "yref": "paper"
         }
        ],
        "height": 500,
        "legend": {
         "title": {
          "font": {
           "color": "rgba(0, 0, 0, 0)"
          }
         }
        },
        "plot_bgcolor": "white",
        "showlegend": true,
        "template": {
         "data": {
          "bar": [
           {
            "error_x": {
             "color": "#2a3f5f"
            },
            "error_y": {
             "color": "#2a3f5f"
            },
            "marker": {
             "line": {
              "color": "#E5ECF6",
              "width": 0.5
             },
             "pattern": {
              "fillmode": "overlay",
              "size": 10,
              "solidity": 0.2
             }
            },
            "type": "bar"
           }
          ],
          "barpolar": [
           {
            "marker": {
             "line": {
              "color": "#E5ECF6",
              "width": 0.5
             },
             "pattern": {
              "fillmode": "overlay",
              "size": 10,
              "solidity": 0.2
             }
            },
            "type": "barpolar"
           }
          ],
          "carpet": [
           {
            "aaxis": {
             "endlinecolor": "#2a3f5f",
             "gridcolor": "white",
             "linecolor": "white",
             "minorgridcolor": "white",
             "startlinecolor": "#2a3f5f"
            },
            "baxis": {
             "endlinecolor": "#2a3f5f",
             "gridcolor": "white",
             "linecolor": "white",
             "minorgridcolor": "white",
             "startlinecolor": "#2a3f5f"
            },
            "type": "carpet"
           }
          ],
          "choropleth": [
           {
            "colorbar": {
             "outlinewidth": 0,
             "ticks": ""
            },
            "type": "choropleth"
           }
          ],
          "contour": [
           {
            "colorbar": {
             "outlinewidth": 0,
             "ticks": ""
            },
            "colorscale": [
             [
              0,
              "#0d0887"
             ],
             [
              0.1111111111111111,
              "#46039f"
             ],
             [
              0.2222222222222222,
              "#7201a8"
             ],
             [
              0.3333333333333333,
              "#9c179e"
             ],
             [
              0.4444444444444444,
              "#bd3786"
             ],
             [
              0.5555555555555556,
              "#d8576b"
             ],
             [
              0.6666666666666666,
              "#ed7953"
             ],
             [
              0.7777777777777778,
              "#fb9f3a"
             ],
             [
              0.8888888888888888,
              "#fdca26"
             ],
             [
              1,
              "#f0f921"
             ]
            ],
            "type": "contour"
           }
          ],
          "contourcarpet": [
           {
            "colorbar": {
             "outlinewidth": 0,
             "ticks": ""
            },
            "type": "contourcarpet"
           }
          ],
          "heatmap": [
           {
            "colorbar": {
             "outlinewidth": 0,
             "ticks": ""
            },
            "colorscale": [
             [
              0,
              "#0d0887"
             ],
             [
              0.1111111111111111,
              "#46039f"
             ],
             [
              0.2222222222222222,
              "#7201a8"
             ],
             [
              0.3333333333333333,
              "#9c179e"
             ],
             [
              0.4444444444444444,
              "#bd3786"
             ],
             [
              0.5555555555555556,
              "#d8576b"
             ],
             [
              0.6666666666666666,
              "#ed7953"
             ],
             [
              0.7777777777777778,
              "#fb9f3a"
             ],
             [
              0.8888888888888888,
              "#fdca26"
             ],
             [
              1,
              "#f0f921"
             ]
            ],
            "type": "heatmap"
           }
          ],
          "histogram": [
           {
            "marker": {
             "pattern": {
              "fillmode": "overlay",
              "size": 10,
              "solidity": 0.2
             }
            },
            "type": "histogram"
           }
          ],
          "histogram2d": [
           {
            "colorbar": {
             "outlinewidth": 0,
             "ticks": ""
            },
            "colorscale": [
             [
              0,
              "#0d0887"
             ],
             [
              0.1111111111111111,
              "#46039f"
             ],
             [
              0.2222222222222222,
              "#7201a8"
             ],
             [
              0.3333333333333333,
              "#9c179e"
             ],
             [
              0.4444444444444444,
              "#bd3786"
             ],
             [
              0.5555555555555556,
              "#d8576b"
             ],
             [
              0.6666666666666666,
              "#ed7953"
             ],
             [
              0.7777777777777778,
              "#fb9f3a"
             ],
             [
              0.8888888888888888,
              "#fdca26"
             ],
             [
              1,
              "#f0f921"
             ]
            ],
            "type": "histogram2d"
           }
          ],
          "histogram2dcontour": [
           {
            "colorbar": {
             "outlinewidth": 0,
             "ticks": ""
            },
            "colorscale": [
             [
              0,
              "#0d0887"
             ],
             [
              0.1111111111111111,
              "#46039f"
             ],
             [
              0.2222222222222222,
              "#7201a8"
             ],
             [
              0.3333333333333333,
              "#9c179e"
             ],
             [
              0.4444444444444444,
              "#bd3786"
             ],
             [
              0.5555555555555556,
              "#d8576b"
             ],
             [
              0.6666666666666666,
              "#ed7953"
             ],
             [
              0.7777777777777778,
              "#fb9f3a"
             ],
             [
              0.8888888888888888,
              "#fdca26"
             ],
             [
              1,
              "#f0f921"
             ]
            ],
            "type": "histogram2dcontour"
           }
          ],
          "mesh3d": [
           {
            "colorbar": {
             "outlinewidth": 0,
             "ticks": ""
            },
            "type": "mesh3d"
           }
          ],
          "parcoords": [
           {
            "line": {
             "colorbar": {
              "outlinewidth": 0,
              "ticks": ""
             }
            },
            "type": "parcoords"
           }
          ],
          "pie": [
           {
            "automargin": true,
            "type": "pie"
           }
          ],
          "scatter": [
           {
            "fillpattern": {
             "fillmode": "overlay",
             "size": 10,
             "solidity": 0.2
            },
            "type": "scatter"
           }
          ],
          "scatter3d": [
           {
            "line": {
             "colorbar": {
              "outlinewidth": 0,
              "ticks": ""
             }
            },
            "marker": {
             "colorbar": {
              "outlinewidth": 0,
              "ticks": ""
             }
            },
            "type": "scatter3d"
           }
          ],
          "scattercarpet": [
           {
            "marker": {
             "colorbar": {
              "outlinewidth": 0,
              "ticks": ""
             }
            },
            "type": "scattercarpet"
           }
          ],
          "scattergeo": [
           {
            "marker": {
             "colorbar": {
              "outlinewidth": 0,
              "ticks": ""
             }
            },
            "type": "scattergeo"
           }
          ],
          "scattergl": [
           {
            "marker": {
             "colorbar": {
              "outlinewidth": 0,
              "ticks": ""
             }
            },
            "type": "scattergl"
           }
          ],
          "scattermap": [
           {
            "marker": {
             "colorbar": {
              "outlinewidth": 0,
              "ticks": ""
             }
            },
            "type": "scattermap"
           }
          ],
          "scattermapbox": [
           {
            "marker": {
             "colorbar": {
              "outlinewidth": 0,
              "ticks": ""
             }
            },
            "type": "scattermapbox"
           }
          ],
          "scatterpolar": [
           {
            "marker": {
             "colorbar": {
              "outlinewidth": 0,
              "ticks": ""
             }
            },
            "type": "scatterpolar"
           }
          ],
          "scatterpolargl": [
           {
            "marker": {
             "colorbar": {
              "outlinewidth": 0,
              "ticks": ""
             }
            },
            "type": "scatterpolargl"
           }
          ],
          "scatterternary": [
           {
            "marker": {
             "colorbar": {
              "outlinewidth": 0,
              "ticks": ""
             }
            },
            "type": "scatterternary"
           }
          ],
          "surface": [
           {
            "colorbar": {
             "outlinewidth": 0,
             "ticks": ""
            },
            "colorscale": [
             [
              0,
              "#0d0887"
             ],
             [
              0.1111111111111111,
              "#46039f"
             ],
             [
              0.2222222222222222,
              "#7201a8"
             ],
             [
              0.3333333333333333,
              "#9c179e"
             ],
             [
              0.4444444444444444,
              "#bd3786"
             ],
             [
              0.5555555555555556,
              "#d8576b"
             ],
             [
              0.6666666666666666,
              "#ed7953"
             ],
             [
              0.7777777777777778,
              "#fb9f3a"
             ],
             [
              0.8888888888888888,
              "#fdca26"
             ],
             [
              1,
              "#f0f921"
             ]
            ],
            "type": "surface"
           }
          ],
          "table": [
           {
            "cells": {
             "fill": {
              "color": "#EBF0F8"
             },
             "line": {
              "color": "white"
             }
            },
            "header": {
             "fill": {
              "color": "#C8D4E3"
             },
             "line": {
              "color": "white"
             }
            },
            "type": "table"
           }
          ]
         },
         "layout": {
          "annotationdefaults": {
           "arrowcolor": "#2a3f5f",
           "arrowhead": 0,
           "arrowwidth": 1
          },
          "autotypenumbers": "strict",
          "coloraxis": {
           "colorbar": {
            "outlinewidth": 0,
            "ticks": ""
           }
          },
          "colorscale": {
           "diverging": [
            [
             0,
             "#8e0152"
            ],
            [
             0.1,
             "#c51b7d"
            ],
            [
             0.2,
             "#de77ae"
            ],
            [
             0.3,
             "#f1b6da"
            ],
            [
             0.4,
             "#fde0ef"
            ],
            [
             0.5,
             "#f7f7f7"
            ],
            [
             0.6,
             "#e6f5d0"
            ],
            [
             0.7,
             "#b8e186"
            ],
            [
             0.8,
             "#7fbc41"
            ],
            [
             0.9,
             "#4d9221"
            ],
            [
             1,
             "#276419"
            ]
           ],
           "sequential": [
            [
             0,
             "#0d0887"
            ],
            [
             0.1111111111111111,
             "#46039f"
            ],
            [
             0.2222222222222222,
             "#7201a8"
            ],
            [
             0.3333333333333333,
             "#9c179e"
            ],
            [
             0.4444444444444444,
             "#bd3786"
            ],
            [
             0.5555555555555556,
             "#d8576b"
            ],
            [
             0.6666666666666666,
             "#ed7953"
            ],
            [
             0.7777777777777778,
             "#fb9f3a"
            ],
            [
             0.8888888888888888,
             "#fdca26"
            ],
            [
             1,
             "#f0f921"
            ]
           ],
           "sequentialminus": [
            [
             0,
             "#0d0887"
            ],
            [
             0.1111111111111111,
             "#46039f"
            ],
            [
             0.2222222222222222,
             "#7201a8"
            ],
            [
             0.3333333333333333,
             "#9c179e"
            ],
            [
             0.4444444444444444,
             "#bd3786"
            ],
            [
             0.5555555555555556,
             "#d8576b"
            ],
            [
             0.6666666666666666,
             "#ed7953"
            ],
            [
             0.7777777777777778,
             "#fb9f3a"
            ],
            [
             0.8888888888888888,
             "#fdca26"
            ],
            [
             1,
             "#f0f921"
            ]
           ]
          },
          "colorway": [
           "#636efa",
           "#EF553B",
           "#00cc96",
           "#ab63fa",
           "#FFA15A",
           "#19d3f3",
           "#FF6692",
           "#B6E880",
           "#FF97FF",
           "#FECB52"
          ],
          "font": {
           "color": "#2a3f5f"
          },
          "geo": {
           "bgcolor": "white",
           "lakecolor": "white",
           "landcolor": "#E5ECF6",
           "showlakes": true,
           "showland": true,
           "subunitcolor": "white"
          },
          "hoverlabel": {
           "align": "left"
          },
          "hovermode": "closest",
          "mapbox": {
           "style": "light"
          },
          "paper_bgcolor": "white",
          "plot_bgcolor": "#E5ECF6",
          "polar": {
           "angularaxis": {
            "gridcolor": "white",
            "linecolor": "white",
            "ticks": ""
           },
           "bgcolor": "#E5ECF6",
           "radialaxis": {
            "gridcolor": "white",
            "linecolor": "white",
            "ticks": ""
           }
          },
          "scene": {
           "xaxis": {
            "backgroundcolor": "#E5ECF6",
            "gridcolor": "white",
            "gridwidth": 2,
            "linecolor": "white",
            "showbackground": true,
            "ticks": "",
            "zerolinecolor": "white"
           },
           "yaxis": {
            "backgroundcolor": "#E5ECF6",
            "gridcolor": "white",
            "gridwidth": 2,
            "linecolor": "white",
            "showbackground": true,
            "ticks": "",
            "zerolinecolor": "white"
           },
           "zaxis": {
            "backgroundcolor": "#E5ECF6",
            "gridcolor": "white",
            "gridwidth": 2,
            "linecolor": "white",
            "showbackground": true,
            "ticks": "",
            "zerolinecolor": "white"
           }
          },
          "shapedefaults": {
           "line": {
            "color": "#2a3f5f"
           }
          },
          "ternary": {
           "aaxis": {
            "gridcolor": "white",
            "linecolor": "white",
            "ticks": ""
           },
           "baxis": {
            "gridcolor": "white",
            "linecolor": "white",
            "ticks": ""
           },
           "bgcolor": "#E5ECF6",
           "caxis": {
            "gridcolor": "white",
            "linecolor": "white",
            "ticks": ""
           }
          },
          "title": {
           "x": 0.05
          },
          "xaxis": {
           "automargin": true,
           "gridcolor": "white",
           "linecolor": "white",
           "ticks": "",
           "title": {
            "standoff": 15
           },
           "zerolinecolor": "white",
           "zerolinewidth": 2
          },
          "yaxis": {
           "automargin": true,
           "gridcolor": "white",
           "linecolor": "white",
           "ticks": "",
           "title": {
            "standoff": 15
           },
           "zerolinecolor": "white",
           "zerolinewidth": 2
          }
         }
        },
        "title": {
         "text": "Semantic Expansion over Writing Sessions<br><span style=\"font-size: 12px;\">*Measuring how well humans are learning while writing with GenAI</span>"
        },
        "width": 1800,
        "xaxis": {
         "anchor": "y",
         "domain": [
          0,
          1
         ],
         "gridcolor": "white",
         "linecolor": "black",
         "mirror": false,
         "range": [
          -1,
          45
         ],
         "showline": true,
         "ticks": "outside",
         "title": {
          "text": "Progress into the writing session"
         }
        },
        "yaxis": {
         "anchor": "x",
         "domain": [
          0,
          1
         ],
         "gridcolor": "white",
         "linecolor": "black",
         "mirror": false,
         "showline": true,
         "ticks": "outside",
         "title": {
          "text": "Scores"
         }
        }
       }
      }
     },
     "metadata": {},
     "output_type": "display_data"
    },
    {
     "name": "stdout",
     "output_type": "stream",
     "text": [
      "legislation_corporate_2\n"
     ]
    },
    {
     "data": {
      "application/vnd.plotly.v1+json": {
       "config": {
        "plotlyServerURL": "https://plot.ly"
       },
       "data": [
        {
         "hovertemplate": "x=%{x}<br>y=%{y}<extra></extra>",
         "line": {
          "color": "#64B5F6",
          "width": 3
         },
         "marker": {
          "color": "#64B5F6",
          "size": 7
         },
         "mode": "lines+markers",
         "showlegend": false,
         "type": "scatter",
         "x": [
          52,
          53
         ],
         "xaxis": "x",
         "y": [
          10.231234848499298,
          10.546854019165039
         ],
         "yaxis": "y"
        },
        {
         "hovertemplate": "x=%{x}<br>y=%{y}<extra></extra>",
         "line": {
          "color": "#64B5F6",
          "width": 3
         },
         "marker": {
          "color": "#64B5F6",
          "size": 7
         },
         "mode": "lines+markers",
         "showlegend": false,
         "type": "scatter",
         "x": [
          25,
          26
         ],
         "xaxis": "x",
         "y": [
          4.343162417411804,
          4.460585296154022
         ],
         "yaxis": "y"
        },
        {
         "hovertemplate": "x=%{x}<br>y=%{y}<extra></extra>",
         "line": {
          "color": "#64B5F6",
          "width": 3
         },
         "marker": {
          "color": "#64B5F6",
          "size": 7
         },
         "mode": "lines+markers",
         "showlegend": false,
         "type": "scatter",
         "x": [
          13,
          14
         ],
         "xaxis": "x",
         "y": [
          1.5691365003585815,
          1.9002171158790588
         ],
         "yaxis": "y"
        },
        {
         "hovertemplate": "x=%{x}<br>y=%{y}<extra></extra>",
         "line": {
          "color": "#64B5F6",
          "width": 3
         },
         "marker": {
          "color": "#64B5F6",
          "size": 7
         },
         "mode": "lines+markers",
         "showlegend": false,
         "type": "scatter",
         "x": [
          9,
          10
         ],
         "xaxis": "x",
         "y": [
          1.2714566588401794,
          0.2037995457649231
         ],
         "yaxis": "y"
        },
        {
         "hovertemplate": "x=%{x}<br>y=%{y}<extra></extra>",
         "line": {
          "color": "#64B5F6",
          "width": 3
         },
         "marker": {
          "color": "#64B5F6",
          "size": 7
         },
         "mode": "lines+markers",
         "showlegend": false,
         "type": "scatter",
         "x": [
          0,
          1
         ],
         "xaxis": "x",
         "y": [
          0,
          0.35830891132354736
         ],
         "yaxis": "y"
        },
        {
         "hovertemplate": "x=%{x}<br>y=%{y}<extra></extra>",
         "line": {
          "color": "#ff8fab",
          "width": 3
         },
         "marker": {
          "color": "#ff8fab",
          "size": 7
         },
         "mode": "lines+markers",
         "showlegend": false,
         "type": "scatter",
         "x": [
          55,
          56
         ],
         "xaxis": "x",
         "y": [
          11.159227919578552,
          11.49033601284027
         ],
         "yaxis": "y"
        },
        {
         "hovertemplate": "x=%{x}<br>y=%{y}<extra></extra>",
         "line": {
          "color": "#ff8fab",
          "width": 3
         },
         "marker": {
          "color": "#ff8fab",
          "size": 7
         },
         "mode": "lines+markers",
         "showlegend": false,
         "type": "scatter",
         "x": [
          54,
          55
         ],
         "xaxis": "x",
         "y": [
          10.847830069065093,
          11.159227919578552
         ],
         "yaxis": "y"
        },
        {
         "hovertemplate": "x=%{x}<br>y=%{y}<extra></extra>",
         "line": {
          "color": "#ff8fab",
          "width": 3
         },
         "marker": {
          "color": "#ff8fab",
          "size": 7
         },
         "mode": "lines+markers",
         "showlegend": false,
         "type": "scatter",
         "x": [
          53,
          54
         ],
         "xaxis": "x",
         "y": [
          10.546854019165039,
          10.847830069065093
         ],
         "yaxis": "y"
        },
        {
         "hovertemplate": "x=%{x}<br>y=%{y}<extra></extra>",
         "line": {
          "color": "#ff8fab",
          "width": 3
         },
         "marker": {
          "color": "#ff8fab",
          "size": 7
         },
         "mode": "lines+markers",
         "showlegend": false,
         "type": "scatter",
         "x": [
          50,
          51
         ],
         "xaxis": "x",
         "y": [
          10.176807284355164,
          10.660011899471282
         ],
         "yaxis": "y"
        },
        {
         "hovertemplate": "x=%{x}<br>y=%{y}<extra></extra>",
         "line": {
          "color": "#ff8fab",
          "width": 3
         },
         "marker": {
          "color": "#ff8fab",
          "size": 7
         },
         "mode": "lines+markers",
         "showlegend": false,
         "type": "scatter",
         "x": [
          41,
          42
         ],
         "xaxis": "x",
         "y": [
          7.378208339214325,
          7.889946365356446
         ],
         "yaxis": "y"
        },
        {
         "hovertemplate": "x=%{x}<br>y=%{y}<extra></extra>",
         "line": {
          "color": "#ff8fab",
          "width": 3
         },
         "marker": {
          "color": "#ff8fab",
          "size": 7
         },
         "mode": "lines+markers",
         "showlegend": false,
         "type": "scatter",
         "x": [
          39,
          40
         ],
         "xaxis": "x",
         "y": [
          7.010249316692352,
          7.368689227104187
         ],
         "yaxis": "y"
        },
        {
         "hovertemplate": "x=%{x}<br>y=%{y}<extra></extra>",
         "line": {
          "color": "#ff8fab",
          "width": 3
         },
         "marker": {
          "color": "#ff8fab",
          "size": 7
         },
         "mode": "lines+markers",
         "showlegend": false,
         "type": "scatter",
         "x": [
          35,
          36
         ],
         "xaxis": "x",
         "y": [
          6.114866077899933,
          6.449674034118653
         ],
         "yaxis": "y"
        },
        {
         "hovertemplate": "x=%{x}<br>y=%{y}<extra></extra>",
         "line": {
          "color": "#ff8fab",
          "width": 3
         },
         "marker": {
          "color": "#ff8fab",
          "size": 7
         },
         "mode": "lines+markers",
         "showlegend": false,
         "type": "scatter",
         "x": [
          33,
          34
         ],
         "xaxis": "x",
         "y": [
          5.8922988176345825,
          6.334326112270356
         ],
         "yaxis": "y"
        },
        {
         "hovertemplate": "x=%{x}<br>y=%{y}<extra></extra>",
         "line": {
          "color": "#ff8fab",
          "width": 3
         },
         "marker": {
          "color": "#ff8fab",
          "size": 7
         },
         "mode": "lines+markers",
         "showlegend": false,
         "type": "scatter",
         "x": [
          29,
          30
         ],
         "xaxis": "x",
         "y": [
          4.901678502559662,
          5.33091756105423
         ],
         "yaxis": "y"
        },
        {
         "hovertemplate": "x=%{x}<br>y=%{y}<extra></extra>",
         "line": {
          "color": "#ff8fab",
          "width": 3
         },
         "marker": {
          "color": "#ff8fab",
          "size": 7
         },
         "mode": "lines+markers",
         "showlegend": false,
         "type": "scatter",
         "x": [
          26,
          27
         ],
         "xaxis": "x",
         "y": [
          4.460585296154022,
          4.690651631355285
         ],
         "yaxis": "y"
        },
        {
         "hovertemplate": "x=%{x}<br>y=%{y}<extra></extra>",
         "line": {
          "color": "#ff8fab",
          "width": 3
         },
         "marker": {
          "color": "#ff8fab",
          "size": 7
         },
         "mode": "lines+markers",
         "showlegend": false,
         "type": "scatter",
         "x": [
          23,
          24
         ],
         "xaxis": "x",
         "y": [
          4.59516054391861,
          5.119952714443206
         ],
         "yaxis": "y"
        },
        {
         "hovertemplate": "x=%{x}<br>y=%{y}<extra></extra>",
         "line": {
          "color": "#ff8fab",
          "width": 3
         },
         "marker": {
          "color": "#ff8fab",
          "size": 7
         },
         "mode": "lines+markers",
         "showlegend": false,
         "type": "scatter",
         "x": [
          14,
          15
         ],
         "xaxis": "x",
         "y": [
          1.9002171158790588,
          2.1835649251937865
         ],
         "yaxis": "y"
        },
        {
         "hovertemplate": "x=%{x}<br>y=%{y}<extra></extra>",
         "line": {
          "color": "#ff8fab",
          "width": 3
         },
         "marker": {
          "color": "#ff8fab",
          "size": 7
         },
         "mode": "lines+markers",
         "showlegend": false,
         "type": "scatter",
         "x": [
          10,
          11
         ],
         "xaxis": "x",
         "y": [
          0.2037995457649231,
          0.5118272542953491
         ],
         "yaxis": "y"
        },
        {
         "hovertemplate": "x=%{x}<br>y=%{y}<extra></extra>",
         "line": {
          "color": "#ff8fab",
          "width": 3
         },
         "marker": {
          "color": "#ff8fab",
          "size": 7
         },
         "mode": "lines+markers",
         "showlegend": false,
         "type": "scatter",
         "x": [
          5,
          6
         ],
         "xaxis": "x",
         "y": [
          0.3837496042251587,
          0.7060006976127624
         ],
         "yaxis": "y"
        },
        {
         "hovertemplate": "x=%{x}<br>y=%{y}<extra></extra>",
         "line": {
          "color": "#ff8fab",
          "width": 3
         },
         "marker": {
          "color": "#ff8fab",
          "size": 7
         },
         "mode": "lines+markers",
         "showlegend": false,
         "type": "scatter",
         "x": [
          3,
          4
         ],
         "xaxis": "x",
         "y": [
          0.1593245267868042,
          0.5036605954170227
         ],
         "yaxis": "y"
        },
        {
         "hovertemplate": "x=%{x}<br>y=%{y}<extra></extra>",
         "line": {
          "color": "#ff8fab",
          "width": 3
         },
         "marker": {
          "color": "#ff8fab",
          "size": 7
         },
         "mode": "lines+markers",
         "showlegend": false,
         "type": "scatter",
         "x": [
          1,
          2
         ],
         "xaxis": "x",
         "y": [
          0.35830891132354736,
          0.6755919694900513
         ],
         "yaxis": "y"
        },
        {
         "hovertemplate": "x=%{x}<br>y=%{y}<extra></extra>",
         "line": {
          "color": "#023e8a",
          "width": 3
         },
         "marker": {
          "color": "#023e8a",
          "size": 7
         },
         "mode": "lines+markers",
         "showlegend": false,
         "type": "scatter",
         "x": [
          49,
          50
         ],
         "xaxis": "x",
         "y": [
          9.917812824249268,
          10.176807284355164
         ],
         "yaxis": "y"
        },
        {
         "hovertemplate": "x=%{x}<br>y=%{y}<extra></extra>",
         "line": {
          "color": "#023e8a",
          "width": 3
         },
         "marker": {
          "color": "#023e8a",
          "size": 7
         },
         "mode": "lines+markers",
         "showlegend": false,
         "type": "scatter",
         "x": [
          48,
          49
         ],
         "xaxis": "x",
         "y": [
          9.614019513130188,
          9.917812824249268
         ],
         "yaxis": "y"
        },
        {
         "hovertemplate": "x=%{x}<br>y=%{y}<extra></extra>",
         "line": {
          "color": "#023e8a",
          "width": 3
         },
         "marker": {
          "color": "#023e8a",
          "size": 7
         },
         "mode": "lines+markers",
         "showlegend": false,
         "type": "scatter",
         "x": [
          47,
          48
         ],
         "xaxis": "x",
         "y": [
          9.152756750583649,
          9.614019513130188
         ],
         "yaxis": "y"
        },
        {
         "hovertemplate": "x=%{x}<br>y=%{y}<extra></extra>",
         "line": {
          "color": "#023e8a",
          "width": 3
         },
         "marker": {
          "color": "#023e8a",
          "size": 7
         },
         "mode": "lines+markers",
         "showlegend": false,
         "type": "scatter",
         "x": [
          46,
          47
         ],
         "xaxis": "x",
         "y": [
          8.69520479440689,
          9.152756750583649
         ],
         "yaxis": "y"
        },
        {
         "hovertemplate": "x=%{x}<br>y=%{y}<extra></extra>",
         "line": {
          "color": "#023e8a",
          "width": 3
         },
         "marker": {
          "color": "#023e8a",
          "size": 7
         },
         "mode": "lines+markers",
         "showlegend": false,
         "type": "scatter",
         "x": [
          45,
          46
         ],
         "xaxis": "x",
         "y": [
          8.345611870288849,
          8.69520479440689
         ],
         "yaxis": "y"
        },
        {
         "hovertemplate": "x=%{x}<br>y=%{y}<extra></extra>",
         "line": {
          "color": "#023e8a",
          "width": 3
         },
         "marker": {
          "color": "#023e8a",
          "size": 7
         },
         "mode": "lines+markers",
         "showlegend": false,
         "type": "scatter",
         "x": [
          44,
          45
         ],
         "xaxis": "x",
         "y": [
          7.959950864315033,
          8.345611870288849
         ],
         "yaxis": "y"
        },
        {
         "hovertemplate": "x=%{x}<br>y=%{y}<extra></extra>",
         "line": {
          "color": "#023e8a",
          "width": 3
         },
         "marker": {
          "color": "#023e8a",
          "size": 7
         },
         "mode": "lines+markers",
         "showlegend": false,
         "type": "scatter",
         "x": [
          43,
          44
         ],
         "xaxis": "x",
         "y": [
          7.485100090503693,
          7.959950864315033
         ],
         "yaxis": "y"
        },
        {
         "hovertemplate": "x=%{x}<br>y=%{y}<extra></extra>",
         "line": {
          "color": "#023e8a",
          "width": 3
         },
         "marker": {
          "color": "#023e8a",
          "size": 7
         },
         "mode": "lines+markers",
         "showlegend": false,
         "type": "scatter",
         "x": [
          40,
          41
         ],
         "xaxis": "x",
         "y": [
          7.010249316692352,
          7.378208339214325
         ],
         "yaxis": "y"
        },
        {
         "hovertemplate": "x=%{x}<br>y=%{y}<extra></extra>",
         "line": {
          "color": "#023e8a",
          "width": 3
         },
         "marker": {
          "color": "#023e8a",
          "size": 7
         },
         "mode": "lines+markers",
         "showlegend": false,
         "type": "scatter",
         "x": [
          38,
          39
         ],
         "xaxis": "x",
         "y": [
          6.309261918067932,
          7.010249316692352
         ],
         "yaxis": "y"
        },
        {
         "hovertemplate": "x=%{x}<br>y=%{y}<extra></extra>",
         "line": {
          "color": "#023e8a",
          "width": 3
         },
         "marker": {
          "color": "#023e8a",
          "size": 7
         },
         "mode": "lines+markers",
         "showlegend": false,
         "type": "scatter",
         "x": [
          37,
          38
         ],
         "xaxis": "x",
         "y": [
          6.268849730491638,
          6.309261918067932
         ],
         "yaxis": "y"
        },
        {
         "hovertemplate": "x=%{x}<br>y=%{y}<extra></extra>",
         "line": {
          "color": "#023e8a",
          "width": 3
         },
         "marker": {
          "color": "#023e8a",
          "size": 7
         },
         "mode": "lines+markers",
         "showlegend": false,
         "type": "scatter",
         "x": [
          36,
          37
         ],
         "xaxis": "x",
         "y": [
          6.114866077899933,
          6.268849730491638
         ],
         "yaxis": "y"
        },
        {
         "hovertemplate": "x=%{x}<br>y=%{y}<extra></extra>",
         "line": {
          "color": "#023e8a",
          "width": 3
         },
         "marker": {
          "color": "#023e8a",
          "size": 7
         },
         "mode": "lines+markers",
         "showlegend": false,
         "type": "scatter",
         "x": [
          34,
          35
         ],
         "xaxis": "x",
         "y": [
          5.8922988176345825,
          6.114866077899933
         ],
         "yaxis": "y"
        },
        {
         "hovertemplate": "x=%{x}<br>y=%{y}<extra></extra>",
         "line": {
          "color": "#023e8a",
          "width": 3
         },
         "marker": {
          "color": "#023e8a",
          "size": 7
         },
         "mode": "lines+markers",
         "showlegend": false,
         "type": "scatter",
         "x": [
          32,
          33
         ],
         "xaxis": "x",
         "y": [
          5.6676687598228455,
          5.8922988176345825
         ],
         "yaxis": "y"
        },
        {
         "hovertemplate": "x=%{x}<br>y=%{y}<extra></extra>",
         "line": {
          "color": "#023e8a",
          "width": 3
         },
         "marker": {
          "color": "#023e8a",
          "size": 7
         },
         "mode": "lines+markers",
         "showlegend": false,
         "type": "scatter",
         "x": [
          31,
          32
         ],
         "xaxis": "x",
         "y": [
          5.36054790019989,
          5.6676687598228455
         ],
         "yaxis": "y"
        },
        {
         "hovertemplate": "x=%{x}<br>y=%{y}<extra></extra>",
         "line": {
          "color": "#023e8a",
          "width": 3
         },
         "marker": {
          "color": "#023e8a",
          "size": 7
         },
         "mode": "lines+markers",
         "showlegend": false,
         "type": "scatter",
         "x": [
          28,
          29
         ],
         "xaxis": "x",
         "y": [
          4.585979700088501,
          4.901678502559662
         ],
         "yaxis": "y"
        },
        {
         "hovertemplate": "x=%{x}<br>y=%{y}<extra></extra>",
         "line": {
          "color": "#023e8a",
          "width": 3
         },
         "marker": {
          "color": "#023e8a",
          "size": 7
         },
         "mode": "lines+markers",
         "showlegend": false,
         "type": "scatter",
         "x": [
          22,
          23
         ],
         "xaxis": "x",
         "y": [
          3.8339297771453857,
          4.59516054391861
         ],
         "yaxis": "y"
        },
        {
         "hovertemplate": "x=%{x}<br>y=%{y}<extra></extra>",
         "line": {
          "color": "#023e8a",
          "width": 3
         },
         "marker": {
          "color": "#023e8a",
          "size": 7
         },
         "mode": "lines+markers",
         "showlegend": false,
         "type": "scatter",
         "x": [
          21,
          22
         ],
         "xaxis": "x",
         "y": [
          3.519180715084076,
          3.8339297771453857
         ],
         "yaxis": "y"
        },
        {
         "hovertemplate": "x=%{x}<br>y=%{y}<extra></extra>",
         "line": {
          "color": "#023e8a",
          "width": 3
         },
         "marker": {
          "color": "#023e8a",
          "size": 7
         },
         "mode": "lines+markers",
         "showlegend": false,
         "type": "scatter",
         "x": [
          20,
          21
         ],
         "xaxis": "x",
         "y": [
          3.1389265060424805,
          3.519180715084076
         ],
         "yaxis": "y"
        },
        {
         "hovertemplate": "x=%{x}<br>y=%{y}<extra></extra>",
         "line": {
          "color": "#023e8a",
          "width": 3
         },
         "marker": {
          "color": "#023e8a",
          "size": 7
         },
         "mode": "lines+markers",
         "showlegend": false,
         "type": "scatter",
         "x": [
          19,
          20
         ],
         "xaxis": "x",
         "y": [
          2.762407898902893,
          3.1389265060424805
         ],
         "yaxis": "y"
        },
        {
         "hovertemplate": "x=%{x}<br>y=%{y}<extra></extra>",
         "line": {
          "color": "#023e8a",
          "width": 3
         },
         "marker": {
          "color": "#023e8a",
          "size": 7
         },
         "mode": "lines+markers",
         "showlegend": false,
         "type": "scatter",
         "x": [
          18,
          19
         ],
         "xaxis": "x",
         "y": [
          2.4472842812538147,
          2.762407898902893
         ],
         "yaxis": "y"
        },
        {
         "hovertemplate": "x=%{x}<br>y=%{y}<extra></extra>",
         "line": {
          "color": "#023e8a",
          "width": 3
         },
         "marker": {
          "color": "#023e8a",
          "size": 7
         },
         "mode": "lines+markers",
         "showlegend": false,
         "type": "scatter",
         "x": [
          17,
          18
         ],
         "xaxis": "x",
         "y": [
          2.1769766211509705,
          2.4472842812538147
         ],
         "yaxis": "y"
        },
        {
         "hovertemplate": "x=%{x}<br>y=%{y}<extra></extra>",
         "line": {
          "color": "#023e8a",
          "width": 3
         },
         "marker": {
          "color": "#023e8a",
          "size": 7
         },
         "mode": "lines+markers",
         "showlegend": false,
         "type": "scatter",
         "x": [
          16,
          17
         ],
         "xaxis": "x",
         "y": [
          1.8473795056343079,
          2.1769766211509705
         ],
         "yaxis": "y"
        },
        {
         "hovertemplate": "x=%{x}<br>y=%{y}<extra></extra>",
         "line": {
          "color": "#023e8a",
          "width": 3
         },
         "marker": {
          "color": "#023e8a",
          "size": 7
         },
         "mode": "lines+markers",
         "showlegend": false,
         "type": "scatter",
         "x": [
          8,
          9
         ],
         "xaxis": "x",
         "y": [
          0.9482535719871521,
          1.2714566588401794
         ],
         "yaxis": "y"
        },
        {
         "hovertemplate": "x=%{x}<br>y=%{y}<extra></extra>",
         "line": {
          "color": "#023e8a",
          "width": 3
         },
         "marker": {
          "color": "#023e8a",
          "size": 7
         },
         "mode": "lines+markers",
         "showlegend": false,
         "type": "scatter",
         "x": [
          7,
          8
         ],
         "xaxis": "x",
         "y": [
          0.7153907418251038,
          0.9482535719871521
         ],
         "yaxis": "y"
        },
        {
         "hovertemplate": "x=%{x}<br>y=%{y}<extra></extra>",
         "line": {
          "color": "#023e8a",
          "width": 3
         },
         "marker": {
          "color": "#023e8a",
          "size": 7
         },
         "mode": "lines+markers",
         "showlegend": false,
         "type": "scatter",
         "x": [
          4,
          5
         ],
         "xaxis": "x",
         "y": [
          0.1593245267868042,
          0.3837496042251587
         ],
         "yaxis": "y"
        },
        {
         "hovertemplate": "x=%{x}<br>y=%{y}<extra></extra>",
         "line": {
          "color": "#023e8a",
          "width": 3
         },
         "marker": {
          "color": "#023e8a",
          "size": 7
         },
         "mode": "lines+markers",
         "showlegend": false,
         "type": "scatter",
         "x": [
          2,
          3
         ],
         "xaxis": "x",
         "y": [
          0,
          0.1593245267868042
         ],
         "yaxis": "y"
        },
        {
         "hovertemplate": "x=%{x}<br>y=%{y}<extra></extra>",
         "line": {
          "color": "#c1121f",
          "width": 3
         },
         "marker": {
          "color": "#c1121f",
          "size": 7
         },
         "mode": "lines+markers",
         "showlegend": false,
         "type": "scatter",
         "x": [
          51,
          52
         ],
         "xaxis": "x",
         "y": [
          10.176807284355164,
          10.231234848499298
         ],
         "yaxis": "y"
        },
        {
         "hovertemplate": "x=%{x}<br>y=%{y}<extra></extra>",
         "line": {
          "color": "#c1121f",
          "width": 3
         },
         "marker": {
          "color": "#c1121f",
          "size": 7
         },
         "mode": "lines+markers",
         "showlegend": false,
         "type": "scatter",
         "x": [
          42,
          43
         ],
         "xaxis": "x",
         "y": [
          7.378208339214325,
          7.485100090503693
         ],
         "yaxis": "y"
        },
        {
         "hovertemplate": "x=%{x}<br>y=%{y}<extra></extra>",
         "line": {
          "color": "#c1121f",
          "width": 3
         },
         "marker": {
          "color": "#c1121f",
          "size": 7
         },
         "mode": "lines+markers",
         "showlegend": false,
         "type": "scatter",
         "x": [
          30,
          31
         ],
         "xaxis": "x",
         "y": [
          4.901678502559662,
          5.36054790019989
         ],
         "yaxis": "y"
        },
        {
         "hovertemplate": "x=%{x}<br>y=%{y}<extra></extra>",
         "line": {
          "color": "#c1121f",
          "width": 3
         },
         "marker": {
          "color": "#c1121f",
          "size": 7
         },
         "mode": "lines+markers",
         "showlegend": false,
         "type": "scatter",
         "x": [
          27,
          28
         ],
         "xaxis": "x",
         "y": [
          4.343162417411804,
          4.585979700088501
         ],
         "yaxis": "y"
        },
        {
         "hovertemplate": "x=%{x}<br>y=%{y}<extra></extra>",
         "line": {
          "color": "#c1121f",
          "width": 3
         },
         "marker": {
          "color": "#c1121f",
          "size": 7
         },
         "mode": "lines+markers",
         "showlegend": false,
         "type": "scatter",
         "x": [
          24,
          25
         ],
         "xaxis": "x",
         "y": [
          4.59516054391861,
          4.343162417411804
         ],
         "yaxis": "y"
        },
        {
         "hovertemplate": "x=%{x}<br>y=%{y}<extra></extra>",
         "line": {
          "color": "#c1121f",
          "width": 3
         },
         "marker": {
          "color": "#c1121f",
          "size": 7
         },
         "mode": "lines+markers",
         "showlegend": false,
         "type": "scatter",
         "x": [
          15,
          16
         ],
         "xaxis": "x",
         "y": [
          1.5691365003585815,
          1.8473795056343079
         ],
         "yaxis": "y"
        },
        {
         "hovertemplate": "x=%{x}<br>y=%{y}<extra></extra>",
         "line": {
          "color": "#c1121f",
          "width": 3
         },
         "marker": {
          "color": "#c1121f",
          "size": 7
         },
         "mode": "lines+markers",
         "showlegend": false,
         "type": "scatter",
         "x": [
          6,
          7
         ],
         "xaxis": "x",
         "y": [
          0.3837496042251587,
          0.7153907418251038
         ],
         "yaxis": "y"
        },
        {
         "hovertemplate": "x=%{x}<br>y=%{y}<extra></extra>",
         "line": {
          "color": "#9d4edd",
          "width": 3
         },
         "marker": {
          "color": "#9d4edd",
          "size": 7
         },
         "mode": "lines+markers",
         "showlegend": false,
         "type": "scatter",
         "x": [
          56,
          57
         ],
         "xaxis": "x",
         "y": [
          10.231234848499298,
          10.231234848499298
         ],
         "yaxis": "y"
        },
        {
         "hovertemplate": "x=%{x}<br>y=%{y}<extra></extra>",
         "line": {
          "color": "#9d4edd",
          "width": 3
         },
         "marker": {
          "color": "#9d4edd",
          "size": 7
         },
         "mode": "lines+markers",
         "showlegend": false,
         "type": "scatter",
         "x": [
          12,
          13
         ],
         "xaxis": "x",
         "y": [
          1.563348650932312,
          1.5691365003585815
         ],
         "yaxis": "y"
        },
        {
         "hovertemplate": "x=%{x}<br>y=%{y}<extra></extra>",
         "line": {
          "color": "#9d4edd",
          "width": 3
         },
         "marker": {
          "color": "#9d4edd",
          "size": 7
         },
         "mode": "lines+markers",
         "showlegend": false,
         "type": "scatter",
         "x": [
          11,
          12
         ],
         "xaxis": "x",
         "y": [
          1.2714566588401794,
          1.563348650932312
         ],
         "yaxis": "y"
        },
        {
         "line": {
          "color": "#64B5F6",
          "width": 2
         },
         "mode": "lines",
         "name": "human_insert_backstage",
         "showlegend": true,
         "type": "scatter",
         "x": [
          null
         ],
         "xaxis": "x",
         "y": [
          null
         ],
         "yaxis": "y"
        },
        {
         "line": {
          "color": "#ff8fab",
          "width": 2
         },
         "mode": "lines",
         "name": "ai_suggest_backstage",
         "showlegend": true,
         "type": "scatter",
         "x": [
          null
         ],
         "xaxis": "x",
         "y": [
          null
         ],
         "yaxis": "y"
        },
        {
         "line": {
          "color": "#023e8a",
          "width": 2
         },
         "mode": "lines",
         "name": "human_insert_frontstage",
         "showlegend": true,
         "type": "scatter",
         "x": [
          null
         ],
         "xaxis": "x",
         "y": [
          null
         ],
         "yaxis": "y"
        },
        {
         "line": {
          "color": "#c1121f",
          "width": 2
         },
         "mode": "lines",
         "name": "ai_insert_moved_to_frontstage",
         "showlegend": true,
         "type": "scatter",
         "x": [
          null
         ],
         "xaxis": "x",
         "y": [
          null
         ],
         "yaxis": "y"
        },
        {
         "line": {
          "color": "#9d4edd",
          "width": 2
         },
         "mode": "lines",
         "name": "human_delete_frontstage",
         "showlegend": true,
         "type": "scatter",
         "x": [
          null
         ],
         "xaxis": "x",
         "y": [
          null
         ],
         "yaxis": "y"
        },
        {
         "line": {
          "color": "#5a189a",
          "width": 2
         },
         "mode": "lines",
         "name": "human_insert_edit_frontstage",
         "showlegend": true,
         "type": "scatter",
         "x": [
          null
         ],
         "xaxis": "x",
         "y": [
          null
         ],
         "yaxis": "y"
        }
       ],
       "layout": {
        "annotations": [
         {
          "font": {
           "size": 16
          },
          "showarrow": false,
          "text": "Session: legislation_corporate_2",
          "x": 0.5,
          "xanchor": "center",
          "xref": "paper",
          "y": 1,
          "yanchor": "bottom",
          "yref": "paper"
         }
        ],
        "height": 500,
        "legend": {
         "title": {
          "font": {
           "color": "rgba(0, 0, 0, 0)"
          }
         }
        },
        "plot_bgcolor": "white",
        "showlegend": true,
        "template": {
         "data": {
          "bar": [
           {
            "error_x": {
             "color": "#2a3f5f"
            },
            "error_y": {
             "color": "#2a3f5f"
            },
            "marker": {
             "line": {
              "color": "#E5ECF6",
              "width": 0.5
             },
             "pattern": {
              "fillmode": "overlay",
              "size": 10,
              "solidity": 0.2
             }
            },
            "type": "bar"
           }
          ],
          "barpolar": [
           {
            "marker": {
             "line": {
              "color": "#E5ECF6",
              "width": 0.5
             },
             "pattern": {
              "fillmode": "overlay",
              "size": 10,
              "solidity": 0.2
             }
            },
            "type": "barpolar"
           }
          ],
          "carpet": [
           {
            "aaxis": {
             "endlinecolor": "#2a3f5f",
             "gridcolor": "white",
             "linecolor": "white",
             "minorgridcolor": "white",
             "startlinecolor": "#2a3f5f"
            },
            "baxis": {
             "endlinecolor": "#2a3f5f",
             "gridcolor": "white",
             "linecolor": "white",
             "minorgridcolor": "white",
             "startlinecolor": "#2a3f5f"
            },
            "type": "carpet"
           }
          ],
          "choropleth": [
           {
            "colorbar": {
             "outlinewidth": 0,
             "ticks": ""
            },
            "type": "choropleth"
           }
          ],
          "contour": [
           {
            "colorbar": {
             "outlinewidth": 0,
             "ticks": ""
            },
            "colorscale": [
             [
              0,
              "#0d0887"
             ],
             [
              0.1111111111111111,
              "#46039f"
             ],
             [
              0.2222222222222222,
              "#7201a8"
             ],
             [
              0.3333333333333333,
              "#9c179e"
             ],
             [
              0.4444444444444444,
              "#bd3786"
             ],
             [
              0.5555555555555556,
              "#d8576b"
             ],
             [
              0.6666666666666666,
              "#ed7953"
             ],
             [
              0.7777777777777778,
              "#fb9f3a"
             ],
             [
              0.8888888888888888,
              "#fdca26"
             ],
             [
              1,
              "#f0f921"
             ]
            ],
            "type": "contour"
           }
          ],
          "contourcarpet": [
           {
            "colorbar": {
             "outlinewidth": 0,
             "ticks": ""
            },
            "type": "contourcarpet"
           }
          ],
          "heatmap": [
           {
            "colorbar": {
             "outlinewidth": 0,
             "ticks": ""
            },
            "colorscale": [
             [
              0,
              "#0d0887"
             ],
             [
              0.1111111111111111,
              "#46039f"
             ],
             [
              0.2222222222222222,
              "#7201a8"
             ],
             [
              0.3333333333333333,
              "#9c179e"
             ],
             [
              0.4444444444444444,
              "#bd3786"
             ],
             [
              0.5555555555555556,
              "#d8576b"
             ],
             [
              0.6666666666666666,
              "#ed7953"
             ],
             [
              0.7777777777777778,
              "#fb9f3a"
             ],
             [
              0.8888888888888888,
              "#fdca26"
             ],
             [
              1,
              "#f0f921"
             ]
            ],
            "type": "heatmap"
           }
          ],
          "histogram": [
           {
            "marker": {
             "pattern": {
              "fillmode": "overlay",
              "size": 10,
              "solidity": 0.2
             }
            },
            "type": "histogram"
           }
          ],
          "histogram2d": [
           {
            "colorbar": {
             "outlinewidth": 0,
             "ticks": ""
            },
            "colorscale": [
             [
              0,
              "#0d0887"
             ],
             [
              0.1111111111111111,
              "#46039f"
             ],
             [
              0.2222222222222222,
              "#7201a8"
             ],
             [
              0.3333333333333333,
              "#9c179e"
             ],
             [
              0.4444444444444444,
              "#bd3786"
             ],
             [
              0.5555555555555556,
              "#d8576b"
             ],
             [
              0.6666666666666666,
              "#ed7953"
             ],
             [
              0.7777777777777778,
              "#fb9f3a"
             ],
             [
              0.8888888888888888,
              "#fdca26"
             ],
             [
              1,
              "#f0f921"
             ]
            ],
            "type": "histogram2d"
           }
          ],
          "histogram2dcontour": [
           {
            "colorbar": {
             "outlinewidth": 0,
             "ticks": ""
            },
            "colorscale": [
             [
              0,
              "#0d0887"
             ],
             [
              0.1111111111111111,
              "#46039f"
             ],
             [
              0.2222222222222222,
              "#7201a8"
             ],
             [
              0.3333333333333333,
              "#9c179e"
             ],
             [
              0.4444444444444444,
              "#bd3786"
             ],
             [
              0.5555555555555556,
              "#d8576b"
             ],
             [
              0.6666666666666666,
              "#ed7953"
             ],
             [
              0.7777777777777778,
              "#fb9f3a"
             ],
             [
              0.8888888888888888,
              "#fdca26"
             ],
             [
              1,
              "#f0f921"
             ]
            ],
            "type": "histogram2dcontour"
           }
          ],
          "mesh3d": [
           {
            "colorbar": {
             "outlinewidth": 0,
             "ticks": ""
            },
            "type": "mesh3d"
           }
          ],
          "parcoords": [
           {
            "line": {
             "colorbar": {
              "outlinewidth": 0,
              "ticks": ""
             }
            },
            "type": "parcoords"
           }
          ],
          "pie": [
           {
            "automargin": true,
            "type": "pie"
           }
          ],
          "scatter": [
           {
            "fillpattern": {
             "fillmode": "overlay",
             "size": 10,
             "solidity": 0.2
            },
            "type": "scatter"
           }
          ],
          "scatter3d": [
           {
            "line": {
             "colorbar": {
              "outlinewidth": 0,
              "ticks": ""
             }
            },
            "marker": {
             "colorbar": {
              "outlinewidth": 0,
              "ticks": ""
             }
            },
            "type": "scatter3d"
           }
          ],
          "scattercarpet": [
           {
            "marker": {
             "colorbar": {
              "outlinewidth": 0,
              "ticks": ""
             }
            },
            "type": "scattercarpet"
           }
          ],
          "scattergeo": [
           {
            "marker": {
             "colorbar": {
              "outlinewidth": 0,
              "ticks": ""
             }
            },
            "type": "scattergeo"
           }
          ],
          "scattergl": [
           {
            "marker": {
             "colorbar": {
              "outlinewidth": 0,
              "ticks": ""
             }
            },
            "type": "scattergl"
           }
          ],
          "scattermap": [
           {
            "marker": {
             "colorbar": {
              "outlinewidth": 0,
              "ticks": ""
             }
            },
            "type": "scattermap"
           }
          ],
          "scattermapbox": [
           {
            "marker": {
             "colorbar": {
              "outlinewidth": 0,
              "ticks": ""
             }
            },
            "type": "scattermapbox"
           }
          ],
          "scatterpolar": [
           {
            "marker": {
             "colorbar": {
              "outlinewidth": 0,
              "ticks": ""
             }
            },
            "type": "scatterpolar"
           }
          ],
          "scatterpolargl": [
           {
            "marker": {
             "colorbar": {
              "outlinewidth": 0,
              "ticks": ""
             }
            },
            "type": "scatterpolargl"
           }
          ],
          "scatterternary": [
           {
            "marker": {
             "colorbar": {
              "outlinewidth": 0,
              "ticks": ""
             }
            },
            "type": "scatterternary"
           }
          ],
          "surface": [
           {
            "colorbar": {
             "outlinewidth": 0,
             "ticks": ""
            },
            "colorscale": [
             [
              0,
              "#0d0887"
             ],
             [
              0.1111111111111111,
              "#46039f"
             ],
             [
              0.2222222222222222,
              "#7201a8"
             ],
             [
              0.3333333333333333,
              "#9c179e"
             ],
             [
              0.4444444444444444,
              "#bd3786"
             ],
             [
              0.5555555555555556,
              "#d8576b"
             ],
             [
              0.6666666666666666,
              "#ed7953"
             ],
             [
              0.7777777777777778,
              "#fb9f3a"
             ],
             [
              0.8888888888888888,
              "#fdca26"
             ],
             [
              1,
              "#f0f921"
             ]
            ],
            "type": "surface"
           }
          ],
          "table": [
           {
            "cells": {
             "fill": {
              "color": "#EBF0F8"
             },
             "line": {
              "color": "white"
             }
            },
            "header": {
             "fill": {
              "color": "#C8D4E3"
             },
             "line": {
              "color": "white"
             }
            },
            "type": "table"
           }
          ]
         },
         "layout": {
          "annotationdefaults": {
           "arrowcolor": "#2a3f5f",
           "arrowhead": 0,
           "arrowwidth": 1
          },
          "autotypenumbers": "strict",
          "coloraxis": {
           "colorbar": {
            "outlinewidth": 0,
            "ticks": ""
           }
          },
          "colorscale": {
           "diverging": [
            [
             0,
             "#8e0152"
            ],
            [
             0.1,
             "#c51b7d"
            ],
            [
             0.2,
             "#de77ae"
            ],
            [
             0.3,
             "#f1b6da"
            ],
            [
             0.4,
             "#fde0ef"
            ],
            [
             0.5,
             "#f7f7f7"
            ],
            [
             0.6,
             "#e6f5d0"
            ],
            [
             0.7,
             "#b8e186"
            ],
            [
             0.8,
             "#7fbc41"
            ],
            [
             0.9,
             "#4d9221"
            ],
            [
             1,
             "#276419"
            ]
           ],
           "sequential": [
            [
             0,
             "#0d0887"
            ],
            [
             0.1111111111111111,
             "#46039f"
            ],
            [
             0.2222222222222222,
             "#7201a8"
            ],
            [
             0.3333333333333333,
             "#9c179e"
            ],
            [
             0.4444444444444444,
             "#bd3786"
            ],
            [
             0.5555555555555556,
             "#d8576b"
            ],
            [
             0.6666666666666666,
             "#ed7953"
            ],
            [
             0.7777777777777778,
             "#fb9f3a"
            ],
            [
             0.8888888888888888,
             "#fdca26"
            ],
            [
             1,
             "#f0f921"
            ]
           ],
           "sequentialminus": [
            [
             0,
             "#0d0887"
            ],
            [
             0.1111111111111111,
             "#46039f"
            ],
            [
             0.2222222222222222,
             "#7201a8"
            ],
            [
             0.3333333333333333,
             "#9c179e"
            ],
            [
             0.4444444444444444,
             "#bd3786"
            ],
            [
             0.5555555555555556,
             "#d8576b"
            ],
            [
             0.6666666666666666,
             "#ed7953"
            ],
            [
             0.7777777777777778,
             "#fb9f3a"
            ],
            [
             0.8888888888888888,
             "#fdca26"
            ],
            [
             1,
             "#f0f921"
            ]
           ]
          },
          "colorway": [
           "#636efa",
           "#EF553B",
           "#00cc96",
           "#ab63fa",
           "#FFA15A",
           "#19d3f3",
           "#FF6692",
           "#B6E880",
           "#FF97FF",
           "#FECB52"
          ],
          "font": {
           "color": "#2a3f5f"
          },
          "geo": {
           "bgcolor": "white",
           "lakecolor": "white",
           "landcolor": "#E5ECF6",
           "showlakes": true,
           "showland": true,
           "subunitcolor": "white"
          },
          "hoverlabel": {
           "align": "left"
          },
          "hovermode": "closest",
          "mapbox": {
           "style": "light"
          },
          "paper_bgcolor": "white",
          "plot_bgcolor": "#E5ECF6",
          "polar": {
           "angularaxis": {
            "gridcolor": "white",
            "linecolor": "white",
            "ticks": ""
           },
           "bgcolor": "#E5ECF6",
           "radialaxis": {
            "gridcolor": "white",
            "linecolor": "white",
            "ticks": ""
           }
          },
          "scene": {
           "xaxis": {
            "backgroundcolor": "#E5ECF6",
            "gridcolor": "white",
            "gridwidth": 2,
            "linecolor": "white",
            "showbackground": true,
            "ticks": "",
            "zerolinecolor": "white"
           },
           "yaxis": {
            "backgroundcolor": "#E5ECF6",
            "gridcolor": "white",
            "gridwidth": 2,
            "linecolor": "white",
            "showbackground": true,
            "ticks": "",
            "zerolinecolor": "white"
           },
           "zaxis": {
            "backgroundcolor": "#E5ECF6",
            "gridcolor": "white",
            "gridwidth": 2,
            "linecolor": "white",
            "showbackground": true,
            "ticks": "",
            "zerolinecolor": "white"
           }
          },
          "shapedefaults": {
           "line": {
            "color": "#2a3f5f"
           }
          },
          "ternary": {
           "aaxis": {
            "gridcolor": "white",
            "linecolor": "white",
            "ticks": ""
           },
           "baxis": {
            "gridcolor": "white",
            "linecolor": "white",
            "ticks": ""
           },
           "bgcolor": "#E5ECF6",
           "caxis": {
            "gridcolor": "white",
            "linecolor": "white",
            "ticks": ""
           }
          },
          "title": {
           "x": 0.05
          },
          "xaxis": {
           "automargin": true,
           "gridcolor": "white",
           "linecolor": "white",
           "ticks": "",
           "title": {
            "standoff": 15
           },
           "zerolinecolor": "white",
           "zerolinewidth": 2
          },
          "yaxis": {
           "automargin": true,
           "gridcolor": "white",
           "linecolor": "white",
           "ticks": "",
           "title": {
            "standoff": 15
           },
           "zerolinecolor": "white",
           "zerolinewidth": 2
          }
         }
        },
        "title": {
         "text": "Semantic Expansion over Writing Sessions<br><span style=\"font-size: 12px;\">*Measuring how well humans are learning while writing with GenAI</span>"
        },
        "width": 1800,
        "xaxis": {
         "anchor": "y",
         "domain": [
          0,
          1
         ],
         "gridcolor": "white",
         "linecolor": "black",
         "mirror": false,
         "range": [
          -1,
          58
         ],
         "showline": true,
         "ticks": "outside",
         "title": {
          "text": "Progress into the writing session"
         }
        },
        "yaxis": {
         "anchor": "x",
         "domain": [
          0,
          1
         ],
         "gridcolor": "white",
         "linecolor": "black",
         "mirror": false,
         "showline": true,
         "ticks": "outside",
         "title": {
          "text": "Scores"
         }
        }
       }
      }
     },
     "metadata": {},
     "output_type": "display_data"
    },
    {
     "name": "stdout",
     "output_type": "stream",
     "text": [
      "legislation_corporate_3\n"
     ]
    },
    {
     "data": {
      "application/vnd.plotly.v1+json": {
       "config": {
        "plotlyServerURL": "https://plot.ly"
       },
       "data": [
        {
         "hovertemplate": "x=%{x}<br>y=%{y}<extra></extra>",
         "line": {
          "color": "#64B5F6",
          "width": 3
         },
         "marker": {
          "color": "#64B5F6",
          "size": 7
         },
         "mode": "lines+markers",
         "showlegend": false,
         "type": "scatter",
         "x": [
          55,
          56
         ],
         "xaxis": "x",
         "y": [
          10.521749353408813,
          10.773170447349548
         ],
         "yaxis": "y"
        },
        {
         "hovertemplate": "x=%{x}<br>y=%{y}<extra></extra>",
         "line": {
          "color": "#64B5F6",
          "width": 3
         },
         "marker": {
          "color": "#64B5F6",
          "size": 7
         },
         "mode": "lines+markers",
         "showlegend": false,
         "type": "scatter",
         "x": [
          43,
          44
         ],
         "xaxis": "x",
         "y": [
          7.070978879928589,
          7.778958082199097
         ],
         "yaxis": "y"
        },
        {
         "hovertemplate": "x=%{x}<br>y=%{y}<extra></extra>",
         "line": {
          "color": "#64B5F6",
          "width": 3
         },
         "marker": {
          "color": "#64B5F6",
          "size": 7
         },
         "mode": "lines+markers",
         "showlegend": false,
         "type": "scatter",
         "x": [
          38,
          39
         ],
         "xaxis": "x",
         "y": [
          6.794627785682678,
          7.145213484764099
         ],
         "yaxis": "y"
        },
        {
         "hovertemplate": "x=%{x}<br>y=%{y}<extra></extra>",
         "line": {
          "color": "#64B5F6",
          "width": 3
         },
         "marker": {
          "color": "#64B5F6",
          "size": 7
         },
         "mode": "lines+markers",
         "showlegend": false,
         "type": "scatter",
         "x": [
          31,
          32
         ],
         "xaxis": "x",
         "y": [
          6.918320369720459,
          7.215571475028992
         ],
         "yaxis": "y"
        },
        {
         "hovertemplate": "x=%{x}<br>y=%{y}<extra></extra>",
         "line": {
          "color": "#64B5F6",
          "width": 3
         },
         "marker": {
          "color": "#64B5F6",
          "size": 7
         },
         "mode": "lines+markers",
         "showlegend": false,
         "type": "scatter",
         "x": [
          25,
          26
         ],
         "xaxis": "x",
         "y": [
          5.360933840274811,
          3.687796652317047
         ],
         "yaxis": "y"
        },
        {
         "hovertemplate": "x=%{x}<br>y=%{y}<extra></extra>",
         "line": {
          "color": "#64B5F6",
          "width": 3
         },
         "marker": {
          "color": "#64B5F6",
          "size": 7
         },
         "mode": "lines+markers",
         "showlegend": false,
         "type": "scatter",
         "x": [
          14,
          15
         ],
         "xaxis": "x",
         "y": [
          1.5798320174217224,
          2.4060184955596924
         ],
         "yaxis": "y"
        },
        {
         "hovertemplate": "x=%{x}<br>y=%{y}<extra></extra>",
         "line": {
          "color": "#64B5F6",
          "width": 3
         },
         "marker": {
          "color": "#64B5F6",
          "size": 7
         },
         "mode": "lines+markers",
         "showlegend": false,
         "type": "scatter",
         "x": [
          11,
          12
         ],
         "xaxis": "x",
         "y": [
          1.2903116345405579,
          1.5301942825317383
         ],
         "yaxis": "y"
        },
        {
         "hovertemplate": "x=%{x}<br>y=%{y}<extra></extra>",
         "line": {
          "color": "#64B5F6",
          "width": 3
         },
         "marker": {
          "color": "#64B5F6",
          "size": 7
         },
         "mode": "lines+markers",
         "showlegend": false,
         "type": "scatter",
         "x": [
          0,
          1
         ],
         "xaxis": "x",
         "y": [
          0,
          0.25069308280944824
         ],
         "yaxis": "y"
        },
        {
         "hovertemplate": "x=%{x}<br>y=%{y}<extra></extra>",
         "line": {
          "color": "#ff8fab",
          "width": 3
         },
         "marker": {
          "color": "#ff8fab",
          "size": 7
         },
         "mode": "lines+markers",
         "showlegend": false,
         "type": "scatter",
         "x": [
          72,
          73
         ],
         "xaxis": "x",
         "y": [
          16.409893202781678,
          16.834449124336246
         ],
         "yaxis": "y"
        },
        {
         "hovertemplate": "x=%{x}<br>y=%{y}<extra></extra>",
         "line": {
          "color": "#ff8fab",
          "width": 3
         },
         "marker": {
          "color": "#ff8fab",
          "size": 7
         },
         "mode": "lines+markers",
         "showlegend": false,
         "type": "scatter",
         "x": [
          71,
          72
         ],
         "xaxis": "x",
         "y": [
          15.929485976696014,
          16.409893202781678
         ],
         "yaxis": "y"
        },
        {
         "hovertemplate": "x=%{x}<br>y=%{y}<extra></extra>",
         "line": {
          "color": "#ff8fab",
          "width": 3
         },
         "marker": {
          "color": "#ff8fab",
          "size": 7
         },
         "mode": "lines+markers",
         "showlegend": false,
         "type": "scatter",
         "x": [
          65,
          66
         ],
         "xaxis": "x",
         "y": [
          13.61912226676941,
          13.998035907745361
         ],
         "yaxis": "y"
        },
        {
         "hovertemplate": "x=%{x}<br>y=%{y}<extra></extra>",
         "line": {
          "color": "#ff8fab",
          "width": 3
         },
         "marker": {
          "color": "#ff8fab",
          "size": 7
         },
         "mode": "lines+markers",
         "showlegend": false,
         "type": "scatter",
         "x": [
          56,
          57
         ],
         "xaxis": "x",
         "y": [
          10.773170447349548,
          11.084483790397645
         ],
         "yaxis": "y"
        },
        {
         "hovertemplate": "x=%{x}<br>y=%{y}<extra></extra>",
         "line": {
          "color": "#ff8fab",
          "width": 3
         },
         "marker": {
          "color": "#ff8fab",
          "size": 7
         },
         "mode": "lines+markers",
         "showlegend": false,
         "type": "scatter",
         "x": [
          54,
          55
         ],
         "xaxis": "x",
         "y": [
          10.090123116970062,
          10.521749353408813
         ],
         "yaxis": "y"
        },
        {
         "hovertemplate": "x=%{x}<br>y=%{y}<extra></extra>",
         "line": {
          "color": "#ff8fab",
          "width": 3
         },
         "marker": {
          "color": "#ff8fab",
          "size": 7
         },
         "mode": "lines+markers",
         "showlegend": false,
         "type": "scatter",
         "x": [
          51,
          52
         ],
         "xaxis": "x",
         "y": [
          8.807971119880676,
          9.244319641590119
         ],
         "yaxis": "y"
        },
        {
         "hovertemplate": "x=%{x}<br>y=%{y}<extra></extra>",
         "line": {
          "color": "#ff8fab",
          "width": 3
         },
         "marker": {
          "color": "#ff8fab",
          "size": 7
         },
         "mode": "lines+markers",
         "showlegend": false,
         "type": "scatter",
         "x": [
          47,
          48
         ],
         "xaxis": "x",
         "y": [
          7.58329051733017,
          8.053240823745728
         ],
         "yaxis": "y"
        },
        {
         "hovertemplate": "x=%{x}<br>y=%{y}<extra></extra>",
         "line": {
          "color": "#ff8fab",
          "width": 3
         },
         "marker": {
          "color": "#ff8fab",
          "size": 7
         },
         "mode": "lines+markers",
         "showlegend": false,
         "type": "scatter",
         "x": [
          44,
          45
         ],
         "xaxis": "x",
         "y": [
          7.778958082199097,
          8.453849160671234
         ],
         "yaxis": "y"
        },
        {
         "hovertemplate": "x=%{x}<br>y=%{y}<extra></extra>",
         "line": {
          "color": "#ff8fab",
          "width": 3
         },
         "marker": {
          "color": "#ff8fab",
          "size": 7
         },
         "mode": "lines+markers",
         "showlegend": false,
         "type": "scatter",
         "x": [
          40,
          41
         ],
         "xaxis": "x",
         "y": [
          7.100167453289032,
          7.459607791900635
         ],
         "yaxis": "y"
        },
        {
         "hovertemplate": "x=%{x}<br>y=%{y}<extra></extra>",
         "line": {
          "color": "#ff8fab",
          "width": 3
         },
         "marker": {
          "color": "#ff8fab",
          "size": 7
         },
         "mode": "lines+markers",
         "showlegend": false,
         "type": "scatter",
         "x": [
          36,
          37
         ],
         "xaxis": "x",
         "y": [
          7.439619719982147,
          7.856312167644501
         ],
         "yaxis": "y"
        },
        {
         "hovertemplate": "x=%{x}<br>y=%{y}<extra></extra>",
         "line": {
          "color": "#ff8fab",
          "width": 3
         },
         "marker": {
          "color": "#ff8fab",
          "size": 7
         },
         "mode": "lines+markers",
         "showlegend": false,
         "type": "scatter",
         "x": [
          34,
          35
         ],
         "xaxis": "x",
         "y": [
          6.8633323311805725,
          7.349706101417541
         ],
         "yaxis": "y"
        },
        {
         "hovertemplate": "x=%{x}<br>y=%{y}<extra></extra>",
         "line": {
          "color": "#ff8fab",
          "width": 3
         },
         "marker": {
          "color": "#ff8fab",
          "size": 7
         },
         "mode": "lines+markers",
         "showlegend": false,
         "type": "scatter",
         "x": [
          32,
          33
         ],
         "xaxis": "x",
         "y": [
          7.215571475028992,
          7.530081009864807
         ],
         "yaxis": "y"
        },
        {
         "hovertemplate": "x=%{x}<br>y=%{y}<extra></extra>",
         "line": {
          "color": "#ff8fab",
          "width": 3
         },
         "marker": {
          "color": "#ff8fab",
          "size": 7
         },
         "mode": "lines+markers",
         "showlegend": false,
         "type": "scatter",
         "x": [
          30,
          31
         ],
         "xaxis": "x",
         "y": [
          6.538731932640076,
          6.918320369720459
         ],
         "yaxis": "y"
        },
        {
         "hovertemplate": "x=%{x}<br>y=%{y}<extra></extra>",
         "line": {
          "color": "#ff8fab",
          "width": 3
         },
         "marker": {
          "color": "#ff8fab",
          "size": 7
         },
         "mode": "lines+markers",
         "showlegend": false,
         "type": "scatter",
         "x": [
          26,
          27
         ],
         "xaxis": "x",
         "y": [
          3.687796652317047,
          4.194531869888306
         ],
         "yaxis": "y"
        },
        {
         "hovertemplate": "x=%{x}<br>y=%{y}<extra></extra>",
         "line": {
          "color": "#ff8fab",
          "width": 3
         },
         "marker": {
          "color": "#ff8fab",
          "size": 7
         },
         "mode": "lines+markers",
         "showlegend": false,
         "type": "scatter",
         "x": [
          22,
          23
         ],
         "xaxis": "x",
         "y": [
          5.042564868927002,
          5.529638123512268
         ],
         "yaxis": "y"
        },
        {
         "hovertemplate": "x=%{x}<br>y=%{y}<extra></extra>",
         "line": {
          "color": "#ff8fab",
          "width": 3
         },
         "marker": {
          "color": "#ff8fab",
          "size": 7
         },
         "mode": "lines+markers",
         "showlegend": false,
         "type": "scatter",
         "x": [
          19,
          20
         ],
         "xaxis": "x",
         "y": [
          4.055253088474274,
          4.57669061422348
         ],
         "yaxis": "y"
        },
        {
         "hovertemplate": "x=%{x}<br>y=%{y}<extra></extra>",
         "line": {
          "color": "#ff8fab",
          "width": 3
         },
         "marker": {
          "color": "#ff8fab",
          "size": 7
         },
         "mode": "lines+markers",
         "showlegend": false,
         "type": "scatter",
         "x": [
          15,
          16
         ],
         "xaxis": "x",
         "y": [
          2.4060184955596924,
          2.7843673825263977
         ],
         "yaxis": "y"
        },
        {
         "hovertemplate": "x=%{x}<br>y=%{y}<extra></extra>",
         "line": {
          "color": "#ff8fab",
          "width": 3
         },
         "marker": {
          "color": "#ff8fab",
          "size": 7
         },
         "mode": "lines+markers",
         "showlegend": false,
         "type": "scatter",
         "x": [
          12,
          13
         ],
         "xaxis": "x",
         "y": [
          1.5301942825317383,
          1.7959094285964965
         ],
         "yaxis": "y"
        },
        {
         "hovertemplate": "x=%{x}<br>y=%{y}<extra></extra>",
         "line": {
          "color": "#ff8fab",
          "width": 3
         },
         "marker": {
          "color": "#ff8fab",
          "size": 7
         },
         "mode": "lines+markers",
         "showlegend": false,
         "type": "scatter",
         "x": [
          8,
          9
         ],
         "xaxis": "x",
         "y": [
          1.1424828171730042,
          1.4956966519355774
         ],
         "yaxis": "y"
        },
        {
         "hovertemplate": "x=%{x}<br>y=%{y}<extra></extra>",
         "line": {
          "color": "#ff8fab",
          "width": 3
         },
         "marker": {
          "color": "#ff8fab",
          "size": 7
         },
         "mode": "lines+markers",
         "showlegend": false,
         "type": "scatter",
         "x": [
          4,
          5
         ],
         "xaxis": "x",
         "y": [
          0.2879375219345093,
          0.6369457006454468
         ],
         "yaxis": "y"
        },
        {
         "hovertemplate": "x=%{x}<br>y=%{y}<extra></extra>",
         "line": {
          "color": "#ff8fab",
          "width": 3
         },
         "marker": {
          "color": "#ff8fab",
          "size": 7
         },
         "mode": "lines+markers",
         "showlegend": false,
         "type": "scatter",
         "x": [
          1,
          2
         ],
         "xaxis": "x",
         "y": [
          0.25069308280944824,
          0.5851143836975098
         ],
         "yaxis": "y"
        },
        {
         "hovertemplate": "x=%{x}<br>y=%{y}<extra></extra>",
         "line": {
          "color": "#023e8a",
          "width": 3
         },
         "marker": {
          "color": "#023e8a",
          "size": 7
         },
         "mode": "lines+markers",
         "showlegend": false,
         "type": "scatter",
         "x": [
          70,
          71
         ],
         "xaxis": "x",
         "y": [
          15.615236103534698,
          15.929485976696014
         ],
         "yaxis": "y"
        },
        {
         "hovertemplate": "x=%{x}<br>y=%{y}<extra></extra>",
         "line": {
          "color": "#023e8a",
          "width": 3
         },
         "marker": {
          "color": "#023e8a",
          "size": 7
         },
         "mode": "lines+markers",
         "showlegend": false,
         "type": "scatter",
         "x": [
          69,
          70
         ],
         "xaxis": "x",
         "y": [
          15.282530844211578,
          15.615236103534698
         ],
         "yaxis": "y"
        },
        {
         "hovertemplate": "x=%{x}<br>y=%{y}<extra></extra>",
         "line": {
          "color": "#023e8a",
          "width": 3
         },
         "marker": {
          "color": "#023e8a",
          "size": 7
         },
         "mode": "lines+markers",
         "showlegend": false,
         "type": "scatter",
         "x": [
          68,
          69
         ],
         "xaxis": "x",
         "y": [
          14.45401531457901,
          15.282530844211578
         ],
         "yaxis": "y"
        },
        {
         "hovertemplate": "x=%{x}<br>y=%{y}<extra></extra>",
         "line": {
          "color": "#023e8a",
          "width": 3
         },
         "marker": {
          "color": "#023e8a",
          "size": 7
         },
         "mode": "lines+markers",
         "showlegend": false,
         "type": "scatter",
         "x": [
          67,
          68
         ],
         "xaxis": "x",
         "y": [
          14.061094582080841,
          14.45401531457901
         ],
         "yaxis": "y"
        },
        {
         "hovertemplate": "x=%{x}<br>y=%{y}<extra></extra>",
         "line": {
          "color": "#023e8a",
          "width": 3
         },
         "marker": {
          "color": "#023e8a",
          "size": 7
         },
         "mode": "lines+markers",
         "showlegend": false,
         "type": "scatter",
         "x": [
          64,
          65
         ],
         "xaxis": "x",
         "y": [
          12.839658319950104,
          13.61912226676941
         ],
         "yaxis": "y"
        },
        {
         "hovertemplate": "x=%{x}<br>y=%{y}<extra></extra>",
         "line": {
          "color": "#023e8a",
          "width": 3
         },
         "marker": {
          "color": "#023e8a",
          "size": 7
         },
         "mode": "lines+markers",
         "showlegend": false,
         "type": "scatter",
         "x": [
          63,
          64
         ],
         "xaxis": "x",
         "y": [
          12.221763551235199,
          12.839658319950104
         ],
         "yaxis": "y"
        },
        {
         "hovertemplate": "x=%{x}<br>y=%{y}<extra></extra>",
         "line": {
          "color": "#023e8a",
          "width": 3
         },
         "marker": {
          "color": "#023e8a",
          "size": 7
         },
         "mode": "lines+markers",
         "showlegend": false,
         "type": "scatter",
         "x": [
          62,
          63
         ],
         "xaxis": "x",
         "y": [
          11.922257244586945,
          12.221763551235199
         ],
         "yaxis": "y"
        },
        {
         "hovertemplate": "x=%{x}<br>y=%{y}<extra></extra>",
         "line": {
          "color": "#023e8a",
          "width": 3
         },
         "marker": {
          "color": "#023e8a",
          "size": 7
         },
         "mode": "lines+markers",
         "showlegend": false,
         "type": "scatter",
         "x": [
          61,
          62
         ],
         "xaxis": "x",
         "y": [
          11.643798828125,
          11.922257244586945
         ],
         "yaxis": "y"
        },
        {
         "hovertemplate": "x=%{x}<br>y=%{y}<extra></extra>",
         "line": {
          "color": "#023e8a",
          "width": 3
         },
         "marker": {
          "color": "#023e8a",
          "size": 7
         },
         "mode": "lines+markers",
         "showlegend": false,
         "type": "scatter",
         "x": [
          60,
          61
         ],
         "xaxis": "x",
         "y": [
          11.36107611656189,
          11.643798828125
         ],
         "yaxis": "y"
        },
        {
         "hovertemplate": "x=%{x}<br>y=%{y}<extra></extra>",
         "line": {
          "color": "#023e8a",
          "width": 3
         },
         "marker": {
          "color": "#023e8a",
          "size": 7
         },
         "mode": "lines+markers",
         "showlegend": false,
         "type": "scatter",
         "x": [
          59,
          60
         ],
         "xaxis": "x",
         "y": [
          10.897430837154388,
          11.36107611656189
         ],
         "yaxis": "y"
        },
        {
         "hovertemplate": "x=%{x}<br>y=%{y}<extra></extra>",
         "line": {
          "color": "#023e8a",
          "width": 3
         },
         "marker": {
          "color": "#023e8a",
          "size": 7
         },
         "mode": "lines+markers",
         "showlegend": false,
         "type": "scatter",
         "x": [
          58,
          59
         ],
         "xaxis": "x",
         "y": [
          10.59909039735794,
          10.897430837154388
         ],
         "yaxis": "y"
        },
        {
         "hovertemplate": "x=%{x}<br>y=%{y}<extra></extra>",
         "line": {
          "color": "#023e8a",
          "width": 3
         },
         "marker": {
          "color": "#023e8a",
          "size": 7
         },
         "mode": "lines+markers",
         "showlegend": false,
         "type": "scatter",
         "x": [
          57,
          58
         ],
         "xaxis": "x",
         "y": [
          10.090123116970062,
          10.59909039735794
         ],
         "yaxis": "y"
        },
        {
         "hovertemplate": "x=%{x}<br>y=%{y}<extra></extra>",
         "line": {
          "color": "#023e8a",
          "width": 3
         },
         "marker": {
          "color": "#023e8a",
          "size": 7
         },
         "mode": "lines+markers",
         "showlegend": false,
         "type": "scatter",
         "x": [
          53,
          54
         ],
         "xaxis": "x",
         "y": [
          9.610428154468536,
          10.090123116970062
         ],
         "yaxis": "y"
        },
        {
         "hovertemplate": "x=%{x}<br>y=%{y}<extra></extra>",
         "line": {
          "color": "#023e8a",
          "width": 3
         },
         "marker": {
          "color": "#023e8a",
          "size": 7
         },
         "mode": "lines+markers",
         "showlegend": false,
         "type": "scatter",
         "x": [
          50,
          51
         ],
         "xaxis": "x",
         "y": [
          8.338087856769562,
          8.807971119880676
         ],
         "yaxis": "y"
        },
        {
         "hovertemplate": "x=%{x}<br>y=%{y}<extra></extra>",
         "line": {
          "color": "#023e8a",
          "width": 3
         },
         "marker": {
          "color": "#023e8a",
          "size": 7
         },
         "mode": "lines+markers",
         "showlegend": false,
         "type": "scatter",
         "x": [
          49,
          50
         ],
         "xaxis": "x",
         "y": [
          8.053532004356384,
          8.338087856769562
         ],
         "yaxis": "y"
        },
        {
         "hovertemplate": "x=%{x}<br>y=%{y}<extra></extra>",
         "line": {
          "color": "#023e8a",
          "width": 3
         },
         "marker": {
          "color": "#023e8a",
          "size": 7
         },
         "mode": "lines+markers",
         "showlegend": false,
         "type": "scatter",
         "x": [
          46,
          47
         ],
         "xaxis": "x",
         "y": [
          7.172837793827057,
          7.58329051733017
         ],
         "yaxis": "y"
        },
        {
         "hovertemplate": "x=%{x}<br>y=%{y}<extra></extra>",
         "line": {
          "color": "#023e8a",
          "width": 3
         },
         "marker": {
          "color": "#023e8a",
          "size": 7
         },
         "mode": "lines+markers",
         "showlegend": false,
         "type": "scatter",
         "x": [
          39,
          40
         ],
         "xaxis": "x",
         "y": [
          6.794627785682678,
          7.100167453289032
         ],
         "yaxis": "y"
        },
        {
         "hovertemplate": "x=%{x}<br>y=%{y}<extra></extra>",
         "line": {
          "color": "#023e8a",
          "width": 3
         },
         "marker": {
          "color": "#023e8a",
          "size": 7
         },
         "mode": "lines+markers",
         "showlegend": false,
         "type": "scatter",
         "x": [
          29,
          30
         ],
         "xaxis": "x",
         "y": [
          6.2283653020858765,
          6.538731932640076
         ],
         "yaxis": "y"
        },
        {
         "hovertemplate": "x=%{x}<br>y=%{y}<extra></extra>",
         "line": {
          "color": "#023e8a",
          "width": 3
         },
         "marker": {
          "color": "#023e8a",
          "size": 7
         },
         "mode": "lines+markers",
         "showlegend": false,
         "type": "scatter",
         "x": [
          28,
          29
         ],
         "xaxis": "x",
         "y": [
          5.746631383895874,
          6.2283653020858765
         ],
         "yaxis": "y"
        },
        {
         "hovertemplate": "x=%{x}<br>y=%{y}<extra></extra>",
         "line": {
          "color": "#023e8a",
          "width": 3
         },
         "marker": {
          "color": "#023e8a",
          "size": 7
         },
         "mode": "lines+markers",
         "showlegend": false,
         "type": "scatter",
         "x": [
          24,
          25
         ],
         "xaxis": "x",
         "y": [
          4.9549214243888855,
          5.360933840274811
         ],
         "yaxis": "y"
        },
        {
         "hovertemplate": "x=%{x}<br>y=%{y}<extra></extra>",
         "line": {
          "color": "#023e8a",
          "width": 3
         },
         "marker": {
          "color": "#023e8a",
          "size": 7
         },
         "mode": "lines+markers",
         "showlegend": false,
         "type": "scatter",
         "x": [
          21,
          22
         ],
         "xaxis": "x",
         "y": [
          4.54890900850296,
          5.042564868927002
         ],
         "yaxis": "y"
        },
        {
         "hovertemplate": "x=%{x}<br>y=%{y}<extra></extra>",
         "line": {
          "color": "#023e8a",
          "width": 3
         },
         "marker": {
          "color": "#023e8a",
          "size": 7
         },
         "mode": "lines+markers",
         "showlegend": false,
         "type": "scatter",
         "x": [
          18,
          19
         ],
         "xaxis": "x",
         "y": [
          3.475584924221039,
          4.055253088474274
         ],
         "yaxis": "y"
        },
        {
         "hovertemplate": "x=%{x}<br>y=%{y}<extra></extra>",
         "line": {
          "color": "#023e8a",
          "width": 3
         },
         "marker": {
          "color": "#023e8a",
          "size": 7
         },
         "mode": "lines+markers",
         "showlegend": false,
         "type": "scatter",
         "x": [
          17,
          18
         ],
         "xaxis": "x",
         "y": [
          2.6832240223884583,
          3.475584924221039
         ],
         "yaxis": "y"
        },
        {
         "hovertemplate": "x=%{x}<br>y=%{y}<extra></extra>",
         "line": {
          "color": "#023e8a",
          "width": 3
         },
         "marker": {
          "color": "#023e8a",
          "size": 7
         },
         "mode": "lines+markers",
         "showlegend": false,
         "type": "scatter",
         "x": [
          10,
          11
         ],
         "xaxis": "x",
         "y": [
          1.1321316957473755,
          1.2903116345405579
         ],
         "yaxis": "y"
        },
        {
         "hovertemplate": "x=%{x}<br>y=%{y}<extra></extra>",
         "line": {
          "color": "#023e8a",
          "width": 3
         },
         "marker": {
          "color": "#023e8a",
          "size": 7
         },
         "mode": "lines+markers",
         "showlegend": false,
         "type": "scatter",
         "x": [
          7,
          8
         ],
         "xaxis": "x",
         "y": [
          0.9739512801170349,
          1.1424828171730042
         ],
         "yaxis": "y"
        },
        {
         "hovertemplate": "x=%{x}<br>y=%{y}<extra></extra>",
         "line": {
          "color": "#023e8a",
          "width": 3
         },
         "marker": {
          "color": "#023e8a",
          "size": 7
         },
         "mode": "lines+markers",
         "showlegend": false,
         "type": "scatter",
         "x": [
          6,
          7
         ],
         "xaxis": "x",
         "y": [
          0.6963741779327393,
          0.9739512801170349
         ],
         "yaxis": "y"
        },
        {
         "hovertemplate": "x=%{x}<br>y=%{y}<extra></extra>",
         "line": {
          "color": "#023e8a",
          "width": 3
         },
         "marker": {
          "color": "#023e8a",
          "size": 7
         },
         "mode": "lines+markers",
         "showlegend": false,
         "type": "scatter",
         "x": [
          3,
          4
         ],
         "xaxis": "x",
         "y": [
          0,
          0.2879375219345093
         ],
         "yaxis": "y"
        },
        {
         "hovertemplate": "x=%{x}<br>y=%{y}<extra></extra>",
         "line": {
          "color": "#c1121f",
          "width": 3
         },
         "marker": {
          "color": "#c1121f",
          "size": 7
         },
         "mode": "lines+markers",
         "showlegend": false,
         "type": "scatter",
         "x": [
          73,
          74
         ],
         "xaxis": "x",
         "y": [
          15.929485976696014,
          16.49548238515854
         ],
         "yaxis": "y"
        },
        {
         "hovertemplate": "x=%{x}<br>y=%{y}<extra></extra>",
         "line": {
          "color": "#c1121f",
          "width": 3
         },
         "marker": {
          "color": "#c1121f",
          "size": 7
         },
         "mode": "lines+markers",
         "showlegend": false,
         "type": "scatter",
         "x": [
          66,
          67
         ],
         "xaxis": "x",
         "y": [
          13.61912226676941,
          14.061094582080841
         ],
         "yaxis": "y"
        },
        {
         "hovertemplate": "x=%{x}<br>y=%{y}<extra></extra>",
         "line": {
          "color": "#c1121f",
          "width": 3
         },
         "marker": {
          "color": "#c1121f",
          "size": 7
         },
         "mode": "lines+markers",
         "showlegend": false,
         "type": "scatter",
         "x": [
          52,
          53
         ],
         "xaxis": "x",
         "y": [
          8.807971119880676,
          9.610428154468536
         ],
         "yaxis": "y"
        },
        {
         "hovertemplate": "x=%{x}<br>y=%{y}<extra></extra>",
         "line": {
          "color": "#c1121f",
          "width": 3
         },
         "marker": {
          "color": "#c1121f",
          "size": 7
         },
         "mode": "lines+markers",
         "showlegend": false,
         "type": "scatter",
         "x": [
          48,
          49
         ],
         "xaxis": "x",
         "y": [
          7.58329051733017,
          8.053532004356384
         ],
         "yaxis": "y"
        },
        {
         "hovertemplate": "x=%{x}<br>y=%{y}<extra></extra>",
         "line": {
          "color": "#c1121f",
          "width": 3
         },
         "marker": {
          "color": "#c1121f",
          "size": 7
         },
         "mode": "lines+markers",
         "showlegend": false,
         "type": "scatter",
         "x": [
          41,
          42
         ],
         "xaxis": "x",
         "y": [
          7.100167453289032,
          7.4597970843315125
         ],
         "yaxis": "y"
        },
        {
         "hovertemplate": "x=%{x}<br>y=%{y}<extra></extra>",
         "line": {
          "color": "#c1121f",
          "width": 3
         },
         "marker": {
          "color": "#c1121f",
          "size": 7
         },
         "mode": "lines+markers",
         "showlegend": false,
         "type": "scatter",
         "x": [
          35,
          36
         ],
         "xaxis": "x",
         "y": [
          6.8633323311805725,
          7.439619719982147
         ],
         "yaxis": "y"
        },
        {
         "hovertemplate": "x=%{x}<br>y=%{y}<extra></extra>",
         "line": {
          "color": "#c1121f",
          "width": 3
         },
         "marker": {
          "color": "#c1121f",
          "size": 7
         },
         "mode": "lines+markers",
         "showlegend": false,
         "type": "scatter",
         "x": [
          33,
          34
         ],
         "xaxis": "x",
         "y": [
          6.538731932640076,
          6.8633323311805725
         ],
         "yaxis": "y"
        },
        {
         "hovertemplate": "x=%{x}<br>y=%{y}<extra></extra>",
         "line": {
          "color": "#c1121f",
          "width": 3
         },
         "marker": {
          "color": "#c1121f",
          "size": 7
         },
         "mode": "lines+markers",
         "showlegend": false,
         "type": "scatter",
         "x": [
          23,
          24
         ],
         "xaxis": "x",
         "y": [
          5.042564868927002,
          4.9549214243888855
         ],
         "yaxis": "y"
        },
        {
         "hovertemplate": "x=%{x}<br>y=%{y}<extra></extra>",
         "line": {
          "color": "#c1121f",
          "width": 3
         },
         "marker": {
          "color": "#c1121f",
          "size": 7
         },
         "mode": "lines+markers",
         "showlegend": false,
         "type": "scatter",
         "x": [
          20,
          21
         ],
         "xaxis": "x",
         "y": [
          4.055253088474274,
          4.54890900850296
         ],
         "yaxis": "y"
        },
        {
         "hovertemplate": "x=%{x}<br>y=%{y}<extra></extra>",
         "line": {
          "color": "#c1121f",
          "width": 3
         },
         "marker": {
          "color": "#c1121f",
          "size": 7
         },
         "mode": "lines+markers",
         "showlegend": false,
         "type": "scatter",
         "x": [
          16,
          17
         ],
         "xaxis": "x",
         "y": [
          1.5798320174217224,
          2.6832240223884583
         ],
         "yaxis": "y"
        },
        {
         "hovertemplate": "x=%{x}<br>y=%{y}<extra></extra>",
         "line": {
          "color": "#c1121f",
          "width": 3
         },
         "marker": {
          "color": "#c1121f",
          "size": 7
         },
         "mode": "lines+markers",
         "showlegend": false,
         "type": "scatter",
         "x": [
          13,
          14
         ],
         "xaxis": "x",
         "y": [
          1.2903116345405579,
          1.5798320174217224
         ],
         "yaxis": "y"
        },
        {
         "hovertemplate": "x=%{x}<br>y=%{y}<extra></extra>",
         "line": {
          "color": "#c1121f",
          "width": 3
         },
         "marker": {
          "color": "#c1121f",
          "size": 7
         },
         "mode": "lines+markers",
         "showlegend": false,
         "type": "scatter",
         "x": [
          9,
          10
         ],
         "xaxis": "x",
         "y": [
          1.1424828171730042,
          1.1321316957473755
         ],
         "yaxis": "y"
        },
        {
         "hovertemplate": "x=%{x}<br>y=%{y}<extra></extra>",
         "line": {
          "color": "#c1121f",
          "width": 3
         },
         "marker": {
          "color": "#c1121f",
          "size": 7
         },
         "mode": "lines+markers",
         "showlegend": false,
         "type": "scatter",
         "x": [
          5,
          6
         ],
         "xaxis": "x",
         "y": [
          0.2879375219345093,
          0.6963741779327393
         ],
         "yaxis": "y"
        },
        {
         "hovertemplate": "x=%{x}<br>y=%{y}<extra></extra>",
         "line": {
          "color": "#9d4edd",
          "width": 3
         },
         "marker": {
          "color": "#9d4edd",
          "size": 7
         },
         "mode": "lines+markers",
         "showlegend": false,
         "type": "scatter",
         "x": [
          45,
          46
         ],
         "xaxis": "x",
         "y": [
          7.070978879928589,
          7.172837793827057
         ],
         "yaxis": "y"
        },
        {
         "hovertemplate": "x=%{x}<br>y=%{y}<extra></extra>",
         "line": {
          "color": "#9d4edd",
          "width": 3
         },
         "marker": {
          "color": "#9d4edd",
          "size": 7
         },
         "mode": "lines+markers",
         "showlegend": false,
         "type": "scatter",
         "x": [
          42,
          43
         ],
         "xaxis": "x",
         "y": [
          7.4597970843315125,
          7.070978879928589
         ],
         "yaxis": "y"
        },
        {
         "hovertemplate": "x=%{x}<br>y=%{y}<extra></extra>",
         "line": {
          "color": "#9d4edd",
          "width": 3
         },
         "marker": {
          "color": "#9d4edd",
          "size": 7
         },
         "mode": "lines+markers",
         "showlegend": false,
         "type": "scatter",
         "x": [
          37,
          38
         ],
         "xaxis": "x",
         "y": [
          7.439619719982147,
          6.794627785682678
         ],
         "yaxis": "y"
        },
        {
         "hovertemplate": "x=%{x}<br>y=%{y}<extra></extra>",
         "line": {
          "color": "#9d4edd",
          "width": 3
         },
         "marker": {
          "color": "#9d4edd",
          "size": 7
         },
         "mode": "lines+markers",
         "showlegend": false,
         "type": "scatter",
         "x": [
          27,
          28
         ],
         "xaxis": "x",
         "y": [
          5.360933840274811,
          5.746631383895874
         ],
         "yaxis": "y"
        },
        {
         "hovertemplate": "x=%{x}<br>y=%{y}<extra></extra>",
         "line": {
          "color": "#9d4edd",
          "width": 3
         },
         "marker": {
          "color": "#9d4edd",
          "size": 7
         },
         "mode": "lines+markers",
         "showlegend": false,
         "type": "scatter",
         "x": [
          2,
          3
         ],
         "xaxis": "x",
         "y": [
          0,
          0
         ],
         "yaxis": "y"
        },
        {
         "line": {
          "color": "#64B5F6",
          "width": 2
         },
         "mode": "lines",
         "name": "human_insert_backstage",
         "showlegend": true,
         "type": "scatter",
         "x": [
          null
         ],
         "xaxis": "x",
         "y": [
          null
         ],
         "yaxis": "y"
        },
        {
         "line": {
          "color": "#ff8fab",
          "width": 2
         },
         "mode": "lines",
         "name": "ai_suggest_backstage",
         "showlegend": true,
         "type": "scatter",
         "x": [
          null
         ],
         "xaxis": "x",
         "y": [
          null
         ],
         "yaxis": "y"
        },
        {
         "line": {
          "color": "#023e8a",
          "width": 2
         },
         "mode": "lines",
         "name": "human_insert_frontstage",
         "showlegend": true,
         "type": "scatter",
         "x": [
          null
         ],
         "xaxis": "x",
         "y": [
          null
         ],
         "yaxis": "y"
        },
        {
         "line": {
          "color": "#c1121f",
          "width": 2
         },
         "mode": "lines",
         "name": "ai_insert_moved_to_frontstage",
         "showlegend": true,
         "type": "scatter",
         "x": [
          null
         ],
         "xaxis": "x",
         "y": [
          null
         ],
         "yaxis": "y"
        },
        {
         "line": {
          "color": "#9d4edd",
          "width": 2
         },
         "mode": "lines",
         "name": "human_delete_frontstage",
         "showlegend": true,
         "type": "scatter",
         "x": [
          null
         ],
         "xaxis": "x",
         "y": [
          null
         ],
         "yaxis": "y"
        },
        {
         "line": {
          "color": "#5a189a",
          "width": 2
         },
         "mode": "lines",
         "name": "human_insert_edit_frontstage",
         "showlegend": true,
         "type": "scatter",
         "x": [
          null
         ],
         "xaxis": "x",
         "y": [
          null
         ],
         "yaxis": "y"
        }
       ],
       "layout": {
        "annotations": [
         {
          "font": {
           "size": 16
          },
          "showarrow": false,
          "text": "Session: legislation_corporate_3",
          "x": 0.5,
          "xanchor": "center",
          "xref": "paper",
          "y": 1,
          "yanchor": "bottom",
          "yref": "paper"
         }
        ],
        "height": 500,
        "legend": {
         "title": {
          "font": {
           "color": "rgba(0, 0, 0, 0)"
          }
         }
        },
        "plot_bgcolor": "white",
        "showlegend": true,
        "template": {
         "data": {
          "bar": [
           {
            "error_x": {
             "color": "#2a3f5f"
            },
            "error_y": {
             "color": "#2a3f5f"
            },
            "marker": {
             "line": {
              "color": "#E5ECF6",
              "width": 0.5
             },
             "pattern": {
              "fillmode": "overlay",
              "size": 10,
              "solidity": 0.2
             }
            },
            "type": "bar"
           }
          ],
          "barpolar": [
           {
            "marker": {
             "line": {
              "color": "#E5ECF6",
              "width": 0.5
             },
             "pattern": {
              "fillmode": "overlay",
              "size": 10,
              "solidity": 0.2
             }
            },
            "type": "barpolar"
           }
          ],
          "carpet": [
           {
            "aaxis": {
             "endlinecolor": "#2a3f5f",
             "gridcolor": "white",
             "linecolor": "white",
             "minorgridcolor": "white",
             "startlinecolor": "#2a3f5f"
            },
            "baxis": {
             "endlinecolor": "#2a3f5f",
             "gridcolor": "white",
             "linecolor": "white",
             "minorgridcolor": "white",
             "startlinecolor": "#2a3f5f"
            },
            "type": "carpet"
           }
          ],
          "choropleth": [
           {
            "colorbar": {
             "outlinewidth": 0,
             "ticks": ""
            },
            "type": "choropleth"
           }
          ],
          "contour": [
           {
            "colorbar": {
             "outlinewidth": 0,
             "ticks": ""
            },
            "colorscale": [
             [
              0,
              "#0d0887"
             ],
             [
              0.1111111111111111,
              "#46039f"
             ],
             [
              0.2222222222222222,
              "#7201a8"
             ],
             [
              0.3333333333333333,
              "#9c179e"
             ],
             [
              0.4444444444444444,
              "#bd3786"
             ],
             [
              0.5555555555555556,
              "#d8576b"
             ],
             [
              0.6666666666666666,
              "#ed7953"
             ],
             [
              0.7777777777777778,
              "#fb9f3a"
             ],
             [
              0.8888888888888888,
              "#fdca26"
             ],
             [
              1,
              "#f0f921"
             ]
            ],
            "type": "contour"
           }
          ],
          "contourcarpet": [
           {
            "colorbar": {
             "outlinewidth": 0,
             "ticks": ""
            },
            "type": "contourcarpet"
           }
          ],
          "heatmap": [
           {
            "colorbar": {
             "outlinewidth": 0,
             "ticks": ""
            },
            "colorscale": [
             [
              0,
              "#0d0887"
             ],
             [
              0.1111111111111111,
              "#46039f"
             ],
             [
              0.2222222222222222,
              "#7201a8"
             ],
             [
              0.3333333333333333,
              "#9c179e"
             ],
             [
              0.4444444444444444,
              "#bd3786"
             ],
             [
              0.5555555555555556,
              "#d8576b"
             ],
             [
              0.6666666666666666,
              "#ed7953"
             ],
             [
              0.7777777777777778,
              "#fb9f3a"
             ],
             [
              0.8888888888888888,
              "#fdca26"
             ],
             [
              1,
              "#f0f921"
             ]
            ],
            "type": "heatmap"
           }
          ],
          "histogram": [
           {
            "marker": {
             "pattern": {
              "fillmode": "overlay",
              "size": 10,
              "solidity": 0.2
             }
            },
            "type": "histogram"
           }
          ],
          "histogram2d": [
           {
            "colorbar": {
             "outlinewidth": 0,
             "ticks": ""
            },
            "colorscale": [
             [
              0,
              "#0d0887"
             ],
             [
              0.1111111111111111,
              "#46039f"
             ],
             [
              0.2222222222222222,
              "#7201a8"
             ],
             [
              0.3333333333333333,
              "#9c179e"
             ],
             [
              0.4444444444444444,
              "#bd3786"
             ],
             [
              0.5555555555555556,
              "#d8576b"
             ],
             [
              0.6666666666666666,
              "#ed7953"
             ],
             [
              0.7777777777777778,
              "#fb9f3a"
             ],
             [
              0.8888888888888888,
              "#fdca26"
             ],
             [
              1,
              "#f0f921"
             ]
            ],
            "type": "histogram2d"
           }
          ],
          "histogram2dcontour": [
           {
            "colorbar": {
             "outlinewidth": 0,
             "ticks": ""
            },
            "colorscale": [
             [
              0,
              "#0d0887"
             ],
             [
              0.1111111111111111,
              "#46039f"
             ],
             [
              0.2222222222222222,
              "#7201a8"
             ],
             [
              0.3333333333333333,
              "#9c179e"
             ],
             [
              0.4444444444444444,
              "#bd3786"
             ],
             [
              0.5555555555555556,
              "#d8576b"
             ],
             [
              0.6666666666666666,
              "#ed7953"
             ],
             [
              0.7777777777777778,
              "#fb9f3a"
             ],
             [
              0.8888888888888888,
              "#fdca26"
             ],
             [
              1,
              "#f0f921"
             ]
            ],
            "type": "histogram2dcontour"
           }
          ],
          "mesh3d": [
           {
            "colorbar": {
             "outlinewidth": 0,
             "ticks": ""
            },
            "type": "mesh3d"
           }
          ],
          "parcoords": [
           {
            "line": {
             "colorbar": {
              "outlinewidth": 0,
              "ticks": ""
             }
            },
            "type": "parcoords"
           }
          ],
          "pie": [
           {
            "automargin": true,
            "type": "pie"
           }
          ],
          "scatter": [
           {
            "fillpattern": {
             "fillmode": "overlay",
             "size": 10,
             "solidity": 0.2
            },
            "type": "scatter"
           }
          ],
          "scatter3d": [
           {
            "line": {
             "colorbar": {
              "outlinewidth": 0,
              "ticks": ""
             }
            },
            "marker": {
             "colorbar": {
              "outlinewidth": 0,
              "ticks": ""
             }
            },
            "type": "scatter3d"
           }
          ],
          "scattercarpet": [
           {
            "marker": {
             "colorbar": {
              "outlinewidth": 0,
              "ticks": ""
             }
            },
            "type": "scattercarpet"
           }
          ],
          "scattergeo": [
           {
            "marker": {
             "colorbar": {
              "outlinewidth": 0,
              "ticks": ""
             }
            },
            "type": "scattergeo"
           }
          ],
          "scattergl": [
           {
            "marker": {
             "colorbar": {
              "outlinewidth": 0,
              "ticks": ""
             }
            },
            "type": "scattergl"
           }
          ],
          "scattermap": [
           {
            "marker": {
             "colorbar": {
              "outlinewidth": 0,
              "ticks": ""
             }
            },
            "type": "scattermap"
           }
          ],
          "scattermapbox": [
           {
            "marker": {
             "colorbar": {
              "outlinewidth": 0,
              "ticks": ""
             }
            },
            "type": "scattermapbox"
           }
          ],
          "scatterpolar": [
           {
            "marker": {
             "colorbar": {
              "outlinewidth": 0,
              "ticks": ""
             }
            },
            "type": "scatterpolar"
           }
          ],
          "scatterpolargl": [
           {
            "marker": {
             "colorbar": {
              "outlinewidth": 0,
              "ticks": ""
             }
            },
            "type": "scatterpolargl"
           }
          ],
          "scatterternary": [
           {
            "marker": {
             "colorbar": {
              "outlinewidth": 0,
              "ticks": ""
             }
            },
            "type": "scatterternary"
           }
          ],
          "surface": [
           {
            "colorbar": {
             "outlinewidth": 0,
             "ticks": ""
            },
            "colorscale": [
             [
              0,
              "#0d0887"
             ],
             [
              0.1111111111111111,
              "#46039f"
             ],
             [
              0.2222222222222222,
              "#7201a8"
             ],
             [
              0.3333333333333333,
              "#9c179e"
             ],
             [
              0.4444444444444444,
              "#bd3786"
             ],
             [
              0.5555555555555556,
              "#d8576b"
             ],
             [
              0.6666666666666666,
              "#ed7953"
             ],
             [
              0.7777777777777778,
              "#fb9f3a"
             ],
             [
              0.8888888888888888,
              "#fdca26"
             ],
             [
              1,
              "#f0f921"
             ]
            ],
            "type": "surface"
           }
          ],
          "table": [
           {
            "cells": {
             "fill": {
              "color": "#EBF0F8"
             },
             "line": {
              "color": "white"
             }
            },
            "header": {
             "fill": {
              "color": "#C8D4E3"
             },
             "line": {
              "color": "white"
             }
            },
            "type": "table"
           }
          ]
         },
         "layout": {
          "annotationdefaults": {
           "arrowcolor": "#2a3f5f",
           "arrowhead": 0,
           "arrowwidth": 1
          },
          "autotypenumbers": "strict",
          "coloraxis": {
           "colorbar": {
            "outlinewidth": 0,
            "ticks": ""
           }
          },
          "colorscale": {
           "diverging": [
            [
             0,
             "#8e0152"
            ],
            [
             0.1,
             "#c51b7d"
            ],
            [
             0.2,
             "#de77ae"
            ],
            [
             0.3,
             "#f1b6da"
            ],
            [
             0.4,
             "#fde0ef"
            ],
            [
             0.5,
             "#f7f7f7"
            ],
            [
             0.6,
             "#e6f5d0"
            ],
            [
             0.7,
             "#b8e186"
            ],
            [
             0.8,
             "#7fbc41"
            ],
            [
             0.9,
             "#4d9221"
            ],
            [
             1,
             "#276419"
            ]
           ],
           "sequential": [
            [
             0,
             "#0d0887"
            ],
            [
             0.1111111111111111,
             "#46039f"
            ],
            [
             0.2222222222222222,
             "#7201a8"
            ],
            [
             0.3333333333333333,
             "#9c179e"
            ],
            [
             0.4444444444444444,
             "#bd3786"
            ],
            [
             0.5555555555555556,
             "#d8576b"
            ],
            [
             0.6666666666666666,
             "#ed7953"
            ],
            [
             0.7777777777777778,
             "#fb9f3a"
            ],
            [
             0.8888888888888888,
             "#fdca26"
            ],
            [
             1,
             "#f0f921"
            ]
           ],
           "sequentialminus": [
            [
             0,
             "#0d0887"
            ],
            [
             0.1111111111111111,
             "#46039f"
            ],
            [
             0.2222222222222222,
             "#7201a8"
            ],
            [
             0.3333333333333333,
             "#9c179e"
            ],
            [
             0.4444444444444444,
             "#bd3786"
            ],
            [
             0.5555555555555556,
             "#d8576b"
            ],
            [
             0.6666666666666666,
             "#ed7953"
            ],
            [
             0.7777777777777778,
             "#fb9f3a"
            ],
            [
             0.8888888888888888,
             "#fdca26"
            ],
            [
             1,
             "#f0f921"
            ]
           ]
          },
          "colorway": [
           "#636efa",
           "#EF553B",
           "#00cc96",
           "#ab63fa",
           "#FFA15A",
           "#19d3f3",
           "#FF6692",
           "#B6E880",
           "#FF97FF",
           "#FECB52"
          ],
          "font": {
           "color": "#2a3f5f"
          },
          "geo": {
           "bgcolor": "white",
           "lakecolor": "white",
           "landcolor": "#E5ECF6",
           "showlakes": true,
           "showland": true,
           "subunitcolor": "white"
          },
          "hoverlabel": {
           "align": "left"
          },
          "hovermode": "closest",
          "mapbox": {
           "style": "light"
          },
          "paper_bgcolor": "white",
          "plot_bgcolor": "#E5ECF6",
          "polar": {
           "angularaxis": {
            "gridcolor": "white",
            "linecolor": "white",
            "ticks": ""
           },
           "bgcolor": "#E5ECF6",
           "radialaxis": {
            "gridcolor": "white",
            "linecolor": "white",
            "ticks": ""
           }
          },
          "scene": {
           "xaxis": {
            "backgroundcolor": "#E5ECF6",
            "gridcolor": "white",
            "gridwidth": 2,
            "linecolor": "white",
            "showbackground": true,
            "ticks": "",
            "zerolinecolor": "white"
           },
           "yaxis": {
            "backgroundcolor": "#E5ECF6",
            "gridcolor": "white",
            "gridwidth": 2,
            "linecolor": "white",
            "showbackground": true,
            "ticks": "",
            "zerolinecolor": "white"
           },
           "zaxis": {
            "backgroundcolor": "#E5ECF6",
            "gridcolor": "white",
            "gridwidth": 2,
            "linecolor": "white",
            "showbackground": true,
            "ticks": "",
            "zerolinecolor": "white"
           }
          },
          "shapedefaults": {
           "line": {
            "color": "#2a3f5f"
           }
          },
          "ternary": {
           "aaxis": {
            "gridcolor": "white",
            "linecolor": "white",
            "ticks": ""
           },
           "baxis": {
            "gridcolor": "white",
            "linecolor": "white",
            "ticks": ""
           },
           "bgcolor": "#E5ECF6",
           "caxis": {
            "gridcolor": "white",
            "linecolor": "white",
            "ticks": ""
           }
          },
          "title": {
           "x": 0.05
          },
          "xaxis": {
           "automargin": true,
           "gridcolor": "white",
           "linecolor": "white",
           "ticks": "",
           "title": {
            "standoff": 15
           },
           "zerolinecolor": "white",
           "zerolinewidth": 2
          },
          "yaxis": {
           "automargin": true,
           "gridcolor": "white",
           "linecolor": "white",
           "ticks": "",
           "title": {
            "standoff": 15
           },
           "zerolinecolor": "white",
           "zerolinewidth": 2
          }
         }
        },
        "title": {
         "text": "Semantic Expansion over Writing Sessions<br><span style=\"font-size: 12px;\">*Measuring how well humans are learning while writing with GenAI</span>"
        },
        "width": 1800,
        "xaxis": {
         "anchor": "y",
         "domain": [
          0,
          1
         ],
         "gridcolor": "white",
         "linecolor": "black",
         "mirror": false,
         "range": [
          -1,
          75
         ],
         "showline": true,
         "ticks": "outside",
         "title": {
          "text": "Progress into the writing session"
         }
        },
        "yaxis": {
         "anchor": "x",
         "domain": [
          0,
          1
         ],
         "gridcolor": "white",
         "linecolor": "black",
         "mirror": false,
         "showline": true,
         "ticks": "outside",
         "title": {
          "text": "Scores"
         }
        }
       }
      }
     },
     "metadata": {},
     "output_type": "display_data"
    },
    {
     "name": "stdout",
     "output_type": "stream",
     "text": [
      "legislation_corporate_4\n"
     ]
    },
    {
     "data": {
      "application/vnd.plotly.v1+json": {
       "config": {
        "plotlyServerURL": "https://plot.ly"
       },
       "data": [
        {
         "hovertemplate": "x=%{x}<br>y=%{y}<extra></extra>",
         "line": {
          "color": "#64B5F6",
          "width": 3
         },
         "marker": {
          "color": "#64B5F6",
          "size": 7
         },
         "mode": "lines+markers",
         "showlegend": false,
         "type": "scatter",
         "x": [
          82,
          83
         ],
         "xaxis": "x",
         "y": [
          18.70212548971176,
          19.100489675998688
         ],
         "yaxis": "y"
        },
        {
         "hovertemplate": "x=%{x}<br>y=%{y}<extra></extra>",
         "line": {
          "color": "#64B5F6",
          "width": 3
         },
         "marker": {
          "color": "#64B5F6",
          "size": 7
         },
         "mode": "lines+markers",
         "showlegend": false,
         "type": "scatter",
         "x": [
          78,
          79
         ],
         "xaxis": "x",
         "y": [
          18.42678129673004,
          17.671131789684296
         ],
         "yaxis": "y"
        },
        {
         "hovertemplate": "x=%{x}<br>y=%{y}<extra></extra>",
         "line": {
          "color": "#64B5F6",
          "width": 3
         },
         "marker": {
          "color": "#64B5F6",
          "size": 7
         },
         "mode": "lines+markers",
         "showlegend": false,
         "type": "scatter",
         "x": [
          71,
          72
         ],
         "xaxis": "x",
         "y": [
          15.963692843914032,
          15.044015347957611
         ],
         "yaxis": "y"
        },
        {
         "hovertemplate": "x=%{x}<br>y=%{y}<extra></extra>",
         "line": {
          "color": "#64B5F6",
          "width": 3
         },
         "marker": {
          "color": "#64B5F6",
          "size": 7
         },
         "mode": "lines+markers",
         "showlegend": false,
         "type": "scatter",
         "x": [
          62,
          63
         ],
         "xaxis": "x",
         "y": [
          11.748475658893586,
          10.74256216287613
         ],
         "yaxis": "y"
        },
        {
         "hovertemplate": "x=%{x}<br>y=%{y}<extra></extra>",
         "line": {
          "color": "#64B5F6",
          "width": 3
         },
         "marker": {
          "color": "#64B5F6",
          "size": 7
         },
         "mode": "lines+markers",
         "showlegend": false,
         "type": "scatter",
         "x": [
          59,
          60
         ],
         "xaxis": "x",
         "y": [
          12.232034027576447,
          10.889685213565826
         ],
         "yaxis": "y"
        },
        {
         "hovertemplate": "x=%{x}<br>y=%{y}<extra></extra>",
         "line": {
          "color": "#64B5F6",
          "width": 3
         },
         "marker": {
          "color": "#64B5F6",
          "size": 7
         },
         "mode": "lines+markers",
         "showlegend": false,
         "type": "scatter",
         "x": [
          53,
          54
         ],
         "xaxis": "x",
         "y": [
          12.443996512889862,
          12.890268409252167
         ],
         "yaxis": "y"
        },
        {
         "hovertemplate": "x=%{x}<br>y=%{y}<extra></extra>",
         "line": {
          "color": "#64B5F6",
          "width": 3
         },
         "marker": {
          "color": "#64B5F6",
          "size": 7
         },
         "mode": "lines+markers",
         "showlegend": false,
         "type": "scatter",
         "x": [
          51,
          52
         ],
         "xaxis": "x",
         "y": [
          11.55991826057434,
          11.994370257854461
         ],
         "yaxis": "y"
        },
        {
         "hovertemplate": "x=%{x}<br>y=%{y}<extra></extra>",
         "line": {
          "color": "#64B5F6",
          "width": 3
         },
         "marker": {
          "color": "#64B5F6",
          "size": 7
         },
         "mode": "lines+markers",
         "showlegend": false,
         "type": "scatter",
         "x": [
          50,
          51
         ],
         "xaxis": "x",
         "y": [
          12.930996930599212,
          11.55991826057434
         ],
         "yaxis": "y"
        },
        {
         "hovertemplate": "x=%{x}<br>y=%{y}<extra></extra>",
         "line": {
          "color": "#64B5F6",
          "width": 3
         },
         "marker": {
          "color": "#64B5F6",
          "size": 7
         },
         "mode": "lines+markers",
         "showlegend": false,
         "type": "scatter",
         "x": [
          48,
          49
         ],
         "xaxis": "x",
         "y": [
          12.041772484779358,
          12.486782252788544
         ],
         "yaxis": "y"
        },
        {
         "hovertemplate": "x=%{x}<br>y=%{y}<extra></extra>",
         "line": {
          "color": "#64B5F6",
          "width": 3
         },
         "marker": {
          "color": "#64B5F6",
          "size": 7
         },
         "mode": "lines+markers",
         "showlegend": false,
         "type": "scatter",
         "x": [
          46,
          47
         ],
         "xaxis": "x",
         "y": [
          11.281689167022705,
          11.715600192546844
         ],
         "yaxis": "y"
        },
        {
         "hovertemplate": "x=%{x}<br>y=%{y}<extra></extra>",
         "line": {
          "color": "#64B5F6",
          "width": 3
         },
         "marker": {
          "color": "#64B5F6",
          "size": 7
         },
         "mode": "lines+markers",
         "showlegend": false,
         "type": "scatter",
         "x": [
          41,
          42
         ],
         "xaxis": "x",
         "y": [
          9.530404758453368,
          9.921776247024535
         ],
         "yaxis": "y"
        },
        {
         "hovertemplate": "x=%{x}<br>y=%{y}<extra></extra>",
         "line": {
          "color": "#64B5F6",
          "width": 3
         },
         "marker": {
          "color": "#64B5F6",
          "size": 7
         },
         "mode": "lines+markers",
         "showlegend": false,
         "type": "scatter",
         "x": [
          39,
          40
         ],
         "xaxis": "x",
         "y": [
          10.353354752063751,
          9.04712861776352
         ],
         "yaxis": "y"
        },
        {
         "hovertemplate": "x=%{x}<br>y=%{y}<extra></extra>",
         "line": {
          "color": "#64B5F6",
          "width": 3
         },
         "marker": {
          "color": "#64B5F6",
          "size": 7
         },
         "mode": "lines+markers",
         "showlegend": false,
         "type": "scatter",
         "x": [
          25,
          26
         ],
         "xaxis": "x",
         "y": [
          5.554231810569763,
          5.920178639888763
         ],
         "yaxis": "y"
        },
        {
         "hovertemplate": "x=%{x}<br>y=%{y}<extra></extra>",
         "line": {
          "color": "#64B5F6",
          "width": 3
         },
         "marker": {
          "color": "#64B5F6",
          "size": 7
         },
         "mode": "lines+markers",
         "showlegend": false,
         "type": "scatter",
         "x": [
          23,
          24
         ],
         "xaxis": "x",
         "y": [
          4.93837229013443,
          5.255279099941253
         ],
         "yaxis": "y"
        },
        {
         "hovertemplate": "x=%{x}<br>y=%{y}<extra></extra>",
         "line": {
          "color": "#64B5F6",
          "width": 3
         },
         "marker": {
          "color": "#64B5F6",
          "size": 7
         },
         "mode": "lines+markers",
         "showlegend": false,
         "type": "scatter",
         "x": [
          21,
          22
         ],
         "xaxis": "x",
         "y": [
          4.292658853530884,
          4.5934157252311705
         ],
         "yaxis": "y"
        },
        {
         "hovertemplate": "x=%{x}<br>y=%{y}<extra></extra>",
         "line": {
          "color": "#64B5F6",
          "width": 3
         },
         "marker": {
          "color": "#64B5F6",
          "size": 7
         },
         "mode": "lines+markers",
         "showlegend": false,
         "type": "scatter",
         "x": [
          19,
          20
         ],
         "xaxis": "x",
         "y": [
          5.081352412700653,
          3.9631938338279724
         ],
         "yaxis": "y"
        },
        {
         "hovertemplate": "x=%{x}<br>y=%{y}<extra></extra>",
         "line": {
          "color": "#64B5F6",
          "width": 3
         },
         "marker": {
          "color": "#64B5F6",
          "size": 7
         },
         "mode": "lines+markers",
         "showlegend": false,
         "type": "scatter",
         "x": [
          0,
          1
         ],
         "xaxis": "x",
         "y": [
          0,
          0.5154286623001099
         ],
         "yaxis": "y"
        },
        {
         "hovertemplate": "x=%{x}<br>y=%{y}<extra></extra>",
         "line": {
          "color": "#ff8fab",
          "width": 3
         },
         "marker": {
          "color": "#ff8fab",
          "size": 7
         },
         "mode": "lines+markers",
         "showlegend": false,
         "type": "scatter",
         "x": [
          100,
          101
         ],
         "xaxis": "x",
         "y": [
          22.134103536605835,
          22.55360826253891
         ],
         "yaxis": "y"
        },
        {
         "hovertemplate": "x=%{x}<br>y=%{y}<extra></extra>",
         "line": {
          "color": "#ff8fab",
          "width": 3
         },
         "marker": {
          "color": "#ff8fab",
          "size": 7
         },
         "mode": "lines+markers",
         "showlegend": false,
         "type": "scatter",
         "x": [
          92,
          93
         ],
         "xaxis": "x",
         "y": [
          20.23968243598938,
          20.683569180965424
         ],
         "yaxis": "y"
        },
        {
         "hovertemplate": "x=%{x}<br>y=%{y}<extra></extra>",
         "line": {
          "color": "#ff8fab",
          "width": 3
         },
         "marker": {
          "color": "#ff8fab",
          "size": 7
         },
         "mode": "lines+markers",
         "showlegend": false,
         "type": "scatter",
         "x": [
          84,
          85
         ],
         "xaxis": "x",
         "y": [
          19.56544486284256,
          19.94556066989899
         ],
         "yaxis": "y"
        },
        {
         "hovertemplate": "x=%{x}<br>y=%{y}<extra></extra>",
         "line": {
          "color": "#ff8fab",
          "width": 3
         },
         "marker": {
          "color": "#ff8fab",
          "size": 7
         },
         "mode": "lines+markers",
         "showlegend": false,
         "type": "scatter",
         "x": [
          83,
          84
         ],
         "xaxis": "x",
         "y": [
          19.100489675998688,
          19.56544486284256
         ],
         "yaxis": "y"
        },
        {
         "hovertemplate": "x=%{x}<br>y=%{y}<extra></extra>",
         "line": {
          "color": "#ff8fab",
          "width": 3
         },
         "marker": {
          "color": "#ff8fab",
          "size": 7
         },
         "mode": "lines+markers",
         "showlegend": false,
         "type": "scatter",
         "x": [
          79,
          80
         ],
         "xaxis": "x",
         "y": [
          17.671131789684296,
          18.055857479572296
         ],
         "yaxis": "y"
        },
        {
         "hovertemplate": "x=%{x}<br>y=%{y}<extra></extra>",
         "line": {
          "color": "#ff8fab",
          "width": 3
         },
         "marker": {
          "color": "#ff8fab",
          "size": 7
         },
         "mode": "lines+markers",
         "showlegend": false,
         "type": "scatter",
         "x": [
          72,
          73
         ],
         "xaxis": "x",
         "y": [
          15.044015347957611,
          15.442544341087341
         ],
         "yaxis": "y"
        },
        {
         "hovertemplate": "x=%{x}<br>y=%{y}<extra></extra>",
         "line": {
          "color": "#ff8fab",
          "width": 3
         },
         "marker": {
          "color": "#ff8fab",
          "size": 7
         },
         "mode": "lines+markers",
         "showlegend": false,
         "type": "scatter",
         "x": [
          63,
          64
         ],
         "xaxis": "x",
         "y": [
          10.74256216287613,
          11.117616331577302
         ],
         "yaxis": "y"
        },
        {
         "hovertemplate": "x=%{x}<br>y=%{y}<extra></extra>",
         "line": {
          "color": "#ff8fab",
          "width": 3
         },
         "marker": {
          "color": "#ff8fab",
          "size": 7
         },
         "mode": "lines+markers",
         "showlegend": false,
         "type": "scatter",
         "x": [
          61,
          62
         ],
         "xaxis": "x",
         "y": [
          11.399753654003144,
          11.748475658893586
         ],
         "yaxis": "y"
        },
        {
         "hovertemplate": "x=%{x}<br>y=%{y}<extra></extra>",
         "line": {
          "color": "#ff8fab",
          "width": 3
         },
         "marker": {
          "color": "#ff8fab",
          "size": 7
         },
         "mode": "lines+markers",
         "showlegend": false,
         "type": "scatter",
         "x": [
          60,
          61
         ],
         "xaxis": "x",
         "y": [
          10.889685213565826,
          11.399753654003144
         ],
         "yaxis": "y"
        },
        {
         "hovertemplate": "x=%{x}<br>y=%{y}<extra></extra>",
         "line": {
          "color": "#ff8fab",
          "width": 3
         },
         "marker": {
          "color": "#ff8fab",
          "size": 7
         },
         "mode": "lines+markers",
         "showlegend": false,
         "type": "scatter",
         "x": [
          54,
          55
         ],
         "xaxis": "x",
         "y": [
          12.890268409252167,
          13.35990401506424
         ],
         "yaxis": "y"
        },
        {
         "hovertemplate": "x=%{x}<br>y=%{y}<extra></extra>",
         "line": {
          "color": "#ff8fab",
          "width": 3
         },
         "marker": {
          "color": "#ff8fab",
          "size": 7
         },
         "mode": "lines+markers",
         "showlegend": false,
         "type": "scatter",
         "x": [
          52,
          53
         ],
         "xaxis": "x",
         "y": [
          11.994370257854461,
          12.44399651288986
         ],
         "yaxis": "y"
        },
        {
         "hovertemplate": "x=%{x}<br>y=%{y}<extra></extra>",
         "line": {
          "color": "#ff8fab",
          "width": 3
         },
         "marker": {
          "color": "#ff8fab",
          "size": 7
         },
         "mode": "lines+markers",
         "showlegend": false,
         "type": "scatter",
         "x": [
          49,
          50
         ],
         "xaxis": "x",
         "y": [
          12.486782252788544,
          12.930996930599212
         ],
         "yaxis": "y"
        },
        {
         "hovertemplate": "x=%{x}<br>y=%{y}<extra></extra>",
         "line": {
          "color": "#ff8fab",
          "width": 3
         },
         "marker": {
          "color": "#ff8fab",
          "size": 7
         },
         "mode": "lines+markers",
         "showlegend": false,
         "type": "scatter",
         "x": [
          47,
          48
         ],
         "xaxis": "x",
         "y": [
          11.715600192546844,
          12.041772484779358
         ],
         "yaxis": "y"
        },
        {
         "hovertemplate": "x=%{x}<br>y=%{y}<extra></extra>",
         "line": {
          "color": "#ff8fab",
          "width": 3
         },
         "marker": {
          "color": "#ff8fab",
          "size": 7
         },
         "mode": "lines+markers",
         "showlegend": false,
         "type": "scatter",
         "x": [
          42,
          43
         ],
         "xaxis": "x",
         "y": [
          9.921776247024535,
          10.334211790561675
         ],
         "yaxis": "y"
        },
        {
         "hovertemplate": "x=%{x}<br>y=%{y}<extra></extra>",
         "line": {
          "color": "#ff8fab",
          "width": 3
         },
         "marker": {
          "color": "#ff8fab",
          "size": 7
         },
         "mode": "lines+markers",
         "showlegend": false,
         "type": "scatter",
         "x": [
          40,
          41
         ],
         "xaxis": "x",
         "y": [
          9.04712861776352,
          9.530404758453368
         ],
         "yaxis": "y"
        },
        {
         "hovertemplate": "x=%{x}<br>y=%{y}<extra></extra>",
         "line": {
          "color": "#ff8fab",
          "width": 3
         },
         "marker": {
          "color": "#ff8fab",
          "size": 7
         },
         "mode": "lines+markers",
         "showlegend": false,
         "type": "scatter",
         "x": [
          26,
          27
         ],
         "xaxis": "x",
         "y": [
          5.920178639888763,
          6.345604407787323
         ],
         "yaxis": "y"
        },
        {
         "hovertemplate": "x=%{x}<br>y=%{y}<extra></extra>",
         "line": {
          "color": "#ff8fab",
          "width": 3
         },
         "marker": {
          "color": "#ff8fab",
          "size": 7
         },
         "mode": "lines+markers",
         "showlegend": false,
         "type": "scatter",
         "x": [
          24,
          25
         ],
         "xaxis": "x",
         "y": [
          5.255279099941253,
          5.554231810569763
         ],
         "yaxis": "y"
        },
        {
         "hovertemplate": "x=%{x}<br>y=%{y}<extra></extra>",
         "line": {
          "color": "#ff8fab",
          "width": 3
         },
         "marker": {
          "color": "#ff8fab",
          "size": 7
         },
         "mode": "lines+markers",
         "showlegend": false,
         "type": "scatter",
         "x": [
          22,
          23
         ],
         "xaxis": "x",
         "y": [
          4.5934157252311705,
          4.93837229013443
         ],
         "yaxis": "y"
        },
        {
         "hovertemplate": "x=%{x}<br>y=%{y}<extra></extra>",
         "line": {
          "color": "#ff8fab",
          "width": 3
         },
         "marker": {
          "color": "#ff8fab",
          "size": 7
         },
         "mode": "lines+markers",
         "showlegend": false,
         "type": "scatter",
         "x": [
          20,
          21
         ],
         "xaxis": "x",
         "y": [
          3.9631938338279724,
          4.292658853530884
         ],
         "yaxis": "y"
        },
        {
         "hovertemplate": "x=%{x}<br>y=%{y}<extra></extra>",
         "line": {
          "color": "#ff8fab",
          "width": 3
         },
         "marker": {
          "color": "#ff8fab",
          "size": 7
         },
         "mode": "lines+markers",
         "showlegend": false,
         "type": "scatter",
         "x": [
          1,
          2
         ],
         "xaxis": "x",
         "y": [
          0.5154286623001099,
          0.8811880707740783
         ],
         "yaxis": "y"
        },
        {
         "hovertemplate": "x=%{x}<br>y=%{y}<extra></extra>",
         "line": {
          "color": "#023e8a",
          "width": 3
         },
         "marker": {
          "color": "#023e8a",
          "size": 7
         },
         "mode": "lines+markers",
         "showlegend": false,
         "type": "scatter",
         "x": [
          103,
          104
         ],
         "xaxis": "x",
         "y": [
          23.01775813102722,
          23.455888986587524
         ],
         "yaxis": "y"
        },
        {
         "hovertemplate": "x=%{x}<br>y=%{y}<extra></extra>",
         "line": {
          "color": "#023e8a",
          "width": 3
         },
         "marker": {
          "color": "#023e8a",
          "size": 7
         },
         "mode": "lines+markers",
         "showlegend": false,
         "type": "scatter",
         "x": [
          102,
          103
         ],
         "xaxis": "x",
         "y": [
          22.543702721595764,
          23.01775813102722
         ],
         "yaxis": "y"
        },
        {
         "hovertemplate": "x=%{x}<br>y=%{y}<extra></extra>",
         "line": {
          "color": "#023e8a",
          "width": 3
         },
         "marker": {
          "color": "#023e8a",
          "size": 7
         },
         "mode": "lines+markers",
         "showlegend": false,
         "type": "scatter",
         "x": [
          101,
          102
         ],
         "xaxis": "x",
         "y": [
          22.134103536605835,
          22.543702721595764
         ],
         "yaxis": "y"
        },
        {
         "hovertemplate": "x=%{x}<br>y=%{y}<extra></extra>",
         "line": {
          "color": "#023e8a",
          "width": 3
         },
         "marker": {
          "color": "#023e8a",
          "size": 7
         },
         "mode": "lines+markers",
         "showlegend": false,
         "type": "scatter",
         "x": [
          98,
          99
         ],
         "xaxis": "x",
         "y": [
          21.726495146751404,
          22.12263596057892
         ],
         "yaxis": "y"
        },
        {
         "hovertemplate": "x=%{x}<br>y=%{y}<extra></extra>",
         "line": {
          "color": "#023e8a",
          "width": 3
         },
         "marker": {
          "color": "#023e8a",
          "size": 7
         },
         "mode": "lines+markers",
         "showlegend": false,
         "type": "scatter",
         "x": [
          97,
          98
         ],
         "xaxis": "x",
         "y": [
          21.350906789302826,
          21.726495146751404
         ],
         "yaxis": "y"
        },
        {
         "hovertemplate": "x=%{x}<br>y=%{y}<extra></extra>",
         "line": {
          "color": "#023e8a",
          "width": 3
         },
         "marker": {
          "color": "#023e8a",
          "size": 7
         },
         "mode": "lines+markers",
         "showlegend": false,
         "type": "scatter",
         "x": [
          96,
          97
         ],
         "xaxis": "x",
         "y": [
          20.977150082588196,
          21.350906789302826
         ],
         "yaxis": "y"
        },
        {
         "hovertemplate": "x=%{x}<br>y=%{y}<extra></extra>",
         "line": {
          "color": "#023e8a",
          "width": 3
         },
         "marker": {
          "color": "#023e8a",
          "size": 7
         },
         "mode": "lines+markers",
         "showlegend": false,
         "type": "scatter",
         "x": [
          95,
          96
         ],
         "xaxis": "x",
         "y": [
          20.686862230300903,
          20.977150082588196
         ],
         "yaxis": "y"
        },
        {
         "hovertemplate": "x=%{x}<br>y=%{y}<extra></extra>",
         "line": {
          "color": "#023e8a",
          "width": 3
         },
         "marker": {
          "color": "#023e8a",
          "size": 7
         },
         "mode": "lines+markers",
         "showlegend": false,
         "type": "scatter",
         "x": [
          94,
          95
         ],
         "xaxis": "x",
         "y": [
          20.215341448783875,
          20.686862230300903
         ],
         "yaxis": "y"
        },
        {
         "hovertemplate": "x=%{x}<br>y=%{y}<extra></extra>",
         "line": {
          "color": "#023e8a",
          "width": 3
         },
         "marker": {
          "color": "#023e8a",
          "size": 7
         },
         "mode": "lines+markers",
         "showlegend": false,
         "type": "scatter",
         "x": [
          91,
          92
         ],
         "xaxis": "x",
         "y": [
          19.95359629392624,
          20.23968243598938
         ],
         "yaxis": "y"
        },
        {
         "hovertemplate": "x=%{x}<br>y=%{y}<extra></extra>",
         "line": {
          "color": "#023e8a",
          "width": 3
         },
         "marker": {
          "color": "#023e8a",
          "size": 7
         },
         "mode": "lines+markers",
         "showlegend": false,
         "type": "scatter",
         "x": [
          90,
          91
         ],
         "xaxis": "x",
         "y": [
          19.748129427433014,
          19.95359629392624
         ],
         "yaxis": "y"
        },
        {
         "hovertemplate": "x=%{x}<br>y=%{y}<extra></extra>",
         "line": {
          "color": "#023e8a",
          "width": 3
         },
         "marker": {
          "color": "#023e8a",
          "size": 7
         },
         "mode": "lines+markers",
         "showlegend": false,
         "type": "scatter",
         "x": [
          88,
          89
         ],
         "xaxis": "x",
         "y": [
          19.504912674427032,
          19.748129427433014
         ],
         "yaxis": "y"
        },
        {
         "hovertemplate": "x=%{x}<br>y=%{y}<extra></extra>",
         "line": {
          "color": "#023e8a",
          "width": 3
         },
         "marker": {
          "color": "#023e8a",
          "size": 7
         },
         "mode": "lines+markers",
         "showlegend": false,
         "type": "scatter",
         "x": [
          87,
          88
         ],
         "xaxis": "x",
         "y": [
          19.246008574962616,
          19.504912674427032
         ],
         "yaxis": "y"
        },
        {
         "hovertemplate": "x=%{x}<br>y=%{y}<extra></extra>",
         "line": {
          "color": "#023e8a",
          "width": 3
         },
         "marker": {
          "color": "#023e8a",
          "size": 7
         },
         "mode": "lines+markers",
         "showlegend": false,
         "type": "scatter",
         "x": [
          86,
          87
         ],
         "xaxis": "x",
         "y": [
          19.004521250724792,
          19.246008574962616
         ],
         "yaxis": "y"
        },
        {
         "hovertemplate": "x=%{x}<br>y=%{y}<extra></extra>",
         "line": {
          "color": "#023e8a",
          "width": 3
         },
         "marker": {
          "color": "#023e8a",
          "size": 7
         },
         "mode": "lines+markers",
         "showlegend": false,
         "type": "scatter",
         "x": [
          85,
          86
         ],
         "xaxis": "x",
         "y": [
          18.70212548971176,
          19.004521250724792
         ],
         "yaxis": "y"
        },
        {
         "hovertemplate": "x=%{x}<br>y=%{y}<extra></extra>",
         "line": {
          "color": "#023e8a",
          "width": 3
         },
         "marker": {
          "color": "#023e8a",
          "size": 7
         },
         "mode": "lines+markers",
         "showlegend": false,
         "type": "scatter",
         "x": [
          80,
          81
         ],
         "xaxis": "x",
         "y": [
          18.42678129673004,
          18.740658164024353
         ],
         "yaxis": "y"
        },
        {
         "hovertemplate": "x=%{x}<br>y=%{y}<extra></extra>",
         "line": {
          "color": "#023e8a",
          "width": 3
         },
         "marker": {
          "color": "#023e8a",
          "size": 7
         },
         "mode": "lines+markers",
         "showlegend": false,
         "type": "scatter",
         "x": [
          77,
          78
         ],
         "xaxis": "x",
         "y": [
          17.72478938102722,
          18.42678129673004
         ],
         "yaxis": "y"
        },
        {
         "hovertemplate": "x=%{x}<br>y=%{y}<extra></extra>",
         "line": {
          "color": "#023e8a",
          "width": 3
         },
         "marker": {
          "color": "#023e8a",
          "size": 7
         },
         "mode": "lines+markers",
         "showlegend": false,
         "type": "scatter",
         "x": [
          76,
          77
         ],
         "xaxis": "x",
         "y": [
          16.973209023475647,
          17.72478938102722
         ],
         "yaxis": "y"
        },
        {
         "hovertemplate": "x=%{x}<br>y=%{y}<extra></extra>",
         "line": {
          "color": "#023e8a",
          "width": 3
         },
         "marker": {
          "color": "#023e8a",
          "size": 7
         },
         "mode": "lines+markers",
         "showlegend": false,
         "type": "scatter",
         "x": [
          75,
          76
         ],
         "xaxis": "x",
         "y": [
          16.51344519853592,
          16.973209023475647
         ],
         "yaxis": "y"
        },
        {
         "hovertemplate": "x=%{x}<br>y=%{y}<extra></extra>",
         "line": {
          "color": "#023e8a",
          "width": 3
         },
         "marker": {
          "color": "#023e8a",
          "size": 7
         },
         "mode": "lines+markers",
         "showlegend": false,
         "type": "scatter",
         "x": [
          73,
          74
         ],
         "xaxis": "x",
         "y": [
          15.963692843914032,
          16.565782248973846
         ],
         "yaxis": "y"
        },
        {
         "hovertemplate": "x=%{x}<br>y=%{y}<extra></extra>",
         "line": {
          "color": "#023e8a",
          "width": 3
         },
         "marker": {
          "color": "#023e8a",
          "size": 7
         },
         "mode": "lines+markers",
         "showlegend": false,
         "type": "scatter",
         "x": [
          70,
          71
         ],
         "xaxis": "x",
         "y": [
          15.332122206687927,
          15.963692843914032
         ],
         "yaxis": "y"
        },
        {
         "hovertemplate": "x=%{x}<br>y=%{y}<extra></extra>",
         "line": {
          "color": "#023e8a",
          "width": 3
         },
         "marker": {
          "color": "#023e8a",
          "size": 7
         },
         "mode": "lines+markers",
         "showlegend": false,
         "type": "scatter",
         "x": [
          69,
          70
         ],
         "xaxis": "x",
         "y": [
          14.706983149051666,
          15.332122206687927
         ],
         "yaxis": "y"
        },
        {
         "hovertemplate": "x=%{x}<br>y=%{y}<extra></extra>",
         "line": {
          "color": "#023e8a",
          "width": 3
         },
         "marker": {
          "color": "#023e8a",
          "size": 7
         },
         "mode": "lines+markers",
         "showlegend": false,
         "type": "scatter",
         "x": [
          68,
          69
         ],
         "xaxis": "x",
         "y": [
          14.0836261510849,
          14.706983149051666
         ],
         "yaxis": "y"
        },
        {
         "hovertemplate": "x=%{x}<br>y=%{y}<extra></extra>",
         "line": {
          "color": "#023e8a",
          "width": 3
         },
         "marker": {
          "color": "#023e8a",
          "size": 7
         },
         "mode": "lines+markers",
         "showlegend": false,
         "type": "scatter",
         "x": [
          67,
          68
         ],
         "xaxis": "x",
         "y": [
          13.248845398426056,
          14.0836261510849
         ],
         "yaxis": "y"
        },
        {
         "hovertemplate": "x=%{x}<br>y=%{y}<extra></extra>",
         "line": {
          "color": "#023e8a",
          "width": 3
         },
         "marker": {
          "color": "#023e8a",
          "size": 7
         },
         "mode": "lines+markers",
         "showlegend": false,
         "type": "scatter",
         "x": [
          66,
          67
         ],
         "xaxis": "x",
         "y": [
          12.998960852622986,
          13.248845398426056
         ],
         "yaxis": "y"
        },
        {
         "hovertemplate": "x=%{x}<br>y=%{y}<extra></extra>",
         "line": {
          "color": "#023e8a",
          "width": 3
         },
         "marker": {
          "color": "#023e8a",
          "size": 7
         },
         "mode": "lines+markers",
         "showlegend": false,
         "type": "scatter",
         "x": [
          65,
          66
         ],
         "xaxis": "x",
         "y": [
          12.232034027576447,
          12.998960852622986
         ],
         "yaxis": "y"
        },
        {
         "hovertemplate": "x=%{x}<br>y=%{y}<extra></extra>",
         "line": {
          "color": "#023e8a",
          "width": 3
         },
         "marker": {
          "color": "#023e8a",
          "size": 7
         },
         "mode": "lines+markers",
         "showlegend": false,
         "type": "scatter",
         "x": [
          58,
          59
         ],
         "xaxis": "x",
         "y": [
          12.006073832511902,
          12.232034027576447
         ],
         "yaxis": "y"
        },
        {
         "hovertemplate": "x=%{x}<br>y=%{y}<extra></extra>",
         "line": {
          "color": "#023e8a",
          "width": 3
         },
         "marker": {
          "color": "#023e8a",
          "size": 7
         },
         "mode": "lines+markers",
         "showlegend": false,
         "type": "scatter",
         "x": [
          57,
          58
         ],
         "xaxis": "x",
         "y": [
          11.721587181091309,
          12.006073832511902
         ],
         "yaxis": "y"
        },
        {
         "hovertemplate": "x=%{x}<br>y=%{y}<extra></extra>",
         "line": {
          "color": "#023e8a",
          "width": 3
         },
         "marker": {
          "color": "#023e8a",
          "size": 7
         },
         "mode": "lines+markers",
         "showlegend": false,
         "type": "scatter",
         "x": [
          56,
          57
         ],
         "xaxis": "x",
         "y": [
          11.491312742233276,
          11.721587181091309
         ],
         "yaxis": "y"
        },
        {
         "hovertemplate": "x=%{x}<br>y=%{y}<extra></extra>",
         "line": {
          "color": "#023e8a",
          "width": 3
         },
         "marker": {
          "color": "#023e8a",
          "size": 7
         },
         "mode": "lines+markers",
         "showlegend": false,
         "type": "scatter",
         "x": [
          55,
          56
         ],
         "xaxis": "x",
         "y": [
          11.281689167022705,
          11.491312742233276
         ],
         "yaxis": "y"
        },
        {
         "hovertemplate": "x=%{x}<br>y=%{y}<extra></extra>",
         "line": {
          "color": "#023e8a",
          "width": 3
         },
         "marker": {
          "color": "#023e8a",
          "size": 7
         },
         "mode": "lines+markers",
         "showlegend": false,
         "type": "scatter",
         "x": [
          44,
          45
         ],
         "xaxis": "x",
         "y": [
          10.78162568807602,
          11.281689167022705
         ],
         "yaxis": "y"
        },
        {
         "hovertemplate": "x=%{x}<br>y=%{y}<extra></extra>",
         "line": {
          "color": "#023e8a",
          "width": 3
         },
         "marker": {
          "color": "#023e8a",
          "size": 7
         },
         "mode": "lines+markers",
         "showlegend": false,
         "type": "scatter",
         "x": [
          43,
          44
         ],
         "xaxis": "x",
         "y": [
          10.353354752063751,
          10.78162568807602
         ],
         "yaxis": "y"
        },
        {
         "hovertemplate": "x=%{x}<br>y=%{y}<extra></extra>",
         "line": {
          "color": "#023e8a",
          "width": 3
         },
         "marker": {
          "color": "#023e8a",
          "size": 7
         },
         "mode": "lines+markers",
         "showlegend": false,
         "type": "scatter",
         "x": [
          38,
          39
         ],
         "xaxis": "x",
         "y": [
          9.912444174289703,
          10.353354752063751
         ],
         "yaxis": "y"
        },
        {
         "hovertemplate": "x=%{x}<br>y=%{y}<extra></extra>",
         "line": {
          "color": "#023e8a",
          "width": 3
         },
         "marker": {
          "color": "#023e8a",
          "size": 7
         },
         "mode": "lines+markers",
         "showlegend": false,
         "type": "scatter",
         "x": [
          37,
          38
         ],
         "xaxis": "x",
         "y": [
          9.46985274553299,
          9.912444174289703
         ],
         "yaxis": "y"
        },
        {
         "hovertemplate": "x=%{x}<br>y=%{y}<extra></extra>",
         "line": {
          "color": "#023e8a",
          "width": 3
         },
         "marker": {
          "color": "#023e8a",
          "size": 7
         },
         "mode": "lines+markers",
         "showlegend": false,
         "type": "scatter",
         "x": [
          36,
          37
         ],
         "xaxis": "x",
         "y": [
          9.01178514957428,
          9.46985274553299
         ],
         "yaxis": "y"
        },
        {
         "hovertemplate": "x=%{x}<br>y=%{y}<extra></extra>",
         "line": {
          "color": "#023e8a",
          "width": 3
         },
         "marker": {
          "color": "#023e8a",
          "size": 7
         },
         "mode": "lines+markers",
         "showlegend": false,
         "type": "scatter",
         "x": [
          35,
          36
         ],
         "xaxis": "x",
         "y": [
          8.396050095558167,
          9.01178514957428
         ],
         "yaxis": "y"
        },
        {
         "hovertemplate": "x=%{x}<br>y=%{y}<extra></extra>",
         "line": {
          "color": "#023e8a",
          "width": 3
         },
         "marker": {
          "color": "#023e8a",
          "size": 7
         },
         "mode": "lines+markers",
         "showlegend": false,
         "type": "scatter",
         "x": [
          34,
          35
         ],
         "xaxis": "x",
         "y": [
          7.76008152961731,
          8.396050095558167
         ],
         "yaxis": "y"
        },
        {
         "hovertemplate": "x=%{x}<br>y=%{y}<extra></extra>",
         "line": {
          "color": "#023e8a",
          "width": 3
         },
         "marker": {
          "color": "#023e8a",
          "size": 7
         },
         "mode": "lines+markers",
         "showlegend": false,
         "type": "scatter",
         "x": [
          33,
          34
         ],
         "xaxis": "x",
         "y": [
          7.304671347141266,
          7.76008152961731
         ],
         "yaxis": "y"
        },
        {
         "hovertemplate": "x=%{x}<br>y=%{y}<extra></extra>",
         "line": {
          "color": "#023e8a",
          "width": 3
         },
         "marker": {
          "color": "#023e8a",
          "size": 7
         },
         "mode": "lines+markers",
         "showlegend": false,
         "type": "scatter",
         "x": [
          32,
          33
         ],
         "xaxis": "x",
         "y": [
          7.026191711425781,
          7.304671347141266
         ],
         "yaxis": "y"
        },
        {
         "hovertemplate": "x=%{x}<br>y=%{y}<extra></extra>",
         "line": {
          "color": "#023e8a",
          "width": 3
         },
         "marker": {
          "color": "#023e8a",
          "size": 7
         },
         "mode": "lines+markers",
         "showlegend": false,
         "type": "scatter",
         "x": [
          31,
          32
         ],
         "xaxis": "x",
         "y": [
          6.7305238246917725,
          7.026191711425781
         ],
         "yaxis": "y"
        },
        {
         "hovertemplate": "x=%{x}<br>y=%{y}<extra></extra>",
         "line": {
          "color": "#023e8a",
          "width": 3
         },
         "marker": {
          "color": "#023e8a",
          "size": 7
         },
         "mode": "lines+markers",
         "showlegend": false,
         "type": "scatter",
         "x": [
          30,
          31
         ],
         "xaxis": "x",
         "y": [
          6.44666987657547,
          6.7305238246917725
         ],
         "yaxis": "y"
        },
        {
         "hovertemplate": "x=%{x}<br>y=%{y}<extra></extra>",
         "line": {
          "color": "#023e8a",
          "width": 3
         },
         "marker": {
          "color": "#023e8a",
          "size": 7
         },
         "mode": "lines+markers",
         "showlegend": false,
         "type": "scatter",
         "x": [
          29,
          30
         ],
         "xaxis": "x",
         "y": [
          5.916715085506439,
          6.44666987657547
         ],
         "yaxis": "y"
        },
        {
         "hovertemplate": "x=%{x}<br>y=%{y}<extra></extra>",
         "line": {
          "color": "#023e8a",
          "width": 3
         },
         "marker": {
          "color": "#023e8a",
          "size": 7
         },
         "mode": "lines+markers",
         "showlegend": false,
         "type": "scatter",
         "x": [
          28,
          29
         ],
         "xaxis": "x",
         "y": [
          5.081352055072784,
          5.916715085506439
         ],
         "yaxis": "y"
        },
        {
         "hovertemplate": "x=%{x}<br>y=%{y}<extra></extra>",
         "line": {
          "color": "#023e8a",
          "width": 3
         },
         "marker": {
          "color": "#023e8a",
          "size": 7
         },
         "mode": "lines+markers",
         "showlegend": false,
         "type": "scatter",
         "x": [
          18,
          19
         ],
         "xaxis": "x",
         "y": [
          4.715483784675598,
          5.081352412700653
         ],
         "yaxis": "y"
        },
        {
         "hovertemplate": "x=%{x}<br>y=%{y}<extra></extra>",
         "line": {
          "color": "#023e8a",
          "width": 3
         },
         "marker": {
          "color": "#023e8a",
          "size": 7
         },
         "mode": "lines+markers",
         "showlegend": false,
         "type": "scatter",
         "x": [
          17,
          18
         ],
         "xaxis": "x",
         "y": [
          4.434704422950745,
          4.715483784675598
         ],
         "yaxis": "y"
        },
        {
         "hovertemplate": "x=%{x}<br>y=%{y}<extra></extra>",
         "line": {
          "color": "#023e8a",
          "width": 3
         },
         "marker": {
          "color": "#023e8a",
          "size": 7
         },
         "mode": "lines+markers",
         "showlegend": false,
         "type": "scatter",
         "x": [
          16,
          17
         ],
         "xaxis": "x",
         "y": [
          4.149812817573547,
          4.434704422950745
         ],
         "yaxis": "y"
        },
        {
         "hovertemplate": "x=%{x}<br>y=%{y}<extra></extra>",
         "line": {
          "color": "#023e8a",
          "width": 3
         },
         "marker": {
          "color": "#023e8a",
          "size": 7
         },
         "mode": "lines+markers",
         "showlegend": false,
         "type": "scatter",
         "x": [
          15,
          16
         ],
         "xaxis": "x",
         "y": [
          3.780734121799469,
          4.149812817573547
         ],
         "yaxis": "y"
        },
        {
         "hovertemplate": "x=%{x}<br>y=%{y}<extra></extra>",
         "line": {
          "color": "#023e8a",
          "width": 3
         },
         "marker": {
          "color": "#023e8a",
          "size": 7
         },
         "mode": "lines+markers",
         "showlegend": false,
         "type": "scatter",
         "x": [
          14,
          15
         ],
         "xaxis": "x",
         "y": [
          3.3127734661102295,
          3.780734121799469
         ],
         "yaxis": "y"
        },
        {
         "hovertemplate": "x=%{x}<br>y=%{y}<extra></extra>",
         "line": {
          "color": "#023e8a",
          "width": 3
         },
         "marker": {
          "color": "#023e8a",
          "size": 7
         },
         "mode": "lines+markers",
         "showlegend": false,
         "type": "scatter",
         "x": [
          13,
          14
         ],
         "xaxis": "x",
         "y": [
          2.9841399788856506,
          3.3127734661102295
         ],
         "yaxis": "y"
        },
        {
         "hovertemplate": "x=%{x}<br>y=%{y}<extra></extra>",
         "line": {
          "color": "#023e8a",
          "width": 3
         },
         "marker": {
          "color": "#023e8a",
          "size": 7
         },
         "mode": "lines+markers",
         "showlegend": false,
         "type": "scatter",
         "x": [
          12,
          13
         ],
         "xaxis": "x",
         "y": [
          2.667437434196472,
          2.9841399788856506
         ],
         "yaxis": "y"
        },
        {
         "hovertemplate": "x=%{x}<br>y=%{y}<extra></extra>",
         "line": {
          "color": "#023e8a",
          "width": 3
         },
         "marker": {
          "color": "#023e8a",
          "size": 7
         },
         "mode": "lines+markers",
         "showlegend": false,
         "type": "scatter",
         "x": [
          11,
          12
         ],
         "xaxis": "x",
         "y": [
          2.3415335416793823,
          2.667437434196472
         ],
         "yaxis": "y"
        },
        {
         "hovertemplate": "x=%{x}<br>y=%{y}<extra></extra>",
         "line": {
          "color": "#023e8a",
          "width": 3
         },
         "marker": {
          "color": "#023e8a",
          "size": 7
         },
         "mode": "lines+markers",
         "showlegend": false,
         "type": "scatter",
         "x": [
          10,
          11
         ],
         "xaxis": "x",
         "y": [
          1.9611383080482483,
          2.3415335416793823
         ],
         "yaxis": "y"
        },
        {
         "hovertemplate": "x=%{x}<br>y=%{y}<extra></extra>",
         "line": {
          "color": "#023e8a",
          "width": 3
         },
         "marker": {
          "color": "#023e8a",
          "size": 7
         },
         "mode": "lines+markers",
         "showlegend": false,
         "type": "scatter",
         "x": [
          9,
          10
         ],
         "xaxis": "x",
         "y": [
          1.560491681098938,
          1.9611383080482483
         ],
         "yaxis": "y"
        },
        {
         "hovertemplate": "x=%{x}<br>y=%{y}<extra></extra>",
         "line": {
          "color": "#023e8a",
          "width": 3
         },
         "marker": {
          "color": "#023e8a",
          "size": 7
         },
         "mode": "lines+markers",
         "showlegend": false,
         "type": "scatter",
         "x": [
          8,
          9
         ],
         "xaxis": "x",
         "y": [
          1.3878766298294067,
          1.560491681098938
         ],
         "yaxis": "y"
        },
        {
         "hovertemplate": "x=%{x}<br>y=%{y}<extra></extra>",
         "line": {
          "color": "#023e8a",
          "width": 3
         },
         "marker": {
          "color": "#023e8a",
          "size": 7
         },
         "mode": "lines+markers",
         "showlegend": false,
         "type": "scatter",
         "x": [
          7,
          8
         ],
         "xaxis": "x",
         "y": [
          1.1831448078155518,
          1.3878766298294067
         ],
         "yaxis": "y"
        },
        {
         "hovertemplate": "x=%{x}<br>y=%{y}<extra></extra>",
         "line": {
          "color": "#023e8a",
          "width": 3
         },
         "marker": {
          "color": "#023e8a",
          "size": 7
         },
         "mode": "lines+markers",
         "showlegend": false,
         "type": "scatter",
         "x": [
          6,
          7
         ],
         "xaxis": "x",
         "y": [
          0.9868475198745728,
          1.1831448078155518
         ],
         "yaxis": "y"
        },
        {
         "hovertemplate": "x=%{x}<br>y=%{y}<extra></extra>",
         "line": {
          "color": "#023e8a",
          "width": 3
         },
         "marker": {
          "color": "#023e8a",
          "size": 7
         },
         "mode": "lines+markers",
         "showlegend": false,
         "type": "scatter",
         "x": [
          5,
          6
         ],
         "xaxis": "x",
         "y": [
          0.7956849336624146,
          0.9868475198745728
         ],
         "yaxis": "y"
        },
        {
         "hovertemplate": "x=%{x}<br>y=%{y}<extra></extra>",
         "line": {
          "color": "#023e8a",
          "width": 3
         },
         "marker": {
          "color": "#023e8a",
          "size": 7
         },
         "mode": "lines+markers",
         "showlegend": false,
         "type": "scatter",
         "x": [
          4,
          5
         ],
         "xaxis": "x",
         "y": [
          0.6036558151245117,
          0.7956849336624146
         ],
         "yaxis": "y"
        },
        {
         "hovertemplate": "x=%{x}<br>y=%{y}<extra></extra>",
         "line": {
          "color": "#023e8a",
          "width": 3
         },
         "marker": {
          "color": "#023e8a",
          "size": 7
         },
         "mode": "lines+markers",
         "showlegend": false,
         "type": "scatter",
         "x": [
          3,
          4
         ],
         "xaxis": "x",
         "y": [
          0.4078388214111328,
          0.6036558151245117
         ],
         "yaxis": "y"
        },
        {
         "hovertemplate": "x=%{x}<br>y=%{y}<extra></extra>",
         "line": {
          "color": "#c1121f",
          "width": 3
         },
         "marker": {
          "color": "#c1121f",
          "size": 7
         },
         "mode": "lines+markers",
         "showlegend": false,
         "type": "scatter",
         "x": [
          93,
          94
         ],
         "xaxis": "x",
         "y": [
          20.23968243598938,
          20.215341448783875
         ],
         "yaxis": "y"
        },
        {
         "hovertemplate": "x=%{x}<br>y=%{y}<extra></extra>",
         "line": {
          "color": "#c1121f",
          "width": 3
         },
         "marker": {
          "color": "#c1121f",
          "size": 7
         },
         "mode": "lines+markers",
         "showlegend": false,
         "type": "scatter",
         "x": [
          2,
          3
         ],
         "xaxis": "x",
         "y": [
          0,
          0.4078388214111328
         ],
         "yaxis": "y"
        },
        {
         "hovertemplate": "x=%{x}<br>y=%{y}<extra></extra>",
         "line": {
          "color": "#9d4edd",
          "width": 3
         },
         "marker": {
          "color": "#9d4edd",
          "size": 7
         },
         "mode": "lines+markers",
         "showlegend": false,
         "type": "scatter",
         "x": [
          99,
          100
         ],
         "xaxis": "x",
         "y": [
          22.12263596057892,
          22.134103536605835
         ],
         "yaxis": "y"
        },
        {
         "hovertemplate": "x=%{x}<br>y=%{y}<extra></extra>",
         "line": {
          "color": "#9d4edd",
          "width": 3
         },
         "marker": {
          "color": "#9d4edd",
          "size": 7
         },
         "mode": "lines+markers",
         "showlegend": false,
         "type": "scatter",
         "x": [
          89,
          90
         ],
         "xaxis": "x",
         "y": [
          19.748129427433014,
          19.748129427433014
         ],
         "yaxis": "y"
        },
        {
         "hovertemplate": "x=%{x}<br>y=%{y}<extra></extra>",
         "line": {
          "color": "#9d4edd",
          "width": 3
         },
         "marker": {
          "color": "#9d4edd",
          "size": 7
         },
         "mode": "lines+markers",
         "showlegend": false,
         "type": "scatter",
         "x": [
          81,
          82
         ],
         "xaxis": "x",
         "y": [
          18.740658164024353,
          18.70212548971176
         ],
         "yaxis": "y"
        },
        {
         "hovertemplate": "x=%{x}<br>y=%{y}<extra></extra>",
         "line": {
          "color": "#9d4edd",
          "width": 3
         },
         "marker": {
          "color": "#9d4edd",
          "size": 7
         },
         "mode": "lines+markers",
         "showlegend": false,
         "type": "scatter",
         "x": [
          74,
          75
         ],
         "xaxis": "x",
         "y": [
          16.565782248973846,
          16.51344519853592
         ],
         "yaxis": "y"
        },
        {
         "hovertemplate": "x=%{x}<br>y=%{y}<extra></extra>",
         "line": {
          "color": "#9d4edd",
          "width": 3
         },
         "marker": {
          "color": "#9d4edd",
          "size": 7
         },
         "mode": "lines+markers",
         "showlegend": false,
         "type": "scatter",
         "x": [
          64,
          65
         ],
         "xaxis": "x",
         "y": [
          12.232034027576447,
          12.232034027576447
         ],
         "yaxis": "y"
        },
        {
         "hovertemplate": "x=%{x}<br>y=%{y}<extra></extra>",
         "line": {
          "color": "#9d4edd",
          "width": 3
         },
         "marker": {
          "color": "#9d4edd",
          "size": 7
         },
         "mode": "lines+markers",
         "showlegend": false,
         "type": "scatter",
         "x": [
          45,
          46
         ],
         "xaxis": "x",
         "y": [
          11.281689167022705,
          11.281689167022705
         ],
         "yaxis": "y"
        },
        {
         "hovertemplate": "x=%{x}<br>y=%{y}<extra></extra>",
         "line": {
          "color": "#9d4edd",
          "width": 3
         },
         "marker": {
          "color": "#9d4edd",
          "size": 7
         },
         "mode": "lines+markers",
         "showlegend": false,
         "type": "scatter",
         "x": [
          27,
          28
         ],
         "xaxis": "x",
         "y": [
          5.081352412700653,
          5.081352055072784
         ],
         "yaxis": "y"
        },
        {
         "line": {
          "color": "#64B5F6",
          "width": 2
         },
         "mode": "lines",
         "name": "human_insert_backstage",
         "showlegend": true,
         "type": "scatter",
         "x": [
          null
         ],
         "xaxis": "x",
         "y": [
          null
         ],
         "yaxis": "y"
        },
        {
         "line": {
          "color": "#ff8fab",
          "width": 2
         },
         "mode": "lines",
         "name": "ai_suggest_backstage",
         "showlegend": true,
         "type": "scatter",
         "x": [
          null
         ],
         "xaxis": "x",
         "y": [
          null
         ],
         "yaxis": "y"
        },
        {
         "line": {
          "color": "#023e8a",
          "width": 2
         },
         "mode": "lines",
         "name": "human_insert_frontstage",
         "showlegend": true,
         "type": "scatter",
         "x": [
          null
         ],
         "xaxis": "x",
         "y": [
          null
         ],
         "yaxis": "y"
        },
        {
         "line": {
          "color": "#c1121f",
          "width": 2
         },
         "mode": "lines",
         "name": "ai_insert_moved_to_frontstage",
         "showlegend": true,
         "type": "scatter",
         "x": [
          null
         ],
         "xaxis": "x",
         "y": [
          null
         ],
         "yaxis": "y"
        },
        {
         "line": {
          "color": "#9d4edd",
          "width": 2
         },
         "mode": "lines",
         "name": "human_delete_frontstage",
         "showlegend": true,
         "type": "scatter",
         "x": [
          null
         ],
         "xaxis": "x",
         "y": [
          null
         ],
         "yaxis": "y"
        },
        {
         "line": {
          "color": "#5a189a",
          "width": 2
         },
         "mode": "lines",
         "name": "human_insert_edit_frontstage",
         "showlegend": true,
         "type": "scatter",
         "x": [
          null
         ],
         "xaxis": "x",
         "y": [
          null
         ],
         "yaxis": "y"
        }
       ],
       "layout": {
        "annotations": [
         {
          "font": {
           "size": 16
          },
          "showarrow": false,
          "text": "Session: legislation_corporate_4",
          "x": 0.5,
          "xanchor": "center",
          "xref": "paper",
          "y": 1,
          "yanchor": "bottom",
          "yref": "paper"
         }
        ],
        "height": 500,
        "legend": {
         "title": {
          "font": {
           "color": "rgba(0, 0, 0, 0)"
          }
         }
        },
        "plot_bgcolor": "white",
        "showlegend": true,
        "template": {
         "data": {
          "bar": [
           {
            "error_x": {
             "color": "#2a3f5f"
            },
            "error_y": {
             "color": "#2a3f5f"
            },
            "marker": {
             "line": {
              "color": "#E5ECF6",
              "width": 0.5
             },
             "pattern": {
              "fillmode": "overlay",
              "size": 10,
              "solidity": 0.2
             }
            },
            "type": "bar"
           }
          ],
          "barpolar": [
           {
            "marker": {
             "line": {
              "color": "#E5ECF6",
              "width": 0.5
             },
             "pattern": {
              "fillmode": "overlay",
              "size": 10,
              "solidity": 0.2
             }
            },
            "type": "barpolar"
           }
          ],
          "carpet": [
           {
            "aaxis": {
             "endlinecolor": "#2a3f5f",
             "gridcolor": "white",
             "linecolor": "white",
             "minorgridcolor": "white",
             "startlinecolor": "#2a3f5f"
            },
            "baxis": {
             "endlinecolor": "#2a3f5f",
             "gridcolor": "white",
             "linecolor": "white",
             "minorgridcolor": "white",
             "startlinecolor": "#2a3f5f"
            },
            "type": "carpet"
           }
          ],
          "choropleth": [
           {
            "colorbar": {
             "outlinewidth": 0,
             "ticks": ""
            },
            "type": "choropleth"
           }
          ],
          "contour": [
           {
            "colorbar": {
             "outlinewidth": 0,
             "ticks": ""
            },
            "colorscale": [
             [
              0,
              "#0d0887"
             ],
             [
              0.1111111111111111,
              "#46039f"
             ],
             [
              0.2222222222222222,
              "#7201a8"
             ],
             [
              0.3333333333333333,
              "#9c179e"
             ],
             [
              0.4444444444444444,
              "#bd3786"
             ],
             [
              0.5555555555555556,
              "#d8576b"
             ],
             [
              0.6666666666666666,
              "#ed7953"
             ],
             [
              0.7777777777777778,
              "#fb9f3a"
             ],
             [
              0.8888888888888888,
              "#fdca26"
             ],
             [
              1,
              "#f0f921"
             ]
            ],
            "type": "contour"
           }
          ],
          "contourcarpet": [
           {
            "colorbar": {
             "outlinewidth": 0,
             "ticks": ""
            },
            "type": "contourcarpet"
           }
          ],
          "heatmap": [
           {
            "colorbar": {
             "outlinewidth": 0,
             "ticks": ""
            },
            "colorscale": [
             [
              0,
              "#0d0887"
             ],
             [
              0.1111111111111111,
              "#46039f"
             ],
             [
              0.2222222222222222,
              "#7201a8"
             ],
             [
              0.3333333333333333,
              "#9c179e"
             ],
             [
              0.4444444444444444,
              "#bd3786"
             ],
             [
              0.5555555555555556,
              "#d8576b"
             ],
             [
              0.6666666666666666,
              "#ed7953"
             ],
             [
              0.7777777777777778,
              "#fb9f3a"
             ],
             [
              0.8888888888888888,
              "#fdca26"
             ],
             [
              1,
              "#f0f921"
             ]
            ],
            "type": "heatmap"
           }
          ],
          "histogram": [
           {
            "marker": {
             "pattern": {
              "fillmode": "overlay",
              "size": 10,
              "solidity": 0.2
             }
            },
            "type": "histogram"
           }
          ],
          "histogram2d": [
           {
            "colorbar": {
             "outlinewidth": 0,
             "ticks": ""
            },
            "colorscale": [
             [
              0,
              "#0d0887"
             ],
             [
              0.1111111111111111,
              "#46039f"
             ],
             [
              0.2222222222222222,
              "#7201a8"
             ],
             [
              0.3333333333333333,
              "#9c179e"
             ],
             [
              0.4444444444444444,
              "#bd3786"
             ],
             [
              0.5555555555555556,
              "#d8576b"
             ],
             [
              0.6666666666666666,
              "#ed7953"
             ],
             [
              0.7777777777777778,
              "#fb9f3a"
             ],
             [
              0.8888888888888888,
              "#fdca26"
             ],
             [
              1,
              "#f0f921"
             ]
            ],
            "type": "histogram2d"
           }
          ],
          "histogram2dcontour": [
           {
            "colorbar": {
             "outlinewidth": 0,
             "ticks": ""
            },
            "colorscale": [
             [
              0,
              "#0d0887"
             ],
             [
              0.1111111111111111,
              "#46039f"
             ],
             [
              0.2222222222222222,
              "#7201a8"
             ],
             [
              0.3333333333333333,
              "#9c179e"
             ],
             [
              0.4444444444444444,
              "#bd3786"
             ],
             [
              0.5555555555555556,
              "#d8576b"
             ],
             [
              0.6666666666666666,
              "#ed7953"
             ],
             [
              0.7777777777777778,
              "#fb9f3a"
             ],
             [
              0.8888888888888888,
              "#fdca26"
             ],
             [
              1,
              "#f0f921"
             ]
            ],
            "type": "histogram2dcontour"
           }
          ],
          "mesh3d": [
           {
            "colorbar": {
             "outlinewidth": 0,
             "ticks": ""
            },
            "type": "mesh3d"
           }
          ],
          "parcoords": [
           {
            "line": {
             "colorbar": {
              "outlinewidth": 0,
              "ticks": ""
             }
            },
            "type": "parcoords"
           }
          ],
          "pie": [
           {
            "automargin": true,
            "type": "pie"
           }
          ],
          "scatter": [
           {
            "fillpattern": {
             "fillmode": "overlay",
             "size": 10,
             "solidity": 0.2
            },
            "type": "scatter"
           }
          ],
          "scatter3d": [
           {
            "line": {
             "colorbar": {
              "outlinewidth": 0,
              "ticks": ""
             }
            },
            "marker": {
             "colorbar": {
              "outlinewidth": 0,
              "ticks": ""
             }
            },
            "type": "scatter3d"
           }
          ],
          "scattercarpet": [
           {
            "marker": {
             "colorbar": {
              "outlinewidth": 0,
              "ticks": ""
             }
            },
            "type": "scattercarpet"
           }
          ],
          "scattergeo": [
           {
            "marker": {
             "colorbar": {
              "outlinewidth": 0,
              "ticks": ""
             }
            },
            "type": "scattergeo"
           }
          ],
          "scattergl": [
           {
            "marker": {
             "colorbar": {
              "outlinewidth": 0,
              "ticks": ""
             }
            },
            "type": "scattergl"
           }
          ],
          "scattermap": [
           {
            "marker": {
             "colorbar": {
              "outlinewidth": 0,
              "ticks": ""
             }
            },
            "type": "scattermap"
           }
          ],
          "scattermapbox": [
           {
            "marker": {
             "colorbar": {
              "outlinewidth": 0,
              "ticks": ""
             }
            },
            "type": "scattermapbox"
           }
          ],
          "scatterpolar": [
           {
            "marker": {
             "colorbar": {
              "outlinewidth": 0,
              "ticks": ""
             }
            },
            "type": "scatterpolar"
           }
          ],
          "scatterpolargl": [
           {
            "marker": {
             "colorbar": {
              "outlinewidth": 0,
              "ticks": ""
             }
            },
            "type": "scatterpolargl"
           }
          ],
          "scatterternary": [
           {
            "marker": {
             "colorbar": {
              "outlinewidth": 0,
              "ticks": ""
             }
            },
            "type": "scatterternary"
           }
          ],
          "surface": [
           {
            "colorbar": {
             "outlinewidth": 0,
             "ticks": ""
            },
            "colorscale": [
             [
              0,
              "#0d0887"
             ],
             [
              0.1111111111111111,
              "#46039f"
             ],
             [
              0.2222222222222222,
              "#7201a8"
             ],
             [
              0.3333333333333333,
              "#9c179e"
             ],
             [
              0.4444444444444444,
              "#bd3786"
             ],
             [
              0.5555555555555556,
              "#d8576b"
             ],
             [
              0.6666666666666666,
              "#ed7953"
             ],
             [
              0.7777777777777778,
              "#fb9f3a"
             ],
             [
              0.8888888888888888,
              "#fdca26"
             ],
             [
              1,
              "#f0f921"
             ]
            ],
            "type": "surface"
           }
          ],
          "table": [
           {
            "cells": {
             "fill": {
              "color": "#EBF0F8"
             },
             "line": {
              "color": "white"
             }
            },
            "header": {
             "fill": {
              "color": "#C8D4E3"
             },
             "line": {
              "color": "white"
             }
            },
            "type": "table"
           }
          ]
         },
         "layout": {
          "annotationdefaults": {
           "arrowcolor": "#2a3f5f",
           "arrowhead": 0,
           "arrowwidth": 1
          },
          "autotypenumbers": "strict",
          "coloraxis": {
           "colorbar": {
            "outlinewidth": 0,
            "ticks": ""
           }
          },
          "colorscale": {
           "diverging": [
            [
             0,
             "#8e0152"
            ],
            [
             0.1,
             "#c51b7d"
            ],
            [
             0.2,
             "#de77ae"
            ],
            [
             0.3,
             "#f1b6da"
            ],
            [
             0.4,
             "#fde0ef"
            ],
            [
             0.5,
             "#f7f7f7"
            ],
            [
             0.6,
             "#e6f5d0"
            ],
            [
             0.7,
             "#b8e186"
            ],
            [
             0.8,
             "#7fbc41"
            ],
            [
             0.9,
             "#4d9221"
            ],
            [
             1,
             "#276419"
            ]
           ],
           "sequential": [
            [
             0,
             "#0d0887"
            ],
            [
             0.1111111111111111,
             "#46039f"
            ],
            [
             0.2222222222222222,
             "#7201a8"
            ],
            [
             0.3333333333333333,
             "#9c179e"
            ],
            [
             0.4444444444444444,
             "#bd3786"
            ],
            [
             0.5555555555555556,
             "#d8576b"
            ],
            [
             0.6666666666666666,
             "#ed7953"
            ],
            [
             0.7777777777777778,
             "#fb9f3a"
            ],
            [
             0.8888888888888888,
             "#fdca26"
            ],
            [
             1,
             "#f0f921"
            ]
           ],
           "sequentialminus": [
            [
             0,
             "#0d0887"
            ],
            [
             0.1111111111111111,
             "#46039f"
            ],
            [
             0.2222222222222222,
             "#7201a8"
            ],
            [
             0.3333333333333333,
             "#9c179e"
            ],
            [
             0.4444444444444444,
             "#bd3786"
            ],
            [
             0.5555555555555556,
             "#d8576b"
            ],
            [
             0.6666666666666666,
             "#ed7953"
            ],
            [
             0.7777777777777778,
             "#fb9f3a"
            ],
            [
             0.8888888888888888,
             "#fdca26"
            ],
            [
             1,
             "#f0f921"
            ]
           ]
          },
          "colorway": [
           "#636efa",
           "#EF553B",
           "#00cc96",
           "#ab63fa",
           "#FFA15A",
           "#19d3f3",
           "#FF6692",
           "#B6E880",
           "#FF97FF",
           "#FECB52"
          ],
          "font": {
           "color": "#2a3f5f"
          },
          "geo": {
           "bgcolor": "white",
           "lakecolor": "white",
           "landcolor": "#E5ECF6",
           "showlakes": true,
           "showland": true,
           "subunitcolor": "white"
          },
          "hoverlabel": {
           "align": "left"
          },
          "hovermode": "closest",
          "mapbox": {
           "style": "light"
          },
          "paper_bgcolor": "white",
          "plot_bgcolor": "#E5ECF6",
          "polar": {
           "angularaxis": {
            "gridcolor": "white",
            "linecolor": "white",
            "ticks": ""
           },
           "bgcolor": "#E5ECF6",
           "radialaxis": {
            "gridcolor": "white",
            "linecolor": "white",
            "ticks": ""
           }
          },
          "scene": {
           "xaxis": {
            "backgroundcolor": "#E5ECF6",
            "gridcolor": "white",
            "gridwidth": 2,
            "linecolor": "white",
            "showbackground": true,
            "ticks": "",
            "zerolinecolor": "white"
           },
           "yaxis": {
            "backgroundcolor": "#E5ECF6",
            "gridcolor": "white",
            "gridwidth": 2,
            "linecolor": "white",
            "showbackground": true,
            "ticks": "",
            "zerolinecolor": "white"
           },
           "zaxis": {
            "backgroundcolor": "#E5ECF6",
            "gridcolor": "white",
            "gridwidth": 2,
            "linecolor": "white",
            "showbackground": true,
            "ticks": "",
            "zerolinecolor": "white"
           }
          },
          "shapedefaults": {
           "line": {
            "color": "#2a3f5f"
           }
          },
          "ternary": {
           "aaxis": {
            "gridcolor": "white",
            "linecolor": "white",
            "ticks": ""
           },
           "baxis": {
            "gridcolor": "white",
            "linecolor": "white",
            "ticks": ""
           },
           "bgcolor": "#E5ECF6",
           "caxis": {
            "gridcolor": "white",
            "linecolor": "white",
            "ticks": ""
           }
          },
          "title": {
           "x": 0.05
          },
          "xaxis": {
           "automargin": true,
           "gridcolor": "white",
           "linecolor": "white",
           "ticks": "",
           "title": {
            "standoff": 15
           },
           "zerolinecolor": "white",
           "zerolinewidth": 2
          },
          "yaxis": {
           "automargin": true,
           "gridcolor": "white",
           "linecolor": "white",
           "ticks": "",
           "title": {
            "standoff": 15
           },
           "zerolinecolor": "white",
           "zerolinewidth": 2
          }
         }
        },
        "title": {
         "text": "Semantic Expansion over Writing Sessions<br><span style=\"font-size: 12px;\">*Measuring how well humans are learning while writing with GenAI</span>"
        },
        "width": 1800,
        "xaxis": {
         "anchor": "y",
         "domain": [
          0,
          1
         ],
         "gridcolor": "white",
         "linecolor": "black",
         "mirror": false,
         "range": [
          -1,
          105
         ],
         "showline": true,
         "ticks": "outside",
         "title": {
          "text": "Progress into the writing session"
         }
        },
        "yaxis": {
         "anchor": "x",
         "domain": [
          0,
          1
         ],
         "gridcolor": "white",
         "linecolor": "black",
         "mirror": false,
         "showline": true,
         "ticks": "outside",
         "title": {
          "text": "Scores"
         }
        }
       }
      }
     },
     "metadata": {},
     "output_type": "display_data"
    },
    {
     "name": "stdout",
     "output_type": "stream",
     "text": [
      "legislation_corporate_5\n"
     ]
    },
    {
     "data": {
      "application/vnd.plotly.v1+json": {
       "config": {
        "plotlyServerURL": "https://plot.ly"
       },
       "data": [
        {
         "hovertemplate": "x=%{x}<br>y=%{y}<extra></extra>",
         "line": {
          "color": "#64B5F6",
          "width": 3
         },
         "marker": {
          "color": "#64B5F6",
          "size": 7
         },
         "mode": "lines+markers",
         "showlegend": false,
         "type": "scatter",
         "x": [
          62,
          63
         ],
         "xaxis": "x",
         "y": [
          17.85434901714325,
          18.554831862449646
         ],
         "yaxis": "y"
        },
        {
         "hovertemplate": "x=%{x}<br>y=%{y}<extra></extra>",
         "line": {
          "color": "#64B5F6",
          "width": 3
         },
         "marker": {
          "color": "#64B5F6",
          "size": 7
         },
         "mode": "lines+markers",
         "showlegend": false,
         "type": "scatter",
         "x": [
          53,
          54
         ],
         "xaxis": "x",
         "y": [
          15.734781801700592,
          14.50924301147461
         ],
         "yaxis": "y"
        },
        {
         "hovertemplate": "x=%{x}<br>y=%{y}<extra></extra>",
         "line": {
          "color": "#64B5F6",
          "width": 3
         },
         "marker": {
          "color": "#64B5F6",
          "size": 7
         },
         "mode": "lines+markers",
         "showlegend": false,
         "type": "scatter",
         "x": [
          48,
          49
         ],
         "xaxis": "x",
         "y": [
          14.85924208164215,
          15.339208126068115
         ],
         "yaxis": "y"
        },
        {
         "hovertemplate": "x=%{x}<br>y=%{y}<extra></extra>",
         "line": {
          "color": "#64B5F6",
          "width": 3
         },
         "marker": {
          "color": "#64B5F6",
          "size": 7
         },
         "mode": "lines+markers",
         "showlegend": false,
         "type": "scatter",
         "x": [
          45,
          46
         ],
         "xaxis": "x",
         "y": [
          15.338219404220581,
          16.153051614761353
         ],
         "yaxis": "y"
        },
        {
         "hovertemplate": "x=%{x}<br>y=%{y}<extra></extra>",
         "line": {
          "color": "#64B5F6",
          "width": 3
         },
         "marker": {
          "color": "#64B5F6",
          "size": 7
         },
         "mode": "lines+markers",
         "showlegend": false,
         "type": "scatter",
         "x": [
          35,
          36
         ],
         "xaxis": "x",
         "y": [
          13.301075398921967,
          12.894277155399323
         ],
         "yaxis": "y"
        },
        {
         "hovertemplate": "x=%{x}<br>y=%{y}<extra></extra>",
         "line": {
          "color": "#64B5F6",
          "width": 3
         },
         "marker": {
          "color": "#64B5F6",
          "size": 7
         },
         "mode": "lines+markers",
         "showlegend": false,
         "type": "scatter",
         "x": [
          31,
          32
         ],
         "xaxis": "x",
         "y": [
          13.111225306987762,
          13.90914386510849
         ],
         "yaxis": "y"
        },
        {
         "hovertemplate": "x=%{x}<br>y=%{y}<extra></extra>",
         "line": {
          "color": "#ff8fab",
          "width": 3
         },
         "marker": {
          "color": "#ff8fab",
          "size": 7
         },
         "mode": "lines+markers",
         "showlegend": false,
         "type": "scatter",
         "x": [
          63,
          64
         ],
         "xaxis": "x",
         "y": [
          18.554831862449646,
          18.898576533794404
         ],
         "yaxis": "y"
        },
        {
         "hovertemplate": "x=%{x}<br>y=%{y}<extra></extra>",
         "line": {
          "color": "#ff8fab",
          "width": 3
         },
         "marker": {
          "color": "#ff8fab",
          "size": 7
         },
         "mode": "lines+markers",
         "showlegend": false,
         "type": "scatter",
         "x": [
          60,
          61
         ],
         "xaxis": "x",
         "y": [
          17.294090151786804,
          17.69061654806137
         ],
         "yaxis": "y"
        },
        {
         "hovertemplate": "x=%{x}<br>y=%{y}<extra></extra>",
         "line": {
          "color": "#ff8fab",
          "width": 3
         },
         "marker": {
          "color": "#ff8fab",
          "size": 7
         },
         "mode": "lines+markers",
         "showlegend": false,
         "type": "scatter",
         "x": [
          58,
          59
         ],
         "xaxis": "x",
         "y": [
          16.758277535438538,
          17.256994247436523
         ],
         "yaxis": "y"
        },
        {
         "hovertemplate": "x=%{x}<br>y=%{y}<extra></extra>",
         "line": {
          "color": "#ff8fab",
          "width": 3
         },
         "marker": {
          "color": "#ff8fab",
          "size": 7
         },
         "mode": "lines+markers",
         "showlegend": false,
         "type": "scatter",
         "x": [
          56,
          57
         ],
         "xaxis": "x",
         "y": [
          16.28570556640625,
          16.709550404548644
         ],
         "yaxis": "y"
        },
        {
         "hovertemplate": "x=%{x}<br>y=%{y}<extra></extra>",
         "line": {
          "color": "#ff8fab",
          "width": 3
         },
         "marker": {
          "color": "#ff8fab",
          "size": 7
         },
         "mode": "lines+markers",
         "showlegend": false,
         "type": "scatter",
         "x": [
          54,
          55
         ],
         "xaxis": "x",
         "y": [
          14.50924301147461,
          15.019054281711579
         ],
         "yaxis": "y"
        },
        {
         "hovertemplate": "x=%{x}<br>y=%{y}<extra></extra>",
         "line": {
          "color": "#ff8fab",
          "width": 3
         },
         "marker": {
          "color": "#ff8fab",
          "size": 7
         },
         "mode": "lines+markers",
         "showlegend": false,
         "type": "scatter",
         "x": [
          49,
          50
         ],
         "xaxis": "x",
         "y": [
          15.339208126068115,
          15.770597422122956
         ],
         "yaxis": "y"
        },
        {
         "hovertemplate": "x=%{x}<br>y=%{y}<extra></extra>",
         "line": {
          "color": "#ff8fab",
          "width": 3
         },
         "marker": {
          "color": "#ff8fab",
          "size": 7
         },
         "mode": "lines+markers",
         "showlegend": false,
         "type": "scatter",
         "x": [
          46,
          47
         ],
         "xaxis": "x",
         "y": [
          16.153051614761353,
          16.59255337715149
         ],
         "yaxis": "y"
        },
        {
         "hovertemplate": "x=%{x}<br>y=%{y}<extra></extra>",
         "line": {
          "color": "#ff8fab",
          "width": 3
         },
         "marker": {
          "color": "#ff8fab",
          "size": 7
         },
         "mode": "lines+markers",
         "showlegend": false,
         "type": "scatter",
         "x": [
          44,
          45
         ],
         "xaxis": "x",
         "y": [
          14.943819880485535,
          15.338219404220581
         ],
         "yaxis": "y"
        },
        {
         "hovertemplate": "x=%{x}<br>y=%{y}<extra></extra>",
         "line": {
          "color": "#ff8fab",
          "width": 3
         },
         "marker": {
          "color": "#ff8fab",
          "size": 7
         },
         "mode": "lines+markers",
         "showlegend": false,
         "type": "scatter",
         "x": [
          41,
          42
         ],
         "xaxis": "x",
         "y": [
          14.066230654716492,
          14.455905020236969
         ],
         "yaxis": "y"
        },
        {
         "hovertemplate": "x=%{x}<br>y=%{y}<extra></extra>",
         "line": {
          "color": "#ff8fab",
          "width": 3
         },
         "marker": {
          "color": "#ff8fab",
          "size": 7
         },
         "mode": "lines+markers",
         "showlegend": false,
         "type": "scatter",
         "x": [
          36,
          37
         ],
         "xaxis": "x",
         "y": [
          12.894277155399323,
          13.249608135223388
         ],
         "yaxis": "y"
        },
        {
         "hovertemplate": "x=%{x}<br>y=%{y}<extra></extra>",
         "line": {
          "color": "#ff8fab",
          "width": 3
         },
         "marker": {
          "color": "#ff8fab",
          "size": 7
         },
         "mode": "lines+markers",
         "showlegend": false,
         "type": "scatter",
         "x": [
          32,
          33
         ],
         "xaxis": "x",
         "y": [
          13.90914386510849,
          14.227410793304443
         ],
         "yaxis": "y"
        },
        {
         "hovertemplate": "x=%{x}<br>y=%{y}<extra></extra>",
         "line": {
          "color": "#ff8fab",
          "width": 3
         },
         "marker": {
          "color": "#ff8fab",
          "size": 7
         },
         "mode": "lines+markers",
         "showlegend": false,
         "type": "scatter",
         "x": [
          29,
          30
         ],
         "xaxis": "x",
         "y": [
          12.867784142494202,
          13.301126897335052
         ],
         "yaxis": "y"
        },
        {
         "hovertemplate": "x=%{x}<br>y=%{y}<extra></extra>",
         "line": {
          "color": "#ff8fab",
          "width": 3
         },
         "marker": {
          "color": "#ff8fab",
          "size": 7
         },
         "mode": "lines+markers",
         "showlegend": false,
         "type": "scatter",
         "x": [
          26,
          27
         ],
         "xaxis": "x",
         "y": [
          11.560766041278839,
          9.944756066799163
         ],
         "yaxis": "y"
        },
        {
         "hovertemplate": "x=%{x}<br>y=%{y}<extra></extra>",
         "line": {
          "color": "#ff8fab",
          "width": 3
         },
         "marker": {
          "color": "#ff8fab",
          "size": 7
         },
         "mode": "lines+markers",
         "showlegend": false,
         "type": "scatter",
         "x": [
          21,
          22
         ],
         "xaxis": "x",
         "y": [
          8.752146184444427,
          9.275913429260253
         ],
         "yaxis": "y"
        },
        {
         "hovertemplate": "x=%{x}<br>y=%{y}<extra></extra>",
         "line": {
          "color": "#ff8fab",
          "width": 3
         },
         "marker": {
          "color": "#ff8fab",
          "size": 7
         },
         "mode": "lines+markers",
         "showlegend": false,
         "type": "scatter",
         "x": [
          17,
          18
         ],
         "xaxis": "x",
         "y": [
          7.4623085260391235,
          7.922033357620239
         ],
         "yaxis": "y"
        },
        {
         "hovertemplate": "x=%{x}<br>y=%{y}<extra></extra>",
         "line": {
          "color": "#ff8fab",
          "width": 3
         },
         "marker": {
          "color": "#ff8fab",
          "size": 7
         },
         "mode": "lines+markers",
         "showlegend": false,
         "type": "scatter",
         "x": [
          13,
          14
         ],
         "xaxis": "x",
         "y": [
          5.14600270986557,
          5.6176523804664615
         ],
         "yaxis": "y"
        },
        {
         "hovertemplate": "x=%{x}<br>y=%{y}<extra></extra>",
         "line": {
          "color": "#ff8fab",
          "width": 3
         },
         "marker": {
          "color": "#ff8fab",
          "size": 7
         },
         "mode": "lines+markers",
         "showlegend": false,
         "type": "scatter",
         "x": [
          9,
          10
         ],
         "xaxis": "x",
         "y": [
          3.4837191104888916,
          3.871078670024872
         ],
         "yaxis": "y"
        },
        {
         "hovertemplate": "x=%{x}<br>y=%{y}<extra></extra>",
         "line": {
          "color": "#ff8fab",
          "width": 3
         },
         "marker": {
          "color": "#ff8fab",
          "size": 7
         },
         "mode": "lines+markers",
         "showlegend": false,
         "type": "scatter",
         "x": [
          5,
          6
         ],
         "xaxis": "x",
         "y": [
          2.5516918301582336,
          2.848810636997223
         ],
         "yaxis": "y"
        },
        {
         "hovertemplate": "x=%{x}<br>y=%{y}<extra></extra>",
         "line": {
          "color": "#023e8a",
          "width": 3
         },
         "marker": {
          "color": "#023e8a",
          "size": 7
         },
         "mode": "lines+markers",
         "showlegend": false,
         "type": "scatter",
         "x": [
          52,
          53
         ],
         "xaxis": "x",
         "y": [
          15.336974918842316,
          15.734781801700592
         ],
         "yaxis": "y"
        },
        {
         "hovertemplate": "x=%{x}<br>y=%{y}<extra></extra>",
         "line": {
          "color": "#023e8a",
          "width": 3
         },
         "marker": {
          "color": "#023e8a",
          "size": 7
         },
         "mode": "lines+markers",
         "showlegend": false,
         "type": "scatter",
         "x": [
          43,
          44
         ],
         "xaxis": "x",
         "y": [
          14.541945993900299,
          14.943819880485535
         ],
         "yaxis": "y"
        },
        {
         "hovertemplate": "x=%{x}<br>y=%{y}<extra></extra>",
         "line": {
          "color": "#023e8a",
          "width": 3
         },
         "marker": {
          "color": "#023e8a",
          "size": 7
         },
         "mode": "lines+markers",
         "showlegend": false,
         "type": "scatter",
         "x": [
          40,
          41
         ],
         "xaxis": "x",
         "y": [
          13.674764394760132,
          14.066230654716492
         ],
         "yaxis": "y"
        },
        {
         "hovertemplate": "x=%{x}<br>y=%{y}<extra></extra>",
         "line": {
          "color": "#023e8a",
          "width": 3
         },
         "marker": {
          "color": "#023e8a",
          "size": 7
         },
         "mode": "lines+markers",
         "showlegend": false,
         "type": "scatter",
         "x": [
          34,
          35
         ],
         "xaxis": "x",
         "y": [
          13.070664823055267,
          13.301075398921967
         ],
         "yaxis": "y"
        },
        {
         "hovertemplate": "x=%{x}<br>y=%{y}<extra></extra>",
         "line": {
          "color": "#023e8a",
          "width": 3
         },
         "marker": {
          "color": "#023e8a",
          "size": 7
         },
         "mode": "lines+markers",
         "showlegend": false,
         "type": "scatter",
         "x": [
          28,
          29
         ],
         "xaxis": "x",
         "y": [
          12.503178060054779,
          12.867784142494202
         ],
         "yaxis": "y"
        },
        {
         "hovertemplate": "x=%{x}<br>y=%{y}<extra></extra>",
         "line": {
          "color": "#023e8a",
          "width": 3
         },
         "marker": {
          "color": "#023e8a",
          "size": 7
         },
         "mode": "lines+markers",
         "showlegend": false,
         "type": "scatter",
         "x": [
          25,
          26
         ],
         "xaxis": "x",
         "y": [
          10.698417007923126,
          11.560766041278839
         ],
         "yaxis": "y"
        },
        {
         "hovertemplate": "x=%{x}<br>y=%{y}<extra></extra>",
         "line": {
          "color": "#023e8a",
          "width": 3
         },
         "marker": {
          "color": "#023e8a",
          "size": 7
         },
         "mode": "lines+markers",
         "showlegend": false,
         "type": "scatter",
         "x": [
          24,
          25
         ],
         "xaxis": "x",
         "y": [
          10.366310775279999,
          10.698417007923126
         ],
         "yaxis": "y"
        },
        {
         "hovertemplate": "x=%{x}<br>y=%{y}<extra></extra>",
         "line": {
          "color": "#023e8a",
          "width": 3
         },
         "marker": {
          "color": "#023e8a",
          "size": 7
         },
         "mode": "lines+markers",
         "showlegend": false,
         "type": "scatter",
         "x": [
          23,
          24
         ],
         "xaxis": "x",
         "y": [
          10.020343482494354,
          10.366310775279999
         ],
         "yaxis": "y"
        },
        {
         "hovertemplate": "x=%{x}<br>y=%{y}<extra></extra>",
         "line": {
          "color": "#023e8a",
          "width": 3
         },
         "marker": {
          "color": "#023e8a",
          "size": 7
         },
         "mode": "lines+markers",
         "showlegend": false,
         "type": "scatter",
         "x": [
          20,
          21
         ],
         "xaxis": "x",
         "y": [
          8.47992092370987,
          8.752146184444427
         ],
         "yaxis": "y"
        },
        {
         "hovertemplate": "x=%{x}<br>y=%{y}<extra></extra>",
         "line": {
          "color": "#023e8a",
          "width": 3
         },
         "marker": {
          "color": "#023e8a",
          "size": 7
         },
         "mode": "lines+markers",
         "showlegend": false,
         "type": "scatter",
         "x": [
          19,
          20
         ],
         "xaxis": "x",
         "y": [
          8.124843001365662,
          8.47992092370987
         ],
         "yaxis": "y"
        },
        {
         "hovertemplate": "x=%{x}<br>y=%{y}<extra></extra>",
         "line": {
          "color": "#023e8a",
          "width": 3
         },
         "marker": {
          "color": "#023e8a",
          "size": 7
         },
         "mode": "lines+markers",
         "showlegend": false,
         "type": "scatter",
         "x": [
          16,
          17
         ],
         "xaxis": "x",
         "y": [
          7.129157304763794,
          7.4623085260391235
         ],
         "yaxis": "y"
        },
        {
         "hovertemplate": "x=%{x}<br>y=%{y}<extra></extra>",
         "line": {
          "color": "#023e8a",
          "width": 3
         },
         "marker": {
          "color": "#023e8a",
          "size": 7
         },
         "mode": "lines+markers",
         "showlegend": false,
         "type": "scatter",
         "x": [
          15,
          16
         ],
         "xaxis": "x",
         "y": [
          6.543671607971191,
          7.129157304763794
         ],
         "yaxis": "y"
        },
        {
         "hovertemplate": "x=%{x}<br>y=%{y}<extra></extra>",
         "line": {
          "color": "#023e8a",
          "width": 3
         },
         "marker": {
          "color": "#023e8a",
          "size": 7
         },
         "mode": "lines+markers",
         "showlegend": false,
         "type": "scatter",
         "x": [
          12,
          13
         ],
         "xaxis": "x",
         "y": [
          4.787146329879761,
          5.14600270986557
         ],
         "yaxis": "y"
        },
        {
         "hovertemplate": "x=%{x}<br>y=%{y}<extra></extra>",
         "line": {
          "color": "#023e8a",
          "width": 3
         },
         "marker": {
          "color": "#023e8a",
          "size": 7
         },
         "mode": "lines+markers",
         "showlegend": false,
         "type": "scatter",
         "x": [
          11,
          12
         ],
         "xaxis": "x",
         "y": [
          4.223755776882172,
          4.787146329879761
         ],
         "yaxis": "y"
        },
        {
         "hovertemplate": "x=%{x}<br>y=%{y}<extra></extra>",
         "line": {
          "color": "#023e8a",
          "width": 3
         },
         "marker": {
          "color": "#023e8a",
          "size": 7
         },
         "mode": "lines+markers",
         "showlegend": false,
         "type": "scatter",
         "x": [
          8,
          9
         ],
         "xaxis": "x",
         "y": [
          2.9314240217208862,
          3.4837191104888916
         ],
         "yaxis": "y"
        },
        {
         "hovertemplate": "x=%{x}<br>y=%{y}<extra></extra>",
         "line": {
          "color": "#023e8a",
          "width": 3
         },
         "marker": {
          "color": "#023e8a",
          "size": 7
         },
         "mode": "lines+markers",
         "showlegend": false,
         "type": "scatter",
         "x": [
          7,
          8
         ],
         "xaxis": "x",
         "y": [
          2.677396833896637,
          2.9314240217208862
         ],
         "yaxis": "y"
        },
        {
         "hovertemplate": "x=%{x}<br>y=%{y}<extra></extra>",
         "line": {
          "color": "#023e8a",
          "width": 3
         },
         "marker": {
          "color": "#023e8a",
          "size": 7
         },
         "mode": "lines+markers",
         "showlegend": false,
         "type": "scatter",
         "x": [
          4,
          5
         ],
         "xaxis": "x",
         "y": [
          1.871074378490448,
          2.5516918301582336
         ],
         "yaxis": "y"
        },
        {
         "hovertemplate": "x=%{x}<br>y=%{y}<extra></extra>",
         "line": {
          "color": "#023e8a",
          "width": 3
         },
         "marker": {
          "color": "#023e8a",
          "size": 7
         },
         "mode": "lines+markers",
         "showlegend": false,
         "type": "scatter",
         "x": [
          3,
          4
         ],
         "xaxis": "x",
         "y": [
          1.3412423133850098,
          1.871074378490448
         ],
         "yaxis": "y"
        },
        {
         "hovertemplate": "x=%{x}<br>y=%{y}<extra></extra>",
         "line": {
          "color": "#023e8a",
          "width": 3
         },
         "marker": {
          "color": "#023e8a",
          "size": 7
         },
         "mode": "lines+markers",
         "showlegend": false,
         "type": "scatter",
         "x": [
          2,
          3
         ],
         "xaxis": "x",
         "y": [
          0.6015324592590332,
          1.3412423133850098
         ],
         "yaxis": "y"
        },
        {
         "hovertemplate": "x=%{x}<br>y=%{y}<extra></extra>",
         "line": {
          "color": "#023e8a",
          "width": 3
         },
         "marker": {
          "color": "#023e8a",
          "size": 7
         },
         "mode": "lines+markers",
         "showlegend": false,
         "type": "scatter",
         "x": [
          1,
          2
         ],
         "xaxis": "x",
         "y": [
          0,
          0.6015324592590332
         ],
         "yaxis": "y"
        },
        {
         "hovertemplate": "x=%{x}<br>y=%{y}<extra></extra>",
         "line": {
          "color": "#023e8a",
          "width": 3
         },
         "marker": {
          "color": "#023e8a",
          "size": 7
         },
         "mode": "lines+markers",
         "showlegend": false,
         "type": "scatter",
         "x": [
          0,
          1
         ],
         "xaxis": "x",
         "y": [
          0,
          0.29318374395370483
         ],
         "yaxis": "y"
        },
        {
         "hovertemplate": "x=%{x}<br>y=%{y}<extra></extra>",
         "line": {
          "color": "#c1121f",
          "width": 3
         },
         "marker": {
          "color": "#c1121f",
          "size": 7
         },
         "mode": "lines+markers",
         "showlegend": false,
         "type": "scatter",
         "x": [
          64,
          65
         ],
         "xaxis": "x",
         "y": [
          17.85434901714325,
          18.2824627161026
         ],
         "yaxis": "y"
        },
        {
         "hovertemplate": "x=%{x}<br>y=%{y}<extra></extra>",
         "line": {
          "color": "#c1121f",
          "width": 3
         },
         "marker": {
          "color": "#c1121f",
          "size": 7
         },
         "mode": "lines+markers",
         "showlegend": false,
         "type": "scatter",
         "x": [
          61,
          62
         ],
         "xaxis": "x",
         "y": [
          17.294090151786804,
          17.85434901714325
         ],
         "yaxis": "y"
        },
        {
         "hovertemplate": "x=%{x}<br>y=%{y}<extra></extra>",
         "line": {
          "color": "#c1121f",
          "width": 3
         },
         "marker": {
          "color": "#c1121f",
          "size": 7
         },
         "mode": "lines+markers",
         "showlegend": false,
         "type": "scatter",
         "x": [
          59,
          60
         ],
         "xaxis": "x",
         "y": [
          16.758277535438538,
          17.294090151786804
         ],
         "yaxis": "y"
        },
        {
         "hovertemplate": "x=%{x}<br>y=%{y}<extra></extra>",
         "line": {
          "color": "#c1121f",
          "width": 3
         },
         "marker": {
          "color": "#c1121f",
          "size": 7
         },
         "mode": "lines+markers",
         "showlegend": false,
         "type": "scatter",
         "x": [
          57,
          58
         ],
         "xaxis": "x",
         "y": [
          16.28570556640625,
          16.758277535438538
         ],
         "yaxis": "y"
        },
        {
         "hovertemplate": "x=%{x}<br>y=%{y}<extra></extra>",
         "line": {
          "color": "#c1121f",
          "width": 3
         },
         "marker": {
          "color": "#c1121f",
          "size": 7
         },
         "mode": "lines+markers",
         "showlegend": false,
         "type": "scatter",
         "x": [
          55,
          56
         ],
         "xaxis": "x",
         "y": [
          15.734781801700592,
          16.28570556640625
         ],
         "yaxis": "y"
        },
        {
         "hovertemplate": "x=%{x}<br>y=%{y}<extra></extra>",
         "line": {
          "color": "#c1121f",
          "width": 3
         },
         "marker": {
          "color": "#c1121f",
          "size": 7
         },
         "mode": "lines+markers",
         "showlegend": false,
         "type": "scatter",
         "x": [
          50,
          51
         ],
         "xaxis": "x",
         "y": [
          14.85924208164215,
          15.336974918842316
         ],
         "yaxis": "y"
        },
        {
         "hovertemplate": "x=%{x}<br>y=%{y}<extra></extra>",
         "line": {
          "color": "#c1121f",
          "width": 3
         },
         "marker": {
          "color": "#c1121f",
          "size": 7
         },
         "mode": "lines+markers",
         "showlegend": false,
         "type": "scatter",
         "x": [
          42,
          43
         ],
         "xaxis": "x",
         "y": [
          14.066230654716492,
          14.541945993900299
         ],
         "yaxis": "y"
        },
        {
         "hovertemplate": "x=%{x}<br>y=%{y}<extra></extra>",
         "line": {
          "color": "#c1121f",
          "width": 3
         },
         "marker": {
          "color": "#c1121f",
          "size": 7
         },
         "mode": "lines+markers",
         "showlegend": false,
         "type": "scatter",
         "x": [
          37,
          38
         ],
         "xaxis": "x",
         "y": [
          13.301075398921967,
          14.090674579143524
         ],
         "yaxis": "y"
        },
        {
         "hovertemplate": "x=%{x}<br>y=%{y}<extra></extra>",
         "line": {
          "color": "#c1121f",
          "width": 3
         },
         "marker": {
          "color": "#c1121f",
          "size": 7
         },
         "mode": "lines+markers",
         "showlegend": false,
         "type": "scatter",
         "x": [
          33,
          34
         ],
         "xaxis": "x",
         "y": [
          13.111225306987762,
          13.070664823055267
         ],
         "yaxis": "y"
        },
        {
         "hovertemplate": "x=%{x}<br>y=%{y}<extra></extra>",
         "line": {
          "color": "#c1121f",
          "width": 3
         },
         "marker": {
          "color": "#c1121f",
          "size": 7
         },
         "mode": "lines+markers",
         "showlegend": false,
         "type": "scatter",
         "x": [
          30,
          31
         ],
         "xaxis": "x",
         "y": [
          12.867784142494202,
          13.111225306987762
         ],
         "yaxis": "y"
        },
        {
         "hovertemplate": "x=%{x}<br>y=%{y}<extra></extra>",
         "line": {
          "color": "#c1121f",
          "width": 3
         },
         "marker": {
          "color": "#c1121f",
          "size": 7
         },
         "mode": "lines+markers",
         "showlegend": false,
         "type": "scatter",
         "x": [
          27,
          28
         ],
         "xaxis": "x",
         "y": [
          11.560766041278839,
          12.503178060054779
         ],
         "yaxis": "y"
        },
        {
         "hovertemplate": "x=%{x}<br>y=%{y}<extra></extra>",
         "line": {
          "color": "#c1121f",
          "width": 3
         },
         "marker": {
          "color": "#c1121f",
          "size": 7
         },
         "mode": "lines+markers",
         "showlegend": false,
         "type": "scatter",
         "x": [
          22,
          23
         ],
         "xaxis": "x",
         "y": [
          8.752146184444427,
          10.020343482494354
         ],
         "yaxis": "y"
        },
        {
         "hovertemplate": "x=%{x}<br>y=%{y}<extra></extra>",
         "line": {
          "color": "#c1121f",
          "width": 3
         },
         "marker": {
          "color": "#c1121f",
          "size": 7
         },
         "mode": "lines+markers",
         "showlegend": false,
         "type": "scatter",
         "x": [
          18,
          19
         ],
         "xaxis": "x",
         "y": [
          7.4623085260391235,
          8.124843001365662
         ],
         "yaxis": "y"
        },
        {
         "hovertemplate": "x=%{x}<br>y=%{y}<extra></extra>",
         "line": {
          "color": "#c1121f",
          "width": 3
         },
         "marker": {
          "color": "#c1121f",
          "size": 7
         },
         "mode": "lines+markers",
         "showlegend": false,
         "type": "scatter",
         "x": [
          14,
          15
         ],
         "xaxis": "x",
         "y": [
          5.14600270986557,
          6.543671607971191
         ],
         "yaxis": "y"
        },
        {
         "hovertemplate": "x=%{x}<br>y=%{y}<extra></extra>",
         "line": {
          "color": "#c1121f",
          "width": 3
         },
         "marker": {
          "color": "#c1121f",
          "size": 7
         },
         "mode": "lines+markers",
         "showlegend": false,
         "type": "scatter",
         "x": [
          10,
          11
         ],
         "xaxis": "x",
         "y": [
          3.4837191104888916,
          4.223755776882172
         ],
         "yaxis": "y"
        },
        {
         "hovertemplate": "x=%{x}<br>y=%{y}<extra></extra>",
         "line": {
          "color": "#c1121f",
          "width": 3
         },
         "marker": {
          "color": "#c1121f",
          "size": 7
         },
         "mode": "lines+markers",
         "showlegend": false,
         "type": "scatter",
         "x": [
          6,
          7
         ],
         "xaxis": "x",
         "y": [
          2.5516918301582336,
          2.677396833896637
         ],
         "yaxis": "y"
        },
        {
         "hovertemplate": "x=%{x}<br>y=%{y}<extra></extra>",
         "line": {
          "color": "#9d4edd",
          "width": 3
         },
         "marker": {
          "color": "#9d4edd",
          "size": 7
         },
         "mode": "lines+markers",
         "showlegend": false,
         "type": "scatter",
         "x": [
          51,
          52
         ],
         "xaxis": "x",
         "y": [
          15.336974918842316,
          15.336974918842316
         ],
         "yaxis": "y"
        },
        {
         "hovertemplate": "x=%{x}<br>y=%{y}<extra></extra>",
         "line": {
          "color": "#9d4edd",
          "width": 3
         },
         "marker": {
          "color": "#9d4edd",
          "size": 7
         },
         "mode": "lines+markers",
         "showlegend": false,
         "type": "scatter",
         "x": [
          47,
          48
         ],
         "xaxis": "x",
         "y": [
          14.943819880485535,
          14.85924208164215
         ],
         "yaxis": "y"
        },
        {
         "hovertemplate": "x=%{x}<br>y=%{y}<extra></extra>",
         "line": {
          "color": "#9d4edd",
          "width": 3
         },
         "marker": {
          "color": "#9d4edd",
          "size": 7
         },
         "mode": "lines+markers",
         "showlegend": false,
         "type": "scatter",
         "x": [
          39,
          40
         ],
         "xaxis": "x",
         "y": [
          13.674280822277069,
          13.674764394760132
         ],
         "yaxis": "y"
        },
        {
         "hovertemplate": "x=%{x}<br>y=%{y}<extra></extra>",
         "line": {
          "color": "#9d4edd",
          "width": 3
         },
         "marker": {
          "color": "#9d4edd",
          "size": 7
         },
         "mode": "lines+markers",
         "showlegend": false,
         "type": "scatter",
         "x": [
          38,
          39
         ],
         "xaxis": "x",
         "y": [
          14.090674579143524,
          13.674280822277069
         ],
         "yaxis": "y"
        },
        {
         "line": {
          "color": "#64B5F6",
          "width": 2
         },
         "mode": "lines",
         "name": "human_insert_backstage",
         "showlegend": true,
         "type": "scatter",
         "x": [
          null
         ],
         "xaxis": "x",
         "y": [
          null
         ],
         "yaxis": "y"
        },
        {
         "line": {
          "color": "#ff8fab",
          "width": 2
         },
         "mode": "lines",
         "name": "ai_suggest_backstage",
         "showlegend": true,
         "type": "scatter",
         "x": [
          null
         ],
         "xaxis": "x",
         "y": [
          null
         ],
         "yaxis": "y"
        },
        {
         "line": {
          "color": "#023e8a",
          "width": 2
         },
         "mode": "lines",
         "name": "human_insert_frontstage",
         "showlegend": true,
         "type": "scatter",
         "x": [
          null
         ],
         "xaxis": "x",
         "y": [
          null
         ],
         "yaxis": "y"
        },
        {
         "line": {
          "color": "#c1121f",
          "width": 2
         },
         "mode": "lines",
         "name": "ai_insert_moved_to_frontstage",
         "showlegend": true,
         "type": "scatter",
         "x": [
          null
         ],
         "xaxis": "x",
         "y": [
          null
         ],
         "yaxis": "y"
        },
        {
         "line": {
          "color": "#9d4edd",
          "width": 2
         },
         "mode": "lines",
         "name": "human_delete_frontstage",
         "showlegend": true,
         "type": "scatter",
         "x": [
          null
         ],
         "xaxis": "x",
         "y": [
          null
         ],
         "yaxis": "y"
        },
        {
         "line": {
          "color": "#5a189a",
          "width": 2
         },
         "mode": "lines",
         "name": "human_insert_edit_frontstage",
         "showlegend": true,
         "type": "scatter",
         "x": [
          null
         ],
         "xaxis": "x",
         "y": [
          null
         ],
         "yaxis": "y"
        }
       ],
       "layout": {
        "annotations": [
         {
          "font": {
           "size": 16
          },
          "showarrow": false,
          "text": "Session: legislation_corporate_5",
          "x": 0.5,
          "xanchor": "center",
          "xref": "paper",
          "y": 1,
          "yanchor": "bottom",
          "yref": "paper"
         }
        ],
        "height": 500,
        "legend": {
         "title": {
          "font": {
           "color": "rgba(0, 0, 0, 0)"
          }
         }
        },
        "plot_bgcolor": "white",
        "showlegend": true,
        "template": {
         "data": {
          "bar": [
           {
            "error_x": {
             "color": "#2a3f5f"
            },
            "error_y": {
             "color": "#2a3f5f"
            },
            "marker": {
             "line": {
              "color": "#E5ECF6",
              "width": 0.5
             },
             "pattern": {
              "fillmode": "overlay",
              "size": 10,
              "solidity": 0.2
             }
            },
            "type": "bar"
           }
          ],
          "barpolar": [
           {
            "marker": {
             "line": {
              "color": "#E5ECF6",
              "width": 0.5
             },
             "pattern": {
              "fillmode": "overlay",
              "size": 10,
              "solidity": 0.2
             }
            },
            "type": "barpolar"
           }
          ],
          "carpet": [
           {
            "aaxis": {
             "endlinecolor": "#2a3f5f",
             "gridcolor": "white",
             "linecolor": "white",
             "minorgridcolor": "white",
             "startlinecolor": "#2a3f5f"
            },
            "baxis": {
             "endlinecolor": "#2a3f5f",
             "gridcolor": "white",
             "linecolor": "white",
             "minorgridcolor": "white",
             "startlinecolor": "#2a3f5f"
            },
            "type": "carpet"
           }
          ],
          "choropleth": [
           {
            "colorbar": {
             "outlinewidth": 0,
             "ticks": ""
            },
            "type": "choropleth"
           }
          ],
          "contour": [
           {
            "colorbar": {
             "outlinewidth": 0,
             "ticks": ""
            },
            "colorscale": [
             [
              0,
              "#0d0887"
             ],
             [
              0.1111111111111111,
              "#46039f"
             ],
             [
              0.2222222222222222,
              "#7201a8"
             ],
             [
              0.3333333333333333,
              "#9c179e"
             ],
             [
              0.4444444444444444,
              "#bd3786"
             ],
             [
              0.5555555555555556,
              "#d8576b"
             ],
             [
              0.6666666666666666,
              "#ed7953"
             ],
             [
              0.7777777777777778,
              "#fb9f3a"
             ],
             [
              0.8888888888888888,
              "#fdca26"
             ],
             [
              1,
              "#f0f921"
             ]
            ],
            "type": "contour"
           }
          ],
          "contourcarpet": [
           {
            "colorbar": {
             "outlinewidth": 0,
             "ticks": ""
            },
            "type": "contourcarpet"
           }
          ],
          "heatmap": [
           {
            "colorbar": {
             "outlinewidth": 0,
             "ticks": ""
            },
            "colorscale": [
             [
              0,
              "#0d0887"
             ],
             [
              0.1111111111111111,
              "#46039f"
             ],
             [
              0.2222222222222222,
              "#7201a8"
             ],
             [
              0.3333333333333333,
              "#9c179e"
             ],
             [
              0.4444444444444444,
              "#bd3786"
             ],
             [
              0.5555555555555556,
              "#d8576b"
             ],
             [
              0.6666666666666666,
              "#ed7953"
             ],
             [
              0.7777777777777778,
              "#fb9f3a"
             ],
             [
              0.8888888888888888,
              "#fdca26"
             ],
             [
              1,
              "#f0f921"
             ]
            ],
            "type": "heatmap"
           }
          ],
          "histogram": [
           {
            "marker": {
             "pattern": {
              "fillmode": "overlay",
              "size": 10,
              "solidity": 0.2
             }
            },
            "type": "histogram"
           }
          ],
          "histogram2d": [
           {
            "colorbar": {
             "outlinewidth": 0,
             "ticks": ""
            },
            "colorscale": [
             [
              0,
              "#0d0887"
             ],
             [
              0.1111111111111111,
              "#46039f"
             ],
             [
              0.2222222222222222,
              "#7201a8"
             ],
             [
              0.3333333333333333,
              "#9c179e"
             ],
             [
              0.4444444444444444,
              "#bd3786"
             ],
             [
              0.5555555555555556,
              "#d8576b"
             ],
             [
              0.6666666666666666,
              "#ed7953"
             ],
             [
              0.7777777777777778,
              "#fb9f3a"
             ],
             [
              0.8888888888888888,
              "#fdca26"
             ],
             [
              1,
              "#f0f921"
             ]
            ],
            "type": "histogram2d"
           }
          ],
          "histogram2dcontour": [
           {
            "colorbar": {
             "outlinewidth": 0,
             "ticks": ""
            },
            "colorscale": [
             [
              0,
              "#0d0887"
             ],
             [
              0.1111111111111111,
              "#46039f"
             ],
             [
              0.2222222222222222,
              "#7201a8"
             ],
             [
              0.3333333333333333,
              "#9c179e"
             ],
             [
              0.4444444444444444,
              "#bd3786"
             ],
             [
              0.5555555555555556,
              "#d8576b"
             ],
             [
              0.6666666666666666,
              "#ed7953"
             ],
             [
              0.7777777777777778,
              "#fb9f3a"
             ],
             [
              0.8888888888888888,
              "#fdca26"
             ],
             [
              1,
              "#f0f921"
             ]
            ],
            "type": "histogram2dcontour"
           }
          ],
          "mesh3d": [
           {
            "colorbar": {
             "outlinewidth": 0,
             "ticks": ""
            },
            "type": "mesh3d"
           }
          ],
          "parcoords": [
           {
            "line": {
             "colorbar": {
              "outlinewidth": 0,
              "ticks": ""
             }
            },
            "type": "parcoords"
           }
          ],
          "pie": [
           {
            "automargin": true,
            "type": "pie"
           }
          ],
          "scatter": [
           {
            "fillpattern": {
             "fillmode": "overlay",
             "size": 10,
             "solidity": 0.2
            },
            "type": "scatter"
           }
          ],
          "scatter3d": [
           {
            "line": {
             "colorbar": {
              "outlinewidth": 0,
              "ticks": ""
             }
            },
            "marker": {
             "colorbar": {
              "outlinewidth": 0,
              "ticks": ""
             }
            },
            "type": "scatter3d"
           }
          ],
          "scattercarpet": [
           {
            "marker": {
             "colorbar": {
              "outlinewidth": 0,
              "ticks": ""
             }
            },
            "type": "scattercarpet"
           }
          ],
          "scattergeo": [
           {
            "marker": {
             "colorbar": {
              "outlinewidth": 0,
              "ticks": ""
             }
            },
            "type": "scattergeo"
           }
          ],
          "scattergl": [
           {
            "marker": {
             "colorbar": {
              "outlinewidth": 0,
              "ticks": ""
             }
            },
            "type": "scattergl"
           }
          ],
          "scattermap": [
           {
            "marker": {
             "colorbar": {
              "outlinewidth": 0,
              "ticks": ""
             }
            },
            "type": "scattermap"
           }
          ],
          "scattermapbox": [
           {
            "marker": {
             "colorbar": {
              "outlinewidth": 0,
              "ticks": ""
             }
            },
            "type": "scattermapbox"
           }
          ],
          "scatterpolar": [
           {
            "marker": {
             "colorbar": {
              "outlinewidth": 0,
              "ticks": ""
             }
            },
            "type": "scatterpolar"
           }
          ],
          "scatterpolargl": [
           {
            "marker": {
             "colorbar": {
              "outlinewidth": 0,
              "ticks": ""
             }
            },
            "type": "scatterpolargl"
           }
          ],
          "scatterternary": [
           {
            "marker": {
             "colorbar": {
              "outlinewidth": 0,
              "ticks": ""
             }
            },
            "type": "scatterternary"
           }
          ],
          "surface": [
           {
            "colorbar": {
             "outlinewidth": 0,
             "ticks": ""
            },
            "colorscale": [
             [
              0,
              "#0d0887"
             ],
             [
              0.1111111111111111,
              "#46039f"
             ],
             [
              0.2222222222222222,
              "#7201a8"
             ],
             [
              0.3333333333333333,
              "#9c179e"
             ],
             [
              0.4444444444444444,
              "#bd3786"
             ],
             [
              0.5555555555555556,
              "#d8576b"
             ],
             [
              0.6666666666666666,
              "#ed7953"
             ],
             [
              0.7777777777777778,
              "#fb9f3a"
             ],
             [
              0.8888888888888888,
              "#fdca26"
             ],
             [
              1,
              "#f0f921"
             ]
            ],
            "type": "surface"
           }
          ],
          "table": [
           {
            "cells": {
             "fill": {
              "color": "#EBF0F8"
             },
             "line": {
              "color": "white"
             }
            },
            "header": {
             "fill": {
              "color": "#C8D4E3"
             },
             "line": {
              "color": "white"
             }
            },
            "type": "table"
           }
          ]
         },
         "layout": {
          "annotationdefaults": {
           "arrowcolor": "#2a3f5f",
           "arrowhead": 0,
           "arrowwidth": 1
          },
          "autotypenumbers": "strict",
          "coloraxis": {
           "colorbar": {
            "outlinewidth": 0,
            "ticks": ""
           }
          },
          "colorscale": {
           "diverging": [
            [
             0,
             "#8e0152"
            ],
            [
             0.1,
             "#c51b7d"
            ],
            [
             0.2,
             "#de77ae"
            ],
            [
             0.3,
             "#f1b6da"
            ],
            [
             0.4,
             "#fde0ef"
            ],
            [
             0.5,
             "#f7f7f7"
            ],
            [
             0.6,
             "#e6f5d0"
            ],
            [
             0.7,
             "#b8e186"
            ],
            [
             0.8,
             "#7fbc41"
            ],
            [
             0.9,
             "#4d9221"
            ],
            [
             1,
             "#276419"
            ]
           ],
           "sequential": [
            [
             0,
             "#0d0887"
            ],
            [
             0.1111111111111111,
             "#46039f"
            ],
            [
             0.2222222222222222,
             "#7201a8"
            ],
            [
             0.3333333333333333,
             "#9c179e"
            ],
            [
             0.4444444444444444,
             "#bd3786"
            ],
            [
             0.5555555555555556,
             "#d8576b"
            ],
            [
             0.6666666666666666,
             "#ed7953"
            ],
            [
             0.7777777777777778,
             "#fb9f3a"
            ],
            [
             0.8888888888888888,
             "#fdca26"
            ],
            [
             1,
             "#f0f921"
            ]
           ],
           "sequentialminus": [
            [
             0,
             "#0d0887"
            ],
            [
             0.1111111111111111,
             "#46039f"
            ],
            [
             0.2222222222222222,
             "#7201a8"
            ],
            [
             0.3333333333333333,
             "#9c179e"
            ],
            [
             0.4444444444444444,
             "#bd3786"
            ],
            [
             0.5555555555555556,
             "#d8576b"
            ],
            [
             0.6666666666666666,
             "#ed7953"
            ],
            [
             0.7777777777777778,
             "#fb9f3a"
            ],
            [
             0.8888888888888888,
             "#fdca26"
            ],
            [
             1,
             "#f0f921"
            ]
           ]
          },
          "colorway": [
           "#636efa",
           "#EF553B",
           "#00cc96",
           "#ab63fa",
           "#FFA15A",
           "#19d3f3",
           "#FF6692",
           "#B6E880",
           "#FF97FF",
           "#FECB52"
          ],
          "font": {
           "color": "#2a3f5f"
          },
          "geo": {
           "bgcolor": "white",
           "lakecolor": "white",
           "landcolor": "#E5ECF6",
           "showlakes": true,
           "showland": true,
           "subunitcolor": "white"
          },
          "hoverlabel": {
           "align": "left"
          },
          "hovermode": "closest",
          "mapbox": {
           "style": "light"
          },
          "paper_bgcolor": "white",
          "plot_bgcolor": "#E5ECF6",
          "polar": {
           "angularaxis": {
            "gridcolor": "white",
            "linecolor": "white",
            "ticks": ""
           },
           "bgcolor": "#E5ECF6",
           "radialaxis": {
            "gridcolor": "white",
            "linecolor": "white",
            "ticks": ""
           }
          },
          "scene": {
           "xaxis": {
            "backgroundcolor": "#E5ECF6",
            "gridcolor": "white",
            "gridwidth": 2,
            "linecolor": "white",
            "showbackground": true,
            "ticks": "",
            "zerolinecolor": "white"
           },
           "yaxis": {
            "backgroundcolor": "#E5ECF6",
            "gridcolor": "white",
            "gridwidth": 2,
            "linecolor": "white",
            "showbackground": true,
            "ticks": "",
            "zerolinecolor": "white"
           },
           "zaxis": {
            "backgroundcolor": "#E5ECF6",
            "gridcolor": "white",
            "gridwidth": 2,
            "linecolor": "white",
            "showbackground": true,
            "ticks": "",
            "zerolinecolor": "white"
           }
          },
          "shapedefaults": {
           "line": {
            "color": "#2a3f5f"
           }
          },
          "ternary": {
           "aaxis": {
            "gridcolor": "white",
            "linecolor": "white",
            "ticks": ""
           },
           "baxis": {
            "gridcolor": "white",
            "linecolor": "white",
            "ticks": ""
           },
           "bgcolor": "#E5ECF6",
           "caxis": {
            "gridcolor": "white",
            "linecolor": "white",
            "ticks": ""
           }
          },
          "title": {
           "x": 0.05
          },
          "xaxis": {
           "automargin": true,
           "gridcolor": "white",
           "linecolor": "white",
           "ticks": "",
           "title": {
            "standoff": 15
           },
           "zerolinecolor": "white",
           "zerolinewidth": 2
          },
          "yaxis": {
           "automargin": true,
           "gridcolor": "white",
           "linecolor": "white",
           "ticks": "",
           "title": {
            "standoff": 15
           },
           "zerolinecolor": "white",
           "zerolinewidth": 2
          }
         }
        },
        "title": {
         "text": "Semantic Expansion over Writing Sessions<br><span style=\"font-size: 12px;\">*Measuring how well humans are learning while writing with GenAI</span>"
        },
        "width": 1800,
        "xaxis": {
         "anchor": "y",
         "domain": [
          0,
          1
         ],
         "gridcolor": "white",
         "linecolor": "black",
         "mirror": false,
         "range": [
          -1,
          66
         ],
         "showline": true,
         "ticks": "outside",
         "title": {
          "text": "Progress into the writing session"
         }
        },
        "yaxis": {
         "anchor": "x",
         "domain": [
          0,
          1
         ],
         "gridcolor": "white",
         "linecolor": "black",
         "mirror": false,
         "showline": true,
         "ticks": "outside",
         "title": {
          "text": "Scores"
         }
        }
       }
      }
     },
     "metadata": {},
     "output_type": "display_data"
    },
    {
     "name": "stdout",
     "output_type": "stream",
     "text": [
      "legislation_corporate_6\n"
     ]
    },
    {
     "data": {
      "application/vnd.plotly.v1+json": {
       "config": {
        "plotlyServerURL": "https://plot.ly"
       },
       "data": [
        {
         "hovertemplate": "x=%{x}<br>y=%{y}<extra></extra>",
         "line": {
          "color": "#64B5F6",
          "width": 3
         },
         "marker": {
          "color": "#64B5F6",
          "size": 7
         },
         "mode": "lines+markers",
         "showlegend": false,
         "type": "scatter",
         "x": [
          110,
          111
         ],
         "xaxis": "x",
         "y": [
          21.651625752449036,
          22.471522450447083
         ],
         "yaxis": "y"
        },
        {
         "hovertemplate": "x=%{x}<br>y=%{y}<extra></extra>",
         "line": {
          "color": "#64B5F6",
          "width": 3
         },
         "marker": {
          "color": "#64B5F6",
          "size": 7
         },
         "mode": "lines+markers",
         "showlegend": false,
         "type": "scatter",
         "x": [
          107,
          108
         ],
         "xaxis": "x",
         "y": [
          21.49622756242752,
          21.89281165599823
         ],
         "yaxis": "y"
        },
        {
         "hovertemplate": "x=%{x}<br>y=%{y}<extra></extra>",
         "line": {
          "color": "#64B5F6",
          "width": 3
         },
         "marker": {
          "color": "#64B5F6",
          "size": 7
         },
         "mode": "lines+markers",
         "showlegend": false,
         "type": "scatter",
         "x": [
          104,
          105
         ],
         "xaxis": "x",
         "y": [
          21.048460841178894,
          21.527902722358704
         ],
         "yaxis": "y"
        },
        {
         "hovertemplate": "x=%{x}<br>y=%{y}<extra></extra>",
         "line": {
          "color": "#64B5F6",
          "width": 3
         },
         "marker": {
          "color": "#64B5F6",
          "size": 7
         },
         "mode": "lines+markers",
         "showlegend": false,
         "type": "scatter",
         "x": [
          69,
          70
         ],
         "xaxis": "x",
         "y": [
          12.665234386920929,
          10.308208525180817
         ],
         "yaxis": "y"
        },
        {
         "hovertemplate": "x=%{x}<br>y=%{y}<extra></extra>",
         "line": {
          "color": "#64B5F6",
          "width": 3
         },
         "marker": {
          "color": "#64B5F6",
          "size": 7
         },
         "mode": "lines+markers",
         "showlegend": false,
         "type": "scatter",
         "x": [
          64,
          65
         ],
         "xaxis": "x",
         "y": [
          12.782848298549652,
          13.177262485027313
         ],
         "yaxis": "y"
        },
        {
         "hovertemplate": "x=%{x}<br>y=%{y}<extra></extra>",
         "line": {
          "color": "#64B5F6",
          "width": 3
         },
         "marker": {
          "color": "#64B5F6",
          "size": 7
         },
         "mode": "lines+markers",
         "showlegend": false,
         "type": "scatter",
         "x": [
          57,
          58
         ],
         "xaxis": "x",
         "y": [
          9.970583975315094,
          10.58441549539566
         ],
         "yaxis": "y"
        },
        {
         "hovertemplate": "x=%{x}<br>y=%{y}<extra></extra>",
         "line": {
          "color": "#64B5F6",
          "width": 3
         },
         "marker": {
          "color": "#64B5F6",
          "size": 7
         },
         "mode": "lines+markers",
         "showlegend": false,
         "type": "scatter",
         "x": [
          53,
          54
         ],
         "xaxis": "x",
         "y": [
          9.486596035957337,
          10.140941429138184
         ],
         "yaxis": "y"
        },
        {
         "hovertemplate": "x=%{x}<br>y=%{y}<extra></extra>",
         "line": {
          "color": "#64B5F6",
          "width": 3
         },
         "marker": {
          "color": "#64B5F6",
          "size": 7
         },
         "mode": "lines+markers",
         "showlegend": false,
         "type": "scatter",
         "x": [
          51,
          52
         ],
         "xaxis": "x",
         "y": [
          8.855898559093475,
          9.191419780254364
         ],
         "yaxis": "y"
        },
        {
         "hovertemplate": "x=%{x}<br>y=%{y}<extra></extra>",
         "line": {
          "color": "#64B5F6",
          "width": 3
         },
         "marker": {
          "color": "#64B5F6",
          "size": 7
         },
         "mode": "lines+markers",
         "showlegend": false,
         "type": "scatter",
         "x": [
          48,
          49
         ],
         "xaxis": "x",
         "y": [
          8.350102365016937,
          8.775308609008789
         ],
         "yaxis": "y"
        },
        {
         "hovertemplate": "x=%{x}<br>y=%{y}<extra></extra>",
         "line": {
          "color": "#64B5F6",
          "width": 3
         },
         "marker": {
          "color": "#64B5F6",
          "size": 7
         },
         "mode": "lines+markers",
         "showlegend": false,
         "type": "scatter",
         "x": [
          43,
          44
         ],
         "xaxis": "x",
         "y": [
          7.0661070346832275,
          7.452850162982941
         ],
         "yaxis": "y"
        },
        {
         "hovertemplate": "x=%{x}<br>y=%{y}<extra></extra>",
         "line": {
          "color": "#64B5F6",
          "width": 3
         },
         "marker": {
          "color": "#64B5F6",
          "size": 7
         },
         "mode": "lines+markers",
         "showlegend": false,
         "type": "scatter",
         "x": [
          40,
          41
         ],
         "xaxis": "x",
         "y": [
          7.179929482936859,
          7.603317606449127
         ],
         "yaxis": "y"
        },
        {
         "hovertemplate": "x=%{x}<br>y=%{y}<extra></extra>",
         "line": {
          "color": "#64B5F6",
          "width": 3
         },
         "marker": {
          "color": "#64B5F6",
          "size": 7
         },
         "mode": "lines+markers",
         "showlegend": false,
         "type": "scatter",
         "x": [
          38,
          39
         ],
         "xaxis": "x",
         "y": [
          6.285137057304382,
          6.631269633769989
         ],
         "yaxis": "y"
        },
        {
         "hovertemplate": "x=%{x}<br>y=%{y}<extra></extra>",
         "line": {
          "color": "#64B5F6",
          "width": 3
         },
         "marker": {
          "color": "#64B5F6",
          "size": 7
         },
         "mode": "lines+markers",
         "showlegend": false,
         "type": "scatter",
         "x": [
          35,
          36
         ],
         "xaxis": "x",
         "y": [
          5.371881902217865,
          4.25630110502243
         ],
         "yaxis": "y"
        },
        {
         "hovertemplate": "x=%{x}<br>y=%{y}<extra></extra>",
         "line": {
          "color": "#64B5F6",
          "width": 3
         },
         "marker": {
          "color": "#64B5F6",
          "size": 7
         },
         "mode": "lines+markers",
         "showlegend": false,
         "type": "scatter",
         "x": [
          29,
          30
         ],
         "xaxis": "x",
         "y": [
          4.2002578496932985,
          5.142787766456604
         ],
         "yaxis": "y"
        },
        {
         "hovertemplate": "x=%{x}<br>y=%{y}<extra></extra>",
         "line": {
          "color": "#64B5F6",
          "width": 3
         },
         "marker": {
          "color": "#64B5F6",
          "size": 7
         },
         "mode": "lines+markers",
         "showlegend": false,
         "type": "scatter",
         "x": [
          27,
          28
         ],
         "xaxis": "x",
         "y": [
          3.571068048477173,
          3.8535420894622803
         ],
         "yaxis": "y"
        },
        {
         "hovertemplate": "x=%{x}<br>y=%{y}<extra></extra>",
         "line": {
          "color": "#64B5F6",
          "width": 3
         },
         "marker": {
          "color": "#64B5F6",
          "size": 7
         },
         "mode": "lines+markers",
         "showlegend": false,
         "type": "scatter",
         "x": [
          23,
          24
         ],
         "xaxis": "x",
         "y": [
          2.468996286392212,
          2.84350323677063
         ],
         "yaxis": "y"
        },
        {
         "hovertemplate": "x=%{x}<br>y=%{y}<extra></extra>",
         "line": {
          "color": "#64B5F6",
          "width": 3
         },
         "marker": {
          "color": "#64B5F6",
          "size": 7
         },
         "mode": "lines+markers",
         "showlegend": false,
         "type": "scatter",
         "x": [
          20,
          21
         ],
         "xaxis": "x",
         "y": [
          2.1971588730812073,
          2.7121445536613464
         ],
         "yaxis": "y"
        },
        {
         "hovertemplate": "x=%{x}<br>y=%{y}<extra></extra>",
         "line": {
          "color": "#64B5F6",
          "width": 3
         },
         "marker": {
          "color": "#64B5F6",
          "size": 7
         },
         "mode": "lines+markers",
         "showlegend": false,
         "type": "scatter",
         "x": [
          17,
          18
         ],
         "xaxis": "x",
         "y": [
          3.6773229479789733,
          4.1658752202987674
         ],
         "yaxis": "y"
        },
        {
         "hovertemplate": "x=%{x}<br>y=%{y}<extra></extra>",
         "line": {
          "color": "#64B5F6",
          "width": 3
         },
         "marker": {
          "color": "#64B5F6",
          "size": 7
         },
         "mode": "lines+markers",
         "showlegend": false,
         "type": "scatter",
         "x": [
          15,
          16
         ],
         "xaxis": "x",
         "y": [
          2.9733840227127075,
          3.3516030311584473
         ],
         "yaxis": "y"
        },
        {
         "hovertemplate": "x=%{x}<br>y=%{y}<extra></extra>",
         "line": {
          "color": "#64B5F6",
          "width": 3
         },
         "marker": {
          "color": "#64B5F6",
          "size": 7
         },
         "mode": "lines+markers",
         "showlegend": false,
         "type": "scatter",
         "x": [
          13,
          14
         ],
         "xaxis": "x",
         "y": [
          1.6776911616325378,
          2.353701174259186
         ],
         "yaxis": "y"
        },
        {
         "hovertemplate": "x=%{x}<br>y=%{y}<extra></extra>",
         "line": {
          "color": "#64B5F6",
          "width": 3
         },
         "marker": {
          "color": "#64B5F6",
          "size": 7
         },
         "mode": "lines+markers",
         "showlegend": false,
         "type": "scatter",
         "x": [
          10,
          11
         ],
         "xaxis": "x",
         "y": [
          1.444016456604004,
          1.9340947270393372
         ],
         "yaxis": "y"
        },
        {
         "hovertemplate": "x=%{x}<br>y=%{y}<extra></extra>",
         "line": {
          "color": "#64B5F6",
          "width": 3
         },
         "marker": {
          "color": "#64B5F6",
          "size": 7
         },
         "mode": "lines+markers",
         "showlegend": false,
         "type": "scatter",
         "x": [
          6,
          7
         ],
         "xaxis": "x",
         "y": [
          -0.04915401339530945,
          0.4779702126979828
         ],
         "yaxis": "y"
        },
        {
         "hovertemplate": "x=%{x}<br>y=%{y}<extra></extra>",
         "line": {
          "color": "#64B5F6",
          "width": 3
         },
         "marker": {
          "color": "#64B5F6",
          "size": 7
         },
         "mode": "lines+markers",
         "showlegend": false,
         "type": "scatter",
         "x": [
          3,
          4
         ],
         "xaxis": "x",
         "y": [
          0.29818272590637207,
          -0.3206378221511841
         ],
         "yaxis": "y"
        },
        {
         "hovertemplate": "x=%{x}<br>y=%{y}<extra></extra>",
         "line": {
          "color": "#64B5F6",
          "width": 3
         },
         "marker": {
          "color": "#64B5F6",
          "size": 7
         },
         "mode": "lines+markers",
         "showlegend": false,
         "type": "scatter",
         "x": [
          0,
          1
         ],
         "xaxis": "x",
         "y": [
          0,
          0.3124276399612427
         ],
         "yaxis": "y"
        },
        {
         "hovertemplate": "x=%{x}<br>y=%{y}<extra></extra>",
         "line": {
          "color": "#ff8fab",
          "width": 3
         },
         "marker": {
          "color": "#ff8fab",
          "size": 7
         },
         "mode": "lines+markers",
         "showlegend": false,
         "type": "scatter",
         "x": [
          112,
          113
         ],
         "xaxis": "x",
         "y": [
          22.057532846927643,
          22.49978700876236
         ],
         "yaxis": "y"
        },
        {
         "hovertemplate": "x=%{x}<br>y=%{y}<extra></extra>",
         "line": {
          "color": "#ff8fab",
          "width": 3
         },
         "marker": {
          "color": "#ff8fab",
          "size": 7
         },
         "mode": "lines+markers",
         "showlegend": false,
         "type": "scatter",
         "x": [
          108,
          109
         ],
         "xaxis": "x",
         "y": [
          21.89281165599823,
          22.78648487329483
         ],
         "yaxis": "y"
        },
        {
         "hovertemplate": "x=%{x}<br>y=%{y}<extra></extra>",
         "line": {
          "color": "#ff8fab",
          "width": 3
         },
         "marker": {
          "color": "#ff8fab",
          "size": 7
         },
         "mode": "lines+markers",
         "showlegend": false,
         "type": "scatter",
         "x": [
          105,
          106
         ],
         "xaxis": "x",
         "y": [
          21.527902722358704,
          21.9162126660347
         ],
         "yaxis": "y"
        },
        {
         "hovertemplate": "x=%{x}<br>y=%{y}<extra></extra>",
         "line": {
          "color": "#ff8fab",
          "width": 3
         },
         "marker": {
          "color": "#ff8fab",
          "size": 7
         },
         "mode": "lines+markers",
         "showlegend": false,
         "type": "scatter",
         "x": [
          70,
          71
         ],
         "xaxis": "x",
         "y": [
          10.308208525180817,
          10.839551651477814
         ],
         "yaxis": "y"
        },
        {
         "hovertemplate": "x=%{x}<br>y=%{y}<extra></extra>",
         "line": {
          "color": "#ff8fab",
          "width": 3
         },
         "marker": {
          "color": "#ff8fab",
          "size": 7
         },
         "mode": "lines+markers",
         "showlegend": false,
         "type": "scatter",
         "x": [
          65,
          66
         ],
         "xaxis": "x",
         "y": [
          13.177262485027313,
          15.003111743927002
         ],
         "yaxis": "y"
        },
        {
         "hovertemplate": "x=%{x}<br>y=%{y}<extra></extra>",
         "line": {
          "color": "#ff8fab",
          "width": 3
         },
         "marker": {
          "color": "#ff8fab",
          "size": 7
         },
         "mode": "lines+markers",
         "showlegend": false,
         "type": "scatter",
         "x": [
          58,
          59
         ],
         "xaxis": "x",
         "y": [
          10.58441549539566,
          11.082050347328186
         ],
         "yaxis": "y"
        },
        {
         "hovertemplate": "x=%{x}<br>y=%{y}<extra></extra>",
         "line": {
          "color": "#ff8fab",
          "width": 3
         },
         "marker": {
          "color": "#ff8fab",
          "size": 7
         },
         "mode": "lines+markers",
         "showlegend": false,
         "type": "scatter",
         "x": [
          54,
          55
         ],
         "xaxis": "x",
         "y": [
          10.140941429138184,
          10.80797404050827
         ],
         "yaxis": "y"
        },
        {
         "hovertemplate": "x=%{x}<br>y=%{y}<extra></extra>",
         "line": {
          "color": "#ff8fab",
          "width": 3
         },
         "marker": {
          "color": "#ff8fab",
          "size": 7
         },
         "mode": "lines+markers",
         "showlegend": false,
         "type": "scatter",
         "x": [
          52,
          53
         ],
         "xaxis": "x",
         "y": [
          9.191419780254364,
          9.486596035957337
         ],
         "yaxis": "y"
        },
        {
         "hovertemplate": "x=%{x}<br>y=%{y}<extra></extra>",
         "line": {
          "color": "#ff8fab",
          "width": 3
         },
         "marker": {
          "color": "#ff8fab",
          "size": 7
         },
         "mode": "lines+markers",
         "showlegend": false,
         "type": "scatter",
         "x": [
          49,
          50
         ],
         "xaxis": "x",
         "y": [
          8.775308609008789,
          9.20373249053955
         ],
         "yaxis": "y"
        },
        {
         "hovertemplate": "x=%{x}<br>y=%{y}<extra></extra>",
         "line": {
          "color": "#ff8fab",
          "width": 3
         },
         "marker": {
          "color": "#ff8fab",
          "size": 7
         },
         "mode": "lines+markers",
         "showlegend": false,
         "type": "scatter",
         "x": [
          44,
          45
         ],
         "xaxis": "x",
         "y": [
          7.452850162982941,
          7.851472008228302
         ],
         "yaxis": "y"
        },
        {
         "hovertemplate": "x=%{x}<br>y=%{y}<extra></extra>",
         "line": {
          "color": "#ff8fab",
          "width": 3
         },
         "marker": {
          "color": "#ff8fab",
          "size": 7
         },
         "mode": "lines+markers",
         "showlegend": false,
         "type": "scatter",
         "x": [
          41,
          42
         ],
         "xaxis": "x",
         "y": [
          7.603317606449127,
          8.027561020851135
         ],
         "yaxis": "y"
        },
        {
         "hovertemplate": "x=%{x}<br>y=%{y}<extra></extra>",
         "line": {
          "color": "#ff8fab",
          "width": 3
         },
         "marker": {
          "color": "#ff8fab",
          "size": 7
         },
         "mode": "lines+markers",
         "showlegend": false,
         "type": "scatter",
         "x": [
          39,
          40
         ],
         "xaxis": "x",
         "y": [
          6.631269633769989,
          7.179929482936859
         ],
         "yaxis": "y"
        },
        {
         "hovertemplate": "x=%{x}<br>y=%{y}<extra></extra>",
         "line": {
          "color": "#ff8fab",
          "width": 3
         },
         "marker": {
          "color": "#ff8fab",
          "size": 7
         },
         "mode": "lines+markers",
         "showlegend": false,
         "type": "scatter",
         "x": [
          36,
          37
         ],
         "xaxis": "x",
         "y": [
          4.25630110502243,
          4.565218007564544
         ],
         "yaxis": "y"
        },
        {
         "hovertemplate": "x=%{x}<br>y=%{y}<extra></extra>",
         "line": {
          "color": "#ff8fab",
          "width": 3
         },
         "marker": {
          "color": "#ff8fab",
          "size": 7
         },
         "mode": "lines+markers",
         "showlegend": false,
         "type": "scatter",
         "x": [
          33,
          34
         ],
         "xaxis": "x",
         "y": [
          4.691210865974426,
          5.011270701885223
         ],
         "yaxis": "y"
        },
        {
         "hovertemplate": "x=%{x}<br>y=%{y}<extra></extra>",
         "line": {
          "color": "#ff8fab",
          "width": 3
         },
         "marker": {
          "color": "#ff8fab",
          "size": 7
         },
         "mode": "lines+markers",
         "showlegend": false,
         "type": "scatter",
         "x": [
          30,
          31
         ],
         "xaxis": "x",
         "y": [
          5.142787766456604,
          7.903094601631165
         ],
         "yaxis": "y"
        },
        {
         "hovertemplate": "x=%{x}<br>y=%{y}<extra></extra>",
         "line": {
          "color": "#ff8fab",
          "width": 3
         },
         "marker": {
          "color": "#ff8fab",
          "size": 7
         },
         "mode": "lines+markers",
         "showlegend": false,
         "type": "scatter",
         "x": [
          28,
          29
         ],
         "xaxis": "x",
         "y": [
          3.8535420894622803,
          4.2002578496932985
         ],
         "yaxis": "y"
        },
        {
         "hovertemplate": "x=%{x}<br>y=%{y}<extra></extra>",
         "line": {
          "color": "#ff8fab",
          "width": 3
         },
         "marker": {
          "color": "#ff8fab",
          "size": 7
         },
         "mode": "lines+markers",
         "showlegend": false,
         "type": "scatter",
         "x": [
          24,
          25
         ],
         "xaxis": "x",
         "y": [
          2.84350323677063,
          3.2082395195960998
         ],
         "yaxis": "y"
        },
        {
         "hovertemplate": "x=%{x}<br>y=%{y}<extra></extra>",
         "line": {
          "color": "#ff8fab",
          "width": 3
         },
         "marker": {
          "color": "#ff8fab",
          "size": 7
         },
         "mode": "lines+markers",
         "showlegend": false,
         "type": "scatter",
         "x": [
          21,
          22
         ],
         "xaxis": "x",
         "y": [
          2.7121445536613464,
          3.070619535446167
         ],
         "yaxis": "y"
        },
        {
         "hovertemplate": "x=%{x}<br>y=%{y}<extra></extra>",
         "line": {
          "color": "#ff8fab",
          "width": 3
         },
         "marker": {
          "color": "#ff8fab",
          "size": 7
         },
         "mode": "lines+markers",
         "showlegend": false,
         "type": "scatter",
         "x": [
          18,
          19
         ],
         "xaxis": "x",
         "y": [
          4.1658752202987674,
          4.530363023281097
         ],
         "yaxis": "y"
        },
        {
         "hovertemplate": "x=%{x}<br>y=%{y}<extra></extra>",
         "line": {
          "color": "#ff8fab",
          "width": 3
         },
         "marker": {
          "color": "#ff8fab",
          "size": 7
         },
         "mode": "lines+markers",
         "showlegend": false,
         "type": "scatter",
         "x": [
          16,
          17
         ],
         "xaxis": "x",
         "y": [
          3.3516030311584473,
          3.6773229479789733
         ],
         "yaxis": "y"
        },
        {
         "hovertemplate": "x=%{x}<br>y=%{y}<extra></extra>",
         "line": {
          "color": "#ff8fab",
          "width": 3
         },
         "marker": {
          "color": "#ff8fab",
          "size": 7
         },
         "mode": "lines+markers",
         "showlegend": false,
         "type": "scatter",
         "x": [
          14,
          15
         ],
         "xaxis": "x",
         "y": [
          2.353701174259186,
          2.9733840227127075
         ],
         "yaxis": "y"
        },
        {
         "hovertemplate": "x=%{x}<br>y=%{y}<extra></extra>",
         "line": {
          "color": "#ff8fab",
          "width": 3
         },
         "marker": {
          "color": "#ff8fab",
          "size": 7
         },
         "mode": "lines+markers",
         "showlegend": false,
         "type": "scatter",
         "x": [
          11,
          12
         ],
         "xaxis": "x",
         "y": [
          1.9340947270393372,
          2.4780592918395996
         ],
         "yaxis": "y"
        },
        {
         "hovertemplate": "x=%{x}<br>y=%{y}<extra></extra>",
         "line": {
          "color": "#ff8fab",
          "width": 3
         },
         "marker": {
          "color": "#ff8fab",
          "size": 7
         },
         "mode": "lines+markers",
         "showlegend": false,
         "type": "scatter",
         "x": [
          7,
          8
         ],
         "xaxis": "x",
         "y": [
          0.4779702126979828,
          0.9515590369701385
         ],
         "yaxis": "y"
        },
        {
         "hovertemplate": "x=%{x}<br>y=%{y}<extra></extra>",
         "line": {
          "color": "#ff8fab",
          "width": 3
         },
         "marker": {
          "color": "#ff8fab",
          "size": 7
         },
         "mode": "lines+markers",
         "showlegend": false,
         "type": "scatter",
         "x": [
          5,
          6
         ],
         "xaxis": "x",
         "y": [
          -0.5874879658222198,
          -0.04915401339530945
         ],
         "yaxis": "y"
        },
        {
         "hovertemplate": "x=%{x}<br>y=%{y}<extra></extra>",
         "line": {
          "color": "#ff8fab",
          "width": 3
         },
         "marker": {
          "color": "#ff8fab",
          "size": 7
         },
         "mode": "lines+markers",
         "showlegend": false,
         "type": "scatter",
         "x": [
          4,
          5
         ],
         "xaxis": "x",
         "y": [
          -0.3206378221511841,
          -0.5874879658222198
         ],
         "yaxis": "y"
        },
        {
         "hovertemplate": "x=%{x}<br>y=%{y}<extra></extra>",
         "line": {
          "color": "#ff8fab",
          "width": 3
         },
         "marker": {
          "color": "#ff8fab",
          "size": 7
         },
         "mode": "lines+markers",
         "showlegend": false,
         "type": "scatter",
         "x": [
          1,
          2
         ],
         "xaxis": "x",
         "y": [
          0.3124276399612427,
          0.5417124509811402
         ],
         "yaxis": "y"
        },
        {
         "hovertemplate": "x=%{x}<br>y=%{y}<extra></extra>",
         "line": {
          "color": "#023e8a",
          "width": 3
         },
         "marker": {
          "color": "#023e8a",
          "size": 7
         },
         "mode": "lines+markers",
         "showlegend": false,
         "type": "scatter",
         "x": [
          122,
          123
         ],
         "xaxis": "x",
         "y": [
          24.65253621339798,
          25.313188433647156
         ],
         "yaxis": "y"
        },
        {
         "hovertemplate": "x=%{x}<br>y=%{y}<extra></extra>",
         "line": {
          "color": "#023e8a",
          "width": 3
         },
         "marker": {
          "color": "#023e8a",
          "size": 7
         },
         "mode": "lines+markers",
         "showlegend": false,
         "type": "scatter",
         "x": [
          121,
          122
         ],
         "xaxis": "x",
         "y": [
          24.278922080993652,
          24.65253621339798
         ],
         "yaxis": "y"
        },
        {
         "hovertemplate": "x=%{x}<br>y=%{y}<extra></extra>",
         "line": {
          "color": "#023e8a",
          "width": 3
         },
         "marker": {
          "color": "#023e8a",
          "size": 7
         },
         "mode": "lines+markers",
         "showlegend": false,
         "type": "scatter",
         "x": [
          120,
          121
         ],
         "xaxis": "x",
         "y": [
          23.868592262268066,
          24.278922080993652
         ],
         "yaxis": "y"
        },
        {
         "hovertemplate": "x=%{x}<br>y=%{y}<extra></extra>",
         "line": {
          "color": "#023e8a",
          "width": 3
         },
         "marker": {
          "color": "#023e8a",
          "size": 7
         },
         "mode": "lines+markers",
         "showlegend": false,
         "type": "scatter",
         "x": [
          119,
          120
         ],
         "xaxis": "x",
         "y": [
          23.602714836597443,
          23.868592262268066
         ],
         "yaxis": "y"
        },
        {
         "hovertemplate": "x=%{x}<br>y=%{y}<extra></extra>",
         "line": {
          "color": "#023e8a",
          "width": 3
         },
         "marker": {
          "color": "#023e8a",
          "size": 7
         },
         "mode": "lines+markers",
         "showlegend": false,
         "type": "scatter",
         "x": [
          118,
          119
         ],
         "xaxis": "x",
         "y": [
          22.6215438246727,
          23.602714836597443
         ],
         "yaxis": "y"
        },
        {
         "hovertemplate": "x=%{x}<br>y=%{y}<extra></extra>",
         "line": {
          "color": "#023e8a",
          "width": 3
         },
         "marker": {
          "color": "#023e8a",
          "size": 7
         },
         "mode": "lines+markers",
         "showlegend": false,
         "type": "scatter",
         "x": [
          117,
          118
         ],
         "xaxis": "x",
         "y": [
          22.259438514709473,
          22.6215438246727
         ],
         "yaxis": "y"
        },
        {
         "hovertemplate": "x=%{x}<br>y=%{y}<extra></extra>",
         "line": {
          "color": "#023e8a",
          "width": 3
         },
         "marker": {
          "color": "#023e8a",
          "size": 7
         },
         "mode": "lines+markers",
         "showlegend": false,
         "type": "scatter",
         "x": [
          116,
          117
         ],
         "xaxis": "x",
         "y": [
          21.953364968299866,
          22.259438514709473
         ],
         "yaxis": "y"
        },
        {
         "hovertemplate": "x=%{x}<br>y=%{y}<extra></extra>",
         "line": {
          "color": "#023e8a",
          "width": 3
         },
         "marker": {
          "color": "#023e8a",
          "size": 7
         },
         "mode": "lines+markers",
         "showlegend": false,
         "type": "scatter",
         "x": [
          115,
          116
         ],
         "xaxis": "x",
         "y": [
          21.66043907403946,
          21.953364968299866
         ],
         "yaxis": "y"
        },
        {
         "hovertemplate": "x=%{x}<br>y=%{y}<extra></extra>",
         "line": {
          "color": "#023e8a",
          "width": 3
         },
         "marker": {
          "color": "#023e8a",
          "size": 7
         },
         "mode": "lines+markers",
         "showlegend": false,
         "type": "scatter",
         "x": [
          113,
          114
         ],
         "xaxis": "x",
         "y": [
          22.057532846927643,
          22.42770344018936
         ],
         "yaxis": "y"
        },
        {
         "hovertemplate": "x=%{x}<br>y=%{y}<extra></extra>",
         "line": {
          "color": "#023e8a",
          "width": 3
         },
         "marker": {
          "color": "#023e8a",
          "size": 7
         },
         "mode": "lines+markers",
         "showlegend": false,
         "type": "scatter",
         "x": [
          111,
          112
         ],
         "xaxis": "x",
         "y": [
          21.651625752449036,
          22.057532846927643
         ],
         "yaxis": "y"
        },
        {
         "hovertemplate": "x=%{x}<br>y=%{y}<extra></extra>",
         "line": {
          "color": "#023e8a",
          "width": 3
         },
         "marker": {
          "color": "#023e8a",
          "size": 7
         },
         "mode": "lines+markers",
         "showlegend": false,
         "type": "scatter",
         "x": [
          106,
          107
         ],
         "xaxis": "x",
         "y": [
          21.048460841178894,
          21.49622756242752
         ],
         "yaxis": "y"
        },
        {
         "hovertemplate": "x=%{x}<br>y=%{y}<extra></extra>",
         "line": {
          "color": "#023e8a",
          "width": 3
         },
         "marker": {
          "color": "#023e8a",
          "size": 7
         },
         "mode": "lines+markers",
         "showlegend": false,
         "type": "scatter",
         "x": [
          103,
          104
         ],
         "xaxis": "x",
         "y": [
          20.758126854896545,
          21.048460841178894
         ],
         "yaxis": "y"
        },
        {
         "hovertemplate": "x=%{x}<br>y=%{y}<extra></extra>",
         "line": {
          "color": "#023e8a",
          "width": 3
         },
         "marker": {
          "color": "#023e8a",
          "size": 7
         },
         "mode": "lines+markers",
         "showlegend": false,
         "type": "scatter",
         "x": [
          102,
          103
         ],
         "xaxis": "x",
         "y": [
          20.55556857585907,
          20.758126854896545
         ],
         "yaxis": "y"
        },
        {
         "hovertemplate": "x=%{x}<br>y=%{y}<extra></extra>",
         "line": {
          "color": "#023e8a",
          "width": 3
         },
         "marker": {
          "color": "#023e8a",
          "size": 7
         },
         "mode": "lines+markers",
         "showlegend": false,
         "type": "scatter",
         "x": [
          101,
          102
         ],
         "xaxis": "x",
         "y": [
          20.280430018901825,
          20.55556857585907
         ],
         "yaxis": "y"
        },
        {
         "hovertemplate": "x=%{x}<br>y=%{y}<extra></extra>",
         "line": {
          "color": "#023e8a",
          "width": 3
         },
         "marker": {
          "color": "#023e8a",
          "size": 7
         },
         "mode": "lines+markers",
         "showlegend": false,
         "type": "scatter",
         "x": [
          99,
          100
         ],
         "xaxis": "x",
         "y": [
          23.850857138633728,
          24.382721722126007
         ],
         "yaxis": "y"
        },
        {
         "hovertemplate": "x=%{x}<br>y=%{y}<extra></extra>",
         "line": {
          "color": "#023e8a",
          "width": 3
         },
         "marker": {
          "color": "#023e8a",
          "size": 7
         },
         "mode": "lines+markers",
         "showlegend": false,
         "type": "scatter",
         "x": [
          98,
          99
         ],
         "xaxis": "x",
         "y": [
          23.459192752838135,
          23.850857138633728
         ],
         "yaxis": "y"
        },
        {
         "hovertemplate": "x=%{x}<br>y=%{y}<extra></extra>",
         "line": {
          "color": "#023e8a",
          "width": 3
         },
         "marker": {
          "color": "#023e8a",
          "size": 7
         },
         "mode": "lines+markers",
         "showlegend": false,
         "type": "scatter",
         "x": [
          97,
          98
         ],
         "xaxis": "x",
         "y": [
          23.094366490840912,
          23.459192752838135
         ],
         "yaxis": "y"
        },
        {
         "hovertemplate": "x=%{x}<br>y=%{y}<extra></extra>",
         "line": {
          "color": "#023e8a",
          "width": 3
         },
         "marker": {
          "color": "#023e8a",
          "size": 7
         },
         "mode": "lines+markers",
         "showlegend": false,
         "type": "scatter",
         "x": [
          96,
          97
         ],
         "xaxis": "x",
         "y": [
          22.583568692207336,
          23.094366490840912
         ],
         "yaxis": "y"
        },
        {
         "hovertemplate": "x=%{x}<br>y=%{y}<extra></extra>",
         "line": {
          "color": "#023e8a",
          "width": 3
         },
         "marker": {
          "color": "#023e8a",
          "size": 7
         },
         "mode": "lines+markers",
         "showlegend": false,
         "type": "scatter",
         "x": [
          95,
          96
         ],
         "xaxis": "x",
         "y": [
          21.766785144805908,
          22.583568692207336
         ],
         "yaxis": "y"
        },
        {
         "hovertemplate": "x=%{x}<br>y=%{y}<extra></extra>",
         "line": {
          "color": "#023e8a",
          "width": 3
         },
         "marker": {
          "color": "#023e8a",
          "size": 7
         },
         "mode": "lines+markers",
         "showlegend": false,
         "type": "scatter",
         "x": [
          94,
          95
         ],
         "xaxis": "x",
         "y": [
          21.248037695884705,
          21.766785144805908
         ],
         "yaxis": "y"
        },
        {
         "hovertemplate": "x=%{x}<br>y=%{y}<extra></extra>",
         "line": {
          "color": "#023e8a",
          "width": 3
         },
         "marker": {
          "color": "#023e8a",
          "size": 7
         },
         "mode": "lines+markers",
         "showlegend": false,
         "type": "scatter",
         "x": [
          93,
          94
         ],
         "xaxis": "x",
         "y": [
          20.739790678024292,
          21.248037695884705
         ],
         "yaxis": "y"
        },
        {
         "hovertemplate": "x=%{x}<br>y=%{y}<extra></extra>",
         "line": {
          "color": "#023e8a",
          "width": 3
         },
         "marker": {
          "color": "#023e8a",
          "size": 7
         },
         "mode": "lines+markers",
         "showlegend": false,
         "type": "scatter",
         "x": [
          92,
          93
         ],
         "xaxis": "x",
         "y": [
          20.286823213100433,
          20.739790678024292
         ],
         "yaxis": "y"
        },
        {
         "hovertemplate": "x=%{x}<br>y=%{y}<extra></extra>",
         "line": {
          "color": "#023e8a",
          "width": 3
         },
         "marker": {
          "color": "#023e8a",
          "size": 7
         },
         "mode": "lines+markers",
         "showlegend": false,
         "type": "scatter",
         "x": [
          91,
          92
         ],
         "xaxis": "x",
         "y": [
          19.956262528896332,
          20.286823213100433
         ],
         "yaxis": "y"
        },
        {
         "hovertemplate": "x=%{x}<br>y=%{y}<extra></extra>",
         "line": {
          "color": "#023e8a",
          "width": 3
         },
         "marker": {
          "color": "#023e8a",
          "size": 7
         },
         "mode": "lines+markers",
         "showlegend": false,
         "type": "scatter",
         "x": [
          90,
          91
         ],
         "xaxis": "x",
         "y": [
          19.576193690299988,
          19.956262528896332
         ],
         "yaxis": "y"
        },
        {
         "hovertemplate": "x=%{x}<br>y=%{y}<extra></extra>",
         "line": {
          "color": "#023e8a",
          "width": 3
         },
         "marker": {
          "color": "#023e8a",
          "size": 7
         },
         "mode": "lines+markers",
         "showlegend": false,
         "type": "scatter",
         "x": [
          89,
          90
         ],
         "xaxis": "x",
         "y": [
          19.260384678840637,
          19.576193690299988
         ],
         "yaxis": "y"
        },
        {
         "hovertemplate": "x=%{x}<br>y=%{y}<extra></extra>",
         "line": {
          "color": "#023e8a",
          "width": 3
         },
         "marker": {
          "color": "#023e8a",
          "size": 7
         },
         "mode": "lines+markers",
         "showlegend": false,
         "type": "scatter",
         "x": [
          88,
          89
         ],
         "xaxis": "x",
         "y": [
          18.898229837417603,
          19.260384678840637
         ],
         "yaxis": "y"
        },
        {
         "hovertemplate": "x=%{x}<br>y=%{y}<extra></extra>",
         "line": {
          "color": "#023e8a",
          "width": 3
         },
         "marker": {
          "color": "#023e8a",
          "size": 7
         },
         "mode": "lines+markers",
         "showlegend": false,
         "type": "scatter",
         "x": [
          87,
          88
         ],
         "xaxis": "x",
         "y": [
          18.076440274715424,
          18.898229837417603
         ],
         "yaxis": "y"
        },
        {
         "hovertemplate": "x=%{x}<br>y=%{y}<extra></extra>",
         "line": {
          "color": "#023e8a",
          "width": 3
         },
         "marker": {
          "color": "#023e8a",
          "size": 7
         },
         "mode": "lines+markers",
         "showlegend": false,
         "type": "scatter",
         "x": [
          86,
          87
         ],
         "xaxis": "x",
         "y": [
          17.705038845539093,
          18.076440274715424
         ],
         "yaxis": "y"
        },
        {
         "hovertemplate": "x=%{x}<br>y=%{y}<extra></extra>",
         "line": {
          "color": "#023e8a",
          "width": 3
         },
         "marker": {
          "color": "#023e8a",
          "size": 7
         },
         "mode": "lines+markers",
         "showlegend": false,
         "type": "scatter",
         "x": [
          85,
          86
         ],
         "xaxis": "x",
         "y": [
          17.322290897369385,
          17.705038845539093
         ],
         "yaxis": "y"
        },
        {
         "hovertemplate": "x=%{x}<br>y=%{y}<extra></extra>",
         "line": {
          "color": "#023e8a",
          "width": 3
         },
         "marker": {
          "color": "#023e8a",
          "size": 7
         },
         "mode": "lines+markers",
         "showlegend": false,
         "type": "scatter",
         "x": [
          84,
          85
         ],
         "xaxis": "x",
         "y": [
          16.77807319164276,
          17.322290897369385
         ],
         "yaxis": "y"
        },
        {
         "hovertemplate": "x=%{x}<br>y=%{y}<extra></extra>",
         "line": {
          "color": "#023e8a",
          "width": 3
         },
         "marker": {
          "color": "#023e8a",
          "size": 7
         },
         "mode": "lines+markers",
         "showlegend": false,
         "type": "scatter",
         "x": [
          83,
          84
         ],
         "xaxis": "x",
         "y": [
          16.510990917682648,
          16.77807319164276
         ],
         "yaxis": "y"
        },
        {
         "hovertemplate": "x=%{x}<br>y=%{y}<extra></extra>",
         "line": {
          "color": "#023e8a",
          "width": 3
         },
         "marker": {
          "color": "#023e8a",
          "size": 7
         },
         "mode": "lines+markers",
         "showlegend": false,
         "type": "scatter",
         "x": [
          82,
          83
         ],
         "xaxis": "x",
         "y": [
          16.09030121564865,
          16.510990917682648
         ],
         "yaxis": "y"
        },
        {
         "hovertemplate": "x=%{x}<br>y=%{y}<extra></extra>",
         "line": {
          "color": "#023e8a",
          "width": 3
         },
         "marker": {
          "color": "#023e8a",
          "size": 7
         },
         "mode": "lines+markers",
         "showlegend": false,
         "type": "scatter",
         "x": [
          81,
          82
         ],
         "xaxis": "x",
         "y": [
          15.69354909658432,
          16.09030121564865
         ],
         "yaxis": "y"
        },
        {
         "hovertemplate": "x=%{x}<br>y=%{y}<extra></extra>",
         "line": {
          "color": "#023e8a",
          "width": 3
         },
         "marker": {
          "color": "#023e8a",
          "size": 7
         },
         "mode": "lines+markers",
         "showlegend": false,
         "type": "scatter",
         "x": [
          80,
          81
         ],
         "xaxis": "x",
         "y": [
          15.4198477268219,
          15.69354909658432
         ],
         "yaxis": "y"
        },
        {
         "hovertemplate": "x=%{x}<br>y=%{y}<extra></extra>",
         "line": {
          "color": "#023e8a",
          "width": 3
         },
         "marker": {
          "color": "#023e8a",
          "size": 7
         },
         "mode": "lines+markers",
         "showlegend": false,
         "type": "scatter",
         "x": [
          79,
          80
         ],
         "xaxis": "x",
         "y": [
          15.095787107944489,
          15.4198477268219
         ],
         "yaxis": "y"
        },
        {
         "hovertemplate": "x=%{x}<br>y=%{y}<extra></extra>",
         "line": {
          "color": "#023e8a",
          "width": 3
         },
         "marker": {
          "color": "#023e8a",
          "size": 7
         },
         "mode": "lines+markers",
         "showlegend": false,
         "type": "scatter",
         "x": [
          78,
          79
         ],
         "xaxis": "x",
         "y": [
          14.946593165397644,
          15.095787107944489
         ],
         "yaxis": "y"
        },
        {
         "hovertemplate": "x=%{x}<br>y=%{y}<extra></extra>",
         "line": {
          "color": "#023e8a",
          "width": 3
         },
         "marker": {
          "color": "#023e8a",
          "size": 7
         },
         "mode": "lines+markers",
         "showlegend": false,
         "type": "scatter",
         "x": [
          77,
          78
         ],
         "xaxis": "x",
         "y": [
          14.550605654716492,
          14.946593165397644
         ],
         "yaxis": "y"
        },
        {
         "hovertemplate": "x=%{x}<br>y=%{y}<extra></extra>",
         "line": {
          "color": "#023e8a",
          "width": 3
         },
         "marker": {
          "color": "#023e8a",
          "size": 7
         },
         "mode": "lines+markers",
         "showlegend": false,
         "type": "scatter",
         "x": [
          76,
          77
         ],
         "xaxis": "x",
         "y": [
          14.153780698776245,
          14.550605654716492
         ],
         "yaxis": "y"
        },
        {
         "hovertemplate": "x=%{x}<br>y=%{y}<extra></extra>",
         "line": {
          "color": "#023e8a",
          "width": 3
         },
         "marker": {
          "color": "#023e8a",
          "size": 7
         },
         "mode": "lines+markers",
         "showlegend": false,
         "type": "scatter",
         "x": [
          75,
          76
         ],
         "xaxis": "x",
         "y": [
          13.987906277179718,
          14.153780698776245
         ],
         "yaxis": "y"
        },
        {
         "hovertemplate": "x=%{x}<br>y=%{y}<extra></extra>",
         "line": {
          "color": "#023e8a",
          "width": 3
         },
         "marker": {
          "color": "#023e8a",
          "size": 7
         },
         "mode": "lines+markers",
         "showlegend": false,
         "type": "scatter",
         "x": [
          74,
          75
         ],
         "xaxis": "x",
         "y": [
          13.834225118160248,
          13.987906277179718
         ],
         "yaxis": "y"
        },
        {
         "hovertemplate": "x=%{x}<br>y=%{y}<extra></extra>",
         "line": {
          "color": "#023e8a",
          "width": 3
         },
         "marker": {
          "color": "#023e8a",
          "size": 7
         },
         "mode": "lines+markers",
         "showlegend": false,
         "type": "scatter",
         "x": [
          73,
          74
         ],
         "xaxis": "x",
         "y": [
          13.67137497663498,
          13.834225118160248
         ],
         "yaxis": "y"
        },
        {
         "hovertemplate": "x=%{x}<br>y=%{y}<extra></extra>",
         "line": {
          "color": "#023e8a",
          "width": 3
         },
         "marker": {
          "color": "#023e8a",
          "size": 7
         },
         "mode": "lines+markers",
         "showlegend": false,
         "type": "scatter",
         "x": [
          72,
          73
         ],
         "xaxis": "x",
         "y": [
          13.302768290042877,
          13.67137497663498
         ],
         "yaxis": "y"
        },
        {
         "hovertemplate": "x=%{x}<br>y=%{y}<extra></extra>",
         "line": {
          "color": "#023e8a",
          "width": 3
         },
         "marker": {
          "color": "#023e8a",
          "size": 7
         },
         "mode": "lines+markers",
         "showlegend": false,
         "type": "scatter",
         "x": [
          71,
          72
         ],
         "xaxis": "x",
         "y": [
          12.665234386920929,
          13.302768290042877
         ],
         "yaxis": "y"
        },
        {
         "hovertemplate": "x=%{x}<br>y=%{y}<extra></extra>",
         "line": {
          "color": "#023e8a",
          "width": 3
         },
         "marker": {
          "color": "#023e8a",
          "size": 7
         },
         "mode": "lines+markers",
         "showlegend": false,
         "type": "scatter",
         "x": [
          68,
          69
         ],
         "xaxis": "x",
         "y": [
          11.838418841362,
          12.665234386920929
         ],
         "yaxis": "y"
        },
        {
         "hovertemplate": "x=%{x}<br>y=%{y}<extra></extra>",
         "line": {
          "color": "#023e8a",
          "width": 3
         },
         "marker": {
          "color": "#023e8a",
          "size": 7
         },
         "mode": "lines+markers",
         "showlegend": false,
         "type": "scatter",
         "x": [
          67,
          68
         ],
         "xaxis": "x",
         "y": [
          11.427209496498108,
          11.838418841362
         ],
         "yaxis": "y"
        },
        {
         "hovertemplate": "x=%{x}<br>y=%{y}<extra></extra>",
         "line": {
          "color": "#023e8a",
          "width": 3
         },
         "marker": {
          "color": "#023e8a",
          "size": 7
         },
         "mode": "lines+markers",
         "showlegend": false,
         "type": "scatter",
         "x": [
          63,
          64
         ],
         "xaxis": "x",
         "y": [
          12.375365972518921,
          12.782848298549652
         ],
         "yaxis": "y"
        },
        {
         "hovertemplate": "x=%{x}<br>y=%{y}<extra></extra>",
         "line": {
          "color": "#023e8a",
          "width": 3
         },
         "marker": {
          "color": "#023e8a",
          "size": 7
         },
         "mode": "lines+markers",
         "showlegend": false,
         "type": "scatter",
         "x": [
          62,
          63
         ],
         "xaxis": "x",
         "y": [
          11.803240060806274,
          12.375365972518921
         ],
         "yaxis": "y"
        },
        {
         "hovertemplate": "x=%{x}<br>y=%{y}<extra></extra>",
         "line": {
          "color": "#023e8a",
          "width": 3
         },
         "marker": {
          "color": "#023e8a",
          "size": 7
         },
         "mode": "lines+markers",
         "showlegend": false,
         "type": "scatter",
         "x": [
          61,
          62
         ],
         "xaxis": "x",
         "y": [
          10.852493226528168,
          11.803240060806274
         ],
         "yaxis": "y"
        },
        {
         "hovertemplate": "x=%{x}<br>y=%{y}<extra></extra>",
         "line": {
          "color": "#023e8a",
          "width": 3
         },
         "marker": {
          "color": "#023e8a",
          "size": 7
         },
         "mode": "lines+markers",
         "showlegend": false,
         "type": "scatter",
         "x": [
          60,
          61
         ],
         "xaxis": "x",
         "y": [
          10.385567247867584,
          10.852493226528168
         ],
         "yaxis": "y"
        },
        {
         "hovertemplate": "x=%{x}<br>y=%{y}<extra></extra>",
         "line": {
          "color": "#023e8a",
          "width": 3
         },
         "marker": {
          "color": "#023e8a",
          "size": 7
         },
         "mode": "lines+markers",
         "showlegend": false,
         "type": "scatter",
         "x": [
          59,
          60
         ],
         "xaxis": "x",
         "y": [
          9.970583975315094,
          10.385567247867584
         ],
         "yaxis": "y"
        },
        {
         "hovertemplate": "x=%{x}<br>y=%{y}<extra></extra>",
         "line": {
          "color": "#023e8a",
          "width": 3
         },
         "marker": {
          "color": "#023e8a",
          "size": 7
         },
         "mode": "lines+markers",
         "showlegend": false,
         "type": "scatter",
         "x": [
          56,
          57
         ],
         "xaxis": "x",
         "y": [
          9.42298835515976,
          9.970583975315094
         ],
         "yaxis": "y"
        },
        {
         "hovertemplate": "x=%{x}<br>y=%{y}<extra></extra>",
         "line": {
          "color": "#023e8a",
          "width": 3
         },
         "marker": {
          "color": "#023e8a",
          "size": 7
         },
         "mode": "lines+markers",
         "showlegend": false,
         "type": "scatter",
         "x": [
          55,
          56
         ],
         "xaxis": "x",
         "y": [
          8.855898559093475,
          9.42298835515976
         ],
         "yaxis": "y"
        },
        {
         "hovertemplate": "x=%{x}<br>y=%{y}<extra></extra>",
         "line": {
          "color": "#023e8a",
          "width": 3
         },
         "marker": {
          "color": "#023e8a",
          "size": 7
         },
         "mode": "lines+markers",
         "showlegend": false,
         "type": "scatter",
         "x": [
          50,
          51
         ],
         "xaxis": "x",
         "y": [
          8.350102365016937,
          8.855898559093475
         ],
         "yaxis": "y"
        },
        {
         "hovertemplate": "x=%{x}<br>y=%{y}<extra></extra>",
         "line": {
          "color": "#023e8a",
          "width": 3
         },
         "marker": {
          "color": "#023e8a",
          "size": 7
         },
         "mode": "lines+markers",
         "showlegend": false,
         "type": "scatter",
         "x": [
          47,
          48
         ],
         "xaxis": "x",
         "y": [
          7.970681607723236,
          8.350102365016937
         ],
         "yaxis": "y"
        },
        {
         "hovertemplate": "x=%{x}<br>y=%{y}<extra></extra>",
         "line": {
          "color": "#023e8a",
          "width": 3
         },
         "marker": {
          "color": "#023e8a",
          "size": 7
         },
         "mode": "lines+markers",
         "showlegend": false,
         "type": "scatter",
         "x": [
          46,
          47
         ],
         "xaxis": "x",
         "y": [
          7.442970454692841,
          7.970681607723236
         ],
         "yaxis": "y"
        },
        {
         "hovertemplate": "x=%{x}<br>y=%{y}<extra></extra>",
         "line": {
          "color": "#023e8a",
          "width": 3
         },
         "marker": {
          "color": "#023e8a",
          "size": 7
         },
         "mode": "lines+markers",
         "showlegend": false,
         "type": "scatter",
         "x": [
          45,
          46
         ],
         "xaxis": "x",
         "y": [
          7.0661070346832275,
          7.442970454692841
         ],
         "yaxis": "y"
        },
        {
         "hovertemplate": "x=%{x}<br>y=%{y}<extra></extra>",
         "line": {
          "color": "#023e8a",
          "width": 3
         },
         "marker": {
          "color": "#023e8a",
          "size": 7
         },
         "mode": "lines+markers",
         "showlegend": false,
         "type": "scatter",
         "x": [
          42,
          43
         ],
         "xaxis": "x",
         "y": [
          6.285137057304382,
          7.0661070346832275
         ],
         "yaxis": "y"
        },
        {
         "hovertemplate": "x=%{x}<br>y=%{y}<extra></extra>",
         "line": {
          "color": "#023e8a",
          "width": 3
         },
         "marker": {
          "color": "#023e8a",
          "size": 7
         },
         "mode": "lines+markers",
         "showlegend": false,
         "type": "scatter",
         "x": [
          34,
          35
         ],
         "xaxis": "x",
         "y": [
          4.691210865974426,
          5.371881902217865
         ],
         "yaxis": "y"
        },
        {
         "hovertemplate": "x=%{x}<br>y=%{y}<extra></extra>",
         "line": {
          "color": "#023e8a",
          "width": 3
         },
         "marker": {
          "color": "#023e8a",
          "size": 7
         },
         "mode": "lines+markers",
         "showlegend": false,
         "type": "scatter",
         "x": [
          32,
          33
         ],
         "xaxis": "x",
         "y": [
          3.6438148021698,
          4.691210865974426
         ],
         "yaxis": "y"
        },
        {
         "hovertemplate": "x=%{x}<br>y=%{y}<extra></extra>",
         "line": {
          "color": "#023e8a",
          "width": 3
         },
         "marker": {
          "color": "#023e8a",
          "size": 7
         },
         "mode": "lines+markers",
         "showlegend": false,
         "type": "scatter",
         "x": [
          26,
          27
         ],
         "xaxis": "x",
         "y": [
          2.7686575055122375,
          3.571068048477173
         ],
         "yaxis": "y"
        },
        {
         "hovertemplate": "x=%{x}<br>y=%{y}<extra></extra>",
         "line": {
          "color": "#023e8a",
          "width": 3
         },
         "marker": {
          "color": "#023e8a",
          "size": 7
         },
         "mode": "lines+markers",
         "showlegend": false,
         "type": "scatter",
         "x": [
          25,
          26
         ],
         "xaxis": "x",
         "y": [
          2.468996286392212,
          2.7686575055122375
         ],
         "yaxis": "y"
        },
        {
         "hovertemplate": "x=%{x}<br>y=%{y}<extra></extra>",
         "line": {
          "color": "#023e8a",
          "width": 3
         },
         "marker": {
          "color": "#023e8a",
          "size": 7
         },
         "mode": "lines+markers",
         "showlegend": false,
         "type": "scatter",
         "x": [
          22,
          23
         ],
         "xaxis": "x",
         "y": [
          2.1971588730812073,
          2.468996286392212
         ],
         "yaxis": "y"
        },
        {
         "hovertemplate": "x=%{x}<br>y=%{y}<extra></extra>",
         "line": {
          "color": "#023e8a",
          "width": 3
         },
         "marker": {
          "color": "#023e8a",
          "size": 7
         },
         "mode": "lines+markers",
         "showlegend": false,
         "type": "scatter",
         "x": [
          19,
          20
         ],
         "xaxis": "x",
         "y": [
          1.6776911616325378,
          2.1971588730812073
         ],
         "yaxis": "y"
        },
        {
         "hovertemplate": "x=%{x}<br>y=%{y}<extra></extra>",
         "line": {
          "color": "#023e8a",
          "width": 3
         },
         "marker": {
          "color": "#023e8a",
          "size": 7
         },
         "mode": "lines+markers",
         "showlegend": false,
         "type": "scatter",
         "x": [
          12,
          13
         ],
         "xaxis": "x",
         "y": [
          1.444016456604004,
          1.6776911616325378
         ],
         "yaxis": "y"
        },
        {
         "hovertemplate": "x=%{x}<br>y=%{y}<extra></extra>",
         "line": {
          "color": "#023e8a",
          "width": 3
         },
         "marker": {
          "color": "#023e8a",
          "size": 7
         },
         "mode": "lines+markers",
         "showlegend": false,
         "type": "scatter",
         "x": [
          9,
          10
         ],
         "xaxis": "x",
         "y": [
          0.9452452063560486,
          1.444016456604004
         ],
         "yaxis": "y"
        },
        {
         "hovertemplate": "x=%{x}<br>y=%{y}<extra></extra>",
         "line": {
          "color": "#023e8a",
          "width": 3
         },
         "marker": {
          "color": "#023e8a",
          "size": 7
         },
         "mode": "lines+markers",
         "showlegend": false,
         "type": "scatter",
         "x": [
          8,
          9
         ],
         "xaxis": "x",
         "y": [
          0.29818272590637207,
          0.9452452063560486
         ],
         "yaxis": "y"
        },
        {
         "hovertemplate": "x=%{x}<br>y=%{y}<extra></extra>",
         "line": {
          "color": "#023e8a",
          "width": 3
         },
         "marker": {
          "color": "#023e8a",
          "size": 7
         },
         "mode": "lines+markers",
         "showlegend": false,
         "type": "scatter",
         "x": [
          2,
          3
         ],
         "xaxis": "x",
         "y": [
          0,
          0.29818272590637207
         ],
         "yaxis": "y"
        },
        {
         "hovertemplate": "x=%{x}<br>y=%{y}<extra></extra>",
         "line": {
          "color": "#c1121f",
          "width": 3
         },
         "marker": {
          "color": "#c1121f",
          "size": 7
         },
         "mode": "lines+markers",
         "showlegend": false,
         "type": "scatter",
         "x": [
          109,
          110
         ],
         "xaxis": "x",
         "y": [
          21.49622756242752,
          21.651625752449036
         ],
         "yaxis": "y"
        },
        {
         "hovertemplate": "x=%{x}<br>y=%{y}<extra></extra>",
         "line": {
          "color": "#c1121f",
          "width": 3
         },
         "marker": {
          "color": "#c1121f",
          "size": 7
         },
         "mode": "lines+markers",
         "showlegend": false,
         "type": "scatter",
         "x": [
          66,
          67
         ],
         "xaxis": "x",
         "y": [
          12.782848298549652,
          11.427209496498108
         ],
         "yaxis": "y"
        },
        {
         "hovertemplate": "x=%{x}<br>y=%{y}<extra></extra>",
         "line": {
          "color": "#c1121f",
          "width": 3
         },
         "marker": {
          "color": "#c1121f",
          "size": 7
         },
         "mode": "lines+markers",
         "showlegend": false,
         "type": "scatter",
         "x": [
          37,
          38
         ],
         "xaxis": "x",
         "y": [
          5.371881902217865,
          6.285137057304382
         ],
         "yaxis": "y"
        },
        {
         "hovertemplate": "x=%{x}<br>y=%{y}<extra></extra>",
         "line": {
          "color": "#c1121f",
          "width": 3
         },
         "marker": {
          "color": "#c1121f",
          "size": 7
         },
         "mode": "lines+markers",
         "showlegend": false,
         "type": "scatter",
         "x": [
          31,
          32
         ],
         "xaxis": "x",
         "y": [
          3.571068048477173,
          3.6438148021698
         ],
         "yaxis": "y"
        },
        {
         "hovertemplate": "x=%{x}<br>y=%{y}<extra></extra>",
         "line": {
          "color": "#9d4edd",
          "width": 3
         },
         "marker": {
          "color": "#9d4edd",
          "size": 7
         },
         "mode": "lines+markers",
         "showlegend": false,
         "type": "scatter",
         "x": [
          114,
          115
         ],
         "xaxis": "x",
         "y": [
          22.42770344018936,
          21.66043907403946
         ],
         "yaxis": "y"
        },
        {
         "hovertemplate": "x=%{x}<br>y=%{y}<extra></extra>",
         "line": {
          "color": "#9d4edd",
          "width": 3
         },
         "marker": {
          "color": "#9d4edd",
          "size": 7
         },
         "mode": "lines+markers",
         "showlegend": false,
         "type": "scatter",
         "x": [
          100,
          101
         ],
         "xaxis": "x",
         "y": [
          24.382721722126007,
          20.280430018901825
         ],
         "yaxis": "y"
        },
        {
         "line": {
          "color": "#64B5F6",
          "width": 2
         },
         "mode": "lines",
         "name": "human_insert_backstage",
         "showlegend": true,
         "type": "scatter",
         "x": [
          null
         ],
         "xaxis": "x",
         "y": [
          null
         ],
         "yaxis": "y"
        },
        {
         "line": {
          "color": "#ff8fab",
          "width": 2
         },
         "mode": "lines",
         "name": "ai_suggest_backstage",
         "showlegend": true,
         "type": "scatter",
         "x": [
          null
         ],
         "xaxis": "x",
         "y": [
          null
         ],
         "yaxis": "y"
        },
        {
         "line": {
          "color": "#023e8a",
          "width": 2
         },
         "mode": "lines",
         "name": "human_insert_frontstage",
         "showlegend": true,
         "type": "scatter",
         "x": [
          null
         ],
         "xaxis": "x",
         "y": [
          null
         ],
         "yaxis": "y"
        },
        {
         "line": {
          "color": "#c1121f",
          "width": 2
         },
         "mode": "lines",
         "name": "ai_insert_moved_to_frontstage",
         "showlegend": true,
         "type": "scatter",
         "x": [
          null
         ],
         "xaxis": "x",
         "y": [
          null
         ],
         "yaxis": "y"
        },
        {
         "line": {
          "color": "#9d4edd",
          "width": 2
         },
         "mode": "lines",
         "name": "human_delete_frontstage",
         "showlegend": true,
         "type": "scatter",
         "x": [
          null
         ],
         "xaxis": "x",
         "y": [
          null
         ],
         "yaxis": "y"
        },
        {
         "line": {
          "color": "#5a189a",
          "width": 2
         },
         "mode": "lines",
         "name": "human_insert_edit_frontstage",
         "showlegend": true,
         "type": "scatter",
         "x": [
          null
         ],
         "xaxis": "x",
         "y": [
          null
         ],
         "yaxis": "y"
        }
       ],
       "layout": {
        "annotations": [
         {
          "font": {
           "size": 16
          },
          "showarrow": false,
          "text": "Session: legislation_corporate_6",
          "x": 0.5,
          "xanchor": "center",
          "xref": "paper",
          "y": 1,
          "yanchor": "bottom",
          "yref": "paper"
         }
        ],
        "height": 500,
        "legend": {
         "title": {
          "font": {
           "color": "rgba(0, 0, 0, 0)"
          }
         }
        },
        "plot_bgcolor": "white",
        "showlegend": true,
        "template": {
         "data": {
          "bar": [
           {
            "error_x": {
             "color": "#2a3f5f"
            },
            "error_y": {
             "color": "#2a3f5f"
            },
            "marker": {
             "line": {
              "color": "#E5ECF6",
              "width": 0.5
             },
             "pattern": {
              "fillmode": "overlay",
              "size": 10,
              "solidity": 0.2
             }
            },
            "type": "bar"
           }
          ],
          "barpolar": [
           {
            "marker": {
             "line": {
              "color": "#E5ECF6",
              "width": 0.5
             },
             "pattern": {
              "fillmode": "overlay",
              "size": 10,
              "solidity": 0.2
             }
            },
            "type": "barpolar"
           }
          ],
          "carpet": [
           {
            "aaxis": {
             "endlinecolor": "#2a3f5f",
             "gridcolor": "white",
             "linecolor": "white",
             "minorgridcolor": "white",
             "startlinecolor": "#2a3f5f"
            },
            "baxis": {
             "endlinecolor": "#2a3f5f",
             "gridcolor": "white",
             "linecolor": "white",
             "minorgridcolor": "white",
             "startlinecolor": "#2a3f5f"
            },
            "type": "carpet"
           }
          ],
          "choropleth": [
           {
            "colorbar": {
             "outlinewidth": 0,
             "ticks": ""
            },
            "type": "choropleth"
           }
          ],
          "contour": [
           {
            "colorbar": {
             "outlinewidth": 0,
             "ticks": ""
            },
            "colorscale": [
             [
              0,
              "#0d0887"
             ],
             [
              0.1111111111111111,
              "#46039f"
             ],
             [
              0.2222222222222222,
              "#7201a8"
             ],
             [
              0.3333333333333333,
              "#9c179e"
             ],
             [
              0.4444444444444444,
              "#bd3786"
             ],
             [
              0.5555555555555556,
              "#d8576b"
             ],
             [
              0.6666666666666666,
              "#ed7953"
             ],
             [
              0.7777777777777778,
              "#fb9f3a"
             ],
             [
              0.8888888888888888,
              "#fdca26"
             ],
             [
              1,
              "#f0f921"
             ]
            ],
            "type": "contour"
           }
          ],
          "contourcarpet": [
           {
            "colorbar": {
             "outlinewidth": 0,
             "ticks": ""
            },
            "type": "contourcarpet"
           }
          ],
          "heatmap": [
           {
            "colorbar": {
             "outlinewidth": 0,
             "ticks": ""
            },
            "colorscale": [
             [
              0,
              "#0d0887"
             ],
             [
              0.1111111111111111,
              "#46039f"
             ],
             [
              0.2222222222222222,
              "#7201a8"
             ],
             [
              0.3333333333333333,
              "#9c179e"
             ],
             [
              0.4444444444444444,
              "#bd3786"
             ],
             [
              0.5555555555555556,
              "#d8576b"
             ],
             [
              0.6666666666666666,
              "#ed7953"
             ],
             [
              0.7777777777777778,
              "#fb9f3a"
             ],
             [
              0.8888888888888888,
              "#fdca26"
             ],
             [
              1,
              "#f0f921"
             ]
            ],
            "type": "heatmap"
           }
          ],
          "histogram": [
           {
            "marker": {
             "pattern": {
              "fillmode": "overlay",
              "size": 10,
              "solidity": 0.2
             }
            },
            "type": "histogram"
           }
          ],
          "histogram2d": [
           {
            "colorbar": {
             "outlinewidth": 0,
             "ticks": ""
            },
            "colorscale": [
             [
              0,
              "#0d0887"
             ],
             [
              0.1111111111111111,
              "#46039f"
             ],
             [
              0.2222222222222222,
              "#7201a8"
             ],
             [
              0.3333333333333333,
              "#9c179e"
             ],
             [
              0.4444444444444444,
              "#bd3786"
             ],
             [
              0.5555555555555556,
              "#d8576b"
             ],
             [
              0.6666666666666666,
              "#ed7953"
             ],
             [
              0.7777777777777778,
              "#fb9f3a"
             ],
             [
              0.8888888888888888,
              "#fdca26"
             ],
             [
              1,
              "#f0f921"
             ]
            ],
            "type": "histogram2d"
           }
          ],
          "histogram2dcontour": [
           {
            "colorbar": {
             "outlinewidth": 0,
             "ticks": ""
            },
            "colorscale": [
             [
              0,
              "#0d0887"
             ],
             [
              0.1111111111111111,
              "#46039f"
             ],
             [
              0.2222222222222222,
              "#7201a8"
             ],
             [
              0.3333333333333333,
              "#9c179e"
             ],
             [
              0.4444444444444444,
              "#bd3786"
             ],
             [
              0.5555555555555556,
              "#d8576b"
             ],
             [
              0.6666666666666666,
              "#ed7953"
             ],
             [
              0.7777777777777778,
              "#fb9f3a"
             ],
             [
              0.8888888888888888,
              "#fdca26"
             ],
             [
              1,
              "#f0f921"
             ]
            ],
            "type": "histogram2dcontour"
           }
          ],
          "mesh3d": [
           {
            "colorbar": {
             "outlinewidth": 0,
             "ticks": ""
            },
            "type": "mesh3d"
           }
          ],
          "parcoords": [
           {
            "line": {
             "colorbar": {
              "outlinewidth": 0,
              "ticks": ""
             }
            },
            "type": "parcoords"
           }
          ],
          "pie": [
           {
            "automargin": true,
            "type": "pie"
           }
          ],
          "scatter": [
           {
            "fillpattern": {
             "fillmode": "overlay",
             "size": 10,
             "solidity": 0.2
            },
            "type": "scatter"
           }
          ],
          "scatter3d": [
           {
            "line": {
             "colorbar": {
              "outlinewidth": 0,
              "ticks": ""
             }
            },
            "marker": {
             "colorbar": {
              "outlinewidth": 0,
              "ticks": ""
             }
            },
            "type": "scatter3d"
           }
          ],
          "scattercarpet": [
           {
            "marker": {
             "colorbar": {
              "outlinewidth": 0,
              "ticks": ""
             }
            },
            "type": "scattercarpet"
           }
          ],
          "scattergeo": [
           {
            "marker": {
             "colorbar": {
              "outlinewidth": 0,
              "ticks": ""
             }
            },
            "type": "scattergeo"
           }
          ],
          "scattergl": [
           {
            "marker": {
             "colorbar": {
              "outlinewidth": 0,
              "ticks": ""
             }
            },
            "type": "scattergl"
           }
          ],
          "scattermap": [
           {
            "marker": {
             "colorbar": {
              "outlinewidth": 0,
              "ticks": ""
             }
            },
            "type": "scattermap"
           }
          ],
          "scattermapbox": [
           {
            "marker": {
             "colorbar": {
              "outlinewidth": 0,
              "ticks": ""
             }
            },
            "type": "scattermapbox"
           }
          ],
          "scatterpolar": [
           {
            "marker": {
             "colorbar": {
              "outlinewidth": 0,
              "ticks": ""
             }
            },
            "type": "scatterpolar"
           }
          ],
          "scatterpolargl": [
           {
            "marker": {
             "colorbar": {
              "outlinewidth": 0,
              "ticks": ""
             }
            },
            "type": "scatterpolargl"
           }
          ],
          "scatterternary": [
           {
            "marker": {
             "colorbar": {
              "outlinewidth": 0,
              "ticks": ""
             }
            },
            "type": "scatterternary"
           }
          ],
          "surface": [
           {
            "colorbar": {
             "outlinewidth": 0,
             "ticks": ""
            },
            "colorscale": [
             [
              0,
              "#0d0887"
             ],
             [
              0.1111111111111111,
              "#46039f"
             ],
             [
              0.2222222222222222,
              "#7201a8"
             ],
             [
              0.3333333333333333,
              "#9c179e"
             ],
             [
              0.4444444444444444,
              "#bd3786"
             ],
             [
              0.5555555555555556,
              "#d8576b"
             ],
             [
              0.6666666666666666,
              "#ed7953"
             ],
             [
              0.7777777777777778,
              "#fb9f3a"
             ],
             [
              0.8888888888888888,
              "#fdca26"
             ],
             [
              1,
              "#f0f921"
             ]
            ],
            "type": "surface"
           }
          ],
          "table": [
           {
            "cells": {
             "fill": {
              "color": "#EBF0F8"
             },
             "line": {
              "color": "white"
             }
            },
            "header": {
             "fill": {
              "color": "#C8D4E3"
             },
             "line": {
              "color": "white"
             }
            },
            "type": "table"
           }
          ]
         },
         "layout": {
          "annotationdefaults": {
           "arrowcolor": "#2a3f5f",
           "arrowhead": 0,
           "arrowwidth": 1
          },
          "autotypenumbers": "strict",
          "coloraxis": {
           "colorbar": {
            "outlinewidth": 0,
            "ticks": ""
           }
          },
          "colorscale": {
           "diverging": [
            [
             0,
             "#8e0152"
            ],
            [
             0.1,
             "#c51b7d"
            ],
            [
             0.2,
             "#de77ae"
            ],
            [
             0.3,
             "#f1b6da"
            ],
            [
             0.4,
             "#fde0ef"
            ],
            [
             0.5,
             "#f7f7f7"
            ],
            [
             0.6,
             "#e6f5d0"
            ],
            [
             0.7,
             "#b8e186"
            ],
            [
             0.8,
             "#7fbc41"
            ],
            [
             0.9,
             "#4d9221"
            ],
            [
             1,
             "#276419"
            ]
           ],
           "sequential": [
            [
             0,
             "#0d0887"
            ],
            [
             0.1111111111111111,
             "#46039f"
            ],
            [
             0.2222222222222222,
             "#7201a8"
            ],
            [
             0.3333333333333333,
             "#9c179e"
            ],
            [
             0.4444444444444444,
             "#bd3786"
            ],
            [
             0.5555555555555556,
             "#d8576b"
            ],
            [
             0.6666666666666666,
             "#ed7953"
            ],
            [
             0.7777777777777778,
             "#fb9f3a"
            ],
            [
             0.8888888888888888,
             "#fdca26"
            ],
            [
             1,
             "#f0f921"
            ]
           ],
           "sequentialminus": [
            [
             0,
             "#0d0887"
            ],
            [
             0.1111111111111111,
             "#46039f"
            ],
            [
             0.2222222222222222,
             "#7201a8"
            ],
            [
             0.3333333333333333,
             "#9c179e"
            ],
            [
             0.4444444444444444,
             "#bd3786"
            ],
            [
             0.5555555555555556,
             "#d8576b"
            ],
            [
             0.6666666666666666,
             "#ed7953"
            ],
            [
             0.7777777777777778,
             "#fb9f3a"
            ],
            [
             0.8888888888888888,
             "#fdca26"
            ],
            [
             1,
             "#f0f921"
            ]
           ]
          },
          "colorway": [
           "#636efa",
           "#EF553B",
           "#00cc96",
           "#ab63fa",
           "#FFA15A",
           "#19d3f3",
           "#FF6692",
           "#B6E880",
           "#FF97FF",
           "#FECB52"
          ],
          "font": {
           "color": "#2a3f5f"
          },
          "geo": {
           "bgcolor": "white",
           "lakecolor": "white",
           "landcolor": "#E5ECF6",
           "showlakes": true,
           "showland": true,
           "subunitcolor": "white"
          },
          "hoverlabel": {
           "align": "left"
          },
          "hovermode": "closest",
          "mapbox": {
           "style": "light"
          },
          "paper_bgcolor": "white",
          "plot_bgcolor": "#E5ECF6",
          "polar": {
           "angularaxis": {
            "gridcolor": "white",
            "linecolor": "white",
            "ticks": ""
           },
           "bgcolor": "#E5ECF6",
           "radialaxis": {
            "gridcolor": "white",
            "linecolor": "white",
            "ticks": ""
           }
          },
          "scene": {
           "xaxis": {
            "backgroundcolor": "#E5ECF6",
            "gridcolor": "white",
            "gridwidth": 2,
            "linecolor": "white",
            "showbackground": true,
            "ticks": "",
            "zerolinecolor": "white"
           },
           "yaxis": {
            "backgroundcolor": "#E5ECF6",
            "gridcolor": "white",
            "gridwidth": 2,
            "linecolor": "white",
            "showbackground": true,
            "ticks": "",
            "zerolinecolor": "white"
           },
           "zaxis": {
            "backgroundcolor": "#E5ECF6",
            "gridcolor": "white",
            "gridwidth": 2,
            "linecolor": "white",
            "showbackground": true,
            "ticks": "",
            "zerolinecolor": "white"
           }
          },
          "shapedefaults": {
           "line": {
            "color": "#2a3f5f"
           }
          },
          "ternary": {
           "aaxis": {
            "gridcolor": "white",
            "linecolor": "white",
            "ticks": ""
           },
           "baxis": {
            "gridcolor": "white",
            "linecolor": "white",
            "ticks": ""
           },
           "bgcolor": "#E5ECF6",
           "caxis": {
            "gridcolor": "white",
            "linecolor": "white",
            "ticks": ""
           }
          },
          "title": {
           "x": 0.05
          },
          "xaxis": {
           "automargin": true,
           "gridcolor": "white",
           "linecolor": "white",
           "ticks": "",
           "title": {
            "standoff": 15
           },
           "zerolinecolor": "white",
           "zerolinewidth": 2
          },
          "yaxis": {
           "automargin": true,
           "gridcolor": "white",
           "linecolor": "white",
           "ticks": "",
           "title": {
            "standoff": 15
           },
           "zerolinecolor": "white",
           "zerolinewidth": 2
          }
         }
        },
        "title": {
         "text": "Semantic Expansion over Writing Sessions<br><span style=\"font-size: 12px;\">*Measuring how well humans are learning while writing with GenAI</span>"
        },
        "width": 1800,
        "xaxis": {
         "anchor": "y",
         "domain": [
          0,
          1
         ],
         "gridcolor": "white",
         "linecolor": "black",
         "mirror": false,
         "range": [
          -1,
          124
         ],
         "showline": true,
         "ticks": "outside",
         "title": {
          "text": "Progress into the writing session"
         }
        },
        "yaxis": {
         "anchor": "x",
         "domain": [
          0,
          1
         ],
         "gridcolor": "white",
         "linecolor": "black",
         "mirror": false,
         "showline": true,
         "ticks": "outside",
         "title": {
          "text": "Scores"
         }
        }
       }
      }
     },
     "metadata": {},
     "output_type": "display_data"
    },
    {
     "name": "stdout",
     "output_type": "stream",
     "text": [
      "legislation_antitrust_1\n"
     ]
    },
    {
     "data": {
      "application/vnd.plotly.v1+json": {
       "config": {
        "plotlyServerURL": "https://plot.ly"
       },
       "data": [
        {
         "hovertemplate": "x=%{x}<br>y=%{y}<extra></extra>",
         "line": {
          "color": "#64B5F6",
          "width": 3
         },
         "marker": {
          "color": "#64B5F6",
          "size": 7
         },
         "mode": "lines+markers",
         "showlegend": false,
         "type": "scatter",
         "x": [
          45,
          46
         ],
         "xaxis": "x",
         "y": [
          11.250537276268005,
          11.911474168300629
         ],
         "yaxis": "y"
        },
        {
         "hovertemplate": "x=%{x}<br>y=%{y}<extra></extra>",
         "line": {
          "color": "#64B5F6",
          "width": 3
         },
         "marker": {
          "color": "#64B5F6",
          "size": 7
         },
         "mode": "lines+markers",
         "showlegend": false,
         "type": "scatter",
         "x": [
          26,
          27
         ],
         "xaxis": "x",
         "y": [
          7.362673830986023,
          7.8072986721992494
         ],
         "yaxis": "y"
        },
        {
         "hovertemplate": "x=%{x}<br>y=%{y}<extra></extra>",
         "line": {
          "color": "#64B5F6",
          "width": 3
         },
         "marker": {
          "color": "#64B5F6",
          "size": 7
         },
         "mode": "lines+markers",
         "showlegend": false,
         "type": "scatter",
         "x": [
          12,
          13
         ],
         "xaxis": "x",
         "y": [
          3.7770312428474426,
          2.2889816761016846
         ],
         "yaxis": "y"
        },
        {
         "hovertemplate": "x=%{x}<br>y=%{y}<extra></extra>",
         "line": {
          "color": "#64B5F6",
          "width": 3
         },
         "marker": {
          "color": "#64B5F6",
          "size": 7
         },
         "mode": "lines+markers",
         "showlegend": false,
         "type": "scatter",
         "x": [
          2,
          3
         ],
         "xaxis": "x",
         "y": [
          0.7242424845695495,
          1.1133587121963502
         ],
         "yaxis": "y"
        },
        {
         "hovertemplate": "x=%{x}<br>y=%{y}<extra></extra>",
         "line": {
          "color": "#64B5F6",
          "width": 3
         },
         "marker": {
          "color": "#64B5F6",
          "size": 7
         },
         "mode": "lines+markers",
         "showlegend": false,
         "type": "scatter",
         "x": [
          0,
          1
         ],
         "xaxis": "x",
         "y": [
          0,
          0.3788606524467468
         ],
         "yaxis": "y"
        },
        {
         "hovertemplate": "x=%{x}<br>y=%{y}<extra></extra>",
         "line": {
          "color": "#ff8fab",
          "width": 3
         },
         "marker": {
          "color": "#ff8fab",
          "size": 7
         },
         "mode": "lines+markers",
         "showlegend": false,
         "type": "scatter",
         "x": [
          48,
          49
         ],
         "xaxis": "x",
         "y": [
          12.978959727287293,
          13.546862637996675
         ],
         "yaxis": "y"
        },
        {
         "hovertemplate": "x=%{x}<br>y=%{y}<extra></extra>",
         "line": {
          "color": "#ff8fab",
          "width": 3
         },
         "marker": {
          "color": "#ff8fab",
          "size": 7
         },
         "mode": "lines+markers",
         "showlegend": false,
         "type": "scatter",
         "x": [
          47,
          48
         ],
         "xaxis": "x",
         "y": [
          12.437494909763336,
          12.978959727287293
         ],
         "yaxis": "y"
        },
        {
         "hovertemplate": "x=%{x}<br>y=%{y}<extra></extra>",
         "line": {
          "color": "#ff8fab",
          "width": 3
         },
         "marker": {
          "color": "#ff8fab",
          "size": 7
         },
         "mode": "lines+markers",
         "showlegend": false,
         "type": "scatter",
         "x": [
          46,
          47
         ],
         "xaxis": "x",
         "y": [
          11.911474168300629,
          12.437494909763336
         ],
         "yaxis": "y"
        },
        {
         "hovertemplate": "x=%{x}<br>y=%{y}<extra></extra>",
         "line": {
          "color": "#ff8fab",
          "width": 3
         },
         "marker": {
          "color": "#ff8fab",
          "size": 7
         },
         "mode": "lines+markers",
         "showlegend": false,
         "type": "scatter",
         "x": [
          44,
          45
         ],
         "xaxis": "x",
         "y": [
          10.936824607849122,
          11.250537276268005
         ],
         "yaxis": "y"
        },
        {
         "hovertemplate": "x=%{x}<br>y=%{y}<extra></extra>",
         "line": {
          "color": "#ff8fab",
          "width": 3
         },
         "marker": {
          "color": "#ff8fab",
          "size": 7
         },
         "mode": "lines+markers",
         "showlegend": false,
         "type": "scatter",
         "x": [
          43,
          44
         ],
         "xaxis": "x",
         "y": [
          10.496378540992737,
          10.936824607849122
         ],
         "yaxis": "y"
        },
        {
         "hovertemplate": "x=%{x}<br>y=%{y}<extra></extra>",
         "line": {
          "color": "#ff8fab",
          "width": 3
         },
         "marker": {
          "color": "#ff8fab",
          "size": 7
         },
         "mode": "lines+markers",
         "showlegend": false,
         "type": "scatter",
         "x": [
          40,
          41
         ],
         "xaxis": "x",
         "y": [
          10.49041953086853,
          11.029137563705444
         ],
         "yaxis": "y"
        },
        {
         "hovertemplate": "x=%{x}<br>y=%{y}<extra></extra>",
         "line": {
          "color": "#ff8fab",
          "width": 3
         },
         "marker": {
          "color": "#ff8fab",
          "size": 7
         },
         "mode": "lines+markers",
         "showlegend": false,
         "type": "scatter",
         "x": [
          39,
          40
         ],
         "xaxis": "x",
         "y": [
          9.882004618644714,
          10.49041953086853
         ],
         "yaxis": "y"
        },
        {
         "hovertemplate": "x=%{x}<br>y=%{y}<extra></extra>",
         "line": {
          "color": "#ff8fab",
          "width": 3
         },
         "marker": {
          "color": "#ff8fab",
          "size": 7
         },
         "mode": "lines+markers",
         "showlegend": false,
         "type": "scatter",
         "x": [
          37,
          38
         ],
         "xaxis": "x",
         "y": [
          9.83397879600525,
          10.323874378204346
         ],
         "yaxis": "y"
        },
        {
         "hovertemplate": "x=%{x}<br>y=%{y}<extra></extra>",
         "line": {
          "color": "#ff8fab",
          "width": 3
         },
         "marker": {
          "color": "#ff8fab",
          "size": 7
         },
         "mode": "lines+markers",
         "showlegend": false,
         "type": "scatter",
         "x": [
          36,
          37
         ],
         "xaxis": "x",
         "y": [
          9.337329387664795,
          9.83397879600525
         ],
         "yaxis": "y"
        },
        {
         "hovertemplate": "x=%{x}<br>y=%{y}<extra></extra>",
         "line": {
          "color": "#ff8fab",
          "width": 3
         },
         "marker": {
          "color": "#ff8fab",
          "size": 7
         },
         "mode": "lines+markers",
         "showlegend": false,
         "type": "scatter",
         "x": [
          32,
          33
         ],
         "xaxis": "x",
         "y": [
          8.781307935714722,
          9.094629192352295
         ],
         "yaxis": "y"
        },
        {
         "hovertemplate": "x=%{x}<br>y=%{y}<extra></extra>",
         "line": {
          "color": "#ff8fab",
          "width": 3
         },
         "marker": {
          "color": "#ff8fab",
          "size": 7
         },
         "mode": "lines+markers",
         "showlegend": false,
         "type": "scatter",
         "x": [
          27,
          28
         ],
         "xaxis": "x",
         "y": [
          7.8072986721992494,
          8.137095940113067
         ],
         "yaxis": "y"
        },
        {
         "hovertemplate": "x=%{x}<br>y=%{y}<extra></extra>",
         "line": {
          "color": "#ff8fab",
          "width": 3
         },
         "marker": {
          "color": "#ff8fab",
          "size": 7
         },
         "mode": "lines+markers",
         "showlegend": false,
         "type": "scatter",
         "x": [
          25,
          26
         ],
         "xaxis": "x",
         "y": [
          7.106332838535309,
          7.362673830986023
         ],
         "yaxis": "y"
        },
        {
         "hovertemplate": "x=%{x}<br>y=%{y}<extra></extra>",
         "line": {
          "color": "#ff8fab",
          "width": 3
         },
         "marker": {
          "color": "#ff8fab",
          "size": 7
         },
         "mode": "lines+markers",
         "showlegend": false,
         "type": "scatter",
         "x": [
          19,
          20
         ],
         "xaxis": "x",
         "y": [
          5.281828224658966,
          5.529203414916992
         ],
         "yaxis": "y"
        },
        {
         "hovertemplate": "x=%{x}<br>y=%{y}<extra></extra>",
         "line": {
          "color": "#ff8fab",
          "width": 3
         },
         "marker": {
          "color": "#ff8fab",
          "size": 7
         },
         "mode": "lines+markers",
         "showlegend": false,
         "type": "scatter",
         "x": [
          13,
          14
         ],
         "xaxis": "x",
         "y": [
          2.2889816761016846,
          2.596601903438568
         ],
         "yaxis": "y"
        },
        {
         "hovertemplate": "x=%{x}<br>y=%{y}<extra></extra>",
         "line": {
          "color": "#ff8fab",
          "width": 3
         },
         "marker": {
          "color": "#ff8fab",
          "size": 7
         },
         "mode": "lines+markers",
         "showlegend": false,
         "type": "scatter",
         "x": [
          7,
          8
         ],
         "xaxis": "x",
         "y": [
          1.7258927822113037,
          2.214394199848175
         ],
         "yaxis": "y"
        },
        {
         "hovertemplate": "x=%{x}<br>y=%{y}<extra></extra>",
         "line": {
          "color": "#ff8fab",
          "width": 3
         },
         "marker": {
          "color": "#ff8fab",
          "size": 7
         },
         "mode": "lines+markers",
         "showlegend": false,
         "type": "scatter",
         "x": [
          3,
          4
         ],
         "xaxis": "x",
         "y": [
          1.1133587121963502,
          1.5087436079978944
         ],
         "yaxis": "y"
        },
        {
         "hovertemplate": "x=%{x}<br>y=%{y}<extra></extra>",
         "line": {
          "color": "#ff8fab",
          "width": 3
         },
         "marker": {
          "color": "#ff8fab",
          "size": 7
         },
         "mode": "lines+markers",
         "showlegend": false,
         "type": "scatter",
         "x": [
          1,
          2
         ],
         "xaxis": "x",
         "y": [
          0.3788606524467468,
          0.7242424845695495
         ],
         "yaxis": "y"
        },
        {
         "hovertemplate": "x=%{x}<br>y=%{y}<extra></extra>",
         "line": {
          "color": "#023e8a",
          "width": 3
         },
         "marker": {
          "color": "#023e8a",
          "size": 7
         },
         "mode": "lines+markers",
         "showlegend": false,
         "type": "scatter",
         "x": [
          51,
          52
         ],
         "xaxis": "x",
         "y": [
          11.071993172168732,
          11.368125021457672
         ],
         "yaxis": "y"
        },
        {
         "hovertemplate": "x=%{x}<br>y=%{y}<extra></extra>",
         "line": {
          "color": "#023e8a",
          "width": 3
         },
         "marker": {
          "color": "#023e8a",
          "size": 7
         },
         "mode": "lines+markers",
         "showlegend": false,
         "type": "scatter",
         "x": [
          50,
          51
         ],
         "xaxis": "x",
         "y": [
          10.806002914905548,
          11.071993172168732
         ],
         "yaxis": "y"
        },
        {
         "hovertemplate": "x=%{x}<br>y=%{y}<extra></extra>",
         "line": {
          "color": "#023e8a",
          "width": 3
         },
         "marker": {
          "color": "#023e8a",
          "size": 7
         },
         "mode": "lines+markers",
         "showlegend": false,
         "type": "scatter",
         "x": [
          49,
          50
         ],
         "xaxis": "x",
         "y": [
          10.496378540992737,
          10.806002914905548
         ],
         "yaxis": "y"
        },
        {
         "hovertemplate": "x=%{x}<br>y=%{y}<extra></extra>",
         "line": {
          "color": "#023e8a",
          "width": 3
         },
         "marker": {
          "color": "#023e8a",
          "size": 7
         },
         "mode": "lines+markers",
         "showlegend": false,
         "type": "scatter",
         "x": [
          42,
          43
         ],
         "xaxis": "x",
         "y": [
          10.236352264881134,
          10.496378540992737
         ],
         "yaxis": "y"
        },
        {
         "hovertemplate": "x=%{x}<br>y=%{y}<extra></extra>",
         "line": {
          "color": "#023e8a",
          "width": 3
         },
         "marker": {
          "color": "#023e8a",
          "size": 7
         },
         "mode": "lines+markers",
         "showlegend": false,
         "type": "scatter",
         "x": [
          41,
          42
         ],
         "xaxis": "x",
         "y": [
          9.882004618644714,
          10.236352264881134
         ],
         "yaxis": "y"
        },
        {
         "hovertemplate": "x=%{x}<br>y=%{y}<extra></extra>",
         "line": {
          "color": "#023e8a",
          "width": 3
         },
         "marker": {
          "color": "#023e8a",
          "size": 7
         },
         "mode": "lines+markers",
         "showlegend": false,
         "type": "scatter",
         "x": [
          35,
          36
         ],
         "xaxis": "x",
         "y": [
          8.942306578159332,
          9.337329387664795
         ],
         "yaxis": "y"
        },
        {
         "hovertemplate": "x=%{x}<br>y=%{y}<extra></extra>",
         "line": {
          "color": "#023e8a",
          "width": 3
         },
         "marker": {
          "color": "#023e8a",
          "size": 7
         },
         "mode": "lines+markers",
         "showlegend": false,
         "type": "scatter",
         "x": [
          34,
          35
         ],
         "xaxis": "x",
         "y": [
          8.708482027053833,
          8.942306578159332
         ],
         "yaxis": "y"
        },
        {
         "hovertemplate": "x=%{x}<br>y=%{y}<extra></extra>",
         "line": {
          "color": "#023e8a",
          "width": 3
         },
         "marker": {
          "color": "#023e8a",
          "size": 7
         },
         "mode": "lines+markers",
         "showlegend": false,
         "type": "scatter",
         "x": [
          31,
          32
         ],
         "xaxis": "x",
         "y": [
          8.605194807052612,
          8.781307935714722
         ],
         "yaxis": "y"
        },
        {
         "hovertemplate": "x=%{x}<br>y=%{y}<extra></extra>",
         "line": {
          "color": "#023e8a",
          "width": 3
         },
         "marker": {
          "color": "#023e8a",
          "size": 7
         },
         "mode": "lines+markers",
         "showlegend": false,
         "type": "scatter",
         "x": [
          30,
          31
         ],
         "xaxis": "x",
         "y": [
          7.9850990772247314,
          8.605194807052612
         ],
         "yaxis": "y"
        },
        {
         "hovertemplate": "x=%{x}<br>y=%{y}<extra></extra>",
         "line": {
          "color": "#023e8a",
          "width": 3
         },
         "marker": {
          "color": "#023e8a",
          "size": 7
         },
         "mode": "lines+markers",
         "showlegend": false,
         "type": "scatter",
         "x": [
          29,
          30
         ],
         "xaxis": "x",
         "y": [
          7.389059662818909,
          7.9850990772247314
         ],
         "yaxis": "y"
        },
        {
         "hovertemplate": "x=%{x}<br>y=%{y}<extra></extra>",
         "line": {
          "color": "#023e8a",
          "width": 3
         },
         "marker": {
          "color": "#023e8a",
          "size": 7
         },
         "mode": "lines+markers",
         "showlegend": false,
         "type": "scatter",
         "x": [
          28,
          29
         ],
         "xaxis": "x",
         "y": [
          7.106332838535309,
          7.389059662818909
         ],
         "yaxis": "y"
        },
        {
         "hovertemplate": "x=%{x}<br>y=%{y}<extra></extra>",
         "line": {
          "color": "#023e8a",
          "width": 3
         },
         "marker": {
          "color": "#023e8a",
          "size": 7
         },
         "mode": "lines+markers",
         "showlegend": false,
         "type": "scatter",
         "x": [
          24,
          25
         ],
         "xaxis": "x",
         "y": [
          6.912577569484711,
          7.106332838535309
         ],
         "yaxis": "y"
        },
        {
         "hovertemplate": "x=%{x}<br>y=%{y}<extra></extra>",
         "line": {
          "color": "#023e8a",
          "width": 3
         },
         "marker": {
          "color": "#023e8a",
          "size": 7
         },
         "mode": "lines+markers",
         "showlegend": false,
         "type": "scatter",
         "x": [
          23,
          24
         ],
         "xaxis": "x",
         "y": [
          6.605927109718323,
          6.912577569484711
         ],
         "yaxis": "y"
        },
        {
         "hovertemplate": "x=%{x}<br>y=%{y}<extra></extra>",
         "line": {
          "color": "#023e8a",
          "width": 3
         },
         "marker": {
          "color": "#023e8a",
          "size": 7
         },
         "mode": "lines+markers",
         "showlegend": false,
         "type": "scatter",
         "x": [
          22,
          23
         ],
         "xaxis": "x",
         "y": [
          6.341120898723602,
          6.605927109718323
         ],
         "yaxis": "y"
        },
        {
         "hovertemplate": "x=%{x}<br>y=%{y}<extra></extra>",
         "line": {
          "color": "#023e8a",
          "width": 3
         },
         "marker": {
          "color": "#023e8a",
          "size": 7
         },
         "mode": "lines+markers",
         "showlegend": false,
         "type": "scatter",
         "x": [
          21,
          22
         ],
         "xaxis": "x",
         "y": [
          5.944836437702179,
          6.341120898723602
         ],
         "yaxis": "y"
        },
        {
         "hovertemplate": "x=%{x}<br>y=%{y}<extra></extra>",
         "line": {
          "color": "#023e8a",
          "width": 3
         },
         "marker": {
          "color": "#023e8a",
          "size": 7
         },
         "mode": "lines+markers",
         "showlegend": false,
         "type": "scatter",
         "x": [
          18,
          19
         ],
         "xaxis": "x",
         "y": [
          5.047360122203827,
          5.281828224658966
         ],
         "yaxis": "y"
        },
        {
         "hovertemplate": "x=%{x}<br>y=%{y}<extra></extra>",
         "line": {
          "color": "#023e8a",
          "width": 3
         },
         "marker": {
          "color": "#023e8a",
          "size": 7
         },
         "mode": "lines+markers",
         "showlegend": false,
         "type": "scatter",
         "x": [
          17,
          18
         ],
         "xaxis": "x",
         "y": [
          4.619430780410767,
          5.047360122203827
         ],
         "yaxis": "y"
        },
        {
         "hovertemplate": "x=%{x}<br>y=%{y}<extra></extra>",
         "line": {
          "color": "#023e8a",
          "width": 3
         },
         "marker": {
          "color": "#023e8a",
          "size": 7
         },
         "mode": "lines+markers",
         "showlegend": false,
         "type": "scatter",
         "x": [
          16,
          17
         ],
         "xaxis": "x",
         "y": [
          4.307793080806732,
          4.619430780410767
         ],
         "yaxis": "y"
        },
        {
         "hovertemplate": "x=%{x}<br>y=%{y}<extra></extra>",
         "line": {
          "color": "#023e8a",
          "width": 3
         },
         "marker": {
          "color": "#023e8a",
          "size": 7
         },
         "mode": "lines+markers",
         "showlegend": false,
         "type": "scatter",
         "x": [
          15,
          16
         ],
         "xaxis": "x",
         "y": [
          4.044474720954895,
          4.307793080806732
         ],
         "yaxis": "y"
        },
        {
         "hovertemplate": "x=%{x}<br>y=%{y}<extra></extra>",
         "line": {
          "color": "#023e8a",
          "width": 3
         },
         "marker": {
          "color": "#023e8a",
          "size": 7
         },
         "mode": "lines+markers",
         "showlegend": false,
         "type": "scatter",
         "x": [
          14,
          15
         ],
         "xaxis": "x",
         "y": [
          3.7770312428474426,
          4.044474720954895
         ],
         "yaxis": "y"
        },
        {
         "hovertemplate": "x=%{x}<br>y=%{y}<extra></extra>",
         "line": {
          "color": "#023e8a",
          "width": 3
         },
         "marker": {
          "color": "#023e8a",
          "size": 7
         },
         "mode": "lines+markers",
         "showlegend": false,
         "type": "scatter",
         "x": [
          11,
          12
         ],
         "xaxis": "x",
         "y": [
          3.4451181292533875,
          3.7770312428474426
         ],
         "yaxis": "y"
        },
        {
         "hovertemplate": "x=%{x}<br>y=%{y}<extra></extra>",
         "line": {
          "color": "#023e8a",
          "width": 3
         },
         "marker": {
          "color": "#023e8a",
          "size": 7
         },
         "mode": "lines+markers",
         "showlegend": false,
         "type": "scatter",
         "x": [
          10,
          11
         ],
         "xaxis": "x",
         "y": [
          3.0127333402633667,
          3.4451181292533875
         ],
         "yaxis": "y"
        },
        {
         "hovertemplate": "x=%{x}<br>y=%{y}<extra></extra>",
         "line": {
          "color": "#023e8a",
          "width": 3
         },
         "marker": {
          "color": "#023e8a",
          "size": 7
         },
         "mode": "lines+markers",
         "showlegend": false,
         "type": "scatter",
         "x": [
          9,
          10
         ],
         "xaxis": "x",
         "y": [
          2.102521240711212,
          3.0127333402633667
         ],
         "yaxis": "y"
        },
        {
         "hovertemplate": "x=%{x}<br>y=%{y}<extra></extra>",
         "line": {
          "color": "#023e8a",
          "width": 3
         },
         "marker": {
          "color": "#023e8a",
          "size": 7
         },
         "mode": "lines+markers",
         "showlegend": false,
         "type": "scatter",
         "x": [
          8,
          9
         ],
         "xaxis": "x",
         "y": [
          1.7258927822113037,
          2.102521240711212
         ],
         "yaxis": "y"
        },
        {
         "hovertemplate": "x=%{x}<br>y=%{y}<extra></extra>",
         "line": {
          "color": "#023e8a",
          "width": 3
         },
         "marker": {
          "color": "#023e8a",
          "size": 7
         },
         "mode": "lines+markers",
         "showlegend": false,
         "type": "scatter",
         "x": [
          6,
          7
         ],
         "xaxis": "x",
         "y": [
          1.2818763256072998,
          1.7258927822113037
         ],
         "yaxis": "y"
        },
        {
         "hovertemplate": "x=%{x}<br>y=%{y}<extra></extra>",
         "line": {
          "color": "#023e8a",
          "width": 3
         },
         "marker": {
          "color": "#023e8a",
          "size": 7
         },
         "mode": "lines+markers",
         "showlegend": false,
         "type": "scatter",
         "x": [
          5,
          6
         ],
         "xaxis": "x",
         "y": [
          0.32824164628982544,
          1.2818763256072998
         ],
         "yaxis": "y"
        },
        {
         "hovertemplate": "x=%{x}<br>y=%{y}<extra></extra>",
         "line": {
          "color": "#023e8a",
          "width": 3
         },
         "marker": {
          "color": "#023e8a",
          "size": 7
         },
         "mode": "lines+markers",
         "showlegend": false,
         "type": "scatter",
         "x": [
          4,
          5
         ],
         "xaxis": "x",
         "y": [
          0,
          0.32824164628982544
         ],
         "yaxis": "y"
        },
        {
         "hovertemplate": "x=%{x}<br>y=%{y}<extra></extra>",
         "line": {
          "color": "#c1121f",
          "width": 3
         },
         "marker": {
          "color": "#c1121f",
          "size": 7
         },
         "mode": "lines+markers",
         "showlegend": false,
         "type": "scatter",
         "x": [
          38,
          39
         ],
         "xaxis": "x",
         "y": [
          9.337329387664795,
          9.882004618644714
         ],
         "yaxis": "y"
        },
        {
         "hovertemplate": "x=%{x}<br>y=%{y}<extra></extra>",
         "line": {
          "color": "#c1121f",
          "width": 3
         },
         "marker": {
          "color": "#c1121f",
          "size": 7
         },
         "mode": "lines+markers",
         "showlegend": false,
         "type": "scatter",
         "x": [
          33,
          34
         ],
         "xaxis": "x",
         "y": [
          8.781307935714722,
          8.708482027053833
         ],
         "yaxis": "y"
        },
        {
         "hovertemplate": "x=%{x}<br>y=%{y}<extra></extra>",
         "line": {
          "color": "#c1121f",
          "width": 3
         },
         "marker": {
          "color": "#c1121f",
          "size": 7
         },
         "mode": "lines+markers",
         "showlegend": false,
         "type": "scatter",
         "x": [
          20,
          21
         ],
         "xaxis": "x",
         "y": [
          5.281828224658966,
          5.944836437702179
         ],
         "yaxis": "y"
        },
        {
         "line": {
          "color": "#64B5F6",
          "width": 2
         },
         "mode": "lines",
         "name": "human_insert_backstage",
         "showlegend": true,
         "type": "scatter",
         "x": [
          null
         ],
         "xaxis": "x",
         "y": [
          null
         ],
         "yaxis": "y"
        },
        {
         "line": {
          "color": "#ff8fab",
          "width": 2
         },
         "mode": "lines",
         "name": "ai_suggest_backstage",
         "showlegend": true,
         "type": "scatter",
         "x": [
          null
         ],
         "xaxis": "x",
         "y": [
          null
         ],
         "yaxis": "y"
        },
        {
         "line": {
          "color": "#023e8a",
          "width": 2
         },
         "mode": "lines",
         "name": "human_insert_frontstage",
         "showlegend": true,
         "type": "scatter",
         "x": [
          null
         ],
         "xaxis": "x",
         "y": [
          null
         ],
         "yaxis": "y"
        },
        {
         "line": {
          "color": "#c1121f",
          "width": 2
         },
         "mode": "lines",
         "name": "ai_insert_moved_to_frontstage",
         "showlegend": true,
         "type": "scatter",
         "x": [
          null
         ],
         "xaxis": "x",
         "y": [
          null
         ],
         "yaxis": "y"
        },
        {
         "line": {
          "color": "#9d4edd",
          "width": 2
         },
         "mode": "lines",
         "name": "human_delete_frontstage",
         "showlegend": true,
         "type": "scatter",
         "x": [
          null
         ],
         "xaxis": "x",
         "y": [
          null
         ],
         "yaxis": "y"
        },
        {
         "line": {
          "color": "#5a189a",
          "width": 2
         },
         "mode": "lines",
         "name": "human_insert_edit_frontstage",
         "showlegend": true,
         "type": "scatter",
         "x": [
          null
         ],
         "xaxis": "x",
         "y": [
          null
         ],
         "yaxis": "y"
        }
       ],
       "layout": {
        "annotations": [
         {
          "font": {
           "size": 16
          },
          "showarrow": false,
          "text": "Session: legislation_antitrust_1",
          "x": 0.5,
          "xanchor": "center",
          "xref": "paper",
          "y": 1,
          "yanchor": "bottom",
          "yref": "paper"
         }
        ],
        "height": 500,
        "legend": {
         "title": {
          "font": {
           "color": "rgba(0, 0, 0, 0)"
          }
         }
        },
        "plot_bgcolor": "white",
        "showlegend": true,
        "template": {
         "data": {
          "bar": [
           {
            "error_x": {
             "color": "#2a3f5f"
            },
            "error_y": {
             "color": "#2a3f5f"
            },
            "marker": {
             "line": {
              "color": "#E5ECF6",
              "width": 0.5
             },
             "pattern": {
              "fillmode": "overlay",
              "size": 10,
              "solidity": 0.2
             }
            },
            "type": "bar"
           }
          ],
          "barpolar": [
           {
            "marker": {
             "line": {
              "color": "#E5ECF6",
              "width": 0.5
             },
             "pattern": {
              "fillmode": "overlay",
              "size": 10,
              "solidity": 0.2
             }
            },
            "type": "barpolar"
           }
          ],
          "carpet": [
           {
            "aaxis": {
             "endlinecolor": "#2a3f5f",
             "gridcolor": "white",
             "linecolor": "white",
             "minorgridcolor": "white",
             "startlinecolor": "#2a3f5f"
            },
            "baxis": {
             "endlinecolor": "#2a3f5f",
             "gridcolor": "white",
             "linecolor": "white",
             "minorgridcolor": "white",
             "startlinecolor": "#2a3f5f"
            },
            "type": "carpet"
           }
          ],
          "choropleth": [
           {
            "colorbar": {
             "outlinewidth": 0,
             "ticks": ""
            },
            "type": "choropleth"
           }
          ],
          "contour": [
           {
            "colorbar": {
             "outlinewidth": 0,
             "ticks": ""
            },
            "colorscale": [
             [
              0,
              "#0d0887"
             ],
             [
              0.1111111111111111,
              "#46039f"
             ],
             [
              0.2222222222222222,
              "#7201a8"
             ],
             [
              0.3333333333333333,
              "#9c179e"
             ],
             [
              0.4444444444444444,
              "#bd3786"
             ],
             [
              0.5555555555555556,
              "#d8576b"
             ],
             [
              0.6666666666666666,
              "#ed7953"
             ],
             [
              0.7777777777777778,
              "#fb9f3a"
             ],
             [
              0.8888888888888888,
              "#fdca26"
             ],
             [
              1,
              "#f0f921"
             ]
            ],
            "type": "contour"
           }
          ],
          "contourcarpet": [
           {
            "colorbar": {
             "outlinewidth": 0,
             "ticks": ""
            },
            "type": "contourcarpet"
           }
          ],
          "heatmap": [
           {
            "colorbar": {
             "outlinewidth": 0,
             "ticks": ""
            },
            "colorscale": [
             [
              0,
              "#0d0887"
             ],
             [
              0.1111111111111111,
              "#46039f"
             ],
             [
              0.2222222222222222,
              "#7201a8"
             ],
             [
              0.3333333333333333,
              "#9c179e"
             ],
             [
              0.4444444444444444,
              "#bd3786"
             ],
             [
              0.5555555555555556,
              "#d8576b"
             ],
             [
              0.6666666666666666,
              "#ed7953"
             ],
             [
              0.7777777777777778,
              "#fb9f3a"
             ],
             [
              0.8888888888888888,
              "#fdca26"
             ],
             [
              1,
              "#f0f921"
             ]
            ],
            "type": "heatmap"
           }
          ],
          "histogram": [
           {
            "marker": {
             "pattern": {
              "fillmode": "overlay",
              "size": 10,
              "solidity": 0.2
             }
            },
            "type": "histogram"
           }
          ],
          "histogram2d": [
           {
            "colorbar": {
             "outlinewidth": 0,
             "ticks": ""
            },
            "colorscale": [
             [
              0,
              "#0d0887"
             ],
             [
              0.1111111111111111,
              "#46039f"
             ],
             [
              0.2222222222222222,
              "#7201a8"
             ],
             [
              0.3333333333333333,
              "#9c179e"
             ],
             [
              0.4444444444444444,
              "#bd3786"
             ],
             [
              0.5555555555555556,
              "#d8576b"
             ],
             [
              0.6666666666666666,
              "#ed7953"
             ],
             [
              0.7777777777777778,
              "#fb9f3a"
             ],
             [
              0.8888888888888888,
              "#fdca26"
             ],
             [
              1,
              "#f0f921"
             ]
            ],
            "type": "histogram2d"
           }
          ],
          "histogram2dcontour": [
           {
            "colorbar": {
             "outlinewidth": 0,
             "ticks": ""
            },
            "colorscale": [
             [
              0,
              "#0d0887"
             ],
             [
              0.1111111111111111,
              "#46039f"
             ],
             [
              0.2222222222222222,
              "#7201a8"
             ],
             [
              0.3333333333333333,
              "#9c179e"
             ],
             [
              0.4444444444444444,
              "#bd3786"
             ],
             [
              0.5555555555555556,
              "#d8576b"
             ],
             [
              0.6666666666666666,
              "#ed7953"
             ],
             [
              0.7777777777777778,
              "#fb9f3a"
             ],
             [
              0.8888888888888888,
              "#fdca26"
             ],
             [
              1,
              "#f0f921"
             ]
            ],
            "type": "histogram2dcontour"
           }
          ],
          "mesh3d": [
           {
            "colorbar": {
             "outlinewidth": 0,
             "ticks": ""
            },
            "type": "mesh3d"
           }
          ],
          "parcoords": [
           {
            "line": {
             "colorbar": {
              "outlinewidth": 0,
              "ticks": ""
             }
            },
            "type": "parcoords"
           }
          ],
          "pie": [
           {
            "automargin": true,
            "type": "pie"
           }
          ],
          "scatter": [
           {
            "fillpattern": {
             "fillmode": "overlay",
             "size": 10,
             "solidity": 0.2
            },
            "type": "scatter"
           }
          ],
          "scatter3d": [
           {
            "line": {
             "colorbar": {
              "outlinewidth": 0,
              "ticks": ""
             }
            },
            "marker": {
             "colorbar": {
              "outlinewidth": 0,
              "ticks": ""
             }
            },
            "type": "scatter3d"
           }
          ],
          "scattercarpet": [
           {
            "marker": {
             "colorbar": {
              "outlinewidth": 0,
              "ticks": ""
             }
            },
            "type": "scattercarpet"
           }
          ],
          "scattergeo": [
           {
            "marker": {
             "colorbar": {
              "outlinewidth": 0,
              "ticks": ""
             }
            },
            "type": "scattergeo"
           }
          ],
          "scattergl": [
           {
            "marker": {
             "colorbar": {
              "outlinewidth": 0,
              "ticks": ""
             }
            },
            "type": "scattergl"
           }
          ],
          "scattermap": [
           {
            "marker": {
             "colorbar": {
              "outlinewidth": 0,
              "ticks": ""
             }
            },
            "type": "scattermap"
           }
          ],
          "scattermapbox": [
           {
            "marker": {
             "colorbar": {
              "outlinewidth": 0,
              "ticks": ""
             }
            },
            "type": "scattermapbox"
           }
          ],
          "scatterpolar": [
           {
            "marker": {
             "colorbar": {
              "outlinewidth": 0,
              "ticks": ""
             }
            },
            "type": "scatterpolar"
           }
          ],
          "scatterpolargl": [
           {
            "marker": {
             "colorbar": {
              "outlinewidth": 0,
              "ticks": ""
             }
            },
            "type": "scatterpolargl"
           }
          ],
          "scatterternary": [
           {
            "marker": {
             "colorbar": {
              "outlinewidth": 0,
              "ticks": ""
             }
            },
            "type": "scatterternary"
           }
          ],
          "surface": [
           {
            "colorbar": {
             "outlinewidth": 0,
             "ticks": ""
            },
            "colorscale": [
             [
              0,
              "#0d0887"
             ],
             [
              0.1111111111111111,
              "#46039f"
             ],
             [
              0.2222222222222222,
              "#7201a8"
             ],
             [
              0.3333333333333333,
              "#9c179e"
             ],
             [
              0.4444444444444444,
              "#bd3786"
             ],
             [
              0.5555555555555556,
              "#d8576b"
             ],
             [
              0.6666666666666666,
              "#ed7953"
             ],
             [
              0.7777777777777778,
              "#fb9f3a"
             ],
             [
              0.8888888888888888,
              "#fdca26"
             ],
             [
              1,
              "#f0f921"
             ]
            ],
            "type": "surface"
           }
          ],
          "table": [
           {
            "cells": {
             "fill": {
              "color": "#EBF0F8"
             },
             "line": {
              "color": "white"
             }
            },
            "header": {
             "fill": {
              "color": "#C8D4E3"
             },
             "line": {
              "color": "white"
             }
            },
            "type": "table"
           }
          ]
         },
         "layout": {
          "annotationdefaults": {
           "arrowcolor": "#2a3f5f",
           "arrowhead": 0,
           "arrowwidth": 1
          },
          "autotypenumbers": "strict",
          "coloraxis": {
           "colorbar": {
            "outlinewidth": 0,
            "ticks": ""
           }
          },
          "colorscale": {
           "diverging": [
            [
             0,
             "#8e0152"
            ],
            [
             0.1,
             "#c51b7d"
            ],
            [
             0.2,
             "#de77ae"
            ],
            [
             0.3,
             "#f1b6da"
            ],
            [
             0.4,
             "#fde0ef"
            ],
            [
             0.5,
             "#f7f7f7"
            ],
            [
             0.6,
             "#e6f5d0"
            ],
            [
             0.7,
             "#b8e186"
            ],
            [
             0.8,
             "#7fbc41"
            ],
            [
             0.9,
             "#4d9221"
            ],
            [
             1,
             "#276419"
            ]
           ],
           "sequential": [
            [
             0,
             "#0d0887"
            ],
            [
             0.1111111111111111,
             "#46039f"
            ],
            [
             0.2222222222222222,
             "#7201a8"
            ],
            [
             0.3333333333333333,
             "#9c179e"
            ],
            [
             0.4444444444444444,
             "#bd3786"
            ],
            [
             0.5555555555555556,
             "#d8576b"
            ],
            [
             0.6666666666666666,
             "#ed7953"
            ],
            [
             0.7777777777777778,
             "#fb9f3a"
            ],
            [
             0.8888888888888888,
             "#fdca26"
            ],
            [
             1,
             "#f0f921"
            ]
           ],
           "sequentialminus": [
            [
             0,
             "#0d0887"
            ],
            [
             0.1111111111111111,
             "#46039f"
            ],
            [
             0.2222222222222222,
             "#7201a8"
            ],
            [
             0.3333333333333333,
             "#9c179e"
            ],
            [
             0.4444444444444444,
             "#bd3786"
            ],
            [
             0.5555555555555556,
             "#d8576b"
            ],
            [
             0.6666666666666666,
             "#ed7953"
            ],
            [
             0.7777777777777778,
             "#fb9f3a"
            ],
            [
             0.8888888888888888,
             "#fdca26"
            ],
            [
             1,
             "#f0f921"
            ]
           ]
          },
          "colorway": [
           "#636efa",
           "#EF553B",
           "#00cc96",
           "#ab63fa",
           "#FFA15A",
           "#19d3f3",
           "#FF6692",
           "#B6E880",
           "#FF97FF",
           "#FECB52"
          ],
          "font": {
           "color": "#2a3f5f"
          },
          "geo": {
           "bgcolor": "white",
           "lakecolor": "white",
           "landcolor": "#E5ECF6",
           "showlakes": true,
           "showland": true,
           "subunitcolor": "white"
          },
          "hoverlabel": {
           "align": "left"
          },
          "hovermode": "closest",
          "mapbox": {
           "style": "light"
          },
          "paper_bgcolor": "white",
          "plot_bgcolor": "#E5ECF6",
          "polar": {
           "angularaxis": {
            "gridcolor": "white",
            "linecolor": "white",
            "ticks": ""
           },
           "bgcolor": "#E5ECF6",
           "radialaxis": {
            "gridcolor": "white",
            "linecolor": "white",
            "ticks": ""
           }
          },
          "scene": {
           "xaxis": {
            "backgroundcolor": "#E5ECF6",
            "gridcolor": "white",
            "gridwidth": 2,
            "linecolor": "white",
            "showbackground": true,
            "ticks": "",
            "zerolinecolor": "white"
           },
           "yaxis": {
            "backgroundcolor": "#E5ECF6",
            "gridcolor": "white",
            "gridwidth": 2,
            "linecolor": "white",
            "showbackground": true,
            "ticks": "",
            "zerolinecolor": "white"
           },
           "zaxis": {
            "backgroundcolor": "#E5ECF6",
            "gridcolor": "white",
            "gridwidth": 2,
            "linecolor": "white",
            "showbackground": true,
            "ticks": "",
            "zerolinecolor": "white"
           }
          },
          "shapedefaults": {
           "line": {
            "color": "#2a3f5f"
           }
          },
          "ternary": {
           "aaxis": {
            "gridcolor": "white",
            "linecolor": "white",
            "ticks": ""
           },
           "baxis": {
            "gridcolor": "white",
            "linecolor": "white",
            "ticks": ""
           },
           "bgcolor": "#E5ECF6",
           "caxis": {
            "gridcolor": "white",
            "linecolor": "white",
            "ticks": ""
           }
          },
          "title": {
           "x": 0.05
          },
          "xaxis": {
           "automargin": true,
           "gridcolor": "white",
           "linecolor": "white",
           "ticks": "",
           "title": {
            "standoff": 15
           },
           "zerolinecolor": "white",
           "zerolinewidth": 2
          },
          "yaxis": {
           "automargin": true,
           "gridcolor": "white",
           "linecolor": "white",
           "ticks": "",
           "title": {
            "standoff": 15
           },
           "zerolinecolor": "white",
           "zerolinewidth": 2
          }
         }
        },
        "title": {
         "text": "Semantic Expansion over Writing Sessions<br><span style=\"font-size: 12px;\">*Measuring how well humans are learning while writing with GenAI</span>"
        },
        "width": 1800,
        "xaxis": {
         "anchor": "y",
         "domain": [
          0,
          1
         ],
         "gridcolor": "white",
         "linecolor": "black",
         "mirror": false,
         "range": [
          -1,
          53
         ],
         "showline": true,
         "ticks": "outside",
         "title": {
          "text": "Progress into the writing session"
         }
        },
        "yaxis": {
         "anchor": "x",
         "domain": [
          0,
          1
         ],
         "gridcolor": "white",
         "linecolor": "black",
         "mirror": false,
         "showline": true,
         "ticks": "outside",
         "title": {
          "text": "Scores"
         }
        }
       }
      }
     },
     "metadata": {},
     "output_type": "display_data"
    },
    {
     "name": "stdout",
     "output_type": "stream",
     "text": [
      "legislation_antitrust_2\n"
     ]
    },
    {
     "data": {
      "application/vnd.plotly.v1+json": {
       "config": {
        "plotlyServerURL": "https://plot.ly"
       },
       "data": [
        {
         "hovertemplate": "x=%{x}<br>y=%{y}<extra></extra>",
         "line": {
          "color": "#64B5F6",
          "width": 3
         },
         "marker": {
          "color": "#64B5F6",
          "size": 7
         },
         "mode": "lines+markers",
         "showlegend": false,
         "type": "scatter",
         "x": [
          110,
          111
         ],
         "xaxis": "x",
         "y": [
          16.073642909526825,
          16.88797515630722
         ],
         "yaxis": "y"
        },
        {
         "hovertemplate": "x=%{x}<br>y=%{y}<extra></extra>",
         "line": {
          "color": "#64B5F6",
          "width": 3
         },
         "marker": {
          "color": "#64B5F6",
          "size": 7
         },
         "mode": "lines+markers",
         "showlegend": false,
         "type": "scatter",
         "x": [
          105,
          106
         ],
         "xaxis": "x",
         "y": [
          15.01366126537323,
          15.850415110588074
         ],
         "yaxis": "y"
        },
        {
         "hovertemplate": "x=%{x}<br>y=%{y}<extra></extra>",
         "line": {
          "color": "#64B5F6",
          "width": 3
         },
         "marker": {
          "color": "#64B5F6",
          "size": 7
         },
         "mode": "lines+markers",
         "showlegend": false,
         "type": "scatter",
         "x": [
          95,
          96
         ],
         "xaxis": "x",
         "y": [
          13.531545984745026,
          13.83030925989151
         ],
         "yaxis": "y"
        },
        {
         "hovertemplate": "x=%{x}<br>y=%{y}<extra></extra>",
         "line": {
          "color": "#64B5F6",
          "width": 3
         },
         "marker": {
          "color": "#64B5F6",
          "size": 7
         },
         "mode": "lines+markers",
         "showlegend": false,
         "type": "scatter",
         "x": [
          93,
          94
         ],
         "xaxis": "x",
         "y": [
          12.840385937690735,
          13.17794897556305
         ],
         "yaxis": "y"
        },
        {
         "hovertemplate": "x=%{x}<br>y=%{y}<extra></extra>",
         "line": {
          "color": "#64B5F6",
          "width": 3
         },
         "marker": {
          "color": "#64B5F6",
          "size": 7
         },
         "mode": "lines+markers",
         "showlegend": false,
         "type": "scatter",
         "x": [
          91,
          92
         ],
         "xaxis": "x",
         "y": [
          11.88118827342987,
          12.382777333259583
         ],
         "yaxis": "y"
        },
        {
         "hovertemplate": "x=%{x}<br>y=%{y}<extra></extra>",
         "line": {
          "color": "#64B5F6",
          "width": 3
         },
         "marker": {
          "color": "#64B5F6",
          "size": 7
         },
         "mode": "lines+markers",
         "showlegend": false,
         "type": "scatter",
         "x": [
          88,
          89
         ],
         "xaxis": "x",
         "y": [
          11.896367251873016,
          12.661162853240967
         ],
         "yaxis": "y"
        },
        {
         "hovertemplate": "x=%{x}<br>y=%{y}<extra></extra>",
         "line": {
          "color": "#64B5F6",
          "width": 3
         },
         "marker": {
          "color": "#64B5F6",
          "size": 7
         },
         "mode": "lines+markers",
         "showlegend": false,
         "type": "scatter",
         "x": [
          83,
          84
         ],
         "xaxis": "x",
         "y": [
          11.397103250026703,
          11.597824931144714
         ],
         "yaxis": "y"
        },
        {
         "hovertemplate": "x=%{x}<br>y=%{y}<extra></extra>",
         "line": {
          "color": "#64B5F6",
          "width": 3
         },
         "marker": {
          "color": "#64B5F6",
          "size": 7
         },
         "mode": "lines+markers",
         "showlegend": false,
         "type": "scatter",
         "x": [
          81,
          82
         ],
         "xaxis": "x",
         "y": [
          10.751499593257904,
          10.952221274375916
         ],
         "yaxis": "y"
        },
        {
         "hovertemplate": "x=%{x}<br>y=%{y}<extra></extra>",
         "line": {
          "color": "#64B5F6",
          "width": 3
         },
         "marker": {
          "color": "#64B5F6",
          "size": 7
         },
         "mode": "lines+markers",
         "showlegend": false,
         "type": "scatter",
         "x": [
          78,
          79
         ],
         "xaxis": "x",
         "y": [
          9.87736028432846,
          10.264488399028778
         ],
         "yaxis": "y"
        },
        {
         "hovertemplate": "x=%{x}<br>y=%{y}<extra></extra>",
         "line": {
          "color": "#64B5F6",
          "width": 3
         },
         "marker": {
          "color": "#64B5F6",
          "size": 7
         },
         "mode": "lines+markers",
         "showlegend": false,
         "type": "scatter",
         "x": [
          75,
          76
         ],
         "xaxis": "x",
         "y": [
          10.810996353626251,
          11.623038113117218
         ],
         "yaxis": "y"
        },
        {
         "hovertemplate": "x=%{x}<br>y=%{y}<extra></extra>",
         "line": {
          "color": "#64B5F6",
          "width": 3
         },
         "marker": {
          "color": "#64B5F6",
          "size": 7
         },
         "mode": "lines+markers",
         "showlegend": false,
         "type": "scatter",
         "x": [
          71,
          72
         ],
         "xaxis": "x",
         "y": [
          9.73329097032547,
          10.102034211158752
         ],
         "yaxis": "y"
        },
        {
         "hovertemplate": "x=%{x}<br>y=%{y}<extra></extra>",
         "line": {
          "color": "#64B5F6",
          "width": 3
         },
         "marker": {
          "color": "#64B5F6",
          "size": 7
         },
         "mode": "lines+markers",
         "showlegend": false,
         "type": "scatter",
         "x": [
          67,
          68
         ],
         "xaxis": "x",
         "y": [
          9.39369739294052,
          10.178684604167938
         ],
         "yaxis": "y"
        },
        {
         "hovertemplate": "x=%{x}<br>y=%{y}<extra></extra>",
         "line": {
          "color": "#64B5F6",
          "width": 3
         },
         "marker": {
          "color": "#64B5F6",
          "size": 7
         },
         "mode": "lines+markers",
         "showlegend": false,
         "type": "scatter",
         "x": [
          63,
          64
         ],
         "xaxis": "x",
         "y": [
          9.130792808532714,
          7.9290179133415215
         ],
         "yaxis": "y"
        },
        {
         "hovertemplate": "x=%{x}<br>y=%{y}<extra></extra>",
         "line": {
          "color": "#64B5F6",
          "width": 3
         },
         "marker": {
          "color": "#64B5F6",
          "size": 7
         },
         "mode": "lines+markers",
         "showlegend": false,
         "type": "scatter",
         "x": [
          59,
          60
         ],
         "xaxis": "x",
         "y": [
          11.30212495326996,
          12.109223699569704
         ],
         "yaxis": "y"
        },
        {
         "hovertemplate": "x=%{x}<br>y=%{y}<extra></extra>",
         "line": {
          "color": "#64B5F6",
          "width": 3
         },
         "marker": {
          "color": "#64B5F6",
          "size": 7
         },
         "mode": "lines+markers",
         "showlegend": false,
         "type": "scatter",
         "x": [
          57,
          58
         ],
         "xaxis": "x",
         "y": [
          10.68163094520569,
          11.017294681072237
         ],
         "yaxis": "y"
        },
        {
         "hovertemplate": "x=%{x}<br>y=%{y}<extra></extra>",
         "line": {
          "color": "#64B5F6",
          "width": 3
         },
         "marker": {
          "color": "#64B5F6",
          "size": 7
         },
         "mode": "lines+markers",
         "showlegend": false,
         "type": "scatter",
         "x": [
          55,
          56
         ],
         "xaxis": "x",
         "y": [
          10.093056523799897,
          10.419967377185822
         ],
         "yaxis": "y"
        },
        {
         "hovertemplate": "x=%{x}<br>y=%{y}<extra></extra>",
         "line": {
          "color": "#64B5F6",
          "width": 3
         },
         "marker": {
          "color": "#64B5F6",
          "size": 7
         },
         "mode": "lines+markers",
         "showlegend": false,
         "type": "scatter",
         "x": [
          52,
          53
         ],
         "xaxis": "x",
         "y": [
          8.096093535423279,
          8.845880925655365
         ],
         "yaxis": "y"
        },
        {
         "hovertemplate": "x=%{x}<br>y=%{y}<extra></extra>",
         "line": {
          "color": "#64B5F6",
          "width": 3
         },
         "marker": {
          "color": "#64B5F6",
          "size": 7
         },
         "mode": "lines+markers",
         "showlegend": false,
         "type": "scatter",
         "x": [
          49,
          50
         ],
         "xaxis": "x",
         "y": [
          7.637451887130737,
          8.053086042404175
         ],
         "yaxis": "y"
        },
        {
         "hovertemplate": "x=%{x}<br>y=%{y}<extra></extra>",
         "line": {
          "color": "#64B5F6",
          "width": 3
         },
         "marker": {
          "color": "#64B5F6",
          "size": 7
         },
         "mode": "lines+markers",
         "showlegend": false,
         "type": "scatter",
         "x": [
          46,
          47
         ],
         "xaxis": "x",
         "y": [
          8.033739578723907,
          8.268153858184814
         ],
         "yaxis": "y"
        },
        {
         "hovertemplate": "x=%{x}<br>y=%{y}<extra></extra>",
         "line": {
          "color": "#64B5F6",
          "width": 3
         },
         "marker": {
          "color": "#64B5F6",
          "size": 7
         },
         "mode": "lines+markers",
         "showlegend": false,
         "type": "scatter",
         "x": [
          37,
          38
         ],
         "xaxis": "x",
         "y": [
          6.761120855808258,
          7.266018569469452
         ],
         "yaxis": "y"
        },
        {
         "hovertemplate": "x=%{x}<br>y=%{y}<extra></extra>",
         "line": {
          "color": "#64B5F6",
          "width": 3
         },
         "marker": {
          "color": "#64B5F6",
          "size": 7
         },
         "mode": "lines+markers",
         "showlegend": false,
         "type": "scatter",
         "x": [
          32,
          33
         ],
         "xaxis": "x",
         "y": [
          7.192662954330444,
          5.5175087451934814
         ],
         "yaxis": "y"
        },
        {
         "hovertemplate": "x=%{x}<br>y=%{y}<extra></extra>",
         "line": {
          "color": "#64B5F6",
          "width": 3
         },
         "marker": {
          "color": "#64B5F6",
          "size": 7
         },
         "mode": "lines+markers",
         "showlegend": false,
         "type": "scatter",
         "x": [
          30,
          31
         ],
         "xaxis": "x",
         "y": [
          5.826832592487335,
          6.588435769081116
         ],
         "yaxis": "y"
        },
        {
         "hovertemplate": "x=%{x}<br>y=%{y}<extra></extra>",
         "line": {
          "color": "#64B5F6",
          "width": 3
         },
         "marker": {
          "color": "#64B5F6",
          "size": 7
         },
         "mode": "lines+markers",
         "showlegend": false,
         "type": "scatter",
         "x": [
          25,
          26
         ],
         "xaxis": "x",
         "y": [
          5.152986288070679,
          5.348797380924225
         ],
         "yaxis": "y"
        },
        {
         "hovertemplate": "x=%{x}<br>y=%{y}<extra></extra>",
         "line": {
          "color": "#64B5F6",
          "width": 3
         },
         "marker": {
          "color": "#64B5F6",
          "size": 7
         },
         "mode": "lines+markers",
         "showlegend": false,
         "type": "scatter",
         "x": [
          20,
          21
         ],
         "xaxis": "x",
         "y": [
          4.873978018760681,
          5.332579553127289
         ],
         "yaxis": "y"
        },
        {
         "hovertemplate": "x=%{x}<br>y=%{y}<extra></extra>",
         "line": {
          "color": "#64B5F6",
          "width": 3
         },
         "marker": {
          "color": "#64B5F6",
          "size": 7
         },
         "mode": "lines+markers",
         "showlegend": false,
         "type": "scatter",
         "x": [
          16,
          17
         ],
         "xaxis": "x",
         "y": [
          3.465090298652649,
          3.9089319348335265
         ],
         "yaxis": "y"
        },
        {
         "hovertemplate": "x=%{x}<br>y=%{y}<extra></extra>",
         "line": {
          "color": "#64B5F6",
          "width": 3
         },
         "marker": {
          "color": "#64B5F6",
          "size": 7
         },
         "mode": "lines+markers",
         "showlegend": false,
         "type": "scatter",
         "x": [
          9,
          10
         ],
         "xaxis": "x",
         "y": [
          1.2248958349227905,
          1.734730839729309
         ],
         "yaxis": "y"
        },
        {
         "hovertemplate": "x=%{x}<br>y=%{y}<extra></extra>",
         "line": {
          "color": "#64B5F6",
          "width": 3
         },
         "marker": {
          "color": "#64B5F6",
          "size": 7
         },
         "mode": "lines+markers",
         "showlegend": false,
         "type": "scatter",
         "x": [
          6,
          7
         ],
         "xaxis": "x",
         "y": [
          0.3380911350250244,
          0.8175024390220642
         ],
         "yaxis": "y"
        },
        {
         "hovertemplate": "x=%{x}<br>y=%{y}<extra></extra>",
         "line": {
          "color": "#64B5F6",
          "width": 3
         },
         "marker": {
          "color": "#64B5F6",
          "size": 7
         },
         "mode": "lines+markers",
         "showlegend": false,
         "type": "scatter",
         "x": [
          2,
          3
         ],
         "xaxis": "x",
         "y": [
          0.47974696159362795,
          -0.31624976396560667
         ],
         "yaxis": "y"
        },
        {
         "hovertemplate": "x=%{x}<br>y=%{y}<extra></extra>",
         "line": {
          "color": "#64B5F6",
          "width": 3
         },
         "marker": {
          "color": "#64B5F6",
          "size": 7
         },
         "mode": "lines+markers",
         "showlegend": false,
         "type": "scatter",
         "x": [
          0,
          1
         ],
         "xaxis": "x",
         "y": [
          0,
          0.16534090042114258
         ],
         "yaxis": "y"
        },
        {
         "hovertemplate": "x=%{x}<br>y=%{y}<extra></extra>",
         "line": {
          "color": "#ff8fab",
          "width": 3
         },
         "marker": {
          "color": "#ff8fab",
          "size": 7
         },
         "mode": "lines+markers",
         "showlegend": false,
         "type": "scatter",
         "x": [
          111,
          112
         ],
         "xaxis": "x",
         "y": [
          16.88797515630722,
          17.59260090589523
         ],
         "yaxis": "y"
        },
        {
         "hovertemplate": "x=%{x}<br>y=%{y}<extra></extra>",
         "line": {
          "color": "#ff8fab",
          "width": 3
         },
         "marker": {
          "color": "#ff8fab",
          "size": 7
         },
         "mode": "lines+markers",
         "showlegend": false,
         "type": "scatter",
         "x": [
          109,
          110
         ],
         "xaxis": "x",
         "y": [
          15.64670181274414,
          16.073642909526825
         ],
         "yaxis": "y"
        },
        {
         "hovertemplate": "x=%{x}<br>y=%{y}<extra></extra>",
         "line": {
          "color": "#ff8fab",
          "width": 3
         },
         "marker": {
          "color": "#ff8fab",
          "size": 7
         },
         "mode": "lines+markers",
         "showlegend": false,
         "type": "scatter",
         "x": [
          106,
          107
         ],
         "xaxis": "x",
         "y": [
          15.850415110588074,
          16.21326732635498
         ],
         "yaxis": "y"
        },
        {
         "hovertemplate": "x=%{x}<br>y=%{y}<extra></extra>",
         "line": {
          "color": "#ff8fab",
          "width": 3
         },
         "marker": {
          "color": "#ff8fab",
          "size": 7
         },
         "mode": "lines+markers",
         "showlegend": false,
         "type": "scatter",
         "x": [
          100,
          101
         ],
         "xaxis": "x",
         "y": [
          13.356272041797638,
          13.878143358230592
         ],
         "yaxis": "y"
        },
        {
         "hovertemplate": "x=%{x}<br>y=%{y}<extra></extra>",
         "line": {
          "color": "#ff8fab",
          "width": 3
         },
         "marker": {
          "color": "#ff8fab",
          "size": 7
         },
         "mode": "lines+markers",
         "showlegend": false,
         "type": "scatter",
         "x": [
          96,
          97
         ],
         "xaxis": "x",
         "y": [
          13.83030925989151,
          14.278338849544525
         ],
         "yaxis": "y"
        },
        {
         "hovertemplate": "x=%{x}<br>y=%{y}<extra></extra>",
         "line": {
          "color": "#ff8fab",
          "width": 3
         },
         "marker": {
          "color": "#ff8fab",
          "size": 7
         },
         "mode": "lines+markers",
         "showlegend": false,
         "type": "scatter",
         "x": [
          94,
          95
         ],
         "xaxis": "x",
         "y": [
          13.17794897556305,
          13.531545984745026
         ],
         "yaxis": "y"
        },
        {
         "hovertemplate": "x=%{x}<br>y=%{y}<extra></extra>",
         "line": {
          "color": "#ff8fab",
          "width": 3
         },
         "marker": {
          "color": "#ff8fab",
          "size": 7
         },
         "mode": "lines+markers",
         "showlegend": false,
         "type": "scatter",
         "x": [
          92,
          93
         ],
         "xaxis": "x",
         "y": [
          12.382777333259583,
          12.840385937690735
         ],
         "yaxis": "y"
        },
        {
         "hovertemplate": "x=%{x}<br>y=%{y}<extra></extra>",
         "line": {
          "color": "#ff8fab",
          "width": 3
         },
         "marker": {
          "color": "#ff8fab",
          "size": 7
         },
         "mode": "lines+markers",
         "showlegend": false,
         "type": "scatter",
         "x": [
          89,
          90
         ],
         "xaxis": "x",
         "y": [
          12.661162853240967,
          13.05724003314972
         ],
         "yaxis": "y"
        },
        {
         "hovertemplate": "x=%{x}<br>y=%{y}<extra></extra>",
         "line": {
          "color": "#ff8fab",
          "width": 3
         },
         "marker": {
          "color": "#ff8fab",
          "size": 7
         },
         "mode": "lines+markers",
         "showlegend": false,
         "type": "scatter",
         "x": [
          87,
          88
         ],
         "xaxis": "x",
         "y": [
          11.480517327785492,
          11.896367251873016
         ],
         "yaxis": "y"
        },
        {
         "hovertemplate": "x=%{x}<br>y=%{y}<extra></extra>",
         "line": {
          "color": "#ff8fab",
          "width": 3
         },
         "marker": {
          "color": "#ff8fab",
          "size": 7
         },
         "mode": "lines+markers",
         "showlegend": false,
         "type": "scatter",
         "x": [
          84,
          85
         ],
         "xaxis": "x",
         "y": [
          11.597824931144714,
          11.885278475284576
         ],
         "yaxis": "y"
        },
        {
         "hovertemplate": "x=%{x}<br>y=%{y}<extra></extra>",
         "line": {
          "color": "#ff8fab",
          "width": 3
         },
         "marker": {
          "color": "#ff8fab",
          "size": 7
         },
         "mode": "lines+markers",
         "showlegend": false,
         "type": "scatter",
         "x": [
          76,
          77
         ],
         "xaxis": "x",
         "y": [
          11.623038113117218,
          12.253567123413086
         ],
         "yaxis": "y"
        },
        {
         "hovertemplate": "x=%{x}<br>y=%{y}<extra></extra>",
         "line": {
          "color": "#ff8fab",
          "width": 3
         },
         "marker": {
          "color": "#ff8fab",
          "size": 7
         },
         "mode": "lines+markers",
         "showlegend": false,
         "type": "scatter",
         "x": [
          72,
          73
         ],
         "xaxis": "x",
         "y": [
          10.102034211158752,
          10.704485511779785
         ],
         "yaxis": "y"
        },
        {
         "hovertemplate": "x=%{x}<br>y=%{y}<extra></extra>",
         "line": {
          "color": "#ff8fab",
          "width": 3
         },
         "marker": {
          "color": "#ff8fab",
          "size": 7
         },
         "mode": "lines+markers",
         "showlegend": false,
         "type": "scatter",
         "x": [
          68,
          69
         ],
         "xaxis": "x",
         "y": [
          10.178684604167938,
          10.586524987220763
         ],
         "yaxis": "y"
        },
        {
         "hovertemplate": "x=%{x}<br>y=%{y}<extra></extra>",
         "line": {
          "color": "#ff8fab",
          "width": 3
         },
         "marker": {
          "color": "#ff8fab",
          "size": 7
         },
         "mode": "lines+markers",
         "showlegend": false,
         "type": "scatter",
         "x": [
          66,
          67
         ],
         "xaxis": "x",
         "y": [
          9.00803828239441,
          9.39369739294052
         ],
         "yaxis": "y"
        },
        {
         "hovertemplate": "x=%{x}<br>y=%{y}<extra></extra>",
         "line": {
          "color": "#ff8fab",
          "width": 3
         },
         "marker": {
          "color": "#ff8fab",
          "size": 7
         },
         "mode": "lines+markers",
         "showlegend": false,
         "type": "scatter",
         "x": [
          64,
          65
         ],
         "xaxis": "x",
         "y": [
          7.929017913341522,
          8.167966163158418
         ],
         "yaxis": "y"
        },
        {
         "hovertemplate": "x=%{x}<br>y=%{y}<extra></extra>",
         "line": {
          "color": "#ff8fab",
          "width": 3
         },
         "marker": {
          "color": "#ff8fab",
          "size": 7
         },
         "mode": "lines+markers",
         "showlegend": false,
         "type": "scatter",
         "x": [
          62,
          63
         ],
         "xaxis": "x",
         "y": [
          8.787000894546509,
          9.130792808532714
         ],
         "yaxis": "y"
        },
        {
         "hovertemplate": "x=%{x}<br>y=%{y}<extra></extra>",
         "line": {
          "color": "#ff8fab",
          "width": 3
         },
         "marker": {
          "color": "#ff8fab",
          "size": 7
         },
         "mode": "lines+markers",
         "showlegend": false,
         "type": "scatter",
         "x": [
          60,
          61
         ],
         "xaxis": "x",
         "y": [
          12.109223699569704,
          12.487268936634065
         ],
         "yaxis": "y"
        },
        {
         "hovertemplate": "x=%{x}<br>y=%{y}<extra></extra>",
         "line": {
          "color": "#ff8fab",
          "width": 3
         },
         "marker": {
          "color": "#ff8fab",
          "size": 7
         },
         "mode": "lines+markers",
         "showlegend": false,
         "type": "scatter",
         "x": [
          58,
          59
         ],
         "xaxis": "x",
         "y": [
          11.017294681072237,
          11.30212495326996
         ],
         "yaxis": "y"
        },
        {
         "hovertemplate": "x=%{x}<br>y=%{y}<extra></extra>",
         "line": {
          "color": "#ff8fab",
          "width": 3
         },
         "marker": {
          "color": "#ff8fab",
          "size": 7
         },
         "mode": "lines+markers",
         "showlegend": false,
         "type": "scatter",
         "x": [
          56,
          57
         ],
         "xaxis": "x",
         "y": [
          10.419967377185822,
          10.68163094520569
         ],
         "yaxis": "y"
        },
        {
         "hovertemplate": "x=%{x}<br>y=%{y}<extra></extra>",
         "line": {
          "color": "#ff8fab",
          "width": 3
         },
         "marker": {
          "color": "#ff8fab",
          "size": 7
         },
         "mode": "lines+markers",
         "showlegend": false,
         "type": "scatter",
         "x": [
          54,
          55
         ],
         "xaxis": "x",
         "y": [
          9.471508407592774,
          10.093056523799897
         ],
         "yaxis": "y"
        },
        {
         "hovertemplate": "x=%{x}<br>y=%{y}<extra></extra>",
         "line": {
          "color": "#ff8fab",
          "width": 3
         },
         "marker": {
          "color": "#ff8fab",
          "size": 7
         },
         "mode": "lines+markers",
         "showlegend": false,
         "type": "scatter",
         "x": [
          53,
          54
         ],
         "xaxis": "x",
         "y": [
          8.845880925655365,
          9.471508407592774
         ],
         "yaxis": "y"
        },
        {
         "hovertemplate": "x=%{x}<br>y=%{y}<extra></extra>",
         "line": {
          "color": "#ff8fab",
          "width": 3
         },
         "marker": {
          "color": "#ff8fab",
          "size": 7
         },
         "mode": "lines+markers",
         "showlegend": false,
         "type": "scatter",
         "x": [
          50,
          51
         ],
         "xaxis": "x",
         "y": [
          8.053086042404175,
          8.508223450183868
         ],
         "yaxis": "y"
        },
        {
         "hovertemplate": "x=%{x}<br>y=%{y}<extra></extra>",
         "line": {
          "color": "#ff8fab",
          "width": 3
         },
         "marker": {
          "color": "#ff8fab",
          "size": 7
         },
         "mode": "lines+markers",
         "showlegend": false,
         "type": "scatter",
         "x": [
          47,
          48
         ],
         "xaxis": "x",
         "y": [
          8.268153858184814,
          8.561744284629821
         ],
         "yaxis": "y"
        },
        {
         "hovertemplate": "x=%{x}<br>y=%{y}<extra></extra>",
         "line": {
          "color": "#ff8fab",
          "width": 3
         },
         "marker": {
          "color": "#ff8fab",
          "size": 7
         },
         "mode": "lines+markers",
         "showlegend": false,
         "type": "scatter",
         "x": [
          45,
          46
         ],
         "xaxis": "x",
         "y": [
          7.637451887130737,
          8.033739578723907
         ],
         "yaxis": "y"
        },
        {
         "hovertemplate": "x=%{x}<br>y=%{y}<extra></extra>",
         "line": {
          "color": "#ff8fab",
          "width": 3
         },
         "marker": {
          "color": "#ff8fab",
          "size": 7
         },
         "mode": "lines+markers",
         "showlegend": false,
         "type": "scatter",
         "x": [
          43,
          44
         ],
         "xaxis": "x",
         "y": [
          7.3488205671310425,
          7.726562917232513
         ],
         "yaxis": "y"
        },
        {
         "hovertemplate": "x=%{x}<br>y=%{y}<extra></extra>",
         "line": {
          "color": "#ff8fab",
          "width": 3
         },
         "marker": {
          "color": "#ff8fab",
          "size": 7
         },
         "mode": "lines+markers",
         "showlegend": false,
         "type": "scatter",
         "x": [
          41,
          42
         ],
         "xaxis": "x",
         "y": [
          6.938439667224884,
          7.3741046667099
         ],
         "yaxis": "y"
        },
        {
         "hovertemplate": "x=%{x}<br>y=%{y}<extra></extra>",
         "line": {
          "color": "#ff8fab",
          "width": 3
         },
         "marker": {
          "color": "#ff8fab",
          "size": 7
         },
         "mode": "lines+markers",
         "showlegend": false,
         "type": "scatter",
         "x": [
          38,
          39
         ],
         "xaxis": "x",
         "y": [
          7.266018569469452,
          7.6328818798065186
         ],
         "yaxis": "y"
        },
        {
         "hovertemplate": "x=%{x}<br>y=%{y}<extra></extra>",
         "line": {
          "color": "#ff8fab",
          "width": 3
         },
         "marker": {
          "color": "#ff8fab",
          "size": 7
         },
         "mode": "lines+markers",
         "showlegend": false,
         "type": "scatter",
         "x": [
          36,
          37
         ],
         "xaxis": "x",
         "y": [
          6.4354371428489685,
          6.761120855808258
         ],
         "yaxis": "y"
        },
        {
         "hovertemplate": "x=%{x}<br>y=%{y}<extra></extra>",
         "line": {
          "color": "#ff8fab",
          "width": 3
         },
         "marker": {
          "color": "#ff8fab",
          "size": 7
         },
         "mode": "lines+markers",
         "showlegend": false,
         "type": "scatter",
         "x": [
          33,
          34
         ],
         "xaxis": "x",
         "y": [
          5.5175087451934814,
          6.118112063407898
         ],
         "yaxis": "y"
        },
        {
         "hovertemplate": "x=%{x}<br>y=%{y}<extra></extra>",
         "line": {
          "color": "#ff8fab",
          "width": 3
         },
         "marker": {
          "color": "#ff8fab",
          "size": 7
         },
         "mode": "lines+markers",
         "showlegend": false,
         "type": "scatter",
         "x": [
          31,
          32
         ],
         "xaxis": "x",
         "y": [
          6.588435769081116,
          7.192662954330444
         ],
         "yaxis": "y"
        },
        {
         "hovertemplate": "x=%{x}<br>y=%{y}<extra></extra>",
         "line": {
          "color": "#ff8fab",
          "width": 3
         },
         "marker": {
          "color": "#ff8fab",
          "size": 7
         },
         "mode": "lines+markers",
         "showlegend": false,
         "type": "scatter",
         "x": [
          26,
          27
         ],
         "xaxis": "x",
         "y": [
          5.348797380924225,
          5.6669947624206545
         ],
         "yaxis": "y"
        },
        {
         "hovertemplate": "x=%{x}<br>y=%{y}<extra></extra>",
         "line": {
          "color": "#ff8fab",
          "width": 3
         },
         "marker": {
          "color": "#ff8fab",
          "size": 7
         },
         "mode": "lines+markers",
         "showlegend": false,
         "type": "scatter",
         "x": [
          21,
          22
         ],
         "xaxis": "x",
         "y": [
          5.332579553127289,
          5.6403473854064945
         ],
         "yaxis": "y"
        },
        {
         "hovertemplate": "x=%{x}<br>y=%{y}<extra></extra>",
         "line": {
          "color": "#ff8fab",
          "width": 3
         },
         "marker": {
          "color": "#ff8fab",
          "size": 7
         },
         "mode": "lines+markers",
         "showlegend": false,
         "type": "scatter",
         "x": [
          17,
          18
         ],
         "xaxis": "x",
         "y": [
          3.9089319348335265,
          4.236560595035552
         ],
         "yaxis": "y"
        },
        {
         "hovertemplate": "x=%{x}<br>y=%{y}<extra></extra>",
         "line": {
          "color": "#ff8fab",
          "width": 3
         },
         "marker": {
          "color": "#ff8fab",
          "size": 7
         },
         "mode": "lines+markers",
         "showlegend": false,
         "type": "scatter",
         "x": [
          15,
          16
         ],
         "xaxis": "x",
         "y": [
          3.1376774311065674,
          3.465090298652649
         ],
         "yaxis": "y"
        },
        {
         "hovertemplate": "x=%{x}<br>y=%{y}<extra></extra>",
         "line": {
          "color": "#ff8fab",
          "width": 3
         },
         "marker": {
          "color": "#ff8fab",
          "size": 7
         },
         "mode": "lines+markers",
         "showlegend": false,
         "type": "scatter",
         "x": [
          10,
          11
         ],
         "xaxis": "x",
         "y": [
          1.734730839729309,
          2.1823998212814333
         ],
         "yaxis": "y"
        },
        {
         "hovertemplate": "x=%{x}<br>y=%{y}<extra></extra>",
         "line": {
          "color": "#ff8fab",
          "width": 3
         },
         "marker": {
          "color": "#ff8fab",
          "size": 7
         },
         "mode": "lines+markers",
         "showlegend": false,
         "type": "scatter",
         "x": [
          7,
          8
         ],
         "xaxis": "x",
         "y": [
          0.8175024390220642,
          1.1664928436279296
         ],
         "yaxis": "y"
        },
        {
         "hovertemplate": "x=%{x}<br>y=%{y}<extra></extra>",
         "line": {
          "color": "#ff8fab",
          "width": 3
         },
         "marker": {
          "color": "#ff8fab",
          "size": 7
         },
         "mode": "lines+markers",
         "showlegend": false,
         "type": "scatter",
         "x": [
          4,
          5
         ],
         "xaxis": "x",
         "y": [
          0.020117640495300404,
          -0.3900379896163939
         ],
         "yaxis": "y"
        },
        {
         "hovertemplate": "x=%{x}<br>y=%{y}<extra></extra>",
         "line": {
          "color": "#ff8fab",
          "width": 3
         },
         "marker": {
          "color": "#ff8fab",
          "size": 7
         },
         "mode": "lines+markers",
         "showlegend": false,
         "type": "scatter",
         "x": [
          3,
          4
         ],
         "xaxis": "x",
         "y": [
          -0.31624976396560667,
          0.020117640495300404
         ],
         "yaxis": "y"
        },
        {
         "hovertemplate": "x=%{x}<br>y=%{y}<extra></extra>",
         "line": {
          "color": "#ff8fab",
          "width": 3
         },
         "marker": {
          "color": "#ff8fab",
          "size": 7
         },
         "mode": "lines+markers",
         "showlegend": false,
         "type": "scatter",
         "x": [
          1,
          2
         ],
         "xaxis": "x",
         "y": [
          0.16534090042114258,
          0.47974696159362795
         ],
         "yaxis": "y"
        },
        {
         "hovertemplate": "x=%{x}<br>y=%{y}<extra></extra>",
         "line": {
          "color": "#023e8a",
          "width": 3
         },
         "marker": {
          "color": "#023e8a",
          "size": 7
         },
         "mode": "lines+markers",
         "showlegend": false,
         "type": "scatter",
         "x": [
          116,
          117
         ],
         "xaxis": "x",
         "y": [
          17.966569662094116,
          18.379496216773987
         ],
         "yaxis": "y"
        },
        {
         "hovertemplate": "x=%{x}<br>y=%{y}<extra></extra>",
         "line": {
          "color": "#023e8a",
          "width": 3
         },
         "marker": {
          "color": "#023e8a",
          "size": 7
         },
         "mode": "lines+markers",
         "showlegend": false,
         "type": "scatter",
         "x": [
          114,
          115
         ],
         "xaxis": "x",
         "y": [
          18.25809073448181,
          18.992668747901917
         ],
         "yaxis": "y"
        },
        {
         "hovertemplate": "x=%{x}<br>y=%{y}<extra></extra>",
         "line": {
          "color": "#023e8a",
          "width": 3
         },
         "marker": {
          "color": "#023e8a",
          "size": 7
         },
         "mode": "lines+markers",
         "showlegend": false,
         "type": "scatter",
         "x": [
          113,
          114
         ],
         "xaxis": "x",
         "y": [
          17.669689178466797,
          18.25809073448181
         ],
         "yaxis": "y"
        },
        {
         "hovertemplate": "x=%{x}<br>y=%{y}<extra></extra>",
         "line": {
          "color": "#023e8a",
          "width": 3
         },
         "marker": {
          "color": "#023e8a",
          "size": 7
         },
         "mode": "lines+markers",
         "showlegend": false,
         "type": "scatter",
         "x": [
          108,
          109
         ],
         "xaxis": "x",
         "y": [
          15.330181539058685,
          15.64670181274414
         ],
         "yaxis": "y"
        },
        {
         "hovertemplate": "x=%{x}<br>y=%{y}<extra></extra>",
         "line": {
          "color": "#023e8a",
          "width": 3
         },
         "marker": {
          "color": "#023e8a",
          "size": 7
         },
         "mode": "lines+markers",
         "showlegend": false,
         "type": "scatter",
         "x": [
          103,
          104
         ],
         "xaxis": "x",
         "y": [
          15.501907646656036,
          16.076270401477814
         ],
         "yaxis": "y"
        },
        {
         "hovertemplate": "x=%{x}<br>y=%{y}<extra></extra>",
         "line": {
          "color": "#023e8a",
          "width": 3
         },
         "marker": {
          "color": "#023e8a",
          "size": 7
         },
         "mode": "lines+markers",
         "showlegend": false,
         "type": "scatter",
         "x": [
          102,
          103
         ],
         "xaxis": "x",
         "y": [
          14.991369307041168,
          15.501907646656036
         ],
         "yaxis": "y"
        },
        {
         "hovertemplate": "x=%{x}<br>y=%{y}<extra></extra>",
         "line": {
          "color": "#023e8a",
          "width": 3
         },
         "marker": {
          "color": "#023e8a",
          "size": 7
         },
         "mode": "lines+markers",
         "showlegend": false,
         "type": "scatter",
         "x": [
          99,
          100
         ],
         "xaxis": "x",
         "y": [
          13.078988790512085,
          13.356272041797638
         ],
         "yaxis": "y"
        },
        {
         "hovertemplate": "x=%{x}<br>y=%{y}<extra></extra>",
         "line": {
          "color": "#023e8a",
          "width": 3
         },
         "marker": {
          "color": "#023e8a",
          "size": 7
         },
         "mode": "lines+markers",
         "showlegend": false,
         "type": "scatter",
         "x": [
          98,
          99
         ],
         "xaxis": "x",
         "y": [
          12.739158868789673,
          13.078988790512085
         ],
         "yaxis": "y"
        },
        {
         "hovertemplate": "x=%{x}<br>y=%{y}<extra></extra>",
         "line": {
          "color": "#023e8a",
          "width": 3
         },
         "marker": {
          "color": "#023e8a",
          "size": 7
         },
         "mode": "lines+markers",
         "showlegend": false,
         "type": "scatter",
         "x": [
          85,
          86
         ],
         "xaxis": "x",
         "y": [
          11.397103250026703,
          11.759721875190735
         ],
         "yaxis": "y"
        },
        {
         "hovertemplate": "x=%{x}<br>y=%{y}<extra></extra>",
         "line": {
          "color": "#023e8a",
          "width": 3
         },
         "marker": {
          "color": "#023e8a",
          "size": 7
         },
         "mode": "lines+markers",
         "showlegend": false,
         "type": "scatter",
         "x": [
          82,
          83
         ],
         "xaxis": "x",
         "y": [
          10.751499593257904,
          11.397103250026703
         ],
         "yaxis": "y"
        },
        {
         "hovertemplate": "x=%{x}<br>y=%{y}<extra></extra>",
         "line": {
          "color": "#023e8a",
          "width": 3
         },
         "marker": {
          "color": "#023e8a",
          "size": 7
         },
         "mode": "lines+markers",
         "showlegend": false,
         "type": "scatter",
         "x": [
          80,
          81
         ],
         "xaxis": "x",
         "y": [
          10.52296394109726,
          10.751499593257904
         ],
         "yaxis": "y"
        },
        {
         "hovertemplate": "x=%{x}<br>y=%{y}<extra></extra>",
         "line": {
          "color": "#023e8a",
          "width": 3
         },
         "marker": {
          "color": "#023e8a",
          "size": 7
         },
         "mode": "lines+markers",
         "showlegend": false,
         "type": "scatter",
         "x": [
          79,
          80
         ],
         "xaxis": "x",
         "y": [
          9.87736028432846,
          10.52296394109726
         ],
         "yaxis": "y"
        },
        {
         "hovertemplate": "x=%{x}<br>y=%{y}<extra></extra>",
         "line": {
          "color": "#023e8a",
          "width": 3
         },
         "marker": {
          "color": "#023e8a",
          "size": 7
         },
         "mode": "lines+markers",
         "showlegend": false,
         "type": "scatter",
         "x": [
          74,
          75
         ],
         "xaxis": "x",
         "y": [
          10.27214366197586,
          10.810996353626251
         ],
         "yaxis": "y"
        },
        {
         "hovertemplate": "x=%{x}<br>y=%{y}<extra></extra>",
         "line": {
          "color": "#023e8a",
          "width": 3
         },
         "marker": {
          "color": "#023e8a",
          "size": 7
         },
         "mode": "lines+markers",
         "showlegend": false,
         "type": "scatter",
         "x": [
          70,
          71
         ],
         "xaxis": "x",
         "y": [
          9.441432416439056,
          9.73329097032547
         ],
         "yaxis": "y"
        },
        {
         "hovertemplate": "x=%{x}<br>y=%{y}<extra></extra>",
         "line": {
          "color": "#023e8a",
          "width": 3
         },
         "marker": {
          "color": "#023e8a",
          "size": 7
         },
         "mode": "lines+markers",
         "showlegend": false,
         "type": "scatter",
         "x": [
          44,
          45
         ],
         "xaxis": "x",
         "y": [
          7.3488205671310425,
          7.637451887130737
         ],
         "yaxis": "y"
        },
        {
         "hovertemplate": "x=%{x}<br>y=%{y}<extra></extra>",
         "line": {
          "color": "#023e8a",
          "width": 3
         },
         "marker": {
          "color": "#023e8a",
          "size": 7
         },
         "mode": "lines+markers",
         "showlegend": false,
         "type": "scatter",
         "x": [
          40,
          41
         ],
         "xaxis": "x",
         "y": [
          6.8226887583732605,
          6.938439667224884
         ],
         "yaxis": "y"
        },
        {
         "hovertemplate": "x=%{x}<br>y=%{y}<extra></extra>",
         "line": {
          "color": "#023e8a",
          "width": 3
         },
         "marker": {
          "color": "#023e8a",
          "size": 7
         },
         "mode": "lines+markers",
         "showlegend": false,
         "type": "scatter",
         "x": [
          35,
          36
         ],
         "xaxis": "x",
         "y": [
          5.915079295635223,
          6.4354371428489685
         ],
         "yaxis": "y"
        },
        {
         "hovertemplate": "x=%{x}<br>y=%{y}<extra></extra>",
         "line": {
          "color": "#023e8a",
          "width": 3
         },
         "marker": {
          "color": "#023e8a",
          "size": 7
         },
         "mode": "lines+markers",
         "showlegend": false,
         "type": "scatter",
         "x": [
          29,
          30
         ],
         "xaxis": "x",
         "y": [
          5.512848377227783,
          5.826832592487335
         ],
         "yaxis": "y"
        },
        {
         "hovertemplate": "x=%{x}<br>y=%{y}<extra></extra>",
         "line": {
          "color": "#023e8a",
          "width": 3
         },
         "marker": {
          "color": "#023e8a",
          "size": 7
         },
         "mode": "lines+markers",
         "showlegend": false,
         "type": "scatter",
         "x": [
          28,
          29
         ],
         "xaxis": "x",
         "y": [
          5.372731029987335,
          5.512848377227783
         ],
         "yaxis": "y"
        },
        {
         "hovertemplate": "x=%{x}<br>y=%{y}<extra></extra>",
         "line": {
          "color": "#023e8a",
          "width": 3
         },
         "marker": {
          "color": "#023e8a",
          "size": 7
         },
         "mode": "lines+markers",
         "showlegend": false,
         "type": "scatter",
         "x": [
          27,
          28
         ],
         "xaxis": "x",
         "y": [
          5.152986288070679,
          5.372731029987335
         ],
         "yaxis": "y"
        },
        {
         "hovertemplate": "x=%{x}<br>y=%{y}<extra></extra>",
         "line": {
          "color": "#023e8a",
          "width": 3
         },
         "marker": {
          "color": "#023e8a",
          "size": 7
         },
         "mode": "lines+markers",
         "showlegend": false,
         "type": "scatter",
         "x": [
          22,
          23
         ],
         "xaxis": "x",
         "y": [
          4.873978018760681,
          5.152986288070679
         ],
         "yaxis": "y"
        },
        {
         "hovertemplate": "x=%{x}<br>y=%{y}<extra></extra>",
         "line": {
          "color": "#023e8a",
          "width": 3
         },
         "marker": {
          "color": "#023e8a",
          "size": 7
         },
         "mode": "lines+markers",
         "showlegend": false,
         "type": "scatter",
         "x": [
          18,
          19
         ],
         "xaxis": "x",
         "y": [
          3.1376774311065674,
          3.5820083618164062
         ],
         "yaxis": "y"
        },
        {
         "hovertemplate": "x=%{x}<br>y=%{y}<extra></extra>",
         "line": {
          "color": "#023e8a",
          "width": 3
         },
         "marker": {
          "color": "#023e8a",
          "size": 7
         },
         "mode": "lines+markers",
         "showlegend": false,
         "type": "scatter",
         "x": [
          14,
          15
         ],
         "xaxis": "x",
         "y": [
          2.9686925411224365,
          3.1376774311065674
         ],
         "yaxis": "y"
        },
        {
         "hovertemplate": "x=%{x}<br>y=%{y}<extra></extra>",
         "line": {
          "color": "#023e8a",
          "width": 3
         },
         "marker": {
          "color": "#023e8a",
          "size": 7
         },
         "mode": "lines+markers",
         "showlegend": false,
         "type": "scatter",
         "x": [
          13,
          14
         ],
         "xaxis": "x",
         "y": [
          2.5008694529533386,
          2.9686925411224365
         ],
         "yaxis": "y"
        },
        {
         "hovertemplate": "x=%{x}<br>y=%{y}<extra></extra>",
         "line": {
          "color": "#023e8a",
          "width": 3
         },
         "marker": {
          "color": "#023e8a",
          "size": 7
         },
         "mode": "lines+markers",
         "showlegend": false,
         "type": "scatter",
         "x": [
          11,
          12
         ],
         "xaxis": "x",
         "y": [
          1.2248958349227905,
          1.8202862739562988
         ],
         "yaxis": "y"
        },
        {
         "hovertemplate": "x=%{x}<br>y=%{y}<extra></extra>",
         "line": {
          "color": "#c1121f",
          "width": 3
         },
         "marker": {
          "color": "#c1121f",
          "size": 7
         },
         "mode": "lines+markers",
         "showlegend": false,
         "type": "scatter",
         "x": [
          112,
          113
         ],
         "xaxis": "x",
         "y": [
          15.64670181274414,
          17.669689178466797
         ],
         "yaxis": "y"
        },
        {
         "hovertemplate": "x=%{x}<br>y=%{y}<extra></extra>",
         "line": {
          "color": "#c1121f",
          "width": 3
         },
         "marker": {
          "color": "#c1121f",
          "size": 7
         },
         "mode": "lines+markers",
         "showlegend": false,
         "type": "scatter",
         "x": [
          107,
          108
         ],
         "xaxis": "x",
         "y": [
          15.01366126537323,
          15.330181539058685
         ],
         "yaxis": "y"
        },
        {
         "hovertemplate": "x=%{x}<br>y=%{y}<extra></extra>",
         "line": {
          "color": "#c1121f",
          "width": 3
         },
         "marker": {
          "color": "#c1121f",
          "size": 7
         },
         "mode": "lines+markers",
         "showlegend": false,
         "type": "scatter",
         "x": [
          101,
          102
         ],
         "xaxis": "x",
         "y": [
          13.356272041797638,
          14.991369307041168
         ],
         "yaxis": "y"
        },
        {
         "hovertemplate": "x=%{x}<br>y=%{y}<extra></extra>",
         "line": {
          "color": "#c1121f",
          "width": 3
         },
         "marker": {
          "color": "#c1121f",
          "size": 7
         },
         "mode": "lines+markers",
         "showlegend": false,
         "type": "scatter",
         "x": [
          97,
          98
         ],
         "xaxis": "x",
         "y": [
          11.88118827342987,
          12.739158868789673
         ],
         "yaxis": "y"
        },
        {
         "hovertemplate": "x=%{x}<br>y=%{y}<extra></extra>",
         "line": {
          "color": "#c1121f",
          "width": 3
         },
         "marker": {
          "color": "#c1121f",
          "size": 7
         },
         "mode": "lines+markers",
         "showlegend": false,
         "type": "scatter",
         "x": [
          90,
          91
         ],
         "xaxis": "x",
         "y": [
          11.480517327785492,
          11.88118827342987
         ],
         "yaxis": "y"
        },
        {
         "hovertemplate": "x=%{x}<br>y=%{y}<extra></extra>",
         "line": {
          "color": "#c1121f",
          "width": 3
         },
         "marker": {
          "color": "#c1121f",
          "size": 7
         },
         "mode": "lines+markers",
         "showlegend": false,
         "type": "scatter",
         "x": [
          77,
          78
         ],
         "xaxis": "x",
         "y": [
          10.810996353626251,
          9.87736028432846
         ],
         "yaxis": "y"
        },
        {
         "hovertemplate": "x=%{x}<br>y=%{y}<extra></extra>",
         "line": {
          "color": "#c1121f",
          "width": 3
         },
         "marker": {
          "color": "#c1121f",
          "size": 7
         },
         "mode": "lines+markers",
         "showlegend": false,
         "type": "scatter",
         "x": [
          73,
          74
         ],
         "xaxis": "x",
         "y": [
          9.73329097032547,
          10.27214366197586
         ],
         "yaxis": "y"
        },
        {
         "hovertemplate": "x=%{x}<br>y=%{y}<extra></extra>",
         "line": {
          "color": "#c1121f",
          "width": 3
         },
         "marker": {
          "color": "#c1121f",
          "size": 7
         },
         "mode": "lines+markers",
         "showlegend": false,
         "type": "scatter",
         "x": [
          69,
          70
         ],
         "xaxis": "x",
         "y": [
          9.00803828239441,
          9.441432416439056
         ],
         "yaxis": "y"
        },
        {
         "hovertemplate": "x=%{x}<br>y=%{y}<extra></extra>",
         "line": {
          "color": "#c1121f",
          "width": 3
         },
         "marker": {
          "color": "#c1121f",
          "size": 7
         },
         "mode": "lines+markers",
         "showlegend": false,
         "type": "scatter",
         "x": [
          65,
          66
         ],
         "xaxis": "x",
         "y": [
          8.787000894546509,
          9.00803828239441
         ],
         "yaxis": "y"
        },
        {
         "hovertemplate": "x=%{x}<br>y=%{y}<extra></extra>",
         "line": {
          "color": "#c1121f",
          "width": 3
         },
         "marker": {
          "color": "#c1121f",
          "size": 7
         },
         "mode": "lines+markers",
         "showlegend": false,
         "type": "scatter",
         "x": [
          61,
          62
         ],
         "xaxis": "x",
         "y": [
          8.096093535423279,
          8.787000894546509
         ],
         "yaxis": "y"
        },
        {
         "hovertemplate": "x=%{x}<br>y=%{y}<extra></extra>",
         "line": {
          "color": "#c1121f",
          "width": 3
         },
         "marker": {
          "color": "#c1121f",
          "size": 7
         },
         "mode": "lines+markers",
         "showlegend": false,
         "type": "scatter",
         "x": [
          51,
          52
         ],
         "xaxis": "x",
         "y": [
          7.637451887130737,
          8.096093535423279
         ],
         "yaxis": "y"
        },
        {
         "hovertemplate": "x=%{x}<br>y=%{y}<extra></extra>",
         "line": {
          "color": "#c1121f",
          "width": 3
         },
         "marker": {
          "color": "#c1121f",
          "size": 7
         },
         "mode": "lines+markers",
         "showlegend": false,
         "type": "scatter",
         "x": [
          42,
          43
         ],
         "xaxis": "x",
         "y": [
          6.938439667224884,
          7.3488205671310425
         ],
         "yaxis": "y"
        },
        {
         "hovertemplate": "x=%{x}<br>y=%{y}<extra></extra>",
         "line": {
          "color": "#c1121f",
          "width": 3
         },
         "marker": {
          "color": "#c1121f",
          "size": 7
         },
         "mode": "lines+markers",
         "showlegend": false,
         "type": "scatter",
         "x": [
          39,
          40
         ],
         "xaxis": "x",
         "y": [
          6.4354371428489685,
          6.8226887583732605
         ],
         "yaxis": "y"
        },
        {
         "hovertemplate": "x=%{x}<br>y=%{y}<extra></extra>",
         "line": {
          "color": "#c1121f",
          "width": 3
         },
         "marker": {
          "color": "#c1121f",
          "size": 7
         },
         "mode": "lines+markers",
         "showlegend": false,
         "type": "scatter",
         "x": [
          8,
          9
         ],
         "xaxis": "x",
         "y": [
          0.3380911350250244,
          1.2248958349227905
         ],
         "yaxis": "y"
        },
        {
         "hovertemplate": "x=%{x}<br>y=%{y}<extra></extra>",
         "line": {
          "color": "#c1121f",
          "width": 3
         },
         "marker": {
          "color": "#c1121f",
          "size": 7
         },
         "mode": "lines+markers",
         "showlegend": false,
         "type": "scatter",
         "x": [
          5,
          6
         ],
         "xaxis": "x",
         "y": [
          0,
          0.3380911350250244
         ],
         "yaxis": "y"
        },
        {
         "hovertemplate": "x=%{x}<br>y=%{y}<extra></extra>",
         "line": {
          "color": "#9d4edd",
          "width": 3
         },
         "marker": {
          "color": "#9d4edd",
          "size": 7
         },
         "mode": "lines+markers",
         "showlegend": false,
         "type": "scatter",
         "x": [
          115,
          116
         ],
         "xaxis": "x",
         "y": [
          18.992668747901917,
          17.966569662094116
         ],
         "yaxis": "y"
        },
        {
         "hovertemplate": "x=%{x}<br>y=%{y}<extra></extra>",
         "line": {
          "color": "#9d4edd",
          "width": 3
         },
         "marker": {
          "color": "#9d4edd",
          "size": 7
         },
         "mode": "lines+markers",
         "showlegend": false,
         "type": "scatter",
         "x": [
          104,
          105
         ],
         "xaxis": "x",
         "y": [
          16.076270401477814,
          15.01366126537323
         ],
         "yaxis": "y"
        },
        {
         "hovertemplate": "x=%{x}<br>y=%{y}<extra></extra>",
         "line": {
          "color": "#9d4edd",
          "width": 3
         },
         "marker": {
          "color": "#9d4edd",
          "size": 7
         },
         "mode": "lines+markers",
         "showlegend": false,
         "type": "scatter",
         "x": [
          86,
          87
         ],
         "xaxis": "x",
         "y": [
          11.759721875190735,
          11.480517327785492
         ],
         "yaxis": "y"
        },
        {
         "hovertemplate": "x=%{x}<br>y=%{y}<extra></extra>",
         "line": {
          "color": "#9d4edd",
          "width": 3
         },
         "marker": {
          "color": "#9d4edd",
          "size": 7
         },
         "mode": "lines+markers",
         "showlegend": false,
         "type": "scatter",
         "x": [
          48,
          49
         ],
         "xaxis": "x",
         "y": [
          7.637451887130737,
          7.637451887130737
         ],
         "yaxis": "y"
        },
        {
         "hovertemplate": "x=%{x}<br>y=%{y}<extra></extra>",
         "line": {
          "color": "#9d4edd",
          "width": 3
         },
         "marker": {
          "color": "#9d4edd",
          "size": 7
         },
         "mode": "lines+markers",
         "showlegend": false,
         "type": "scatter",
         "x": [
          34,
          35
         ],
         "xaxis": "x",
         "y": [
          5.826832592487335,
          5.915079295635223
         ],
         "yaxis": "y"
        },
        {
         "hovertemplate": "x=%{x}<br>y=%{y}<extra></extra>",
         "line": {
          "color": "#9d4edd",
          "width": 3
         },
         "marker": {
          "color": "#9d4edd",
          "size": 7
         },
         "mode": "lines+markers",
         "showlegend": false,
         "type": "scatter",
         "x": [
          24,
          25
         ],
         "xaxis": "x",
         "y": [
          5.152986288070679,
          5.152986288070679
         ],
         "yaxis": "y"
        },
        {
         "hovertemplate": "x=%{x}<br>y=%{y}<extra></extra>",
         "line": {
          "color": "#9d4edd",
          "width": 3
         },
         "marker": {
          "color": "#9d4edd",
          "size": 7
         },
         "mode": "lines+markers",
         "showlegend": false,
         "type": "scatter",
         "x": [
          23,
          24
         ],
         "xaxis": "x",
         "y": [
          5.152986288070679,
          5.152986288070679
         ],
         "yaxis": "y"
        },
        {
         "hovertemplate": "x=%{x}<br>y=%{y}<extra></extra>",
         "line": {
          "color": "#9d4edd",
          "width": 3
         },
         "marker": {
          "color": "#9d4edd",
          "size": 7
         },
         "mode": "lines+markers",
         "showlegend": false,
         "type": "scatter",
         "x": [
          19,
          20
         ],
         "xaxis": "x",
         "y": [
          3.5820083618164062,
          4.873978018760681
         ],
         "yaxis": "y"
        },
        {
         "hovertemplate": "x=%{x}<br>y=%{y}<extra></extra>",
         "line": {
          "color": "#9d4edd",
          "width": 3
         },
         "marker": {
          "color": "#9d4edd",
          "size": 7
         },
         "mode": "lines+markers",
         "showlegend": false,
         "type": "scatter",
         "x": [
          12,
          13
         ],
         "xaxis": "x",
         "y": [
          1.8202862739562988,
          2.5008694529533386
         ],
         "yaxis": "y"
        },
        {
         "line": {
          "color": "#64B5F6",
          "width": 2
         },
         "mode": "lines",
         "name": "human_insert_backstage",
         "showlegend": true,
         "type": "scatter",
         "x": [
          null
         ],
         "xaxis": "x",
         "y": [
          null
         ],
         "yaxis": "y"
        },
        {
         "line": {
          "color": "#ff8fab",
          "width": 2
         },
         "mode": "lines",
         "name": "ai_suggest_backstage",
         "showlegend": true,
         "type": "scatter",
         "x": [
          null
         ],
         "xaxis": "x",
         "y": [
          null
         ],
         "yaxis": "y"
        },
        {
         "line": {
          "color": "#023e8a",
          "width": 2
         },
         "mode": "lines",
         "name": "human_insert_frontstage",
         "showlegend": true,
         "type": "scatter",
         "x": [
          null
         ],
         "xaxis": "x",
         "y": [
          null
         ],
         "yaxis": "y"
        },
        {
         "line": {
          "color": "#c1121f",
          "width": 2
         },
         "mode": "lines",
         "name": "ai_insert_moved_to_frontstage",
         "showlegend": true,
         "type": "scatter",
         "x": [
          null
         ],
         "xaxis": "x",
         "y": [
          null
         ],
         "yaxis": "y"
        },
        {
         "line": {
          "color": "#9d4edd",
          "width": 2
         },
         "mode": "lines",
         "name": "human_delete_frontstage",
         "showlegend": true,
         "type": "scatter",
         "x": [
          null
         ],
         "xaxis": "x",
         "y": [
          null
         ],
         "yaxis": "y"
        },
        {
         "line": {
          "color": "#5a189a",
          "width": 2
         },
         "mode": "lines",
         "name": "human_insert_edit_frontstage",
         "showlegend": true,
         "type": "scatter",
         "x": [
          null
         ],
         "xaxis": "x",
         "y": [
          null
         ],
         "yaxis": "y"
        }
       ],
       "layout": {
        "annotations": [
         {
          "font": {
           "size": 16
          },
          "showarrow": false,
          "text": "Session: legislation_antitrust_2",
          "x": 0.5,
          "xanchor": "center",
          "xref": "paper",
          "y": 1,
          "yanchor": "bottom",
          "yref": "paper"
         }
        ],
        "height": 500,
        "legend": {
         "title": {
          "font": {
           "color": "rgba(0, 0, 0, 0)"
          }
         }
        },
        "plot_bgcolor": "white",
        "showlegend": true,
        "template": {
         "data": {
          "bar": [
           {
            "error_x": {
             "color": "#2a3f5f"
            },
            "error_y": {
             "color": "#2a3f5f"
            },
            "marker": {
             "line": {
              "color": "#E5ECF6",
              "width": 0.5
             },
             "pattern": {
              "fillmode": "overlay",
              "size": 10,
              "solidity": 0.2
             }
            },
            "type": "bar"
           }
          ],
          "barpolar": [
           {
            "marker": {
             "line": {
              "color": "#E5ECF6",
              "width": 0.5
             },
             "pattern": {
              "fillmode": "overlay",
              "size": 10,
              "solidity": 0.2
             }
            },
            "type": "barpolar"
           }
          ],
          "carpet": [
           {
            "aaxis": {
             "endlinecolor": "#2a3f5f",
             "gridcolor": "white",
             "linecolor": "white",
             "minorgridcolor": "white",
             "startlinecolor": "#2a3f5f"
            },
            "baxis": {
             "endlinecolor": "#2a3f5f",
             "gridcolor": "white",
             "linecolor": "white",
             "minorgridcolor": "white",
             "startlinecolor": "#2a3f5f"
            },
            "type": "carpet"
           }
          ],
          "choropleth": [
           {
            "colorbar": {
             "outlinewidth": 0,
             "ticks": ""
            },
            "type": "choropleth"
           }
          ],
          "contour": [
           {
            "colorbar": {
             "outlinewidth": 0,
             "ticks": ""
            },
            "colorscale": [
             [
              0,
              "#0d0887"
             ],
             [
              0.1111111111111111,
              "#46039f"
             ],
             [
              0.2222222222222222,
              "#7201a8"
             ],
             [
              0.3333333333333333,
              "#9c179e"
             ],
             [
              0.4444444444444444,
              "#bd3786"
             ],
             [
              0.5555555555555556,
              "#d8576b"
             ],
             [
              0.6666666666666666,
              "#ed7953"
             ],
             [
              0.7777777777777778,
              "#fb9f3a"
             ],
             [
              0.8888888888888888,
              "#fdca26"
             ],
             [
              1,
              "#f0f921"
             ]
            ],
            "type": "contour"
           }
          ],
          "contourcarpet": [
           {
            "colorbar": {
             "outlinewidth": 0,
             "ticks": ""
            },
            "type": "contourcarpet"
           }
          ],
          "heatmap": [
           {
            "colorbar": {
             "outlinewidth": 0,
             "ticks": ""
            },
            "colorscale": [
             [
              0,
              "#0d0887"
             ],
             [
              0.1111111111111111,
              "#46039f"
             ],
             [
              0.2222222222222222,
              "#7201a8"
             ],
             [
              0.3333333333333333,
              "#9c179e"
             ],
             [
              0.4444444444444444,
              "#bd3786"
             ],
             [
              0.5555555555555556,
              "#d8576b"
             ],
             [
              0.6666666666666666,
              "#ed7953"
             ],
             [
              0.7777777777777778,
              "#fb9f3a"
             ],
             [
              0.8888888888888888,
              "#fdca26"
             ],
             [
              1,
              "#f0f921"
             ]
            ],
            "type": "heatmap"
           }
          ],
          "histogram": [
           {
            "marker": {
             "pattern": {
              "fillmode": "overlay",
              "size": 10,
              "solidity": 0.2
             }
            },
            "type": "histogram"
           }
          ],
          "histogram2d": [
           {
            "colorbar": {
             "outlinewidth": 0,
             "ticks": ""
            },
            "colorscale": [
             [
              0,
              "#0d0887"
             ],
             [
              0.1111111111111111,
              "#46039f"
             ],
             [
              0.2222222222222222,
              "#7201a8"
             ],
             [
              0.3333333333333333,
              "#9c179e"
             ],
             [
              0.4444444444444444,
              "#bd3786"
             ],
             [
              0.5555555555555556,
              "#d8576b"
             ],
             [
              0.6666666666666666,
              "#ed7953"
             ],
             [
              0.7777777777777778,
              "#fb9f3a"
             ],
             [
              0.8888888888888888,
              "#fdca26"
             ],
             [
              1,
              "#f0f921"
             ]
            ],
            "type": "histogram2d"
           }
          ],
          "histogram2dcontour": [
           {
            "colorbar": {
             "outlinewidth": 0,
             "ticks": ""
            },
            "colorscale": [
             [
              0,
              "#0d0887"
             ],
             [
              0.1111111111111111,
              "#46039f"
             ],
             [
              0.2222222222222222,
              "#7201a8"
             ],
             [
              0.3333333333333333,
              "#9c179e"
             ],
             [
              0.4444444444444444,
              "#bd3786"
             ],
             [
              0.5555555555555556,
              "#d8576b"
             ],
             [
              0.6666666666666666,
              "#ed7953"
             ],
             [
              0.7777777777777778,
              "#fb9f3a"
             ],
             [
              0.8888888888888888,
              "#fdca26"
             ],
             [
              1,
              "#f0f921"
             ]
            ],
            "type": "histogram2dcontour"
           }
          ],
          "mesh3d": [
           {
            "colorbar": {
             "outlinewidth": 0,
             "ticks": ""
            },
            "type": "mesh3d"
           }
          ],
          "parcoords": [
           {
            "line": {
             "colorbar": {
              "outlinewidth": 0,
              "ticks": ""
             }
            },
            "type": "parcoords"
           }
          ],
          "pie": [
           {
            "automargin": true,
            "type": "pie"
           }
          ],
          "scatter": [
           {
            "fillpattern": {
             "fillmode": "overlay",
             "size": 10,
             "solidity": 0.2
            },
            "type": "scatter"
           }
          ],
          "scatter3d": [
           {
            "line": {
             "colorbar": {
              "outlinewidth": 0,
              "ticks": ""
             }
            },
            "marker": {
             "colorbar": {
              "outlinewidth": 0,
              "ticks": ""
             }
            },
            "type": "scatter3d"
           }
          ],
          "scattercarpet": [
           {
            "marker": {
             "colorbar": {
              "outlinewidth": 0,
              "ticks": ""
             }
            },
            "type": "scattercarpet"
           }
          ],
          "scattergeo": [
           {
            "marker": {
             "colorbar": {
              "outlinewidth": 0,
              "ticks": ""
             }
            },
            "type": "scattergeo"
           }
          ],
          "scattergl": [
           {
            "marker": {
             "colorbar": {
              "outlinewidth": 0,
              "ticks": ""
             }
            },
            "type": "scattergl"
           }
          ],
          "scattermap": [
           {
            "marker": {
             "colorbar": {
              "outlinewidth": 0,
              "ticks": ""
             }
            },
            "type": "scattermap"
           }
          ],
          "scattermapbox": [
           {
            "marker": {
             "colorbar": {
              "outlinewidth": 0,
              "ticks": ""
             }
            },
            "type": "scattermapbox"
           }
          ],
          "scatterpolar": [
           {
            "marker": {
             "colorbar": {
              "outlinewidth": 0,
              "ticks": ""
             }
            },
            "type": "scatterpolar"
           }
          ],
          "scatterpolargl": [
           {
            "marker": {
             "colorbar": {
              "outlinewidth": 0,
              "ticks": ""
             }
            },
            "type": "scatterpolargl"
           }
          ],
          "scatterternary": [
           {
            "marker": {
             "colorbar": {
              "outlinewidth": 0,
              "ticks": ""
             }
            },
            "type": "scatterternary"
           }
          ],
          "surface": [
           {
            "colorbar": {
             "outlinewidth": 0,
             "ticks": ""
            },
            "colorscale": [
             [
              0,
              "#0d0887"
             ],
             [
              0.1111111111111111,
              "#46039f"
             ],
             [
              0.2222222222222222,
              "#7201a8"
             ],
             [
              0.3333333333333333,
              "#9c179e"
             ],
             [
              0.4444444444444444,
              "#bd3786"
             ],
             [
              0.5555555555555556,
              "#d8576b"
             ],
             [
              0.6666666666666666,
              "#ed7953"
             ],
             [
              0.7777777777777778,
              "#fb9f3a"
             ],
             [
              0.8888888888888888,
              "#fdca26"
             ],
             [
              1,
              "#f0f921"
             ]
            ],
            "type": "surface"
           }
          ],
          "table": [
           {
            "cells": {
             "fill": {
              "color": "#EBF0F8"
             },
             "line": {
              "color": "white"
             }
            },
            "header": {
             "fill": {
              "color": "#C8D4E3"
             },
             "line": {
              "color": "white"
             }
            },
            "type": "table"
           }
          ]
         },
         "layout": {
          "annotationdefaults": {
           "arrowcolor": "#2a3f5f",
           "arrowhead": 0,
           "arrowwidth": 1
          },
          "autotypenumbers": "strict",
          "coloraxis": {
           "colorbar": {
            "outlinewidth": 0,
            "ticks": ""
           }
          },
          "colorscale": {
           "diverging": [
            [
             0,
             "#8e0152"
            ],
            [
             0.1,
             "#c51b7d"
            ],
            [
             0.2,
             "#de77ae"
            ],
            [
             0.3,
             "#f1b6da"
            ],
            [
             0.4,
             "#fde0ef"
            ],
            [
             0.5,
             "#f7f7f7"
            ],
            [
             0.6,
             "#e6f5d0"
            ],
            [
             0.7,
             "#b8e186"
            ],
            [
             0.8,
             "#7fbc41"
            ],
            [
             0.9,
             "#4d9221"
            ],
            [
             1,
             "#276419"
            ]
           ],
           "sequential": [
            [
             0,
             "#0d0887"
            ],
            [
             0.1111111111111111,
             "#46039f"
            ],
            [
             0.2222222222222222,
             "#7201a8"
            ],
            [
             0.3333333333333333,
             "#9c179e"
            ],
            [
             0.4444444444444444,
             "#bd3786"
            ],
            [
             0.5555555555555556,
             "#d8576b"
            ],
            [
             0.6666666666666666,
             "#ed7953"
            ],
            [
             0.7777777777777778,
             "#fb9f3a"
            ],
            [
             0.8888888888888888,
             "#fdca26"
            ],
            [
             1,
             "#f0f921"
            ]
           ],
           "sequentialminus": [
            [
             0,
             "#0d0887"
            ],
            [
             0.1111111111111111,
             "#46039f"
            ],
            [
             0.2222222222222222,
             "#7201a8"
            ],
            [
             0.3333333333333333,
             "#9c179e"
            ],
            [
             0.4444444444444444,
             "#bd3786"
            ],
            [
             0.5555555555555556,
             "#d8576b"
            ],
            [
             0.6666666666666666,
             "#ed7953"
            ],
            [
             0.7777777777777778,
             "#fb9f3a"
            ],
            [
             0.8888888888888888,
             "#fdca26"
            ],
            [
             1,
             "#f0f921"
            ]
           ]
          },
          "colorway": [
           "#636efa",
           "#EF553B",
           "#00cc96",
           "#ab63fa",
           "#FFA15A",
           "#19d3f3",
           "#FF6692",
           "#B6E880",
           "#FF97FF",
           "#FECB52"
          ],
          "font": {
           "color": "#2a3f5f"
          },
          "geo": {
           "bgcolor": "white",
           "lakecolor": "white",
           "landcolor": "#E5ECF6",
           "showlakes": true,
           "showland": true,
           "subunitcolor": "white"
          },
          "hoverlabel": {
           "align": "left"
          },
          "hovermode": "closest",
          "mapbox": {
           "style": "light"
          },
          "paper_bgcolor": "white",
          "plot_bgcolor": "#E5ECF6",
          "polar": {
           "angularaxis": {
            "gridcolor": "white",
            "linecolor": "white",
            "ticks": ""
           },
           "bgcolor": "#E5ECF6",
           "radialaxis": {
            "gridcolor": "white",
            "linecolor": "white",
            "ticks": ""
           }
          },
          "scene": {
           "xaxis": {
            "backgroundcolor": "#E5ECF6",
            "gridcolor": "white",
            "gridwidth": 2,
            "linecolor": "white",
            "showbackground": true,
            "ticks": "",
            "zerolinecolor": "white"
           },
           "yaxis": {
            "backgroundcolor": "#E5ECF6",
            "gridcolor": "white",
            "gridwidth": 2,
            "linecolor": "white",
            "showbackground": true,
            "ticks": "",
            "zerolinecolor": "white"
           },
           "zaxis": {
            "backgroundcolor": "#E5ECF6",
            "gridcolor": "white",
            "gridwidth": 2,
            "linecolor": "white",
            "showbackground": true,
            "ticks": "",
            "zerolinecolor": "white"
           }
          },
          "shapedefaults": {
           "line": {
            "color": "#2a3f5f"
           }
          },
          "ternary": {
           "aaxis": {
            "gridcolor": "white",
            "linecolor": "white",
            "ticks": ""
           },
           "baxis": {
            "gridcolor": "white",
            "linecolor": "white",
            "ticks": ""
           },
           "bgcolor": "#E5ECF6",
           "caxis": {
            "gridcolor": "white",
            "linecolor": "white",
            "ticks": ""
           }
          },
          "title": {
           "x": 0.05
          },
          "xaxis": {
           "automargin": true,
           "gridcolor": "white",
           "linecolor": "white",
           "ticks": "",
           "title": {
            "standoff": 15
           },
           "zerolinecolor": "white",
           "zerolinewidth": 2
          },
          "yaxis": {
           "automargin": true,
           "gridcolor": "white",
           "linecolor": "white",
           "ticks": "",
           "title": {
            "standoff": 15
           },
           "zerolinecolor": "white",
           "zerolinewidth": 2
          }
         }
        },
        "title": {
         "text": "Semantic Expansion over Writing Sessions<br><span style=\"font-size: 12px;\">*Measuring how well humans are learning while writing with GenAI</span>"
        },
        "width": 1800,
        "xaxis": {
         "anchor": "y",
         "domain": [
          0,
          1
         ],
         "gridcolor": "white",
         "linecolor": "black",
         "mirror": false,
         "range": [
          -1,
          118
         ],
         "showline": true,
         "ticks": "outside",
         "title": {
          "text": "Progress into the writing session"
         }
        },
        "yaxis": {
         "anchor": "x",
         "domain": [
          0,
          1
         ],
         "gridcolor": "white",
         "linecolor": "black",
         "mirror": false,
         "showline": true,
         "ticks": "outside",
         "title": {
          "text": "Scores"
         }
        }
       }
      }
     },
     "metadata": {},
     "output_type": "display_data"
    },
    {
     "name": "stdout",
     "output_type": "stream",
     "text": [
      "legislation_antitrust_3\n"
     ]
    },
    {
     "data": {
      "application/vnd.plotly.v1+json": {
       "config": {
        "plotlyServerURL": "https://plot.ly"
       },
       "data": [
        {
         "hovertemplate": "x=%{x}<br>y=%{y}<extra></extra>",
         "line": {
          "color": "#64B5F6",
          "width": 3
         },
         "marker": {
          "color": "#64B5F6",
          "size": 7
         },
         "mode": "lines+markers",
         "showlegend": false,
         "type": "scatter",
         "x": [
          19,
          20
         ],
         "xaxis": "x",
         "y": [
          2.575067460536957,
          2.7716981768608093
         ],
         "yaxis": "y"
        },
        {
         "hovertemplate": "x=%{x}<br>y=%{y}<extra></extra>",
         "line": {
          "color": "#64B5F6",
          "width": 3
         },
         "marker": {
          "color": "#64B5F6",
          "size": 7
         },
         "mode": "lines+markers",
         "showlegend": false,
         "type": "scatter",
         "x": [
          18,
          19
         ],
         "xaxis": "x",
         "y": [
          2.132937014102936,
          2.575067460536957
         ],
         "yaxis": "y"
        },
        {
         "hovertemplate": "x=%{x}<br>y=%{y}<extra></extra>",
         "line": {
          "color": "#64B5F6",
          "width": 3
         },
         "marker": {
          "color": "#64B5F6",
          "size": 7
         },
         "mode": "lines+markers",
         "showlegend": false,
         "type": "scatter",
         "x": [
          13,
          14
         ],
         "xaxis": "x",
         "y": [
          1.4819263219833374,
          1.8442267775535583
         ],
         "yaxis": "y"
        },
        {
         "hovertemplate": "x=%{x}<br>y=%{y}<extra></extra>",
         "line": {
          "color": "#64B5F6",
          "width": 3
         },
         "marker": {
          "color": "#64B5F6",
          "size": 7
         },
         "mode": "lines+markers",
         "showlegend": false,
         "type": "scatter",
         "x": [
          11,
          12
         ],
         "xaxis": "x",
         "y": [
          1.199247419834137,
          2.1093159914016724
         ],
         "yaxis": "y"
        },
        {
         "hovertemplate": "x=%{x}<br>y=%{y}<extra></extra>",
         "line": {
          "color": "#64B5F6",
          "width": 3
         },
         "marker": {
          "color": "#64B5F6",
          "size": 7
         },
         "mode": "lines+markers",
         "showlegend": false,
         "type": "scatter",
         "x": [
          7,
          8
         ],
         "xaxis": "x",
         "y": [
          0.9731223583221436,
          0.09123992919921875
         ],
         "yaxis": "y"
        },
        {
         "hovertemplate": "x=%{x}<br>y=%{y}<extra></extra>",
         "line": {
          "color": "#64B5F6",
          "width": 3
         },
         "marker": {
          "color": "#64B5F6",
          "size": 7
         },
         "mode": "lines+markers",
         "showlegend": false,
         "type": "scatter",
         "x": [
          0,
          1
         ],
         "xaxis": "x",
         "y": [
          0,
          0.23680394887924194
         ],
         "yaxis": "y"
        },
        {
         "hovertemplate": "x=%{x}<br>y=%{y}<extra></extra>",
         "line": {
          "color": "#ff8fab",
          "width": 3
         },
         "marker": {
          "color": "#ff8fab",
          "size": 7
         },
         "mode": "lines+markers",
         "showlegend": false,
         "type": "scatter",
         "x": [
          47,
          48
         ],
         "xaxis": "x",
         "y": [
          11.207272589206696,
          11.55498366355896
         ],
         "yaxis": "y"
        },
        {
         "hovertemplate": "x=%{x}<br>y=%{y}<extra></extra>",
         "line": {
          "color": "#ff8fab",
          "width": 3
         },
         "marker": {
          "color": "#ff8fab",
          "size": 7
         },
         "mode": "lines+markers",
         "showlegend": false,
         "type": "scatter",
         "x": [
          41,
          42
         ],
         "xaxis": "x",
         "y": [
          7.40759460926056,
          7.782852983474732
         ],
         "yaxis": "y"
        },
        {
         "hovertemplate": "x=%{x}<br>y=%{y}<extra></extra>",
         "line": {
          "color": "#ff8fab",
          "width": 3
         },
         "marker": {
          "color": "#ff8fab",
          "size": 7
         },
         "mode": "lines+markers",
         "showlegend": false,
         "type": "scatter",
         "x": [
          40,
          41
         ],
         "xaxis": "x",
         "y": [
          7.023159646987915,
          7.40759460926056
         ],
         "yaxis": "y"
        },
        {
         "hovertemplate": "x=%{x}<br>y=%{y}<extra></extra>",
         "line": {
          "color": "#ff8fab",
          "width": 3
         },
         "marker": {
          "color": "#ff8fab",
          "size": 7
         },
         "mode": "lines+markers",
         "showlegend": false,
         "type": "scatter",
         "x": [
          39,
          40
         ],
         "xaxis": "x",
         "y": [
          8.044535994529724,
          7.023159646987915
         ],
         "yaxis": "y"
        },
        {
         "hovertemplate": "x=%{x}<br>y=%{y}<extra></extra>",
         "line": {
          "color": "#ff8fab",
          "width": 3
         },
         "marker": {
          "color": "#ff8fab",
          "size": 7
         },
         "mode": "lines+markers",
         "showlegend": false,
         "type": "scatter",
         "x": [
          35,
          36
         ],
         "xaxis": "x",
         "y": [
          6.114867091178894,
          6.488664519786835
         ],
         "yaxis": "y"
        },
        {
         "hovertemplate": "x=%{x}<br>y=%{y}<extra></extra>",
         "line": {
          "color": "#ff8fab",
          "width": 3
         },
         "marker": {
          "color": "#ff8fab",
          "size": 7
         },
         "mode": "lines+markers",
         "showlegend": false,
         "type": "scatter",
         "x": [
          33,
          34
         ],
         "xaxis": "x",
         "y": [
          5.704122304916382,
          6.066429793834686
         ],
         "yaxis": "y"
        },
        {
         "hovertemplate": "x=%{x}<br>y=%{y}<extra></extra>",
         "line": {
          "color": "#ff8fab",
          "width": 3
         },
         "marker": {
          "color": "#ff8fab",
          "size": 7
         },
         "mode": "lines+markers",
         "showlegend": false,
         "type": "scatter",
         "x": [
          31,
          32
         ],
         "xaxis": "x",
         "y": [
          5.41219174861908,
          5.7390658259391785
         ],
         "yaxis": "y"
        },
        {
         "hovertemplate": "x=%{x}<br>y=%{y}<extra></extra>",
         "line": {
          "color": "#ff8fab",
          "width": 3
         },
         "marker": {
          "color": "#ff8fab",
          "size": 7
         },
         "mode": "lines+markers",
         "showlegend": false,
         "type": "scatter",
         "x": [
          29,
          30
         ],
         "xaxis": "x",
         "y": [
          4.921107113361359,
          5.290284991264343
         ],
         "yaxis": "y"
        },
        {
         "hovertemplate": "x=%{x}<br>y=%{y}<extra></extra>",
         "line": {
          "color": "#ff8fab",
          "width": 3
         },
         "marker": {
          "color": "#ff8fab",
          "size": 7
         },
         "mode": "lines+markers",
         "showlegend": false,
         "type": "scatter",
         "x": [
          21,
          22
         ],
         "xaxis": "x",
         "y": [
          3.1521562576293944,
          3.527568984031677
         ],
         "yaxis": "y"
        },
        {
         "hovertemplate": "x=%{x}<br>y=%{y}<extra></extra>",
         "line": {
          "color": "#ff8fab",
          "width": 3
         },
         "marker": {
          "color": "#ff8fab",
          "size": 7
         },
         "mode": "lines+markers",
         "showlegend": false,
         "type": "scatter",
         "x": [
          20,
          21
         ],
         "xaxis": "x",
         "y": [
          2.7716981768608093,
          3.1521562576293944
         ],
         "yaxis": "y"
        },
        {
         "hovertemplate": "x=%{x}<br>y=%{y}<extra></extra>",
         "line": {
          "color": "#ff8fab",
          "width": 3
         },
         "marker": {
          "color": "#ff8fab",
          "size": 7
         },
         "mode": "lines+markers",
         "showlegend": false,
         "type": "scatter",
         "x": [
          14,
          15
         ],
         "xaxis": "x",
         "y": [
          1.8442267775535583,
          2.1847885131835936
         ],
         "yaxis": "y"
        },
        {
         "hovertemplate": "x=%{x}<br>y=%{y}<extra></extra>",
         "line": {
          "color": "#ff8fab",
          "width": 3
         },
         "marker": {
          "color": "#ff8fab",
          "size": 7
         },
         "mode": "lines+markers",
         "showlegend": false,
         "type": "scatter",
         "x": [
          9,
          10
         ],
         "xaxis": "x",
         "y": [
          2.574818217754364,
          1.2725705742835998
         ],
         "yaxis": "y"
        },
        {
         "hovertemplate": "x=%{x}<br>y=%{y}<extra></extra>",
         "line": {
          "color": "#ff8fab",
          "width": 3
         },
         "marker": {
          "color": "#ff8fab",
          "size": 7
         },
         "mode": "lines+markers",
         "showlegend": false,
         "type": "scatter",
         "x": [
          8,
          9
         ],
         "xaxis": "x",
         "y": [
          0.09123992919921875,
          2.574818217754364
         ],
         "yaxis": "y"
        },
        {
         "hovertemplate": "x=%{x}<br>y=%{y}<extra></extra>",
         "line": {
          "color": "#ff8fab",
          "width": 3
         },
         "marker": {
          "color": "#ff8fab",
          "size": 7
         },
         "mode": "lines+markers",
         "showlegend": false,
         "type": "scatter",
         "x": [
          2,
          3
         ],
         "xaxis": "x",
         "y": [
          0.6306293964385986,
          0.9285696029663086
         ],
         "yaxis": "y"
        },
        {
         "hovertemplate": "x=%{x}<br>y=%{y}<extra></extra>",
         "line": {
          "color": "#ff8fab",
          "width": 3
         },
         "marker": {
          "color": "#ff8fab",
          "size": 7
         },
         "mode": "lines+markers",
         "showlegend": false,
         "type": "scatter",
         "x": [
          1,
          2
         ],
         "xaxis": "x",
         "y": [
          0.23680394887924194,
          0.6306293964385986
         ],
         "yaxis": "y"
        },
        {
         "hovertemplate": "x=%{x}<br>y=%{y}<extra></extra>",
         "line": {
          "color": "#023e8a",
          "width": 3
         },
         "marker": {
          "color": "#023e8a",
          "size": 7
         },
         "mode": "lines+markers",
         "showlegend": false,
         "type": "scatter",
         "x": [
          46,
          47
         ],
         "xaxis": "x",
         "y": [
          10.859595477581024,
          11.207272589206696
         ],
         "yaxis": "y"
        },
        {
         "hovertemplate": "x=%{x}<br>y=%{y}<extra></extra>",
         "line": {
          "color": "#023e8a",
          "width": 3
         },
         "marker": {
          "color": "#023e8a",
          "size": 7
         },
         "mode": "lines+markers",
         "showlegend": false,
         "type": "scatter",
         "x": [
          45,
          46
         ],
         "xaxis": "x",
         "y": [
          10.49207466840744,
          10.859595477581024
         ],
         "yaxis": "y"
        },
        {
         "hovertemplate": "x=%{x}<br>y=%{y}<extra></extra>",
         "line": {
          "color": "#023e8a",
          "width": 3
         },
         "marker": {
          "color": "#023e8a",
          "size": 7
         },
         "mode": "lines+markers",
         "showlegend": false,
         "type": "scatter",
         "x": [
          44,
          45
         ],
         "xaxis": "x",
         "y": [
          9.7980677485466,
          10.49207466840744
         ],
         "yaxis": "y"
        },
        {
         "hovertemplate": "x=%{x}<br>y=%{y}<extra></extra>",
         "line": {
          "color": "#023e8a",
          "width": 3
         },
         "marker": {
          "color": "#023e8a",
          "size": 7
         },
         "mode": "lines+markers",
         "showlegend": false,
         "type": "scatter",
         "x": [
          43,
          44
         ],
         "xaxis": "x",
         "y": [
          9.38036197423935,
          9.7980677485466
         ],
         "yaxis": "y"
        },
        {
         "hovertemplate": "x=%{x}<br>y=%{y}<extra></extra>",
         "line": {
          "color": "#023e8a",
          "width": 3
         },
         "marker": {
          "color": "#023e8a",
          "size": 7
         },
         "mode": "lines+markers",
         "showlegend": false,
         "type": "scatter",
         "x": [
          38,
          39
         ],
         "xaxis": "x",
         "y": [
          7.305744409561157,
          8.044535994529724
         ],
         "yaxis": "y"
        },
        {
         "hovertemplate": "x=%{x}<br>y=%{y}<extra></extra>",
         "line": {
          "color": "#023e8a",
          "width": 3
         },
         "marker": {
          "color": "#023e8a",
          "size": 7
         },
         "mode": "lines+markers",
         "showlegend": false,
         "type": "scatter",
         "x": [
          37,
          38
         ],
         "xaxis": "x",
         "y": [
          6.853087067604065,
          7.305744409561157
         ],
         "yaxis": "y"
        },
        {
         "hovertemplate": "x=%{x}<br>y=%{y}<extra></extra>",
         "line": {
          "color": "#023e8a",
          "width": 3
         },
         "marker": {
          "color": "#023e8a",
          "size": 7
         },
         "mode": "lines+markers",
         "showlegend": false,
         "type": "scatter",
         "x": [
          36,
          37
         ],
         "xaxis": "x",
         "y": [
          6.114867091178894,
          6.853087067604065
         ],
         "yaxis": "y"
        },
        {
         "hovertemplate": "x=%{x}<br>y=%{y}<extra></extra>",
         "line": {
          "color": "#023e8a",
          "width": 3
         },
         "marker": {
          "color": "#023e8a",
          "size": 7
         },
         "mode": "lines+markers",
         "showlegend": false,
         "type": "scatter",
         "x": [
          28,
          29
         ],
         "xaxis": "x",
         "y": [
          4.726982593536377,
          4.921107113361359
         ],
         "yaxis": "y"
        },
        {
         "hovertemplate": "x=%{x}<br>y=%{y}<extra></extra>",
         "line": {
          "color": "#023e8a",
          "width": 3
         },
         "marker": {
          "color": "#023e8a",
          "size": 7
         },
         "mode": "lines+markers",
         "showlegend": false,
         "type": "scatter",
         "x": [
          27,
          28
         ],
         "xaxis": "x",
         "y": [
          3.8401777148246765,
          4.726982593536377
         ],
         "yaxis": "y"
        },
        {
         "hovertemplate": "x=%{x}<br>y=%{y}<extra></extra>",
         "line": {
          "color": "#023e8a",
          "width": 3
         },
         "marker": {
          "color": "#023e8a",
          "size": 7
         },
         "mode": "lines+markers",
         "showlegend": false,
         "type": "scatter",
         "x": [
          26,
          27
         ],
         "xaxis": "x",
         "y": [
          3.3641533851623535,
          3.8401777148246765
         ],
         "yaxis": "y"
        },
        {
         "hovertemplate": "x=%{x}<br>y=%{y}<extra></extra>",
         "line": {
          "color": "#023e8a",
          "width": 3
         },
         "marker": {
          "color": "#023e8a",
          "size": 7
         },
         "mode": "lines+markers",
         "showlegend": false,
         "type": "scatter",
         "x": [
          25,
          26
         ],
         "xaxis": "x",
         "y": [
          3.085853099822998,
          3.3641533851623535
         ],
         "yaxis": "y"
        },
        {
         "hovertemplate": "x=%{x}<br>y=%{y}<extra></extra>",
         "line": {
          "color": "#023e8a",
          "width": 3
         },
         "marker": {
          "color": "#023e8a",
          "size": 7
         },
         "mode": "lines+markers",
         "showlegend": false,
         "type": "scatter",
         "x": [
          24,
          25
         ],
         "xaxis": "x",
         "y": [
          2.750097393989563,
          3.085853099822998
         ],
         "yaxis": "y"
        },
        {
         "hovertemplate": "x=%{x}<br>y=%{y}<extra></extra>",
         "line": {
          "color": "#023e8a",
          "width": 3
         },
         "marker": {
          "color": "#023e8a",
          "size": 7
         },
         "mode": "lines+markers",
         "showlegend": false,
         "type": "scatter",
         "x": [
          23,
          24
         ],
         "xaxis": "x",
         "y": [
          2.4225059151649475,
          2.750097393989563
         ],
         "yaxis": "y"
        },
        {
         "hovertemplate": "x=%{x}<br>y=%{y}<extra></extra>",
         "line": {
          "color": "#023e8a",
          "width": 3
         },
         "marker": {
          "color": "#023e8a",
          "size": 7
         },
         "mode": "lines+markers",
         "showlegend": false,
         "type": "scatter",
         "x": [
          22,
          23
         ],
         "xaxis": "x",
         "y": [
          2.132937014102936,
          2.4225059151649475
         ],
         "yaxis": "y"
        },
        {
         "hovertemplate": "x=%{x}<br>y=%{y}<extra></extra>",
         "line": {
          "color": "#023e8a",
          "width": 3
         },
         "marker": {
          "color": "#023e8a",
          "size": 7
         },
         "mode": "lines+markers",
         "showlegend": false,
         "type": "scatter",
         "x": [
          17,
          18
         ],
         "xaxis": "x",
         "y": [
          1.9331161975860596,
          2.132937014102936
         ],
         "yaxis": "y"
        },
        {
         "hovertemplate": "x=%{x}<br>y=%{y}<extra></extra>",
         "line": {
          "color": "#023e8a",
          "width": 3
         },
         "marker": {
          "color": "#023e8a",
          "size": 7
         },
         "mode": "lines+markers",
         "showlegend": false,
         "type": "scatter",
         "x": [
          16,
          17
         ],
         "xaxis": "x",
         "y": [
          1.6984825730323792,
          1.9331161975860596
         ],
         "yaxis": "y"
        },
        {
         "hovertemplate": "x=%{x}<br>y=%{y}<extra></extra>",
         "line": {
          "color": "#023e8a",
          "width": 3
         },
         "marker": {
          "color": "#023e8a",
          "size": 7
         },
         "mode": "lines+markers",
         "showlegend": false,
         "type": "scatter",
         "x": [
          15,
          16
         ],
         "xaxis": "x",
         "y": [
          1.4819263219833374,
          1.6984825730323792
         ],
         "yaxis": "y"
        },
        {
         "hovertemplate": "x=%{x}<br>y=%{y}<extra></extra>",
         "line": {
          "color": "#023e8a",
          "width": 3
         },
         "marker": {
          "color": "#023e8a",
          "size": 7
         },
         "mode": "lines+markers",
         "showlegend": false,
         "type": "scatter",
         "x": [
          12,
          13
         ],
         "xaxis": "x",
         "y": [
          1.199247419834137,
          1.4819263219833374
         ],
         "yaxis": "y"
        },
        {
         "hovertemplate": "x=%{x}<br>y=%{y}<extra></extra>",
         "line": {
          "color": "#023e8a",
          "width": 3
         },
         "marker": {
          "color": "#023e8a",
          "size": 7
         },
         "mode": "lines+markers",
         "showlegend": false,
         "type": "scatter",
         "x": [
          10,
          11
         ],
         "xaxis": "x",
         "y": [
          0.9731223583221436,
          1.199247419834137
         ],
         "yaxis": "y"
        },
        {
         "hovertemplate": "x=%{x}<br>y=%{y}<extra></extra>",
         "line": {
          "color": "#023e8a",
          "width": 3
         },
         "marker": {
          "color": "#023e8a",
          "size": 7
         },
         "mode": "lines+markers",
         "showlegend": false,
         "type": "scatter",
         "x": [
          6,
          7
         ],
         "xaxis": "x",
         "y": [
          0.6564406156539917,
          0.9731223583221436
         ],
         "yaxis": "y"
        },
        {
         "hovertemplate": "x=%{x}<br>y=%{y}<extra></extra>",
         "line": {
          "color": "#023e8a",
          "width": 3
         },
         "marker": {
          "color": "#023e8a",
          "size": 7
         },
         "mode": "lines+markers",
         "showlegend": false,
         "type": "scatter",
         "x": [
          5,
          6
         ],
         "xaxis": "x",
         "y": [
          0.30130618810653687,
          0.6564406156539917
         ],
         "yaxis": "y"
        },
        {
         "hovertemplate": "x=%{x}<br>y=%{y}<extra></extra>",
         "line": {
          "color": "#023e8a",
          "width": 3
         },
         "marker": {
          "color": "#023e8a",
          "size": 7
         },
         "mode": "lines+markers",
         "showlegend": false,
         "type": "scatter",
         "x": [
          4,
          5
         ],
         "xaxis": "x",
         "y": [
          0.22033578157424927,
          0.30130618810653687
         ],
         "yaxis": "y"
        },
        {
         "hovertemplate": "x=%{x}<br>y=%{y}<extra></extra>",
         "line": {
          "color": "#023e8a",
          "width": 3
         },
         "marker": {
          "color": "#023e8a",
          "size": 7
         },
         "mode": "lines+markers",
         "showlegend": false,
         "type": "scatter",
         "x": [
          3,
          4
         ],
         "xaxis": "x",
         "y": [
          0,
          0.22033578157424927
         ],
         "yaxis": "y"
        },
        {
         "hovertemplate": "x=%{x}<br>y=%{y}<extra></extra>",
         "line": {
          "color": "#c1121f",
          "width": 3
         },
         "marker": {
          "color": "#c1121f",
          "size": 7
         },
         "mode": "lines+markers",
         "showlegend": false,
         "type": "scatter",
         "x": [
          48,
          49
         ],
         "xaxis": "x",
         "y": [
          11.207272589206696,
          11.544869184494019
         ],
         "yaxis": "y"
        },
        {
         "hovertemplate": "x=%{x}<br>y=%{y}<extra></extra>",
         "line": {
          "color": "#c1121f",
          "width": 3
         },
         "marker": {
          "color": "#c1121f",
          "size": 7
         },
         "mode": "lines+markers",
         "showlegend": false,
         "type": "scatter",
         "x": [
          42,
          43
         ],
         "xaxis": "x",
         "y": [
          8.044535994529724,
          9.38036197423935
         ],
         "yaxis": "y"
        },
        {
         "hovertemplate": "x=%{x}<br>y=%{y}<extra></extra>",
         "line": {
          "color": "#c1121f",
          "width": 3
         },
         "marker": {
          "color": "#c1121f",
          "size": 7
         },
         "mode": "lines+markers",
         "showlegend": false,
         "type": "scatter",
         "x": [
          34,
          35
         ],
         "xaxis": "x",
         "y": [
          5.704122304916382,
          6.114867091178894
         ],
         "yaxis": "y"
        },
        {
         "hovertemplate": "x=%{x}<br>y=%{y}<extra></extra>",
         "line": {
          "color": "#c1121f",
          "width": 3
         },
         "marker": {
          "color": "#c1121f",
          "size": 7
         },
         "mode": "lines+markers",
         "showlegend": false,
         "type": "scatter",
         "x": [
          32,
          33
         ],
         "xaxis": "x",
         "y": [
          5.41219174861908,
          5.704122304916382
         ],
         "yaxis": "y"
        },
        {
         "hovertemplate": "x=%{x}<br>y=%{y}<extra></extra>",
         "line": {
          "color": "#c1121f",
          "width": 3
         },
         "marker": {
          "color": "#c1121f",
          "size": 7
         },
         "mode": "lines+markers",
         "showlegend": false,
         "type": "scatter",
         "x": [
          30,
          31
         ],
         "xaxis": "x",
         "y": [
          4.921107113361359,
          5.41219174861908
         ],
         "yaxis": "y"
        },
        {
         "line": {
          "color": "#64B5F6",
          "width": 2
         },
         "mode": "lines",
         "name": "human_insert_backstage",
         "showlegend": true,
         "type": "scatter",
         "x": [
          null
         ],
         "xaxis": "x",
         "y": [
          null
         ],
         "yaxis": "y"
        },
        {
         "line": {
          "color": "#ff8fab",
          "width": 2
         },
         "mode": "lines",
         "name": "ai_suggest_backstage",
         "showlegend": true,
         "type": "scatter",
         "x": [
          null
         ],
         "xaxis": "x",
         "y": [
          null
         ],
         "yaxis": "y"
        },
        {
         "line": {
          "color": "#023e8a",
          "width": 2
         },
         "mode": "lines",
         "name": "human_insert_frontstage",
         "showlegend": true,
         "type": "scatter",
         "x": [
          null
         ],
         "xaxis": "x",
         "y": [
          null
         ],
         "yaxis": "y"
        },
        {
         "line": {
          "color": "#c1121f",
          "width": 2
         },
         "mode": "lines",
         "name": "ai_insert_moved_to_frontstage",
         "showlegend": true,
         "type": "scatter",
         "x": [
          null
         ],
         "xaxis": "x",
         "y": [
          null
         ],
         "yaxis": "y"
        },
        {
         "line": {
          "color": "#9d4edd",
          "width": 2
         },
         "mode": "lines",
         "name": "human_delete_frontstage",
         "showlegend": true,
         "type": "scatter",
         "x": [
          null
         ],
         "xaxis": "x",
         "y": [
          null
         ],
         "yaxis": "y"
        },
        {
         "line": {
          "color": "#5a189a",
          "width": 2
         },
         "mode": "lines",
         "name": "human_insert_edit_frontstage",
         "showlegend": true,
         "type": "scatter",
         "x": [
          null
         ],
         "xaxis": "x",
         "y": [
          null
         ],
         "yaxis": "y"
        }
       ],
       "layout": {
        "annotations": [
         {
          "font": {
           "size": 16
          },
          "showarrow": false,
          "text": "Session: legislation_antitrust_3",
          "x": 0.5,
          "xanchor": "center",
          "xref": "paper",
          "y": 1,
          "yanchor": "bottom",
          "yref": "paper"
         }
        ],
        "height": 500,
        "legend": {
         "title": {
          "font": {
           "color": "rgba(0, 0, 0, 0)"
          }
         }
        },
        "plot_bgcolor": "white",
        "showlegend": true,
        "template": {
         "data": {
          "bar": [
           {
            "error_x": {
             "color": "#2a3f5f"
            },
            "error_y": {
             "color": "#2a3f5f"
            },
            "marker": {
             "line": {
              "color": "#E5ECF6",
              "width": 0.5
             },
             "pattern": {
              "fillmode": "overlay",
              "size": 10,
              "solidity": 0.2
             }
            },
            "type": "bar"
           }
          ],
          "barpolar": [
           {
            "marker": {
             "line": {
              "color": "#E5ECF6",
              "width": 0.5
             },
             "pattern": {
              "fillmode": "overlay",
              "size": 10,
              "solidity": 0.2
             }
            },
            "type": "barpolar"
           }
          ],
          "carpet": [
           {
            "aaxis": {
             "endlinecolor": "#2a3f5f",
             "gridcolor": "white",
             "linecolor": "white",
             "minorgridcolor": "white",
             "startlinecolor": "#2a3f5f"
            },
            "baxis": {
             "endlinecolor": "#2a3f5f",
             "gridcolor": "white",
             "linecolor": "white",
             "minorgridcolor": "white",
             "startlinecolor": "#2a3f5f"
            },
            "type": "carpet"
           }
          ],
          "choropleth": [
           {
            "colorbar": {
             "outlinewidth": 0,
             "ticks": ""
            },
            "type": "choropleth"
           }
          ],
          "contour": [
           {
            "colorbar": {
             "outlinewidth": 0,
             "ticks": ""
            },
            "colorscale": [
             [
              0,
              "#0d0887"
             ],
             [
              0.1111111111111111,
              "#46039f"
             ],
             [
              0.2222222222222222,
              "#7201a8"
             ],
             [
              0.3333333333333333,
              "#9c179e"
             ],
             [
              0.4444444444444444,
              "#bd3786"
             ],
             [
              0.5555555555555556,
              "#d8576b"
             ],
             [
              0.6666666666666666,
              "#ed7953"
             ],
             [
              0.7777777777777778,
              "#fb9f3a"
             ],
             [
              0.8888888888888888,
              "#fdca26"
             ],
             [
              1,
              "#f0f921"
             ]
            ],
            "type": "contour"
           }
          ],
          "contourcarpet": [
           {
            "colorbar": {
             "outlinewidth": 0,
             "ticks": ""
            },
            "type": "contourcarpet"
           }
          ],
          "heatmap": [
           {
            "colorbar": {
             "outlinewidth": 0,
             "ticks": ""
            },
            "colorscale": [
             [
              0,
              "#0d0887"
             ],
             [
              0.1111111111111111,
              "#46039f"
             ],
             [
              0.2222222222222222,
              "#7201a8"
             ],
             [
              0.3333333333333333,
              "#9c179e"
             ],
             [
              0.4444444444444444,
              "#bd3786"
             ],
             [
              0.5555555555555556,
              "#d8576b"
             ],
             [
              0.6666666666666666,
              "#ed7953"
             ],
             [
              0.7777777777777778,
              "#fb9f3a"
             ],
             [
              0.8888888888888888,
              "#fdca26"
             ],
             [
              1,
              "#f0f921"
             ]
            ],
            "type": "heatmap"
           }
          ],
          "histogram": [
           {
            "marker": {
             "pattern": {
              "fillmode": "overlay",
              "size": 10,
              "solidity": 0.2
             }
            },
            "type": "histogram"
           }
          ],
          "histogram2d": [
           {
            "colorbar": {
             "outlinewidth": 0,
             "ticks": ""
            },
            "colorscale": [
             [
              0,
              "#0d0887"
             ],
             [
              0.1111111111111111,
              "#46039f"
             ],
             [
              0.2222222222222222,
              "#7201a8"
             ],
             [
              0.3333333333333333,
              "#9c179e"
             ],
             [
              0.4444444444444444,
              "#bd3786"
             ],
             [
              0.5555555555555556,
              "#d8576b"
             ],
             [
              0.6666666666666666,
              "#ed7953"
             ],
             [
              0.7777777777777778,
              "#fb9f3a"
             ],
             [
              0.8888888888888888,
              "#fdca26"
             ],
             [
              1,
              "#f0f921"
             ]
            ],
            "type": "histogram2d"
           }
          ],
          "histogram2dcontour": [
           {
            "colorbar": {
             "outlinewidth": 0,
             "ticks": ""
            },
            "colorscale": [
             [
              0,
              "#0d0887"
             ],
             [
              0.1111111111111111,
              "#46039f"
             ],
             [
              0.2222222222222222,
              "#7201a8"
             ],
             [
              0.3333333333333333,
              "#9c179e"
             ],
             [
              0.4444444444444444,
              "#bd3786"
             ],
             [
              0.5555555555555556,
              "#d8576b"
             ],
             [
              0.6666666666666666,
              "#ed7953"
             ],
             [
              0.7777777777777778,
              "#fb9f3a"
             ],
             [
              0.8888888888888888,
              "#fdca26"
             ],
             [
              1,
              "#f0f921"
             ]
            ],
            "type": "histogram2dcontour"
           }
          ],
          "mesh3d": [
           {
            "colorbar": {
             "outlinewidth": 0,
             "ticks": ""
            },
            "type": "mesh3d"
           }
          ],
          "parcoords": [
           {
            "line": {
             "colorbar": {
              "outlinewidth": 0,
              "ticks": ""
             }
            },
            "type": "parcoords"
           }
          ],
          "pie": [
           {
            "automargin": true,
            "type": "pie"
           }
          ],
          "scatter": [
           {
            "fillpattern": {
             "fillmode": "overlay",
             "size": 10,
             "solidity": 0.2
            },
            "type": "scatter"
           }
          ],
          "scatter3d": [
           {
            "line": {
             "colorbar": {
              "outlinewidth": 0,
              "ticks": ""
             }
            },
            "marker": {
             "colorbar": {
              "outlinewidth": 0,
              "ticks": ""
             }
            },
            "type": "scatter3d"
           }
          ],
          "scattercarpet": [
           {
            "marker": {
             "colorbar": {
              "outlinewidth": 0,
              "ticks": ""
             }
            },
            "type": "scattercarpet"
           }
          ],
          "scattergeo": [
           {
            "marker": {
             "colorbar": {
              "outlinewidth": 0,
              "ticks": ""
             }
            },
            "type": "scattergeo"
           }
          ],
          "scattergl": [
           {
            "marker": {
             "colorbar": {
              "outlinewidth": 0,
              "ticks": ""
             }
            },
            "type": "scattergl"
           }
          ],
          "scattermap": [
           {
            "marker": {
             "colorbar": {
              "outlinewidth": 0,
              "ticks": ""
             }
            },
            "type": "scattermap"
           }
          ],
          "scattermapbox": [
           {
            "marker": {
             "colorbar": {
              "outlinewidth": 0,
              "ticks": ""
             }
            },
            "type": "scattermapbox"
           }
          ],
          "scatterpolar": [
           {
            "marker": {
             "colorbar": {
              "outlinewidth": 0,
              "ticks": ""
             }
            },
            "type": "scatterpolar"
           }
          ],
          "scatterpolargl": [
           {
            "marker": {
             "colorbar": {
              "outlinewidth": 0,
              "ticks": ""
             }
            },
            "type": "scatterpolargl"
           }
          ],
          "scatterternary": [
           {
            "marker": {
             "colorbar": {
              "outlinewidth": 0,
              "ticks": ""
             }
            },
            "type": "scatterternary"
           }
          ],
          "surface": [
           {
            "colorbar": {
             "outlinewidth": 0,
             "ticks": ""
            },
            "colorscale": [
             [
              0,
              "#0d0887"
             ],
             [
              0.1111111111111111,
              "#46039f"
             ],
             [
              0.2222222222222222,
              "#7201a8"
             ],
             [
              0.3333333333333333,
              "#9c179e"
             ],
             [
              0.4444444444444444,
              "#bd3786"
             ],
             [
              0.5555555555555556,
              "#d8576b"
             ],
             [
              0.6666666666666666,
              "#ed7953"
             ],
             [
              0.7777777777777778,
              "#fb9f3a"
             ],
             [
              0.8888888888888888,
              "#fdca26"
             ],
             [
              1,
              "#f0f921"
             ]
            ],
            "type": "surface"
           }
          ],
          "table": [
           {
            "cells": {
             "fill": {
              "color": "#EBF0F8"
             },
             "line": {
              "color": "white"
             }
            },
            "header": {
             "fill": {
              "color": "#C8D4E3"
             },
             "line": {
              "color": "white"
             }
            },
            "type": "table"
           }
          ]
         },
         "layout": {
          "annotationdefaults": {
           "arrowcolor": "#2a3f5f",
           "arrowhead": 0,
           "arrowwidth": 1
          },
          "autotypenumbers": "strict",
          "coloraxis": {
           "colorbar": {
            "outlinewidth": 0,
            "ticks": ""
           }
          },
          "colorscale": {
           "diverging": [
            [
             0,
             "#8e0152"
            ],
            [
             0.1,
             "#c51b7d"
            ],
            [
             0.2,
             "#de77ae"
            ],
            [
             0.3,
             "#f1b6da"
            ],
            [
             0.4,
             "#fde0ef"
            ],
            [
             0.5,
             "#f7f7f7"
            ],
            [
             0.6,
             "#e6f5d0"
            ],
            [
             0.7,
             "#b8e186"
            ],
            [
             0.8,
             "#7fbc41"
            ],
            [
             0.9,
             "#4d9221"
            ],
            [
             1,
             "#276419"
            ]
           ],
           "sequential": [
            [
             0,
             "#0d0887"
            ],
            [
             0.1111111111111111,
             "#46039f"
            ],
            [
             0.2222222222222222,
             "#7201a8"
            ],
            [
             0.3333333333333333,
             "#9c179e"
            ],
            [
             0.4444444444444444,
             "#bd3786"
            ],
            [
             0.5555555555555556,
             "#d8576b"
            ],
            [
             0.6666666666666666,
             "#ed7953"
            ],
            [
             0.7777777777777778,
             "#fb9f3a"
            ],
            [
             0.8888888888888888,
             "#fdca26"
            ],
            [
             1,
             "#f0f921"
            ]
           ],
           "sequentialminus": [
            [
             0,
             "#0d0887"
            ],
            [
             0.1111111111111111,
             "#46039f"
            ],
            [
             0.2222222222222222,
             "#7201a8"
            ],
            [
             0.3333333333333333,
             "#9c179e"
            ],
            [
             0.4444444444444444,
             "#bd3786"
            ],
            [
             0.5555555555555556,
             "#d8576b"
            ],
            [
             0.6666666666666666,
             "#ed7953"
            ],
            [
             0.7777777777777778,
             "#fb9f3a"
            ],
            [
             0.8888888888888888,
             "#fdca26"
            ],
            [
             1,
             "#f0f921"
            ]
           ]
          },
          "colorway": [
           "#636efa",
           "#EF553B",
           "#00cc96",
           "#ab63fa",
           "#FFA15A",
           "#19d3f3",
           "#FF6692",
           "#B6E880",
           "#FF97FF",
           "#FECB52"
          ],
          "font": {
           "color": "#2a3f5f"
          },
          "geo": {
           "bgcolor": "white",
           "lakecolor": "white",
           "landcolor": "#E5ECF6",
           "showlakes": true,
           "showland": true,
           "subunitcolor": "white"
          },
          "hoverlabel": {
           "align": "left"
          },
          "hovermode": "closest",
          "mapbox": {
           "style": "light"
          },
          "paper_bgcolor": "white",
          "plot_bgcolor": "#E5ECF6",
          "polar": {
           "angularaxis": {
            "gridcolor": "white",
            "linecolor": "white",
            "ticks": ""
           },
           "bgcolor": "#E5ECF6",
           "radialaxis": {
            "gridcolor": "white",
            "linecolor": "white",
            "ticks": ""
           }
          },
          "scene": {
           "xaxis": {
            "backgroundcolor": "#E5ECF6",
            "gridcolor": "white",
            "gridwidth": 2,
            "linecolor": "white",
            "showbackground": true,
            "ticks": "",
            "zerolinecolor": "white"
           },
           "yaxis": {
            "backgroundcolor": "#E5ECF6",
            "gridcolor": "white",
            "gridwidth": 2,
            "linecolor": "white",
            "showbackground": true,
            "ticks": "",
            "zerolinecolor": "white"
           },
           "zaxis": {
            "backgroundcolor": "#E5ECF6",
            "gridcolor": "white",
            "gridwidth": 2,
            "linecolor": "white",
            "showbackground": true,
            "ticks": "",
            "zerolinecolor": "white"
           }
          },
          "shapedefaults": {
           "line": {
            "color": "#2a3f5f"
           }
          },
          "ternary": {
           "aaxis": {
            "gridcolor": "white",
            "linecolor": "white",
            "ticks": ""
           },
           "baxis": {
            "gridcolor": "white",
            "linecolor": "white",
            "ticks": ""
           },
           "bgcolor": "#E5ECF6",
           "caxis": {
            "gridcolor": "white",
            "linecolor": "white",
            "ticks": ""
           }
          },
          "title": {
           "x": 0.05
          },
          "xaxis": {
           "automargin": true,
           "gridcolor": "white",
           "linecolor": "white",
           "ticks": "",
           "title": {
            "standoff": 15
           },
           "zerolinecolor": "white",
           "zerolinewidth": 2
          },
          "yaxis": {
           "automargin": true,
           "gridcolor": "white",
           "linecolor": "white",
           "ticks": "",
           "title": {
            "standoff": 15
           },
           "zerolinecolor": "white",
           "zerolinewidth": 2
          }
         }
        },
        "title": {
         "text": "Semantic Expansion over Writing Sessions<br><span style=\"font-size: 12px;\">*Measuring how well humans are learning while writing with GenAI</span>"
        },
        "width": 1800,
        "xaxis": {
         "anchor": "y",
         "domain": [
          0,
          1
         ],
         "gridcolor": "white",
         "linecolor": "black",
         "mirror": false,
         "range": [
          -1,
          50
         ],
         "showline": true,
         "ticks": "outside",
         "title": {
          "text": "Progress into the writing session"
         }
        },
        "yaxis": {
         "anchor": "x",
         "domain": [
          0,
          1
         ],
         "gridcolor": "white",
         "linecolor": "black",
         "mirror": false,
         "showline": true,
         "ticks": "outside",
         "title": {
          "text": "Scores"
         }
        }
       }
      }
     },
     "metadata": {},
     "output_type": "display_data"
    },
    {
     "name": "stdout",
     "output_type": "stream",
     "text": [
      "legislation_antitrust_4\n"
     ]
    },
    {
     "data": {
      "application/vnd.plotly.v1+json": {
       "config": {
        "plotlyServerURL": "https://plot.ly"
       },
       "data": [
        {
         "hovertemplate": "x=%{x}<br>y=%{y}<extra></extra>",
         "line": {
          "color": "#64B5F6",
          "width": 3
         },
         "marker": {
          "color": "#64B5F6",
          "size": 7
         },
         "mode": "lines+markers",
         "showlegend": false,
         "type": "scatter",
         "x": [
          35,
          36
         ],
         "xaxis": "x",
         "y": [
          5.567537105083465,
          4.924680030345916
         ],
         "yaxis": "y"
        },
        {
         "hovertemplate": "x=%{x}<br>y=%{y}<extra></extra>",
         "line": {
          "color": "#64B5F6",
          "width": 3
         },
         "marker": {
          "color": "#64B5F6",
          "size": 7
         },
         "mode": "lines+markers",
         "showlegend": false,
         "type": "scatter",
         "x": [
          33,
          34
         ],
         "xaxis": "x",
         "y": [
          5.852640390396118,
          5.283608496189117
         ],
         "yaxis": "y"
        },
        {
         "hovertemplate": "x=%{x}<br>y=%{y}<extra></extra>",
         "line": {
          "color": "#64B5F6",
          "width": 3
         },
         "marker": {
          "color": "#64B5F6",
          "size": 7
         },
         "mode": "lines+markers",
         "showlegend": false,
         "type": "scatter",
         "x": [
          29,
          30
         ],
         "xaxis": "x",
         "y": [
          5.935431468486786,
          6.205459225177765
         ],
         "yaxis": "y"
        },
        {
         "hovertemplate": "x=%{x}<br>y=%{y}<extra></extra>",
         "line": {
          "color": "#64B5F6",
          "width": 3
         },
         "marker": {
          "color": "#64B5F6",
          "size": 7
         },
         "mode": "lines+markers",
         "showlegend": false,
         "type": "scatter",
         "x": [
          10,
          11
         ],
         "xaxis": "x",
         "y": [
          1.119491457939148,
          1.4592598676681519
         ],
         "yaxis": "y"
        },
        {
         "hovertemplate": "x=%{x}<br>y=%{y}<extra></extra>",
         "line": {
          "color": "#ff8fab",
          "width": 3
         },
         "marker": {
          "color": "#ff8fab",
          "size": 7
         },
         "mode": "lines+markers",
         "showlegend": false,
         "type": "scatter",
         "x": [
          53,
          54
         ],
         "xaxis": "x",
         "y": [
          13.246299088001251,
          13.710327196121217
         ],
         "yaxis": "y"
        },
        {
         "hovertemplate": "x=%{x}<br>y=%{y}<extra></extra>",
         "line": {
          "color": "#ff8fab",
          "width": 3
         },
         "marker": {
          "color": "#ff8fab",
          "size": 7
         },
         "mode": "lines+markers",
         "showlegend": false,
         "type": "scatter",
         "x": [
          51,
          52
         ],
         "xaxis": "x",
         "y": [
          12.917143523693085,
          13.393337762355804
         ],
         "yaxis": "y"
        },
        {
         "hovertemplate": "x=%{x}<br>y=%{y}<extra></extra>",
         "line": {
          "color": "#ff8fab",
          "width": 3
         },
         "marker": {
          "color": "#ff8fab",
          "size": 7
         },
         "mode": "lines+markers",
         "showlegend": false,
         "type": "scatter",
         "x": [
          36,
          37
         ],
         "xaxis": "x",
         "y": [
          4.924680030345916,
          5.188806247711181
         ],
         "yaxis": "y"
        },
        {
         "hovertemplate": "x=%{x}<br>y=%{y}<extra></extra>",
         "line": {
          "color": "#ff8fab",
          "width": 3
         },
         "marker": {
          "color": "#ff8fab",
          "size": 7
         },
         "mode": "lines+markers",
         "showlegend": false,
         "type": "scatter",
         "x": [
          34,
          35
         ],
         "xaxis": "x",
         "y": [
          5.283608496189117,
          5.567537105083465
         ],
         "yaxis": "y"
        },
        {
         "hovertemplate": "x=%{x}<br>y=%{y}<extra></extra>",
         "line": {
          "color": "#ff8fab",
          "width": 3
         },
         "marker": {
          "color": "#ff8fab",
          "size": 7
         },
         "mode": "lines+markers",
         "showlegend": false,
         "type": "scatter",
         "x": [
          30,
          31
         ],
         "xaxis": "x",
         "y": [
          6.205459225177765,
          6.431901228427886
         ],
         "yaxis": "y"
        },
        {
         "hovertemplate": "x=%{x}<br>y=%{y}<extra></extra>",
         "line": {
          "color": "#ff8fab",
          "width": 3
         },
         "marker": {
          "color": "#ff8fab",
          "size": 7
         },
         "mode": "lines+markers",
         "showlegend": false,
         "type": "scatter",
         "x": [
          28,
          29
         ],
         "xaxis": "x",
         "y": [
          5.477925777435303,
          5.935431468486786
         ],
         "yaxis": "y"
        },
        {
         "hovertemplate": "x=%{x}<br>y=%{y}<extra></extra>",
         "line": {
          "color": "#ff8fab",
          "width": 3
         },
         "marker": {
          "color": "#ff8fab",
          "size": 7
         },
         "mode": "lines+markers",
         "showlegend": false,
         "type": "scatter",
         "x": [
          25,
          26
         ],
         "xaxis": "x",
         "y": [
          4.483878314495087,
          4.91598402261734
         ],
         "yaxis": "y"
        },
        {
         "hovertemplate": "x=%{x}<br>y=%{y}<extra></extra>",
         "line": {
          "color": "#ff8fab",
          "width": 3
         },
         "marker": {
          "color": "#ff8fab",
          "size": 7
         },
         "mode": "lines+markers",
         "showlegend": false,
         "type": "scatter",
         "x": [
          22,
          23
         ],
         "xaxis": "x",
         "y": [
          4.165458619594574,
          4.61700257062912
         ],
         "yaxis": "y"
        },
        {
         "hovertemplate": "x=%{x}<br>y=%{y}<extra></extra>",
         "line": {
          "color": "#ff8fab",
          "width": 3
         },
         "marker": {
          "color": "#ff8fab",
          "size": 7
         },
         "mode": "lines+markers",
         "showlegend": false,
         "type": "scatter",
         "x": [
          19,
          20
         ],
         "xaxis": "x",
         "y": [
          3.166562497615814,
          3.56314822435379
         ],
         "yaxis": "y"
        },
        {
         "hovertemplate": "x=%{x}<br>y=%{y}<extra></extra>",
         "line": {
          "color": "#ff8fab",
          "width": 3
         },
         "marker": {
          "color": "#ff8fab",
          "size": 7
         },
         "mode": "lines+markers",
         "showlegend": false,
         "type": "scatter",
         "x": [
          16,
          17
         ],
         "xaxis": "x",
         "y": [
          2.392499530315399,
          2.6173699140548705
         ],
         "yaxis": "y"
        },
        {
         "hovertemplate": "x=%{x}<br>y=%{y}<extra></extra>",
         "line": {
          "color": "#ff8fab",
          "width": 3
         },
         "marker": {
          "color": "#ff8fab",
          "size": 7
         },
         "mode": "lines+markers",
         "showlegend": false,
         "type": "scatter",
         "x": [
          15,
          16
         ],
         "xaxis": "x",
         "y": [
          2.1399407386779785,
          2.392499530315399
         ],
         "yaxis": "y"
        },
        {
         "hovertemplate": "x=%{x}<br>y=%{y}<extra></extra>",
         "line": {
          "color": "#ff8fab",
          "width": 3
         },
         "marker": {
          "color": "#ff8fab",
          "size": 7
         },
         "mode": "lines+markers",
         "showlegend": false,
         "type": "scatter",
         "x": [
          11,
          12
         ],
         "xaxis": "x",
         "y": [
          1.4592598676681519,
          1.6782609462738036
         ],
         "yaxis": "y"
        },
        {
         "hovertemplate": "x=%{x}<br>y=%{y}<extra></extra>",
         "line": {
          "color": "#ff8fab",
          "width": 3
         },
         "marker": {
          "color": "#ff8fab",
          "size": 7
         },
         "mode": "lines+markers",
         "showlegend": false,
         "type": "scatter",
         "x": [
          8,
          9
         ],
         "xaxis": "x",
         "y": [
          1.1235312819480896,
          1.5680680632591248
         ],
         "yaxis": "y"
        },
        {
         "hovertemplate": "x=%{x}<br>y=%{y}<extra></extra>",
         "line": {
          "color": "#ff8fab",
          "width": 3
         },
         "marker": {
          "color": "#ff8fab",
          "size": 7
         },
         "mode": "lines+markers",
         "showlegend": false,
         "type": "scatter",
         "x": [
          5,
          6
         ],
         "xaxis": "x",
         "y": [
          0.5605471730232239,
          0.9291412830352783
         ],
         "yaxis": "y"
        },
        {
         "hovertemplate": "x=%{x}<br>y=%{y}<extra></extra>",
         "line": {
          "color": "#ff8fab",
          "width": 3
         },
         "marker": {
          "color": "#ff8fab",
          "size": 7
         },
         "mode": "lines+markers",
         "showlegend": false,
         "type": "scatter",
         "x": [
          3,
          4
         ],
         "xaxis": "x",
         "y": [
          0.31329625844955444,
          -2.1288658738136292
         ],
         "yaxis": "y"
        },
        {
         "hovertemplate": "x=%{x}<br>y=%{y}<extra></extra>",
         "line": {
          "color": "#ff8fab",
          "width": 3
         },
         "marker": {
          "color": "#ff8fab",
          "size": 7
         },
         "mode": "lines+markers",
         "showlegend": false,
         "type": "scatter",
         "x": [
          1,
          2
         ],
         "xaxis": "x",
         "y": [
          0,
          0.6424874663352966
         ],
         "yaxis": "y"
        },
        {
         "hovertemplate": "x=%{x}<br>y=%{y}<extra></extra>",
         "line": {
          "color": "#023e8a",
          "width": 3
         },
         "marker": {
          "color": "#023e8a",
          "size": 7
         },
         "mode": "lines+markers",
         "showlegend": false,
         "type": "scatter",
         "x": [
          54,
          55
         ],
         "xaxis": "x",
         "y": [
          13.246299088001251,
          13.780964195728302
         ],
         "yaxis": "y"
        },
        {
         "hovertemplate": "x=%{x}<br>y=%{y}<extra></extra>",
         "line": {
          "color": "#023e8a",
          "width": 3
         },
         "marker": {
          "color": "#023e8a",
          "size": 7
         },
         "mode": "lines+markers",
         "showlegend": false,
         "type": "scatter",
         "x": [
          52,
          53
         ],
         "xaxis": "x",
         "y": [
          12.917143523693085,
          13.246299088001251
         ],
         "yaxis": "y"
        },
        {
         "hovertemplate": "x=%{x}<br>y=%{y}<extra></extra>",
         "line": {
          "color": "#023e8a",
          "width": 3
         },
         "marker": {
          "color": "#023e8a",
          "size": 7
         },
         "mode": "lines+markers",
         "showlegend": false,
         "type": "scatter",
         "x": [
          50,
          51
         ],
         "xaxis": "x",
         "y": [
          12.513367533683777,
          12.917143523693085
         ],
         "yaxis": "y"
        },
        {
         "hovertemplate": "x=%{x}<br>y=%{y}<extra></extra>",
         "line": {
          "color": "#023e8a",
          "width": 3
         },
         "marker": {
          "color": "#023e8a",
          "size": 7
         },
         "mode": "lines+markers",
         "showlegend": false,
         "type": "scatter",
         "x": [
          49,
          50
         ],
         "xaxis": "x",
         "y": [
          12.099905669689178,
          12.513367533683777
         ],
         "yaxis": "y"
        },
        {
         "hovertemplate": "x=%{x}<br>y=%{y}<extra></extra>",
         "line": {
          "color": "#023e8a",
          "width": 3
         },
         "marker": {
          "color": "#023e8a",
          "size": 7
         },
         "mode": "lines+markers",
         "showlegend": false,
         "type": "scatter",
         "x": [
          48,
          49
         ],
         "xaxis": "x",
         "y": [
          11.41502034664154,
          12.099905669689178
         ],
         "yaxis": "y"
        },
        {
         "hovertemplate": "x=%{x}<br>y=%{y}<extra></extra>",
         "line": {
          "color": "#023e8a",
          "width": 3
         },
         "marker": {
          "color": "#023e8a",
          "size": 7
         },
         "mode": "lines+markers",
         "showlegend": false,
         "type": "scatter",
         "x": [
          47,
          48
         ],
         "xaxis": "x",
         "y": [
          10.78524363040924,
          11.41502034664154
         ],
         "yaxis": "y"
        },
        {
         "hovertemplate": "x=%{x}<br>y=%{y}<extra></extra>",
         "line": {
          "color": "#023e8a",
          "width": 3
         },
         "marker": {
          "color": "#023e8a",
          "size": 7
         },
         "mode": "lines+markers",
         "showlegend": false,
         "type": "scatter",
         "x": [
          45,
          46
         ],
         "xaxis": "x",
         "y": [
          10.029553413391113,
          10.725525140762329
         ],
         "yaxis": "y"
        },
        {
         "hovertemplate": "x=%{x}<br>y=%{y}<extra></extra>",
         "line": {
          "color": "#023e8a",
          "width": 3
         },
         "marker": {
          "color": "#023e8a",
          "size": 7
         },
         "mode": "lines+markers",
         "showlegend": false,
         "type": "scatter",
         "x": [
          44,
          45
         ],
         "xaxis": "x",
         "y": [
          9.460185408592224,
          10.029553413391113
         ],
         "yaxis": "y"
        },
        {
         "hovertemplate": "x=%{x}<br>y=%{y}<extra></extra>",
         "line": {
          "color": "#023e8a",
          "width": 3
         },
         "marker": {
          "color": "#023e8a",
          "size": 7
         },
         "mode": "lines+markers",
         "showlegend": false,
         "type": "scatter",
         "x": [
          43,
          44
         ],
         "xaxis": "x",
         "y": [
          8.894346356391907,
          9.460185408592224
         ],
         "yaxis": "y"
        },
        {
         "hovertemplate": "x=%{x}<br>y=%{y}<extra></extra>",
         "line": {
          "color": "#023e8a",
          "width": 3
         },
         "marker": {
          "color": "#023e8a",
          "size": 7
         },
         "mode": "lines+markers",
         "showlegend": false,
         "type": "scatter",
         "x": [
          42,
          43
         ],
         "xaxis": "x",
         "y": [
          8.30213725566864,
          8.894346356391907
         ],
         "yaxis": "y"
        },
        {
         "hovertemplate": "x=%{x}<br>y=%{y}<extra></extra>",
         "line": {
          "color": "#023e8a",
          "width": 3
         },
         "marker": {
          "color": "#023e8a",
          "size": 7
         },
         "mode": "lines+markers",
         "showlegend": false,
         "type": "scatter",
         "x": [
          41,
          42
         ],
         "xaxis": "x",
         "y": [
          7.693349301815033,
          8.30213725566864
         ],
         "yaxis": "y"
        },
        {
         "hovertemplate": "x=%{x}<br>y=%{y}<extra></extra>",
         "line": {
          "color": "#023e8a",
          "width": 3
         },
         "marker": {
          "color": "#023e8a",
          "size": 7
         },
         "mode": "lines+markers",
         "showlegend": false,
         "type": "scatter",
         "x": [
          40,
          41
         ],
         "xaxis": "x",
         "y": [
          7.097562491893768,
          7.693349301815033
         ],
         "yaxis": "y"
        },
        {
         "hovertemplate": "x=%{x}<br>y=%{y}<extra></extra>",
         "line": {
          "color": "#023e8a",
          "width": 3
         },
         "marker": {
          "color": "#023e8a",
          "size": 7
         },
         "mode": "lines+markers",
         "showlegend": false,
         "type": "scatter",
         "x": [
          39,
          40
         ],
         "xaxis": "x",
         "y": [
          6.3793705105781555,
          7.097562491893768
         ],
         "yaxis": "y"
        },
        {
         "hovertemplate": "x=%{x}<br>y=%{y}<extra></extra>",
         "line": {
          "color": "#023e8a",
          "width": 3
         },
         "marker": {
          "color": "#023e8a",
          "size": 7
         },
         "mode": "lines+markers",
         "showlegend": false,
         "type": "scatter",
         "x": [
          38,
          39
         ],
         "xaxis": "x",
         "y": [
          5.852640390396118,
          6.3793705105781555
         ],
         "yaxis": "y"
        },
        {
         "hovertemplate": "x=%{x}<br>y=%{y}<extra></extra>",
         "line": {
          "color": "#023e8a",
          "width": 3
         },
         "marker": {
          "color": "#023e8a",
          "size": 7
         },
         "mode": "lines+markers",
         "showlegend": false,
         "type": "scatter",
         "x": [
          32,
          33
         ],
         "xaxis": "x",
         "y": [
          5.477925777435303,
          5.852640390396118
         ],
         "yaxis": "y"
        },
        {
         "hovertemplate": "x=%{x}<br>y=%{y}<extra></extra>",
         "line": {
          "color": "#023e8a",
          "width": 3
         },
         "marker": {
          "color": "#023e8a",
          "size": 7
         },
         "mode": "lines+markers",
         "showlegend": false,
         "type": "scatter",
         "x": [
          27,
          28
         ],
         "xaxis": "x",
         "y": [
          5.161315023899078,
          5.477925777435303
         ],
         "yaxis": "y"
        },
        {
         "hovertemplate": "x=%{x}<br>y=%{y}<extra></extra>",
         "line": {
          "color": "#023e8a",
          "width": 3
         },
         "marker": {
          "color": "#023e8a",
          "size": 7
         },
         "mode": "lines+markers",
         "showlegend": false,
         "type": "scatter",
         "x": [
          24,
          25
         ],
         "xaxis": "x",
         "y": [
          4.146890223026276,
          4.483878314495087
         ],
         "yaxis": "y"
        },
        {
         "hovertemplate": "x=%{x}<br>y=%{y}<extra></extra>",
         "line": {
          "color": "#023e8a",
          "width": 3
         },
         "marker": {
          "color": "#023e8a",
          "size": 7
         },
         "mode": "lines+markers",
         "showlegend": false,
         "type": "scatter",
         "x": [
          21,
          22
         ],
         "xaxis": "x",
         "y": [
          3.8816195130348206,
          4.165458619594574
         ],
         "yaxis": "y"
        },
        {
         "hovertemplate": "x=%{x}<br>y=%{y}<extra></extra>",
         "line": {
          "color": "#023e8a",
          "width": 3
         },
         "marker": {
          "color": "#023e8a",
          "size": 7
         },
         "mode": "lines+markers",
         "showlegend": false,
         "type": "scatter",
         "x": [
          20,
          21
         ],
         "xaxis": "x",
         "y": [
          3.166562497615814,
          3.8816195130348206
         ],
         "yaxis": "y"
        },
        {
         "hovertemplate": "x=%{x}<br>y=%{y}<extra></extra>",
         "line": {
          "color": "#023e8a",
          "width": 3
         },
         "marker": {
          "color": "#023e8a",
          "size": 7
         },
         "mode": "lines+markers",
         "showlegend": false,
         "type": "scatter",
         "x": [
          18,
          19
         ],
         "xaxis": "x",
         "y": [
          2.4608733654022217,
          3.166562497615814
         ],
         "yaxis": "y"
        },
        {
         "hovertemplate": "x=%{x}<br>y=%{y}<extra></extra>",
         "line": {
          "color": "#023e8a",
          "width": 3
         },
         "marker": {
          "color": "#023e8a",
          "size": 7
         },
         "mode": "lines+markers",
         "showlegend": false,
         "type": "scatter",
         "x": [
          17,
          18
         ],
         "xaxis": "x",
         "y": [
          2.1399407386779785,
          2.4608733654022217
         ],
         "yaxis": "y"
        },
        {
         "hovertemplate": "x=%{x}<br>y=%{y}<extra></extra>",
         "line": {
          "color": "#023e8a",
          "width": 3
         },
         "marker": {
          "color": "#023e8a",
          "size": 7
         },
         "mode": "lines+markers",
         "showlegend": false,
         "type": "scatter",
         "x": [
          14,
          15
         ],
         "xaxis": "x",
         "y": [
          1.8285478353500366,
          2.1399407386779785
         ],
         "yaxis": "y"
        },
        {
         "hovertemplate": "x=%{x}<br>y=%{y}<extra></extra>",
         "line": {
          "color": "#023e8a",
          "width": 3
         },
         "marker": {
          "color": "#023e8a",
          "size": 7
         },
         "mode": "lines+markers",
         "showlegend": false,
         "type": "scatter",
         "x": [
          13,
          14
         ],
         "xaxis": "x",
         "y": [
          1.5194699168205261,
          1.8285478353500366
         ],
         "yaxis": "y"
        },
        {
         "hovertemplate": "x=%{x}<br>y=%{y}<extra></extra>",
         "line": {
          "color": "#023e8a",
          "width": 3
         },
         "marker": {
          "color": "#023e8a",
          "size": 7
         },
         "mode": "lines+markers",
         "showlegend": false,
         "type": "scatter",
         "x": [
          12,
          13
         ],
         "xaxis": "x",
         "y": [
          1.119491457939148,
          1.5194699168205261
         ],
         "yaxis": "y"
        },
        {
         "hovertemplate": "x=%{x}<br>y=%{y}<extra></extra>",
         "line": {
          "color": "#023e8a",
          "width": 3
         },
         "marker": {
          "color": "#023e8a",
          "size": 7
         },
         "mode": "lines+markers",
         "showlegend": false,
         "type": "scatter",
         "x": [
          7,
          8
         ],
         "xaxis": "x",
         "y": [
          0.7401775121688843,
          1.1235312819480896
         ],
         "yaxis": "y"
        },
        {
         "hovertemplate": "x=%{x}<br>y=%{y}<extra></extra>",
         "line": {
          "color": "#023e8a",
          "width": 3
         },
         "marker": {
          "color": "#023e8a",
          "size": 7
         },
         "mode": "lines+markers",
         "showlegend": false,
         "type": "scatter",
         "x": [
          6,
          7
         ],
         "xaxis": "x",
         "y": [
          0.5605471730232239,
          0.7401775121688843
         ],
         "yaxis": "y"
        },
        {
         "hovertemplate": "x=%{x}<br>y=%{y}<extra></extra>",
         "line": {
          "color": "#023e8a",
          "width": 3
         },
         "marker": {
          "color": "#023e8a",
          "size": 7
         },
         "mode": "lines+markers",
         "showlegend": false,
         "type": "scatter",
         "x": [
          4,
          5
         ],
         "xaxis": "x",
         "y": [
          0.31329625844955444,
          0.5605471730232239
         ],
         "yaxis": "y"
        },
        {
         "hovertemplate": "x=%{x}<br>y=%{y}<extra></extra>",
         "line": {
          "color": "#023e8a",
          "width": 3
         },
         "marker": {
          "color": "#023e8a",
          "size": 7
         },
         "mode": "lines+markers",
         "showlegend": false,
         "type": "scatter",
         "x": [
          2,
          3
         ],
         "xaxis": "x",
         "y": [
          0,
          0.31329625844955444
         ],
         "yaxis": "y"
        },
        {
         "hovertemplate": "x=%{x}<br>y=%{y}<extra></extra>",
         "line": {
          "color": "#023e8a",
          "width": 3
         },
         "marker": {
          "color": "#023e8a",
          "size": 7
         },
         "mode": "lines+markers",
         "showlegend": false,
         "type": "scatter",
         "x": [
          0,
          1
         ],
         "xaxis": "x",
         "y": [
          0,
          0.942415714263916
         ],
         "yaxis": "y"
        },
        {
         "hovertemplate": "x=%{x}<br>y=%{y}<extra></extra>",
         "line": {
          "color": "#c1121f",
          "width": 3
         },
         "marker": {
          "color": "#c1121f",
          "size": 7
         },
         "mode": "lines+markers",
         "showlegend": false,
         "type": "scatter",
         "x": [
          26,
          27
         ],
         "xaxis": "x",
         "y": [
          4.483878314495087,
          5.161315023899078
         ],
         "yaxis": "y"
        },
        {
         "hovertemplate": "x=%{x}<br>y=%{y}<extra></extra>",
         "line": {
          "color": "#9d4edd",
          "width": 3
         },
         "marker": {
          "color": "#9d4edd",
          "size": 7
         },
         "mode": "lines+markers",
         "showlegend": false,
         "type": "scatter",
         "x": [
          46,
          47
         ],
         "xaxis": "x",
         "y": [
          10.725525140762329,
          10.78524363040924
         ],
         "yaxis": "y"
        },
        {
         "hovertemplate": "x=%{x}<br>y=%{y}<extra></extra>",
         "line": {
          "color": "#9d4edd",
          "width": 3
         },
         "marker": {
          "color": "#9d4edd",
          "size": 7
         },
         "mode": "lines+markers",
         "showlegend": false,
         "type": "scatter",
         "x": [
          37,
          38
         ],
         "xaxis": "x",
         "y": [
          5.852640390396118,
          5.852640390396118
         ],
         "yaxis": "y"
        },
        {
         "hovertemplate": "x=%{x}<br>y=%{y}<extra></extra>",
         "line": {
          "color": "#9d4edd",
          "width": 3
         },
         "marker": {
          "color": "#9d4edd",
          "size": 7
         },
         "mode": "lines+markers",
         "showlegend": false,
         "type": "scatter",
         "x": [
          31,
          32
         ],
         "xaxis": "x",
         "y": [
          5.477925777435303,
          5.477925777435303
         ],
         "yaxis": "y"
        },
        {
         "hovertemplate": "x=%{x}<br>y=%{y}<extra></extra>",
         "line": {
          "color": "#9d4edd",
          "width": 3
         },
         "marker": {
          "color": "#9d4edd",
          "size": 7
         },
         "mode": "lines+markers",
         "showlegend": false,
         "type": "scatter",
         "x": [
          23,
          24
         ],
         "xaxis": "x",
         "y": [
          4.165458619594574,
          4.146890223026276
         ],
         "yaxis": "y"
        },
        {
         "hovertemplate": "x=%{x}<br>y=%{y}<extra></extra>",
         "line": {
          "color": "#9d4edd",
          "width": 3
         },
         "marker": {
          "color": "#9d4edd",
          "size": 7
         },
         "mode": "lines+markers",
         "showlegend": false,
         "type": "scatter",
         "x": [
          9,
          10
         ],
         "xaxis": "x",
         "y": [
          1.1235312819480896,
          1.119491457939148
         ],
         "yaxis": "y"
        },
        {
         "line": {
          "color": "#64B5F6",
          "width": 2
         },
         "mode": "lines",
         "name": "human_insert_backstage",
         "showlegend": true,
         "type": "scatter",
         "x": [
          null
         ],
         "xaxis": "x",
         "y": [
          null
         ],
         "yaxis": "y"
        },
        {
         "line": {
          "color": "#ff8fab",
          "width": 2
         },
         "mode": "lines",
         "name": "ai_suggest_backstage",
         "showlegend": true,
         "type": "scatter",
         "x": [
          null
         ],
         "xaxis": "x",
         "y": [
          null
         ],
         "yaxis": "y"
        },
        {
         "line": {
          "color": "#023e8a",
          "width": 2
         },
         "mode": "lines",
         "name": "human_insert_frontstage",
         "showlegend": true,
         "type": "scatter",
         "x": [
          null
         ],
         "xaxis": "x",
         "y": [
          null
         ],
         "yaxis": "y"
        },
        {
         "line": {
          "color": "#c1121f",
          "width": 2
         },
         "mode": "lines",
         "name": "ai_insert_moved_to_frontstage",
         "showlegend": true,
         "type": "scatter",
         "x": [
          null
         ],
         "xaxis": "x",
         "y": [
          null
         ],
         "yaxis": "y"
        },
        {
         "line": {
          "color": "#9d4edd",
          "width": 2
         },
         "mode": "lines",
         "name": "human_delete_frontstage",
         "showlegend": true,
         "type": "scatter",
         "x": [
          null
         ],
         "xaxis": "x",
         "y": [
          null
         ],
         "yaxis": "y"
        },
        {
         "line": {
          "color": "#5a189a",
          "width": 2
         },
         "mode": "lines",
         "name": "human_insert_edit_frontstage",
         "showlegend": true,
         "type": "scatter",
         "x": [
          null
         ],
         "xaxis": "x",
         "y": [
          null
         ],
         "yaxis": "y"
        }
       ],
       "layout": {
        "annotations": [
         {
          "font": {
           "size": 16
          },
          "showarrow": false,
          "text": "Session: legislation_antitrust_4",
          "x": 0.5,
          "xanchor": "center",
          "xref": "paper",
          "y": 1,
          "yanchor": "bottom",
          "yref": "paper"
         }
        ],
        "height": 500,
        "legend": {
         "title": {
          "font": {
           "color": "rgba(0, 0, 0, 0)"
          }
         }
        },
        "plot_bgcolor": "white",
        "showlegend": true,
        "template": {
         "data": {
          "bar": [
           {
            "error_x": {
             "color": "#2a3f5f"
            },
            "error_y": {
             "color": "#2a3f5f"
            },
            "marker": {
             "line": {
              "color": "#E5ECF6",
              "width": 0.5
             },
             "pattern": {
              "fillmode": "overlay",
              "size": 10,
              "solidity": 0.2
             }
            },
            "type": "bar"
           }
          ],
          "barpolar": [
           {
            "marker": {
             "line": {
              "color": "#E5ECF6",
              "width": 0.5
             },
             "pattern": {
              "fillmode": "overlay",
              "size": 10,
              "solidity": 0.2
             }
            },
            "type": "barpolar"
           }
          ],
          "carpet": [
           {
            "aaxis": {
             "endlinecolor": "#2a3f5f",
             "gridcolor": "white",
             "linecolor": "white",
             "minorgridcolor": "white",
             "startlinecolor": "#2a3f5f"
            },
            "baxis": {
             "endlinecolor": "#2a3f5f",
             "gridcolor": "white",
             "linecolor": "white",
             "minorgridcolor": "white",
             "startlinecolor": "#2a3f5f"
            },
            "type": "carpet"
           }
          ],
          "choropleth": [
           {
            "colorbar": {
             "outlinewidth": 0,
             "ticks": ""
            },
            "type": "choropleth"
           }
          ],
          "contour": [
           {
            "colorbar": {
             "outlinewidth": 0,
             "ticks": ""
            },
            "colorscale": [
             [
              0,
              "#0d0887"
             ],
             [
              0.1111111111111111,
              "#46039f"
             ],
             [
              0.2222222222222222,
              "#7201a8"
             ],
             [
              0.3333333333333333,
              "#9c179e"
             ],
             [
              0.4444444444444444,
              "#bd3786"
             ],
             [
              0.5555555555555556,
              "#d8576b"
             ],
             [
              0.6666666666666666,
              "#ed7953"
             ],
             [
              0.7777777777777778,
              "#fb9f3a"
             ],
             [
              0.8888888888888888,
              "#fdca26"
             ],
             [
              1,
              "#f0f921"
             ]
            ],
            "type": "contour"
           }
          ],
          "contourcarpet": [
           {
            "colorbar": {
             "outlinewidth": 0,
             "ticks": ""
            },
            "type": "contourcarpet"
           }
          ],
          "heatmap": [
           {
            "colorbar": {
             "outlinewidth": 0,
             "ticks": ""
            },
            "colorscale": [
             [
              0,
              "#0d0887"
             ],
             [
              0.1111111111111111,
              "#46039f"
             ],
             [
              0.2222222222222222,
              "#7201a8"
             ],
             [
              0.3333333333333333,
              "#9c179e"
             ],
             [
              0.4444444444444444,
              "#bd3786"
             ],
             [
              0.5555555555555556,
              "#d8576b"
             ],
             [
              0.6666666666666666,
              "#ed7953"
             ],
             [
              0.7777777777777778,
              "#fb9f3a"
             ],
             [
              0.8888888888888888,
              "#fdca26"
             ],
             [
              1,
              "#f0f921"
             ]
            ],
            "type": "heatmap"
           }
          ],
          "histogram": [
           {
            "marker": {
             "pattern": {
              "fillmode": "overlay",
              "size": 10,
              "solidity": 0.2
             }
            },
            "type": "histogram"
           }
          ],
          "histogram2d": [
           {
            "colorbar": {
             "outlinewidth": 0,
             "ticks": ""
            },
            "colorscale": [
             [
              0,
              "#0d0887"
             ],
             [
              0.1111111111111111,
              "#46039f"
             ],
             [
              0.2222222222222222,
              "#7201a8"
             ],
             [
              0.3333333333333333,
              "#9c179e"
             ],
             [
              0.4444444444444444,
              "#bd3786"
             ],
             [
              0.5555555555555556,
              "#d8576b"
             ],
             [
              0.6666666666666666,
              "#ed7953"
             ],
             [
              0.7777777777777778,
              "#fb9f3a"
             ],
             [
              0.8888888888888888,
              "#fdca26"
             ],
             [
              1,
              "#f0f921"
             ]
            ],
            "type": "histogram2d"
           }
          ],
          "histogram2dcontour": [
           {
            "colorbar": {
             "outlinewidth": 0,
             "ticks": ""
            },
            "colorscale": [
             [
              0,
              "#0d0887"
             ],
             [
              0.1111111111111111,
              "#46039f"
             ],
             [
              0.2222222222222222,
              "#7201a8"
             ],
             [
              0.3333333333333333,
              "#9c179e"
             ],
             [
              0.4444444444444444,
              "#bd3786"
             ],
             [
              0.5555555555555556,
              "#d8576b"
             ],
             [
              0.6666666666666666,
              "#ed7953"
             ],
             [
              0.7777777777777778,
              "#fb9f3a"
             ],
             [
              0.8888888888888888,
              "#fdca26"
             ],
             [
              1,
              "#f0f921"
             ]
            ],
            "type": "histogram2dcontour"
           }
          ],
          "mesh3d": [
           {
            "colorbar": {
             "outlinewidth": 0,
             "ticks": ""
            },
            "type": "mesh3d"
           }
          ],
          "parcoords": [
           {
            "line": {
             "colorbar": {
              "outlinewidth": 0,
              "ticks": ""
             }
            },
            "type": "parcoords"
           }
          ],
          "pie": [
           {
            "automargin": true,
            "type": "pie"
           }
          ],
          "scatter": [
           {
            "fillpattern": {
             "fillmode": "overlay",
             "size": 10,
             "solidity": 0.2
            },
            "type": "scatter"
           }
          ],
          "scatter3d": [
           {
            "line": {
             "colorbar": {
              "outlinewidth": 0,
              "ticks": ""
             }
            },
            "marker": {
             "colorbar": {
              "outlinewidth": 0,
              "ticks": ""
             }
            },
            "type": "scatter3d"
           }
          ],
          "scattercarpet": [
           {
            "marker": {
             "colorbar": {
              "outlinewidth": 0,
              "ticks": ""
             }
            },
            "type": "scattercarpet"
           }
          ],
          "scattergeo": [
           {
            "marker": {
             "colorbar": {
              "outlinewidth": 0,
              "ticks": ""
             }
            },
            "type": "scattergeo"
           }
          ],
          "scattergl": [
           {
            "marker": {
             "colorbar": {
              "outlinewidth": 0,
              "ticks": ""
             }
            },
            "type": "scattergl"
           }
          ],
          "scattermap": [
           {
            "marker": {
             "colorbar": {
              "outlinewidth": 0,
              "ticks": ""
             }
            },
            "type": "scattermap"
           }
          ],
          "scattermapbox": [
           {
            "marker": {
             "colorbar": {
              "outlinewidth": 0,
              "ticks": ""
             }
            },
            "type": "scattermapbox"
           }
          ],
          "scatterpolar": [
           {
            "marker": {
             "colorbar": {
              "outlinewidth": 0,
              "ticks": ""
             }
            },
            "type": "scatterpolar"
           }
          ],
          "scatterpolargl": [
           {
            "marker": {
             "colorbar": {
              "outlinewidth": 0,
              "ticks": ""
             }
            },
            "type": "scatterpolargl"
           }
          ],
          "scatterternary": [
           {
            "marker": {
             "colorbar": {
              "outlinewidth": 0,
              "ticks": ""
             }
            },
            "type": "scatterternary"
           }
          ],
          "surface": [
           {
            "colorbar": {
             "outlinewidth": 0,
             "ticks": ""
            },
            "colorscale": [
             [
              0,
              "#0d0887"
             ],
             [
              0.1111111111111111,
              "#46039f"
             ],
             [
              0.2222222222222222,
              "#7201a8"
             ],
             [
              0.3333333333333333,
              "#9c179e"
             ],
             [
              0.4444444444444444,
              "#bd3786"
             ],
             [
              0.5555555555555556,
              "#d8576b"
             ],
             [
              0.6666666666666666,
              "#ed7953"
             ],
             [
              0.7777777777777778,
              "#fb9f3a"
             ],
             [
              0.8888888888888888,
              "#fdca26"
             ],
             [
              1,
              "#f0f921"
             ]
            ],
            "type": "surface"
           }
          ],
          "table": [
           {
            "cells": {
             "fill": {
              "color": "#EBF0F8"
             },
             "line": {
              "color": "white"
             }
            },
            "header": {
             "fill": {
              "color": "#C8D4E3"
             },
             "line": {
              "color": "white"
             }
            },
            "type": "table"
           }
          ]
         },
         "layout": {
          "annotationdefaults": {
           "arrowcolor": "#2a3f5f",
           "arrowhead": 0,
           "arrowwidth": 1
          },
          "autotypenumbers": "strict",
          "coloraxis": {
           "colorbar": {
            "outlinewidth": 0,
            "ticks": ""
           }
          },
          "colorscale": {
           "diverging": [
            [
             0,
             "#8e0152"
            ],
            [
             0.1,
             "#c51b7d"
            ],
            [
             0.2,
             "#de77ae"
            ],
            [
             0.3,
             "#f1b6da"
            ],
            [
             0.4,
             "#fde0ef"
            ],
            [
             0.5,
             "#f7f7f7"
            ],
            [
             0.6,
             "#e6f5d0"
            ],
            [
             0.7,
             "#b8e186"
            ],
            [
             0.8,
             "#7fbc41"
            ],
            [
             0.9,
             "#4d9221"
            ],
            [
             1,
             "#276419"
            ]
           ],
           "sequential": [
            [
             0,
             "#0d0887"
            ],
            [
             0.1111111111111111,
             "#46039f"
            ],
            [
             0.2222222222222222,
             "#7201a8"
            ],
            [
             0.3333333333333333,
             "#9c179e"
            ],
            [
             0.4444444444444444,
             "#bd3786"
            ],
            [
             0.5555555555555556,
             "#d8576b"
            ],
            [
             0.6666666666666666,
             "#ed7953"
            ],
            [
             0.7777777777777778,
             "#fb9f3a"
            ],
            [
             0.8888888888888888,
             "#fdca26"
            ],
            [
             1,
             "#f0f921"
            ]
           ],
           "sequentialminus": [
            [
             0,
             "#0d0887"
            ],
            [
             0.1111111111111111,
             "#46039f"
            ],
            [
             0.2222222222222222,
             "#7201a8"
            ],
            [
             0.3333333333333333,
             "#9c179e"
            ],
            [
             0.4444444444444444,
             "#bd3786"
            ],
            [
             0.5555555555555556,
             "#d8576b"
            ],
            [
             0.6666666666666666,
             "#ed7953"
            ],
            [
             0.7777777777777778,
             "#fb9f3a"
            ],
            [
             0.8888888888888888,
             "#fdca26"
            ],
            [
             1,
             "#f0f921"
            ]
           ]
          },
          "colorway": [
           "#636efa",
           "#EF553B",
           "#00cc96",
           "#ab63fa",
           "#FFA15A",
           "#19d3f3",
           "#FF6692",
           "#B6E880",
           "#FF97FF",
           "#FECB52"
          ],
          "font": {
           "color": "#2a3f5f"
          },
          "geo": {
           "bgcolor": "white",
           "lakecolor": "white",
           "landcolor": "#E5ECF6",
           "showlakes": true,
           "showland": true,
           "subunitcolor": "white"
          },
          "hoverlabel": {
           "align": "left"
          },
          "hovermode": "closest",
          "mapbox": {
           "style": "light"
          },
          "paper_bgcolor": "white",
          "plot_bgcolor": "#E5ECF6",
          "polar": {
           "angularaxis": {
            "gridcolor": "white",
            "linecolor": "white",
            "ticks": ""
           },
           "bgcolor": "#E5ECF6",
           "radialaxis": {
            "gridcolor": "white",
            "linecolor": "white",
            "ticks": ""
           }
          },
          "scene": {
           "xaxis": {
            "backgroundcolor": "#E5ECF6",
            "gridcolor": "white",
            "gridwidth": 2,
            "linecolor": "white",
            "showbackground": true,
            "ticks": "",
            "zerolinecolor": "white"
           },
           "yaxis": {
            "backgroundcolor": "#E5ECF6",
            "gridcolor": "white",
            "gridwidth": 2,
            "linecolor": "white",
            "showbackground": true,
            "ticks": "",
            "zerolinecolor": "white"
           },
           "zaxis": {
            "backgroundcolor": "#E5ECF6",
            "gridcolor": "white",
            "gridwidth": 2,
            "linecolor": "white",
            "showbackground": true,
            "ticks": "",
            "zerolinecolor": "white"
           }
          },
          "shapedefaults": {
           "line": {
            "color": "#2a3f5f"
           }
          },
          "ternary": {
           "aaxis": {
            "gridcolor": "white",
            "linecolor": "white",
            "ticks": ""
           },
           "baxis": {
            "gridcolor": "white",
            "linecolor": "white",
            "ticks": ""
           },
           "bgcolor": "#E5ECF6",
           "caxis": {
            "gridcolor": "white",
            "linecolor": "white",
            "ticks": ""
           }
          },
          "title": {
           "x": 0.05
          },
          "xaxis": {
           "automargin": true,
           "gridcolor": "white",
           "linecolor": "white",
           "ticks": "",
           "title": {
            "standoff": 15
           },
           "zerolinecolor": "white",
           "zerolinewidth": 2
          },
          "yaxis": {
           "automargin": true,
           "gridcolor": "white",
           "linecolor": "white",
           "ticks": "",
           "title": {
            "standoff": 15
           },
           "zerolinecolor": "white",
           "zerolinewidth": 2
          }
         }
        },
        "title": {
         "text": "Semantic Expansion over Writing Sessions<br><span style=\"font-size: 12px;\">*Measuring how well humans are learning while writing with GenAI</span>"
        },
        "width": 1800,
        "xaxis": {
         "anchor": "y",
         "domain": [
          0,
          1
         ],
         "gridcolor": "white",
         "linecolor": "black",
         "mirror": false,
         "range": [
          -1,
          56
         ],
         "showline": true,
         "ticks": "outside",
         "title": {
          "text": "Progress into the writing session"
         }
        },
        "yaxis": {
         "anchor": "x",
         "domain": [
          0,
          1
         ],
         "gridcolor": "white",
         "linecolor": "black",
         "mirror": false,
         "showline": true,
         "ticks": "outside",
         "title": {
          "text": "Scores"
         }
        }
       }
      }
     },
     "metadata": {},
     "output_type": "display_data"
    },
    {
     "name": "stdout",
     "output_type": "stream",
     "text": [
      "legislation_antitrust_5\n"
     ]
    },
    {
     "data": {
      "application/vnd.plotly.v1+json": {
       "config": {
        "plotlyServerURL": "https://plot.ly"
       },
       "data": [
        {
         "hovertemplate": "x=%{x}<br>y=%{y}<extra></extra>",
         "line": {
          "color": "#64B5F6",
          "width": 3
         },
         "marker": {
          "color": "#64B5F6",
          "size": 7
         },
         "mode": "lines+markers",
         "showlegend": false,
         "type": "scatter",
         "x": [
          30,
          31
         ],
         "xaxis": "x",
         "y": [
          9.472617125511169,
          8.090851938724517
         ],
         "yaxis": "y"
        },
        {
         "hovertemplate": "x=%{x}<br>y=%{y}<extra></extra>",
         "line": {
          "color": "#64B5F6",
          "width": 3
         },
         "marker": {
          "color": "#64B5F6",
          "size": 7
         },
         "mode": "lines+markers",
         "showlegend": false,
         "type": "scatter",
         "x": [
          28,
          29
         ],
         "xaxis": "x",
         "y": [
          8.655792832374573,
          9.037932336330414
         ],
         "yaxis": "y"
        },
        {
         "hovertemplate": "x=%{x}<br>y=%{y}<extra></extra>",
         "line": {
          "color": "#64B5F6",
          "width": 3
         },
         "marker": {
          "color": "#64B5F6",
          "size": 7
         },
         "mode": "lines+markers",
         "showlegend": false,
         "type": "scatter",
         "x": [
          26,
          27
         ],
         "xaxis": "x",
         "y": [
          7.961493682861328,
          8.299439203739166
         ],
         "yaxis": "y"
        },
        {
         "hovertemplate": "x=%{x}<br>y=%{y}<extra></extra>",
         "line": {
          "color": "#64B5F6",
          "width": 3
         },
         "marker": {
          "color": "#64B5F6",
          "size": 7
         },
         "mode": "lines+markers",
         "showlegend": false,
         "type": "scatter",
         "x": [
          24,
          25
         ],
         "xaxis": "x",
         "y": [
          7.176332890987396,
          7.516182720661163
         ],
         "yaxis": "y"
        },
        {
         "hovertemplate": "x=%{x}<br>y=%{y}<extra></extra>",
         "line": {
          "color": "#64B5F6",
          "width": 3
         },
         "marker": {
          "color": "#64B5F6",
          "size": 7
         },
         "mode": "lines+markers",
         "showlegend": false,
         "type": "scatter",
         "x": [
          23,
          24
         ],
         "xaxis": "x",
         "y": [
          8.154069364070892,
          7.176332890987396
         ],
         "yaxis": "y"
        },
        {
         "hovertemplate": "x=%{x}<br>y=%{y}<extra></extra>",
         "line": {
          "color": "#ff8fab",
          "width": 3
         },
         "marker": {
          "color": "#ff8fab",
          "size": 7
         },
         "mode": "lines+markers",
         "showlegend": false,
         "type": "scatter",
         "x": [
          47,
          48
         ],
         "xaxis": "x",
         "y": [
          13.763981103897095,
          14.221355867385864
         ],
         "yaxis": "y"
        },
        {
         "hovertemplate": "x=%{x}<br>y=%{y}<extra></extra>",
         "line": {
          "color": "#ff8fab",
          "width": 3
         },
         "marker": {
          "color": "#ff8fab",
          "size": 7
         },
         "mode": "lines+markers",
         "showlegend": false,
         "type": "scatter",
         "x": [
          31,
          32
         ],
         "xaxis": "x",
         "y": [
          8.090851938724517,
          8.466999626159668
         ],
         "yaxis": "y"
        },
        {
         "hovertemplate": "x=%{x}<br>y=%{y}<extra></extra>",
         "line": {
          "color": "#ff8fab",
          "width": 3
         },
         "marker": {
          "color": "#ff8fab",
          "size": 7
         },
         "mode": "lines+markers",
         "showlegend": false,
         "type": "scatter",
         "x": [
          29,
          30
         ],
         "xaxis": "x",
         "y": [
          9.037932336330414,
          9.472617125511169
         ],
         "yaxis": "y"
        },
        {
         "hovertemplate": "x=%{x}<br>y=%{y}<extra></extra>",
         "line": {
          "color": "#ff8fab",
          "width": 3
         },
         "marker": {
          "color": "#ff8fab",
          "size": 7
         },
         "mode": "lines+markers",
         "showlegend": false,
         "type": "scatter",
         "x": [
          27,
          28
         ],
         "xaxis": "x",
         "y": [
          8.299439203739166,
          8.655792832374573
         ],
         "yaxis": "y"
        },
        {
         "hovertemplate": "x=%{x}<br>y=%{y}<extra></extra>",
         "line": {
          "color": "#ff8fab",
          "width": 3
         },
         "marker": {
          "color": "#ff8fab",
          "size": 7
         },
         "mode": "lines+markers",
         "showlegend": false,
         "type": "scatter",
         "x": [
          25,
          26
         ],
         "xaxis": "x",
         "y": [
          7.516182720661163,
          7.961493682861328
         ],
         "yaxis": "y"
        },
        {
         "hovertemplate": "x=%{x}<br>y=%{y}<extra></extra>",
         "line": {
          "color": "#ff8fab",
          "width": 3
         },
         "marker": {
          "color": "#ff8fab",
          "size": 7
         },
         "mode": "lines+markers",
         "showlegend": false,
         "type": "scatter",
         "x": [
          21,
          22
         ],
         "xaxis": "x",
         "y": [
          7.316591203212738,
          5.956830787658691
         ],
         "yaxis": "y"
        },
        {
         "hovertemplate": "x=%{x}<br>y=%{y}<extra></extra>",
         "line": {
          "color": "#ff8fab",
          "width": 3
         },
         "marker": {
          "color": "#ff8fab",
          "size": 7
         },
         "mode": "lines+markers",
         "showlegend": false,
         "type": "scatter",
         "x": [
          15,
          16
         ],
         "xaxis": "x",
         "y": [
          5.213970124721527,
          5.66258875131607
         ],
         "yaxis": "y"
        },
        {
         "hovertemplate": "x=%{x}<br>y=%{y}<extra></extra>",
         "line": {
          "color": "#ff8fab",
          "width": 3
         },
         "marker": {
          "color": "#ff8fab",
          "size": 7
         },
         "mode": "lines+markers",
         "showlegend": false,
         "type": "scatter",
         "x": [
          6,
          7
         ],
         "xaxis": "x",
         "y": [
          1.8857854008674622,
          2.2981985211372375
         ],
         "yaxis": "y"
        },
        {
         "hovertemplate": "x=%{x}<br>y=%{y}<extra></extra>",
         "line": {
          "color": "#ff8fab",
          "width": 3
         },
         "marker": {
          "color": "#ff8fab",
          "size": 7
         },
         "mode": "lines+markers",
         "showlegend": false,
         "type": "scatter",
         "x": [
          2,
          3
         ],
         "xaxis": "x",
         "y": [
          0.2898159623146057,
          0.8575904965400696
         ],
         "yaxis": "y"
        },
        {
         "hovertemplate": "x=%{x}<br>y=%{y}<extra></extra>",
         "line": {
          "color": "#023e8a",
          "width": 3
         },
         "marker": {
          "color": "#023e8a",
          "size": 7
         },
         "mode": "lines+markers",
         "showlegend": false,
         "type": "scatter",
         "x": [
          63,
          64
         ],
         "xaxis": "x",
         "y": [
          20.590640544891357,
          21.111178636550903
         ],
         "yaxis": "y"
        },
        {
         "hovertemplate": "x=%{x}<br>y=%{y}<extra></extra>",
         "line": {
          "color": "#023e8a",
          "width": 3
         },
         "marker": {
          "color": "#023e8a",
          "size": 7
         },
         "mode": "lines+markers",
         "showlegend": false,
         "type": "scatter",
         "x": [
          62,
          63
         ],
         "xaxis": "x",
         "y": [
          20.11958134174347,
          20.590640544891357
         ],
         "yaxis": "y"
        },
        {
         "hovertemplate": "x=%{x}<br>y=%{y}<extra></extra>",
         "line": {
          "color": "#023e8a",
          "width": 3
         },
         "marker": {
          "color": "#023e8a",
          "size": 7
         },
         "mode": "lines+markers",
         "showlegend": false,
         "type": "scatter",
         "x": [
          61,
          62
         ],
         "xaxis": "x",
         "y": [
          19.492205500602722,
          20.11958134174347
         ],
         "yaxis": "y"
        },
        {
         "hovertemplate": "x=%{x}<br>y=%{y}<extra></extra>",
         "line": {
          "color": "#023e8a",
          "width": 3
         },
         "marker": {
          "color": "#023e8a",
          "size": 7
         },
         "mode": "lines+markers",
         "showlegend": false,
         "type": "scatter",
         "x": [
          60,
          61
         ],
         "xaxis": "x",
         "y": [
          19.057965338230133,
          19.492205500602722
         ],
         "yaxis": "y"
        },
        {
         "hovertemplate": "x=%{x}<br>y=%{y}<extra></extra>",
         "line": {
          "color": "#023e8a",
          "width": 3
         },
         "marker": {
          "color": "#023e8a",
          "size": 7
         },
         "mode": "lines+markers",
         "showlegend": false,
         "type": "scatter",
         "x": [
          59,
          60
         ],
         "xaxis": "x",
         "y": [
          18.441067278385162,
          19.057965338230133
         ],
         "yaxis": "y"
        },
        {
         "hovertemplate": "x=%{x}<br>y=%{y}<extra></extra>",
         "line": {
          "color": "#023e8a",
          "width": 3
         },
         "marker": {
          "color": "#023e8a",
          "size": 7
         },
         "mode": "lines+markers",
         "showlegend": false,
         "type": "scatter",
         "x": [
          58,
          59
         ],
         "xaxis": "x",
         "y": [
          18.010842382907867,
          18.441067278385162
         ],
         "yaxis": "y"
        },
        {
         "hovertemplate": "x=%{x}<br>y=%{y}<extra></extra>",
         "line": {
          "color": "#023e8a",
          "width": 3
         },
         "marker": {
          "color": "#023e8a",
          "size": 7
         },
         "mode": "lines+markers",
         "showlegend": false,
         "type": "scatter",
         "x": [
          57,
          58
         ],
         "xaxis": "x",
         "y": [
          17.56269073486328,
          18.010842382907867
         ],
         "yaxis": "y"
        },
        {
         "hovertemplate": "x=%{x}<br>y=%{y}<extra></extra>",
         "line": {
          "color": "#023e8a",
          "width": 3
         },
         "marker": {
          "color": "#023e8a",
          "size": 7
         },
         "mode": "lines+markers",
         "showlegend": false,
         "type": "scatter",
         "x": [
          56,
          57
         ],
         "xaxis": "x",
         "y": [
          17.15119880437851,
          17.56269073486328
         ],
         "yaxis": "y"
        },
        {
         "hovertemplate": "x=%{x}<br>y=%{y}<extra></extra>",
         "line": {
          "color": "#023e8a",
          "width": 3
         },
         "marker": {
          "color": "#023e8a",
          "size": 7
         },
         "mode": "lines+markers",
         "showlegend": false,
         "type": "scatter",
         "x": [
          55,
          56
         ],
         "xaxis": "x",
         "y": [
          16.853143393993378,
          17.15119880437851
         ],
         "yaxis": "y"
        },
        {
         "hovertemplate": "x=%{x}<br>y=%{y}<extra></extra>",
         "line": {
          "color": "#023e8a",
          "width": 3
         },
         "marker": {
          "color": "#023e8a",
          "size": 7
         },
         "mode": "lines+markers",
         "showlegend": false,
         "type": "scatter",
         "x": [
          54,
          55
         ],
         "xaxis": "x",
         "y": [
          16.481558322906494,
          16.853143393993378
         ],
         "yaxis": "y"
        },
        {
         "hovertemplate": "x=%{x}<br>y=%{y}<extra></extra>",
         "line": {
          "color": "#023e8a",
          "width": 3
         },
         "marker": {
          "color": "#023e8a",
          "size": 7
         },
         "mode": "lines+markers",
         "showlegend": false,
         "type": "scatter",
         "x": [
          53,
          54
         ],
         "xaxis": "x",
         "y": [
          16.03749144077301,
          16.481558322906494
         ],
         "yaxis": "y"
        },
        {
         "hovertemplate": "x=%{x}<br>y=%{y}<extra></extra>",
         "line": {
          "color": "#023e8a",
          "width": 3
         },
         "marker": {
          "color": "#023e8a",
          "size": 7
         },
         "mode": "lines+markers",
         "showlegend": false,
         "type": "scatter",
         "x": [
          52,
          53
         ],
         "xaxis": "x",
         "y": [
          15.61905437707901,
          16.03749144077301
         ],
         "yaxis": "y"
        },
        {
         "hovertemplate": "x=%{x}<br>y=%{y}<extra></extra>",
         "line": {
          "color": "#023e8a",
          "width": 3
         },
         "marker": {
          "color": "#023e8a",
          "size": 7
         },
         "mode": "lines+markers",
         "showlegend": false,
         "type": "scatter",
         "x": [
          51,
          52
         ],
         "xaxis": "x",
         "y": [
          15.172012329101562,
          15.61905437707901
         ],
         "yaxis": "y"
        },
        {
         "hovertemplate": "x=%{x}<br>y=%{y}<extra></extra>",
         "line": {
          "color": "#023e8a",
          "width": 3
         },
         "marker": {
          "color": "#023e8a",
          "size": 7
         },
         "mode": "lines+markers",
         "showlegend": false,
         "type": "scatter",
         "x": [
          50,
          51
         ],
         "xaxis": "x",
         "y": [
          14.793225824832916,
          15.172012329101562
         ],
         "yaxis": "y"
        },
        {
         "hovertemplate": "x=%{x}<br>y=%{y}<extra></extra>",
         "line": {
          "color": "#023e8a",
          "width": 3
         },
         "marker": {
          "color": "#023e8a",
          "size": 7
         },
         "mode": "lines+markers",
         "showlegend": false,
         "type": "scatter",
         "x": [
          49,
          50
         ],
         "xaxis": "x",
         "y": [
          14.202825963497162,
          14.793225824832916
         ],
         "yaxis": "y"
        },
        {
         "hovertemplate": "x=%{x}<br>y=%{y}<extra></extra>",
         "line": {
          "color": "#023e8a",
          "width": 3
         },
         "marker": {
          "color": "#023e8a",
          "size": 7
         },
         "mode": "lines+markers",
         "showlegend": false,
         "type": "scatter",
         "x": [
          48,
          49
         ],
         "xaxis": "x",
         "y": [
          13.763981103897095,
          14.202825963497162
         ],
         "yaxis": "y"
        },
        {
         "hovertemplate": "x=%{x}<br>y=%{y}<extra></extra>",
         "line": {
          "color": "#023e8a",
          "width": 3
         },
         "marker": {
          "color": "#023e8a",
          "size": 7
         },
         "mode": "lines+markers",
         "showlegend": false,
         "type": "scatter",
         "x": [
          46,
          47
         ],
         "xaxis": "x",
         "y": [
          13.339155375957489,
          13.763981103897095
         ],
         "yaxis": "y"
        },
        {
         "hovertemplate": "x=%{x}<br>y=%{y}<extra></extra>",
         "line": {
          "color": "#023e8a",
          "width": 3
         },
         "marker": {
          "color": "#023e8a",
          "size": 7
         },
         "mode": "lines+markers",
         "showlegend": false,
         "type": "scatter",
         "x": [
          45,
          46
         ],
         "xaxis": "x",
         "y": [
          12.952115654945374,
          13.339155375957489
         ],
         "yaxis": "y"
        },
        {
         "hovertemplate": "x=%{x}<br>y=%{y}<extra></extra>",
         "line": {
          "color": "#023e8a",
          "width": 3
         },
         "marker": {
          "color": "#023e8a",
          "size": 7
         },
         "mode": "lines+markers",
         "showlegend": false,
         "type": "scatter",
         "x": [
          44,
          45
         ],
         "xaxis": "x",
         "y": [
          12.445061087608337,
          12.952115654945374
         ],
         "yaxis": "y"
        },
        {
         "hovertemplate": "x=%{x}<br>y=%{y}<extra></extra>",
         "line": {
          "color": "#023e8a",
          "width": 3
         },
         "marker": {
          "color": "#023e8a",
          "size": 7
         },
         "mode": "lines+markers",
         "showlegend": false,
         "type": "scatter",
         "x": [
          43,
          44
         ],
         "xaxis": "x",
         "y": [
          12.059601843357086,
          12.445061087608337
         ],
         "yaxis": "y"
        },
        {
         "hovertemplate": "x=%{x}<br>y=%{y}<extra></extra>",
         "line": {
          "color": "#023e8a",
          "width": 3
         },
         "marker": {
          "color": "#023e8a",
          "size": 7
         },
         "mode": "lines+markers",
         "showlegend": false,
         "type": "scatter",
         "x": [
          41,
          42
         ],
         "xaxis": "x",
         "y": [
          11.418713867664337,
          11.95851457118988
         ],
         "yaxis": "y"
        },
        {
         "hovertemplate": "x=%{x}<br>y=%{y}<extra></extra>",
         "line": {
          "color": "#023e8a",
          "width": 3
         },
         "marker": {
          "color": "#023e8a",
          "size": 7
         },
         "mode": "lines+markers",
         "showlegend": false,
         "type": "scatter",
         "x": [
          40,
          41
         ],
         "xaxis": "x",
         "y": [
          11.006965398788452,
          11.418713867664337
         ],
         "yaxis": "y"
        },
        {
         "hovertemplate": "x=%{x}<br>y=%{y}<extra></extra>",
         "line": {
          "color": "#023e8a",
          "width": 3
         },
         "marker": {
          "color": "#023e8a",
          "size": 7
         },
         "mode": "lines+markers",
         "showlegend": false,
         "type": "scatter",
         "x": [
          39,
          40
         ],
         "xaxis": "x",
         "y": [
          10.66421127319336,
          11.006965398788452
         ],
         "yaxis": "y"
        },
        {
         "hovertemplate": "x=%{x}<br>y=%{y}<extra></extra>",
         "line": {
          "color": "#023e8a",
          "width": 3
         },
         "marker": {
          "color": "#023e8a",
          "size": 7
         },
         "mode": "lines+markers",
         "showlegend": false,
         "type": "scatter",
         "x": [
          38,
          39
         ],
         "xaxis": "x",
         "y": [
          10.276206076145172,
          10.66421127319336
         ],
         "yaxis": "y"
        },
        {
         "hovertemplate": "x=%{x}<br>y=%{y}<extra></extra>",
         "line": {
          "color": "#023e8a",
          "width": 3
         },
         "marker": {
          "color": "#023e8a",
          "size": 7
         },
         "mode": "lines+markers",
         "showlegend": false,
         "type": "scatter",
         "x": [
          37,
          38
         ],
         "xaxis": "x",
         "y": [
          9.926008522510529,
          10.276206076145172
         ],
         "yaxis": "y"
        },
        {
         "hovertemplate": "x=%{x}<br>y=%{y}<extra></extra>",
         "line": {
          "color": "#023e8a",
          "width": 3
         },
         "marker": {
          "color": "#023e8a",
          "size": 7
         },
         "mode": "lines+markers",
         "showlegend": false,
         "type": "scatter",
         "x": [
          36,
          37
         ],
         "xaxis": "x",
         "y": [
          9.575054466724396,
          9.926008522510529
         ],
         "yaxis": "y"
        },
        {
         "hovertemplate": "x=%{x}<br>y=%{y}<extra></extra>",
         "line": {
          "color": "#023e8a",
          "width": 3
         },
         "marker": {
          "color": "#023e8a",
          "size": 7
         },
         "mode": "lines+markers",
         "showlegend": false,
         "type": "scatter",
         "x": [
          35,
          36
         ],
         "xaxis": "x",
         "y": [
          9.216464102268219,
          9.575054466724396
         ],
         "yaxis": "y"
        },
        {
         "hovertemplate": "x=%{x}<br>y=%{y}<extra></extra>",
         "line": {
          "color": "#023e8a",
          "width": 3
         },
         "marker": {
          "color": "#023e8a",
          "size": 7
         },
         "mode": "lines+markers",
         "showlegend": false,
         "type": "scatter",
         "x": [
          34,
          35
         ],
         "xaxis": "x",
         "y": [
          8.831243753433228,
          9.216464102268219
         ],
         "yaxis": "y"
        },
        {
         "hovertemplate": "x=%{x}<br>y=%{y}<extra></extra>",
         "line": {
          "color": "#023e8a",
          "width": 3
         },
         "marker": {
          "color": "#023e8a",
          "size": 7
         },
         "mode": "lines+markers",
         "showlegend": false,
         "type": "scatter",
         "x": [
          33,
          34
         ],
         "xaxis": "x",
         "y": [
          8.509429812431335,
          8.831243753433228
         ],
         "yaxis": "y"
        },
        {
         "hovertemplate": "x=%{x}<br>y=%{y}<extra></extra>",
         "line": {
          "color": "#023e8a",
          "width": 3
         },
         "marker": {
          "color": "#023e8a",
          "size": 7
         },
         "mode": "lines+markers",
         "showlegend": false,
         "type": "scatter",
         "x": [
          22,
          23
         ],
         "xaxis": "x",
         "y": [
          7.316591203212738,
          8.154069364070892
         ],
         "yaxis": "y"
        },
        {
         "hovertemplate": "x=%{x}<br>y=%{y}<extra></extra>",
         "line": {
          "color": "#023e8a",
          "width": 3
         },
         "marker": {
          "color": "#023e8a",
          "size": 7
         },
         "mode": "lines+markers",
         "showlegend": false,
         "type": "scatter",
         "x": [
          20,
          21
         ],
         "xaxis": "x",
         "y": [
          6.537892401218414,
          7.316591203212738
         ],
         "yaxis": "y"
        },
        {
         "hovertemplate": "x=%{x}<br>y=%{y}<extra></extra>",
         "line": {
          "color": "#023e8a",
          "width": 3
         },
         "marker": {
          "color": "#023e8a",
          "size": 7
         },
         "mode": "lines+markers",
         "showlegend": false,
         "type": "scatter",
         "x": [
          19,
          20
         ],
         "xaxis": "x",
         "y": [
          6.123665750026703,
          6.537892401218414
         ],
         "yaxis": "y"
        },
        {
         "hovertemplate": "x=%{x}<br>y=%{y}<extra></extra>",
         "line": {
          "color": "#023e8a",
          "width": 3
         },
         "marker": {
          "color": "#023e8a",
          "size": 7
         },
         "mode": "lines+markers",
         "showlegend": false,
         "type": "scatter",
         "x": [
          18,
          19
         ],
         "xaxis": "x",
         "y": [
          5.690814793109894,
          6.123665750026703
         ],
         "yaxis": "y"
        },
        {
         "hovertemplate": "x=%{x}<br>y=%{y}<extra></extra>",
         "line": {
          "color": "#023e8a",
          "width": 3
         },
         "marker": {
          "color": "#023e8a",
          "size": 7
         },
         "mode": "lines+markers",
         "showlegend": false,
         "type": "scatter",
         "x": [
          16,
          17
         ],
         "xaxis": "x",
         "y": [
          5.213970124721527,
          5.625508606433868
         ],
         "yaxis": "y"
        },
        {
         "hovertemplate": "x=%{x}<br>y=%{y}<extra></extra>",
         "line": {
          "color": "#023e8a",
          "width": 3
         },
         "marker": {
          "color": "#023e8a",
          "size": 7
         },
         "mode": "lines+markers",
         "showlegend": false,
         "type": "scatter",
         "x": [
          14,
          15
         ],
         "xaxis": "x",
         "y": [
          4.702828347682953,
          5.213970124721527
         ],
         "yaxis": "y"
        },
        {
         "hovertemplate": "x=%{x}<br>y=%{y}<extra></extra>",
         "line": {
          "color": "#023e8a",
          "width": 3
         },
         "marker": {
          "color": "#023e8a",
          "size": 7
         },
         "mode": "lines+markers",
         "showlegend": false,
         "type": "scatter",
         "x": [
          13,
          14
         ],
         "xaxis": "x",
         "y": [
          4.1258479952812195,
          4.702828347682953
         ],
         "yaxis": "y"
        },
        {
         "hovertemplate": "x=%{x}<br>y=%{y}<extra></extra>",
         "line": {
          "color": "#023e8a",
          "width": 3
         },
         "marker": {
          "color": "#023e8a",
          "size": 7
         },
         "mode": "lines+markers",
         "showlegend": false,
         "type": "scatter",
         "x": [
          12,
          13
         ],
         "xaxis": "x",
         "y": [
          3.6050471663475037,
          4.1258479952812195
         ],
         "yaxis": "y"
        },
        {
         "hovertemplate": "x=%{x}<br>y=%{y}<extra></extra>",
         "line": {
          "color": "#023e8a",
          "width": 3
         },
         "marker": {
          "color": "#023e8a",
          "size": 7
         },
         "mode": "lines+markers",
         "showlegend": false,
         "type": "scatter",
         "x": [
          11,
          12
         ],
         "xaxis": "x",
         "y": [
          3.3254921436309814,
          3.6050471663475037
         ],
         "yaxis": "y"
        },
        {
         "hovertemplate": "x=%{x}<br>y=%{y}<extra></extra>",
         "line": {
          "color": "#023e8a",
          "width": 3
         },
         "marker": {
          "color": "#023e8a",
          "size": 7
         },
         "mode": "lines+markers",
         "showlegend": false,
         "type": "scatter",
         "x": [
          10,
          11
         ],
         "xaxis": "x",
         "y": [
          3.0154295563697815,
          3.3254921436309814
         ],
         "yaxis": "y"
        },
        {
         "hovertemplate": "x=%{x}<br>y=%{y}<extra></extra>",
         "line": {
          "color": "#023e8a",
          "width": 3
         },
         "marker": {
          "color": "#023e8a",
          "size": 7
         },
         "mode": "lines+markers",
         "showlegend": false,
         "type": "scatter",
         "x": [
          9,
          10
         ],
         "xaxis": "x",
         "y": [
          2.685614824295044,
          3.0154295563697815
         ],
         "yaxis": "y"
        },
        {
         "hovertemplate": "x=%{x}<br>y=%{y}<extra></extra>",
         "line": {
          "color": "#023e8a",
          "width": 3
         },
         "marker": {
          "color": "#023e8a",
          "size": 7
         },
         "mode": "lines+markers",
         "showlegend": false,
         "type": "scatter",
         "x": [
          8,
          9
         ],
         "xaxis": "x",
         "y": [
          2.248051881790161,
          2.685614824295044
         ],
         "yaxis": "y"
        },
        {
         "hovertemplate": "x=%{x}<br>y=%{y}<extra></extra>",
         "line": {
          "color": "#023e8a",
          "width": 3
         },
         "marker": {
          "color": "#023e8a",
          "size": 7
         },
         "mode": "lines+markers",
         "showlegend": false,
         "type": "scatter",
         "x": [
          7,
          8
         ],
         "xaxis": "x",
         "y": [
          1.8857854008674622,
          2.248051881790161
         ],
         "yaxis": "y"
        },
        {
         "hovertemplate": "x=%{x}<br>y=%{y}<extra></extra>",
         "line": {
          "color": "#023e8a",
          "width": 3
         },
         "marker": {
          "color": "#023e8a",
          "size": 7
         },
         "mode": "lines+markers",
         "showlegend": false,
         "type": "scatter",
         "x": [
          5,
          6
         ],
         "xaxis": "x",
         "y": [
          1.4975293278694153,
          1.8857854008674622
         ],
         "yaxis": "y"
        },
        {
         "hovertemplate": "x=%{x}<br>y=%{y}<extra></extra>",
         "line": {
          "color": "#023e8a",
          "width": 3
         },
         "marker": {
          "color": "#023e8a",
          "size": 7
         },
         "mode": "lines+markers",
         "showlegend": false,
         "type": "scatter",
         "x": [
          4,
          5
         ],
         "xaxis": "x",
         "y": [
          1.147291660308838,
          1.4975293278694153
         ],
         "yaxis": "y"
        },
        {
         "hovertemplate": "x=%{x}<br>y=%{y}<extra></extra>",
         "line": {
          "color": "#023e8a",
          "width": 3
         },
         "marker": {
          "color": "#023e8a",
          "size": 7
         },
         "mode": "lines+markers",
         "showlegend": false,
         "type": "scatter",
         "x": [
          3,
          4
         ],
         "xaxis": "x",
         "y": [
          0.2898159623146057,
          1.147291660308838
         ],
         "yaxis": "y"
        },
        {
         "hovertemplate": "x=%{x}<br>y=%{y}<extra></extra>",
         "line": {
          "color": "#023e8a",
          "width": 3
         },
         "marker": {
          "color": "#023e8a",
          "size": 7
         },
         "mode": "lines+markers",
         "showlegend": false,
         "type": "scatter",
         "x": [
          1,
          2
         ],
         "xaxis": "x",
         "y": [
          0,
          0.2898159623146057
         ],
         "yaxis": "y"
        },
        {
         "hovertemplate": "x=%{x}<br>y=%{y}<extra></extra>",
         "line": {
          "color": "#023e8a",
          "width": 3
         },
         "marker": {
          "color": "#023e8a",
          "size": 7
         },
         "mode": "lines+markers",
         "showlegend": false,
         "type": "scatter",
         "x": [
          0,
          1
         ],
         "xaxis": "x",
         "y": [
          0,
          0.5179585218429565
         ],
         "yaxis": "y"
        },
        {
         "hovertemplate": "x=%{x}<br>y=%{y}<extra></extra>",
         "line": {
          "color": "#c1121f",
          "width": 3
         },
         "marker": {
          "color": "#c1121f",
          "size": 7
         },
         "mode": "lines+markers",
         "showlegend": false,
         "type": "scatter",
         "x": [
          32,
          33
         ],
         "xaxis": "x",
         "y": [
          8.154069364070892,
          8.509429812431335
         ],
         "yaxis": "y"
        },
        {
         "hovertemplate": "x=%{x}<br>y=%{y}<extra></extra>",
         "line": {
          "color": "#9d4edd",
          "width": 3
         },
         "marker": {
          "color": "#9d4edd",
          "size": 7
         },
         "mode": "lines+markers",
         "showlegend": false,
         "type": "scatter",
         "x": [
          42,
          43
         ],
         "xaxis": "x",
         "y": [
          11.95851457118988,
          12.059601843357086
         ],
         "yaxis": "y"
        },
        {
         "hovertemplate": "x=%{x}<br>y=%{y}<extra></extra>",
         "line": {
          "color": "#9d4edd",
          "width": 3
         },
         "marker": {
          "color": "#9d4edd",
          "size": 7
         },
         "mode": "lines+markers",
         "showlegend": false,
         "type": "scatter",
         "x": [
          17,
          18
         ],
         "xaxis": "x",
         "y": [
          5.625508606433868,
          5.690814793109894
         ],
         "yaxis": "y"
        },
        {
         "line": {
          "color": "#64B5F6",
          "width": 2
         },
         "mode": "lines",
         "name": "human_insert_backstage",
         "showlegend": true,
         "type": "scatter",
         "x": [
          null
         ],
         "xaxis": "x",
         "y": [
          null
         ],
         "yaxis": "y"
        },
        {
         "line": {
          "color": "#ff8fab",
          "width": 2
         },
         "mode": "lines",
         "name": "ai_suggest_backstage",
         "showlegend": true,
         "type": "scatter",
         "x": [
          null
         ],
         "xaxis": "x",
         "y": [
          null
         ],
         "yaxis": "y"
        },
        {
         "line": {
          "color": "#023e8a",
          "width": 2
         },
         "mode": "lines",
         "name": "human_insert_frontstage",
         "showlegend": true,
         "type": "scatter",
         "x": [
          null
         ],
         "xaxis": "x",
         "y": [
          null
         ],
         "yaxis": "y"
        },
        {
         "line": {
          "color": "#c1121f",
          "width": 2
         },
         "mode": "lines",
         "name": "ai_insert_moved_to_frontstage",
         "showlegend": true,
         "type": "scatter",
         "x": [
          null
         ],
         "xaxis": "x",
         "y": [
          null
         ],
         "yaxis": "y"
        },
        {
         "line": {
          "color": "#9d4edd",
          "width": 2
         },
         "mode": "lines",
         "name": "human_delete_frontstage",
         "showlegend": true,
         "type": "scatter",
         "x": [
          null
         ],
         "xaxis": "x",
         "y": [
          null
         ],
         "yaxis": "y"
        },
        {
         "line": {
          "color": "#5a189a",
          "width": 2
         },
         "mode": "lines",
         "name": "human_insert_edit_frontstage",
         "showlegend": true,
         "type": "scatter",
         "x": [
          null
         ],
         "xaxis": "x",
         "y": [
          null
         ],
         "yaxis": "y"
        }
       ],
       "layout": {
        "annotations": [
         {
          "font": {
           "size": 16
          },
          "showarrow": false,
          "text": "Session: legislation_antitrust_5",
          "x": 0.5,
          "xanchor": "center",
          "xref": "paper",
          "y": 1,
          "yanchor": "bottom",
          "yref": "paper"
         }
        ],
        "height": 500,
        "legend": {
         "title": {
          "font": {
           "color": "rgba(0, 0, 0, 0)"
          }
         }
        },
        "plot_bgcolor": "white",
        "showlegend": true,
        "template": {
         "data": {
          "bar": [
           {
            "error_x": {
             "color": "#2a3f5f"
            },
            "error_y": {
             "color": "#2a3f5f"
            },
            "marker": {
             "line": {
              "color": "#E5ECF6",
              "width": 0.5
             },
             "pattern": {
              "fillmode": "overlay",
              "size": 10,
              "solidity": 0.2
             }
            },
            "type": "bar"
           }
          ],
          "barpolar": [
           {
            "marker": {
             "line": {
              "color": "#E5ECF6",
              "width": 0.5
             },
             "pattern": {
              "fillmode": "overlay",
              "size": 10,
              "solidity": 0.2
             }
            },
            "type": "barpolar"
           }
          ],
          "carpet": [
           {
            "aaxis": {
             "endlinecolor": "#2a3f5f",
             "gridcolor": "white",
             "linecolor": "white",
             "minorgridcolor": "white",
             "startlinecolor": "#2a3f5f"
            },
            "baxis": {
             "endlinecolor": "#2a3f5f",
             "gridcolor": "white",
             "linecolor": "white",
             "minorgridcolor": "white",
             "startlinecolor": "#2a3f5f"
            },
            "type": "carpet"
           }
          ],
          "choropleth": [
           {
            "colorbar": {
             "outlinewidth": 0,
             "ticks": ""
            },
            "type": "choropleth"
           }
          ],
          "contour": [
           {
            "colorbar": {
             "outlinewidth": 0,
             "ticks": ""
            },
            "colorscale": [
             [
              0,
              "#0d0887"
             ],
             [
              0.1111111111111111,
              "#46039f"
             ],
             [
              0.2222222222222222,
              "#7201a8"
             ],
             [
              0.3333333333333333,
              "#9c179e"
             ],
             [
              0.4444444444444444,
              "#bd3786"
             ],
             [
              0.5555555555555556,
              "#d8576b"
             ],
             [
              0.6666666666666666,
              "#ed7953"
             ],
             [
              0.7777777777777778,
              "#fb9f3a"
             ],
             [
              0.8888888888888888,
              "#fdca26"
             ],
             [
              1,
              "#f0f921"
             ]
            ],
            "type": "contour"
           }
          ],
          "contourcarpet": [
           {
            "colorbar": {
             "outlinewidth": 0,
             "ticks": ""
            },
            "type": "contourcarpet"
           }
          ],
          "heatmap": [
           {
            "colorbar": {
             "outlinewidth": 0,
             "ticks": ""
            },
            "colorscale": [
             [
              0,
              "#0d0887"
             ],
             [
              0.1111111111111111,
              "#46039f"
             ],
             [
              0.2222222222222222,
              "#7201a8"
             ],
             [
              0.3333333333333333,
              "#9c179e"
             ],
             [
              0.4444444444444444,
              "#bd3786"
             ],
             [
              0.5555555555555556,
              "#d8576b"
             ],
             [
              0.6666666666666666,
              "#ed7953"
             ],
             [
              0.7777777777777778,
              "#fb9f3a"
             ],
             [
              0.8888888888888888,
              "#fdca26"
             ],
             [
              1,
              "#f0f921"
             ]
            ],
            "type": "heatmap"
           }
          ],
          "histogram": [
           {
            "marker": {
             "pattern": {
              "fillmode": "overlay",
              "size": 10,
              "solidity": 0.2
             }
            },
            "type": "histogram"
           }
          ],
          "histogram2d": [
           {
            "colorbar": {
             "outlinewidth": 0,
             "ticks": ""
            },
            "colorscale": [
             [
              0,
              "#0d0887"
             ],
             [
              0.1111111111111111,
              "#46039f"
             ],
             [
              0.2222222222222222,
              "#7201a8"
             ],
             [
              0.3333333333333333,
              "#9c179e"
             ],
             [
              0.4444444444444444,
              "#bd3786"
             ],
             [
              0.5555555555555556,
              "#d8576b"
             ],
             [
              0.6666666666666666,
              "#ed7953"
             ],
             [
              0.7777777777777778,
              "#fb9f3a"
             ],
             [
              0.8888888888888888,
              "#fdca26"
             ],
             [
              1,
              "#f0f921"
             ]
            ],
            "type": "histogram2d"
           }
          ],
          "histogram2dcontour": [
           {
            "colorbar": {
             "outlinewidth": 0,
             "ticks": ""
            },
            "colorscale": [
             [
              0,
              "#0d0887"
             ],
             [
              0.1111111111111111,
              "#46039f"
             ],
             [
              0.2222222222222222,
              "#7201a8"
             ],
             [
              0.3333333333333333,
              "#9c179e"
             ],
             [
              0.4444444444444444,
              "#bd3786"
             ],
             [
              0.5555555555555556,
              "#d8576b"
             ],
             [
              0.6666666666666666,
              "#ed7953"
             ],
             [
              0.7777777777777778,
              "#fb9f3a"
             ],
             [
              0.8888888888888888,
              "#fdca26"
             ],
             [
              1,
              "#f0f921"
             ]
            ],
            "type": "histogram2dcontour"
           }
          ],
          "mesh3d": [
           {
            "colorbar": {
             "outlinewidth": 0,
             "ticks": ""
            },
            "type": "mesh3d"
           }
          ],
          "parcoords": [
           {
            "line": {
             "colorbar": {
              "outlinewidth": 0,
              "ticks": ""
             }
            },
            "type": "parcoords"
           }
          ],
          "pie": [
           {
            "automargin": true,
            "type": "pie"
           }
          ],
          "scatter": [
           {
            "fillpattern": {
             "fillmode": "overlay",
             "size": 10,
             "solidity": 0.2
            },
            "type": "scatter"
           }
          ],
          "scatter3d": [
           {
            "line": {
             "colorbar": {
              "outlinewidth": 0,
              "ticks": ""
             }
            },
            "marker": {
             "colorbar": {
              "outlinewidth": 0,
              "ticks": ""
             }
            },
            "type": "scatter3d"
           }
          ],
          "scattercarpet": [
           {
            "marker": {
             "colorbar": {
              "outlinewidth": 0,
              "ticks": ""
             }
            },
            "type": "scattercarpet"
           }
          ],
          "scattergeo": [
           {
            "marker": {
             "colorbar": {
              "outlinewidth": 0,
              "ticks": ""
             }
            },
            "type": "scattergeo"
           }
          ],
          "scattergl": [
           {
            "marker": {
             "colorbar": {
              "outlinewidth": 0,
              "ticks": ""
             }
            },
            "type": "scattergl"
           }
          ],
          "scattermap": [
           {
            "marker": {
             "colorbar": {
              "outlinewidth": 0,
              "ticks": ""
             }
            },
            "type": "scattermap"
           }
          ],
          "scattermapbox": [
           {
            "marker": {
             "colorbar": {
              "outlinewidth": 0,
              "ticks": ""
             }
            },
            "type": "scattermapbox"
           }
          ],
          "scatterpolar": [
           {
            "marker": {
             "colorbar": {
              "outlinewidth": 0,
              "ticks": ""
             }
            },
            "type": "scatterpolar"
           }
          ],
          "scatterpolargl": [
           {
            "marker": {
             "colorbar": {
              "outlinewidth": 0,
              "ticks": ""
             }
            },
            "type": "scatterpolargl"
           }
          ],
          "scatterternary": [
           {
            "marker": {
             "colorbar": {
              "outlinewidth": 0,
              "ticks": ""
             }
            },
            "type": "scatterternary"
           }
          ],
          "surface": [
           {
            "colorbar": {
             "outlinewidth": 0,
             "ticks": ""
            },
            "colorscale": [
             [
              0,
              "#0d0887"
             ],
             [
              0.1111111111111111,
              "#46039f"
             ],
             [
              0.2222222222222222,
              "#7201a8"
             ],
             [
              0.3333333333333333,
              "#9c179e"
             ],
             [
              0.4444444444444444,
              "#bd3786"
             ],
             [
              0.5555555555555556,
              "#d8576b"
             ],
             [
              0.6666666666666666,
              "#ed7953"
             ],
             [
              0.7777777777777778,
              "#fb9f3a"
             ],
             [
              0.8888888888888888,
              "#fdca26"
             ],
             [
              1,
              "#f0f921"
             ]
            ],
            "type": "surface"
           }
          ],
          "table": [
           {
            "cells": {
             "fill": {
              "color": "#EBF0F8"
             },
             "line": {
              "color": "white"
             }
            },
            "header": {
             "fill": {
              "color": "#C8D4E3"
             },
             "line": {
              "color": "white"
             }
            },
            "type": "table"
           }
          ]
         },
         "layout": {
          "annotationdefaults": {
           "arrowcolor": "#2a3f5f",
           "arrowhead": 0,
           "arrowwidth": 1
          },
          "autotypenumbers": "strict",
          "coloraxis": {
           "colorbar": {
            "outlinewidth": 0,
            "ticks": ""
           }
          },
          "colorscale": {
           "diverging": [
            [
             0,
             "#8e0152"
            ],
            [
             0.1,
             "#c51b7d"
            ],
            [
             0.2,
             "#de77ae"
            ],
            [
             0.3,
             "#f1b6da"
            ],
            [
             0.4,
             "#fde0ef"
            ],
            [
             0.5,
             "#f7f7f7"
            ],
            [
             0.6,
             "#e6f5d0"
            ],
            [
             0.7,
             "#b8e186"
            ],
            [
             0.8,
             "#7fbc41"
            ],
            [
             0.9,
             "#4d9221"
            ],
            [
             1,
             "#276419"
            ]
           ],
           "sequential": [
            [
             0,
             "#0d0887"
            ],
            [
             0.1111111111111111,
             "#46039f"
            ],
            [
             0.2222222222222222,
             "#7201a8"
            ],
            [
             0.3333333333333333,
             "#9c179e"
            ],
            [
             0.4444444444444444,
             "#bd3786"
            ],
            [
             0.5555555555555556,
             "#d8576b"
            ],
            [
             0.6666666666666666,
             "#ed7953"
            ],
            [
             0.7777777777777778,
             "#fb9f3a"
            ],
            [
             0.8888888888888888,
             "#fdca26"
            ],
            [
             1,
             "#f0f921"
            ]
           ],
           "sequentialminus": [
            [
             0,
             "#0d0887"
            ],
            [
             0.1111111111111111,
             "#46039f"
            ],
            [
             0.2222222222222222,
             "#7201a8"
            ],
            [
             0.3333333333333333,
             "#9c179e"
            ],
            [
             0.4444444444444444,
             "#bd3786"
            ],
            [
             0.5555555555555556,
             "#d8576b"
            ],
            [
             0.6666666666666666,
             "#ed7953"
            ],
            [
             0.7777777777777778,
             "#fb9f3a"
            ],
            [
             0.8888888888888888,
             "#fdca26"
            ],
            [
             1,
             "#f0f921"
            ]
           ]
          },
          "colorway": [
           "#636efa",
           "#EF553B",
           "#00cc96",
           "#ab63fa",
           "#FFA15A",
           "#19d3f3",
           "#FF6692",
           "#B6E880",
           "#FF97FF",
           "#FECB52"
          ],
          "font": {
           "color": "#2a3f5f"
          },
          "geo": {
           "bgcolor": "white",
           "lakecolor": "white",
           "landcolor": "#E5ECF6",
           "showlakes": true,
           "showland": true,
           "subunitcolor": "white"
          },
          "hoverlabel": {
           "align": "left"
          },
          "hovermode": "closest",
          "mapbox": {
           "style": "light"
          },
          "paper_bgcolor": "white",
          "plot_bgcolor": "#E5ECF6",
          "polar": {
           "angularaxis": {
            "gridcolor": "white",
            "linecolor": "white",
            "ticks": ""
           },
           "bgcolor": "#E5ECF6",
           "radialaxis": {
            "gridcolor": "white",
            "linecolor": "white",
            "ticks": ""
           }
          },
          "scene": {
           "xaxis": {
            "backgroundcolor": "#E5ECF6",
            "gridcolor": "white",
            "gridwidth": 2,
            "linecolor": "white",
            "showbackground": true,
            "ticks": "",
            "zerolinecolor": "white"
           },
           "yaxis": {
            "backgroundcolor": "#E5ECF6",
            "gridcolor": "white",
            "gridwidth": 2,
            "linecolor": "white",
            "showbackground": true,
            "ticks": "",
            "zerolinecolor": "white"
           },
           "zaxis": {
            "backgroundcolor": "#E5ECF6",
            "gridcolor": "white",
            "gridwidth": 2,
            "linecolor": "white",
            "showbackground": true,
            "ticks": "",
            "zerolinecolor": "white"
           }
          },
          "shapedefaults": {
           "line": {
            "color": "#2a3f5f"
           }
          },
          "ternary": {
           "aaxis": {
            "gridcolor": "white",
            "linecolor": "white",
            "ticks": ""
           },
           "baxis": {
            "gridcolor": "white",
            "linecolor": "white",
            "ticks": ""
           },
           "bgcolor": "#E5ECF6",
           "caxis": {
            "gridcolor": "white",
            "linecolor": "white",
            "ticks": ""
           }
          },
          "title": {
           "x": 0.05
          },
          "xaxis": {
           "automargin": true,
           "gridcolor": "white",
           "linecolor": "white",
           "ticks": "",
           "title": {
            "standoff": 15
           },
           "zerolinecolor": "white",
           "zerolinewidth": 2
          },
          "yaxis": {
           "automargin": true,
           "gridcolor": "white",
           "linecolor": "white",
           "ticks": "",
           "title": {
            "standoff": 15
           },
           "zerolinecolor": "white",
           "zerolinewidth": 2
          }
         }
        },
        "title": {
         "text": "Semantic Expansion over Writing Sessions<br><span style=\"font-size: 12px;\">*Measuring how well humans are learning while writing with GenAI</span>"
        },
        "width": 1800,
        "xaxis": {
         "anchor": "y",
         "domain": [
          0,
          1
         ],
         "gridcolor": "white",
         "linecolor": "black",
         "mirror": false,
         "range": [
          -1,
          65
         ],
         "showline": true,
         "ticks": "outside",
         "title": {
          "text": "Progress into the writing session"
         }
        },
        "yaxis": {
         "anchor": "x",
         "domain": [
          0,
          1
         ],
         "gridcolor": "white",
         "linecolor": "black",
         "mirror": false,
         "showline": true,
         "ticks": "outside",
         "title": {
          "text": "Scores"
         }
        }
       }
      }
     },
     "metadata": {},
     "output_type": "display_data"
    },
    {
     "name": "stdout",
     "output_type": "stream",
     "text": [
      "legislation_antitrust_6\n"
     ]
    },
    {
     "data": {
      "application/vnd.plotly.v1+json": {
       "config": {
        "plotlyServerURL": "https://plot.ly"
       },
       "data": [
        {
         "hovertemplate": "x=%{x}<br>y=%{y}<extra></extra>",
         "line": {
          "color": "#64B5F6",
          "width": 3
         },
         "marker": {
          "color": "#64B5F6",
          "size": 7
         },
         "mode": "lines+markers",
         "showlegend": false,
         "type": "scatter",
         "x": [
          41,
          42
         ],
         "xaxis": "x",
         "y": [
          9.43775349855423,
          9.919762670993805
         ],
         "yaxis": "y"
        },
        {
         "hovertemplate": "x=%{x}<br>y=%{y}<extra></extra>",
         "line": {
          "color": "#64B5F6",
          "width": 3
         },
         "marker": {
          "color": "#64B5F6",
          "size": 7
         },
         "mode": "lines+markers",
         "showlegend": false,
         "type": "scatter",
         "x": [
          11,
          12
         ],
         "xaxis": "x",
         "y": [
          1.0524750351905823,
          1.6694384217262268
         ],
         "yaxis": "y"
        },
        {
         "hovertemplate": "x=%{x}<br>y=%{y}<extra></extra>",
         "line": {
          "color": "#64B5F6",
          "width": 3
         },
         "marker": {
          "color": "#64B5F6",
          "size": 7
         },
         "mode": "lines+markers",
         "showlegend": false,
         "type": "scatter",
         "x": [
          8,
          9
         ],
         "xaxis": "x",
         "y": [
          0.7619868516921997,
          -0.5931998491287231
         ],
         "yaxis": "y"
        },
        {
         "hovertemplate": "x=%{x}<br>y=%{y}<extra></extra>",
         "line": {
          "color": "#ff8fab",
          "width": 3
         },
         "marker": {
          "color": "#ff8fab",
          "size": 7
         },
         "mode": "lines+markers",
         "showlegend": false,
         "type": "scatter",
         "x": [
          46,
          47
         ],
         "xaxis": "x",
         "y": [
          10.734700083732605,
          11.260871005058288
         ],
         "yaxis": "y"
        },
        {
         "hovertemplate": "x=%{x}<br>y=%{y}<extra></extra>",
         "line": {
          "color": "#ff8fab",
          "width": 3
         },
         "marker": {
          "color": "#ff8fab",
          "size": 7
         },
         "mode": "lines+markers",
         "showlegend": false,
         "type": "scatter",
         "x": [
          42,
          43
         ],
         "xaxis": "x",
         "y": [
          9.919762670993805,
          10.325286102294921
         ],
         "yaxis": "y"
        },
        {
         "hovertemplate": "x=%{x}<br>y=%{y}<extra></extra>",
         "line": {
          "color": "#ff8fab",
          "width": 3
         },
         "marker": {
          "color": "#ff8fab",
          "size": 7
         },
         "mode": "lines+markers",
         "showlegend": false,
         "type": "scatter",
         "x": [
          36,
          37
         ],
         "xaxis": "x",
         "y": [
          8.010912716388702,
          8.419747114181519
         ],
         "yaxis": "y"
        },
        {
         "hovertemplate": "x=%{x}<br>y=%{y}<extra></extra>",
         "line": {
          "color": "#ff8fab",
          "width": 3
         },
         "marker": {
          "color": "#ff8fab",
          "size": 7
         },
         "mode": "lines+markers",
         "showlegend": false,
         "type": "scatter",
         "x": [
          31,
          32
         ],
         "xaxis": "x",
         "y": [
          6.101530432701111,
          6.500063169002533
         ],
         "yaxis": "y"
        },
        {
         "hovertemplate": "x=%{x}<br>y=%{y}<extra></extra>",
         "line": {
          "color": "#ff8fab",
          "width": 3
         },
         "marker": {
          "color": "#ff8fab",
          "size": 7
         },
         "mode": "lines+markers",
         "showlegend": false,
         "type": "scatter",
         "x": [
          27,
          28
         ],
         "xaxis": "x",
         "y": [
          4.920133411884308,
          5.408981311321258
         ],
         "yaxis": "y"
        },
        {
         "hovertemplate": "x=%{x}<br>y=%{y}<extra></extra>",
         "line": {
          "color": "#ff8fab",
          "width": 3
         },
         "marker": {
          "color": "#ff8fab",
          "size": 7
         },
         "mode": "lines+markers",
         "showlegend": false,
         "type": "scatter",
         "x": [
          23,
          24
         ],
         "xaxis": "x",
         "y": [
          3.9409595727920532,
          4.331278669834137
         ],
         "yaxis": "y"
        },
        {
         "hovertemplate": "x=%{x}<br>y=%{y}<extra></extra>",
         "line": {
          "color": "#ff8fab",
          "width": 3
         },
         "marker": {
          "color": "#ff8fab",
          "size": 7
         },
         "mode": "lines+markers",
         "showlegend": false,
         "type": "scatter",
         "x": [
          19,
          20
         ],
         "xaxis": "x",
         "y": [
          2.904731333255768,
          3.360109794139862
         ],
         "yaxis": "y"
        },
        {
         "hovertemplate": "x=%{x}<br>y=%{y}<extra></extra>",
         "line": {
          "color": "#ff8fab",
          "width": 3
         },
         "marker": {
          "color": "#ff8fab",
          "size": 7
         },
         "mode": "lines+markers",
         "showlegend": false,
         "type": "scatter",
         "x": [
          15,
          16
         ],
         "xaxis": "x",
         "y": [
          1.8701753616333008,
          2.24642493724823
         ],
         "yaxis": "y"
        },
        {
         "hovertemplate": "x=%{x}<br>y=%{y}<extra></extra>",
         "line": {
          "color": "#ff8fab",
          "width": 3
         },
         "marker": {
          "color": "#ff8fab",
          "size": 7
         },
         "mode": "lines+markers",
         "showlegend": false,
         "type": "scatter",
         "x": [
          12,
          13
         ],
         "xaxis": "x",
         "y": [
          1.6694384217262268,
          2.093555271625519
         ],
         "yaxis": "y"
        },
        {
         "hovertemplate": "x=%{x}<br>y=%{y}<extra></extra>",
         "line": {
          "color": "#ff8fab",
          "width": 3
         },
         "marker": {
          "color": "#ff8fab",
          "size": 7
         },
         "mode": "lines+markers",
         "showlegend": false,
         "type": "scatter",
         "x": [
          9,
          10
         ],
         "xaxis": "x",
         "y": [
          -0.5931998491287231,
          -0.1925837159156799
         ],
         "yaxis": "y"
        },
        {
         "hovertemplate": "x=%{x}<br>y=%{y}<extra></extra>",
         "line": {
          "color": "#ff8fab",
          "width": 3
         },
         "marker": {
          "color": "#ff8fab",
          "size": 7
         },
         "mode": "lines+markers",
         "showlegend": false,
         "type": "scatter",
         "x": [
          5,
          6
         ],
         "xaxis": "x",
         "y": [
          0.5983546376228333,
          0.9595348000526429
         ],
         "yaxis": "y"
        },
        {
         "hovertemplate": "x=%{x}<br>y=%{y}<extra></extra>",
         "line": {
          "color": "#ff8fab",
          "width": 3
         },
         "marker": {
          "color": "#ff8fab",
          "size": 7
         },
         "mode": "lines+markers",
         "showlegend": false,
         "type": "scatter",
         "x": [
          1,
          2
         ],
         "xaxis": "x",
         "y": [
          0,
          0.3594031214714051
         ],
         "yaxis": "y"
        },
        {
         "hovertemplate": "x=%{x}<br>y=%{y}<extra></extra>",
         "line": {
          "color": "#023e8a",
          "width": 3
         },
         "marker": {
          "color": "#023e8a",
          "size": 7
         },
         "mode": "lines+markers",
         "showlegend": false,
         "type": "scatter",
         "x": [
          54,
          55
         ],
         "xaxis": "x",
         "y": [
          13.518743395805359,
          13.889017343521118
         ],
         "yaxis": "y"
        },
        {
         "hovertemplate": "x=%{x}<br>y=%{y}<extra></extra>",
         "line": {
          "color": "#023e8a",
          "width": 3
         },
         "marker": {
          "color": "#023e8a",
          "size": 7
         },
         "mode": "lines+markers",
         "showlegend": false,
         "type": "scatter",
         "x": [
          53,
          54
         ],
         "xaxis": "x",
         "y": [
          13.227730333805084,
          13.518743395805359
         ],
         "yaxis": "y"
        },
        {
         "hovertemplate": "x=%{x}<br>y=%{y}<extra></extra>",
         "line": {
          "color": "#023e8a",
          "width": 3
         },
         "marker": {
          "color": "#023e8a",
          "size": 7
         },
         "mode": "lines+markers",
         "showlegend": false,
         "type": "scatter",
         "x": [
          52,
          53
         ],
         "xaxis": "x",
         "y": [
          12.827746748924255,
          13.227730333805084
         ],
         "yaxis": "y"
        },
        {
         "hovertemplate": "x=%{x}<br>y=%{y}<extra></extra>",
         "line": {
          "color": "#023e8a",
          "width": 3
         },
         "marker": {
          "color": "#023e8a",
          "size": 7
         },
         "mode": "lines+markers",
         "showlegend": false,
         "type": "scatter",
         "x": [
          51,
          52
         ],
         "xaxis": "x",
         "y": [
          12.478345930576324,
          12.827746748924255
         ],
         "yaxis": "y"
        },
        {
         "hovertemplate": "x=%{x}<br>y=%{y}<extra></extra>",
         "line": {
          "color": "#023e8a",
          "width": 3
         },
         "marker": {
          "color": "#023e8a",
          "size": 7
         },
         "mode": "lines+markers",
         "showlegend": false,
         "type": "scatter",
         "x": [
          50,
          51
         ],
         "xaxis": "x",
         "y": [
          12.018360197544098,
          12.478345930576324
         ],
         "yaxis": "y"
        },
        {
         "hovertemplate": "x=%{x}<br>y=%{y}<extra></extra>",
         "line": {
          "color": "#023e8a",
          "width": 3
         },
         "marker": {
          "color": "#023e8a",
          "size": 7
         },
         "mode": "lines+markers",
         "showlegend": false,
         "type": "scatter",
         "x": [
          49,
          50
         ],
         "xaxis": "x",
         "y": [
          11.561460494995117,
          12.018360197544098
         ],
         "yaxis": "y"
        },
        {
         "hovertemplate": "x=%{x}<br>y=%{y}<extra></extra>",
         "line": {
          "color": "#023e8a",
          "width": 3
         },
         "marker": {
          "color": "#023e8a",
          "size": 7
         },
         "mode": "lines+markers",
         "showlegend": false,
         "type": "scatter",
         "x": [
          48,
          49
         ],
         "xaxis": "x",
         "y": [
          11.175394535064697,
          11.561460494995117
         ],
         "yaxis": "y"
        },
        {
         "hovertemplate": "x=%{x}<br>y=%{y}<extra></extra>",
         "line": {
          "color": "#023e8a",
          "width": 3
         },
         "marker": {
          "color": "#023e8a",
          "size": 7
         },
         "mode": "lines+markers",
         "showlegend": false,
         "type": "scatter",
         "x": [
          47,
          48
         ],
         "xaxis": "x",
         "y": [
          10.734700083732605,
          11.175394535064697
         ],
         "yaxis": "y"
        },
        {
         "hovertemplate": "x=%{x}<br>y=%{y}<extra></extra>",
         "line": {
          "color": "#023e8a",
          "width": 3
         },
         "marker": {
          "color": "#023e8a",
          "size": 7
         },
         "mode": "lines+markers",
         "showlegend": false,
         "type": "scatter",
         "x": [
          45,
          46
         ],
         "xaxis": "x",
         "y": [
          10.09740924835205,
          10.734700083732605
         ],
         "yaxis": "y"
        },
        {
         "hovertemplate": "x=%{x}<br>y=%{y}<extra></extra>",
         "line": {
          "color": "#023e8a",
          "width": 3
         },
         "marker": {
          "color": "#023e8a",
          "size": 7
         },
         "mode": "lines+markers",
         "showlegend": false,
         "type": "scatter",
         "x": [
          44,
          45
         ],
         "xaxis": "x",
         "y": [
          9.44960343837738,
          10.09740924835205
         ],
         "yaxis": "y"
        },
        {
         "hovertemplate": "x=%{x}<br>y=%{y}<extra></extra>",
         "line": {
          "color": "#023e8a",
          "width": 3
         },
         "marker": {
          "color": "#023e8a",
          "size": 7
         },
         "mode": "lines+markers",
         "showlegend": false,
         "type": "scatter",
         "x": [
          39,
          40
         ],
         "xaxis": "x",
         "y": [
          10.150608539581299,
          11.037261843681335
         ],
         "yaxis": "y"
        },
        {
         "hovertemplate": "x=%{x}<br>y=%{y}<extra></extra>",
         "line": {
          "color": "#023e8a",
          "width": 3
         },
         "marker": {
          "color": "#023e8a",
          "size": 7
         },
         "mode": "lines+markers",
         "showlegend": false,
         "type": "scatter",
         "x": [
          38,
          39
         ],
         "xaxis": "x",
         "y": [
          9.713129758834839,
          10.150608539581299
         ],
         "yaxis": "y"
        },
        {
         "hovertemplate": "x=%{x}<br>y=%{y}<extra></extra>",
         "line": {
          "color": "#023e8a",
          "width": 3
         },
         "marker": {
          "color": "#023e8a",
          "size": 7
         },
         "mode": "lines+markers",
         "showlegend": false,
         "type": "scatter",
         "x": [
          35,
          36
         ],
         "xaxis": "x",
         "y": [
          7.546870112419128,
          8.010912716388702
         ],
         "yaxis": "y"
        },
        {
         "hovertemplate": "x=%{x}<br>y=%{y}<extra></extra>",
         "line": {
          "color": "#023e8a",
          "width": 3
         },
         "marker": {
          "color": "#023e8a",
          "size": 7
         },
         "mode": "lines+markers",
         "showlegend": false,
         "type": "scatter",
         "x": [
          34,
          35
         ],
         "xaxis": "x",
         "y": [
          7.0861776471138,
          7.546870112419128
         ],
         "yaxis": "y"
        },
        {
         "hovertemplate": "x=%{x}<br>y=%{y}<extra></extra>",
         "line": {
          "color": "#023e8a",
          "width": 3
         },
         "marker": {
          "color": "#023e8a",
          "size": 7
         },
         "mode": "lines+markers",
         "showlegend": false,
         "type": "scatter",
         "x": [
          33,
          34
         ],
         "xaxis": "x",
         "y": [
          6.629636287689209,
          7.0861776471138
         ],
         "yaxis": "y"
        },
        {
         "hovertemplate": "x=%{x}<br>y=%{y}<extra></extra>",
         "line": {
          "color": "#023e8a",
          "width": 3
         },
         "marker": {
          "color": "#023e8a",
          "size": 7
         },
         "mode": "lines+markers",
         "showlegend": false,
         "type": "scatter",
         "x": [
          30,
          31
         ],
         "xaxis": "x",
         "y": [
          5.712402582168579,
          6.101530432701111
         ],
         "yaxis": "y"
        },
        {
         "hovertemplate": "x=%{x}<br>y=%{y}<extra></extra>",
         "line": {
          "color": "#023e8a",
          "width": 3
         },
         "marker": {
          "color": "#023e8a",
          "size": 7
         },
         "mode": "lines+markers",
         "showlegend": false,
         "type": "scatter",
         "x": [
          29,
          30
         ],
         "xaxis": "x",
         "y": [
          5.29821240901947,
          5.712402582168579
         ],
         "yaxis": "y"
        },
        {
         "hovertemplate": "x=%{x}<br>y=%{y}<extra></extra>",
         "line": {
          "color": "#023e8a",
          "width": 3
         },
         "marker": {
          "color": "#023e8a",
          "size": 7
         },
         "mode": "lines+markers",
         "showlegend": false,
         "type": "scatter",
         "x": [
          26,
          27
         ],
         "xaxis": "x",
         "y": [
          4.494895040988922,
          4.920133411884308
         ],
         "yaxis": "y"
        },
        {
         "hovertemplate": "x=%{x}<br>y=%{y}<extra></extra>",
         "line": {
          "color": "#023e8a",
          "width": 3
         },
         "marker": {
          "color": "#023e8a",
          "size": 7
         },
         "mode": "lines+markers",
         "showlegend": false,
         "type": "scatter",
         "x": [
          25,
          26
         ],
         "xaxis": "x",
         "y": [
          4.272970020771027,
          4.494895040988922
         ],
         "yaxis": "y"
        },
        {
         "hovertemplate": "x=%{x}<br>y=%{y}<extra></extra>",
         "line": {
          "color": "#023e8a",
          "width": 3
         },
         "marker": {
          "color": "#023e8a",
          "size": 7
         },
         "mode": "lines+markers",
         "showlegend": false,
         "type": "scatter",
         "x": [
          22,
          23
         ],
         "xaxis": "x",
         "y": [
          3.6258073449134827,
          3.9409595727920532
         ],
         "yaxis": "y"
        },
        {
         "hovertemplate": "x=%{x}<br>y=%{y}<extra></extra>",
         "line": {
          "color": "#023e8a",
          "width": 3
         },
         "marker": {
          "color": "#023e8a",
          "size": 7
         },
         "mode": "lines+markers",
         "showlegend": false,
         "type": "scatter",
         "x": [
          21,
          22
         ],
         "xaxis": "x",
         "y": [
          3.2080482840538025,
          3.6258073449134827
         ],
         "yaxis": "y"
        },
        {
         "hovertemplate": "x=%{x}<br>y=%{y}<extra></extra>",
         "line": {
          "color": "#023e8a",
          "width": 3
         },
         "marker": {
          "color": "#023e8a",
          "size": 7
         },
         "mode": "lines+markers",
         "showlegend": false,
         "type": "scatter",
         "x": [
          18,
          19
         ],
         "xaxis": "x",
         "y": [
          2.4751375317573547,
          2.904731333255768
         ],
         "yaxis": "y"
        },
        {
         "hovertemplate": "x=%{x}<br>y=%{y}<extra></extra>",
         "line": {
          "color": "#023e8a",
          "width": 3
         },
         "marker": {
          "color": "#023e8a",
          "size": 7
         },
         "mode": "lines+markers",
         "showlegend": false,
         "type": "scatter",
         "x": [
          17,
          18
         ],
         "xaxis": "x",
         "y": [
          2.1950547099113464,
          2.4751375317573547
         ],
         "yaxis": "y"
        },
        {
         "hovertemplate": "x=%{x}<br>y=%{y}<extra></extra>",
         "line": {
          "color": "#023e8a",
          "width": 3
         },
         "marker": {
          "color": "#023e8a",
          "size": 7
         },
         "mode": "lines+markers",
         "showlegend": false,
         "type": "scatter",
         "x": [
          14,
          15
         ],
         "xaxis": "x",
         "y": [
          1.4853786826133728,
          1.8701753616333008
         ],
         "yaxis": "y"
        },
        {
         "hovertemplate": "x=%{x}<br>y=%{y}<extra></extra>",
         "line": {
          "color": "#023e8a",
          "width": 3
         },
         "marker": {
          "color": "#023e8a",
          "size": 7
         },
         "mode": "lines+markers",
         "showlegend": false,
         "type": "scatter",
         "x": [
          7,
          8
         ],
         "xaxis": "x",
         "y": [
          0.4705108404159546,
          0.7619868516921997
         ],
         "yaxis": "y"
        },
        {
         "hovertemplate": "x=%{x}<br>y=%{y}<extra></extra>",
         "line": {
          "color": "#023e8a",
          "width": 3
         },
         "marker": {
          "color": "#023e8a",
          "size": 7
         },
         "mode": "lines+markers",
         "showlegend": false,
         "type": "scatter",
         "x": [
          4,
          5
         ],
         "xaxis": "x",
         "y": [
          0.1790350079536438,
          0.5983546376228333
         ],
         "yaxis": "y"
        },
        {
         "hovertemplate": "x=%{x}<br>y=%{y}<extra></extra>",
         "line": {
          "color": "#023e8a",
          "width": 3
         },
         "marker": {
          "color": "#023e8a",
          "size": 7
         },
         "mode": "lines+markers",
         "showlegend": false,
         "type": "scatter",
         "x": [
          3,
          4
         ],
         "xaxis": "x",
         "y": [
          -0.04485058784484863,
          0.1790350079536438
         ],
         "yaxis": "y"
        },
        {
         "hovertemplate": "x=%{x}<br>y=%{y}<extra></extra>",
         "line": {
          "color": "#023e8a",
          "width": 3
         },
         "marker": {
          "color": "#023e8a",
          "size": 7
         },
         "mode": "lines+markers",
         "showlegend": false,
         "type": "scatter",
         "x": [
          0,
          1
         ],
         "xaxis": "x",
         "y": [
          0,
          0.26873666048049927
         ],
         "yaxis": "y"
        },
        {
         "hovertemplate": "x=%{x}<br>y=%{y}<extra></extra>",
         "line": {
          "color": "#c1121f",
          "width": 3
         },
         "marker": {
          "color": "#c1121f",
          "size": 7
         },
         "mode": "lines+markers",
         "showlegend": false,
         "type": "scatter",
         "x": [
          37,
          38
         ],
         "xaxis": "x",
         "y": [
          8.010912716388702,
          9.713129758834839
         ],
         "yaxis": "y"
        },
        {
         "hovertemplate": "x=%{x}<br>y=%{y}<extra></extra>",
         "line": {
          "color": "#c1121f",
          "width": 3
         },
         "marker": {
          "color": "#c1121f",
          "size": 7
         },
         "mode": "lines+markers",
         "showlegend": false,
         "type": "scatter",
         "x": [
          32,
          33
         ],
         "xaxis": "x",
         "y": [
          6.101530432701111,
          6.629636287689209
         ],
         "yaxis": "y"
        },
        {
         "hovertemplate": "x=%{x}<br>y=%{y}<extra></extra>",
         "line": {
          "color": "#c1121f",
          "width": 3
         },
         "marker": {
          "color": "#c1121f",
          "size": 7
         },
         "mode": "lines+markers",
         "showlegend": false,
         "type": "scatter",
         "x": [
          28,
          29
         ],
         "xaxis": "x",
         "y": [
          4.920133411884308,
          5.29821240901947
         ],
         "yaxis": "y"
        },
        {
         "hovertemplate": "x=%{x}<br>y=%{y}<extra></extra>",
         "line": {
          "color": "#c1121f",
          "width": 3
         },
         "marker": {
          "color": "#c1121f",
          "size": 7
         },
         "mode": "lines+markers",
         "showlegend": false,
         "type": "scatter",
         "x": [
          24,
          25
         ],
         "xaxis": "x",
         "y": [
          3.9409595727920532,
          4.272970020771027
         ],
         "yaxis": "y"
        },
        {
         "hovertemplate": "x=%{x}<br>y=%{y}<extra></extra>",
         "line": {
          "color": "#c1121f",
          "width": 3
         },
         "marker": {
          "color": "#c1121f",
          "size": 7
         },
         "mode": "lines+markers",
         "showlegend": false,
         "type": "scatter",
         "x": [
          20,
          21
         ],
         "xaxis": "x",
         "y": [
          2.904731333255768,
          3.2080482840538025
         ],
         "yaxis": "y"
        },
        {
         "hovertemplate": "x=%{x}<br>y=%{y}<extra></extra>",
         "line": {
          "color": "#c1121f",
          "width": 3
         },
         "marker": {
          "color": "#c1121f",
          "size": 7
         },
         "mode": "lines+markers",
         "showlegend": false,
         "type": "scatter",
         "x": [
          16,
          17
         ],
         "xaxis": "x",
         "y": [
          1.8701753616333008,
          2.1950547099113464
         ],
         "yaxis": "y"
        },
        {
         "hovertemplate": "x=%{x}<br>y=%{y}<extra></extra>",
         "line": {
          "color": "#c1121f",
          "width": 3
         },
         "marker": {
          "color": "#c1121f",
          "size": 7
         },
         "mode": "lines+markers",
         "showlegend": false,
         "type": "scatter",
         "x": [
          13,
          14
         ],
         "xaxis": "x",
         "y": [
          1.0524750351905823,
          1.4853786826133728
         ],
         "yaxis": "y"
        },
        {
         "hovertemplate": "x=%{x}<br>y=%{y}<extra></extra>",
         "line": {
          "color": "#c1121f",
          "width": 3
         },
         "marker": {
          "color": "#c1121f",
          "size": 7
         },
         "mode": "lines+markers",
         "showlegend": false,
         "type": "scatter",
         "x": [
          10,
          11
         ],
         "xaxis": "x",
         "y": [
          0.7619868516921997,
          1.0524750351905823
         ],
         "yaxis": "y"
        },
        {
         "hovertemplate": "x=%{x}<br>y=%{y}<extra></extra>",
         "line": {
          "color": "#c1121f",
          "width": 3
         },
         "marker": {
          "color": "#c1121f",
          "size": 7
         },
         "mode": "lines+markers",
         "showlegend": false,
         "type": "scatter",
         "x": [
          6,
          7
         ],
         "xaxis": "x",
         "y": [
          0.5983546376228333,
          0.4705108404159546
         ],
         "yaxis": "y"
        },
        {
         "hovertemplate": "x=%{x}<br>y=%{y}<extra></extra>",
         "line": {
          "color": "#c1121f",
          "width": 3
         },
         "marker": {
          "color": "#c1121f",
          "size": 7
         },
         "mode": "lines+markers",
         "showlegend": false,
         "type": "scatter",
         "x": [
          2,
          3
         ],
         "xaxis": "x",
         "y": [
          0,
          -0.04485058784484863
         ],
         "yaxis": "y"
        },
        {
         "hovertemplate": "x=%{x}<br>y=%{y}<extra></extra>",
         "line": {
          "color": "#9d4edd",
          "width": 3
         },
         "marker": {
          "color": "#9d4edd",
          "size": 7
         },
         "mode": "lines+markers",
         "showlegend": false,
         "type": "scatter",
         "x": [
          43,
          44
         ],
         "xaxis": "x",
         "y": [
          9.43775349855423,
          9.44960343837738
         ],
         "yaxis": "y"
        },
        {
         "hovertemplate": "x=%{x}<br>y=%{y}<extra></extra>",
         "line": {
          "color": "#9d4edd",
          "width": 3
         },
         "marker": {
          "color": "#9d4edd",
          "size": 7
         },
         "mode": "lines+markers",
         "showlegend": false,
         "type": "scatter",
         "x": [
          40,
          41
         ],
         "xaxis": "x",
         "y": [
          11.037261843681335,
          9.43775349855423
         ],
         "yaxis": "y"
        },
        {
         "line": {
          "color": "#64B5F6",
          "width": 2
         },
         "mode": "lines",
         "name": "human_insert_backstage",
         "showlegend": true,
         "type": "scatter",
         "x": [
          null
         ],
         "xaxis": "x",
         "y": [
          null
         ],
         "yaxis": "y"
        },
        {
         "line": {
          "color": "#ff8fab",
          "width": 2
         },
         "mode": "lines",
         "name": "ai_suggest_backstage",
         "showlegend": true,
         "type": "scatter",
         "x": [
          null
         ],
         "xaxis": "x",
         "y": [
          null
         ],
         "yaxis": "y"
        },
        {
         "line": {
          "color": "#023e8a",
          "width": 2
         },
         "mode": "lines",
         "name": "human_insert_frontstage",
         "showlegend": true,
         "type": "scatter",
         "x": [
          null
         ],
         "xaxis": "x",
         "y": [
          null
         ],
         "yaxis": "y"
        },
        {
         "line": {
          "color": "#c1121f",
          "width": 2
         },
         "mode": "lines",
         "name": "ai_insert_moved_to_frontstage",
         "showlegend": true,
         "type": "scatter",
         "x": [
          null
         ],
         "xaxis": "x",
         "y": [
          null
         ],
         "yaxis": "y"
        },
        {
         "line": {
          "color": "#9d4edd",
          "width": 2
         },
         "mode": "lines",
         "name": "human_delete_frontstage",
         "showlegend": true,
         "type": "scatter",
         "x": [
          null
         ],
         "xaxis": "x",
         "y": [
          null
         ],
         "yaxis": "y"
        },
        {
         "line": {
          "color": "#5a189a",
          "width": 2
         },
         "mode": "lines",
         "name": "human_insert_edit_frontstage",
         "showlegend": true,
         "type": "scatter",
         "x": [
          null
         ],
         "xaxis": "x",
         "y": [
          null
         ],
         "yaxis": "y"
        }
       ],
       "layout": {
        "annotations": [
         {
          "font": {
           "size": 16
          },
          "showarrow": false,
          "text": "Session: legislation_antitrust_6",
          "x": 0.5,
          "xanchor": "center",
          "xref": "paper",
          "y": 1,
          "yanchor": "bottom",
          "yref": "paper"
         }
        ],
        "height": 500,
        "legend": {
         "title": {
          "font": {
           "color": "rgba(0, 0, 0, 0)"
          }
         }
        },
        "plot_bgcolor": "white",
        "showlegend": true,
        "template": {
         "data": {
          "bar": [
           {
            "error_x": {
             "color": "#2a3f5f"
            },
            "error_y": {
             "color": "#2a3f5f"
            },
            "marker": {
             "line": {
              "color": "#E5ECF6",
              "width": 0.5
             },
             "pattern": {
              "fillmode": "overlay",
              "size": 10,
              "solidity": 0.2
             }
            },
            "type": "bar"
           }
          ],
          "barpolar": [
           {
            "marker": {
             "line": {
              "color": "#E5ECF6",
              "width": 0.5
             },
             "pattern": {
              "fillmode": "overlay",
              "size": 10,
              "solidity": 0.2
             }
            },
            "type": "barpolar"
           }
          ],
          "carpet": [
           {
            "aaxis": {
             "endlinecolor": "#2a3f5f",
             "gridcolor": "white",
             "linecolor": "white",
             "minorgridcolor": "white",
             "startlinecolor": "#2a3f5f"
            },
            "baxis": {
             "endlinecolor": "#2a3f5f",
             "gridcolor": "white",
             "linecolor": "white",
             "minorgridcolor": "white",
             "startlinecolor": "#2a3f5f"
            },
            "type": "carpet"
           }
          ],
          "choropleth": [
           {
            "colorbar": {
             "outlinewidth": 0,
             "ticks": ""
            },
            "type": "choropleth"
           }
          ],
          "contour": [
           {
            "colorbar": {
             "outlinewidth": 0,
             "ticks": ""
            },
            "colorscale": [
             [
              0,
              "#0d0887"
             ],
             [
              0.1111111111111111,
              "#46039f"
             ],
             [
              0.2222222222222222,
              "#7201a8"
             ],
             [
              0.3333333333333333,
              "#9c179e"
             ],
             [
              0.4444444444444444,
              "#bd3786"
             ],
             [
              0.5555555555555556,
              "#d8576b"
             ],
             [
              0.6666666666666666,
              "#ed7953"
             ],
             [
              0.7777777777777778,
              "#fb9f3a"
             ],
             [
              0.8888888888888888,
              "#fdca26"
             ],
             [
              1,
              "#f0f921"
             ]
            ],
            "type": "contour"
           }
          ],
          "contourcarpet": [
           {
            "colorbar": {
             "outlinewidth": 0,
             "ticks": ""
            },
            "type": "contourcarpet"
           }
          ],
          "heatmap": [
           {
            "colorbar": {
             "outlinewidth": 0,
             "ticks": ""
            },
            "colorscale": [
             [
              0,
              "#0d0887"
             ],
             [
              0.1111111111111111,
              "#46039f"
             ],
             [
              0.2222222222222222,
              "#7201a8"
             ],
             [
              0.3333333333333333,
              "#9c179e"
             ],
             [
              0.4444444444444444,
              "#bd3786"
             ],
             [
              0.5555555555555556,
              "#d8576b"
             ],
             [
              0.6666666666666666,
              "#ed7953"
             ],
             [
              0.7777777777777778,
              "#fb9f3a"
             ],
             [
              0.8888888888888888,
              "#fdca26"
             ],
             [
              1,
              "#f0f921"
             ]
            ],
            "type": "heatmap"
           }
          ],
          "histogram": [
           {
            "marker": {
             "pattern": {
              "fillmode": "overlay",
              "size": 10,
              "solidity": 0.2
             }
            },
            "type": "histogram"
           }
          ],
          "histogram2d": [
           {
            "colorbar": {
             "outlinewidth": 0,
             "ticks": ""
            },
            "colorscale": [
             [
              0,
              "#0d0887"
             ],
             [
              0.1111111111111111,
              "#46039f"
             ],
             [
              0.2222222222222222,
              "#7201a8"
             ],
             [
              0.3333333333333333,
              "#9c179e"
             ],
             [
              0.4444444444444444,
              "#bd3786"
             ],
             [
              0.5555555555555556,
              "#d8576b"
             ],
             [
              0.6666666666666666,
              "#ed7953"
             ],
             [
              0.7777777777777778,
              "#fb9f3a"
             ],
             [
              0.8888888888888888,
              "#fdca26"
             ],
             [
              1,
              "#f0f921"
             ]
            ],
            "type": "histogram2d"
           }
          ],
          "histogram2dcontour": [
           {
            "colorbar": {
             "outlinewidth": 0,
             "ticks": ""
            },
            "colorscale": [
             [
              0,
              "#0d0887"
             ],
             [
              0.1111111111111111,
              "#46039f"
             ],
             [
              0.2222222222222222,
              "#7201a8"
             ],
             [
              0.3333333333333333,
              "#9c179e"
             ],
             [
              0.4444444444444444,
              "#bd3786"
             ],
             [
              0.5555555555555556,
              "#d8576b"
             ],
             [
              0.6666666666666666,
              "#ed7953"
             ],
             [
              0.7777777777777778,
              "#fb9f3a"
             ],
             [
              0.8888888888888888,
              "#fdca26"
             ],
             [
              1,
              "#f0f921"
             ]
            ],
            "type": "histogram2dcontour"
           }
          ],
          "mesh3d": [
           {
            "colorbar": {
             "outlinewidth": 0,
             "ticks": ""
            },
            "type": "mesh3d"
           }
          ],
          "parcoords": [
           {
            "line": {
             "colorbar": {
              "outlinewidth": 0,
              "ticks": ""
             }
            },
            "type": "parcoords"
           }
          ],
          "pie": [
           {
            "automargin": true,
            "type": "pie"
           }
          ],
          "scatter": [
           {
            "fillpattern": {
             "fillmode": "overlay",
             "size": 10,
             "solidity": 0.2
            },
            "type": "scatter"
           }
          ],
          "scatter3d": [
           {
            "line": {
             "colorbar": {
              "outlinewidth": 0,
              "ticks": ""
             }
            },
            "marker": {
             "colorbar": {
              "outlinewidth": 0,
              "ticks": ""
             }
            },
            "type": "scatter3d"
           }
          ],
          "scattercarpet": [
           {
            "marker": {
             "colorbar": {
              "outlinewidth": 0,
              "ticks": ""
             }
            },
            "type": "scattercarpet"
           }
          ],
          "scattergeo": [
           {
            "marker": {
             "colorbar": {
              "outlinewidth": 0,
              "ticks": ""
             }
            },
            "type": "scattergeo"
           }
          ],
          "scattergl": [
           {
            "marker": {
             "colorbar": {
              "outlinewidth": 0,
              "ticks": ""
             }
            },
            "type": "scattergl"
           }
          ],
          "scattermap": [
           {
            "marker": {
             "colorbar": {
              "outlinewidth": 0,
              "ticks": ""
             }
            },
            "type": "scattermap"
           }
          ],
          "scattermapbox": [
           {
            "marker": {
             "colorbar": {
              "outlinewidth": 0,
              "ticks": ""
             }
            },
            "type": "scattermapbox"
           }
          ],
          "scatterpolar": [
           {
            "marker": {
             "colorbar": {
              "outlinewidth": 0,
              "ticks": ""
             }
            },
            "type": "scatterpolar"
           }
          ],
          "scatterpolargl": [
           {
            "marker": {
             "colorbar": {
              "outlinewidth": 0,
              "ticks": ""
             }
            },
            "type": "scatterpolargl"
           }
          ],
          "scatterternary": [
           {
            "marker": {
             "colorbar": {
              "outlinewidth": 0,
              "ticks": ""
             }
            },
            "type": "scatterternary"
           }
          ],
          "surface": [
           {
            "colorbar": {
             "outlinewidth": 0,
             "ticks": ""
            },
            "colorscale": [
             [
              0,
              "#0d0887"
             ],
             [
              0.1111111111111111,
              "#46039f"
             ],
             [
              0.2222222222222222,
              "#7201a8"
             ],
             [
              0.3333333333333333,
              "#9c179e"
             ],
             [
              0.4444444444444444,
              "#bd3786"
             ],
             [
              0.5555555555555556,
              "#d8576b"
             ],
             [
              0.6666666666666666,
              "#ed7953"
             ],
             [
              0.7777777777777778,
              "#fb9f3a"
             ],
             [
              0.8888888888888888,
              "#fdca26"
             ],
             [
              1,
              "#f0f921"
             ]
            ],
            "type": "surface"
           }
          ],
          "table": [
           {
            "cells": {
             "fill": {
              "color": "#EBF0F8"
             },
             "line": {
              "color": "white"
             }
            },
            "header": {
             "fill": {
              "color": "#C8D4E3"
             },
             "line": {
              "color": "white"
             }
            },
            "type": "table"
           }
          ]
         },
         "layout": {
          "annotationdefaults": {
           "arrowcolor": "#2a3f5f",
           "arrowhead": 0,
           "arrowwidth": 1
          },
          "autotypenumbers": "strict",
          "coloraxis": {
           "colorbar": {
            "outlinewidth": 0,
            "ticks": ""
           }
          },
          "colorscale": {
           "diverging": [
            [
             0,
             "#8e0152"
            ],
            [
             0.1,
             "#c51b7d"
            ],
            [
             0.2,
             "#de77ae"
            ],
            [
             0.3,
             "#f1b6da"
            ],
            [
             0.4,
             "#fde0ef"
            ],
            [
             0.5,
             "#f7f7f7"
            ],
            [
             0.6,
             "#e6f5d0"
            ],
            [
             0.7,
             "#b8e186"
            ],
            [
             0.8,
             "#7fbc41"
            ],
            [
             0.9,
             "#4d9221"
            ],
            [
             1,
             "#276419"
            ]
           ],
           "sequential": [
            [
             0,
             "#0d0887"
            ],
            [
             0.1111111111111111,
             "#46039f"
            ],
            [
             0.2222222222222222,
             "#7201a8"
            ],
            [
             0.3333333333333333,
             "#9c179e"
            ],
            [
             0.4444444444444444,
             "#bd3786"
            ],
            [
             0.5555555555555556,
             "#d8576b"
            ],
            [
             0.6666666666666666,
             "#ed7953"
            ],
            [
             0.7777777777777778,
             "#fb9f3a"
            ],
            [
             0.8888888888888888,
             "#fdca26"
            ],
            [
             1,
             "#f0f921"
            ]
           ],
           "sequentialminus": [
            [
             0,
             "#0d0887"
            ],
            [
             0.1111111111111111,
             "#46039f"
            ],
            [
             0.2222222222222222,
             "#7201a8"
            ],
            [
             0.3333333333333333,
             "#9c179e"
            ],
            [
             0.4444444444444444,
             "#bd3786"
            ],
            [
             0.5555555555555556,
             "#d8576b"
            ],
            [
             0.6666666666666666,
             "#ed7953"
            ],
            [
             0.7777777777777778,
             "#fb9f3a"
            ],
            [
             0.8888888888888888,
             "#fdca26"
            ],
            [
             1,
             "#f0f921"
            ]
           ]
          },
          "colorway": [
           "#636efa",
           "#EF553B",
           "#00cc96",
           "#ab63fa",
           "#FFA15A",
           "#19d3f3",
           "#FF6692",
           "#B6E880",
           "#FF97FF",
           "#FECB52"
          ],
          "font": {
           "color": "#2a3f5f"
          },
          "geo": {
           "bgcolor": "white",
           "lakecolor": "white",
           "landcolor": "#E5ECF6",
           "showlakes": true,
           "showland": true,
           "subunitcolor": "white"
          },
          "hoverlabel": {
           "align": "left"
          },
          "hovermode": "closest",
          "mapbox": {
           "style": "light"
          },
          "paper_bgcolor": "white",
          "plot_bgcolor": "#E5ECF6",
          "polar": {
           "angularaxis": {
            "gridcolor": "white",
            "linecolor": "white",
            "ticks": ""
           },
           "bgcolor": "#E5ECF6",
           "radialaxis": {
            "gridcolor": "white",
            "linecolor": "white",
            "ticks": ""
           }
          },
          "scene": {
           "xaxis": {
            "backgroundcolor": "#E5ECF6",
            "gridcolor": "white",
            "gridwidth": 2,
            "linecolor": "white",
            "showbackground": true,
            "ticks": "",
            "zerolinecolor": "white"
           },
           "yaxis": {
            "backgroundcolor": "#E5ECF6",
            "gridcolor": "white",
            "gridwidth": 2,
            "linecolor": "white",
            "showbackground": true,
            "ticks": "",
            "zerolinecolor": "white"
           },
           "zaxis": {
            "backgroundcolor": "#E5ECF6",
            "gridcolor": "white",
            "gridwidth": 2,
            "linecolor": "white",
            "showbackground": true,
            "ticks": "",
            "zerolinecolor": "white"
           }
          },
          "shapedefaults": {
           "line": {
            "color": "#2a3f5f"
           }
          },
          "ternary": {
           "aaxis": {
            "gridcolor": "white",
            "linecolor": "white",
            "ticks": ""
           },
           "baxis": {
            "gridcolor": "white",
            "linecolor": "white",
            "ticks": ""
           },
           "bgcolor": "#E5ECF6",
           "caxis": {
            "gridcolor": "white",
            "linecolor": "white",
            "ticks": ""
           }
          },
          "title": {
           "x": 0.05
          },
          "xaxis": {
           "automargin": true,
           "gridcolor": "white",
           "linecolor": "white",
           "ticks": "",
           "title": {
            "standoff": 15
           },
           "zerolinecolor": "white",
           "zerolinewidth": 2
          },
          "yaxis": {
           "automargin": true,
           "gridcolor": "white",
           "linecolor": "white",
           "ticks": "",
           "title": {
            "standoff": 15
           },
           "zerolinecolor": "white",
           "zerolinewidth": 2
          }
         }
        },
        "title": {
         "text": "Semantic Expansion over Writing Sessions<br><span style=\"font-size: 12px;\">*Measuring how well humans are learning while writing with GenAI</span>"
        },
        "width": 1800,
        "xaxis": {
         "anchor": "y",
         "domain": [
          0,
          1
         ],
         "gridcolor": "white",
         "linecolor": "black",
         "mirror": false,
         "range": [
          -1,
          56
         ],
         "showline": true,
         "ticks": "outside",
         "title": {
          "text": "Progress into the writing session"
         }
        },
        "yaxis": {
         "anchor": "x",
         "domain": [
          0,
          1
         ],
         "gridcolor": "white",
         "linecolor": "black",
         "mirror": false,
         "showline": true,
         "ticks": "outside",
         "title": {
          "text": "Scores"
         }
        }
       }
      }
     },
     "metadata": {},
     "output_type": "display_data"
    },
    {
     "name": "stdout",
     "output_type": "stream",
     "text": [
      "legislation_antitrust_7\n"
     ]
    },
    {
     "data": {
      "application/vnd.plotly.v1+json": {
       "config": {
        "plotlyServerURL": "https://plot.ly"
       },
       "data": [
        {
         "hovertemplate": "x=%{x}<br>y=%{y}<extra></extra>",
         "line": {
          "color": "#64B5F6",
          "width": 3
         },
         "marker": {
          "color": "#64B5F6",
          "size": 7
         },
         "mode": "lines+markers",
         "showlegend": false,
         "type": "scatter",
         "x": [
          75,
          76
         ],
         "xaxis": "x",
         "y": [
          13.50219910144806,
          13.829150247573853
         ],
         "yaxis": "y"
        },
        {
         "hovertemplate": "x=%{x}<br>y=%{y}<extra></extra>",
         "line": {
          "color": "#64B5F6",
          "width": 3
         },
         "marker": {
          "color": "#64B5F6",
          "size": 7
         },
         "mode": "lines+markers",
         "showlegend": false,
         "type": "scatter",
         "x": [
          73,
          74
         ],
         "xaxis": "x",
         "y": [
          12.454150557518005,
          12.781101703643799
         ],
         "yaxis": "y"
        },
        {
         "hovertemplate": "x=%{x}<br>y=%{y}<extra></extra>",
         "line": {
          "color": "#64B5F6",
          "width": 3
         },
         "marker": {
          "color": "#64B5F6",
          "size": 7
         },
         "mode": "lines+markers",
         "showlegend": false,
         "type": "scatter",
         "x": [
          69,
          70
         ],
         "xaxis": "x",
         "y": [
          11.868550479412079,
          8.962966740131378
         ],
         "yaxis": "y"
        },
        {
         "hovertemplate": "x=%{x}<br>y=%{y}<extra></extra>",
         "line": {
          "color": "#64B5F6",
          "width": 3
         },
         "marker": {
          "color": "#64B5F6",
          "size": 7
         },
         "mode": "lines+markers",
         "showlegend": false,
         "type": "scatter",
         "x": [
          61,
          62
         ],
         "xaxis": "x",
         "y": [
          3.579184150695801,
          4.370515084266662
         ],
         "yaxis": "y"
        },
        {
         "hovertemplate": "x=%{x}<br>y=%{y}<extra></extra>",
         "line": {
          "color": "#64B5F6",
          "width": 3
         },
         "marker": {
          "color": "#64B5F6",
          "size": 7
         },
         "mode": "lines+markers",
         "showlegend": false,
         "type": "scatter",
         "x": [
          59,
          60
         ],
         "xaxis": "x",
         "y": [
          2.702624261379242,
          3.246833384037018
         ],
         "yaxis": "y"
        },
        {
         "hovertemplate": "x=%{x}<br>y=%{y}<extra></extra>",
         "line": {
          "color": "#64B5F6",
          "width": 3
         },
         "marker": {
          "color": "#64B5F6",
          "size": 7
         },
         "mode": "lines+markers",
         "showlegend": false,
         "type": "scatter",
         "x": [
          53,
          54
         ],
         "xaxis": "x",
         "y": [
          1.4694432020187378,
          2.0884779691696167
         ],
         "yaxis": "y"
        },
        {
         "hovertemplate": "x=%{x}<br>y=%{y}<extra></extra>",
         "line": {
          "color": "#64B5F6",
          "width": 3
         },
         "marker": {
          "color": "#64B5F6",
          "size": 7
         },
         "mode": "lines+markers",
         "showlegend": false,
         "type": "scatter",
         "x": [
          50,
          51
         ],
         "xaxis": "x",
         "y": [
          1.1253145933151245,
          1.7305721044540405
         ],
         "yaxis": "y"
        },
        {
         "hovertemplate": "x=%{x}<br>y=%{y}<extra></extra>",
         "line": {
          "color": "#64B5F6",
          "width": 3
         },
         "marker": {
          "color": "#64B5F6",
          "size": 7
         },
         "mode": "lines+markers",
         "showlegend": false,
         "type": "scatter",
         "x": [
          47,
          48
         ],
         "xaxis": "x",
         "y": [
          0.5434914231300354,
          1.1729240417480469
         ],
         "yaxis": "y"
        },
        {
         "hovertemplate": "x=%{x}<br>y=%{y}<extra></extra>",
         "line": {
          "color": "#64B5F6",
          "width": 3
         },
         "marker": {
          "color": "#64B5F6",
          "size": 7
         },
         "mode": "lines+markers",
         "showlegend": false,
         "type": "scatter",
         "x": [
          42,
          43
         ],
         "xaxis": "x",
         "y": [
          23.4608632683754,
          24.210506236553197
         ],
         "yaxis": "y"
        },
        {
         "hovertemplate": "x=%{x}<br>y=%{y}<extra></extra>",
         "line": {
          "color": "#64B5F6",
          "width": 3
         },
         "marker": {
          "color": "#64B5F6",
          "size": 7
         },
         "mode": "lines+markers",
         "showlegend": false,
         "type": "scatter",
         "x": [
          40,
          41
         ],
         "xaxis": "x",
         "y": [
          22.896586823463444,
          23.144948530197148
         ],
         "yaxis": "y"
        },
        {
         "hovertemplate": "x=%{x}<br>y=%{y}<extra></extra>",
         "line": {
          "color": "#64B5F6",
          "width": 3
         },
         "marker": {
          "color": "#64B5F6",
          "size": 7
         },
         "mode": "lines+markers",
         "showlegend": false,
         "type": "scatter",
         "x": [
          38,
          39
         ],
         "xaxis": "x",
         "y": [
          21.386376559734348,
          22.15486425161362
         ],
         "yaxis": "y"
        },
        {
         "hovertemplate": "x=%{x}<br>y=%{y}<extra></extra>",
         "line": {
          "color": "#64B5F6",
          "width": 3
         },
         "marker": {
          "color": "#64B5F6",
          "size": 7
         },
         "mode": "lines+markers",
         "showlegend": false,
         "type": "scatter",
         "x": [
          36,
          37
         ],
         "xaxis": "x",
         "y": [
          20.10808919668198,
          20.69935559034348
         ],
         "yaxis": "y"
        },
        {
         "hovertemplate": "x=%{x}<br>y=%{y}<extra></extra>",
         "line": {
          "color": "#64B5F6",
          "width": 3
         },
         "marker": {
          "color": "#64B5F6",
          "size": 7
         },
         "mode": "lines+markers",
         "showlegend": false,
         "type": "scatter",
         "x": [
          34,
          35
         ],
         "xaxis": "x",
         "y": [
          19.299398314952853,
          19.6919570684433
         ],
         "yaxis": "y"
        },
        {
         "hovertemplate": "x=%{x}<br>y=%{y}<extra></extra>",
         "line": {
          "color": "#64B5F6",
          "width": 3
         },
         "marker": {
          "color": "#64B5F6",
          "size": 7
         },
         "mode": "lines+markers",
         "showlegend": false,
         "type": "scatter",
         "x": [
          32,
          33
         ],
         "xaxis": "x",
         "y": [
          18.034433150291445,
          18.786424064636233
         ],
         "yaxis": "y"
        },
        {
         "hovertemplate": "x=%{x}<br>y=%{y}<extra></extra>",
         "line": {
          "color": "#64B5F6",
          "width": 3
         },
         "marker": {
          "color": "#64B5F6",
          "size": 7
         },
         "mode": "lines+markers",
         "showlegend": false,
         "type": "scatter",
         "x": [
          30,
          31
         ],
         "xaxis": "x",
         "y": [
          16.910674357414248,
          17.443939232826235
         ],
         "yaxis": "y"
        },
        {
         "hovertemplate": "x=%{x}<br>y=%{y}<extra></extra>",
         "line": {
          "color": "#64B5F6",
          "width": 3
         },
         "marker": {
          "color": "#64B5F6",
          "size": 7
         },
         "mode": "lines+markers",
         "showlegend": false,
         "type": "scatter",
         "x": [
          28,
          29
         ],
         "xaxis": "x",
         "y": [
          16.04477987289429,
          16.452955460548402
         ],
         "yaxis": "y"
        },
        {
         "hovertemplate": "x=%{x}<br>y=%{y}<extra></extra>",
         "line": {
          "color": "#64B5F6",
          "width": 3
         },
         "marker": {
          "color": "#64B5F6",
          "size": 7
         },
         "mode": "lines+markers",
         "showlegend": false,
         "type": "scatter",
         "x": [
          26,
          27
         ],
         "xaxis": "x",
         "y": [
          15.329093515872955,
          15.657860338687897
         ],
         "yaxis": "y"
        },
        {
         "hovertemplate": "x=%{x}<br>y=%{y}<extra></extra>",
         "line": {
          "color": "#64B5F6",
          "width": 3
         },
         "marker": {
          "color": "#64B5F6",
          "size": 7
         },
         "mode": "lines+markers",
         "showlegend": false,
         "type": "scatter",
         "x": [
          24,
          25
         ],
         "xaxis": "x",
         "y": [
          14.214599788188934,
          14.7465860247612
         ],
         "yaxis": "y"
        },
        {
         "hovertemplate": "x=%{x}<br>y=%{y}<extra></extra>",
         "line": {
          "color": "#64B5F6",
          "width": 3
         },
         "marker": {
          "color": "#64B5F6",
          "size": 7
         },
         "mode": "lines+markers",
         "showlegend": false,
         "type": "scatter",
         "x": [
          22,
          23
         ],
         "xaxis": "x",
         "y": [
          11.808306694030762,
          12.300052523612976
         ],
         "yaxis": "y"
        },
        {
         "hovertemplate": "x=%{x}<br>y=%{y}<extra></extra>",
         "line": {
          "color": "#64B5F6",
          "width": 3
         },
         "marker": {
          "color": "#64B5F6",
          "size": 7
         },
         "mode": "lines+markers",
         "showlegend": false,
         "type": "scatter",
         "x": [
          20,
          21
         ],
         "xaxis": "x",
         "y": [
          10.809394931793213,
          11.285063540935516
         ],
         "yaxis": "y"
        },
        {
         "hovertemplate": "x=%{x}<br>y=%{y}<extra></extra>",
         "line": {
          "color": "#64B5F6",
          "width": 3
         },
         "marker": {
          "color": "#64B5F6",
          "size": 7
         },
         "mode": "lines+markers",
         "showlegend": false,
         "type": "scatter",
         "x": [
          18,
          19
         ],
         "xaxis": "x",
         "y": [
          9.773745000362396,
          10.267758905887604
         ],
         "yaxis": "y"
        },
        {
         "hovertemplate": "x=%{x}<br>y=%{y}<extra></extra>",
         "line": {
          "color": "#64B5F6",
          "width": 3
         },
         "marker": {
          "color": "#64B5F6",
          "size": 7
         },
         "mode": "lines+markers",
         "showlegend": false,
         "type": "scatter",
         "x": [
          16,
          17
         ],
         "xaxis": "x",
         "y": [
          8.549893569946288,
          9.12125391960144
         ],
         "yaxis": "y"
        },
        {
         "hovertemplate": "x=%{x}<br>y=%{y}<extra></extra>",
         "line": {
          "color": "#64B5F6",
          "width": 3
         },
         "marker": {
          "color": "#64B5F6",
          "size": 7
         },
         "mode": "lines+markers",
         "showlegend": false,
         "type": "scatter",
         "x": [
          14,
          15
         ],
         "xaxis": "x",
         "y": [
          7.423464167118072,
          7.92931352853775
         ],
         "yaxis": "y"
        },
        {
         "hovertemplate": "x=%{x}<br>y=%{y}<extra></extra>",
         "line": {
          "color": "#64B5F6",
          "width": 3
         },
         "marker": {
          "color": "#64B5F6",
          "size": 7
         },
         "mode": "lines+markers",
         "showlegend": false,
         "type": "scatter",
         "x": [
          12,
          13
         ],
         "xaxis": "x",
         "y": [
          6.240273988246917,
          6.8136496305465695
         ],
         "yaxis": "y"
        },
        {
         "hovertemplate": "x=%{x}<br>y=%{y}<extra></extra>",
         "line": {
          "color": "#64B5F6",
          "width": 3
         },
         "marker": {
          "color": "#64B5F6",
          "size": 7
         },
         "mode": "lines+markers",
         "showlegend": false,
         "type": "scatter",
         "x": [
          10,
          11
         ],
         "xaxis": "x",
         "y": [
          5.18352825641632,
          5.658097398281097
         ],
         "yaxis": "y"
        },
        {
         "hovertemplate": "x=%{x}<br>y=%{y}<extra></extra>",
         "line": {
          "color": "#64B5F6",
          "width": 3
         },
         "marker": {
          "color": "#64B5F6",
          "size": 7
         },
         "mode": "lines+markers",
         "showlegend": false,
         "type": "scatter",
         "x": [
          8,
          9
         ],
         "xaxis": "x",
         "y": [
          3.9112426280975336,
          4.160428667068481
         ],
         "yaxis": "y"
        },
        {
         "hovertemplate": "x=%{x}<br>y=%{y}<extra></extra>",
         "line": {
          "color": "#64B5F6",
          "width": 3
         },
         "marker": {
          "color": "#64B5F6",
          "size": 7
         },
         "mode": "lines+markers",
         "showlegend": false,
         "type": "scatter",
         "x": [
          6,
          7
         ],
         "xaxis": "x",
         "y": [
          2.8484438419342037,
          3.3772824168205258
         ],
         "yaxis": "y"
        },
        {
         "hovertemplate": "x=%{x}<br>y=%{y}<extra></extra>",
         "line": {
          "color": "#64B5F6",
          "width": 3
         },
         "marker": {
          "color": "#64B5F6",
          "size": 7
         },
         "mode": "lines+markers",
         "showlegend": false,
         "type": "scatter",
         "x": [
          4,
          5
         ],
         "xaxis": "x",
         "y": [
          1.6337190508842467,
          2.2308888673782348
         ],
         "yaxis": "y"
        },
        {
         "hovertemplate": "x=%{x}<br>y=%{y}<extra></extra>",
         "line": {
          "color": "#64B5F6",
          "width": 3
         },
         "marker": {
          "color": "#64B5F6",
          "size": 7
         },
         "mode": "lines+markers",
         "showlegend": false,
         "type": "scatter",
         "x": [
          2,
          3
         ],
         "xaxis": "x",
         "y": [
          0.6777033686637879,
          1.1238916993141175
         ],
         "yaxis": "y"
        },
        {
         "hovertemplate": "x=%{x}<br>y=%{y}<extra></extra>",
         "line": {
          "color": "#64B5F6",
          "width": 3
         },
         "marker": {
          "color": "#64B5F6",
          "size": 7
         },
         "mode": "lines+markers",
         "showlegend": false,
         "type": "scatter",
         "x": [
          0,
          1
         ],
         "xaxis": "x",
         "y": [
          0,
          0.3089492917060852
         ],
         "yaxis": "y"
        },
        {
         "hovertemplate": "x=%{x}<br>y=%{y}<extra></extra>",
         "line": {
          "color": "#ff8fab",
          "width": 3
         },
         "marker": {
          "color": "#ff8fab",
          "size": 7
         },
         "mode": "lines+markers",
         "showlegend": false,
         "type": "scatter",
         "x": [
          74,
          75
         ],
         "xaxis": "x",
         "y": [
          12.781101703643799,
          13.50219910144806
         ],
         "yaxis": "y"
        },
        {
         "hovertemplate": "x=%{x}<br>y=%{y}<extra></extra>",
         "line": {
          "color": "#ff8fab",
          "width": 3
         },
         "marker": {
          "color": "#ff8fab",
          "size": 7
         },
         "mode": "lines+markers",
         "showlegend": false,
         "type": "scatter",
         "x": [
          71,
          72
         ],
         "xaxis": "x",
         "y": [
          9.649103879928589,
          10.384821498394013
         ],
         "yaxis": "y"
        },
        {
         "hovertemplate": "x=%{x}<br>y=%{y}<extra></extra>",
         "line": {
          "color": "#ff8fab",
          "width": 3
         },
         "marker": {
          "color": "#ff8fab",
          "size": 7
         },
         "mode": "lines+markers",
         "showlegend": false,
         "type": "scatter",
         "x": [
          70,
          71
         ],
         "xaxis": "x",
         "y": [
          8.962966740131378,
          9.649103879928589
         ],
         "yaxis": "y"
        },
        {
         "hovertemplate": "x=%{x}<br>y=%{y}<extra></extra>",
         "line": {
          "color": "#ff8fab",
          "width": 3
         },
         "marker": {
          "color": "#ff8fab",
          "size": 7
         },
         "mode": "lines+markers",
         "showlegend": false,
         "type": "scatter",
         "x": [
          63,
          64
         ],
         "xaxis": "x",
         "y": [
          5.165564167499543,
          5.960916900634766
         ],
         "yaxis": "y"
        },
        {
         "hovertemplate": "x=%{x}<br>y=%{y}<extra></extra>",
         "line": {
          "color": "#ff8fab",
          "width": 3
         },
         "marker": {
          "color": "#ff8fab",
          "size": 7
         },
         "mode": "lines+markers",
         "showlegend": false,
         "type": "scatter",
         "x": [
          62,
          63
         ],
         "xaxis": "x",
         "y": [
          4.370515084266662,
          5.165564167499542
         ],
         "yaxis": "y"
        },
        {
         "hovertemplate": "x=%{x}<br>y=%{y}<extra></extra>",
         "line": {
          "color": "#ff8fab",
          "width": 3
         },
         "marker": {
          "color": "#ff8fab",
          "size": 7
         },
         "mode": "lines+markers",
         "showlegend": false,
         "type": "scatter",
         "x": [
          60,
          61
         ],
         "xaxis": "x",
         "y": [
          3.246833384037018,
          3.579184150695801
         ],
         "yaxis": "y"
        },
        {
         "hovertemplate": "x=%{x}<br>y=%{y}<extra></extra>",
         "line": {
          "color": "#ff8fab",
          "width": 3
         },
         "marker": {
          "color": "#ff8fab",
          "size": 7
         },
         "mode": "lines+markers",
         "showlegend": false,
         "type": "scatter",
         "x": [
          55,
          56
         ],
         "xaxis": "x",
         "y": [
          1.7990753650665283,
          2.300600528717041
         ],
         "yaxis": "y"
        },
        {
         "hovertemplate": "x=%{x}<br>y=%{y}<extra></extra>",
         "line": {
          "color": "#ff8fab",
          "width": 3
         },
         "marker": {
          "color": "#ff8fab",
          "size": 7
         },
         "mode": "lines+markers",
         "showlegend": false,
         "type": "scatter",
         "x": [
          51,
          52
         ],
         "xaxis": "x",
         "y": [
          1.7305721044540405,
          2.388845908641815
         ],
         "yaxis": "y"
        },
        {
         "hovertemplate": "x=%{x}<br>y=%{y}<extra></extra>",
         "line": {
          "color": "#ff8fab",
          "width": 3
         },
         "marker": {
          "color": "#ff8fab",
          "size": 7
         },
         "mode": "lines+markers",
         "showlegend": false,
         "type": "scatter",
         "x": [
          48,
          49
         ],
         "xaxis": "x",
         "y": [
          1.1729240417480469,
          1.7257325887680053
         ],
         "yaxis": "y"
        },
        {
         "hovertemplate": "x=%{x}<br>y=%{y}<extra></extra>",
         "line": {
          "color": "#ff8fab",
          "width": 3
         },
         "marker": {
          "color": "#ff8fab",
          "size": 7
         },
         "mode": "lines+markers",
         "showlegend": false,
         "type": "scatter",
         "x": [
          45,
          46
         ],
         "xaxis": "x",
         "y": [
          0.6951720714569092,
          1.2569772124290466
         ],
         "yaxis": "y"
        },
        {
         "hovertemplate": "x=%{x}<br>y=%{y}<extra></extra>",
         "line": {
          "color": "#ff8fab",
          "width": 3
         },
         "marker": {
          "color": "#ff8fab",
          "size": 7
         },
         "mode": "lines+markers",
         "showlegend": false,
         "type": "scatter",
         "x": [
          43,
          44
         ],
         "xaxis": "x",
         "y": [
          24.210506236553197,
          24.87767341136933
         ],
         "yaxis": "y"
        },
        {
         "hovertemplate": "x=%{x}<br>y=%{y}<extra></extra>",
         "line": {
          "color": "#ff8fab",
          "width": 3
         },
         "marker": {
          "color": "#ff8fab",
          "size": 7
         },
         "mode": "lines+markers",
         "showlegend": false,
         "type": "scatter",
         "x": [
          41,
          42
         ],
         "xaxis": "x",
         "y": [
          23.144948530197148,
          23.4608632683754
         ],
         "yaxis": "y"
        },
        {
         "hovertemplate": "x=%{x}<br>y=%{y}<extra></extra>",
         "line": {
          "color": "#ff8fab",
          "width": 3
         },
         "marker": {
          "color": "#ff8fab",
          "size": 7
         },
         "mode": "lines+markers",
         "showlegend": false,
         "type": "scatter",
         "x": [
          39,
          40
         ],
         "xaxis": "x",
         "y": [
          22.15486425161362,
          22.896586823463444
         ],
         "yaxis": "y"
        },
        {
         "hovertemplate": "x=%{x}<br>y=%{y}<extra></extra>",
         "line": {
          "color": "#ff8fab",
          "width": 3
         },
         "marker": {
          "color": "#ff8fab",
          "size": 7
         },
         "mode": "lines+markers",
         "showlegend": false,
         "type": "scatter",
         "x": [
          37,
          38
         ],
         "xaxis": "x",
         "y": [
          20.69935559034348,
          21.386376559734348
         ],
         "yaxis": "y"
        },
        {
         "hovertemplate": "x=%{x}<br>y=%{y}<extra></extra>",
         "line": {
          "color": "#ff8fab",
          "width": 3
         },
         "marker": {
          "color": "#ff8fab",
          "size": 7
         },
         "mode": "lines+markers",
         "showlegend": false,
         "type": "scatter",
         "x": [
          35,
          36
         ],
         "xaxis": "x",
         "y": [
          19.6919570684433,
          20.10808919668198
         ],
         "yaxis": "y"
        },
        {
         "hovertemplate": "x=%{x}<br>y=%{y}<extra></extra>",
         "line": {
          "color": "#ff8fab",
          "width": 3
         },
         "marker": {
          "color": "#ff8fab",
          "size": 7
         },
         "mode": "lines+markers",
         "showlegend": false,
         "type": "scatter",
         "x": [
          33,
          34
         ],
         "xaxis": "x",
         "y": [
          18.786424064636233,
          19.299398314952853
         ],
         "yaxis": "y"
        },
        {
         "hovertemplate": "x=%{x}<br>y=%{y}<extra></extra>",
         "line": {
          "color": "#ff8fab",
          "width": 3
         },
         "marker": {
          "color": "#ff8fab",
          "size": 7
         },
         "mode": "lines+markers",
         "showlegend": false,
         "type": "scatter",
         "x": [
          31,
          32
         ],
         "xaxis": "x",
         "y": [
          17.443939232826235,
          18.034433150291445
         ],
         "yaxis": "y"
        },
        {
         "hovertemplate": "x=%{x}<br>y=%{y}<extra></extra>",
         "line": {
          "color": "#ff8fab",
          "width": 3
         },
         "marker": {
          "color": "#ff8fab",
          "size": 7
         },
         "mode": "lines+markers",
         "showlegend": false,
         "type": "scatter",
         "x": [
          29,
          30
         ],
         "xaxis": "x",
         "y": [
          16.452955460548402,
          16.910674357414248
         ],
         "yaxis": "y"
        },
        {
         "hovertemplate": "x=%{x}<br>y=%{y}<extra></extra>",
         "line": {
          "color": "#ff8fab",
          "width": 3
         },
         "marker": {
          "color": "#ff8fab",
          "size": 7
         },
         "mode": "lines+markers",
         "showlegend": false,
         "type": "scatter",
         "x": [
          27,
          28
         ],
         "xaxis": "x",
         "y": [
          15.657860338687897,
          16.04477987289429
         ],
         "yaxis": "y"
        },
        {
         "hovertemplate": "x=%{x}<br>y=%{y}<extra></extra>",
         "line": {
          "color": "#ff8fab",
          "width": 3
         },
         "marker": {
          "color": "#ff8fab",
          "size": 7
         },
         "mode": "lines+markers",
         "showlegend": false,
         "type": "scatter",
         "x": [
          25,
          26
         ],
         "xaxis": "x",
         "y": [
          14.7465860247612,
          15.329093515872955
         ],
         "yaxis": "y"
        },
        {
         "hovertemplate": "x=%{x}<br>y=%{y}<extra></extra>",
         "line": {
          "color": "#ff8fab",
          "width": 3
         },
         "marker": {
          "color": "#ff8fab",
          "size": 7
         },
         "mode": "lines+markers",
         "showlegend": false,
         "type": "scatter",
         "x": [
          23,
          24
         ],
         "xaxis": "x",
         "y": [
          12.300052523612976,
          14.214599788188934
         ],
         "yaxis": "y"
        },
        {
         "hovertemplate": "x=%{x}<br>y=%{y}<extra></extra>",
         "line": {
          "color": "#ff8fab",
          "width": 3
         },
         "marker": {
          "color": "#ff8fab",
          "size": 7
         },
         "mode": "lines+markers",
         "showlegend": false,
         "type": "scatter",
         "x": [
          21,
          22
         ],
         "xaxis": "x",
         "y": [
          11.285063540935516,
          11.808306694030762
         ],
         "yaxis": "y"
        },
        {
         "hovertemplate": "x=%{x}<br>y=%{y}<extra></extra>",
         "line": {
          "color": "#ff8fab",
          "width": 3
         },
         "marker": {
          "color": "#ff8fab",
          "size": 7
         },
         "mode": "lines+markers",
         "showlegend": false,
         "type": "scatter",
         "x": [
          19,
          20
         ],
         "xaxis": "x",
         "y": [
          10.267758905887604,
          10.809394931793213
         ],
         "yaxis": "y"
        },
        {
         "hovertemplate": "x=%{x}<br>y=%{y}<extra></extra>",
         "line": {
          "color": "#ff8fab",
          "width": 3
         },
         "marker": {
          "color": "#ff8fab",
          "size": 7
         },
         "mode": "lines+markers",
         "showlegend": false,
         "type": "scatter",
         "x": [
          17,
          18
         ],
         "xaxis": "x",
         "y": [
          9.12125391960144,
          9.773745000362396
         ],
         "yaxis": "y"
        },
        {
         "hovertemplate": "x=%{x}<br>y=%{y}<extra></extra>",
         "line": {
          "color": "#ff8fab",
          "width": 3
         },
         "marker": {
          "color": "#ff8fab",
          "size": 7
         },
         "mode": "lines+markers",
         "showlegend": false,
         "type": "scatter",
         "x": [
          15,
          16
         ],
         "xaxis": "x",
         "y": [
          7.92931352853775,
          8.549893569946288
         ],
         "yaxis": "y"
        },
        {
         "hovertemplate": "x=%{x}<br>y=%{y}<extra></extra>",
         "line": {
          "color": "#ff8fab",
          "width": 3
         },
         "marker": {
          "color": "#ff8fab",
          "size": 7
         },
         "mode": "lines+markers",
         "showlegend": false,
         "type": "scatter",
         "x": [
          13,
          14
         ],
         "xaxis": "x",
         "y": [
          6.8136496305465695,
          7.423464167118072
         ],
         "yaxis": "y"
        },
        {
         "hovertemplate": "x=%{x}<br>y=%{y}<extra></extra>",
         "line": {
          "color": "#ff8fab",
          "width": 3
         },
         "marker": {
          "color": "#ff8fab",
          "size": 7
         },
         "mode": "lines+markers",
         "showlegend": false,
         "type": "scatter",
         "x": [
          11,
          12
         ],
         "xaxis": "x",
         "y": [
          5.658097398281097,
          6.240273988246917
         ],
         "yaxis": "y"
        },
        {
         "hovertemplate": "x=%{x}<br>y=%{y}<extra></extra>",
         "line": {
          "color": "#ff8fab",
          "width": 3
         },
         "marker": {
          "color": "#ff8fab",
          "size": 7
         },
         "mode": "lines+markers",
         "showlegend": false,
         "type": "scatter",
         "x": [
          9,
          10
         ],
         "xaxis": "x",
         "y": [
          4.160428667068481,
          5.18352825641632
         ],
         "yaxis": "y"
        },
        {
         "hovertemplate": "x=%{x}<br>y=%{y}<extra></extra>",
         "line": {
          "color": "#ff8fab",
          "width": 3
         },
         "marker": {
          "color": "#ff8fab",
          "size": 7
         },
         "mode": "lines+markers",
         "showlegend": false,
         "type": "scatter",
         "x": [
          7,
          8
         ],
         "xaxis": "x",
         "y": [
          3.3772824168205258,
          3.9112426280975336
         ],
         "yaxis": "y"
        },
        {
         "hovertemplate": "x=%{x}<br>y=%{y}<extra></extra>",
         "line": {
          "color": "#ff8fab",
          "width": 3
         },
         "marker": {
          "color": "#ff8fab",
          "size": 7
         },
         "mode": "lines+markers",
         "showlegend": false,
         "type": "scatter",
         "x": [
          5,
          6
         ],
         "xaxis": "x",
         "y": [
          2.2308888673782348,
          2.8484438419342037
         ],
         "yaxis": "y"
        },
        {
         "hovertemplate": "x=%{x}<br>y=%{y}<extra></extra>",
         "line": {
          "color": "#ff8fab",
          "width": 3
         },
         "marker": {
          "color": "#ff8fab",
          "size": 7
         },
         "mode": "lines+markers",
         "showlegend": false,
         "type": "scatter",
         "x": [
          3,
          4
         ],
         "xaxis": "x",
         "y": [
          1.1238916993141175,
          1.6337190508842467
         ],
         "yaxis": "y"
        },
        {
         "hovertemplate": "x=%{x}<br>y=%{y}<extra></extra>",
         "line": {
          "color": "#ff8fab",
          "width": 3
         },
         "marker": {
          "color": "#ff8fab",
          "size": 7
         },
         "mode": "lines+markers",
         "showlegend": false,
         "type": "scatter",
         "x": [
          1,
          2
         ],
         "xaxis": "x",
         "y": [
          0.3089492917060852,
          0.6777033686637879
         ],
         "yaxis": "y"
        },
        {
         "hovertemplate": "x=%{x}<br>y=%{y}<extra></extra>",
         "line": {
          "color": "#023e8a",
          "width": 3
         },
         "marker": {
          "color": "#023e8a",
          "size": 7
         },
         "mode": "lines+markers",
         "showlegend": false,
         "type": "scatter",
         "x": [
          81,
          82
         ],
         "xaxis": "x",
         "y": [
          15.480649471282959,
          16.134314239025116
         ],
         "yaxis": "y"
        },
        {
         "hovertemplate": "x=%{x}<br>y=%{y}<extra></extra>",
         "line": {
          "color": "#023e8a",
          "width": 3
         },
         "marker": {
          "color": "#023e8a",
          "size": 7
         },
         "mode": "lines+markers",
         "showlegend": false,
         "type": "scatter",
         "x": [
          80,
          81
         ],
         "xaxis": "x",
         "y": [
          14.85231363773346,
          15.480649471282959
         ],
         "yaxis": "y"
        },
        {
         "hovertemplate": "x=%{x}<br>y=%{y}<extra></extra>",
         "line": {
          "color": "#023e8a",
          "width": 3
         },
         "marker": {
          "color": "#023e8a",
          "size": 7
         },
         "mode": "lines+markers",
         "showlegend": false,
         "type": "scatter",
         "x": [
          79,
          80
         ],
         "xaxis": "x",
         "y": [
          14.14800250530243,
          14.85231363773346
         ],
         "yaxis": "y"
        },
        {
         "hovertemplate": "x=%{x}<br>y=%{y}<extra></extra>",
         "line": {
          "color": "#023e8a",
          "width": 3
         },
         "marker": {
          "color": "#023e8a",
          "size": 7
         },
         "mode": "lines+markers",
         "showlegend": false,
         "type": "scatter",
         "x": [
          78,
          79
         ],
         "xaxis": "x",
         "y": [
          13.579148054122925,
          14.14800250530243
         ],
         "yaxis": "y"
        },
        {
         "hovertemplate": "x=%{x}<br>y=%{y}<extra></extra>",
         "line": {
          "color": "#023e8a",
          "width": 3
         },
         "marker": {
          "color": "#023e8a",
          "size": 7
         },
         "mode": "lines+markers",
         "showlegend": false,
         "type": "scatter",
         "x": [
          77,
          78
         ],
         "xaxis": "x",
         "y": [
          13.110848784446716,
          13.579148054122925
         ],
         "yaxis": "y"
        },
        {
         "hovertemplate": "x=%{x}<br>y=%{y}<extra></extra>",
         "line": {
          "color": "#023e8a",
          "width": 3
         },
         "marker": {
          "color": "#023e8a",
          "size": 7
         },
         "mode": "lines+markers",
         "showlegend": false,
         "type": "scatter",
         "x": [
          68,
          69
         ],
         "xaxis": "x",
         "y": [
          11.263872683048248,
          11.868550479412079
         ],
         "yaxis": "y"
        },
        {
         "hovertemplate": "x=%{x}<br>y=%{y}<extra></extra>",
         "line": {
          "color": "#023e8a",
          "width": 3
         },
         "marker": {
          "color": "#023e8a",
          "size": 7
         },
         "mode": "lines+markers",
         "showlegend": false,
         "type": "scatter",
         "x": [
          67,
          68
         ],
         "xaxis": "x",
         "y": [
          10.509419739246368,
          11.263872683048248
         ],
         "yaxis": "y"
        },
        {
         "hovertemplate": "x=%{x}<br>y=%{y}<extra></extra>",
         "line": {
          "color": "#023e8a",
          "width": 3
         },
         "marker": {
          "color": "#023e8a",
          "size": 7
         },
         "mode": "lines+markers",
         "showlegend": false,
         "type": "scatter",
         "x": [
          66,
          67
         ],
         "xaxis": "x",
         "y": [
          9.87788861989975,
          10.509419739246368
         ],
         "yaxis": "y"
        },
        {
         "hovertemplate": "x=%{x}<br>y=%{y}<extra></extra>",
         "line": {
          "color": "#023e8a",
          "width": 3
         },
         "marker": {
          "color": "#023e8a",
          "size": 7
         },
         "mode": "lines+markers",
         "showlegend": false,
         "type": "scatter",
         "x": [
          65,
          66
         ],
         "xaxis": "x",
         "y": [
          9.157453894615173,
          9.87788861989975
         ],
         "yaxis": "y"
        },
        {
         "hovertemplate": "x=%{x}<br>y=%{y}<extra></extra>",
         "line": {
          "color": "#023e8a",
          "width": 3
         },
         "marker": {
          "color": "#023e8a",
          "size": 7
         },
         "mode": "lines+markers",
         "showlegend": false,
         "type": "scatter",
         "x": [
          58,
          59
         ],
         "xaxis": "x",
         "y": [
          2.57020503282547,
          2.702624261379242
         ],
         "yaxis": "y"
        },
        {
         "hovertemplate": "x=%{x}<br>y=%{y}<extra></extra>",
         "line": {
          "color": "#023e8a",
          "width": 3
         },
         "marker": {
          "color": "#023e8a",
          "size": 7
         },
         "mode": "lines+markers",
         "showlegend": false,
         "type": "scatter",
         "x": [
          57,
          58
         ],
         "xaxis": "x",
         "y": [
          2.1247888803482056,
          2.57020503282547
         ],
         "yaxis": "y"
        },
        {
         "hovertemplate": "x=%{x}<br>y=%{y}<extra></extra>",
         "line": {
          "color": "#023e8a",
          "width": 3
         },
         "marker": {
          "color": "#023e8a",
          "size": 7
         },
         "mode": "lines+markers",
         "showlegend": false,
         "type": "scatter",
         "x": [
          56,
          57
         ],
         "xaxis": "x",
         "y": [
          1.7990753650665283,
          2.1247888803482056
         ],
         "yaxis": "y"
        },
        {
         "hovertemplate": "x=%{x}<br>y=%{y}<extra></extra>",
         "line": {
          "color": "#023e8a",
          "width": 3
         },
         "marker": {
          "color": "#023e8a",
          "size": 7
         },
         "mode": "lines+markers",
         "showlegend": false,
         "type": "scatter",
         "x": [
          54,
          55
         ],
         "xaxis": "x",
         "y": [
          1.4694432020187378,
          1.7990753650665283
         ],
         "yaxis": "y"
        },
        {
         "hovertemplate": "x=%{x}<br>y=%{y}<extra></extra>",
         "line": {
          "color": "#023e8a",
          "width": 3
         },
         "marker": {
          "color": "#023e8a",
          "size": 7
         },
         "mode": "lines+markers",
         "showlegend": false,
         "type": "scatter",
         "x": [
          44,
          45
         ],
         "xaxis": "x",
         "y": [
          0,
          0.6951720714569092
         ],
         "yaxis": "y"
        },
        {
         "hovertemplate": "x=%{x}<br>y=%{y}<extra></extra>",
         "line": {
          "color": "#c1121f",
          "width": 3
         },
         "marker": {
          "color": "#c1121f",
          "size": 7
         },
         "mode": "lines+markers",
         "showlegend": false,
         "type": "scatter",
         "x": [
          64,
          65
         ],
         "xaxis": "x",
         "y": [
          2.702624261379242,
          9.157453894615173
         ],
         "yaxis": "y"
        },
        {
         "hovertemplate": "x=%{x}<br>y=%{y}<extra></extra>",
         "line": {
          "color": "#c1121f",
          "width": 3
         },
         "marker": {
          "color": "#c1121f",
          "size": 7
         },
         "mode": "lines+markers",
         "showlegend": false,
         "type": "scatter",
         "x": [
          52,
          53
         ],
         "xaxis": "x",
         "y": [
          1.1253145933151245,
          1.4694432020187378
         ],
         "yaxis": "y"
        },
        {
         "hovertemplate": "x=%{x}<br>y=%{y}<extra></extra>",
         "line": {
          "color": "#c1121f",
          "width": 3
         },
         "marker": {
          "color": "#c1121f",
          "size": 7
         },
         "mode": "lines+markers",
         "showlegend": false,
         "type": "scatter",
         "x": [
          49,
          50
         ],
         "xaxis": "x",
         "y": [
          0.5434914231300354,
          1.1253145933151245
         ],
         "yaxis": "y"
        },
        {
         "hovertemplate": "x=%{x}<br>y=%{y}<extra></extra>",
         "line": {
          "color": "#c1121f",
          "width": 3
         },
         "marker": {
          "color": "#c1121f",
          "size": 7
         },
         "mode": "lines+markers",
         "showlegend": false,
         "type": "scatter",
         "x": [
          46,
          47
         ],
         "xaxis": "x",
         "y": [
          0.6951720714569092,
          0.5434914231300354
         ],
         "yaxis": "y"
        },
        {
         "hovertemplate": "x=%{x}<br>y=%{y}<extra></extra>",
         "line": {
          "color": "#9d4edd",
          "width": 3
         },
         "marker": {
          "color": "#9d4edd",
          "size": 7
         },
         "mode": "lines+markers",
         "showlegend": false,
         "type": "scatter",
         "x": [
          82,
          83
         ],
         "xaxis": "x",
         "y": [
          16.134314239025116,
          13.526105284690857
         ],
         "yaxis": "y"
        },
        {
         "hovertemplate": "x=%{x}<br>y=%{y}<extra></extra>",
         "line": {
          "color": "#9d4edd",
          "width": 3
         },
         "marker": {
          "color": "#9d4edd",
          "size": 7
         },
         "mode": "lines+markers",
         "showlegend": false,
         "type": "scatter",
         "x": [
          76,
          77
         ],
         "xaxis": "x",
         "y": [
          12.454150557518005,
          13.110848784446716
         ],
         "yaxis": "y"
        },
        {
         "hovertemplate": "x=%{x}<br>y=%{y}<extra></extra>",
         "line": {
          "color": "#9d4edd",
          "width": 3
         },
         "marker": {
          "color": "#9d4edd",
          "size": 7
         },
         "mode": "lines+markers",
         "showlegend": false,
         "type": "scatter",
         "x": [
          72,
          73
         ],
         "xaxis": "x",
         "y": [
          11.868550479412079,
          12.454150557518005
         ],
         "yaxis": "y"
        },
        {
         "line": {
          "color": "#64B5F6",
          "width": 2
         },
         "mode": "lines",
         "name": "human_insert_backstage",
         "showlegend": true,
         "type": "scatter",
         "x": [
          null
         ],
         "xaxis": "x",
         "y": [
          null
         ],
         "yaxis": "y"
        },
        {
         "line": {
          "color": "#ff8fab",
          "width": 2
         },
         "mode": "lines",
         "name": "ai_suggest_backstage",
         "showlegend": true,
         "type": "scatter",
         "x": [
          null
         ],
         "xaxis": "x",
         "y": [
          null
         ],
         "yaxis": "y"
        },
        {
         "line": {
          "color": "#023e8a",
          "width": 2
         },
         "mode": "lines",
         "name": "human_insert_frontstage",
         "showlegend": true,
         "type": "scatter",
         "x": [
          null
         ],
         "xaxis": "x",
         "y": [
          null
         ],
         "yaxis": "y"
        },
        {
         "line": {
          "color": "#c1121f",
          "width": 2
         },
         "mode": "lines",
         "name": "ai_insert_moved_to_frontstage",
         "showlegend": true,
         "type": "scatter",
         "x": [
          null
         ],
         "xaxis": "x",
         "y": [
          null
         ],
         "yaxis": "y"
        },
        {
         "line": {
          "color": "#9d4edd",
          "width": 2
         },
         "mode": "lines",
         "name": "human_delete_frontstage",
         "showlegend": true,
         "type": "scatter",
         "x": [
          null
         ],
         "xaxis": "x",
         "y": [
          null
         ],
         "yaxis": "y"
        },
        {
         "line": {
          "color": "#5a189a",
          "width": 2
         },
         "mode": "lines",
         "name": "human_insert_edit_frontstage",
         "showlegend": true,
         "type": "scatter",
         "x": [
          null
         ],
         "xaxis": "x",
         "y": [
          null
         ],
         "yaxis": "y"
        }
       ],
       "layout": {
        "annotations": [
         {
          "font": {
           "size": 16
          },
          "showarrow": false,
          "text": "Session: legislation_antitrust_7",
          "x": 0.5,
          "xanchor": "center",
          "xref": "paper",
          "y": 1,
          "yanchor": "bottom",
          "yref": "paper"
         }
        ],
        "height": 500,
        "legend": {
         "title": {
          "font": {
           "color": "rgba(0, 0, 0, 0)"
          }
         }
        },
        "plot_bgcolor": "white",
        "showlegend": true,
        "template": {
         "data": {
          "bar": [
           {
            "error_x": {
             "color": "#2a3f5f"
            },
            "error_y": {
             "color": "#2a3f5f"
            },
            "marker": {
             "line": {
              "color": "#E5ECF6",
              "width": 0.5
             },
             "pattern": {
              "fillmode": "overlay",
              "size": 10,
              "solidity": 0.2
             }
            },
            "type": "bar"
           }
          ],
          "barpolar": [
           {
            "marker": {
             "line": {
              "color": "#E5ECF6",
              "width": 0.5
             },
             "pattern": {
              "fillmode": "overlay",
              "size": 10,
              "solidity": 0.2
             }
            },
            "type": "barpolar"
           }
          ],
          "carpet": [
           {
            "aaxis": {
             "endlinecolor": "#2a3f5f",
             "gridcolor": "white",
             "linecolor": "white",
             "minorgridcolor": "white",
             "startlinecolor": "#2a3f5f"
            },
            "baxis": {
             "endlinecolor": "#2a3f5f",
             "gridcolor": "white",
             "linecolor": "white",
             "minorgridcolor": "white",
             "startlinecolor": "#2a3f5f"
            },
            "type": "carpet"
           }
          ],
          "choropleth": [
           {
            "colorbar": {
             "outlinewidth": 0,
             "ticks": ""
            },
            "type": "choropleth"
           }
          ],
          "contour": [
           {
            "colorbar": {
             "outlinewidth": 0,
             "ticks": ""
            },
            "colorscale": [
             [
              0,
              "#0d0887"
             ],
             [
              0.1111111111111111,
              "#46039f"
             ],
             [
              0.2222222222222222,
              "#7201a8"
             ],
             [
              0.3333333333333333,
              "#9c179e"
             ],
             [
              0.4444444444444444,
              "#bd3786"
             ],
             [
              0.5555555555555556,
              "#d8576b"
             ],
             [
              0.6666666666666666,
              "#ed7953"
             ],
             [
              0.7777777777777778,
              "#fb9f3a"
             ],
             [
              0.8888888888888888,
              "#fdca26"
             ],
             [
              1,
              "#f0f921"
             ]
            ],
            "type": "contour"
           }
          ],
          "contourcarpet": [
           {
            "colorbar": {
             "outlinewidth": 0,
             "ticks": ""
            },
            "type": "contourcarpet"
           }
          ],
          "heatmap": [
           {
            "colorbar": {
             "outlinewidth": 0,
             "ticks": ""
            },
            "colorscale": [
             [
              0,
              "#0d0887"
             ],
             [
              0.1111111111111111,
              "#46039f"
             ],
             [
              0.2222222222222222,
              "#7201a8"
             ],
             [
              0.3333333333333333,
              "#9c179e"
             ],
             [
              0.4444444444444444,
              "#bd3786"
             ],
             [
              0.5555555555555556,
              "#d8576b"
             ],
             [
              0.6666666666666666,
              "#ed7953"
             ],
             [
              0.7777777777777778,
              "#fb9f3a"
             ],
             [
              0.8888888888888888,
              "#fdca26"
             ],
             [
              1,
              "#f0f921"
             ]
            ],
            "type": "heatmap"
           }
          ],
          "histogram": [
           {
            "marker": {
             "pattern": {
              "fillmode": "overlay",
              "size": 10,
              "solidity": 0.2
             }
            },
            "type": "histogram"
           }
          ],
          "histogram2d": [
           {
            "colorbar": {
             "outlinewidth": 0,
             "ticks": ""
            },
            "colorscale": [
             [
              0,
              "#0d0887"
             ],
             [
              0.1111111111111111,
              "#46039f"
             ],
             [
              0.2222222222222222,
              "#7201a8"
             ],
             [
              0.3333333333333333,
              "#9c179e"
             ],
             [
              0.4444444444444444,
              "#bd3786"
             ],
             [
              0.5555555555555556,
              "#d8576b"
             ],
             [
              0.6666666666666666,
              "#ed7953"
             ],
             [
              0.7777777777777778,
              "#fb9f3a"
             ],
             [
              0.8888888888888888,
              "#fdca26"
             ],
             [
              1,
              "#f0f921"
             ]
            ],
            "type": "histogram2d"
           }
          ],
          "histogram2dcontour": [
           {
            "colorbar": {
             "outlinewidth": 0,
             "ticks": ""
            },
            "colorscale": [
             [
              0,
              "#0d0887"
             ],
             [
              0.1111111111111111,
              "#46039f"
             ],
             [
              0.2222222222222222,
              "#7201a8"
             ],
             [
              0.3333333333333333,
              "#9c179e"
             ],
             [
              0.4444444444444444,
              "#bd3786"
             ],
             [
              0.5555555555555556,
              "#d8576b"
             ],
             [
              0.6666666666666666,
              "#ed7953"
             ],
             [
              0.7777777777777778,
              "#fb9f3a"
             ],
             [
              0.8888888888888888,
              "#fdca26"
             ],
             [
              1,
              "#f0f921"
             ]
            ],
            "type": "histogram2dcontour"
           }
          ],
          "mesh3d": [
           {
            "colorbar": {
             "outlinewidth": 0,
             "ticks": ""
            },
            "type": "mesh3d"
           }
          ],
          "parcoords": [
           {
            "line": {
             "colorbar": {
              "outlinewidth": 0,
              "ticks": ""
             }
            },
            "type": "parcoords"
           }
          ],
          "pie": [
           {
            "automargin": true,
            "type": "pie"
           }
          ],
          "scatter": [
           {
            "fillpattern": {
             "fillmode": "overlay",
             "size": 10,
             "solidity": 0.2
            },
            "type": "scatter"
           }
          ],
          "scatter3d": [
           {
            "line": {
             "colorbar": {
              "outlinewidth": 0,
              "ticks": ""
             }
            },
            "marker": {
             "colorbar": {
              "outlinewidth": 0,
              "ticks": ""
             }
            },
            "type": "scatter3d"
           }
          ],
          "scattercarpet": [
           {
            "marker": {
             "colorbar": {
              "outlinewidth": 0,
              "ticks": ""
             }
            },
            "type": "scattercarpet"
           }
          ],
          "scattergeo": [
           {
            "marker": {
             "colorbar": {
              "outlinewidth": 0,
              "ticks": ""
             }
            },
            "type": "scattergeo"
           }
          ],
          "scattergl": [
           {
            "marker": {
             "colorbar": {
              "outlinewidth": 0,
              "ticks": ""
             }
            },
            "type": "scattergl"
           }
          ],
          "scattermap": [
           {
            "marker": {
             "colorbar": {
              "outlinewidth": 0,
              "ticks": ""
             }
            },
            "type": "scattermap"
           }
          ],
          "scattermapbox": [
           {
            "marker": {
             "colorbar": {
              "outlinewidth": 0,
              "ticks": ""
             }
            },
            "type": "scattermapbox"
           }
          ],
          "scatterpolar": [
           {
            "marker": {
             "colorbar": {
              "outlinewidth": 0,
              "ticks": ""
             }
            },
            "type": "scatterpolar"
           }
          ],
          "scatterpolargl": [
           {
            "marker": {
             "colorbar": {
              "outlinewidth": 0,
              "ticks": ""
             }
            },
            "type": "scatterpolargl"
           }
          ],
          "scatterternary": [
           {
            "marker": {
             "colorbar": {
              "outlinewidth": 0,
              "ticks": ""
             }
            },
            "type": "scatterternary"
           }
          ],
          "surface": [
           {
            "colorbar": {
             "outlinewidth": 0,
             "ticks": ""
            },
            "colorscale": [
             [
              0,
              "#0d0887"
             ],
             [
              0.1111111111111111,
              "#46039f"
             ],
             [
              0.2222222222222222,
              "#7201a8"
             ],
             [
              0.3333333333333333,
              "#9c179e"
             ],
             [
              0.4444444444444444,
              "#bd3786"
             ],
             [
              0.5555555555555556,
              "#d8576b"
             ],
             [
              0.6666666666666666,
              "#ed7953"
             ],
             [
              0.7777777777777778,
              "#fb9f3a"
             ],
             [
              0.8888888888888888,
              "#fdca26"
             ],
             [
              1,
              "#f0f921"
             ]
            ],
            "type": "surface"
           }
          ],
          "table": [
           {
            "cells": {
             "fill": {
              "color": "#EBF0F8"
             },
             "line": {
              "color": "white"
             }
            },
            "header": {
             "fill": {
              "color": "#C8D4E3"
             },
             "line": {
              "color": "white"
             }
            },
            "type": "table"
           }
          ]
         },
         "layout": {
          "annotationdefaults": {
           "arrowcolor": "#2a3f5f",
           "arrowhead": 0,
           "arrowwidth": 1
          },
          "autotypenumbers": "strict",
          "coloraxis": {
           "colorbar": {
            "outlinewidth": 0,
            "ticks": ""
           }
          },
          "colorscale": {
           "diverging": [
            [
             0,
             "#8e0152"
            ],
            [
             0.1,
             "#c51b7d"
            ],
            [
             0.2,
             "#de77ae"
            ],
            [
             0.3,
             "#f1b6da"
            ],
            [
             0.4,
             "#fde0ef"
            ],
            [
             0.5,
             "#f7f7f7"
            ],
            [
             0.6,
             "#e6f5d0"
            ],
            [
             0.7,
             "#b8e186"
            ],
            [
             0.8,
             "#7fbc41"
            ],
            [
             0.9,
             "#4d9221"
            ],
            [
             1,
             "#276419"
            ]
           ],
           "sequential": [
            [
             0,
             "#0d0887"
            ],
            [
             0.1111111111111111,
             "#46039f"
            ],
            [
             0.2222222222222222,
             "#7201a8"
            ],
            [
             0.3333333333333333,
             "#9c179e"
            ],
            [
             0.4444444444444444,
             "#bd3786"
            ],
            [
             0.5555555555555556,
             "#d8576b"
            ],
            [
             0.6666666666666666,
             "#ed7953"
            ],
            [
             0.7777777777777778,
             "#fb9f3a"
            ],
            [
             0.8888888888888888,
             "#fdca26"
            ],
            [
             1,
             "#f0f921"
            ]
           ],
           "sequentialminus": [
            [
             0,
             "#0d0887"
            ],
            [
             0.1111111111111111,
             "#46039f"
            ],
            [
             0.2222222222222222,
             "#7201a8"
            ],
            [
             0.3333333333333333,
             "#9c179e"
            ],
            [
             0.4444444444444444,
             "#bd3786"
            ],
            [
             0.5555555555555556,
             "#d8576b"
            ],
            [
             0.6666666666666666,
             "#ed7953"
            ],
            [
             0.7777777777777778,
             "#fb9f3a"
            ],
            [
             0.8888888888888888,
             "#fdca26"
            ],
            [
             1,
             "#f0f921"
            ]
           ]
          },
          "colorway": [
           "#636efa",
           "#EF553B",
           "#00cc96",
           "#ab63fa",
           "#FFA15A",
           "#19d3f3",
           "#FF6692",
           "#B6E880",
           "#FF97FF",
           "#FECB52"
          ],
          "font": {
           "color": "#2a3f5f"
          },
          "geo": {
           "bgcolor": "white",
           "lakecolor": "white",
           "landcolor": "#E5ECF6",
           "showlakes": true,
           "showland": true,
           "subunitcolor": "white"
          },
          "hoverlabel": {
           "align": "left"
          },
          "hovermode": "closest",
          "mapbox": {
           "style": "light"
          },
          "paper_bgcolor": "white",
          "plot_bgcolor": "#E5ECF6",
          "polar": {
           "angularaxis": {
            "gridcolor": "white",
            "linecolor": "white",
            "ticks": ""
           },
           "bgcolor": "#E5ECF6",
           "radialaxis": {
            "gridcolor": "white",
            "linecolor": "white",
            "ticks": ""
           }
          },
          "scene": {
           "xaxis": {
            "backgroundcolor": "#E5ECF6",
            "gridcolor": "white",
            "gridwidth": 2,
            "linecolor": "white",
            "showbackground": true,
            "ticks": "",
            "zerolinecolor": "white"
           },
           "yaxis": {
            "backgroundcolor": "#E5ECF6",
            "gridcolor": "white",
            "gridwidth": 2,
            "linecolor": "white",
            "showbackground": true,
            "ticks": "",
            "zerolinecolor": "white"
           },
           "zaxis": {
            "backgroundcolor": "#E5ECF6",
            "gridcolor": "white",
            "gridwidth": 2,
            "linecolor": "white",
            "showbackground": true,
            "ticks": "",
            "zerolinecolor": "white"
           }
          },
          "shapedefaults": {
           "line": {
            "color": "#2a3f5f"
           }
          },
          "ternary": {
           "aaxis": {
            "gridcolor": "white",
            "linecolor": "white",
            "ticks": ""
           },
           "baxis": {
            "gridcolor": "white",
            "linecolor": "white",
            "ticks": ""
           },
           "bgcolor": "#E5ECF6",
           "caxis": {
            "gridcolor": "white",
            "linecolor": "white",
            "ticks": ""
           }
          },
          "title": {
           "x": 0.05
          },
          "xaxis": {
           "automargin": true,
           "gridcolor": "white",
           "linecolor": "white",
           "ticks": "",
           "title": {
            "standoff": 15
           },
           "zerolinecolor": "white",
           "zerolinewidth": 2
          },
          "yaxis": {
           "automargin": true,
           "gridcolor": "white",
           "linecolor": "white",
           "ticks": "",
           "title": {
            "standoff": 15
           },
           "zerolinecolor": "white",
           "zerolinewidth": 2
          }
         }
        },
        "title": {
         "text": "Semantic Expansion over Writing Sessions<br><span style=\"font-size: 12px;\">*Measuring how well humans are learning while writing with GenAI</span>"
        },
        "width": 1800,
        "xaxis": {
         "anchor": "y",
         "domain": [
          0,
          1
         ],
         "gridcolor": "white",
         "linecolor": "black",
         "mirror": false,
         "range": [
          -1,
          84
         ],
         "showline": true,
         "ticks": "outside",
         "title": {
          "text": "Progress into the writing session"
         }
        },
        "yaxis": {
         "anchor": "x",
         "domain": [
          0,
          1
         ],
         "gridcolor": "white",
         "linecolor": "black",
         "mirror": false,
         "showline": true,
         "ticks": "outside",
         "title": {
          "text": "Scores"
         }
        }
       }
      }
     },
     "metadata": {},
     "output_type": "display_data"
    },
    {
     "name": "stdout",
     "output_type": "stream",
     "text": [
      "legislation_antitrust_8\n"
     ]
    },
    {
     "data": {
      "application/vnd.plotly.v1+json": {
       "config": {
        "plotlyServerURL": "https://plot.ly"
       },
       "data": [
        {
         "hovertemplate": "x=%{x}<br>y=%{y}<extra></extra>",
         "line": {
          "color": "#64B5F6",
          "width": 3
         },
         "marker": {
          "color": "#64B5F6",
          "size": 7
         },
         "mode": "lines+markers",
         "showlegend": false,
         "type": "scatter",
         "x": [
          35,
          36
         ],
         "xaxis": "x",
         "y": [
          9.543049454689026,
          7.801794528961182
         ],
         "yaxis": "y"
        },
        {
         "hovertemplate": "x=%{x}<br>y=%{y}<extra></extra>",
         "line": {
          "color": "#64B5F6",
          "width": 3
         },
         "marker": {
          "color": "#64B5F6",
          "size": 7
         },
         "mode": "lines+markers",
         "showlegend": false,
         "type": "scatter",
         "x": [
          32,
          33
         ],
         "xaxis": "x",
         "y": [
          9.096752107143402,
          9.608762681484222
         ],
         "yaxis": "y"
        },
        {
         "hovertemplate": "x=%{x}<br>y=%{y}<extra></extra>",
         "line": {
          "color": "#64B5F6",
          "width": 3
         },
         "marker": {
          "color": "#64B5F6",
          "size": 7
         },
         "mode": "lines+markers",
         "showlegend": false,
         "type": "scatter",
         "x": [
          28,
          29
         ],
         "xaxis": "x",
         "y": [
          6.25322300195694,
          5.59191370010376
         ],
         "yaxis": "y"
        },
        {
         "hovertemplate": "x=%{x}<br>y=%{y}<extra></extra>",
         "line": {
          "color": "#64B5F6",
          "width": 3
         },
         "marker": {
          "color": "#64B5F6",
          "size": 7
         },
         "mode": "lines+markers",
         "showlegend": false,
         "type": "scatter",
         "x": [
          22,
          23
         ],
         "xaxis": "x",
         "y": [
          4.333328723907471,
          4.588950991630554
         ],
         "yaxis": "y"
        },
        {
         "hovertemplate": "x=%{x}<br>y=%{y}<extra></extra>",
         "line": {
          "color": "#64B5F6",
          "width": 3
         },
         "marker": {
          "color": "#64B5F6",
          "size": 7
         },
         "mode": "lines+markers",
         "showlegend": false,
         "type": "scatter",
         "x": [
          19,
          20
         ],
         "xaxis": "x",
         "y": [
          4.4211108684539795,
          4.809571146965027
         ],
         "yaxis": "y"
        },
        {
         "hovertemplate": "x=%{x}<br>y=%{y}<extra></extra>",
         "line": {
          "color": "#64B5F6",
          "width": 3
         },
         "marker": {
          "color": "#64B5F6",
          "size": 7
         },
         "mode": "lines+markers",
         "showlegend": false,
         "type": "scatter",
         "x": [
          16,
          17
         ],
         "xaxis": "x",
         "y": [
          4.133689224720001,
          2.803566336631775
         ],
         "yaxis": "y"
        },
        {
         "hovertemplate": "x=%{x}<br>y=%{y}<extra></extra>",
         "line": {
          "color": "#64B5F6",
          "width": 3
         },
         "marker": {
          "color": "#64B5F6",
          "size": 7
         },
         "mode": "lines+markers",
         "showlegend": false,
         "type": "scatter",
         "x": [
          6,
          7
         ],
         "xaxis": "x",
         "y": [
          1.3028186559677124,
          1.627523124217987
         ],
         "yaxis": "y"
        },
        {
         "hovertemplate": "x=%{x}<br>y=%{y}<extra></extra>",
         "line": {
          "color": "#64B5F6",
          "width": 3
         },
         "marker": {
          "color": "#64B5F6",
          "size": 7
         },
         "mode": "lines+markers",
         "showlegend": false,
         "type": "scatter",
         "x": [
          0,
          1
         ],
         "xaxis": "x",
         "y": [
          0,
          0.3431759476661682
         ],
         "yaxis": "y"
        },
        {
         "hovertemplate": "x=%{x}<br>y=%{y}<extra></extra>",
         "line": {
          "color": "#ff8fab",
          "width": 3
         },
         "marker": {
          "color": "#ff8fab",
          "size": 7
         },
         "mode": "lines+markers",
         "showlegend": false,
         "type": "scatter",
         "x": [
          36,
          37
         ],
         "xaxis": "x",
         "y": [
          7.801794528961182,
          8.084009981155395
         ],
         "yaxis": "y"
        },
        {
         "hovertemplate": "x=%{x}<br>y=%{y}<extra></extra>",
         "line": {
          "color": "#ff8fab",
          "width": 3
         },
         "marker": {
          "color": "#ff8fab",
          "size": 7
         },
         "mode": "lines+markers",
         "showlegend": false,
         "type": "scatter",
         "x": [
          33,
          34
         ],
         "xaxis": "x",
         "y": [
          9.608762681484222,
          10.085765039920807
         ],
         "yaxis": "y"
        },
        {
         "hovertemplate": "x=%{x}<br>y=%{y}<extra></extra>",
         "line": {
          "color": "#ff8fab",
          "width": 3
         },
         "marker": {
          "color": "#ff8fab",
          "size": 7
         },
         "mode": "lines+markers",
         "showlegend": false,
         "type": "scatter",
         "x": [
          29,
          30
         ],
         "xaxis": "x",
         "y": [
          5.59191370010376,
          6.118858027458191
         ],
         "yaxis": "y"
        },
        {
         "hovertemplate": "x=%{x}<br>y=%{y}<extra></extra>",
         "line": {
          "color": "#ff8fab",
          "width": 3
         },
         "marker": {
          "color": "#ff8fab",
          "size": 7
         },
         "mode": "lines+markers",
         "showlegend": false,
         "type": "scatter",
         "x": [
          23,
          24
         ],
         "xaxis": "x",
         "y": [
          4.588950991630554,
          4.916338062286377
         ],
         "yaxis": "y"
        },
        {
         "hovertemplate": "x=%{x}<br>y=%{y}<extra></extra>",
         "line": {
          "color": "#ff8fab",
          "width": 3
         },
         "marker": {
          "color": "#ff8fab",
          "size": 7
         },
         "mode": "lines+markers",
         "showlegend": false,
         "type": "scatter",
         "x": [
          20,
          21
         ],
         "xaxis": "x",
         "y": [
          4.809571146965027,
          5.368683540821076
         ],
         "yaxis": "y"
        },
        {
         "hovertemplate": "x=%{x}<br>y=%{y}<extra></extra>",
         "line": {
          "color": "#ff8fab",
          "width": 3
         },
         "marker": {
          "color": "#ff8fab",
          "size": 7
         },
         "mode": "lines+markers",
         "showlegend": false,
         "type": "scatter",
         "x": [
          17,
          18
         ],
         "xaxis": "x",
         "y": [
          2.803566336631775,
          3.094843053817749
         ],
         "yaxis": "y"
        },
        {
         "hovertemplate": "x=%{x}<br>y=%{y}<extra></extra>",
         "line": {
          "color": "#ff8fab",
          "width": 3
         },
         "marker": {
          "color": "#ff8fab",
          "size": 7
         },
         "mode": "lines+markers",
         "showlegend": false,
         "type": "scatter",
         "x": [
          14,
          15
         ],
         "xaxis": "x",
         "y": [
          3.81963574886322,
          4.247705829143524
         ],
         "yaxis": "y"
        },
        {
         "hovertemplate": "x=%{x}<br>y=%{y}<extra></extra>",
         "line": {
          "color": "#ff8fab",
          "width": 3
         },
         "marker": {
          "color": "#ff8fab",
          "size": 7
         },
         "mode": "lines+markers",
         "showlegend": false,
         "type": "scatter",
         "x": [
          7,
          8
         ],
         "xaxis": "x",
         "y": [
          1.627523124217987,
          2.0642064809799194
         ],
         "yaxis": "y"
        },
        {
         "hovertemplate": "x=%{x}<br>y=%{y}<extra></extra>",
         "line": {
          "color": "#ff8fab",
          "width": 3
         },
         "marker": {
          "color": "#ff8fab",
          "size": 7
         },
         "mode": "lines+markers",
         "showlegend": false,
         "type": "scatter",
         "x": [
          1,
          2
         ],
         "xaxis": "x",
         "y": [
          0.3431759476661682,
          0.6547239780426025
         ],
         "yaxis": "y"
        },
        {
         "hovertemplate": "x=%{x}<br>y=%{y}<extra></extra>",
         "line": {
          "color": "#023e8a",
          "width": 3
         },
         "marker": {
          "color": "#023e8a",
          "size": 7
         },
         "mode": "lines+markers",
         "showlegend": false,
         "type": "scatter",
         "x": [
          39,
          40
         ],
         "xaxis": "x",
         "y": [
          9.986508667469025,
          10.26351946592331
         ],
         "yaxis": "y"
        },
        {
         "hovertemplate": "x=%{x}<br>y=%{y}<extra></extra>",
         "line": {
          "color": "#023e8a",
          "width": 3
         },
         "marker": {
          "color": "#023e8a",
          "size": 7
         },
         "mode": "lines+markers",
         "showlegend": false,
         "type": "scatter",
         "x": [
          34,
          35
         ],
         "xaxis": "x",
         "y": [
          9.096752107143402,
          9.543049454689026
         ],
         "yaxis": "y"
        },
        {
         "hovertemplate": "x=%{x}<br>y=%{y}<extra></extra>",
         "line": {
          "color": "#023e8a",
          "width": 3
         },
         "marker": {
          "color": "#023e8a",
          "size": 7
         },
         "mode": "lines+markers",
         "showlegend": false,
         "type": "scatter",
         "x": [
          27,
          28
         ],
         "xaxis": "x",
         "y": [
          5.430241763591766,
          6.25322300195694
         ],
         "yaxis": "y"
        },
        {
         "hovertemplate": "x=%{x}<br>y=%{y}<extra></extra>",
         "line": {
          "color": "#023e8a",
          "width": 3
         },
         "marker": {
          "color": "#023e8a",
          "size": 7
         },
         "mode": "lines+markers",
         "showlegend": false,
         "type": "scatter",
         "x": [
          26,
          27
         ],
         "xaxis": "x",
         "y": [
          5.188356935977936,
          5.430241763591766
         ],
         "yaxis": "y"
        },
        {
         "hovertemplate": "x=%{x}<br>y=%{y}<extra></extra>",
         "line": {
          "color": "#023e8a",
          "width": 3
         },
         "marker": {
          "color": "#023e8a",
          "size": 7
         },
         "mode": "lines+markers",
         "showlegend": false,
         "type": "scatter",
         "x": [
          25,
          26
         ],
         "xaxis": "x",
         "y": [
          4.649536073207855,
          5.188356935977936
         ],
         "yaxis": "y"
        },
        {
         "hovertemplate": "x=%{x}<br>y=%{y}<extra></extra>",
         "line": {
          "color": "#023e8a",
          "width": 3
         },
         "marker": {
          "color": "#023e8a",
          "size": 7
         },
         "mode": "lines+markers",
         "showlegend": false,
         "type": "scatter",
         "x": [
          15,
          16
         ],
         "xaxis": "x",
         "y": [
          3.81963574886322,
          4.133689224720001
         ],
         "yaxis": "y"
        },
        {
         "hovertemplate": "x=%{x}<br>y=%{y}<extra></extra>",
         "line": {
          "color": "#023e8a",
          "width": 3
         },
         "marker": {
          "color": "#023e8a",
          "size": 7
         },
         "mode": "lines+markers",
         "showlegend": false,
         "type": "scatter",
         "x": [
          13,
          14
         ],
         "xaxis": "x",
         "y": [
          3.126158118247986,
          3.81963574886322
         ],
         "yaxis": "y"
        },
        {
         "hovertemplate": "x=%{x}<br>y=%{y}<extra></extra>",
         "line": {
          "color": "#023e8a",
          "width": 3
         },
         "marker": {
          "color": "#023e8a",
          "size": 7
         },
         "mode": "lines+markers",
         "showlegend": false,
         "type": "scatter",
         "x": [
          12,
          13
         ],
         "xaxis": "x",
         "y": [
          2.330822229385376,
          3.126158118247986
         ],
         "yaxis": "y"
        },
        {
         "hovertemplate": "x=%{x}<br>y=%{y}<extra></extra>",
         "line": {
          "color": "#023e8a",
          "width": 3
         },
         "marker": {
          "color": "#023e8a",
          "size": 7
         },
         "mode": "lines+markers",
         "showlegend": false,
         "type": "scatter",
         "x": [
          11,
          12
         ],
         "xaxis": "x",
         "y": [
          1.9289789199829102,
          2.330822229385376
         ],
         "yaxis": "y"
        },
        {
         "hovertemplate": "x=%{x}<br>y=%{y}<extra></extra>",
         "line": {
          "color": "#023e8a",
          "width": 3
         },
         "marker": {
          "color": "#023e8a",
          "size": 7
         },
         "mode": "lines+markers",
         "showlegend": false,
         "type": "scatter",
         "x": [
          10,
          11
         ],
         "xaxis": "x",
         "y": [
          1.6360391974449158,
          1.9289789199829102
         ],
         "yaxis": "y"
        },
        {
         "hovertemplate": "x=%{x}<br>y=%{y}<extra></extra>",
         "line": {
          "color": "#023e8a",
          "width": 3
         },
         "marker": {
          "color": "#023e8a",
          "size": 7
         },
         "mode": "lines+markers",
         "showlegend": false,
         "type": "scatter",
         "x": [
          8,
          9
         ],
         "xaxis": "x",
         "y": [
          1.3028186559677124,
          1.593275249004364
         ],
         "yaxis": "y"
        },
        {
         "hovertemplate": "x=%{x}<br>y=%{y}<extra></extra>",
         "line": {
          "color": "#023e8a",
          "width": 3
         },
         "marker": {
          "color": "#023e8a",
          "size": 7
         },
         "mode": "lines+markers",
         "showlegend": false,
         "type": "scatter",
         "x": [
          5,
          6
         ],
         "xaxis": "x",
         "y": [
          1.0494059920310974,
          1.3028186559677124
         ],
         "yaxis": "y"
        },
        {
         "hovertemplate": "x=%{x}<br>y=%{y}<extra></extra>",
         "line": {
          "color": "#023e8a",
          "width": 3
         },
         "marker": {
          "color": "#023e8a",
          "size": 7
         },
         "mode": "lines+markers",
         "showlegend": false,
         "type": "scatter",
         "x": [
          4,
          5
         ],
         "xaxis": "x",
         "y": [
          0.8367364406585693,
          1.0494059920310974
         ],
         "yaxis": "y"
        },
        {
         "hovertemplate": "x=%{x}<br>y=%{y}<extra></extra>",
         "line": {
          "color": "#023e8a",
          "width": 3
         },
         "marker": {
          "color": "#023e8a",
          "size": 7
         },
         "mode": "lines+markers",
         "showlegend": false,
         "type": "scatter",
         "x": [
          3,
          4
         ],
         "xaxis": "x",
         "y": [
          0.6220897436141968,
          0.8367364406585693
         ],
         "yaxis": "y"
        },
        {
         "hovertemplate": "x=%{x}<br>y=%{y}<extra></extra>",
         "line": {
          "color": "#023e8a",
          "width": 3
         },
         "marker": {
          "color": "#023e8a",
          "size": 7
         },
         "mode": "lines+markers",
         "showlegend": false,
         "type": "scatter",
         "x": [
          2,
          3
         ],
         "xaxis": "x",
         "y": [
          0,
          0.6220897436141968
         ],
         "yaxis": "y"
        },
        {
         "hovertemplate": "x=%{x}<br>y=%{y}<extra></extra>",
         "line": {
          "color": "#c1121f",
          "width": 3
         },
         "marker": {
          "color": "#c1121f",
          "size": 7
         },
         "mode": "lines+markers",
         "showlegend": false,
         "type": "scatter",
         "x": [
          37,
          38
         ],
         "xaxis": "x",
         "y": [
          9.543049454689026,
          10.216717898845673
         ],
         "yaxis": "y"
        },
        {
         "hovertemplate": "x=%{x}<br>y=%{y}<extra></extra>",
         "line": {
          "color": "#c1121f",
          "width": 3
         },
         "marker": {
          "color": "#c1121f",
          "size": 7
         },
         "mode": "lines+markers",
         "showlegend": false,
         "type": "scatter",
         "x": [
          30,
          31
         ],
         "xaxis": "x",
         "y": [
          6.25322300195694,
          9.096752107143402
         ],
         "yaxis": "y"
        },
        {
         "hovertemplate": "x=%{x}<br>y=%{y}<extra></extra>",
         "line": {
          "color": "#c1121f",
          "width": 3
         },
         "marker": {
          "color": "#c1121f",
          "size": 7
         },
         "mode": "lines+markers",
         "showlegend": false,
         "type": "scatter",
         "x": [
          24,
          25
         ],
         "xaxis": "x",
         "y": [
          4.333328723907471,
          4.649536073207855
         ],
         "yaxis": "y"
        },
        {
         "hovertemplate": "x=%{x}<br>y=%{y}<extra></extra>",
         "line": {
          "color": "#c1121f",
          "width": 3
         },
         "marker": {
          "color": "#c1121f",
          "size": 7
         },
         "mode": "lines+markers",
         "showlegend": false,
         "type": "scatter",
         "x": [
          21,
          22
         ],
         "xaxis": "x",
         "y": [
          4.4211108684539795,
          4.333328723907471
         ],
         "yaxis": "y"
        },
        {
         "hovertemplate": "x=%{x}<br>y=%{y}<extra></extra>",
         "line": {
          "color": "#c1121f",
          "width": 3
         },
         "marker": {
          "color": "#c1121f",
          "size": 7
         },
         "mode": "lines+markers",
         "showlegend": false,
         "type": "scatter",
         "x": [
          18,
          19
         ],
         "xaxis": "x",
         "y": [
          4.133689224720001,
          4.4211108684539795
         ],
         "yaxis": "y"
        },
        {
         "hovertemplate": "x=%{x}<br>y=%{y}<extra></extra>",
         "line": {
          "color": "#9d4edd",
          "width": 3
         },
         "marker": {
          "color": "#9d4edd",
          "size": 7
         },
         "mode": "lines+markers",
         "showlegend": false,
         "type": "scatter",
         "x": [
          38,
          39
         ],
         "xaxis": "x",
         "y": [
          10.216717898845673,
          9.986508667469025
         ],
         "yaxis": "y"
        },
        {
         "hovertemplate": "x=%{x}<br>y=%{y}<extra></extra>",
         "line": {
          "color": "#9d4edd",
          "width": 3
         },
         "marker": {
          "color": "#9d4edd",
          "size": 7
         },
         "mode": "lines+markers",
         "showlegend": false,
         "type": "scatter",
         "x": [
          31,
          32
         ],
         "xaxis": "x",
         "y": [
          9.096752107143402,
          9.096752107143402
         ],
         "yaxis": "y"
        },
        {
         "hovertemplate": "x=%{x}<br>y=%{y}<extra></extra>",
         "line": {
          "color": "#9d4edd",
          "width": 3
         },
         "marker": {
          "color": "#9d4edd",
          "size": 7
         },
         "mode": "lines+markers",
         "showlegend": false,
         "type": "scatter",
         "x": [
          9,
          10
         ],
         "xaxis": "x",
         "y": [
          1.593275249004364,
          1.6360391974449158
         ],
         "yaxis": "y"
        },
        {
         "line": {
          "color": "#64B5F6",
          "width": 2
         },
         "mode": "lines",
         "name": "human_insert_backstage",
         "showlegend": true,
         "type": "scatter",
         "x": [
          null
         ],
         "xaxis": "x",
         "y": [
          null
         ],
         "yaxis": "y"
        },
        {
         "line": {
          "color": "#ff8fab",
          "width": 2
         },
         "mode": "lines",
         "name": "ai_suggest_backstage",
         "showlegend": true,
         "type": "scatter",
         "x": [
          null
         ],
         "xaxis": "x",
         "y": [
          null
         ],
         "yaxis": "y"
        },
        {
         "line": {
          "color": "#023e8a",
          "width": 2
         },
         "mode": "lines",
         "name": "human_insert_frontstage",
         "showlegend": true,
         "type": "scatter",
         "x": [
          null
         ],
         "xaxis": "x",
         "y": [
          null
         ],
         "yaxis": "y"
        },
        {
         "line": {
          "color": "#c1121f",
          "width": 2
         },
         "mode": "lines",
         "name": "ai_insert_moved_to_frontstage",
         "showlegend": true,
         "type": "scatter",
         "x": [
          null
         ],
         "xaxis": "x",
         "y": [
          null
         ],
         "yaxis": "y"
        },
        {
         "line": {
          "color": "#9d4edd",
          "width": 2
         },
         "mode": "lines",
         "name": "human_delete_frontstage",
         "showlegend": true,
         "type": "scatter",
         "x": [
          null
         ],
         "xaxis": "x",
         "y": [
          null
         ],
         "yaxis": "y"
        },
        {
         "line": {
          "color": "#5a189a",
          "width": 2
         },
         "mode": "lines",
         "name": "human_insert_edit_frontstage",
         "showlegend": true,
         "type": "scatter",
         "x": [
          null
         ],
         "xaxis": "x",
         "y": [
          null
         ],
         "yaxis": "y"
        }
       ],
       "layout": {
        "annotations": [
         {
          "font": {
           "size": 16
          },
          "showarrow": false,
          "text": "Session: legislation_antitrust_8",
          "x": 0.5,
          "xanchor": "center",
          "xref": "paper",
          "y": 1,
          "yanchor": "bottom",
          "yref": "paper"
         }
        ],
        "height": 500,
        "legend": {
         "title": {
          "font": {
           "color": "rgba(0, 0, 0, 0)"
          }
         }
        },
        "plot_bgcolor": "white",
        "showlegend": true,
        "template": {
         "data": {
          "bar": [
           {
            "error_x": {
             "color": "#2a3f5f"
            },
            "error_y": {
             "color": "#2a3f5f"
            },
            "marker": {
             "line": {
              "color": "#E5ECF6",
              "width": 0.5
             },
             "pattern": {
              "fillmode": "overlay",
              "size": 10,
              "solidity": 0.2
             }
            },
            "type": "bar"
           }
          ],
          "barpolar": [
           {
            "marker": {
             "line": {
              "color": "#E5ECF6",
              "width": 0.5
             },
             "pattern": {
              "fillmode": "overlay",
              "size": 10,
              "solidity": 0.2
             }
            },
            "type": "barpolar"
           }
          ],
          "carpet": [
           {
            "aaxis": {
             "endlinecolor": "#2a3f5f",
             "gridcolor": "white",
             "linecolor": "white",
             "minorgridcolor": "white",
             "startlinecolor": "#2a3f5f"
            },
            "baxis": {
             "endlinecolor": "#2a3f5f",
             "gridcolor": "white",
             "linecolor": "white",
             "minorgridcolor": "white",
             "startlinecolor": "#2a3f5f"
            },
            "type": "carpet"
           }
          ],
          "choropleth": [
           {
            "colorbar": {
             "outlinewidth": 0,
             "ticks": ""
            },
            "type": "choropleth"
           }
          ],
          "contour": [
           {
            "colorbar": {
             "outlinewidth": 0,
             "ticks": ""
            },
            "colorscale": [
             [
              0,
              "#0d0887"
             ],
             [
              0.1111111111111111,
              "#46039f"
             ],
             [
              0.2222222222222222,
              "#7201a8"
             ],
             [
              0.3333333333333333,
              "#9c179e"
             ],
             [
              0.4444444444444444,
              "#bd3786"
             ],
             [
              0.5555555555555556,
              "#d8576b"
             ],
             [
              0.6666666666666666,
              "#ed7953"
             ],
             [
              0.7777777777777778,
              "#fb9f3a"
             ],
             [
              0.8888888888888888,
              "#fdca26"
             ],
             [
              1,
              "#f0f921"
             ]
            ],
            "type": "contour"
           }
          ],
          "contourcarpet": [
           {
            "colorbar": {
             "outlinewidth": 0,
             "ticks": ""
            },
            "type": "contourcarpet"
           }
          ],
          "heatmap": [
           {
            "colorbar": {
             "outlinewidth": 0,
             "ticks": ""
            },
            "colorscale": [
             [
              0,
              "#0d0887"
             ],
             [
              0.1111111111111111,
              "#46039f"
             ],
             [
              0.2222222222222222,
              "#7201a8"
             ],
             [
              0.3333333333333333,
              "#9c179e"
             ],
             [
              0.4444444444444444,
              "#bd3786"
             ],
             [
              0.5555555555555556,
              "#d8576b"
             ],
             [
              0.6666666666666666,
              "#ed7953"
             ],
             [
              0.7777777777777778,
              "#fb9f3a"
             ],
             [
              0.8888888888888888,
              "#fdca26"
             ],
             [
              1,
              "#f0f921"
             ]
            ],
            "type": "heatmap"
           }
          ],
          "histogram": [
           {
            "marker": {
             "pattern": {
              "fillmode": "overlay",
              "size": 10,
              "solidity": 0.2
             }
            },
            "type": "histogram"
           }
          ],
          "histogram2d": [
           {
            "colorbar": {
             "outlinewidth": 0,
             "ticks": ""
            },
            "colorscale": [
             [
              0,
              "#0d0887"
             ],
             [
              0.1111111111111111,
              "#46039f"
             ],
             [
              0.2222222222222222,
              "#7201a8"
             ],
             [
              0.3333333333333333,
              "#9c179e"
             ],
             [
              0.4444444444444444,
              "#bd3786"
             ],
             [
              0.5555555555555556,
              "#d8576b"
             ],
             [
              0.6666666666666666,
              "#ed7953"
             ],
             [
              0.7777777777777778,
              "#fb9f3a"
             ],
             [
              0.8888888888888888,
              "#fdca26"
             ],
             [
              1,
              "#f0f921"
             ]
            ],
            "type": "histogram2d"
           }
          ],
          "histogram2dcontour": [
           {
            "colorbar": {
             "outlinewidth": 0,
             "ticks": ""
            },
            "colorscale": [
             [
              0,
              "#0d0887"
             ],
             [
              0.1111111111111111,
              "#46039f"
             ],
             [
              0.2222222222222222,
              "#7201a8"
             ],
             [
              0.3333333333333333,
              "#9c179e"
             ],
             [
              0.4444444444444444,
              "#bd3786"
             ],
             [
              0.5555555555555556,
              "#d8576b"
             ],
             [
              0.6666666666666666,
              "#ed7953"
             ],
             [
              0.7777777777777778,
              "#fb9f3a"
             ],
             [
              0.8888888888888888,
              "#fdca26"
             ],
             [
              1,
              "#f0f921"
             ]
            ],
            "type": "histogram2dcontour"
           }
          ],
          "mesh3d": [
           {
            "colorbar": {
             "outlinewidth": 0,
             "ticks": ""
            },
            "type": "mesh3d"
           }
          ],
          "parcoords": [
           {
            "line": {
             "colorbar": {
              "outlinewidth": 0,
              "ticks": ""
             }
            },
            "type": "parcoords"
           }
          ],
          "pie": [
           {
            "automargin": true,
            "type": "pie"
           }
          ],
          "scatter": [
           {
            "fillpattern": {
             "fillmode": "overlay",
             "size": 10,
             "solidity": 0.2
            },
            "type": "scatter"
           }
          ],
          "scatter3d": [
           {
            "line": {
             "colorbar": {
              "outlinewidth": 0,
              "ticks": ""
             }
            },
            "marker": {
             "colorbar": {
              "outlinewidth": 0,
              "ticks": ""
             }
            },
            "type": "scatter3d"
           }
          ],
          "scattercarpet": [
           {
            "marker": {
             "colorbar": {
              "outlinewidth": 0,
              "ticks": ""
             }
            },
            "type": "scattercarpet"
           }
          ],
          "scattergeo": [
           {
            "marker": {
             "colorbar": {
              "outlinewidth": 0,
              "ticks": ""
             }
            },
            "type": "scattergeo"
           }
          ],
          "scattergl": [
           {
            "marker": {
             "colorbar": {
              "outlinewidth": 0,
              "ticks": ""
             }
            },
            "type": "scattergl"
           }
          ],
          "scattermap": [
           {
            "marker": {
             "colorbar": {
              "outlinewidth": 0,
              "ticks": ""
             }
            },
            "type": "scattermap"
           }
          ],
          "scattermapbox": [
           {
            "marker": {
             "colorbar": {
              "outlinewidth": 0,
              "ticks": ""
             }
            },
            "type": "scattermapbox"
           }
          ],
          "scatterpolar": [
           {
            "marker": {
             "colorbar": {
              "outlinewidth": 0,
              "ticks": ""
             }
            },
            "type": "scatterpolar"
           }
          ],
          "scatterpolargl": [
           {
            "marker": {
             "colorbar": {
              "outlinewidth": 0,
              "ticks": ""
             }
            },
            "type": "scatterpolargl"
           }
          ],
          "scatterternary": [
           {
            "marker": {
             "colorbar": {
              "outlinewidth": 0,
              "ticks": ""
             }
            },
            "type": "scatterternary"
           }
          ],
          "surface": [
           {
            "colorbar": {
             "outlinewidth": 0,
             "ticks": ""
            },
            "colorscale": [
             [
              0,
              "#0d0887"
             ],
             [
              0.1111111111111111,
              "#46039f"
             ],
             [
              0.2222222222222222,
              "#7201a8"
             ],
             [
              0.3333333333333333,
              "#9c179e"
             ],
             [
              0.4444444444444444,
              "#bd3786"
             ],
             [
              0.5555555555555556,
              "#d8576b"
             ],
             [
              0.6666666666666666,
              "#ed7953"
             ],
             [
              0.7777777777777778,
              "#fb9f3a"
             ],
             [
              0.8888888888888888,
              "#fdca26"
             ],
             [
              1,
              "#f0f921"
             ]
            ],
            "type": "surface"
           }
          ],
          "table": [
           {
            "cells": {
             "fill": {
              "color": "#EBF0F8"
             },
             "line": {
              "color": "white"
             }
            },
            "header": {
             "fill": {
              "color": "#C8D4E3"
             },
             "line": {
              "color": "white"
             }
            },
            "type": "table"
           }
          ]
         },
         "layout": {
          "annotationdefaults": {
           "arrowcolor": "#2a3f5f",
           "arrowhead": 0,
           "arrowwidth": 1
          },
          "autotypenumbers": "strict",
          "coloraxis": {
           "colorbar": {
            "outlinewidth": 0,
            "ticks": ""
           }
          },
          "colorscale": {
           "diverging": [
            [
             0,
             "#8e0152"
            ],
            [
             0.1,
             "#c51b7d"
            ],
            [
             0.2,
             "#de77ae"
            ],
            [
             0.3,
             "#f1b6da"
            ],
            [
             0.4,
             "#fde0ef"
            ],
            [
             0.5,
             "#f7f7f7"
            ],
            [
             0.6,
             "#e6f5d0"
            ],
            [
             0.7,
             "#b8e186"
            ],
            [
             0.8,
             "#7fbc41"
            ],
            [
             0.9,
             "#4d9221"
            ],
            [
             1,
             "#276419"
            ]
           ],
           "sequential": [
            [
             0,
             "#0d0887"
            ],
            [
             0.1111111111111111,
             "#46039f"
            ],
            [
             0.2222222222222222,
             "#7201a8"
            ],
            [
             0.3333333333333333,
             "#9c179e"
            ],
            [
             0.4444444444444444,
             "#bd3786"
            ],
            [
             0.5555555555555556,
             "#d8576b"
            ],
            [
             0.6666666666666666,
             "#ed7953"
            ],
            [
             0.7777777777777778,
             "#fb9f3a"
            ],
            [
             0.8888888888888888,
             "#fdca26"
            ],
            [
             1,
             "#f0f921"
            ]
           ],
           "sequentialminus": [
            [
             0,
             "#0d0887"
            ],
            [
             0.1111111111111111,
             "#46039f"
            ],
            [
             0.2222222222222222,
             "#7201a8"
            ],
            [
             0.3333333333333333,
             "#9c179e"
            ],
            [
             0.4444444444444444,
             "#bd3786"
            ],
            [
             0.5555555555555556,
             "#d8576b"
            ],
            [
             0.6666666666666666,
             "#ed7953"
            ],
            [
             0.7777777777777778,
             "#fb9f3a"
            ],
            [
             0.8888888888888888,
             "#fdca26"
            ],
            [
             1,
             "#f0f921"
            ]
           ]
          },
          "colorway": [
           "#636efa",
           "#EF553B",
           "#00cc96",
           "#ab63fa",
           "#FFA15A",
           "#19d3f3",
           "#FF6692",
           "#B6E880",
           "#FF97FF",
           "#FECB52"
          ],
          "font": {
           "color": "#2a3f5f"
          },
          "geo": {
           "bgcolor": "white",
           "lakecolor": "white",
           "landcolor": "#E5ECF6",
           "showlakes": true,
           "showland": true,
           "subunitcolor": "white"
          },
          "hoverlabel": {
           "align": "left"
          },
          "hovermode": "closest",
          "mapbox": {
           "style": "light"
          },
          "paper_bgcolor": "white",
          "plot_bgcolor": "#E5ECF6",
          "polar": {
           "angularaxis": {
            "gridcolor": "white",
            "linecolor": "white",
            "ticks": ""
           },
           "bgcolor": "#E5ECF6",
           "radialaxis": {
            "gridcolor": "white",
            "linecolor": "white",
            "ticks": ""
           }
          },
          "scene": {
           "xaxis": {
            "backgroundcolor": "#E5ECF6",
            "gridcolor": "white",
            "gridwidth": 2,
            "linecolor": "white",
            "showbackground": true,
            "ticks": "",
            "zerolinecolor": "white"
           },
           "yaxis": {
            "backgroundcolor": "#E5ECF6",
            "gridcolor": "white",
            "gridwidth": 2,
            "linecolor": "white",
            "showbackground": true,
            "ticks": "",
            "zerolinecolor": "white"
           },
           "zaxis": {
            "backgroundcolor": "#E5ECF6",
            "gridcolor": "white",
            "gridwidth": 2,
            "linecolor": "white",
            "showbackground": true,
            "ticks": "",
            "zerolinecolor": "white"
           }
          },
          "shapedefaults": {
           "line": {
            "color": "#2a3f5f"
           }
          },
          "ternary": {
           "aaxis": {
            "gridcolor": "white",
            "linecolor": "white",
            "ticks": ""
           },
           "baxis": {
            "gridcolor": "white",
            "linecolor": "white",
            "ticks": ""
           },
           "bgcolor": "#E5ECF6",
           "caxis": {
            "gridcolor": "white",
            "linecolor": "white",
            "ticks": ""
           }
          },
          "title": {
           "x": 0.05
          },
          "xaxis": {
           "automargin": true,
           "gridcolor": "white",
           "linecolor": "white",
           "ticks": "",
           "title": {
            "standoff": 15
           },
           "zerolinecolor": "white",
           "zerolinewidth": 2
          },
          "yaxis": {
           "automargin": true,
           "gridcolor": "white",
           "linecolor": "white",
           "ticks": "",
           "title": {
            "standoff": 15
           },
           "zerolinecolor": "white",
           "zerolinewidth": 2
          }
         }
        },
        "title": {
         "text": "Semantic Expansion over Writing Sessions<br><span style=\"font-size: 12px;\">*Measuring how well humans are learning while writing with GenAI</span>"
        },
        "width": 1800,
        "xaxis": {
         "anchor": "y",
         "domain": [
          0,
          1
         ],
         "gridcolor": "white",
         "linecolor": "black",
         "mirror": false,
         "range": [
          -1,
          41
         ],
         "showline": true,
         "ticks": "outside",
         "title": {
          "text": "Progress into the writing session"
         }
        },
        "yaxis": {
         "anchor": "x",
         "domain": [
          0,
          1
         ],
         "gridcolor": "white",
         "linecolor": "black",
         "mirror": false,
         "showline": true,
         "ticks": "outside",
         "title": {
          "text": "Scores"
         }
        }
       }
      }
     },
     "metadata": {},
     "output_type": "display_data"
    }
   ],
   "source": [
    "writing_data = level_2_actions_per_session_semantic\n",
    "# Session IDs: An array of sessions you wish to plot.\n",
    "# Adjust as needed. Check session IDs in data exploration for options.\n",
    "session_ids = [\n",
    "    \"legislation_corporate_1\",\n",
    "    \"legislation_corporate_2\",\n",
    "    \"legislation_corporate_3\",\n",
    "    \"legislation_corporate_4\",\n",
    "    \"legislation_corporate_5\",\n",
    "    \"legislation_corporate_6\",\n",
    "    \"legislation_antitrust_1\",\n",
    "    \"legislation_antitrust_2\",\n",
    "    \"legislation_antitrust_3\",\n",
    "    \"legislation_antitrust_4\",\n",
    "    \"legislation_antitrust_5\",\n",
    "    \"legislation_antitrust_6\",\n",
    "    \"legislation_antitrust_7\",\n",
    "    \"legislation_antitrust_8\",\n",
    "]\n",
    "\n",
    "# Generate the plot\n",
    "for session_id in session_ids:\n",
    "    fig = plot_semantic_expansion_sentence(writing_data, [session_id])"
   ]
  }
 ],
 "metadata": {
  "kernelspec": {
   "display_name": ".venv",
   "language": "python",
   "name": "python3"
  },
  "language_info": {
   "codemirror_mode": {
    "name": "ipython",
    "version": 3
   },
   "file_extension": ".py",
   "mimetype": "text/x-python",
   "name": "python",
   "nbconvert_exporter": "python",
   "pygments_lexer": "ipython3",
   "version": "3.9.6"
  }
 },
 "nbformat": 4,
 "nbformat_minor": 5
}
