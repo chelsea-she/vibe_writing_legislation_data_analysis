{
 "cells": [
  {
   "cell_type": "markdown",
   "id": "832f863e",
   "metadata": {},
   "source": [
    "### I. Set up"
   ]
  },
  {
   "cell_type": "code",
   "execution_count": 38,
   "id": "e6bdb4d1",
   "metadata": {},
   "outputs": [
    {
     "name": "stdout",
     "output_type": "stream",
     "text": [
      "Requirement already satisfied: pandas in ./.venv/lib/python3.9/site-packages (2.3.0)\n",
      "Requirement already satisfied: numpy>=1.22.4 in ./.venv/lib/python3.9/site-packages (from pandas) (2.0.2)\n",
      "Requirement already satisfied: python-dateutil>=2.8.2 in ./.venv/lib/python3.9/site-packages (from pandas) (2.9.0.post0)\n",
      "Requirement already satisfied: pytz>=2020.1 in ./.venv/lib/python3.9/site-packages (from pandas) (2025.2)\n",
      "Requirement already satisfied: tzdata>=2022.7 in ./.venv/lib/python3.9/site-packages (from pandas) (2025.2)\n",
      "Requirement already satisfied: six>=1.5 in ./.venv/lib/python3.9/site-packages (from python-dateutil>=2.8.2->pandas) (1.17.0)\n",
      "\n",
      "\u001b[1m[\u001b[0m\u001b[34;49mnotice\u001b[0m\u001b[1;39;49m]\u001b[0m\u001b[39;49m A new release of pip is available: \u001b[0m\u001b[31;49m25.1.1\u001b[0m\u001b[39;49m -> \u001b[0m\u001b[32;49m25.2\u001b[0m\n",
      "\u001b[1m[\u001b[0m\u001b[34;49mnotice\u001b[0m\u001b[1;39;49m]\u001b[0m\u001b[39;49m To update, run: \u001b[0m\u001b[32;49mpip install --upgrade pip\u001b[0m\n",
      "Note: you may need to restart the kernel to use updated packages.\n",
      "Requirement already satisfied: plotly in ./.venv/lib/python3.9/site-packages (6.1.2)\n",
      "Requirement already satisfied: narwhals>=1.15.1 in ./.venv/lib/python3.9/site-packages (from plotly) (1.42.1)\n",
      "Requirement already satisfied: packaging in ./.venv/lib/python3.9/site-packages (from plotly) (25.0)\n",
      "\n",
      "\u001b[1m[\u001b[0m\u001b[34;49mnotice\u001b[0m\u001b[1;39;49m]\u001b[0m\u001b[39;49m A new release of pip is available: \u001b[0m\u001b[31;49m25.1.1\u001b[0m\u001b[39;49m -> \u001b[0m\u001b[32;49m25.2\u001b[0m\n",
      "\u001b[1m[\u001b[0m\u001b[34;49mnotice\u001b[0m\u001b[1;39;49m]\u001b[0m\u001b[39;49m To update, run: \u001b[0m\u001b[32;49mpip install --upgrade pip\u001b[0m\n",
      "Note: you may need to restart the kernel to use updated packages.\n",
      "Requirement already satisfied: nbformat in ./.venv/lib/python3.9/site-packages (5.10.4)\n",
      "Requirement already satisfied: fastjsonschema>=2.15 in ./.venv/lib/python3.9/site-packages (from nbformat) (2.21.1)\n",
      "Requirement already satisfied: jsonschema>=2.6 in ./.venv/lib/python3.9/site-packages (from nbformat) (4.24.0)\n",
      "Requirement already satisfied: jupyter-core!=5.0.*,>=4.12 in ./.venv/lib/python3.9/site-packages (from nbformat) (5.8.1)\n",
      "Requirement already satisfied: traitlets>=5.1 in ./.venv/lib/python3.9/site-packages (from nbformat) (5.14.3)\n",
      "Requirement already satisfied: attrs>=22.2.0 in ./.venv/lib/python3.9/site-packages (from jsonschema>=2.6->nbformat) (25.3.0)\n",
      "Requirement already satisfied: jsonschema-specifications>=2023.03.6 in ./.venv/lib/python3.9/site-packages (from jsonschema>=2.6->nbformat) (2025.4.1)\n",
      "Requirement already satisfied: referencing>=0.28.4 in ./.venv/lib/python3.9/site-packages (from jsonschema>=2.6->nbformat) (0.36.2)\n",
      "Requirement already satisfied: rpds-py>=0.7.1 in ./.venv/lib/python3.9/site-packages (from jsonschema>=2.6->nbformat) (0.25.1)\n",
      "Requirement already satisfied: platformdirs>=2.5 in ./.venv/lib/python3.9/site-packages (from jupyter-core!=5.0.*,>=4.12->nbformat) (4.3.8)\n",
      "Requirement already satisfied: typing-extensions>=4.4.0 in ./.venv/lib/python3.9/site-packages (from referencing>=0.28.4->jsonschema>=2.6->nbformat) (4.14.0)\n",
      "\n",
      "\u001b[1m[\u001b[0m\u001b[34;49mnotice\u001b[0m\u001b[1;39;49m]\u001b[0m\u001b[39;49m A new release of pip is available: \u001b[0m\u001b[31;49m25.1.1\u001b[0m\u001b[39;49m -> \u001b[0m\u001b[32;49m25.2\u001b[0m\n",
      "\u001b[1m[\u001b[0m\u001b[34;49mnotice\u001b[0m\u001b[1;39;49m]\u001b[0m\u001b[39;49m To update, run: \u001b[0m\u001b[32;49mpip install --upgrade pip\u001b[0m\n",
      "Note: you may need to restart the kernel to use updated packages.\n",
      "Requirement already satisfied: nbformat in ./.venv/lib/python3.9/site-packages (5.10.4)\n",
      "Requirement already satisfied: fastjsonschema>=2.15 in ./.venv/lib/python3.9/site-packages (from nbformat) (2.21.1)\n",
      "Requirement already satisfied: jsonschema>=2.6 in ./.venv/lib/python3.9/site-packages (from nbformat) (4.24.0)\n",
      "Requirement already satisfied: jupyter-core!=5.0.*,>=4.12 in ./.venv/lib/python3.9/site-packages (from nbformat) (5.8.1)\n",
      "Requirement already satisfied: traitlets>=5.1 in ./.venv/lib/python3.9/site-packages (from nbformat) (5.14.3)\n",
      "Requirement already satisfied: attrs>=22.2.0 in ./.venv/lib/python3.9/site-packages (from jsonschema>=2.6->nbformat) (25.3.0)\n",
      "Requirement already satisfied: jsonschema-specifications>=2023.03.6 in ./.venv/lib/python3.9/site-packages (from jsonschema>=2.6->nbformat) (2025.4.1)\n",
      "Requirement already satisfied: referencing>=0.28.4 in ./.venv/lib/python3.9/site-packages (from jsonschema>=2.6->nbformat) (0.36.2)\n",
      "Requirement already satisfied: rpds-py>=0.7.1 in ./.venv/lib/python3.9/site-packages (from jsonschema>=2.6->nbformat) (0.25.1)\n",
      "Requirement already satisfied: platformdirs>=2.5 in ./.venv/lib/python3.9/site-packages (from jupyter-core!=5.0.*,>=4.12->nbformat) (4.3.8)\n",
      "Requirement already satisfied: typing-extensions>=4.4.0 in ./.venv/lib/python3.9/site-packages (from referencing>=0.28.4->jsonschema>=2.6->nbformat) (4.14.0)\n",
      "\n",
      "\u001b[1m[\u001b[0m\u001b[34;49mnotice\u001b[0m\u001b[1;39;49m]\u001b[0m\u001b[39;49m A new release of pip is available: \u001b[0m\u001b[31;49m25.1.1\u001b[0m\u001b[39;49m -> \u001b[0m\u001b[32;49m25.2\u001b[0m\n",
      "\u001b[1m[\u001b[0m\u001b[34;49mnotice\u001b[0m\u001b[1;39;49m]\u001b[0m\u001b[39;49m To update, run: \u001b[0m\u001b[32;49mpip install --upgrade pip\u001b[0m\n",
      "Requirement already satisfied: ace_tools_open in ./.venv/lib/python3.9/site-packages (0.1.0)\n",
      "Requirement already satisfied: pandas in ./.venv/lib/python3.9/site-packages (from ace_tools_open) (2.3.0)\n",
      "Requirement already satisfied: itables in ./.venv/lib/python3.9/site-packages (from ace_tools_open) (2.4.4)\n",
      "Requirement already satisfied: IPython in ./.venv/lib/python3.9/site-packages (from ace_tools_open) (8.18.1)\n",
      "Requirement already satisfied: decorator in ./.venv/lib/python3.9/site-packages (from IPython->ace_tools_open) (5.2.1)\n",
      "Requirement already satisfied: jedi>=0.16 in ./.venv/lib/python3.9/site-packages (from IPython->ace_tools_open) (0.19.2)\n",
      "Requirement already satisfied: matplotlib-inline in ./.venv/lib/python3.9/site-packages (from IPython->ace_tools_open) (0.1.7)\n",
      "Requirement already satisfied: prompt-toolkit<3.1.0,>=3.0.41 in ./.venv/lib/python3.9/site-packages (from IPython->ace_tools_open) (3.0.51)\n",
      "Requirement already satisfied: pygments>=2.4.0 in ./.venv/lib/python3.9/site-packages (from IPython->ace_tools_open) (2.19.1)\n",
      "Requirement already satisfied: stack-data in ./.venv/lib/python3.9/site-packages (from IPython->ace_tools_open) (0.6.3)\n",
      "Requirement already satisfied: traitlets>=5 in ./.venv/lib/python3.9/site-packages (from IPython->ace_tools_open) (5.14.3)\n",
      "Requirement already satisfied: typing-extensions in ./.venv/lib/python3.9/site-packages (from IPython->ace_tools_open) (4.14.0)\n",
      "Requirement already satisfied: exceptiongroup in ./.venv/lib/python3.9/site-packages (from IPython->ace_tools_open) (1.3.0)\n",
      "Requirement already satisfied: pexpect>4.3 in ./.venv/lib/python3.9/site-packages (from IPython->ace_tools_open) (4.9.0)\n",
      "Requirement already satisfied: wcwidth in ./.venv/lib/python3.9/site-packages (from prompt-toolkit<3.1.0,>=3.0.41->IPython->ace_tools_open) (0.2.13)\n",
      "Requirement already satisfied: parso<0.9.0,>=0.8.4 in ./.venv/lib/python3.9/site-packages (from jedi>=0.16->IPython->ace_tools_open) (0.8.4)\n",
      "Requirement already satisfied: ptyprocess>=0.5 in ./.venv/lib/python3.9/site-packages (from pexpect>4.3->IPython->ace_tools_open) (0.7.0)\n",
      "Requirement already satisfied: numpy in ./.venv/lib/python3.9/site-packages (from itables->ace_tools_open) (2.0.2)\n",
      "Requirement already satisfied: python-dateutil>=2.8.2 in ./.venv/lib/python3.9/site-packages (from pandas->ace_tools_open) (2.9.0.post0)\n",
      "Requirement already satisfied: pytz>=2020.1 in ./.venv/lib/python3.9/site-packages (from pandas->ace_tools_open) (2025.2)\n",
      "Requirement already satisfied: tzdata>=2022.7 in ./.venv/lib/python3.9/site-packages (from pandas->ace_tools_open) (2025.2)\n",
      "Requirement already satisfied: six>=1.5 in ./.venv/lib/python3.9/site-packages (from python-dateutil>=2.8.2->pandas->ace_tools_open) (1.17.0)\n",
      "Requirement already satisfied: executing>=1.2.0 in ./.venv/lib/python3.9/site-packages (from stack-data->IPython->ace_tools_open) (2.2.0)\n",
      "Requirement already satisfied: asttokens>=2.1.0 in ./.venv/lib/python3.9/site-packages (from stack-data->IPython->ace_tools_open) (3.0.0)\n",
      "Requirement already satisfied: pure-eval in ./.venv/lib/python3.9/site-packages (from stack-data->IPython->ace_tools_open) (0.2.3)\n",
      "\n",
      "\u001b[1m[\u001b[0m\u001b[34;49mnotice\u001b[0m\u001b[1;39;49m]\u001b[0m\u001b[39;49m A new release of pip is available: \u001b[0m\u001b[31;49m25.1.1\u001b[0m\u001b[39;49m -> \u001b[0m\u001b[32;49m25.2\u001b[0m\n",
      "\u001b[1m[\u001b[0m\u001b[34;49mnotice\u001b[0m\u001b[1;39;49m]\u001b[0m\u001b[39;49m To update, run: \u001b[0m\u001b[32;49mpip install --upgrade pip\u001b[0m\n",
      "Note: you may need to restart the kernel to use updated packages.\n"
     ]
    }
   ],
   "source": [
    "%pip install pandas\n",
    "%pip install plotly\n",
    "%pip install nbformat\n",
    "import sys\n",
    "!{sys.executable} -m pip install nbformat --upgrade\n",
    "%pip install ace_tools_open"
   ]
  },
  {
   "cell_type": "code",
   "execution_count": 39,
   "id": "0be59f1a",
   "metadata": {},
   "outputs": [],
   "source": [
    "# Import libraries\n",
    "# Required packages: plotly, pandas\n",
    "import json\n",
    "import pandas as pd\n",
    "from datetime import datetime\n",
    "import plotly.graph_objects as go\n",
    "import plotly.express as px\n",
    "from plotly.subplots import make_subplots\n",
    "import plotly.io as pio\n",
    "from collections import defaultdict\n",
    "import ace_tools_open as tools\n",
    "\n",
    "import level_2_learning_comparisons\n",
    "\n",
    "import matplotlib.pyplot as plt\n",
    "import numpy as np"
   ]
  },
  {
   "cell_type": "code",
   "execution_count": 40,
   "id": "bf98b676",
   "metadata": {},
   "outputs": [],
   "source": [
    "# Load data\n",
    "# Make sure the file name is correct and in the same directory as the script\n",
    "with open(\"level_2_actions_per_session_semantic.json\") as f:\n",
    "    level_2_actions_per_session_semantic = json.load(f)"
   ]
  },
  {
   "cell_type": "markdown",
   "id": "0bd009cc",
   "metadata": {},
   "source": [
    "### II Semantic Visualization - Correlation between semantic expansion per sentence text_insert"
   ]
  },
  {
   "cell_type": "code",
   "execution_count": 41,
   "id": "056e9818",
   "metadata": {},
   "outputs": [],
   "source": [
    "# Plotting and helper functions\n",
    "def plot_semantic_expansion_sentence(writing_data, session_ids):\n",
    "    fig = make_subplots(\n",
    "        rows=len(session_ids),\n",
    "        cols=1,\n",
    "        subplot_titles=[f\"Session: {session_id}\" for session_id in session_ids],\n",
    "        vertical_spacing=0.15,\n",
    "    )\n",
    "    for idx, session_id in enumerate(session_ids, start=1):\n",
    "        if session_id not in writing_data:\n",
    "            print(f\"Warning: No data found for {session_id}\")\n",
    "            continue\n",
    "\n",
    "        session_actions = writing_data[session_id]\n",
    "        learning_data = []\n",
    "\n",
    "        writing_progress = 1\n",
    "        for i, action in enumerate(session_actions):\n",
    "            if \"writing_type\" in action:\n",
    "                if action[\"writing_type\"] == \"backstage\":\n",
    "                    if action[\"level_1_action_type\"] == \"insert_text_human_ai_prompt\":\n",
    "                        learning_data.append(\n",
    "                            {\n",
    "                                \"writing_progress\": writing_progress,\n",
    "                                \"action_type\": action.get(\"action_type\", \"\"),\n",
    "                                \"level_1_action_type\": \"human_insert_backstage\",\n",
    "                                \"semantic_expansion\": action[\"semantic_expansion\"]\n",
    "                            }\n",
    "                        )\n",
    "                        writing_progress += 1\n",
    "                    elif action[\"level_1_action_type\"] == \"present_suggestion\":\n",
    "                        learning_data.append(\n",
    "                            {\n",
    "                                \"writing_progress\": writing_progress,\n",
    "                                \"action_type\": action.get(\"action_type\", \"\"),\n",
    "                                \"level_1_action_type\": \"ai_suggest_backstage\",\n",
    "                                \"semantic_expansion\": action[\"semantic_expansion\"],\n",
    "                            }\n",
    "                        )\n",
    "                        writing_progress += 1\n",
    "                    # NEED TO IMPLEMENT THESE LATER\n",
    "                    # elif action[\"level_1_action_type\"] == \"delete_text\"\n",
    "                    # elif action[\"level_1_action_type\"] == \"human_edit_ai\"\n",
    "                elif action[\"writing_type\"] == \"frontstage\":\n",
    "                    if action[\"level_1_action_type\"] == \"insert_text_human\" and (not \"level_2_action_type\" in action or action[\"level_2_action_type\"] != \"human_edit_ai\"):\n",
    "                        for sentence in action[\"action_modified_sentences\"]:\n",
    "                            learning_data.append(\n",
    "                                {\n",
    "                                    \"writing_progress\": writing_progress,\n",
    "                                    \"action_type\": action.get(\"action_type\", \"\"),\n",
    "                                    \"level_1_action_type\": \"human_insert_frontstage\",\n",
    "                                    \"semantic_expansion\": action[\n",
    "                                        \"semantic_expansion_info\"\n",
    "                                    ][sentence],\n",
    "                                }\n",
    "                            )\n",
    "                            writing_progress += 1\n",
    "                            added = False\n",
    "                    elif \"level_2_action_type\" in action and action[\"level_2_action_type\"] == \"move_frontstage\":\n",
    "                        if (\n",
    "                            action[\"level_1_action_type\"] == \"insert_text_ai\"\n",
    "                            and action[\"semantic_expansion_info\"]\n",
    "                        ):\n",
    "                            learning_data.append(\n",
    "                                {\n",
    "                                    \"writing_progress\": writing_progress,\n",
    "                                    \"action_type\": action.get(\"action_type\", \"\"),\n",
    "                                    \"level_1_action_type\": \"ai_insert_moved_to_frontstage\",\n",
    "                                    \"semantic_expansion\": action[\"semantic_expansion_info\"][action[\"action_modified_sentences\"][0]],\n",
    "                                }\n",
    "                            )\n",
    "                        else:\n",
    "                            learning_data.append(\n",
    "                                {\n",
    "                                    \"writing_progress\": writing_progress,\n",
    "                                    \"action_type\": action.get(\"action_type\", \"\"),\n",
    "                                    \"level_1_action_type\": \"ai_insert_moved_to_frontstage\",\n",
    "                                    \"semantic_expansion\": action[\"semantic_expansion\"],\n",
    "                                }\n",
    "                            )\n",
    "                        writing_progress += 1\n",
    "                    elif action[\"level_1_action_type\"] == \"delete_text\":\n",
    "                        learning_data.append(\n",
    "                            {\n",
    "                                \"writing_progress\": writing_progress,\n",
    "                                \"action_type\": action.get(\"action_type\", \"\"),\n",
    "                                \"level_1_action_type\": \"human_delete_frontstage\",\n",
    "                                \"semantic_expansion\": action[\"semantic_expansion\"],\n",
    "                            }\n",
    "                        )\n",
    "                        writing_progress += 1\n",
    "                    elif \"level_2_action_type\" in action and action[\"level_2_action_type\"] == \"human_edit_ai\":\n",
    "                        learning_data.append(\n",
    "                            {\n",
    "                                \"writing_progress\": writing_progress,\n",
    "                                \"action_type\": action.get(\"action_type\", \"\"),\n",
    "                                \"level_1_action_type\": \"human_insert_edit_frontstage\",\n",
    "                                \"semantic_expansion\": action[\"semantic_expansion\"],\n",
    "                            }\n",
    "                        )\n",
    "                        writing_progress += 1\n",
    "\n",
    "        learning_data = sorted(learning_data, key=lambda x: x[\"writing_progress\"])\n",
    "        # print(learning_data)\n",
    "\n",
    "        if not learning_data:\n",
    "            print(f\"Warning: No data found for {session_id}\")\n",
    "            continue\n",
    "\n",
    "        data_df = pd.DataFrame(learning_data)\n",
    "\n",
    "        # Graph individual cognitive measures\n",
    "        y_max = 0.0\n",
    "        aggregate_score = 0.0\n",
    "        backstage_addition = 0.0\n",
    "        aggregate_data = []\n",
    "        for learning_index, action in enumerate(learning_data):\n",
    "            details = {\n",
    "                \"writing_progress\": action[\"writing_progress\"],\n",
    "                \"level_1_action_type\": action[\"level_1_action_type\"],\n",
    "                \"aggregate_semantic_expansion_frontend\": aggregate_score,\n",
    "                \"increment_semantic_expansion\": action[\"semantic_expansion\"],\n",
    "            }\n",
    "            if \"backstage\" in action[\"level_1_action_type\"]:\n",
    "                if learning_index>0 and learning_data[learning_index-1]:\n",
    "                    details[\"aggregate_semantic_expansion_frontend\"] += backstage_addition\n",
    "                backstage_addition += action[\"semantic_expansion\"]\n",
    "            if \"frontstage\" in action[\"level_1_action_type\"] and learning_index > 0 and learning_data[learning_index - 1]:\n",
    "                backstage_addition = 0.0\n",
    "                aggregate_score += action[\"semantic_expansion\"]\n",
    "\n",
    "            aggregate_data.append(details)\n",
    "            if aggregate_score > y_max:\n",
    "                y_max = aggregate_score\n",
    "        aggregate_df = pd.DataFrame(aggregate_data)\n",
    "        print(f\"{session_id}\")\n",
    "\n",
    "        colors = {\n",
    "            \"human_insert_backstage\": \"#64B5F6\",\n",
    "            \"ai_suggest_backstage\": \"#ff8fab\",\n",
    "            \"human_insert_frontstage\": \"#023e8a\",\n",
    "            \"ai_insert_moved_to_frontstage\": \"#c1121f\",\n",
    "            \"human_delete_frontstage\": \"#9d4edd\",\n",
    "            \"human_insert_edit_frontstage\": \"#5a189a\",\n",
    "        }\n",
    "\n",
    "        for action_type in colors.keys():\n",
    "            actions = [\n",
    "                action\n",
    "                for action in aggregate_data\n",
    "                if action.get(\"level_1_action_type\") == action_type\n",
    "            ]\n",
    "            for index in range(len(actions)-1,-1,-1):\n",
    "                x0 = actions[index][\"writing_progress\"] - 1\n",
    "                x1 = actions[index][\"writing_progress\"]\n",
    "                y0 = actions[index][\"aggregate_semantic_expansion_frontend\"]\n",
    "                y1 = y0 + actions[index][\"increment_semantic_expansion\"]\n",
    "\n",
    "                fig.add_trace(\n",
    "                    go.Scatter(\n",
    "                        x=[x0, x1],\n",
    "                        y=[y0, y1],\n",
    "                        mode=\"lines+markers\",                # ← line with a dot\n",
    "                        line=dict(color=colors[action_type], width=3),\n",
    "                        marker=dict(size=7, color=colors[action_type]),\n",
    "                        showlegend=False,                    # keep your existing legend\n",
    "                        hovertemplate=\"x=%{x}<br>y=%{y}<extra></extra>\",\n",
    "                    ),\n",
    "                    row=idx,\n",
    "                    col=1,\n",
    "                )\n",
    "\n",
    "        if idx == 1:\n",
    "            for color, hex in colors.items():\n",
    "                fig.add_trace(\n",
    "                    go.Scatter(\n",
    "                        x=[None],\n",
    "                        y=[None],\n",
    "                        mode=\"lines\",\n",
    "                        line=dict(color=hex, width=2),\n",
    "                        name=color,\n",
    "                        showlegend=True,\n",
    "                    ),\n",
    "                    row=1,\n",
    "                    col=1,\n",
    "                )\n",
    "\n",
    "    fig.update_layout(\n",
    "        plot_bgcolor=\"white\",\n",
    "        legend_title_font_color=\"rgba(0, 0, 0, 0)\",\n",
    "        height=500 * len(session_ids),\n",
    "        width=1800,\n",
    "        showlegend=True,\n",
    "        title={\n",
    "            \"text\": \"Semantic Expansion over Writing Sessions<br>\"\n",
    "            + '<span style=\"font-size: 12px;\">*Measuring how well humans are learning while writing with GenAI</span>',\n",
    "        },\n",
    "    )\n",
    "\n",
    "    fig.update_xaxes(\n",
    "        title=None,\n",
    "        range=[-1, data_df[\"writing_progress\"].max()+1],\n",
    "        mirror=False,\n",
    "        ticks=\"outside\",\n",
    "        showline=True,\n",
    "        linecolor=\"black\",\n",
    "        gridcolor=\"white\",\n",
    "    )\n",
    "\n",
    "    fig.update_xaxes(\n",
    "        title=\"Progress into the writing session\", row=len(session_ids), col=1\n",
    "    )\n",
    "\n",
    "    fig.update_yaxes(\n",
    "        title=\"Scores\",\n",
    "        mirror=False,\n",
    "        ticks=\"outside\",\n",
    "        showline=True,\n",
    "        linecolor=\"black\",\n",
    "        gridcolor=\"white\",\n",
    "    )\n",
    "\n",
    "    fig.show()\n",
    "    return fig"
   ]
  },
  {
   "cell_type": "code",
   "execution_count": 42,
   "id": "d486f367",
   "metadata": {},
   "outputs": [
    {
     "name": "stdout",
     "output_type": "stream",
     "text": [
      "legislation_corporate_1\n"
     ]
    },
    {
     "data": {
      "application/vnd.plotly.v1+json": {
       "config": {
        "plotlyServerURL": "https://plot.ly"
       },
       "data": [
        {
         "hovertemplate": "x=%{x}<br>y=%{y}<extra></extra>",
         "line": {
          "color": "#64B5F6",
          "width": 3
         },
         "marker": {
          "color": "#64B5F6",
          "size": 7
         },
         "mode": "lines+markers",
         "showlegend": false,
         "type": "scatter",
         "x": [
          6,
          7
         ],
         "xaxis": "x",
         "y": [
          1.7932165622711183,
          2.102423703670502
         ],
         "yaxis": "y"
        },
        {
         "hovertemplate": "x=%{x}<br>y=%{y}<extra></extra>",
         "line": {
          "color": "#64B5F6",
          "width": 3
         },
         "marker": {
          "color": "#64B5F6",
          "size": 7
         },
         "mode": "lines+markers",
         "showlegend": false,
         "type": "scatter",
         "x": [
          4,
          5
         ],
         "xaxis": "x",
         "y": [
          1.1365220665931701,
          1.428908121585846
         ],
         "yaxis": "y"
        },
        {
         "hovertemplate": "x=%{x}<br>y=%{y}<extra></extra>",
         "line": {
          "color": "#64B5F6",
          "width": 3
         },
         "marker": {
          "color": "#64B5F6",
          "size": 7
         },
         "mode": "lines+markers",
         "showlegend": false,
         "type": "scatter",
         "x": [
          2,
          3
         ],
         "xaxis": "x",
         "y": [
          0.5434983491897583,
          0.8422873139381408
         ],
         "yaxis": "y"
        },
        {
         "hovertemplate": "x=%{x}<br>y=%{y}<extra></extra>",
         "line": {
          "color": "#64B5F6",
          "width": 3
         },
         "marker": {
          "color": "#64B5F6",
          "size": 7
         },
         "mode": "lines+markers",
         "showlegend": false,
         "type": "scatter",
         "x": [
          0,
          1
         ],
         "xaxis": "x",
         "y": [
          0,
          0.2559514045715332
         ],
         "yaxis": "y"
        },
        {
         "hovertemplate": "x=%{x}<br>y=%{y}<extra></extra>",
         "line": {
          "color": "#ff8fab",
          "width": 3
         },
         "marker": {
          "color": "#ff8fab",
          "size": 7
         },
         "mode": "lines+markers",
         "showlegend": false,
         "type": "scatter",
         "x": [
          33,
          34
         ],
         "xaxis": "x",
         "y": [
          11.23694384098053,
          11.729781234264374
         ],
         "yaxis": "y"
        },
        {
         "hovertemplate": "x=%{x}<br>y=%{y}<extra></extra>",
         "line": {
          "color": "#ff8fab",
          "width": 3
         },
         "marker": {
          "color": "#ff8fab",
          "size": 7
         },
         "mode": "lines+markers",
         "showlegend": false,
         "type": "scatter",
         "x": [
          16,
          17
         ],
         "xaxis": "x",
         "y": [
          2.035506308078766,
          2.5707478404045103
         ],
         "yaxis": "y"
        },
        {
         "hovertemplate": "x=%{x}<br>y=%{y}<extra></extra>",
         "line": {
          "color": "#ff8fab",
          "width": 3
         },
         "marker": {
          "color": "#ff8fab",
          "size": 7
         },
         "mode": "lines+markers",
         "showlegend": false,
         "type": "scatter",
         "x": [
          7,
          8
         ],
         "xaxis": "x",
         "y": [
          2.102423703670502,
          2.3755743741989135
         ],
         "yaxis": "y"
        },
        {
         "hovertemplate": "x=%{x}<br>y=%{y}<extra></extra>",
         "line": {
          "color": "#ff8fab",
          "width": 3
         },
         "marker": {
          "color": "#ff8fab",
          "size": 7
         },
         "mode": "lines+markers",
         "showlegend": false,
         "type": "scatter",
         "x": [
          5,
          6
         ],
         "xaxis": "x",
         "y": [
          1.428908121585846,
          1.7932165622711183
         ],
         "yaxis": "y"
        },
        {
         "hovertemplate": "x=%{x}<br>y=%{y}<extra></extra>",
         "line": {
          "color": "#ff8fab",
          "width": 3
         },
         "marker": {
          "color": "#ff8fab",
          "size": 7
         },
         "mode": "lines+markers",
         "showlegend": false,
         "type": "scatter",
         "x": [
          3,
          4
         ],
         "xaxis": "x",
         "y": [
          0.8422873139381408,
          1.1365220665931701
         ],
         "yaxis": "y"
        },
        {
         "hovertemplate": "x=%{x}<br>y=%{y}<extra></extra>",
         "line": {
          "color": "#ff8fab",
          "width": 3
         },
         "marker": {
          "color": "#ff8fab",
          "size": 7
         },
         "mode": "lines+markers",
         "showlegend": false,
         "type": "scatter",
         "x": [
          1,
          2
         ],
         "xaxis": "x",
         "y": [
          0.2559514045715332,
          0.5434983491897583
         ],
         "yaxis": "y"
        },
        {
         "hovertemplate": "x=%{x}<br>y=%{y}<extra></extra>",
         "line": {
          "color": "#023e8a",
          "width": 3
         },
         "marker": {
          "color": "#023e8a",
          "size": 7
         },
         "mode": "lines+markers",
         "showlegend": false,
         "type": "scatter",
         "x": [
          43,
          44
         ],
         "xaxis": "x",
         "y": [
          14.232232511043549,
          14.577130675315857
         ],
         "yaxis": "y"
        },
        {
         "hovertemplate": "x=%{x}<br>y=%{y}<extra></extra>",
         "line": {
          "color": "#023e8a",
          "width": 3
         },
         "marker": {
          "color": "#023e8a",
          "size": 7
         },
         "mode": "lines+markers",
         "showlegend": false,
         "type": "scatter",
         "x": [
          41,
          42
         ],
         "xaxis": "x",
         "y": [
          13.95398998260498,
          14.260964632034302
         ],
         "yaxis": "y"
        },
        {
         "hovertemplate": "x=%{x}<br>y=%{y}<extra></extra>",
         "line": {
          "color": "#023e8a",
          "width": 3
         },
         "marker": {
          "color": "#023e8a",
          "size": 7
         },
         "mode": "lines+markers",
         "showlegend": false,
         "type": "scatter",
         "x": [
          40,
          41
         ],
         "xaxis": "x",
         "y": [
          13.687263786792755,
          13.95398998260498
         ],
         "yaxis": "y"
        },
        {
         "hovertemplate": "x=%{x}<br>y=%{y}<extra></extra>",
         "line": {
          "color": "#023e8a",
          "width": 3
         },
         "marker": {
          "color": "#023e8a",
          "size": 7
         },
         "mode": "lines+markers",
         "showlegend": false,
         "type": "scatter",
         "x": [
          39,
          40
         ],
         "xaxis": "x",
         "y": [
          13.370901644229889,
          13.687263786792755
         ],
         "yaxis": "y"
        },
        {
         "hovertemplate": "x=%{x}<br>y=%{y}<extra></extra>",
         "line": {
          "color": "#023e8a",
          "width": 3
         },
         "marker": {
          "color": "#023e8a",
          "size": 7
         },
         "mode": "lines+markers",
         "showlegend": false,
         "type": "scatter",
         "x": [
          38,
          39
         ],
         "xaxis": "x",
         "y": [
          12.991760969161987,
          13.370901644229889
         ],
         "yaxis": "y"
        },
        {
         "hovertemplate": "x=%{x}<br>y=%{y}<extra></extra>",
         "line": {
          "color": "#023e8a",
          "width": 3
         },
         "marker": {
          "color": "#023e8a",
          "size": 7
         },
         "mode": "lines+markers",
         "showlegend": false,
         "type": "scatter",
         "x": [
          37,
          38
         ],
         "xaxis": "x",
         "y": [
          12.378385543823242,
          12.991760969161987
         ],
         "yaxis": "y"
        },
        {
         "hovertemplate": "x=%{x}<br>y=%{y}<extra></extra>",
         "line": {
          "color": "#023e8a",
          "width": 3
         },
         "marker": {
          "color": "#023e8a",
          "size": 7
         },
         "mode": "lines+markers",
         "showlegend": false,
         "type": "scatter",
         "x": [
          36,
          37
         ],
         "xaxis": "x",
         "y": [
          12.080711424350739,
          12.378385543823242
         ],
         "yaxis": "y"
        },
        {
         "hovertemplate": "x=%{x}<br>y=%{y}<extra></extra>",
         "line": {
          "color": "#023e8a",
          "width": 3
         },
         "marker": {
          "color": "#023e8a",
          "size": 7
         },
         "mode": "lines+markers",
         "showlegend": false,
         "type": "scatter",
         "x": [
          35,
          36
         ],
         "xaxis": "x",
         "y": [
          11.779489994049072,
          12.080711424350739
         ],
         "yaxis": "y"
        },
        {
         "hovertemplate": "x=%{x}<br>y=%{y}<extra></extra>",
         "line": {
          "color": "#023e8a",
          "width": 3
         },
         "marker": {
          "color": "#023e8a",
          "size": 7
         },
         "mode": "lines+markers",
         "showlegend": false,
         "type": "scatter",
         "x": [
          32,
          33
         ],
         "xaxis": "x",
         "y": [
          10.704876005649567,
          11.23694384098053
         ],
         "yaxis": "y"
        },
        {
         "hovertemplate": "x=%{x}<br>y=%{y}<extra></extra>",
         "line": {
          "color": "#023e8a",
          "width": 3
         },
         "marker": {
          "color": "#023e8a",
          "size": 7
         },
         "mode": "lines+markers",
         "showlegend": false,
         "type": "scatter",
         "x": [
          31,
          32
         ],
         "xaxis": "x",
         "y": [
          10.229720890522003,
          10.704876005649567
         ],
         "yaxis": "y"
        },
        {
         "hovertemplate": "x=%{x}<br>y=%{y}<extra></extra>",
         "line": {
          "color": "#023e8a",
          "width": 3
         },
         "marker": {
          "color": "#023e8a",
          "size": 7
         },
         "mode": "lines+markers",
         "showlegend": false,
         "type": "scatter",
         "x": [
          30,
          31
         ],
         "xaxis": "x",
         "y": [
          9.72130960226059,
          10.229720890522003
         ],
         "yaxis": "y"
        },
        {
         "hovertemplate": "x=%{x}<br>y=%{y}<extra></extra>",
         "line": {
          "color": "#023e8a",
          "width": 3
         },
         "marker": {
          "color": "#023e8a",
          "size": 7
         },
         "mode": "lines+markers",
         "showlegend": false,
         "type": "scatter",
         "x": [
          29,
          30
         ],
         "xaxis": "x",
         "y": [
          9.261149823665619,
          9.72130960226059
         ],
         "yaxis": "y"
        },
        {
         "hovertemplate": "x=%{x}<br>y=%{y}<extra></extra>",
         "line": {
          "color": "#023e8a",
          "width": 3
         },
         "marker": {
          "color": "#023e8a",
          "size": 7
         },
         "mode": "lines+markers",
         "showlegend": false,
         "type": "scatter",
         "x": [
          28,
          29
         ],
         "xaxis": "x",
         "y": [
          8.96149480342865,
          9.261149823665619
         ],
         "yaxis": "y"
        },
        {
         "hovertemplate": "x=%{x}<br>y=%{y}<extra></extra>",
         "line": {
          "color": "#023e8a",
          "width": 3
         },
         "marker": {
          "color": "#023e8a",
          "size": 7
         },
         "mode": "lines+markers",
         "showlegend": false,
         "type": "scatter",
         "x": [
          27,
          28
         ],
         "xaxis": "x",
         "y": [
          8.185049414634705,
          8.96149480342865
         ],
         "yaxis": "y"
        },
        {
         "hovertemplate": "x=%{x}<br>y=%{y}<extra></extra>",
         "line": {
          "color": "#023e8a",
          "width": 3
         },
         "marker": {
          "color": "#023e8a",
          "size": 7
         },
         "mode": "lines+markers",
         "showlegend": false,
         "type": "scatter",
         "x": [
          26,
          27
         ],
         "xaxis": "x",
         "y": [
          7.52093505859375,
          8.185049414634705
         ],
         "yaxis": "y"
        },
        {
         "hovertemplate": "x=%{x}<br>y=%{y}<extra></extra>",
         "line": {
          "color": "#023e8a",
          "width": 3
         },
         "marker": {
          "color": "#023e8a",
          "size": 7
         },
         "mode": "lines+markers",
         "showlegend": false,
         "type": "scatter",
         "x": [
          25,
          26
         ],
         "xaxis": "x",
         "y": [
          6.888826966285706,
          7.52093505859375
         ],
         "yaxis": "y"
        },
        {
         "hovertemplate": "x=%{x}<br>y=%{y}<extra></extra>",
         "line": {
          "color": "#023e8a",
          "width": 3
         },
         "marker": {
          "color": "#023e8a",
          "size": 7
         },
         "mode": "lines+markers",
         "showlegend": false,
         "type": "scatter",
         "x": [
          24,
          25
         ],
         "xaxis": "x",
         "y": [
          6.18437123298645,
          6.888826966285706
         ],
         "yaxis": "y"
        },
        {
         "hovertemplate": "x=%{x}<br>y=%{y}<extra></extra>",
         "line": {
          "color": "#023e8a",
          "width": 3
         },
         "marker": {
          "color": "#023e8a",
          "size": 7
         },
         "mode": "lines+markers",
         "showlegend": false,
         "type": "scatter",
         "x": [
          23,
          24
         ],
         "xaxis": "x",
         "y": [
          5.815431177616119,
          6.18437123298645
         ],
         "yaxis": "y"
        },
        {
         "hovertemplate": "x=%{x}<br>y=%{y}<extra></extra>",
         "line": {
          "color": "#023e8a",
          "width": 3
         },
         "marker": {
          "color": "#023e8a",
          "size": 7
         },
         "mode": "lines+markers",
         "showlegend": false,
         "type": "scatter",
         "x": [
          22,
          23
         ],
         "xaxis": "x",
         "y": [
          5.166357100009918,
          5.815431177616119
         ],
         "yaxis": "y"
        },
        {
         "hovertemplate": "x=%{x}<br>y=%{y}<extra></extra>",
         "line": {
          "color": "#023e8a",
          "width": 3
         },
         "marker": {
          "color": "#023e8a",
          "size": 7
         },
         "mode": "lines+markers",
         "showlegend": false,
         "type": "scatter",
         "x": [
          21,
          22
         ],
         "xaxis": "x",
         "y": [
          4.305098533630371,
          5.166357100009918
         ],
         "yaxis": "y"
        },
        {
         "hovertemplate": "x=%{x}<br>y=%{y}<extra></extra>",
         "line": {
          "color": "#023e8a",
          "width": 3
         },
         "marker": {
          "color": "#023e8a",
          "size": 7
         },
         "mode": "lines+markers",
         "showlegend": false,
         "type": "scatter",
         "x": [
          20,
          21
         ],
         "xaxis": "x",
         "y": [
          3.8521307706832886,
          4.305098533630371
         ],
         "yaxis": "y"
        },
        {
         "hovertemplate": "x=%{x}<br>y=%{y}<extra></extra>",
         "line": {
          "color": "#023e8a",
          "width": 3
         },
         "marker": {
          "color": "#023e8a",
          "size": 7
         },
         "mode": "lines+markers",
         "showlegend": false,
         "type": "scatter",
         "x": [
          19,
          20
         ],
         "xaxis": "x",
         "y": [
          3.4302844405174255,
          3.8521307706832886
         ],
         "yaxis": "y"
        },
        {
         "hovertemplate": "x=%{x}<br>y=%{y}<extra></extra>",
         "line": {
          "color": "#023e8a",
          "width": 3
         },
         "marker": {
          "color": "#023e8a",
          "size": 7
         },
         "mode": "lines+markers",
         "showlegend": false,
         "type": "scatter",
         "x": [
          18,
          19
         ],
         "xaxis": "x",
         "y": [
          2.695667803287506,
          3.4302844405174255
         ],
         "yaxis": "y"
        },
        {
         "hovertemplate": "x=%{x}<br>y=%{y}<extra></extra>",
         "line": {
          "color": "#023e8a",
          "width": 3
         },
         "marker": {
          "color": "#023e8a",
          "size": 7
         },
         "mode": "lines+markers",
         "showlegend": false,
         "type": "scatter",
         "x": [
          17,
          18
         ],
         "xaxis": "x",
         "y": [
          2.035506308078766,
          2.695667803287506
         ],
         "yaxis": "y"
        },
        {
         "hovertemplate": "x=%{x}<br>y=%{y}<extra></extra>",
         "line": {
          "color": "#023e8a",
          "width": 3
         },
         "marker": {
          "color": "#023e8a",
          "size": 7
         },
         "mode": "lines+markers",
         "showlegend": false,
         "type": "scatter",
         "x": [
          15,
          16
         ],
         "xaxis": "x",
         "y": [
          1.7332382798194885,
          2.035506308078766
         ],
         "yaxis": "y"
        },
        {
         "hovertemplate": "x=%{x}<br>y=%{y}<extra></extra>",
         "line": {
          "color": "#023e8a",
          "width": 3
         },
         "marker": {
          "color": "#023e8a",
          "size": 7
         },
         "mode": "lines+markers",
         "showlegend": false,
         "type": "scatter",
         "x": [
          14,
          15
         ],
         "xaxis": "x",
         "y": [
          1.3213303685188293,
          1.7332382798194885
         ],
         "yaxis": "y"
        },
        {
         "hovertemplate": "x=%{x}<br>y=%{y}<extra></extra>",
         "line": {
          "color": "#023e8a",
          "width": 3
         },
         "marker": {
          "color": "#023e8a",
          "size": 7
         },
         "mode": "lines+markers",
         "showlegend": false,
         "type": "scatter",
         "x": [
          13,
          14
         ],
         "xaxis": "x",
         "y": [
          1.0500288009643555,
          1.3213303685188293
         ],
         "yaxis": "y"
        },
        {
         "hovertemplate": "x=%{x}<br>y=%{y}<extra></extra>",
         "line": {
          "color": "#023e8a",
          "width": 3
         },
         "marker": {
          "color": "#023e8a",
          "size": 7
         },
         "mode": "lines+markers",
         "showlegend": false,
         "type": "scatter",
         "x": [
          12,
          13
         ],
         "xaxis": "x",
         "y": [
          0.6040838360786438,
          1.0500288009643555
         ],
         "yaxis": "y"
        },
        {
         "hovertemplate": "x=%{x}<br>y=%{y}<extra></extra>",
         "line": {
          "color": "#023e8a",
          "width": 3
         },
         "marker": {
          "color": "#023e8a",
          "size": 7
         },
         "mode": "lines+markers",
         "showlegend": false,
         "type": "scatter",
         "x": [
          11,
          12
         ],
         "xaxis": "x",
         "y": [
          0.3291695713996887,
          0.6040838360786438
         ],
         "yaxis": "y"
        },
        {
         "hovertemplate": "x=%{x}<br>y=%{y}<extra></extra>",
         "line": {
          "color": "#023e8a",
          "width": 3
         },
         "marker": {
          "color": "#023e8a",
          "size": 7
         },
         "mode": "lines+markers",
         "showlegend": false,
         "type": "scatter",
         "x": [
          10,
          11
         ],
         "xaxis": "x",
         "y": [
          0.18391823768615723,
          0.3291695713996887
         ],
         "yaxis": "y"
        },
        {
         "hovertemplate": "x=%{x}<br>y=%{y}<extra></extra>",
         "line": {
          "color": "#023e8a",
          "width": 3
         },
         "marker": {
          "color": "#023e8a",
          "size": 7
         },
         "mode": "lines+markers",
         "showlegend": false,
         "type": "scatter",
         "x": [
          9,
          10
         ],
         "xaxis": "x",
         "y": [
          0,
          0.18391823768615723
         ],
         "yaxis": "y"
        },
        {
         "hovertemplate": "x=%{x}<br>y=%{y}<extra></extra>",
         "line": {
          "color": "#c1121f",
          "width": 3
         },
         "marker": {
          "color": "#c1121f",
          "size": 7
         },
         "mode": "lines+markers",
         "showlegend": false,
         "type": "scatter",
         "x": [
          34,
          35
         ],
         "xaxis": "x",
         "y": [
          11.23694384098053,
          11.779489994049072
         ],
         "yaxis": "y"
        },
        {
         "hovertemplate": "x=%{x}<br>y=%{y}<extra></extra>",
         "line": {
          "color": "#9d4edd",
          "width": 3
         },
         "marker": {
          "color": "#9d4edd",
          "size": 7
         },
         "mode": "lines+markers",
         "showlegend": false,
         "type": "scatter",
         "x": [
          42,
          43
         ],
         "xaxis": "x",
         "y": [
          14.260964632034302,
          14.232232511043549
         ],
         "yaxis": "y"
        },
        {
         "hovertemplate": "x=%{x}<br>y=%{y}<extra></extra>",
         "line": {
          "color": "#9d4edd",
          "width": 3
         },
         "marker": {
          "color": "#9d4edd",
          "size": 7
         },
         "mode": "lines+markers",
         "showlegend": false,
         "type": "scatter",
         "x": [
          8,
          9
         ],
         "xaxis": "x",
         "y": [
          0,
          0
         ],
         "yaxis": "y"
        },
        {
         "line": {
          "color": "#64B5F6",
          "width": 2
         },
         "mode": "lines",
         "name": "human_insert_backstage",
         "showlegend": true,
         "type": "scatter",
         "x": [
          null
         ],
         "xaxis": "x",
         "y": [
          null
         ],
         "yaxis": "y"
        },
        {
         "line": {
          "color": "#ff8fab",
          "width": 2
         },
         "mode": "lines",
         "name": "ai_suggest_backstage",
         "showlegend": true,
         "type": "scatter",
         "x": [
          null
         ],
         "xaxis": "x",
         "y": [
          null
         ],
         "yaxis": "y"
        },
        {
         "line": {
          "color": "#023e8a",
          "width": 2
         },
         "mode": "lines",
         "name": "human_insert_frontstage",
         "showlegend": true,
         "type": "scatter",
         "x": [
          null
         ],
         "xaxis": "x",
         "y": [
          null
         ],
         "yaxis": "y"
        },
        {
         "line": {
          "color": "#c1121f",
          "width": 2
         },
         "mode": "lines",
         "name": "ai_insert_moved_to_frontstage",
         "showlegend": true,
         "type": "scatter",
         "x": [
          null
         ],
         "xaxis": "x",
         "y": [
          null
         ],
         "yaxis": "y"
        },
        {
         "line": {
          "color": "#9d4edd",
          "width": 2
         },
         "mode": "lines",
         "name": "human_delete_frontstage",
         "showlegend": true,
         "type": "scatter",
         "x": [
          null
         ],
         "xaxis": "x",
         "y": [
          null
         ],
         "yaxis": "y"
        },
        {
         "line": {
          "color": "#5a189a",
          "width": 2
         },
         "mode": "lines",
         "name": "human_insert_edit_frontstage",
         "showlegend": true,
         "type": "scatter",
         "x": [
          null
         ],
         "xaxis": "x",
         "y": [
          null
         ],
         "yaxis": "y"
        }
       ],
       "layout": {
        "annotations": [
         {
          "font": {
           "size": 16
          },
          "showarrow": false,
          "text": "Session: legislation_corporate_1",
          "x": 0.5,
          "xanchor": "center",
          "xref": "paper",
          "y": 1,
          "yanchor": "bottom",
          "yref": "paper"
         }
        ],
        "height": 500,
        "legend": {
         "title": {
          "font": {
           "color": "rgba(0, 0, 0, 0)"
          }
         }
        },
        "plot_bgcolor": "white",
        "showlegend": true,
        "template": {
         "data": {
          "bar": [
           {
            "error_x": {
             "color": "#2a3f5f"
            },
            "error_y": {
             "color": "#2a3f5f"
            },
            "marker": {
             "line": {
              "color": "#E5ECF6",
              "width": 0.5
             },
             "pattern": {
              "fillmode": "overlay",
              "size": 10,
              "solidity": 0.2
             }
            },
            "type": "bar"
           }
          ],
          "barpolar": [
           {
            "marker": {
             "line": {
              "color": "#E5ECF6",
              "width": 0.5
             },
             "pattern": {
              "fillmode": "overlay",
              "size": 10,
              "solidity": 0.2
             }
            },
            "type": "barpolar"
           }
          ],
          "carpet": [
           {
            "aaxis": {
             "endlinecolor": "#2a3f5f",
             "gridcolor": "white",
             "linecolor": "white",
             "minorgridcolor": "white",
             "startlinecolor": "#2a3f5f"
            },
            "baxis": {
             "endlinecolor": "#2a3f5f",
             "gridcolor": "white",
             "linecolor": "white",
             "minorgridcolor": "white",
             "startlinecolor": "#2a3f5f"
            },
            "type": "carpet"
           }
          ],
          "choropleth": [
           {
            "colorbar": {
             "outlinewidth": 0,
             "ticks": ""
            },
            "type": "choropleth"
           }
          ],
          "contour": [
           {
            "colorbar": {
             "outlinewidth": 0,
             "ticks": ""
            },
            "colorscale": [
             [
              0,
              "#0d0887"
             ],
             [
              0.1111111111111111,
              "#46039f"
             ],
             [
              0.2222222222222222,
              "#7201a8"
             ],
             [
              0.3333333333333333,
              "#9c179e"
             ],
             [
              0.4444444444444444,
              "#bd3786"
             ],
             [
              0.5555555555555556,
              "#d8576b"
             ],
             [
              0.6666666666666666,
              "#ed7953"
             ],
             [
              0.7777777777777778,
              "#fb9f3a"
             ],
             [
              0.8888888888888888,
              "#fdca26"
             ],
             [
              1,
              "#f0f921"
             ]
            ],
            "type": "contour"
           }
          ],
          "contourcarpet": [
           {
            "colorbar": {
             "outlinewidth": 0,
             "ticks": ""
            },
            "type": "contourcarpet"
           }
          ],
          "heatmap": [
           {
            "colorbar": {
             "outlinewidth": 0,
             "ticks": ""
            },
            "colorscale": [
             [
              0,
              "#0d0887"
             ],
             [
              0.1111111111111111,
              "#46039f"
             ],
             [
              0.2222222222222222,
              "#7201a8"
             ],
             [
              0.3333333333333333,
              "#9c179e"
             ],
             [
              0.4444444444444444,
              "#bd3786"
             ],
             [
              0.5555555555555556,
              "#d8576b"
             ],
             [
              0.6666666666666666,
              "#ed7953"
             ],
             [
              0.7777777777777778,
              "#fb9f3a"
             ],
             [
              0.8888888888888888,
              "#fdca26"
             ],
             [
              1,
              "#f0f921"
             ]
            ],
            "type": "heatmap"
           }
          ],
          "histogram": [
           {
            "marker": {
             "pattern": {
              "fillmode": "overlay",
              "size": 10,
              "solidity": 0.2
             }
            },
            "type": "histogram"
           }
          ],
          "histogram2d": [
           {
            "colorbar": {
             "outlinewidth": 0,
             "ticks": ""
            },
            "colorscale": [
             [
              0,
              "#0d0887"
             ],
             [
              0.1111111111111111,
              "#46039f"
             ],
             [
              0.2222222222222222,
              "#7201a8"
             ],
             [
              0.3333333333333333,
              "#9c179e"
             ],
             [
              0.4444444444444444,
              "#bd3786"
             ],
             [
              0.5555555555555556,
              "#d8576b"
             ],
             [
              0.6666666666666666,
              "#ed7953"
             ],
             [
              0.7777777777777778,
              "#fb9f3a"
             ],
             [
              0.8888888888888888,
              "#fdca26"
             ],
             [
              1,
              "#f0f921"
             ]
            ],
            "type": "histogram2d"
           }
          ],
          "histogram2dcontour": [
           {
            "colorbar": {
             "outlinewidth": 0,
             "ticks": ""
            },
            "colorscale": [
             [
              0,
              "#0d0887"
             ],
             [
              0.1111111111111111,
              "#46039f"
             ],
             [
              0.2222222222222222,
              "#7201a8"
             ],
             [
              0.3333333333333333,
              "#9c179e"
             ],
             [
              0.4444444444444444,
              "#bd3786"
             ],
             [
              0.5555555555555556,
              "#d8576b"
             ],
             [
              0.6666666666666666,
              "#ed7953"
             ],
             [
              0.7777777777777778,
              "#fb9f3a"
             ],
             [
              0.8888888888888888,
              "#fdca26"
             ],
             [
              1,
              "#f0f921"
             ]
            ],
            "type": "histogram2dcontour"
           }
          ],
          "mesh3d": [
           {
            "colorbar": {
             "outlinewidth": 0,
             "ticks": ""
            },
            "type": "mesh3d"
           }
          ],
          "parcoords": [
           {
            "line": {
             "colorbar": {
              "outlinewidth": 0,
              "ticks": ""
             }
            },
            "type": "parcoords"
           }
          ],
          "pie": [
           {
            "automargin": true,
            "type": "pie"
           }
          ],
          "scatter": [
           {
            "fillpattern": {
             "fillmode": "overlay",
             "size": 10,
             "solidity": 0.2
            },
            "type": "scatter"
           }
          ],
          "scatter3d": [
           {
            "line": {
             "colorbar": {
              "outlinewidth": 0,
              "ticks": ""
             }
            },
            "marker": {
             "colorbar": {
              "outlinewidth": 0,
              "ticks": ""
             }
            },
            "type": "scatter3d"
           }
          ],
          "scattercarpet": [
           {
            "marker": {
             "colorbar": {
              "outlinewidth": 0,
              "ticks": ""
             }
            },
            "type": "scattercarpet"
           }
          ],
          "scattergeo": [
           {
            "marker": {
             "colorbar": {
              "outlinewidth": 0,
              "ticks": ""
             }
            },
            "type": "scattergeo"
           }
          ],
          "scattergl": [
           {
            "marker": {
             "colorbar": {
              "outlinewidth": 0,
              "ticks": ""
             }
            },
            "type": "scattergl"
           }
          ],
          "scattermap": [
           {
            "marker": {
             "colorbar": {
              "outlinewidth": 0,
              "ticks": ""
             }
            },
            "type": "scattermap"
           }
          ],
          "scattermapbox": [
           {
            "marker": {
             "colorbar": {
              "outlinewidth": 0,
              "ticks": ""
             }
            },
            "type": "scattermapbox"
           }
          ],
          "scatterpolar": [
           {
            "marker": {
             "colorbar": {
              "outlinewidth": 0,
              "ticks": ""
             }
            },
            "type": "scatterpolar"
           }
          ],
          "scatterpolargl": [
           {
            "marker": {
             "colorbar": {
              "outlinewidth": 0,
              "ticks": ""
             }
            },
            "type": "scatterpolargl"
           }
          ],
          "scatterternary": [
           {
            "marker": {
             "colorbar": {
              "outlinewidth": 0,
              "ticks": ""
             }
            },
            "type": "scatterternary"
           }
          ],
          "surface": [
           {
            "colorbar": {
             "outlinewidth": 0,
             "ticks": ""
            },
            "colorscale": [
             [
              0,
              "#0d0887"
             ],
             [
              0.1111111111111111,
              "#46039f"
             ],
             [
              0.2222222222222222,
              "#7201a8"
             ],
             [
              0.3333333333333333,
              "#9c179e"
             ],
             [
              0.4444444444444444,
              "#bd3786"
             ],
             [
              0.5555555555555556,
              "#d8576b"
             ],
             [
              0.6666666666666666,
              "#ed7953"
             ],
             [
              0.7777777777777778,
              "#fb9f3a"
             ],
             [
              0.8888888888888888,
              "#fdca26"
             ],
             [
              1,
              "#f0f921"
             ]
            ],
            "type": "surface"
           }
          ],
          "table": [
           {
            "cells": {
             "fill": {
              "color": "#EBF0F8"
             },
             "line": {
              "color": "white"
             }
            },
            "header": {
             "fill": {
              "color": "#C8D4E3"
             },
             "line": {
              "color": "white"
             }
            },
            "type": "table"
           }
          ]
         },
         "layout": {
          "annotationdefaults": {
           "arrowcolor": "#2a3f5f",
           "arrowhead": 0,
           "arrowwidth": 1
          },
          "autotypenumbers": "strict",
          "coloraxis": {
           "colorbar": {
            "outlinewidth": 0,
            "ticks": ""
           }
          },
          "colorscale": {
           "diverging": [
            [
             0,
             "#8e0152"
            ],
            [
             0.1,
             "#c51b7d"
            ],
            [
             0.2,
             "#de77ae"
            ],
            [
             0.3,
             "#f1b6da"
            ],
            [
             0.4,
             "#fde0ef"
            ],
            [
             0.5,
             "#f7f7f7"
            ],
            [
             0.6,
             "#e6f5d0"
            ],
            [
             0.7,
             "#b8e186"
            ],
            [
             0.8,
             "#7fbc41"
            ],
            [
             0.9,
             "#4d9221"
            ],
            [
             1,
             "#276419"
            ]
           ],
           "sequential": [
            [
             0,
             "#0d0887"
            ],
            [
             0.1111111111111111,
             "#46039f"
            ],
            [
             0.2222222222222222,
             "#7201a8"
            ],
            [
             0.3333333333333333,
             "#9c179e"
            ],
            [
             0.4444444444444444,
             "#bd3786"
            ],
            [
             0.5555555555555556,
             "#d8576b"
            ],
            [
             0.6666666666666666,
             "#ed7953"
            ],
            [
             0.7777777777777778,
             "#fb9f3a"
            ],
            [
             0.8888888888888888,
             "#fdca26"
            ],
            [
             1,
             "#f0f921"
            ]
           ],
           "sequentialminus": [
            [
             0,
             "#0d0887"
            ],
            [
             0.1111111111111111,
             "#46039f"
            ],
            [
             0.2222222222222222,
             "#7201a8"
            ],
            [
             0.3333333333333333,
             "#9c179e"
            ],
            [
             0.4444444444444444,
             "#bd3786"
            ],
            [
             0.5555555555555556,
             "#d8576b"
            ],
            [
             0.6666666666666666,
             "#ed7953"
            ],
            [
             0.7777777777777778,
             "#fb9f3a"
            ],
            [
             0.8888888888888888,
             "#fdca26"
            ],
            [
             1,
             "#f0f921"
            ]
           ]
          },
          "colorway": [
           "#636efa",
           "#EF553B",
           "#00cc96",
           "#ab63fa",
           "#FFA15A",
           "#19d3f3",
           "#FF6692",
           "#B6E880",
           "#FF97FF",
           "#FECB52"
          ],
          "font": {
           "color": "#2a3f5f"
          },
          "geo": {
           "bgcolor": "white",
           "lakecolor": "white",
           "landcolor": "#E5ECF6",
           "showlakes": true,
           "showland": true,
           "subunitcolor": "white"
          },
          "hoverlabel": {
           "align": "left"
          },
          "hovermode": "closest",
          "mapbox": {
           "style": "light"
          },
          "paper_bgcolor": "white",
          "plot_bgcolor": "#E5ECF6",
          "polar": {
           "angularaxis": {
            "gridcolor": "white",
            "linecolor": "white",
            "ticks": ""
           },
           "bgcolor": "#E5ECF6",
           "radialaxis": {
            "gridcolor": "white",
            "linecolor": "white",
            "ticks": ""
           }
          },
          "scene": {
           "xaxis": {
            "backgroundcolor": "#E5ECF6",
            "gridcolor": "white",
            "gridwidth": 2,
            "linecolor": "white",
            "showbackground": true,
            "ticks": "",
            "zerolinecolor": "white"
           },
           "yaxis": {
            "backgroundcolor": "#E5ECF6",
            "gridcolor": "white",
            "gridwidth": 2,
            "linecolor": "white",
            "showbackground": true,
            "ticks": "",
            "zerolinecolor": "white"
           },
           "zaxis": {
            "backgroundcolor": "#E5ECF6",
            "gridcolor": "white",
            "gridwidth": 2,
            "linecolor": "white",
            "showbackground": true,
            "ticks": "",
            "zerolinecolor": "white"
           }
          },
          "shapedefaults": {
           "line": {
            "color": "#2a3f5f"
           }
          },
          "ternary": {
           "aaxis": {
            "gridcolor": "white",
            "linecolor": "white",
            "ticks": ""
           },
           "baxis": {
            "gridcolor": "white",
            "linecolor": "white",
            "ticks": ""
           },
           "bgcolor": "#E5ECF6",
           "caxis": {
            "gridcolor": "white",
            "linecolor": "white",
            "ticks": ""
           }
          },
          "title": {
           "x": 0.05
          },
          "xaxis": {
           "automargin": true,
           "gridcolor": "white",
           "linecolor": "white",
           "ticks": "",
           "title": {
            "standoff": 15
           },
           "zerolinecolor": "white",
           "zerolinewidth": 2
          },
          "yaxis": {
           "automargin": true,
           "gridcolor": "white",
           "linecolor": "white",
           "ticks": "",
           "title": {
            "standoff": 15
           },
           "zerolinecolor": "white",
           "zerolinewidth": 2
          }
         }
        },
        "title": {
         "text": "Semantic Expansion over Writing Sessions<br><span style=\"font-size: 12px;\">*Measuring how well humans are learning while writing with GenAI</span>"
        },
        "width": 1800,
        "xaxis": {
         "anchor": "y",
         "domain": [
          0,
          1
         ],
         "gridcolor": "white",
         "linecolor": "black",
         "mirror": false,
         "range": [
          -1,
          45
         ],
         "showline": true,
         "ticks": "outside",
         "title": {
          "text": "Progress into the writing session"
         }
        },
        "yaxis": {
         "anchor": "x",
         "domain": [
          0,
          1
         ],
         "gridcolor": "white",
         "linecolor": "black",
         "mirror": false,
         "showline": true,
         "ticks": "outside",
         "title": {
          "text": "Scores"
         }
        }
       }
      }
     },
     "metadata": {},
     "output_type": "display_data"
    },
    {
     "name": "stdout",
     "output_type": "stream",
     "text": [
      "legislation_corporate_2\n"
     ]
    },
    {
     "data": {
      "application/vnd.plotly.v1+json": {
       "config": {
        "plotlyServerURL": "https://plot.ly"
       },
       "data": [
        {
         "hovertemplate": "x=%{x}<br>y=%{y}<extra></extra>",
         "line": {
          "color": "#64B5F6",
          "width": 3
         },
         "marker": {
          "color": "#64B5F6",
          "size": 7
         },
         "mode": "lines+markers",
         "showlegend": false,
         "type": "scatter",
         "x": [
          52,
          53
         ],
         "xaxis": "x",
         "y": [
          10.231234848499298,
          10.546854019165039
         ],
         "yaxis": "y"
        },
        {
         "hovertemplate": "x=%{x}<br>y=%{y}<extra></extra>",
         "line": {
          "color": "#64B5F6",
          "width": 3
         },
         "marker": {
          "color": "#64B5F6",
          "size": 7
         },
         "mode": "lines+markers",
         "showlegend": false,
         "type": "scatter",
         "x": [
          25,
          26
         ],
         "xaxis": "x",
         "y": [
          4.343162417411804,
          4.460585296154022
         ],
         "yaxis": "y"
        },
        {
         "hovertemplate": "x=%{x}<br>y=%{y}<extra></extra>",
         "line": {
          "color": "#64B5F6",
          "width": 3
         },
         "marker": {
          "color": "#64B5F6",
          "size": 7
         },
         "mode": "lines+markers",
         "showlegend": false,
         "type": "scatter",
         "x": [
          13,
          14
         ],
         "xaxis": "x",
         "y": [
          1.5691365003585815,
          1.9002171158790588
         ],
         "yaxis": "y"
        },
        {
         "hovertemplate": "x=%{x}<br>y=%{y}<extra></extra>",
         "line": {
          "color": "#64B5F6",
          "width": 3
         },
         "marker": {
          "color": "#64B5F6",
          "size": 7
         },
         "mode": "lines+markers",
         "showlegend": false,
         "type": "scatter",
         "x": [
          9,
          10
         ],
         "xaxis": "x",
         "y": [
          1.2714566588401794,
          1.514977216720581
         ],
         "yaxis": "y"
        },
        {
         "hovertemplate": "x=%{x}<br>y=%{y}<extra></extra>",
         "line": {
          "color": "#64B5F6",
          "width": 3
         },
         "marker": {
          "color": "#64B5F6",
          "size": 7
         },
         "mode": "lines+markers",
         "showlegend": false,
         "type": "scatter",
         "x": [
          0,
          1
         ],
         "xaxis": "x",
         "y": [
          0,
          0.35830891132354736
         ],
         "yaxis": "y"
        },
        {
         "hovertemplate": "x=%{x}<br>y=%{y}<extra></extra>",
         "line": {
          "color": "#ff8fab",
          "width": 3
         },
         "marker": {
          "color": "#ff8fab",
          "size": 7
         },
         "mode": "lines+markers",
         "showlegend": false,
         "type": "scatter",
         "x": [
          55,
          56
         ],
         "xaxis": "x",
         "y": [
          11.159227919578552,
          11.49033601284027
         ],
         "yaxis": "y"
        },
        {
         "hovertemplate": "x=%{x}<br>y=%{y}<extra></extra>",
         "line": {
          "color": "#ff8fab",
          "width": 3
         },
         "marker": {
          "color": "#ff8fab",
          "size": 7
         },
         "mode": "lines+markers",
         "showlegend": false,
         "type": "scatter",
         "x": [
          54,
          55
         ],
         "xaxis": "x",
         "y": [
          10.847830069065093,
          11.159227919578552
         ],
         "yaxis": "y"
        },
        {
         "hovertemplate": "x=%{x}<br>y=%{y}<extra></extra>",
         "line": {
          "color": "#ff8fab",
          "width": 3
         },
         "marker": {
          "color": "#ff8fab",
          "size": 7
         },
         "mode": "lines+markers",
         "showlegend": false,
         "type": "scatter",
         "x": [
          53,
          54
         ],
         "xaxis": "x",
         "y": [
          10.546854019165039,
          10.847830069065093
         ],
         "yaxis": "y"
        },
        {
         "hovertemplate": "x=%{x}<br>y=%{y}<extra></extra>",
         "line": {
          "color": "#ff8fab",
          "width": 3
         },
         "marker": {
          "color": "#ff8fab",
          "size": 7
         },
         "mode": "lines+markers",
         "showlegend": false,
         "type": "scatter",
         "x": [
          50,
          51
         ],
         "xaxis": "x",
         "y": [
          10.176807284355164,
          10.660011899471282
         ],
         "yaxis": "y"
        },
        {
         "hovertemplate": "x=%{x}<br>y=%{y}<extra></extra>",
         "line": {
          "color": "#ff8fab",
          "width": 3
         },
         "marker": {
          "color": "#ff8fab",
          "size": 7
         },
         "mode": "lines+markers",
         "showlegend": false,
         "type": "scatter",
         "x": [
          41,
          42
         ],
         "xaxis": "x",
         "y": [
          7.378208339214325,
          7.889946365356446
         ],
         "yaxis": "y"
        },
        {
         "hovertemplate": "x=%{x}<br>y=%{y}<extra></extra>",
         "line": {
          "color": "#ff8fab",
          "width": 3
         },
         "marker": {
          "color": "#ff8fab",
          "size": 7
         },
         "mode": "lines+markers",
         "showlegend": false,
         "type": "scatter",
         "x": [
          39,
          40
         ],
         "xaxis": "x",
         "y": [
          7.010249316692352,
          7.368689227104187
         ],
         "yaxis": "y"
        },
        {
         "hovertemplate": "x=%{x}<br>y=%{y}<extra></extra>",
         "line": {
          "color": "#ff8fab",
          "width": 3
         },
         "marker": {
          "color": "#ff8fab",
          "size": 7
         },
         "mode": "lines+markers",
         "showlegend": false,
         "type": "scatter",
         "x": [
          35,
          36
         ],
         "xaxis": "x",
         "y": [
          6.114866077899933,
          6.449674034118653
         ],
         "yaxis": "y"
        },
        {
         "hovertemplate": "x=%{x}<br>y=%{y}<extra></extra>",
         "line": {
          "color": "#ff8fab",
          "width": 3
         },
         "marker": {
          "color": "#ff8fab",
          "size": 7
         },
         "mode": "lines+markers",
         "showlegend": false,
         "type": "scatter",
         "x": [
          33,
          34
         ],
         "xaxis": "x",
         "y": [
          5.8922988176345825,
          6.334326112270356
         ],
         "yaxis": "y"
        },
        {
         "hovertemplate": "x=%{x}<br>y=%{y}<extra></extra>",
         "line": {
          "color": "#ff8fab",
          "width": 3
         },
         "marker": {
          "color": "#ff8fab",
          "size": 7
         },
         "mode": "lines+markers",
         "showlegend": false,
         "type": "scatter",
         "x": [
          29,
          30
         ],
         "xaxis": "x",
         "y": [
          4.901678502559662,
          5.33091756105423
         ],
         "yaxis": "y"
        },
        {
         "hovertemplate": "x=%{x}<br>y=%{y}<extra></extra>",
         "line": {
          "color": "#ff8fab",
          "width": 3
         },
         "marker": {
          "color": "#ff8fab",
          "size": 7
         },
         "mode": "lines+markers",
         "showlegend": false,
         "type": "scatter",
         "x": [
          26,
          27
         ],
         "xaxis": "x",
         "y": [
          4.460585296154022,
          4.690651631355285
         ],
         "yaxis": "y"
        },
        {
         "hovertemplate": "x=%{x}<br>y=%{y}<extra></extra>",
         "line": {
          "color": "#ff8fab",
          "width": 3
         },
         "marker": {
          "color": "#ff8fab",
          "size": 7
         },
         "mode": "lines+markers",
         "showlegend": false,
         "type": "scatter",
         "x": [
          23,
          24
         ],
         "xaxis": "x",
         "y": [
          4.59516054391861,
          5.119952714443206
         ],
         "yaxis": "y"
        },
        {
         "hovertemplate": "x=%{x}<br>y=%{y}<extra></extra>",
         "line": {
          "color": "#ff8fab",
          "width": 3
         },
         "marker": {
          "color": "#ff8fab",
          "size": 7
         },
         "mode": "lines+markers",
         "showlegend": false,
         "type": "scatter",
         "x": [
          14,
          15
         ],
         "xaxis": "x",
         "y": [
          1.9002171158790588,
          2.1835649251937865
         ],
         "yaxis": "y"
        },
        {
         "hovertemplate": "x=%{x}<br>y=%{y}<extra></extra>",
         "line": {
          "color": "#ff8fab",
          "width": 3
         },
         "marker": {
          "color": "#ff8fab",
          "size": 7
         },
         "mode": "lines+markers",
         "showlegend": false,
         "type": "scatter",
         "x": [
          10,
          11
         ],
         "xaxis": "x",
         "y": [
          1.514977216720581,
          1.823004925251007
         ],
         "yaxis": "y"
        },
        {
         "hovertemplate": "x=%{x}<br>y=%{y}<extra></extra>",
         "line": {
          "color": "#ff8fab",
          "width": 3
         },
         "marker": {
          "color": "#ff8fab",
          "size": 7
         },
         "mode": "lines+markers",
         "showlegend": false,
         "type": "scatter",
         "x": [
          5,
          6
         ],
         "xaxis": "x",
         "y": [
          0.3837496042251587,
          0.7060006976127624
         ],
         "yaxis": "y"
        },
        {
         "hovertemplate": "x=%{x}<br>y=%{y}<extra></extra>",
         "line": {
          "color": "#ff8fab",
          "width": 3
         },
         "marker": {
          "color": "#ff8fab",
          "size": 7
         },
         "mode": "lines+markers",
         "showlegend": false,
         "type": "scatter",
         "x": [
          3,
          4
         ],
         "xaxis": "x",
         "y": [
          0.1593245267868042,
          0.5036605954170227
         ],
         "yaxis": "y"
        },
        {
         "hovertemplate": "x=%{x}<br>y=%{y}<extra></extra>",
         "line": {
          "color": "#ff8fab",
          "width": 3
         },
         "marker": {
          "color": "#ff8fab",
          "size": 7
         },
         "mode": "lines+markers",
         "showlegend": false,
         "type": "scatter",
         "x": [
          1,
          2
         ],
         "xaxis": "x",
         "y": [
          0.35830891132354736,
          0.6755919694900513
         ],
         "yaxis": "y"
        },
        {
         "hovertemplate": "x=%{x}<br>y=%{y}<extra></extra>",
         "line": {
          "color": "#023e8a",
          "width": 3
         },
         "marker": {
          "color": "#023e8a",
          "size": 7
         },
         "mode": "lines+markers",
         "showlegend": false,
         "type": "scatter",
         "x": [
          49,
          50
         ],
         "xaxis": "x",
         "y": [
          9.917812824249268,
          10.176807284355164
         ],
         "yaxis": "y"
        },
        {
         "hovertemplate": "x=%{x}<br>y=%{y}<extra></extra>",
         "line": {
          "color": "#023e8a",
          "width": 3
         },
         "marker": {
          "color": "#023e8a",
          "size": 7
         },
         "mode": "lines+markers",
         "showlegend": false,
         "type": "scatter",
         "x": [
          48,
          49
         ],
         "xaxis": "x",
         "y": [
          9.614019513130188,
          9.917812824249268
         ],
         "yaxis": "y"
        },
        {
         "hovertemplate": "x=%{x}<br>y=%{y}<extra></extra>",
         "line": {
          "color": "#023e8a",
          "width": 3
         },
         "marker": {
          "color": "#023e8a",
          "size": 7
         },
         "mode": "lines+markers",
         "showlegend": false,
         "type": "scatter",
         "x": [
          47,
          48
         ],
         "xaxis": "x",
         "y": [
          9.152756750583649,
          9.614019513130188
         ],
         "yaxis": "y"
        },
        {
         "hovertemplate": "x=%{x}<br>y=%{y}<extra></extra>",
         "line": {
          "color": "#023e8a",
          "width": 3
         },
         "marker": {
          "color": "#023e8a",
          "size": 7
         },
         "mode": "lines+markers",
         "showlegend": false,
         "type": "scatter",
         "x": [
          46,
          47
         ],
         "xaxis": "x",
         "y": [
          8.69520479440689,
          9.152756750583649
         ],
         "yaxis": "y"
        },
        {
         "hovertemplate": "x=%{x}<br>y=%{y}<extra></extra>",
         "line": {
          "color": "#023e8a",
          "width": 3
         },
         "marker": {
          "color": "#023e8a",
          "size": 7
         },
         "mode": "lines+markers",
         "showlegend": false,
         "type": "scatter",
         "x": [
          45,
          46
         ],
         "xaxis": "x",
         "y": [
          8.345611870288849,
          8.69520479440689
         ],
         "yaxis": "y"
        },
        {
         "hovertemplate": "x=%{x}<br>y=%{y}<extra></extra>",
         "line": {
          "color": "#023e8a",
          "width": 3
         },
         "marker": {
          "color": "#023e8a",
          "size": 7
         },
         "mode": "lines+markers",
         "showlegend": false,
         "type": "scatter",
         "x": [
          44,
          45
         ],
         "xaxis": "x",
         "y": [
          7.959950864315033,
          8.345611870288849
         ],
         "yaxis": "y"
        },
        {
         "hovertemplate": "x=%{x}<br>y=%{y}<extra></extra>",
         "line": {
          "color": "#023e8a",
          "width": 3
         },
         "marker": {
          "color": "#023e8a",
          "size": 7
         },
         "mode": "lines+markers",
         "showlegend": false,
         "type": "scatter",
         "x": [
          43,
          44
         ],
         "xaxis": "x",
         "y": [
          7.485100090503693,
          7.959950864315033
         ],
         "yaxis": "y"
        },
        {
         "hovertemplate": "x=%{x}<br>y=%{y}<extra></extra>",
         "line": {
          "color": "#023e8a",
          "width": 3
         },
         "marker": {
          "color": "#023e8a",
          "size": 7
         },
         "mode": "lines+markers",
         "showlegend": false,
         "type": "scatter",
         "x": [
          40,
          41
         ],
         "xaxis": "x",
         "y": [
          7.010249316692352,
          7.378208339214325
         ],
         "yaxis": "y"
        },
        {
         "hovertemplate": "x=%{x}<br>y=%{y}<extra></extra>",
         "line": {
          "color": "#023e8a",
          "width": 3
         },
         "marker": {
          "color": "#023e8a",
          "size": 7
         },
         "mode": "lines+markers",
         "showlegend": false,
         "type": "scatter",
         "x": [
          38,
          39
         ],
         "xaxis": "x",
         "y": [
          6.309261918067932,
          7.010249316692352
         ],
         "yaxis": "y"
        },
        {
         "hovertemplate": "x=%{x}<br>y=%{y}<extra></extra>",
         "line": {
          "color": "#023e8a",
          "width": 3
         },
         "marker": {
          "color": "#023e8a",
          "size": 7
         },
         "mode": "lines+markers",
         "showlegend": false,
         "type": "scatter",
         "x": [
          37,
          38
         ],
         "xaxis": "x",
         "y": [
          6.268849730491638,
          6.309261918067932
         ],
         "yaxis": "y"
        },
        {
         "hovertemplate": "x=%{x}<br>y=%{y}<extra></extra>",
         "line": {
          "color": "#023e8a",
          "width": 3
         },
         "marker": {
          "color": "#023e8a",
          "size": 7
         },
         "mode": "lines+markers",
         "showlegend": false,
         "type": "scatter",
         "x": [
          36,
          37
         ],
         "xaxis": "x",
         "y": [
          6.114866077899933,
          6.268849730491638
         ],
         "yaxis": "y"
        },
        {
         "hovertemplate": "x=%{x}<br>y=%{y}<extra></extra>",
         "line": {
          "color": "#023e8a",
          "width": 3
         },
         "marker": {
          "color": "#023e8a",
          "size": 7
         },
         "mode": "lines+markers",
         "showlegend": false,
         "type": "scatter",
         "x": [
          34,
          35
         ],
         "xaxis": "x",
         "y": [
          5.8922988176345825,
          6.114866077899933
         ],
         "yaxis": "y"
        },
        {
         "hovertemplate": "x=%{x}<br>y=%{y}<extra></extra>",
         "line": {
          "color": "#023e8a",
          "width": 3
         },
         "marker": {
          "color": "#023e8a",
          "size": 7
         },
         "mode": "lines+markers",
         "showlegend": false,
         "type": "scatter",
         "x": [
          32,
          33
         ],
         "xaxis": "x",
         "y": [
          5.6676687598228455,
          5.8922988176345825
         ],
         "yaxis": "y"
        },
        {
         "hovertemplate": "x=%{x}<br>y=%{y}<extra></extra>",
         "line": {
          "color": "#023e8a",
          "width": 3
         },
         "marker": {
          "color": "#023e8a",
          "size": 7
         },
         "mode": "lines+markers",
         "showlegend": false,
         "type": "scatter",
         "x": [
          31,
          32
         ],
         "xaxis": "x",
         "y": [
          5.36054790019989,
          5.6676687598228455
         ],
         "yaxis": "y"
        },
        {
         "hovertemplate": "x=%{x}<br>y=%{y}<extra></extra>",
         "line": {
          "color": "#023e8a",
          "width": 3
         },
         "marker": {
          "color": "#023e8a",
          "size": 7
         },
         "mode": "lines+markers",
         "showlegend": false,
         "type": "scatter",
         "x": [
          28,
          29
         ],
         "xaxis": "x",
         "y": [
          4.585979700088501,
          4.901678502559662
         ],
         "yaxis": "y"
        },
        {
         "hovertemplate": "x=%{x}<br>y=%{y}<extra></extra>",
         "line": {
          "color": "#023e8a",
          "width": 3
         },
         "marker": {
          "color": "#023e8a",
          "size": 7
         },
         "mode": "lines+markers",
         "showlegend": false,
         "type": "scatter",
         "x": [
          22,
          23
         ],
         "xaxis": "x",
         "y": [
          3.8339297771453857,
          4.59516054391861
         ],
         "yaxis": "y"
        },
        {
         "hovertemplate": "x=%{x}<br>y=%{y}<extra></extra>",
         "line": {
          "color": "#023e8a",
          "width": 3
         },
         "marker": {
          "color": "#023e8a",
          "size": 7
         },
         "mode": "lines+markers",
         "showlegend": false,
         "type": "scatter",
         "x": [
          21,
          22
         ],
         "xaxis": "x",
         "y": [
          3.519180715084076,
          3.8339297771453857
         ],
         "yaxis": "y"
        },
        {
         "hovertemplate": "x=%{x}<br>y=%{y}<extra></extra>",
         "line": {
          "color": "#023e8a",
          "width": 3
         },
         "marker": {
          "color": "#023e8a",
          "size": 7
         },
         "mode": "lines+markers",
         "showlegend": false,
         "type": "scatter",
         "x": [
          20,
          21
         ],
         "xaxis": "x",
         "y": [
          3.1389265060424805,
          3.519180715084076
         ],
         "yaxis": "y"
        },
        {
         "hovertemplate": "x=%{x}<br>y=%{y}<extra></extra>",
         "line": {
          "color": "#023e8a",
          "width": 3
         },
         "marker": {
          "color": "#023e8a",
          "size": 7
         },
         "mode": "lines+markers",
         "showlegend": false,
         "type": "scatter",
         "x": [
          19,
          20
         ],
         "xaxis": "x",
         "y": [
          2.762407898902893,
          3.1389265060424805
         ],
         "yaxis": "y"
        },
        {
         "hovertemplate": "x=%{x}<br>y=%{y}<extra></extra>",
         "line": {
          "color": "#023e8a",
          "width": 3
         },
         "marker": {
          "color": "#023e8a",
          "size": 7
         },
         "mode": "lines+markers",
         "showlegend": false,
         "type": "scatter",
         "x": [
          18,
          19
         ],
         "xaxis": "x",
         "y": [
          2.4472842812538147,
          2.762407898902893
         ],
         "yaxis": "y"
        },
        {
         "hovertemplate": "x=%{x}<br>y=%{y}<extra></extra>",
         "line": {
          "color": "#023e8a",
          "width": 3
         },
         "marker": {
          "color": "#023e8a",
          "size": 7
         },
         "mode": "lines+markers",
         "showlegend": false,
         "type": "scatter",
         "x": [
          17,
          18
         ],
         "xaxis": "x",
         "y": [
          2.1769766211509705,
          2.4472842812538147
         ],
         "yaxis": "y"
        },
        {
         "hovertemplate": "x=%{x}<br>y=%{y}<extra></extra>",
         "line": {
          "color": "#023e8a",
          "width": 3
         },
         "marker": {
          "color": "#023e8a",
          "size": 7
         },
         "mode": "lines+markers",
         "showlegend": false,
         "type": "scatter",
         "x": [
          16,
          17
         ],
         "xaxis": "x",
         "y": [
          1.8473795056343079,
          2.1769766211509705
         ],
         "yaxis": "y"
        },
        {
         "hovertemplate": "x=%{x}<br>y=%{y}<extra></extra>",
         "line": {
          "color": "#023e8a",
          "width": 3
         },
         "marker": {
          "color": "#023e8a",
          "size": 7
         },
         "mode": "lines+markers",
         "showlegend": false,
         "type": "scatter",
         "x": [
          8,
          9
         ],
         "xaxis": "x",
         "y": [
          0.9482535719871521,
          1.2714566588401794
         ],
         "yaxis": "y"
        },
        {
         "hovertemplate": "x=%{x}<br>y=%{y}<extra></extra>",
         "line": {
          "color": "#023e8a",
          "width": 3
         },
         "marker": {
          "color": "#023e8a",
          "size": 7
         },
         "mode": "lines+markers",
         "showlegend": false,
         "type": "scatter",
         "x": [
          7,
          8
         ],
         "xaxis": "x",
         "y": [
          0.7153907418251038,
          0.9482535719871521
         ],
         "yaxis": "y"
        },
        {
         "hovertemplate": "x=%{x}<br>y=%{y}<extra></extra>",
         "line": {
          "color": "#023e8a",
          "width": 3
         },
         "marker": {
          "color": "#023e8a",
          "size": 7
         },
         "mode": "lines+markers",
         "showlegend": false,
         "type": "scatter",
         "x": [
          4,
          5
         ],
         "xaxis": "x",
         "y": [
          0.1593245267868042,
          0.3837496042251587
         ],
         "yaxis": "y"
        },
        {
         "hovertemplate": "x=%{x}<br>y=%{y}<extra></extra>",
         "line": {
          "color": "#023e8a",
          "width": 3
         },
         "marker": {
          "color": "#023e8a",
          "size": 7
         },
         "mode": "lines+markers",
         "showlegend": false,
         "type": "scatter",
         "x": [
          2,
          3
         ],
         "xaxis": "x",
         "y": [
          0,
          0.1593245267868042
         ],
         "yaxis": "y"
        },
        {
         "hovertemplate": "x=%{x}<br>y=%{y}<extra></extra>",
         "line": {
          "color": "#c1121f",
          "width": 3
         },
         "marker": {
          "color": "#c1121f",
          "size": 7
         },
         "mode": "lines+markers",
         "showlegend": false,
         "type": "scatter",
         "x": [
          51,
          52
         ],
         "xaxis": "x",
         "y": [
          10.176807284355164,
          10.231234848499298
         ],
         "yaxis": "y"
        },
        {
         "hovertemplate": "x=%{x}<br>y=%{y}<extra></extra>",
         "line": {
          "color": "#c1121f",
          "width": 3
         },
         "marker": {
          "color": "#c1121f",
          "size": 7
         },
         "mode": "lines+markers",
         "showlegend": false,
         "type": "scatter",
         "x": [
          42,
          43
         ],
         "xaxis": "x",
         "y": [
          7.378208339214325,
          7.485100090503693
         ],
         "yaxis": "y"
        },
        {
         "hovertemplate": "x=%{x}<br>y=%{y}<extra></extra>",
         "line": {
          "color": "#c1121f",
          "width": 3
         },
         "marker": {
          "color": "#c1121f",
          "size": 7
         },
         "mode": "lines+markers",
         "showlegend": false,
         "type": "scatter",
         "x": [
          30,
          31
         ],
         "xaxis": "x",
         "y": [
          4.901678502559662,
          5.36054790019989
         ],
         "yaxis": "y"
        },
        {
         "hovertemplate": "x=%{x}<br>y=%{y}<extra></extra>",
         "line": {
          "color": "#c1121f",
          "width": 3
         },
         "marker": {
          "color": "#c1121f",
          "size": 7
         },
         "mode": "lines+markers",
         "showlegend": false,
         "type": "scatter",
         "x": [
          27,
          28
         ],
         "xaxis": "x",
         "y": [
          4.343162417411804,
          4.585979700088501
         ],
         "yaxis": "y"
        },
        {
         "hovertemplate": "x=%{x}<br>y=%{y}<extra></extra>",
         "line": {
          "color": "#c1121f",
          "width": 3
         },
         "marker": {
          "color": "#c1121f",
          "size": 7
         },
         "mode": "lines+markers",
         "showlegend": false,
         "type": "scatter",
         "x": [
          24,
          25
         ],
         "xaxis": "x",
         "y": [
          4.59516054391861,
          4.343162417411804
         ],
         "yaxis": "y"
        },
        {
         "hovertemplate": "x=%{x}<br>y=%{y}<extra></extra>",
         "line": {
          "color": "#c1121f",
          "width": 3
         },
         "marker": {
          "color": "#c1121f",
          "size": 7
         },
         "mode": "lines+markers",
         "showlegend": false,
         "type": "scatter",
         "x": [
          15,
          16
         ],
         "xaxis": "x",
         "y": [
          1.5691365003585815,
          1.8473795056343079
         ],
         "yaxis": "y"
        },
        {
         "hovertemplate": "x=%{x}<br>y=%{y}<extra></extra>",
         "line": {
          "color": "#c1121f",
          "width": 3
         },
         "marker": {
          "color": "#c1121f",
          "size": 7
         },
         "mode": "lines+markers",
         "showlegend": false,
         "type": "scatter",
         "x": [
          6,
          7
         ],
         "xaxis": "x",
         "y": [
          0.3837496042251587,
          0.7153907418251038
         ],
         "yaxis": "y"
        },
        {
         "hovertemplate": "x=%{x}<br>y=%{y}<extra></extra>",
         "line": {
          "color": "#9d4edd",
          "width": 3
         },
         "marker": {
          "color": "#9d4edd",
          "size": 7
         },
         "mode": "lines+markers",
         "showlegend": false,
         "type": "scatter",
         "x": [
          56,
          57
         ],
         "xaxis": "x",
         "y": [
          10.231234848499298,
          10.231234848499298
         ],
         "yaxis": "y"
        },
        {
         "hovertemplate": "x=%{x}<br>y=%{y}<extra></extra>",
         "line": {
          "color": "#9d4edd",
          "width": 3
         },
         "marker": {
          "color": "#9d4edd",
          "size": 7
         },
         "mode": "lines+markers",
         "showlegend": false,
         "type": "scatter",
         "x": [
          12,
          13
         ],
         "xaxis": "x",
         "y": [
          1.563348650932312,
          1.5691365003585815
         ],
         "yaxis": "y"
        },
        {
         "hovertemplate": "x=%{x}<br>y=%{y}<extra></extra>",
         "line": {
          "color": "#9d4edd",
          "width": 3
         },
         "marker": {
          "color": "#9d4edd",
          "size": 7
         },
         "mode": "lines+markers",
         "showlegend": false,
         "type": "scatter",
         "x": [
          11,
          12
         ],
         "xaxis": "x",
         "y": [
          1.2714566588401794,
          1.563348650932312
         ],
         "yaxis": "y"
        },
        {
         "line": {
          "color": "#64B5F6",
          "width": 2
         },
         "mode": "lines",
         "name": "human_insert_backstage",
         "showlegend": true,
         "type": "scatter",
         "x": [
          null
         ],
         "xaxis": "x",
         "y": [
          null
         ],
         "yaxis": "y"
        },
        {
         "line": {
          "color": "#ff8fab",
          "width": 2
         },
         "mode": "lines",
         "name": "ai_suggest_backstage",
         "showlegend": true,
         "type": "scatter",
         "x": [
          null
         ],
         "xaxis": "x",
         "y": [
          null
         ],
         "yaxis": "y"
        },
        {
         "line": {
          "color": "#023e8a",
          "width": 2
         },
         "mode": "lines",
         "name": "human_insert_frontstage",
         "showlegend": true,
         "type": "scatter",
         "x": [
          null
         ],
         "xaxis": "x",
         "y": [
          null
         ],
         "yaxis": "y"
        },
        {
         "line": {
          "color": "#c1121f",
          "width": 2
         },
         "mode": "lines",
         "name": "ai_insert_moved_to_frontstage",
         "showlegend": true,
         "type": "scatter",
         "x": [
          null
         ],
         "xaxis": "x",
         "y": [
          null
         ],
         "yaxis": "y"
        },
        {
         "line": {
          "color": "#9d4edd",
          "width": 2
         },
         "mode": "lines",
         "name": "human_delete_frontstage",
         "showlegend": true,
         "type": "scatter",
         "x": [
          null
         ],
         "xaxis": "x",
         "y": [
          null
         ],
         "yaxis": "y"
        },
        {
         "line": {
          "color": "#5a189a",
          "width": 2
         },
         "mode": "lines",
         "name": "human_insert_edit_frontstage",
         "showlegend": true,
         "type": "scatter",
         "x": [
          null
         ],
         "xaxis": "x",
         "y": [
          null
         ],
         "yaxis": "y"
        }
       ],
       "layout": {
        "annotations": [
         {
          "font": {
           "size": 16
          },
          "showarrow": false,
          "text": "Session: legislation_corporate_2",
          "x": 0.5,
          "xanchor": "center",
          "xref": "paper",
          "y": 1,
          "yanchor": "bottom",
          "yref": "paper"
         }
        ],
        "height": 500,
        "legend": {
         "title": {
          "font": {
           "color": "rgba(0, 0, 0, 0)"
          }
         }
        },
        "plot_bgcolor": "white",
        "showlegend": true,
        "template": {
         "data": {
          "bar": [
           {
            "error_x": {
             "color": "#2a3f5f"
            },
            "error_y": {
             "color": "#2a3f5f"
            },
            "marker": {
             "line": {
              "color": "#E5ECF6",
              "width": 0.5
             },
             "pattern": {
              "fillmode": "overlay",
              "size": 10,
              "solidity": 0.2
             }
            },
            "type": "bar"
           }
          ],
          "barpolar": [
           {
            "marker": {
             "line": {
              "color": "#E5ECF6",
              "width": 0.5
             },
             "pattern": {
              "fillmode": "overlay",
              "size": 10,
              "solidity": 0.2
             }
            },
            "type": "barpolar"
           }
          ],
          "carpet": [
           {
            "aaxis": {
             "endlinecolor": "#2a3f5f",
             "gridcolor": "white",
             "linecolor": "white",
             "minorgridcolor": "white",
             "startlinecolor": "#2a3f5f"
            },
            "baxis": {
             "endlinecolor": "#2a3f5f",
             "gridcolor": "white",
             "linecolor": "white",
             "minorgridcolor": "white",
             "startlinecolor": "#2a3f5f"
            },
            "type": "carpet"
           }
          ],
          "choropleth": [
           {
            "colorbar": {
             "outlinewidth": 0,
             "ticks": ""
            },
            "type": "choropleth"
           }
          ],
          "contour": [
           {
            "colorbar": {
             "outlinewidth": 0,
             "ticks": ""
            },
            "colorscale": [
             [
              0,
              "#0d0887"
             ],
             [
              0.1111111111111111,
              "#46039f"
             ],
             [
              0.2222222222222222,
              "#7201a8"
             ],
             [
              0.3333333333333333,
              "#9c179e"
             ],
             [
              0.4444444444444444,
              "#bd3786"
             ],
             [
              0.5555555555555556,
              "#d8576b"
             ],
             [
              0.6666666666666666,
              "#ed7953"
             ],
             [
              0.7777777777777778,
              "#fb9f3a"
             ],
             [
              0.8888888888888888,
              "#fdca26"
             ],
             [
              1,
              "#f0f921"
             ]
            ],
            "type": "contour"
           }
          ],
          "contourcarpet": [
           {
            "colorbar": {
             "outlinewidth": 0,
             "ticks": ""
            },
            "type": "contourcarpet"
           }
          ],
          "heatmap": [
           {
            "colorbar": {
             "outlinewidth": 0,
             "ticks": ""
            },
            "colorscale": [
             [
              0,
              "#0d0887"
             ],
             [
              0.1111111111111111,
              "#46039f"
             ],
             [
              0.2222222222222222,
              "#7201a8"
             ],
             [
              0.3333333333333333,
              "#9c179e"
             ],
             [
              0.4444444444444444,
              "#bd3786"
             ],
             [
              0.5555555555555556,
              "#d8576b"
             ],
             [
              0.6666666666666666,
              "#ed7953"
             ],
             [
              0.7777777777777778,
              "#fb9f3a"
             ],
             [
              0.8888888888888888,
              "#fdca26"
             ],
             [
              1,
              "#f0f921"
             ]
            ],
            "type": "heatmap"
           }
          ],
          "histogram": [
           {
            "marker": {
             "pattern": {
              "fillmode": "overlay",
              "size": 10,
              "solidity": 0.2
             }
            },
            "type": "histogram"
           }
          ],
          "histogram2d": [
           {
            "colorbar": {
             "outlinewidth": 0,
             "ticks": ""
            },
            "colorscale": [
             [
              0,
              "#0d0887"
             ],
             [
              0.1111111111111111,
              "#46039f"
             ],
             [
              0.2222222222222222,
              "#7201a8"
             ],
             [
              0.3333333333333333,
              "#9c179e"
             ],
             [
              0.4444444444444444,
              "#bd3786"
             ],
             [
              0.5555555555555556,
              "#d8576b"
             ],
             [
              0.6666666666666666,
              "#ed7953"
             ],
             [
              0.7777777777777778,
              "#fb9f3a"
             ],
             [
              0.8888888888888888,
              "#fdca26"
             ],
             [
              1,
              "#f0f921"
             ]
            ],
            "type": "histogram2d"
           }
          ],
          "histogram2dcontour": [
           {
            "colorbar": {
             "outlinewidth": 0,
             "ticks": ""
            },
            "colorscale": [
             [
              0,
              "#0d0887"
             ],
             [
              0.1111111111111111,
              "#46039f"
             ],
             [
              0.2222222222222222,
              "#7201a8"
             ],
             [
              0.3333333333333333,
              "#9c179e"
             ],
             [
              0.4444444444444444,
              "#bd3786"
             ],
             [
              0.5555555555555556,
              "#d8576b"
             ],
             [
              0.6666666666666666,
              "#ed7953"
             ],
             [
              0.7777777777777778,
              "#fb9f3a"
             ],
             [
              0.8888888888888888,
              "#fdca26"
             ],
             [
              1,
              "#f0f921"
             ]
            ],
            "type": "histogram2dcontour"
           }
          ],
          "mesh3d": [
           {
            "colorbar": {
             "outlinewidth": 0,
             "ticks": ""
            },
            "type": "mesh3d"
           }
          ],
          "parcoords": [
           {
            "line": {
             "colorbar": {
              "outlinewidth": 0,
              "ticks": ""
             }
            },
            "type": "parcoords"
           }
          ],
          "pie": [
           {
            "automargin": true,
            "type": "pie"
           }
          ],
          "scatter": [
           {
            "fillpattern": {
             "fillmode": "overlay",
             "size": 10,
             "solidity": 0.2
            },
            "type": "scatter"
           }
          ],
          "scatter3d": [
           {
            "line": {
             "colorbar": {
              "outlinewidth": 0,
              "ticks": ""
             }
            },
            "marker": {
             "colorbar": {
              "outlinewidth": 0,
              "ticks": ""
             }
            },
            "type": "scatter3d"
           }
          ],
          "scattercarpet": [
           {
            "marker": {
             "colorbar": {
              "outlinewidth": 0,
              "ticks": ""
             }
            },
            "type": "scattercarpet"
           }
          ],
          "scattergeo": [
           {
            "marker": {
             "colorbar": {
              "outlinewidth": 0,
              "ticks": ""
             }
            },
            "type": "scattergeo"
           }
          ],
          "scattergl": [
           {
            "marker": {
             "colorbar": {
              "outlinewidth": 0,
              "ticks": ""
             }
            },
            "type": "scattergl"
           }
          ],
          "scattermap": [
           {
            "marker": {
             "colorbar": {
              "outlinewidth": 0,
              "ticks": ""
             }
            },
            "type": "scattermap"
           }
          ],
          "scattermapbox": [
           {
            "marker": {
             "colorbar": {
              "outlinewidth": 0,
              "ticks": ""
             }
            },
            "type": "scattermapbox"
           }
          ],
          "scatterpolar": [
           {
            "marker": {
             "colorbar": {
              "outlinewidth": 0,
              "ticks": ""
             }
            },
            "type": "scatterpolar"
           }
          ],
          "scatterpolargl": [
           {
            "marker": {
             "colorbar": {
              "outlinewidth": 0,
              "ticks": ""
             }
            },
            "type": "scatterpolargl"
           }
          ],
          "scatterternary": [
           {
            "marker": {
             "colorbar": {
              "outlinewidth": 0,
              "ticks": ""
             }
            },
            "type": "scatterternary"
           }
          ],
          "surface": [
           {
            "colorbar": {
             "outlinewidth": 0,
             "ticks": ""
            },
            "colorscale": [
             [
              0,
              "#0d0887"
             ],
             [
              0.1111111111111111,
              "#46039f"
             ],
             [
              0.2222222222222222,
              "#7201a8"
             ],
             [
              0.3333333333333333,
              "#9c179e"
             ],
             [
              0.4444444444444444,
              "#bd3786"
             ],
             [
              0.5555555555555556,
              "#d8576b"
             ],
             [
              0.6666666666666666,
              "#ed7953"
             ],
             [
              0.7777777777777778,
              "#fb9f3a"
             ],
             [
              0.8888888888888888,
              "#fdca26"
             ],
             [
              1,
              "#f0f921"
             ]
            ],
            "type": "surface"
           }
          ],
          "table": [
           {
            "cells": {
             "fill": {
              "color": "#EBF0F8"
             },
             "line": {
              "color": "white"
             }
            },
            "header": {
             "fill": {
              "color": "#C8D4E3"
             },
             "line": {
              "color": "white"
             }
            },
            "type": "table"
           }
          ]
         },
         "layout": {
          "annotationdefaults": {
           "arrowcolor": "#2a3f5f",
           "arrowhead": 0,
           "arrowwidth": 1
          },
          "autotypenumbers": "strict",
          "coloraxis": {
           "colorbar": {
            "outlinewidth": 0,
            "ticks": ""
           }
          },
          "colorscale": {
           "diverging": [
            [
             0,
             "#8e0152"
            ],
            [
             0.1,
             "#c51b7d"
            ],
            [
             0.2,
             "#de77ae"
            ],
            [
             0.3,
             "#f1b6da"
            ],
            [
             0.4,
             "#fde0ef"
            ],
            [
             0.5,
             "#f7f7f7"
            ],
            [
             0.6,
             "#e6f5d0"
            ],
            [
             0.7,
             "#b8e186"
            ],
            [
             0.8,
             "#7fbc41"
            ],
            [
             0.9,
             "#4d9221"
            ],
            [
             1,
             "#276419"
            ]
           ],
           "sequential": [
            [
             0,
             "#0d0887"
            ],
            [
             0.1111111111111111,
             "#46039f"
            ],
            [
             0.2222222222222222,
             "#7201a8"
            ],
            [
             0.3333333333333333,
             "#9c179e"
            ],
            [
             0.4444444444444444,
             "#bd3786"
            ],
            [
             0.5555555555555556,
             "#d8576b"
            ],
            [
             0.6666666666666666,
             "#ed7953"
            ],
            [
             0.7777777777777778,
             "#fb9f3a"
            ],
            [
             0.8888888888888888,
             "#fdca26"
            ],
            [
             1,
             "#f0f921"
            ]
           ],
           "sequentialminus": [
            [
             0,
             "#0d0887"
            ],
            [
             0.1111111111111111,
             "#46039f"
            ],
            [
             0.2222222222222222,
             "#7201a8"
            ],
            [
             0.3333333333333333,
             "#9c179e"
            ],
            [
             0.4444444444444444,
             "#bd3786"
            ],
            [
             0.5555555555555556,
             "#d8576b"
            ],
            [
             0.6666666666666666,
             "#ed7953"
            ],
            [
             0.7777777777777778,
             "#fb9f3a"
            ],
            [
             0.8888888888888888,
             "#fdca26"
            ],
            [
             1,
             "#f0f921"
            ]
           ]
          },
          "colorway": [
           "#636efa",
           "#EF553B",
           "#00cc96",
           "#ab63fa",
           "#FFA15A",
           "#19d3f3",
           "#FF6692",
           "#B6E880",
           "#FF97FF",
           "#FECB52"
          ],
          "font": {
           "color": "#2a3f5f"
          },
          "geo": {
           "bgcolor": "white",
           "lakecolor": "white",
           "landcolor": "#E5ECF6",
           "showlakes": true,
           "showland": true,
           "subunitcolor": "white"
          },
          "hoverlabel": {
           "align": "left"
          },
          "hovermode": "closest",
          "mapbox": {
           "style": "light"
          },
          "paper_bgcolor": "white",
          "plot_bgcolor": "#E5ECF6",
          "polar": {
           "angularaxis": {
            "gridcolor": "white",
            "linecolor": "white",
            "ticks": ""
           },
           "bgcolor": "#E5ECF6",
           "radialaxis": {
            "gridcolor": "white",
            "linecolor": "white",
            "ticks": ""
           }
          },
          "scene": {
           "xaxis": {
            "backgroundcolor": "#E5ECF6",
            "gridcolor": "white",
            "gridwidth": 2,
            "linecolor": "white",
            "showbackground": true,
            "ticks": "",
            "zerolinecolor": "white"
           },
           "yaxis": {
            "backgroundcolor": "#E5ECF6",
            "gridcolor": "white",
            "gridwidth": 2,
            "linecolor": "white",
            "showbackground": true,
            "ticks": "",
            "zerolinecolor": "white"
           },
           "zaxis": {
            "backgroundcolor": "#E5ECF6",
            "gridcolor": "white",
            "gridwidth": 2,
            "linecolor": "white",
            "showbackground": true,
            "ticks": "",
            "zerolinecolor": "white"
           }
          },
          "shapedefaults": {
           "line": {
            "color": "#2a3f5f"
           }
          },
          "ternary": {
           "aaxis": {
            "gridcolor": "white",
            "linecolor": "white",
            "ticks": ""
           },
           "baxis": {
            "gridcolor": "white",
            "linecolor": "white",
            "ticks": ""
           },
           "bgcolor": "#E5ECF6",
           "caxis": {
            "gridcolor": "white",
            "linecolor": "white",
            "ticks": ""
           }
          },
          "title": {
           "x": 0.05
          },
          "xaxis": {
           "automargin": true,
           "gridcolor": "white",
           "linecolor": "white",
           "ticks": "",
           "title": {
            "standoff": 15
           },
           "zerolinecolor": "white",
           "zerolinewidth": 2
          },
          "yaxis": {
           "automargin": true,
           "gridcolor": "white",
           "linecolor": "white",
           "ticks": "",
           "title": {
            "standoff": 15
           },
           "zerolinecolor": "white",
           "zerolinewidth": 2
          }
         }
        },
        "title": {
         "text": "Semantic Expansion over Writing Sessions<br><span style=\"font-size: 12px;\">*Measuring how well humans are learning while writing with GenAI</span>"
        },
        "width": 1800,
        "xaxis": {
         "anchor": "y",
         "domain": [
          0,
          1
         ],
         "gridcolor": "white",
         "linecolor": "black",
         "mirror": false,
         "range": [
          -1,
          58
         ],
         "showline": true,
         "ticks": "outside",
         "title": {
          "text": "Progress into the writing session"
         }
        },
        "yaxis": {
         "anchor": "x",
         "domain": [
          0,
          1
         ],
         "gridcolor": "white",
         "linecolor": "black",
         "mirror": false,
         "showline": true,
         "ticks": "outside",
         "title": {
          "text": "Scores"
         }
        }
       }
      }
     },
     "metadata": {},
     "output_type": "display_data"
    },
    {
     "name": "stdout",
     "output_type": "stream",
     "text": [
      "legislation_corporate_3\n"
     ]
    },
    {
     "data": {
      "application/vnd.plotly.v1+json": {
       "config": {
        "plotlyServerURL": "https://plot.ly"
       },
       "data": [
        {
         "hovertemplate": "x=%{x}<br>y=%{y}<extra></extra>",
         "line": {
          "color": "#64B5F6",
          "width": 3
         },
         "marker": {
          "color": "#64B5F6",
          "size": 7
         },
         "mode": "lines+markers",
         "showlegend": false,
         "type": "scatter",
         "x": [
          55,
          56
         ],
         "xaxis": "x",
         "y": [
          9.091522252559662,
          9.342943346500396
         ],
         "yaxis": "y"
        },
        {
         "hovertemplate": "x=%{x}<br>y=%{y}<extra></extra>",
         "line": {
          "color": "#64B5F6",
          "width": 3
         },
         "marker": {
          "color": "#64B5F6",
          "size": 7
         },
         "mode": "lines+markers",
         "showlegend": false,
         "type": "scatter",
         "x": [
          43,
          44
         ],
         "xaxis": "x",
         "y": [
          6.120446741580963,
          6.828425943851471
         ],
         "yaxis": "y"
        },
        {
         "hovertemplate": "x=%{x}<br>y=%{y}<extra></extra>",
         "line": {
          "color": "#64B5F6",
          "width": 3
         },
         "marker": {
          "color": "#64B5F6",
          "size": 7
         },
         "mode": "lines+markers",
         "showlegend": false,
         "type": "scatter",
         "x": [
          38,
          39
         ],
         "xaxis": "x",
         "y": [
          5.8440956473350525,
          6.194681346416473
         ],
         "yaxis": "y"
        },
        {
         "hovertemplate": "x=%{x}<br>y=%{y}<extra></extra>",
         "line": {
          "color": "#64B5F6",
          "width": 3
         },
         "marker": {
          "color": "#64B5F6",
          "size": 7
         },
         "mode": "lines+markers",
         "showlegend": false,
         "type": "scatter",
         "x": [
          31,
          32
         ],
         "xaxis": "x",
         "y": [
          5.967788231372833,
          6.265039336681366
         ],
         "yaxis": "y"
        },
        {
         "hovertemplate": "x=%{x}<br>y=%{y}<extra></extra>",
         "line": {
          "color": "#64B5F6",
          "width": 3
         },
         "marker": {
          "color": "#64B5F6",
          "size": 7
         },
         "mode": "lines+markers",
         "showlegend": false,
         "type": "scatter",
         "x": [
          25,
          26
         ],
         "xaxis": "x",
         "y": [
          4.410401701927185,
          4.667386114597321
         ],
         "yaxis": "y"
        },
        {
         "hovertemplate": "x=%{x}<br>y=%{y}<extra></extra>",
         "line": {
          "color": "#64B5F6",
          "width": 3
         },
         "marker": {
          "color": "#64B5F6",
          "size": 7
         },
         "mode": "lines+markers",
         "showlegend": false,
         "type": "scatter",
         "x": [
          14,
          15
         ],
         "xaxis": "x",
         "y": [
          1.4216607809066772,
          2.247847259044647
         ],
         "yaxis": "y"
        },
        {
         "hovertemplate": "x=%{x}<br>y=%{y}<extra></extra>",
         "line": {
          "color": "#64B5F6",
          "width": 3
         },
         "marker": {
          "color": "#64B5F6",
          "size": 7
         },
         "mode": "lines+markers",
         "showlegend": false,
         "type": "scatter",
         "x": [
          11,
          12
         ],
         "xaxis": "x",
         "y": [
          1.1321403980255127,
          1.3720230460166931
         ],
         "yaxis": "y"
        },
        {
         "hovertemplate": "x=%{x}<br>y=%{y}<extra></extra>",
         "line": {
          "color": "#64B5F6",
          "width": 3
         },
         "marker": {
          "color": "#64B5F6",
          "size": 7
         },
         "mode": "lines+markers",
         "showlegend": false,
         "type": "scatter",
         "x": [
          0,
          1
         ],
         "xaxis": "x",
         "y": [
          0,
          0.25069308280944824
         ],
         "yaxis": "y"
        },
        {
         "hovertemplate": "x=%{x}<br>y=%{y}<extra></extra>",
         "line": {
          "color": "#ff8fab",
          "width": 3
         },
         "marker": {
          "color": "#ff8fab",
          "size": 7
         },
         "mode": "lines+markers",
         "showlegend": false,
         "type": "scatter",
         "x": [
          72,
          73
         ],
         "xaxis": "x",
         "y": [
          14.979666101932526,
          15.404222023487092
         ],
         "yaxis": "y"
        },
        {
         "hovertemplate": "x=%{x}<br>y=%{y}<extra></extra>",
         "line": {
          "color": "#ff8fab",
          "width": 3
         },
         "marker": {
          "color": "#ff8fab",
          "size": 7
         },
         "mode": "lines+markers",
         "showlegend": false,
         "type": "scatter",
         "x": [
          71,
          72
         ],
         "xaxis": "x",
         "y": [
          14.499258875846863,
          14.979666101932526
         ],
         "yaxis": "y"
        },
        {
         "hovertemplate": "x=%{x}<br>y=%{y}<extra></extra>",
         "line": {
          "color": "#ff8fab",
          "width": 3
         },
         "marker": {
          "color": "#ff8fab",
          "size": 7
         },
         "mode": "lines+markers",
         "showlegend": false,
         "type": "scatter",
         "x": [
          65,
          66
         ],
         "xaxis": "x",
         "y": [
          12.188895165920258,
          12.56780880689621
         ],
         "yaxis": "y"
        },
        {
         "hovertemplate": "x=%{x}<br>y=%{y}<extra></extra>",
         "line": {
          "color": "#ff8fab",
          "width": 3
         },
         "marker": {
          "color": "#ff8fab",
          "size": 7
         },
         "mode": "lines+markers",
         "showlegend": false,
         "type": "scatter",
         "x": [
          56,
          57
         ],
         "xaxis": "x",
         "y": [
          9.342943346500396,
          9.654256689548493
         ],
         "yaxis": "y"
        },
        {
         "hovertemplate": "x=%{x}<br>y=%{y}<extra></extra>",
         "line": {
          "color": "#ff8fab",
          "width": 3
         },
         "marker": {
          "color": "#ff8fab",
          "size": 7
         },
         "mode": "lines+markers",
         "showlegend": false,
         "type": "scatter",
         "x": [
          54,
          55
         ],
         "xaxis": "x",
         "y": [
          8.65989601612091,
          9.091522252559662
         ],
         "yaxis": "y"
        },
        {
         "hovertemplate": "x=%{x}<br>y=%{y}<extra></extra>",
         "line": {
          "color": "#ff8fab",
          "width": 3
         },
         "marker": {
          "color": "#ff8fab",
          "size": 7
         },
         "mode": "lines+markers",
         "showlegend": false,
         "type": "scatter",
         "x": [
          51,
          52
         ],
         "xaxis": "x",
         "y": [
          7.8574389815330505,
          8.293787503242493
         ],
         "yaxis": "y"
        },
        {
         "hovertemplate": "x=%{x}<br>y=%{y}<extra></extra>",
         "line": {
          "color": "#ff8fab",
          "width": 3
         },
         "marker": {
          "color": "#ff8fab",
          "size": 7
         },
         "mode": "lines+markers",
         "showlegend": false,
         "type": "scatter",
         "x": [
          47,
          48
         ],
         "xaxis": "x",
         "y": [
          6.632758378982544,
          7.102708685398102
         ],
         "yaxis": "y"
        },
        {
         "hovertemplate": "x=%{x}<br>y=%{y}<extra></extra>",
         "line": {
          "color": "#ff8fab",
          "width": 3
         },
         "marker": {
          "color": "#ff8fab",
          "size": 7
         },
         "mode": "lines+markers",
         "showlegend": false,
         "type": "scatter",
         "x": [
          44,
          45
         ],
         "xaxis": "x",
         "y": [
          6.828425943851471,
          7.503317022323609
         ],
         "yaxis": "y"
        },
        {
         "hovertemplate": "x=%{x}<br>y=%{y}<extra></extra>",
         "line": {
          "color": "#ff8fab",
          "width": 3
         },
         "marker": {
          "color": "#ff8fab",
          "size": 7
         },
         "mode": "lines+markers",
         "showlegend": false,
         "type": "scatter",
         "x": [
          40,
          41
         ],
         "xaxis": "x",
         "y": [
          6.149635314941406,
          6.509075653553009
         ],
         "yaxis": "y"
        },
        {
         "hovertemplate": "x=%{x}<br>y=%{y}<extra></extra>",
         "line": {
          "color": "#ff8fab",
          "width": 3
         },
         "marker": {
          "color": "#ff8fab",
          "size": 7
         },
         "mode": "lines+markers",
         "showlegend": false,
         "type": "scatter",
         "x": [
          36,
          37
         ],
         "xaxis": "x",
         "y": [
          6.4890875816345215,
          6.905780029296875
         ],
         "yaxis": "y"
        },
        {
         "hovertemplate": "x=%{x}<br>y=%{y}<extra></extra>",
         "line": {
          "color": "#ff8fab",
          "width": 3
         },
         "marker": {
          "color": "#ff8fab",
          "size": 7
         },
         "mode": "lines+markers",
         "showlegend": false,
         "type": "scatter",
         "x": [
          34,
          35
         ],
         "xaxis": "x",
         "y": [
          5.912800192832947,
          6.399173963069916
         ],
         "yaxis": "y"
        },
        {
         "hovertemplate": "x=%{x}<br>y=%{y}<extra></extra>",
         "line": {
          "color": "#ff8fab",
          "width": 3
         },
         "marker": {
          "color": "#ff8fab",
          "size": 7
         },
         "mode": "lines+markers",
         "showlegend": false,
         "type": "scatter",
         "x": [
          32,
          33
         ],
         "xaxis": "x",
         "y": [
          6.265039336681366,
          6.579548871517181
         ],
         "yaxis": "y"
        },
        {
         "hovertemplate": "x=%{x}<br>y=%{y}<extra></extra>",
         "line": {
          "color": "#ff8fab",
          "width": 3
         },
         "marker": {
          "color": "#ff8fab",
          "size": 7
         },
         "mode": "lines+markers",
         "showlegend": false,
         "type": "scatter",
         "x": [
          30,
          31
         ],
         "xaxis": "x",
         "y": [
          5.58819979429245,
          5.967788231372833
         ],
         "yaxis": "y"
        },
        {
         "hovertemplate": "x=%{x}<br>y=%{y}<extra></extra>",
         "line": {
          "color": "#ff8fab",
          "width": 3
         },
         "marker": {
          "color": "#ff8fab",
          "size": 7
         },
         "mode": "lines+markers",
         "showlegend": false,
         "type": "scatter",
         "x": [
          26,
          27
         ],
         "xaxis": "x",
         "y": [
          4.667386114597321,
          5.174121332168579
         ],
         "yaxis": "y"
        },
        {
         "hovertemplate": "x=%{x}<br>y=%{y}<extra></extra>",
         "line": {
          "color": "#ff8fab",
          "width": 3
         },
         "marker": {
          "color": "#ff8fab",
          "size": 7
         },
         "mode": "lines+markers",
         "showlegend": false,
         "type": "scatter",
         "x": [
          22,
          23
         ],
         "xaxis": "x",
         "y": [
          4.092032730579376,
          4.5791059851646425
         ],
         "yaxis": "y"
        },
        {
         "hovertemplate": "x=%{x}<br>y=%{y}<extra></extra>",
         "line": {
          "color": "#ff8fab",
          "width": 3
         },
         "marker": {
          "color": "#ff8fab",
          "size": 7
         },
         "mode": "lines+markers",
         "showlegend": false,
         "type": "scatter",
         "x": [
          19,
          20
         ],
         "xaxis": "x",
         "y": [
          3.104720950126648,
          3.6261584758758545
         ],
         "yaxis": "y"
        },
        {
         "hovertemplate": "x=%{x}<br>y=%{y}<extra></extra>",
         "line": {
          "color": "#ff8fab",
          "width": 3
         },
         "marker": {
          "color": "#ff8fab",
          "size": 7
         },
         "mode": "lines+markers",
         "showlegend": false,
         "type": "scatter",
         "x": [
          15,
          16
         ],
         "xaxis": "x",
         "y": [
          2.247847259044647,
          2.6261961460113525
         ],
         "yaxis": "y"
        },
        {
         "hovertemplate": "x=%{x}<br>y=%{y}<extra></extra>",
         "line": {
          "color": "#ff8fab",
          "width": 3
         },
         "marker": {
          "color": "#ff8fab",
          "size": 7
         },
         "mode": "lines+markers",
         "showlegend": false,
         "type": "scatter",
         "x": [
          12,
          13
         ],
         "xaxis": "x",
         "y": [
          1.3720230460166931,
          1.6377381920814513
         ],
         "yaxis": "y"
        },
        {
         "hovertemplate": "x=%{x}<br>y=%{y}<extra></extra>",
         "line": {
          "color": "#ff8fab",
          "width": 3
         },
         "marker": {
          "color": "#ff8fab",
          "size": 7
         },
         "mode": "lines+markers",
         "showlegend": false,
         "type": "scatter",
         "x": [
          8,
          9
         ],
         "xaxis": "x",
         "y": [
          0.984311580657959,
          1.3375254154205323
         ],
         "yaxis": "y"
        },
        {
         "hovertemplate": "x=%{x}<br>y=%{y}<extra></extra>",
         "line": {
          "color": "#ff8fab",
          "width": 3
         },
         "marker": {
          "color": "#ff8fab",
          "size": 7
         },
         "mode": "lines+markers",
         "showlegend": false,
         "type": "scatter",
         "x": [
          4,
          5
         ],
         "xaxis": "x",
         "y": [
          0.2879375219345093,
          0.6369457006454468
         ],
         "yaxis": "y"
        },
        {
         "hovertemplate": "x=%{x}<br>y=%{y}<extra></extra>",
         "line": {
          "color": "#ff8fab",
          "width": 3
         },
         "marker": {
          "color": "#ff8fab",
          "size": 7
         },
         "mode": "lines+markers",
         "showlegend": false,
         "type": "scatter",
         "x": [
          1,
          2
         ],
         "xaxis": "x",
         "y": [
          0.25069308280944824,
          0.5851143836975098
         ],
         "yaxis": "y"
        },
        {
         "hovertemplate": "x=%{x}<br>y=%{y}<extra></extra>",
         "line": {
          "color": "#023e8a",
          "width": 3
         },
         "marker": {
          "color": "#023e8a",
          "size": 7
         },
         "mode": "lines+markers",
         "showlegend": false,
         "type": "scatter",
         "x": [
          70,
          71
         ],
         "xaxis": "x",
         "y": [
          14.185009002685547,
          14.499258875846863
         ],
         "yaxis": "y"
        },
        {
         "hovertemplate": "x=%{x}<br>y=%{y}<extra></extra>",
         "line": {
          "color": "#023e8a",
          "width": 3
         },
         "marker": {
          "color": "#023e8a",
          "size": 7
         },
         "mode": "lines+markers",
         "showlegend": false,
         "type": "scatter",
         "x": [
          69,
          70
         ],
         "xaxis": "x",
         "y": [
          13.852303743362427,
          14.185009002685547
         ],
         "yaxis": "y"
        },
        {
         "hovertemplate": "x=%{x}<br>y=%{y}<extra></extra>",
         "line": {
          "color": "#023e8a",
          "width": 3
         },
         "marker": {
          "color": "#023e8a",
          "size": 7
         },
         "mode": "lines+markers",
         "showlegend": false,
         "type": "scatter",
         "x": [
          68,
          69
         ],
         "xaxis": "x",
         "y": [
          13.023788213729858,
          13.852303743362427
         ],
         "yaxis": "y"
        },
        {
         "hovertemplate": "x=%{x}<br>y=%{y}<extra></extra>",
         "line": {
          "color": "#023e8a",
          "width": 3
         },
         "marker": {
          "color": "#023e8a",
          "size": 7
         },
         "mode": "lines+markers",
         "showlegend": false,
         "type": "scatter",
         "x": [
          67,
          68
         ],
         "xaxis": "x",
         "y": [
          12.63086748123169,
          13.023788213729858
         ],
         "yaxis": "y"
        },
        {
         "hovertemplate": "x=%{x}<br>y=%{y}<extra></extra>",
         "line": {
          "color": "#023e8a",
          "width": 3
         },
         "marker": {
          "color": "#023e8a",
          "size": 7
         },
         "mode": "lines+markers",
         "showlegend": false,
         "type": "scatter",
         "x": [
          64,
          65
         ],
         "xaxis": "x",
         "y": [
          11.409431219100952,
          12.188895165920258
         ],
         "yaxis": "y"
        },
        {
         "hovertemplate": "x=%{x}<br>y=%{y}<extra></extra>",
         "line": {
          "color": "#023e8a",
          "width": 3
         },
         "marker": {
          "color": "#023e8a",
          "size": 7
         },
         "mode": "lines+markers",
         "showlegend": false,
         "type": "scatter",
         "x": [
          63,
          64
         ],
         "xaxis": "x",
         "y": [
          10.791536450386047,
          11.409431219100952
         ],
         "yaxis": "y"
        },
        {
         "hovertemplate": "x=%{x}<br>y=%{y}<extra></extra>",
         "line": {
          "color": "#023e8a",
          "width": 3
         },
         "marker": {
          "color": "#023e8a",
          "size": 7
         },
         "mode": "lines+markers",
         "showlegend": false,
         "type": "scatter",
         "x": [
          62,
          63
         ],
         "xaxis": "x",
         "y": [
          10.492030143737793,
          10.791536450386047
         ],
         "yaxis": "y"
        },
        {
         "hovertemplate": "x=%{x}<br>y=%{y}<extra></extra>",
         "line": {
          "color": "#023e8a",
          "width": 3
         },
         "marker": {
          "color": "#023e8a",
          "size": 7
         },
         "mode": "lines+markers",
         "showlegend": false,
         "type": "scatter",
         "x": [
          61,
          62
         ],
         "xaxis": "x",
         "y": [
          10.213571727275848,
          10.492030143737793
         ],
         "yaxis": "y"
        },
        {
         "hovertemplate": "x=%{x}<br>y=%{y}<extra></extra>",
         "line": {
          "color": "#023e8a",
          "width": 3
         },
         "marker": {
          "color": "#023e8a",
          "size": 7
         },
         "mode": "lines+markers",
         "showlegend": false,
         "type": "scatter",
         "x": [
          60,
          61
         ],
         "xaxis": "x",
         "y": [
          9.930849015712738,
          10.213571727275848
         ],
         "yaxis": "y"
        },
        {
         "hovertemplate": "x=%{x}<br>y=%{y}<extra></extra>",
         "line": {
          "color": "#023e8a",
          "width": 3
         },
         "marker": {
          "color": "#023e8a",
          "size": 7
         },
         "mode": "lines+markers",
         "showlegend": false,
         "type": "scatter",
         "x": [
          59,
          60
         ],
         "xaxis": "x",
         "y": [
          9.467203736305237,
          9.930849015712738
         ],
         "yaxis": "y"
        },
        {
         "hovertemplate": "x=%{x}<br>y=%{y}<extra></extra>",
         "line": {
          "color": "#023e8a",
          "width": 3
         },
         "marker": {
          "color": "#023e8a",
          "size": 7
         },
         "mode": "lines+markers",
         "showlegend": false,
         "type": "scatter",
         "x": [
          58,
          59
         ],
         "xaxis": "x",
         "y": [
          9.168863296508789,
          9.467203736305237
         ],
         "yaxis": "y"
        },
        {
         "hovertemplate": "x=%{x}<br>y=%{y}<extra></extra>",
         "line": {
          "color": "#023e8a",
          "width": 3
         },
         "marker": {
          "color": "#023e8a",
          "size": 7
         },
         "mode": "lines+markers",
         "showlegend": false,
         "type": "scatter",
         "x": [
          57,
          58
         ],
         "xaxis": "x",
         "y": [
          8.65989601612091,
          9.168863296508789
         ],
         "yaxis": "y"
        },
        {
         "hovertemplate": "x=%{x}<br>y=%{y}<extra></extra>",
         "line": {
          "color": "#023e8a",
          "width": 3
         },
         "marker": {
          "color": "#023e8a",
          "size": 7
         },
         "mode": "lines+markers",
         "showlegend": false,
         "type": "scatter",
         "x": [
          53,
          54
         ],
         "xaxis": "x",
         "y": [
          8.180201053619385,
          8.65989601612091
         ],
         "yaxis": "y"
        },
        {
         "hovertemplate": "x=%{x}<br>y=%{y}<extra></extra>",
         "line": {
          "color": "#023e8a",
          "width": 3
         },
         "marker": {
          "color": "#023e8a",
          "size": 7
         },
         "mode": "lines+markers",
         "showlegend": false,
         "type": "scatter",
         "x": [
          50,
          51
         ],
         "xaxis": "x",
         "y": [
          7.387555718421936,
          7.8574389815330505
         ],
         "yaxis": "y"
        },
        {
         "hovertemplate": "x=%{x}<br>y=%{y}<extra></extra>",
         "line": {
          "color": "#023e8a",
          "width": 3
         },
         "marker": {
          "color": "#023e8a",
          "size": 7
         },
         "mode": "lines+markers",
         "showlegend": false,
         "type": "scatter",
         "x": [
          49,
          50
         ],
         "xaxis": "x",
         "y": [
          7.1029998660087585,
          7.387555718421936
         ],
         "yaxis": "y"
        },
        {
         "hovertemplate": "x=%{x}<br>y=%{y}<extra></extra>",
         "line": {
          "color": "#023e8a",
          "width": 3
         },
         "marker": {
          "color": "#023e8a",
          "size": 7
         },
         "mode": "lines+markers",
         "showlegend": false,
         "type": "scatter",
         "x": [
          46,
          47
         ],
         "xaxis": "x",
         "y": [
          6.222305655479431,
          6.632758378982544
         ],
         "yaxis": "y"
        },
        {
         "hovertemplate": "x=%{x}<br>y=%{y}<extra></extra>",
         "line": {
          "color": "#023e8a",
          "width": 3
         },
         "marker": {
          "color": "#023e8a",
          "size": 7
         },
         "mode": "lines+markers",
         "showlegend": false,
         "type": "scatter",
         "x": [
          39,
          40
         ],
         "xaxis": "x",
         "y": [
          5.8440956473350525,
          6.149635314941406
         ],
         "yaxis": "y"
        },
        {
         "hovertemplate": "x=%{x}<br>y=%{y}<extra></extra>",
         "line": {
          "color": "#023e8a",
          "width": 3
         },
         "marker": {
          "color": "#023e8a",
          "size": 7
         },
         "mode": "lines+markers",
         "showlegend": false,
         "type": "scatter",
         "x": [
          29,
          30
         ],
         "xaxis": "x",
         "y": [
          5.277833163738251,
          5.58819979429245
         ],
         "yaxis": "y"
        },
        {
         "hovertemplate": "x=%{x}<br>y=%{y}<extra></extra>",
         "line": {
          "color": "#023e8a",
          "width": 3
         },
         "marker": {
          "color": "#023e8a",
          "size": 7
         },
         "mode": "lines+markers",
         "showlegend": false,
         "type": "scatter",
         "x": [
          28,
          29
         ],
         "xaxis": "x",
         "y": [
          4.796099245548248,
          5.277833163738251
         ],
         "yaxis": "y"
        },
        {
         "hovertemplate": "x=%{x}<br>y=%{y}<extra></extra>",
         "line": {
          "color": "#023e8a",
          "width": 3
         },
         "marker": {
          "color": "#023e8a",
          "size": 7
         },
         "mode": "lines+markers",
         "showlegend": false,
         "type": "scatter",
         "x": [
          24,
          25
         ],
         "xaxis": "x",
         "y": [
          4.00438928604126,
          4.410401701927185
         ],
         "yaxis": "y"
        },
        {
         "hovertemplate": "x=%{x}<br>y=%{y}<extra></extra>",
         "line": {
          "color": "#023e8a",
          "width": 3
         },
         "marker": {
          "color": "#023e8a",
          "size": 7
         },
         "mode": "lines+markers",
         "showlegend": false,
         "type": "scatter",
         "x": [
          21,
          22
         ],
         "xaxis": "x",
         "y": [
          3.5983768701553345,
          4.092032730579376
         ],
         "yaxis": "y"
        },
        {
         "hovertemplate": "x=%{x}<br>y=%{y}<extra></extra>",
         "line": {
          "color": "#023e8a",
          "width": 3
         },
         "marker": {
          "color": "#023e8a",
          "size": 7
         },
         "mode": "lines+markers",
         "showlegend": false,
         "type": "scatter",
         "x": [
          18,
          19
         ],
         "xaxis": "x",
         "y": [
          2.525052785873413,
          3.104720950126648
         ],
         "yaxis": "y"
        },
        {
         "hovertemplate": "x=%{x}<br>y=%{y}<extra></extra>",
         "line": {
          "color": "#023e8a",
          "width": 3
         },
         "marker": {
          "color": "#023e8a",
          "size": 7
         },
         "mode": "lines+markers",
         "showlegend": false,
         "type": "scatter",
         "x": [
          17,
          18
         ],
         "xaxis": "x",
         "y": [
          1.7326918840408325,
          2.525052785873413
         ],
         "yaxis": "y"
        },
        {
         "hovertemplate": "x=%{x}<br>y=%{y}<extra></extra>",
         "line": {
          "color": "#023e8a",
          "width": 3
         },
         "marker": {
          "color": "#023e8a",
          "size": 7
         },
         "mode": "lines+markers",
         "showlegend": false,
         "type": "scatter",
         "x": [
          10,
          11
         ],
         "xaxis": "x",
         "y": [
          0.9739604592323303,
          1.1321403980255127
         ],
         "yaxis": "y"
        },
        {
         "hovertemplate": "x=%{x}<br>y=%{y}<extra></extra>",
         "line": {
          "color": "#023e8a",
          "width": 3
         },
         "marker": {
          "color": "#023e8a",
          "size": 7
         },
         "mode": "lines+markers",
         "showlegend": false,
         "type": "scatter",
         "x": [
          7,
          8
         ],
         "xaxis": "x",
         "y": [
          0.8157800436019897,
          0.984311580657959
         ],
         "yaxis": "y"
        },
        {
         "hovertemplate": "x=%{x}<br>y=%{y}<extra></extra>",
         "line": {
          "color": "#023e8a",
          "width": 3
         },
         "marker": {
          "color": "#023e8a",
          "size": 7
         },
         "mode": "lines+markers",
         "showlegend": false,
         "type": "scatter",
         "x": [
          6,
          7
         ],
         "xaxis": "x",
         "y": [
          0.5382029414176941,
          0.8157800436019897
         ],
         "yaxis": "y"
        },
        {
         "hovertemplate": "x=%{x}<br>y=%{y}<extra></extra>",
         "line": {
          "color": "#023e8a",
          "width": 3
         },
         "marker": {
          "color": "#023e8a",
          "size": 7
         },
         "mode": "lines+markers",
         "showlegend": false,
         "type": "scatter",
         "x": [
          3,
          4
         ],
         "xaxis": "x",
         "y": [
          0,
          0.2879375219345093
         ],
         "yaxis": "y"
        },
        {
         "hovertemplate": "x=%{x}<br>y=%{y}<extra></extra>",
         "line": {
          "color": "#c1121f",
          "width": 3
         },
         "marker": {
          "color": "#c1121f",
          "size": 7
         },
         "mode": "lines+markers",
         "showlegend": false,
         "type": "scatter",
         "x": [
          73,
          74
         ],
         "xaxis": "x",
         "y": [
          14.499258875846863,
          15.065255284309387
         ],
         "yaxis": "y"
        },
        {
         "hovertemplate": "x=%{x}<br>y=%{y}<extra></extra>",
         "line": {
          "color": "#c1121f",
          "width": 3
         },
         "marker": {
          "color": "#c1121f",
          "size": 7
         },
         "mode": "lines+markers",
         "showlegend": false,
         "type": "scatter",
         "x": [
          66,
          67
         ],
         "xaxis": "x",
         "y": [
          12.188895165920258,
          12.63086748123169
         ],
         "yaxis": "y"
        },
        {
         "hovertemplate": "x=%{x}<br>y=%{y}<extra></extra>",
         "line": {
          "color": "#c1121f",
          "width": 3
         },
         "marker": {
          "color": "#c1121f",
          "size": 7
         },
         "mode": "lines+markers",
         "showlegend": false,
         "type": "scatter",
         "x": [
          52,
          53
         ],
         "xaxis": "x",
         "y": [
          7.8574389815330505,
          8.180201053619385
         ],
         "yaxis": "y"
        },
        {
         "hovertemplate": "x=%{x}<br>y=%{y}<extra></extra>",
         "line": {
          "color": "#c1121f",
          "width": 3
         },
         "marker": {
          "color": "#c1121f",
          "size": 7
         },
         "mode": "lines+markers",
         "showlegend": false,
         "type": "scatter",
         "x": [
          48,
          49
         ],
         "xaxis": "x",
         "y": [
          6.632758378982544,
          7.1029998660087585
         ],
         "yaxis": "y"
        },
        {
         "hovertemplate": "x=%{x}<br>y=%{y}<extra></extra>",
         "line": {
          "color": "#c1121f",
          "width": 3
         },
         "marker": {
          "color": "#c1121f",
          "size": 7
         },
         "mode": "lines+markers",
         "showlegend": false,
         "type": "scatter",
         "x": [
          41,
          42
         ],
         "xaxis": "x",
         "y": [
          6.149635314941406,
          6.509264945983887
         ],
         "yaxis": "y"
        },
        {
         "hovertemplate": "x=%{x}<br>y=%{y}<extra></extra>",
         "line": {
          "color": "#c1121f",
          "width": 3
         },
         "marker": {
          "color": "#c1121f",
          "size": 7
         },
         "mode": "lines+markers",
         "showlegend": false,
         "type": "scatter",
         "x": [
          35,
          36
         ],
         "xaxis": "x",
         "y": [
          5.912800192832947,
          6.4890875816345215
         ],
         "yaxis": "y"
        },
        {
         "hovertemplate": "x=%{x}<br>y=%{y}<extra></extra>",
         "line": {
          "color": "#c1121f",
          "width": 3
         },
         "marker": {
          "color": "#c1121f",
          "size": 7
         },
         "mode": "lines+markers",
         "showlegend": false,
         "type": "scatter",
         "x": [
          33,
          34
         ],
         "xaxis": "x",
         "y": [
          5.58819979429245,
          5.912800192832947
         ],
         "yaxis": "y"
        },
        {
         "hovertemplate": "x=%{x}<br>y=%{y}<extra></extra>",
         "line": {
          "color": "#c1121f",
          "width": 3
         },
         "marker": {
          "color": "#c1121f",
          "size": 7
         },
         "mode": "lines+markers",
         "showlegend": false,
         "type": "scatter",
         "x": [
          23,
          24
         ],
         "xaxis": "x",
         "y": [
          4.092032730579376,
          4.00438928604126
         ],
         "yaxis": "y"
        },
        {
         "hovertemplate": "x=%{x}<br>y=%{y}<extra></extra>",
         "line": {
          "color": "#c1121f",
          "width": 3
         },
         "marker": {
          "color": "#c1121f",
          "size": 7
         },
         "mode": "lines+markers",
         "showlegend": false,
         "type": "scatter",
         "x": [
          20,
          21
         ],
         "xaxis": "x",
         "y": [
          3.104720950126648,
          3.5983768701553345
         ],
         "yaxis": "y"
        },
        {
         "hovertemplate": "x=%{x}<br>y=%{y}<extra></extra>",
         "line": {
          "color": "#c1121f",
          "width": 3
         },
         "marker": {
          "color": "#c1121f",
          "size": 7
         },
         "mode": "lines+markers",
         "showlegend": false,
         "type": "scatter",
         "x": [
          16,
          17
         ],
         "xaxis": "x",
         "y": [
          1.4216607809066772,
          1.7326918840408325
         ],
         "yaxis": "y"
        },
        {
         "hovertemplate": "x=%{x}<br>y=%{y}<extra></extra>",
         "line": {
          "color": "#c1121f",
          "width": 3
         },
         "marker": {
          "color": "#c1121f",
          "size": 7
         },
         "mode": "lines+markers",
         "showlegend": false,
         "type": "scatter",
         "x": [
          13,
          14
         ],
         "xaxis": "x",
         "y": [
          1.1321403980255127,
          1.4216607809066772
         ],
         "yaxis": "y"
        },
        {
         "hovertemplate": "x=%{x}<br>y=%{y}<extra></extra>",
         "line": {
          "color": "#c1121f",
          "width": 3
         },
         "marker": {
          "color": "#c1121f",
          "size": 7
         },
         "mode": "lines+markers",
         "showlegend": false,
         "type": "scatter",
         "x": [
          9,
          10
         ],
         "xaxis": "x",
         "y": [
          0.984311580657959,
          0.9739604592323303
         ],
         "yaxis": "y"
        },
        {
         "hovertemplate": "x=%{x}<br>y=%{y}<extra></extra>",
         "line": {
          "color": "#c1121f",
          "width": 3
         },
         "marker": {
          "color": "#c1121f",
          "size": 7
         },
         "mode": "lines+markers",
         "showlegend": false,
         "type": "scatter",
         "x": [
          5,
          6
         ],
         "xaxis": "x",
         "y": [
          0.2879375219345093,
          0.5382029414176941
         ],
         "yaxis": "y"
        },
        {
         "hovertemplate": "x=%{x}<br>y=%{y}<extra></extra>",
         "line": {
          "color": "#9d4edd",
          "width": 3
         },
         "marker": {
          "color": "#9d4edd",
          "size": 7
         },
         "mode": "lines+markers",
         "showlegend": false,
         "type": "scatter",
         "x": [
          45,
          46
         ],
         "xaxis": "x",
         "y": [
          6.120446741580963,
          6.222305655479431
         ],
         "yaxis": "y"
        },
        {
         "hovertemplate": "x=%{x}<br>y=%{y}<extra></extra>",
         "line": {
          "color": "#9d4edd",
          "width": 3
         },
         "marker": {
          "color": "#9d4edd",
          "size": 7
         },
         "mode": "lines+markers",
         "showlegend": false,
         "type": "scatter",
         "x": [
          42,
          43
         ],
         "xaxis": "x",
         "y": [
          6.509264945983887,
          6.120446741580963
         ],
         "yaxis": "y"
        },
        {
         "hovertemplate": "x=%{x}<br>y=%{y}<extra></extra>",
         "line": {
          "color": "#9d4edd",
          "width": 3
         },
         "marker": {
          "color": "#9d4edd",
          "size": 7
         },
         "mode": "lines+markers",
         "showlegend": false,
         "type": "scatter",
         "x": [
          37,
          38
         ],
         "xaxis": "x",
         "y": [
          6.4890875816345215,
          5.8440956473350525
         ],
         "yaxis": "y"
        },
        {
         "hovertemplate": "x=%{x}<br>y=%{y}<extra></extra>",
         "line": {
          "color": "#9d4edd",
          "width": 3
         },
         "marker": {
          "color": "#9d4edd",
          "size": 7
         },
         "mode": "lines+markers",
         "showlegend": false,
         "type": "scatter",
         "x": [
          27,
          28
         ],
         "xaxis": "x",
         "y": [
          4.410401701927185,
          4.796099245548248
         ],
         "yaxis": "y"
        },
        {
         "hovertemplate": "x=%{x}<br>y=%{y}<extra></extra>",
         "line": {
          "color": "#9d4edd",
          "width": 3
         },
         "marker": {
          "color": "#9d4edd",
          "size": 7
         },
         "mode": "lines+markers",
         "showlegend": false,
         "type": "scatter",
         "x": [
          2,
          3
         ],
         "xaxis": "x",
         "y": [
          0,
          0
         ],
         "yaxis": "y"
        },
        {
         "line": {
          "color": "#64B5F6",
          "width": 2
         },
         "mode": "lines",
         "name": "human_insert_backstage",
         "showlegend": true,
         "type": "scatter",
         "x": [
          null
         ],
         "xaxis": "x",
         "y": [
          null
         ],
         "yaxis": "y"
        },
        {
         "line": {
          "color": "#ff8fab",
          "width": 2
         },
         "mode": "lines",
         "name": "ai_suggest_backstage",
         "showlegend": true,
         "type": "scatter",
         "x": [
          null
         ],
         "xaxis": "x",
         "y": [
          null
         ],
         "yaxis": "y"
        },
        {
         "line": {
          "color": "#023e8a",
          "width": 2
         },
         "mode": "lines",
         "name": "human_insert_frontstage",
         "showlegend": true,
         "type": "scatter",
         "x": [
          null
         ],
         "xaxis": "x",
         "y": [
          null
         ],
         "yaxis": "y"
        },
        {
         "line": {
          "color": "#c1121f",
          "width": 2
         },
         "mode": "lines",
         "name": "ai_insert_moved_to_frontstage",
         "showlegend": true,
         "type": "scatter",
         "x": [
          null
         ],
         "xaxis": "x",
         "y": [
          null
         ],
         "yaxis": "y"
        },
        {
         "line": {
          "color": "#9d4edd",
          "width": 2
         },
         "mode": "lines",
         "name": "human_delete_frontstage",
         "showlegend": true,
         "type": "scatter",
         "x": [
          null
         ],
         "xaxis": "x",
         "y": [
          null
         ],
         "yaxis": "y"
        },
        {
         "line": {
          "color": "#5a189a",
          "width": 2
         },
         "mode": "lines",
         "name": "human_insert_edit_frontstage",
         "showlegend": true,
         "type": "scatter",
         "x": [
          null
         ],
         "xaxis": "x",
         "y": [
          null
         ],
         "yaxis": "y"
        }
       ],
       "layout": {
        "annotations": [
         {
          "font": {
           "size": 16
          },
          "showarrow": false,
          "text": "Session: legislation_corporate_3",
          "x": 0.5,
          "xanchor": "center",
          "xref": "paper",
          "y": 1,
          "yanchor": "bottom",
          "yref": "paper"
         }
        ],
        "height": 500,
        "legend": {
         "title": {
          "font": {
           "color": "rgba(0, 0, 0, 0)"
          }
         }
        },
        "plot_bgcolor": "white",
        "showlegend": true,
        "template": {
         "data": {
          "bar": [
           {
            "error_x": {
             "color": "#2a3f5f"
            },
            "error_y": {
             "color": "#2a3f5f"
            },
            "marker": {
             "line": {
              "color": "#E5ECF6",
              "width": 0.5
             },
             "pattern": {
              "fillmode": "overlay",
              "size": 10,
              "solidity": 0.2
             }
            },
            "type": "bar"
           }
          ],
          "barpolar": [
           {
            "marker": {
             "line": {
              "color": "#E5ECF6",
              "width": 0.5
             },
             "pattern": {
              "fillmode": "overlay",
              "size": 10,
              "solidity": 0.2
             }
            },
            "type": "barpolar"
           }
          ],
          "carpet": [
           {
            "aaxis": {
             "endlinecolor": "#2a3f5f",
             "gridcolor": "white",
             "linecolor": "white",
             "minorgridcolor": "white",
             "startlinecolor": "#2a3f5f"
            },
            "baxis": {
             "endlinecolor": "#2a3f5f",
             "gridcolor": "white",
             "linecolor": "white",
             "minorgridcolor": "white",
             "startlinecolor": "#2a3f5f"
            },
            "type": "carpet"
           }
          ],
          "choropleth": [
           {
            "colorbar": {
             "outlinewidth": 0,
             "ticks": ""
            },
            "type": "choropleth"
           }
          ],
          "contour": [
           {
            "colorbar": {
             "outlinewidth": 0,
             "ticks": ""
            },
            "colorscale": [
             [
              0,
              "#0d0887"
             ],
             [
              0.1111111111111111,
              "#46039f"
             ],
             [
              0.2222222222222222,
              "#7201a8"
             ],
             [
              0.3333333333333333,
              "#9c179e"
             ],
             [
              0.4444444444444444,
              "#bd3786"
             ],
             [
              0.5555555555555556,
              "#d8576b"
             ],
             [
              0.6666666666666666,
              "#ed7953"
             ],
             [
              0.7777777777777778,
              "#fb9f3a"
             ],
             [
              0.8888888888888888,
              "#fdca26"
             ],
             [
              1,
              "#f0f921"
             ]
            ],
            "type": "contour"
           }
          ],
          "contourcarpet": [
           {
            "colorbar": {
             "outlinewidth": 0,
             "ticks": ""
            },
            "type": "contourcarpet"
           }
          ],
          "heatmap": [
           {
            "colorbar": {
             "outlinewidth": 0,
             "ticks": ""
            },
            "colorscale": [
             [
              0,
              "#0d0887"
             ],
             [
              0.1111111111111111,
              "#46039f"
             ],
             [
              0.2222222222222222,
              "#7201a8"
             ],
             [
              0.3333333333333333,
              "#9c179e"
             ],
             [
              0.4444444444444444,
              "#bd3786"
             ],
             [
              0.5555555555555556,
              "#d8576b"
             ],
             [
              0.6666666666666666,
              "#ed7953"
             ],
             [
              0.7777777777777778,
              "#fb9f3a"
             ],
             [
              0.8888888888888888,
              "#fdca26"
             ],
             [
              1,
              "#f0f921"
             ]
            ],
            "type": "heatmap"
           }
          ],
          "histogram": [
           {
            "marker": {
             "pattern": {
              "fillmode": "overlay",
              "size": 10,
              "solidity": 0.2
             }
            },
            "type": "histogram"
           }
          ],
          "histogram2d": [
           {
            "colorbar": {
             "outlinewidth": 0,
             "ticks": ""
            },
            "colorscale": [
             [
              0,
              "#0d0887"
             ],
             [
              0.1111111111111111,
              "#46039f"
             ],
             [
              0.2222222222222222,
              "#7201a8"
             ],
             [
              0.3333333333333333,
              "#9c179e"
             ],
             [
              0.4444444444444444,
              "#bd3786"
             ],
             [
              0.5555555555555556,
              "#d8576b"
             ],
             [
              0.6666666666666666,
              "#ed7953"
             ],
             [
              0.7777777777777778,
              "#fb9f3a"
             ],
             [
              0.8888888888888888,
              "#fdca26"
             ],
             [
              1,
              "#f0f921"
             ]
            ],
            "type": "histogram2d"
           }
          ],
          "histogram2dcontour": [
           {
            "colorbar": {
             "outlinewidth": 0,
             "ticks": ""
            },
            "colorscale": [
             [
              0,
              "#0d0887"
             ],
             [
              0.1111111111111111,
              "#46039f"
             ],
             [
              0.2222222222222222,
              "#7201a8"
             ],
             [
              0.3333333333333333,
              "#9c179e"
             ],
             [
              0.4444444444444444,
              "#bd3786"
             ],
             [
              0.5555555555555556,
              "#d8576b"
             ],
             [
              0.6666666666666666,
              "#ed7953"
             ],
             [
              0.7777777777777778,
              "#fb9f3a"
             ],
             [
              0.8888888888888888,
              "#fdca26"
             ],
             [
              1,
              "#f0f921"
             ]
            ],
            "type": "histogram2dcontour"
           }
          ],
          "mesh3d": [
           {
            "colorbar": {
             "outlinewidth": 0,
             "ticks": ""
            },
            "type": "mesh3d"
           }
          ],
          "parcoords": [
           {
            "line": {
             "colorbar": {
              "outlinewidth": 0,
              "ticks": ""
             }
            },
            "type": "parcoords"
           }
          ],
          "pie": [
           {
            "automargin": true,
            "type": "pie"
           }
          ],
          "scatter": [
           {
            "fillpattern": {
             "fillmode": "overlay",
             "size": 10,
             "solidity": 0.2
            },
            "type": "scatter"
           }
          ],
          "scatter3d": [
           {
            "line": {
             "colorbar": {
              "outlinewidth": 0,
              "ticks": ""
             }
            },
            "marker": {
             "colorbar": {
              "outlinewidth": 0,
              "ticks": ""
             }
            },
            "type": "scatter3d"
           }
          ],
          "scattercarpet": [
           {
            "marker": {
             "colorbar": {
              "outlinewidth": 0,
              "ticks": ""
             }
            },
            "type": "scattercarpet"
           }
          ],
          "scattergeo": [
           {
            "marker": {
             "colorbar": {
              "outlinewidth": 0,
              "ticks": ""
             }
            },
            "type": "scattergeo"
           }
          ],
          "scattergl": [
           {
            "marker": {
             "colorbar": {
              "outlinewidth": 0,
              "ticks": ""
             }
            },
            "type": "scattergl"
           }
          ],
          "scattermap": [
           {
            "marker": {
             "colorbar": {
              "outlinewidth": 0,
              "ticks": ""
             }
            },
            "type": "scattermap"
           }
          ],
          "scattermapbox": [
           {
            "marker": {
             "colorbar": {
              "outlinewidth": 0,
              "ticks": ""
             }
            },
            "type": "scattermapbox"
           }
          ],
          "scatterpolar": [
           {
            "marker": {
             "colorbar": {
              "outlinewidth": 0,
              "ticks": ""
             }
            },
            "type": "scatterpolar"
           }
          ],
          "scatterpolargl": [
           {
            "marker": {
             "colorbar": {
              "outlinewidth": 0,
              "ticks": ""
             }
            },
            "type": "scatterpolargl"
           }
          ],
          "scatterternary": [
           {
            "marker": {
             "colorbar": {
              "outlinewidth": 0,
              "ticks": ""
             }
            },
            "type": "scatterternary"
           }
          ],
          "surface": [
           {
            "colorbar": {
             "outlinewidth": 0,
             "ticks": ""
            },
            "colorscale": [
             [
              0,
              "#0d0887"
             ],
             [
              0.1111111111111111,
              "#46039f"
             ],
             [
              0.2222222222222222,
              "#7201a8"
             ],
             [
              0.3333333333333333,
              "#9c179e"
             ],
             [
              0.4444444444444444,
              "#bd3786"
             ],
             [
              0.5555555555555556,
              "#d8576b"
             ],
             [
              0.6666666666666666,
              "#ed7953"
             ],
             [
              0.7777777777777778,
              "#fb9f3a"
             ],
             [
              0.8888888888888888,
              "#fdca26"
             ],
             [
              1,
              "#f0f921"
             ]
            ],
            "type": "surface"
           }
          ],
          "table": [
           {
            "cells": {
             "fill": {
              "color": "#EBF0F8"
             },
             "line": {
              "color": "white"
             }
            },
            "header": {
             "fill": {
              "color": "#C8D4E3"
             },
             "line": {
              "color": "white"
             }
            },
            "type": "table"
           }
          ]
         },
         "layout": {
          "annotationdefaults": {
           "arrowcolor": "#2a3f5f",
           "arrowhead": 0,
           "arrowwidth": 1
          },
          "autotypenumbers": "strict",
          "coloraxis": {
           "colorbar": {
            "outlinewidth": 0,
            "ticks": ""
           }
          },
          "colorscale": {
           "diverging": [
            [
             0,
             "#8e0152"
            ],
            [
             0.1,
             "#c51b7d"
            ],
            [
             0.2,
             "#de77ae"
            ],
            [
             0.3,
             "#f1b6da"
            ],
            [
             0.4,
             "#fde0ef"
            ],
            [
             0.5,
             "#f7f7f7"
            ],
            [
             0.6,
             "#e6f5d0"
            ],
            [
             0.7,
             "#b8e186"
            ],
            [
             0.8,
             "#7fbc41"
            ],
            [
             0.9,
             "#4d9221"
            ],
            [
             1,
             "#276419"
            ]
           ],
           "sequential": [
            [
             0,
             "#0d0887"
            ],
            [
             0.1111111111111111,
             "#46039f"
            ],
            [
             0.2222222222222222,
             "#7201a8"
            ],
            [
             0.3333333333333333,
             "#9c179e"
            ],
            [
             0.4444444444444444,
             "#bd3786"
            ],
            [
             0.5555555555555556,
             "#d8576b"
            ],
            [
             0.6666666666666666,
             "#ed7953"
            ],
            [
             0.7777777777777778,
             "#fb9f3a"
            ],
            [
             0.8888888888888888,
             "#fdca26"
            ],
            [
             1,
             "#f0f921"
            ]
           ],
           "sequentialminus": [
            [
             0,
             "#0d0887"
            ],
            [
             0.1111111111111111,
             "#46039f"
            ],
            [
             0.2222222222222222,
             "#7201a8"
            ],
            [
             0.3333333333333333,
             "#9c179e"
            ],
            [
             0.4444444444444444,
             "#bd3786"
            ],
            [
             0.5555555555555556,
             "#d8576b"
            ],
            [
             0.6666666666666666,
             "#ed7953"
            ],
            [
             0.7777777777777778,
             "#fb9f3a"
            ],
            [
             0.8888888888888888,
             "#fdca26"
            ],
            [
             1,
             "#f0f921"
            ]
           ]
          },
          "colorway": [
           "#636efa",
           "#EF553B",
           "#00cc96",
           "#ab63fa",
           "#FFA15A",
           "#19d3f3",
           "#FF6692",
           "#B6E880",
           "#FF97FF",
           "#FECB52"
          ],
          "font": {
           "color": "#2a3f5f"
          },
          "geo": {
           "bgcolor": "white",
           "lakecolor": "white",
           "landcolor": "#E5ECF6",
           "showlakes": true,
           "showland": true,
           "subunitcolor": "white"
          },
          "hoverlabel": {
           "align": "left"
          },
          "hovermode": "closest",
          "mapbox": {
           "style": "light"
          },
          "paper_bgcolor": "white",
          "plot_bgcolor": "#E5ECF6",
          "polar": {
           "angularaxis": {
            "gridcolor": "white",
            "linecolor": "white",
            "ticks": ""
           },
           "bgcolor": "#E5ECF6",
           "radialaxis": {
            "gridcolor": "white",
            "linecolor": "white",
            "ticks": ""
           }
          },
          "scene": {
           "xaxis": {
            "backgroundcolor": "#E5ECF6",
            "gridcolor": "white",
            "gridwidth": 2,
            "linecolor": "white",
            "showbackground": true,
            "ticks": "",
            "zerolinecolor": "white"
           },
           "yaxis": {
            "backgroundcolor": "#E5ECF6",
            "gridcolor": "white",
            "gridwidth": 2,
            "linecolor": "white",
            "showbackground": true,
            "ticks": "",
            "zerolinecolor": "white"
           },
           "zaxis": {
            "backgroundcolor": "#E5ECF6",
            "gridcolor": "white",
            "gridwidth": 2,
            "linecolor": "white",
            "showbackground": true,
            "ticks": "",
            "zerolinecolor": "white"
           }
          },
          "shapedefaults": {
           "line": {
            "color": "#2a3f5f"
           }
          },
          "ternary": {
           "aaxis": {
            "gridcolor": "white",
            "linecolor": "white",
            "ticks": ""
           },
           "baxis": {
            "gridcolor": "white",
            "linecolor": "white",
            "ticks": ""
           },
           "bgcolor": "#E5ECF6",
           "caxis": {
            "gridcolor": "white",
            "linecolor": "white",
            "ticks": ""
           }
          },
          "title": {
           "x": 0.05
          },
          "xaxis": {
           "automargin": true,
           "gridcolor": "white",
           "linecolor": "white",
           "ticks": "",
           "title": {
            "standoff": 15
           },
           "zerolinecolor": "white",
           "zerolinewidth": 2
          },
          "yaxis": {
           "automargin": true,
           "gridcolor": "white",
           "linecolor": "white",
           "ticks": "",
           "title": {
            "standoff": 15
           },
           "zerolinecolor": "white",
           "zerolinewidth": 2
          }
         }
        },
        "title": {
         "text": "Semantic Expansion over Writing Sessions<br><span style=\"font-size: 12px;\">*Measuring how well humans are learning while writing with GenAI</span>"
        },
        "width": 1800,
        "xaxis": {
         "anchor": "y",
         "domain": [
          0,
          1
         ],
         "gridcolor": "white",
         "linecolor": "black",
         "mirror": false,
         "range": [
          -1,
          75
         ],
         "showline": true,
         "ticks": "outside",
         "title": {
          "text": "Progress into the writing session"
         }
        },
        "yaxis": {
         "anchor": "x",
         "domain": [
          0,
          1
         ],
         "gridcolor": "white",
         "linecolor": "black",
         "mirror": false,
         "showline": true,
         "ticks": "outside",
         "title": {
          "text": "Scores"
         }
        }
       }
      }
     },
     "metadata": {},
     "output_type": "display_data"
    },
    {
     "name": "stdout",
     "output_type": "stream",
     "text": [
      "legislation_corporate_4\n"
     ]
    },
    {
     "data": {
      "application/vnd.plotly.v1+json": {
       "config": {
        "plotlyServerURL": "https://plot.ly"
       },
       "data": [
        {
         "hovertemplate": "x=%{x}<br>y=%{y}<extra></extra>",
         "line": {
          "color": "#64B5F6",
          "width": 3
         },
         "marker": {
          "color": "#64B5F6",
          "size": 7
         },
         "mode": "lines+markers",
         "showlegend": false,
         "type": "scatter",
         "x": [
          82,
          83
         ],
         "xaxis": "x",
         "y": [
          18.70212548971176,
          19.100489675998688
         ],
         "yaxis": "y"
        },
        {
         "hovertemplate": "x=%{x}<br>y=%{y}<extra></extra>",
         "line": {
          "color": "#64B5F6",
          "width": 3
         },
         "marker": {
          "color": "#64B5F6",
          "size": 7
         },
         "mode": "lines+markers",
         "showlegend": false,
         "type": "scatter",
         "x": [
          78,
          79
         ],
         "xaxis": "x",
         "y": [
          18.42678129673004,
          19.102604866027832
         ],
         "yaxis": "y"
        },
        {
         "hovertemplate": "x=%{x}<br>y=%{y}<extra></extra>",
         "line": {
          "color": "#64B5F6",
          "width": 3
         },
         "marker": {
          "color": "#64B5F6",
          "size": 7
         },
         "mode": "lines+markers",
         "showlegend": false,
         "type": "scatter",
         "x": [
          71,
          72
         ],
         "xaxis": "x",
         "y": [
          15.963692843914032,
          16.661868274211884
         ],
         "yaxis": "y"
        },
        {
         "hovertemplate": "x=%{x}<br>y=%{y}<extra></extra>",
         "line": {
          "color": "#64B5F6",
          "width": 3
         },
         "marker": {
          "color": "#64B5F6",
          "size": 7
         },
         "mode": "lines+markers",
         "showlegend": false,
         "type": "scatter",
         "x": [
          62,
          63
         ],
         "xaxis": "x",
         "y": [
          13.455872642993928,
          13.829306054115296
         ],
         "yaxis": "y"
        },
        {
         "hovertemplate": "x=%{x}<br>y=%{y}<extra></extra>",
         "line": {
          "color": "#64B5F6",
          "width": 3
         },
         "marker": {
          "color": "#64B5F6",
          "size": 7
         },
         "mode": "lines+markers",
         "showlegend": false,
         "type": "scatter",
         "x": [
          59,
          60
         ],
         "xaxis": "x",
         "y": [
          12.232034027576447,
          12.597082197666168
         ],
         "yaxis": "y"
        },
        {
         "hovertemplate": "x=%{x}<br>y=%{y}<extra></extra>",
         "line": {
          "color": "#64B5F6",
          "width": 3
         },
         "marker": {
          "color": "#64B5F6",
          "size": 7
         },
         "mode": "lines+markers",
         "showlegend": false,
         "type": "scatter",
         "x": [
          53,
          54
         ],
         "xaxis": "x",
         "y": [
          14.295780265331269,
          14.742052161693573
         ],
         "yaxis": "y"
        },
        {
         "hovertemplate": "x=%{x}<br>y=%{y}<extra></extra>",
         "line": {
          "color": "#64B5F6",
          "width": 3
         },
         "marker": {
          "color": "#64B5F6",
          "size": 7
         },
         "mode": "lines+markers",
         "showlegend": false,
         "type": "scatter",
         "x": [
          51,
          52
         ],
         "xaxis": "x",
         "y": [
          13.411702013015747,
          13.846154010295868
         ],
         "yaxis": "y"
        },
        {
         "hovertemplate": "x=%{x}<br>y=%{y}<extra></extra>",
         "line": {
          "color": "#64B5F6",
          "width": 3
         },
         "marker": {
          "color": "#64B5F6",
          "size": 7
         },
         "mode": "lines+markers",
         "showlegend": false,
         "type": "scatter",
         "x": [
          50,
          51
         ],
         "xaxis": "x",
         "y": [
          12.930996930599212,
          13.411702013015747
         ],
         "yaxis": "y"
        },
        {
         "hovertemplate": "x=%{x}<br>y=%{y}<extra></extra>",
         "line": {
          "color": "#64B5F6",
          "width": 3
         },
         "marker": {
          "color": "#64B5F6",
          "size": 7
         },
         "mode": "lines+markers",
         "showlegend": false,
         "type": "scatter",
         "x": [
          48,
          49
         ],
         "xaxis": "x",
         "y": [
          12.041772484779358,
          12.486782252788544
         ],
         "yaxis": "y"
        },
        {
         "hovertemplate": "x=%{x}<br>y=%{y}<extra></extra>",
         "line": {
          "color": "#64B5F6",
          "width": 3
         },
         "marker": {
          "color": "#64B5F6",
          "size": 7
         },
         "mode": "lines+markers",
         "showlegend": false,
         "type": "scatter",
         "x": [
          46,
          47
         ],
         "xaxis": "x",
         "y": [
          11.281689167022705,
          11.715600192546844
         ],
         "yaxis": "y"
        },
        {
         "hovertemplate": "x=%{x}<br>y=%{y}<extra></extra>",
         "line": {
          "color": "#64B5F6",
          "width": 3
         },
         "marker": {
          "color": "#64B5F6",
          "size": 7
         },
         "mode": "lines+markers",
         "showlegend": false,
         "type": "scatter",
         "x": [
          41,
          42
         ],
         "xaxis": "x",
         "y": [
          10.779867720603942,
          11.17123920917511
         ],
         "yaxis": "y"
        },
        {
         "hovertemplate": "x=%{x}<br>y=%{y}<extra></extra>",
         "line": {
          "color": "#64B5F6",
          "width": 3
         },
         "marker": {
          "color": "#64B5F6",
          "size": 7
         },
         "mode": "lines+markers",
         "showlegend": false,
         "type": "scatter",
         "x": [
          39,
          40
         ],
         "xaxis": "x",
         "y": [
          10.353354752063751,
          10.296591579914093
         ],
         "yaxis": "y"
        },
        {
         "hovertemplate": "x=%{x}<br>y=%{y}<extra></extra>",
         "line": {
          "color": "#64B5F6",
          "width": 3
         },
         "marker": {
          "color": "#64B5F6",
          "size": 7
         },
         "mode": "lines+markers",
         "showlegend": false,
         "type": "scatter",
         "x": [
          25,
          26
         ],
         "xaxis": "x",
         "y": [
          6.607379424571991,
          6.973326253890991
         ],
         "yaxis": "y"
        },
        {
         "hovertemplate": "x=%{x}<br>y=%{y}<extra></extra>",
         "line": {
          "color": "#64B5F6",
          "width": 3
         },
         "marker": {
          "color": "#64B5F6",
          "size": 7
         },
         "mode": "lines+markers",
         "showlegend": false,
         "type": "scatter",
         "x": [
          23,
          24
         ],
         "xaxis": "x",
         "y": [
          5.991519904136657,
          6.308426713943481
         ],
         "yaxis": "y"
        },
        {
         "hovertemplate": "x=%{x}<br>y=%{y}<extra></extra>",
         "line": {
          "color": "#64B5F6",
          "width": 3
         },
         "marker": {
          "color": "#64B5F6",
          "size": 7
         },
         "mode": "lines+markers",
         "showlegend": false,
         "type": "scatter",
         "x": [
          21,
          22
         ],
         "xaxis": "x",
         "y": [
          5.345806467533111,
          5.646563339233398
         ],
         "yaxis": "y"
        },
        {
         "hovertemplate": "x=%{x}<br>y=%{y}<extra></extra>",
         "line": {
          "color": "#64B5F6",
          "width": 3
         },
         "marker": {
          "color": "#64B5F6",
          "size": 7
         },
         "mode": "lines+markers",
         "showlegend": false,
         "type": "scatter",
         "x": [
          19,
          20
         ],
         "xaxis": "x",
         "y": [
          5.081352412700653,
          5.0163414478302
         ],
         "yaxis": "y"
        },
        {
         "hovertemplate": "x=%{x}<br>y=%{y}<extra></extra>",
         "line": {
          "color": "#64B5F6",
          "width": 3
         },
         "marker": {
          "color": "#64B5F6",
          "size": 7
         },
         "mode": "lines+markers",
         "showlegend": false,
         "type": "scatter",
         "x": [
          0,
          1
         ],
         "xaxis": "x",
         "y": [
          0,
          0.5154286623001099
         ],
         "yaxis": "y"
        },
        {
         "hovertemplate": "x=%{x}<br>y=%{y}<extra></extra>",
         "line": {
          "color": "#ff8fab",
          "width": 3
         },
         "marker": {
          "color": "#ff8fab",
          "size": 7
         },
         "mode": "lines+markers",
         "showlegend": false,
         "type": "scatter",
         "x": [
          100,
          101
         ],
         "xaxis": "x",
         "y": [
          22.134103536605835,
          22.55360826253891
         ],
         "yaxis": "y"
        },
        {
         "hovertemplate": "x=%{x}<br>y=%{y}<extra></extra>",
         "line": {
          "color": "#ff8fab",
          "width": 3
         },
         "marker": {
          "color": "#ff8fab",
          "size": 7
         },
         "mode": "lines+markers",
         "showlegend": false,
         "type": "scatter",
         "x": [
          92,
          93
         ],
         "xaxis": "x",
         "y": [
          20.23968243598938,
          20.683569180965424
         ],
         "yaxis": "y"
        },
        {
         "hovertemplate": "x=%{x}<br>y=%{y}<extra></extra>",
         "line": {
          "color": "#ff8fab",
          "width": 3
         },
         "marker": {
          "color": "#ff8fab",
          "size": 7
         },
         "mode": "lines+markers",
         "showlegend": false,
         "type": "scatter",
         "x": [
          84,
          85
         ],
         "xaxis": "x",
         "y": [
          19.56544486284256,
          19.94556066989899
         ],
         "yaxis": "y"
        },
        {
         "hovertemplate": "x=%{x}<br>y=%{y}<extra></extra>",
         "line": {
          "color": "#ff8fab",
          "width": 3
         },
         "marker": {
          "color": "#ff8fab",
          "size": 7
         },
         "mode": "lines+markers",
         "showlegend": false,
         "type": "scatter",
         "x": [
          83,
          84
         ],
         "xaxis": "x",
         "y": [
          19.100489675998688,
          19.56544486284256
         ],
         "yaxis": "y"
        },
        {
         "hovertemplate": "x=%{x}<br>y=%{y}<extra></extra>",
         "line": {
          "color": "#ff8fab",
          "width": 3
         },
         "marker": {
          "color": "#ff8fab",
          "size": 7
         },
         "mode": "lines+markers",
         "showlegend": false,
         "type": "scatter",
         "x": [
          79,
          80
         ],
         "xaxis": "x",
         "y": [
          19.102604866027832,
          19.487330555915833
         ],
         "yaxis": "y"
        },
        {
         "hovertemplate": "x=%{x}<br>y=%{y}<extra></extra>",
         "line": {
          "color": "#ff8fab",
          "width": 3
         },
         "marker": {
          "color": "#ff8fab",
          "size": 7
         },
         "mode": "lines+markers",
         "showlegend": false,
         "type": "scatter",
         "x": [
          72,
          73
         ],
         "xaxis": "x",
         "y": [
          16.661868274211884,
          17.060397267341614
         ],
         "yaxis": "y"
        },
        {
         "hovertemplate": "x=%{x}<br>y=%{y}<extra></extra>",
         "line": {
          "color": "#ff8fab",
          "width": 3
         },
         "marker": {
          "color": "#ff8fab",
          "size": 7
         },
         "mode": "lines+markers",
         "showlegend": false,
         "type": "scatter",
         "x": [
          63,
          64
         ],
         "xaxis": "x",
         "y": [
          13.829306054115296,
          14.204360222816469
         ],
         "yaxis": "y"
        },
        {
         "hovertemplate": "x=%{x}<br>y=%{y}<extra></extra>",
         "line": {
          "color": "#ff8fab",
          "width": 3
         },
         "marker": {
          "color": "#ff8fab",
          "size": 7
         },
         "mode": "lines+markers",
         "showlegend": false,
         "type": "scatter",
         "x": [
          61,
          62
         ],
         "xaxis": "x",
         "y": [
          13.107150638103485,
          13.455872642993928
         ],
         "yaxis": "y"
        },
        {
         "hovertemplate": "x=%{x}<br>y=%{y}<extra></extra>",
         "line": {
          "color": "#ff8fab",
          "width": 3
         },
         "marker": {
          "color": "#ff8fab",
          "size": 7
         },
         "mode": "lines+markers",
         "showlegend": false,
         "type": "scatter",
         "x": [
          60,
          61
         ],
         "xaxis": "x",
         "y": [
          12.597082197666168,
          13.107150638103485
         ],
         "yaxis": "y"
        },
        {
         "hovertemplate": "x=%{x}<br>y=%{y}<extra></extra>",
         "line": {
          "color": "#ff8fab",
          "width": 3
         },
         "marker": {
          "color": "#ff8fab",
          "size": 7
         },
         "mode": "lines+markers",
         "showlegend": false,
         "type": "scatter",
         "x": [
          54,
          55
         ],
         "xaxis": "x",
         "y": [
          14.742052161693573,
          15.211687767505646
         ],
         "yaxis": "y"
        },
        {
         "hovertemplate": "x=%{x}<br>y=%{y}<extra></extra>",
         "line": {
          "color": "#ff8fab",
          "width": 3
         },
         "marker": {
          "color": "#ff8fab",
          "size": 7
         },
         "mode": "lines+markers",
         "showlegend": false,
         "type": "scatter",
         "x": [
          52,
          53
         ],
         "xaxis": "x",
         "y": [
          13.846154010295868,
          14.295780265331267
         ],
         "yaxis": "y"
        },
        {
         "hovertemplate": "x=%{x}<br>y=%{y}<extra></extra>",
         "line": {
          "color": "#ff8fab",
          "width": 3
         },
         "marker": {
          "color": "#ff8fab",
          "size": 7
         },
         "mode": "lines+markers",
         "showlegend": false,
         "type": "scatter",
         "x": [
          49,
          50
         ],
         "xaxis": "x",
         "y": [
          12.486782252788544,
          12.930996930599212
         ],
         "yaxis": "y"
        },
        {
         "hovertemplate": "x=%{x}<br>y=%{y}<extra></extra>",
         "line": {
          "color": "#ff8fab",
          "width": 3
         },
         "marker": {
          "color": "#ff8fab",
          "size": 7
         },
         "mode": "lines+markers",
         "showlegend": false,
         "type": "scatter",
         "x": [
          47,
          48
         ],
         "xaxis": "x",
         "y": [
          11.715600192546844,
          12.041772484779358
         ],
         "yaxis": "y"
        },
        {
         "hovertemplate": "x=%{x}<br>y=%{y}<extra></extra>",
         "line": {
          "color": "#ff8fab",
          "width": 3
         },
         "marker": {
          "color": "#ff8fab",
          "size": 7
         },
         "mode": "lines+markers",
         "showlegend": false,
         "type": "scatter",
         "x": [
          42,
          43
         ],
         "xaxis": "x",
         "y": [
          11.17123920917511,
          11.583674752712248
         ],
         "yaxis": "y"
        },
        {
         "hovertemplate": "x=%{x}<br>y=%{y}<extra></extra>",
         "line": {
          "color": "#ff8fab",
          "width": 3
         },
         "marker": {
          "color": "#ff8fab",
          "size": 7
         },
         "mode": "lines+markers",
         "showlegend": false,
         "type": "scatter",
         "x": [
          40,
          41
         ],
         "xaxis": "x",
         "y": [
          10.296591579914093,
          10.779867720603942
         ],
         "yaxis": "y"
        },
        {
         "hovertemplate": "x=%{x}<br>y=%{y}<extra></extra>",
         "line": {
          "color": "#ff8fab",
          "width": 3
         },
         "marker": {
          "color": "#ff8fab",
          "size": 7
         },
         "mode": "lines+markers",
         "showlegend": false,
         "type": "scatter",
         "x": [
          26,
          27
         ],
         "xaxis": "x",
         "y": [
          6.973326253890991,
          7.398752021789551
         ],
         "yaxis": "y"
        },
        {
         "hovertemplate": "x=%{x}<br>y=%{y}<extra></extra>",
         "line": {
          "color": "#ff8fab",
          "width": 3
         },
         "marker": {
          "color": "#ff8fab",
          "size": 7
         },
         "mode": "lines+markers",
         "showlegend": false,
         "type": "scatter",
         "x": [
          24,
          25
         ],
         "xaxis": "x",
         "y": [
          6.308426713943481,
          6.607379424571991
         ],
         "yaxis": "y"
        },
        {
         "hovertemplate": "x=%{x}<br>y=%{y}<extra></extra>",
         "line": {
          "color": "#ff8fab",
          "width": 3
         },
         "marker": {
          "color": "#ff8fab",
          "size": 7
         },
         "mode": "lines+markers",
         "showlegend": false,
         "type": "scatter",
         "x": [
          22,
          23
         ],
         "xaxis": "x",
         "y": [
          5.646563339233398,
          5.991519904136657
         ],
         "yaxis": "y"
        },
        {
         "hovertemplate": "x=%{x}<br>y=%{y}<extra></extra>",
         "line": {
          "color": "#ff8fab",
          "width": 3
         },
         "marker": {
          "color": "#ff8fab",
          "size": 7
         },
         "mode": "lines+markers",
         "showlegend": false,
         "type": "scatter",
         "x": [
          20,
          21
         ],
         "xaxis": "x",
         "y": [
          5.0163414478302,
          5.345806467533111
         ],
         "yaxis": "y"
        },
        {
         "hovertemplate": "x=%{x}<br>y=%{y}<extra></extra>",
         "line": {
          "color": "#ff8fab",
          "width": 3
         },
         "marker": {
          "color": "#ff8fab",
          "size": 7
         },
         "mode": "lines+markers",
         "showlegend": false,
         "type": "scatter",
         "x": [
          1,
          2
         ],
         "xaxis": "x",
         "y": [
          0.5154286623001099,
          0.8811880707740783
         ],
         "yaxis": "y"
        },
        {
         "hovertemplate": "x=%{x}<br>y=%{y}<extra></extra>",
         "line": {
          "color": "#023e8a",
          "width": 3
         },
         "marker": {
          "color": "#023e8a",
          "size": 7
         },
         "mode": "lines+markers",
         "showlegend": false,
         "type": "scatter",
         "x": [
          103,
          104
         ],
         "xaxis": "x",
         "y": [
          23.01775813102722,
          23.455888986587524
         ],
         "yaxis": "y"
        },
        {
         "hovertemplate": "x=%{x}<br>y=%{y}<extra></extra>",
         "line": {
          "color": "#023e8a",
          "width": 3
         },
         "marker": {
          "color": "#023e8a",
          "size": 7
         },
         "mode": "lines+markers",
         "showlegend": false,
         "type": "scatter",
         "x": [
          102,
          103
         ],
         "xaxis": "x",
         "y": [
          22.543702721595764,
          23.01775813102722
         ],
         "yaxis": "y"
        },
        {
         "hovertemplate": "x=%{x}<br>y=%{y}<extra></extra>",
         "line": {
          "color": "#023e8a",
          "width": 3
         },
         "marker": {
          "color": "#023e8a",
          "size": 7
         },
         "mode": "lines+markers",
         "showlegend": false,
         "type": "scatter",
         "x": [
          101,
          102
         ],
         "xaxis": "x",
         "y": [
          22.134103536605835,
          22.543702721595764
         ],
         "yaxis": "y"
        },
        {
         "hovertemplate": "x=%{x}<br>y=%{y}<extra></extra>",
         "line": {
          "color": "#023e8a",
          "width": 3
         },
         "marker": {
          "color": "#023e8a",
          "size": 7
         },
         "mode": "lines+markers",
         "showlegend": false,
         "type": "scatter",
         "x": [
          98,
          99
         ],
         "xaxis": "x",
         "y": [
          21.726495146751404,
          22.12263596057892
         ],
         "yaxis": "y"
        },
        {
         "hovertemplate": "x=%{x}<br>y=%{y}<extra></extra>",
         "line": {
          "color": "#023e8a",
          "width": 3
         },
         "marker": {
          "color": "#023e8a",
          "size": 7
         },
         "mode": "lines+markers",
         "showlegend": false,
         "type": "scatter",
         "x": [
          97,
          98
         ],
         "xaxis": "x",
         "y": [
          21.350906789302826,
          21.726495146751404
         ],
         "yaxis": "y"
        },
        {
         "hovertemplate": "x=%{x}<br>y=%{y}<extra></extra>",
         "line": {
          "color": "#023e8a",
          "width": 3
         },
         "marker": {
          "color": "#023e8a",
          "size": 7
         },
         "mode": "lines+markers",
         "showlegend": false,
         "type": "scatter",
         "x": [
          96,
          97
         ],
         "xaxis": "x",
         "y": [
          20.977150082588196,
          21.350906789302826
         ],
         "yaxis": "y"
        },
        {
         "hovertemplate": "x=%{x}<br>y=%{y}<extra></extra>",
         "line": {
          "color": "#023e8a",
          "width": 3
         },
         "marker": {
          "color": "#023e8a",
          "size": 7
         },
         "mode": "lines+markers",
         "showlegend": false,
         "type": "scatter",
         "x": [
          95,
          96
         ],
         "xaxis": "x",
         "y": [
          20.686862230300903,
          20.977150082588196
         ],
         "yaxis": "y"
        },
        {
         "hovertemplate": "x=%{x}<br>y=%{y}<extra></extra>",
         "line": {
          "color": "#023e8a",
          "width": 3
         },
         "marker": {
          "color": "#023e8a",
          "size": 7
         },
         "mode": "lines+markers",
         "showlegend": false,
         "type": "scatter",
         "x": [
          94,
          95
         ],
         "xaxis": "x",
         "y": [
          20.215341448783875,
          20.686862230300903
         ],
         "yaxis": "y"
        },
        {
         "hovertemplate": "x=%{x}<br>y=%{y}<extra></extra>",
         "line": {
          "color": "#023e8a",
          "width": 3
         },
         "marker": {
          "color": "#023e8a",
          "size": 7
         },
         "mode": "lines+markers",
         "showlegend": false,
         "type": "scatter",
         "x": [
          91,
          92
         ],
         "xaxis": "x",
         "y": [
          19.95359629392624,
          20.23968243598938
         ],
         "yaxis": "y"
        },
        {
         "hovertemplate": "x=%{x}<br>y=%{y}<extra></extra>",
         "line": {
          "color": "#023e8a",
          "width": 3
         },
         "marker": {
          "color": "#023e8a",
          "size": 7
         },
         "mode": "lines+markers",
         "showlegend": false,
         "type": "scatter",
         "x": [
          90,
          91
         ],
         "xaxis": "x",
         "y": [
          19.748129427433014,
          19.95359629392624
         ],
         "yaxis": "y"
        },
        {
         "hovertemplate": "x=%{x}<br>y=%{y}<extra></extra>",
         "line": {
          "color": "#023e8a",
          "width": 3
         },
         "marker": {
          "color": "#023e8a",
          "size": 7
         },
         "mode": "lines+markers",
         "showlegend": false,
         "type": "scatter",
         "x": [
          88,
          89
         ],
         "xaxis": "x",
         "y": [
          19.504912674427032,
          19.748129427433014
         ],
         "yaxis": "y"
        },
        {
         "hovertemplate": "x=%{x}<br>y=%{y}<extra></extra>",
         "line": {
          "color": "#023e8a",
          "width": 3
         },
         "marker": {
          "color": "#023e8a",
          "size": 7
         },
         "mode": "lines+markers",
         "showlegend": false,
         "type": "scatter",
         "x": [
          87,
          88
         ],
         "xaxis": "x",
         "y": [
          19.246008574962616,
          19.504912674427032
         ],
         "yaxis": "y"
        },
        {
         "hovertemplate": "x=%{x}<br>y=%{y}<extra></extra>",
         "line": {
          "color": "#023e8a",
          "width": 3
         },
         "marker": {
          "color": "#023e8a",
          "size": 7
         },
         "mode": "lines+markers",
         "showlegend": false,
         "type": "scatter",
         "x": [
          86,
          87
         ],
         "xaxis": "x",
         "y": [
          19.004521250724792,
          19.246008574962616
         ],
         "yaxis": "y"
        },
        {
         "hovertemplate": "x=%{x}<br>y=%{y}<extra></extra>",
         "line": {
          "color": "#023e8a",
          "width": 3
         },
         "marker": {
          "color": "#023e8a",
          "size": 7
         },
         "mode": "lines+markers",
         "showlegend": false,
         "type": "scatter",
         "x": [
          85,
          86
         ],
         "xaxis": "x",
         "y": [
          18.70212548971176,
          19.004521250724792
         ],
         "yaxis": "y"
        },
        {
         "hovertemplate": "x=%{x}<br>y=%{y}<extra></extra>",
         "line": {
          "color": "#023e8a",
          "width": 3
         },
         "marker": {
          "color": "#023e8a",
          "size": 7
         },
         "mode": "lines+markers",
         "showlegend": false,
         "type": "scatter",
         "x": [
          80,
          81
         ],
         "xaxis": "x",
         "y": [
          18.42678129673004,
          18.740658164024353
         ],
         "yaxis": "y"
        },
        {
         "hovertemplate": "x=%{x}<br>y=%{y}<extra></extra>",
         "line": {
          "color": "#023e8a",
          "width": 3
         },
         "marker": {
          "color": "#023e8a",
          "size": 7
         },
         "mode": "lines+markers",
         "showlegend": false,
         "type": "scatter",
         "x": [
          77,
          78
         ],
         "xaxis": "x",
         "y": [
          17.72478938102722,
          18.42678129673004
         ],
         "yaxis": "y"
        },
        {
         "hovertemplate": "x=%{x}<br>y=%{y}<extra></extra>",
         "line": {
          "color": "#023e8a",
          "width": 3
         },
         "marker": {
          "color": "#023e8a",
          "size": 7
         },
         "mode": "lines+markers",
         "showlegend": false,
         "type": "scatter",
         "x": [
          76,
          77
         ],
         "xaxis": "x",
         "y": [
          16.973209023475647,
          17.72478938102722
         ],
         "yaxis": "y"
        },
        {
         "hovertemplate": "x=%{x}<br>y=%{y}<extra></extra>",
         "line": {
          "color": "#023e8a",
          "width": 3
         },
         "marker": {
          "color": "#023e8a",
          "size": 7
         },
         "mode": "lines+markers",
         "showlegend": false,
         "type": "scatter",
         "x": [
          75,
          76
         ],
         "xaxis": "x",
         "y": [
          16.51344519853592,
          16.973209023475647
         ],
         "yaxis": "y"
        },
        {
         "hovertemplate": "x=%{x}<br>y=%{y}<extra></extra>",
         "line": {
          "color": "#023e8a",
          "width": 3
         },
         "marker": {
          "color": "#023e8a",
          "size": 7
         },
         "mode": "lines+markers",
         "showlegend": false,
         "type": "scatter",
         "x": [
          73,
          74
         ],
         "xaxis": "x",
         "y": [
          15.963692843914032,
          16.565782248973846
         ],
         "yaxis": "y"
        },
        {
         "hovertemplate": "x=%{x}<br>y=%{y}<extra></extra>",
         "line": {
          "color": "#023e8a",
          "width": 3
         },
         "marker": {
          "color": "#023e8a",
          "size": 7
         },
         "mode": "lines+markers",
         "showlegend": false,
         "type": "scatter",
         "x": [
          70,
          71
         ],
         "xaxis": "x",
         "y": [
          15.332122206687927,
          15.963692843914032
         ],
         "yaxis": "y"
        },
        {
         "hovertemplate": "x=%{x}<br>y=%{y}<extra></extra>",
         "line": {
          "color": "#023e8a",
          "width": 3
         },
         "marker": {
          "color": "#023e8a",
          "size": 7
         },
         "mode": "lines+markers",
         "showlegend": false,
         "type": "scatter",
         "x": [
          69,
          70
         ],
         "xaxis": "x",
         "y": [
          14.706983149051666,
          15.332122206687927
         ],
         "yaxis": "y"
        },
        {
         "hovertemplate": "x=%{x}<br>y=%{y}<extra></extra>",
         "line": {
          "color": "#023e8a",
          "width": 3
         },
         "marker": {
          "color": "#023e8a",
          "size": 7
         },
         "mode": "lines+markers",
         "showlegend": false,
         "type": "scatter",
         "x": [
          68,
          69
         ],
         "xaxis": "x",
         "y": [
          14.0836261510849,
          14.706983149051666
         ],
         "yaxis": "y"
        },
        {
         "hovertemplate": "x=%{x}<br>y=%{y}<extra></extra>",
         "line": {
          "color": "#023e8a",
          "width": 3
         },
         "marker": {
          "color": "#023e8a",
          "size": 7
         },
         "mode": "lines+markers",
         "showlegend": false,
         "type": "scatter",
         "x": [
          67,
          68
         ],
         "xaxis": "x",
         "y": [
          13.248845398426056,
          14.0836261510849
         ],
         "yaxis": "y"
        },
        {
         "hovertemplate": "x=%{x}<br>y=%{y}<extra></extra>",
         "line": {
          "color": "#023e8a",
          "width": 3
         },
         "marker": {
          "color": "#023e8a",
          "size": 7
         },
         "mode": "lines+markers",
         "showlegend": false,
         "type": "scatter",
         "x": [
          66,
          67
         ],
         "xaxis": "x",
         "y": [
          12.998960852622986,
          13.248845398426056
         ],
         "yaxis": "y"
        },
        {
         "hovertemplate": "x=%{x}<br>y=%{y}<extra></extra>",
         "line": {
          "color": "#023e8a",
          "width": 3
         },
         "marker": {
          "color": "#023e8a",
          "size": 7
         },
         "mode": "lines+markers",
         "showlegend": false,
         "type": "scatter",
         "x": [
          65,
          66
         ],
         "xaxis": "x",
         "y": [
          12.232034027576447,
          12.998960852622986
         ],
         "yaxis": "y"
        },
        {
         "hovertemplate": "x=%{x}<br>y=%{y}<extra></extra>",
         "line": {
          "color": "#023e8a",
          "width": 3
         },
         "marker": {
          "color": "#023e8a",
          "size": 7
         },
         "mode": "lines+markers",
         "showlegend": false,
         "type": "scatter",
         "x": [
          58,
          59
         ],
         "xaxis": "x",
         "y": [
          12.006073832511902,
          12.232034027576447
         ],
         "yaxis": "y"
        },
        {
         "hovertemplate": "x=%{x}<br>y=%{y}<extra></extra>",
         "line": {
          "color": "#023e8a",
          "width": 3
         },
         "marker": {
          "color": "#023e8a",
          "size": 7
         },
         "mode": "lines+markers",
         "showlegend": false,
         "type": "scatter",
         "x": [
          57,
          58
         ],
         "xaxis": "x",
         "y": [
          11.721587181091309,
          12.006073832511902
         ],
         "yaxis": "y"
        },
        {
         "hovertemplate": "x=%{x}<br>y=%{y}<extra></extra>",
         "line": {
          "color": "#023e8a",
          "width": 3
         },
         "marker": {
          "color": "#023e8a",
          "size": 7
         },
         "mode": "lines+markers",
         "showlegend": false,
         "type": "scatter",
         "x": [
          56,
          57
         ],
         "xaxis": "x",
         "y": [
          11.491312742233276,
          11.721587181091309
         ],
         "yaxis": "y"
        },
        {
         "hovertemplate": "x=%{x}<br>y=%{y}<extra></extra>",
         "line": {
          "color": "#023e8a",
          "width": 3
         },
         "marker": {
          "color": "#023e8a",
          "size": 7
         },
         "mode": "lines+markers",
         "showlegend": false,
         "type": "scatter",
         "x": [
          55,
          56
         ],
         "xaxis": "x",
         "y": [
          11.281689167022705,
          11.491312742233276
         ],
         "yaxis": "y"
        },
        {
         "hovertemplate": "x=%{x}<br>y=%{y}<extra></extra>",
         "line": {
          "color": "#023e8a",
          "width": 3
         },
         "marker": {
          "color": "#023e8a",
          "size": 7
         },
         "mode": "lines+markers",
         "showlegend": false,
         "type": "scatter",
         "x": [
          44,
          45
         ],
         "xaxis": "x",
         "y": [
          10.78162568807602,
          11.281689167022705
         ],
         "yaxis": "y"
        },
        {
         "hovertemplate": "x=%{x}<br>y=%{y}<extra></extra>",
         "line": {
          "color": "#023e8a",
          "width": 3
         },
         "marker": {
          "color": "#023e8a",
          "size": 7
         },
         "mode": "lines+markers",
         "showlegend": false,
         "type": "scatter",
         "x": [
          43,
          44
         ],
         "xaxis": "x",
         "y": [
          10.353354752063751,
          10.78162568807602
         ],
         "yaxis": "y"
        },
        {
         "hovertemplate": "x=%{x}<br>y=%{y}<extra></extra>",
         "line": {
          "color": "#023e8a",
          "width": 3
         },
         "marker": {
          "color": "#023e8a",
          "size": 7
         },
         "mode": "lines+markers",
         "showlegend": false,
         "type": "scatter",
         "x": [
          38,
          39
         ],
         "xaxis": "x",
         "y": [
          9.912444174289703,
          10.353354752063751
         ],
         "yaxis": "y"
        },
        {
         "hovertemplate": "x=%{x}<br>y=%{y}<extra></extra>",
         "line": {
          "color": "#023e8a",
          "width": 3
         },
         "marker": {
          "color": "#023e8a",
          "size": 7
         },
         "mode": "lines+markers",
         "showlegend": false,
         "type": "scatter",
         "x": [
          37,
          38
         ],
         "xaxis": "x",
         "y": [
          9.46985274553299,
          9.912444174289703
         ],
         "yaxis": "y"
        },
        {
         "hovertemplate": "x=%{x}<br>y=%{y}<extra></extra>",
         "line": {
          "color": "#023e8a",
          "width": 3
         },
         "marker": {
          "color": "#023e8a",
          "size": 7
         },
         "mode": "lines+markers",
         "showlegend": false,
         "type": "scatter",
         "x": [
          36,
          37
         ],
         "xaxis": "x",
         "y": [
          9.01178514957428,
          9.46985274553299
         ],
         "yaxis": "y"
        },
        {
         "hovertemplate": "x=%{x}<br>y=%{y}<extra></extra>",
         "line": {
          "color": "#023e8a",
          "width": 3
         },
         "marker": {
          "color": "#023e8a",
          "size": 7
         },
         "mode": "lines+markers",
         "showlegend": false,
         "type": "scatter",
         "x": [
          35,
          36
         ],
         "xaxis": "x",
         "y": [
          8.396050095558167,
          9.01178514957428
         ],
         "yaxis": "y"
        },
        {
         "hovertemplate": "x=%{x}<br>y=%{y}<extra></extra>",
         "line": {
          "color": "#023e8a",
          "width": 3
         },
         "marker": {
          "color": "#023e8a",
          "size": 7
         },
         "mode": "lines+markers",
         "showlegend": false,
         "type": "scatter",
         "x": [
          34,
          35
         ],
         "xaxis": "x",
         "y": [
          7.76008152961731,
          8.396050095558167
         ],
         "yaxis": "y"
        },
        {
         "hovertemplate": "x=%{x}<br>y=%{y}<extra></extra>",
         "line": {
          "color": "#023e8a",
          "width": 3
         },
         "marker": {
          "color": "#023e8a",
          "size": 7
         },
         "mode": "lines+markers",
         "showlegend": false,
         "type": "scatter",
         "x": [
          33,
          34
         ],
         "xaxis": "x",
         "y": [
          7.304671347141266,
          7.76008152961731
         ],
         "yaxis": "y"
        },
        {
         "hovertemplate": "x=%{x}<br>y=%{y}<extra></extra>",
         "line": {
          "color": "#023e8a",
          "width": 3
         },
         "marker": {
          "color": "#023e8a",
          "size": 7
         },
         "mode": "lines+markers",
         "showlegend": false,
         "type": "scatter",
         "x": [
          32,
          33
         ],
         "xaxis": "x",
         "y": [
          7.026191711425781,
          7.304671347141266
         ],
         "yaxis": "y"
        },
        {
         "hovertemplate": "x=%{x}<br>y=%{y}<extra></extra>",
         "line": {
          "color": "#023e8a",
          "width": 3
         },
         "marker": {
          "color": "#023e8a",
          "size": 7
         },
         "mode": "lines+markers",
         "showlegend": false,
         "type": "scatter",
         "x": [
          31,
          32
         ],
         "xaxis": "x",
         "y": [
          6.7305238246917725,
          7.026191711425781
         ],
         "yaxis": "y"
        },
        {
         "hovertemplate": "x=%{x}<br>y=%{y}<extra></extra>",
         "line": {
          "color": "#023e8a",
          "width": 3
         },
         "marker": {
          "color": "#023e8a",
          "size": 7
         },
         "mode": "lines+markers",
         "showlegend": false,
         "type": "scatter",
         "x": [
          30,
          31
         ],
         "xaxis": "x",
         "y": [
          6.44666987657547,
          6.7305238246917725
         ],
         "yaxis": "y"
        },
        {
         "hovertemplate": "x=%{x}<br>y=%{y}<extra></extra>",
         "line": {
          "color": "#023e8a",
          "width": 3
         },
         "marker": {
          "color": "#023e8a",
          "size": 7
         },
         "mode": "lines+markers",
         "showlegend": false,
         "type": "scatter",
         "x": [
          29,
          30
         ],
         "xaxis": "x",
         "y": [
          5.916715085506439,
          6.44666987657547
         ],
         "yaxis": "y"
        },
        {
         "hovertemplate": "x=%{x}<br>y=%{y}<extra></extra>",
         "line": {
          "color": "#023e8a",
          "width": 3
         },
         "marker": {
          "color": "#023e8a",
          "size": 7
         },
         "mode": "lines+markers",
         "showlegend": false,
         "type": "scatter",
         "x": [
          28,
          29
         ],
         "xaxis": "x",
         "y": [
          5.081352055072784,
          5.916715085506439
         ],
         "yaxis": "y"
        },
        {
         "hovertemplate": "x=%{x}<br>y=%{y}<extra></extra>",
         "line": {
          "color": "#023e8a",
          "width": 3
         },
         "marker": {
          "color": "#023e8a",
          "size": 7
         },
         "mode": "lines+markers",
         "showlegend": false,
         "type": "scatter",
         "x": [
          18,
          19
         ],
         "xaxis": "x",
         "y": [
          4.715483784675598,
          5.081352412700653
         ],
         "yaxis": "y"
        },
        {
         "hovertemplate": "x=%{x}<br>y=%{y}<extra></extra>",
         "line": {
          "color": "#023e8a",
          "width": 3
         },
         "marker": {
          "color": "#023e8a",
          "size": 7
         },
         "mode": "lines+markers",
         "showlegend": false,
         "type": "scatter",
         "x": [
          17,
          18
         ],
         "xaxis": "x",
         "y": [
          4.434704422950745,
          4.715483784675598
         ],
         "yaxis": "y"
        },
        {
         "hovertemplate": "x=%{x}<br>y=%{y}<extra></extra>",
         "line": {
          "color": "#023e8a",
          "width": 3
         },
         "marker": {
          "color": "#023e8a",
          "size": 7
         },
         "mode": "lines+markers",
         "showlegend": false,
         "type": "scatter",
         "x": [
          16,
          17
         ],
         "xaxis": "x",
         "y": [
          4.149812817573547,
          4.434704422950745
         ],
         "yaxis": "y"
        },
        {
         "hovertemplate": "x=%{x}<br>y=%{y}<extra></extra>",
         "line": {
          "color": "#023e8a",
          "width": 3
         },
         "marker": {
          "color": "#023e8a",
          "size": 7
         },
         "mode": "lines+markers",
         "showlegend": false,
         "type": "scatter",
         "x": [
          15,
          16
         ],
         "xaxis": "x",
         "y": [
          3.780734121799469,
          4.149812817573547
         ],
         "yaxis": "y"
        },
        {
         "hovertemplate": "x=%{x}<br>y=%{y}<extra></extra>",
         "line": {
          "color": "#023e8a",
          "width": 3
         },
         "marker": {
          "color": "#023e8a",
          "size": 7
         },
         "mode": "lines+markers",
         "showlegend": false,
         "type": "scatter",
         "x": [
          14,
          15
         ],
         "xaxis": "x",
         "y": [
          3.3127734661102295,
          3.780734121799469
         ],
         "yaxis": "y"
        },
        {
         "hovertemplate": "x=%{x}<br>y=%{y}<extra></extra>",
         "line": {
          "color": "#023e8a",
          "width": 3
         },
         "marker": {
          "color": "#023e8a",
          "size": 7
         },
         "mode": "lines+markers",
         "showlegend": false,
         "type": "scatter",
         "x": [
          13,
          14
         ],
         "xaxis": "x",
         "y": [
          2.9841399788856506,
          3.3127734661102295
         ],
         "yaxis": "y"
        },
        {
         "hovertemplate": "x=%{x}<br>y=%{y}<extra></extra>",
         "line": {
          "color": "#023e8a",
          "width": 3
         },
         "marker": {
          "color": "#023e8a",
          "size": 7
         },
         "mode": "lines+markers",
         "showlegend": false,
         "type": "scatter",
         "x": [
          12,
          13
         ],
         "xaxis": "x",
         "y": [
          2.667437434196472,
          2.9841399788856506
         ],
         "yaxis": "y"
        },
        {
         "hovertemplate": "x=%{x}<br>y=%{y}<extra></extra>",
         "line": {
          "color": "#023e8a",
          "width": 3
         },
         "marker": {
          "color": "#023e8a",
          "size": 7
         },
         "mode": "lines+markers",
         "showlegend": false,
         "type": "scatter",
         "x": [
          11,
          12
         ],
         "xaxis": "x",
         "y": [
          2.3415335416793823,
          2.667437434196472
         ],
         "yaxis": "y"
        },
        {
         "hovertemplate": "x=%{x}<br>y=%{y}<extra></extra>",
         "line": {
          "color": "#023e8a",
          "width": 3
         },
         "marker": {
          "color": "#023e8a",
          "size": 7
         },
         "mode": "lines+markers",
         "showlegend": false,
         "type": "scatter",
         "x": [
          10,
          11
         ],
         "xaxis": "x",
         "y": [
          1.9611383080482483,
          2.3415335416793823
         ],
         "yaxis": "y"
        },
        {
         "hovertemplate": "x=%{x}<br>y=%{y}<extra></extra>",
         "line": {
          "color": "#023e8a",
          "width": 3
         },
         "marker": {
          "color": "#023e8a",
          "size": 7
         },
         "mode": "lines+markers",
         "showlegend": false,
         "type": "scatter",
         "x": [
          9,
          10
         ],
         "xaxis": "x",
         "y": [
          1.560491681098938,
          1.9611383080482483
         ],
         "yaxis": "y"
        },
        {
         "hovertemplate": "x=%{x}<br>y=%{y}<extra></extra>",
         "line": {
          "color": "#023e8a",
          "width": 3
         },
         "marker": {
          "color": "#023e8a",
          "size": 7
         },
         "mode": "lines+markers",
         "showlegend": false,
         "type": "scatter",
         "x": [
          8,
          9
         ],
         "xaxis": "x",
         "y": [
          1.3878766298294067,
          1.560491681098938
         ],
         "yaxis": "y"
        },
        {
         "hovertemplate": "x=%{x}<br>y=%{y}<extra></extra>",
         "line": {
          "color": "#023e8a",
          "width": 3
         },
         "marker": {
          "color": "#023e8a",
          "size": 7
         },
         "mode": "lines+markers",
         "showlegend": false,
         "type": "scatter",
         "x": [
          7,
          8
         ],
         "xaxis": "x",
         "y": [
          1.1831448078155518,
          1.3878766298294067
         ],
         "yaxis": "y"
        },
        {
         "hovertemplate": "x=%{x}<br>y=%{y}<extra></extra>",
         "line": {
          "color": "#023e8a",
          "width": 3
         },
         "marker": {
          "color": "#023e8a",
          "size": 7
         },
         "mode": "lines+markers",
         "showlegend": false,
         "type": "scatter",
         "x": [
          6,
          7
         ],
         "xaxis": "x",
         "y": [
          0.9868475198745728,
          1.1831448078155518
         ],
         "yaxis": "y"
        },
        {
         "hovertemplate": "x=%{x}<br>y=%{y}<extra></extra>",
         "line": {
          "color": "#023e8a",
          "width": 3
         },
         "marker": {
          "color": "#023e8a",
          "size": 7
         },
         "mode": "lines+markers",
         "showlegend": false,
         "type": "scatter",
         "x": [
          5,
          6
         ],
         "xaxis": "x",
         "y": [
          0.7956849336624146,
          0.9868475198745728
         ],
         "yaxis": "y"
        },
        {
         "hovertemplate": "x=%{x}<br>y=%{y}<extra></extra>",
         "line": {
          "color": "#023e8a",
          "width": 3
         },
         "marker": {
          "color": "#023e8a",
          "size": 7
         },
         "mode": "lines+markers",
         "showlegend": false,
         "type": "scatter",
         "x": [
          4,
          5
         ],
         "xaxis": "x",
         "y": [
          0.6036558151245117,
          0.7956849336624146
         ],
         "yaxis": "y"
        },
        {
         "hovertemplate": "x=%{x}<br>y=%{y}<extra></extra>",
         "line": {
          "color": "#023e8a",
          "width": 3
         },
         "marker": {
          "color": "#023e8a",
          "size": 7
         },
         "mode": "lines+markers",
         "showlegend": false,
         "type": "scatter",
         "x": [
          3,
          4
         ],
         "xaxis": "x",
         "y": [
          0.4078388214111328,
          0.6036558151245117
         ],
         "yaxis": "y"
        },
        {
         "hovertemplate": "x=%{x}<br>y=%{y}<extra></extra>",
         "line": {
          "color": "#c1121f",
          "width": 3
         },
         "marker": {
          "color": "#c1121f",
          "size": 7
         },
         "mode": "lines+markers",
         "showlegend": false,
         "type": "scatter",
         "x": [
          93,
          94
         ],
         "xaxis": "x",
         "y": [
          20.23968243598938,
          20.215341448783875
         ],
         "yaxis": "y"
        },
        {
         "hovertemplate": "x=%{x}<br>y=%{y}<extra></extra>",
         "line": {
          "color": "#c1121f",
          "width": 3
         },
         "marker": {
          "color": "#c1121f",
          "size": 7
         },
         "mode": "lines+markers",
         "showlegend": false,
         "type": "scatter",
         "x": [
          2,
          3
         ],
         "xaxis": "x",
         "y": [
          0,
          0.4078388214111328
         ],
         "yaxis": "y"
        },
        {
         "hovertemplate": "x=%{x}<br>y=%{y}<extra></extra>",
         "line": {
          "color": "#9d4edd",
          "width": 3
         },
         "marker": {
          "color": "#9d4edd",
          "size": 7
         },
         "mode": "lines+markers",
         "showlegend": false,
         "type": "scatter",
         "x": [
          99,
          100
         ],
         "xaxis": "x",
         "y": [
          22.12263596057892,
          22.134103536605835
         ],
         "yaxis": "y"
        },
        {
         "hovertemplate": "x=%{x}<br>y=%{y}<extra></extra>",
         "line": {
          "color": "#9d4edd",
          "width": 3
         },
         "marker": {
          "color": "#9d4edd",
          "size": 7
         },
         "mode": "lines+markers",
         "showlegend": false,
         "type": "scatter",
         "x": [
          89,
          90
         ],
         "xaxis": "x",
         "y": [
          19.748129427433014,
          19.748129427433014
         ],
         "yaxis": "y"
        },
        {
         "hovertemplate": "x=%{x}<br>y=%{y}<extra></extra>",
         "line": {
          "color": "#9d4edd",
          "width": 3
         },
         "marker": {
          "color": "#9d4edd",
          "size": 7
         },
         "mode": "lines+markers",
         "showlegend": false,
         "type": "scatter",
         "x": [
          81,
          82
         ],
         "xaxis": "x",
         "y": [
          18.740658164024353,
          18.70212548971176
         ],
         "yaxis": "y"
        },
        {
         "hovertemplate": "x=%{x}<br>y=%{y}<extra></extra>",
         "line": {
          "color": "#9d4edd",
          "width": 3
         },
         "marker": {
          "color": "#9d4edd",
          "size": 7
         },
         "mode": "lines+markers",
         "showlegend": false,
         "type": "scatter",
         "x": [
          74,
          75
         ],
         "xaxis": "x",
         "y": [
          16.565782248973846,
          16.51344519853592
         ],
         "yaxis": "y"
        },
        {
         "hovertemplate": "x=%{x}<br>y=%{y}<extra></extra>",
         "line": {
          "color": "#9d4edd",
          "width": 3
         },
         "marker": {
          "color": "#9d4edd",
          "size": 7
         },
         "mode": "lines+markers",
         "showlegend": false,
         "type": "scatter",
         "x": [
          64,
          65
         ],
         "xaxis": "x",
         "y": [
          12.232034027576447,
          12.232034027576447
         ],
         "yaxis": "y"
        },
        {
         "hovertemplate": "x=%{x}<br>y=%{y}<extra></extra>",
         "line": {
          "color": "#9d4edd",
          "width": 3
         },
         "marker": {
          "color": "#9d4edd",
          "size": 7
         },
         "mode": "lines+markers",
         "showlegend": false,
         "type": "scatter",
         "x": [
          45,
          46
         ],
         "xaxis": "x",
         "y": [
          11.281689167022705,
          11.281689167022705
         ],
         "yaxis": "y"
        },
        {
         "hovertemplate": "x=%{x}<br>y=%{y}<extra></extra>",
         "line": {
          "color": "#9d4edd",
          "width": 3
         },
         "marker": {
          "color": "#9d4edd",
          "size": 7
         },
         "mode": "lines+markers",
         "showlegend": false,
         "type": "scatter",
         "x": [
          27,
          28
         ],
         "xaxis": "x",
         "y": [
          5.081352412700653,
          5.081352055072784
         ],
         "yaxis": "y"
        },
        {
         "line": {
          "color": "#64B5F6",
          "width": 2
         },
         "mode": "lines",
         "name": "human_insert_backstage",
         "showlegend": true,
         "type": "scatter",
         "x": [
          null
         ],
         "xaxis": "x",
         "y": [
          null
         ],
         "yaxis": "y"
        },
        {
         "line": {
          "color": "#ff8fab",
          "width": 2
         },
         "mode": "lines",
         "name": "ai_suggest_backstage",
         "showlegend": true,
         "type": "scatter",
         "x": [
          null
         ],
         "xaxis": "x",
         "y": [
          null
         ],
         "yaxis": "y"
        },
        {
         "line": {
          "color": "#023e8a",
          "width": 2
         },
         "mode": "lines",
         "name": "human_insert_frontstage",
         "showlegend": true,
         "type": "scatter",
         "x": [
          null
         ],
         "xaxis": "x",
         "y": [
          null
         ],
         "yaxis": "y"
        },
        {
         "line": {
          "color": "#c1121f",
          "width": 2
         },
         "mode": "lines",
         "name": "ai_insert_moved_to_frontstage",
         "showlegend": true,
         "type": "scatter",
         "x": [
          null
         ],
         "xaxis": "x",
         "y": [
          null
         ],
         "yaxis": "y"
        },
        {
         "line": {
          "color": "#9d4edd",
          "width": 2
         },
         "mode": "lines",
         "name": "human_delete_frontstage",
         "showlegend": true,
         "type": "scatter",
         "x": [
          null
         ],
         "xaxis": "x",
         "y": [
          null
         ],
         "yaxis": "y"
        },
        {
         "line": {
          "color": "#5a189a",
          "width": 2
         },
         "mode": "lines",
         "name": "human_insert_edit_frontstage",
         "showlegend": true,
         "type": "scatter",
         "x": [
          null
         ],
         "xaxis": "x",
         "y": [
          null
         ],
         "yaxis": "y"
        }
       ],
       "layout": {
        "annotations": [
         {
          "font": {
           "size": 16
          },
          "showarrow": false,
          "text": "Session: legislation_corporate_4",
          "x": 0.5,
          "xanchor": "center",
          "xref": "paper",
          "y": 1,
          "yanchor": "bottom",
          "yref": "paper"
         }
        ],
        "height": 500,
        "legend": {
         "title": {
          "font": {
           "color": "rgba(0, 0, 0, 0)"
          }
         }
        },
        "plot_bgcolor": "white",
        "showlegend": true,
        "template": {
         "data": {
          "bar": [
           {
            "error_x": {
             "color": "#2a3f5f"
            },
            "error_y": {
             "color": "#2a3f5f"
            },
            "marker": {
             "line": {
              "color": "#E5ECF6",
              "width": 0.5
             },
             "pattern": {
              "fillmode": "overlay",
              "size": 10,
              "solidity": 0.2
             }
            },
            "type": "bar"
           }
          ],
          "barpolar": [
           {
            "marker": {
             "line": {
              "color": "#E5ECF6",
              "width": 0.5
             },
             "pattern": {
              "fillmode": "overlay",
              "size": 10,
              "solidity": 0.2
             }
            },
            "type": "barpolar"
           }
          ],
          "carpet": [
           {
            "aaxis": {
             "endlinecolor": "#2a3f5f",
             "gridcolor": "white",
             "linecolor": "white",
             "minorgridcolor": "white",
             "startlinecolor": "#2a3f5f"
            },
            "baxis": {
             "endlinecolor": "#2a3f5f",
             "gridcolor": "white",
             "linecolor": "white",
             "minorgridcolor": "white",
             "startlinecolor": "#2a3f5f"
            },
            "type": "carpet"
           }
          ],
          "choropleth": [
           {
            "colorbar": {
             "outlinewidth": 0,
             "ticks": ""
            },
            "type": "choropleth"
           }
          ],
          "contour": [
           {
            "colorbar": {
             "outlinewidth": 0,
             "ticks": ""
            },
            "colorscale": [
             [
              0,
              "#0d0887"
             ],
             [
              0.1111111111111111,
              "#46039f"
             ],
             [
              0.2222222222222222,
              "#7201a8"
             ],
             [
              0.3333333333333333,
              "#9c179e"
             ],
             [
              0.4444444444444444,
              "#bd3786"
             ],
             [
              0.5555555555555556,
              "#d8576b"
             ],
             [
              0.6666666666666666,
              "#ed7953"
             ],
             [
              0.7777777777777778,
              "#fb9f3a"
             ],
             [
              0.8888888888888888,
              "#fdca26"
             ],
             [
              1,
              "#f0f921"
             ]
            ],
            "type": "contour"
           }
          ],
          "contourcarpet": [
           {
            "colorbar": {
             "outlinewidth": 0,
             "ticks": ""
            },
            "type": "contourcarpet"
           }
          ],
          "heatmap": [
           {
            "colorbar": {
             "outlinewidth": 0,
             "ticks": ""
            },
            "colorscale": [
             [
              0,
              "#0d0887"
             ],
             [
              0.1111111111111111,
              "#46039f"
             ],
             [
              0.2222222222222222,
              "#7201a8"
             ],
             [
              0.3333333333333333,
              "#9c179e"
             ],
             [
              0.4444444444444444,
              "#bd3786"
             ],
             [
              0.5555555555555556,
              "#d8576b"
             ],
             [
              0.6666666666666666,
              "#ed7953"
             ],
             [
              0.7777777777777778,
              "#fb9f3a"
             ],
             [
              0.8888888888888888,
              "#fdca26"
             ],
             [
              1,
              "#f0f921"
             ]
            ],
            "type": "heatmap"
           }
          ],
          "histogram": [
           {
            "marker": {
             "pattern": {
              "fillmode": "overlay",
              "size": 10,
              "solidity": 0.2
             }
            },
            "type": "histogram"
           }
          ],
          "histogram2d": [
           {
            "colorbar": {
             "outlinewidth": 0,
             "ticks": ""
            },
            "colorscale": [
             [
              0,
              "#0d0887"
             ],
             [
              0.1111111111111111,
              "#46039f"
             ],
             [
              0.2222222222222222,
              "#7201a8"
             ],
             [
              0.3333333333333333,
              "#9c179e"
             ],
             [
              0.4444444444444444,
              "#bd3786"
             ],
             [
              0.5555555555555556,
              "#d8576b"
             ],
             [
              0.6666666666666666,
              "#ed7953"
             ],
             [
              0.7777777777777778,
              "#fb9f3a"
             ],
             [
              0.8888888888888888,
              "#fdca26"
             ],
             [
              1,
              "#f0f921"
             ]
            ],
            "type": "histogram2d"
           }
          ],
          "histogram2dcontour": [
           {
            "colorbar": {
             "outlinewidth": 0,
             "ticks": ""
            },
            "colorscale": [
             [
              0,
              "#0d0887"
             ],
             [
              0.1111111111111111,
              "#46039f"
             ],
             [
              0.2222222222222222,
              "#7201a8"
             ],
             [
              0.3333333333333333,
              "#9c179e"
             ],
             [
              0.4444444444444444,
              "#bd3786"
             ],
             [
              0.5555555555555556,
              "#d8576b"
             ],
             [
              0.6666666666666666,
              "#ed7953"
             ],
             [
              0.7777777777777778,
              "#fb9f3a"
             ],
             [
              0.8888888888888888,
              "#fdca26"
             ],
             [
              1,
              "#f0f921"
             ]
            ],
            "type": "histogram2dcontour"
           }
          ],
          "mesh3d": [
           {
            "colorbar": {
             "outlinewidth": 0,
             "ticks": ""
            },
            "type": "mesh3d"
           }
          ],
          "parcoords": [
           {
            "line": {
             "colorbar": {
              "outlinewidth": 0,
              "ticks": ""
             }
            },
            "type": "parcoords"
           }
          ],
          "pie": [
           {
            "automargin": true,
            "type": "pie"
           }
          ],
          "scatter": [
           {
            "fillpattern": {
             "fillmode": "overlay",
             "size": 10,
             "solidity": 0.2
            },
            "type": "scatter"
           }
          ],
          "scatter3d": [
           {
            "line": {
             "colorbar": {
              "outlinewidth": 0,
              "ticks": ""
             }
            },
            "marker": {
             "colorbar": {
              "outlinewidth": 0,
              "ticks": ""
             }
            },
            "type": "scatter3d"
           }
          ],
          "scattercarpet": [
           {
            "marker": {
             "colorbar": {
              "outlinewidth": 0,
              "ticks": ""
             }
            },
            "type": "scattercarpet"
           }
          ],
          "scattergeo": [
           {
            "marker": {
             "colorbar": {
              "outlinewidth": 0,
              "ticks": ""
             }
            },
            "type": "scattergeo"
           }
          ],
          "scattergl": [
           {
            "marker": {
             "colorbar": {
              "outlinewidth": 0,
              "ticks": ""
             }
            },
            "type": "scattergl"
           }
          ],
          "scattermap": [
           {
            "marker": {
             "colorbar": {
              "outlinewidth": 0,
              "ticks": ""
             }
            },
            "type": "scattermap"
           }
          ],
          "scattermapbox": [
           {
            "marker": {
             "colorbar": {
              "outlinewidth": 0,
              "ticks": ""
             }
            },
            "type": "scattermapbox"
           }
          ],
          "scatterpolar": [
           {
            "marker": {
             "colorbar": {
              "outlinewidth": 0,
              "ticks": ""
             }
            },
            "type": "scatterpolar"
           }
          ],
          "scatterpolargl": [
           {
            "marker": {
             "colorbar": {
              "outlinewidth": 0,
              "ticks": ""
             }
            },
            "type": "scatterpolargl"
           }
          ],
          "scatterternary": [
           {
            "marker": {
             "colorbar": {
              "outlinewidth": 0,
              "ticks": ""
             }
            },
            "type": "scatterternary"
           }
          ],
          "surface": [
           {
            "colorbar": {
             "outlinewidth": 0,
             "ticks": ""
            },
            "colorscale": [
             [
              0,
              "#0d0887"
             ],
             [
              0.1111111111111111,
              "#46039f"
             ],
             [
              0.2222222222222222,
              "#7201a8"
             ],
             [
              0.3333333333333333,
              "#9c179e"
             ],
             [
              0.4444444444444444,
              "#bd3786"
             ],
             [
              0.5555555555555556,
              "#d8576b"
             ],
             [
              0.6666666666666666,
              "#ed7953"
             ],
             [
              0.7777777777777778,
              "#fb9f3a"
             ],
             [
              0.8888888888888888,
              "#fdca26"
             ],
             [
              1,
              "#f0f921"
             ]
            ],
            "type": "surface"
           }
          ],
          "table": [
           {
            "cells": {
             "fill": {
              "color": "#EBF0F8"
             },
             "line": {
              "color": "white"
             }
            },
            "header": {
             "fill": {
              "color": "#C8D4E3"
             },
             "line": {
              "color": "white"
             }
            },
            "type": "table"
           }
          ]
         },
         "layout": {
          "annotationdefaults": {
           "arrowcolor": "#2a3f5f",
           "arrowhead": 0,
           "arrowwidth": 1
          },
          "autotypenumbers": "strict",
          "coloraxis": {
           "colorbar": {
            "outlinewidth": 0,
            "ticks": ""
           }
          },
          "colorscale": {
           "diverging": [
            [
             0,
             "#8e0152"
            ],
            [
             0.1,
             "#c51b7d"
            ],
            [
             0.2,
             "#de77ae"
            ],
            [
             0.3,
             "#f1b6da"
            ],
            [
             0.4,
             "#fde0ef"
            ],
            [
             0.5,
             "#f7f7f7"
            ],
            [
             0.6,
             "#e6f5d0"
            ],
            [
             0.7,
             "#b8e186"
            ],
            [
             0.8,
             "#7fbc41"
            ],
            [
             0.9,
             "#4d9221"
            ],
            [
             1,
             "#276419"
            ]
           ],
           "sequential": [
            [
             0,
             "#0d0887"
            ],
            [
             0.1111111111111111,
             "#46039f"
            ],
            [
             0.2222222222222222,
             "#7201a8"
            ],
            [
             0.3333333333333333,
             "#9c179e"
            ],
            [
             0.4444444444444444,
             "#bd3786"
            ],
            [
             0.5555555555555556,
             "#d8576b"
            ],
            [
             0.6666666666666666,
             "#ed7953"
            ],
            [
             0.7777777777777778,
             "#fb9f3a"
            ],
            [
             0.8888888888888888,
             "#fdca26"
            ],
            [
             1,
             "#f0f921"
            ]
           ],
           "sequentialminus": [
            [
             0,
             "#0d0887"
            ],
            [
             0.1111111111111111,
             "#46039f"
            ],
            [
             0.2222222222222222,
             "#7201a8"
            ],
            [
             0.3333333333333333,
             "#9c179e"
            ],
            [
             0.4444444444444444,
             "#bd3786"
            ],
            [
             0.5555555555555556,
             "#d8576b"
            ],
            [
             0.6666666666666666,
             "#ed7953"
            ],
            [
             0.7777777777777778,
             "#fb9f3a"
            ],
            [
             0.8888888888888888,
             "#fdca26"
            ],
            [
             1,
             "#f0f921"
            ]
           ]
          },
          "colorway": [
           "#636efa",
           "#EF553B",
           "#00cc96",
           "#ab63fa",
           "#FFA15A",
           "#19d3f3",
           "#FF6692",
           "#B6E880",
           "#FF97FF",
           "#FECB52"
          ],
          "font": {
           "color": "#2a3f5f"
          },
          "geo": {
           "bgcolor": "white",
           "lakecolor": "white",
           "landcolor": "#E5ECF6",
           "showlakes": true,
           "showland": true,
           "subunitcolor": "white"
          },
          "hoverlabel": {
           "align": "left"
          },
          "hovermode": "closest",
          "mapbox": {
           "style": "light"
          },
          "paper_bgcolor": "white",
          "plot_bgcolor": "#E5ECF6",
          "polar": {
           "angularaxis": {
            "gridcolor": "white",
            "linecolor": "white",
            "ticks": ""
           },
           "bgcolor": "#E5ECF6",
           "radialaxis": {
            "gridcolor": "white",
            "linecolor": "white",
            "ticks": ""
           }
          },
          "scene": {
           "xaxis": {
            "backgroundcolor": "#E5ECF6",
            "gridcolor": "white",
            "gridwidth": 2,
            "linecolor": "white",
            "showbackground": true,
            "ticks": "",
            "zerolinecolor": "white"
           },
           "yaxis": {
            "backgroundcolor": "#E5ECF6",
            "gridcolor": "white",
            "gridwidth": 2,
            "linecolor": "white",
            "showbackground": true,
            "ticks": "",
            "zerolinecolor": "white"
           },
           "zaxis": {
            "backgroundcolor": "#E5ECF6",
            "gridcolor": "white",
            "gridwidth": 2,
            "linecolor": "white",
            "showbackground": true,
            "ticks": "",
            "zerolinecolor": "white"
           }
          },
          "shapedefaults": {
           "line": {
            "color": "#2a3f5f"
           }
          },
          "ternary": {
           "aaxis": {
            "gridcolor": "white",
            "linecolor": "white",
            "ticks": ""
           },
           "baxis": {
            "gridcolor": "white",
            "linecolor": "white",
            "ticks": ""
           },
           "bgcolor": "#E5ECF6",
           "caxis": {
            "gridcolor": "white",
            "linecolor": "white",
            "ticks": ""
           }
          },
          "title": {
           "x": 0.05
          },
          "xaxis": {
           "automargin": true,
           "gridcolor": "white",
           "linecolor": "white",
           "ticks": "",
           "title": {
            "standoff": 15
           },
           "zerolinecolor": "white",
           "zerolinewidth": 2
          },
          "yaxis": {
           "automargin": true,
           "gridcolor": "white",
           "linecolor": "white",
           "ticks": "",
           "title": {
            "standoff": 15
           },
           "zerolinecolor": "white",
           "zerolinewidth": 2
          }
         }
        },
        "title": {
         "text": "Semantic Expansion over Writing Sessions<br><span style=\"font-size: 12px;\">*Measuring how well humans are learning while writing with GenAI</span>"
        },
        "width": 1800,
        "xaxis": {
         "anchor": "y",
         "domain": [
          0,
          1
         ],
         "gridcolor": "white",
         "linecolor": "black",
         "mirror": false,
         "range": [
          -1,
          105
         ],
         "showline": true,
         "ticks": "outside",
         "title": {
          "text": "Progress into the writing session"
         }
        },
        "yaxis": {
         "anchor": "x",
         "domain": [
          0,
          1
         ],
         "gridcolor": "white",
         "linecolor": "black",
         "mirror": false,
         "showline": true,
         "ticks": "outside",
         "title": {
          "text": "Scores"
         }
        }
       }
      }
     },
     "metadata": {},
     "output_type": "display_data"
    },
    {
     "name": "stdout",
     "output_type": "stream",
     "text": [
      "legislation_corporate_5\n"
     ]
    },
    {
     "data": {
      "application/vnd.plotly.v1+json": {
       "config": {
        "plotlyServerURL": "https://plot.ly"
       },
       "data": [
        {
         "hovertemplate": "x=%{x}<br>y=%{y}<extra></extra>",
         "line": {
          "color": "#64B5F6",
          "width": 3
         },
         "marker": {
          "color": "#64B5F6",
          "size": 7
         },
         "mode": "lines+markers",
         "showlegend": false,
         "type": "scatter",
         "x": [
          62,
          63
         ],
         "xaxis": "x",
         "y": [
          15.474570274353027,
          16.175053119659424
         ],
         "yaxis": "y"
        },
        {
         "hovertemplate": "x=%{x}<br>y=%{y}<extra></extra>",
         "line": {
          "color": "#64B5F6",
          "width": 3
         },
         "marker": {
          "color": "#64B5F6",
          "size": 7
         },
         "mode": "lines+markers",
         "showlegend": false,
         "type": "scatter",
         "x": [
          53,
          54
         ],
         "xaxis": "x",
         "y": [
          13.35500305891037,
          13.893534898757935
         ],
         "yaxis": "y"
        },
        {
         "hovertemplate": "x=%{x}<br>y=%{y}<extra></extra>",
         "line": {
          "color": "#64B5F6",
          "width": 3
         },
         "marker": {
          "color": "#64B5F6",
          "size": 7
         },
         "mode": "lines+markers",
         "showlegend": false,
         "type": "scatter",
         "x": [
          48,
          49
         ],
         "xaxis": "x",
         "y": [
          12.479463338851929,
          12.959429383277893
         ],
         "yaxis": "y"
        },
        {
         "hovertemplate": "x=%{x}<br>y=%{y}<extra></extra>",
         "line": {
          "color": "#64B5F6",
          "width": 3
         },
         "marker": {
          "color": "#64B5F6",
          "size": 7
         },
         "mode": "lines+markers",
         "showlegend": false,
         "type": "scatter",
         "x": [
          45,
          46
         ],
         "xaxis": "x",
         "y": [
          12.958440661430359,
          13.77327287197113
         ],
         "yaxis": "y"
        },
        {
         "hovertemplate": "x=%{x}<br>y=%{y}<extra></extra>",
         "line": {
          "color": "#64B5F6",
          "width": 3
         },
         "marker": {
          "color": "#64B5F6",
          "size": 7
         },
         "mode": "lines+markers",
         "showlegend": false,
         "type": "scatter",
         "x": [
          35,
          36
         ],
         "xaxis": "x",
         "y": [
          11.353728234767914,
          12.251010775566101
         ],
         "yaxis": "y"
        },
        {
         "hovertemplate": "x=%{x}<br>y=%{y}<extra></extra>",
         "line": {
          "color": "#64B5F6",
          "width": 3
         },
         "marker": {
          "color": "#64B5F6",
          "size": 7
         },
         "mode": "lines+markers",
         "showlegend": false,
         "type": "scatter",
         "x": [
          31,
          32
         ],
         "xaxis": "x",
         "y": [
          11.16387814283371,
          11.961796700954437
         ],
         "yaxis": "y"
        },
        {
         "hovertemplate": "x=%{x}<br>y=%{y}<extra></extra>",
         "line": {
          "color": "#ff8fab",
          "width": 3
         },
         "marker": {
          "color": "#ff8fab",
          "size": 7
         },
         "mode": "lines+markers",
         "showlegend": false,
         "type": "scatter",
         "x": [
          63,
          64
         ],
         "xaxis": "x",
         "y": [
          16.175053119659424,
          16.518797791004182
         ],
         "yaxis": "y"
        },
        {
         "hovertemplate": "x=%{x}<br>y=%{y}<extra></extra>",
         "line": {
          "color": "#ff8fab",
          "width": 3
         },
         "marker": {
          "color": "#ff8fab",
          "size": 7
         },
         "mode": "lines+markers",
         "showlegend": false,
         "type": "scatter",
         "x": [
          60,
          61
         ],
         "xaxis": "x",
         "y": [
          14.914311408996582,
          15.310837805271149
         ],
         "yaxis": "y"
        },
        {
         "hovertemplate": "x=%{x}<br>y=%{y}<extra></extra>",
         "line": {
          "color": "#ff8fab",
          "width": 3
         },
         "marker": {
          "color": "#ff8fab",
          "size": 7
         },
         "mode": "lines+markers",
         "showlegend": false,
         "type": "scatter",
         "x": [
          58,
          59
         ],
         "xaxis": "x",
         "y": [
          14.378498792648315,
          14.877215504646301
         ],
         "yaxis": "y"
        },
        {
         "hovertemplate": "x=%{x}<br>y=%{y}<extra></extra>",
         "line": {
          "color": "#ff8fab",
          "width": 3
         },
         "marker": {
          "color": "#ff8fab",
          "size": 7
         },
         "mode": "lines+markers",
         "showlegend": false,
         "type": "scatter",
         "x": [
          56,
          57
         ],
         "xaxis": "x",
         "y": [
          13.905926823616028,
          14.329771661758423
         ],
         "yaxis": "y"
        },
        {
         "hovertemplate": "x=%{x}<br>y=%{y}<extra></extra>",
         "line": {
          "color": "#ff8fab",
          "width": 3
         },
         "marker": {
          "color": "#ff8fab",
          "size": 7
         },
         "mode": "lines+markers",
         "showlegend": false,
         "type": "scatter",
         "x": [
          54,
          55
         ],
         "xaxis": "x",
         "y": [
          13.893534898757935,
          14.403346168994904
         ],
         "yaxis": "y"
        },
        {
         "hovertemplate": "x=%{x}<br>y=%{y}<extra></extra>",
         "line": {
          "color": "#ff8fab",
          "width": 3
         },
         "marker": {
          "color": "#ff8fab",
          "size": 7
         },
         "mode": "lines+markers",
         "showlegend": false,
         "type": "scatter",
         "x": [
          49,
          50
         ],
         "xaxis": "x",
         "y": [
          12.959429383277893,
          13.390818679332734
         ],
         "yaxis": "y"
        },
        {
         "hovertemplate": "x=%{x}<br>y=%{y}<extra></extra>",
         "line": {
          "color": "#ff8fab",
          "width": 3
         },
         "marker": {
          "color": "#ff8fab",
          "size": 7
         },
         "mode": "lines+markers",
         "showlegend": false,
         "type": "scatter",
         "x": [
          46,
          47
         ],
         "xaxis": "x",
         "y": [
          13.77327287197113,
          14.212774634361267
         ],
         "yaxis": "y"
        },
        {
         "hovertemplate": "x=%{x}<br>y=%{y}<extra></extra>",
         "line": {
          "color": "#ff8fab",
          "width": 3
         },
         "marker": {
          "color": "#ff8fab",
          "size": 7
         },
         "mode": "lines+markers",
         "showlegend": false,
         "type": "scatter",
         "x": [
          44,
          45
         ],
         "xaxis": "x",
         "y": [
          12.564041137695312,
          12.958440661430359
         ],
         "yaxis": "y"
        },
        {
         "hovertemplate": "x=%{x}<br>y=%{y}<extra></extra>",
         "line": {
          "color": "#ff8fab",
          "width": 3
         },
         "marker": {
          "color": "#ff8fab",
          "size": 7
         },
         "mode": "lines+markers",
         "showlegend": false,
         "type": "scatter",
         "x": [
          41,
          42
         ],
         "xaxis": "x",
         "y": [
          11.696859538555145,
          12.086533904075623
         ],
         "yaxis": "y"
        },
        {
         "hovertemplate": "x=%{x}<br>y=%{y}<extra></extra>",
         "line": {
          "color": "#ff8fab",
          "width": 3
         },
         "marker": {
          "color": "#ff8fab",
          "size": 7
         },
         "mode": "lines+markers",
         "showlegend": false,
         "type": "scatter",
         "x": [
          36,
          37
         ],
         "xaxis": "x",
         "y": [
          12.251010775566101,
          12.606341755390167
         ],
         "yaxis": "y"
        },
        {
         "hovertemplate": "x=%{x}<br>y=%{y}<extra></extra>",
         "line": {
          "color": "#ff8fab",
          "width": 3
         },
         "marker": {
          "color": "#ff8fab",
          "size": 7
         },
         "mode": "lines+markers",
         "showlegend": false,
         "type": "scatter",
         "x": [
          32,
          33
         ],
         "xaxis": "x",
         "y": [
          11.961796700954437,
          12.28006362915039
         ],
         "yaxis": "y"
        },
        {
         "hovertemplate": "x=%{x}<br>y=%{y}<extra></extra>",
         "line": {
          "color": "#ff8fab",
          "width": 3
         },
         "marker": {
          "color": "#ff8fab",
          "size": 7
         },
         "mode": "lines+markers",
         "showlegend": false,
         "type": "scatter",
         "x": [
          29,
          30
         ],
         "xaxis": "x",
         "y": [
          10.920436978340149,
          11.353779733181
         ],
         "yaxis": "y"
        },
        {
         "hovertemplate": "x=%{x}<br>y=%{y}<extra></extra>",
         "line": {
          "color": "#ff8fab",
          "width": 3
         },
         "marker": {
          "color": "#ff8fab",
          "size": 7
         },
         "mode": "lines+markers",
         "showlegend": false,
         "type": "scatter",
         "x": [
          26,
          27
         ],
         "xaxis": "x",
         "y": [
          9.978024959564209,
          9.592344200611114
         ],
         "yaxis": "y"
        },
        {
         "hovertemplate": "x=%{x}<br>y=%{y}<extra></extra>",
         "line": {
          "color": "#ff8fab",
          "width": 3
         },
         "marker": {
          "color": "#ff8fab",
          "size": 7
         },
         "mode": "lines+markers",
         "showlegend": false,
         "type": "scatter",
         "x": [
          21,
          22
         ],
         "xaxis": "x",
         "y": [
          7.169405102729797,
          7.693172347545624
         ],
         "yaxis": "y"
        },
        {
         "hovertemplate": "x=%{x}<br>y=%{y}<extra></extra>",
         "line": {
          "color": "#ff8fab",
          "width": 3
         },
         "marker": {
          "color": "#ff8fab",
          "size": 7
         },
         "mode": "lines+markers",
         "showlegend": false,
         "type": "scatter",
         "x": [
          17,
          18
         ],
         "xaxis": "x",
         "y": [
          6.17371940612793,
          6.633444237709045
         ],
         "yaxis": "y"
        },
        {
         "hovertemplate": "x=%{x}<br>y=%{y}<extra></extra>",
         "line": {
          "color": "#ff8fab",
          "width": 3
         },
         "marker": {
          "color": "#ff8fab",
          "size": 7
         },
         "mode": "lines+markers",
         "showlegend": false,
         "type": "scatter",
         "x": [
          13,
          14
         ],
         "xaxis": "x",
         "y": [
          4.776050508022308,
          5.2477001786232
         ],
         "yaxis": "y"
        },
        {
         "hovertemplate": "x=%{x}<br>y=%{y}<extra></extra>",
         "line": {
          "color": "#ff8fab",
          "width": 3
         },
         "marker": {
          "color": "#ff8fab",
          "size": 7
         },
         "mode": "lines+markers",
         "showlegend": false,
         "type": "scatter",
         "x": [
          9,
          10
         ],
         "xaxis": "x",
         "y": [
          3.4837191104888916,
          3.871078670024872
         ],
         "yaxis": "y"
        },
        {
         "hovertemplate": "x=%{x}<br>y=%{y}<extra></extra>",
         "line": {
          "color": "#ff8fab",
          "width": 3
         },
         "marker": {
          "color": "#ff8fab",
          "size": 7
         },
         "mode": "lines+markers",
         "showlegend": false,
         "type": "scatter",
         "x": [
          5,
          6
         ],
         "xaxis": "x",
         "y": [
          2.5516918301582336,
          2.848810636997223
         ],
         "yaxis": "y"
        },
        {
         "hovertemplate": "x=%{x}<br>y=%{y}<extra></extra>",
         "line": {
          "color": "#023e8a",
          "width": 3
         },
         "marker": {
          "color": "#023e8a",
          "size": 7
         },
         "mode": "lines+markers",
         "showlegend": false,
         "type": "scatter",
         "x": [
          52,
          53
         ],
         "xaxis": "x",
         "y": [
          12.957196176052094,
          13.35500305891037
         ],
         "yaxis": "y"
        },
        {
         "hovertemplate": "x=%{x}<br>y=%{y}<extra></extra>",
         "line": {
          "color": "#023e8a",
          "width": 3
         },
         "marker": {
          "color": "#023e8a",
          "size": 7
         },
         "mode": "lines+markers",
         "showlegend": false,
         "type": "scatter",
         "x": [
          43,
          44
         ],
         "xaxis": "x",
         "y": [
          12.162167251110077,
          12.564041137695312
         ],
         "yaxis": "y"
        },
        {
         "hovertemplate": "x=%{x}<br>y=%{y}<extra></extra>",
         "line": {
          "color": "#023e8a",
          "width": 3
         },
         "marker": {
          "color": "#023e8a",
          "size": 7
         },
         "mode": "lines+markers",
         "showlegend": false,
         "type": "scatter",
         "x": [
          40,
          41
         ],
         "xaxis": "x",
         "y": [
          11.305393278598785,
          11.696859538555145
         ],
         "yaxis": "y"
        },
        {
         "hovertemplate": "x=%{x}<br>y=%{y}<extra></extra>",
         "line": {
          "color": "#023e8a",
          "width": 3
         },
         "marker": {
          "color": "#023e8a",
          "size": 7
         },
         "mode": "lines+markers",
         "showlegend": false,
         "type": "scatter",
         "x": [
          34,
          35
         ],
         "xaxis": "x",
         "y": [
          11.123317658901215,
          11.353728234767914
         ],
         "yaxis": "y"
        },
        {
         "hovertemplate": "x=%{x}<br>y=%{y}<extra></extra>",
         "line": {
          "color": "#023e8a",
          "width": 3
         },
         "marker": {
          "color": "#023e8a",
          "size": 7
         },
         "mode": "lines+markers",
         "showlegend": false,
         "type": "scatter",
         "x": [
          28,
          29
         ],
         "xaxis": "x",
         "y": [
          10.555830895900726,
          10.920436978340149
         ],
         "yaxis": "y"
        },
        {
         "hovertemplate": "x=%{x}<br>y=%{y}<extra></extra>",
         "line": {
          "color": "#023e8a",
          "width": 3
         },
         "marker": {
          "color": "#023e8a",
          "size": 7
         },
         "mode": "lines+markers",
         "showlegend": false,
         "type": "scatter",
         "x": [
          25,
          26
         ],
         "xaxis": "x",
         "y": [
          9.115675926208496,
          9.978024959564209
         ],
         "yaxis": "y"
        },
        {
         "hovertemplate": "x=%{x}<br>y=%{y}<extra></extra>",
         "line": {
          "color": "#023e8a",
          "width": 3
         },
         "marker": {
          "color": "#023e8a",
          "size": 7
         },
         "mode": "lines+markers",
         "showlegend": false,
         "type": "scatter",
         "x": [
          24,
          25
         ],
         "xaxis": "x",
         "y": [
          8.783569693565369,
          9.115675926208496
         ],
         "yaxis": "y"
        },
        {
         "hovertemplate": "x=%{x}<br>y=%{y}<extra></extra>",
         "line": {
          "color": "#023e8a",
          "width": 3
         },
         "marker": {
          "color": "#023e8a",
          "size": 7
         },
         "mode": "lines+markers",
         "showlegend": false,
         "type": "scatter",
         "x": [
          23,
          24
         ],
         "xaxis": "x",
         "y": [
          8.437602400779724,
          8.783569693565369
         ],
         "yaxis": "y"
        },
        {
         "hovertemplate": "x=%{x}<br>y=%{y}<extra></extra>",
         "line": {
          "color": "#023e8a",
          "width": 3
         },
         "marker": {
          "color": "#023e8a",
          "size": 7
         },
         "mode": "lines+markers",
         "showlegend": false,
         "type": "scatter",
         "x": [
          20,
          21
         ],
         "xaxis": "x",
         "y": [
          6.897179841995239,
          7.169405102729797
         ],
         "yaxis": "y"
        },
        {
         "hovertemplate": "x=%{x}<br>y=%{y}<extra></extra>",
         "line": {
          "color": "#023e8a",
          "width": 3
         },
         "marker": {
          "color": "#023e8a",
          "size": 7
         },
         "mode": "lines+markers",
         "showlegend": false,
         "type": "scatter",
         "x": [
          19,
          20
         ],
         "xaxis": "x",
         "y": [
          6.5421019196510315,
          6.897179841995239
         ],
         "yaxis": "y"
        },
        {
         "hovertemplate": "x=%{x}<br>y=%{y}<extra></extra>",
         "line": {
          "color": "#023e8a",
          "width": 3
         },
         "marker": {
          "color": "#023e8a",
          "size": 7
         },
         "mode": "lines+markers",
         "showlegend": false,
         "type": "scatter",
         "x": [
          16,
          17
         ],
         "xaxis": "x",
         "y": [
          5.8405681848526,
          6.17371940612793
         ],
         "yaxis": "y"
        },
        {
         "hovertemplate": "x=%{x}<br>y=%{y}<extra></extra>",
         "line": {
          "color": "#023e8a",
          "width": 3
         },
         "marker": {
          "color": "#023e8a",
          "size": 7
         },
         "mode": "lines+markers",
         "showlegend": false,
         "type": "scatter",
         "x": [
          15,
          16
         ],
         "xaxis": "x",
         "y": [
          5.255082488059998,
          5.8405681848526
         ],
         "yaxis": "y"
        },
        {
         "hovertemplate": "x=%{x}<br>y=%{y}<extra></extra>",
         "line": {
          "color": "#023e8a",
          "width": 3
         },
         "marker": {
          "color": "#023e8a",
          "size": 7
         },
         "mode": "lines+markers",
         "showlegend": false,
         "type": "scatter",
         "x": [
          12,
          13
         ],
         "xaxis": "x",
         "y": [
          4.417194128036499,
          4.776050508022308
         ],
         "yaxis": "y"
        },
        {
         "hovertemplate": "x=%{x}<br>y=%{y}<extra></extra>",
         "line": {
          "color": "#023e8a",
          "width": 3
         },
         "marker": {
          "color": "#023e8a",
          "size": 7
         },
         "mode": "lines+markers",
         "showlegend": false,
         "type": "scatter",
         "x": [
          11,
          12
         ],
         "xaxis": "x",
         "y": [
          3.85380357503891,
          4.417194128036499
         ],
         "yaxis": "y"
        },
        {
         "hovertemplate": "x=%{x}<br>y=%{y}<extra></extra>",
         "line": {
          "color": "#023e8a",
          "width": 3
         },
         "marker": {
          "color": "#023e8a",
          "size": 7
         },
         "mode": "lines+markers",
         "showlegend": false,
         "type": "scatter",
         "x": [
          8,
          9
         ],
         "xaxis": "x",
         "y": [
          2.9314240217208862,
          3.4837191104888916
         ],
         "yaxis": "y"
        },
        {
         "hovertemplate": "x=%{x}<br>y=%{y}<extra></extra>",
         "line": {
          "color": "#023e8a",
          "width": 3
         },
         "marker": {
          "color": "#023e8a",
          "size": 7
         },
         "mode": "lines+markers",
         "showlegend": false,
         "type": "scatter",
         "x": [
          7,
          8
         ],
         "xaxis": "x",
         "y": [
          2.677396833896637,
          2.9314240217208862
         ],
         "yaxis": "y"
        },
        {
         "hovertemplate": "x=%{x}<br>y=%{y}<extra></extra>",
         "line": {
          "color": "#023e8a",
          "width": 3
         },
         "marker": {
          "color": "#023e8a",
          "size": 7
         },
         "mode": "lines+markers",
         "showlegend": false,
         "type": "scatter",
         "x": [
          4,
          5
         ],
         "xaxis": "x",
         "y": [
          1.871074378490448,
          2.5516918301582336
         ],
         "yaxis": "y"
        },
        {
         "hovertemplate": "x=%{x}<br>y=%{y}<extra></extra>",
         "line": {
          "color": "#023e8a",
          "width": 3
         },
         "marker": {
          "color": "#023e8a",
          "size": 7
         },
         "mode": "lines+markers",
         "showlegend": false,
         "type": "scatter",
         "x": [
          3,
          4
         ],
         "xaxis": "x",
         "y": [
          1.3412423133850098,
          1.871074378490448
         ],
         "yaxis": "y"
        },
        {
         "hovertemplate": "x=%{x}<br>y=%{y}<extra></extra>",
         "line": {
          "color": "#023e8a",
          "width": 3
         },
         "marker": {
          "color": "#023e8a",
          "size": 7
         },
         "mode": "lines+markers",
         "showlegend": false,
         "type": "scatter",
         "x": [
          2,
          3
         ],
         "xaxis": "x",
         "y": [
          0.6015324592590332,
          1.3412423133850098
         ],
         "yaxis": "y"
        },
        {
         "hovertemplate": "x=%{x}<br>y=%{y}<extra></extra>",
         "line": {
          "color": "#023e8a",
          "width": 3
         },
         "marker": {
          "color": "#023e8a",
          "size": 7
         },
         "mode": "lines+markers",
         "showlegend": false,
         "type": "scatter",
         "x": [
          1,
          2
         ],
         "xaxis": "x",
         "y": [
          0,
          0.6015324592590332
         ],
         "yaxis": "y"
        },
        {
         "hovertemplate": "x=%{x}<br>y=%{y}<extra></extra>",
         "line": {
          "color": "#023e8a",
          "width": 3
         },
         "marker": {
          "color": "#023e8a",
          "size": 7
         },
         "mode": "lines+markers",
         "showlegend": false,
         "type": "scatter",
         "x": [
          0,
          1
         ],
         "xaxis": "x",
         "y": [
          0,
          0.29318374395370483
         ],
         "yaxis": "y"
        },
        {
         "hovertemplate": "x=%{x}<br>y=%{y}<extra></extra>",
         "line": {
          "color": "#c1121f",
          "width": 3
         },
         "marker": {
          "color": "#c1121f",
          "size": 7
         },
         "mode": "lines+markers",
         "showlegend": false,
         "type": "scatter",
         "x": [
          64,
          65
         ],
         "xaxis": "x",
         "y": [
          15.474570274353027,
          15.902683973312378
         ],
         "yaxis": "y"
        },
        {
         "hovertemplate": "x=%{x}<br>y=%{y}<extra></extra>",
         "line": {
          "color": "#c1121f",
          "width": 3
         },
         "marker": {
          "color": "#c1121f",
          "size": 7
         },
         "mode": "lines+markers",
         "showlegend": false,
         "type": "scatter",
         "x": [
          61,
          62
         ],
         "xaxis": "x",
         "y": [
          14.914311408996582,
          15.474570274353027
         ],
         "yaxis": "y"
        },
        {
         "hovertemplate": "x=%{x}<br>y=%{y}<extra></extra>",
         "line": {
          "color": "#c1121f",
          "width": 3
         },
         "marker": {
          "color": "#c1121f",
          "size": 7
         },
         "mode": "lines+markers",
         "showlegend": false,
         "type": "scatter",
         "x": [
          59,
          60
         ],
         "xaxis": "x",
         "y": [
          14.378498792648315,
          14.914311408996582
         ],
         "yaxis": "y"
        },
        {
         "hovertemplate": "x=%{x}<br>y=%{y}<extra></extra>",
         "line": {
          "color": "#c1121f",
          "width": 3
         },
         "marker": {
          "color": "#c1121f",
          "size": 7
         },
         "mode": "lines+markers",
         "showlegend": false,
         "type": "scatter",
         "x": [
          57,
          58
         ],
         "xaxis": "x",
         "y": [
          13.905926823616028,
          14.378498792648315
         ],
         "yaxis": "y"
        },
        {
         "hovertemplate": "x=%{x}<br>y=%{y}<extra></extra>",
         "line": {
          "color": "#c1121f",
          "width": 3
         },
         "marker": {
          "color": "#c1121f",
          "size": 7
         },
         "mode": "lines+markers",
         "showlegend": false,
         "type": "scatter",
         "x": [
          55,
          56
         ],
         "xaxis": "x",
         "y": [
          13.35500305891037,
          13.905926823616028
         ],
         "yaxis": "y"
        },
        {
         "hovertemplate": "x=%{x}<br>y=%{y}<extra></extra>",
         "line": {
          "color": "#c1121f",
          "width": 3
         },
         "marker": {
          "color": "#c1121f",
          "size": 7
         },
         "mode": "lines+markers",
         "showlegend": false,
         "type": "scatter",
         "x": [
          50,
          51
         ],
         "xaxis": "x",
         "y": [
          12.479463338851929,
          12.957196176052094
         ],
         "yaxis": "y"
        },
        {
         "hovertemplate": "x=%{x}<br>y=%{y}<extra></extra>",
         "line": {
          "color": "#c1121f",
          "width": 3
         },
         "marker": {
          "color": "#c1121f",
          "size": 7
         },
         "mode": "lines+markers",
         "showlegend": false,
         "type": "scatter",
         "x": [
          42,
          43
         ],
         "xaxis": "x",
         "y": [
          11.696859538555145,
          12.162167251110077
         ],
         "yaxis": "y"
        },
        {
         "hovertemplate": "x=%{x}<br>y=%{y}<extra></extra>",
         "line": {
          "color": "#c1121f",
          "width": 3
         },
         "marker": {
          "color": "#c1121f",
          "size": 7
         },
         "mode": "lines+markers",
         "showlegend": false,
         "type": "scatter",
         "x": [
          37,
          38
         ],
         "xaxis": "x",
         "y": [
          11.353728234767914,
          11.721303462982178
         ],
         "yaxis": "y"
        },
        {
         "hovertemplate": "x=%{x}<br>y=%{y}<extra></extra>",
         "line": {
          "color": "#c1121f",
          "width": 3
         },
         "marker": {
          "color": "#c1121f",
          "size": 7
         },
         "mode": "lines+markers",
         "showlegend": false,
         "type": "scatter",
         "x": [
          33,
          34
         ],
         "xaxis": "x",
         "y": [
          11.16387814283371,
          11.123317658901215
         ],
         "yaxis": "y"
        },
        {
         "hovertemplate": "x=%{x}<br>y=%{y}<extra></extra>",
         "line": {
          "color": "#c1121f",
          "width": 3
         },
         "marker": {
          "color": "#c1121f",
          "size": 7
         },
         "mode": "lines+markers",
         "showlegend": false,
         "type": "scatter",
         "x": [
          30,
          31
         ],
         "xaxis": "x",
         "y": [
          10.920436978340149,
          11.16387814283371
         ],
         "yaxis": "y"
        },
        {
         "hovertemplate": "x=%{x}<br>y=%{y}<extra></extra>",
         "line": {
          "color": "#c1121f",
          "width": 3
         },
         "marker": {
          "color": "#c1121f",
          "size": 7
         },
         "mode": "lines+markers",
         "showlegend": false,
         "type": "scatter",
         "x": [
          27,
          28
         ],
         "xaxis": "x",
         "y": [
          9.978024959564209,
          10.555830895900726
         ],
         "yaxis": "y"
        },
        {
         "hovertemplate": "x=%{x}<br>y=%{y}<extra></extra>",
         "line": {
          "color": "#c1121f",
          "width": 3
         },
         "marker": {
          "color": "#c1121f",
          "size": 7
         },
         "mode": "lines+markers",
         "showlegend": false,
         "type": "scatter",
         "x": [
          22,
          23
         ],
         "xaxis": "x",
         "y": [
          7.169405102729797,
          8.437602400779724
         ],
         "yaxis": "y"
        },
        {
         "hovertemplate": "x=%{x}<br>y=%{y}<extra></extra>",
         "line": {
          "color": "#c1121f",
          "width": 3
         },
         "marker": {
          "color": "#c1121f",
          "size": 7
         },
         "mode": "lines+markers",
         "showlegend": false,
         "type": "scatter",
         "x": [
          18,
          19
         ],
         "xaxis": "x",
         "y": [
          6.17371940612793,
          6.5421019196510315
         ],
         "yaxis": "y"
        },
        {
         "hovertemplate": "x=%{x}<br>y=%{y}<extra></extra>",
         "line": {
          "color": "#c1121f",
          "width": 3
         },
         "marker": {
          "color": "#c1121f",
          "size": 7
         },
         "mode": "lines+markers",
         "showlegend": false,
         "type": "scatter",
         "x": [
          14,
          15
         ],
         "xaxis": "x",
         "y": [
          4.776050508022308,
          5.255082488059998
         ],
         "yaxis": "y"
        },
        {
         "hovertemplate": "x=%{x}<br>y=%{y}<extra></extra>",
         "line": {
          "color": "#c1121f",
          "width": 3
         },
         "marker": {
          "color": "#c1121f",
          "size": 7
         },
         "mode": "lines+markers",
         "showlegend": false,
         "type": "scatter",
         "x": [
          10,
          11
         ],
         "xaxis": "x",
         "y": [
          3.4837191104888916,
          3.85380357503891
         ],
         "yaxis": "y"
        },
        {
         "hovertemplate": "x=%{x}<br>y=%{y}<extra></extra>",
         "line": {
          "color": "#c1121f",
          "width": 3
         },
         "marker": {
          "color": "#c1121f",
          "size": 7
         },
         "mode": "lines+markers",
         "showlegend": false,
         "type": "scatter",
         "x": [
          6,
          7
         ],
         "xaxis": "x",
         "y": [
          2.5516918301582336,
          2.677396833896637
         ],
         "yaxis": "y"
        },
        {
         "hovertemplate": "x=%{x}<br>y=%{y}<extra></extra>",
         "line": {
          "color": "#9d4edd",
          "width": 3
         },
         "marker": {
          "color": "#9d4edd",
          "size": 7
         },
         "mode": "lines+markers",
         "showlegend": false,
         "type": "scatter",
         "x": [
          51,
          52
         ],
         "xaxis": "x",
         "y": [
          12.957196176052094,
          12.957196176052094
         ],
         "yaxis": "y"
        },
        {
         "hovertemplate": "x=%{x}<br>y=%{y}<extra></extra>",
         "line": {
          "color": "#9d4edd",
          "width": 3
         },
         "marker": {
          "color": "#9d4edd",
          "size": 7
         },
         "mode": "lines+markers",
         "showlegend": false,
         "type": "scatter",
         "x": [
          47,
          48
         ],
         "xaxis": "x",
         "y": [
          12.564041137695312,
          12.479463338851929
         ],
         "yaxis": "y"
        },
        {
         "hovertemplate": "x=%{x}<br>y=%{y}<extra></extra>",
         "line": {
          "color": "#9d4edd",
          "width": 3
         },
         "marker": {
          "color": "#9d4edd",
          "size": 7
         },
         "mode": "lines+markers",
         "showlegend": false,
         "type": "scatter",
         "x": [
          39,
          40
         ],
         "xaxis": "x",
         "y": [
          11.304909706115723,
          11.305393278598785
         ],
         "yaxis": "y"
        },
        {
         "hovertemplate": "x=%{x}<br>y=%{y}<extra></extra>",
         "line": {
          "color": "#9d4edd",
          "width": 3
         },
         "marker": {
          "color": "#9d4edd",
          "size": 7
         },
         "mode": "lines+markers",
         "showlegend": false,
         "type": "scatter",
         "x": [
          38,
          39
         ],
         "xaxis": "x",
         "y": [
          11.721303462982178,
          11.304909706115723
         ],
         "yaxis": "y"
        },
        {
         "line": {
          "color": "#64B5F6",
          "width": 2
         },
         "mode": "lines",
         "name": "human_insert_backstage",
         "showlegend": true,
         "type": "scatter",
         "x": [
          null
         ],
         "xaxis": "x",
         "y": [
          null
         ],
         "yaxis": "y"
        },
        {
         "line": {
          "color": "#ff8fab",
          "width": 2
         },
         "mode": "lines",
         "name": "ai_suggest_backstage",
         "showlegend": true,
         "type": "scatter",
         "x": [
          null
         ],
         "xaxis": "x",
         "y": [
          null
         ],
         "yaxis": "y"
        },
        {
         "line": {
          "color": "#023e8a",
          "width": 2
         },
         "mode": "lines",
         "name": "human_insert_frontstage",
         "showlegend": true,
         "type": "scatter",
         "x": [
          null
         ],
         "xaxis": "x",
         "y": [
          null
         ],
         "yaxis": "y"
        },
        {
         "line": {
          "color": "#c1121f",
          "width": 2
         },
         "mode": "lines",
         "name": "ai_insert_moved_to_frontstage",
         "showlegend": true,
         "type": "scatter",
         "x": [
          null
         ],
         "xaxis": "x",
         "y": [
          null
         ],
         "yaxis": "y"
        },
        {
         "line": {
          "color": "#9d4edd",
          "width": 2
         },
         "mode": "lines",
         "name": "human_delete_frontstage",
         "showlegend": true,
         "type": "scatter",
         "x": [
          null
         ],
         "xaxis": "x",
         "y": [
          null
         ],
         "yaxis": "y"
        },
        {
         "line": {
          "color": "#5a189a",
          "width": 2
         },
         "mode": "lines",
         "name": "human_insert_edit_frontstage",
         "showlegend": true,
         "type": "scatter",
         "x": [
          null
         ],
         "xaxis": "x",
         "y": [
          null
         ],
         "yaxis": "y"
        }
       ],
       "layout": {
        "annotations": [
         {
          "font": {
           "size": 16
          },
          "showarrow": false,
          "text": "Session: legislation_corporate_5",
          "x": 0.5,
          "xanchor": "center",
          "xref": "paper",
          "y": 1,
          "yanchor": "bottom",
          "yref": "paper"
         }
        ],
        "height": 500,
        "legend": {
         "title": {
          "font": {
           "color": "rgba(0, 0, 0, 0)"
          }
         }
        },
        "plot_bgcolor": "white",
        "showlegend": true,
        "template": {
         "data": {
          "bar": [
           {
            "error_x": {
             "color": "#2a3f5f"
            },
            "error_y": {
             "color": "#2a3f5f"
            },
            "marker": {
             "line": {
              "color": "#E5ECF6",
              "width": 0.5
             },
             "pattern": {
              "fillmode": "overlay",
              "size": 10,
              "solidity": 0.2
             }
            },
            "type": "bar"
           }
          ],
          "barpolar": [
           {
            "marker": {
             "line": {
              "color": "#E5ECF6",
              "width": 0.5
             },
             "pattern": {
              "fillmode": "overlay",
              "size": 10,
              "solidity": 0.2
             }
            },
            "type": "barpolar"
           }
          ],
          "carpet": [
           {
            "aaxis": {
             "endlinecolor": "#2a3f5f",
             "gridcolor": "white",
             "linecolor": "white",
             "minorgridcolor": "white",
             "startlinecolor": "#2a3f5f"
            },
            "baxis": {
             "endlinecolor": "#2a3f5f",
             "gridcolor": "white",
             "linecolor": "white",
             "minorgridcolor": "white",
             "startlinecolor": "#2a3f5f"
            },
            "type": "carpet"
           }
          ],
          "choropleth": [
           {
            "colorbar": {
             "outlinewidth": 0,
             "ticks": ""
            },
            "type": "choropleth"
           }
          ],
          "contour": [
           {
            "colorbar": {
             "outlinewidth": 0,
             "ticks": ""
            },
            "colorscale": [
             [
              0,
              "#0d0887"
             ],
             [
              0.1111111111111111,
              "#46039f"
             ],
             [
              0.2222222222222222,
              "#7201a8"
             ],
             [
              0.3333333333333333,
              "#9c179e"
             ],
             [
              0.4444444444444444,
              "#bd3786"
             ],
             [
              0.5555555555555556,
              "#d8576b"
             ],
             [
              0.6666666666666666,
              "#ed7953"
             ],
             [
              0.7777777777777778,
              "#fb9f3a"
             ],
             [
              0.8888888888888888,
              "#fdca26"
             ],
             [
              1,
              "#f0f921"
             ]
            ],
            "type": "contour"
           }
          ],
          "contourcarpet": [
           {
            "colorbar": {
             "outlinewidth": 0,
             "ticks": ""
            },
            "type": "contourcarpet"
           }
          ],
          "heatmap": [
           {
            "colorbar": {
             "outlinewidth": 0,
             "ticks": ""
            },
            "colorscale": [
             [
              0,
              "#0d0887"
             ],
             [
              0.1111111111111111,
              "#46039f"
             ],
             [
              0.2222222222222222,
              "#7201a8"
             ],
             [
              0.3333333333333333,
              "#9c179e"
             ],
             [
              0.4444444444444444,
              "#bd3786"
             ],
             [
              0.5555555555555556,
              "#d8576b"
             ],
             [
              0.6666666666666666,
              "#ed7953"
             ],
             [
              0.7777777777777778,
              "#fb9f3a"
             ],
             [
              0.8888888888888888,
              "#fdca26"
             ],
             [
              1,
              "#f0f921"
             ]
            ],
            "type": "heatmap"
           }
          ],
          "histogram": [
           {
            "marker": {
             "pattern": {
              "fillmode": "overlay",
              "size": 10,
              "solidity": 0.2
             }
            },
            "type": "histogram"
           }
          ],
          "histogram2d": [
           {
            "colorbar": {
             "outlinewidth": 0,
             "ticks": ""
            },
            "colorscale": [
             [
              0,
              "#0d0887"
             ],
             [
              0.1111111111111111,
              "#46039f"
             ],
             [
              0.2222222222222222,
              "#7201a8"
             ],
             [
              0.3333333333333333,
              "#9c179e"
             ],
             [
              0.4444444444444444,
              "#bd3786"
             ],
             [
              0.5555555555555556,
              "#d8576b"
             ],
             [
              0.6666666666666666,
              "#ed7953"
             ],
             [
              0.7777777777777778,
              "#fb9f3a"
             ],
             [
              0.8888888888888888,
              "#fdca26"
             ],
             [
              1,
              "#f0f921"
             ]
            ],
            "type": "histogram2d"
           }
          ],
          "histogram2dcontour": [
           {
            "colorbar": {
             "outlinewidth": 0,
             "ticks": ""
            },
            "colorscale": [
             [
              0,
              "#0d0887"
             ],
             [
              0.1111111111111111,
              "#46039f"
             ],
             [
              0.2222222222222222,
              "#7201a8"
             ],
             [
              0.3333333333333333,
              "#9c179e"
             ],
             [
              0.4444444444444444,
              "#bd3786"
             ],
             [
              0.5555555555555556,
              "#d8576b"
             ],
             [
              0.6666666666666666,
              "#ed7953"
             ],
             [
              0.7777777777777778,
              "#fb9f3a"
             ],
             [
              0.8888888888888888,
              "#fdca26"
             ],
             [
              1,
              "#f0f921"
             ]
            ],
            "type": "histogram2dcontour"
           }
          ],
          "mesh3d": [
           {
            "colorbar": {
             "outlinewidth": 0,
             "ticks": ""
            },
            "type": "mesh3d"
           }
          ],
          "parcoords": [
           {
            "line": {
             "colorbar": {
              "outlinewidth": 0,
              "ticks": ""
             }
            },
            "type": "parcoords"
           }
          ],
          "pie": [
           {
            "automargin": true,
            "type": "pie"
           }
          ],
          "scatter": [
           {
            "fillpattern": {
             "fillmode": "overlay",
             "size": 10,
             "solidity": 0.2
            },
            "type": "scatter"
           }
          ],
          "scatter3d": [
           {
            "line": {
             "colorbar": {
              "outlinewidth": 0,
              "ticks": ""
             }
            },
            "marker": {
             "colorbar": {
              "outlinewidth": 0,
              "ticks": ""
             }
            },
            "type": "scatter3d"
           }
          ],
          "scattercarpet": [
           {
            "marker": {
             "colorbar": {
              "outlinewidth": 0,
              "ticks": ""
             }
            },
            "type": "scattercarpet"
           }
          ],
          "scattergeo": [
           {
            "marker": {
             "colorbar": {
              "outlinewidth": 0,
              "ticks": ""
             }
            },
            "type": "scattergeo"
           }
          ],
          "scattergl": [
           {
            "marker": {
             "colorbar": {
              "outlinewidth": 0,
              "ticks": ""
             }
            },
            "type": "scattergl"
           }
          ],
          "scattermap": [
           {
            "marker": {
             "colorbar": {
              "outlinewidth": 0,
              "ticks": ""
             }
            },
            "type": "scattermap"
           }
          ],
          "scattermapbox": [
           {
            "marker": {
             "colorbar": {
              "outlinewidth": 0,
              "ticks": ""
             }
            },
            "type": "scattermapbox"
           }
          ],
          "scatterpolar": [
           {
            "marker": {
             "colorbar": {
              "outlinewidth": 0,
              "ticks": ""
             }
            },
            "type": "scatterpolar"
           }
          ],
          "scatterpolargl": [
           {
            "marker": {
             "colorbar": {
              "outlinewidth": 0,
              "ticks": ""
             }
            },
            "type": "scatterpolargl"
           }
          ],
          "scatterternary": [
           {
            "marker": {
             "colorbar": {
              "outlinewidth": 0,
              "ticks": ""
             }
            },
            "type": "scatterternary"
           }
          ],
          "surface": [
           {
            "colorbar": {
             "outlinewidth": 0,
             "ticks": ""
            },
            "colorscale": [
             [
              0,
              "#0d0887"
             ],
             [
              0.1111111111111111,
              "#46039f"
             ],
             [
              0.2222222222222222,
              "#7201a8"
             ],
             [
              0.3333333333333333,
              "#9c179e"
             ],
             [
              0.4444444444444444,
              "#bd3786"
             ],
             [
              0.5555555555555556,
              "#d8576b"
             ],
             [
              0.6666666666666666,
              "#ed7953"
             ],
             [
              0.7777777777777778,
              "#fb9f3a"
             ],
             [
              0.8888888888888888,
              "#fdca26"
             ],
             [
              1,
              "#f0f921"
             ]
            ],
            "type": "surface"
           }
          ],
          "table": [
           {
            "cells": {
             "fill": {
              "color": "#EBF0F8"
             },
             "line": {
              "color": "white"
             }
            },
            "header": {
             "fill": {
              "color": "#C8D4E3"
             },
             "line": {
              "color": "white"
             }
            },
            "type": "table"
           }
          ]
         },
         "layout": {
          "annotationdefaults": {
           "arrowcolor": "#2a3f5f",
           "arrowhead": 0,
           "arrowwidth": 1
          },
          "autotypenumbers": "strict",
          "coloraxis": {
           "colorbar": {
            "outlinewidth": 0,
            "ticks": ""
           }
          },
          "colorscale": {
           "diverging": [
            [
             0,
             "#8e0152"
            ],
            [
             0.1,
             "#c51b7d"
            ],
            [
             0.2,
             "#de77ae"
            ],
            [
             0.3,
             "#f1b6da"
            ],
            [
             0.4,
             "#fde0ef"
            ],
            [
             0.5,
             "#f7f7f7"
            ],
            [
             0.6,
             "#e6f5d0"
            ],
            [
             0.7,
             "#b8e186"
            ],
            [
             0.8,
             "#7fbc41"
            ],
            [
             0.9,
             "#4d9221"
            ],
            [
             1,
             "#276419"
            ]
           ],
           "sequential": [
            [
             0,
             "#0d0887"
            ],
            [
             0.1111111111111111,
             "#46039f"
            ],
            [
             0.2222222222222222,
             "#7201a8"
            ],
            [
             0.3333333333333333,
             "#9c179e"
            ],
            [
             0.4444444444444444,
             "#bd3786"
            ],
            [
             0.5555555555555556,
             "#d8576b"
            ],
            [
             0.6666666666666666,
             "#ed7953"
            ],
            [
             0.7777777777777778,
             "#fb9f3a"
            ],
            [
             0.8888888888888888,
             "#fdca26"
            ],
            [
             1,
             "#f0f921"
            ]
           ],
           "sequentialminus": [
            [
             0,
             "#0d0887"
            ],
            [
             0.1111111111111111,
             "#46039f"
            ],
            [
             0.2222222222222222,
             "#7201a8"
            ],
            [
             0.3333333333333333,
             "#9c179e"
            ],
            [
             0.4444444444444444,
             "#bd3786"
            ],
            [
             0.5555555555555556,
             "#d8576b"
            ],
            [
             0.6666666666666666,
             "#ed7953"
            ],
            [
             0.7777777777777778,
             "#fb9f3a"
            ],
            [
             0.8888888888888888,
             "#fdca26"
            ],
            [
             1,
             "#f0f921"
            ]
           ]
          },
          "colorway": [
           "#636efa",
           "#EF553B",
           "#00cc96",
           "#ab63fa",
           "#FFA15A",
           "#19d3f3",
           "#FF6692",
           "#B6E880",
           "#FF97FF",
           "#FECB52"
          ],
          "font": {
           "color": "#2a3f5f"
          },
          "geo": {
           "bgcolor": "white",
           "lakecolor": "white",
           "landcolor": "#E5ECF6",
           "showlakes": true,
           "showland": true,
           "subunitcolor": "white"
          },
          "hoverlabel": {
           "align": "left"
          },
          "hovermode": "closest",
          "mapbox": {
           "style": "light"
          },
          "paper_bgcolor": "white",
          "plot_bgcolor": "#E5ECF6",
          "polar": {
           "angularaxis": {
            "gridcolor": "white",
            "linecolor": "white",
            "ticks": ""
           },
           "bgcolor": "#E5ECF6",
           "radialaxis": {
            "gridcolor": "white",
            "linecolor": "white",
            "ticks": ""
           }
          },
          "scene": {
           "xaxis": {
            "backgroundcolor": "#E5ECF6",
            "gridcolor": "white",
            "gridwidth": 2,
            "linecolor": "white",
            "showbackground": true,
            "ticks": "",
            "zerolinecolor": "white"
           },
           "yaxis": {
            "backgroundcolor": "#E5ECF6",
            "gridcolor": "white",
            "gridwidth": 2,
            "linecolor": "white",
            "showbackground": true,
            "ticks": "",
            "zerolinecolor": "white"
           },
           "zaxis": {
            "backgroundcolor": "#E5ECF6",
            "gridcolor": "white",
            "gridwidth": 2,
            "linecolor": "white",
            "showbackground": true,
            "ticks": "",
            "zerolinecolor": "white"
           }
          },
          "shapedefaults": {
           "line": {
            "color": "#2a3f5f"
           }
          },
          "ternary": {
           "aaxis": {
            "gridcolor": "white",
            "linecolor": "white",
            "ticks": ""
           },
           "baxis": {
            "gridcolor": "white",
            "linecolor": "white",
            "ticks": ""
           },
           "bgcolor": "#E5ECF6",
           "caxis": {
            "gridcolor": "white",
            "linecolor": "white",
            "ticks": ""
           }
          },
          "title": {
           "x": 0.05
          },
          "xaxis": {
           "automargin": true,
           "gridcolor": "white",
           "linecolor": "white",
           "ticks": "",
           "title": {
            "standoff": 15
           },
           "zerolinecolor": "white",
           "zerolinewidth": 2
          },
          "yaxis": {
           "automargin": true,
           "gridcolor": "white",
           "linecolor": "white",
           "ticks": "",
           "title": {
            "standoff": 15
           },
           "zerolinecolor": "white",
           "zerolinewidth": 2
          }
         }
        },
        "title": {
         "text": "Semantic Expansion over Writing Sessions<br><span style=\"font-size: 12px;\">*Measuring how well humans are learning while writing with GenAI</span>"
        },
        "width": 1800,
        "xaxis": {
         "anchor": "y",
         "domain": [
          0,
          1
         ],
         "gridcolor": "white",
         "linecolor": "black",
         "mirror": false,
         "range": [
          -1,
          66
         ],
         "showline": true,
         "ticks": "outside",
         "title": {
          "text": "Progress into the writing session"
         }
        },
        "yaxis": {
         "anchor": "x",
         "domain": [
          0,
          1
         ],
         "gridcolor": "white",
         "linecolor": "black",
         "mirror": false,
         "showline": true,
         "ticks": "outside",
         "title": {
          "text": "Scores"
         }
        }
       }
      }
     },
     "metadata": {},
     "output_type": "display_data"
    },
    {
     "name": "stdout",
     "output_type": "stream",
     "text": [
      "legislation_corporate_6\n"
     ]
    },
    {
     "data": {
      "application/vnd.plotly.v1+json": {
       "config": {
        "plotlyServerURL": "https://plot.ly"
       },
       "data": [
        {
         "hovertemplate": "x=%{x}<br>y=%{y}<extra></extra>",
         "line": {
          "color": "#64B5F6",
          "width": 3
         },
         "marker": {
          "color": "#64B5F6",
          "size": 7
         },
         "mode": "lines+markers",
         "showlegend": false,
         "type": "scatter",
         "x": [
          110,
          111
         ],
         "xaxis": "x",
         "y": [
          23.711113274097443,
          24.53100997209549
         ],
         "yaxis": "y"
        },
        {
         "hovertemplate": "x=%{x}<br>y=%{y}<extra></extra>",
         "line": {
          "color": "#64B5F6",
          "width": 3
         },
         "marker": {
          "color": "#64B5F6",
          "size": 7
         },
         "mode": "lines+markers",
         "showlegend": false,
         "type": "scatter",
         "x": [
          107,
          108
         ],
         "xaxis": "x",
         "y": [
          23.555715084075928,
          23.888142704963684
         ],
         "yaxis": "y"
        },
        {
         "hovertemplate": "x=%{x}<br>y=%{y}<extra></extra>",
         "line": {
          "color": "#64B5F6",
          "width": 3
         },
         "marker": {
          "color": "#64B5F6",
          "size": 7
         },
         "mode": "lines+markers",
         "showlegend": false,
         "type": "scatter",
         "x": [
          104,
          105
         ],
         "xaxis": "x",
         "y": [
          23.1079483628273,
          23.627180099487305
         ],
         "yaxis": "y"
        },
        {
         "hovertemplate": "x=%{x}<br>y=%{y}<extra></extra>",
         "line": {
          "color": "#64B5F6",
          "width": 3
         },
         "marker": {
          "color": "#64B5F6",
          "size": 7
         },
         "mode": "lines+markers",
         "showlegend": false,
         "type": "scatter",
         "x": [
          69,
          70
         ],
         "xaxis": "x",
         "y": [
          14.724721908569336,
          14.522637665271759
         ],
         "yaxis": "y"
        },
        {
         "hovertemplate": "x=%{x}<br>y=%{y}<extra></extra>",
         "line": {
          "color": "#64B5F6",
          "width": 3
         },
         "marker": {
          "color": "#64B5F6",
          "size": 7
         },
         "mode": "lines+markers",
         "showlegend": false,
         "type": "scatter",
         "x": [
          64,
          65
         ],
         "xaxis": "x",
         "y": [
          13.124425172805786,
          13.44674688577652
         ],
         "yaxis": "y"
        },
        {
         "hovertemplate": "x=%{x}<br>y=%{y}<extra></extra>",
         "line": {
          "color": "#64B5F6",
          "width": 3
         },
         "marker": {
          "color": "#64B5F6",
          "size": 7
         },
         "mode": "lines+markers",
         "showlegend": false,
         "type": "scatter",
         "x": [
          57,
          58
         ],
         "xaxis": "x",
         "y": [
          10.312160849571228,
          10.997535288333893
         ],
         "yaxis": "y"
        },
        {
         "hovertemplate": "x=%{x}<br>y=%{y}<extra></extra>",
         "line": {
          "color": "#64B5F6",
          "width": 3
         },
         "marker": {
          "color": "#64B5F6",
          "size": 7
         },
         "mode": "lines+markers",
         "showlegend": false,
         "type": "scatter",
         "x": [
          53,
          54
         ],
         "xaxis": "x",
         "y": [
          9.778870928287507,
          10.433216083049775
         ],
         "yaxis": "y"
        },
        {
         "hovertemplate": "x=%{x}<br>y=%{y}<extra></extra>",
         "line": {
          "color": "#64B5F6",
          "width": 3
         },
         "marker": {
          "color": "#64B5F6",
          "size": 7
         },
         "mode": "lines+markers",
         "showlegend": false,
         "type": "scatter",
         "x": [
          51,
          52
         ],
         "xaxis": "x",
         "y": [
          9.19747543334961,
          9.483694672584534
         ],
         "yaxis": "y"
        },
        {
         "hovertemplate": "x=%{x}<br>y=%{y}<extra></extra>",
         "line": {
          "color": "#64B5F6",
          "width": 3
         },
         "marker": {
          "color": "#64B5F6",
          "size": 7
         },
         "mode": "lines+markers",
         "showlegend": false,
         "type": "scatter",
         "x": [
          48,
          49
         ],
         "xaxis": "x",
         "y": [
          8.691679239273071,
          9.2113538980484
         ],
         "yaxis": "y"
        },
        {
         "hovertemplate": "x=%{x}<br>y=%{y}<extra></extra>",
         "line": {
          "color": "#64B5F6",
          "width": 3
         },
         "marker": {
          "color": "#64B5F6",
          "size": 7
         },
         "mode": "lines+markers",
         "showlegend": false,
         "type": "scatter",
         "x": [
          43,
          44
         ],
         "xaxis": "x",
         "y": [
          7.407683908939362,
          7.629403471946716
         ],
         "yaxis": "y"
        },
        {
         "hovertemplate": "x=%{x}<br>y=%{y}<extra></extra>",
         "line": {
          "color": "#64B5F6",
          "width": 3
         },
         "marker": {
          "color": "#64B5F6",
          "size": 7
         },
         "mode": "lines+markers",
         "showlegend": false,
         "type": "scatter",
         "x": [
          40,
          41
         ],
         "xaxis": "x",
         "y": [
          7.521506357192993,
          7.944894301891327
         ],
         "yaxis": "y"
        },
        {
         "hovertemplate": "x=%{x}<br>y=%{y}<extra></extra>",
         "line": {
          "color": "#64B5F6",
          "width": 3
         },
         "marker": {
          "color": "#64B5F6",
          "size": 7
         },
         "mode": "lines+markers",
         "showlegend": false,
         "type": "scatter",
         "x": [
          38,
          39
         ],
         "xaxis": "x",
         "y": [
          6.626713931560516,
          6.972846508026123
         ],
         "yaxis": "y"
        },
        {
         "hovertemplate": "x=%{x}<br>y=%{y}<extra></extra>",
         "line": {
          "color": "#64B5F6",
          "width": 3
         },
         "marker": {
          "color": "#64B5F6",
          "size": 7
         },
         "mode": "lines+markers",
         "showlegend": false,
         "type": "scatter",
         "x": [
          35,
          36
         ],
         "xaxis": "x",
         "y": [
          6.324486553668976,
          6.924877464771271
         ],
         "yaxis": "y"
        },
        {
         "hovertemplate": "x=%{x}<br>y=%{y}<extra></extra>",
         "line": {
          "color": "#64B5F6",
          "width": 3
         },
         "marker": {
          "color": "#64B5F6",
          "size": 7
         },
         "mode": "lines+markers",
         "showlegend": false,
         "type": "scatter",
         "x": [
          29,
          30
         ],
         "xaxis": "x",
         "y": [
          4.286073160171509,
          5.228603076934815
         ],
         "yaxis": "y"
        },
        {
         "hovertemplate": "x=%{x}<br>y=%{y}<extra></extra>",
         "line": {
          "color": "#64B5F6",
          "width": 3
         },
         "marker": {
          "color": "#64B5F6",
          "size": 7
         },
         "mode": "lines+markers",
         "showlegend": false,
         "type": "scatter",
         "x": [
          27,
          28
         ],
         "xaxis": "x",
         "y": [
          3.571068048477173,
          3.9393573999404907
         ],
         "yaxis": "y"
        },
        {
         "hovertemplate": "x=%{x}<br>y=%{y}<extra></extra>",
         "line": {
          "color": "#64B5F6",
          "width": 3
         },
         "marker": {
          "color": "#64B5F6",
          "size": 7
         },
         "mode": "lines+markers",
         "showlegend": false,
         "type": "scatter",
         "x": [
          23,
          24
         ],
         "xaxis": "x",
         "y": [
          2.468996286392212,
          2.848319947719574
         ],
         "yaxis": "y"
        },
        {
         "hovertemplate": "x=%{x}<br>y=%{y}<extra></extra>",
         "line": {
          "color": "#64B5F6",
          "width": 3
         },
         "marker": {
          "color": "#64B5F6",
          "size": 7
         },
         "mode": "lines+markers",
         "showlegend": false,
         "type": "scatter",
         "x": [
          20,
          21
         ],
         "xaxis": "x",
         "y": [
          2.1971588730812073,
          3.1012505888938904
         ],
         "yaxis": "y"
        },
        {
         "hovertemplate": "x=%{x}<br>y=%{y}<extra></extra>",
         "line": {
          "color": "#64B5F6",
          "width": 3
         },
         "marker": {
          "color": "#64B5F6",
          "size": 7
         },
         "mode": "lines+markers",
         "showlegend": false,
         "type": "scatter",
         "x": [
          17,
          18
         ],
         "xaxis": "x",
         "y": [
          3.4436482429504394,
          3.932200515270233
         ],
         "yaxis": "y"
        },
        {
         "hovertemplate": "x=%{x}<br>y=%{y}<extra></extra>",
         "line": {
          "color": "#64B5F6",
          "width": 3
         },
         "marker": {
          "color": "#64B5F6",
          "size": 7
         },
         "mode": "lines+markers",
         "showlegend": false,
         "type": "scatter",
         "x": [
          15,
          16
         ],
         "xaxis": "x",
         "y": [
          2.7397093176841736,
          3.1179283261299133
         ],
         "yaxis": "y"
        },
        {
         "hovertemplate": "x=%{x}<br>y=%{y}<extra></extra>",
         "line": {
          "color": "#64B5F6",
          "width": 3
         },
         "marker": {
          "color": "#64B5F6",
          "size": 7
         },
         "mode": "lines+markers",
         "showlegend": false,
         "type": "scatter",
         "x": [
          13,
          14
         ],
         "xaxis": "x",
         "y": [
          1.6776911616325378,
          2.120026469230652
         ],
         "yaxis": "y"
        },
        {
         "hovertemplate": "x=%{x}<br>y=%{y}<extra></extra>",
         "line": {
          "color": "#64B5F6",
          "width": 3
         },
         "marker": {
          "color": "#64B5F6",
          "size": 7
         },
         "mode": "lines+markers",
         "showlegend": false,
         "type": "scatter",
         "x": [
          10,
          11
         ],
         "xaxis": "x",
         "y": [
          1.444016456604004,
          1.9092164635658264
         ],
         "yaxis": "y"
        },
        {
         "hovertemplate": "x=%{x}<br>y=%{y}<extra></extra>",
         "line": {
          "color": "#64B5F6",
          "width": 3
         },
         "marker": {
          "color": "#64B5F6",
          "size": 7
         },
         "mode": "lines+markers",
         "showlegend": false,
         "type": "scatter",
         "x": [
          6,
          7
         ],
         "xaxis": "x",
         "y": [
          1.4636755287647247,
          2.8873347342014313
         ],
         "yaxis": "y"
        },
        {
         "hovertemplate": "x=%{x}<br>y=%{y}<extra></extra>",
         "line": {
          "color": "#64B5F6",
          "width": 3
         },
         "marker": {
          "color": "#64B5F6",
          "size": 7
         },
         "mode": "lines+markers",
         "showlegend": false,
         "type": "scatter",
         "x": [
          3,
          4
         ],
         "xaxis": "x",
         "y": [
          0.29818272590637207,
          1.19219172000885
         ],
         "yaxis": "y"
        },
        {
         "hovertemplate": "x=%{x}<br>y=%{y}<extra></extra>",
         "line": {
          "color": "#64B5F6",
          "width": 3
         },
         "marker": {
          "color": "#64B5F6",
          "size": 7
         },
         "mode": "lines+markers",
         "showlegend": false,
         "type": "scatter",
         "x": [
          0,
          1
         ],
         "xaxis": "x",
         "y": [
          0,
          0.3124276399612427
         ],
         "yaxis": "y"
        },
        {
         "hovertemplate": "x=%{x}<br>y=%{y}<extra></extra>",
         "line": {
          "color": "#ff8fab",
          "width": 3
         },
         "marker": {
          "color": "#ff8fab",
          "size": 7
         },
         "mode": "lines+markers",
         "showlegend": false,
         "type": "scatter",
         "x": [
          112,
          113
         ],
         "xaxis": "x",
         "y": [
          24.11702036857605,
          24.559274530410768
         ],
         "yaxis": "y"
        },
        {
         "hovertemplate": "x=%{x}<br>y=%{y}<extra></extra>",
         "line": {
          "color": "#ff8fab",
          "width": 3
         },
         "marker": {
          "color": "#ff8fab",
          "size": 7
         },
         "mode": "lines+markers",
         "showlegend": false,
         "type": "scatter",
         "x": [
          108,
          109
         ],
         "xaxis": "x",
         "y": [
          23.888142704963684,
          24.781815922260286
         ],
         "yaxis": "y"
        },
        {
         "hovertemplate": "x=%{x}<br>y=%{y}<extra></extra>",
         "line": {
          "color": "#ff8fab",
          "width": 3
         },
         "marker": {
          "color": "#ff8fab",
          "size": 7
         },
         "mode": "lines+markers",
         "showlegend": false,
         "type": "scatter",
         "x": [
          105,
          106
         ],
         "xaxis": "x",
         "y": [
          23.627180099487305,
          24.0154900431633
         ],
         "yaxis": "y"
        },
        {
         "hovertemplate": "x=%{x}<br>y=%{y}<extra></extra>",
         "line": {
          "color": "#ff8fab",
          "width": 3
         },
         "marker": {
          "color": "#ff8fab",
          "size": 7
         },
         "mode": "lines+markers",
         "showlegend": false,
         "type": "scatter",
         "x": [
          70,
          71
         ],
         "xaxis": "x",
         "y": [
          14.522637665271759,
          15.053980791568756
         ],
         "yaxis": "y"
        },
        {
         "hovertemplate": "x=%{x}<br>y=%{y}<extra></extra>",
         "line": {
          "color": "#ff8fab",
          "width": 3
         },
         "marker": {
          "color": "#ff8fab",
          "size": 7
         },
         "mode": "lines+markers",
         "showlegend": false,
         "type": "scatter",
         "x": [
          65,
          66
         ],
         "xaxis": "x",
         "y": [
          13.44674688577652,
          15.272596144676209
         ],
         "yaxis": "y"
        },
        {
         "hovertemplate": "x=%{x}<br>y=%{y}<extra></extra>",
         "line": {
          "color": "#ff8fab",
          "width": 3
         },
         "marker": {
          "color": "#ff8fab",
          "size": 7
         },
         "mode": "lines+markers",
         "showlegend": false,
         "type": "scatter",
         "x": [
          58,
          59
         ],
         "xaxis": "x",
         "y": [
          10.997535288333893,
          11.495170140266419
         ],
         "yaxis": "y"
        },
        {
         "hovertemplate": "x=%{x}<br>y=%{y}<extra></extra>",
         "line": {
          "color": "#ff8fab",
          "width": 3
         },
         "marker": {
          "color": "#ff8fab",
          "size": 7
         },
         "mode": "lines+markers",
         "showlegend": false,
         "type": "scatter",
         "x": [
          54,
          55
         ],
         "xaxis": "x",
         "y": [
          10.433216083049775,
          11.10024869441986
         ],
         "yaxis": "y"
        },
        {
         "hovertemplate": "x=%{x}<br>y=%{y}<extra></extra>",
         "line": {
          "color": "#ff8fab",
          "width": 3
         },
         "marker": {
          "color": "#ff8fab",
          "size": 7
         },
         "mode": "lines+markers",
         "showlegend": false,
         "type": "scatter",
         "x": [
          52,
          53
         ],
         "xaxis": "x",
         "y": [
          9.483694672584534,
          9.778870928287507
         ],
         "yaxis": "y"
        },
        {
         "hovertemplate": "x=%{x}<br>y=%{y}<extra></extra>",
         "line": {
          "color": "#ff8fab",
          "width": 3
         },
         "marker": {
          "color": "#ff8fab",
          "size": 7
         },
         "mode": "lines+markers",
         "showlegend": false,
         "type": "scatter",
         "x": [
          49,
          50
         ],
         "xaxis": "x",
         "y": [
          9.2113538980484,
          9.639777779579163
         ],
         "yaxis": "y"
        },
        {
         "hovertemplate": "x=%{x}<br>y=%{y}<extra></extra>",
         "line": {
          "color": "#ff8fab",
          "width": 3
         },
         "marker": {
          "color": "#ff8fab",
          "size": 7
         },
         "mode": "lines+markers",
         "showlegend": false,
         "type": "scatter",
         "x": [
          44,
          45
         ],
         "xaxis": "x",
         "y": [
          7.629403471946716,
          8.028025317192078
         ],
         "yaxis": "y"
        },
        {
         "hovertemplate": "x=%{x}<br>y=%{y}<extra></extra>",
         "line": {
          "color": "#ff8fab",
          "width": 3
         },
         "marker": {
          "color": "#ff8fab",
          "size": 7
         },
         "mode": "lines+markers",
         "showlegend": false,
         "type": "scatter",
         "x": [
          41,
          42
         ],
         "xaxis": "x",
         "y": [
          7.944894301891327,
          8.369137716293334
         ],
         "yaxis": "y"
        },
        {
         "hovertemplate": "x=%{x}<br>y=%{y}<extra></extra>",
         "line": {
          "color": "#ff8fab",
          "width": 3
         },
         "marker": {
          "color": "#ff8fab",
          "size": 7
         },
         "mode": "lines+markers",
         "showlegend": false,
         "type": "scatter",
         "x": [
          39,
          40
         ],
         "xaxis": "x",
         "y": [
          6.972846508026123,
          7.521506357192993
         ],
         "yaxis": "y"
        },
        {
         "hovertemplate": "x=%{x}<br>y=%{y}<extra></extra>",
         "line": {
          "color": "#ff8fab",
          "width": 3
         },
         "marker": {
          "color": "#ff8fab",
          "size": 7
         },
         "mode": "lines+markers",
         "showlegend": false,
         "type": "scatter",
         "x": [
          36,
          37
         ],
         "xaxis": "x",
         "y": [
          6.924877464771271,
          7.233794367313385
         ],
         "yaxis": "y"
        },
        {
         "hovertemplate": "x=%{x}<br>y=%{y}<extra></extra>",
         "line": {
          "color": "#ff8fab",
          "width": 3
         },
         "marker": {
          "color": "#ff8fab",
          "size": 7
         },
         "mode": "lines+markers",
         "showlegend": false,
         "type": "scatter",
         "x": [
          33,
          34
         ],
         "xaxis": "x",
         "y": [
          5.643815517425537,
          5.963875353336334
         ],
         "yaxis": "y"
        },
        {
         "hovertemplate": "x=%{x}<br>y=%{y}<extra></extra>",
         "line": {
          "color": "#ff8fab",
          "width": 3
         },
         "marker": {
          "color": "#ff8fab",
          "size": 7
         },
         "mode": "lines+markers",
         "showlegend": false,
         "type": "scatter",
         "x": [
          30,
          31
         ],
         "xaxis": "x",
         "y": [
          5.228603076934815,
          7.988909912109375
         ],
         "yaxis": "y"
        },
        {
         "hovertemplate": "x=%{x}<br>y=%{y}<extra></extra>",
         "line": {
          "color": "#ff8fab",
          "width": 3
         },
         "marker": {
          "color": "#ff8fab",
          "size": 7
         },
         "mode": "lines+markers",
         "showlegend": false,
         "type": "scatter",
         "x": [
          28,
          29
         ],
         "xaxis": "x",
         "y": [
          3.9393573999404907,
          4.286073160171509
         ],
         "yaxis": "y"
        },
        {
         "hovertemplate": "x=%{x}<br>y=%{y}<extra></extra>",
         "line": {
          "color": "#ff8fab",
          "width": 3
         },
         "marker": {
          "color": "#ff8fab",
          "size": 7
         },
         "mode": "lines+markers",
         "showlegend": false,
         "type": "scatter",
         "x": [
          24,
          25
         ],
         "xaxis": "x",
         "y": [
          2.848319947719574,
          3.213056230545044
         ],
         "yaxis": "y"
        },
        {
         "hovertemplate": "x=%{x}<br>y=%{y}<extra></extra>",
         "line": {
          "color": "#ff8fab",
          "width": 3
         },
         "marker": {
          "color": "#ff8fab",
          "size": 7
         },
         "mode": "lines+markers",
         "showlegend": false,
         "type": "scatter",
         "x": [
          21,
          22
         ],
         "xaxis": "x",
         "y": [
          3.1012505888938904,
          3.459725570678711
         ],
         "yaxis": "y"
        },
        {
         "hovertemplate": "x=%{x}<br>y=%{y}<extra></extra>",
         "line": {
          "color": "#ff8fab",
          "width": 3
         },
         "marker": {
          "color": "#ff8fab",
          "size": 7
         },
         "mode": "lines+markers",
         "showlegend": false,
         "type": "scatter",
         "x": [
          18,
          19
         ],
         "xaxis": "x",
         "y": [
          3.932200515270233,
          4.2966883182525635
         ],
         "yaxis": "y"
        },
        {
         "hovertemplate": "x=%{x}<br>y=%{y}<extra></extra>",
         "line": {
          "color": "#ff8fab",
          "width": 3
         },
         "marker": {
          "color": "#ff8fab",
          "size": 7
         },
         "mode": "lines+markers",
         "showlegend": false,
         "type": "scatter",
         "x": [
          16,
          17
         ],
         "xaxis": "x",
         "y": [
          3.1179283261299133,
          3.4436482429504394
         ],
         "yaxis": "y"
        },
        {
         "hovertemplate": "x=%{x}<br>y=%{y}<extra></extra>",
         "line": {
          "color": "#ff8fab",
          "width": 3
         },
         "marker": {
          "color": "#ff8fab",
          "size": 7
         },
         "mode": "lines+markers",
         "showlegend": false,
         "type": "scatter",
         "x": [
          14,
          15
         ],
         "xaxis": "x",
         "y": [
          2.120026469230652,
          2.7397093176841736
         ],
         "yaxis": "y"
        },
        {
         "hovertemplate": "x=%{x}<br>y=%{y}<extra></extra>",
         "line": {
          "color": "#ff8fab",
          "width": 3
         },
         "marker": {
          "color": "#ff8fab",
          "size": 7
         },
         "mode": "lines+markers",
         "showlegend": false,
         "type": "scatter",
         "x": [
          11,
          12
         ],
         "xaxis": "x",
         "y": [
          1.9092164635658264,
          2.453181028366089
         ],
         "yaxis": "y"
        },
        {
         "hovertemplate": "x=%{x}<br>y=%{y}<extra></extra>",
         "line": {
          "color": "#ff8fab",
          "width": 3
         },
         "marker": {
          "color": "#ff8fab",
          "size": 7
         },
         "mode": "lines+markers",
         "showlegend": false,
         "type": "scatter",
         "x": [
          7,
          8
         ],
         "xaxis": "x",
         "y": [
          2.8873347342014313,
          3.360923558473587
         ],
         "yaxis": "y"
        },
        {
         "hovertemplate": "x=%{x}<br>y=%{y}<extra></extra>",
         "line": {
          "color": "#ff8fab",
          "width": 3
         },
         "marker": {
          "color": "#ff8fab",
          "size": 7
         },
         "mode": "lines+markers",
         "showlegend": false,
         "type": "scatter",
         "x": [
          5,
          6
         ],
         "xaxis": "x",
         "y": [
          0.9253415763378143,
          1.4636755287647247
         ],
         "yaxis": "y"
        },
        {
         "hovertemplate": "x=%{x}<br>y=%{y}<extra></extra>",
         "line": {
          "color": "#ff8fab",
          "width": 3
         },
         "marker": {
          "color": "#ff8fab",
          "size": 7
         },
         "mode": "lines+markers",
         "showlegend": false,
         "type": "scatter",
         "x": [
          4,
          5
         ],
         "xaxis": "x",
         "y": [
          1.19219172000885,
          0.9253415763378143
         ],
         "yaxis": "y"
        },
        {
         "hovertemplate": "x=%{x}<br>y=%{y}<extra></extra>",
         "line": {
          "color": "#ff8fab",
          "width": 3
         },
         "marker": {
          "color": "#ff8fab",
          "size": 7
         },
         "mode": "lines+markers",
         "showlegend": false,
         "type": "scatter",
         "x": [
          1,
          2
         ],
         "xaxis": "x",
         "y": [
          0.3124276399612427,
          0.5417124509811402
         ],
         "yaxis": "y"
        },
        {
         "hovertemplate": "x=%{x}<br>y=%{y}<extra></extra>",
         "line": {
          "color": "#023e8a",
          "width": 3
         },
         "marker": {
          "color": "#023e8a",
          "size": 7
         },
         "mode": "lines+markers",
         "showlegend": false,
         "type": "scatter",
         "x": [
          122,
          123
         ],
         "xaxis": "x",
         "y": [
          26.712023735046387,
          27.372675955295563
         ],
         "yaxis": "y"
        },
        {
         "hovertemplate": "x=%{x}<br>y=%{y}<extra></extra>",
         "line": {
          "color": "#023e8a",
          "width": 3
         },
         "marker": {
          "color": "#023e8a",
          "size": 7
         },
         "mode": "lines+markers",
         "showlegend": false,
         "type": "scatter",
         "x": [
          121,
          122
         ],
         "xaxis": "x",
         "y": [
          26.33840960264206,
          26.712023735046387
         ],
         "yaxis": "y"
        },
        {
         "hovertemplate": "x=%{x}<br>y=%{y}<extra></extra>",
         "line": {
          "color": "#023e8a",
          "width": 3
         },
         "marker": {
          "color": "#023e8a",
          "size": 7
         },
         "mode": "lines+markers",
         "showlegend": false,
         "type": "scatter",
         "x": [
          120,
          121
         ],
         "xaxis": "x",
         "y": [
          25.928079783916473,
          26.33840960264206
         ],
         "yaxis": "y"
        },
        {
         "hovertemplate": "x=%{x}<br>y=%{y}<extra></extra>",
         "line": {
          "color": "#023e8a",
          "width": 3
         },
         "marker": {
          "color": "#023e8a",
          "size": 7
         },
         "mode": "lines+markers",
         "showlegend": false,
         "type": "scatter",
         "x": [
          119,
          120
         ],
         "xaxis": "x",
         "y": [
          25.66220235824585,
          25.928079783916473
         ],
         "yaxis": "y"
        },
        {
         "hovertemplate": "x=%{x}<br>y=%{y}<extra></extra>",
         "line": {
          "color": "#023e8a",
          "width": 3
         },
         "marker": {
          "color": "#023e8a",
          "size": 7
         },
         "mode": "lines+markers",
         "showlegend": false,
         "type": "scatter",
         "x": [
          118,
          119
         ],
         "xaxis": "x",
         "y": [
          24.681031346321106,
          25.66220235824585
         ],
         "yaxis": "y"
        },
        {
         "hovertemplate": "x=%{x}<br>y=%{y}<extra></extra>",
         "line": {
          "color": "#023e8a",
          "width": 3
         },
         "marker": {
          "color": "#023e8a",
          "size": 7
         },
         "mode": "lines+markers",
         "showlegend": false,
         "type": "scatter",
         "x": [
          117,
          118
         ],
         "xaxis": "x",
         "y": [
          24.31892603635788,
          24.681031346321106
         ],
         "yaxis": "y"
        },
        {
         "hovertemplate": "x=%{x}<br>y=%{y}<extra></extra>",
         "line": {
          "color": "#023e8a",
          "width": 3
         },
         "marker": {
          "color": "#023e8a",
          "size": 7
         },
         "mode": "lines+markers",
         "showlegend": false,
         "type": "scatter",
         "x": [
          116,
          117
         ],
         "xaxis": "x",
         "y": [
          24.012852489948273,
          24.31892603635788
         ],
         "yaxis": "y"
        },
        {
         "hovertemplate": "x=%{x}<br>y=%{y}<extra></extra>",
         "line": {
          "color": "#023e8a",
          "width": 3
         },
         "marker": {
          "color": "#023e8a",
          "size": 7
         },
         "mode": "lines+markers",
         "showlegend": false,
         "type": "scatter",
         "x": [
          115,
          116
         ],
         "xaxis": "x",
         "y": [
          23.719926595687866,
          24.012852489948273
         ],
         "yaxis": "y"
        },
        {
         "hovertemplate": "x=%{x}<br>y=%{y}<extra></extra>",
         "line": {
          "color": "#023e8a",
          "width": 3
         },
         "marker": {
          "color": "#023e8a",
          "size": 7
         },
         "mode": "lines+markers",
         "showlegend": false,
         "type": "scatter",
         "x": [
          113,
          114
         ],
         "xaxis": "x",
         "y": [
          24.11702036857605,
          24.48719096183777
         ],
         "yaxis": "y"
        },
        {
         "hovertemplate": "x=%{x}<br>y=%{y}<extra></extra>",
         "line": {
          "color": "#023e8a",
          "width": 3
         },
         "marker": {
          "color": "#023e8a",
          "size": 7
         },
         "mode": "lines+markers",
         "showlegend": false,
         "type": "scatter",
         "x": [
          111,
          112
         ],
         "xaxis": "x",
         "y": [
          23.711113274097443,
          24.11702036857605
         ],
         "yaxis": "y"
        },
        {
         "hovertemplate": "x=%{x}<br>y=%{y}<extra></extra>",
         "line": {
          "color": "#023e8a",
          "width": 3
         },
         "marker": {
          "color": "#023e8a",
          "size": 7
         },
         "mode": "lines+markers",
         "showlegend": false,
         "type": "scatter",
         "x": [
          106,
          107
         ],
         "xaxis": "x",
         "y": [
          23.1079483628273,
          23.555715084075928
         ],
         "yaxis": "y"
        },
        {
         "hovertemplate": "x=%{x}<br>y=%{y}<extra></extra>",
         "line": {
          "color": "#023e8a",
          "width": 3
         },
         "marker": {
          "color": "#023e8a",
          "size": 7
         },
         "mode": "lines+markers",
         "showlegend": false,
         "type": "scatter",
         "x": [
          103,
          104
         ],
         "xaxis": "x",
         "y": [
          22.817614376544952,
          23.1079483628273
         ],
         "yaxis": "y"
        },
        {
         "hovertemplate": "x=%{x}<br>y=%{y}<extra></extra>",
         "line": {
          "color": "#023e8a",
          "width": 3
         },
         "marker": {
          "color": "#023e8a",
          "size": 7
         },
         "mode": "lines+markers",
         "showlegend": false,
         "type": "scatter",
         "x": [
          102,
          103
         ],
         "xaxis": "x",
         "y": [
          22.615056097507477,
          22.817614376544952
         ],
         "yaxis": "y"
        },
        {
         "hovertemplate": "x=%{x}<br>y=%{y}<extra></extra>",
         "line": {
          "color": "#023e8a",
          "width": 3
         },
         "marker": {
          "color": "#023e8a",
          "size": 7
         },
         "mode": "lines+markers",
         "showlegend": false,
         "type": "scatter",
         "x": [
          101,
          102
         ],
         "xaxis": "x",
         "y": [
          22.339917540550232,
          22.615056097507477
         ],
         "yaxis": "y"
        },
        {
         "hovertemplate": "x=%{x}<br>y=%{y}<extra></extra>",
         "line": {
          "color": "#023e8a",
          "width": 3
         },
         "marker": {
          "color": "#023e8a",
          "size": 7
         },
         "mode": "lines+markers",
         "showlegend": false,
         "type": "scatter",
         "x": [
          99,
          100
         ],
         "xaxis": "x",
         "y": [
          25.910344660282135,
          26.442209243774414
         ],
         "yaxis": "y"
        },
        {
         "hovertemplate": "x=%{x}<br>y=%{y}<extra></extra>",
         "line": {
          "color": "#023e8a",
          "width": 3
         },
         "marker": {
          "color": "#023e8a",
          "size": 7
         },
         "mode": "lines+markers",
         "showlegend": false,
         "type": "scatter",
         "x": [
          98,
          99
         ],
         "xaxis": "x",
         "y": [
          25.51868027448654,
          25.910344660282135
         ],
         "yaxis": "y"
        },
        {
         "hovertemplate": "x=%{x}<br>y=%{y}<extra></extra>",
         "line": {
          "color": "#023e8a",
          "width": 3
         },
         "marker": {
          "color": "#023e8a",
          "size": 7
         },
         "mode": "lines+markers",
         "showlegend": false,
         "type": "scatter",
         "x": [
          97,
          98
         ],
         "xaxis": "x",
         "y": [
          25.15385401248932,
          25.51868027448654
         ],
         "yaxis": "y"
        },
        {
         "hovertemplate": "x=%{x}<br>y=%{y}<extra></extra>",
         "line": {
          "color": "#023e8a",
          "width": 3
         },
         "marker": {
          "color": "#023e8a",
          "size": 7
         },
         "mode": "lines+markers",
         "showlegend": false,
         "type": "scatter",
         "x": [
          96,
          97
         ],
         "xaxis": "x",
         "y": [
          24.643056213855743,
          25.15385401248932
         ],
         "yaxis": "y"
        },
        {
         "hovertemplate": "x=%{x}<br>y=%{y}<extra></extra>",
         "line": {
          "color": "#023e8a",
          "width": 3
         },
         "marker": {
          "color": "#023e8a",
          "size": 7
         },
         "mode": "lines+markers",
         "showlegend": false,
         "type": "scatter",
         "x": [
          95,
          96
         ],
         "xaxis": "x",
         "y": [
          23.826272666454315,
          24.643056213855743
         ],
         "yaxis": "y"
        },
        {
         "hovertemplate": "x=%{x}<br>y=%{y}<extra></extra>",
         "line": {
          "color": "#023e8a",
          "width": 3
         },
         "marker": {
          "color": "#023e8a",
          "size": 7
         },
         "mode": "lines+markers",
         "showlegend": false,
         "type": "scatter",
         "x": [
          94,
          95
         ],
         "xaxis": "x",
         "y": [
          23.30752521753311,
          23.826272666454315
         ],
         "yaxis": "y"
        },
        {
         "hovertemplate": "x=%{x}<br>y=%{y}<extra></extra>",
         "line": {
          "color": "#023e8a",
          "width": 3
         },
         "marker": {
          "color": "#023e8a",
          "size": 7
         },
         "mode": "lines+markers",
         "showlegend": false,
         "type": "scatter",
         "x": [
          93,
          94
         ],
         "xaxis": "x",
         "y": [
          22.7992781996727,
          23.30752521753311
         ],
         "yaxis": "y"
        },
        {
         "hovertemplate": "x=%{x}<br>y=%{y}<extra></extra>",
         "line": {
          "color": "#023e8a",
          "width": 3
         },
         "marker": {
          "color": "#023e8a",
          "size": 7
         },
         "mode": "lines+markers",
         "showlegend": false,
         "type": "scatter",
         "x": [
          92,
          93
         ],
         "xaxis": "x",
         "y": [
          22.34631073474884,
          22.7992781996727
         ],
         "yaxis": "y"
        },
        {
         "hovertemplate": "x=%{x}<br>y=%{y}<extra></extra>",
         "line": {
          "color": "#023e8a",
          "width": 3
         },
         "marker": {
          "color": "#023e8a",
          "size": 7
         },
         "mode": "lines+markers",
         "showlegend": false,
         "type": "scatter",
         "x": [
          91,
          92
         ],
         "xaxis": "x",
         "y": [
          22.01575005054474,
          22.34631073474884
         ],
         "yaxis": "y"
        },
        {
         "hovertemplate": "x=%{x}<br>y=%{y}<extra></extra>",
         "line": {
          "color": "#023e8a",
          "width": 3
         },
         "marker": {
          "color": "#023e8a",
          "size": 7
         },
         "mode": "lines+markers",
         "showlegend": false,
         "type": "scatter",
         "x": [
          90,
          91
         ],
         "xaxis": "x",
         "y": [
          21.635681211948395,
          22.01575005054474
         ],
         "yaxis": "y"
        },
        {
         "hovertemplate": "x=%{x}<br>y=%{y}<extra></extra>",
         "line": {
          "color": "#023e8a",
          "width": 3
         },
         "marker": {
          "color": "#023e8a",
          "size": 7
         },
         "mode": "lines+markers",
         "showlegend": false,
         "type": "scatter",
         "x": [
          89,
          90
         ],
         "xaxis": "x",
         "y": [
          21.319872200489044,
          21.635681211948395
         ],
         "yaxis": "y"
        },
        {
         "hovertemplate": "x=%{x}<br>y=%{y}<extra></extra>",
         "line": {
          "color": "#023e8a",
          "width": 3
         },
         "marker": {
          "color": "#023e8a",
          "size": 7
         },
         "mode": "lines+markers",
         "showlegend": false,
         "type": "scatter",
         "x": [
          88,
          89
         ],
         "xaxis": "x",
         "y": [
          20.95771735906601,
          21.319872200489044
         ],
         "yaxis": "y"
        },
        {
         "hovertemplate": "x=%{x}<br>y=%{y}<extra></extra>",
         "line": {
          "color": "#023e8a",
          "width": 3
         },
         "marker": {
          "color": "#023e8a",
          "size": 7
         },
         "mode": "lines+markers",
         "showlegend": false,
         "type": "scatter",
         "x": [
          87,
          88
         ],
         "xaxis": "x",
         "y": [
          20.13592779636383,
          20.95771735906601
         ],
         "yaxis": "y"
        },
        {
         "hovertemplate": "x=%{x}<br>y=%{y}<extra></extra>",
         "line": {
          "color": "#023e8a",
          "width": 3
         },
         "marker": {
          "color": "#023e8a",
          "size": 7
         },
         "mode": "lines+markers",
         "showlegend": false,
         "type": "scatter",
         "x": [
          86,
          87
         ],
         "xaxis": "x",
         "y": [
          19.7645263671875,
          20.13592779636383
         ],
         "yaxis": "y"
        },
        {
         "hovertemplate": "x=%{x}<br>y=%{y}<extra></extra>",
         "line": {
          "color": "#023e8a",
          "width": 3
         },
         "marker": {
          "color": "#023e8a",
          "size": 7
         },
         "mode": "lines+markers",
         "showlegend": false,
         "type": "scatter",
         "x": [
          85,
          86
         ],
         "xaxis": "x",
         "y": [
          19.38177841901779,
          19.7645263671875
         ],
         "yaxis": "y"
        },
        {
         "hovertemplate": "x=%{x}<br>y=%{y}<extra></extra>",
         "line": {
          "color": "#023e8a",
          "width": 3
         },
         "marker": {
          "color": "#023e8a",
          "size": 7
         },
         "mode": "lines+markers",
         "showlegend": false,
         "type": "scatter",
         "x": [
          84,
          85
         ],
         "xaxis": "x",
         "y": [
          18.837560713291168,
          19.38177841901779
         ],
         "yaxis": "y"
        },
        {
         "hovertemplate": "x=%{x}<br>y=%{y}<extra></extra>",
         "line": {
          "color": "#023e8a",
          "width": 3
         },
         "marker": {
          "color": "#023e8a",
          "size": 7
         },
         "mode": "lines+markers",
         "showlegend": false,
         "type": "scatter",
         "x": [
          83,
          84
         ],
         "xaxis": "x",
         "y": [
          18.570478439331055,
          18.837560713291168
         ],
         "yaxis": "y"
        },
        {
         "hovertemplate": "x=%{x}<br>y=%{y}<extra></extra>",
         "line": {
          "color": "#023e8a",
          "width": 3
         },
         "marker": {
          "color": "#023e8a",
          "size": 7
         },
         "mode": "lines+markers",
         "showlegend": false,
         "type": "scatter",
         "x": [
          82,
          83
         ],
         "xaxis": "x",
         "y": [
          18.149788737297058,
          18.570478439331055
         ],
         "yaxis": "y"
        },
        {
         "hovertemplate": "x=%{x}<br>y=%{y}<extra></extra>",
         "line": {
          "color": "#023e8a",
          "width": 3
         },
         "marker": {
          "color": "#023e8a",
          "size": 7
         },
         "mode": "lines+markers",
         "showlegend": false,
         "type": "scatter",
         "x": [
          81,
          82
         ],
         "xaxis": "x",
         "y": [
          17.753036618232727,
          18.149788737297058
         ],
         "yaxis": "y"
        },
        {
         "hovertemplate": "x=%{x}<br>y=%{y}<extra></extra>",
         "line": {
          "color": "#023e8a",
          "width": 3
         },
         "marker": {
          "color": "#023e8a",
          "size": 7
         },
         "mode": "lines+markers",
         "showlegend": false,
         "type": "scatter",
         "x": [
          80,
          81
         ],
         "xaxis": "x",
         "y": [
          17.479335248470306,
          17.753036618232727
         ],
         "yaxis": "y"
        },
        {
         "hovertemplate": "x=%{x}<br>y=%{y}<extra></extra>",
         "line": {
          "color": "#023e8a",
          "width": 3
         },
         "marker": {
          "color": "#023e8a",
          "size": 7
         },
         "mode": "lines+markers",
         "showlegend": false,
         "type": "scatter",
         "x": [
          79,
          80
         ],
         "xaxis": "x",
         "y": [
          17.155274629592896,
          17.479335248470306
         ],
         "yaxis": "y"
        },
        {
         "hovertemplate": "x=%{x}<br>y=%{y}<extra></extra>",
         "line": {
          "color": "#023e8a",
          "width": 3
         },
         "marker": {
          "color": "#023e8a",
          "size": 7
         },
         "mode": "lines+markers",
         "showlegend": false,
         "type": "scatter",
         "x": [
          78,
          79
         ],
         "xaxis": "x",
         "y": [
          17.00608068704605,
          17.155274629592896
         ],
         "yaxis": "y"
        },
        {
         "hovertemplate": "x=%{x}<br>y=%{y}<extra></extra>",
         "line": {
          "color": "#023e8a",
          "width": 3
         },
         "marker": {
          "color": "#023e8a",
          "size": 7
         },
         "mode": "lines+markers",
         "showlegend": false,
         "type": "scatter",
         "x": [
          77,
          78
         ],
         "xaxis": "x",
         "y": [
          16.6100931763649,
          17.00608068704605
         ],
         "yaxis": "y"
        },
        {
         "hovertemplate": "x=%{x}<br>y=%{y}<extra></extra>",
         "line": {
          "color": "#023e8a",
          "width": 3
         },
         "marker": {
          "color": "#023e8a",
          "size": 7
         },
         "mode": "lines+markers",
         "showlegend": false,
         "type": "scatter",
         "x": [
          76,
          77
         ],
         "xaxis": "x",
         "y": [
          16.213268220424652,
          16.6100931763649
         ],
         "yaxis": "y"
        },
        {
         "hovertemplate": "x=%{x}<br>y=%{y}<extra></extra>",
         "line": {
          "color": "#023e8a",
          "width": 3
         },
         "marker": {
          "color": "#023e8a",
          "size": 7
         },
         "mode": "lines+markers",
         "showlegend": false,
         "type": "scatter",
         "x": [
          75,
          76
         ],
         "xaxis": "x",
         "y": [
          16.047393798828125,
          16.213268220424652
         ],
         "yaxis": "y"
        },
        {
         "hovertemplate": "x=%{x}<br>y=%{y}<extra></extra>",
         "line": {
          "color": "#023e8a",
          "width": 3
         },
         "marker": {
          "color": "#023e8a",
          "size": 7
         },
         "mode": "lines+markers",
         "showlegend": false,
         "type": "scatter",
         "x": [
          74,
          75
         ],
         "xaxis": "x",
         "y": [
          15.893712639808655,
          16.047393798828125
         ],
         "yaxis": "y"
        },
        {
         "hovertemplate": "x=%{x}<br>y=%{y}<extra></extra>",
         "line": {
          "color": "#023e8a",
          "width": 3
         },
         "marker": {
          "color": "#023e8a",
          "size": 7
         },
         "mode": "lines+markers",
         "showlegend": false,
         "type": "scatter",
         "x": [
          73,
          74
         ],
         "xaxis": "x",
         "y": [
          15.730862498283386,
          15.893712639808655
         ],
         "yaxis": "y"
        },
        {
         "hovertemplate": "x=%{x}<br>y=%{y}<extra></extra>",
         "line": {
          "color": "#023e8a",
          "width": 3
         },
         "marker": {
          "color": "#023e8a",
          "size": 7
         },
         "mode": "lines+markers",
         "showlegend": false,
         "type": "scatter",
         "x": [
          72,
          73
         ],
         "xaxis": "x",
         "y": [
          15.362255811691284,
          15.730862498283386
         ],
         "yaxis": "y"
        },
        {
         "hovertemplate": "x=%{x}<br>y=%{y}<extra></extra>",
         "line": {
          "color": "#023e8a",
          "width": 3
         },
         "marker": {
          "color": "#023e8a",
          "size": 7
         },
         "mode": "lines+markers",
         "showlegend": false,
         "type": "scatter",
         "x": [
          71,
          72
         ],
         "xaxis": "x",
         "y": [
          14.724721908569336,
          15.362255811691284
         ],
         "yaxis": "y"
        },
        {
         "hovertemplate": "x=%{x}<br>y=%{y}<extra></extra>",
         "line": {
          "color": "#023e8a",
          "width": 3
         },
         "marker": {
          "color": "#023e8a",
          "size": 7
         },
         "mode": "lines+markers",
         "showlegend": false,
         "type": "scatter",
         "x": [
          68,
          69
         ],
         "xaxis": "x",
         "y": [
          13.897906363010406,
          14.724721908569336
         ],
         "yaxis": "y"
        },
        {
         "hovertemplate": "x=%{x}<br>y=%{y}<extra></extra>",
         "line": {
          "color": "#023e8a",
          "width": 3
         },
         "marker": {
          "color": "#023e8a",
          "size": 7
         },
         "mode": "lines+markers",
         "showlegend": false,
         "type": "scatter",
         "x": [
          67,
          68
         ],
         "xaxis": "x",
         "y": [
          13.486697018146515,
          13.897906363010406
         ],
         "yaxis": "y"
        },
        {
         "hovertemplate": "x=%{x}<br>y=%{y}<extra></extra>",
         "line": {
          "color": "#023e8a",
          "width": 3
         },
         "marker": {
          "color": "#023e8a",
          "size": 7
         },
         "mode": "lines+markers",
         "showlegend": false,
         "type": "scatter",
         "x": [
          63,
          64
         ],
         "xaxis": "x",
         "y": [
          12.716942846775055,
          13.124425172805786
         ],
         "yaxis": "y"
        },
        {
         "hovertemplate": "x=%{x}<br>y=%{y}<extra></extra>",
         "line": {
          "color": "#023e8a",
          "width": 3
         },
         "marker": {
          "color": "#023e8a",
          "size": 7
         },
         "mode": "lines+markers",
         "showlegend": false,
         "type": "scatter",
         "x": [
          62,
          63
         ],
         "xaxis": "x",
         "y": [
          12.144816935062408,
          12.716942846775055
         ],
         "yaxis": "y"
        },
        {
         "hovertemplate": "x=%{x}<br>y=%{y}<extra></extra>",
         "line": {
          "color": "#023e8a",
          "width": 3
         },
         "marker": {
          "color": "#023e8a",
          "size": 7
         },
         "mode": "lines+markers",
         "showlegend": false,
         "type": "scatter",
         "x": [
          61,
          62
         ],
         "xaxis": "x",
         "y": [
          11.194070100784302,
          12.144816935062408
         ],
         "yaxis": "y"
        },
        {
         "hovertemplate": "x=%{x}<br>y=%{y}<extra></extra>",
         "line": {
          "color": "#023e8a",
          "width": 3
         },
         "marker": {
          "color": "#023e8a",
          "size": 7
         },
         "mode": "lines+markers",
         "showlegend": false,
         "type": "scatter",
         "x": [
          60,
          61
         ],
         "xaxis": "x",
         "y": [
          10.727144122123718,
          11.194070100784302
         ],
         "yaxis": "y"
        },
        {
         "hovertemplate": "x=%{x}<br>y=%{y}<extra></extra>",
         "line": {
          "color": "#023e8a",
          "width": 3
         },
         "marker": {
          "color": "#023e8a",
          "size": 7
         },
         "mode": "lines+markers",
         "showlegend": false,
         "type": "scatter",
         "x": [
          59,
          60
         ],
         "xaxis": "x",
         "y": [
          10.312160849571228,
          10.727144122123718
         ],
         "yaxis": "y"
        },
        {
         "hovertemplate": "x=%{x}<br>y=%{y}<extra></extra>",
         "line": {
          "color": "#023e8a",
          "width": 3
         },
         "marker": {
          "color": "#023e8a",
          "size": 7
         },
         "mode": "lines+markers",
         "showlegend": false,
         "type": "scatter",
         "x": [
          56,
          57
         ],
         "xaxis": "x",
         "y": [
          9.764565229415894,
          10.312160849571228
         ],
         "yaxis": "y"
        },
        {
         "hovertemplate": "x=%{x}<br>y=%{y}<extra></extra>",
         "line": {
          "color": "#023e8a",
          "width": 3
         },
         "marker": {
          "color": "#023e8a",
          "size": 7
         },
         "mode": "lines+markers",
         "showlegend": false,
         "type": "scatter",
         "x": [
          55,
          56
         ],
         "xaxis": "x",
         "y": [
          9.19747543334961,
          9.764565229415894
         ],
         "yaxis": "y"
        },
        {
         "hovertemplate": "x=%{x}<br>y=%{y}<extra></extra>",
         "line": {
          "color": "#023e8a",
          "width": 3
         },
         "marker": {
          "color": "#023e8a",
          "size": 7
         },
         "mode": "lines+markers",
         "showlegend": false,
         "type": "scatter",
         "x": [
          50,
          51
         ],
         "xaxis": "x",
         "y": [
          8.691679239273071,
          9.19747543334961
         ],
         "yaxis": "y"
        },
        {
         "hovertemplate": "x=%{x}<br>y=%{y}<extra></extra>",
         "line": {
          "color": "#023e8a",
          "width": 3
         },
         "marker": {
          "color": "#023e8a",
          "size": 7
         },
         "mode": "lines+markers",
         "showlegend": false,
         "type": "scatter",
         "x": [
          47,
          48
         ],
         "xaxis": "x",
         "y": [
          8.31225848197937,
          8.691679239273071
         ],
         "yaxis": "y"
        },
        {
         "hovertemplate": "x=%{x}<br>y=%{y}<extra></extra>",
         "line": {
          "color": "#023e8a",
          "width": 3
         },
         "marker": {
          "color": "#023e8a",
          "size": 7
         },
         "mode": "lines+markers",
         "showlegend": false,
         "type": "scatter",
         "x": [
          46,
          47
         ],
         "xaxis": "x",
         "y": [
          7.784547328948975,
          8.31225848197937
         ],
         "yaxis": "y"
        },
        {
         "hovertemplate": "x=%{x}<br>y=%{y}<extra></extra>",
         "line": {
          "color": "#023e8a",
          "width": 3
         },
         "marker": {
          "color": "#023e8a",
          "size": 7
         },
         "mode": "lines+markers",
         "showlegend": false,
         "type": "scatter",
         "x": [
          45,
          46
         ],
         "xaxis": "x",
         "y": [
          7.407683908939362,
          7.784547328948975
         ],
         "yaxis": "y"
        },
        {
         "hovertemplate": "x=%{x}<br>y=%{y}<extra></extra>",
         "line": {
          "color": "#023e8a",
          "width": 3
         },
         "marker": {
          "color": "#023e8a",
          "size": 7
         },
         "mode": "lines+markers",
         "showlegend": false,
         "type": "scatter",
         "x": [
          42,
          43
         ],
         "xaxis": "x",
         "y": [
          6.626713931560516,
          7.407683908939362
         ],
         "yaxis": "y"
        },
        {
         "hovertemplate": "x=%{x}<br>y=%{y}<extra></extra>",
         "line": {
          "color": "#023e8a",
          "width": 3
         },
         "marker": {
          "color": "#023e8a",
          "size": 7
         },
         "mode": "lines+markers",
         "showlegend": false,
         "type": "scatter",
         "x": [
          34,
          35
         ],
         "xaxis": "x",
         "y": [
          5.643815517425537,
          6.324486553668976
         ],
         "yaxis": "y"
        },
        {
         "hovertemplate": "x=%{x}<br>y=%{y}<extra></extra>",
         "line": {
          "color": "#023e8a",
          "width": 3
         },
         "marker": {
          "color": "#023e8a",
          "size": 7
         },
         "mode": "lines+markers",
         "showlegend": false,
         "type": "scatter",
         "x": [
          32,
          33
         ],
         "xaxis": "x",
         "y": [
          4.596419453620911,
          5.643815517425537
         ],
         "yaxis": "y"
        },
        {
         "hovertemplate": "x=%{x}<br>y=%{y}<extra></extra>",
         "line": {
          "color": "#023e8a",
          "width": 3
         },
         "marker": {
          "color": "#023e8a",
          "size": 7
         },
         "mode": "lines+markers",
         "showlegend": false,
         "type": "scatter",
         "x": [
          26,
          27
         ],
         "xaxis": "x",
         "y": [
          2.7686575055122375,
          3.571068048477173
         ],
         "yaxis": "y"
        },
        {
         "hovertemplate": "x=%{x}<br>y=%{y}<extra></extra>",
         "line": {
          "color": "#023e8a",
          "width": 3
         },
         "marker": {
          "color": "#023e8a",
          "size": 7
         },
         "mode": "lines+markers",
         "showlegend": false,
         "type": "scatter",
         "x": [
          25,
          26
         ],
         "xaxis": "x",
         "y": [
          2.468996286392212,
          2.7686575055122375
         ],
         "yaxis": "y"
        },
        {
         "hovertemplate": "x=%{x}<br>y=%{y}<extra></extra>",
         "line": {
          "color": "#023e8a",
          "width": 3
         },
         "marker": {
          "color": "#023e8a",
          "size": 7
         },
         "mode": "lines+markers",
         "showlegend": false,
         "type": "scatter",
         "x": [
          22,
          23
         ],
         "xaxis": "x",
         "y": [
          2.1971588730812073,
          2.468996286392212
         ],
         "yaxis": "y"
        },
        {
         "hovertemplate": "x=%{x}<br>y=%{y}<extra></extra>",
         "line": {
          "color": "#023e8a",
          "width": 3
         },
         "marker": {
          "color": "#023e8a",
          "size": 7
         },
         "mode": "lines+markers",
         "showlegend": false,
         "type": "scatter",
         "x": [
          19,
          20
         ],
         "xaxis": "x",
         "y": [
          1.6776911616325378,
          2.1971588730812073
         ],
         "yaxis": "y"
        },
        {
         "hovertemplate": "x=%{x}<br>y=%{y}<extra></extra>",
         "line": {
          "color": "#023e8a",
          "width": 3
         },
         "marker": {
          "color": "#023e8a",
          "size": 7
         },
         "mode": "lines+markers",
         "showlegend": false,
         "type": "scatter",
         "x": [
          12,
          13
         ],
         "xaxis": "x",
         "y": [
          1.444016456604004,
          1.6776911616325378
         ],
         "yaxis": "y"
        },
        {
         "hovertemplate": "x=%{x}<br>y=%{y}<extra></extra>",
         "line": {
          "color": "#023e8a",
          "width": 3
         },
         "marker": {
          "color": "#023e8a",
          "size": 7
         },
         "mode": "lines+markers",
         "showlegend": false,
         "type": "scatter",
         "x": [
          9,
          10
         ],
         "xaxis": "x",
         "y": [
          0.9452452063560486,
          1.444016456604004
         ],
         "yaxis": "y"
        },
        {
         "hovertemplate": "x=%{x}<br>y=%{y}<extra></extra>",
         "line": {
          "color": "#023e8a",
          "width": 3
         },
         "marker": {
          "color": "#023e8a",
          "size": 7
         },
         "mode": "lines+markers",
         "showlegend": false,
         "type": "scatter",
         "x": [
          8,
          9
         ],
         "xaxis": "x",
         "y": [
          0.29818272590637207,
          0.9452452063560486
         ],
         "yaxis": "y"
        },
        {
         "hovertemplate": "x=%{x}<br>y=%{y}<extra></extra>",
         "line": {
          "color": "#023e8a",
          "width": 3
         },
         "marker": {
          "color": "#023e8a",
          "size": 7
         },
         "mode": "lines+markers",
         "showlegend": false,
         "type": "scatter",
         "x": [
          2,
          3
         ],
         "xaxis": "x",
         "y": [
          0,
          0.29818272590637207
         ],
         "yaxis": "y"
        },
        {
         "hovertemplate": "x=%{x}<br>y=%{y}<extra></extra>",
         "line": {
          "color": "#c1121f",
          "width": 3
         },
         "marker": {
          "color": "#c1121f",
          "size": 7
         },
         "mode": "lines+markers",
         "showlegend": false,
         "type": "scatter",
         "x": [
          109,
          110
         ],
         "xaxis": "x",
         "y": [
          23.555715084075928,
          23.711113274097443
         ],
         "yaxis": "y"
        },
        {
         "hovertemplate": "x=%{x}<br>y=%{y}<extra></extra>",
         "line": {
          "color": "#c1121f",
          "width": 3
         },
         "marker": {
          "color": "#c1121f",
          "size": 7
         },
         "mode": "lines+markers",
         "showlegend": false,
         "type": "scatter",
         "x": [
          66,
          67
         ],
         "xaxis": "x",
         "y": [
          13.124425172805786,
          13.486697018146515
         ],
         "yaxis": "y"
        },
        {
         "hovertemplate": "x=%{x}<br>y=%{y}<extra></extra>",
         "line": {
          "color": "#c1121f",
          "width": 3
         },
         "marker": {
          "color": "#c1121f",
          "size": 7
         },
         "mode": "lines+markers",
         "showlegend": false,
         "type": "scatter",
         "x": [
          37,
          38
         ],
         "xaxis": "x",
         "y": [
          6.324486553668976,
          6.626713931560516
         ],
         "yaxis": "y"
        },
        {
         "hovertemplate": "x=%{x}<br>y=%{y}<extra></extra>",
         "line": {
          "color": "#c1121f",
          "width": 3
         },
         "marker": {
          "color": "#c1121f",
          "size": 7
         },
         "mode": "lines+markers",
         "showlegend": false,
         "type": "scatter",
         "x": [
          31,
          32
         ],
         "xaxis": "x",
         "y": [
          3.571068048477173,
          4.596419453620911
         ],
         "yaxis": "y"
        },
        {
         "hovertemplate": "x=%{x}<br>y=%{y}<extra></extra>",
         "line": {
          "color": "#9d4edd",
          "width": 3
         },
         "marker": {
          "color": "#9d4edd",
          "size": 7
         },
         "mode": "lines+markers",
         "showlegend": false,
         "type": "scatter",
         "x": [
          114,
          115
         ],
         "xaxis": "x",
         "y": [
          24.48719096183777,
          23.719926595687866
         ],
         "yaxis": "y"
        },
        {
         "hovertemplate": "x=%{x}<br>y=%{y}<extra></extra>",
         "line": {
          "color": "#9d4edd",
          "width": 3
         },
         "marker": {
          "color": "#9d4edd",
          "size": 7
         },
         "mode": "lines+markers",
         "showlegend": false,
         "type": "scatter",
         "x": [
          100,
          101
         ],
         "xaxis": "x",
         "y": [
          26.442209243774414,
          22.339917540550232
         ],
         "yaxis": "y"
        },
        {
         "line": {
          "color": "#64B5F6",
          "width": 2
         },
         "mode": "lines",
         "name": "human_insert_backstage",
         "showlegend": true,
         "type": "scatter",
         "x": [
          null
         ],
         "xaxis": "x",
         "y": [
          null
         ],
         "yaxis": "y"
        },
        {
         "line": {
          "color": "#ff8fab",
          "width": 2
         },
         "mode": "lines",
         "name": "ai_suggest_backstage",
         "showlegend": true,
         "type": "scatter",
         "x": [
          null
         ],
         "xaxis": "x",
         "y": [
          null
         ],
         "yaxis": "y"
        },
        {
         "line": {
          "color": "#023e8a",
          "width": 2
         },
         "mode": "lines",
         "name": "human_insert_frontstage",
         "showlegend": true,
         "type": "scatter",
         "x": [
          null
         ],
         "xaxis": "x",
         "y": [
          null
         ],
         "yaxis": "y"
        },
        {
         "line": {
          "color": "#c1121f",
          "width": 2
         },
         "mode": "lines",
         "name": "ai_insert_moved_to_frontstage",
         "showlegend": true,
         "type": "scatter",
         "x": [
          null
         ],
         "xaxis": "x",
         "y": [
          null
         ],
         "yaxis": "y"
        },
        {
         "line": {
          "color": "#9d4edd",
          "width": 2
         },
         "mode": "lines",
         "name": "human_delete_frontstage",
         "showlegend": true,
         "type": "scatter",
         "x": [
          null
         ],
         "xaxis": "x",
         "y": [
          null
         ],
         "yaxis": "y"
        },
        {
         "line": {
          "color": "#5a189a",
          "width": 2
         },
         "mode": "lines",
         "name": "human_insert_edit_frontstage",
         "showlegend": true,
         "type": "scatter",
         "x": [
          null
         ],
         "xaxis": "x",
         "y": [
          null
         ],
         "yaxis": "y"
        }
       ],
       "layout": {
        "annotations": [
         {
          "font": {
           "size": 16
          },
          "showarrow": false,
          "text": "Session: legislation_corporate_6",
          "x": 0.5,
          "xanchor": "center",
          "xref": "paper",
          "y": 1,
          "yanchor": "bottom",
          "yref": "paper"
         }
        ],
        "height": 500,
        "legend": {
         "title": {
          "font": {
           "color": "rgba(0, 0, 0, 0)"
          }
         }
        },
        "plot_bgcolor": "white",
        "showlegend": true,
        "template": {
         "data": {
          "bar": [
           {
            "error_x": {
             "color": "#2a3f5f"
            },
            "error_y": {
             "color": "#2a3f5f"
            },
            "marker": {
             "line": {
              "color": "#E5ECF6",
              "width": 0.5
             },
             "pattern": {
              "fillmode": "overlay",
              "size": 10,
              "solidity": 0.2
             }
            },
            "type": "bar"
           }
          ],
          "barpolar": [
           {
            "marker": {
             "line": {
              "color": "#E5ECF6",
              "width": 0.5
             },
             "pattern": {
              "fillmode": "overlay",
              "size": 10,
              "solidity": 0.2
             }
            },
            "type": "barpolar"
           }
          ],
          "carpet": [
           {
            "aaxis": {
             "endlinecolor": "#2a3f5f",
             "gridcolor": "white",
             "linecolor": "white",
             "minorgridcolor": "white",
             "startlinecolor": "#2a3f5f"
            },
            "baxis": {
             "endlinecolor": "#2a3f5f",
             "gridcolor": "white",
             "linecolor": "white",
             "minorgridcolor": "white",
             "startlinecolor": "#2a3f5f"
            },
            "type": "carpet"
           }
          ],
          "choropleth": [
           {
            "colorbar": {
             "outlinewidth": 0,
             "ticks": ""
            },
            "type": "choropleth"
           }
          ],
          "contour": [
           {
            "colorbar": {
             "outlinewidth": 0,
             "ticks": ""
            },
            "colorscale": [
             [
              0,
              "#0d0887"
             ],
             [
              0.1111111111111111,
              "#46039f"
             ],
             [
              0.2222222222222222,
              "#7201a8"
             ],
             [
              0.3333333333333333,
              "#9c179e"
             ],
             [
              0.4444444444444444,
              "#bd3786"
             ],
             [
              0.5555555555555556,
              "#d8576b"
             ],
             [
              0.6666666666666666,
              "#ed7953"
             ],
             [
              0.7777777777777778,
              "#fb9f3a"
             ],
             [
              0.8888888888888888,
              "#fdca26"
             ],
             [
              1,
              "#f0f921"
             ]
            ],
            "type": "contour"
           }
          ],
          "contourcarpet": [
           {
            "colorbar": {
             "outlinewidth": 0,
             "ticks": ""
            },
            "type": "contourcarpet"
           }
          ],
          "heatmap": [
           {
            "colorbar": {
             "outlinewidth": 0,
             "ticks": ""
            },
            "colorscale": [
             [
              0,
              "#0d0887"
             ],
             [
              0.1111111111111111,
              "#46039f"
             ],
             [
              0.2222222222222222,
              "#7201a8"
             ],
             [
              0.3333333333333333,
              "#9c179e"
             ],
             [
              0.4444444444444444,
              "#bd3786"
             ],
             [
              0.5555555555555556,
              "#d8576b"
             ],
             [
              0.6666666666666666,
              "#ed7953"
             ],
             [
              0.7777777777777778,
              "#fb9f3a"
             ],
             [
              0.8888888888888888,
              "#fdca26"
             ],
             [
              1,
              "#f0f921"
             ]
            ],
            "type": "heatmap"
           }
          ],
          "histogram": [
           {
            "marker": {
             "pattern": {
              "fillmode": "overlay",
              "size": 10,
              "solidity": 0.2
             }
            },
            "type": "histogram"
           }
          ],
          "histogram2d": [
           {
            "colorbar": {
             "outlinewidth": 0,
             "ticks": ""
            },
            "colorscale": [
             [
              0,
              "#0d0887"
             ],
             [
              0.1111111111111111,
              "#46039f"
             ],
             [
              0.2222222222222222,
              "#7201a8"
             ],
             [
              0.3333333333333333,
              "#9c179e"
             ],
             [
              0.4444444444444444,
              "#bd3786"
             ],
             [
              0.5555555555555556,
              "#d8576b"
             ],
             [
              0.6666666666666666,
              "#ed7953"
             ],
             [
              0.7777777777777778,
              "#fb9f3a"
             ],
             [
              0.8888888888888888,
              "#fdca26"
             ],
             [
              1,
              "#f0f921"
             ]
            ],
            "type": "histogram2d"
           }
          ],
          "histogram2dcontour": [
           {
            "colorbar": {
             "outlinewidth": 0,
             "ticks": ""
            },
            "colorscale": [
             [
              0,
              "#0d0887"
             ],
             [
              0.1111111111111111,
              "#46039f"
             ],
             [
              0.2222222222222222,
              "#7201a8"
             ],
             [
              0.3333333333333333,
              "#9c179e"
             ],
             [
              0.4444444444444444,
              "#bd3786"
             ],
             [
              0.5555555555555556,
              "#d8576b"
             ],
             [
              0.6666666666666666,
              "#ed7953"
             ],
             [
              0.7777777777777778,
              "#fb9f3a"
             ],
             [
              0.8888888888888888,
              "#fdca26"
             ],
             [
              1,
              "#f0f921"
             ]
            ],
            "type": "histogram2dcontour"
           }
          ],
          "mesh3d": [
           {
            "colorbar": {
             "outlinewidth": 0,
             "ticks": ""
            },
            "type": "mesh3d"
           }
          ],
          "parcoords": [
           {
            "line": {
             "colorbar": {
              "outlinewidth": 0,
              "ticks": ""
             }
            },
            "type": "parcoords"
           }
          ],
          "pie": [
           {
            "automargin": true,
            "type": "pie"
           }
          ],
          "scatter": [
           {
            "fillpattern": {
             "fillmode": "overlay",
             "size": 10,
             "solidity": 0.2
            },
            "type": "scatter"
           }
          ],
          "scatter3d": [
           {
            "line": {
             "colorbar": {
              "outlinewidth": 0,
              "ticks": ""
             }
            },
            "marker": {
             "colorbar": {
              "outlinewidth": 0,
              "ticks": ""
             }
            },
            "type": "scatter3d"
           }
          ],
          "scattercarpet": [
           {
            "marker": {
             "colorbar": {
              "outlinewidth": 0,
              "ticks": ""
             }
            },
            "type": "scattercarpet"
           }
          ],
          "scattergeo": [
           {
            "marker": {
             "colorbar": {
              "outlinewidth": 0,
              "ticks": ""
             }
            },
            "type": "scattergeo"
           }
          ],
          "scattergl": [
           {
            "marker": {
             "colorbar": {
              "outlinewidth": 0,
              "ticks": ""
             }
            },
            "type": "scattergl"
           }
          ],
          "scattermap": [
           {
            "marker": {
             "colorbar": {
              "outlinewidth": 0,
              "ticks": ""
             }
            },
            "type": "scattermap"
           }
          ],
          "scattermapbox": [
           {
            "marker": {
             "colorbar": {
              "outlinewidth": 0,
              "ticks": ""
             }
            },
            "type": "scattermapbox"
           }
          ],
          "scatterpolar": [
           {
            "marker": {
             "colorbar": {
              "outlinewidth": 0,
              "ticks": ""
             }
            },
            "type": "scatterpolar"
           }
          ],
          "scatterpolargl": [
           {
            "marker": {
             "colorbar": {
              "outlinewidth": 0,
              "ticks": ""
             }
            },
            "type": "scatterpolargl"
           }
          ],
          "scatterternary": [
           {
            "marker": {
             "colorbar": {
              "outlinewidth": 0,
              "ticks": ""
             }
            },
            "type": "scatterternary"
           }
          ],
          "surface": [
           {
            "colorbar": {
             "outlinewidth": 0,
             "ticks": ""
            },
            "colorscale": [
             [
              0,
              "#0d0887"
             ],
             [
              0.1111111111111111,
              "#46039f"
             ],
             [
              0.2222222222222222,
              "#7201a8"
             ],
             [
              0.3333333333333333,
              "#9c179e"
             ],
             [
              0.4444444444444444,
              "#bd3786"
             ],
             [
              0.5555555555555556,
              "#d8576b"
             ],
             [
              0.6666666666666666,
              "#ed7953"
             ],
             [
              0.7777777777777778,
              "#fb9f3a"
             ],
             [
              0.8888888888888888,
              "#fdca26"
             ],
             [
              1,
              "#f0f921"
             ]
            ],
            "type": "surface"
           }
          ],
          "table": [
           {
            "cells": {
             "fill": {
              "color": "#EBF0F8"
             },
             "line": {
              "color": "white"
             }
            },
            "header": {
             "fill": {
              "color": "#C8D4E3"
             },
             "line": {
              "color": "white"
             }
            },
            "type": "table"
           }
          ]
         },
         "layout": {
          "annotationdefaults": {
           "arrowcolor": "#2a3f5f",
           "arrowhead": 0,
           "arrowwidth": 1
          },
          "autotypenumbers": "strict",
          "coloraxis": {
           "colorbar": {
            "outlinewidth": 0,
            "ticks": ""
           }
          },
          "colorscale": {
           "diverging": [
            [
             0,
             "#8e0152"
            ],
            [
             0.1,
             "#c51b7d"
            ],
            [
             0.2,
             "#de77ae"
            ],
            [
             0.3,
             "#f1b6da"
            ],
            [
             0.4,
             "#fde0ef"
            ],
            [
             0.5,
             "#f7f7f7"
            ],
            [
             0.6,
             "#e6f5d0"
            ],
            [
             0.7,
             "#b8e186"
            ],
            [
             0.8,
             "#7fbc41"
            ],
            [
             0.9,
             "#4d9221"
            ],
            [
             1,
             "#276419"
            ]
           ],
           "sequential": [
            [
             0,
             "#0d0887"
            ],
            [
             0.1111111111111111,
             "#46039f"
            ],
            [
             0.2222222222222222,
             "#7201a8"
            ],
            [
             0.3333333333333333,
             "#9c179e"
            ],
            [
             0.4444444444444444,
             "#bd3786"
            ],
            [
             0.5555555555555556,
             "#d8576b"
            ],
            [
             0.6666666666666666,
             "#ed7953"
            ],
            [
             0.7777777777777778,
             "#fb9f3a"
            ],
            [
             0.8888888888888888,
             "#fdca26"
            ],
            [
             1,
             "#f0f921"
            ]
           ],
           "sequentialminus": [
            [
             0,
             "#0d0887"
            ],
            [
             0.1111111111111111,
             "#46039f"
            ],
            [
             0.2222222222222222,
             "#7201a8"
            ],
            [
             0.3333333333333333,
             "#9c179e"
            ],
            [
             0.4444444444444444,
             "#bd3786"
            ],
            [
             0.5555555555555556,
             "#d8576b"
            ],
            [
             0.6666666666666666,
             "#ed7953"
            ],
            [
             0.7777777777777778,
             "#fb9f3a"
            ],
            [
             0.8888888888888888,
             "#fdca26"
            ],
            [
             1,
             "#f0f921"
            ]
           ]
          },
          "colorway": [
           "#636efa",
           "#EF553B",
           "#00cc96",
           "#ab63fa",
           "#FFA15A",
           "#19d3f3",
           "#FF6692",
           "#B6E880",
           "#FF97FF",
           "#FECB52"
          ],
          "font": {
           "color": "#2a3f5f"
          },
          "geo": {
           "bgcolor": "white",
           "lakecolor": "white",
           "landcolor": "#E5ECF6",
           "showlakes": true,
           "showland": true,
           "subunitcolor": "white"
          },
          "hoverlabel": {
           "align": "left"
          },
          "hovermode": "closest",
          "mapbox": {
           "style": "light"
          },
          "paper_bgcolor": "white",
          "plot_bgcolor": "#E5ECF6",
          "polar": {
           "angularaxis": {
            "gridcolor": "white",
            "linecolor": "white",
            "ticks": ""
           },
           "bgcolor": "#E5ECF6",
           "radialaxis": {
            "gridcolor": "white",
            "linecolor": "white",
            "ticks": ""
           }
          },
          "scene": {
           "xaxis": {
            "backgroundcolor": "#E5ECF6",
            "gridcolor": "white",
            "gridwidth": 2,
            "linecolor": "white",
            "showbackground": true,
            "ticks": "",
            "zerolinecolor": "white"
           },
           "yaxis": {
            "backgroundcolor": "#E5ECF6",
            "gridcolor": "white",
            "gridwidth": 2,
            "linecolor": "white",
            "showbackground": true,
            "ticks": "",
            "zerolinecolor": "white"
           },
           "zaxis": {
            "backgroundcolor": "#E5ECF6",
            "gridcolor": "white",
            "gridwidth": 2,
            "linecolor": "white",
            "showbackground": true,
            "ticks": "",
            "zerolinecolor": "white"
           }
          },
          "shapedefaults": {
           "line": {
            "color": "#2a3f5f"
           }
          },
          "ternary": {
           "aaxis": {
            "gridcolor": "white",
            "linecolor": "white",
            "ticks": ""
           },
           "baxis": {
            "gridcolor": "white",
            "linecolor": "white",
            "ticks": ""
           },
           "bgcolor": "#E5ECF6",
           "caxis": {
            "gridcolor": "white",
            "linecolor": "white",
            "ticks": ""
           }
          },
          "title": {
           "x": 0.05
          },
          "xaxis": {
           "automargin": true,
           "gridcolor": "white",
           "linecolor": "white",
           "ticks": "",
           "title": {
            "standoff": 15
           },
           "zerolinecolor": "white",
           "zerolinewidth": 2
          },
          "yaxis": {
           "automargin": true,
           "gridcolor": "white",
           "linecolor": "white",
           "ticks": "",
           "title": {
            "standoff": 15
           },
           "zerolinecolor": "white",
           "zerolinewidth": 2
          }
         }
        },
        "title": {
         "text": "Semantic Expansion over Writing Sessions<br><span style=\"font-size: 12px;\">*Measuring how well humans are learning while writing with GenAI</span>"
        },
        "width": 1800,
        "xaxis": {
         "anchor": "y",
         "domain": [
          0,
          1
         ],
         "gridcolor": "white",
         "linecolor": "black",
         "mirror": false,
         "range": [
          -1,
          124
         ],
         "showline": true,
         "ticks": "outside",
         "title": {
          "text": "Progress into the writing session"
         }
        },
        "yaxis": {
         "anchor": "x",
         "domain": [
          0,
          1
         ],
         "gridcolor": "white",
         "linecolor": "black",
         "mirror": false,
         "showline": true,
         "ticks": "outside",
         "title": {
          "text": "Scores"
         }
        }
       }
      }
     },
     "metadata": {},
     "output_type": "display_data"
    },
    {
     "name": "stdout",
     "output_type": "stream",
     "text": [
      "legislation_antitrust_1\n"
     ]
    },
    {
     "data": {
      "application/vnd.plotly.v1+json": {
       "config": {
        "plotlyServerURL": "https://plot.ly"
       },
       "data": [
        {
         "hovertemplate": "x=%{x}<br>y=%{y}<extra></extra>",
         "line": {
          "color": "#64B5F6",
          "width": 3
         },
         "marker": {
          "color": "#64B5F6",
          "size": 7
         },
         "mode": "lines+markers",
         "showlegend": false,
         "type": "scatter",
         "x": [
          45,
          46
         ],
         "xaxis": "x",
         "y": [
          10.854252815246582,
          11.515189707279205
         ],
         "yaxis": "y"
        },
        {
         "hovertemplate": "x=%{x}<br>y=%{y}<extra></extra>",
         "line": {
          "color": "#64B5F6",
          "width": 3
         },
         "marker": {
          "color": "#64B5F6",
          "size": 7
         },
         "mode": "lines+markers",
         "showlegend": false,
         "type": "scatter",
         "x": [
          26,
          27
         ],
         "xaxis": "x",
         "y": [
          6.9663893699646,
          7.411014211177826
         ],
         "yaxis": "y"
        },
        {
         "hovertemplate": "x=%{x}<br>y=%{y}<extra></extra>",
         "line": {
          "color": "#64B5F6",
          "width": 3
         },
         "marker": {
          "color": "#64B5F6",
          "size": 7
         },
         "mode": "lines+markers",
         "showlegend": false,
         "type": "scatter",
         "x": [
          12,
          13
         ],
         "xaxis": "x",
         "y": [
          3.7770312428474426,
          4.137918591499329
         ],
         "yaxis": "y"
        },
        {
         "hovertemplate": "x=%{x}<br>y=%{y}<extra></extra>",
         "line": {
          "color": "#64B5F6",
          "width": 3
         },
         "marker": {
          "color": "#64B5F6",
          "size": 7
         },
         "mode": "lines+markers",
         "showlegend": false,
         "type": "scatter",
         "x": [
          2,
          3
         ],
         "xaxis": "x",
         "y": [
          0.7242424845695495,
          1.1133587121963502
         ],
         "yaxis": "y"
        },
        {
         "hovertemplate": "x=%{x}<br>y=%{y}<extra></extra>",
         "line": {
          "color": "#64B5F6",
          "width": 3
         },
         "marker": {
          "color": "#64B5F6",
          "size": 7
         },
         "mode": "lines+markers",
         "showlegend": false,
         "type": "scatter",
         "x": [
          0,
          1
         ],
         "xaxis": "x",
         "y": [
          0,
          0.3788606524467468
         ],
         "yaxis": "y"
        },
        {
         "hovertemplate": "x=%{x}<br>y=%{y}<extra></extra>",
         "line": {
          "color": "#ff8fab",
          "width": 3
         },
         "marker": {
          "color": "#ff8fab",
          "size": 7
         },
         "mode": "lines+markers",
         "showlegend": false,
         "type": "scatter",
         "x": [
          48,
          49
         ],
         "xaxis": "x",
         "y": [
          12.58267526626587,
          13.150578176975252
         ],
         "yaxis": "y"
        },
        {
         "hovertemplate": "x=%{x}<br>y=%{y}<extra></extra>",
         "line": {
          "color": "#ff8fab",
          "width": 3
         },
         "marker": {
          "color": "#ff8fab",
          "size": 7
         },
         "mode": "lines+markers",
         "showlegend": false,
         "type": "scatter",
         "x": [
          47,
          48
         ],
         "xaxis": "x",
         "y": [
          12.041210448741912,
          12.58267526626587
         ],
         "yaxis": "y"
        },
        {
         "hovertemplate": "x=%{x}<br>y=%{y}<extra></extra>",
         "line": {
          "color": "#ff8fab",
          "width": 3
         },
         "marker": {
          "color": "#ff8fab",
          "size": 7
         },
         "mode": "lines+markers",
         "showlegend": false,
         "type": "scatter",
         "x": [
          46,
          47
         ],
         "xaxis": "x",
         "y": [
          11.515189707279205,
          12.041210448741912
         ],
         "yaxis": "y"
        },
        {
         "hovertemplate": "x=%{x}<br>y=%{y}<extra></extra>",
         "line": {
          "color": "#ff8fab",
          "width": 3
         },
         "marker": {
          "color": "#ff8fab",
          "size": 7
         },
         "mode": "lines+markers",
         "showlegend": false,
         "type": "scatter",
         "x": [
          44,
          45
         ],
         "xaxis": "x",
         "y": [
          10.540540146827698,
          10.854252815246582
         ],
         "yaxis": "y"
        },
        {
         "hovertemplate": "x=%{x}<br>y=%{y}<extra></extra>",
         "line": {
          "color": "#ff8fab",
          "width": 3
         },
         "marker": {
          "color": "#ff8fab",
          "size": 7
         },
         "mode": "lines+markers",
         "showlegend": false,
         "type": "scatter",
         "x": [
          43,
          44
         ],
         "xaxis": "x",
         "y": [
          10.100094079971313,
          10.540540146827698
         ],
         "yaxis": "y"
        },
        {
         "hovertemplate": "x=%{x}<br>y=%{y}<extra></extra>",
         "line": {
          "color": "#ff8fab",
          "width": 3
         },
         "marker": {
          "color": "#ff8fab",
          "size": 7
         },
         "mode": "lines+markers",
         "showlegend": false,
         "type": "scatter",
         "x": [
          40,
          41
         ],
         "xaxis": "x",
         "y": [
          10.094135069847107,
          10.63285310268402
         ],
         "yaxis": "y"
        },
        {
         "hovertemplate": "x=%{x}<br>y=%{y}<extra></extra>",
         "line": {
          "color": "#ff8fab",
          "width": 3
         },
         "marker": {
          "color": "#ff8fab",
          "size": 7
         },
         "mode": "lines+markers",
         "showlegend": false,
         "type": "scatter",
         "x": [
          39,
          40
         ],
         "xaxis": "x",
         "y": [
          9.485720157623291,
          10.094135069847107
         ],
         "yaxis": "y"
        },
        {
         "hovertemplate": "x=%{x}<br>y=%{y}<extra></extra>",
         "line": {
          "color": "#ff8fab",
          "width": 3
         },
         "marker": {
          "color": "#ff8fab",
          "size": 7
         },
         "mode": "lines+markers",
         "showlegend": false,
         "type": "scatter",
         "x": [
          37,
          38
         ],
         "xaxis": "x",
         "y": [
          9.437694334983826,
          9.927589917182923
         ],
         "yaxis": "y"
        },
        {
         "hovertemplate": "x=%{x}<br>y=%{y}<extra></extra>",
         "line": {
          "color": "#ff8fab",
          "width": 3
         },
         "marker": {
          "color": "#ff8fab",
          "size": 7
         },
         "mode": "lines+markers",
         "showlegend": false,
         "type": "scatter",
         "x": [
          36,
          37
         ],
         "xaxis": "x",
         "y": [
          8.941044926643372,
          9.437694334983826
         ],
         "yaxis": "y"
        },
        {
         "hovertemplate": "x=%{x}<br>y=%{y}<extra></extra>",
         "line": {
          "color": "#ff8fab",
          "width": 3
         },
         "marker": {
          "color": "#ff8fab",
          "size": 7
         },
         "mode": "lines+markers",
         "showlegend": false,
         "type": "scatter",
         "x": [
          32,
          33
         ],
         "xaxis": "x",
         "y": [
          8.385023474693298,
          8.698344731330872
         ],
         "yaxis": "y"
        },
        {
         "hovertemplate": "x=%{x}<br>y=%{y}<extra></extra>",
         "line": {
          "color": "#ff8fab",
          "width": 3
         },
         "marker": {
          "color": "#ff8fab",
          "size": 7
         },
         "mode": "lines+markers",
         "showlegend": false,
         "type": "scatter",
         "x": [
          27,
          28
         ],
         "xaxis": "x",
         "y": [
          7.411014211177826,
          7.7408114790916445
         ],
         "yaxis": "y"
        },
        {
         "hovertemplate": "x=%{x}<br>y=%{y}<extra></extra>",
         "line": {
          "color": "#ff8fab",
          "width": 3
         },
         "marker": {
          "color": "#ff8fab",
          "size": 7
         },
         "mode": "lines+markers",
         "showlegend": false,
         "type": "scatter",
         "x": [
          25,
          26
         ],
         "xaxis": "x",
         "y": [
          6.7100483775138855,
          6.9663893699646
         ],
         "yaxis": "y"
        },
        {
         "hovertemplate": "x=%{x}<br>y=%{y}<extra></extra>",
         "line": {
          "color": "#ff8fab",
          "width": 3
         },
         "marker": {
          "color": "#ff8fab",
          "size": 7
         },
         "mode": "lines+markers",
         "showlegend": false,
         "type": "scatter",
         "x": [
          19,
          20
         ],
         "xaxis": "x",
         "y": [
          5.281828224658966,
          5.529203414916992
         ],
         "yaxis": "y"
        },
        {
         "hovertemplate": "x=%{x}<br>y=%{y}<extra></extra>",
         "line": {
          "color": "#ff8fab",
          "width": 3
         },
         "marker": {
          "color": "#ff8fab",
          "size": 7
         },
         "mode": "lines+markers",
         "showlegend": false,
         "type": "scatter",
         "x": [
          13,
          14
         ],
         "xaxis": "x",
         "y": [
          4.137918591499329,
          4.445538818836212
         ],
         "yaxis": "y"
        },
        {
         "hovertemplate": "x=%{x}<br>y=%{y}<extra></extra>",
         "line": {
          "color": "#ff8fab",
          "width": 3
         },
         "marker": {
          "color": "#ff8fab",
          "size": 7
         },
         "mode": "lines+markers",
         "showlegend": false,
         "type": "scatter",
         "x": [
          7,
          8
         ],
         "xaxis": "x",
         "y": [
          1.7258927822113037,
          2.214394199848175
         ],
         "yaxis": "y"
        },
        {
         "hovertemplate": "x=%{x}<br>y=%{y}<extra></extra>",
         "line": {
          "color": "#ff8fab",
          "width": 3
         },
         "marker": {
          "color": "#ff8fab",
          "size": 7
         },
         "mode": "lines+markers",
         "showlegend": false,
         "type": "scatter",
         "x": [
          3,
          4
         ],
         "xaxis": "x",
         "y": [
          1.1133587121963502,
          1.5087436079978944
         ],
         "yaxis": "y"
        },
        {
         "hovertemplate": "x=%{x}<br>y=%{y}<extra></extra>",
         "line": {
          "color": "#ff8fab",
          "width": 3
         },
         "marker": {
          "color": "#ff8fab",
          "size": 7
         },
         "mode": "lines+markers",
         "showlegend": false,
         "type": "scatter",
         "x": [
          1,
          2
         ],
         "xaxis": "x",
         "y": [
          0.3788606524467468,
          0.7242424845695495
         ],
         "yaxis": "y"
        },
        {
         "hovertemplate": "x=%{x}<br>y=%{y}<extra></extra>",
         "line": {
          "color": "#023e8a",
          "width": 3
         },
         "marker": {
          "color": "#023e8a",
          "size": 7
         },
         "mode": "lines+markers",
         "showlegend": false,
         "type": "scatter",
         "x": [
          51,
          52
         ],
         "xaxis": "x",
         "y": [
          10.675708711147308,
          10.971840560436249
         ],
         "yaxis": "y"
        },
        {
         "hovertemplate": "x=%{x}<br>y=%{y}<extra></extra>",
         "line": {
          "color": "#023e8a",
          "width": 3
         },
         "marker": {
          "color": "#023e8a",
          "size": 7
         },
         "mode": "lines+markers",
         "showlegend": false,
         "type": "scatter",
         "x": [
          50,
          51
         ],
         "xaxis": "x",
         "y": [
          10.409718453884125,
          10.675708711147308
         ],
         "yaxis": "y"
        },
        {
         "hovertemplate": "x=%{x}<br>y=%{y}<extra></extra>",
         "line": {
          "color": "#023e8a",
          "width": 3
         },
         "marker": {
          "color": "#023e8a",
          "size": 7
         },
         "mode": "lines+markers",
         "showlegend": false,
         "type": "scatter",
         "x": [
          49,
          50
         ],
         "xaxis": "x",
         "y": [
          10.100094079971313,
          10.409718453884125
         ],
         "yaxis": "y"
        },
        {
         "hovertemplate": "x=%{x}<br>y=%{y}<extra></extra>",
         "line": {
          "color": "#023e8a",
          "width": 3
         },
         "marker": {
          "color": "#023e8a",
          "size": 7
         },
         "mode": "lines+markers",
         "showlegend": false,
         "type": "scatter",
         "x": [
          42,
          43
         ],
         "xaxis": "x",
         "y": [
          9.84006780385971,
          10.100094079971313
         ],
         "yaxis": "y"
        },
        {
         "hovertemplate": "x=%{x}<br>y=%{y}<extra></extra>",
         "line": {
          "color": "#023e8a",
          "width": 3
         },
         "marker": {
          "color": "#023e8a",
          "size": 7
         },
         "mode": "lines+markers",
         "showlegend": false,
         "type": "scatter",
         "x": [
          41,
          42
         ],
         "xaxis": "x",
         "y": [
          9.485720157623291,
          9.84006780385971
         ],
         "yaxis": "y"
        },
        {
         "hovertemplate": "x=%{x}<br>y=%{y}<extra></extra>",
         "line": {
          "color": "#023e8a",
          "width": 3
         },
         "marker": {
          "color": "#023e8a",
          "size": 7
         },
         "mode": "lines+markers",
         "showlegend": false,
         "type": "scatter",
         "x": [
          35,
          36
         ],
         "xaxis": "x",
         "y": [
          8.546022117137909,
          8.941044926643372
         ],
         "yaxis": "y"
        },
        {
         "hovertemplate": "x=%{x}<br>y=%{y}<extra></extra>",
         "line": {
          "color": "#023e8a",
          "width": 3
         },
         "marker": {
          "color": "#023e8a",
          "size": 7
         },
         "mode": "lines+markers",
         "showlegend": false,
         "type": "scatter",
         "x": [
          34,
          35
         ],
         "xaxis": "x",
         "y": [
          8.31219756603241,
          8.546022117137909
         ],
         "yaxis": "y"
        },
        {
         "hovertemplate": "x=%{x}<br>y=%{y}<extra></extra>",
         "line": {
          "color": "#023e8a",
          "width": 3
         },
         "marker": {
          "color": "#023e8a",
          "size": 7
         },
         "mode": "lines+markers",
         "showlegend": false,
         "type": "scatter",
         "x": [
          31,
          32
         ],
         "xaxis": "x",
         "y": [
          8.208910346031189,
          8.385023474693298
         ],
         "yaxis": "y"
        },
        {
         "hovertemplate": "x=%{x}<br>y=%{y}<extra></extra>",
         "line": {
          "color": "#023e8a",
          "width": 3
         },
         "marker": {
          "color": "#023e8a",
          "size": 7
         },
         "mode": "lines+markers",
         "showlegend": false,
         "type": "scatter",
         "x": [
          30,
          31
         ],
         "xaxis": "x",
         "y": [
          7.588814616203308,
          8.208910346031189
         ],
         "yaxis": "y"
        },
        {
         "hovertemplate": "x=%{x}<br>y=%{y}<extra></extra>",
         "line": {
          "color": "#023e8a",
          "width": 3
         },
         "marker": {
          "color": "#023e8a",
          "size": 7
         },
         "mode": "lines+markers",
         "showlegend": false,
         "type": "scatter",
         "x": [
          29,
          30
         ],
         "xaxis": "x",
         "y": [
          6.992775201797485,
          7.588814616203308
         ],
         "yaxis": "y"
        },
        {
         "hovertemplate": "x=%{x}<br>y=%{y}<extra></extra>",
         "line": {
          "color": "#023e8a",
          "width": 3
         },
         "marker": {
          "color": "#023e8a",
          "size": 7
         },
         "mode": "lines+markers",
         "showlegend": false,
         "type": "scatter",
         "x": [
          28,
          29
         ],
         "xaxis": "x",
         "y": [
          6.7100483775138855,
          6.992775201797485
         ],
         "yaxis": "y"
        },
        {
         "hovertemplate": "x=%{x}<br>y=%{y}<extra></extra>",
         "line": {
          "color": "#023e8a",
          "width": 3
         },
         "marker": {
          "color": "#023e8a",
          "size": 7
         },
         "mode": "lines+markers",
         "showlegend": false,
         "type": "scatter",
         "x": [
          24,
          25
         ],
         "xaxis": "x",
         "y": [
          6.516293108463287,
          6.7100483775138855
         ],
         "yaxis": "y"
        },
        {
         "hovertemplate": "x=%{x}<br>y=%{y}<extra></extra>",
         "line": {
          "color": "#023e8a",
          "width": 3
         },
         "marker": {
          "color": "#023e8a",
          "size": 7
         },
         "mode": "lines+markers",
         "showlegend": false,
         "type": "scatter",
         "x": [
          23,
          24
         ],
         "xaxis": "x",
         "y": [
          6.209642648696899,
          6.516293108463287
         ],
         "yaxis": "y"
        },
        {
         "hovertemplate": "x=%{x}<br>y=%{y}<extra></extra>",
         "line": {
          "color": "#023e8a",
          "width": 3
         },
         "marker": {
          "color": "#023e8a",
          "size": 7
         },
         "mode": "lines+markers",
         "showlegend": false,
         "type": "scatter",
         "x": [
          22,
          23
         ],
         "xaxis": "x",
         "y": [
          5.944836437702179,
          6.209642648696899
         ],
         "yaxis": "y"
        },
        {
         "hovertemplate": "x=%{x}<br>y=%{y}<extra></extra>",
         "line": {
          "color": "#023e8a",
          "width": 3
         },
         "marker": {
          "color": "#023e8a",
          "size": 7
         },
         "mode": "lines+markers",
         "showlegend": false,
         "type": "scatter",
         "x": [
          21,
          22
         ],
         "xaxis": "x",
         "y": [
          5.548551976680756,
          5.944836437702179
         ],
         "yaxis": "y"
        },
        {
         "hovertemplate": "x=%{x}<br>y=%{y}<extra></extra>",
         "line": {
          "color": "#023e8a",
          "width": 3
         },
         "marker": {
          "color": "#023e8a",
          "size": 7
         },
         "mode": "lines+markers",
         "showlegend": false,
         "type": "scatter",
         "x": [
          18,
          19
         ],
         "xaxis": "x",
         "y": [
          5.047360122203827,
          5.281828224658966
         ],
         "yaxis": "y"
        },
        {
         "hovertemplate": "x=%{x}<br>y=%{y}<extra></extra>",
         "line": {
          "color": "#023e8a",
          "width": 3
         },
         "marker": {
          "color": "#023e8a",
          "size": 7
         },
         "mode": "lines+markers",
         "showlegend": false,
         "type": "scatter",
         "x": [
          17,
          18
         ],
         "xaxis": "x",
         "y": [
          4.619430780410767,
          5.047360122203827
         ],
         "yaxis": "y"
        },
        {
         "hovertemplate": "x=%{x}<br>y=%{y}<extra></extra>",
         "line": {
          "color": "#023e8a",
          "width": 3
         },
         "marker": {
          "color": "#023e8a",
          "size": 7
         },
         "mode": "lines+markers",
         "showlegend": false,
         "type": "scatter",
         "x": [
          16,
          17
         ],
         "xaxis": "x",
         "y": [
          4.307793080806732,
          4.619430780410767
         ],
         "yaxis": "y"
        },
        {
         "hovertemplate": "x=%{x}<br>y=%{y}<extra></extra>",
         "line": {
          "color": "#023e8a",
          "width": 3
         },
         "marker": {
          "color": "#023e8a",
          "size": 7
         },
         "mode": "lines+markers",
         "showlegend": false,
         "type": "scatter",
         "x": [
          15,
          16
         ],
         "xaxis": "x",
         "y": [
          4.044474720954895,
          4.307793080806732
         ],
         "yaxis": "y"
        },
        {
         "hovertemplate": "x=%{x}<br>y=%{y}<extra></extra>",
         "line": {
          "color": "#023e8a",
          "width": 3
         },
         "marker": {
          "color": "#023e8a",
          "size": 7
         },
         "mode": "lines+markers",
         "showlegend": false,
         "type": "scatter",
         "x": [
          14,
          15
         ],
         "xaxis": "x",
         "y": [
          3.7770312428474426,
          4.044474720954895
         ],
         "yaxis": "y"
        },
        {
         "hovertemplate": "x=%{x}<br>y=%{y}<extra></extra>",
         "line": {
          "color": "#023e8a",
          "width": 3
         },
         "marker": {
          "color": "#023e8a",
          "size": 7
         },
         "mode": "lines+markers",
         "showlegend": false,
         "type": "scatter",
         "x": [
          11,
          12
         ],
         "xaxis": "x",
         "y": [
          3.4451181292533875,
          3.7770312428474426
         ],
         "yaxis": "y"
        },
        {
         "hovertemplate": "x=%{x}<br>y=%{y}<extra></extra>",
         "line": {
          "color": "#023e8a",
          "width": 3
         },
         "marker": {
          "color": "#023e8a",
          "size": 7
         },
         "mode": "lines+markers",
         "showlegend": false,
         "type": "scatter",
         "x": [
          10,
          11
         ],
         "xaxis": "x",
         "y": [
          3.0127333402633667,
          3.4451181292533875
         ],
         "yaxis": "y"
        },
        {
         "hovertemplate": "x=%{x}<br>y=%{y}<extra></extra>",
         "line": {
          "color": "#023e8a",
          "width": 3
         },
         "marker": {
          "color": "#023e8a",
          "size": 7
         },
         "mode": "lines+markers",
         "showlegend": false,
         "type": "scatter",
         "x": [
          9,
          10
         ],
         "xaxis": "x",
         "y": [
          2.102521240711212,
          3.0127333402633667
         ],
         "yaxis": "y"
        },
        {
         "hovertemplate": "x=%{x}<br>y=%{y}<extra></extra>",
         "line": {
          "color": "#023e8a",
          "width": 3
         },
         "marker": {
          "color": "#023e8a",
          "size": 7
         },
         "mode": "lines+markers",
         "showlegend": false,
         "type": "scatter",
         "x": [
          8,
          9
         ],
         "xaxis": "x",
         "y": [
          1.7258927822113037,
          2.102521240711212
         ],
         "yaxis": "y"
        },
        {
         "hovertemplate": "x=%{x}<br>y=%{y}<extra></extra>",
         "line": {
          "color": "#023e8a",
          "width": 3
         },
         "marker": {
          "color": "#023e8a",
          "size": 7
         },
         "mode": "lines+markers",
         "showlegend": false,
         "type": "scatter",
         "x": [
          6,
          7
         ],
         "xaxis": "x",
         "y": [
          1.2818763256072998,
          1.7258927822113037
         ],
         "yaxis": "y"
        },
        {
         "hovertemplate": "x=%{x}<br>y=%{y}<extra></extra>",
         "line": {
          "color": "#023e8a",
          "width": 3
         },
         "marker": {
          "color": "#023e8a",
          "size": 7
         },
         "mode": "lines+markers",
         "showlegend": false,
         "type": "scatter",
         "x": [
          5,
          6
         ],
         "xaxis": "x",
         "y": [
          0.32824164628982544,
          1.2818763256072998
         ],
         "yaxis": "y"
        },
        {
         "hovertemplate": "x=%{x}<br>y=%{y}<extra></extra>",
         "line": {
          "color": "#023e8a",
          "width": 3
         },
         "marker": {
          "color": "#023e8a",
          "size": 7
         },
         "mode": "lines+markers",
         "showlegend": false,
         "type": "scatter",
         "x": [
          4,
          5
         ],
         "xaxis": "x",
         "y": [
          0,
          0.32824164628982544
         ],
         "yaxis": "y"
        },
        {
         "hovertemplate": "x=%{x}<br>y=%{y}<extra></extra>",
         "line": {
          "color": "#c1121f",
          "width": 3
         },
         "marker": {
          "color": "#c1121f",
          "size": 7
         },
         "mode": "lines+markers",
         "showlegend": false,
         "type": "scatter",
         "x": [
          38,
          39
         ],
         "xaxis": "x",
         "y": [
          8.941044926643372,
          9.485720157623291
         ],
         "yaxis": "y"
        },
        {
         "hovertemplate": "x=%{x}<br>y=%{y}<extra></extra>",
         "line": {
          "color": "#c1121f",
          "width": 3
         },
         "marker": {
          "color": "#c1121f",
          "size": 7
         },
         "mode": "lines+markers",
         "showlegend": false,
         "type": "scatter",
         "x": [
          33,
          34
         ],
         "xaxis": "x",
         "y": [
          8.385023474693298,
          8.31219756603241
         ],
         "yaxis": "y"
        },
        {
         "hovertemplate": "x=%{x}<br>y=%{y}<extra></extra>",
         "line": {
          "color": "#c1121f",
          "width": 3
         },
         "marker": {
          "color": "#c1121f",
          "size": 7
         },
         "mode": "lines+markers",
         "showlegend": false,
         "type": "scatter",
         "x": [
          20,
          21
         ],
         "xaxis": "x",
         "y": [
          5.281828224658966,
          5.548551976680756
         ],
         "yaxis": "y"
        },
        {
         "line": {
          "color": "#64B5F6",
          "width": 2
         },
         "mode": "lines",
         "name": "human_insert_backstage",
         "showlegend": true,
         "type": "scatter",
         "x": [
          null
         ],
         "xaxis": "x",
         "y": [
          null
         ],
         "yaxis": "y"
        },
        {
         "line": {
          "color": "#ff8fab",
          "width": 2
         },
         "mode": "lines",
         "name": "ai_suggest_backstage",
         "showlegend": true,
         "type": "scatter",
         "x": [
          null
         ],
         "xaxis": "x",
         "y": [
          null
         ],
         "yaxis": "y"
        },
        {
         "line": {
          "color": "#023e8a",
          "width": 2
         },
         "mode": "lines",
         "name": "human_insert_frontstage",
         "showlegend": true,
         "type": "scatter",
         "x": [
          null
         ],
         "xaxis": "x",
         "y": [
          null
         ],
         "yaxis": "y"
        },
        {
         "line": {
          "color": "#c1121f",
          "width": 2
         },
         "mode": "lines",
         "name": "ai_insert_moved_to_frontstage",
         "showlegend": true,
         "type": "scatter",
         "x": [
          null
         ],
         "xaxis": "x",
         "y": [
          null
         ],
         "yaxis": "y"
        },
        {
         "line": {
          "color": "#9d4edd",
          "width": 2
         },
         "mode": "lines",
         "name": "human_delete_frontstage",
         "showlegend": true,
         "type": "scatter",
         "x": [
          null
         ],
         "xaxis": "x",
         "y": [
          null
         ],
         "yaxis": "y"
        },
        {
         "line": {
          "color": "#5a189a",
          "width": 2
         },
         "mode": "lines",
         "name": "human_insert_edit_frontstage",
         "showlegend": true,
         "type": "scatter",
         "x": [
          null
         ],
         "xaxis": "x",
         "y": [
          null
         ],
         "yaxis": "y"
        }
       ],
       "layout": {
        "annotations": [
         {
          "font": {
           "size": 16
          },
          "showarrow": false,
          "text": "Session: legislation_antitrust_1",
          "x": 0.5,
          "xanchor": "center",
          "xref": "paper",
          "y": 1,
          "yanchor": "bottom",
          "yref": "paper"
         }
        ],
        "height": 500,
        "legend": {
         "title": {
          "font": {
           "color": "rgba(0, 0, 0, 0)"
          }
         }
        },
        "plot_bgcolor": "white",
        "showlegend": true,
        "template": {
         "data": {
          "bar": [
           {
            "error_x": {
             "color": "#2a3f5f"
            },
            "error_y": {
             "color": "#2a3f5f"
            },
            "marker": {
             "line": {
              "color": "#E5ECF6",
              "width": 0.5
             },
             "pattern": {
              "fillmode": "overlay",
              "size": 10,
              "solidity": 0.2
             }
            },
            "type": "bar"
           }
          ],
          "barpolar": [
           {
            "marker": {
             "line": {
              "color": "#E5ECF6",
              "width": 0.5
             },
             "pattern": {
              "fillmode": "overlay",
              "size": 10,
              "solidity": 0.2
             }
            },
            "type": "barpolar"
           }
          ],
          "carpet": [
           {
            "aaxis": {
             "endlinecolor": "#2a3f5f",
             "gridcolor": "white",
             "linecolor": "white",
             "minorgridcolor": "white",
             "startlinecolor": "#2a3f5f"
            },
            "baxis": {
             "endlinecolor": "#2a3f5f",
             "gridcolor": "white",
             "linecolor": "white",
             "minorgridcolor": "white",
             "startlinecolor": "#2a3f5f"
            },
            "type": "carpet"
           }
          ],
          "choropleth": [
           {
            "colorbar": {
             "outlinewidth": 0,
             "ticks": ""
            },
            "type": "choropleth"
           }
          ],
          "contour": [
           {
            "colorbar": {
             "outlinewidth": 0,
             "ticks": ""
            },
            "colorscale": [
             [
              0,
              "#0d0887"
             ],
             [
              0.1111111111111111,
              "#46039f"
             ],
             [
              0.2222222222222222,
              "#7201a8"
             ],
             [
              0.3333333333333333,
              "#9c179e"
             ],
             [
              0.4444444444444444,
              "#bd3786"
             ],
             [
              0.5555555555555556,
              "#d8576b"
             ],
             [
              0.6666666666666666,
              "#ed7953"
             ],
             [
              0.7777777777777778,
              "#fb9f3a"
             ],
             [
              0.8888888888888888,
              "#fdca26"
             ],
             [
              1,
              "#f0f921"
             ]
            ],
            "type": "contour"
           }
          ],
          "contourcarpet": [
           {
            "colorbar": {
             "outlinewidth": 0,
             "ticks": ""
            },
            "type": "contourcarpet"
           }
          ],
          "heatmap": [
           {
            "colorbar": {
             "outlinewidth": 0,
             "ticks": ""
            },
            "colorscale": [
             [
              0,
              "#0d0887"
             ],
             [
              0.1111111111111111,
              "#46039f"
             ],
             [
              0.2222222222222222,
              "#7201a8"
             ],
             [
              0.3333333333333333,
              "#9c179e"
             ],
             [
              0.4444444444444444,
              "#bd3786"
             ],
             [
              0.5555555555555556,
              "#d8576b"
             ],
             [
              0.6666666666666666,
              "#ed7953"
             ],
             [
              0.7777777777777778,
              "#fb9f3a"
             ],
             [
              0.8888888888888888,
              "#fdca26"
             ],
             [
              1,
              "#f0f921"
             ]
            ],
            "type": "heatmap"
           }
          ],
          "histogram": [
           {
            "marker": {
             "pattern": {
              "fillmode": "overlay",
              "size": 10,
              "solidity": 0.2
             }
            },
            "type": "histogram"
           }
          ],
          "histogram2d": [
           {
            "colorbar": {
             "outlinewidth": 0,
             "ticks": ""
            },
            "colorscale": [
             [
              0,
              "#0d0887"
             ],
             [
              0.1111111111111111,
              "#46039f"
             ],
             [
              0.2222222222222222,
              "#7201a8"
             ],
             [
              0.3333333333333333,
              "#9c179e"
             ],
             [
              0.4444444444444444,
              "#bd3786"
             ],
             [
              0.5555555555555556,
              "#d8576b"
             ],
             [
              0.6666666666666666,
              "#ed7953"
             ],
             [
              0.7777777777777778,
              "#fb9f3a"
             ],
             [
              0.8888888888888888,
              "#fdca26"
             ],
             [
              1,
              "#f0f921"
             ]
            ],
            "type": "histogram2d"
           }
          ],
          "histogram2dcontour": [
           {
            "colorbar": {
             "outlinewidth": 0,
             "ticks": ""
            },
            "colorscale": [
             [
              0,
              "#0d0887"
             ],
             [
              0.1111111111111111,
              "#46039f"
             ],
             [
              0.2222222222222222,
              "#7201a8"
             ],
             [
              0.3333333333333333,
              "#9c179e"
             ],
             [
              0.4444444444444444,
              "#bd3786"
             ],
             [
              0.5555555555555556,
              "#d8576b"
             ],
             [
              0.6666666666666666,
              "#ed7953"
             ],
             [
              0.7777777777777778,
              "#fb9f3a"
             ],
             [
              0.8888888888888888,
              "#fdca26"
             ],
             [
              1,
              "#f0f921"
             ]
            ],
            "type": "histogram2dcontour"
           }
          ],
          "mesh3d": [
           {
            "colorbar": {
             "outlinewidth": 0,
             "ticks": ""
            },
            "type": "mesh3d"
           }
          ],
          "parcoords": [
           {
            "line": {
             "colorbar": {
              "outlinewidth": 0,
              "ticks": ""
             }
            },
            "type": "parcoords"
           }
          ],
          "pie": [
           {
            "automargin": true,
            "type": "pie"
           }
          ],
          "scatter": [
           {
            "fillpattern": {
             "fillmode": "overlay",
             "size": 10,
             "solidity": 0.2
            },
            "type": "scatter"
           }
          ],
          "scatter3d": [
           {
            "line": {
             "colorbar": {
              "outlinewidth": 0,
              "ticks": ""
             }
            },
            "marker": {
             "colorbar": {
              "outlinewidth": 0,
              "ticks": ""
             }
            },
            "type": "scatter3d"
           }
          ],
          "scattercarpet": [
           {
            "marker": {
             "colorbar": {
              "outlinewidth": 0,
              "ticks": ""
             }
            },
            "type": "scattercarpet"
           }
          ],
          "scattergeo": [
           {
            "marker": {
             "colorbar": {
              "outlinewidth": 0,
              "ticks": ""
             }
            },
            "type": "scattergeo"
           }
          ],
          "scattergl": [
           {
            "marker": {
             "colorbar": {
              "outlinewidth": 0,
              "ticks": ""
             }
            },
            "type": "scattergl"
           }
          ],
          "scattermap": [
           {
            "marker": {
             "colorbar": {
              "outlinewidth": 0,
              "ticks": ""
             }
            },
            "type": "scattermap"
           }
          ],
          "scattermapbox": [
           {
            "marker": {
             "colorbar": {
              "outlinewidth": 0,
              "ticks": ""
             }
            },
            "type": "scattermapbox"
           }
          ],
          "scatterpolar": [
           {
            "marker": {
             "colorbar": {
              "outlinewidth": 0,
              "ticks": ""
             }
            },
            "type": "scatterpolar"
           }
          ],
          "scatterpolargl": [
           {
            "marker": {
             "colorbar": {
              "outlinewidth": 0,
              "ticks": ""
             }
            },
            "type": "scatterpolargl"
           }
          ],
          "scatterternary": [
           {
            "marker": {
             "colorbar": {
              "outlinewidth": 0,
              "ticks": ""
             }
            },
            "type": "scatterternary"
           }
          ],
          "surface": [
           {
            "colorbar": {
             "outlinewidth": 0,
             "ticks": ""
            },
            "colorscale": [
             [
              0,
              "#0d0887"
             ],
             [
              0.1111111111111111,
              "#46039f"
             ],
             [
              0.2222222222222222,
              "#7201a8"
             ],
             [
              0.3333333333333333,
              "#9c179e"
             ],
             [
              0.4444444444444444,
              "#bd3786"
             ],
             [
              0.5555555555555556,
              "#d8576b"
             ],
             [
              0.6666666666666666,
              "#ed7953"
             ],
             [
              0.7777777777777778,
              "#fb9f3a"
             ],
             [
              0.8888888888888888,
              "#fdca26"
             ],
             [
              1,
              "#f0f921"
             ]
            ],
            "type": "surface"
           }
          ],
          "table": [
           {
            "cells": {
             "fill": {
              "color": "#EBF0F8"
             },
             "line": {
              "color": "white"
             }
            },
            "header": {
             "fill": {
              "color": "#C8D4E3"
             },
             "line": {
              "color": "white"
             }
            },
            "type": "table"
           }
          ]
         },
         "layout": {
          "annotationdefaults": {
           "arrowcolor": "#2a3f5f",
           "arrowhead": 0,
           "arrowwidth": 1
          },
          "autotypenumbers": "strict",
          "coloraxis": {
           "colorbar": {
            "outlinewidth": 0,
            "ticks": ""
           }
          },
          "colorscale": {
           "diverging": [
            [
             0,
             "#8e0152"
            ],
            [
             0.1,
             "#c51b7d"
            ],
            [
             0.2,
             "#de77ae"
            ],
            [
             0.3,
             "#f1b6da"
            ],
            [
             0.4,
             "#fde0ef"
            ],
            [
             0.5,
             "#f7f7f7"
            ],
            [
             0.6,
             "#e6f5d0"
            ],
            [
             0.7,
             "#b8e186"
            ],
            [
             0.8,
             "#7fbc41"
            ],
            [
             0.9,
             "#4d9221"
            ],
            [
             1,
             "#276419"
            ]
           ],
           "sequential": [
            [
             0,
             "#0d0887"
            ],
            [
             0.1111111111111111,
             "#46039f"
            ],
            [
             0.2222222222222222,
             "#7201a8"
            ],
            [
             0.3333333333333333,
             "#9c179e"
            ],
            [
             0.4444444444444444,
             "#bd3786"
            ],
            [
             0.5555555555555556,
             "#d8576b"
            ],
            [
             0.6666666666666666,
             "#ed7953"
            ],
            [
             0.7777777777777778,
             "#fb9f3a"
            ],
            [
             0.8888888888888888,
             "#fdca26"
            ],
            [
             1,
             "#f0f921"
            ]
           ],
           "sequentialminus": [
            [
             0,
             "#0d0887"
            ],
            [
             0.1111111111111111,
             "#46039f"
            ],
            [
             0.2222222222222222,
             "#7201a8"
            ],
            [
             0.3333333333333333,
             "#9c179e"
            ],
            [
             0.4444444444444444,
             "#bd3786"
            ],
            [
             0.5555555555555556,
             "#d8576b"
            ],
            [
             0.6666666666666666,
             "#ed7953"
            ],
            [
             0.7777777777777778,
             "#fb9f3a"
            ],
            [
             0.8888888888888888,
             "#fdca26"
            ],
            [
             1,
             "#f0f921"
            ]
           ]
          },
          "colorway": [
           "#636efa",
           "#EF553B",
           "#00cc96",
           "#ab63fa",
           "#FFA15A",
           "#19d3f3",
           "#FF6692",
           "#B6E880",
           "#FF97FF",
           "#FECB52"
          ],
          "font": {
           "color": "#2a3f5f"
          },
          "geo": {
           "bgcolor": "white",
           "lakecolor": "white",
           "landcolor": "#E5ECF6",
           "showlakes": true,
           "showland": true,
           "subunitcolor": "white"
          },
          "hoverlabel": {
           "align": "left"
          },
          "hovermode": "closest",
          "mapbox": {
           "style": "light"
          },
          "paper_bgcolor": "white",
          "plot_bgcolor": "#E5ECF6",
          "polar": {
           "angularaxis": {
            "gridcolor": "white",
            "linecolor": "white",
            "ticks": ""
           },
           "bgcolor": "#E5ECF6",
           "radialaxis": {
            "gridcolor": "white",
            "linecolor": "white",
            "ticks": ""
           }
          },
          "scene": {
           "xaxis": {
            "backgroundcolor": "#E5ECF6",
            "gridcolor": "white",
            "gridwidth": 2,
            "linecolor": "white",
            "showbackground": true,
            "ticks": "",
            "zerolinecolor": "white"
           },
           "yaxis": {
            "backgroundcolor": "#E5ECF6",
            "gridcolor": "white",
            "gridwidth": 2,
            "linecolor": "white",
            "showbackground": true,
            "ticks": "",
            "zerolinecolor": "white"
           },
           "zaxis": {
            "backgroundcolor": "#E5ECF6",
            "gridcolor": "white",
            "gridwidth": 2,
            "linecolor": "white",
            "showbackground": true,
            "ticks": "",
            "zerolinecolor": "white"
           }
          },
          "shapedefaults": {
           "line": {
            "color": "#2a3f5f"
           }
          },
          "ternary": {
           "aaxis": {
            "gridcolor": "white",
            "linecolor": "white",
            "ticks": ""
           },
           "baxis": {
            "gridcolor": "white",
            "linecolor": "white",
            "ticks": ""
           },
           "bgcolor": "#E5ECF6",
           "caxis": {
            "gridcolor": "white",
            "linecolor": "white",
            "ticks": ""
           }
          },
          "title": {
           "x": 0.05
          },
          "xaxis": {
           "automargin": true,
           "gridcolor": "white",
           "linecolor": "white",
           "ticks": "",
           "title": {
            "standoff": 15
           },
           "zerolinecolor": "white",
           "zerolinewidth": 2
          },
          "yaxis": {
           "automargin": true,
           "gridcolor": "white",
           "linecolor": "white",
           "ticks": "",
           "title": {
            "standoff": 15
           },
           "zerolinecolor": "white",
           "zerolinewidth": 2
          }
         }
        },
        "title": {
         "text": "Semantic Expansion over Writing Sessions<br><span style=\"font-size: 12px;\">*Measuring how well humans are learning while writing with GenAI</span>"
        },
        "width": 1800,
        "xaxis": {
         "anchor": "y",
         "domain": [
          0,
          1
         ],
         "gridcolor": "white",
         "linecolor": "black",
         "mirror": false,
         "range": [
          -1,
          53
         ],
         "showline": true,
         "ticks": "outside",
         "title": {
          "text": "Progress into the writing session"
         }
        },
        "yaxis": {
         "anchor": "x",
         "domain": [
          0,
          1
         ],
         "gridcolor": "white",
         "linecolor": "black",
         "mirror": false,
         "showline": true,
         "ticks": "outside",
         "title": {
          "text": "Scores"
         }
        }
       }
      }
     },
     "metadata": {},
     "output_type": "display_data"
    },
    {
     "name": "stdout",
     "output_type": "stream",
     "text": [
      "legislation_antitrust_2\n"
     ]
    },
    {
     "data": {
      "application/vnd.plotly.v1+json": {
       "config": {
        "plotlyServerURL": "https://plot.ly"
       },
       "data": [
        {
         "hovertemplate": "x=%{x}<br>y=%{y}<extra></extra>",
         "line": {
          "color": "#64B5F6",
          "width": 3
         },
         "marker": {
          "color": "#64B5F6",
          "size": 7
         },
         "mode": "lines+markers",
         "showlegend": false,
         "type": "scatter",
         "x": [
          110,
          111
         ],
         "xaxis": "x",
         "y": [
          15.333184480667114,
          16.14751672744751
         ],
         "yaxis": "y"
        },
        {
         "hovertemplate": "x=%{x}<br>y=%{y}<extra></extra>",
         "line": {
          "color": "#64B5F6",
          "width": 3
         },
         "marker": {
          "color": "#64B5F6",
          "size": 7
         },
         "mode": "lines+markers",
         "showlegend": false,
         "type": "scatter",
         "x": [
          105,
          106
         ],
         "xaxis": "x",
         "y": [
          14.27320283651352,
          15.109956681728363
         ],
         "yaxis": "y"
        },
        {
         "hovertemplate": "x=%{x}<br>y=%{y}<extra></extra>",
         "line": {
          "color": "#64B5F6",
          "width": 3
         },
         "marker": {
          "color": "#64B5F6",
          "size": 7
         },
         "mode": "lines+markers",
         "showlegend": false,
         "type": "scatter",
         "x": [
          95,
          96
         ],
         "xaxis": "x",
         "y": [
          13.601449656486512,
          13.900212931632996
         ],
         "yaxis": "y"
        },
        {
         "hovertemplate": "x=%{x}<br>y=%{y}<extra></extra>",
         "line": {
          "color": "#64B5F6",
          "width": 3
         },
         "marker": {
          "color": "#64B5F6",
          "size": 7
         },
         "mode": "lines+markers",
         "showlegend": false,
         "type": "scatter",
         "x": [
          93,
          94
         ],
         "xaxis": "x",
         "y": [
          12.445485138893128,
          13.247852647304535
         ],
         "yaxis": "y"
        },
        {
         "hovertemplate": "x=%{x}<br>y=%{y}<extra></extra>",
         "line": {
          "color": "#64B5F6",
          "width": 3
         },
         "marker": {
          "color": "#64B5F6",
          "size": 7
         },
         "mode": "lines+markers",
         "showlegend": false,
         "type": "scatter",
         "x": [
          91,
          92
         ],
         "xaxis": "x",
         "y": [
          11.486287474632263,
          11.987876534461975
         ],
         "yaxis": "y"
        },
        {
         "hovertemplate": "x=%{x}<br>y=%{y}<extra></extra>",
         "line": {
          "color": "#64B5F6",
          "width": 3
         },
         "marker": {
          "color": "#64B5F6",
          "size": 7
         },
         "mode": "lines+markers",
         "showlegend": false,
         "type": "scatter",
         "x": [
          88,
          89
         ],
         "xaxis": "x",
         "y": [
          11.501466453075409,
          12.26626205444336
         ],
         "yaxis": "y"
        },
        {
         "hovertemplate": "x=%{x}<br>y=%{y}<extra></extra>",
         "line": {
          "color": "#64B5F6",
          "width": 3
         },
         "marker": {
          "color": "#64B5F6",
          "size": 7
         },
         "mode": "lines+markers",
         "showlegend": false,
         "type": "scatter",
         "x": [
          83,
          84
         ],
         "xaxis": "x",
         "y": [
          11.002202451229095,
          11.202924132347107
         ],
         "yaxis": "y"
        },
        {
         "hovertemplate": "x=%{x}<br>y=%{y}<extra></extra>",
         "line": {
          "color": "#64B5F6",
          "width": 3
         },
         "marker": {
          "color": "#64B5F6",
          "size": 7
         },
         "mode": "lines+markers",
         "showlegend": false,
         "type": "scatter",
         "x": [
          81,
          82
         ],
         "xaxis": "x",
         "y": [
          10.356598794460297,
          10.557320475578308
         ],
         "yaxis": "y"
        },
        {
         "hovertemplate": "x=%{x}<br>y=%{y}<extra></extra>",
         "line": {
          "color": "#64B5F6",
          "width": 3
         },
         "marker": {
          "color": "#64B5F6",
          "size": 7
         },
         "mode": "lines+markers",
         "showlegend": false,
         "type": "scatter",
         "x": [
          78,
          79
         ],
         "xaxis": "x",
         "y": [
          9.482459485530853,
          9.86958760023117
         ],
         "yaxis": "y"
        },
        {
         "hovertemplate": "x=%{x}<br>y=%{y}<extra></extra>",
         "line": {
          "color": "#64B5F6",
          "width": 3
         },
         "marker": {
          "color": "#64B5F6",
          "size": 7
         },
         "mode": "lines+markers",
         "showlegend": false,
         "type": "scatter",
         "x": [
          75,
          76
         ],
         "xaxis": "x",
         "y": [
          10.416095554828644,
          11.22813731431961
         ],
         "yaxis": "y"
        },
        {
         "hovertemplate": "x=%{x}<br>y=%{y}<extra></extra>",
         "line": {
          "color": "#64B5F6",
          "width": 3
         },
         "marker": {
          "color": "#64B5F6",
          "size": 7
         },
         "mode": "lines+markers",
         "showlegend": false,
         "type": "scatter",
         "x": [
          71,
          72
         ],
         "xaxis": "x",
         "y": [
          9.338390171527863,
          9.707133412361145
         ],
         "yaxis": "y"
        },
        {
         "hovertemplate": "x=%{x}<br>y=%{y}<extra></extra>",
         "line": {
          "color": "#64B5F6",
          "width": 3
         },
         "marker": {
          "color": "#64B5F6",
          "size": 7
         },
         "mode": "lines+markers",
         "showlegend": false,
         "type": "scatter",
         "x": [
          67,
          68
         ],
         "xaxis": "x",
         "y": [
          8.998796594142913,
          9.78378380537033
         ],
         "yaxis": "y"
        },
        {
         "hovertemplate": "x=%{x}<br>y=%{y}<extra></extra>",
         "line": {
          "color": "#64B5F6",
          "width": 3
         },
         "marker": {
          "color": "#64B5F6",
          "size": 7
         },
         "mode": "lines+markers",
         "showlegend": false,
         "type": "scatter",
         "x": [
          63,
          64
         ],
         "xaxis": "x",
         "y": [
          8.735892009735107,
          8.619326245784759
         ],
         "yaxis": "y"
        },
        {
         "hovertemplate": "x=%{x}<br>y=%{y}<extra></extra>",
         "line": {
          "color": "#64B5F6",
          "width": 3
         },
         "marker": {
          "color": "#64B5F6",
          "size": 7
         },
         "mode": "lines+markers",
         "showlegend": false,
         "type": "scatter",
         "x": [
          59,
          60
         ],
         "xaxis": "x",
         "y": [
          11.86620012521744,
          12.673298871517183
         ],
         "yaxis": "y"
        },
        {
         "hovertemplate": "x=%{x}<br>y=%{y}<extra></extra>",
         "line": {
          "color": "#64B5F6",
          "width": 3
         },
         "marker": {
          "color": "#64B5F6",
          "size": 7
         },
         "mode": "lines+markers",
         "showlegend": false,
         "type": "scatter",
         "x": [
          57,
          58
         ],
         "xaxis": "x",
         "y": [
          11.24570611715317,
          11.581369853019716
         ],
         "yaxis": "y"
        },
        {
         "hovertemplate": "x=%{x}<br>y=%{y}<extra></extra>",
         "line": {
          "color": "#64B5F6",
          "width": 3
         },
         "marker": {
          "color": "#64B5F6",
          "size": 7
         },
         "mode": "lines+markers",
         "showlegend": false,
         "type": "scatter",
         "x": [
          55,
          56
         ],
         "xaxis": "x",
         "y": [
          9.977360272407532,
          10.984042549133301
         ],
         "yaxis": "y"
        },
        {
         "hovertemplate": "x=%{x}<br>y=%{y}<extra></extra>",
         "line": {
          "color": "#64B5F6",
          "width": 3
         },
         "marker": {
          "color": "#64B5F6",
          "size": 7
         },
         "mode": "lines+markers",
         "showlegend": false,
         "type": "scatter",
         "x": [
          52,
          53
         ],
         "xaxis": "x",
         "y": [
          7.980397284030914,
          8.730184674263
         ],
         "yaxis": "y"
        },
        {
         "hovertemplate": "x=%{x}<br>y=%{y}<extra></extra>",
         "line": {
          "color": "#64B5F6",
          "width": 3
         },
         "marker": {
          "color": "#64B5F6",
          "size": 7
         },
         "mode": "lines+markers",
         "showlegend": false,
         "type": "scatter",
         "x": [
          49,
          50
         ],
         "xaxis": "x",
         "y": [
          7.521755635738373,
          7.93738979101181
         ],
         "yaxis": "y"
        },
        {
         "hovertemplate": "x=%{x}<br>y=%{y}<extra></extra>",
         "line": {
          "color": "#64B5F6",
          "width": 3
         },
         "marker": {
          "color": "#64B5F6",
          "size": 7
         },
         "mode": "lines+markers",
         "showlegend": false,
         "type": "scatter",
         "x": [
          46,
          47
         ],
         "xaxis": "x",
         "y": [
          8.033739578723907,
          8.268153858184814
         ],
         "yaxis": "y"
        },
        {
         "hovertemplate": "x=%{x}<br>y=%{y}<extra></extra>",
         "line": {
          "color": "#64B5F6",
          "width": 3
         },
         "marker": {
          "color": "#64B5F6",
          "size": 7
         },
         "mode": "lines+markers",
         "showlegend": false,
         "type": "scatter",
         "x": [
          37,
          38
         ],
         "xaxis": "x",
         "y": [
          6.761120855808258,
          7.266018569469452
         ],
         "yaxis": "y"
        },
        {
         "hovertemplate": "x=%{x}<br>y=%{y}<extra></extra>",
         "line": {
          "color": "#64B5F6",
          "width": 3
         },
         "marker": {
          "color": "#64B5F6",
          "size": 7
         },
         "mode": "lines+markers",
         "showlegend": false,
         "type": "scatter",
         "x": [
          32,
          33
         ],
         "xaxis": "x",
         "y": [
          6.626870930194855,
          7.013193845748901
         ],
         "yaxis": "y"
        },
        {
         "hovertemplate": "x=%{x}<br>y=%{y}<extra></extra>",
         "line": {
          "color": "#64B5F6",
          "width": 3
         },
         "marker": {
          "color": "#64B5F6",
          "size": 7
         },
         "mode": "lines+markers",
         "showlegend": false,
         "type": "scatter",
         "x": [
          30,
          31
         ],
         "xaxis": "x",
         "y": [
          5.826832592487335,
          6.022643744945526
         ],
         "yaxis": "y"
        },
        {
         "hovertemplate": "x=%{x}<br>y=%{y}<extra></extra>",
         "line": {
          "color": "#64B5F6",
          "width": 3
         },
         "marker": {
          "color": "#64B5F6",
          "size": 7
         },
         "mode": "lines+markers",
         "showlegend": false,
         "type": "scatter",
         "x": [
          25,
          26
         ],
         "xaxis": "x",
         "y": [
          5.152986288070679,
          5.348797380924225
         ],
         "yaxis": "y"
        },
        {
         "hovertemplate": "x=%{x}<br>y=%{y}<extra></extra>",
         "line": {
          "color": "#64B5F6",
          "width": 3
         },
         "marker": {
          "color": "#64B5F6",
          "size": 7
         },
         "mode": "lines+markers",
         "showlegend": false,
         "type": "scatter",
         "x": [
          20,
          21
         ],
         "xaxis": "x",
         "y": [
          4.873978018760681,
          4.901552200317383
         ],
         "yaxis": "y"
        },
        {
         "hovertemplate": "x=%{x}<br>y=%{y}<extra></extra>",
         "line": {
          "color": "#64B5F6",
          "width": 3
         },
         "marker": {
          "color": "#64B5F6",
          "size": 7
         },
         "mode": "lines+markers",
         "showlegend": false,
         "type": "scatter",
         "x": [
          16,
          17
         ],
         "xaxis": "x",
         "y": [
          3.465090298652649,
          3.9089319348335265
         ],
         "yaxis": "y"
        },
        {
         "hovertemplate": "x=%{x}<br>y=%{y}<extra></extra>",
         "line": {
          "color": "#64B5F6",
          "width": 3
         },
         "marker": {
          "color": "#64B5F6",
          "size": 7
         },
         "mode": "lines+markers",
         "showlegend": false,
         "type": "scatter",
         "x": [
          9,
          10
         ],
         "xaxis": "x",
         "y": [
          1.2248958349227905,
          1.734730839729309
         ],
         "yaxis": "y"
        },
        {
         "hovertemplate": "x=%{x}<br>y=%{y}<extra></extra>",
         "line": {
          "color": "#64B5F6",
          "width": 3
         },
         "marker": {
          "color": "#64B5F6",
          "size": 7
         },
         "mode": "lines+markers",
         "showlegend": false,
         "type": "scatter",
         "x": [
          6,
          7
         ],
         "xaxis": "x",
         "y": [
          0.3380911350250244,
          0.8175024390220642
         ],
         "yaxis": "y"
        },
        {
         "hovertemplate": "x=%{x}<br>y=%{y}<extra></extra>",
         "line": {
          "color": "#64B5F6",
          "width": 3
         },
         "marker": {
          "color": "#64B5F6",
          "size": 7
         },
         "mode": "lines+markers",
         "showlegend": false,
         "type": "scatter",
         "x": [
          2,
          3
         ],
         "xaxis": "x",
         "y": [
          0.47974696159362795,
          1.7522462844848632
         ],
         "yaxis": "y"
        },
        {
         "hovertemplate": "x=%{x}<br>y=%{y}<extra></extra>",
         "line": {
          "color": "#64B5F6",
          "width": 3
         },
         "marker": {
          "color": "#64B5F6",
          "size": 7
         },
         "mode": "lines+markers",
         "showlegend": false,
         "type": "scatter",
         "x": [
          0,
          1
         ],
         "xaxis": "x",
         "y": [
          0,
          0.16534090042114258
         ],
         "yaxis": "y"
        },
        {
         "hovertemplate": "x=%{x}<br>y=%{y}<extra></extra>",
         "line": {
          "color": "#ff8fab",
          "width": 3
         },
         "marker": {
          "color": "#ff8fab",
          "size": 7
         },
         "mode": "lines+markers",
         "showlegend": false,
         "type": "scatter",
         "x": [
          111,
          112
         ],
         "xaxis": "x",
         "y": [
          16.14751672744751,
          16.85214247703552
         ],
         "yaxis": "y"
        },
        {
         "hovertemplate": "x=%{x}<br>y=%{y}<extra></extra>",
         "line": {
          "color": "#ff8fab",
          "width": 3
         },
         "marker": {
          "color": "#ff8fab",
          "size": 7
         },
         "mode": "lines+markers",
         "showlegend": false,
         "type": "scatter",
         "x": [
          109,
          110
         ],
         "xaxis": "x",
         "y": [
          14.90624338388443,
          15.333184480667114
         ],
         "yaxis": "y"
        },
        {
         "hovertemplate": "x=%{x}<br>y=%{y}<extra></extra>",
         "line": {
          "color": "#ff8fab",
          "width": 3
         },
         "marker": {
          "color": "#ff8fab",
          "size": 7
         },
         "mode": "lines+markers",
         "showlegend": false,
         "type": "scatter",
         "x": [
          106,
          107
         ],
         "xaxis": "x",
         "y": [
          15.109956681728363,
          15.47280889749527
         ],
         "yaxis": "y"
        },
        {
         "hovertemplate": "x=%{x}<br>y=%{y}<extra></extra>",
         "line": {
          "color": "#ff8fab",
          "width": 3
         },
         "marker": {
          "color": "#ff8fab",
          "size": 7
         },
         "mode": "lines+markers",
         "showlegend": false,
         "type": "scatter",
         "x": [
          100,
          101
         ],
         "xaxis": "x",
         "y": [
          12.615813612937927,
          13.13768492937088
         ],
         "yaxis": "y"
        },
        {
         "hovertemplate": "x=%{x}<br>y=%{y}<extra></extra>",
         "line": {
          "color": "#ff8fab",
          "width": 3
         },
         "marker": {
          "color": "#ff8fab",
          "size": 7
         },
         "mode": "lines+markers",
         "showlegend": false,
         "type": "scatter",
         "x": [
          96,
          97
         ],
         "xaxis": "x",
         "y": [
          13.900212931632996,
          14.34824252128601
         ],
         "yaxis": "y"
        },
        {
         "hovertemplate": "x=%{x}<br>y=%{y}<extra></extra>",
         "line": {
          "color": "#ff8fab",
          "width": 3
         },
         "marker": {
          "color": "#ff8fab",
          "size": 7
         },
         "mode": "lines+markers",
         "showlegend": false,
         "type": "scatter",
         "x": [
          94,
          95
         ],
         "xaxis": "x",
         "y": [
          13.247852647304535,
          13.601449656486512
         ],
         "yaxis": "y"
        },
        {
         "hovertemplate": "x=%{x}<br>y=%{y}<extra></extra>",
         "line": {
          "color": "#ff8fab",
          "width": 3
         },
         "marker": {
          "color": "#ff8fab",
          "size": 7
         },
         "mode": "lines+markers",
         "showlegend": false,
         "type": "scatter",
         "x": [
          92,
          93
         ],
         "xaxis": "x",
         "y": [
          11.987876534461975,
          12.445485138893128
         ],
         "yaxis": "y"
        },
        {
         "hovertemplate": "x=%{x}<br>y=%{y}<extra></extra>",
         "line": {
          "color": "#ff8fab",
          "width": 3
         },
         "marker": {
          "color": "#ff8fab",
          "size": 7
         },
         "mode": "lines+markers",
         "showlegend": false,
         "type": "scatter",
         "x": [
          89,
          90
         ],
         "xaxis": "x",
         "y": [
          12.26626205444336,
          12.662339234352112
         ],
         "yaxis": "y"
        },
        {
         "hovertemplate": "x=%{x}<br>y=%{y}<extra></extra>",
         "line": {
          "color": "#ff8fab",
          "width": 3
         },
         "marker": {
          "color": "#ff8fab",
          "size": 7
         },
         "mode": "lines+markers",
         "showlegend": false,
         "type": "scatter",
         "x": [
          87,
          88
         ],
         "xaxis": "x",
         "y": [
          11.085616528987885,
          11.501466453075409
         ],
         "yaxis": "y"
        },
        {
         "hovertemplate": "x=%{x}<br>y=%{y}<extra></extra>",
         "line": {
          "color": "#ff8fab",
          "width": 3
         },
         "marker": {
          "color": "#ff8fab",
          "size": 7
         },
         "mode": "lines+markers",
         "showlegend": false,
         "type": "scatter",
         "x": [
          84,
          85
         ],
         "xaxis": "x",
         "y": [
          11.202924132347107,
          11.490377676486968
         ],
         "yaxis": "y"
        },
        {
         "hovertemplate": "x=%{x}<br>y=%{y}<extra></extra>",
         "line": {
          "color": "#ff8fab",
          "width": 3
         },
         "marker": {
          "color": "#ff8fab",
          "size": 7
         },
         "mode": "lines+markers",
         "showlegend": false,
         "type": "scatter",
         "x": [
          76,
          77
         ],
         "xaxis": "x",
         "y": [
          11.22813731431961,
          11.858666324615479
         ],
         "yaxis": "y"
        },
        {
         "hovertemplate": "x=%{x}<br>y=%{y}<extra></extra>",
         "line": {
          "color": "#ff8fab",
          "width": 3
         },
         "marker": {
          "color": "#ff8fab",
          "size": 7
         },
         "mode": "lines+markers",
         "showlegend": false,
         "type": "scatter",
         "x": [
          72,
          73
         ],
         "xaxis": "x",
         "y": [
          9.707133412361145,
          10.309584712982177
         ],
         "yaxis": "y"
        },
        {
         "hovertemplate": "x=%{x}<br>y=%{y}<extra></extra>",
         "line": {
          "color": "#ff8fab",
          "width": 3
         },
         "marker": {
          "color": "#ff8fab",
          "size": 7
         },
         "mode": "lines+markers",
         "showlegend": false,
         "type": "scatter",
         "x": [
          68,
          69
         ],
         "xaxis": "x",
         "y": [
          9.78378380537033,
          10.191624188423155
         ],
         "yaxis": "y"
        },
        {
         "hovertemplate": "x=%{x}<br>y=%{y}<extra></extra>",
         "line": {
          "color": "#ff8fab",
          "width": 3
         },
         "marker": {
          "color": "#ff8fab",
          "size": 7
         },
         "mode": "lines+markers",
         "showlegend": false,
         "type": "scatter",
         "x": [
          66,
          67
         ],
         "xaxis": "x",
         "y": [
          8.613137483596802,
          8.998796594142913
         ],
         "yaxis": "y"
        },
        {
         "hovertemplate": "x=%{x}<br>y=%{y}<extra></extra>",
         "line": {
          "color": "#ff8fab",
          "width": 3
         },
         "marker": {
          "color": "#ff8fab",
          "size": 7
         },
         "mode": "lines+markers",
         "showlegend": false,
         "type": "scatter",
         "x": [
          64,
          65
         ],
         "xaxis": "x",
         "y": [
          8.619326245784759,
          8.858274495601654
         ],
         "yaxis": "y"
        },
        {
         "hovertemplate": "x=%{x}<br>y=%{y}<extra></extra>",
         "line": {
          "color": "#ff8fab",
          "width": 3
         },
         "marker": {
          "color": "#ff8fab",
          "size": 7
         },
         "mode": "lines+markers",
         "showlegend": false,
         "type": "scatter",
         "x": [
          62,
          63
         ],
         "xaxis": "x",
         "y": [
          8.392100095748901,
          8.735892009735107
         ],
         "yaxis": "y"
        },
        {
         "hovertemplate": "x=%{x}<br>y=%{y}<extra></extra>",
         "line": {
          "color": "#ff8fab",
          "width": 3
         },
         "marker": {
          "color": "#ff8fab",
          "size": 7
         },
         "mode": "lines+markers",
         "showlegend": false,
         "type": "scatter",
         "x": [
          60,
          61
         ],
         "xaxis": "x",
         "y": [
          12.673298871517183,
          13.051344108581544
         ],
         "yaxis": "y"
        },
        {
         "hovertemplate": "x=%{x}<br>y=%{y}<extra></extra>",
         "line": {
          "color": "#ff8fab",
          "width": 3
         },
         "marker": {
          "color": "#ff8fab",
          "size": 7
         },
         "mode": "lines+markers",
         "showlegend": false,
         "type": "scatter",
         "x": [
          58,
          59
         ],
         "xaxis": "x",
         "y": [
          11.581369853019716,
          11.86620012521744
         ],
         "yaxis": "y"
        },
        {
         "hovertemplate": "x=%{x}<br>y=%{y}<extra></extra>",
         "line": {
          "color": "#ff8fab",
          "width": 3
         },
         "marker": {
          "color": "#ff8fab",
          "size": 7
         },
         "mode": "lines+markers",
         "showlegend": false,
         "type": "scatter",
         "x": [
          56,
          57
         ],
         "xaxis": "x",
         "y": [
          10.984042549133301,
          11.24570611715317
         ],
         "yaxis": "y"
        },
        {
         "hovertemplate": "x=%{x}<br>y=%{y}<extra></extra>",
         "line": {
          "color": "#ff8fab",
          "width": 3
         },
         "marker": {
          "color": "#ff8fab",
          "size": 7
         },
         "mode": "lines+markers",
         "showlegend": false,
         "type": "scatter",
         "x": [
          54,
          55
         ],
         "xaxis": "x",
         "y": [
          9.35581215620041,
          9.977360272407532
         ],
         "yaxis": "y"
        },
        {
         "hovertemplate": "x=%{x}<br>y=%{y}<extra></extra>",
         "line": {
          "color": "#ff8fab",
          "width": 3
         },
         "marker": {
          "color": "#ff8fab",
          "size": 7
         },
         "mode": "lines+markers",
         "showlegend": false,
         "type": "scatter",
         "x": [
          53,
          54
         ],
         "xaxis": "x",
         "y": [
          8.730184674263,
          9.35581215620041
         ],
         "yaxis": "y"
        },
        {
         "hovertemplate": "x=%{x}<br>y=%{y}<extra></extra>",
         "line": {
          "color": "#ff8fab",
          "width": 3
         },
         "marker": {
          "color": "#ff8fab",
          "size": 7
         },
         "mode": "lines+markers",
         "showlegend": false,
         "type": "scatter",
         "x": [
          50,
          51
         ],
         "xaxis": "x",
         "y": [
          7.93738979101181,
          8.392527198791504
         ],
         "yaxis": "y"
        },
        {
         "hovertemplate": "x=%{x}<br>y=%{y}<extra></extra>",
         "line": {
          "color": "#ff8fab",
          "width": 3
         },
         "marker": {
          "color": "#ff8fab",
          "size": 7
         },
         "mode": "lines+markers",
         "showlegend": false,
         "type": "scatter",
         "x": [
          47,
          48
         ],
         "xaxis": "x",
         "y": [
          8.268153858184814,
          8.561744284629821
         ],
         "yaxis": "y"
        },
        {
         "hovertemplate": "x=%{x}<br>y=%{y}<extra></extra>",
         "line": {
          "color": "#ff8fab",
          "width": 3
         },
         "marker": {
          "color": "#ff8fab",
          "size": 7
         },
         "mode": "lines+markers",
         "showlegend": false,
         "type": "scatter",
         "x": [
          45,
          46
         ],
         "xaxis": "x",
         "y": [
          7.637451887130737,
          8.033739578723907
         ],
         "yaxis": "y"
        },
        {
         "hovertemplate": "x=%{x}<br>y=%{y}<extra></extra>",
         "line": {
          "color": "#ff8fab",
          "width": 3
         },
         "marker": {
          "color": "#ff8fab",
          "size": 7
         },
         "mode": "lines+markers",
         "showlegend": false,
         "type": "scatter",
         "x": [
          43,
          44
         ],
         "xaxis": "x",
         "y": [
          7.3488205671310425,
          7.726562917232513
         ],
         "yaxis": "y"
        },
        {
         "hovertemplate": "x=%{x}<br>y=%{y}<extra></extra>",
         "line": {
          "color": "#ff8fab",
          "width": 3
         },
         "marker": {
          "color": "#ff8fab",
          "size": 7
         },
         "mode": "lines+markers",
         "showlegend": false,
         "type": "scatter",
         "x": [
          41,
          42
         ],
         "xaxis": "x",
         "y": [
          6.938439667224884,
          7.3741046667099
         ],
         "yaxis": "y"
        },
        {
         "hovertemplate": "x=%{x}<br>y=%{y}<extra></extra>",
         "line": {
          "color": "#ff8fab",
          "width": 3
         },
         "marker": {
          "color": "#ff8fab",
          "size": 7
         },
         "mode": "lines+markers",
         "showlegend": false,
         "type": "scatter",
         "x": [
          38,
          39
         ],
         "xaxis": "x",
         "y": [
          7.266018569469452,
          7.6328818798065186
         ],
         "yaxis": "y"
        },
        {
         "hovertemplate": "x=%{x}<br>y=%{y}<extra></extra>",
         "line": {
          "color": "#ff8fab",
          "width": 3
         },
         "marker": {
          "color": "#ff8fab",
          "size": 7
         },
         "mode": "lines+markers",
         "showlegend": false,
         "type": "scatter",
         "x": [
          36,
          37
         ],
         "xaxis": "x",
         "y": [
          6.4354371428489685,
          6.761120855808258
         ],
         "yaxis": "y"
        },
        {
         "hovertemplate": "x=%{x}<br>y=%{y}<extra></extra>",
         "line": {
          "color": "#ff8fab",
          "width": 3
         },
         "marker": {
          "color": "#ff8fab",
          "size": 7
         },
         "mode": "lines+markers",
         "showlegend": false,
         "type": "scatter",
         "x": [
          33,
          34
         ],
         "xaxis": "x",
         "y": [
          7.013193845748901,
          7.6137971639633175
         ],
         "yaxis": "y"
        },
        {
         "hovertemplate": "x=%{x}<br>y=%{y}<extra></extra>",
         "line": {
          "color": "#ff8fab",
          "width": 3
         },
         "marker": {
          "color": "#ff8fab",
          "size": 7
         },
         "mode": "lines+markers",
         "showlegend": false,
         "type": "scatter",
         "x": [
          31,
          32
         ],
         "xaxis": "x",
         "y": [
          6.022643744945526,
          6.626870930194855
         ],
         "yaxis": "y"
        },
        {
         "hovertemplate": "x=%{x}<br>y=%{y}<extra></extra>",
         "line": {
          "color": "#ff8fab",
          "width": 3
         },
         "marker": {
          "color": "#ff8fab",
          "size": 7
         },
         "mode": "lines+markers",
         "showlegend": false,
         "type": "scatter",
         "x": [
          26,
          27
         ],
         "xaxis": "x",
         "y": [
          5.348797380924225,
          5.6669947624206545
         ],
         "yaxis": "y"
        },
        {
         "hovertemplate": "x=%{x}<br>y=%{y}<extra></extra>",
         "line": {
          "color": "#ff8fab",
          "width": 3
         },
         "marker": {
          "color": "#ff8fab",
          "size": 7
         },
         "mode": "lines+markers",
         "showlegend": false,
         "type": "scatter",
         "x": [
          21,
          22
         ],
         "xaxis": "x",
         "y": [
          4.901552200317383,
          5.2093200325965885
         ],
         "yaxis": "y"
        },
        {
         "hovertemplate": "x=%{x}<br>y=%{y}<extra></extra>",
         "line": {
          "color": "#ff8fab",
          "width": 3
         },
         "marker": {
          "color": "#ff8fab",
          "size": 7
         },
         "mode": "lines+markers",
         "showlegend": false,
         "type": "scatter",
         "x": [
          17,
          18
         ],
         "xaxis": "x",
         "y": [
          3.9089319348335265,
          4.236560595035552
         ],
         "yaxis": "y"
        },
        {
         "hovertemplate": "x=%{x}<br>y=%{y}<extra></extra>",
         "line": {
          "color": "#ff8fab",
          "width": 3
         },
         "marker": {
          "color": "#ff8fab",
          "size": 7
         },
         "mode": "lines+markers",
         "showlegend": false,
         "type": "scatter",
         "x": [
          15,
          16
         ],
         "xaxis": "x",
         "y": [
          3.1376774311065674,
          3.465090298652649
         ],
         "yaxis": "y"
        },
        {
         "hovertemplate": "x=%{x}<br>y=%{y}<extra></extra>",
         "line": {
          "color": "#ff8fab",
          "width": 3
         },
         "marker": {
          "color": "#ff8fab",
          "size": 7
         },
         "mode": "lines+markers",
         "showlegend": false,
         "type": "scatter",
         "x": [
          10,
          11
         ],
         "xaxis": "x",
         "y": [
          1.734730839729309,
          2.1823998212814333
         ],
         "yaxis": "y"
        },
        {
         "hovertemplate": "x=%{x}<br>y=%{y}<extra></extra>",
         "line": {
          "color": "#ff8fab",
          "width": 3
         },
         "marker": {
          "color": "#ff8fab",
          "size": 7
         },
         "mode": "lines+markers",
         "showlegend": false,
         "type": "scatter",
         "x": [
          7,
          8
         ],
         "xaxis": "x",
         "y": [
          0.8175024390220642,
          1.1664928436279296
         ],
         "yaxis": "y"
        },
        {
         "hovertemplate": "x=%{x}<br>y=%{y}<extra></extra>",
         "line": {
          "color": "#ff8fab",
          "width": 3
         },
         "marker": {
          "color": "#ff8fab",
          "size": 7
         },
         "mode": "lines+markers",
         "showlegend": false,
         "type": "scatter",
         "x": [
          4,
          5
         ],
         "xaxis": "x",
         "y": [
          2.0886136889457703,
          1.6784580588340758
         ],
         "yaxis": "y"
        },
        {
         "hovertemplate": "x=%{x}<br>y=%{y}<extra></extra>",
         "line": {
          "color": "#ff8fab",
          "width": 3
         },
         "marker": {
          "color": "#ff8fab",
          "size": 7
         },
         "mode": "lines+markers",
         "showlegend": false,
         "type": "scatter",
         "x": [
          3,
          4
         ],
         "xaxis": "x",
         "y": [
          1.7522462844848632,
          2.0886136889457703
         ],
         "yaxis": "y"
        },
        {
         "hovertemplate": "x=%{x}<br>y=%{y}<extra></extra>",
         "line": {
          "color": "#ff8fab",
          "width": 3
         },
         "marker": {
          "color": "#ff8fab",
          "size": 7
         },
         "mode": "lines+markers",
         "showlegend": false,
         "type": "scatter",
         "x": [
          1,
          2
         ],
         "xaxis": "x",
         "y": [
          0.16534090042114258,
          0.47974696159362795
         ],
         "yaxis": "y"
        },
        {
         "hovertemplate": "x=%{x}<br>y=%{y}<extra></extra>",
         "line": {
          "color": "#023e8a",
          "width": 3
         },
         "marker": {
          "color": "#023e8a",
          "size": 7
         },
         "mode": "lines+markers",
         "showlegend": false,
         "type": "scatter",
         "x": [
          116,
          117
         ],
         "xaxis": "x",
         "y": [
          15.903131663799286,
          16.316058218479156
         ],
         "yaxis": "y"
        },
        {
         "hovertemplate": "x=%{x}<br>y=%{y}<extra></extra>",
         "line": {
          "color": "#023e8a",
          "width": 3
         },
         "marker": {
          "color": "#023e8a",
          "size": 7
         },
         "mode": "lines+markers",
         "showlegend": false,
         "type": "scatter",
         "x": [
          114,
          115
         ],
         "xaxis": "x",
         "y": [
          16.19465273618698,
          16.929230749607086
         ],
         "yaxis": "y"
        },
        {
         "hovertemplate": "x=%{x}<br>y=%{y}<extra></extra>",
         "line": {
          "color": "#023e8a",
          "width": 3
         },
         "marker": {
          "color": "#023e8a",
          "size": 7
         },
         "mode": "lines+markers",
         "showlegend": false,
         "type": "scatter",
         "x": [
          113,
          114
         ],
         "xaxis": "x",
         "y": [
          15.606251180171967,
          16.19465273618698
         ],
         "yaxis": "y"
        },
        {
         "hovertemplate": "x=%{x}<br>y=%{y}<extra></extra>",
         "line": {
          "color": "#023e8a",
          "width": 3
         },
         "marker": {
          "color": "#023e8a",
          "size": 7
         },
         "mode": "lines+markers",
         "showlegend": false,
         "type": "scatter",
         "x": [
          108,
          109
         ],
         "xaxis": "x",
         "y": [
          14.589723110198975,
          14.90624338388443
         ],
         "yaxis": "y"
        },
        {
         "hovertemplate": "x=%{x}<br>y=%{y}<extra></extra>",
         "line": {
          "color": "#023e8a",
          "width": 3
         },
         "marker": {
          "color": "#023e8a",
          "size": 7
         },
         "mode": "lines+markers",
         "showlegend": false,
         "type": "scatter",
         "x": [
          103,
          104
         ],
         "xaxis": "x",
         "y": [
          14.761449217796326,
          15.335811972618103
         ],
         "yaxis": "y"
        },
        {
         "hovertemplate": "x=%{x}<br>y=%{y}<extra></extra>",
         "line": {
          "color": "#023e8a",
          "width": 3
         },
         "marker": {
          "color": "#023e8a",
          "size": 7
         },
         "mode": "lines+markers",
         "showlegend": false,
         "type": "scatter",
         "x": [
          102,
          103
         ],
         "xaxis": "x",
         "y": [
          14.250910878181458,
          14.761449217796326
         ],
         "yaxis": "y"
        },
        {
         "hovertemplate": "x=%{x}<br>y=%{y}<extra></extra>",
         "line": {
          "color": "#023e8a",
          "width": 3
         },
         "marker": {
          "color": "#023e8a",
          "size": 7
         },
         "mode": "lines+markers",
         "showlegend": false,
         "type": "scatter",
         "x": [
          99,
          100
         ],
         "xaxis": "x",
         "y": [
          12.338530361652374,
          12.615813612937927
         ],
         "yaxis": "y"
        },
        {
         "hovertemplate": "x=%{x}<br>y=%{y}<extra></extra>",
         "line": {
          "color": "#023e8a",
          "width": 3
         },
         "marker": {
          "color": "#023e8a",
          "size": 7
         },
         "mode": "lines+markers",
         "showlegend": false,
         "type": "scatter",
         "x": [
          98,
          99
         ],
         "xaxis": "x",
         "y": [
          11.998700439929962,
          12.338530361652374
         ],
         "yaxis": "y"
        },
        {
         "hovertemplate": "x=%{x}<br>y=%{y}<extra></extra>",
         "line": {
          "color": "#023e8a",
          "width": 3
         },
         "marker": {
          "color": "#023e8a",
          "size": 7
         },
         "mode": "lines+markers",
         "showlegend": false,
         "type": "scatter",
         "x": [
          85,
          86
         ],
         "xaxis": "x",
         "y": [
          11.002202451229095,
          11.364821076393127
         ],
         "yaxis": "y"
        },
        {
         "hovertemplate": "x=%{x}<br>y=%{y}<extra></extra>",
         "line": {
          "color": "#023e8a",
          "width": 3
         },
         "marker": {
          "color": "#023e8a",
          "size": 7
         },
         "mode": "lines+markers",
         "showlegend": false,
         "type": "scatter",
         "x": [
          82,
          83
         ],
         "xaxis": "x",
         "y": [
          10.356598794460297,
          11.002202451229095
         ],
         "yaxis": "y"
        },
        {
         "hovertemplate": "x=%{x}<br>y=%{y}<extra></extra>",
         "line": {
          "color": "#023e8a",
          "width": 3
         },
         "marker": {
          "color": "#023e8a",
          "size": 7
         },
         "mode": "lines+markers",
         "showlegend": false,
         "type": "scatter",
         "x": [
          80,
          81
         ],
         "xaxis": "x",
         "y": [
          10.128063142299652,
          10.356598794460297
         ],
         "yaxis": "y"
        },
        {
         "hovertemplate": "x=%{x}<br>y=%{y}<extra></extra>",
         "line": {
          "color": "#023e8a",
          "width": 3
         },
         "marker": {
          "color": "#023e8a",
          "size": 7
         },
         "mode": "lines+markers",
         "showlegend": false,
         "type": "scatter",
         "x": [
          79,
          80
         ],
         "xaxis": "x",
         "y": [
          9.482459485530853,
          10.128063142299652
         ],
         "yaxis": "y"
        },
        {
         "hovertemplate": "x=%{x}<br>y=%{y}<extra></extra>",
         "line": {
          "color": "#023e8a",
          "width": 3
         },
         "marker": {
          "color": "#023e8a",
          "size": 7
         },
         "mode": "lines+markers",
         "showlegend": false,
         "type": "scatter",
         "x": [
          74,
          75
         ],
         "xaxis": "x",
         "y": [
          9.877242863178253,
          10.416095554828644
         ],
         "yaxis": "y"
        },
        {
         "hovertemplate": "x=%{x}<br>y=%{y}<extra></extra>",
         "line": {
          "color": "#023e8a",
          "width": 3
         },
         "marker": {
          "color": "#023e8a",
          "size": 7
         },
         "mode": "lines+markers",
         "showlegend": false,
         "type": "scatter",
         "x": [
          70,
          71
         ],
         "xaxis": "x",
         "y": [
          9.046531617641449,
          9.338390171527863
         ],
         "yaxis": "y"
        },
        {
         "hovertemplate": "x=%{x}<br>y=%{y}<extra></extra>",
         "line": {
          "color": "#023e8a",
          "width": 3
         },
         "marker": {
          "color": "#023e8a",
          "size": 7
         },
         "mode": "lines+markers",
         "showlegend": false,
         "type": "scatter",
         "x": [
          44,
          45
         ],
         "xaxis": "x",
         "y": [
          7.3488205671310425,
          7.637451887130737
         ],
         "yaxis": "y"
        },
        {
         "hovertemplate": "x=%{x}<br>y=%{y}<extra></extra>",
         "line": {
          "color": "#023e8a",
          "width": 3
         },
         "marker": {
          "color": "#023e8a",
          "size": 7
         },
         "mode": "lines+markers",
         "showlegend": false,
         "type": "scatter",
         "x": [
          40,
          41
         ],
         "xaxis": "x",
         "y": [
          6.8226887583732605,
          6.938439667224884
         ],
         "yaxis": "y"
        },
        {
         "hovertemplate": "x=%{x}<br>y=%{y}<extra></extra>",
         "line": {
          "color": "#023e8a",
          "width": 3
         },
         "marker": {
          "color": "#023e8a",
          "size": 7
         },
         "mode": "lines+markers",
         "showlegend": false,
         "type": "scatter",
         "x": [
          35,
          36
         ],
         "xaxis": "x",
         "y": [
          5.915079295635223,
          6.4354371428489685
         ],
         "yaxis": "y"
        },
        {
         "hovertemplate": "x=%{x}<br>y=%{y}<extra></extra>",
         "line": {
          "color": "#023e8a",
          "width": 3
         },
         "marker": {
          "color": "#023e8a",
          "size": 7
         },
         "mode": "lines+markers",
         "showlegend": false,
         "type": "scatter",
         "x": [
          29,
          30
         ],
         "xaxis": "x",
         "y": [
          5.512848377227783,
          5.826832592487335
         ],
         "yaxis": "y"
        },
        {
         "hovertemplate": "x=%{x}<br>y=%{y}<extra></extra>",
         "line": {
          "color": "#023e8a",
          "width": 3
         },
         "marker": {
          "color": "#023e8a",
          "size": 7
         },
         "mode": "lines+markers",
         "showlegend": false,
         "type": "scatter",
         "x": [
          28,
          29
         ],
         "xaxis": "x",
         "y": [
          5.372731029987335,
          5.512848377227783
         ],
         "yaxis": "y"
        },
        {
         "hovertemplate": "x=%{x}<br>y=%{y}<extra></extra>",
         "line": {
          "color": "#023e8a",
          "width": 3
         },
         "marker": {
          "color": "#023e8a",
          "size": 7
         },
         "mode": "lines+markers",
         "showlegend": false,
         "type": "scatter",
         "x": [
          27,
          28
         ],
         "xaxis": "x",
         "y": [
          5.152986288070679,
          5.372731029987335
         ],
         "yaxis": "y"
        },
        {
         "hovertemplate": "x=%{x}<br>y=%{y}<extra></extra>",
         "line": {
          "color": "#023e8a",
          "width": 3
         },
         "marker": {
          "color": "#023e8a",
          "size": 7
         },
         "mode": "lines+markers",
         "showlegend": false,
         "type": "scatter",
         "x": [
          22,
          23
         ],
         "xaxis": "x",
         "y": [
          4.873978018760681,
          5.152986288070679
         ],
         "yaxis": "y"
        },
        {
         "hovertemplate": "x=%{x}<br>y=%{y}<extra></extra>",
         "line": {
          "color": "#023e8a",
          "width": 3
         },
         "marker": {
          "color": "#023e8a",
          "size": 7
         },
         "mode": "lines+markers",
         "showlegend": false,
         "type": "scatter",
         "x": [
          18,
          19
         ],
         "xaxis": "x",
         "y": [
          3.1376774311065674,
          3.5820083618164062
         ],
         "yaxis": "y"
        },
        {
         "hovertemplate": "x=%{x}<br>y=%{y}<extra></extra>",
         "line": {
          "color": "#023e8a",
          "width": 3
         },
         "marker": {
          "color": "#023e8a",
          "size": 7
         },
         "mode": "lines+markers",
         "showlegend": false,
         "type": "scatter",
         "x": [
          14,
          15
         ],
         "xaxis": "x",
         "y": [
          2.9686925411224365,
          3.1376774311065674
         ],
         "yaxis": "y"
        },
        {
         "hovertemplate": "x=%{x}<br>y=%{y}<extra></extra>",
         "line": {
          "color": "#023e8a",
          "width": 3
         },
         "marker": {
          "color": "#023e8a",
          "size": 7
         },
         "mode": "lines+markers",
         "showlegend": false,
         "type": "scatter",
         "x": [
          13,
          14
         ],
         "xaxis": "x",
         "y": [
          2.5008694529533386,
          2.9686925411224365
         ],
         "yaxis": "y"
        },
        {
         "hovertemplate": "x=%{x}<br>y=%{y}<extra></extra>",
         "line": {
          "color": "#023e8a",
          "width": 3
         },
         "marker": {
          "color": "#023e8a",
          "size": 7
         },
         "mode": "lines+markers",
         "showlegend": false,
         "type": "scatter",
         "x": [
          11,
          12
         ],
         "xaxis": "x",
         "y": [
          1.2248958349227905,
          1.8202862739562988
         ],
         "yaxis": "y"
        },
        {
         "hovertemplate": "x=%{x}<br>y=%{y}<extra></extra>",
         "line": {
          "color": "#c1121f",
          "width": 3
         },
         "marker": {
          "color": "#c1121f",
          "size": 7
         },
         "mode": "lines+markers",
         "showlegend": false,
         "type": "scatter",
         "x": [
          112,
          113
         ],
         "xaxis": "x",
         "y": [
          14.90624338388443,
          15.606251180171967
         ],
         "yaxis": "y"
        },
        {
         "hovertemplate": "x=%{x}<br>y=%{y}<extra></extra>",
         "line": {
          "color": "#c1121f",
          "width": 3
         },
         "marker": {
          "color": "#c1121f",
          "size": 7
         },
         "mode": "lines+markers",
         "showlegend": false,
         "type": "scatter",
         "x": [
          107,
          108
         ],
         "xaxis": "x",
         "y": [
          14.27320283651352,
          14.589723110198975
         ],
         "yaxis": "y"
        },
        {
         "hovertemplate": "x=%{x}<br>y=%{y}<extra></extra>",
         "line": {
          "color": "#c1121f",
          "width": 3
         },
         "marker": {
          "color": "#c1121f",
          "size": 7
         },
         "mode": "lines+markers",
         "showlegend": false,
         "type": "scatter",
         "x": [
          101,
          102
         ],
         "xaxis": "x",
         "y": [
          12.615813612937927,
          14.250910878181458
         ],
         "yaxis": "y"
        },
        {
         "hovertemplate": "x=%{x}<br>y=%{y}<extra></extra>",
         "line": {
          "color": "#c1121f",
          "width": 3
         },
         "marker": {
          "color": "#c1121f",
          "size": 7
         },
         "mode": "lines+markers",
         "showlegend": false,
         "type": "scatter",
         "x": [
          97,
          98
         ],
         "xaxis": "x",
         "y": [
          11.486287474632263,
          11.998700439929962
         ],
         "yaxis": "y"
        },
        {
         "hovertemplate": "x=%{x}<br>y=%{y}<extra></extra>",
         "line": {
          "color": "#c1121f",
          "width": 3
         },
         "marker": {
          "color": "#c1121f",
          "size": 7
         },
         "mode": "lines+markers",
         "showlegend": false,
         "type": "scatter",
         "x": [
          90,
          91
         ],
         "xaxis": "x",
         "y": [
          11.085616528987885,
          11.486287474632263
         ],
         "yaxis": "y"
        },
        {
         "hovertemplate": "x=%{x}<br>y=%{y}<extra></extra>",
         "line": {
          "color": "#c1121f",
          "width": 3
         },
         "marker": {
          "color": "#c1121f",
          "size": 7
         },
         "mode": "lines+markers",
         "showlegend": false,
         "type": "scatter",
         "x": [
          77,
          78
         ],
         "xaxis": "x",
         "y": [
          10.416095554828644,
          9.482459485530853
         ],
         "yaxis": "y"
        },
        {
         "hovertemplate": "x=%{x}<br>y=%{y}<extra></extra>",
         "line": {
          "color": "#c1121f",
          "width": 3
         },
         "marker": {
          "color": "#c1121f",
          "size": 7
         },
         "mode": "lines+markers",
         "showlegend": false,
         "type": "scatter",
         "x": [
          73,
          74
         ],
         "xaxis": "x",
         "y": [
          9.338390171527863,
          9.877242863178253
         ],
         "yaxis": "y"
        },
        {
         "hovertemplate": "x=%{x}<br>y=%{y}<extra></extra>",
         "line": {
          "color": "#c1121f",
          "width": 3
         },
         "marker": {
          "color": "#c1121f",
          "size": 7
         },
         "mode": "lines+markers",
         "showlegend": false,
         "type": "scatter",
         "x": [
          69,
          70
         ],
         "xaxis": "x",
         "y": [
          8.613137483596802,
          9.046531617641449
         ],
         "yaxis": "y"
        },
        {
         "hovertemplate": "x=%{x}<br>y=%{y}<extra></extra>",
         "line": {
          "color": "#c1121f",
          "width": 3
         },
         "marker": {
          "color": "#c1121f",
          "size": 7
         },
         "mode": "lines+markers",
         "showlegend": false,
         "type": "scatter",
         "x": [
          65,
          66
         ],
         "xaxis": "x",
         "y": [
          8.392100095748901,
          8.613137483596802
         ],
         "yaxis": "y"
        },
        {
         "hovertemplate": "x=%{x}<br>y=%{y}<extra></extra>",
         "line": {
          "color": "#c1121f",
          "width": 3
         },
         "marker": {
          "color": "#c1121f",
          "size": 7
         },
         "mode": "lines+markers",
         "showlegend": false,
         "type": "scatter",
         "x": [
          61,
          62
         ],
         "xaxis": "x",
         "y": [
          7.980397284030914,
          8.392100095748901
         ],
         "yaxis": "y"
        },
        {
         "hovertemplate": "x=%{x}<br>y=%{y}<extra></extra>",
         "line": {
          "color": "#c1121f",
          "width": 3
         },
         "marker": {
          "color": "#c1121f",
          "size": 7
         },
         "mode": "lines+markers",
         "showlegend": false,
         "type": "scatter",
         "x": [
          51,
          52
         ],
         "xaxis": "x",
         "y": [
          7.521755635738373,
          7.980397284030914
         ],
         "yaxis": "y"
        },
        {
         "hovertemplate": "x=%{x}<br>y=%{y}<extra></extra>",
         "line": {
          "color": "#c1121f",
          "width": 3
         },
         "marker": {
          "color": "#c1121f",
          "size": 7
         },
         "mode": "lines+markers",
         "showlegend": false,
         "type": "scatter",
         "x": [
          42,
          43
         ],
         "xaxis": "x",
         "y": [
          6.938439667224884,
          7.3488205671310425
         ],
         "yaxis": "y"
        },
        {
         "hovertemplate": "x=%{x}<br>y=%{y}<extra></extra>",
         "line": {
          "color": "#c1121f",
          "width": 3
         },
         "marker": {
          "color": "#c1121f",
          "size": 7
         },
         "mode": "lines+markers",
         "showlegend": false,
         "type": "scatter",
         "x": [
          39,
          40
         ],
         "xaxis": "x",
         "y": [
          6.4354371428489685,
          6.8226887583732605
         ],
         "yaxis": "y"
        },
        {
         "hovertemplate": "x=%{x}<br>y=%{y}<extra></extra>",
         "line": {
          "color": "#c1121f",
          "width": 3
         },
         "marker": {
          "color": "#c1121f",
          "size": 7
         },
         "mode": "lines+markers",
         "showlegend": false,
         "type": "scatter",
         "x": [
          8,
          9
         ],
         "xaxis": "x",
         "y": [
          0.3380911350250244,
          1.2248958349227905
         ],
         "yaxis": "y"
        },
        {
         "hovertemplate": "x=%{x}<br>y=%{y}<extra></extra>",
         "line": {
          "color": "#c1121f",
          "width": 3
         },
         "marker": {
          "color": "#c1121f",
          "size": 7
         },
         "mode": "lines+markers",
         "showlegend": false,
         "type": "scatter",
         "x": [
          5,
          6
         ],
         "xaxis": "x",
         "y": [
          0,
          0.3380911350250244
         ],
         "yaxis": "y"
        },
        {
         "hovertemplate": "x=%{x}<br>y=%{y}<extra></extra>",
         "line": {
          "color": "#9d4edd",
          "width": 3
         },
         "marker": {
          "color": "#9d4edd",
          "size": 7
         },
         "mode": "lines+markers",
         "showlegend": false,
         "type": "scatter",
         "x": [
          115,
          116
         ],
         "xaxis": "x",
         "y": [
          16.929230749607086,
          15.903131663799286
         ],
         "yaxis": "y"
        },
        {
         "hovertemplate": "x=%{x}<br>y=%{y}<extra></extra>",
         "line": {
          "color": "#9d4edd",
          "width": 3
         },
         "marker": {
          "color": "#9d4edd",
          "size": 7
         },
         "mode": "lines+markers",
         "showlegend": false,
         "type": "scatter",
         "x": [
          104,
          105
         ],
         "xaxis": "x",
         "y": [
          15.335811972618103,
          14.27320283651352
         ],
         "yaxis": "y"
        },
        {
         "hovertemplate": "x=%{x}<br>y=%{y}<extra></extra>",
         "line": {
          "color": "#9d4edd",
          "width": 3
         },
         "marker": {
          "color": "#9d4edd",
          "size": 7
         },
         "mode": "lines+markers",
         "showlegend": false,
         "type": "scatter",
         "x": [
          86,
          87
         ],
         "xaxis": "x",
         "y": [
          11.364821076393127,
          11.085616528987885
         ],
         "yaxis": "y"
        },
        {
         "hovertemplate": "x=%{x}<br>y=%{y}<extra></extra>",
         "line": {
          "color": "#9d4edd",
          "width": 3
         },
         "marker": {
          "color": "#9d4edd",
          "size": 7
         },
         "mode": "lines+markers",
         "showlegend": false,
         "type": "scatter",
         "x": [
          48,
          49
         ],
         "xaxis": "x",
         "y": [
          7.637451887130737,
          7.521755635738373
         ],
         "yaxis": "y"
        },
        {
         "hovertemplate": "x=%{x}<br>y=%{y}<extra></extra>",
         "line": {
          "color": "#9d4edd",
          "width": 3
         },
         "marker": {
          "color": "#9d4edd",
          "size": 7
         },
         "mode": "lines+markers",
         "showlegend": false,
         "type": "scatter",
         "x": [
          34,
          35
         ],
         "xaxis": "x",
         "y": [
          5.826832592487335,
          5.915079295635223
         ],
         "yaxis": "y"
        },
        {
         "hovertemplate": "x=%{x}<br>y=%{y}<extra></extra>",
         "line": {
          "color": "#9d4edd",
          "width": 3
         },
         "marker": {
          "color": "#9d4edd",
          "size": 7
         },
         "mode": "lines+markers",
         "showlegend": false,
         "type": "scatter",
         "x": [
          24,
          25
         ],
         "xaxis": "x",
         "y": [
          5.152986288070679,
          5.152986288070679
         ],
         "yaxis": "y"
        },
        {
         "hovertemplate": "x=%{x}<br>y=%{y}<extra></extra>",
         "line": {
          "color": "#9d4edd",
          "width": 3
         },
         "marker": {
          "color": "#9d4edd",
          "size": 7
         },
         "mode": "lines+markers",
         "showlegend": false,
         "type": "scatter",
         "x": [
          23,
          24
         ],
         "xaxis": "x",
         "y": [
          5.152986288070679,
          5.152986288070679
         ],
         "yaxis": "y"
        },
        {
         "hovertemplate": "x=%{x}<br>y=%{y}<extra></extra>",
         "line": {
          "color": "#9d4edd",
          "width": 3
         },
         "marker": {
          "color": "#9d4edd",
          "size": 7
         },
         "mode": "lines+markers",
         "showlegend": false,
         "type": "scatter",
         "x": [
          19,
          20
         ],
         "xaxis": "x",
         "y": [
          3.5820083618164062,
          4.873978018760681
         ],
         "yaxis": "y"
        },
        {
         "hovertemplate": "x=%{x}<br>y=%{y}<extra></extra>",
         "line": {
          "color": "#9d4edd",
          "width": 3
         },
         "marker": {
          "color": "#9d4edd",
          "size": 7
         },
         "mode": "lines+markers",
         "showlegend": false,
         "type": "scatter",
         "x": [
          12,
          13
         ],
         "xaxis": "x",
         "y": [
          1.8202862739562988,
          2.5008694529533386
         ],
         "yaxis": "y"
        },
        {
         "line": {
          "color": "#64B5F6",
          "width": 2
         },
         "mode": "lines",
         "name": "human_insert_backstage",
         "showlegend": true,
         "type": "scatter",
         "x": [
          null
         ],
         "xaxis": "x",
         "y": [
          null
         ],
         "yaxis": "y"
        },
        {
         "line": {
          "color": "#ff8fab",
          "width": 2
         },
         "mode": "lines",
         "name": "ai_suggest_backstage",
         "showlegend": true,
         "type": "scatter",
         "x": [
          null
         ],
         "xaxis": "x",
         "y": [
          null
         ],
         "yaxis": "y"
        },
        {
         "line": {
          "color": "#023e8a",
          "width": 2
         },
         "mode": "lines",
         "name": "human_insert_frontstage",
         "showlegend": true,
         "type": "scatter",
         "x": [
          null
         ],
         "xaxis": "x",
         "y": [
          null
         ],
         "yaxis": "y"
        },
        {
         "line": {
          "color": "#c1121f",
          "width": 2
         },
         "mode": "lines",
         "name": "ai_insert_moved_to_frontstage",
         "showlegend": true,
         "type": "scatter",
         "x": [
          null
         ],
         "xaxis": "x",
         "y": [
          null
         ],
         "yaxis": "y"
        },
        {
         "line": {
          "color": "#9d4edd",
          "width": 2
         },
         "mode": "lines",
         "name": "human_delete_frontstage",
         "showlegend": true,
         "type": "scatter",
         "x": [
          null
         ],
         "xaxis": "x",
         "y": [
          null
         ],
         "yaxis": "y"
        },
        {
         "line": {
          "color": "#5a189a",
          "width": 2
         },
         "mode": "lines",
         "name": "human_insert_edit_frontstage",
         "showlegend": true,
         "type": "scatter",
         "x": [
          null
         ],
         "xaxis": "x",
         "y": [
          null
         ],
         "yaxis": "y"
        }
       ],
       "layout": {
        "annotations": [
         {
          "font": {
           "size": 16
          },
          "showarrow": false,
          "text": "Session: legislation_antitrust_2",
          "x": 0.5,
          "xanchor": "center",
          "xref": "paper",
          "y": 1,
          "yanchor": "bottom",
          "yref": "paper"
         }
        ],
        "height": 500,
        "legend": {
         "title": {
          "font": {
           "color": "rgba(0, 0, 0, 0)"
          }
         }
        },
        "plot_bgcolor": "white",
        "showlegend": true,
        "template": {
         "data": {
          "bar": [
           {
            "error_x": {
             "color": "#2a3f5f"
            },
            "error_y": {
             "color": "#2a3f5f"
            },
            "marker": {
             "line": {
              "color": "#E5ECF6",
              "width": 0.5
             },
             "pattern": {
              "fillmode": "overlay",
              "size": 10,
              "solidity": 0.2
             }
            },
            "type": "bar"
           }
          ],
          "barpolar": [
           {
            "marker": {
             "line": {
              "color": "#E5ECF6",
              "width": 0.5
             },
             "pattern": {
              "fillmode": "overlay",
              "size": 10,
              "solidity": 0.2
             }
            },
            "type": "barpolar"
           }
          ],
          "carpet": [
           {
            "aaxis": {
             "endlinecolor": "#2a3f5f",
             "gridcolor": "white",
             "linecolor": "white",
             "minorgridcolor": "white",
             "startlinecolor": "#2a3f5f"
            },
            "baxis": {
             "endlinecolor": "#2a3f5f",
             "gridcolor": "white",
             "linecolor": "white",
             "minorgridcolor": "white",
             "startlinecolor": "#2a3f5f"
            },
            "type": "carpet"
           }
          ],
          "choropleth": [
           {
            "colorbar": {
             "outlinewidth": 0,
             "ticks": ""
            },
            "type": "choropleth"
           }
          ],
          "contour": [
           {
            "colorbar": {
             "outlinewidth": 0,
             "ticks": ""
            },
            "colorscale": [
             [
              0,
              "#0d0887"
             ],
             [
              0.1111111111111111,
              "#46039f"
             ],
             [
              0.2222222222222222,
              "#7201a8"
             ],
             [
              0.3333333333333333,
              "#9c179e"
             ],
             [
              0.4444444444444444,
              "#bd3786"
             ],
             [
              0.5555555555555556,
              "#d8576b"
             ],
             [
              0.6666666666666666,
              "#ed7953"
             ],
             [
              0.7777777777777778,
              "#fb9f3a"
             ],
             [
              0.8888888888888888,
              "#fdca26"
             ],
             [
              1,
              "#f0f921"
             ]
            ],
            "type": "contour"
           }
          ],
          "contourcarpet": [
           {
            "colorbar": {
             "outlinewidth": 0,
             "ticks": ""
            },
            "type": "contourcarpet"
           }
          ],
          "heatmap": [
           {
            "colorbar": {
             "outlinewidth": 0,
             "ticks": ""
            },
            "colorscale": [
             [
              0,
              "#0d0887"
             ],
             [
              0.1111111111111111,
              "#46039f"
             ],
             [
              0.2222222222222222,
              "#7201a8"
             ],
             [
              0.3333333333333333,
              "#9c179e"
             ],
             [
              0.4444444444444444,
              "#bd3786"
             ],
             [
              0.5555555555555556,
              "#d8576b"
             ],
             [
              0.6666666666666666,
              "#ed7953"
             ],
             [
              0.7777777777777778,
              "#fb9f3a"
             ],
             [
              0.8888888888888888,
              "#fdca26"
             ],
             [
              1,
              "#f0f921"
             ]
            ],
            "type": "heatmap"
           }
          ],
          "histogram": [
           {
            "marker": {
             "pattern": {
              "fillmode": "overlay",
              "size": 10,
              "solidity": 0.2
             }
            },
            "type": "histogram"
           }
          ],
          "histogram2d": [
           {
            "colorbar": {
             "outlinewidth": 0,
             "ticks": ""
            },
            "colorscale": [
             [
              0,
              "#0d0887"
             ],
             [
              0.1111111111111111,
              "#46039f"
             ],
             [
              0.2222222222222222,
              "#7201a8"
             ],
             [
              0.3333333333333333,
              "#9c179e"
             ],
             [
              0.4444444444444444,
              "#bd3786"
             ],
             [
              0.5555555555555556,
              "#d8576b"
             ],
             [
              0.6666666666666666,
              "#ed7953"
             ],
             [
              0.7777777777777778,
              "#fb9f3a"
             ],
             [
              0.8888888888888888,
              "#fdca26"
             ],
             [
              1,
              "#f0f921"
             ]
            ],
            "type": "histogram2d"
           }
          ],
          "histogram2dcontour": [
           {
            "colorbar": {
             "outlinewidth": 0,
             "ticks": ""
            },
            "colorscale": [
             [
              0,
              "#0d0887"
             ],
             [
              0.1111111111111111,
              "#46039f"
             ],
             [
              0.2222222222222222,
              "#7201a8"
             ],
             [
              0.3333333333333333,
              "#9c179e"
             ],
             [
              0.4444444444444444,
              "#bd3786"
             ],
             [
              0.5555555555555556,
              "#d8576b"
             ],
             [
              0.6666666666666666,
              "#ed7953"
             ],
             [
              0.7777777777777778,
              "#fb9f3a"
             ],
             [
              0.8888888888888888,
              "#fdca26"
             ],
             [
              1,
              "#f0f921"
             ]
            ],
            "type": "histogram2dcontour"
           }
          ],
          "mesh3d": [
           {
            "colorbar": {
             "outlinewidth": 0,
             "ticks": ""
            },
            "type": "mesh3d"
           }
          ],
          "parcoords": [
           {
            "line": {
             "colorbar": {
              "outlinewidth": 0,
              "ticks": ""
             }
            },
            "type": "parcoords"
           }
          ],
          "pie": [
           {
            "automargin": true,
            "type": "pie"
           }
          ],
          "scatter": [
           {
            "fillpattern": {
             "fillmode": "overlay",
             "size": 10,
             "solidity": 0.2
            },
            "type": "scatter"
           }
          ],
          "scatter3d": [
           {
            "line": {
             "colorbar": {
              "outlinewidth": 0,
              "ticks": ""
             }
            },
            "marker": {
             "colorbar": {
              "outlinewidth": 0,
              "ticks": ""
             }
            },
            "type": "scatter3d"
           }
          ],
          "scattercarpet": [
           {
            "marker": {
             "colorbar": {
              "outlinewidth": 0,
              "ticks": ""
             }
            },
            "type": "scattercarpet"
           }
          ],
          "scattergeo": [
           {
            "marker": {
             "colorbar": {
              "outlinewidth": 0,
              "ticks": ""
             }
            },
            "type": "scattergeo"
           }
          ],
          "scattergl": [
           {
            "marker": {
             "colorbar": {
              "outlinewidth": 0,
              "ticks": ""
             }
            },
            "type": "scattergl"
           }
          ],
          "scattermap": [
           {
            "marker": {
             "colorbar": {
              "outlinewidth": 0,
              "ticks": ""
             }
            },
            "type": "scattermap"
           }
          ],
          "scattermapbox": [
           {
            "marker": {
             "colorbar": {
              "outlinewidth": 0,
              "ticks": ""
             }
            },
            "type": "scattermapbox"
           }
          ],
          "scatterpolar": [
           {
            "marker": {
             "colorbar": {
              "outlinewidth": 0,
              "ticks": ""
             }
            },
            "type": "scatterpolar"
           }
          ],
          "scatterpolargl": [
           {
            "marker": {
             "colorbar": {
              "outlinewidth": 0,
              "ticks": ""
             }
            },
            "type": "scatterpolargl"
           }
          ],
          "scatterternary": [
           {
            "marker": {
             "colorbar": {
              "outlinewidth": 0,
              "ticks": ""
             }
            },
            "type": "scatterternary"
           }
          ],
          "surface": [
           {
            "colorbar": {
             "outlinewidth": 0,
             "ticks": ""
            },
            "colorscale": [
             [
              0,
              "#0d0887"
             ],
             [
              0.1111111111111111,
              "#46039f"
             ],
             [
              0.2222222222222222,
              "#7201a8"
             ],
             [
              0.3333333333333333,
              "#9c179e"
             ],
             [
              0.4444444444444444,
              "#bd3786"
             ],
             [
              0.5555555555555556,
              "#d8576b"
             ],
             [
              0.6666666666666666,
              "#ed7953"
             ],
             [
              0.7777777777777778,
              "#fb9f3a"
             ],
             [
              0.8888888888888888,
              "#fdca26"
             ],
             [
              1,
              "#f0f921"
             ]
            ],
            "type": "surface"
           }
          ],
          "table": [
           {
            "cells": {
             "fill": {
              "color": "#EBF0F8"
             },
             "line": {
              "color": "white"
             }
            },
            "header": {
             "fill": {
              "color": "#C8D4E3"
             },
             "line": {
              "color": "white"
             }
            },
            "type": "table"
           }
          ]
         },
         "layout": {
          "annotationdefaults": {
           "arrowcolor": "#2a3f5f",
           "arrowhead": 0,
           "arrowwidth": 1
          },
          "autotypenumbers": "strict",
          "coloraxis": {
           "colorbar": {
            "outlinewidth": 0,
            "ticks": ""
           }
          },
          "colorscale": {
           "diverging": [
            [
             0,
             "#8e0152"
            ],
            [
             0.1,
             "#c51b7d"
            ],
            [
             0.2,
             "#de77ae"
            ],
            [
             0.3,
             "#f1b6da"
            ],
            [
             0.4,
             "#fde0ef"
            ],
            [
             0.5,
             "#f7f7f7"
            ],
            [
             0.6,
             "#e6f5d0"
            ],
            [
             0.7,
             "#b8e186"
            ],
            [
             0.8,
             "#7fbc41"
            ],
            [
             0.9,
             "#4d9221"
            ],
            [
             1,
             "#276419"
            ]
           ],
           "sequential": [
            [
             0,
             "#0d0887"
            ],
            [
             0.1111111111111111,
             "#46039f"
            ],
            [
             0.2222222222222222,
             "#7201a8"
            ],
            [
             0.3333333333333333,
             "#9c179e"
            ],
            [
             0.4444444444444444,
             "#bd3786"
            ],
            [
             0.5555555555555556,
             "#d8576b"
            ],
            [
             0.6666666666666666,
             "#ed7953"
            ],
            [
             0.7777777777777778,
             "#fb9f3a"
            ],
            [
             0.8888888888888888,
             "#fdca26"
            ],
            [
             1,
             "#f0f921"
            ]
           ],
           "sequentialminus": [
            [
             0,
             "#0d0887"
            ],
            [
             0.1111111111111111,
             "#46039f"
            ],
            [
             0.2222222222222222,
             "#7201a8"
            ],
            [
             0.3333333333333333,
             "#9c179e"
            ],
            [
             0.4444444444444444,
             "#bd3786"
            ],
            [
             0.5555555555555556,
             "#d8576b"
            ],
            [
             0.6666666666666666,
             "#ed7953"
            ],
            [
             0.7777777777777778,
             "#fb9f3a"
            ],
            [
             0.8888888888888888,
             "#fdca26"
            ],
            [
             1,
             "#f0f921"
            ]
           ]
          },
          "colorway": [
           "#636efa",
           "#EF553B",
           "#00cc96",
           "#ab63fa",
           "#FFA15A",
           "#19d3f3",
           "#FF6692",
           "#B6E880",
           "#FF97FF",
           "#FECB52"
          ],
          "font": {
           "color": "#2a3f5f"
          },
          "geo": {
           "bgcolor": "white",
           "lakecolor": "white",
           "landcolor": "#E5ECF6",
           "showlakes": true,
           "showland": true,
           "subunitcolor": "white"
          },
          "hoverlabel": {
           "align": "left"
          },
          "hovermode": "closest",
          "mapbox": {
           "style": "light"
          },
          "paper_bgcolor": "white",
          "plot_bgcolor": "#E5ECF6",
          "polar": {
           "angularaxis": {
            "gridcolor": "white",
            "linecolor": "white",
            "ticks": ""
           },
           "bgcolor": "#E5ECF6",
           "radialaxis": {
            "gridcolor": "white",
            "linecolor": "white",
            "ticks": ""
           }
          },
          "scene": {
           "xaxis": {
            "backgroundcolor": "#E5ECF6",
            "gridcolor": "white",
            "gridwidth": 2,
            "linecolor": "white",
            "showbackground": true,
            "ticks": "",
            "zerolinecolor": "white"
           },
           "yaxis": {
            "backgroundcolor": "#E5ECF6",
            "gridcolor": "white",
            "gridwidth": 2,
            "linecolor": "white",
            "showbackground": true,
            "ticks": "",
            "zerolinecolor": "white"
           },
           "zaxis": {
            "backgroundcolor": "#E5ECF6",
            "gridcolor": "white",
            "gridwidth": 2,
            "linecolor": "white",
            "showbackground": true,
            "ticks": "",
            "zerolinecolor": "white"
           }
          },
          "shapedefaults": {
           "line": {
            "color": "#2a3f5f"
           }
          },
          "ternary": {
           "aaxis": {
            "gridcolor": "white",
            "linecolor": "white",
            "ticks": ""
           },
           "baxis": {
            "gridcolor": "white",
            "linecolor": "white",
            "ticks": ""
           },
           "bgcolor": "#E5ECF6",
           "caxis": {
            "gridcolor": "white",
            "linecolor": "white",
            "ticks": ""
           }
          },
          "title": {
           "x": 0.05
          },
          "xaxis": {
           "automargin": true,
           "gridcolor": "white",
           "linecolor": "white",
           "ticks": "",
           "title": {
            "standoff": 15
           },
           "zerolinecolor": "white",
           "zerolinewidth": 2
          },
          "yaxis": {
           "automargin": true,
           "gridcolor": "white",
           "linecolor": "white",
           "ticks": "",
           "title": {
            "standoff": 15
           },
           "zerolinecolor": "white",
           "zerolinewidth": 2
          }
         }
        },
        "title": {
         "text": "Semantic Expansion over Writing Sessions<br><span style=\"font-size: 12px;\">*Measuring how well humans are learning while writing with GenAI</span>"
        },
        "width": 1800,
        "xaxis": {
         "anchor": "y",
         "domain": [
          0,
          1
         ],
         "gridcolor": "white",
         "linecolor": "black",
         "mirror": false,
         "range": [
          -1,
          118
         ],
         "showline": true,
         "ticks": "outside",
         "title": {
          "text": "Progress into the writing session"
         }
        },
        "yaxis": {
         "anchor": "x",
         "domain": [
          0,
          1
         ],
         "gridcolor": "white",
         "linecolor": "black",
         "mirror": false,
         "showline": true,
         "ticks": "outside",
         "title": {
          "text": "Scores"
         }
        }
       }
      }
     },
     "metadata": {},
     "output_type": "display_data"
    },
    {
     "name": "stdout",
     "output_type": "stream",
     "text": [
      "legislation_antitrust_3\n"
     ]
    },
    {
     "data": {
      "application/vnd.plotly.v1+json": {
       "config": {
        "plotlyServerURL": "https://plot.ly"
       },
       "data": [
        {
         "hovertemplate": "x=%{x}<br>y=%{y}<extra></extra>",
         "line": {
          "color": "#64B5F6",
          "width": 3
         },
         "marker": {
          "color": "#64B5F6",
          "size": 7
         },
         "mode": "lines+markers",
         "showlegend": false,
         "type": "scatter",
         "x": [
          19,
          20
         ],
         "xaxis": "x",
         "y": [
          2.4940969347953796,
          2.7716981172561646
         ],
         "yaxis": "y"
        },
        {
         "hovertemplate": "x=%{x}<br>y=%{y}<extra></extra>",
         "line": {
          "color": "#64B5F6",
          "width": 3
         },
         "marker": {
          "color": "#64B5F6",
          "size": 7
         },
         "mode": "lines+markers",
         "showlegend": false,
         "type": "scatter",
         "x": [
          18,
          19
         ],
         "xaxis": "x",
         "y": [
          2.132937014102936,
          2.4940969347953796
         ],
         "yaxis": "y"
        },
        {
         "hovertemplate": "x=%{x}<br>y=%{y}<extra></extra>",
         "line": {
          "color": "#64B5F6",
          "width": 3
         },
         "marker": {
          "color": "#64B5F6",
          "size": 7
         },
         "mode": "lines+markers",
         "showlegend": false,
         "type": "scatter",
         "x": [
          13,
          14
         ],
         "xaxis": "x",
         "y": [
          1.4819263219833374,
          1.8442265391349792
         ],
         "yaxis": "y"
        },
        {
         "hovertemplate": "x=%{x}<br>y=%{y}<extra></extra>",
         "line": {
          "color": "#64B5F6",
          "width": 3
         },
         "marker": {
          "color": "#64B5F6",
          "size": 7
         },
         "mode": "lines+markers",
         "showlegend": false,
         "type": "scatter",
         "x": [
          11,
          12
         ],
         "xaxis": "x",
         "y": [
          1.199247419834137,
          2.1093159317970276
         ],
         "yaxis": "y"
        },
        {
         "hovertemplate": "x=%{x}<br>y=%{y}<extra></extra>",
         "line": {
          "color": "#64B5F6",
          "width": 3
         },
         "marker": {
          "color": "#64B5F6",
          "size": 7
         },
         "mode": "lines+markers",
         "showlegend": false,
         "type": "scatter",
         "x": [
          7,
          8
         ],
         "xaxis": "x",
         "y": [
          0.9731223583221436,
          1.2371604442596436
         ],
         "yaxis": "y"
        },
        {
         "hovertemplate": "x=%{x}<br>y=%{y}<extra></extra>",
         "line": {
          "color": "#64B5F6",
          "width": 3
         },
         "marker": {
          "color": "#64B5F6",
          "size": 7
         },
         "mode": "lines+markers",
         "showlegend": false,
         "type": "scatter",
         "x": [
          0,
          1
         ],
         "xaxis": "x",
         "y": [
          0,
          0.23680394887924194
         ],
         "yaxis": "y"
        },
        {
         "hovertemplate": "x=%{x}<br>y=%{y}<extra></extra>",
         "line": {
          "color": "#ff8fab",
          "width": 3
         },
         "marker": {
          "color": "#ff8fab",
          "size": 7
         },
         "mode": "lines+markers",
         "showlegend": false,
         "type": "scatter",
         "x": [
          47,
          48
         ],
         "xaxis": "x",
         "y": [
          11.207272589206696,
          11.55498366355896
         ],
         "yaxis": "y"
        },
        {
         "hovertemplate": "x=%{x}<br>y=%{y}<extra></extra>",
         "line": {
          "color": "#ff8fab",
          "width": 3
         },
         "marker": {
          "color": "#ff8fab",
          "size": 7
         },
         "mode": "lines+markers",
         "showlegend": false,
         "type": "scatter",
         "x": [
          41,
          42
         ],
         "xaxis": "x",
         "y": [
          8.040238130092622,
          8.415496504306795
         ],
         "yaxis": "y"
        },
        {
         "hovertemplate": "x=%{x}<br>y=%{y}<extra></extra>",
         "line": {
          "color": "#ff8fab",
          "width": 3
         },
         "marker": {
          "color": "#ff8fab",
          "size": 7
         },
         "mode": "lines+markers",
         "showlegend": false,
         "type": "scatter",
         "x": [
          40,
          41
         ],
         "xaxis": "x",
         "y": [
          7.655803167819977,
          8.040238130092622
         ],
         "yaxis": "y"
        },
        {
         "hovertemplate": "x=%{x}<br>y=%{y}<extra></extra>",
         "line": {
          "color": "#ff8fab",
          "width": 3
         },
         "marker": {
          "color": "#ff8fab",
          "size": 7
         },
         "mode": "lines+markers",
         "showlegend": false,
         "type": "scatter",
         "x": [
          39,
          40
         ],
         "xaxis": "x",
         "y": [
          8.044535994529724,
          7.655803167819977
         ],
         "yaxis": "y"
        },
        {
         "hovertemplate": "x=%{x}<br>y=%{y}<extra></extra>",
         "line": {
          "color": "#ff8fab",
          "width": 3
         },
         "marker": {
          "color": "#ff8fab",
          "size": 7
         },
         "mode": "lines+markers",
         "showlegend": false,
         "type": "scatter",
         "x": [
          35,
          36
         ],
         "xaxis": "x",
         "y": [
          6.114867091178894,
          6.488664519786835
         ],
         "yaxis": "y"
        },
        {
         "hovertemplate": "x=%{x}<br>y=%{y}<extra></extra>",
         "line": {
          "color": "#ff8fab",
          "width": 3
         },
         "marker": {
          "color": "#ff8fab",
          "size": 7
         },
         "mode": "lines+markers",
         "showlegend": false,
         "type": "scatter",
         "x": [
          33,
          34
         ],
         "xaxis": "x",
         "y": [
          5.704122304916382,
          6.066429793834686
         ],
         "yaxis": "y"
        },
        {
         "hovertemplate": "x=%{x}<br>y=%{y}<extra></extra>",
         "line": {
          "color": "#ff8fab",
          "width": 3
         },
         "marker": {
          "color": "#ff8fab",
          "size": 7
         },
         "mode": "lines+markers",
         "showlegend": false,
         "type": "scatter",
         "x": [
          31,
          32
         ],
         "xaxis": "x",
         "y": [
          5.41219174861908,
          5.7390658259391785
         ],
         "yaxis": "y"
        },
        {
         "hovertemplate": "x=%{x}<br>y=%{y}<extra></extra>",
         "line": {
          "color": "#ff8fab",
          "width": 3
         },
         "marker": {
          "color": "#ff8fab",
          "size": 7
         },
         "mode": "lines+markers",
         "showlegend": false,
         "type": "scatter",
         "x": [
          29,
          30
         ],
         "xaxis": "x",
         "y": [
          4.921107113361359,
          5.290284991264343
         ],
         "yaxis": "y"
        },
        {
         "hovertemplate": "x=%{x}<br>y=%{y}<extra></extra>",
         "line": {
          "color": "#ff8fab",
          "width": 3
         },
         "marker": {
          "color": "#ff8fab",
          "size": 7
         },
         "mode": "lines+markers",
         "showlegend": false,
         "type": "scatter",
         "x": [
          21,
          22
         ],
         "xaxis": "x",
         "y": [
          3.1521561980247497,
          3.5275689244270323
         ],
         "yaxis": "y"
        },
        {
         "hovertemplate": "x=%{x}<br>y=%{y}<extra></extra>",
         "line": {
          "color": "#ff8fab",
          "width": 3
         },
         "marker": {
          "color": "#ff8fab",
          "size": 7
         },
         "mode": "lines+markers",
         "showlegend": false,
         "type": "scatter",
         "x": [
          20,
          21
         ],
         "xaxis": "x",
         "y": [
          2.7716981172561646,
          3.1521561980247497
         ],
         "yaxis": "y"
        },
        {
         "hovertemplate": "x=%{x}<br>y=%{y}<extra></extra>",
         "line": {
          "color": "#ff8fab",
          "width": 3
         },
         "marker": {
          "color": "#ff8fab",
          "size": 7
         },
         "mode": "lines+markers",
         "showlegend": false,
         "type": "scatter",
         "x": [
          14,
          15
         ],
         "xaxis": "x",
         "y": [
          1.8442265391349792,
          2.1847882747650145
         ],
         "yaxis": "y"
        },
        {
         "hovertemplate": "x=%{x}<br>y=%{y}<extra></extra>",
         "line": {
          "color": "#ff8fab",
          "width": 3
         },
         "marker": {
          "color": "#ff8fab",
          "size": 7
         },
         "mode": "lines+markers",
         "showlegend": false,
         "type": "scatter",
         "x": [
          9,
          10
         ],
         "xaxis": "x",
         "y": [
          1.6559938073158265,
          1.9837866187095643
         ],
         "yaxis": "y"
        },
        {
         "hovertemplate": "x=%{x}<br>y=%{y}<extra></extra>",
         "line": {
          "color": "#ff8fab",
          "width": 3
         },
         "marker": {
          "color": "#ff8fab",
          "size": 7
         },
         "mode": "lines+markers",
         "showlegend": false,
         "type": "scatter",
         "x": [
          8,
          9
         ],
         "xaxis": "x",
         "y": [
          1.2371604442596436,
          1.6559938073158265
         ],
         "yaxis": "y"
        },
        {
         "hovertemplate": "x=%{x}<br>y=%{y}<extra></extra>",
         "line": {
          "color": "#ff8fab",
          "width": 3
         },
         "marker": {
          "color": "#ff8fab",
          "size": 7
         },
         "mode": "lines+markers",
         "showlegend": false,
         "type": "scatter",
         "x": [
          2,
          3
         ],
         "xaxis": "x",
         "y": [
          0.6306293964385986,
          0.9285696029663086
         ],
         "yaxis": "y"
        },
        {
         "hovertemplate": "x=%{x}<br>y=%{y}<extra></extra>",
         "line": {
          "color": "#ff8fab",
          "width": 3
         },
         "marker": {
          "color": "#ff8fab",
          "size": 7
         },
         "mode": "lines+markers",
         "showlegend": false,
         "type": "scatter",
         "x": [
          1,
          2
         ],
         "xaxis": "x",
         "y": [
          0.23680394887924194,
          0.6306293964385986
         ],
         "yaxis": "y"
        },
        {
         "hovertemplate": "x=%{x}<br>y=%{y}<extra></extra>",
         "line": {
          "color": "#023e8a",
          "width": 3
         },
         "marker": {
          "color": "#023e8a",
          "size": 7
         },
         "mode": "lines+markers",
         "showlegend": false,
         "type": "scatter",
         "x": [
          46,
          47
         ],
         "xaxis": "x",
         "y": [
          10.859595477581024,
          11.207272589206696
         ],
         "yaxis": "y"
        },
        {
         "hovertemplate": "x=%{x}<br>y=%{y}<extra></extra>",
         "line": {
          "color": "#023e8a",
          "width": 3
         },
         "marker": {
          "color": "#023e8a",
          "size": 7
         },
         "mode": "lines+markers",
         "showlegend": false,
         "type": "scatter",
         "x": [
          45,
          46
         ],
         "xaxis": "x",
         "y": [
          10.49207466840744,
          10.859595477581024
         ],
         "yaxis": "y"
        },
        {
         "hovertemplate": "x=%{x}<br>y=%{y}<extra></extra>",
         "line": {
          "color": "#023e8a",
          "width": 3
         },
         "marker": {
          "color": "#023e8a",
          "size": 7
         },
         "mode": "lines+markers",
         "showlegend": false,
         "type": "scatter",
         "x": [
          44,
          45
         ],
         "xaxis": "x",
         "y": [
          9.7980677485466,
          10.49207466840744
         ],
         "yaxis": "y"
        },
        {
         "hovertemplate": "x=%{x}<br>y=%{y}<extra></extra>",
         "line": {
          "color": "#023e8a",
          "width": 3
         },
         "marker": {
          "color": "#023e8a",
          "size": 7
         },
         "mode": "lines+markers",
         "showlegend": false,
         "type": "scatter",
         "x": [
          43,
          44
         ],
         "xaxis": "x",
         "y": [
          9.38036197423935,
          9.7980677485466
         ],
         "yaxis": "y"
        },
        {
         "hovertemplate": "x=%{x}<br>y=%{y}<extra></extra>",
         "line": {
          "color": "#023e8a",
          "width": 3
         },
         "marker": {
          "color": "#023e8a",
          "size": 7
         },
         "mode": "lines+markers",
         "showlegend": false,
         "type": "scatter",
         "x": [
          38,
          39
         ],
         "xaxis": "x",
         "y": [
          7.305744409561157,
          8.044535994529724
         ],
         "yaxis": "y"
        },
        {
         "hovertemplate": "x=%{x}<br>y=%{y}<extra></extra>",
         "line": {
          "color": "#023e8a",
          "width": 3
         },
         "marker": {
          "color": "#023e8a",
          "size": 7
         },
         "mode": "lines+markers",
         "showlegend": false,
         "type": "scatter",
         "x": [
          37,
          38
         ],
         "xaxis": "x",
         "y": [
          6.853087067604065,
          7.305744409561157
         ],
         "yaxis": "y"
        },
        {
         "hovertemplate": "x=%{x}<br>y=%{y}<extra></extra>",
         "line": {
          "color": "#023e8a",
          "width": 3
         },
         "marker": {
          "color": "#023e8a",
          "size": 7
         },
         "mode": "lines+markers",
         "showlegend": false,
         "type": "scatter",
         "x": [
          36,
          37
         ],
         "xaxis": "x",
         "y": [
          6.114867091178894,
          6.853087067604065
         ],
         "yaxis": "y"
        },
        {
         "hovertemplate": "x=%{x}<br>y=%{y}<extra></extra>",
         "line": {
          "color": "#023e8a",
          "width": 3
         },
         "marker": {
          "color": "#023e8a",
          "size": 7
         },
         "mode": "lines+markers",
         "showlegend": false,
         "type": "scatter",
         "x": [
          28,
          29
         ],
         "xaxis": "x",
         "y": [
          4.726982593536377,
          4.921107113361359
         ],
         "yaxis": "y"
        },
        {
         "hovertemplate": "x=%{x}<br>y=%{y}<extra></extra>",
         "line": {
          "color": "#023e8a",
          "width": 3
         },
         "marker": {
          "color": "#023e8a",
          "size": 7
         },
         "mode": "lines+markers",
         "showlegend": false,
         "type": "scatter",
         "x": [
          27,
          28
         ],
         "xaxis": "x",
         "y": [
          3.8401777148246765,
          4.726982593536377
         ],
         "yaxis": "y"
        },
        {
         "hovertemplate": "x=%{x}<br>y=%{y}<extra></extra>",
         "line": {
          "color": "#023e8a",
          "width": 3
         },
         "marker": {
          "color": "#023e8a",
          "size": 7
         },
         "mode": "lines+markers",
         "showlegend": false,
         "type": "scatter",
         "x": [
          26,
          27
         ],
         "xaxis": "x",
         "y": [
          3.3641533851623535,
          3.8401777148246765
         ],
         "yaxis": "y"
        },
        {
         "hovertemplate": "x=%{x}<br>y=%{y}<extra></extra>",
         "line": {
          "color": "#023e8a",
          "width": 3
         },
         "marker": {
          "color": "#023e8a",
          "size": 7
         },
         "mode": "lines+markers",
         "showlegend": false,
         "type": "scatter",
         "x": [
          25,
          26
         ],
         "xaxis": "x",
         "y": [
          3.085853099822998,
          3.3641533851623535
         ],
         "yaxis": "y"
        },
        {
         "hovertemplate": "x=%{x}<br>y=%{y}<extra></extra>",
         "line": {
          "color": "#023e8a",
          "width": 3
         },
         "marker": {
          "color": "#023e8a",
          "size": 7
         },
         "mode": "lines+markers",
         "showlegend": false,
         "type": "scatter",
         "x": [
          24,
          25
         ],
         "xaxis": "x",
         "y": [
          2.750097393989563,
          3.085853099822998
         ],
         "yaxis": "y"
        },
        {
         "hovertemplate": "x=%{x}<br>y=%{y}<extra></extra>",
         "line": {
          "color": "#023e8a",
          "width": 3
         },
         "marker": {
          "color": "#023e8a",
          "size": 7
         },
         "mode": "lines+markers",
         "showlegend": false,
         "type": "scatter",
         "x": [
          23,
          24
         ],
         "xaxis": "x",
         "y": [
          2.4225059151649475,
          2.750097393989563
         ],
         "yaxis": "y"
        },
        {
         "hovertemplate": "x=%{x}<br>y=%{y}<extra></extra>",
         "line": {
          "color": "#023e8a",
          "width": 3
         },
         "marker": {
          "color": "#023e8a",
          "size": 7
         },
         "mode": "lines+markers",
         "showlegend": false,
         "type": "scatter",
         "x": [
          22,
          23
         ],
         "xaxis": "x",
         "y": [
          2.132937014102936,
          2.4225059151649475
         ],
         "yaxis": "y"
        },
        {
         "hovertemplate": "x=%{x}<br>y=%{y}<extra></extra>",
         "line": {
          "color": "#023e8a",
          "width": 3
         },
         "marker": {
          "color": "#023e8a",
          "size": 7
         },
         "mode": "lines+markers",
         "showlegend": false,
         "type": "scatter",
         "x": [
          17,
          18
         ],
         "xaxis": "x",
         "y": [
          1.9331161975860596,
          2.132937014102936
         ],
         "yaxis": "y"
        },
        {
         "hovertemplate": "x=%{x}<br>y=%{y}<extra></extra>",
         "line": {
          "color": "#023e8a",
          "width": 3
         },
         "marker": {
          "color": "#023e8a",
          "size": 7
         },
         "mode": "lines+markers",
         "showlegend": false,
         "type": "scatter",
         "x": [
          16,
          17
         ],
         "xaxis": "x",
         "y": [
          1.6984825730323792,
          1.9331161975860596
         ],
         "yaxis": "y"
        },
        {
         "hovertemplate": "x=%{x}<br>y=%{y}<extra></extra>",
         "line": {
          "color": "#023e8a",
          "width": 3
         },
         "marker": {
          "color": "#023e8a",
          "size": 7
         },
         "mode": "lines+markers",
         "showlegend": false,
         "type": "scatter",
         "x": [
          15,
          16
         ],
         "xaxis": "x",
         "y": [
          1.4819263219833374,
          1.6984825730323792
         ],
         "yaxis": "y"
        },
        {
         "hovertemplate": "x=%{x}<br>y=%{y}<extra></extra>",
         "line": {
          "color": "#023e8a",
          "width": 3
         },
         "marker": {
          "color": "#023e8a",
          "size": 7
         },
         "mode": "lines+markers",
         "showlegend": false,
         "type": "scatter",
         "x": [
          12,
          13
         ],
         "xaxis": "x",
         "y": [
          1.199247419834137,
          1.4819263219833374
         ],
         "yaxis": "y"
        },
        {
         "hovertemplate": "x=%{x}<br>y=%{y}<extra></extra>",
         "line": {
          "color": "#023e8a",
          "width": 3
         },
         "marker": {
          "color": "#023e8a",
          "size": 7
         },
         "mode": "lines+markers",
         "showlegend": false,
         "type": "scatter",
         "x": [
          10,
          11
         ],
         "xaxis": "x",
         "y": [
          0.9731223583221436,
          1.199247419834137
         ],
         "yaxis": "y"
        },
        {
         "hovertemplate": "x=%{x}<br>y=%{y}<extra></extra>",
         "line": {
          "color": "#023e8a",
          "width": 3
         },
         "marker": {
          "color": "#023e8a",
          "size": 7
         },
         "mode": "lines+markers",
         "showlegend": false,
         "type": "scatter",
         "x": [
          6,
          7
         ],
         "xaxis": "x",
         "y": [
          0.6564406156539917,
          0.9731223583221436
         ],
         "yaxis": "y"
        },
        {
         "hovertemplate": "x=%{x}<br>y=%{y}<extra></extra>",
         "line": {
          "color": "#023e8a",
          "width": 3
         },
         "marker": {
          "color": "#023e8a",
          "size": 7
         },
         "mode": "lines+markers",
         "showlegend": false,
         "type": "scatter",
         "x": [
          5,
          6
         ],
         "xaxis": "x",
         "y": [
          0.30130618810653687,
          0.6564406156539917
         ],
         "yaxis": "y"
        },
        {
         "hovertemplate": "x=%{x}<br>y=%{y}<extra></extra>",
         "line": {
          "color": "#023e8a",
          "width": 3
         },
         "marker": {
          "color": "#023e8a",
          "size": 7
         },
         "mode": "lines+markers",
         "showlegend": false,
         "type": "scatter",
         "x": [
          4,
          5
         ],
         "xaxis": "x",
         "y": [
          0.22033578157424927,
          0.30130618810653687
         ],
         "yaxis": "y"
        },
        {
         "hovertemplate": "x=%{x}<br>y=%{y}<extra></extra>",
         "line": {
          "color": "#023e8a",
          "width": 3
         },
         "marker": {
          "color": "#023e8a",
          "size": 7
         },
         "mode": "lines+markers",
         "showlegend": false,
         "type": "scatter",
         "x": [
          3,
          4
         ],
         "xaxis": "x",
         "y": [
          0,
          0.22033578157424927
         ],
         "yaxis": "y"
        },
        {
         "hovertemplate": "x=%{x}<br>y=%{y}<extra></extra>",
         "line": {
          "color": "#c1121f",
          "width": 3
         },
         "marker": {
          "color": "#c1121f",
          "size": 7
         },
         "mode": "lines+markers",
         "showlegend": false,
         "type": "scatter",
         "x": [
          48,
          49
         ],
         "xaxis": "x",
         "y": [
          11.207272589206696,
          11.544869184494019
         ],
         "yaxis": "y"
        },
        {
         "hovertemplate": "x=%{x}<br>y=%{y}<extra></extra>",
         "line": {
          "color": "#c1121f",
          "width": 3
         },
         "marker": {
          "color": "#c1121f",
          "size": 7
         },
         "mode": "lines+markers",
         "showlegend": false,
         "type": "scatter",
         "x": [
          42,
          43
         ],
         "xaxis": "x",
         "y": [
          8.044535994529724,
          9.38036197423935
         ],
         "yaxis": "y"
        },
        {
         "hovertemplate": "x=%{x}<br>y=%{y}<extra></extra>",
         "line": {
          "color": "#c1121f",
          "width": 3
         },
         "marker": {
          "color": "#c1121f",
          "size": 7
         },
         "mode": "lines+markers",
         "showlegend": false,
         "type": "scatter",
         "x": [
          34,
          35
         ],
         "xaxis": "x",
         "y": [
          5.704122304916382,
          6.114867091178894
         ],
         "yaxis": "y"
        },
        {
         "hovertemplate": "x=%{x}<br>y=%{y}<extra></extra>",
         "line": {
          "color": "#c1121f",
          "width": 3
         },
         "marker": {
          "color": "#c1121f",
          "size": 7
         },
         "mode": "lines+markers",
         "showlegend": false,
         "type": "scatter",
         "x": [
          32,
          33
         ],
         "xaxis": "x",
         "y": [
          5.41219174861908,
          5.704122304916382
         ],
         "yaxis": "y"
        },
        {
         "hovertemplate": "x=%{x}<br>y=%{y}<extra></extra>",
         "line": {
          "color": "#c1121f",
          "width": 3
         },
         "marker": {
          "color": "#c1121f",
          "size": 7
         },
         "mode": "lines+markers",
         "showlegend": false,
         "type": "scatter",
         "x": [
          30,
          31
         ],
         "xaxis": "x",
         "y": [
          4.921107113361359,
          5.41219174861908
         ],
         "yaxis": "y"
        },
        {
         "line": {
          "color": "#64B5F6",
          "width": 2
         },
         "mode": "lines",
         "name": "human_insert_backstage",
         "showlegend": true,
         "type": "scatter",
         "x": [
          null
         ],
         "xaxis": "x",
         "y": [
          null
         ],
         "yaxis": "y"
        },
        {
         "line": {
          "color": "#ff8fab",
          "width": 2
         },
         "mode": "lines",
         "name": "ai_suggest_backstage",
         "showlegend": true,
         "type": "scatter",
         "x": [
          null
         ],
         "xaxis": "x",
         "y": [
          null
         ],
         "yaxis": "y"
        },
        {
         "line": {
          "color": "#023e8a",
          "width": 2
         },
         "mode": "lines",
         "name": "human_insert_frontstage",
         "showlegend": true,
         "type": "scatter",
         "x": [
          null
         ],
         "xaxis": "x",
         "y": [
          null
         ],
         "yaxis": "y"
        },
        {
         "line": {
          "color": "#c1121f",
          "width": 2
         },
         "mode": "lines",
         "name": "ai_insert_moved_to_frontstage",
         "showlegend": true,
         "type": "scatter",
         "x": [
          null
         ],
         "xaxis": "x",
         "y": [
          null
         ],
         "yaxis": "y"
        },
        {
         "line": {
          "color": "#9d4edd",
          "width": 2
         },
         "mode": "lines",
         "name": "human_delete_frontstage",
         "showlegend": true,
         "type": "scatter",
         "x": [
          null
         ],
         "xaxis": "x",
         "y": [
          null
         ],
         "yaxis": "y"
        },
        {
         "line": {
          "color": "#5a189a",
          "width": 2
         },
         "mode": "lines",
         "name": "human_insert_edit_frontstage",
         "showlegend": true,
         "type": "scatter",
         "x": [
          null
         ],
         "xaxis": "x",
         "y": [
          null
         ],
         "yaxis": "y"
        }
       ],
       "layout": {
        "annotations": [
         {
          "font": {
           "size": 16
          },
          "showarrow": false,
          "text": "Session: legislation_antitrust_3",
          "x": 0.5,
          "xanchor": "center",
          "xref": "paper",
          "y": 1,
          "yanchor": "bottom",
          "yref": "paper"
         }
        ],
        "height": 500,
        "legend": {
         "title": {
          "font": {
           "color": "rgba(0, 0, 0, 0)"
          }
         }
        },
        "plot_bgcolor": "white",
        "showlegend": true,
        "template": {
         "data": {
          "bar": [
           {
            "error_x": {
             "color": "#2a3f5f"
            },
            "error_y": {
             "color": "#2a3f5f"
            },
            "marker": {
             "line": {
              "color": "#E5ECF6",
              "width": 0.5
             },
             "pattern": {
              "fillmode": "overlay",
              "size": 10,
              "solidity": 0.2
             }
            },
            "type": "bar"
           }
          ],
          "barpolar": [
           {
            "marker": {
             "line": {
              "color": "#E5ECF6",
              "width": 0.5
             },
             "pattern": {
              "fillmode": "overlay",
              "size": 10,
              "solidity": 0.2
             }
            },
            "type": "barpolar"
           }
          ],
          "carpet": [
           {
            "aaxis": {
             "endlinecolor": "#2a3f5f",
             "gridcolor": "white",
             "linecolor": "white",
             "minorgridcolor": "white",
             "startlinecolor": "#2a3f5f"
            },
            "baxis": {
             "endlinecolor": "#2a3f5f",
             "gridcolor": "white",
             "linecolor": "white",
             "minorgridcolor": "white",
             "startlinecolor": "#2a3f5f"
            },
            "type": "carpet"
           }
          ],
          "choropleth": [
           {
            "colorbar": {
             "outlinewidth": 0,
             "ticks": ""
            },
            "type": "choropleth"
           }
          ],
          "contour": [
           {
            "colorbar": {
             "outlinewidth": 0,
             "ticks": ""
            },
            "colorscale": [
             [
              0,
              "#0d0887"
             ],
             [
              0.1111111111111111,
              "#46039f"
             ],
             [
              0.2222222222222222,
              "#7201a8"
             ],
             [
              0.3333333333333333,
              "#9c179e"
             ],
             [
              0.4444444444444444,
              "#bd3786"
             ],
             [
              0.5555555555555556,
              "#d8576b"
             ],
             [
              0.6666666666666666,
              "#ed7953"
             ],
             [
              0.7777777777777778,
              "#fb9f3a"
             ],
             [
              0.8888888888888888,
              "#fdca26"
             ],
             [
              1,
              "#f0f921"
             ]
            ],
            "type": "contour"
           }
          ],
          "contourcarpet": [
           {
            "colorbar": {
             "outlinewidth": 0,
             "ticks": ""
            },
            "type": "contourcarpet"
           }
          ],
          "heatmap": [
           {
            "colorbar": {
             "outlinewidth": 0,
             "ticks": ""
            },
            "colorscale": [
             [
              0,
              "#0d0887"
             ],
             [
              0.1111111111111111,
              "#46039f"
             ],
             [
              0.2222222222222222,
              "#7201a8"
             ],
             [
              0.3333333333333333,
              "#9c179e"
             ],
             [
              0.4444444444444444,
              "#bd3786"
             ],
             [
              0.5555555555555556,
              "#d8576b"
             ],
             [
              0.6666666666666666,
              "#ed7953"
             ],
             [
              0.7777777777777778,
              "#fb9f3a"
             ],
             [
              0.8888888888888888,
              "#fdca26"
             ],
             [
              1,
              "#f0f921"
             ]
            ],
            "type": "heatmap"
           }
          ],
          "histogram": [
           {
            "marker": {
             "pattern": {
              "fillmode": "overlay",
              "size": 10,
              "solidity": 0.2
             }
            },
            "type": "histogram"
           }
          ],
          "histogram2d": [
           {
            "colorbar": {
             "outlinewidth": 0,
             "ticks": ""
            },
            "colorscale": [
             [
              0,
              "#0d0887"
             ],
             [
              0.1111111111111111,
              "#46039f"
             ],
             [
              0.2222222222222222,
              "#7201a8"
             ],
             [
              0.3333333333333333,
              "#9c179e"
             ],
             [
              0.4444444444444444,
              "#bd3786"
             ],
             [
              0.5555555555555556,
              "#d8576b"
             ],
             [
              0.6666666666666666,
              "#ed7953"
             ],
             [
              0.7777777777777778,
              "#fb9f3a"
             ],
             [
              0.8888888888888888,
              "#fdca26"
             ],
             [
              1,
              "#f0f921"
             ]
            ],
            "type": "histogram2d"
           }
          ],
          "histogram2dcontour": [
           {
            "colorbar": {
             "outlinewidth": 0,
             "ticks": ""
            },
            "colorscale": [
             [
              0,
              "#0d0887"
             ],
             [
              0.1111111111111111,
              "#46039f"
             ],
             [
              0.2222222222222222,
              "#7201a8"
             ],
             [
              0.3333333333333333,
              "#9c179e"
             ],
             [
              0.4444444444444444,
              "#bd3786"
             ],
             [
              0.5555555555555556,
              "#d8576b"
             ],
             [
              0.6666666666666666,
              "#ed7953"
             ],
             [
              0.7777777777777778,
              "#fb9f3a"
             ],
             [
              0.8888888888888888,
              "#fdca26"
             ],
             [
              1,
              "#f0f921"
             ]
            ],
            "type": "histogram2dcontour"
           }
          ],
          "mesh3d": [
           {
            "colorbar": {
             "outlinewidth": 0,
             "ticks": ""
            },
            "type": "mesh3d"
           }
          ],
          "parcoords": [
           {
            "line": {
             "colorbar": {
              "outlinewidth": 0,
              "ticks": ""
             }
            },
            "type": "parcoords"
           }
          ],
          "pie": [
           {
            "automargin": true,
            "type": "pie"
           }
          ],
          "scatter": [
           {
            "fillpattern": {
             "fillmode": "overlay",
             "size": 10,
             "solidity": 0.2
            },
            "type": "scatter"
           }
          ],
          "scatter3d": [
           {
            "line": {
             "colorbar": {
              "outlinewidth": 0,
              "ticks": ""
             }
            },
            "marker": {
             "colorbar": {
              "outlinewidth": 0,
              "ticks": ""
             }
            },
            "type": "scatter3d"
           }
          ],
          "scattercarpet": [
           {
            "marker": {
             "colorbar": {
              "outlinewidth": 0,
              "ticks": ""
             }
            },
            "type": "scattercarpet"
           }
          ],
          "scattergeo": [
           {
            "marker": {
             "colorbar": {
              "outlinewidth": 0,
              "ticks": ""
             }
            },
            "type": "scattergeo"
           }
          ],
          "scattergl": [
           {
            "marker": {
             "colorbar": {
              "outlinewidth": 0,
              "ticks": ""
             }
            },
            "type": "scattergl"
           }
          ],
          "scattermap": [
           {
            "marker": {
             "colorbar": {
              "outlinewidth": 0,
              "ticks": ""
             }
            },
            "type": "scattermap"
           }
          ],
          "scattermapbox": [
           {
            "marker": {
             "colorbar": {
              "outlinewidth": 0,
              "ticks": ""
             }
            },
            "type": "scattermapbox"
           }
          ],
          "scatterpolar": [
           {
            "marker": {
             "colorbar": {
              "outlinewidth": 0,
              "ticks": ""
             }
            },
            "type": "scatterpolar"
           }
          ],
          "scatterpolargl": [
           {
            "marker": {
             "colorbar": {
              "outlinewidth": 0,
              "ticks": ""
             }
            },
            "type": "scatterpolargl"
           }
          ],
          "scatterternary": [
           {
            "marker": {
             "colorbar": {
              "outlinewidth": 0,
              "ticks": ""
             }
            },
            "type": "scatterternary"
           }
          ],
          "surface": [
           {
            "colorbar": {
             "outlinewidth": 0,
             "ticks": ""
            },
            "colorscale": [
             [
              0,
              "#0d0887"
             ],
             [
              0.1111111111111111,
              "#46039f"
             ],
             [
              0.2222222222222222,
              "#7201a8"
             ],
             [
              0.3333333333333333,
              "#9c179e"
             ],
             [
              0.4444444444444444,
              "#bd3786"
             ],
             [
              0.5555555555555556,
              "#d8576b"
             ],
             [
              0.6666666666666666,
              "#ed7953"
             ],
             [
              0.7777777777777778,
              "#fb9f3a"
             ],
             [
              0.8888888888888888,
              "#fdca26"
             ],
             [
              1,
              "#f0f921"
             ]
            ],
            "type": "surface"
           }
          ],
          "table": [
           {
            "cells": {
             "fill": {
              "color": "#EBF0F8"
             },
             "line": {
              "color": "white"
             }
            },
            "header": {
             "fill": {
              "color": "#C8D4E3"
             },
             "line": {
              "color": "white"
             }
            },
            "type": "table"
           }
          ]
         },
         "layout": {
          "annotationdefaults": {
           "arrowcolor": "#2a3f5f",
           "arrowhead": 0,
           "arrowwidth": 1
          },
          "autotypenumbers": "strict",
          "coloraxis": {
           "colorbar": {
            "outlinewidth": 0,
            "ticks": ""
           }
          },
          "colorscale": {
           "diverging": [
            [
             0,
             "#8e0152"
            ],
            [
             0.1,
             "#c51b7d"
            ],
            [
             0.2,
             "#de77ae"
            ],
            [
             0.3,
             "#f1b6da"
            ],
            [
             0.4,
             "#fde0ef"
            ],
            [
             0.5,
             "#f7f7f7"
            ],
            [
             0.6,
             "#e6f5d0"
            ],
            [
             0.7,
             "#b8e186"
            ],
            [
             0.8,
             "#7fbc41"
            ],
            [
             0.9,
             "#4d9221"
            ],
            [
             1,
             "#276419"
            ]
           ],
           "sequential": [
            [
             0,
             "#0d0887"
            ],
            [
             0.1111111111111111,
             "#46039f"
            ],
            [
             0.2222222222222222,
             "#7201a8"
            ],
            [
             0.3333333333333333,
             "#9c179e"
            ],
            [
             0.4444444444444444,
             "#bd3786"
            ],
            [
             0.5555555555555556,
             "#d8576b"
            ],
            [
             0.6666666666666666,
             "#ed7953"
            ],
            [
             0.7777777777777778,
             "#fb9f3a"
            ],
            [
             0.8888888888888888,
             "#fdca26"
            ],
            [
             1,
             "#f0f921"
            ]
           ],
           "sequentialminus": [
            [
             0,
             "#0d0887"
            ],
            [
             0.1111111111111111,
             "#46039f"
            ],
            [
             0.2222222222222222,
             "#7201a8"
            ],
            [
             0.3333333333333333,
             "#9c179e"
            ],
            [
             0.4444444444444444,
             "#bd3786"
            ],
            [
             0.5555555555555556,
             "#d8576b"
            ],
            [
             0.6666666666666666,
             "#ed7953"
            ],
            [
             0.7777777777777778,
             "#fb9f3a"
            ],
            [
             0.8888888888888888,
             "#fdca26"
            ],
            [
             1,
             "#f0f921"
            ]
           ]
          },
          "colorway": [
           "#636efa",
           "#EF553B",
           "#00cc96",
           "#ab63fa",
           "#FFA15A",
           "#19d3f3",
           "#FF6692",
           "#B6E880",
           "#FF97FF",
           "#FECB52"
          ],
          "font": {
           "color": "#2a3f5f"
          },
          "geo": {
           "bgcolor": "white",
           "lakecolor": "white",
           "landcolor": "#E5ECF6",
           "showlakes": true,
           "showland": true,
           "subunitcolor": "white"
          },
          "hoverlabel": {
           "align": "left"
          },
          "hovermode": "closest",
          "mapbox": {
           "style": "light"
          },
          "paper_bgcolor": "white",
          "plot_bgcolor": "#E5ECF6",
          "polar": {
           "angularaxis": {
            "gridcolor": "white",
            "linecolor": "white",
            "ticks": ""
           },
           "bgcolor": "#E5ECF6",
           "radialaxis": {
            "gridcolor": "white",
            "linecolor": "white",
            "ticks": ""
           }
          },
          "scene": {
           "xaxis": {
            "backgroundcolor": "#E5ECF6",
            "gridcolor": "white",
            "gridwidth": 2,
            "linecolor": "white",
            "showbackground": true,
            "ticks": "",
            "zerolinecolor": "white"
           },
           "yaxis": {
            "backgroundcolor": "#E5ECF6",
            "gridcolor": "white",
            "gridwidth": 2,
            "linecolor": "white",
            "showbackground": true,
            "ticks": "",
            "zerolinecolor": "white"
           },
           "zaxis": {
            "backgroundcolor": "#E5ECF6",
            "gridcolor": "white",
            "gridwidth": 2,
            "linecolor": "white",
            "showbackground": true,
            "ticks": "",
            "zerolinecolor": "white"
           }
          },
          "shapedefaults": {
           "line": {
            "color": "#2a3f5f"
           }
          },
          "ternary": {
           "aaxis": {
            "gridcolor": "white",
            "linecolor": "white",
            "ticks": ""
           },
           "baxis": {
            "gridcolor": "white",
            "linecolor": "white",
            "ticks": ""
           },
           "bgcolor": "#E5ECF6",
           "caxis": {
            "gridcolor": "white",
            "linecolor": "white",
            "ticks": ""
           }
          },
          "title": {
           "x": 0.05
          },
          "xaxis": {
           "automargin": true,
           "gridcolor": "white",
           "linecolor": "white",
           "ticks": "",
           "title": {
            "standoff": 15
           },
           "zerolinecolor": "white",
           "zerolinewidth": 2
          },
          "yaxis": {
           "automargin": true,
           "gridcolor": "white",
           "linecolor": "white",
           "ticks": "",
           "title": {
            "standoff": 15
           },
           "zerolinecolor": "white",
           "zerolinewidth": 2
          }
         }
        },
        "title": {
         "text": "Semantic Expansion over Writing Sessions<br><span style=\"font-size: 12px;\">*Measuring how well humans are learning while writing with GenAI</span>"
        },
        "width": 1800,
        "xaxis": {
         "anchor": "y",
         "domain": [
          0,
          1
         ],
         "gridcolor": "white",
         "linecolor": "black",
         "mirror": false,
         "range": [
          -1,
          50
         ],
         "showline": true,
         "ticks": "outside",
         "title": {
          "text": "Progress into the writing session"
         }
        },
        "yaxis": {
         "anchor": "x",
         "domain": [
          0,
          1
         ],
         "gridcolor": "white",
         "linecolor": "black",
         "mirror": false,
         "showline": true,
         "ticks": "outside",
         "title": {
          "text": "Scores"
         }
        }
       }
      }
     },
     "metadata": {},
     "output_type": "display_data"
    },
    {
     "name": "stdout",
     "output_type": "stream",
     "text": [
      "legislation_antitrust_4\n"
     ]
    },
    {
     "data": {
      "application/vnd.plotly.v1+json": {
       "config": {
        "plotlyServerURL": "https://plot.ly"
       },
       "data": [
        {
         "hovertemplate": "x=%{x}<br>y=%{y}<extra></extra>",
         "line": {
          "color": "#64B5F6",
          "width": 3
         },
         "marker": {
          "color": "#64B5F6",
          "size": 7
         },
         "mode": "lines+markers",
         "showlegend": false,
         "type": "scatter",
         "x": [
          35,
          36
         ],
         "xaxis": "x",
         "y": [
          6.112791335582733,
          6.614190018177032
         ],
         "yaxis": "y"
        },
        {
         "hovertemplate": "x=%{x}<br>y=%{y}<extra></extra>",
         "line": {
          "color": "#64B5F6",
          "width": 3
         },
         "marker": {
          "color": "#64B5F6",
          "size": 7
         },
         "mode": "lines+markers",
         "showlegend": false,
         "type": "scatter",
         "x": [
          33,
          34
         ],
         "xaxis": "x",
         "y": [
          5.536029636859894,
          5.828862726688385
         ],
         "yaxis": "y"
        },
        {
         "hovertemplate": "x=%{x}<br>y=%{y}<extra></extra>",
         "line": {
          "color": "#64B5F6",
          "width": 3
         },
         "marker": {
          "color": "#64B5F6",
          "size": 7
         },
         "mode": "lines+markers",
         "showlegend": false,
         "type": "scatter",
         "x": [
          29,
          30
         ],
         "xaxis": "x",
         "y": [
          5.618820714950561,
          5.88884847164154
         ],
         "yaxis": "y"
        },
        {
         "hovertemplate": "x=%{x}<br>y=%{y}<extra></extra>",
         "line": {
          "color": "#64B5F6",
          "width": 3
         },
         "marker": {
          "color": "#64B5F6",
          "size": 7
         },
         "mode": "lines+markers",
         "showlegend": false,
         "type": "scatter",
         "x": [
          10,
          11
         ],
         "xaxis": "x",
         "y": [
          1.119491457939148,
          1.4592598676681519
         ],
         "yaxis": "y"
        },
        {
         "hovertemplate": "x=%{x}<br>y=%{y}<extra></extra>",
         "line": {
          "color": "#ff8fab",
          "width": 3
         },
         "marker": {
          "color": "#ff8fab",
          "size": 7
         },
         "mode": "lines+markers",
         "showlegend": false,
         "type": "scatter",
         "x": [
          53,
          54
         ],
         "xaxis": "x",
         "y": [
          12.929688334465027,
          13.393716442584992
         ],
         "yaxis": "y"
        },
        {
         "hovertemplate": "x=%{x}<br>y=%{y}<extra></extra>",
         "line": {
          "color": "#ff8fab",
          "width": 3
         },
         "marker": {
          "color": "#ff8fab",
          "size": 7
         },
         "mode": "lines+markers",
         "showlegend": false,
         "type": "scatter",
         "x": [
          51,
          52
         ],
         "xaxis": "x",
         "y": [
          12.60053277015686,
          13.07672700881958
         ],
         "yaxis": "y"
        },
        {
         "hovertemplate": "x=%{x}<br>y=%{y}<extra></extra>",
         "line": {
          "color": "#ff8fab",
          "width": 3
         },
         "marker": {
          "color": "#ff8fab",
          "size": 7
         },
         "mode": "lines+markers",
         "showlegend": false,
         "type": "scatter",
         "x": [
          36,
          37
         ],
         "xaxis": "x",
         "y": [
          6.614190018177032,
          6.878316235542297
         ],
         "yaxis": "y"
        },
        {
         "hovertemplate": "x=%{x}<br>y=%{y}<extra></extra>",
         "line": {
          "color": "#ff8fab",
          "width": 3
         },
         "marker": {
          "color": "#ff8fab",
          "size": 7
         },
         "mode": "lines+markers",
         "showlegend": false,
         "type": "scatter",
         "x": [
          34,
          35
         ],
         "xaxis": "x",
         "y": [
          5.828862726688385,
          6.112791335582733
         ],
         "yaxis": "y"
        },
        {
         "hovertemplate": "x=%{x}<br>y=%{y}<extra></extra>",
         "line": {
          "color": "#ff8fab",
          "width": 3
         },
         "marker": {
          "color": "#ff8fab",
          "size": 7
         },
         "mode": "lines+markers",
         "showlegend": false,
         "type": "scatter",
         "x": [
          30,
          31
         ],
         "xaxis": "x",
         "y": [
          5.88884847164154,
          6.115290474891662
         ],
         "yaxis": "y"
        },
        {
         "hovertemplate": "x=%{x}<br>y=%{y}<extra></extra>",
         "line": {
          "color": "#ff8fab",
          "width": 3
         },
         "marker": {
          "color": "#ff8fab",
          "size": 7
         },
         "mode": "lines+markers",
         "showlegend": false,
         "type": "scatter",
         "x": [
          28,
          29
         ],
         "xaxis": "x",
         "y": [
          5.161315023899078,
          5.618820714950561
         ],
         "yaxis": "y"
        },
        {
         "hovertemplate": "x=%{x}<br>y=%{y}<extra></extra>",
         "line": {
          "color": "#ff8fab",
          "width": 3
         },
         "marker": {
          "color": "#ff8fab",
          "size": 7
         },
         "mode": "lines+markers",
         "showlegend": false,
         "type": "scatter",
         "x": [
          25,
          26
         ],
         "xaxis": "x",
         "y": [
          4.483878314495087,
          4.91598402261734
         ],
         "yaxis": "y"
        },
        {
         "hovertemplate": "x=%{x}<br>y=%{y}<extra></extra>",
         "line": {
          "color": "#ff8fab",
          "width": 3
         },
         "marker": {
          "color": "#ff8fab",
          "size": 7
         },
         "mode": "lines+markers",
         "showlegend": false,
         "type": "scatter",
         "x": [
          22,
          23
         ],
         "xaxis": "x",
         "y": [
          4.165458619594574,
          4.61700257062912
         ],
         "yaxis": "y"
        },
        {
         "hovertemplate": "x=%{x}<br>y=%{y}<extra></extra>",
         "line": {
          "color": "#ff8fab",
          "width": 3
         },
         "marker": {
          "color": "#ff8fab",
          "size": 7
         },
         "mode": "lines+markers",
         "showlegend": false,
         "type": "scatter",
         "x": [
          19,
          20
         ],
         "xaxis": "x",
         "y": [
          3.166562497615814,
          3.56314822435379
         ],
         "yaxis": "y"
        },
        {
         "hovertemplate": "x=%{x}<br>y=%{y}<extra></extra>",
         "line": {
          "color": "#ff8fab",
          "width": 3
         },
         "marker": {
          "color": "#ff8fab",
          "size": 7
         },
         "mode": "lines+markers",
         "showlegend": false,
         "type": "scatter",
         "x": [
          16,
          17
         ],
         "xaxis": "x",
         "y": [
          2.392499530315399,
          2.6173699140548705
         ],
         "yaxis": "y"
        },
        {
         "hovertemplate": "x=%{x}<br>y=%{y}<extra></extra>",
         "line": {
          "color": "#ff8fab",
          "width": 3
         },
         "marker": {
          "color": "#ff8fab",
          "size": 7
         },
         "mode": "lines+markers",
         "showlegend": false,
         "type": "scatter",
         "x": [
          15,
          16
         ],
         "xaxis": "x",
         "y": [
          2.1399407386779785,
          2.392499530315399
         ],
         "yaxis": "y"
        },
        {
         "hovertemplate": "x=%{x}<br>y=%{y}<extra></extra>",
         "line": {
          "color": "#ff8fab",
          "width": 3
         },
         "marker": {
          "color": "#ff8fab",
          "size": 7
         },
         "mode": "lines+markers",
         "showlegend": false,
         "type": "scatter",
         "x": [
          11,
          12
         ],
         "xaxis": "x",
         "y": [
          1.4592598676681519,
          1.6782609462738036
         ],
         "yaxis": "y"
        },
        {
         "hovertemplate": "x=%{x}<br>y=%{y}<extra></extra>",
         "line": {
          "color": "#ff8fab",
          "width": 3
         },
         "marker": {
          "color": "#ff8fab",
          "size": 7
         },
         "mode": "lines+markers",
         "showlegend": false,
         "type": "scatter",
         "x": [
          8,
          9
         ],
         "xaxis": "x",
         "y": [
          1.1235312819480896,
          1.5680680632591248
         ],
         "yaxis": "y"
        },
        {
         "hovertemplate": "x=%{x}<br>y=%{y}<extra></extra>",
         "line": {
          "color": "#ff8fab",
          "width": 3
         },
         "marker": {
          "color": "#ff8fab",
          "size": 7
         },
         "mode": "lines+markers",
         "showlegend": false,
         "type": "scatter",
         "x": [
          5,
          6
         ],
         "xaxis": "x",
         "y": [
          0.5605471730232239,
          0.9291412830352783
         ],
         "yaxis": "y"
        },
        {
         "hovertemplate": "x=%{x}<br>y=%{y}<extra></extra>",
         "line": {
          "color": "#ff8fab",
          "width": 3
         },
         "marker": {
          "color": "#ff8fab",
          "size": 7
         },
         "mode": "lines+markers",
         "showlegend": false,
         "type": "scatter",
         "x": [
          3,
          4
         ],
         "xaxis": "x",
         "y": [
          0.31329625844955444,
          0.38140114545822146
         ],
         "yaxis": "y"
        },
        {
         "hovertemplate": "x=%{x}<br>y=%{y}<extra></extra>",
         "line": {
          "color": "#ff8fab",
          "width": 3
         },
         "marker": {
          "color": "#ff8fab",
          "size": 7
         },
         "mode": "lines+markers",
         "showlegend": false,
         "type": "scatter",
         "x": [
          1,
          2
         ],
         "xaxis": "x",
         "y": [
          0,
          0.6424874663352966
         ],
         "yaxis": "y"
        },
        {
         "hovertemplate": "x=%{x}<br>y=%{y}<extra></extra>",
         "line": {
          "color": "#023e8a",
          "width": 3
         },
         "marker": {
          "color": "#023e8a",
          "size": 7
         },
         "mode": "lines+markers",
         "showlegend": false,
         "type": "scatter",
         "x": [
          54,
          55
         ],
         "xaxis": "x",
         "y": [
          12.929688334465027,
          13.464353442192078
         ],
         "yaxis": "y"
        },
        {
         "hovertemplate": "x=%{x}<br>y=%{y}<extra></extra>",
         "line": {
          "color": "#023e8a",
          "width": 3
         },
         "marker": {
          "color": "#023e8a",
          "size": 7
         },
         "mode": "lines+markers",
         "showlegend": false,
         "type": "scatter",
         "x": [
          52,
          53
         ],
         "xaxis": "x",
         "y": [
          12.60053277015686,
          12.929688334465027
         ],
         "yaxis": "y"
        },
        {
         "hovertemplate": "x=%{x}<br>y=%{y}<extra></extra>",
         "line": {
          "color": "#023e8a",
          "width": 3
         },
         "marker": {
          "color": "#023e8a",
          "size": 7
         },
         "mode": "lines+markers",
         "showlegend": false,
         "type": "scatter",
         "x": [
          50,
          51
         ],
         "xaxis": "x",
         "y": [
          12.196756780147552,
          12.60053277015686
         ],
         "yaxis": "y"
        },
        {
         "hovertemplate": "x=%{x}<br>y=%{y}<extra></extra>",
         "line": {
          "color": "#023e8a",
          "width": 3
         },
         "marker": {
          "color": "#023e8a",
          "size": 7
         },
         "mode": "lines+markers",
         "showlegend": false,
         "type": "scatter",
         "x": [
          49,
          50
         ],
         "xaxis": "x",
         "y": [
          11.783294916152954,
          12.196756780147552
         ],
         "yaxis": "y"
        },
        {
         "hovertemplate": "x=%{x}<br>y=%{y}<extra></extra>",
         "line": {
          "color": "#023e8a",
          "width": 3
         },
         "marker": {
          "color": "#023e8a",
          "size": 7
         },
         "mode": "lines+markers",
         "showlegend": false,
         "type": "scatter",
         "x": [
          48,
          49
         ],
         "xaxis": "x",
         "y": [
          11.098409593105316,
          11.783294916152954
         ],
         "yaxis": "y"
        },
        {
         "hovertemplate": "x=%{x}<br>y=%{y}<extra></extra>",
         "line": {
          "color": "#023e8a",
          "width": 3
         },
         "marker": {
          "color": "#023e8a",
          "size": 7
         },
         "mode": "lines+markers",
         "showlegend": false,
         "type": "scatter",
         "x": [
          47,
          48
         ],
         "xaxis": "x",
         "y": [
          10.468632876873016,
          11.098409593105316
         ],
         "yaxis": "y"
        },
        {
         "hovertemplate": "x=%{x}<br>y=%{y}<extra></extra>",
         "line": {
          "color": "#023e8a",
          "width": 3
         },
         "marker": {
          "color": "#023e8a",
          "size": 7
         },
         "mode": "lines+markers",
         "showlegend": false,
         "type": "scatter",
         "x": [
          45,
          46
         ],
         "xaxis": "x",
         "y": [
          9.712942659854889,
          10.408914387226105
         ],
         "yaxis": "y"
        },
        {
         "hovertemplate": "x=%{x}<br>y=%{y}<extra></extra>",
         "line": {
          "color": "#023e8a",
          "width": 3
         },
         "marker": {
          "color": "#023e8a",
          "size": 7
         },
         "mode": "lines+markers",
         "showlegend": false,
         "type": "scatter",
         "x": [
          44,
          45
         ],
         "xaxis": "x",
         "y": [
          9.143574655056,
          9.712942659854889
         ],
         "yaxis": "y"
        },
        {
         "hovertemplate": "x=%{x}<br>y=%{y}<extra></extra>",
         "line": {
          "color": "#023e8a",
          "width": 3
         },
         "marker": {
          "color": "#023e8a",
          "size": 7
         },
         "mode": "lines+markers",
         "showlegend": false,
         "type": "scatter",
         "x": [
          43,
          44
         ],
         "xaxis": "x",
         "y": [
          8.577735602855682,
          9.143574655056
         ],
         "yaxis": "y"
        },
        {
         "hovertemplate": "x=%{x}<br>y=%{y}<extra></extra>",
         "line": {
          "color": "#023e8a",
          "width": 3
         },
         "marker": {
          "color": "#023e8a",
          "size": 7
         },
         "mode": "lines+markers",
         "showlegend": false,
         "type": "scatter",
         "x": [
          42,
          43
         ],
         "xaxis": "x",
         "y": [
          7.985526502132416,
          8.577735602855682
         ],
         "yaxis": "y"
        },
        {
         "hovertemplate": "x=%{x}<br>y=%{y}<extra></extra>",
         "line": {
          "color": "#023e8a",
          "width": 3
         },
         "marker": {
          "color": "#023e8a",
          "size": 7
         },
         "mode": "lines+markers",
         "showlegend": false,
         "type": "scatter",
         "x": [
          41,
          42
         ],
         "xaxis": "x",
         "y": [
          7.376738548278809,
          7.985526502132416
         ],
         "yaxis": "y"
        },
        {
         "hovertemplate": "x=%{x}<br>y=%{y}<extra></extra>",
         "line": {
          "color": "#023e8a",
          "width": 3
         },
         "marker": {
          "color": "#023e8a",
          "size": 7
         },
         "mode": "lines+markers",
         "showlegend": false,
         "type": "scatter",
         "x": [
          40,
          41
         ],
         "xaxis": "x",
         "y": [
          6.780951738357544,
          7.376738548278809
         ],
         "yaxis": "y"
        },
        {
         "hovertemplate": "x=%{x}<br>y=%{y}<extra></extra>",
         "line": {
          "color": "#023e8a",
          "width": 3
         },
         "marker": {
          "color": "#023e8a",
          "size": 7
         },
         "mode": "lines+markers",
         "showlegend": false,
         "type": "scatter",
         "x": [
          39,
          40
         ],
         "xaxis": "x",
         "y": [
          6.062759757041931,
          6.780951738357544
         ],
         "yaxis": "y"
        },
        {
         "hovertemplate": "x=%{x}<br>y=%{y}<extra></extra>",
         "line": {
          "color": "#023e8a",
          "width": 3
         },
         "marker": {
          "color": "#023e8a",
          "size": 7
         },
         "mode": "lines+markers",
         "showlegend": false,
         "type": "scatter",
         "x": [
          38,
          39
         ],
         "xaxis": "x",
         "y": [
          5.536029636859894,
          6.062759757041931
         ],
         "yaxis": "y"
        },
        {
         "hovertemplate": "x=%{x}<br>y=%{y}<extra></extra>",
         "line": {
          "color": "#023e8a",
          "width": 3
         },
         "marker": {
          "color": "#023e8a",
          "size": 7
         },
         "mode": "lines+markers",
         "showlegend": false,
         "type": "scatter",
         "x": [
          32,
          33
         ],
         "xaxis": "x",
         "y": [
          5.161315023899078,
          5.536029636859894
         ],
         "yaxis": "y"
        },
        {
         "hovertemplate": "x=%{x}<br>y=%{y}<extra></extra>",
         "line": {
          "color": "#023e8a",
          "width": 3
         },
         "marker": {
          "color": "#023e8a",
          "size": 7
         },
         "mode": "lines+markers",
         "showlegend": false,
         "type": "scatter",
         "x": [
          27,
          28
         ],
         "xaxis": "x",
         "y": [
          4.844704270362854,
          5.161315023899078
         ],
         "yaxis": "y"
        },
        {
         "hovertemplate": "x=%{x}<br>y=%{y}<extra></extra>",
         "line": {
          "color": "#023e8a",
          "width": 3
         },
         "marker": {
          "color": "#023e8a",
          "size": 7
         },
         "mode": "lines+markers",
         "showlegend": false,
         "type": "scatter",
         "x": [
          24,
          25
         ],
         "xaxis": "x",
         "y": [
          4.146890223026276,
          4.483878314495087
         ],
         "yaxis": "y"
        },
        {
         "hovertemplate": "x=%{x}<br>y=%{y}<extra></extra>",
         "line": {
          "color": "#023e8a",
          "width": 3
         },
         "marker": {
          "color": "#023e8a",
          "size": 7
         },
         "mode": "lines+markers",
         "showlegend": false,
         "type": "scatter",
         "x": [
          21,
          22
         ],
         "xaxis": "x",
         "y": [
          3.8816195130348206,
          4.165458619594574
         ],
         "yaxis": "y"
        },
        {
         "hovertemplate": "x=%{x}<br>y=%{y}<extra></extra>",
         "line": {
          "color": "#023e8a",
          "width": 3
         },
         "marker": {
          "color": "#023e8a",
          "size": 7
         },
         "mode": "lines+markers",
         "showlegend": false,
         "type": "scatter",
         "x": [
          20,
          21
         ],
         "xaxis": "x",
         "y": [
          3.166562497615814,
          3.8816195130348206
         ],
         "yaxis": "y"
        },
        {
         "hovertemplate": "x=%{x}<br>y=%{y}<extra></extra>",
         "line": {
          "color": "#023e8a",
          "width": 3
         },
         "marker": {
          "color": "#023e8a",
          "size": 7
         },
         "mode": "lines+markers",
         "showlegend": false,
         "type": "scatter",
         "x": [
          18,
          19
         ],
         "xaxis": "x",
         "y": [
          2.4608733654022217,
          3.166562497615814
         ],
         "yaxis": "y"
        },
        {
         "hovertemplate": "x=%{x}<br>y=%{y}<extra></extra>",
         "line": {
          "color": "#023e8a",
          "width": 3
         },
         "marker": {
          "color": "#023e8a",
          "size": 7
         },
         "mode": "lines+markers",
         "showlegend": false,
         "type": "scatter",
         "x": [
          17,
          18
         ],
         "xaxis": "x",
         "y": [
          2.1399407386779785,
          2.4608733654022217
         ],
         "yaxis": "y"
        },
        {
         "hovertemplate": "x=%{x}<br>y=%{y}<extra></extra>",
         "line": {
          "color": "#023e8a",
          "width": 3
         },
         "marker": {
          "color": "#023e8a",
          "size": 7
         },
         "mode": "lines+markers",
         "showlegend": false,
         "type": "scatter",
         "x": [
          14,
          15
         ],
         "xaxis": "x",
         "y": [
          1.8285478353500366,
          2.1399407386779785
         ],
         "yaxis": "y"
        },
        {
         "hovertemplate": "x=%{x}<br>y=%{y}<extra></extra>",
         "line": {
          "color": "#023e8a",
          "width": 3
         },
         "marker": {
          "color": "#023e8a",
          "size": 7
         },
         "mode": "lines+markers",
         "showlegend": false,
         "type": "scatter",
         "x": [
          13,
          14
         ],
         "xaxis": "x",
         "y": [
          1.5194699168205261,
          1.8285478353500366
         ],
         "yaxis": "y"
        },
        {
         "hovertemplate": "x=%{x}<br>y=%{y}<extra></extra>",
         "line": {
          "color": "#023e8a",
          "width": 3
         },
         "marker": {
          "color": "#023e8a",
          "size": 7
         },
         "mode": "lines+markers",
         "showlegend": false,
         "type": "scatter",
         "x": [
          12,
          13
         ],
         "xaxis": "x",
         "y": [
          1.119491457939148,
          1.5194699168205261
         ],
         "yaxis": "y"
        },
        {
         "hovertemplate": "x=%{x}<br>y=%{y}<extra></extra>",
         "line": {
          "color": "#023e8a",
          "width": 3
         },
         "marker": {
          "color": "#023e8a",
          "size": 7
         },
         "mode": "lines+markers",
         "showlegend": false,
         "type": "scatter",
         "x": [
          7,
          8
         ],
         "xaxis": "x",
         "y": [
          0.7401775121688843,
          1.1235312819480896
         ],
         "yaxis": "y"
        },
        {
         "hovertemplate": "x=%{x}<br>y=%{y}<extra></extra>",
         "line": {
          "color": "#023e8a",
          "width": 3
         },
         "marker": {
          "color": "#023e8a",
          "size": 7
         },
         "mode": "lines+markers",
         "showlegend": false,
         "type": "scatter",
         "x": [
          6,
          7
         ],
         "xaxis": "x",
         "y": [
          0.5605471730232239,
          0.7401775121688843
         ],
         "yaxis": "y"
        },
        {
         "hovertemplate": "x=%{x}<br>y=%{y}<extra></extra>",
         "line": {
          "color": "#023e8a",
          "width": 3
         },
         "marker": {
          "color": "#023e8a",
          "size": 7
         },
         "mode": "lines+markers",
         "showlegend": false,
         "type": "scatter",
         "x": [
          4,
          5
         ],
         "xaxis": "x",
         "y": [
          0.31329625844955444,
          0.5605471730232239
         ],
         "yaxis": "y"
        },
        {
         "hovertemplate": "x=%{x}<br>y=%{y}<extra></extra>",
         "line": {
          "color": "#023e8a",
          "width": 3
         },
         "marker": {
          "color": "#023e8a",
          "size": 7
         },
         "mode": "lines+markers",
         "showlegend": false,
         "type": "scatter",
         "x": [
          2,
          3
         ],
         "xaxis": "x",
         "y": [
          0,
          0.31329625844955444
         ],
         "yaxis": "y"
        },
        {
         "hovertemplate": "x=%{x}<br>y=%{y}<extra></extra>",
         "line": {
          "color": "#023e8a",
          "width": 3
         },
         "marker": {
          "color": "#023e8a",
          "size": 7
         },
         "mode": "lines+markers",
         "showlegend": false,
         "type": "scatter",
         "x": [
          0,
          1
         ],
         "xaxis": "x",
         "y": [
          0,
          0.942415714263916
         ],
         "yaxis": "y"
        },
        {
         "hovertemplate": "x=%{x}<br>y=%{y}<extra></extra>",
         "line": {
          "color": "#c1121f",
          "width": 3
         },
         "marker": {
          "color": "#c1121f",
          "size": 7
         },
         "mode": "lines+markers",
         "showlegend": false,
         "type": "scatter",
         "x": [
          26,
          27
         ],
         "xaxis": "x",
         "y": [
          4.483878314495087,
          4.844704270362854
         ],
         "yaxis": "y"
        },
        {
         "hovertemplate": "x=%{x}<br>y=%{y}<extra></extra>",
         "line": {
          "color": "#9d4edd",
          "width": 3
         },
         "marker": {
          "color": "#9d4edd",
          "size": 7
         },
         "mode": "lines+markers",
         "showlegend": false,
         "type": "scatter",
         "x": [
          46,
          47
         ],
         "xaxis": "x",
         "y": [
          10.408914387226105,
          10.468632876873016
         ],
         "yaxis": "y"
        },
        {
         "hovertemplate": "x=%{x}<br>y=%{y}<extra></extra>",
         "line": {
          "color": "#9d4edd",
          "width": 3
         },
         "marker": {
          "color": "#9d4edd",
          "size": 7
         },
         "mode": "lines+markers",
         "showlegend": false,
         "type": "scatter",
         "x": [
          37,
          38
         ],
         "xaxis": "x",
         "y": [
          5.536029636859894,
          5.536029636859894
         ],
         "yaxis": "y"
        },
        {
         "hovertemplate": "x=%{x}<br>y=%{y}<extra></extra>",
         "line": {
          "color": "#9d4edd",
          "width": 3
         },
         "marker": {
          "color": "#9d4edd",
          "size": 7
         },
         "mode": "lines+markers",
         "showlegend": false,
         "type": "scatter",
         "x": [
          31,
          32
         ],
         "xaxis": "x",
         "y": [
          5.161315023899078,
          5.161315023899078
         ],
         "yaxis": "y"
        },
        {
         "hovertemplate": "x=%{x}<br>y=%{y}<extra></extra>",
         "line": {
          "color": "#9d4edd",
          "width": 3
         },
         "marker": {
          "color": "#9d4edd",
          "size": 7
         },
         "mode": "lines+markers",
         "showlegend": false,
         "type": "scatter",
         "x": [
          23,
          24
         ],
         "xaxis": "x",
         "y": [
          4.165458619594574,
          4.146890223026276
         ],
         "yaxis": "y"
        },
        {
         "hovertemplate": "x=%{x}<br>y=%{y}<extra></extra>",
         "line": {
          "color": "#9d4edd",
          "width": 3
         },
         "marker": {
          "color": "#9d4edd",
          "size": 7
         },
         "mode": "lines+markers",
         "showlegend": false,
         "type": "scatter",
         "x": [
          9,
          10
         ],
         "xaxis": "x",
         "y": [
          1.1235312819480896,
          1.119491457939148
         ],
         "yaxis": "y"
        },
        {
         "line": {
          "color": "#64B5F6",
          "width": 2
         },
         "mode": "lines",
         "name": "human_insert_backstage",
         "showlegend": true,
         "type": "scatter",
         "x": [
          null
         ],
         "xaxis": "x",
         "y": [
          null
         ],
         "yaxis": "y"
        },
        {
         "line": {
          "color": "#ff8fab",
          "width": 2
         },
         "mode": "lines",
         "name": "ai_suggest_backstage",
         "showlegend": true,
         "type": "scatter",
         "x": [
          null
         ],
         "xaxis": "x",
         "y": [
          null
         ],
         "yaxis": "y"
        },
        {
         "line": {
          "color": "#023e8a",
          "width": 2
         },
         "mode": "lines",
         "name": "human_insert_frontstage",
         "showlegend": true,
         "type": "scatter",
         "x": [
          null
         ],
         "xaxis": "x",
         "y": [
          null
         ],
         "yaxis": "y"
        },
        {
         "line": {
          "color": "#c1121f",
          "width": 2
         },
         "mode": "lines",
         "name": "ai_insert_moved_to_frontstage",
         "showlegend": true,
         "type": "scatter",
         "x": [
          null
         ],
         "xaxis": "x",
         "y": [
          null
         ],
         "yaxis": "y"
        },
        {
         "line": {
          "color": "#9d4edd",
          "width": 2
         },
         "mode": "lines",
         "name": "human_delete_frontstage",
         "showlegend": true,
         "type": "scatter",
         "x": [
          null
         ],
         "xaxis": "x",
         "y": [
          null
         ],
         "yaxis": "y"
        },
        {
         "line": {
          "color": "#5a189a",
          "width": 2
         },
         "mode": "lines",
         "name": "human_insert_edit_frontstage",
         "showlegend": true,
         "type": "scatter",
         "x": [
          null
         ],
         "xaxis": "x",
         "y": [
          null
         ],
         "yaxis": "y"
        }
       ],
       "layout": {
        "annotations": [
         {
          "font": {
           "size": 16
          },
          "showarrow": false,
          "text": "Session: legislation_antitrust_4",
          "x": 0.5,
          "xanchor": "center",
          "xref": "paper",
          "y": 1,
          "yanchor": "bottom",
          "yref": "paper"
         }
        ],
        "height": 500,
        "legend": {
         "title": {
          "font": {
           "color": "rgba(0, 0, 0, 0)"
          }
         }
        },
        "plot_bgcolor": "white",
        "showlegend": true,
        "template": {
         "data": {
          "bar": [
           {
            "error_x": {
             "color": "#2a3f5f"
            },
            "error_y": {
             "color": "#2a3f5f"
            },
            "marker": {
             "line": {
              "color": "#E5ECF6",
              "width": 0.5
             },
             "pattern": {
              "fillmode": "overlay",
              "size": 10,
              "solidity": 0.2
             }
            },
            "type": "bar"
           }
          ],
          "barpolar": [
           {
            "marker": {
             "line": {
              "color": "#E5ECF6",
              "width": 0.5
             },
             "pattern": {
              "fillmode": "overlay",
              "size": 10,
              "solidity": 0.2
             }
            },
            "type": "barpolar"
           }
          ],
          "carpet": [
           {
            "aaxis": {
             "endlinecolor": "#2a3f5f",
             "gridcolor": "white",
             "linecolor": "white",
             "minorgridcolor": "white",
             "startlinecolor": "#2a3f5f"
            },
            "baxis": {
             "endlinecolor": "#2a3f5f",
             "gridcolor": "white",
             "linecolor": "white",
             "minorgridcolor": "white",
             "startlinecolor": "#2a3f5f"
            },
            "type": "carpet"
           }
          ],
          "choropleth": [
           {
            "colorbar": {
             "outlinewidth": 0,
             "ticks": ""
            },
            "type": "choropleth"
           }
          ],
          "contour": [
           {
            "colorbar": {
             "outlinewidth": 0,
             "ticks": ""
            },
            "colorscale": [
             [
              0,
              "#0d0887"
             ],
             [
              0.1111111111111111,
              "#46039f"
             ],
             [
              0.2222222222222222,
              "#7201a8"
             ],
             [
              0.3333333333333333,
              "#9c179e"
             ],
             [
              0.4444444444444444,
              "#bd3786"
             ],
             [
              0.5555555555555556,
              "#d8576b"
             ],
             [
              0.6666666666666666,
              "#ed7953"
             ],
             [
              0.7777777777777778,
              "#fb9f3a"
             ],
             [
              0.8888888888888888,
              "#fdca26"
             ],
             [
              1,
              "#f0f921"
             ]
            ],
            "type": "contour"
           }
          ],
          "contourcarpet": [
           {
            "colorbar": {
             "outlinewidth": 0,
             "ticks": ""
            },
            "type": "contourcarpet"
           }
          ],
          "heatmap": [
           {
            "colorbar": {
             "outlinewidth": 0,
             "ticks": ""
            },
            "colorscale": [
             [
              0,
              "#0d0887"
             ],
             [
              0.1111111111111111,
              "#46039f"
             ],
             [
              0.2222222222222222,
              "#7201a8"
             ],
             [
              0.3333333333333333,
              "#9c179e"
             ],
             [
              0.4444444444444444,
              "#bd3786"
             ],
             [
              0.5555555555555556,
              "#d8576b"
             ],
             [
              0.6666666666666666,
              "#ed7953"
             ],
             [
              0.7777777777777778,
              "#fb9f3a"
             ],
             [
              0.8888888888888888,
              "#fdca26"
             ],
             [
              1,
              "#f0f921"
             ]
            ],
            "type": "heatmap"
           }
          ],
          "histogram": [
           {
            "marker": {
             "pattern": {
              "fillmode": "overlay",
              "size": 10,
              "solidity": 0.2
             }
            },
            "type": "histogram"
           }
          ],
          "histogram2d": [
           {
            "colorbar": {
             "outlinewidth": 0,
             "ticks": ""
            },
            "colorscale": [
             [
              0,
              "#0d0887"
             ],
             [
              0.1111111111111111,
              "#46039f"
             ],
             [
              0.2222222222222222,
              "#7201a8"
             ],
             [
              0.3333333333333333,
              "#9c179e"
             ],
             [
              0.4444444444444444,
              "#bd3786"
             ],
             [
              0.5555555555555556,
              "#d8576b"
             ],
             [
              0.6666666666666666,
              "#ed7953"
             ],
             [
              0.7777777777777778,
              "#fb9f3a"
             ],
             [
              0.8888888888888888,
              "#fdca26"
             ],
             [
              1,
              "#f0f921"
             ]
            ],
            "type": "histogram2d"
           }
          ],
          "histogram2dcontour": [
           {
            "colorbar": {
             "outlinewidth": 0,
             "ticks": ""
            },
            "colorscale": [
             [
              0,
              "#0d0887"
             ],
             [
              0.1111111111111111,
              "#46039f"
             ],
             [
              0.2222222222222222,
              "#7201a8"
             ],
             [
              0.3333333333333333,
              "#9c179e"
             ],
             [
              0.4444444444444444,
              "#bd3786"
             ],
             [
              0.5555555555555556,
              "#d8576b"
             ],
             [
              0.6666666666666666,
              "#ed7953"
             ],
             [
              0.7777777777777778,
              "#fb9f3a"
             ],
             [
              0.8888888888888888,
              "#fdca26"
             ],
             [
              1,
              "#f0f921"
             ]
            ],
            "type": "histogram2dcontour"
           }
          ],
          "mesh3d": [
           {
            "colorbar": {
             "outlinewidth": 0,
             "ticks": ""
            },
            "type": "mesh3d"
           }
          ],
          "parcoords": [
           {
            "line": {
             "colorbar": {
              "outlinewidth": 0,
              "ticks": ""
             }
            },
            "type": "parcoords"
           }
          ],
          "pie": [
           {
            "automargin": true,
            "type": "pie"
           }
          ],
          "scatter": [
           {
            "fillpattern": {
             "fillmode": "overlay",
             "size": 10,
             "solidity": 0.2
            },
            "type": "scatter"
           }
          ],
          "scatter3d": [
           {
            "line": {
             "colorbar": {
              "outlinewidth": 0,
              "ticks": ""
             }
            },
            "marker": {
             "colorbar": {
              "outlinewidth": 0,
              "ticks": ""
             }
            },
            "type": "scatter3d"
           }
          ],
          "scattercarpet": [
           {
            "marker": {
             "colorbar": {
              "outlinewidth": 0,
              "ticks": ""
             }
            },
            "type": "scattercarpet"
           }
          ],
          "scattergeo": [
           {
            "marker": {
             "colorbar": {
              "outlinewidth": 0,
              "ticks": ""
             }
            },
            "type": "scattergeo"
           }
          ],
          "scattergl": [
           {
            "marker": {
             "colorbar": {
              "outlinewidth": 0,
              "ticks": ""
             }
            },
            "type": "scattergl"
           }
          ],
          "scattermap": [
           {
            "marker": {
             "colorbar": {
              "outlinewidth": 0,
              "ticks": ""
             }
            },
            "type": "scattermap"
           }
          ],
          "scattermapbox": [
           {
            "marker": {
             "colorbar": {
              "outlinewidth": 0,
              "ticks": ""
             }
            },
            "type": "scattermapbox"
           }
          ],
          "scatterpolar": [
           {
            "marker": {
             "colorbar": {
              "outlinewidth": 0,
              "ticks": ""
             }
            },
            "type": "scatterpolar"
           }
          ],
          "scatterpolargl": [
           {
            "marker": {
             "colorbar": {
              "outlinewidth": 0,
              "ticks": ""
             }
            },
            "type": "scatterpolargl"
           }
          ],
          "scatterternary": [
           {
            "marker": {
             "colorbar": {
              "outlinewidth": 0,
              "ticks": ""
             }
            },
            "type": "scatterternary"
           }
          ],
          "surface": [
           {
            "colorbar": {
             "outlinewidth": 0,
             "ticks": ""
            },
            "colorscale": [
             [
              0,
              "#0d0887"
             ],
             [
              0.1111111111111111,
              "#46039f"
             ],
             [
              0.2222222222222222,
              "#7201a8"
             ],
             [
              0.3333333333333333,
              "#9c179e"
             ],
             [
              0.4444444444444444,
              "#bd3786"
             ],
             [
              0.5555555555555556,
              "#d8576b"
             ],
             [
              0.6666666666666666,
              "#ed7953"
             ],
             [
              0.7777777777777778,
              "#fb9f3a"
             ],
             [
              0.8888888888888888,
              "#fdca26"
             ],
             [
              1,
              "#f0f921"
             ]
            ],
            "type": "surface"
           }
          ],
          "table": [
           {
            "cells": {
             "fill": {
              "color": "#EBF0F8"
             },
             "line": {
              "color": "white"
             }
            },
            "header": {
             "fill": {
              "color": "#C8D4E3"
             },
             "line": {
              "color": "white"
             }
            },
            "type": "table"
           }
          ]
         },
         "layout": {
          "annotationdefaults": {
           "arrowcolor": "#2a3f5f",
           "arrowhead": 0,
           "arrowwidth": 1
          },
          "autotypenumbers": "strict",
          "coloraxis": {
           "colorbar": {
            "outlinewidth": 0,
            "ticks": ""
           }
          },
          "colorscale": {
           "diverging": [
            [
             0,
             "#8e0152"
            ],
            [
             0.1,
             "#c51b7d"
            ],
            [
             0.2,
             "#de77ae"
            ],
            [
             0.3,
             "#f1b6da"
            ],
            [
             0.4,
             "#fde0ef"
            ],
            [
             0.5,
             "#f7f7f7"
            ],
            [
             0.6,
             "#e6f5d0"
            ],
            [
             0.7,
             "#b8e186"
            ],
            [
             0.8,
             "#7fbc41"
            ],
            [
             0.9,
             "#4d9221"
            ],
            [
             1,
             "#276419"
            ]
           ],
           "sequential": [
            [
             0,
             "#0d0887"
            ],
            [
             0.1111111111111111,
             "#46039f"
            ],
            [
             0.2222222222222222,
             "#7201a8"
            ],
            [
             0.3333333333333333,
             "#9c179e"
            ],
            [
             0.4444444444444444,
             "#bd3786"
            ],
            [
             0.5555555555555556,
             "#d8576b"
            ],
            [
             0.6666666666666666,
             "#ed7953"
            ],
            [
             0.7777777777777778,
             "#fb9f3a"
            ],
            [
             0.8888888888888888,
             "#fdca26"
            ],
            [
             1,
             "#f0f921"
            ]
           ],
           "sequentialminus": [
            [
             0,
             "#0d0887"
            ],
            [
             0.1111111111111111,
             "#46039f"
            ],
            [
             0.2222222222222222,
             "#7201a8"
            ],
            [
             0.3333333333333333,
             "#9c179e"
            ],
            [
             0.4444444444444444,
             "#bd3786"
            ],
            [
             0.5555555555555556,
             "#d8576b"
            ],
            [
             0.6666666666666666,
             "#ed7953"
            ],
            [
             0.7777777777777778,
             "#fb9f3a"
            ],
            [
             0.8888888888888888,
             "#fdca26"
            ],
            [
             1,
             "#f0f921"
            ]
           ]
          },
          "colorway": [
           "#636efa",
           "#EF553B",
           "#00cc96",
           "#ab63fa",
           "#FFA15A",
           "#19d3f3",
           "#FF6692",
           "#B6E880",
           "#FF97FF",
           "#FECB52"
          ],
          "font": {
           "color": "#2a3f5f"
          },
          "geo": {
           "bgcolor": "white",
           "lakecolor": "white",
           "landcolor": "#E5ECF6",
           "showlakes": true,
           "showland": true,
           "subunitcolor": "white"
          },
          "hoverlabel": {
           "align": "left"
          },
          "hovermode": "closest",
          "mapbox": {
           "style": "light"
          },
          "paper_bgcolor": "white",
          "plot_bgcolor": "#E5ECF6",
          "polar": {
           "angularaxis": {
            "gridcolor": "white",
            "linecolor": "white",
            "ticks": ""
           },
           "bgcolor": "#E5ECF6",
           "radialaxis": {
            "gridcolor": "white",
            "linecolor": "white",
            "ticks": ""
           }
          },
          "scene": {
           "xaxis": {
            "backgroundcolor": "#E5ECF6",
            "gridcolor": "white",
            "gridwidth": 2,
            "linecolor": "white",
            "showbackground": true,
            "ticks": "",
            "zerolinecolor": "white"
           },
           "yaxis": {
            "backgroundcolor": "#E5ECF6",
            "gridcolor": "white",
            "gridwidth": 2,
            "linecolor": "white",
            "showbackground": true,
            "ticks": "",
            "zerolinecolor": "white"
           },
           "zaxis": {
            "backgroundcolor": "#E5ECF6",
            "gridcolor": "white",
            "gridwidth": 2,
            "linecolor": "white",
            "showbackground": true,
            "ticks": "",
            "zerolinecolor": "white"
           }
          },
          "shapedefaults": {
           "line": {
            "color": "#2a3f5f"
           }
          },
          "ternary": {
           "aaxis": {
            "gridcolor": "white",
            "linecolor": "white",
            "ticks": ""
           },
           "baxis": {
            "gridcolor": "white",
            "linecolor": "white",
            "ticks": ""
           },
           "bgcolor": "#E5ECF6",
           "caxis": {
            "gridcolor": "white",
            "linecolor": "white",
            "ticks": ""
           }
          },
          "title": {
           "x": 0.05
          },
          "xaxis": {
           "automargin": true,
           "gridcolor": "white",
           "linecolor": "white",
           "ticks": "",
           "title": {
            "standoff": 15
           },
           "zerolinecolor": "white",
           "zerolinewidth": 2
          },
          "yaxis": {
           "automargin": true,
           "gridcolor": "white",
           "linecolor": "white",
           "ticks": "",
           "title": {
            "standoff": 15
           },
           "zerolinecolor": "white",
           "zerolinewidth": 2
          }
         }
        },
        "title": {
         "text": "Semantic Expansion over Writing Sessions<br><span style=\"font-size: 12px;\">*Measuring how well humans are learning while writing with GenAI</span>"
        },
        "width": 1800,
        "xaxis": {
         "anchor": "y",
         "domain": [
          0,
          1
         ],
         "gridcolor": "white",
         "linecolor": "black",
         "mirror": false,
         "range": [
          -1,
          56
         ],
         "showline": true,
         "ticks": "outside",
         "title": {
          "text": "Progress into the writing session"
         }
        },
        "yaxis": {
         "anchor": "x",
         "domain": [
          0,
          1
         ],
         "gridcolor": "white",
         "linecolor": "black",
         "mirror": false,
         "showline": true,
         "ticks": "outside",
         "title": {
          "text": "Scores"
         }
        }
       }
      }
     },
     "metadata": {},
     "output_type": "display_data"
    },
    {
     "name": "stdout",
     "output_type": "stream",
     "text": [
      "legislation_antitrust_5\n"
     ]
    },
    {
     "data": {
      "application/vnd.plotly.v1+json": {
       "config": {
        "plotlyServerURL": "https://plot.ly"
       },
       "data": [
        {
         "hovertemplate": "x=%{x}<br>y=%{y}<extra></extra>",
         "line": {
          "color": "#64B5F6",
          "width": 3
         },
         "marker": {
          "color": "#64B5F6",
          "size": 7
         },
         "mode": "lines+markers",
         "showlegend": false,
         "type": "scatter",
         "x": [
          30,
          31
         ],
         "xaxis": "x",
         "y": [
          10.377380347251892,
          10.67250440120697
         ],
         "yaxis": "y"
        },
        {
         "hovertemplate": "x=%{x}<br>y=%{y}<extra></extra>",
         "line": {
          "color": "#64B5F6",
          "width": 3
         },
         "marker": {
          "color": "#64B5F6",
          "size": 7
         },
         "mode": "lines+markers",
         "showlegend": false,
         "type": "scatter",
         "x": [
          28,
          29
         ],
         "xaxis": "x",
         "y": [
          9.560556054115295,
          9.942695558071136
         ],
         "yaxis": "y"
        },
        {
         "hovertemplate": "x=%{x}<br>y=%{y}<extra></extra>",
         "line": {
          "color": "#64B5F6",
          "width": 3
         },
         "marker": {
          "color": "#64B5F6",
          "size": 7
         },
         "mode": "lines+markers",
         "showlegend": false,
         "type": "scatter",
         "x": [
          26,
          27
         ],
         "xaxis": "x",
         "y": [
          8.86625690460205,
          9.204202425479888
         ],
         "yaxis": "y"
        },
        {
         "hovertemplate": "x=%{x}<br>y=%{y}<extra></extra>",
         "line": {
          "color": "#64B5F6",
          "width": 3
         },
         "marker": {
          "color": "#64B5F6",
          "size": 7
         },
         "mode": "lines+markers",
         "showlegend": false,
         "type": "scatter",
         "x": [
          24,
          25
         ],
         "xaxis": "x",
         "y": [
          8.081096112728119,
          8.420945942401886
         ],
         "yaxis": "y"
        },
        {
         "hovertemplate": "x=%{x}<br>y=%{y}<extra></extra>",
         "line": {
          "color": "#64B5F6",
          "width": 3
         },
         "marker": {
          "color": "#64B5F6",
          "size": 7
         },
         "mode": "lines+markers",
         "showlegend": false,
         "type": "scatter",
         "x": [
          23,
          24
         ],
         "xaxis": "x",
         "y": [
          8.154069364070892,
          8.081096112728119
         ],
         "yaxis": "y"
        },
        {
         "hovertemplate": "x=%{x}<br>y=%{y}<extra></extra>",
         "line": {
          "color": "#ff8fab",
          "width": 3
         },
         "marker": {
          "color": "#ff8fab",
          "size": 7
         },
         "mode": "lines+markers",
         "showlegend": false,
         "type": "scatter",
         "x": [
          47,
          48
         ],
         "xaxis": "x",
         "y": [
          13.763981103897095,
          14.221355867385864
         ],
         "yaxis": "y"
        },
        {
         "hovertemplate": "x=%{x}<br>y=%{y}<extra></extra>",
         "line": {
          "color": "#ff8fab",
          "width": 3
         },
         "marker": {
          "color": "#ff8fab",
          "size": 7
         },
         "mode": "lines+markers",
         "showlegend": false,
         "type": "scatter",
         "x": [
          31,
          32
         ],
         "xaxis": "x",
         "y": [
          10.67250440120697,
          11.04865208864212
         ],
         "yaxis": "y"
        },
        {
         "hovertemplate": "x=%{x}<br>y=%{y}<extra></extra>",
         "line": {
          "color": "#ff8fab",
          "width": 3
         },
         "marker": {
          "color": "#ff8fab",
          "size": 7
         },
         "mode": "lines+markers",
         "showlegend": false,
         "type": "scatter",
         "x": [
          29,
          30
         ],
         "xaxis": "x",
         "y": [
          9.942695558071136,
          10.377380347251892
         ],
         "yaxis": "y"
        },
        {
         "hovertemplate": "x=%{x}<br>y=%{y}<extra></extra>",
         "line": {
          "color": "#ff8fab",
          "width": 3
         },
         "marker": {
          "color": "#ff8fab",
          "size": 7
         },
         "mode": "lines+markers",
         "showlegend": false,
         "type": "scatter",
         "x": [
          27,
          28
         ],
         "xaxis": "x",
         "y": [
          9.204202425479888,
          9.560556054115295
         ],
         "yaxis": "y"
        },
        {
         "hovertemplate": "x=%{x}<br>y=%{y}<extra></extra>",
         "line": {
          "color": "#ff8fab",
          "width": 3
         },
         "marker": {
          "color": "#ff8fab",
          "size": 7
         },
         "mode": "lines+markers",
         "showlegend": false,
         "type": "scatter",
         "x": [
          25,
          26
         ],
         "xaxis": "x",
         "y": [
          8.420945942401886,
          8.86625690460205
         ],
         "yaxis": "y"
        },
        {
         "hovertemplate": "x=%{x}<br>y=%{y}<extra></extra>",
         "line": {
          "color": "#ff8fab",
          "width": 3
         },
         "marker": {
          "color": "#ff8fab",
          "size": 7
         },
         "mode": "lines+markers",
         "showlegend": false,
         "type": "scatter",
         "x": [
          21,
          22
         ],
         "xaxis": "x",
         "y": [
          7.316591203212738,
          6.999110090732574
         ],
         "yaxis": "y"
        },
        {
         "hovertemplate": "x=%{x}<br>y=%{y}<extra></extra>",
         "line": {
          "color": "#ff8fab",
          "width": 3
         },
         "marker": {
          "color": "#ff8fab",
          "size": 7
         },
         "mode": "lines+markers",
         "showlegend": false,
         "type": "scatter",
         "x": [
          15,
          16
         ],
         "xaxis": "x",
         "y": [
          5.213970124721527,
          5.66258875131607
         ],
         "yaxis": "y"
        },
        {
         "hovertemplate": "x=%{x}<br>y=%{y}<extra></extra>",
         "line": {
          "color": "#ff8fab",
          "width": 3
         },
         "marker": {
          "color": "#ff8fab",
          "size": 7
         },
         "mode": "lines+markers",
         "showlegend": false,
         "type": "scatter",
         "x": [
          6,
          7
         ],
         "xaxis": "x",
         "y": [
          1.8857854008674622,
          2.2981985211372375
         ],
         "yaxis": "y"
        },
        {
         "hovertemplate": "x=%{x}<br>y=%{y}<extra></extra>",
         "line": {
          "color": "#ff8fab",
          "width": 3
         },
         "marker": {
          "color": "#ff8fab",
          "size": 7
         },
         "mode": "lines+markers",
         "showlegend": false,
         "type": "scatter",
         "x": [
          2,
          3
         ],
         "xaxis": "x",
         "y": [
          0.2898159623146057,
          0.8575904965400696
         ],
         "yaxis": "y"
        },
        {
         "hovertemplate": "x=%{x}<br>y=%{y}<extra></extra>",
         "line": {
          "color": "#023e8a",
          "width": 3
         },
         "marker": {
          "color": "#023e8a",
          "size": 7
         },
         "mode": "lines+markers",
         "showlegend": false,
         "type": "scatter",
         "x": [
          63,
          64
         ],
         "xaxis": "x",
         "y": [
          20.590640544891357,
          21.111178636550903
         ],
         "yaxis": "y"
        },
        {
         "hovertemplate": "x=%{x}<br>y=%{y}<extra></extra>",
         "line": {
          "color": "#023e8a",
          "width": 3
         },
         "marker": {
          "color": "#023e8a",
          "size": 7
         },
         "mode": "lines+markers",
         "showlegend": false,
         "type": "scatter",
         "x": [
          62,
          63
         ],
         "xaxis": "x",
         "y": [
          20.11958134174347,
          20.590640544891357
         ],
         "yaxis": "y"
        },
        {
         "hovertemplate": "x=%{x}<br>y=%{y}<extra></extra>",
         "line": {
          "color": "#023e8a",
          "width": 3
         },
         "marker": {
          "color": "#023e8a",
          "size": 7
         },
         "mode": "lines+markers",
         "showlegend": false,
         "type": "scatter",
         "x": [
          61,
          62
         ],
         "xaxis": "x",
         "y": [
          19.492205500602722,
          20.11958134174347
         ],
         "yaxis": "y"
        },
        {
         "hovertemplate": "x=%{x}<br>y=%{y}<extra></extra>",
         "line": {
          "color": "#023e8a",
          "width": 3
         },
         "marker": {
          "color": "#023e8a",
          "size": 7
         },
         "mode": "lines+markers",
         "showlegend": false,
         "type": "scatter",
         "x": [
          60,
          61
         ],
         "xaxis": "x",
         "y": [
          19.057965338230133,
          19.492205500602722
         ],
         "yaxis": "y"
        },
        {
         "hovertemplate": "x=%{x}<br>y=%{y}<extra></extra>",
         "line": {
          "color": "#023e8a",
          "width": 3
         },
         "marker": {
          "color": "#023e8a",
          "size": 7
         },
         "mode": "lines+markers",
         "showlegend": false,
         "type": "scatter",
         "x": [
          59,
          60
         ],
         "xaxis": "x",
         "y": [
          18.441067278385162,
          19.057965338230133
         ],
         "yaxis": "y"
        },
        {
         "hovertemplate": "x=%{x}<br>y=%{y}<extra></extra>",
         "line": {
          "color": "#023e8a",
          "width": 3
         },
         "marker": {
          "color": "#023e8a",
          "size": 7
         },
         "mode": "lines+markers",
         "showlegend": false,
         "type": "scatter",
         "x": [
          58,
          59
         ],
         "xaxis": "x",
         "y": [
          18.010842382907867,
          18.441067278385162
         ],
         "yaxis": "y"
        },
        {
         "hovertemplate": "x=%{x}<br>y=%{y}<extra></extra>",
         "line": {
          "color": "#023e8a",
          "width": 3
         },
         "marker": {
          "color": "#023e8a",
          "size": 7
         },
         "mode": "lines+markers",
         "showlegend": false,
         "type": "scatter",
         "x": [
          57,
          58
         ],
         "xaxis": "x",
         "y": [
          17.56269073486328,
          18.010842382907867
         ],
         "yaxis": "y"
        },
        {
         "hovertemplate": "x=%{x}<br>y=%{y}<extra></extra>",
         "line": {
          "color": "#023e8a",
          "width": 3
         },
         "marker": {
          "color": "#023e8a",
          "size": 7
         },
         "mode": "lines+markers",
         "showlegend": false,
         "type": "scatter",
         "x": [
          56,
          57
         ],
         "xaxis": "x",
         "y": [
          17.15119880437851,
          17.56269073486328
         ],
         "yaxis": "y"
        },
        {
         "hovertemplate": "x=%{x}<br>y=%{y}<extra></extra>",
         "line": {
          "color": "#023e8a",
          "width": 3
         },
         "marker": {
          "color": "#023e8a",
          "size": 7
         },
         "mode": "lines+markers",
         "showlegend": false,
         "type": "scatter",
         "x": [
          55,
          56
         ],
         "xaxis": "x",
         "y": [
          16.853143393993378,
          17.15119880437851
         ],
         "yaxis": "y"
        },
        {
         "hovertemplate": "x=%{x}<br>y=%{y}<extra></extra>",
         "line": {
          "color": "#023e8a",
          "width": 3
         },
         "marker": {
          "color": "#023e8a",
          "size": 7
         },
         "mode": "lines+markers",
         "showlegend": false,
         "type": "scatter",
         "x": [
          54,
          55
         ],
         "xaxis": "x",
         "y": [
          16.481558322906494,
          16.853143393993378
         ],
         "yaxis": "y"
        },
        {
         "hovertemplate": "x=%{x}<br>y=%{y}<extra></extra>",
         "line": {
          "color": "#023e8a",
          "width": 3
         },
         "marker": {
          "color": "#023e8a",
          "size": 7
         },
         "mode": "lines+markers",
         "showlegend": false,
         "type": "scatter",
         "x": [
          53,
          54
         ],
         "xaxis": "x",
         "y": [
          16.03749144077301,
          16.481558322906494
         ],
         "yaxis": "y"
        },
        {
         "hovertemplate": "x=%{x}<br>y=%{y}<extra></extra>",
         "line": {
          "color": "#023e8a",
          "width": 3
         },
         "marker": {
          "color": "#023e8a",
          "size": 7
         },
         "mode": "lines+markers",
         "showlegend": false,
         "type": "scatter",
         "x": [
          52,
          53
         ],
         "xaxis": "x",
         "y": [
          15.61905437707901,
          16.03749144077301
         ],
         "yaxis": "y"
        },
        {
         "hovertemplate": "x=%{x}<br>y=%{y}<extra></extra>",
         "line": {
          "color": "#023e8a",
          "width": 3
         },
         "marker": {
          "color": "#023e8a",
          "size": 7
         },
         "mode": "lines+markers",
         "showlegend": false,
         "type": "scatter",
         "x": [
          51,
          52
         ],
         "xaxis": "x",
         "y": [
          15.172012329101562,
          15.61905437707901
         ],
         "yaxis": "y"
        },
        {
         "hovertemplate": "x=%{x}<br>y=%{y}<extra></extra>",
         "line": {
          "color": "#023e8a",
          "width": 3
         },
         "marker": {
          "color": "#023e8a",
          "size": 7
         },
         "mode": "lines+markers",
         "showlegend": false,
         "type": "scatter",
         "x": [
          50,
          51
         ],
         "xaxis": "x",
         "y": [
          14.793225824832916,
          15.172012329101562
         ],
         "yaxis": "y"
        },
        {
         "hovertemplate": "x=%{x}<br>y=%{y}<extra></extra>",
         "line": {
          "color": "#023e8a",
          "width": 3
         },
         "marker": {
          "color": "#023e8a",
          "size": 7
         },
         "mode": "lines+markers",
         "showlegend": false,
         "type": "scatter",
         "x": [
          49,
          50
         ],
         "xaxis": "x",
         "y": [
          14.202825963497162,
          14.793225824832916
         ],
         "yaxis": "y"
        },
        {
         "hovertemplate": "x=%{x}<br>y=%{y}<extra></extra>",
         "line": {
          "color": "#023e8a",
          "width": 3
         },
         "marker": {
          "color": "#023e8a",
          "size": 7
         },
         "mode": "lines+markers",
         "showlegend": false,
         "type": "scatter",
         "x": [
          48,
          49
         ],
         "xaxis": "x",
         "y": [
          13.763981103897095,
          14.202825963497162
         ],
         "yaxis": "y"
        },
        {
         "hovertemplate": "x=%{x}<br>y=%{y}<extra></extra>",
         "line": {
          "color": "#023e8a",
          "width": 3
         },
         "marker": {
          "color": "#023e8a",
          "size": 7
         },
         "mode": "lines+markers",
         "showlegend": false,
         "type": "scatter",
         "x": [
          46,
          47
         ],
         "xaxis": "x",
         "y": [
          13.339155375957489,
          13.763981103897095
         ],
         "yaxis": "y"
        },
        {
         "hovertemplate": "x=%{x}<br>y=%{y}<extra></extra>",
         "line": {
          "color": "#023e8a",
          "width": 3
         },
         "marker": {
          "color": "#023e8a",
          "size": 7
         },
         "mode": "lines+markers",
         "showlegend": false,
         "type": "scatter",
         "x": [
          45,
          46
         ],
         "xaxis": "x",
         "y": [
          12.952115654945374,
          13.339155375957489
         ],
         "yaxis": "y"
        },
        {
         "hovertemplate": "x=%{x}<br>y=%{y}<extra></extra>",
         "line": {
          "color": "#023e8a",
          "width": 3
         },
         "marker": {
          "color": "#023e8a",
          "size": 7
         },
         "mode": "lines+markers",
         "showlegend": false,
         "type": "scatter",
         "x": [
          44,
          45
         ],
         "xaxis": "x",
         "y": [
          12.445061087608337,
          12.952115654945374
         ],
         "yaxis": "y"
        },
        {
         "hovertemplate": "x=%{x}<br>y=%{y}<extra></extra>",
         "line": {
          "color": "#023e8a",
          "width": 3
         },
         "marker": {
          "color": "#023e8a",
          "size": 7
         },
         "mode": "lines+markers",
         "showlegend": false,
         "type": "scatter",
         "x": [
          43,
          44
         ],
         "xaxis": "x",
         "y": [
          12.059601843357086,
          12.445061087608337
         ],
         "yaxis": "y"
        },
        {
         "hovertemplate": "x=%{x}<br>y=%{y}<extra></extra>",
         "line": {
          "color": "#023e8a",
          "width": 3
         },
         "marker": {
          "color": "#023e8a",
          "size": 7
         },
         "mode": "lines+markers",
         "showlegend": false,
         "type": "scatter",
         "x": [
          41,
          42
         ],
         "xaxis": "x",
         "y": [
          11.418713867664337,
          11.95851457118988
         ],
         "yaxis": "y"
        },
        {
         "hovertemplate": "x=%{x}<br>y=%{y}<extra></extra>",
         "line": {
          "color": "#023e8a",
          "width": 3
         },
         "marker": {
          "color": "#023e8a",
          "size": 7
         },
         "mode": "lines+markers",
         "showlegend": false,
         "type": "scatter",
         "x": [
          40,
          41
         ],
         "xaxis": "x",
         "y": [
          11.006965398788452,
          11.418713867664337
         ],
         "yaxis": "y"
        },
        {
         "hovertemplate": "x=%{x}<br>y=%{y}<extra></extra>",
         "line": {
          "color": "#023e8a",
          "width": 3
         },
         "marker": {
          "color": "#023e8a",
          "size": 7
         },
         "mode": "lines+markers",
         "showlegend": false,
         "type": "scatter",
         "x": [
          39,
          40
         ],
         "xaxis": "x",
         "y": [
          10.66421127319336,
          11.006965398788452
         ],
         "yaxis": "y"
        },
        {
         "hovertemplate": "x=%{x}<br>y=%{y}<extra></extra>",
         "line": {
          "color": "#023e8a",
          "width": 3
         },
         "marker": {
          "color": "#023e8a",
          "size": 7
         },
         "mode": "lines+markers",
         "showlegend": false,
         "type": "scatter",
         "x": [
          38,
          39
         ],
         "xaxis": "x",
         "y": [
          10.276206076145172,
          10.66421127319336
         ],
         "yaxis": "y"
        },
        {
         "hovertemplate": "x=%{x}<br>y=%{y}<extra></extra>",
         "line": {
          "color": "#023e8a",
          "width": 3
         },
         "marker": {
          "color": "#023e8a",
          "size": 7
         },
         "mode": "lines+markers",
         "showlegend": false,
         "type": "scatter",
         "x": [
          37,
          38
         ],
         "xaxis": "x",
         "y": [
          9.926008522510529,
          10.276206076145172
         ],
         "yaxis": "y"
        },
        {
         "hovertemplate": "x=%{x}<br>y=%{y}<extra></extra>",
         "line": {
          "color": "#023e8a",
          "width": 3
         },
         "marker": {
          "color": "#023e8a",
          "size": 7
         },
         "mode": "lines+markers",
         "showlegend": false,
         "type": "scatter",
         "x": [
          36,
          37
         ],
         "xaxis": "x",
         "y": [
          9.575054466724396,
          9.926008522510529
         ],
         "yaxis": "y"
        },
        {
         "hovertemplate": "x=%{x}<br>y=%{y}<extra></extra>",
         "line": {
          "color": "#023e8a",
          "width": 3
         },
         "marker": {
          "color": "#023e8a",
          "size": 7
         },
         "mode": "lines+markers",
         "showlegend": false,
         "type": "scatter",
         "x": [
          35,
          36
         ],
         "xaxis": "x",
         "y": [
          9.216464102268219,
          9.575054466724396
         ],
         "yaxis": "y"
        },
        {
         "hovertemplate": "x=%{x}<br>y=%{y}<extra></extra>",
         "line": {
          "color": "#023e8a",
          "width": 3
         },
         "marker": {
          "color": "#023e8a",
          "size": 7
         },
         "mode": "lines+markers",
         "showlegend": false,
         "type": "scatter",
         "x": [
          34,
          35
         ],
         "xaxis": "x",
         "y": [
          8.831243753433228,
          9.216464102268219
         ],
         "yaxis": "y"
        },
        {
         "hovertemplate": "x=%{x}<br>y=%{y}<extra></extra>",
         "line": {
          "color": "#023e8a",
          "width": 3
         },
         "marker": {
          "color": "#023e8a",
          "size": 7
         },
         "mode": "lines+markers",
         "showlegend": false,
         "type": "scatter",
         "x": [
          33,
          34
         ],
         "xaxis": "x",
         "y": [
          8.509429812431335,
          8.831243753433228
         ],
         "yaxis": "y"
        },
        {
         "hovertemplate": "x=%{x}<br>y=%{y}<extra></extra>",
         "line": {
          "color": "#023e8a",
          "width": 3
         },
         "marker": {
          "color": "#023e8a",
          "size": 7
         },
         "mode": "lines+markers",
         "showlegend": false,
         "type": "scatter",
         "x": [
          22,
          23
         ],
         "xaxis": "x",
         "y": [
          7.316591203212738,
          8.154069364070892
         ],
         "yaxis": "y"
        },
        {
         "hovertemplate": "x=%{x}<br>y=%{y}<extra></extra>",
         "line": {
          "color": "#023e8a",
          "width": 3
         },
         "marker": {
          "color": "#023e8a",
          "size": 7
         },
         "mode": "lines+markers",
         "showlegend": false,
         "type": "scatter",
         "x": [
          20,
          21
         ],
         "xaxis": "x",
         "y": [
          6.537892401218414,
          7.316591203212738
         ],
         "yaxis": "y"
        },
        {
         "hovertemplate": "x=%{x}<br>y=%{y}<extra></extra>",
         "line": {
          "color": "#023e8a",
          "width": 3
         },
         "marker": {
          "color": "#023e8a",
          "size": 7
         },
         "mode": "lines+markers",
         "showlegend": false,
         "type": "scatter",
         "x": [
          19,
          20
         ],
         "xaxis": "x",
         "y": [
          6.123665750026703,
          6.537892401218414
         ],
         "yaxis": "y"
        },
        {
         "hovertemplate": "x=%{x}<br>y=%{y}<extra></extra>",
         "line": {
          "color": "#023e8a",
          "width": 3
         },
         "marker": {
          "color": "#023e8a",
          "size": 7
         },
         "mode": "lines+markers",
         "showlegend": false,
         "type": "scatter",
         "x": [
          18,
          19
         ],
         "xaxis": "x",
         "y": [
          5.690814793109894,
          6.123665750026703
         ],
         "yaxis": "y"
        },
        {
         "hovertemplate": "x=%{x}<br>y=%{y}<extra></extra>",
         "line": {
          "color": "#023e8a",
          "width": 3
         },
         "marker": {
          "color": "#023e8a",
          "size": 7
         },
         "mode": "lines+markers",
         "showlegend": false,
         "type": "scatter",
         "x": [
          16,
          17
         ],
         "xaxis": "x",
         "y": [
          5.213970124721527,
          5.625508606433868
         ],
         "yaxis": "y"
        },
        {
         "hovertemplate": "x=%{x}<br>y=%{y}<extra></extra>",
         "line": {
          "color": "#023e8a",
          "width": 3
         },
         "marker": {
          "color": "#023e8a",
          "size": 7
         },
         "mode": "lines+markers",
         "showlegend": false,
         "type": "scatter",
         "x": [
          14,
          15
         ],
         "xaxis": "x",
         "y": [
          4.702828347682953,
          5.213970124721527
         ],
         "yaxis": "y"
        },
        {
         "hovertemplate": "x=%{x}<br>y=%{y}<extra></extra>",
         "line": {
          "color": "#023e8a",
          "width": 3
         },
         "marker": {
          "color": "#023e8a",
          "size": 7
         },
         "mode": "lines+markers",
         "showlegend": false,
         "type": "scatter",
         "x": [
          13,
          14
         ],
         "xaxis": "x",
         "y": [
          4.1258479952812195,
          4.702828347682953
         ],
         "yaxis": "y"
        },
        {
         "hovertemplate": "x=%{x}<br>y=%{y}<extra></extra>",
         "line": {
          "color": "#023e8a",
          "width": 3
         },
         "marker": {
          "color": "#023e8a",
          "size": 7
         },
         "mode": "lines+markers",
         "showlegend": false,
         "type": "scatter",
         "x": [
          12,
          13
         ],
         "xaxis": "x",
         "y": [
          3.6050471663475037,
          4.1258479952812195
         ],
         "yaxis": "y"
        },
        {
         "hovertemplate": "x=%{x}<br>y=%{y}<extra></extra>",
         "line": {
          "color": "#023e8a",
          "width": 3
         },
         "marker": {
          "color": "#023e8a",
          "size": 7
         },
         "mode": "lines+markers",
         "showlegend": false,
         "type": "scatter",
         "x": [
          11,
          12
         ],
         "xaxis": "x",
         "y": [
          3.3254921436309814,
          3.6050471663475037
         ],
         "yaxis": "y"
        },
        {
         "hovertemplate": "x=%{x}<br>y=%{y}<extra></extra>",
         "line": {
          "color": "#023e8a",
          "width": 3
         },
         "marker": {
          "color": "#023e8a",
          "size": 7
         },
         "mode": "lines+markers",
         "showlegend": false,
         "type": "scatter",
         "x": [
          10,
          11
         ],
         "xaxis": "x",
         "y": [
          3.0154295563697815,
          3.3254921436309814
         ],
         "yaxis": "y"
        },
        {
         "hovertemplate": "x=%{x}<br>y=%{y}<extra></extra>",
         "line": {
          "color": "#023e8a",
          "width": 3
         },
         "marker": {
          "color": "#023e8a",
          "size": 7
         },
         "mode": "lines+markers",
         "showlegend": false,
         "type": "scatter",
         "x": [
          9,
          10
         ],
         "xaxis": "x",
         "y": [
          2.685614824295044,
          3.0154295563697815
         ],
         "yaxis": "y"
        },
        {
         "hovertemplate": "x=%{x}<br>y=%{y}<extra></extra>",
         "line": {
          "color": "#023e8a",
          "width": 3
         },
         "marker": {
          "color": "#023e8a",
          "size": 7
         },
         "mode": "lines+markers",
         "showlegend": false,
         "type": "scatter",
         "x": [
          8,
          9
         ],
         "xaxis": "x",
         "y": [
          2.248051881790161,
          2.685614824295044
         ],
         "yaxis": "y"
        },
        {
         "hovertemplate": "x=%{x}<br>y=%{y}<extra></extra>",
         "line": {
          "color": "#023e8a",
          "width": 3
         },
         "marker": {
          "color": "#023e8a",
          "size": 7
         },
         "mode": "lines+markers",
         "showlegend": false,
         "type": "scatter",
         "x": [
          7,
          8
         ],
         "xaxis": "x",
         "y": [
          1.8857854008674622,
          2.248051881790161
         ],
         "yaxis": "y"
        },
        {
         "hovertemplate": "x=%{x}<br>y=%{y}<extra></extra>",
         "line": {
          "color": "#023e8a",
          "width": 3
         },
         "marker": {
          "color": "#023e8a",
          "size": 7
         },
         "mode": "lines+markers",
         "showlegend": false,
         "type": "scatter",
         "x": [
          5,
          6
         ],
         "xaxis": "x",
         "y": [
          1.4975293278694153,
          1.8857854008674622
         ],
         "yaxis": "y"
        },
        {
         "hovertemplate": "x=%{x}<br>y=%{y}<extra></extra>",
         "line": {
          "color": "#023e8a",
          "width": 3
         },
         "marker": {
          "color": "#023e8a",
          "size": 7
         },
         "mode": "lines+markers",
         "showlegend": false,
         "type": "scatter",
         "x": [
          4,
          5
         ],
         "xaxis": "x",
         "y": [
          1.147291660308838,
          1.4975293278694153
         ],
         "yaxis": "y"
        },
        {
         "hovertemplate": "x=%{x}<br>y=%{y}<extra></extra>",
         "line": {
          "color": "#023e8a",
          "width": 3
         },
         "marker": {
          "color": "#023e8a",
          "size": 7
         },
         "mode": "lines+markers",
         "showlegend": false,
         "type": "scatter",
         "x": [
          3,
          4
         ],
         "xaxis": "x",
         "y": [
          0.2898159623146057,
          1.147291660308838
         ],
         "yaxis": "y"
        },
        {
         "hovertemplate": "x=%{x}<br>y=%{y}<extra></extra>",
         "line": {
          "color": "#023e8a",
          "width": 3
         },
         "marker": {
          "color": "#023e8a",
          "size": 7
         },
         "mode": "lines+markers",
         "showlegend": false,
         "type": "scatter",
         "x": [
          1,
          2
         ],
         "xaxis": "x",
         "y": [
          0,
          0.2898159623146057
         ],
         "yaxis": "y"
        },
        {
         "hovertemplate": "x=%{x}<br>y=%{y}<extra></extra>",
         "line": {
          "color": "#023e8a",
          "width": 3
         },
         "marker": {
          "color": "#023e8a",
          "size": 7
         },
         "mode": "lines+markers",
         "showlegend": false,
         "type": "scatter",
         "x": [
          0,
          1
         ],
         "xaxis": "x",
         "y": [
          0,
          0.5179585218429565
         ],
         "yaxis": "y"
        },
        {
         "hovertemplate": "x=%{x}<br>y=%{y}<extra></extra>",
         "line": {
          "color": "#c1121f",
          "width": 3
         },
         "marker": {
          "color": "#c1121f",
          "size": 7
         },
         "mode": "lines+markers",
         "showlegend": false,
         "type": "scatter",
         "x": [
          32,
          33
         ],
         "xaxis": "x",
         "y": [
          8.154069364070892,
          8.509429812431335
         ],
         "yaxis": "y"
        },
        {
         "hovertemplate": "x=%{x}<br>y=%{y}<extra></extra>",
         "line": {
          "color": "#9d4edd",
          "width": 3
         },
         "marker": {
          "color": "#9d4edd",
          "size": 7
         },
         "mode": "lines+markers",
         "showlegend": false,
         "type": "scatter",
         "x": [
          42,
          43
         ],
         "xaxis": "x",
         "y": [
          11.95851457118988,
          12.059601843357086
         ],
         "yaxis": "y"
        },
        {
         "hovertemplate": "x=%{x}<br>y=%{y}<extra></extra>",
         "line": {
          "color": "#9d4edd",
          "width": 3
         },
         "marker": {
          "color": "#9d4edd",
          "size": 7
         },
         "mode": "lines+markers",
         "showlegend": false,
         "type": "scatter",
         "x": [
          17,
          18
         ],
         "xaxis": "x",
         "y": [
          5.625508606433868,
          5.690814793109894
         ],
         "yaxis": "y"
        },
        {
         "line": {
          "color": "#64B5F6",
          "width": 2
         },
         "mode": "lines",
         "name": "human_insert_backstage",
         "showlegend": true,
         "type": "scatter",
         "x": [
          null
         ],
         "xaxis": "x",
         "y": [
          null
         ],
         "yaxis": "y"
        },
        {
         "line": {
          "color": "#ff8fab",
          "width": 2
         },
         "mode": "lines",
         "name": "ai_suggest_backstage",
         "showlegend": true,
         "type": "scatter",
         "x": [
          null
         ],
         "xaxis": "x",
         "y": [
          null
         ],
         "yaxis": "y"
        },
        {
         "line": {
          "color": "#023e8a",
          "width": 2
         },
         "mode": "lines",
         "name": "human_insert_frontstage",
         "showlegend": true,
         "type": "scatter",
         "x": [
          null
         ],
         "xaxis": "x",
         "y": [
          null
         ],
         "yaxis": "y"
        },
        {
         "line": {
          "color": "#c1121f",
          "width": 2
         },
         "mode": "lines",
         "name": "ai_insert_moved_to_frontstage",
         "showlegend": true,
         "type": "scatter",
         "x": [
          null
         ],
         "xaxis": "x",
         "y": [
          null
         ],
         "yaxis": "y"
        },
        {
         "line": {
          "color": "#9d4edd",
          "width": 2
         },
         "mode": "lines",
         "name": "human_delete_frontstage",
         "showlegend": true,
         "type": "scatter",
         "x": [
          null
         ],
         "xaxis": "x",
         "y": [
          null
         ],
         "yaxis": "y"
        },
        {
         "line": {
          "color": "#5a189a",
          "width": 2
         },
         "mode": "lines",
         "name": "human_insert_edit_frontstage",
         "showlegend": true,
         "type": "scatter",
         "x": [
          null
         ],
         "xaxis": "x",
         "y": [
          null
         ],
         "yaxis": "y"
        }
       ],
       "layout": {
        "annotations": [
         {
          "font": {
           "size": 16
          },
          "showarrow": false,
          "text": "Session: legislation_antitrust_5",
          "x": 0.5,
          "xanchor": "center",
          "xref": "paper",
          "y": 1,
          "yanchor": "bottom",
          "yref": "paper"
         }
        ],
        "height": 500,
        "legend": {
         "title": {
          "font": {
           "color": "rgba(0, 0, 0, 0)"
          }
         }
        },
        "plot_bgcolor": "white",
        "showlegend": true,
        "template": {
         "data": {
          "bar": [
           {
            "error_x": {
             "color": "#2a3f5f"
            },
            "error_y": {
             "color": "#2a3f5f"
            },
            "marker": {
             "line": {
              "color": "#E5ECF6",
              "width": 0.5
             },
             "pattern": {
              "fillmode": "overlay",
              "size": 10,
              "solidity": 0.2
             }
            },
            "type": "bar"
           }
          ],
          "barpolar": [
           {
            "marker": {
             "line": {
              "color": "#E5ECF6",
              "width": 0.5
             },
             "pattern": {
              "fillmode": "overlay",
              "size": 10,
              "solidity": 0.2
             }
            },
            "type": "barpolar"
           }
          ],
          "carpet": [
           {
            "aaxis": {
             "endlinecolor": "#2a3f5f",
             "gridcolor": "white",
             "linecolor": "white",
             "minorgridcolor": "white",
             "startlinecolor": "#2a3f5f"
            },
            "baxis": {
             "endlinecolor": "#2a3f5f",
             "gridcolor": "white",
             "linecolor": "white",
             "minorgridcolor": "white",
             "startlinecolor": "#2a3f5f"
            },
            "type": "carpet"
           }
          ],
          "choropleth": [
           {
            "colorbar": {
             "outlinewidth": 0,
             "ticks": ""
            },
            "type": "choropleth"
           }
          ],
          "contour": [
           {
            "colorbar": {
             "outlinewidth": 0,
             "ticks": ""
            },
            "colorscale": [
             [
              0,
              "#0d0887"
             ],
             [
              0.1111111111111111,
              "#46039f"
             ],
             [
              0.2222222222222222,
              "#7201a8"
             ],
             [
              0.3333333333333333,
              "#9c179e"
             ],
             [
              0.4444444444444444,
              "#bd3786"
             ],
             [
              0.5555555555555556,
              "#d8576b"
             ],
             [
              0.6666666666666666,
              "#ed7953"
             ],
             [
              0.7777777777777778,
              "#fb9f3a"
             ],
             [
              0.8888888888888888,
              "#fdca26"
             ],
             [
              1,
              "#f0f921"
             ]
            ],
            "type": "contour"
           }
          ],
          "contourcarpet": [
           {
            "colorbar": {
             "outlinewidth": 0,
             "ticks": ""
            },
            "type": "contourcarpet"
           }
          ],
          "heatmap": [
           {
            "colorbar": {
             "outlinewidth": 0,
             "ticks": ""
            },
            "colorscale": [
             [
              0,
              "#0d0887"
             ],
             [
              0.1111111111111111,
              "#46039f"
             ],
             [
              0.2222222222222222,
              "#7201a8"
             ],
             [
              0.3333333333333333,
              "#9c179e"
             ],
             [
              0.4444444444444444,
              "#bd3786"
             ],
             [
              0.5555555555555556,
              "#d8576b"
             ],
             [
              0.6666666666666666,
              "#ed7953"
             ],
             [
              0.7777777777777778,
              "#fb9f3a"
             ],
             [
              0.8888888888888888,
              "#fdca26"
             ],
             [
              1,
              "#f0f921"
             ]
            ],
            "type": "heatmap"
           }
          ],
          "histogram": [
           {
            "marker": {
             "pattern": {
              "fillmode": "overlay",
              "size": 10,
              "solidity": 0.2
             }
            },
            "type": "histogram"
           }
          ],
          "histogram2d": [
           {
            "colorbar": {
             "outlinewidth": 0,
             "ticks": ""
            },
            "colorscale": [
             [
              0,
              "#0d0887"
             ],
             [
              0.1111111111111111,
              "#46039f"
             ],
             [
              0.2222222222222222,
              "#7201a8"
             ],
             [
              0.3333333333333333,
              "#9c179e"
             ],
             [
              0.4444444444444444,
              "#bd3786"
             ],
             [
              0.5555555555555556,
              "#d8576b"
             ],
             [
              0.6666666666666666,
              "#ed7953"
             ],
             [
              0.7777777777777778,
              "#fb9f3a"
             ],
             [
              0.8888888888888888,
              "#fdca26"
             ],
             [
              1,
              "#f0f921"
             ]
            ],
            "type": "histogram2d"
           }
          ],
          "histogram2dcontour": [
           {
            "colorbar": {
             "outlinewidth": 0,
             "ticks": ""
            },
            "colorscale": [
             [
              0,
              "#0d0887"
             ],
             [
              0.1111111111111111,
              "#46039f"
             ],
             [
              0.2222222222222222,
              "#7201a8"
             ],
             [
              0.3333333333333333,
              "#9c179e"
             ],
             [
              0.4444444444444444,
              "#bd3786"
             ],
             [
              0.5555555555555556,
              "#d8576b"
             ],
             [
              0.6666666666666666,
              "#ed7953"
             ],
             [
              0.7777777777777778,
              "#fb9f3a"
             ],
             [
              0.8888888888888888,
              "#fdca26"
             ],
             [
              1,
              "#f0f921"
             ]
            ],
            "type": "histogram2dcontour"
           }
          ],
          "mesh3d": [
           {
            "colorbar": {
             "outlinewidth": 0,
             "ticks": ""
            },
            "type": "mesh3d"
           }
          ],
          "parcoords": [
           {
            "line": {
             "colorbar": {
              "outlinewidth": 0,
              "ticks": ""
             }
            },
            "type": "parcoords"
           }
          ],
          "pie": [
           {
            "automargin": true,
            "type": "pie"
           }
          ],
          "scatter": [
           {
            "fillpattern": {
             "fillmode": "overlay",
             "size": 10,
             "solidity": 0.2
            },
            "type": "scatter"
           }
          ],
          "scatter3d": [
           {
            "line": {
             "colorbar": {
              "outlinewidth": 0,
              "ticks": ""
             }
            },
            "marker": {
             "colorbar": {
              "outlinewidth": 0,
              "ticks": ""
             }
            },
            "type": "scatter3d"
           }
          ],
          "scattercarpet": [
           {
            "marker": {
             "colorbar": {
              "outlinewidth": 0,
              "ticks": ""
             }
            },
            "type": "scattercarpet"
           }
          ],
          "scattergeo": [
           {
            "marker": {
             "colorbar": {
              "outlinewidth": 0,
              "ticks": ""
             }
            },
            "type": "scattergeo"
           }
          ],
          "scattergl": [
           {
            "marker": {
             "colorbar": {
              "outlinewidth": 0,
              "ticks": ""
             }
            },
            "type": "scattergl"
           }
          ],
          "scattermap": [
           {
            "marker": {
             "colorbar": {
              "outlinewidth": 0,
              "ticks": ""
             }
            },
            "type": "scattermap"
           }
          ],
          "scattermapbox": [
           {
            "marker": {
             "colorbar": {
              "outlinewidth": 0,
              "ticks": ""
             }
            },
            "type": "scattermapbox"
           }
          ],
          "scatterpolar": [
           {
            "marker": {
             "colorbar": {
              "outlinewidth": 0,
              "ticks": ""
             }
            },
            "type": "scatterpolar"
           }
          ],
          "scatterpolargl": [
           {
            "marker": {
             "colorbar": {
              "outlinewidth": 0,
              "ticks": ""
             }
            },
            "type": "scatterpolargl"
           }
          ],
          "scatterternary": [
           {
            "marker": {
             "colorbar": {
              "outlinewidth": 0,
              "ticks": ""
             }
            },
            "type": "scatterternary"
           }
          ],
          "surface": [
           {
            "colorbar": {
             "outlinewidth": 0,
             "ticks": ""
            },
            "colorscale": [
             [
              0,
              "#0d0887"
             ],
             [
              0.1111111111111111,
              "#46039f"
             ],
             [
              0.2222222222222222,
              "#7201a8"
             ],
             [
              0.3333333333333333,
              "#9c179e"
             ],
             [
              0.4444444444444444,
              "#bd3786"
             ],
             [
              0.5555555555555556,
              "#d8576b"
             ],
             [
              0.6666666666666666,
              "#ed7953"
             ],
             [
              0.7777777777777778,
              "#fb9f3a"
             ],
             [
              0.8888888888888888,
              "#fdca26"
             ],
             [
              1,
              "#f0f921"
             ]
            ],
            "type": "surface"
           }
          ],
          "table": [
           {
            "cells": {
             "fill": {
              "color": "#EBF0F8"
             },
             "line": {
              "color": "white"
             }
            },
            "header": {
             "fill": {
              "color": "#C8D4E3"
             },
             "line": {
              "color": "white"
             }
            },
            "type": "table"
           }
          ]
         },
         "layout": {
          "annotationdefaults": {
           "arrowcolor": "#2a3f5f",
           "arrowhead": 0,
           "arrowwidth": 1
          },
          "autotypenumbers": "strict",
          "coloraxis": {
           "colorbar": {
            "outlinewidth": 0,
            "ticks": ""
           }
          },
          "colorscale": {
           "diverging": [
            [
             0,
             "#8e0152"
            ],
            [
             0.1,
             "#c51b7d"
            ],
            [
             0.2,
             "#de77ae"
            ],
            [
             0.3,
             "#f1b6da"
            ],
            [
             0.4,
             "#fde0ef"
            ],
            [
             0.5,
             "#f7f7f7"
            ],
            [
             0.6,
             "#e6f5d0"
            ],
            [
             0.7,
             "#b8e186"
            ],
            [
             0.8,
             "#7fbc41"
            ],
            [
             0.9,
             "#4d9221"
            ],
            [
             1,
             "#276419"
            ]
           ],
           "sequential": [
            [
             0,
             "#0d0887"
            ],
            [
             0.1111111111111111,
             "#46039f"
            ],
            [
             0.2222222222222222,
             "#7201a8"
            ],
            [
             0.3333333333333333,
             "#9c179e"
            ],
            [
             0.4444444444444444,
             "#bd3786"
            ],
            [
             0.5555555555555556,
             "#d8576b"
            ],
            [
             0.6666666666666666,
             "#ed7953"
            ],
            [
             0.7777777777777778,
             "#fb9f3a"
            ],
            [
             0.8888888888888888,
             "#fdca26"
            ],
            [
             1,
             "#f0f921"
            ]
           ],
           "sequentialminus": [
            [
             0,
             "#0d0887"
            ],
            [
             0.1111111111111111,
             "#46039f"
            ],
            [
             0.2222222222222222,
             "#7201a8"
            ],
            [
             0.3333333333333333,
             "#9c179e"
            ],
            [
             0.4444444444444444,
             "#bd3786"
            ],
            [
             0.5555555555555556,
             "#d8576b"
            ],
            [
             0.6666666666666666,
             "#ed7953"
            ],
            [
             0.7777777777777778,
             "#fb9f3a"
            ],
            [
             0.8888888888888888,
             "#fdca26"
            ],
            [
             1,
             "#f0f921"
            ]
           ]
          },
          "colorway": [
           "#636efa",
           "#EF553B",
           "#00cc96",
           "#ab63fa",
           "#FFA15A",
           "#19d3f3",
           "#FF6692",
           "#B6E880",
           "#FF97FF",
           "#FECB52"
          ],
          "font": {
           "color": "#2a3f5f"
          },
          "geo": {
           "bgcolor": "white",
           "lakecolor": "white",
           "landcolor": "#E5ECF6",
           "showlakes": true,
           "showland": true,
           "subunitcolor": "white"
          },
          "hoverlabel": {
           "align": "left"
          },
          "hovermode": "closest",
          "mapbox": {
           "style": "light"
          },
          "paper_bgcolor": "white",
          "plot_bgcolor": "#E5ECF6",
          "polar": {
           "angularaxis": {
            "gridcolor": "white",
            "linecolor": "white",
            "ticks": ""
           },
           "bgcolor": "#E5ECF6",
           "radialaxis": {
            "gridcolor": "white",
            "linecolor": "white",
            "ticks": ""
           }
          },
          "scene": {
           "xaxis": {
            "backgroundcolor": "#E5ECF6",
            "gridcolor": "white",
            "gridwidth": 2,
            "linecolor": "white",
            "showbackground": true,
            "ticks": "",
            "zerolinecolor": "white"
           },
           "yaxis": {
            "backgroundcolor": "#E5ECF6",
            "gridcolor": "white",
            "gridwidth": 2,
            "linecolor": "white",
            "showbackground": true,
            "ticks": "",
            "zerolinecolor": "white"
           },
           "zaxis": {
            "backgroundcolor": "#E5ECF6",
            "gridcolor": "white",
            "gridwidth": 2,
            "linecolor": "white",
            "showbackground": true,
            "ticks": "",
            "zerolinecolor": "white"
           }
          },
          "shapedefaults": {
           "line": {
            "color": "#2a3f5f"
           }
          },
          "ternary": {
           "aaxis": {
            "gridcolor": "white",
            "linecolor": "white",
            "ticks": ""
           },
           "baxis": {
            "gridcolor": "white",
            "linecolor": "white",
            "ticks": ""
           },
           "bgcolor": "#E5ECF6",
           "caxis": {
            "gridcolor": "white",
            "linecolor": "white",
            "ticks": ""
           }
          },
          "title": {
           "x": 0.05
          },
          "xaxis": {
           "automargin": true,
           "gridcolor": "white",
           "linecolor": "white",
           "ticks": "",
           "title": {
            "standoff": 15
           },
           "zerolinecolor": "white",
           "zerolinewidth": 2
          },
          "yaxis": {
           "automargin": true,
           "gridcolor": "white",
           "linecolor": "white",
           "ticks": "",
           "title": {
            "standoff": 15
           },
           "zerolinecolor": "white",
           "zerolinewidth": 2
          }
         }
        },
        "title": {
         "text": "Semantic Expansion over Writing Sessions<br><span style=\"font-size: 12px;\">*Measuring how well humans are learning while writing with GenAI</span>"
        },
        "width": 1800,
        "xaxis": {
         "anchor": "y",
         "domain": [
          0,
          1
         ],
         "gridcolor": "white",
         "linecolor": "black",
         "mirror": false,
         "range": [
          -1,
          65
         ],
         "showline": true,
         "ticks": "outside",
         "title": {
          "text": "Progress into the writing session"
         }
        },
        "yaxis": {
         "anchor": "x",
         "domain": [
          0,
          1
         ],
         "gridcolor": "white",
         "linecolor": "black",
         "mirror": false,
         "showline": true,
         "ticks": "outside",
         "title": {
          "text": "Scores"
         }
        }
       }
      }
     },
     "metadata": {},
     "output_type": "display_data"
    },
    {
     "name": "stdout",
     "output_type": "stream",
     "text": [
      "legislation_antitrust_6\n"
     ]
    },
    {
     "data": {
      "application/vnd.plotly.v1+json": {
       "config": {
        "plotlyServerURL": "https://plot.ly"
       },
       "data": [
        {
         "hovertemplate": "x=%{x}<br>y=%{y}<extra></extra>",
         "line": {
          "color": "#64B5F6",
          "width": 3
         },
         "marker": {
          "color": "#64B5F6",
          "size": 7
         },
         "mode": "lines+markers",
         "showlegend": false,
         "type": "scatter",
         "x": [
          41,
          42
         ],
         "xaxis": "x",
         "y": [
          8.893055140972137,
          9.375064313411713
         ],
         "yaxis": "y"
        },
        {
         "hovertemplate": "x=%{x}<br>y=%{y}<extra></extra>",
         "line": {
          "color": "#64B5F6",
          "width": 3
         },
         "marker": {
          "color": "#64B5F6",
          "size": 7
         },
         "mode": "lines+markers",
         "showlegend": false,
         "type": "scatter",
         "x": [
          11,
          12
         ],
         "xaxis": "x",
         "y": [
          1.0524750351905823,
          1.6694384217262268
         ],
         "yaxis": "y"
        },
        {
         "hovertemplate": "x=%{x}<br>y=%{y}<extra></extra>",
         "line": {
          "color": "#64B5F6",
          "width": 3
         },
         "marker": {
          "color": "#64B5F6",
          "size": 7
         },
         "mode": "lines+markers",
         "showlegend": false,
         "type": "scatter",
         "x": [
          8,
          9
         ],
         "xaxis": "x",
         "y": [
          0.7619868516921997,
          0.9212239980697632
         ],
         "yaxis": "y"
        },
        {
         "hovertemplate": "x=%{x}<br>y=%{y}<extra></extra>",
         "line": {
          "color": "#ff8fab",
          "width": 3
         },
         "marker": {
          "color": "#ff8fab",
          "size": 7
         },
         "mode": "lines+markers",
         "showlegend": false,
         "type": "scatter",
         "x": [
          46,
          47
         ],
         "xaxis": "x",
         "y": [
          10.190001726150513,
          10.716172647476196
         ],
         "yaxis": "y"
        },
        {
         "hovertemplate": "x=%{x}<br>y=%{y}<extra></extra>",
         "line": {
          "color": "#ff8fab",
          "width": 3
         },
         "marker": {
          "color": "#ff8fab",
          "size": 7
         },
         "mode": "lines+markers",
         "showlegend": false,
         "type": "scatter",
         "x": [
          42,
          43
         ],
         "xaxis": "x",
         "y": [
          9.375064313411713,
          9.780587744712829
         ],
         "yaxis": "y"
        },
        {
         "hovertemplate": "x=%{x}<br>y=%{y}<extra></extra>",
         "line": {
          "color": "#ff8fab",
          "width": 3
         },
         "marker": {
          "color": "#ff8fab",
          "size": 7
         },
         "mode": "lines+markers",
         "showlegend": false,
         "type": "scatter",
         "x": [
          36,
          37
         ],
         "xaxis": "x",
         "y": [
          8.010912716388702,
          8.419747114181519
         ],
         "yaxis": "y"
        },
        {
         "hovertemplate": "x=%{x}<br>y=%{y}<extra></extra>",
         "line": {
          "color": "#ff8fab",
          "width": 3
         },
         "marker": {
          "color": "#ff8fab",
          "size": 7
         },
         "mode": "lines+markers",
         "showlegend": false,
         "type": "scatter",
         "x": [
          31,
          32
         ],
         "xaxis": "x",
         "y": [
          6.101530432701111,
          6.500063169002533
         ],
         "yaxis": "y"
        },
        {
         "hovertemplate": "x=%{x}<br>y=%{y}<extra></extra>",
         "line": {
          "color": "#ff8fab",
          "width": 3
         },
         "marker": {
          "color": "#ff8fab",
          "size": 7
         },
         "mode": "lines+markers",
         "showlegend": false,
         "type": "scatter",
         "x": [
          27,
          28
         ],
         "xaxis": "x",
         "y": [
          4.920133411884308,
          5.408981311321258
         ],
         "yaxis": "y"
        },
        {
         "hovertemplate": "x=%{x}<br>y=%{y}<extra></extra>",
         "line": {
          "color": "#ff8fab",
          "width": 3
         },
         "marker": {
          "color": "#ff8fab",
          "size": 7
         },
         "mode": "lines+markers",
         "showlegend": false,
         "type": "scatter",
         "x": [
          23,
          24
         ],
         "xaxis": "x",
         "y": [
          3.9409595727920532,
          4.331278669834137
         ],
         "yaxis": "y"
        },
        {
         "hovertemplate": "x=%{x}<br>y=%{y}<extra></extra>",
         "line": {
          "color": "#ff8fab",
          "width": 3
         },
         "marker": {
          "color": "#ff8fab",
          "size": 7
         },
         "mode": "lines+markers",
         "showlegend": false,
         "type": "scatter",
         "x": [
          19,
          20
         ],
         "xaxis": "x",
         "y": [
          2.904731333255768,
          3.360109794139862
         ],
         "yaxis": "y"
        },
        {
         "hovertemplate": "x=%{x}<br>y=%{y}<extra></extra>",
         "line": {
          "color": "#ff8fab",
          "width": 3
         },
         "marker": {
          "color": "#ff8fab",
          "size": 7
         },
         "mode": "lines+markers",
         "showlegend": false,
         "type": "scatter",
         "x": [
          15,
          16
         ],
         "xaxis": "x",
         "y": [
          1.8701753616333008,
          2.24642493724823
         ],
         "yaxis": "y"
        },
        {
         "hovertemplate": "x=%{x}<br>y=%{y}<extra></extra>",
         "line": {
          "color": "#ff8fab",
          "width": 3
         },
         "marker": {
          "color": "#ff8fab",
          "size": 7
         },
         "mode": "lines+markers",
         "showlegend": false,
         "type": "scatter",
         "x": [
          12,
          13
         ],
         "xaxis": "x",
         "y": [
          1.6694384217262268,
          2.093555271625519
         ],
         "yaxis": "y"
        },
        {
         "hovertemplate": "x=%{x}<br>y=%{y}<extra></extra>",
         "line": {
          "color": "#ff8fab",
          "width": 3
         },
         "marker": {
          "color": "#ff8fab",
          "size": 7
         },
         "mode": "lines+markers",
         "showlegend": false,
         "type": "scatter",
         "x": [
          9,
          10
         ],
         "xaxis": "x",
         "y": [
          0.9212239980697632,
          1.3218401312828063
         ],
         "yaxis": "y"
        },
        {
         "hovertemplate": "x=%{x}<br>y=%{y}<extra></extra>",
         "line": {
          "color": "#ff8fab",
          "width": 3
         },
         "marker": {
          "color": "#ff8fab",
          "size": 7
         },
         "mode": "lines+markers",
         "showlegend": false,
         "type": "scatter",
         "x": [
          5,
          6
         ],
         "xaxis": "x",
         "y": [
          0.5983546376228333,
          0.9595348000526429
         ],
         "yaxis": "y"
        },
        {
         "hovertemplate": "x=%{x}<br>y=%{y}<extra></extra>",
         "line": {
          "color": "#ff8fab",
          "width": 3
         },
         "marker": {
          "color": "#ff8fab",
          "size": 7
         },
         "mode": "lines+markers",
         "showlegend": false,
         "type": "scatter",
         "x": [
          1,
          2
         ],
         "xaxis": "x",
         "y": [
          0,
          0.3594031214714051
         ],
         "yaxis": "y"
        },
        {
         "hovertemplate": "x=%{x}<br>y=%{y}<extra></extra>",
         "line": {
          "color": "#023e8a",
          "width": 3
         },
         "marker": {
          "color": "#023e8a",
          "size": 7
         },
         "mode": "lines+markers",
         "showlegend": false,
         "type": "scatter",
         "x": [
          54,
          55
         ],
         "xaxis": "x",
         "y": [
          12.974045038223267,
          13.344318985939026
         ],
         "yaxis": "y"
        },
        {
         "hovertemplate": "x=%{x}<br>y=%{y}<extra></extra>",
         "line": {
          "color": "#023e8a",
          "width": 3
         },
         "marker": {
          "color": "#023e8a",
          "size": 7
         },
         "mode": "lines+markers",
         "showlegend": false,
         "type": "scatter",
         "x": [
          53,
          54
         ],
         "xaxis": "x",
         "y": [
          12.683031976222992,
          12.974045038223267
         ],
         "yaxis": "y"
        },
        {
         "hovertemplate": "x=%{x}<br>y=%{y}<extra></extra>",
         "line": {
          "color": "#023e8a",
          "width": 3
         },
         "marker": {
          "color": "#023e8a",
          "size": 7
         },
         "mode": "lines+markers",
         "showlegend": false,
         "type": "scatter",
         "x": [
          52,
          53
         ],
         "xaxis": "x",
         "y": [
          12.283048391342163,
          12.683031976222992
         ],
         "yaxis": "y"
        },
        {
         "hovertemplate": "x=%{x}<br>y=%{y}<extra></extra>",
         "line": {
          "color": "#023e8a",
          "width": 3
         },
         "marker": {
          "color": "#023e8a",
          "size": 7
         },
         "mode": "lines+markers",
         "showlegend": false,
         "type": "scatter",
         "x": [
          51,
          52
         ],
         "xaxis": "x",
         "y": [
          11.933647572994232,
          12.283048391342163
         ],
         "yaxis": "y"
        },
        {
         "hovertemplate": "x=%{x}<br>y=%{y}<extra></extra>",
         "line": {
          "color": "#023e8a",
          "width": 3
         },
         "marker": {
          "color": "#023e8a",
          "size": 7
         },
         "mode": "lines+markers",
         "showlegend": false,
         "type": "scatter",
         "x": [
          50,
          51
         ],
         "xaxis": "x",
         "y": [
          11.473661839962006,
          11.933647572994232
         ],
         "yaxis": "y"
        },
        {
         "hovertemplate": "x=%{x}<br>y=%{y}<extra></extra>",
         "line": {
          "color": "#023e8a",
          "width": 3
         },
         "marker": {
          "color": "#023e8a",
          "size": 7
         },
         "mode": "lines+markers",
         "showlegend": false,
         "type": "scatter",
         "x": [
          49,
          50
         ],
         "xaxis": "x",
         "y": [
          11.016762137413025,
          11.473661839962006
         ],
         "yaxis": "y"
        },
        {
         "hovertemplate": "x=%{x}<br>y=%{y}<extra></extra>",
         "line": {
          "color": "#023e8a",
          "width": 3
         },
         "marker": {
          "color": "#023e8a",
          "size": 7
         },
         "mode": "lines+markers",
         "showlegend": false,
         "type": "scatter",
         "x": [
          48,
          49
         ],
         "xaxis": "x",
         "y": [
          10.630696177482605,
          11.016762137413025
         ],
         "yaxis": "y"
        },
        {
         "hovertemplate": "x=%{x}<br>y=%{y}<extra></extra>",
         "line": {
          "color": "#023e8a",
          "width": 3
         },
         "marker": {
          "color": "#023e8a",
          "size": 7
         },
         "mode": "lines+markers",
         "showlegend": false,
         "type": "scatter",
         "x": [
          47,
          48
         ],
         "xaxis": "x",
         "y": [
          10.190001726150513,
          10.630696177482605
         ],
         "yaxis": "y"
        },
        {
         "hovertemplate": "x=%{x}<br>y=%{y}<extra></extra>",
         "line": {
          "color": "#023e8a",
          "width": 3
         },
         "marker": {
          "color": "#023e8a",
          "size": 7
         },
         "mode": "lines+markers",
         "showlegend": false,
         "type": "scatter",
         "x": [
          45,
          46
         ],
         "xaxis": "x",
         "y": [
          9.552710890769958,
          10.190001726150513
         ],
         "yaxis": "y"
        },
        {
         "hovertemplate": "x=%{x}<br>y=%{y}<extra></extra>",
         "line": {
          "color": "#023e8a",
          "width": 3
         },
         "marker": {
          "color": "#023e8a",
          "size": 7
         },
         "mode": "lines+markers",
         "showlegend": false,
         "type": "scatter",
         "x": [
          44,
          45
         ],
         "xaxis": "x",
         "y": [
          8.904905080795288,
          9.552710890769958
         ],
         "yaxis": "y"
        },
        {
         "hovertemplate": "x=%{x}<br>y=%{y}<extra></extra>",
         "line": {
          "color": "#023e8a",
          "width": 3
         },
         "marker": {
          "color": "#023e8a",
          "size": 7
         },
         "mode": "lines+markers",
         "showlegend": false,
         "type": "scatter",
         "x": [
          39,
          40
         ],
         "xaxis": "x",
         "y": [
          8.85761559009552,
          9.744268894195557
         ],
         "yaxis": "y"
        },
        {
         "hovertemplate": "x=%{x}<br>y=%{y}<extra></extra>",
         "line": {
          "color": "#023e8a",
          "width": 3
         },
         "marker": {
          "color": "#023e8a",
          "size": 7
         },
         "mode": "lines+markers",
         "showlegend": false,
         "type": "scatter",
         "x": [
          38,
          39
         ],
         "xaxis": "x",
         "y": [
          8.42013680934906,
          8.85761559009552
         ],
         "yaxis": "y"
        },
        {
         "hovertemplate": "x=%{x}<br>y=%{y}<extra></extra>",
         "line": {
          "color": "#023e8a",
          "width": 3
         },
         "marker": {
          "color": "#023e8a",
          "size": 7
         },
         "mode": "lines+markers",
         "showlegend": false,
         "type": "scatter",
         "x": [
          35,
          36
         ],
         "xaxis": "x",
         "y": [
          7.546870112419128,
          8.010912716388702
         ],
         "yaxis": "y"
        },
        {
         "hovertemplate": "x=%{x}<br>y=%{y}<extra></extra>",
         "line": {
          "color": "#023e8a",
          "width": 3
         },
         "marker": {
          "color": "#023e8a",
          "size": 7
         },
         "mode": "lines+markers",
         "showlegend": false,
         "type": "scatter",
         "x": [
          34,
          35
         ],
         "xaxis": "x",
         "y": [
          7.0861776471138,
          7.546870112419128
         ],
         "yaxis": "y"
        },
        {
         "hovertemplate": "x=%{x}<br>y=%{y}<extra></extra>",
         "line": {
          "color": "#023e8a",
          "width": 3
         },
         "marker": {
          "color": "#023e8a",
          "size": 7
         },
         "mode": "lines+markers",
         "showlegend": false,
         "type": "scatter",
         "x": [
          33,
          34
         ],
         "xaxis": "x",
         "y": [
          6.629636287689209,
          7.0861776471138
         ],
         "yaxis": "y"
        },
        {
         "hovertemplate": "x=%{x}<br>y=%{y}<extra></extra>",
         "line": {
          "color": "#023e8a",
          "width": 3
         },
         "marker": {
          "color": "#023e8a",
          "size": 7
         },
         "mode": "lines+markers",
         "showlegend": false,
         "type": "scatter",
         "x": [
          30,
          31
         ],
         "xaxis": "x",
         "y": [
          5.712402582168579,
          6.101530432701111
         ],
         "yaxis": "y"
        },
        {
         "hovertemplate": "x=%{x}<br>y=%{y}<extra></extra>",
         "line": {
          "color": "#023e8a",
          "width": 3
         },
         "marker": {
          "color": "#023e8a",
          "size": 7
         },
         "mode": "lines+markers",
         "showlegend": false,
         "type": "scatter",
         "x": [
          29,
          30
         ],
         "xaxis": "x",
         "y": [
          5.29821240901947,
          5.712402582168579
         ],
         "yaxis": "y"
        },
        {
         "hovertemplate": "x=%{x}<br>y=%{y}<extra></extra>",
         "line": {
          "color": "#023e8a",
          "width": 3
         },
         "marker": {
          "color": "#023e8a",
          "size": 7
         },
         "mode": "lines+markers",
         "showlegend": false,
         "type": "scatter",
         "x": [
          26,
          27
         ],
         "xaxis": "x",
         "y": [
          4.494895040988922,
          4.920133411884308
         ],
         "yaxis": "y"
        },
        {
         "hovertemplate": "x=%{x}<br>y=%{y}<extra></extra>",
         "line": {
          "color": "#023e8a",
          "width": 3
         },
         "marker": {
          "color": "#023e8a",
          "size": 7
         },
         "mode": "lines+markers",
         "showlegend": false,
         "type": "scatter",
         "x": [
          25,
          26
         ],
         "xaxis": "x",
         "y": [
          4.272970020771027,
          4.494895040988922
         ],
         "yaxis": "y"
        },
        {
         "hovertemplate": "x=%{x}<br>y=%{y}<extra></extra>",
         "line": {
          "color": "#023e8a",
          "width": 3
         },
         "marker": {
          "color": "#023e8a",
          "size": 7
         },
         "mode": "lines+markers",
         "showlegend": false,
         "type": "scatter",
         "x": [
          22,
          23
         ],
         "xaxis": "x",
         "y": [
          3.6258073449134827,
          3.9409595727920532
         ],
         "yaxis": "y"
        },
        {
         "hovertemplate": "x=%{x}<br>y=%{y}<extra></extra>",
         "line": {
          "color": "#023e8a",
          "width": 3
         },
         "marker": {
          "color": "#023e8a",
          "size": 7
         },
         "mode": "lines+markers",
         "showlegend": false,
         "type": "scatter",
         "x": [
          21,
          22
         ],
         "xaxis": "x",
         "y": [
          3.2080482840538025,
          3.6258073449134827
         ],
         "yaxis": "y"
        },
        {
         "hovertemplate": "x=%{x}<br>y=%{y}<extra></extra>",
         "line": {
          "color": "#023e8a",
          "width": 3
         },
         "marker": {
          "color": "#023e8a",
          "size": 7
         },
         "mode": "lines+markers",
         "showlegend": false,
         "type": "scatter",
         "x": [
          18,
          19
         ],
         "xaxis": "x",
         "y": [
          2.4751375317573547,
          2.904731333255768
         ],
         "yaxis": "y"
        },
        {
         "hovertemplate": "x=%{x}<br>y=%{y}<extra></extra>",
         "line": {
          "color": "#023e8a",
          "width": 3
         },
         "marker": {
          "color": "#023e8a",
          "size": 7
         },
         "mode": "lines+markers",
         "showlegend": false,
         "type": "scatter",
         "x": [
          17,
          18
         ],
         "xaxis": "x",
         "y": [
          2.1950547099113464,
          2.4751375317573547
         ],
         "yaxis": "y"
        },
        {
         "hovertemplate": "x=%{x}<br>y=%{y}<extra></extra>",
         "line": {
          "color": "#023e8a",
          "width": 3
         },
         "marker": {
          "color": "#023e8a",
          "size": 7
         },
         "mode": "lines+markers",
         "showlegend": false,
         "type": "scatter",
         "x": [
          14,
          15
         ],
         "xaxis": "x",
         "y": [
          1.4853786826133728,
          1.8701753616333008
         ],
         "yaxis": "y"
        },
        {
         "hovertemplate": "x=%{x}<br>y=%{y}<extra></extra>",
         "line": {
          "color": "#023e8a",
          "width": 3
         },
         "marker": {
          "color": "#023e8a",
          "size": 7
         },
         "mode": "lines+markers",
         "showlegend": false,
         "type": "scatter",
         "x": [
          7,
          8
         ],
         "xaxis": "x",
         "y": [
          0.4705108404159546,
          0.7619868516921997
         ],
         "yaxis": "y"
        },
        {
         "hovertemplate": "x=%{x}<br>y=%{y}<extra></extra>",
         "line": {
          "color": "#023e8a",
          "width": 3
         },
         "marker": {
          "color": "#023e8a",
          "size": 7
         },
         "mode": "lines+markers",
         "showlegend": false,
         "type": "scatter",
         "x": [
          4,
          5
         ],
         "xaxis": "x",
         "y": [
          0.1790350079536438,
          0.5983546376228333
         ],
         "yaxis": "y"
        },
        {
         "hovertemplate": "x=%{x}<br>y=%{y}<extra></extra>",
         "line": {
          "color": "#023e8a",
          "width": 3
         },
         "marker": {
          "color": "#023e8a",
          "size": 7
         },
         "mode": "lines+markers",
         "showlegend": false,
         "type": "scatter",
         "x": [
          3,
          4
         ],
         "xaxis": "x",
         "y": [
          -0.04485058784484863,
          0.1790350079536438
         ],
         "yaxis": "y"
        },
        {
         "hovertemplate": "x=%{x}<br>y=%{y}<extra></extra>",
         "line": {
          "color": "#023e8a",
          "width": 3
         },
         "marker": {
          "color": "#023e8a",
          "size": 7
         },
         "mode": "lines+markers",
         "showlegend": false,
         "type": "scatter",
         "x": [
          0,
          1
         ],
         "xaxis": "x",
         "y": [
          0,
          0.26873666048049927
         ],
         "yaxis": "y"
        },
        {
         "hovertemplate": "x=%{x}<br>y=%{y}<extra></extra>",
         "line": {
          "color": "#c1121f",
          "width": 3
         },
         "marker": {
          "color": "#c1121f",
          "size": 7
         },
         "mode": "lines+markers",
         "showlegend": false,
         "type": "scatter",
         "x": [
          37,
          38
         ],
         "xaxis": "x",
         "y": [
          8.010912716388702,
          8.42013680934906
         ],
         "yaxis": "y"
        },
        {
         "hovertemplate": "x=%{x}<br>y=%{y}<extra></extra>",
         "line": {
          "color": "#c1121f",
          "width": 3
         },
         "marker": {
          "color": "#c1121f",
          "size": 7
         },
         "mode": "lines+markers",
         "showlegend": false,
         "type": "scatter",
         "x": [
          32,
          33
         ],
         "xaxis": "x",
         "y": [
          6.101530432701111,
          6.629636287689209
         ],
         "yaxis": "y"
        },
        {
         "hovertemplate": "x=%{x}<br>y=%{y}<extra></extra>",
         "line": {
          "color": "#c1121f",
          "width": 3
         },
         "marker": {
          "color": "#c1121f",
          "size": 7
         },
         "mode": "lines+markers",
         "showlegend": false,
         "type": "scatter",
         "x": [
          28,
          29
         ],
         "xaxis": "x",
         "y": [
          4.920133411884308,
          5.29821240901947
         ],
         "yaxis": "y"
        },
        {
         "hovertemplate": "x=%{x}<br>y=%{y}<extra></extra>",
         "line": {
          "color": "#c1121f",
          "width": 3
         },
         "marker": {
          "color": "#c1121f",
          "size": 7
         },
         "mode": "lines+markers",
         "showlegend": false,
         "type": "scatter",
         "x": [
          24,
          25
         ],
         "xaxis": "x",
         "y": [
          3.9409595727920532,
          4.272970020771027
         ],
         "yaxis": "y"
        },
        {
         "hovertemplate": "x=%{x}<br>y=%{y}<extra></extra>",
         "line": {
          "color": "#c1121f",
          "width": 3
         },
         "marker": {
          "color": "#c1121f",
          "size": 7
         },
         "mode": "lines+markers",
         "showlegend": false,
         "type": "scatter",
         "x": [
          20,
          21
         ],
         "xaxis": "x",
         "y": [
          2.904731333255768,
          3.2080482840538025
         ],
         "yaxis": "y"
        },
        {
         "hovertemplate": "x=%{x}<br>y=%{y}<extra></extra>",
         "line": {
          "color": "#c1121f",
          "width": 3
         },
         "marker": {
          "color": "#c1121f",
          "size": 7
         },
         "mode": "lines+markers",
         "showlegend": false,
         "type": "scatter",
         "x": [
          16,
          17
         ],
         "xaxis": "x",
         "y": [
          1.8701753616333008,
          2.1950547099113464
         ],
         "yaxis": "y"
        },
        {
         "hovertemplate": "x=%{x}<br>y=%{y}<extra></extra>",
         "line": {
          "color": "#c1121f",
          "width": 3
         },
         "marker": {
          "color": "#c1121f",
          "size": 7
         },
         "mode": "lines+markers",
         "showlegend": false,
         "type": "scatter",
         "x": [
          13,
          14
         ],
         "xaxis": "x",
         "y": [
          1.0524750351905823,
          1.4853786826133728
         ],
         "yaxis": "y"
        },
        {
         "hovertemplate": "x=%{x}<br>y=%{y}<extra></extra>",
         "line": {
          "color": "#c1121f",
          "width": 3
         },
         "marker": {
          "color": "#c1121f",
          "size": 7
         },
         "mode": "lines+markers",
         "showlegend": false,
         "type": "scatter",
         "x": [
          10,
          11
         ],
         "xaxis": "x",
         "y": [
          0.7619868516921997,
          1.0524750351905823
         ],
         "yaxis": "y"
        },
        {
         "hovertemplate": "x=%{x}<br>y=%{y}<extra></extra>",
         "line": {
          "color": "#c1121f",
          "width": 3
         },
         "marker": {
          "color": "#c1121f",
          "size": 7
         },
         "mode": "lines+markers",
         "showlegend": false,
         "type": "scatter",
         "x": [
          6,
          7
         ],
         "xaxis": "x",
         "y": [
          0.5983546376228333,
          0.4705108404159546
         ],
         "yaxis": "y"
        },
        {
         "hovertemplate": "x=%{x}<br>y=%{y}<extra></extra>",
         "line": {
          "color": "#c1121f",
          "width": 3
         },
         "marker": {
          "color": "#c1121f",
          "size": 7
         },
         "mode": "lines+markers",
         "showlegend": false,
         "type": "scatter",
         "x": [
          2,
          3
         ],
         "xaxis": "x",
         "y": [
          0,
          -0.04485058784484863
         ],
         "yaxis": "y"
        },
        {
         "hovertemplate": "x=%{x}<br>y=%{y}<extra></extra>",
         "line": {
          "color": "#9d4edd",
          "width": 3
         },
         "marker": {
          "color": "#9d4edd",
          "size": 7
         },
         "mode": "lines+markers",
         "showlegend": false,
         "type": "scatter",
         "x": [
          43,
          44
         ],
         "xaxis": "x",
         "y": [
          8.893055140972137,
          8.904905080795288
         ],
         "yaxis": "y"
        },
        {
         "hovertemplate": "x=%{x}<br>y=%{y}<extra></extra>",
         "line": {
          "color": "#9d4edd",
          "width": 3
         },
         "marker": {
          "color": "#9d4edd",
          "size": 7
         },
         "mode": "lines+markers",
         "showlegend": false,
         "type": "scatter",
         "x": [
          40,
          41
         ],
         "xaxis": "x",
         "y": [
          9.744268894195557,
          8.893055140972137
         ],
         "yaxis": "y"
        },
        {
         "line": {
          "color": "#64B5F6",
          "width": 2
         },
         "mode": "lines",
         "name": "human_insert_backstage",
         "showlegend": true,
         "type": "scatter",
         "x": [
          null
         ],
         "xaxis": "x",
         "y": [
          null
         ],
         "yaxis": "y"
        },
        {
         "line": {
          "color": "#ff8fab",
          "width": 2
         },
         "mode": "lines",
         "name": "ai_suggest_backstage",
         "showlegend": true,
         "type": "scatter",
         "x": [
          null
         ],
         "xaxis": "x",
         "y": [
          null
         ],
         "yaxis": "y"
        },
        {
         "line": {
          "color": "#023e8a",
          "width": 2
         },
         "mode": "lines",
         "name": "human_insert_frontstage",
         "showlegend": true,
         "type": "scatter",
         "x": [
          null
         ],
         "xaxis": "x",
         "y": [
          null
         ],
         "yaxis": "y"
        },
        {
         "line": {
          "color": "#c1121f",
          "width": 2
         },
         "mode": "lines",
         "name": "ai_insert_moved_to_frontstage",
         "showlegend": true,
         "type": "scatter",
         "x": [
          null
         ],
         "xaxis": "x",
         "y": [
          null
         ],
         "yaxis": "y"
        },
        {
         "line": {
          "color": "#9d4edd",
          "width": 2
         },
         "mode": "lines",
         "name": "human_delete_frontstage",
         "showlegend": true,
         "type": "scatter",
         "x": [
          null
         ],
         "xaxis": "x",
         "y": [
          null
         ],
         "yaxis": "y"
        },
        {
         "line": {
          "color": "#5a189a",
          "width": 2
         },
         "mode": "lines",
         "name": "human_insert_edit_frontstage",
         "showlegend": true,
         "type": "scatter",
         "x": [
          null
         ],
         "xaxis": "x",
         "y": [
          null
         ],
         "yaxis": "y"
        }
       ],
       "layout": {
        "annotations": [
         {
          "font": {
           "size": 16
          },
          "showarrow": false,
          "text": "Session: legislation_antitrust_6",
          "x": 0.5,
          "xanchor": "center",
          "xref": "paper",
          "y": 1,
          "yanchor": "bottom",
          "yref": "paper"
         }
        ],
        "height": 500,
        "legend": {
         "title": {
          "font": {
           "color": "rgba(0, 0, 0, 0)"
          }
         }
        },
        "plot_bgcolor": "white",
        "showlegend": true,
        "template": {
         "data": {
          "bar": [
           {
            "error_x": {
             "color": "#2a3f5f"
            },
            "error_y": {
             "color": "#2a3f5f"
            },
            "marker": {
             "line": {
              "color": "#E5ECF6",
              "width": 0.5
             },
             "pattern": {
              "fillmode": "overlay",
              "size": 10,
              "solidity": 0.2
             }
            },
            "type": "bar"
           }
          ],
          "barpolar": [
           {
            "marker": {
             "line": {
              "color": "#E5ECF6",
              "width": 0.5
             },
             "pattern": {
              "fillmode": "overlay",
              "size": 10,
              "solidity": 0.2
             }
            },
            "type": "barpolar"
           }
          ],
          "carpet": [
           {
            "aaxis": {
             "endlinecolor": "#2a3f5f",
             "gridcolor": "white",
             "linecolor": "white",
             "minorgridcolor": "white",
             "startlinecolor": "#2a3f5f"
            },
            "baxis": {
             "endlinecolor": "#2a3f5f",
             "gridcolor": "white",
             "linecolor": "white",
             "minorgridcolor": "white",
             "startlinecolor": "#2a3f5f"
            },
            "type": "carpet"
           }
          ],
          "choropleth": [
           {
            "colorbar": {
             "outlinewidth": 0,
             "ticks": ""
            },
            "type": "choropleth"
           }
          ],
          "contour": [
           {
            "colorbar": {
             "outlinewidth": 0,
             "ticks": ""
            },
            "colorscale": [
             [
              0,
              "#0d0887"
             ],
             [
              0.1111111111111111,
              "#46039f"
             ],
             [
              0.2222222222222222,
              "#7201a8"
             ],
             [
              0.3333333333333333,
              "#9c179e"
             ],
             [
              0.4444444444444444,
              "#bd3786"
             ],
             [
              0.5555555555555556,
              "#d8576b"
             ],
             [
              0.6666666666666666,
              "#ed7953"
             ],
             [
              0.7777777777777778,
              "#fb9f3a"
             ],
             [
              0.8888888888888888,
              "#fdca26"
             ],
             [
              1,
              "#f0f921"
             ]
            ],
            "type": "contour"
           }
          ],
          "contourcarpet": [
           {
            "colorbar": {
             "outlinewidth": 0,
             "ticks": ""
            },
            "type": "contourcarpet"
           }
          ],
          "heatmap": [
           {
            "colorbar": {
             "outlinewidth": 0,
             "ticks": ""
            },
            "colorscale": [
             [
              0,
              "#0d0887"
             ],
             [
              0.1111111111111111,
              "#46039f"
             ],
             [
              0.2222222222222222,
              "#7201a8"
             ],
             [
              0.3333333333333333,
              "#9c179e"
             ],
             [
              0.4444444444444444,
              "#bd3786"
             ],
             [
              0.5555555555555556,
              "#d8576b"
             ],
             [
              0.6666666666666666,
              "#ed7953"
             ],
             [
              0.7777777777777778,
              "#fb9f3a"
             ],
             [
              0.8888888888888888,
              "#fdca26"
             ],
             [
              1,
              "#f0f921"
             ]
            ],
            "type": "heatmap"
           }
          ],
          "histogram": [
           {
            "marker": {
             "pattern": {
              "fillmode": "overlay",
              "size": 10,
              "solidity": 0.2
             }
            },
            "type": "histogram"
           }
          ],
          "histogram2d": [
           {
            "colorbar": {
             "outlinewidth": 0,
             "ticks": ""
            },
            "colorscale": [
             [
              0,
              "#0d0887"
             ],
             [
              0.1111111111111111,
              "#46039f"
             ],
             [
              0.2222222222222222,
              "#7201a8"
             ],
             [
              0.3333333333333333,
              "#9c179e"
             ],
             [
              0.4444444444444444,
              "#bd3786"
             ],
             [
              0.5555555555555556,
              "#d8576b"
             ],
             [
              0.6666666666666666,
              "#ed7953"
             ],
             [
              0.7777777777777778,
              "#fb9f3a"
             ],
             [
              0.8888888888888888,
              "#fdca26"
             ],
             [
              1,
              "#f0f921"
             ]
            ],
            "type": "histogram2d"
           }
          ],
          "histogram2dcontour": [
           {
            "colorbar": {
             "outlinewidth": 0,
             "ticks": ""
            },
            "colorscale": [
             [
              0,
              "#0d0887"
             ],
             [
              0.1111111111111111,
              "#46039f"
             ],
             [
              0.2222222222222222,
              "#7201a8"
             ],
             [
              0.3333333333333333,
              "#9c179e"
             ],
             [
              0.4444444444444444,
              "#bd3786"
             ],
             [
              0.5555555555555556,
              "#d8576b"
             ],
             [
              0.6666666666666666,
              "#ed7953"
             ],
             [
              0.7777777777777778,
              "#fb9f3a"
             ],
             [
              0.8888888888888888,
              "#fdca26"
             ],
             [
              1,
              "#f0f921"
             ]
            ],
            "type": "histogram2dcontour"
           }
          ],
          "mesh3d": [
           {
            "colorbar": {
             "outlinewidth": 0,
             "ticks": ""
            },
            "type": "mesh3d"
           }
          ],
          "parcoords": [
           {
            "line": {
             "colorbar": {
              "outlinewidth": 0,
              "ticks": ""
             }
            },
            "type": "parcoords"
           }
          ],
          "pie": [
           {
            "automargin": true,
            "type": "pie"
           }
          ],
          "scatter": [
           {
            "fillpattern": {
             "fillmode": "overlay",
             "size": 10,
             "solidity": 0.2
            },
            "type": "scatter"
           }
          ],
          "scatter3d": [
           {
            "line": {
             "colorbar": {
              "outlinewidth": 0,
              "ticks": ""
             }
            },
            "marker": {
             "colorbar": {
              "outlinewidth": 0,
              "ticks": ""
             }
            },
            "type": "scatter3d"
           }
          ],
          "scattercarpet": [
           {
            "marker": {
             "colorbar": {
              "outlinewidth": 0,
              "ticks": ""
             }
            },
            "type": "scattercarpet"
           }
          ],
          "scattergeo": [
           {
            "marker": {
             "colorbar": {
              "outlinewidth": 0,
              "ticks": ""
             }
            },
            "type": "scattergeo"
           }
          ],
          "scattergl": [
           {
            "marker": {
             "colorbar": {
              "outlinewidth": 0,
              "ticks": ""
             }
            },
            "type": "scattergl"
           }
          ],
          "scattermap": [
           {
            "marker": {
             "colorbar": {
              "outlinewidth": 0,
              "ticks": ""
             }
            },
            "type": "scattermap"
           }
          ],
          "scattermapbox": [
           {
            "marker": {
             "colorbar": {
              "outlinewidth": 0,
              "ticks": ""
             }
            },
            "type": "scattermapbox"
           }
          ],
          "scatterpolar": [
           {
            "marker": {
             "colorbar": {
              "outlinewidth": 0,
              "ticks": ""
             }
            },
            "type": "scatterpolar"
           }
          ],
          "scatterpolargl": [
           {
            "marker": {
             "colorbar": {
              "outlinewidth": 0,
              "ticks": ""
             }
            },
            "type": "scatterpolargl"
           }
          ],
          "scatterternary": [
           {
            "marker": {
             "colorbar": {
              "outlinewidth": 0,
              "ticks": ""
             }
            },
            "type": "scatterternary"
           }
          ],
          "surface": [
           {
            "colorbar": {
             "outlinewidth": 0,
             "ticks": ""
            },
            "colorscale": [
             [
              0,
              "#0d0887"
             ],
             [
              0.1111111111111111,
              "#46039f"
             ],
             [
              0.2222222222222222,
              "#7201a8"
             ],
             [
              0.3333333333333333,
              "#9c179e"
             ],
             [
              0.4444444444444444,
              "#bd3786"
             ],
             [
              0.5555555555555556,
              "#d8576b"
             ],
             [
              0.6666666666666666,
              "#ed7953"
             ],
             [
              0.7777777777777778,
              "#fb9f3a"
             ],
             [
              0.8888888888888888,
              "#fdca26"
             ],
             [
              1,
              "#f0f921"
             ]
            ],
            "type": "surface"
           }
          ],
          "table": [
           {
            "cells": {
             "fill": {
              "color": "#EBF0F8"
             },
             "line": {
              "color": "white"
             }
            },
            "header": {
             "fill": {
              "color": "#C8D4E3"
             },
             "line": {
              "color": "white"
             }
            },
            "type": "table"
           }
          ]
         },
         "layout": {
          "annotationdefaults": {
           "arrowcolor": "#2a3f5f",
           "arrowhead": 0,
           "arrowwidth": 1
          },
          "autotypenumbers": "strict",
          "coloraxis": {
           "colorbar": {
            "outlinewidth": 0,
            "ticks": ""
           }
          },
          "colorscale": {
           "diverging": [
            [
             0,
             "#8e0152"
            ],
            [
             0.1,
             "#c51b7d"
            ],
            [
             0.2,
             "#de77ae"
            ],
            [
             0.3,
             "#f1b6da"
            ],
            [
             0.4,
             "#fde0ef"
            ],
            [
             0.5,
             "#f7f7f7"
            ],
            [
             0.6,
             "#e6f5d0"
            ],
            [
             0.7,
             "#b8e186"
            ],
            [
             0.8,
             "#7fbc41"
            ],
            [
             0.9,
             "#4d9221"
            ],
            [
             1,
             "#276419"
            ]
           ],
           "sequential": [
            [
             0,
             "#0d0887"
            ],
            [
             0.1111111111111111,
             "#46039f"
            ],
            [
             0.2222222222222222,
             "#7201a8"
            ],
            [
             0.3333333333333333,
             "#9c179e"
            ],
            [
             0.4444444444444444,
             "#bd3786"
            ],
            [
             0.5555555555555556,
             "#d8576b"
            ],
            [
             0.6666666666666666,
             "#ed7953"
            ],
            [
             0.7777777777777778,
             "#fb9f3a"
            ],
            [
             0.8888888888888888,
             "#fdca26"
            ],
            [
             1,
             "#f0f921"
            ]
           ],
           "sequentialminus": [
            [
             0,
             "#0d0887"
            ],
            [
             0.1111111111111111,
             "#46039f"
            ],
            [
             0.2222222222222222,
             "#7201a8"
            ],
            [
             0.3333333333333333,
             "#9c179e"
            ],
            [
             0.4444444444444444,
             "#bd3786"
            ],
            [
             0.5555555555555556,
             "#d8576b"
            ],
            [
             0.6666666666666666,
             "#ed7953"
            ],
            [
             0.7777777777777778,
             "#fb9f3a"
            ],
            [
             0.8888888888888888,
             "#fdca26"
            ],
            [
             1,
             "#f0f921"
            ]
           ]
          },
          "colorway": [
           "#636efa",
           "#EF553B",
           "#00cc96",
           "#ab63fa",
           "#FFA15A",
           "#19d3f3",
           "#FF6692",
           "#B6E880",
           "#FF97FF",
           "#FECB52"
          ],
          "font": {
           "color": "#2a3f5f"
          },
          "geo": {
           "bgcolor": "white",
           "lakecolor": "white",
           "landcolor": "#E5ECF6",
           "showlakes": true,
           "showland": true,
           "subunitcolor": "white"
          },
          "hoverlabel": {
           "align": "left"
          },
          "hovermode": "closest",
          "mapbox": {
           "style": "light"
          },
          "paper_bgcolor": "white",
          "plot_bgcolor": "#E5ECF6",
          "polar": {
           "angularaxis": {
            "gridcolor": "white",
            "linecolor": "white",
            "ticks": ""
           },
           "bgcolor": "#E5ECF6",
           "radialaxis": {
            "gridcolor": "white",
            "linecolor": "white",
            "ticks": ""
           }
          },
          "scene": {
           "xaxis": {
            "backgroundcolor": "#E5ECF6",
            "gridcolor": "white",
            "gridwidth": 2,
            "linecolor": "white",
            "showbackground": true,
            "ticks": "",
            "zerolinecolor": "white"
           },
           "yaxis": {
            "backgroundcolor": "#E5ECF6",
            "gridcolor": "white",
            "gridwidth": 2,
            "linecolor": "white",
            "showbackground": true,
            "ticks": "",
            "zerolinecolor": "white"
           },
           "zaxis": {
            "backgroundcolor": "#E5ECF6",
            "gridcolor": "white",
            "gridwidth": 2,
            "linecolor": "white",
            "showbackground": true,
            "ticks": "",
            "zerolinecolor": "white"
           }
          },
          "shapedefaults": {
           "line": {
            "color": "#2a3f5f"
           }
          },
          "ternary": {
           "aaxis": {
            "gridcolor": "white",
            "linecolor": "white",
            "ticks": ""
           },
           "baxis": {
            "gridcolor": "white",
            "linecolor": "white",
            "ticks": ""
           },
           "bgcolor": "#E5ECF6",
           "caxis": {
            "gridcolor": "white",
            "linecolor": "white",
            "ticks": ""
           }
          },
          "title": {
           "x": 0.05
          },
          "xaxis": {
           "automargin": true,
           "gridcolor": "white",
           "linecolor": "white",
           "ticks": "",
           "title": {
            "standoff": 15
           },
           "zerolinecolor": "white",
           "zerolinewidth": 2
          },
          "yaxis": {
           "automargin": true,
           "gridcolor": "white",
           "linecolor": "white",
           "ticks": "",
           "title": {
            "standoff": 15
           },
           "zerolinecolor": "white",
           "zerolinewidth": 2
          }
         }
        },
        "title": {
         "text": "Semantic Expansion over Writing Sessions<br><span style=\"font-size: 12px;\">*Measuring how well humans are learning while writing with GenAI</span>"
        },
        "width": 1800,
        "xaxis": {
         "anchor": "y",
         "domain": [
          0,
          1
         ],
         "gridcolor": "white",
         "linecolor": "black",
         "mirror": false,
         "range": [
          -1,
          56
         ],
         "showline": true,
         "ticks": "outside",
         "title": {
          "text": "Progress into the writing session"
         }
        },
        "yaxis": {
         "anchor": "x",
         "domain": [
          0,
          1
         ],
         "gridcolor": "white",
         "linecolor": "black",
         "mirror": false,
         "showline": true,
         "ticks": "outside",
         "title": {
          "text": "Scores"
         }
        }
       }
      }
     },
     "metadata": {},
     "output_type": "display_data"
    },
    {
     "name": "stdout",
     "output_type": "stream",
     "text": [
      "legislation_antitrust_7\n"
     ]
    },
    {
     "data": {
      "application/vnd.plotly.v1+json": {
       "config": {
        "plotlyServerURL": "https://plot.ly"
       },
       "data": [
        {
         "hovertemplate": "x=%{x}<br>y=%{y}<extra></extra>",
         "line": {
          "color": "#64B5F6",
          "width": 3
         },
         "marker": {
          "color": "#64B5F6",
          "size": 7
         },
         "mode": "lines+markers",
         "showlegend": false,
         "type": "scatter",
         "x": [
          75,
          76
         ],
         "xaxis": "x",
         "y": [
          7.852659690380097,
          8.17961083650589
         ],
         "yaxis": "y"
        },
        {
         "hovertemplate": "x=%{x}<br>y=%{y}<extra></extra>",
         "line": {
          "color": "#64B5F6",
          "width": 3
         },
         "marker": {
          "color": "#64B5F6",
          "size": 7
         },
         "mode": "lines+markers",
         "showlegend": false,
         "type": "scatter",
         "x": [
          73,
          74
         ],
         "xaxis": "x",
         "y": [
          6.804611146450043,
          7.131562292575836
         ],
         "yaxis": "y"
        },
        {
         "hovertemplate": "x=%{x}<br>y=%{y}<extra></extra>",
         "line": {
          "color": "#64B5F6",
          "width": 3
         },
         "marker": {
          "color": "#64B5F6",
          "size": 7
         },
         "mode": "lines+markers",
         "showlegend": false,
         "type": "scatter",
         "x": [
          69,
          70
         ],
         "xaxis": "x",
         "y": [
          6.219011068344116,
          6.627557456493378
         ],
         "yaxis": "y"
        },
        {
         "hovertemplate": "x=%{x}<br>y=%{y}<extra></extra>",
         "line": {
          "color": "#64B5F6",
          "width": 3
         },
         "marker": {
          "color": "#64B5F6",
          "size": 7
         },
         "mode": "lines+markers",
         "showlegend": false,
         "type": "scatter",
         "x": [
          61,
          62
         ],
         "xaxis": "x",
         "y": [
          3.812109684944153,
          4.603440916538238
         ],
         "yaxis": "y"
        },
        {
         "hovertemplate": "x=%{x}<br>y=%{y}<extra></extra>",
         "line": {
          "color": "#64B5F6",
          "width": 3
         },
         "marker": {
          "color": "#64B5F6",
          "size": 7
         },
         "mode": "lines+markers",
         "showlegend": false,
         "type": "scatter",
         "x": [
          59,
          60
         ],
         "xaxis": "x",
         "y": [
          2.702624261379242,
          3.47975891828537
         ],
         "yaxis": "y"
        },
        {
         "hovertemplate": "x=%{x}<br>y=%{y}<extra></extra>",
         "line": {
          "color": "#64B5F6",
          "width": 3
         },
         "marker": {
          "color": "#64B5F6",
          "size": 7
         },
         "mode": "lines+markers",
         "showlegend": false,
         "type": "scatter",
         "x": [
          53,
          54
         ],
         "xaxis": "x",
         "y": [
          1.4694432020187378,
          2.0884779691696167
         ],
         "yaxis": "y"
        },
        {
         "hovertemplate": "x=%{x}<br>y=%{y}<extra></extra>",
         "line": {
          "color": "#64B5F6",
          "width": 3
         },
         "marker": {
          "color": "#64B5F6",
          "size": 7
         },
         "mode": "lines+markers",
         "showlegend": false,
         "type": "scatter",
         "x": [
          50,
          51
         ],
         "xaxis": "x",
         "y": [
          1.1253145933151245,
          1.7305721044540405
         ],
         "yaxis": "y"
        },
        {
         "hovertemplate": "x=%{x}<br>y=%{y}<extra></extra>",
         "line": {
          "color": "#64B5F6",
          "width": 3
         },
         "marker": {
          "color": "#64B5F6",
          "size": 7
         },
         "mode": "lines+markers",
         "showlegend": false,
         "type": "scatter",
         "x": [
          47,
          48
         ],
         "xaxis": "x",
         "y": [
          0.5434914231300354,
          1.1729240417480469
         ],
         "yaxis": "y"
        },
        {
         "hovertemplate": "x=%{x}<br>y=%{y}<extra></extra>",
         "line": {
          "color": "#64B5F6",
          "width": 3
         },
         "marker": {
          "color": "#64B5F6",
          "size": 7
         },
         "mode": "lines+markers",
         "showlegend": false,
         "type": "scatter",
         "x": [
          42,
          43
         ],
         "xaxis": "x",
         "y": [
          21.74239764213562,
          22.492040610313417
         ],
         "yaxis": "y"
        },
        {
         "hovertemplate": "x=%{x}<br>y=%{y}<extra></extra>",
         "line": {
          "color": "#64B5F6",
          "width": 3
         },
         "marker": {
          "color": "#64B5F6",
          "size": 7
         },
         "mode": "lines+markers",
         "showlegend": false,
         "type": "scatter",
         "x": [
          40,
          41
         ],
         "xaxis": "x",
         "y": [
          21.178121197223664,
          21.426482903957368
         ],
         "yaxis": "y"
        },
        {
         "hovertemplate": "x=%{x}<br>y=%{y}<extra></extra>",
         "line": {
          "color": "#64B5F6",
          "width": 3
         },
         "marker": {
          "color": "#64B5F6",
          "size": 7
         },
         "mode": "lines+markers",
         "showlegend": false,
         "type": "scatter",
         "x": [
          38,
          39
         ],
         "xaxis": "x",
         "y": [
          19.667910933494568,
          20.43639862537384
         ],
         "yaxis": "y"
        },
        {
         "hovertemplate": "x=%{x}<br>y=%{y}<extra></extra>",
         "line": {
          "color": "#64B5F6",
          "width": 3
         },
         "marker": {
          "color": "#64B5F6",
          "size": 7
         },
         "mode": "lines+markers",
         "showlegend": false,
         "type": "scatter",
         "x": [
          36,
          37
         ],
         "xaxis": "x",
         "y": [
          18.3896235704422,
          18.9808899641037
         ],
         "yaxis": "y"
        },
        {
         "hovertemplate": "x=%{x}<br>y=%{y}<extra></extra>",
         "line": {
          "color": "#64B5F6",
          "width": 3
         },
         "marker": {
          "color": "#64B5F6",
          "size": 7
         },
         "mode": "lines+markers",
         "showlegend": false,
         "type": "scatter",
         "x": [
          34,
          35
         ],
         "xaxis": "x",
         "y": [
          17.580932688713073,
          17.97349144220352
         ],
         "yaxis": "y"
        },
        {
         "hovertemplate": "x=%{x}<br>y=%{y}<extra></extra>",
         "line": {
          "color": "#64B5F6",
          "width": 3
         },
         "marker": {
          "color": "#64B5F6",
          "size": 7
         },
         "mode": "lines+markers",
         "showlegend": false,
         "type": "scatter",
         "x": [
          32,
          33
         ],
         "xaxis": "x",
         "y": [
          16.315967524051665,
          17.067958438396452
         ],
         "yaxis": "y"
        },
        {
         "hovertemplate": "x=%{x}<br>y=%{y}<extra></extra>",
         "line": {
          "color": "#64B5F6",
          "width": 3
         },
         "marker": {
          "color": "#64B5F6",
          "size": 7
         },
         "mode": "lines+markers",
         "showlegend": false,
         "type": "scatter",
         "x": [
          30,
          31
         ],
         "xaxis": "x",
         "y": [
          15.19220873117447,
          15.725473606586457
         ],
         "yaxis": "y"
        },
        {
         "hovertemplate": "x=%{x}<br>y=%{y}<extra></extra>",
         "line": {
          "color": "#64B5F6",
          "width": 3
         },
         "marker": {
          "color": "#64B5F6",
          "size": 7
         },
         "mode": "lines+markers",
         "showlegend": false,
         "type": "scatter",
         "x": [
          28,
          29
         ],
         "xaxis": "x",
         "y": [
          14.32631424665451,
          14.734489834308624
         ],
         "yaxis": "y"
        },
        {
         "hovertemplate": "x=%{x}<br>y=%{y}<extra></extra>",
         "line": {
          "color": "#64B5F6",
          "width": 3
         },
         "marker": {
          "color": "#64B5F6",
          "size": 7
         },
         "mode": "lines+markers",
         "showlegend": false,
         "type": "scatter",
         "x": [
          26,
          27
         ],
         "xaxis": "x",
         "y": [
          13.610627889633179,
          13.93939471244812
         ],
         "yaxis": "y"
        },
        {
         "hovertemplate": "x=%{x}<br>y=%{y}<extra></extra>",
         "line": {
          "color": "#64B5F6",
          "width": 3
         },
         "marker": {
          "color": "#64B5F6",
          "size": 7
         },
         "mode": "lines+markers",
         "showlegend": false,
         "type": "scatter",
         "x": [
          24,
          25
         ],
         "xaxis": "x",
         "y": [
          13.715123653411865,
          13.028120398521423
         ],
         "yaxis": "y"
        },
        {
         "hovertemplate": "x=%{x}<br>y=%{y}<extra></extra>",
         "line": {
          "color": "#64B5F6",
          "width": 3
         },
         "marker": {
          "color": "#64B5F6",
          "size": 7
         },
         "mode": "lines+markers",
         "showlegend": false,
         "type": "scatter",
         "x": [
          22,
          23
         ],
         "xaxis": "x",
         "y": [
          11.308830559253693,
          11.800576388835907
         ],
         "yaxis": "y"
        },
        {
         "hovertemplate": "x=%{x}<br>y=%{y}<extra></extra>",
         "line": {
          "color": "#64B5F6",
          "width": 3
         },
         "marker": {
          "color": "#64B5F6",
          "size": 7
         },
         "mode": "lines+markers",
         "showlegend": false,
         "type": "scatter",
         "x": [
          20,
          21
         ],
         "xaxis": "x",
         "y": [
          10.309918797016143,
          10.785587406158447
         ],
         "yaxis": "y"
        },
        {
         "hovertemplate": "x=%{x}<br>y=%{y}<extra></extra>",
         "line": {
          "color": "#64B5F6",
          "width": 3
         },
         "marker": {
          "color": "#64B5F6",
          "size": 7
         },
         "mode": "lines+markers",
         "showlegend": false,
         "type": "scatter",
         "x": [
          18,
          19
         ],
         "xaxis": "x",
         "y": [
          9.274268865585327,
          9.768282771110535
         ],
         "yaxis": "y"
        },
        {
         "hovertemplate": "x=%{x}<br>y=%{y}<extra></extra>",
         "line": {
          "color": "#64B5F6",
          "width": 3
         },
         "marker": {
          "color": "#64B5F6",
          "size": 7
         },
         "mode": "lines+markers",
         "showlegend": false,
         "type": "scatter",
         "x": [
          16,
          17
         ],
         "xaxis": "x",
         "y": [
          8.05041743516922,
          8.62177778482437
         ],
         "yaxis": "y"
        },
        {
         "hovertemplate": "x=%{x}<br>y=%{y}<extra></extra>",
         "line": {
          "color": "#64B5F6",
          "width": 3
         },
         "marker": {
          "color": "#64B5F6",
          "size": 7
         },
         "mode": "lines+markers",
         "showlegend": false,
         "type": "scatter",
         "x": [
          14,
          15
         ],
         "xaxis": "x",
         "y": [
          6.923988032341003,
          7.429837393760681
         ],
         "yaxis": "y"
        },
        {
         "hovertemplate": "x=%{x}<br>y=%{y}<extra></extra>",
         "line": {
          "color": "#64B5F6",
          "width": 3
         },
         "marker": {
          "color": "#64B5F6",
          "size": 7
         },
         "mode": "lines+markers",
         "showlegend": false,
         "type": "scatter",
         "x": [
          12,
          13
         ],
         "xaxis": "x",
         "y": [
          5.740797853469848,
          6.3141734957695
         ],
         "yaxis": "y"
        },
        {
         "hovertemplate": "x=%{x}<br>y=%{y}<extra></extra>",
         "line": {
          "color": "#64B5F6",
          "width": 3
         },
         "marker": {
          "color": "#64B5F6",
          "size": 7
         },
         "mode": "lines+markers",
         "showlegend": false,
         "type": "scatter",
         "x": [
          10,
          11
         ],
         "xaxis": "x",
         "y": [
          5.18352825641632,
          5.158621263504028
         ],
         "yaxis": "y"
        },
        {
         "hovertemplate": "x=%{x}<br>y=%{y}<extra></extra>",
         "line": {
          "color": "#64B5F6",
          "width": 3
         },
         "marker": {
          "color": "#64B5F6",
          "size": 7
         },
         "mode": "lines+markers",
         "showlegend": false,
         "type": "scatter",
         "x": [
          8,
          9
         ],
         "xaxis": "x",
         "y": [
          3.9112426280975336,
          4.160428667068481
         ],
         "yaxis": "y"
        },
        {
         "hovertemplate": "x=%{x}<br>y=%{y}<extra></extra>",
         "line": {
          "color": "#64B5F6",
          "width": 3
         },
         "marker": {
          "color": "#64B5F6",
          "size": 7
         },
         "mode": "lines+markers",
         "showlegend": false,
         "type": "scatter",
         "x": [
          6,
          7
         ],
         "xaxis": "x",
         "y": [
          2.8484438419342037,
          3.3772824168205258
         ],
         "yaxis": "y"
        },
        {
         "hovertemplate": "x=%{x}<br>y=%{y}<extra></extra>",
         "line": {
          "color": "#64B5F6",
          "width": 3
         },
         "marker": {
          "color": "#64B5F6",
          "size": 7
         },
         "mode": "lines+markers",
         "showlegend": false,
         "type": "scatter",
         "x": [
          4,
          5
         ],
         "xaxis": "x",
         "y": [
          1.6337190508842467,
          2.2308888673782348
         ],
         "yaxis": "y"
        },
        {
         "hovertemplate": "x=%{x}<br>y=%{y}<extra></extra>",
         "line": {
          "color": "#64B5F6",
          "width": 3
         },
         "marker": {
          "color": "#64B5F6",
          "size": 7
         },
         "mode": "lines+markers",
         "showlegend": false,
         "type": "scatter",
         "x": [
          2,
          3
         ],
         "xaxis": "x",
         "y": [
          0.6777033686637879,
          1.1238916993141175
         ],
         "yaxis": "y"
        },
        {
         "hovertemplate": "x=%{x}<br>y=%{y}<extra></extra>",
         "line": {
          "color": "#64B5F6",
          "width": 3
         },
         "marker": {
          "color": "#64B5F6",
          "size": 7
         },
         "mode": "lines+markers",
         "showlegend": false,
         "type": "scatter",
         "x": [
          0,
          1
         ],
         "xaxis": "x",
         "y": [
          0,
          0.3089492917060852
         ],
         "yaxis": "y"
        },
        {
         "hovertemplate": "x=%{x}<br>y=%{y}<extra></extra>",
         "line": {
          "color": "#ff8fab",
          "width": 3
         },
         "marker": {
          "color": "#ff8fab",
          "size": 7
         },
         "mode": "lines+markers",
         "showlegend": false,
         "type": "scatter",
         "x": [
          74,
          75
         ],
         "xaxis": "x",
         "y": [
          7.131562292575836,
          7.852659690380097
         ],
         "yaxis": "y"
        },
        {
         "hovertemplate": "x=%{x}<br>y=%{y}<extra></extra>",
         "line": {
          "color": "#ff8fab",
          "width": 3
         },
         "marker": {
          "color": "#ff8fab",
          "size": 7
         },
         "mode": "lines+markers",
         "showlegend": false,
         "type": "scatter",
         "x": [
          71,
          72
         ],
         "xaxis": "x",
         "y": [
          7.313694596290588,
          8.049412214756012
         ],
         "yaxis": "y"
        },
        {
         "hovertemplate": "x=%{x}<br>y=%{y}<extra></extra>",
         "line": {
          "color": "#ff8fab",
          "width": 3
         },
         "marker": {
          "color": "#ff8fab",
          "size": 7
         },
         "mode": "lines+markers",
         "showlegend": false,
         "type": "scatter",
         "x": [
          70,
          71
         ],
         "xaxis": "x",
         "y": [
          6.627557456493378,
          7.313694596290588
         ],
         "yaxis": "y"
        },
        {
         "hovertemplate": "x=%{x}<br>y=%{y}<extra></extra>",
         "line": {
          "color": "#ff8fab",
          "width": 3
         },
         "marker": {
          "color": "#ff8fab",
          "size": 7
         },
         "mode": "lines+markers",
         "showlegend": false,
         "type": "scatter",
         "x": [
          63,
          64
         ],
         "xaxis": "x",
         "y": [
          5.398489999771119,
          6.193842732906342
         ],
         "yaxis": "y"
        },
        {
         "hovertemplate": "x=%{x}<br>y=%{y}<extra></extra>",
         "line": {
          "color": "#ff8fab",
          "width": 3
         },
         "marker": {
          "color": "#ff8fab",
          "size": 7
         },
         "mode": "lines+markers",
         "showlegend": false,
         "type": "scatter",
         "x": [
          62,
          63
         ],
         "xaxis": "x",
         "y": [
          4.603440916538238,
          5.398489999771118
         ],
         "yaxis": "y"
        },
        {
         "hovertemplate": "x=%{x}<br>y=%{y}<extra></extra>",
         "line": {
          "color": "#ff8fab",
          "width": 3
         },
         "marker": {
          "color": "#ff8fab",
          "size": 7
         },
         "mode": "lines+markers",
         "showlegend": false,
         "type": "scatter",
         "x": [
          60,
          61
         ],
         "xaxis": "x",
         "y": [
          3.47975891828537,
          3.812109684944153
         ],
         "yaxis": "y"
        },
        {
         "hovertemplate": "x=%{x}<br>y=%{y}<extra></extra>",
         "line": {
          "color": "#ff8fab",
          "width": 3
         },
         "marker": {
          "color": "#ff8fab",
          "size": 7
         },
         "mode": "lines+markers",
         "showlegend": false,
         "type": "scatter",
         "x": [
          55,
          56
         ],
         "xaxis": "x",
         "y": [
          1.7990753650665283,
          2.300600528717041
         ],
         "yaxis": "y"
        },
        {
         "hovertemplate": "x=%{x}<br>y=%{y}<extra></extra>",
         "line": {
          "color": "#ff8fab",
          "width": 3
         },
         "marker": {
          "color": "#ff8fab",
          "size": 7
         },
         "mode": "lines+markers",
         "showlegend": false,
         "type": "scatter",
         "x": [
          51,
          52
         ],
         "xaxis": "x",
         "y": [
          1.7305721044540405,
          2.388845908641815
         ],
         "yaxis": "y"
        },
        {
         "hovertemplate": "x=%{x}<br>y=%{y}<extra></extra>",
         "line": {
          "color": "#ff8fab",
          "width": 3
         },
         "marker": {
          "color": "#ff8fab",
          "size": 7
         },
         "mode": "lines+markers",
         "showlegend": false,
         "type": "scatter",
         "x": [
          48,
          49
         ],
         "xaxis": "x",
         "y": [
          1.1729240417480469,
          1.7257325887680053
         ],
         "yaxis": "y"
        },
        {
         "hovertemplate": "x=%{x}<br>y=%{y}<extra></extra>",
         "line": {
          "color": "#ff8fab",
          "width": 3
         },
         "marker": {
          "color": "#ff8fab",
          "size": 7
         },
         "mode": "lines+markers",
         "showlegend": false,
         "type": "scatter",
         "x": [
          45,
          46
         ],
         "xaxis": "x",
         "y": [
          0.6951720714569092,
          1.2569772124290466
         ],
         "yaxis": "y"
        },
        {
         "hovertemplate": "x=%{x}<br>y=%{y}<extra></extra>",
         "line": {
          "color": "#ff8fab",
          "width": 3
         },
         "marker": {
          "color": "#ff8fab",
          "size": 7
         },
         "mode": "lines+markers",
         "showlegend": false,
         "type": "scatter",
         "x": [
          43,
          44
         ],
         "xaxis": "x",
         "y": [
          22.492040610313417,
          23.15920778512955
         ],
         "yaxis": "y"
        },
        {
         "hovertemplate": "x=%{x}<br>y=%{y}<extra></extra>",
         "line": {
          "color": "#ff8fab",
          "width": 3
         },
         "marker": {
          "color": "#ff8fab",
          "size": 7
         },
         "mode": "lines+markers",
         "showlegend": false,
         "type": "scatter",
         "x": [
          41,
          42
         ],
         "xaxis": "x",
         "y": [
          21.426482903957368,
          21.74239764213562
         ],
         "yaxis": "y"
        },
        {
         "hovertemplate": "x=%{x}<br>y=%{y}<extra></extra>",
         "line": {
          "color": "#ff8fab",
          "width": 3
         },
         "marker": {
          "color": "#ff8fab",
          "size": 7
         },
         "mode": "lines+markers",
         "showlegend": false,
         "type": "scatter",
         "x": [
          39,
          40
         ],
         "xaxis": "x",
         "y": [
          20.43639862537384,
          21.178121197223664
         ],
         "yaxis": "y"
        },
        {
         "hovertemplate": "x=%{x}<br>y=%{y}<extra></extra>",
         "line": {
          "color": "#ff8fab",
          "width": 3
         },
         "marker": {
          "color": "#ff8fab",
          "size": 7
         },
         "mode": "lines+markers",
         "showlegend": false,
         "type": "scatter",
         "x": [
          37,
          38
         ],
         "xaxis": "x",
         "y": [
          18.9808899641037,
          19.667910933494568
         ],
         "yaxis": "y"
        },
        {
         "hovertemplate": "x=%{x}<br>y=%{y}<extra></extra>",
         "line": {
          "color": "#ff8fab",
          "width": 3
         },
         "marker": {
          "color": "#ff8fab",
          "size": 7
         },
         "mode": "lines+markers",
         "showlegend": false,
         "type": "scatter",
         "x": [
          35,
          36
         ],
         "xaxis": "x",
         "y": [
          17.97349144220352,
          18.3896235704422
         ],
         "yaxis": "y"
        },
        {
         "hovertemplate": "x=%{x}<br>y=%{y}<extra></extra>",
         "line": {
          "color": "#ff8fab",
          "width": 3
         },
         "marker": {
          "color": "#ff8fab",
          "size": 7
         },
         "mode": "lines+markers",
         "showlegend": false,
         "type": "scatter",
         "x": [
          33,
          34
         ],
         "xaxis": "x",
         "y": [
          17.067958438396452,
          17.580932688713073
         ],
         "yaxis": "y"
        },
        {
         "hovertemplate": "x=%{x}<br>y=%{y}<extra></extra>",
         "line": {
          "color": "#ff8fab",
          "width": 3
         },
         "marker": {
          "color": "#ff8fab",
          "size": 7
         },
         "mode": "lines+markers",
         "showlegend": false,
         "type": "scatter",
         "x": [
          31,
          32
         ],
         "xaxis": "x",
         "y": [
          15.725473606586457,
          16.315967524051665
         ],
         "yaxis": "y"
        },
        {
         "hovertemplate": "x=%{x}<br>y=%{y}<extra></extra>",
         "line": {
          "color": "#ff8fab",
          "width": 3
         },
         "marker": {
          "color": "#ff8fab",
          "size": 7
         },
         "mode": "lines+markers",
         "showlegend": false,
         "type": "scatter",
         "x": [
          29,
          30
         ],
         "xaxis": "x",
         "y": [
          14.734489834308624,
          15.19220873117447
         ],
         "yaxis": "y"
        },
        {
         "hovertemplate": "x=%{x}<br>y=%{y}<extra></extra>",
         "line": {
          "color": "#ff8fab",
          "width": 3
         },
         "marker": {
          "color": "#ff8fab",
          "size": 7
         },
         "mode": "lines+markers",
         "showlegend": false,
         "type": "scatter",
         "x": [
          27,
          28
         ],
         "xaxis": "x",
         "y": [
          13.93939471244812,
          14.32631424665451
         ],
         "yaxis": "y"
        },
        {
         "hovertemplate": "x=%{x}<br>y=%{y}<extra></extra>",
         "line": {
          "color": "#ff8fab",
          "width": 3
         },
         "marker": {
          "color": "#ff8fab",
          "size": 7
         },
         "mode": "lines+markers",
         "showlegend": false,
         "type": "scatter",
         "x": [
          25,
          26
         ],
         "xaxis": "x",
         "y": [
          13.028120398521423,
          13.610627889633179
         ],
         "yaxis": "y"
        },
        {
         "hovertemplate": "x=%{x}<br>y=%{y}<extra></extra>",
         "line": {
          "color": "#ff8fab",
          "width": 3
         },
         "marker": {
          "color": "#ff8fab",
          "size": 7
         },
         "mode": "lines+markers",
         "showlegend": false,
         "type": "scatter",
         "x": [
          23,
          24
         ],
         "xaxis": "x",
         "y": [
          11.800576388835907,
          13.715123653411865
         ],
         "yaxis": "y"
        },
        {
         "hovertemplate": "x=%{x}<br>y=%{y}<extra></extra>",
         "line": {
          "color": "#ff8fab",
          "width": 3
         },
         "marker": {
          "color": "#ff8fab",
          "size": 7
         },
         "mode": "lines+markers",
         "showlegend": false,
         "type": "scatter",
         "x": [
          21,
          22
         ],
         "xaxis": "x",
         "y": [
          10.785587406158447,
          11.308830559253693
         ],
         "yaxis": "y"
        },
        {
         "hovertemplate": "x=%{x}<br>y=%{y}<extra></extra>",
         "line": {
          "color": "#ff8fab",
          "width": 3
         },
         "marker": {
          "color": "#ff8fab",
          "size": 7
         },
         "mode": "lines+markers",
         "showlegend": false,
         "type": "scatter",
         "x": [
          19,
          20
         ],
         "xaxis": "x",
         "y": [
          9.768282771110535,
          10.309918797016143
         ],
         "yaxis": "y"
        },
        {
         "hovertemplate": "x=%{x}<br>y=%{y}<extra></extra>",
         "line": {
          "color": "#ff8fab",
          "width": 3
         },
         "marker": {
          "color": "#ff8fab",
          "size": 7
         },
         "mode": "lines+markers",
         "showlegend": false,
         "type": "scatter",
         "x": [
          17,
          18
         ],
         "xaxis": "x",
         "y": [
          8.62177778482437,
          9.274268865585327
         ],
         "yaxis": "y"
        },
        {
         "hovertemplate": "x=%{x}<br>y=%{y}<extra></extra>",
         "line": {
          "color": "#ff8fab",
          "width": 3
         },
         "marker": {
          "color": "#ff8fab",
          "size": 7
         },
         "mode": "lines+markers",
         "showlegend": false,
         "type": "scatter",
         "x": [
          15,
          16
         ],
         "xaxis": "x",
         "y": [
          7.429837393760681,
          8.05041743516922
         ],
         "yaxis": "y"
        },
        {
         "hovertemplate": "x=%{x}<br>y=%{y}<extra></extra>",
         "line": {
          "color": "#ff8fab",
          "width": 3
         },
         "marker": {
          "color": "#ff8fab",
          "size": 7
         },
         "mode": "lines+markers",
         "showlegend": false,
         "type": "scatter",
         "x": [
          13,
          14
         ],
         "xaxis": "x",
         "y": [
          6.3141734957695,
          6.923988032341003
         ],
         "yaxis": "y"
        },
        {
         "hovertemplate": "x=%{x}<br>y=%{y}<extra></extra>",
         "line": {
          "color": "#ff8fab",
          "width": 3
         },
         "marker": {
          "color": "#ff8fab",
          "size": 7
         },
         "mode": "lines+markers",
         "showlegend": false,
         "type": "scatter",
         "x": [
          11,
          12
         ],
         "xaxis": "x",
         "y": [
          5.158621263504028,
          5.740797853469848
         ],
         "yaxis": "y"
        },
        {
         "hovertemplate": "x=%{x}<br>y=%{y}<extra></extra>",
         "line": {
          "color": "#ff8fab",
          "width": 3
         },
         "marker": {
          "color": "#ff8fab",
          "size": 7
         },
         "mode": "lines+markers",
         "showlegend": false,
         "type": "scatter",
         "x": [
          9,
          10
         ],
         "xaxis": "x",
         "y": [
          4.160428667068481,
          5.18352825641632
         ],
         "yaxis": "y"
        },
        {
         "hovertemplate": "x=%{x}<br>y=%{y}<extra></extra>",
         "line": {
          "color": "#ff8fab",
          "width": 3
         },
         "marker": {
          "color": "#ff8fab",
          "size": 7
         },
         "mode": "lines+markers",
         "showlegend": false,
         "type": "scatter",
         "x": [
          7,
          8
         ],
         "xaxis": "x",
         "y": [
          3.3772824168205258,
          3.9112426280975336
         ],
         "yaxis": "y"
        },
        {
         "hovertemplate": "x=%{x}<br>y=%{y}<extra></extra>",
         "line": {
          "color": "#ff8fab",
          "width": 3
         },
         "marker": {
          "color": "#ff8fab",
          "size": 7
         },
         "mode": "lines+markers",
         "showlegend": false,
         "type": "scatter",
         "x": [
          5,
          6
         ],
         "xaxis": "x",
         "y": [
          2.2308888673782348,
          2.8484438419342037
         ],
         "yaxis": "y"
        },
        {
         "hovertemplate": "x=%{x}<br>y=%{y}<extra></extra>",
         "line": {
          "color": "#ff8fab",
          "width": 3
         },
         "marker": {
          "color": "#ff8fab",
          "size": 7
         },
         "mode": "lines+markers",
         "showlegend": false,
         "type": "scatter",
         "x": [
          3,
          4
         ],
         "xaxis": "x",
         "y": [
          1.1238916993141175,
          1.6337190508842467
         ],
         "yaxis": "y"
        },
        {
         "hovertemplate": "x=%{x}<br>y=%{y}<extra></extra>",
         "line": {
          "color": "#ff8fab",
          "width": 3
         },
         "marker": {
          "color": "#ff8fab",
          "size": 7
         },
         "mode": "lines+markers",
         "showlegend": false,
         "type": "scatter",
         "x": [
          1,
          2
         ],
         "xaxis": "x",
         "y": [
          0.3089492917060852,
          0.6777033686637879
         ],
         "yaxis": "y"
        },
        {
         "hovertemplate": "x=%{x}<br>y=%{y}<extra></extra>",
         "line": {
          "color": "#023e8a",
          "width": 3
         },
         "marker": {
          "color": "#023e8a",
          "size": 7
         },
         "mode": "lines+markers",
         "showlegend": false,
         "type": "scatter",
         "x": [
          81,
          82
         ],
         "xaxis": "x",
         "y": [
          9.831110060214996,
          10.484774827957153
         ],
         "yaxis": "y"
        },
        {
         "hovertemplate": "x=%{x}<br>y=%{y}<extra></extra>",
         "line": {
          "color": "#023e8a",
          "width": 3
         },
         "marker": {
          "color": "#023e8a",
          "size": 7
         },
         "mode": "lines+markers",
         "showlegend": false,
         "type": "scatter",
         "x": [
          80,
          81
         ],
         "xaxis": "x",
         "y": [
          9.202774226665497,
          9.831110060214996
         ],
         "yaxis": "y"
        },
        {
         "hovertemplate": "x=%{x}<br>y=%{y}<extra></extra>",
         "line": {
          "color": "#023e8a",
          "width": 3
         },
         "marker": {
          "color": "#023e8a",
          "size": 7
         },
         "mode": "lines+markers",
         "showlegend": false,
         "type": "scatter",
         "x": [
          79,
          80
         ],
         "xaxis": "x",
         "y": [
          8.498463094234467,
          9.202774226665497
         ],
         "yaxis": "y"
        },
        {
         "hovertemplate": "x=%{x}<br>y=%{y}<extra></extra>",
         "line": {
          "color": "#023e8a",
          "width": 3
         },
         "marker": {
          "color": "#023e8a",
          "size": 7
         },
         "mode": "lines+markers",
         "showlegend": false,
         "type": "scatter",
         "x": [
          78,
          79
         ],
         "xaxis": "x",
         "y": [
          7.929608643054962,
          8.498463094234467
         ],
         "yaxis": "y"
        },
        {
         "hovertemplate": "x=%{x}<br>y=%{y}<extra></extra>",
         "line": {
          "color": "#023e8a",
          "width": 3
         },
         "marker": {
          "color": "#023e8a",
          "size": 7
         },
         "mode": "lines+markers",
         "showlegend": false,
         "type": "scatter",
         "x": [
          77,
          78
         ],
         "xaxis": "x",
         "y": [
          7.461309373378754,
          7.929608643054962
         ],
         "yaxis": "y"
        },
        {
         "hovertemplate": "x=%{x}<br>y=%{y}<extra></extra>",
         "line": {
          "color": "#023e8a",
          "width": 3
         },
         "marker": {
          "color": "#023e8a",
          "size": 7
         },
         "mode": "lines+markers",
         "showlegend": false,
         "type": "scatter",
         "x": [
          68,
          69
         ],
         "xaxis": "x",
         "y": [
          5.614333271980286,
          6.219011068344116
         ],
         "yaxis": "y"
        },
        {
         "hovertemplate": "x=%{x}<br>y=%{y}<extra></extra>",
         "line": {
          "color": "#023e8a",
          "width": 3
         },
         "marker": {
          "color": "#023e8a",
          "size": 7
         },
         "mode": "lines+markers",
         "showlegend": false,
         "type": "scatter",
         "x": [
          67,
          68
         ],
         "xaxis": "x",
         "y": [
          4.859880328178406,
          5.614333271980286
         ],
         "yaxis": "y"
        },
        {
         "hovertemplate": "x=%{x}<br>y=%{y}<extra></extra>",
         "line": {
          "color": "#023e8a",
          "width": 3
         },
         "marker": {
          "color": "#023e8a",
          "size": 7
         },
         "mode": "lines+markers",
         "showlegend": false,
         "type": "scatter",
         "x": [
          66,
          67
         ],
         "xaxis": "x",
         "y": [
          4.228349208831787,
          4.859880328178406
         ],
         "yaxis": "y"
        },
        {
         "hovertemplate": "x=%{x}<br>y=%{y}<extra></extra>",
         "line": {
          "color": "#023e8a",
          "width": 3
         },
         "marker": {
          "color": "#023e8a",
          "size": 7
         },
         "mode": "lines+markers",
         "showlegend": false,
         "type": "scatter",
         "x": [
          65,
          66
         ],
         "xaxis": "x",
         "y": [
          3.5079144835472107,
          4.228349208831787
         ],
         "yaxis": "y"
        },
        {
         "hovertemplate": "x=%{x}<br>y=%{y}<extra></extra>",
         "line": {
          "color": "#023e8a",
          "width": 3
         },
         "marker": {
          "color": "#023e8a",
          "size": 7
         },
         "mode": "lines+markers",
         "showlegend": false,
         "type": "scatter",
         "x": [
          58,
          59
         ],
         "xaxis": "x",
         "y": [
          2.57020503282547,
          2.702624261379242
         ],
         "yaxis": "y"
        },
        {
         "hovertemplate": "x=%{x}<br>y=%{y}<extra></extra>",
         "line": {
          "color": "#023e8a",
          "width": 3
         },
         "marker": {
          "color": "#023e8a",
          "size": 7
         },
         "mode": "lines+markers",
         "showlegend": false,
         "type": "scatter",
         "x": [
          57,
          58
         ],
         "xaxis": "x",
         "y": [
          2.1247888803482056,
          2.57020503282547
         ],
         "yaxis": "y"
        },
        {
         "hovertemplate": "x=%{x}<br>y=%{y}<extra></extra>",
         "line": {
          "color": "#023e8a",
          "width": 3
         },
         "marker": {
          "color": "#023e8a",
          "size": 7
         },
         "mode": "lines+markers",
         "showlegend": false,
         "type": "scatter",
         "x": [
          56,
          57
         ],
         "xaxis": "x",
         "y": [
          1.7990753650665283,
          2.1247888803482056
         ],
         "yaxis": "y"
        },
        {
         "hovertemplate": "x=%{x}<br>y=%{y}<extra></extra>",
         "line": {
          "color": "#023e8a",
          "width": 3
         },
         "marker": {
          "color": "#023e8a",
          "size": 7
         },
         "mode": "lines+markers",
         "showlegend": false,
         "type": "scatter",
         "x": [
          54,
          55
         ],
         "xaxis": "x",
         "y": [
          1.4694432020187378,
          1.7990753650665283
         ],
         "yaxis": "y"
        },
        {
         "hovertemplate": "x=%{x}<br>y=%{y}<extra></extra>",
         "line": {
          "color": "#023e8a",
          "width": 3
         },
         "marker": {
          "color": "#023e8a",
          "size": 7
         },
         "mode": "lines+markers",
         "showlegend": false,
         "type": "scatter",
         "x": [
          44,
          45
         ],
         "xaxis": "x",
         "y": [
          0,
          0.6951720714569092
         ],
         "yaxis": "y"
        },
        {
         "hovertemplate": "x=%{x}<br>y=%{y}<extra></extra>",
         "line": {
          "color": "#c1121f",
          "width": 3
         },
         "marker": {
          "color": "#c1121f",
          "size": 7
         },
         "mode": "lines+markers",
         "showlegend": false,
         "type": "scatter",
         "x": [
          64,
          65
         ],
         "xaxis": "x",
         "y": [
          2.702624261379242,
          3.5079144835472107
         ],
         "yaxis": "y"
        },
        {
         "hovertemplate": "x=%{x}<br>y=%{y}<extra></extra>",
         "line": {
          "color": "#c1121f",
          "width": 3
         },
         "marker": {
          "color": "#c1121f",
          "size": 7
         },
         "mode": "lines+markers",
         "showlegend": false,
         "type": "scatter",
         "x": [
          52,
          53
         ],
         "xaxis": "x",
         "y": [
          1.1253145933151245,
          1.4694432020187378
         ],
         "yaxis": "y"
        },
        {
         "hovertemplate": "x=%{x}<br>y=%{y}<extra></extra>",
         "line": {
          "color": "#c1121f",
          "width": 3
         },
         "marker": {
          "color": "#c1121f",
          "size": 7
         },
         "mode": "lines+markers",
         "showlegend": false,
         "type": "scatter",
         "x": [
          49,
          50
         ],
         "xaxis": "x",
         "y": [
          0.5434914231300354,
          1.1253145933151245
         ],
         "yaxis": "y"
        },
        {
         "hovertemplate": "x=%{x}<br>y=%{y}<extra></extra>",
         "line": {
          "color": "#c1121f",
          "width": 3
         },
         "marker": {
          "color": "#c1121f",
          "size": 7
         },
         "mode": "lines+markers",
         "showlegend": false,
         "type": "scatter",
         "x": [
          46,
          47
         ],
         "xaxis": "x",
         "y": [
          0.6951720714569092,
          0.5434914231300354
         ],
         "yaxis": "y"
        },
        {
         "hovertemplate": "x=%{x}<br>y=%{y}<extra></extra>",
         "line": {
          "color": "#9d4edd",
          "width": 3
         },
         "marker": {
          "color": "#9d4edd",
          "size": 7
         },
         "mode": "lines+markers",
         "showlegend": false,
         "type": "scatter",
         "x": [
          82,
          83
         ],
         "xaxis": "x",
         "y": [
          10.484774827957153,
          7.876565873622894
         ],
         "yaxis": "y"
        },
        {
         "hovertemplate": "x=%{x}<br>y=%{y}<extra></extra>",
         "line": {
          "color": "#9d4edd",
          "width": 3
         },
         "marker": {
          "color": "#9d4edd",
          "size": 7
         },
         "mode": "lines+markers",
         "showlegend": false,
         "type": "scatter",
         "x": [
          76,
          77
         ],
         "xaxis": "x",
         "y": [
          6.804611146450043,
          7.461309373378754
         ],
         "yaxis": "y"
        },
        {
         "hovertemplate": "x=%{x}<br>y=%{y}<extra></extra>",
         "line": {
          "color": "#9d4edd",
          "width": 3
         },
         "marker": {
          "color": "#9d4edd",
          "size": 7
         },
         "mode": "lines+markers",
         "showlegend": false,
         "type": "scatter",
         "x": [
          72,
          73
         ],
         "xaxis": "x",
         "y": [
          6.219011068344116,
          6.804611146450043
         ],
         "yaxis": "y"
        },
        {
         "line": {
          "color": "#64B5F6",
          "width": 2
         },
         "mode": "lines",
         "name": "human_insert_backstage",
         "showlegend": true,
         "type": "scatter",
         "x": [
          null
         ],
         "xaxis": "x",
         "y": [
          null
         ],
         "yaxis": "y"
        },
        {
         "line": {
          "color": "#ff8fab",
          "width": 2
         },
         "mode": "lines",
         "name": "ai_suggest_backstage",
         "showlegend": true,
         "type": "scatter",
         "x": [
          null
         ],
         "xaxis": "x",
         "y": [
          null
         ],
         "yaxis": "y"
        },
        {
         "line": {
          "color": "#023e8a",
          "width": 2
         },
         "mode": "lines",
         "name": "human_insert_frontstage",
         "showlegend": true,
         "type": "scatter",
         "x": [
          null
         ],
         "xaxis": "x",
         "y": [
          null
         ],
         "yaxis": "y"
        },
        {
         "line": {
          "color": "#c1121f",
          "width": 2
         },
         "mode": "lines",
         "name": "ai_insert_moved_to_frontstage",
         "showlegend": true,
         "type": "scatter",
         "x": [
          null
         ],
         "xaxis": "x",
         "y": [
          null
         ],
         "yaxis": "y"
        },
        {
         "line": {
          "color": "#9d4edd",
          "width": 2
         },
         "mode": "lines",
         "name": "human_delete_frontstage",
         "showlegend": true,
         "type": "scatter",
         "x": [
          null
         ],
         "xaxis": "x",
         "y": [
          null
         ],
         "yaxis": "y"
        },
        {
         "line": {
          "color": "#5a189a",
          "width": 2
         },
         "mode": "lines",
         "name": "human_insert_edit_frontstage",
         "showlegend": true,
         "type": "scatter",
         "x": [
          null
         ],
         "xaxis": "x",
         "y": [
          null
         ],
         "yaxis": "y"
        }
       ],
       "layout": {
        "annotations": [
         {
          "font": {
           "size": 16
          },
          "showarrow": false,
          "text": "Session: legislation_antitrust_7",
          "x": 0.5,
          "xanchor": "center",
          "xref": "paper",
          "y": 1,
          "yanchor": "bottom",
          "yref": "paper"
         }
        ],
        "height": 500,
        "legend": {
         "title": {
          "font": {
           "color": "rgba(0, 0, 0, 0)"
          }
         }
        },
        "plot_bgcolor": "white",
        "showlegend": true,
        "template": {
         "data": {
          "bar": [
           {
            "error_x": {
             "color": "#2a3f5f"
            },
            "error_y": {
             "color": "#2a3f5f"
            },
            "marker": {
             "line": {
              "color": "#E5ECF6",
              "width": 0.5
             },
             "pattern": {
              "fillmode": "overlay",
              "size": 10,
              "solidity": 0.2
             }
            },
            "type": "bar"
           }
          ],
          "barpolar": [
           {
            "marker": {
             "line": {
              "color": "#E5ECF6",
              "width": 0.5
             },
             "pattern": {
              "fillmode": "overlay",
              "size": 10,
              "solidity": 0.2
             }
            },
            "type": "barpolar"
           }
          ],
          "carpet": [
           {
            "aaxis": {
             "endlinecolor": "#2a3f5f",
             "gridcolor": "white",
             "linecolor": "white",
             "minorgridcolor": "white",
             "startlinecolor": "#2a3f5f"
            },
            "baxis": {
             "endlinecolor": "#2a3f5f",
             "gridcolor": "white",
             "linecolor": "white",
             "minorgridcolor": "white",
             "startlinecolor": "#2a3f5f"
            },
            "type": "carpet"
           }
          ],
          "choropleth": [
           {
            "colorbar": {
             "outlinewidth": 0,
             "ticks": ""
            },
            "type": "choropleth"
           }
          ],
          "contour": [
           {
            "colorbar": {
             "outlinewidth": 0,
             "ticks": ""
            },
            "colorscale": [
             [
              0,
              "#0d0887"
             ],
             [
              0.1111111111111111,
              "#46039f"
             ],
             [
              0.2222222222222222,
              "#7201a8"
             ],
             [
              0.3333333333333333,
              "#9c179e"
             ],
             [
              0.4444444444444444,
              "#bd3786"
             ],
             [
              0.5555555555555556,
              "#d8576b"
             ],
             [
              0.6666666666666666,
              "#ed7953"
             ],
             [
              0.7777777777777778,
              "#fb9f3a"
             ],
             [
              0.8888888888888888,
              "#fdca26"
             ],
             [
              1,
              "#f0f921"
             ]
            ],
            "type": "contour"
           }
          ],
          "contourcarpet": [
           {
            "colorbar": {
             "outlinewidth": 0,
             "ticks": ""
            },
            "type": "contourcarpet"
           }
          ],
          "heatmap": [
           {
            "colorbar": {
             "outlinewidth": 0,
             "ticks": ""
            },
            "colorscale": [
             [
              0,
              "#0d0887"
             ],
             [
              0.1111111111111111,
              "#46039f"
             ],
             [
              0.2222222222222222,
              "#7201a8"
             ],
             [
              0.3333333333333333,
              "#9c179e"
             ],
             [
              0.4444444444444444,
              "#bd3786"
             ],
             [
              0.5555555555555556,
              "#d8576b"
             ],
             [
              0.6666666666666666,
              "#ed7953"
             ],
             [
              0.7777777777777778,
              "#fb9f3a"
             ],
             [
              0.8888888888888888,
              "#fdca26"
             ],
             [
              1,
              "#f0f921"
             ]
            ],
            "type": "heatmap"
           }
          ],
          "histogram": [
           {
            "marker": {
             "pattern": {
              "fillmode": "overlay",
              "size": 10,
              "solidity": 0.2
             }
            },
            "type": "histogram"
           }
          ],
          "histogram2d": [
           {
            "colorbar": {
             "outlinewidth": 0,
             "ticks": ""
            },
            "colorscale": [
             [
              0,
              "#0d0887"
             ],
             [
              0.1111111111111111,
              "#46039f"
             ],
             [
              0.2222222222222222,
              "#7201a8"
             ],
             [
              0.3333333333333333,
              "#9c179e"
             ],
             [
              0.4444444444444444,
              "#bd3786"
             ],
             [
              0.5555555555555556,
              "#d8576b"
             ],
             [
              0.6666666666666666,
              "#ed7953"
             ],
             [
              0.7777777777777778,
              "#fb9f3a"
             ],
             [
              0.8888888888888888,
              "#fdca26"
             ],
             [
              1,
              "#f0f921"
             ]
            ],
            "type": "histogram2d"
           }
          ],
          "histogram2dcontour": [
           {
            "colorbar": {
             "outlinewidth": 0,
             "ticks": ""
            },
            "colorscale": [
             [
              0,
              "#0d0887"
             ],
             [
              0.1111111111111111,
              "#46039f"
             ],
             [
              0.2222222222222222,
              "#7201a8"
             ],
             [
              0.3333333333333333,
              "#9c179e"
             ],
             [
              0.4444444444444444,
              "#bd3786"
             ],
             [
              0.5555555555555556,
              "#d8576b"
             ],
             [
              0.6666666666666666,
              "#ed7953"
             ],
             [
              0.7777777777777778,
              "#fb9f3a"
             ],
             [
              0.8888888888888888,
              "#fdca26"
             ],
             [
              1,
              "#f0f921"
             ]
            ],
            "type": "histogram2dcontour"
           }
          ],
          "mesh3d": [
           {
            "colorbar": {
             "outlinewidth": 0,
             "ticks": ""
            },
            "type": "mesh3d"
           }
          ],
          "parcoords": [
           {
            "line": {
             "colorbar": {
              "outlinewidth": 0,
              "ticks": ""
             }
            },
            "type": "parcoords"
           }
          ],
          "pie": [
           {
            "automargin": true,
            "type": "pie"
           }
          ],
          "scatter": [
           {
            "fillpattern": {
             "fillmode": "overlay",
             "size": 10,
             "solidity": 0.2
            },
            "type": "scatter"
           }
          ],
          "scatter3d": [
           {
            "line": {
             "colorbar": {
              "outlinewidth": 0,
              "ticks": ""
             }
            },
            "marker": {
             "colorbar": {
              "outlinewidth": 0,
              "ticks": ""
             }
            },
            "type": "scatter3d"
           }
          ],
          "scattercarpet": [
           {
            "marker": {
             "colorbar": {
              "outlinewidth": 0,
              "ticks": ""
             }
            },
            "type": "scattercarpet"
           }
          ],
          "scattergeo": [
           {
            "marker": {
             "colorbar": {
              "outlinewidth": 0,
              "ticks": ""
             }
            },
            "type": "scattergeo"
           }
          ],
          "scattergl": [
           {
            "marker": {
             "colorbar": {
              "outlinewidth": 0,
              "ticks": ""
             }
            },
            "type": "scattergl"
           }
          ],
          "scattermap": [
           {
            "marker": {
             "colorbar": {
              "outlinewidth": 0,
              "ticks": ""
             }
            },
            "type": "scattermap"
           }
          ],
          "scattermapbox": [
           {
            "marker": {
             "colorbar": {
              "outlinewidth": 0,
              "ticks": ""
             }
            },
            "type": "scattermapbox"
           }
          ],
          "scatterpolar": [
           {
            "marker": {
             "colorbar": {
              "outlinewidth": 0,
              "ticks": ""
             }
            },
            "type": "scatterpolar"
           }
          ],
          "scatterpolargl": [
           {
            "marker": {
             "colorbar": {
              "outlinewidth": 0,
              "ticks": ""
             }
            },
            "type": "scatterpolargl"
           }
          ],
          "scatterternary": [
           {
            "marker": {
             "colorbar": {
              "outlinewidth": 0,
              "ticks": ""
             }
            },
            "type": "scatterternary"
           }
          ],
          "surface": [
           {
            "colorbar": {
             "outlinewidth": 0,
             "ticks": ""
            },
            "colorscale": [
             [
              0,
              "#0d0887"
             ],
             [
              0.1111111111111111,
              "#46039f"
             ],
             [
              0.2222222222222222,
              "#7201a8"
             ],
             [
              0.3333333333333333,
              "#9c179e"
             ],
             [
              0.4444444444444444,
              "#bd3786"
             ],
             [
              0.5555555555555556,
              "#d8576b"
             ],
             [
              0.6666666666666666,
              "#ed7953"
             ],
             [
              0.7777777777777778,
              "#fb9f3a"
             ],
             [
              0.8888888888888888,
              "#fdca26"
             ],
             [
              1,
              "#f0f921"
             ]
            ],
            "type": "surface"
           }
          ],
          "table": [
           {
            "cells": {
             "fill": {
              "color": "#EBF0F8"
             },
             "line": {
              "color": "white"
             }
            },
            "header": {
             "fill": {
              "color": "#C8D4E3"
             },
             "line": {
              "color": "white"
             }
            },
            "type": "table"
           }
          ]
         },
         "layout": {
          "annotationdefaults": {
           "arrowcolor": "#2a3f5f",
           "arrowhead": 0,
           "arrowwidth": 1
          },
          "autotypenumbers": "strict",
          "coloraxis": {
           "colorbar": {
            "outlinewidth": 0,
            "ticks": ""
           }
          },
          "colorscale": {
           "diverging": [
            [
             0,
             "#8e0152"
            ],
            [
             0.1,
             "#c51b7d"
            ],
            [
             0.2,
             "#de77ae"
            ],
            [
             0.3,
             "#f1b6da"
            ],
            [
             0.4,
             "#fde0ef"
            ],
            [
             0.5,
             "#f7f7f7"
            ],
            [
             0.6,
             "#e6f5d0"
            ],
            [
             0.7,
             "#b8e186"
            ],
            [
             0.8,
             "#7fbc41"
            ],
            [
             0.9,
             "#4d9221"
            ],
            [
             1,
             "#276419"
            ]
           ],
           "sequential": [
            [
             0,
             "#0d0887"
            ],
            [
             0.1111111111111111,
             "#46039f"
            ],
            [
             0.2222222222222222,
             "#7201a8"
            ],
            [
             0.3333333333333333,
             "#9c179e"
            ],
            [
             0.4444444444444444,
             "#bd3786"
            ],
            [
             0.5555555555555556,
             "#d8576b"
            ],
            [
             0.6666666666666666,
             "#ed7953"
            ],
            [
             0.7777777777777778,
             "#fb9f3a"
            ],
            [
             0.8888888888888888,
             "#fdca26"
            ],
            [
             1,
             "#f0f921"
            ]
           ],
           "sequentialminus": [
            [
             0,
             "#0d0887"
            ],
            [
             0.1111111111111111,
             "#46039f"
            ],
            [
             0.2222222222222222,
             "#7201a8"
            ],
            [
             0.3333333333333333,
             "#9c179e"
            ],
            [
             0.4444444444444444,
             "#bd3786"
            ],
            [
             0.5555555555555556,
             "#d8576b"
            ],
            [
             0.6666666666666666,
             "#ed7953"
            ],
            [
             0.7777777777777778,
             "#fb9f3a"
            ],
            [
             0.8888888888888888,
             "#fdca26"
            ],
            [
             1,
             "#f0f921"
            ]
           ]
          },
          "colorway": [
           "#636efa",
           "#EF553B",
           "#00cc96",
           "#ab63fa",
           "#FFA15A",
           "#19d3f3",
           "#FF6692",
           "#B6E880",
           "#FF97FF",
           "#FECB52"
          ],
          "font": {
           "color": "#2a3f5f"
          },
          "geo": {
           "bgcolor": "white",
           "lakecolor": "white",
           "landcolor": "#E5ECF6",
           "showlakes": true,
           "showland": true,
           "subunitcolor": "white"
          },
          "hoverlabel": {
           "align": "left"
          },
          "hovermode": "closest",
          "mapbox": {
           "style": "light"
          },
          "paper_bgcolor": "white",
          "plot_bgcolor": "#E5ECF6",
          "polar": {
           "angularaxis": {
            "gridcolor": "white",
            "linecolor": "white",
            "ticks": ""
           },
           "bgcolor": "#E5ECF6",
           "radialaxis": {
            "gridcolor": "white",
            "linecolor": "white",
            "ticks": ""
           }
          },
          "scene": {
           "xaxis": {
            "backgroundcolor": "#E5ECF6",
            "gridcolor": "white",
            "gridwidth": 2,
            "linecolor": "white",
            "showbackground": true,
            "ticks": "",
            "zerolinecolor": "white"
           },
           "yaxis": {
            "backgroundcolor": "#E5ECF6",
            "gridcolor": "white",
            "gridwidth": 2,
            "linecolor": "white",
            "showbackground": true,
            "ticks": "",
            "zerolinecolor": "white"
           },
           "zaxis": {
            "backgroundcolor": "#E5ECF6",
            "gridcolor": "white",
            "gridwidth": 2,
            "linecolor": "white",
            "showbackground": true,
            "ticks": "",
            "zerolinecolor": "white"
           }
          },
          "shapedefaults": {
           "line": {
            "color": "#2a3f5f"
           }
          },
          "ternary": {
           "aaxis": {
            "gridcolor": "white",
            "linecolor": "white",
            "ticks": ""
           },
           "baxis": {
            "gridcolor": "white",
            "linecolor": "white",
            "ticks": ""
           },
           "bgcolor": "#E5ECF6",
           "caxis": {
            "gridcolor": "white",
            "linecolor": "white",
            "ticks": ""
           }
          },
          "title": {
           "x": 0.05
          },
          "xaxis": {
           "automargin": true,
           "gridcolor": "white",
           "linecolor": "white",
           "ticks": "",
           "title": {
            "standoff": 15
           },
           "zerolinecolor": "white",
           "zerolinewidth": 2
          },
          "yaxis": {
           "automargin": true,
           "gridcolor": "white",
           "linecolor": "white",
           "ticks": "",
           "title": {
            "standoff": 15
           },
           "zerolinecolor": "white",
           "zerolinewidth": 2
          }
         }
        },
        "title": {
         "text": "Semantic Expansion over Writing Sessions<br><span style=\"font-size: 12px;\">*Measuring how well humans are learning while writing with GenAI</span>"
        },
        "width": 1800,
        "xaxis": {
         "anchor": "y",
         "domain": [
          0,
          1
         ],
         "gridcolor": "white",
         "linecolor": "black",
         "mirror": false,
         "range": [
          -1,
          84
         ],
         "showline": true,
         "ticks": "outside",
         "title": {
          "text": "Progress into the writing session"
         }
        },
        "yaxis": {
         "anchor": "x",
         "domain": [
          0,
          1
         ],
         "gridcolor": "white",
         "linecolor": "black",
         "mirror": false,
         "showline": true,
         "ticks": "outside",
         "title": {
          "text": "Scores"
         }
        }
       }
      }
     },
     "metadata": {},
     "output_type": "display_data"
    },
    {
     "name": "stdout",
     "output_type": "stream",
     "text": [
      "legislation_antitrust_8\n"
     ]
    },
    {
     "data": {
      "application/vnd.plotly.v1+json": {
       "config": {
        "plotlyServerURL": "https://plot.ly"
       },
       "data": [
        {
         "hovertemplate": "x=%{x}<br>y=%{y}<extra></extra>",
         "line": {
          "color": "#64B5F6",
          "width": 3
         },
         "marker": {
          "color": "#64B5F6",
          "size": 7
         },
         "mode": "lines+markers",
         "showlegend": false,
         "type": "scatter",
         "x": [
          35,
          36
         ],
         "xaxis": "x",
         "y": [
          7.222118377685547,
          7.509290635585785
         ],
         "yaxis": "y"
        },
        {
         "hovertemplate": "x=%{x}<br>y=%{y}<extra></extra>",
         "line": {
          "color": "#64B5F6",
          "width": 3
         },
         "marker": {
          "color": "#64B5F6",
          "size": 7
         },
         "mode": "lines+markers",
         "showlegend": false,
         "type": "scatter",
         "x": [
          32,
          33
         ],
         "xaxis": "x",
         "y": [
          6.775821030139923,
          7.287831604480743
         ],
         "yaxis": "y"
        },
        {
         "hovertemplate": "x=%{x}<br>y=%{y}<extra></extra>",
         "line": {
          "color": "#64B5F6",
          "width": 3
         },
         "marker": {
          "color": "#64B5F6",
          "size": 7
         },
         "mode": "lines+markers",
         "showlegend": false,
         "type": "scatter",
         "x": [
          28,
          29
         ],
         "xaxis": "x",
         "y": [
          6.25322300195694,
          5.976492881774902
         ],
         "yaxis": "y"
        },
        {
         "hovertemplate": "x=%{x}<br>y=%{y}<extra></extra>",
         "line": {
          "color": "#64B5F6",
          "width": 3
         },
         "marker": {
          "color": "#64B5F6",
          "size": 7
         },
         "mode": "lines+markers",
         "showlegend": false,
         "type": "scatter",
         "x": [
          22,
          23
         ],
         "xaxis": "x",
         "y": [
          4.333328723907471,
          4.588950991630554
         ],
         "yaxis": "y"
        },
        {
         "hovertemplate": "x=%{x}<br>y=%{y}<extra></extra>",
         "line": {
          "color": "#64B5F6",
          "width": 3
         },
         "marker": {
          "color": "#64B5F6",
          "size": 7
         },
         "mode": "lines+markers",
         "showlegend": false,
         "type": "scatter",
         "x": [
          19,
          20
         ],
         "xaxis": "x",
         "y": [
          4.4211108684539795,
          4.809571146965027
         ],
         "yaxis": "y"
        },
        {
         "hovertemplate": "x=%{x}<br>y=%{y}<extra></extra>",
         "line": {
          "color": "#64B5F6",
          "width": 3
         },
         "marker": {
          "color": "#64B5F6",
          "size": 7
         },
         "mode": "lines+markers",
         "showlegend": false,
         "type": "scatter",
         "x": [
          16,
          17
         ],
         "xaxis": "x",
         "y": [
          4.133689224720001,
          4.6222043633461
         ],
         "yaxis": "y"
        },
        {
         "hovertemplate": "x=%{x}<br>y=%{y}<extra></extra>",
         "line": {
          "color": "#64B5F6",
          "width": 3
         },
         "marker": {
          "color": "#64B5F6",
          "size": 7
         },
         "mode": "lines+markers",
         "showlegend": false,
         "type": "scatter",
         "x": [
          6,
          7
         ],
         "xaxis": "x",
         "y": [
          1.3028186559677124,
          1.6455771327018738
         ],
         "yaxis": "y"
        },
        {
         "hovertemplate": "x=%{x}<br>y=%{y}<extra></extra>",
         "line": {
          "color": "#64B5F6",
          "width": 3
         },
         "marker": {
          "color": "#64B5F6",
          "size": 7
         },
         "mode": "lines+markers",
         "showlegend": false,
         "type": "scatter",
         "x": [
          0,
          1
         ],
         "xaxis": "x",
         "y": [
          0,
          0.3431759476661682
         ],
         "yaxis": "y"
        },
        {
         "hovertemplate": "x=%{x}<br>y=%{y}<extra></extra>",
         "line": {
          "color": "#ff8fab",
          "width": 3
         },
         "marker": {
          "color": "#ff8fab",
          "size": 7
         },
         "mode": "lines+markers",
         "showlegend": false,
         "type": "scatter",
         "x": [
          36,
          37
         ],
         "xaxis": "x",
         "y": [
          7.509290635585785,
          7.791506087779998
         ],
         "yaxis": "y"
        },
        {
         "hovertemplate": "x=%{x}<br>y=%{y}<extra></extra>",
         "line": {
          "color": "#ff8fab",
          "width": 3
         },
         "marker": {
          "color": "#ff8fab",
          "size": 7
         },
         "mode": "lines+markers",
         "showlegend": false,
         "type": "scatter",
         "x": [
          33,
          34
         ],
         "xaxis": "x",
         "y": [
          7.287831604480743,
          7.7648339629173275
         ],
         "yaxis": "y"
        },
        {
         "hovertemplate": "x=%{x}<br>y=%{y}<extra></extra>",
         "line": {
          "color": "#ff8fab",
          "width": 3
         },
         "marker": {
          "color": "#ff8fab",
          "size": 7
         },
         "mode": "lines+markers",
         "showlegend": false,
         "type": "scatter",
         "x": [
          29,
          30
         ],
         "xaxis": "x",
         "y": [
          5.976492881774902,
          6.503437209129333
         ],
         "yaxis": "y"
        },
        {
         "hovertemplate": "x=%{x}<br>y=%{y}<extra></extra>",
         "line": {
          "color": "#ff8fab",
          "width": 3
         },
         "marker": {
          "color": "#ff8fab",
          "size": 7
         },
         "mode": "lines+markers",
         "showlegend": false,
         "type": "scatter",
         "x": [
          23,
          24
         ],
         "xaxis": "x",
         "y": [
          4.588950991630554,
          4.916338062286377
         ],
         "yaxis": "y"
        },
        {
         "hovertemplate": "x=%{x}<br>y=%{y}<extra></extra>",
         "line": {
          "color": "#ff8fab",
          "width": 3
         },
         "marker": {
          "color": "#ff8fab",
          "size": 7
         },
         "mode": "lines+markers",
         "showlegend": false,
         "type": "scatter",
         "x": [
          20,
          21
         ],
         "xaxis": "x",
         "y": [
          4.809571146965027,
          5.368683540821076
         ],
         "yaxis": "y"
        },
        {
         "hovertemplate": "x=%{x}<br>y=%{y}<extra></extra>",
         "line": {
          "color": "#ff8fab",
          "width": 3
         },
         "marker": {
          "color": "#ff8fab",
          "size": 7
         },
         "mode": "lines+markers",
         "showlegend": false,
         "type": "scatter",
         "x": [
          17,
          18
         ],
         "xaxis": "x",
         "y": [
          4.6222043633461,
          4.913481080532074
         ],
         "yaxis": "y"
        },
        {
         "hovertemplate": "x=%{x}<br>y=%{y}<extra></extra>",
         "line": {
          "color": "#ff8fab",
          "width": 3
         },
         "marker": {
          "color": "#ff8fab",
          "size": 7
         },
         "mode": "lines+markers",
         "showlegend": false,
         "type": "scatter",
         "x": [
          14,
          15
         ],
         "xaxis": "x",
         "y": [
          3.81963574886322,
          4.247705829143524
         ],
         "yaxis": "y"
        },
        {
         "hovertemplate": "x=%{x}<br>y=%{y}<extra></extra>",
         "line": {
          "color": "#ff8fab",
          "width": 3
         },
         "marker": {
          "color": "#ff8fab",
          "size": 7
         },
         "mode": "lines+markers",
         "showlegend": false,
         "type": "scatter",
         "x": [
          7,
          8
         ],
         "xaxis": "x",
         "y": [
          1.6455771327018738,
          2.082260489463806
         ],
         "yaxis": "y"
        },
        {
         "hovertemplate": "x=%{x}<br>y=%{y}<extra></extra>",
         "line": {
          "color": "#ff8fab",
          "width": 3
         },
         "marker": {
          "color": "#ff8fab",
          "size": 7
         },
         "mode": "lines+markers",
         "showlegend": false,
         "type": "scatter",
         "x": [
          1,
          2
         ],
         "xaxis": "x",
         "y": [
          0.3431759476661682,
          0.6547239780426025
         ],
         "yaxis": "y"
        },
        {
         "hovertemplate": "x=%{x}<br>y=%{y}<extra></extra>",
         "line": {
          "color": "#023e8a",
          "width": 3
         },
         "marker": {
          "color": "#023e8a",
          "size": 7
         },
         "mode": "lines+markers",
         "showlegend": false,
         "type": "scatter",
         "x": [
          39,
          40
         ],
         "xaxis": "x",
         "y": [
          7.215978443622589,
          7.492989242076874
         ],
         "yaxis": "y"
        },
        {
         "hovertemplate": "x=%{x}<br>y=%{y}<extra></extra>",
         "line": {
          "color": "#023e8a",
          "width": 3
         },
         "marker": {
          "color": "#023e8a",
          "size": 7
         },
         "mode": "lines+markers",
         "showlegend": false,
         "type": "scatter",
         "x": [
          34,
          35
         ],
         "xaxis": "x",
         "y": [
          6.775821030139923,
          7.222118377685547
         ],
         "yaxis": "y"
        },
        {
         "hovertemplate": "x=%{x}<br>y=%{y}<extra></extra>",
         "line": {
          "color": "#023e8a",
          "width": 3
         },
         "marker": {
          "color": "#023e8a",
          "size": 7
         },
         "mode": "lines+markers",
         "showlegend": false,
         "type": "scatter",
         "x": [
          27,
          28
         ],
         "xaxis": "x",
         "y": [
          5.430241763591766,
          6.25322300195694
         ],
         "yaxis": "y"
        },
        {
         "hovertemplate": "x=%{x}<br>y=%{y}<extra></extra>",
         "line": {
          "color": "#023e8a",
          "width": 3
         },
         "marker": {
          "color": "#023e8a",
          "size": 7
         },
         "mode": "lines+markers",
         "showlegend": false,
         "type": "scatter",
         "x": [
          26,
          27
         ],
         "xaxis": "x",
         "y": [
          5.188356935977936,
          5.430241763591766
         ],
         "yaxis": "y"
        },
        {
         "hovertemplate": "x=%{x}<br>y=%{y}<extra></extra>",
         "line": {
          "color": "#023e8a",
          "width": 3
         },
         "marker": {
          "color": "#023e8a",
          "size": 7
         },
         "mode": "lines+markers",
         "showlegend": false,
         "type": "scatter",
         "x": [
          25,
          26
         ],
         "xaxis": "x",
         "y": [
          4.649536073207855,
          5.188356935977936
         ],
         "yaxis": "y"
        },
        {
         "hovertemplate": "x=%{x}<br>y=%{y}<extra></extra>",
         "line": {
          "color": "#023e8a",
          "width": 3
         },
         "marker": {
          "color": "#023e8a",
          "size": 7
         },
         "mode": "lines+markers",
         "showlegend": false,
         "type": "scatter",
         "x": [
          15,
          16
         ],
         "xaxis": "x",
         "y": [
          3.81963574886322,
          4.133689224720001
         ],
         "yaxis": "y"
        },
        {
         "hovertemplate": "x=%{x}<br>y=%{y}<extra></extra>",
         "line": {
          "color": "#023e8a",
          "width": 3
         },
         "marker": {
          "color": "#023e8a",
          "size": 7
         },
         "mode": "lines+markers",
         "showlegend": false,
         "type": "scatter",
         "x": [
          13,
          14
         ],
         "xaxis": "x",
         "y": [
          3.126158118247986,
          3.81963574886322
         ],
         "yaxis": "y"
        },
        {
         "hovertemplate": "x=%{x}<br>y=%{y}<extra></extra>",
         "line": {
          "color": "#023e8a",
          "width": 3
         },
         "marker": {
          "color": "#023e8a",
          "size": 7
         },
         "mode": "lines+markers",
         "showlegend": false,
         "type": "scatter",
         "x": [
          12,
          13
         ],
         "xaxis": "x",
         "y": [
          2.330822229385376,
          3.126158118247986
         ],
         "yaxis": "y"
        },
        {
         "hovertemplate": "x=%{x}<br>y=%{y}<extra></extra>",
         "line": {
          "color": "#023e8a",
          "width": 3
         },
         "marker": {
          "color": "#023e8a",
          "size": 7
         },
         "mode": "lines+markers",
         "showlegend": false,
         "type": "scatter",
         "x": [
          11,
          12
         ],
         "xaxis": "x",
         "y": [
          1.9289789199829102,
          2.330822229385376
         ],
         "yaxis": "y"
        },
        {
         "hovertemplate": "x=%{x}<br>y=%{y}<extra></extra>",
         "line": {
          "color": "#023e8a",
          "width": 3
         },
         "marker": {
          "color": "#023e8a",
          "size": 7
         },
         "mode": "lines+markers",
         "showlegend": false,
         "type": "scatter",
         "x": [
          10,
          11
         ],
         "xaxis": "x",
         "y": [
          1.6360391974449158,
          1.9289789199829102
         ],
         "yaxis": "y"
        },
        {
         "hovertemplate": "x=%{x}<br>y=%{y}<extra></extra>",
         "line": {
          "color": "#023e8a",
          "width": 3
         },
         "marker": {
          "color": "#023e8a",
          "size": 7
         },
         "mode": "lines+markers",
         "showlegend": false,
         "type": "scatter",
         "x": [
          8,
          9
         ],
         "xaxis": "x",
         "y": [
          1.3028186559677124,
          1.593275249004364
         ],
         "yaxis": "y"
        },
        {
         "hovertemplate": "x=%{x}<br>y=%{y}<extra></extra>",
         "line": {
          "color": "#023e8a",
          "width": 3
         },
         "marker": {
          "color": "#023e8a",
          "size": 7
         },
         "mode": "lines+markers",
         "showlegend": false,
         "type": "scatter",
         "x": [
          5,
          6
         ],
         "xaxis": "x",
         "y": [
          1.0494059920310974,
          1.3028186559677124
         ],
         "yaxis": "y"
        },
        {
         "hovertemplate": "x=%{x}<br>y=%{y}<extra></extra>",
         "line": {
          "color": "#023e8a",
          "width": 3
         },
         "marker": {
          "color": "#023e8a",
          "size": 7
         },
         "mode": "lines+markers",
         "showlegend": false,
         "type": "scatter",
         "x": [
          4,
          5
         ],
         "xaxis": "x",
         "y": [
          0.8367364406585693,
          1.0494059920310974
         ],
         "yaxis": "y"
        },
        {
         "hovertemplate": "x=%{x}<br>y=%{y}<extra></extra>",
         "line": {
          "color": "#023e8a",
          "width": 3
         },
         "marker": {
          "color": "#023e8a",
          "size": 7
         },
         "mode": "lines+markers",
         "showlegend": false,
         "type": "scatter",
         "x": [
          3,
          4
         ],
         "xaxis": "x",
         "y": [
          0.6220897436141968,
          0.8367364406585693
         ],
         "yaxis": "y"
        },
        {
         "hovertemplate": "x=%{x}<br>y=%{y}<extra></extra>",
         "line": {
          "color": "#023e8a",
          "width": 3
         },
         "marker": {
          "color": "#023e8a",
          "size": 7
         },
         "mode": "lines+markers",
         "showlegend": false,
         "type": "scatter",
         "x": [
          2,
          3
         ],
         "xaxis": "x",
         "y": [
          0,
          0.6220897436141968
         ],
         "yaxis": "y"
        },
        {
         "hovertemplate": "x=%{x}<br>y=%{y}<extra></extra>",
         "line": {
          "color": "#c1121f",
          "width": 3
         },
         "marker": {
          "color": "#c1121f",
          "size": 7
         },
         "mode": "lines+markers",
         "showlegend": false,
         "type": "scatter",
         "x": [
          37,
          38
         ],
         "xaxis": "x",
         "y": [
          7.222118377685547,
          7.446187674999237
         ],
         "yaxis": "y"
        },
        {
         "hovertemplate": "x=%{x}<br>y=%{y}<extra></extra>",
         "line": {
          "color": "#c1121f",
          "width": 3
         },
         "marker": {
          "color": "#c1121f",
          "size": 7
         },
         "mode": "lines+markers",
         "showlegend": false,
         "type": "scatter",
         "x": [
          30,
          31
         ],
         "xaxis": "x",
         "y": [
          6.25322300195694,
          6.775821030139923
         ],
         "yaxis": "y"
        },
        {
         "hovertemplate": "x=%{x}<br>y=%{y}<extra></extra>",
         "line": {
          "color": "#c1121f",
          "width": 3
         },
         "marker": {
          "color": "#c1121f",
          "size": 7
         },
         "mode": "lines+markers",
         "showlegend": false,
         "type": "scatter",
         "x": [
          24,
          25
         ],
         "xaxis": "x",
         "y": [
          4.333328723907471,
          4.649536073207855
         ],
         "yaxis": "y"
        },
        {
         "hovertemplate": "x=%{x}<br>y=%{y}<extra></extra>",
         "line": {
          "color": "#c1121f",
          "width": 3
         },
         "marker": {
          "color": "#c1121f",
          "size": 7
         },
         "mode": "lines+markers",
         "showlegend": false,
         "type": "scatter",
         "x": [
          21,
          22
         ],
         "xaxis": "x",
         "y": [
          4.4211108684539795,
          4.333328723907471
         ],
         "yaxis": "y"
        },
        {
         "hovertemplate": "x=%{x}<br>y=%{y}<extra></extra>",
         "line": {
          "color": "#c1121f",
          "width": 3
         },
         "marker": {
          "color": "#c1121f",
          "size": 7
         },
         "mode": "lines+markers",
         "showlegend": false,
         "type": "scatter",
         "x": [
          18,
          19
         ],
         "xaxis": "x",
         "y": [
          4.133689224720001,
          4.4211108684539795
         ],
         "yaxis": "y"
        },
        {
         "hovertemplate": "x=%{x}<br>y=%{y}<extra></extra>",
         "line": {
          "color": "#9d4edd",
          "width": 3
         },
         "marker": {
          "color": "#9d4edd",
          "size": 7
         },
         "mode": "lines+markers",
         "showlegend": false,
         "type": "scatter",
         "x": [
          38,
          39
         ],
         "xaxis": "x",
         "y": [
          7.446187674999237,
          7.215978443622589
         ],
         "yaxis": "y"
        },
        {
         "hovertemplate": "x=%{x}<br>y=%{y}<extra></extra>",
         "line": {
          "color": "#9d4edd",
          "width": 3
         },
         "marker": {
          "color": "#9d4edd",
          "size": 7
         },
         "mode": "lines+markers",
         "showlegend": false,
         "type": "scatter",
         "x": [
          31,
          32
         ],
         "xaxis": "x",
         "y": [
          6.775821030139923,
          6.775821030139923
         ],
         "yaxis": "y"
        },
        {
         "hovertemplate": "x=%{x}<br>y=%{y}<extra></extra>",
         "line": {
          "color": "#9d4edd",
          "width": 3
         },
         "marker": {
          "color": "#9d4edd",
          "size": 7
         },
         "mode": "lines+markers",
         "showlegend": false,
         "type": "scatter",
         "x": [
          9,
          10
         ],
         "xaxis": "x",
         "y": [
          1.593275249004364,
          1.6360391974449158
         ],
         "yaxis": "y"
        },
        {
         "line": {
          "color": "#64B5F6",
          "width": 2
         },
         "mode": "lines",
         "name": "human_insert_backstage",
         "showlegend": true,
         "type": "scatter",
         "x": [
          null
         ],
         "xaxis": "x",
         "y": [
          null
         ],
         "yaxis": "y"
        },
        {
         "line": {
          "color": "#ff8fab",
          "width": 2
         },
         "mode": "lines",
         "name": "ai_suggest_backstage",
         "showlegend": true,
         "type": "scatter",
         "x": [
          null
         ],
         "xaxis": "x",
         "y": [
          null
         ],
         "yaxis": "y"
        },
        {
         "line": {
          "color": "#023e8a",
          "width": 2
         },
         "mode": "lines",
         "name": "human_insert_frontstage",
         "showlegend": true,
         "type": "scatter",
         "x": [
          null
         ],
         "xaxis": "x",
         "y": [
          null
         ],
         "yaxis": "y"
        },
        {
         "line": {
          "color": "#c1121f",
          "width": 2
         },
         "mode": "lines",
         "name": "ai_insert_moved_to_frontstage",
         "showlegend": true,
         "type": "scatter",
         "x": [
          null
         ],
         "xaxis": "x",
         "y": [
          null
         ],
         "yaxis": "y"
        },
        {
         "line": {
          "color": "#9d4edd",
          "width": 2
         },
         "mode": "lines",
         "name": "human_delete_frontstage",
         "showlegend": true,
         "type": "scatter",
         "x": [
          null
         ],
         "xaxis": "x",
         "y": [
          null
         ],
         "yaxis": "y"
        },
        {
         "line": {
          "color": "#5a189a",
          "width": 2
         },
         "mode": "lines",
         "name": "human_insert_edit_frontstage",
         "showlegend": true,
         "type": "scatter",
         "x": [
          null
         ],
         "xaxis": "x",
         "y": [
          null
         ],
         "yaxis": "y"
        }
       ],
       "layout": {
        "annotations": [
         {
          "font": {
           "size": 16
          },
          "showarrow": false,
          "text": "Session: legislation_antitrust_8",
          "x": 0.5,
          "xanchor": "center",
          "xref": "paper",
          "y": 1,
          "yanchor": "bottom",
          "yref": "paper"
         }
        ],
        "height": 500,
        "legend": {
         "title": {
          "font": {
           "color": "rgba(0, 0, 0, 0)"
          }
         }
        },
        "plot_bgcolor": "white",
        "showlegend": true,
        "template": {
         "data": {
          "bar": [
           {
            "error_x": {
             "color": "#2a3f5f"
            },
            "error_y": {
             "color": "#2a3f5f"
            },
            "marker": {
             "line": {
              "color": "#E5ECF6",
              "width": 0.5
             },
             "pattern": {
              "fillmode": "overlay",
              "size": 10,
              "solidity": 0.2
             }
            },
            "type": "bar"
           }
          ],
          "barpolar": [
           {
            "marker": {
             "line": {
              "color": "#E5ECF6",
              "width": 0.5
             },
             "pattern": {
              "fillmode": "overlay",
              "size": 10,
              "solidity": 0.2
             }
            },
            "type": "barpolar"
           }
          ],
          "carpet": [
           {
            "aaxis": {
             "endlinecolor": "#2a3f5f",
             "gridcolor": "white",
             "linecolor": "white",
             "minorgridcolor": "white",
             "startlinecolor": "#2a3f5f"
            },
            "baxis": {
             "endlinecolor": "#2a3f5f",
             "gridcolor": "white",
             "linecolor": "white",
             "minorgridcolor": "white",
             "startlinecolor": "#2a3f5f"
            },
            "type": "carpet"
           }
          ],
          "choropleth": [
           {
            "colorbar": {
             "outlinewidth": 0,
             "ticks": ""
            },
            "type": "choropleth"
           }
          ],
          "contour": [
           {
            "colorbar": {
             "outlinewidth": 0,
             "ticks": ""
            },
            "colorscale": [
             [
              0,
              "#0d0887"
             ],
             [
              0.1111111111111111,
              "#46039f"
             ],
             [
              0.2222222222222222,
              "#7201a8"
             ],
             [
              0.3333333333333333,
              "#9c179e"
             ],
             [
              0.4444444444444444,
              "#bd3786"
             ],
             [
              0.5555555555555556,
              "#d8576b"
             ],
             [
              0.6666666666666666,
              "#ed7953"
             ],
             [
              0.7777777777777778,
              "#fb9f3a"
             ],
             [
              0.8888888888888888,
              "#fdca26"
             ],
             [
              1,
              "#f0f921"
             ]
            ],
            "type": "contour"
           }
          ],
          "contourcarpet": [
           {
            "colorbar": {
             "outlinewidth": 0,
             "ticks": ""
            },
            "type": "contourcarpet"
           }
          ],
          "heatmap": [
           {
            "colorbar": {
             "outlinewidth": 0,
             "ticks": ""
            },
            "colorscale": [
             [
              0,
              "#0d0887"
             ],
             [
              0.1111111111111111,
              "#46039f"
             ],
             [
              0.2222222222222222,
              "#7201a8"
             ],
             [
              0.3333333333333333,
              "#9c179e"
             ],
             [
              0.4444444444444444,
              "#bd3786"
             ],
             [
              0.5555555555555556,
              "#d8576b"
             ],
             [
              0.6666666666666666,
              "#ed7953"
             ],
             [
              0.7777777777777778,
              "#fb9f3a"
             ],
             [
              0.8888888888888888,
              "#fdca26"
             ],
             [
              1,
              "#f0f921"
             ]
            ],
            "type": "heatmap"
           }
          ],
          "histogram": [
           {
            "marker": {
             "pattern": {
              "fillmode": "overlay",
              "size": 10,
              "solidity": 0.2
             }
            },
            "type": "histogram"
           }
          ],
          "histogram2d": [
           {
            "colorbar": {
             "outlinewidth": 0,
             "ticks": ""
            },
            "colorscale": [
             [
              0,
              "#0d0887"
             ],
             [
              0.1111111111111111,
              "#46039f"
             ],
             [
              0.2222222222222222,
              "#7201a8"
             ],
             [
              0.3333333333333333,
              "#9c179e"
             ],
             [
              0.4444444444444444,
              "#bd3786"
             ],
             [
              0.5555555555555556,
              "#d8576b"
             ],
             [
              0.6666666666666666,
              "#ed7953"
             ],
             [
              0.7777777777777778,
              "#fb9f3a"
             ],
             [
              0.8888888888888888,
              "#fdca26"
             ],
             [
              1,
              "#f0f921"
             ]
            ],
            "type": "histogram2d"
           }
          ],
          "histogram2dcontour": [
           {
            "colorbar": {
             "outlinewidth": 0,
             "ticks": ""
            },
            "colorscale": [
             [
              0,
              "#0d0887"
             ],
             [
              0.1111111111111111,
              "#46039f"
             ],
             [
              0.2222222222222222,
              "#7201a8"
             ],
             [
              0.3333333333333333,
              "#9c179e"
             ],
             [
              0.4444444444444444,
              "#bd3786"
             ],
             [
              0.5555555555555556,
              "#d8576b"
             ],
             [
              0.6666666666666666,
              "#ed7953"
             ],
             [
              0.7777777777777778,
              "#fb9f3a"
             ],
             [
              0.8888888888888888,
              "#fdca26"
             ],
             [
              1,
              "#f0f921"
             ]
            ],
            "type": "histogram2dcontour"
           }
          ],
          "mesh3d": [
           {
            "colorbar": {
             "outlinewidth": 0,
             "ticks": ""
            },
            "type": "mesh3d"
           }
          ],
          "parcoords": [
           {
            "line": {
             "colorbar": {
              "outlinewidth": 0,
              "ticks": ""
             }
            },
            "type": "parcoords"
           }
          ],
          "pie": [
           {
            "automargin": true,
            "type": "pie"
           }
          ],
          "scatter": [
           {
            "fillpattern": {
             "fillmode": "overlay",
             "size": 10,
             "solidity": 0.2
            },
            "type": "scatter"
           }
          ],
          "scatter3d": [
           {
            "line": {
             "colorbar": {
              "outlinewidth": 0,
              "ticks": ""
             }
            },
            "marker": {
             "colorbar": {
              "outlinewidth": 0,
              "ticks": ""
             }
            },
            "type": "scatter3d"
           }
          ],
          "scattercarpet": [
           {
            "marker": {
             "colorbar": {
              "outlinewidth": 0,
              "ticks": ""
             }
            },
            "type": "scattercarpet"
           }
          ],
          "scattergeo": [
           {
            "marker": {
             "colorbar": {
              "outlinewidth": 0,
              "ticks": ""
             }
            },
            "type": "scattergeo"
           }
          ],
          "scattergl": [
           {
            "marker": {
             "colorbar": {
              "outlinewidth": 0,
              "ticks": ""
             }
            },
            "type": "scattergl"
           }
          ],
          "scattermap": [
           {
            "marker": {
             "colorbar": {
              "outlinewidth": 0,
              "ticks": ""
             }
            },
            "type": "scattermap"
           }
          ],
          "scattermapbox": [
           {
            "marker": {
             "colorbar": {
              "outlinewidth": 0,
              "ticks": ""
             }
            },
            "type": "scattermapbox"
           }
          ],
          "scatterpolar": [
           {
            "marker": {
             "colorbar": {
              "outlinewidth": 0,
              "ticks": ""
             }
            },
            "type": "scatterpolar"
           }
          ],
          "scatterpolargl": [
           {
            "marker": {
             "colorbar": {
              "outlinewidth": 0,
              "ticks": ""
             }
            },
            "type": "scatterpolargl"
           }
          ],
          "scatterternary": [
           {
            "marker": {
             "colorbar": {
              "outlinewidth": 0,
              "ticks": ""
             }
            },
            "type": "scatterternary"
           }
          ],
          "surface": [
           {
            "colorbar": {
             "outlinewidth": 0,
             "ticks": ""
            },
            "colorscale": [
             [
              0,
              "#0d0887"
             ],
             [
              0.1111111111111111,
              "#46039f"
             ],
             [
              0.2222222222222222,
              "#7201a8"
             ],
             [
              0.3333333333333333,
              "#9c179e"
             ],
             [
              0.4444444444444444,
              "#bd3786"
             ],
             [
              0.5555555555555556,
              "#d8576b"
             ],
             [
              0.6666666666666666,
              "#ed7953"
             ],
             [
              0.7777777777777778,
              "#fb9f3a"
             ],
             [
              0.8888888888888888,
              "#fdca26"
             ],
             [
              1,
              "#f0f921"
             ]
            ],
            "type": "surface"
           }
          ],
          "table": [
           {
            "cells": {
             "fill": {
              "color": "#EBF0F8"
             },
             "line": {
              "color": "white"
             }
            },
            "header": {
             "fill": {
              "color": "#C8D4E3"
             },
             "line": {
              "color": "white"
             }
            },
            "type": "table"
           }
          ]
         },
         "layout": {
          "annotationdefaults": {
           "arrowcolor": "#2a3f5f",
           "arrowhead": 0,
           "arrowwidth": 1
          },
          "autotypenumbers": "strict",
          "coloraxis": {
           "colorbar": {
            "outlinewidth": 0,
            "ticks": ""
           }
          },
          "colorscale": {
           "diverging": [
            [
             0,
             "#8e0152"
            ],
            [
             0.1,
             "#c51b7d"
            ],
            [
             0.2,
             "#de77ae"
            ],
            [
             0.3,
             "#f1b6da"
            ],
            [
             0.4,
             "#fde0ef"
            ],
            [
             0.5,
             "#f7f7f7"
            ],
            [
             0.6,
             "#e6f5d0"
            ],
            [
             0.7,
             "#b8e186"
            ],
            [
             0.8,
             "#7fbc41"
            ],
            [
             0.9,
             "#4d9221"
            ],
            [
             1,
             "#276419"
            ]
           ],
           "sequential": [
            [
             0,
             "#0d0887"
            ],
            [
             0.1111111111111111,
             "#46039f"
            ],
            [
             0.2222222222222222,
             "#7201a8"
            ],
            [
             0.3333333333333333,
             "#9c179e"
            ],
            [
             0.4444444444444444,
             "#bd3786"
            ],
            [
             0.5555555555555556,
             "#d8576b"
            ],
            [
             0.6666666666666666,
             "#ed7953"
            ],
            [
             0.7777777777777778,
             "#fb9f3a"
            ],
            [
             0.8888888888888888,
             "#fdca26"
            ],
            [
             1,
             "#f0f921"
            ]
           ],
           "sequentialminus": [
            [
             0,
             "#0d0887"
            ],
            [
             0.1111111111111111,
             "#46039f"
            ],
            [
             0.2222222222222222,
             "#7201a8"
            ],
            [
             0.3333333333333333,
             "#9c179e"
            ],
            [
             0.4444444444444444,
             "#bd3786"
            ],
            [
             0.5555555555555556,
             "#d8576b"
            ],
            [
             0.6666666666666666,
             "#ed7953"
            ],
            [
             0.7777777777777778,
             "#fb9f3a"
            ],
            [
             0.8888888888888888,
             "#fdca26"
            ],
            [
             1,
             "#f0f921"
            ]
           ]
          },
          "colorway": [
           "#636efa",
           "#EF553B",
           "#00cc96",
           "#ab63fa",
           "#FFA15A",
           "#19d3f3",
           "#FF6692",
           "#B6E880",
           "#FF97FF",
           "#FECB52"
          ],
          "font": {
           "color": "#2a3f5f"
          },
          "geo": {
           "bgcolor": "white",
           "lakecolor": "white",
           "landcolor": "#E5ECF6",
           "showlakes": true,
           "showland": true,
           "subunitcolor": "white"
          },
          "hoverlabel": {
           "align": "left"
          },
          "hovermode": "closest",
          "mapbox": {
           "style": "light"
          },
          "paper_bgcolor": "white",
          "plot_bgcolor": "#E5ECF6",
          "polar": {
           "angularaxis": {
            "gridcolor": "white",
            "linecolor": "white",
            "ticks": ""
           },
           "bgcolor": "#E5ECF6",
           "radialaxis": {
            "gridcolor": "white",
            "linecolor": "white",
            "ticks": ""
           }
          },
          "scene": {
           "xaxis": {
            "backgroundcolor": "#E5ECF6",
            "gridcolor": "white",
            "gridwidth": 2,
            "linecolor": "white",
            "showbackground": true,
            "ticks": "",
            "zerolinecolor": "white"
           },
           "yaxis": {
            "backgroundcolor": "#E5ECF6",
            "gridcolor": "white",
            "gridwidth": 2,
            "linecolor": "white",
            "showbackground": true,
            "ticks": "",
            "zerolinecolor": "white"
           },
           "zaxis": {
            "backgroundcolor": "#E5ECF6",
            "gridcolor": "white",
            "gridwidth": 2,
            "linecolor": "white",
            "showbackground": true,
            "ticks": "",
            "zerolinecolor": "white"
           }
          },
          "shapedefaults": {
           "line": {
            "color": "#2a3f5f"
           }
          },
          "ternary": {
           "aaxis": {
            "gridcolor": "white",
            "linecolor": "white",
            "ticks": ""
           },
           "baxis": {
            "gridcolor": "white",
            "linecolor": "white",
            "ticks": ""
           },
           "bgcolor": "#E5ECF6",
           "caxis": {
            "gridcolor": "white",
            "linecolor": "white",
            "ticks": ""
           }
          },
          "title": {
           "x": 0.05
          },
          "xaxis": {
           "automargin": true,
           "gridcolor": "white",
           "linecolor": "white",
           "ticks": "",
           "title": {
            "standoff": 15
           },
           "zerolinecolor": "white",
           "zerolinewidth": 2
          },
          "yaxis": {
           "automargin": true,
           "gridcolor": "white",
           "linecolor": "white",
           "ticks": "",
           "title": {
            "standoff": 15
           },
           "zerolinecolor": "white",
           "zerolinewidth": 2
          }
         }
        },
        "title": {
         "text": "Semantic Expansion over Writing Sessions<br><span style=\"font-size: 12px;\">*Measuring how well humans are learning while writing with GenAI</span>"
        },
        "width": 1800,
        "xaxis": {
         "anchor": "y",
         "domain": [
          0,
          1
         ],
         "gridcolor": "white",
         "linecolor": "black",
         "mirror": false,
         "range": [
          -1,
          41
         ],
         "showline": true,
         "ticks": "outside",
         "title": {
          "text": "Progress into the writing session"
         }
        },
        "yaxis": {
         "anchor": "x",
         "domain": [
          0,
          1
         ],
         "gridcolor": "white",
         "linecolor": "black",
         "mirror": false,
         "showline": true,
         "ticks": "outside",
         "title": {
          "text": "Scores"
         }
        }
       }
      }
     },
     "metadata": {},
     "output_type": "display_data"
    }
   ],
   "source": [
    "writing_data = level_2_actions_per_session_semantic\n",
    "# Session IDs: An array of sessions you wish to plot.\n",
    "# Adjust as needed. Check session IDs in data exploration for options.\n",
    "session_ids = [\n",
    "    \"legislation_corporate_1\",\n",
    "    \"legislation_corporate_2\",\n",
    "    \"legislation_corporate_3\",\n",
    "    \"legislation_corporate_4\",\n",
    "    \"legislation_corporate_5\",\n",
    "    \"legislation_corporate_6\",\n",
    "    \"legislation_antitrust_1\",\n",
    "    \"legislation_antitrust_2\",\n",
    "    \"legislation_antitrust_3\",\n",
    "    \"legislation_antitrust_4\",\n",
    "    \"legislation_antitrust_5\",\n",
    "    \"legislation_antitrust_6\",\n",
    "    \"legislation_antitrust_7\",\n",
    "    \"legislation_antitrust_8\",\n",
    "]\n",
    "\n",
    "# Generate the plot\n",
    "for session_id in session_ids:\n",
    "    fig = plot_semantic_expansion_sentence(writing_data, [session_id])"
   ]
  }
 ],
 "metadata": {
  "kernelspec": {
   "display_name": ".venv",
   "language": "python",
   "name": "python3"
  },
  "language_info": {
   "codemirror_mode": {
    "name": "ipython",
    "version": 3
   },
   "file_extension": ".py",
   "mimetype": "text/x-python",
   "name": "python",
   "nbconvert_exporter": "python",
   "pygments_lexer": "ipython3",
   "version": "3.9.6"
  }
 },
 "nbformat": 4,
 "nbformat_minor": 5
}
